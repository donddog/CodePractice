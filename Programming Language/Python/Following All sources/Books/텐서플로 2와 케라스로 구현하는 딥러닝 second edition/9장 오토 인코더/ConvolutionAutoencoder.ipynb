{
 "cells": [
  {
   "cell_type": "code",
   "execution_count": 1,
   "metadata": {},
   "outputs": [],
   "source": [
    "import numpy as np\n",
    "import tensorflow as tf\n",
    "import tensorflow.keras as K\n",
    "import matplotlib.pyplot as plt\n",
    "from tensorflow.keras.layers import Dense, Conv2D, MaxPooling2D, UpSampling2D"
   ]
  },
  {
   "cell_type": "code",
   "execution_count": 2,
   "metadata": {},
   "outputs": [],
   "source": [
    "np.random.seed(11)\n",
    "tf.random.set_seed(11)\n",
    "batch_size = 128\n",
    "max_epochs = 50\n",
    "filters = [32,32,16]"
   ]
  },
  {
   "cell_type": "code",
   "execution_count": 3,
   "metadata": {},
   "outputs": [
    {
     "name": "stdout",
     "output_type": "stream",
     "text": [
      "float32\n"
     ]
    }
   ],
   "source": [
    "(x_train, _), (x_test, _) = K.datasets.mnist.load_data()\n",
    "\n",
    "x_train = x_train / 255.\n",
    "x_test = x_test / 255.\n",
    "\n",
    "x_train = np.reshape(x_train, (len(x_train),28, 28, 1))\n",
    "x_test = np.reshape(x_test, (len(x_test), 28, 28, 1))\n",
    "\n",
    "noise = 0.5\n",
    "x_train_noisy = x_train + noise * np.random.normal(loc=0.0, scale=1.0, size=x_train.shape)\n",
    "x_test_noisy = x_test + noise * np.random.normal(loc=0.0, scale=1.0, size=x_test.shape)\n",
    "\n",
    "x_train_noisy = np.clip(x_train_noisy, 0, 1)\n",
    "x_test_noisy = np.clip(x_test_noisy, 0, 1)\n",
    "\n",
    "x_train_noisy = x_train_noisy.astype('float32')\n",
    "x_test_noisy = x_test_noisy.astype('float32')\n",
    "\n",
    "print(x_test_noisy[1].dtype)"
   ]
  },
  {
   "cell_type": "code",
   "execution_count": 4,
   "metadata": {},
   "outputs": [],
   "source": [
    "class Encoder(K.layers.Layer):\n",
    "    def __init__(self, filters):\n",
    "        super(Encoder, self).__init__()\n",
    "        self.conv1 = Conv2D(filters=filters[0], kernel_size=3, strides=1, activation='relu', padding='same')\n",
    "        self.conv2 = Conv2D(filters=filters[1], kernel_size=3, strides=1, activation='relu', padding='same')\n",
    "        self.conv3 = Conv2D(filters=filters[2], kernel_size=3, strides=1, activation='relu', padding='same')\n",
    "        self.pool = MaxPooling2D((2, 2), padding='same')\n",
    " \n",
    "    def call(self, input_features):\n",
    "        x = self.conv1(input_features)\n",
    "        x = self.pool(x)\n",
    "        x = self.conv2(x)\n",
    "        x = self.pool(x)\n",
    "        x = self.conv3(x)\n",
    "        x = self.pool(x)\n",
    "        return x"
   ]
  },
  {
   "cell_type": "code",
   "execution_count": 5,
   "metadata": {},
   "outputs": [],
   "source": [
    "class Decoder(K.layers.Layer):\n",
    "    def __init__(self, filters):\n",
    "        super(Decoder, self).__init__()\n",
    "        self.conv1 = Conv2D(filters=filters[2], kernel_size=3, strides=1, activation='relu', padding='same')\n",
    "        self.conv2 = Conv2D(filters=filters[1], kernel_size=3, strides=1, activation='relu', padding='same')\n",
    "        self.conv3 = Conv2D(filters=filters[0], kernel_size=3, strides=1, activation='relu', padding='valid')\n",
    "        self.conv4 = Conv2D(1, 3, 1, activation='sigmoid', padding='same')\n",
    "        self.upsample = UpSampling2D((2, 2))\n",
    "  \n",
    "    def call(self, encoded):\n",
    "        x = self.conv1(encoded)\n",
    "        x = self.upsample(x)\n",
    "        x = self.conv2(x)\n",
    "        x = self.upsample(x)\n",
    "        x = self.conv3(x)\n",
    "        x = self.upsample(x)\n",
    "        return self.conv4(x)"
   ]
  },
  {
   "cell_type": "code",
   "execution_count": 6,
   "metadata": {},
   "outputs": [],
   "source": [
    "class Autoencoder(K.Model):\n",
    "    def __init__(self, filters):\n",
    "        super(Autoencoder, self).__init__()\n",
    "        self.loss = []\n",
    "        self.encoder = Encoder(filters)\n",
    "        self.decoder = Decoder(filters)\n",
    "\n",
    "    def call(self, input_features):\n",
    "        encoded = self.encoder(input_features)\n",
    "        reconstructed = self.decoder(encoded)\n",
    "        return reconstructed"
   ]
  },
  {
   "cell_type": "code",
   "execution_count": 7,
   "metadata": {},
   "outputs": [
    {
     "name": "stdout",
     "output_type": "stream",
     "text": [
      "(None, 28, 28, 1)\n",
      "(None, 4, 4, 16)\n",
      "(None, 28, 28, 1)\n",
      "Train on 60000 samples, validate on 10000 samples\n",
      "Epoch 1/50\n",
      "(None, 28, 28, 1)\n",
      "(None, 4, 4, 16)\n",
      "(None, 28, 28, 1)\n",
      "(None, 28, 28, 1)\n",
      "(None, 4, 4, 16)\n",
      "(None, 28, 28, 1)\n",
      "59648/60000 [============================>.] - ETA: 0s - loss: 0.2076(None, 28, 28, 1)\n",
      "(None, 4, 4, 16)\n",
      "(None, 28, 28, 1)\n",
      "60000/60000 [==============================] - 5s 91us/sample - loss: 0.2073 - val_loss: 0.1516\n",
      "Epoch 2/50\n",
      "60000/60000 [==============================] - 3s 46us/sample - loss: 0.1411 - val_loss: 0.1320\n",
      "Epoch 3/50\n",
      "60000/60000 [==============================] - 3s 46us/sample - loss: 0.1282 - val_loss: 0.1246\n",
      "Epoch 4/50\n",
      "60000/60000 [==============================] - 3s 46us/sample - loss: 0.1221 - val_loss: 0.1193\n",
      "Epoch 5/50\n",
      "60000/60000 [==============================] - 3s 46us/sample - loss: 0.1182 - val_loss: 0.1155\n",
      "Epoch 6/50\n",
      "60000/60000 [==============================] - 3s 46us/sample - loss: 0.1154 - val_loss: 0.1128\n",
      "Epoch 7/50\n",
      "60000/60000 [==============================] - 3s 46us/sample - loss: 0.1133 - val_loss: 0.1113\n",
      "Epoch 8/50\n",
      "60000/60000 [==============================] - 3s 47us/sample - loss: 0.1117 - val_loss: 0.1101\n",
      "Epoch 9/50\n",
      "60000/60000 [==============================] - 3s 46us/sample - loss: 0.1104 - val_loss: 0.1093\n",
      "Epoch 10/50\n",
      "60000/60000 [==============================] - 3s 46us/sample - loss: 0.1092 - val_loss: 0.1082\n",
      "Epoch 11/50\n",
      "60000/60000 [==============================] - 3s 46us/sample - loss: 0.1082 - val_loss: 0.1066\n",
      "Epoch 12/50\n",
      "60000/60000 [==============================] - 3s 46us/sample - loss: 0.1072 - val_loss: 0.1056\n",
      "Epoch 13/50\n",
      "60000/60000 [==============================] - 3s 46us/sample - loss: 0.1064 - val_loss: 0.1058\n",
      "Epoch 14/50\n",
      "60000/60000 [==============================] - 3s 47us/sample - loss: 0.1056 - val_loss: 0.1044\n",
      "Epoch 15/50\n",
      "60000/60000 [==============================] - 3s 46us/sample - loss: 0.1050 - val_loss: 0.1037\n",
      "Epoch 16/50\n",
      "60000/60000 [==============================] - 3s 46us/sample - loss: 0.1044 - val_loss: 0.1053\n",
      "Epoch 17/50\n",
      "60000/60000 [==============================] - 3s 45us/sample - loss: 0.1039 - val_loss: 0.1031\n",
      "Epoch 18/50\n",
      "60000/60000 [==============================] - 3s 47us/sample - loss: 0.1035 - val_loss: 0.1027\n",
      "Epoch 19/50\n",
      "60000/60000 [==============================] - 3s 46us/sample - loss: 0.1031 - val_loss: 0.1019\n",
      "Epoch 20/50\n",
      "60000/60000 [==============================] - 3s 46us/sample - loss: 0.1028 - val_loss: 0.1022\n",
      "Epoch 21/50\n",
      "60000/60000 [==============================] - 3s 46us/sample - loss: 0.1024 - val_loss: 0.1019\n",
      "Epoch 22/50\n",
      "60000/60000 [==============================] - 3s 46us/sample - loss: 0.1021 - val_loss: 0.1021\n",
      "Epoch 23/50\n",
      "60000/60000 [==============================] - 3s 48us/sample - loss: 0.1020 - val_loss: 0.1013\n",
      "Epoch 24/50\n",
      "60000/60000 [==============================] - 3s 47us/sample - loss: 0.1016 - val_loss: 0.1008\n",
      "Epoch 25/50\n",
      "60000/60000 [==============================] - 3s 48us/sample - loss: 0.1015 - val_loss: 0.1006\n",
      "Epoch 26/50\n",
      "60000/60000 [==============================] - 3s 47us/sample - loss: 0.1012 - val_loss: 0.1010\n",
      "Epoch 27/50\n",
      "60000/60000 [==============================] - 3s 47us/sample - loss: 0.1010 - val_loss: 0.1003\n",
      "Epoch 28/50\n",
      "60000/60000 [==============================] - 3s 47us/sample - loss: 0.1009 - val_loss: 0.1000\n",
      "Epoch 29/50\n",
      "60000/60000 [==============================] - 3s 47us/sample - loss: 0.1006 - val_loss: 0.1004\n",
      "Epoch 30/50\n",
      "60000/60000 [==============================] - 3s 46us/sample - loss: 0.1005 - val_loss: 0.1000\n",
      "Epoch 31/50\n",
      "60000/60000 [==============================] - 3s 47us/sample - loss: 0.1004 - val_loss: 0.1001\n",
      "Epoch 32/50\n",
      "60000/60000 [==============================] - 3s 47us/sample - loss: 0.1002 - val_loss: 0.1000\n",
      "Epoch 33/50\n",
      "60000/60000 [==============================] - 3s 48us/sample - loss: 0.1000 - val_loss: 0.0995\n",
      "Epoch 34/50\n",
      "60000/60000 [==============================] - 3s 48us/sample - loss: 0.1000 - val_loss: 0.0998\n",
      "Epoch 35/50\n",
      "60000/60000 [==============================] - 3s 47us/sample - loss: 0.0998 - val_loss: 0.0996\n",
      "Epoch 36/50\n",
      "60000/60000 [==============================] - 3s 48us/sample - loss: 0.0998 - val_loss: 0.0988\n",
      "Epoch 37/50\n",
      "60000/60000 [==============================] - 3s 47us/sample - loss: 0.0996 - val_loss: 0.0992\n",
      "Epoch 38/50\n",
      "60000/60000 [==============================] - 3s 47us/sample - loss: 0.0995 - val_loss: 0.0992\n",
      "Epoch 39/50\n",
      "60000/60000 [==============================] - 3s 47us/sample - loss: 0.0994 - val_loss: 0.0988\n",
      "Epoch 40/50\n",
      "60000/60000 [==============================] - 3s 48us/sample - loss: 0.0993 - val_loss: 0.1002\n",
      "Epoch 41/50\n",
      "60000/60000 [==============================] - 3s 47us/sample - loss: 0.0992 - val_loss: 0.0987\n",
      "Epoch 42/50\n",
      "60000/60000 [==============================] - 3s 48us/sample - loss: 0.0992 - val_loss: 0.0990\n",
      "Epoch 43/50\n",
      "60000/60000 [==============================] - 3s 47us/sample - loss: 0.0991 - val_loss: 0.0996\n",
      "Epoch 44/50\n",
      "60000/60000 [==============================] - 3s 47us/sample - loss: 0.0990 - val_loss: 0.0987\n",
      "Epoch 45/50\n",
      "60000/60000 [==============================] - 3s 46us/sample - loss: 0.0989 - val_loss: 0.0986\n",
      "Epoch 46/50\n",
      "60000/60000 [==============================] - 3s 47us/sample - loss: 0.0988 - val_loss: 0.0985\n",
      "Epoch 47/50\n",
      "60000/60000 [==============================] - 3s 47us/sample - loss: 0.0988 - val_loss: 0.0988\n",
      "Epoch 48/50\n",
      "60000/60000 [==============================] - 3s 47us/sample - loss: 0.0987 - val_loss: 0.0983\n",
      "Epoch 49/50\n",
      "60000/60000 [==============================] - 3s 47us/sample - loss: 0.0986 - val_loss: 0.0986\n",
      "Epoch 50/50\n",
      "60000/60000 [==============================] - 3s 46us/sample - loss: 0.0985 - val_loss: 0.0984\n"
     ]
    }
   ],
   "source": [
    "model = Autoencoder(filters)\n",
    "\n",
    "model.compile(loss='binary_crossentropy', optimizer='adam')\n",
    "\n",
    "loss = model.fit(x_train_noisy,\n",
    "                x_train,\n",
    "                validation_data=(x_test_noisy, x_test),\n",
    "                epochs=max_epochs,\n",
    "                batch_size=batch_size)"
   ]
  },
  {
   "cell_type": "code",
   "execution_count": 8,
   "metadata": {},
   "outputs": [
    {
     "data": {
      "image/png": "[encoded data removed]",
      "text/plain": [
       "<Figure size 432x288 with 1 Axes>"
      ]
     },
     "metadata": {
      "needs_background": "light"
     },
     "output_type": "display_data"
    }
   ],
   "source": [
    "plt.plot(range(max_epochs), loss.history['loss'])\n",
    "plt.xlabel('Epochs')\n",
    "plt.ylabel('Loss')\n",
    "plt.show()"
   ]
  },
  {
   "cell_type": "code",
   "execution_count": 9,
   "metadata": {},
   "outputs": [
    {
     "name": "stdout",
     "output_type": "stream",
     "text": [
      "(10000, 28, 28, 1)\n",
      "(10000, 4, 4, 16)\n",
      "(10000, 28, 28, 1)\n",
      "(10000, 28, 28, 1)\n",
      "(10000, 4, 4, 16)\n",
      "(10000, 28, 28, 1)\n",
      "(10000, 28, 28, 1)\n",
      "(10000, 4, 4, 16)\n",
      "(10000, 28, 28, 1)\n",
      "(10000, 28, 28, 1)\n",
      "(10000, 4, 4, 16)\n",
      "(10000, 28, 28, 1)\n",
      "(10000, 28, 28, 1)\n",
      "(10000, 4, 4, 16)\n",
      "(10000, 28, 28, 1)\n",
      "(10000, 28, 28, 1)\n",
      "(10000, 4, 4, 16)\n",
      "(10000, 28, 28, 1)\n",
      "(10000, 28, 28, 1)\n",
      "(10000, 4, 4, 16)\n",
      "(10000, 28, 28, 1)\n",
      "(10000, 28, 28, 1)\n",
      "(10000, 4, 4, 16)\n",
      "(10000, 28, 28, 1)\n",
      "(10000, 28, 28, 1)\n",
      "(10000, 4, 4, 16)\n",
      "(10000, 28, 28, 1)\n",
      "(10000, 28, 28, 1)\n",
      "(10000, 4, 4, 16)\n",
      "(10000, 28, 28, 1)\n"
     ]
    },
    {
     "data": {
      "image/png": "[encoded data removed]",
      "text/plain": [
       "<Figure size 1440x288 with 20 Axes>"
      ]
     },
     "metadata": {
      "needs_background": "light"
     },
     "output_type": "display_data"
    }
   ],
   "source": [
    "number = 10 \n",
    "plt.figure(figsize=(20, 4))\n",
    "\n",
    "for index in range(number):\n",
    "    ax = plt.subplot(2, number, index + 1)\n",
    "    plt.imshow(x_test_noisy[index].reshape(28, 28), cmap='gray')\n",
    "    ax.get_xaxis().set_visible(False)\n",
    "    ax.get_yaxis().set_visible(False)\n",
    "\n",
    "    ax = plt.subplot(2, number, index + 1 + number)\n",
    "    plt.imshow(tf.reshape(model(x_test_noisy)[index], (28, 28)), cmap='gray')\n",
    "    ax.get_xaxis().set_visible(False)\n",
    "    ax.get_yaxis().set_visible(False)\n",
    "    \n",
    "plt.show()"
   ]
  },
  {
   "cell_type": "code",
   "execution_count": null,
   "metadata": {},
   "outputs": [],
   "source": []
  }
 ],
 "metadata": {
  "kernelspec": {
   "display_name": "tensorflow2_py37",
   "language": "python",
   "name": "tensorflow2_py37"
  },
  "language_info": {
   "codemirror_mode": {
    "name": "ipython",
    "version": 3
   },
   "file_extension": ".py",
   "mimetype": "text/x-python",
   "name": "python",
   "nbconvert_exporter": "python",
   "pygments_lexer": "ipython3",
   "version": "3.7.9"
  }
 },
 "nbformat": 4,
 "nbformat_minor": 2
}
