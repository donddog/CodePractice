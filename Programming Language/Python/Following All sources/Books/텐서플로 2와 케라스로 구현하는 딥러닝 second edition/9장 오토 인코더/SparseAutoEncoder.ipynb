{
 "cells": [
  {
   "cell_type": "code",
   "execution_count": 1,
   "metadata": {},
   "outputs": [],
   "source": [
    "import numpy as np\n",
    "import tensorflow as tf\n",
    "import tensorflow.keras as K\n",
    "import matplotlib.pyplot as plt\n",
    "from tensorflow.keras import regularizers"
   ]
  },
  {
   "cell_type": "code",
   "execution_count": 2,
   "metadata": {},
   "outputs": [],
   "source": [
    "np.random.seed(11)\n",
    "tf.random.set_seed(11)\n",
    "batch_size = 256\n",
    "max_epochs = 50\n",
    "learning_rate = 1e-3\n",
    "momentum = 8e-1\n",
    "hidden_dim = 128\n",
    "original_dim = 784"
   ]
  },
  {
   "cell_type": "code",
   "execution_count": 3,
   "metadata": {},
   "outputs": [],
   "source": [
    "(x_train, _), (x_test, _) = K.datasets.mnist.load_data()\n",
    "\n",
    "x_train = x_train / 255.\n",
    "x_test = x_test / 255.\n",
    "\n",
    "x_train = x_train.astype(np.float32)\n",
    "x_test = x_test.astype(np.float32)\n",
    "\n",
    "x_train = np.reshape(x_train, (x_train.shape[0], 784))\n",
    "x_test = np.reshape(x_test, (x_test.shape[0], 784))\n",
    "\n",
    "training_dataset = tf.data.Dataset.from_tensor_slices(x_train).batch(batch_size)"
   ]
  },
  {
   "cell_type": "code",
   "execution_count": 4,
   "metadata": {},
   "outputs": [],
   "source": [
    "class SparseEncoder(K.layers.Layer):\n",
    "    def __init__(self, hidden_dim):\n",
    "        super(SparseEncoder, self).__init__()\n",
    "        self.hidden_layer = K.layers.Dense(units=hidden_dim, \n",
    "                    activation=tf.nn.relu, activity_regularizer=regularizers.l1(10e-5))\n",
    "    \n",
    "    def call(self, input_features):\n",
    "        activation = self.hidden_layer(input_features)\n",
    "        return activation"
   ]
  },
  {
   "cell_type": "code",
   "execution_count": 5,
   "metadata": {},
   "outputs": [],
   "source": [
    "class SparseDecoder(K.layers.Layer):\n",
    "    def __init__(self, hidden_dim, original_dim):\n",
    "        super(SparseDecoder, self).__init__()\n",
    "        self.output_layer = K.layers.Dense(units=original_dim, activation=tf.nn.relu)\n",
    "  \n",
    "    def call(self, encoded):\n",
    "        activation = self.output_layer(encoded)\n",
    "        return activation "
   ]
  },
  {
   "cell_type": "code",
   "execution_count": 6,
   "metadata": {},
   "outputs": [],
   "source": [
    "class SparseAutoencoder(K.Model):\n",
    "    def __init__(self, hidden_dim, original_dim):\n",
    "        super(SparseAutoencoder, self).__init__()\n",
    "        self.loss = []\n",
    "        self.encoder = SparseEncoder(hidden_dim=hidden_dim)\n",
    "        self.decoder = SparseDecoder(hidden_dim=hidden_dim, original_dim=original_dim)\n",
    "\n",
    "    def call(self, input_features):\n",
    "        encoded = self.encoder(input_features)\n",
    "        reconstructed = self.decoder(encoded)\n",
    "        return reconstructed"
   ]
  },
  {
   "cell_type": "code",
   "execution_count": 7,
   "metadata": {},
   "outputs": [],
   "source": [
    "autoencoder = SparseAutoencoder(hidden_dim=hidden_dim, original_dim=original_dim)\n",
    "opt = tf.optimizers.SGD(learning_rate=learning_rate, momentum=momentum)\n",
    "\n",
    "def loss(preds, real):\n",
    "    return tf.reduce_mean(tf.square(tf.subtract(preds, real))) \n",
    "\n",
    "def train(loss, model, opt, original):\n",
    "    with tf.GradientTape() as tape:\n",
    "        preds = model(original)\n",
    "        reconstruction_error = loss(preds, original)\n",
    "        \n",
    "    gradients = tape.gradient(reconstruction_error, model.trainable_variables)\n",
    "    gradient_variables = zip(gradients, model.trainable_variables)\n",
    "    opt.apply_gradients(gradient_variables)\n",
    "  \n",
    "    return reconstruction_error"
   ]
  },
  {
   "cell_type": "code",
   "execution_count": 8,
   "metadata": {},
   "outputs": [],
   "source": [
    "def train_loop(model, opt, loss, dataset, epochs=20):\n",
    "    for epoch in range(epochs):\n",
    "        epoch_loss = 0\n",
    "        \n",
    "        for step, batch_features in enumerate(dataset):\n",
    "            loss_values = train(loss, model, opt, batch_features)\n",
    "            epoch_loss += loss_values\n",
    "            \n",
    "        model.loss.append(epoch_loss)\n",
    "        \n",
    "        print('Epoch {}/{}. Loss: {}'.format(epoch + 1, epochs, epoch_loss.numpy()))"
   ]
  },
  {
   "cell_type": "code",
   "execution_count": 9,
   "metadata": {},
   "outputs": [
    {
     "name": "stdout",
     "output_type": "stream",
     "text": [
      "Epoch 1/50. Loss: 5.15879487991333\n",
      "Epoch 2/50. Loss: 3.0752341747283936\n",
      "Epoch 3/50. Loss: 2.954951047897339\n",
      "Epoch 4/50. Loss: 2.8991193771362305\n",
      "Epoch 5/50. Loss: 2.8727917671203613\n",
      "Epoch 6/50. Loss: 2.8595352172851562\n",
      "Epoch 7/50. Loss: 2.8426148891448975\n",
      "Epoch 8/50. Loss: 2.8097357749938965\n",
      "Epoch 9/50. Loss: 2.7983615398406982\n",
      "Epoch 10/50. Loss: 2.8242380619049072\n",
      "Epoch 11/50. Loss: 2.7930681705474854\n",
      "Epoch 12/50. Loss: 2.779785394668579\n",
      "Epoch 13/50. Loss: 2.788134813308716\n",
      "Epoch 14/50. Loss: 2.7779197692871094\n",
      "Epoch 15/50. Loss: 2.7783446311950684\n",
      "Epoch 16/50. Loss: 2.783341407775879\n",
      "Epoch 17/50. Loss: 2.781421184539795\n",
      "Epoch 18/50. Loss: 2.7933952808380127\n",
      "Epoch 19/50. Loss: 2.7700939178466797\n",
      "Epoch 20/50. Loss: 2.792398452758789\n",
      "Epoch 21/50. Loss: 2.7610628604888916\n",
      "Epoch 22/50. Loss: 2.766368865966797\n",
      "Epoch 23/50. Loss: 2.7792370319366455\n",
      "Epoch 24/50. Loss: 2.769770860671997\n",
      "Epoch 25/50. Loss: 2.7790474891662598\n",
      "Epoch 26/50. Loss: 2.752436637878418\n",
      "Epoch 27/50. Loss: 2.7748568058013916\n",
      "Epoch 28/50. Loss: 2.737179756164551\n",
      "Epoch 29/50. Loss: 2.7766928672790527\n",
      "Epoch 30/50. Loss: 2.773618459701538\n",
      "Epoch 31/50. Loss: 2.7693328857421875\n",
      "Epoch 32/50. Loss: 2.740196466445923\n",
      "Epoch 33/50. Loss: 2.755842685699463\n",
      "Epoch 34/50. Loss: 2.7683560848236084\n",
      "Epoch 35/50. Loss: 2.765756607055664\n",
      "Epoch 36/50. Loss: 2.783904552459717\n",
      "Epoch 37/50. Loss: 2.7573373317718506\n",
      "Epoch 38/50. Loss: 2.7941973209381104\n",
      "Epoch 39/50. Loss: 2.808227300643921\n",
      "Epoch 40/50. Loss: 2.771746873855591\n",
      "Epoch 41/50. Loss: 2.788996696472168\n",
      "Epoch 42/50. Loss: 2.7757203578948975\n",
      "Epoch 43/50. Loss: 2.7922163009643555\n",
      "Epoch 44/50. Loss: 2.7595794200897217\n",
      "Epoch 45/50. Loss: 2.7685887813568115\n",
      "Epoch 46/50. Loss: 2.8089559078216553\n",
      "Epoch 47/50. Loss: 2.767819404602051\n",
      "Epoch 48/50. Loss: 2.775602340698242\n",
      "Epoch 49/50. Loss: 2.771296501159668\n",
      "Epoch 50/50. Loss: 2.8183646202087402\n"
     ]
    }
   ],
   "source": [
    "model = SparseAutoencoder(hidden_dim=hidden_dim, original_dim=original_dim)\n",
    "opt = tf.keras.optimizers.Adam(learning_rate=1e-2)\n",
    "\n",
    "train_loop(model, opt, loss, training_dataset, epochs=max_epochs)"
   ]
  },
  {
   "cell_type": "code",
   "execution_count": 10,
   "metadata": {},
   "outputs": [
    {
     "data": {
      "image/png": "[encoded data removed]",
      "text/plain": [
       "<Figure size 432x288 with 1 Axes>"
      ]
     },
     "metadata": {
      "needs_background": "light"
     },
     "output_type": "display_data"
    }
   ],
   "source": [
    "plt.plot(range(max_epochs), model.loss)\n",
    "plt.xlabel('Epochs')\n",
    "plt.ylabel('Loss')\n",
    "plt.show()"
   ]
  },
  {
   "cell_type": "code",
   "execution_count": 11,
   "metadata": {},
   "outputs": [
    {
     "data": {
      "image/png": "[encoded data removed]",
      "text/plain": [
       "<Figure size 1440x288 with 20 Axes>"
      ]
     },
     "metadata": {
      "needs_background": "light"
     },
     "output_type": "display_data"
    }
   ],
   "source": [
    "number = 10\n",
    "plt.figure(figsize=(20, 4))\n",
    "\n",
    "for index in range(number):\n",
    "    ax = plt.subplot(2, number, index + 1)\n",
    "    \n",
    "    plt.imshow(x_test[index].reshape(28, 28), cmap='gray')\n",
    "    ax.get_xaxis().set_visible(False)\n",
    "    ax.get_yaxis().set_visible(False)\n",
    "\n",
    "    ax = plt.subplot(2, number, index + 1 + number)\n",
    "    \n",
    "    plt.imshow(model(x_test)[index].numpy().reshape(28, 28), cmap='gray')\n",
    "    ax.get_xaxis().set_visible(False)\n",
    "    ax.get_yaxis().set_visible(False)\n",
    "    \n",
    "plt.show()"
   ]
  },
  {
   "cell_type": "code",
   "execution_count": null,
   "metadata": {},
   "outputs": [],
   "source": []
  }
 ],
 "metadata": {
  "kernelspec": {
   "display_name": "tensorflow2_py37",
   "language": "python",
   "name": "tensorflow2_py37"
  },
  "language_info": {
   "codemirror_mode": {
    "name": "ipython",
    "version": 3
   },
   "file_extension": ".py",
   "mimetype": "text/x-python",
   "name": "python",
   "nbconvert_exporter": "python",
   "pygments_lexer": "ipython3",
   "version": "3.7.9"
  }
 },
 "nbformat": 4,
 "nbformat_minor": 2
}
