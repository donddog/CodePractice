{
 "cells": [
  {
   "cell_type": "code",
   "execution_count": 1,
   "metadata": {},
   "outputs": [],
   "source": [
    "import numpy as np\n",
    "import tensorflow as tf\n",
    "import tensorflow.keras as K\n",
    "import matplotlib.pyplot as plt"
   ]
  },
  {
   "cell_type": "code",
   "execution_count": 2,
   "metadata": {},
   "outputs": [],
   "source": [
    "np.random.seed(11)\n",
    "tf.random.set_seed(11)\n",
    "batch_size = 256\n",
    "max_epochs = 50\n",
    "learning_rate = 1e-3\n",
    "momentum = 8e-1\n",
    "hidden_dim = 128\n",
    "original_dim = 784"
   ]
  },
  {
   "cell_type": "code",
   "execution_count": 3,
   "metadata": {},
   "outputs": [],
   "source": [
    "(x_train, _), (x_test, _) = K.datasets.mnist.load_data()\n",
    "\n",
    "x_train = x_train / 255.\n",
    "x_test = x_test / 255.\n",
    "\n",
    "x_train = x_train.astype(np.float32)\n",
    "x_test = x_test.astype(np.float32)\n",
    "\n",
    "x_train = np.reshape(x_train, (x_train.shape[0], 784))\n",
    "x_test = np.reshape(x_test, (x_test.shape[0], 784))\n",
    "\n",
    "training_dataset = tf.data.Dataset.from_tensor_slices(x_train).batch(batch_size)"
   ]
  },
  {
   "cell_type": "code",
   "execution_count": 4,
   "metadata": {},
   "outputs": [],
   "source": [
    "class Encoder(K.layers.Layer):\n",
    "    def __init__(self, hidden_dim):\n",
    "        super(Encoder, self).__init__()\n",
    "        self.hidden_layer = K.layers.Dense(units=hidden_dim, activation=tf.nn.relu)       \n",
    "    \n",
    "    def call(self, input_features):\n",
    "        activation = self.hidden_layer(input_features)\n",
    "        return activation"
   ]
  },
  {
   "cell_type": "code",
   "execution_count": 5,
   "metadata": {},
   "outputs": [],
   "source": [
    "class Decoder(K.layers.Layer):\n",
    "    def __init__(self, hidden_dim, original_dim):\n",
    "        super(Decoder, self).__init__()\n",
    "        self.output_layer = K.layers.Dense(units=original_dim, activation=tf.nn.relu)\n",
    "  \n",
    "    def call(self, encoded):\n",
    "        activation = self.output_layer(encoded)\n",
    "        return activation "
   ]
  },
  {
   "cell_type": "code",
   "execution_count": 6,
   "metadata": {},
   "outputs": [],
   "source": [
    "class Autoencoder(K.Model):\n",
    "    def __init__(self, hidden_dim, original_dim):\n",
    "        super(Autoencoder, self).__init__()\n",
    "        self.loss = []\n",
    "        self.encoder = Encoder(hidden_dim=hidden_dim)\n",
    "        self.decoder = Decoder(hidden_dim=hidden_dim, original_dim=original_dim)\n",
    "\n",
    "    def call(self, input_features):\n",
    "        encoded = self.encoder(input_features)\n",
    "        reconstructed = self.decoder(encoded)\n",
    "        return reconstructed"
   ]
  },
  {
   "cell_type": "code",
   "execution_count": 7,
   "metadata": {},
   "outputs": [],
   "source": [
    "autoencoder = Autoencoder(hidden_dim=hidden_dim, original_dim=original_dim)\n",
    "opt = tf.optimizers.SGD(learning_rate=learning_rate, momentum=momentum)\n",
    "\n",
    "def loss(preds, real):\n",
    "    return tf.reduce_mean(tf.square(tf.subtract(preds, real)))\n",
    "\n",
    "def train(loss, model, opt, original):\n",
    "    with tf.GradientTape() as tape:\n",
    "        preds = model(original)\n",
    "        reconstruction_error = loss(preds, original)\n",
    "    gradients = tape.gradient(reconstruction_error, model.trainable_variables)\n",
    "    gradient_variables = zip(gradients, model.trainable_variables)\n",
    "    opt.apply_gradients(gradient_variables)\n",
    "  \n",
    "    return reconstruction_error"
   ]
  },
  {
   "cell_type": "code",
   "execution_count": 8,
   "metadata": {},
   "outputs": [],
   "source": [
    "def train_loop(model, opt, loss, dataset, epochs=20):\n",
    "    for epoch in range(epochs):\n",
    "        epoch_loss = 0\n",
    "        \n",
    "        for step, batch_features in enumerate(dataset):\n",
    "            loss_values = train(loss, model, opt, batch_features)\n",
    "            epoch_loss += loss_values\n",
    "            \n",
    "        model.loss.append(epoch_loss)\n",
    "        \n",
    "        print('Epoch {}/{}. Loss: {}'.format(epoch + 1, epochs, epoch_loss.numpy()))"
   ]
  },
  {
   "cell_type": "code",
   "execution_count": 9,
   "metadata": {},
   "outputs": [
    {
     "name": "stdout",
     "output_type": "stream",
     "text": [
      "Epoch 1/50. Loss: 5.1587958335876465\n",
      "Epoch 2/50. Loss: 3.0738208293914795\n",
      "Epoch 3/50. Loss: 2.9399101734161377\n",
      "Epoch 4/50. Loss: 2.9050118923187256\n",
      "Epoch 5/50. Loss: 2.895507335662842\n",
      "Epoch 6/50. Loss: 2.836820363998413\n",
      "Epoch 7/50. Loss: 2.854804754257202\n",
      "Epoch 8/50. Loss: 2.817655086517334\n",
      "Epoch 9/50. Loss: 2.804673910140991\n",
      "Epoch 10/50. Loss: 2.811678409576416\n",
      "Epoch 11/50. Loss: 2.7963314056396484\n",
      "Epoch 12/50. Loss: 2.7911911010742188\n",
      "Epoch 13/50. Loss: 2.7863967418670654\n",
      "Epoch 14/50. Loss: 2.7825870513916016\n",
      "Epoch 15/50. Loss: 2.7894392013549805\n",
      "Epoch 16/50. Loss: 2.791952133178711\n",
      "Epoch 17/50. Loss: 2.79258394241333\n",
      "Epoch 18/50. Loss: 2.799027919769287\n",
      "Epoch 19/50. Loss: 2.7869527339935303\n",
      "Epoch 20/50. Loss: 2.7812273502349854\n",
      "Epoch 21/50. Loss: 2.797116994857788\n",
      "Epoch 22/50. Loss: 2.7908284664154053\n",
      "Epoch 23/50. Loss: 2.765213966369629\n",
      "Epoch 24/50. Loss: 2.8051342964172363\n",
      "Epoch 25/50. Loss: 2.759357213973999\n",
      "Epoch 26/50. Loss: 2.765249490737915\n",
      "Epoch 27/50. Loss: 2.773141860961914\n",
      "Epoch 28/50. Loss: 2.810314178466797\n",
      "Epoch 29/50. Loss: 2.7720534801483154\n",
      "Epoch 30/50. Loss: 2.783108949661255\n",
      "Epoch 31/50. Loss: 2.7710189819335938\n",
      "Epoch 32/50. Loss: 2.765817880630493\n",
      "Epoch 33/50. Loss: 2.7526962757110596\n",
      "Epoch 34/50. Loss: 2.807842254638672\n",
      "Epoch 35/50. Loss: 2.7872085571289062\n",
      "Epoch 36/50. Loss: 2.766150951385498\n",
      "Epoch 37/50. Loss: 2.7697901725769043\n",
      "Epoch 38/50. Loss: 2.7847447395324707\n",
      "Epoch 39/50. Loss: 2.7689852714538574\n",
      "Epoch 40/50. Loss: 2.7476470470428467\n",
      "Epoch 41/50. Loss: 2.7541663646698\n",
      "Epoch 42/50. Loss: 2.7700698375701904\n",
      "Epoch 43/50. Loss: 2.8093879222869873\n",
      "Epoch 44/50. Loss: 2.7689871788024902\n",
      "Epoch 45/50. Loss: 2.7532529830932617\n",
      "Epoch 46/50. Loss: 2.7899646759033203\n",
      "Epoch 47/50. Loss: 2.782723903656006\n",
      "Epoch 48/50. Loss: 2.7927141189575195\n",
      "Epoch 49/50. Loss: 2.7632391452789307\n",
      "Epoch 50/50. Loss: 2.77107572555542\n"
     ]
    }
   ],
   "source": [
    "autoencoder = Autoencoder(hidden_dim=hidden_dim, original_dim=original_dim)\n",
    "opt = tf.keras.optimizers.Adam(learning_rate=1e-2)\n",
    "\n",
    "train_loop(autoencoder, opt, loss, training_dataset, epochs=max_epochs)"
   ]
  },
  {
   "cell_type": "code",
   "execution_count": 10,
   "metadata": {},
   "outputs": [
    {
     "data": {
      "image/png": "[encoded data removed]",
      "text/plain": [
       "<Figure size 432x288 with 1 Axes>"
      ]
     },
     "metadata": {
      "needs_background": "light"
     },
     "output_type": "display_data"
    }
   ],
   "source": [
    "plt.plot(range(max_epochs), autoencoder.loss)\n",
    "plt.xlabel('Epochs')\n",
    "plt.ylabel('Loss')\n",
    "plt.show()"
   ]
  },
  {
   "cell_type": "code",
   "execution_count": 11,
   "metadata": {},
   "outputs": [
    {
     "data": {
      "image/png": "[encoded data removed]",
      "text/plain": [
       "<Figure size 1440x288 with 20 Axes>"
      ]
     },
     "metadata": {
      "needs_background": "light"
     },
     "output_type": "display_data"
    }
   ],
   "source": [
    "number = 10\n",
    "plt.figure(figsize=(20, 4))\n",
    "\n",
    "for index in range(number):\n",
    "    ax = plt.subplot(2, number, index + 1)\n",
    "    \n",
    "    plt.imshow(x_test[index].reshape(28, 28), cmap='gray')\n",
    "    ax.get_xaxis().set_visible(False)\n",
    "    ax.get_yaxis().set_visible(False)\n",
    "\n",
    "    ax = plt.subplot(2, number, index + 1 + number)\n",
    "    \n",
    "    plt.imshow(autoencoder(x_test)[index].numpy().reshape(28, 28), cmap='gray')\n",
    "    ax.get_xaxis().set_visible(False)\n",
    "    ax.get_yaxis().set_visible(False)\n",
    "    \n",
    "plt.show()"
   ]
  },
  {
   "cell_type": "code",
   "execution_count": null,
   "metadata": {},
   "outputs": [],
   "source": []
  }
 ],
 "metadata": {
  "kernelspec": {
   "display_name": "tensorflow2_py37",
   "language": "python",
   "name": "tensorflow2_py37"
  },
  "language_info": {
   "codemirror_mode": {
    "name": "ipython",
    "version": 3
   },
   "file_extension": ".py",
   "mimetype": "text/x-python",
   "name": "python",
   "nbconvert_exporter": "python",
   "pygments_lexer": "ipython3",
   "version": "3.7.9"
  }
 },
 "nbformat": 4,
 "nbformat_minor": 2
}
