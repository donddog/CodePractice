{
 "cells": [
  {
   "cell_type": "code",
   "execution_count": 1,
   "metadata": {},
   "outputs": [],
   "source": [
    "import numpy as np\n",
    "import pandas as pd\n",
    "import matplotlib.pyplot as plt\n",
    "\n",
    "np.random.seed(3)"
   ]
  },
  {
   "cell_type": "code",
   "execution_count": 2,
   "metadata": {},
   "outputs": [],
   "source": [
    "Data = pd.read_csv('AMZN.csv',header=0, usecols=['Date',\n",
    "'Close'],parse_dates=True,index_col='Date')"
   ]
  },
  {
   "cell_type": "code",
   "execution_count": 3,
   "metadata": {},
   "outputs": [
    {
     "name": "stdout",
     "output_type": "stream",
     "text": [
      "<class 'pandas.core.frame.DataFrame'>\n",
      "DatetimeIndex: 4529 entries, 2000-11-21 to 2018-11-21\n",
      "Data columns (total 1 columns):\n",
      " #   Column  Non-Null Count  Dtype  \n",
      "---  ------  --------------  -----  \n",
      " 0   Close   4529 non-null   float64\n",
      "dtypes: float64(1)\n",
      "memory usage: 70.8 KB\n"
     ]
    }
   ],
   "source": [
    "Data.info()"
   ]
  },
  {
   "cell_type": "code",
   "execution_count": 4,
   "metadata": {},
   "outputs": [
    {
     "data": {
      "text/html": [
       "<div>\n",
       "<style scoped>\n",
       "    .dataframe tbody tr th:only-of-type {\n",
       "        vertical-align: middle;\n",
       "    }\n",
       "\n",
       "    .dataframe tbody tr th {\n",
       "        vertical-align: top;\n",
       "    }\n",
       "\n",
       "    .dataframe thead th {\n",
       "        text-align: right;\n",
       "    }\n",
       "</style>\n",
       "<table border=\"1\" class=\"dataframe\">\n",
       "  <thead>\n",
       "    <tr style=\"text-align: right;\">\n",
       "      <th></th>\n",
       "      <th>Close</th>\n",
       "    </tr>\n",
       "    <tr>\n",
       "      <th>Date</th>\n",
       "      <th></th>\n",
       "    </tr>\n",
       "  </thead>\n",
       "  <tbody>\n",
       "    <tr>\n",
       "      <th>2000-11-21</th>\n",
       "      <td>24.2500</td>\n",
       "    </tr>\n",
       "    <tr>\n",
       "      <th>2000-11-22</th>\n",
       "      <td>25.1875</td>\n",
       "    </tr>\n",
       "    <tr>\n",
       "      <th>2000-11-24</th>\n",
       "      <td>28.9375</td>\n",
       "    </tr>\n",
       "    <tr>\n",
       "      <th>2000-11-27</th>\n",
       "      <td>28.0000</td>\n",
       "    </tr>\n",
       "    <tr>\n",
       "      <th>2000-11-28</th>\n",
       "      <td>25.0312</td>\n",
       "    </tr>\n",
       "  </tbody>\n",
       "</table>\n",
       "</div>"
      ],
      "text/plain": [
       "              Close\n",
       "Date               \n",
       "2000-11-21  24.2500\n",
       "2000-11-22  25.1875\n",
       "2000-11-24  28.9375\n",
       "2000-11-27  28.0000\n",
       "2000-11-28  25.0312"
      ]
     },
     "execution_count": 4,
     "metadata": {},
     "output_type": "execute_result"
    }
   ],
   "source": [
    "Data.head()"
   ]
  },
  {
   "cell_type": "code",
   "execution_count": 5,
   "metadata": {},
   "outputs": [
    {
     "data": {
      "text/html": [
       "<div>\n",
       "<style scoped>\n",
       "    .dataframe tbody tr th:only-of-type {\n",
       "        vertical-align: middle;\n",
       "    }\n",
       "\n",
       "    .dataframe tbody tr th {\n",
       "        vertical-align: top;\n",
       "    }\n",
       "\n",
       "    .dataframe thead th {\n",
       "        text-align: right;\n",
       "    }\n",
       "</style>\n",
       "<table border=\"1\" class=\"dataframe\">\n",
       "  <thead>\n",
       "    <tr style=\"text-align: right;\">\n",
       "      <th></th>\n",
       "      <th>Close</th>\n",
       "    </tr>\n",
       "  </thead>\n",
       "  <tbody>\n",
       "    <tr>\n",
       "      <th>count</th>\n",
       "      <td>4529.000000</td>\n",
       "    </tr>\n",
       "    <tr>\n",
       "      <th>mean</th>\n",
       "      <td>290.353723</td>\n",
       "    </tr>\n",
       "    <tr>\n",
       "      <th>std</th>\n",
       "      <td>407.211585</td>\n",
       "    </tr>\n",
       "    <tr>\n",
       "      <th>min</th>\n",
       "      <td>5.970000</td>\n",
       "    </tr>\n",
       "    <tr>\n",
       "      <th>25%</th>\n",
       "      <td>39.849998</td>\n",
       "    </tr>\n",
       "    <tr>\n",
       "      <th>50%</th>\n",
       "      <td>117.889999</td>\n",
       "    </tr>\n",
       "    <tr>\n",
       "      <th>75%</th>\n",
       "      <td>327.440002</td>\n",
       "    </tr>\n",
       "    <tr>\n",
       "      <th>max</th>\n",
       "      <td>2039.510010</td>\n",
       "    </tr>\n",
       "  </tbody>\n",
       "</table>\n",
       "</div>"
      ],
      "text/plain": [
       "             Close\n",
       "count  4529.000000\n",
       "mean    290.353723\n",
       "std     407.211585\n",
       "min       5.970000\n",
       "25%      39.849998\n",
       "50%     117.889999\n",
       "75%     327.440002\n",
       "max    2039.510010"
      ]
     },
     "execution_count": 5,
     "metadata": {},
     "output_type": "execute_result"
    }
   ],
   "source": [
    "Data.describe()"
   ]
  },
  {
   "cell_type": "code",
   "execution_count": 6,
   "metadata": {},
   "outputs": [
    {
     "data": {
      "image/png": "[encoded data removed]",
      "text/plain": [
       "<Figure size 720x360 with 1 Axes>"
      ]
     },
     "metadata": {
      "needs_background": "light"
     },
     "output_type": "display_data"
    }
   ],
   "source": [
    "plt.figure(figsize=(10,5))\n",
    "plt.plot(Data)\n",
    "plt.show()"
   ]
  },
  {
   "cell_type": "code",
   "execution_count": 7,
   "metadata": {},
   "outputs": [
    {
     "name": "stdout",
     "output_type": "stream",
     "text": [
      "               Close\n",
      "Date                \n",
      "2018-11-08 -0.000330\n",
      "2018-11-09 -0.024504\n",
      "2018-11-12 -0.045140\n",
      "2018-11-13 -0.003476\n",
      "2018-11-14 -0.019913\n",
      "2018-11-15  0.012696\n",
      "2018-11-16 -0.016204\n",
      "2018-11-19 -0.052251\n",
      "2018-11-20 -0.011191\n",
      "2018-11-21  0.014123\n"
     ]
    }
   ],
   "source": [
    "DataPCh = Data.pct_change()\n",
    "LogReturns = np.log(1 + DataPCh) \n",
    "\n",
    "print(LogReturns.tail(10))"
   ]
  },
  {
   "cell_type": "code",
   "execution_count": 8,
   "metadata": {},
   "outputs": [
    {
     "data": {
      "image/png": "[encoded data removed]",
      "text/plain": [
       "<Figure size 720x360 with 1 Axes>"
      ]
     },
     "metadata": {
      "needs_background": "light"
     },
     "output_type": "display_data"
    }
   ],
   "source": [
    "plt.figure(figsize=(10,5))\n",
    "plt.plot(LogReturns)\n",
    "plt.show()"
   ]
  },
  {
   "cell_type": "code",
   "execution_count": 9,
   "metadata": {},
   "outputs": [
    {
     "name": "stdout",
     "output_type": "stream",
     "text": [
      "3170 1359\n"
     ]
    }
   ],
   "source": [
    "from sklearn.preprocessing import MinMaxScaler\n",
    "\n",
    "scaler = MinMaxScaler()\n",
    "DataScaled = scaler.fit_transform(Data)\n",
    "TrainLen = int(len(DataScaled) * 0.70)\n",
    "TestLen = len(DataScaled) - TrainLen\n",
    "TrainData = DataScaled[0:TrainLen,:]\n",
    "TestData = DataScaled[TrainLen:len(DataScaled),:]\n",
    "\n",
    "print(len(TrainData), len(TestData))"
   ]
  },
  {
   "cell_type": "code",
   "execution_count": 10,
   "metadata": {},
   "outputs": [],
   "source": [
    "def DatasetCreation(dataset, TimeStep=1):\n",
    "    DataX, DataY = [], []\n",
    "    for i in range(len(dataset)- TimeStep -1):\n",
    "            a = dataset[i:(i+ TimeStep), 0]\n",
    "            DataX.append(a)\n",
    "            DataY.append(dataset[i + TimeStep, 0])\n",
    "    return np.array(DataX), np.array(DataY)"
   ]
  },
  {
   "cell_type": "code",
   "execution_count": 11,
   "metadata": {},
   "outputs": [],
   "source": [
    "TimeStep = 1\n",
    "TrainX, TrainY = DatasetCreation(TrainData, TimeStep)\n",
    "TestX, TestY = DatasetCreation(TestData, TimeStep)\n",
    "TrainX = np.reshape(TrainX, (TrainX.shape[0], 1, TrainX.shape[1]))\n",
    "TestX = np.reshape(TestX, (TestX.shape[0], 1, TestX.shape[1]))"
   ]
  },
  {
   "cell_type": "code",
   "execution_count": 12,
   "metadata": {
    "collapsed": true
   },
   "outputs": [
    {
     "name": "stderr",
     "output_type": "stream",
     "text": [
      "Using TensorFlow backend.\n",
      "C:\\Anaconda\\lib\\site-packages\\tensorflow\\python\\framework\\dtypes.py:516: FutureWarning: Passing (type, 1) or '1type' as a synonym of type is deprecated; in a future version of numpy, it will be understood as (type, (1,)) / '(1,)type'.\n",
      "  _np_qint8 = np.dtype([(\"qint8\", np.int8, 1)])\n",
      "C:\\Anaconda\\lib\\site-packages\\tensorflow\\python\\framework\\dtypes.py:517: FutureWarning: Passing (type, 1) or '1type' as a synonym of type is deprecated; in a future version of numpy, it will be understood as (type, (1,)) / '(1,)type'.\n",
      "  _np_quint8 = np.dtype([(\"quint8\", np.uint8, 1)])\n",
      "C:\\Anaconda\\lib\\site-packages\\tensorflow\\python\\framework\\dtypes.py:518: FutureWarning: Passing (type, 1) or '1type' as a synonym of type is deprecated; in a future version of numpy, it will be understood as (type, (1,)) / '(1,)type'.\n",
      "  _np_qint16 = np.dtype([(\"qint16\", np.int16, 1)])\n",
      "C:\\Anaconda\\lib\\site-packages\\tensorflow\\python\\framework\\dtypes.py:519: FutureWarning: Passing (type, 1) or '1type' as a synonym of type is deprecated; in a future version of numpy, it will be understood as (type, (1,)) / '(1,)type'.\n",
      "  _np_quint16 = np.dtype([(\"quint16\", np.uint16, 1)])\n",
      "C:\\Anaconda\\lib\\site-packages\\tensorflow\\python\\framework\\dtypes.py:520: FutureWarning: Passing (type, 1) or '1type' as a synonym of type is deprecated; in a future version of numpy, it will be understood as (type, (1,)) / '(1,)type'.\n",
      "  _np_qint32 = np.dtype([(\"qint32\", np.int32, 1)])\n",
      "C:\\Anaconda\\lib\\site-packages\\tensorflow\\python\\framework\\dtypes.py:525: FutureWarning: Passing (type, 1) or '1type' as a synonym of type is deprecated; in a future version of numpy, it will be understood as (type, (1,)) / '(1,)type'.\n",
      "  np_resource = np.dtype([(\"resource\", np.ubyte, 1)])\n",
      "C:\\Anaconda\\lib\\site-packages\\tensorboard\\compat\\tensorflow_stub\\dtypes.py:541: FutureWarning: Passing (type, 1) or '1type' as a synonym of type is deprecated; in a future version of numpy, it will be understood as (type, (1,)) / '(1,)type'.\n",
      "  _np_qint8 = np.dtype([(\"qint8\", np.int8, 1)])\n",
      "C:\\Anaconda\\lib\\site-packages\\tensorboard\\compat\\tensorflow_stub\\dtypes.py:542: FutureWarning: Passing (type, 1) or '1type' as a synonym of type is deprecated; in a future version of numpy, it will be understood as (type, (1,)) / '(1,)type'.\n",
      "  _np_quint8 = np.dtype([(\"quint8\", np.uint8, 1)])\n",
      "C:\\Anaconda\\lib\\site-packages\\tensorboard\\compat\\tensorflow_stub\\dtypes.py:543: FutureWarning: Passing (type, 1) or '1type' as a synonym of type is deprecated; in a future version of numpy, it will be understood as (type, (1,)) / '(1,)type'.\n",
      "  _np_qint16 = np.dtype([(\"qint16\", np.int16, 1)])\n",
      "C:\\Anaconda\\lib\\site-packages\\tensorboard\\compat\\tensorflow_stub\\dtypes.py:544: FutureWarning: Passing (type, 1) or '1type' as a synonym of type is deprecated; in a future version of numpy, it will be understood as (type, (1,)) / '(1,)type'.\n",
      "  _np_quint16 = np.dtype([(\"quint16\", np.uint16, 1)])\n",
      "C:\\Anaconda\\lib\\site-packages\\tensorboard\\compat\\tensorflow_stub\\dtypes.py:545: FutureWarning: Passing (type, 1) or '1type' as a synonym of type is deprecated; in a future version of numpy, it will be understood as (type, (1,)) / '(1,)type'.\n",
      "  _np_qint32 = np.dtype([(\"qint32\", np.int32, 1)])\n",
      "C:\\Anaconda\\lib\\site-packages\\tensorboard\\compat\\tensorflow_stub\\dtypes.py:550: FutureWarning: Passing (type, 1) or '1type' as a synonym of type is deprecated; in a future version of numpy, it will be understood as (type, (1,)) / '(1,)type'.\n",
      "  np_resource = np.dtype([(\"resource\", np.ubyte, 1)])\n"
     ]
    }
   ],
   "source": [
    "from keras.models import Sequential\n",
    "from keras.layers import LSTM\n",
    "from keras.layers import Dense\n",
    "from tensorflow import set_random_seed\n",
    "\n",
    "set_random_seed(3)"
   ]
  },
  {
   "cell_type": "code",
   "execution_count": 13,
   "metadata": {},
   "outputs": [
    {
     "name": "stdout",
     "output_type": "stream",
     "text": [
      "WARNING:tensorflow:From C:\\Anaconda\\lib\\site-packages\\keras\\backend\\tensorflow_backend.py:422: The name tf.global_variables is deprecated. Please use tf.compat.v1.global_variables instead.\n",
      "\n",
      "Epoch 1/100\n",
      "3168/3168 [==============================] - 10s 3ms/step - loss: 5.8626e-05 - accuracy: 3.1566e-04\n",
      "Epoch 2/100\n",
      "3168/3168 [==============================] - 9s 3ms/step - loss: 5.2479e-06 - accuracy: 3.1566e-04\n",
      "Epoch 3/100\n",
      "3168/3168 [==============================] - 9s 3ms/step - loss: 5.3309e-06 - accuracy: 3.1566e-04\n",
      "Epoch 4/100\n",
      "3168/3168 [==============================] - 10s 3ms/step - loss: 5.0572e-06 - accuracy: 3.1566e-04\n",
      "Epoch 5/100\n",
      "3168/3168 [==============================] - 10s 3ms/step - loss: 5.1836e-06 - accuracy: 3.1566e-04\n",
      "Epoch 6/100\n",
      "3168/3168 [==============================] - 10s 3ms/step - loss: 4.4430e-06 - accuracy: 3.1566e-04\n",
      "Epoch 7/100\n",
      "3168/3168 [==============================] - 10s 3ms/step - loss: 4.5396e-06 - accuracy: 3.1566e-04\n",
      "Epoch 8/100\n",
      "3168/3168 [==============================] - 10s 3ms/step - loss: 4.6573e-06 - accuracy: 3.1566e-04\n",
      "Epoch 9/100\n",
      "3168/3168 [==============================] - 10s 3ms/step - loss: 4.2579e-06 - accuracy: 3.1566e-04\n",
      "Epoch 10/100\n",
      "3168/3168 [==============================] - 10s 3ms/step - loss: 4.2989e-06 - accuracy: 3.1566e-04\n",
      "Epoch 11/100\n",
      "3168/3168 [==============================] - 10s 3ms/step - loss: 4.0882e-06 - accuracy: 3.1566e-04\n",
      "Epoch 12/100\n",
      "3168/3168 [==============================] - 10s 3ms/step - loss: 3.7579e-06 - accuracy: 3.1566e-04\n",
      "Epoch 13/100\n",
      "3168/3168 [==============================] - 10s 3ms/step - loss: 3.9755e-06 - accuracy: 3.1566e-04\n",
      "Epoch 14/100\n",
      "3168/3168 [==============================] - 10s 3ms/step - loss: 4.0295e-06 - accuracy: 3.1566e-04\n",
      "Epoch 15/100\n",
      "3168/3168 [==============================] - 10s 3ms/step - loss: 3.9582e-06 - accuracy: 3.1566e-04\n",
      "Epoch 16/100\n",
      "3168/3168 [==============================] - 10s 3ms/step - loss: 3.7618e-06 - accuracy: 3.1566e-04\n",
      "Epoch 17/100\n",
      "3168/3168 [==============================] - 10s 3ms/step - loss: 3.9744e-06 - accuracy: 3.1566e-04\n",
      "Epoch 18/100\n",
      "3168/3168 [==============================] - 10s 3ms/step - loss: 3.5728e-06 - accuracy: 3.1566e-04\n",
      "Epoch 19/100\n",
      "3168/3168 [==============================] - 10s 3ms/step - loss: 3.5560e-06 - accuracy: 3.1566e-04\n",
      "Epoch 20/100\n",
      "3168/3168 [==============================] - 10s 3ms/step - loss: 3.8650e-06 - accuracy: 3.1566e-04\n",
      "Epoch 21/100\n",
      "3168/3168 [==============================] - 10s 3ms/step - loss: 3.5522e-06 - accuracy: 3.1566e-04\n",
      "Epoch 22/100\n",
      "3168/3168 [==============================] - 10s 3ms/step - loss: 3.2750e-06 - accuracy: 3.1566e-04\n",
      "Epoch 23/100\n",
      "3168/3168 [==============================] - 10s 3ms/step - loss: 3.4216e-06 - accuracy: 3.1566e-04\n",
      "Epoch 24/100\n",
      "3168/3168 [==============================] - 10s 3ms/step - loss: 3.2393e-06 - accuracy: 3.1566e-04\n",
      "Epoch 25/100\n",
      "3168/3168 [==============================] - 10s 3ms/step - loss: 3.4486e-06 - accuracy: 3.1566e-04\n",
      "Epoch 26/100\n",
      "3168/3168 [==============================] - 10s 3ms/step - loss: 3.5526e-06 - accuracy: 3.1566e-04\n",
      "Epoch 27/100\n",
      "3168/3168 [==============================] - 10s 3ms/step - loss: 3.3261e-06 - accuracy: 3.1566e-04\n",
      "Epoch 28/100\n",
      "3168/3168 [==============================] - 10s 3ms/step - loss: 3.2557e-06 - accuracy: 3.1566e-04\n",
      "Epoch 29/100\n",
      "3168/3168 [==============================] - 10s 3ms/step - loss: 3.2967e-06 - accuracy: 3.1566e-04\n",
      "Epoch 30/100\n",
      "3168/3168 [==============================] - 10s 3ms/step - loss: 3.7286e-06 - accuracy: 3.1566e-04\n",
      "Epoch 31/100\n",
      "3168/3168 [==============================] - 10s 3ms/step - loss: 3.2219e-06 - accuracy: 3.1566e-04\n",
      "Epoch 32/100\n",
      "3168/3168 [==============================] - 10s 3ms/step - loss: 3.3667e-06 - accuracy: 3.1566e-04\n",
      "Epoch 33/100\n",
      "3168/3168 [==============================] - 10s 3ms/step - loss: 3.3164e-06 - accuracy: 3.1566e-04\n",
      "Epoch 34/100\n",
      "3168/3168 [==============================] - 10s 3ms/step - loss: 3.4426e-06 - accuracy: 3.1566e-04\n",
      "Epoch 35/100\n",
      "3168/3168 [==============================] - 10s 3ms/step - loss: 3.3725e-06 - accuracy: 3.1566e-04\n",
      "Epoch 36/100\n",
      "3168/3168 [==============================] - 10s 3ms/step - loss: 3.1958e-06 - accuracy: 3.1566e-04\n",
      "Epoch 37/100\n",
      "3168/3168 [==============================] - 10s 3ms/step - loss: 3.2464e-06 - accuracy: 3.1566e-04\n",
      "Epoch 38/100\n",
      "3168/3168 [==============================] - 10s 3ms/step - loss: 2.9719e-06 - accuracy: 3.1566e-04\n",
      "Epoch 39/100\n",
      "3168/3168 [==============================] - 10s 3ms/step - loss: 3.2096e-06 - accuracy: 3.1566e-04\n",
      "Epoch 40/100\n",
      "3168/3168 [==============================] - 10s 3ms/step - loss: 3.2022e-06 - accuracy: 3.1566e-04\n",
      "Epoch 41/100\n",
      "3168/3168 [==============================] - 10s 3ms/step - loss: 3.0884e-06 - accuracy: 3.1566e-04\n",
      "Epoch 42/100\n",
      "3168/3168 [==============================] - 10s 3ms/step - loss: 3.0812e-06 - accuracy: 3.1566e-04\n",
      "Epoch 43/100\n",
      "3168/3168 [==============================] - 10s 3ms/step - loss: 3.2601e-06 - accuracy: 3.1566e-04\n",
      "Epoch 44/100\n",
      "3168/3168 [==============================] - 10s 3ms/step - loss: 3.3351e-06 - accuracy: 3.1566e-04\n",
      "Epoch 45/100\n",
      "3168/3168 [==============================] - 10s 3ms/step - loss: 2.9686e-06 - accuracy: 3.1566e-04\n",
      "Epoch 46/100\n",
      "3168/3168 [==============================] - 10s 3ms/step - loss: 3.2573e-06 - accuracy: 3.1566e-04\n",
      "Epoch 47/100\n",
      "3168/3168 [==============================] - 10s 3ms/step - loss: 3.0959e-06 - accuracy: 3.1566e-04\n",
      "Epoch 48/100\n",
      "3168/3168 [==============================] - 10s 3ms/step - loss: 3.3270e-06 - accuracy: 3.1566e-04\n",
      "Epoch 49/100\n",
      "3168/3168 [==============================] - 10s 3ms/step - loss: 3.1303e-06 - accuracy: 3.1566e-04\n",
      "Epoch 50/100\n",
      "3168/3168 [==============================] - 10s 3ms/step - loss: 3.1862e-06 - accuracy: 3.1566e-04\n",
      "Epoch 51/100\n",
      "3168/3168 [==============================] - 10s 3ms/step - loss: 3.1392e-06 - accuracy: 3.1566e-04\n",
      "Epoch 52/100\n",
      "3168/3168 [==============================] - 10s 3ms/step - loss: 3.1137e-06 - accuracy: 3.1566e-04\n",
      "Epoch 53/100\n",
      "3168/3168 [==============================] - 10s 3ms/step - loss: 2.9787e-06 - accuracy: 3.1566e-04\n",
      "Epoch 54/100\n",
      "3168/3168 [==============================] - 10s 3ms/step - loss: 3.0108e-06 - accuracy: 3.1566e-04\n",
      "Epoch 55/100\n",
      "3168/3168 [==============================] - 10s 3ms/step - loss: 2.8932e-06 - accuracy: 3.1566e-04\n",
      "Epoch 56/100\n",
      "3168/3168 [==============================] - 10s 3ms/step - loss: 2.9079e-06 - accuracy: 3.1566e-04\n",
      "Epoch 57/100\n",
      "3168/3168 [==============================] - 10s 3ms/step - loss: 3.0239e-06 - accuracy: 3.1566e-04\n",
      "Epoch 58/100\n",
      "3168/3168 [==============================] - 10s 3ms/step - loss: 3.1595e-06 - accuracy: 3.1566e-04\n",
      "Epoch 59/100\n",
      "3168/3168 [==============================] - 10s 3ms/step - loss: 3.2050e-06 - accuracy: 3.1566e-04\n",
      "Epoch 60/100\n",
      "3168/3168 [==============================] - 10s 3ms/step - loss: 3.1291e-06 - accuracy: 3.1566e-04\n",
      "Epoch 61/100\n",
      "3168/3168 [==============================] - 10s 3ms/step - loss: 2.9132e-06 - accuracy: 3.1566e-04\n",
      "Epoch 62/100\n",
      "3168/3168 [==============================] - 10s 3ms/step - loss: 2.8775e-06 - accuracy: 3.1566e-04\n",
      "Epoch 63/100\n",
      "3168/3168 [==============================] - 10s 3ms/step - loss: 2.8499e-06 - accuracy: 3.1566e-04\n",
      "Epoch 64/100\n",
      "3168/3168 [==============================] - 10s 3ms/step - loss: 2.9380e-06 - accuracy: 3.1566e-04\n",
      "Epoch 65/100\n",
      "3168/3168 [==============================] - 10s 3ms/step - loss: 2.8090e-06 - accuracy: 3.1566e-04\n",
      "Epoch 66/100\n",
      "3168/3168 [==============================] - 10s 3ms/step - loss: 2.9139e-06 - accuracy: 3.1566e-04\n",
      "Epoch 67/100\n",
      "3168/3168 [==============================] - 10s 3ms/step - loss: 2.8614e-06 - accuracy: 3.1566e-04\n",
      "Epoch 68/100\n",
      "3168/3168 [==============================] - 10s 3ms/step - loss: 2.7940e-06 - accuracy: 3.1566e-04\n",
      "Epoch 69/100\n",
      "3168/3168 [==============================] - 10s 3ms/step - loss: 2.8793e-06 - accuracy: 3.1566e-04\n",
      "Epoch 70/100\n",
      "3168/3168 [==============================] - 10s 3ms/step - loss: 3.0849e-06 - accuracy: 3.1566e-04\n",
      "Epoch 71/100\n"
     ]
    },
    {
     "name": "stdout",
     "output_type": "stream",
     "text": [
      "3168/3168 [==============================] - 10s 3ms/step - loss: 2.8441e-06 - accuracy: 3.1566e-04\n",
      "Epoch 72/100\n",
      "3168/3168 [==============================] - 10s 3ms/step - loss: 2.8587e-06 - accuracy: 3.1566e-04\n",
      "Epoch 73/100\n",
      "3168/3168 [==============================] - 10s 3ms/step - loss: 2.8738e-06 - accuracy: 3.1566e-04\n",
      "Epoch 74/100\n",
      "3168/3168 [==============================] - 10s 3ms/step - loss: 2.9173e-06 - accuracy: 3.1566e-04\n",
      "Epoch 75/100\n",
      "3168/3168 [==============================] - 10s 3ms/step - loss: 2.9510e-06 - accuracy: 3.1566e-04\n",
      "Epoch 76/100\n",
      "3168/3168 [==============================] - 10s 3ms/step - loss: 2.8177e-06 - accuracy: 3.1566e-04\n",
      "Epoch 77/100\n",
      "3168/3168 [==============================] - 10s 3ms/step - loss: 3.0222e-06 - accuracy: 3.1566e-04\n",
      "Epoch 78/100\n",
      "3168/3168 [==============================] - 10s 3ms/step - loss: 2.9616e-06 - accuracy: 3.1566e-04\n",
      "Epoch 79/100\n",
      "3168/3168 [==============================] - 10s 3ms/step - loss: 3.0878e-06 - accuracy: 3.1566e-04\n",
      "Epoch 80/100\n",
      "3168/3168 [==============================] - 10s 3ms/step - loss: 2.7342e-06 - accuracy: 3.1566e-04\n",
      "Epoch 81/100\n",
      "3168/3168 [==============================] - 10s 3ms/step - loss: 2.8089e-06 - accuracy: 3.1566e-04\n",
      "Epoch 82/100\n",
      "3168/3168 [==============================] - 10s 3ms/step - loss: 2.9596e-06 - accuracy: 3.1566e-04\n",
      "Epoch 83/100\n",
      "3168/3168 [==============================] - 10s 3ms/step - loss: 2.8225e-06 - accuracy: 3.1566e-04\n",
      "Epoch 84/100\n",
      "3168/3168 [==============================] - 10s 3ms/step - loss: 2.9343e-06 - accuracy: 3.1566e-04\n",
      "Epoch 85/100\n",
      "3168/3168 [==============================] - 10s 3ms/step - loss: 2.9094e-06 - accuracy: 3.1566e-04\n",
      "Epoch 86/100\n",
      "3168/3168 [==============================] - 10s 3ms/step - loss: 2.7103e-06 - accuracy: 3.1566e-04\n",
      "Epoch 87/100\n",
      "3168/3168 [==============================] - 10s 3ms/step - loss: 2.9268e-06 - accuracy: 3.1566e-04\n",
      "Epoch 88/100\n",
      "3168/3168 [==============================] - 10s 3ms/step - loss: 2.7254e-06 - accuracy: 3.1566e-04\n",
      "Epoch 89/100\n",
      "3168/3168 [==============================] - 10s 3ms/step - loss: 2.7372e-06 - accuracy: 3.1566e-04\n",
      "Epoch 90/100\n",
      "3168/3168 [==============================] - 10s 3ms/step - loss: 2.7099e-06 - accuracy: 3.1566e-04\n",
      "Epoch 91/100\n",
      "3168/3168 [==============================] - 10s 3ms/step - loss: 2.7724e-06 - accuracy: 3.1566e-04\n",
      "Epoch 92/100\n",
      "3168/3168 [==============================] - 10s 3ms/step - loss: 2.8479e-06 - accuracy: 3.1566e-04\n",
      "Epoch 93/100\n",
      "3168/3168 [==============================] - 10s 3ms/step - loss: 2.7743e-06 - accuracy: 3.1566e-04\n",
      "Epoch 94/100\n",
      "3168/3168 [==============================] - 10s 3ms/step - loss: 2.7812e-06 - accuracy: 3.1566e-04\n",
      "Epoch 95/100\n",
      "3168/3168 [==============================] - 10s 3ms/step - loss: 2.8692e-06 - accuracy: 3.1566e-04\n",
      "Epoch 96/100\n",
      "3168/3168 [==============================] - 10s 3ms/step - loss: 2.7958e-06 - accuracy: 3.1566e-04\n",
      "Epoch 97/100\n",
      "3168/3168 [==============================] - 10s 3ms/step - loss: 2.8793e-06 - accuracy: 3.1566e-04\n",
      "Epoch 98/100\n",
      "3168/3168 [==============================] - 10s 3ms/step - loss: 2.8880e-06 - accuracy: 3.1566e-04\n",
      "Epoch 99/100\n",
      "3168/3168 [==============================] - 10s 3ms/step - loss: 2.7609e-06 - accuracy: 3.1566e-04\n",
      "Epoch 100/100\n",
      "3168/3168 [==============================] - 10s 3ms/step - loss: 2.7242e-06 - accuracy: 3.1566e-04\n"
     ]
    },
    {
     "data": {
      "text/plain": [
       "<keras.callbacks.callbacks.History at 0x1bc5e48c088>"
      ]
     },
     "execution_count": 13,
     "metadata": {},
     "output_type": "execute_result"
    }
   ],
   "source": [
    "model = Sequential()\n",
    "model.add(LSTM(256, input_shape=(1, TimeStep)))\n",
    "model.add(Dense(1))\n",
    "model.compile(loss='mean_squared_error',optimizer='adam',metrics=['accuracy'])\n",
    "model.fit(TrainX, TrainY, epochs=100, batch_size=1, verbose=1)"
   ]
  },
  {
   "cell_type": "code",
   "execution_count": 14,
   "metadata": {},
   "outputs": [
    {
     "name": "stdout",
     "output_type": "stream",
     "text": [
      "Model: \"sequential_1\"\n",
      "_________________________________________________________________\n",
      "Layer (type)                 Output Shape              Param #   \n",
      "=================================================================\n",
      "lstm_1 (LSTM)                (None, 256)               264192    \n",
      "_________________________________________________________________\n",
      "dense_1 (Dense)              (None, 1)                 257       \n",
      "=================================================================\n",
      "Total params: 264,449\n",
      "Trainable params: 264,449\n",
      "Non-trainable params: 0\n",
      "_________________________________________________________________\n"
     ]
    }
   ],
   "source": [
    "model.summary()"
   ]
  },
  {
   "cell_type": "code",
   "execution_count": 15,
   "metadata": {},
   "outputs": [
    {
     "name": "stdout",
     "output_type": "stream",
     "text": [
      "Keras Model Loss =  2.1099970504190774e-06\n",
      "Keras Model Accuracy =  0.00031565656536258757\n"
     ]
    }
   ],
   "source": [
    "score = model.evaluate(TrainX, TrainY, verbose=0)\n",
    "\n",
    "print('Keras Model Loss = ',score[0])\n",
    "print('Keras Model Accuracy = ',score[1])"
   ]
  },
  {
   "cell_type": "code",
   "execution_count": 16,
   "metadata": {},
   "outputs": [
    {
     "data": {
      "image/png": "[encoded data removed]",
      "text/plain": [
       "<Figure size 432x288 with 1 Axes>"
      ]
     },
     "metadata": {
      "needs_background": "light"
     },
     "output_type": "display_data"
    }
   ],
   "source": [
    "TrainPred = model.predict(TrainX)\n",
    "TestPred = model.predict(TestX)\n",
    "\n",
    "TrainPred = scaler.inverse_transform(TrainPred)\n",
    "TrainY = scaler.inverse_transform([TrainY])\n",
    "TestPred = scaler.inverse_transform(TestPred)\n",
    "TestY = scaler.inverse_transform([TestY])\n",
    "\n",
    "TrainPredictPlot = np.empty_like(DataScaled)\n",
    "TrainPredictPlot[:, :] = np.nan\n",
    "TrainPredictPlot[1:len(TrainPred)+1, :] = TrainPred\n",
    "\n",
    "TestPredictPlot = np.empty_like(DataScaled)\n",
    "TestPredictPlot[:, :] = np.nan\n",
    "TestPredictPlot[len(TrainPred)+(1*2)+1:len(DataScaled)-1, :] = TestPred\n",
    "\n",
    "plt.plot(scaler.inverse_transform(DataScaled))\n",
    "plt.plot(TrainPredictPlot)\n",
    "plt.plot(TestPredictPlot)\n",
    "plt.show()"
   ]
  },
  {
   "cell_type": "code",
   "execution_count": null,
   "metadata": {},
   "outputs": [],
   "source": []
  }
 ],
 "metadata": {
  "kernelspec": {
   "display_name": "Python 3",
   "language": "python",
   "name": "python3"
  },
  "language_info": {
   "codemirror_mode": {
    "name": "ipython",
    "version": 3
   },
   "file_extension": ".py",
   "mimetype": "text/x-python",
   "name": "python",
   "nbconvert_exporter": "python",
   "pygments_lexer": "ipython3",
   "version": "3.7.6"
  }
 },
 "nbformat": 4,
 "nbformat_minor": 4
}
