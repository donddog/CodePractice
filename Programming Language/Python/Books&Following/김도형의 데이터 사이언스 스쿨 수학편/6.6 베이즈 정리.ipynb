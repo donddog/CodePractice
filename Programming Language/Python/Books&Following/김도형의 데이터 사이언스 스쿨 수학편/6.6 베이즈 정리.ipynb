{
 "cells": [
  {
   "cell_type": "code",
   "execution_count": 1,
   "metadata": {
    "school_cell_uuid": "7071e4338be04408b9e5d849ccddde7f"
   },
   "outputs": [
    {
     "name": "stdout",
     "output_type": "stream",
     "text": [
      "+------+-------+\n",
      "| X(0) | 0.998 |\n",
      "+------+-------+\n",
      "| X(1) | 0.002 |\n",
      "+------+-------+\n"
     ]
    }
   ],
   "source": [
    "from pgmpy.factors.discrete import TabularCPD\n",
    "\n",
    "cpd_X = TabularCPD('X', 2, [[1 - 0.002, 0.002]])\n",
    "print(cpd_X)"
   ]
  },
  {
   "cell_type": "code",
   "execution_count": 2,
   "metadata": {
    "school_cell_uuid": "a88bca63568b49869460e36f608eb399"
   },
   "outputs": [
    {
     "name": "stdout",
     "output_type": "stream",
     "text": [
      "+------+------+------+\n",
      "| X    | X(0) | X(1) |\n",
      "+------+------+------+\n",
      "| Y(0) | 0.95 | 0.01 |\n",
      "+------+------+------+\n",
      "| Y(1) | 0.05 | 0.99 |\n",
      "+------+------+------+\n"
     ]
    }
   ],
   "source": [
    "cpd_Y_on_X = TabularCPD('Y', 2, np.array([[0.95, 0.01], [0.05, 0.99]]),\n",
    "                        evidence=['X'], evidence_card=[2])\n",
    "print(cpd_Y_on_X)"
   ]
  },
  {
   "cell_type": "code",
   "execution_count": 3,
   "metadata": {
    "school_cell_uuid": "2c2a9b819fc84356b41f9334104e16d4"
   },
   "outputs": [
    {
     "data": {
      "text/plain": [
       "True"
      ]
     },
     "execution_count": 3,
     "metadata": {},
     "output_type": "execute_result"
    }
   ],
   "source": [
    "from pgmpy.models import BayesianModel\n",
    "\n",
    "model = BayesianModel([('X', 'Y')])\n",
    "model.add_cpds(cpd_X, cpd_Y_on_X)\n",
    "model.check_model()"
   ]
  },
  {
   "cell_type": "code",
   "execution_count": 5,
   "metadata": {
    "school_cell_uuid": "79675349f3ba49b8a49805166c72fa8f"
   },
   "outputs": [
    {
     "name": "stderr",
     "output_type": "stream",
     "text": [
      "Finding Elimination Order: : : 0it [00:00, ?it/s]\n",
      "0it [00:00, ?it/s]\n"
     ]
    },
    {
     "name": "stdout",
     "output_type": "stream",
     "text": [
      "+------+----------+\n",
      "| X    |   phi(X) |\n",
      "+======+==========+\n",
      "| X(0) |   0.9618 |\n",
      "+------+----------+\n",
      "| X(1) |   0.0382 |\n",
      "+------+----------+\n"
     ]
    }
   ],
   "source": [
    "from pgmpy.inference import VariableElimination\n",
    "\n",
    "inference = VariableElimination(model)\n",
    "posterior = inference.query(['X'], evidence={'Y': 1})\n",
    "print(posterior)"
   ]
  },
  {
   "cell_type": "code",
   "execution_count": null,
   "metadata": {},
   "outputs": [],
   "source": []
  }
 ],
 "metadata": {
  "celltoolbar": "Edit Metadata",
  "kernelspec": {
   "display_name": "Python 3",
   "language": "python",
   "name": "python3"
  },
  "language_info": {
   "codemirror_mode": {
    "name": "ipython",
    "version": 3
   },
   "file_extension": ".py",
   "mimetype": "text/x-python",
   "name": "python",
   "nbconvert_exporter": "python",
   "pygments_lexer": "ipython3",
   "version": "3.7.3"
  },
  "pycharm": {
   "stem_cell": {
    "cell_type": "raw",
    "metadata": {
     "collapsed": false
    },
    "source": []
   }
  },
  "toc": {
   "base_numbering": 1,
   "nav_menu": {},
   "number_sections": false,
   "sideBar": true,
   "skip_h1_title": false,
   "title_cell": "Table of Contents",
   "title_sidebar": "Contents",
   "toc_cell": false,
   "toc_position": {},
   "toc_section_display": true,
   "toc_window_display": false
  }
 },
 "nbformat": 4,
 "nbformat_minor": 4
}
