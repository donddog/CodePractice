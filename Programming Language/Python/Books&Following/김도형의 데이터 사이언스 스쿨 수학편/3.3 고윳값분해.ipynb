{
 "cells": [
  {
   "cell_type": "code",
   "execution_count": 1,
   "metadata": {},
   "outputs": [
    {
     "name": "stdout",
     "output_type": "stream",
     "text": [
      "[-0.99999998 -1.00000002]\n",
      "[[0.70710678 0.70710678]\n",
      " [0.70710678 0.70710678]]\n"
     ]
    }
   ],
   "source": [
    "A = np.array([[1, -2], [2, -3]])\n",
    "w1, V1 = np.linalg.eig(A)\n",
    "\n",
    "print(w1)\n",
    "print(V1)"
   ]
  },
  {
   "cell_type": "code",
   "execution_count": 2,
   "metadata": {},
   "outputs": [
    {
     "name": "stdout",
     "output_type": "stream",
     "text": [
      "[ 4. -1.]\n",
      "[[ 0.83205029 -0.70710678]\n",
      " [ 0.5547002   0.70710678]]\n"
     ]
    }
   ],
   "source": [
    "B = np.array([[2, 3], [2, 1]])\n",
    "w2, V2 = np.linalg.eig(B)\n",
    "\n",
    "print(w2)\n",
    "print(V2)"
   ]
  },
  {
   "cell_type": "code",
   "execution_count": 3,
   "metadata": {},
   "outputs": [
    {
     "name": "stdout",
     "output_type": "stream",
     "text": [
      "[0.+1.j 0.-1.j]\n",
      "[[0.70710678+0.j         0.70710678-0.j        ]\n",
      " [0.        -0.70710678j 0.        +0.70710678j]]\n"
     ]
    }
   ],
   "source": [
    "C = np.array([[0, -1], [1, 0]])\n",
    "w3, V3 = np.linalg.eig(C)\n",
    "\n",
    "print(w3)\n",
    "print(V3)"
   ]
  },
  {
   "cell_type": "code",
   "execution_count": 4,
   "metadata": {},
   "outputs": [
    {
     "data": {
      "text/plain": [
       "array([[ 0.83205029, -0.70710678],\n",
       "       [ 0.5547002 ,  0.70710678]])"
      ]
     },
     "execution_count": 4,
     "metadata": {},
     "output_type": "execute_result"
    }
   ],
   "source": [
    "V2"
   ]
  },
  {
   "cell_type": "code",
   "execution_count": null,
   "metadata": {},
   "outputs": [],
   "source": []
  }
 ],
 "metadata": {
  "kernelspec": {
   "display_name": "Python 3",
   "language": "python",
   "name": "python3"
  },
  "language_info": {
   "codemirror_mode": {
    "name": "ipython",
    "version": 3
   },
   "file_extension": ".py",
   "mimetype": "text/x-python",
   "name": "python",
   "nbconvert_exporter": "python",
   "pygments_lexer": "ipython3",
   "version": "3.7.3"
  }
 },
 "nbformat": 4,
 "nbformat_minor": 2
}
