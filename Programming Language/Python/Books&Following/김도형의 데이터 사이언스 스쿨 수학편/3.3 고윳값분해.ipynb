{
 "cells": [
  {
   "cell_type": "code",
   "execution_count": 1,
   "metadata": {},
   "outputs": [
    {
     "name": "stdout",
     "output_type": "stream",
     "text": [
      "[-0.99999998 -1.00000002]\n",
      "[[0.70710678 0.70710678]\n",
      " [0.70710678 0.70710678]]\n"
     ]
    }
   ],
   "source": [
    "A = np.array([[1, -2], [2, -3]])\n",
    "w1, V1 = np.linalg.eig(A)\n",
    "\n",
    "print(w1)\n",
    "print(V1)"
   ]
  },
  {
   "cell_type": "code",
   "execution_count": 2,
   "metadata": {},
   "outputs": [
    {
     "name": "stdout",
     "output_type": "stream",
     "text": [
      "[ 4. -1.]\n",
      "[[ 0.83205029 -0.70710678]\n",
      " [ 0.5547002   0.70710678]]\n"
     ]
    }
   ],
   "source": [
    "B = np.array([[2, 3], [2, 1]])\n",
    "w2, V2 = np.linalg.eig(B)\n",
    "\n",
    "print(w2)\n",
    "print(V2)"
   ]
  },
  {
   "cell_type": "code",
   "execution_count": 3,
   "metadata": {},
   "outputs": [
    {
     "name": "stdout",
     "output_type": "stream",
     "text": [
      "[0.+1.j 0.-1.j]\n",
      "[[0.70710678+0.j         0.70710678-0.j        ]\n",
      " [0.        -0.70710678j 0.        +0.70710678j]]\n"
     ]
    }
   ],
   "source": [
    "C = np.array([[0, -1], [1, 0]])\n",
    "w3, V3 = np.linalg.eig(C)\n",
    "\n",
    "print(w3)\n",
    "print(V3)"
   ]
  },
  {
   "cell_type": "code",
   "execution_count": 4,
   "metadata": {},
   "outputs": [
    {
     "data": {
      "text/plain": [
       "array([[ 0.83205029, -0.70710678],\n",
       "       [ 0.5547002 ,  0.70710678]])"
      ]
     },
     "execution_count": 4,
     "metadata": {},
     "output_type": "execute_result"
    }
   ],
   "source": [
    "V2"
   ]
  },
  {
   "cell_type": "code",
   "execution_count": 5,
   "metadata": {},
   "outputs": [
    {
     "data": {
      "text/plain": [
       "array([[ 0.72111026,  0.72111026],\n",
       "       [-0.56568542,  0.84852814]])"
      ]
     },
     "execution_count": 5,
     "metadata": {},
     "output_type": "execute_result"
    }
   ],
   "source": [
    "V2_inv = np.linalg.inv(V2)\n",
    "V2_inv"
   ]
  },
  {
   "cell_type": "code",
   "execution_count": 6,
   "metadata": {},
   "outputs": [
    {
     "data": {
      "text/plain": [
       "array([[2., 3.],\n",
       "       [2., 1.]])"
      ]
     },
     "execution_count": 6,
     "metadata": {},
     "output_type": "execute_result"
    }
   ],
   "source": [
    "V2 @ np.diag(w2) @ V2_inv"
   ]
  },
  {
   "cell_type": "code",
   "execution_count": 7,
   "metadata": {},
   "outputs": [],
   "source": [
    "A = np.array([[60., 30., 20.],\n",
    "              [30., 20., 15.],\n",
    "              [20., 15., 12.]])\n",
    "\n",
    "w, V = np.linalg.eig(A)\n",
    "w1, w2, w3 = w\n",
    "v1 = V[:, 0:1]\n",
    "v2 = V[:, 1:2]\n",
    "v3 = V[:, 2:3]\n",
    "A1 = v1 @ v1.T\n",
    "A2 = v2 @ v2.T\n",
    "A3 = v3 @ v3.T"
   ]
  },
  {
   "cell_type": "code",
   "execution_count": 8,
   "metadata": {},
   "outputs": [
    {
     "data": {
      "text/plain": [
       "array([84.49913563,  7.33962395,  0.16124042])"
      ]
     },
     "execution_count": 8,
     "metadata": {},
     "output_type": "execute_result"
    }
   ],
   "source": [
    "w"
   ]
  },
  {
   "cell_type": "code",
   "execution_count": 9,
   "metadata": {},
   "outputs": [
    {
     "data": {
      "text/plain": [
       "array([[57.79768857, 32.13739648, 22.59357583],\n",
       "       [32.13739648, 17.8694387 , 12.56276371],\n",
       "       [22.59357583, 12.56276371,  8.83200836]])"
      ]
     },
     "execution_count": 9,
     "metadata": {},
     "output_type": "execute_result"
    }
   ],
   "source": [
    "w1 * A1"
   ]
  },
  {
   "cell_type": "code",
   "execution_count": 10,
   "metadata": {},
   "outputs": [
    {
     "data": {
      "text/plain": [
       "array([[ 2.19968372, -2.12270483, -2.60775134],\n",
       "       [-2.12270483,  2.04841985,  2.51649195],\n",
       "       [-2.60775134,  2.51649195,  3.09152039]])"
      ]
     },
     "execution_count": 10,
     "metadata": {},
     "output_type": "execute_result"
    }
   ],
   "source": [
    "w2 * A2"
   ]
  },
  {
   "cell_type": "code",
   "execution_count": 11,
   "metadata": {},
   "outputs": [
    {
     "data": {
      "text/plain": [
       "array([[ 0.00262772, -0.01469165,  0.01417551],\n",
       "       [-0.01469165,  0.08214145, -0.07925566],\n",
       "       [ 0.01417551, -0.07925566,  0.07647125]])"
      ]
     },
     "execution_count": 11,
     "metadata": {},
     "output_type": "execute_result"
    }
   ],
   "source": [
    "w3 * A3"
   ]
  },
  {
   "cell_type": "code",
   "execution_count": 12,
   "metadata": {},
   "outputs": [
    {
     "data": {
      "text/plain": [
       "array([[60., 30., 20.],\n",
       "       [30., 20., 15.],\n",
       "       [20., 15., 12.]])"
      ]
     },
     "execution_count": 12,
     "metadata": {},
     "output_type": "execute_result"
    }
   ],
   "source": [
    "w1 * A1 + w2 * A2 + w3 * A3"
   ]
  },
  {
   "cell_type": "code",
   "execution_count": 13,
   "metadata": {},
   "outputs": [
    {
     "data": {
      "text/plain": [
       "array([[ 0.15, -0.6 ,  0.5 ],\n",
       "       [-0.6 ,  3.2 , -3.  ],\n",
       "       [ 0.5 , -3.  ,  3.  ]])"
      ]
     },
     "execution_count": 13,
     "metadata": {},
     "output_type": "execute_result"
    }
   ],
   "source": [
    "np.linalg.inv(A)"
   ]
  },
  {
   "cell_type": "code",
   "execution_count": 14,
   "metadata": {},
   "outputs": [
    {
     "data": {
      "text/plain": [
       "array([[0.0080948 , 0.00450097, 0.00316432],\n",
       "       [0.00450097, 0.00250269, 0.00175947],\n",
       "       [0.00316432, 0.00175947, 0.00123696]])"
      ]
     },
     "execution_count": 14,
     "metadata": {},
     "output_type": "execute_result"
    }
   ],
   "source": [
    "1 / w1 * A1"
   ]
  },
  {
   "cell_type": "code",
   "execution_count": 15,
   "metadata": {},
   "outputs": [
    {
     "data": {
      "text/plain": [
       "array([[ 0.04083313, -0.03940415, -0.04840816],\n",
       "       [-0.03940415,  0.03802519,  0.04671409],\n",
       "       [-0.04840816,  0.04671409,  0.05738845]])"
      ]
     },
     "execution_count": 15,
     "metadata": {},
     "output_type": "execute_result"
    }
   ],
   "source": [
    "1 / w2 * A2"
   ]
  },
  {
   "cell_type": "code",
   "execution_count": 16,
   "metadata": {},
   "outputs": [
    {
     "data": {
      "text/plain": [
       "array([[ 0.10107208, -0.56509682,  0.54524384],\n",
       "       [-0.56509682,  3.15947213, -3.04847356],\n",
       "       [ 0.54524384, -3.04847356,  2.94137459]])"
      ]
     },
     "execution_count": 16,
     "metadata": {},
     "output_type": "execute_result"
    }
   ],
   "source": [
    "1 / w3 * A3"
   ]
  },
  {
   "cell_type": "code",
   "execution_count": 17,
   "metadata": {},
   "outputs": [
    {
     "data": {
      "text/plain": [
       "array([[ 0.15, -0.6 ,  0.5 ],\n",
       "       [-0.6 ,  3.2 , -3.  ],\n",
       "       [ 0.5 , -3.  ,  3.  ]])"
      ]
     },
     "execution_count": 17,
     "metadata": {},
     "output_type": "execute_result"
    }
   ],
   "source": [
    "1 / w1 * A1 + 1 / w2 * A2 + 1 / w3 * A3"
   ]
  },
  {
   "cell_type": "code",
   "execution_count": 2,
   "metadata": {},
   "outputs": [
    {
     "name": "stdout",
     "output_type": "stream",
     "text": [
      "True\n",
      "True\n"
     ]
    }
   ],
   "source": [
    "B = np.array([[2,3], [2,1]])\n",
    "\n",
    "lambda1 = 4\n",
    "v1 = np.array([3 / np.sqrt(13), 2 / np.sqrt(13)])\n",
    "\n",
    "lambda2 = -1\n",
    "v2 = np.array([-1 / np.sqrt(2), 1 / np.sqrt(2)])\n",
    "\n",
    "print(np.array_equal(np.dot(B, v1), lambda1 * v1))\n",
    "print(np.array_equal(np.dot(B, v2), lambda2 * v2))"
   ]
  },
  {
   "cell_type": "code",
   "execution_count": 3,
   "metadata": {},
   "outputs": [
    {
     "name": "stdout",
     "output_type": "stream",
     "text": [
      "[3. 1.]\n",
      "[[ 0.70710678 -0.70710678]\n",
      " [ 0.70710678  0.70710678]]\n"
     ]
    }
   ],
   "source": [
    "A = np.array([[2,1], [1,2]])\n",
    "w, V = np.linalg.eig(A)\n",
    "print(w)\n",
    "print(V)"
   ]
  },
  {
   "cell_type": "code",
   "execution_count": 4,
   "metadata": {},
   "outputs": [
    {
     "name": "stdout",
     "output_type": "stream",
     "text": [
      "[ 4. -1.]\n",
      "[[ 0.83205029 -0.70710678]\n",
      " [ 0.5547002   0.70710678]]\n"
     ]
    }
   ],
   "source": [
    "B = np.array([[2,3], [2,1]])\n",
    "w, V = np.linalg.eig(B)\n",
    "print(w)\n",
    "print(V)"
   ]
  },
  {
   "cell_type": "code",
   "execution_count": 5,
   "metadata": {},
   "outputs": [
    {
     "name": "stdout",
     "output_type": "stream",
     "text": [
      "[1. 1.]\n",
      "[[ 1.00000000e+00 -1.00000000e+00]\n",
      " [ 0.00000000e+00  2.22044605e-16]]\n"
     ]
    }
   ],
   "source": [
    "C = np.array([[1,1], [0,1]])\n",
    "w, V = np.linalg.eig(C)\n",
    "print(w)\n",
    "print(V)"
   ]
  },
  {
   "cell_type": "code",
   "execution_count": 6,
   "metadata": {},
   "outputs": [
    {
     "name": "stdout",
     "output_type": "stream",
     "text": [
      "[3. 1.]\n",
      "[[ 0.70710678 -0.70710678]\n",
      " [ 0.70710678  0.70710678]]\n"
     ]
    }
   ],
   "source": [
    "D = np.array([[2,1], [1,2]])\n",
    "w, V = np.linalg.eig(D)\n",
    "print(w)\n",
    "print(V)"
   ]
  },
  {
   "cell_type": "code",
   "execution_count": 7,
   "metadata": {},
   "outputs": [
    {
     "name": "stdout",
     "output_type": "stream",
     "text": [
      "[ 4. -1.]\n",
      "[[ 0.83205029 -0.70710678]\n",
      " [ 0.5547002   0.70710678]]\n"
     ]
    }
   ],
   "source": [
    "E = np.array([[2,3], [2,1]])\n",
    "w, V = np.linalg.eig(E)\n",
    "print(w)\n",
    "print(V)"
   ]
  },
  {
   "cell_type": "code",
   "execution_count": 8,
   "metadata": {},
   "outputs": [
    {
     "name": "stdout",
     "output_type": "stream",
     "text": [
      "[1. 1.]\n",
      "[[ 1.00000000e+00 -1.00000000e+00]\n",
      " [ 0.00000000e+00  2.22044605e-16]]\n"
     ]
    }
   ],
   "source": [
    "F = np.array([[1,1], [0,1]])\n",
    "w, V = np.linalg.eig(F)\n",
    "print(w)\n",
    "print(V)"
   ]
  },
  {
   "cell_type": "code",
   "execution_count": 11,
   "metadata": {},
   "outputs": [
    {
     "name": "stdout",
     "output_type": "stream",
     "text": [
      "[[ 0.83205029 -0.70710678]\n",
      " [ 0.5547002   0.70710678]]\n",
      "[[ 4.  0.]\n",
      " [ 0. -1.]]\n",
      "[[ 0.72111026  0.72111026]\n",
      " [-0.56568542  0.84852814]]\n",
      "[[2. 3.]\n",
      " [2. 1.]]\n"
     ]
    }
   ],
   "source": [
    "w, V = np.linalg.eig(np.array([[2,3], [2,1]]))\n",
    "Vinv = np.linalg.inv(V)\n",
    "\n",
    "print(V)\n",
    "print(np.diag(w))\n",
    "print(Vinv)\n",
    "print(np.dot(np.dot(V,np.diag(w)),Vinv))"
   ]
  },
  {
   "cell_type": "code",
   "execution_count": 12,
   "metadata": {},
   "outputs": [
    {
     "name": "stdout",
     "output_type": "stream",
     "text": [
      "[[ 1.00000000e+00 -1.00000000e+00]\n",
      " [ 0.00000000e+00  2.22044605e-16]]\n",
      "1\n"
     ]
    }
   ],
   "source": [
    "w, V = np.linalg.eig(np.array([[1,1], [0,1]]))\n",
    "print(V)\n",
    "print(np.linalg.matrix_rank(V))"
   ]
  },
  {
   "cell_type": "code",
   "execution_count": null,
   "metadata": {},
   "outputs": [],
   "source": []
  }
 ],
 "metadata": {
  "kernelspec": {
   "display_name": "Python 3",
   "language": "python",
   "name": "python3"
  },
  "language_info": {
   "codemirror_mode": {
    "name": "ipython",
    "version": 3
   },
   "file_extension": ".py",
   "mimetype": "text/x-python",
   "name": "python",
   "nbconvert_exporter": "python",
   "pygments_lexer": "ipython3",
   "version": "3.7.3"
  }
 },
 "nbformat": 4,
 "nbformat_minor": 2
}
