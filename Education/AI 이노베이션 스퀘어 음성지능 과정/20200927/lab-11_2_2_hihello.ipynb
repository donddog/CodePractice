{
 "cells": [
  {
   "cell_type": "code",
   "execution_count": 1,
   "metadata": {},
   "outputs": [],
   "source": [
    "import torch\n",
    "import torch.optim as optim\n",
    "import numpy as np"
   ]
  },
  {
   "cell_type": "code",
   "execution_count": 2,
   "metadata": {},
   "outputs": [
    {
     "data": {
      "text/plain": [
       "<torch._C.Generator at 0x118378e5f90>"
      ]
     },
     "execution_count": 2,
     "metadata": {},
     "output_type": "execute_result"
    }
   ],
   "source": [
    "torch.manual_seed(0)"
   ]
  },
  {
   "cell_type": "code",
   "execution_count": 3,
   "metadata": {},
   "outputs": [],
   "source": [
    "char_set = ['h', 'i', 'e', 'l', 'o']\n",
    "            #0    1    2    3    4  hihello 0102334"
   ]
  },
  {
   "cell_type": "code",
   "execution_count": 4,
   "metadata": {},
   "outputs": [],
   "source": [
    "input_size = len(char_set)\n",
    "hidden_size = len(char_set)\n",
    "learning_rate = 0.01"
   ]
  },
  {
   "cell_type": "code",
   "execution_count": 5,
   "metadata": {},
   "outputs": [],
   "source": [
    "x_data = [[0, 1, 0, 2, 3, 3, 4]]\n",
    "x_one_hot = [[[1, 0, 0, 0, 0],\n",
    "              [0, 1, 0, 0, 0],\n",
    "              [1, 0, 0, 0, 0],\n",
    "              [0, 0, 1, 0, 0],\n",
    "              [0, 0, 0, 1, 0],\n",
    "              [0, 0, 0, 1, 0],\n",
    "              [0, 0, 0, 0, 1]]]\n",
    "y_data = [[0, 1, 0, 2, 3, 3, 4]]"
   ]
  },
  {
   "cell_type": "code",
   "execution_count": 6,
   "metadata": {},
   "outputs": [],
   "source": [
    "X = torch.FloatTensor(x_one_hot)\n",
    "Y = torch.LongTensor(y_data)"
   ]
  },
  {
   "cell_type": "code",
   "execution_count": 7,
   "metadata": {},
   "outputs": [],
   "source": [
    "rnn = torch.nn.RNN(input_size, hidden_size, batch_first=True)"
   ]
  },
  {
   "cell_type": "code",
   "execution_count": 8,
   "metadata": {},
   "outputs": [],
   "source": [
    "criterion = torch.nn.CrossEntropyLoss()\n",
    "optimizer = optim.Adam(rnn.parameters(), learning_rate)"
   ]
  },
  {
   "cell_type": "code",
   "execution_count": 9,
   "metadata": {},
   "outputs": [
    {
     "name": "stdout",
     "output_type": "stream",
     "text": [
      "0 loss:  1.9383773803710938 prediction:  [[1 1 1 1 1 1 1]] true Y:  [[0, 1, 0, 2, 3, 3, 4]] prediction str:  iiiiiii\n",
      "1 loss:  1.911144495010376 prediction:  [[1 1 1 1 1 1 1]] true Y:  [[0, 1, 0, 2, 3, 3, 4]] prediction str:  iiiiiii\n",
      "2 loss:  1.8837435245513916 prediction:  [[1 1 1 1 1 1 1]] true Y:  [[0, 1, 0, 2, 3, 3, 4]] prediction str:  iiiiiii\n",
      "3 loss:  1.8561331033706665 prediction:  [[1 1 1 1 1 1 1]] true Y:  [[0, 1, 0, 2, 3, 3, 4]] prediction str:  iiiiiii\n",
      "4 loss:  1.8283032178878784 prediction:  [[1 1 1 1 1 1 1]] true Y:  [[0, 1, 0, 2, 3, 3, 4]] prediction str:  iiiiiii\n",
      "5 loss:  1.8004143238067627 prediction:  [[1 1 1 1 1 1 1]] true Y:  [[0, 1, 0, 2, 3, 3, 4]] prediction str:  iiiiiii\n",
      "6 loss:  1.7726770639419556 prediction:  [[1 1 0 1 1 1 1]] true Y:  [[0, 1, 0, 2, 3, 3, 4]] prediction str:  iihiiii\n",
      "7 loss:  1.7453076839447021 prediction:  [[1 0 0 1 1 1 1]] true Y:  [[0, 1, 0, 2, 3, 3, 4]] prediction str:  ihhiiii\n",
      "8 loss:  1.7185031175613403 prediction:  [[1 0 0 1 1 1 1]] true Y:  [[0, 1, 0, 2, 3, 3, 4]] prediction str:  ihhiiii\n",
      "9 loss:  1.6924173831939697 prediction:  [[1 0 0 1 1 1 1]] true Y:  [[0, 1, 0, 2, 3, 3, 4]] prediction str:  ihhiiii\n",
      "10 loss:  1.667153239250183 prediction:  [[1 0 0 1 1 1 1]] true Y:  [[0, 1, 0, 2, 3, 3, 4]] prediction str:  ihhiiii\n",
      "11 loss:  1.6427688598632812 prediction:  [[0 0 0 1 1 1 1]] true Y:  [[0, 1, 0, 2, 3, 3, 4]] prediction str:  hhhiiii\n",
      "12 loss:  1.6192902326583862 prediction:  [[0 0 0 1 1 4 1]] true Y:  [[0, 1, 0, 2, 3, 3, 4]] prediction str:  hhhiioi\n",
      "13 loss:  1.5967191457748413 prediction:  [[0 0 0 1 1 4 1]] true Y:  [[0, 1, 0, 2, 3, 3, 4]] prediction str:  hhhiioi\n",
      "14 loss:  1.5750372409820557 prediction:  [[0 0 0 1 1 4 1]] true Y:  [[0, 1, 0, 2, 3, 3, 4]] prediction str:  hhhiioi\n",
      "15 loss:  1.554203987121582 prediction:  [[0 0 0 1 1 4 1]] true Y:  [[0, 1, 0, 2, 3, 3, 4]] prediction str:  hhhiioi\n",
      "16 loss:  1.5341594219207764 prediction:  [[0 0 0 1 1 4 1]] true Y:  [[0, 1, 0, 2, 3, 3, 4]] prediction str:  hhhiioi\n",
      "17 loss:  1.5148303508758545 prediction:  [[0 0 0 1 1 4 1]] true Y:  [[0, 1, 0, 2, 3, 3, 4]] prediction str:  hhhiioi\n",
      "18 loss:  1.4961382150650024 prediction:  [[0 0 0 1 1 4 4]] true Y:  [[0, 1, 0, 2, 3, 3, 4]] prediction str:  hhhiioo\n",
      "19 loss:  1.4780062437057495 prediction:  [[0 0 0 1 1 4 4]] true Y:  [[0, 1, 0, 2, 3, 3, 4]] prediction str:  hhhiioo\n",
      "20 loss:  1.4603607654571533 prediction:  [[0 0 0 3 1 4 4]] true Y:  [[0, 1, 0, 2, 3, 3, 4]] prediction str:  hhhlioo\n",
      "21 loss:  1.443132996559143 prediction:  [[0 0 0 3 3 4 4]] true Y:  [[0, 1, 0, 2, 3, 3, 4]] prediction str:  hhhlloo\n",
      "22 loss:  1.4262571334838867 prediction:  [[0 0 0 3 3 4 4]] true Y:  [[0, 1, 0, 2, 3, 3, 4]] prediction str:  hhhlloo\n",
      "23 loss:  1.4096733331680298 prediction:  [[0 0 0 0 3 4 4]] true Y:  [[0, 1, 0, 2, 3, 3, 4]] prediction str:  hhhhloo\n",
      "24 loss:  1.3933264017105103 prediction:  [[0 0 0 0 3 2 4]] true Y:  [[0, 1, 0, 2, 3, 3, 4]] prediction str:  hhhhleo\n",
      "25 loss:  1.37716805934906 prediction:  [[0 0 0 2 3 2 4]] true Y:  [[0, 1, 0, 2, 3, 3, 4]] prediction str:  hhheleo\n",
      "26 loss:  1.3611546754837036 prediction:  [[0 0 0 2 3 2 4]] true Y:  [[0, 1, 0, 2, 3, 3, 4]] prediction str:  hhheleo\n",
      "27 loss:  1.3452452421188354 prediction:  [[0 0 0 2 3 2 4]] true Y:  [[0, 1, 0, 2, 3, 3, 4]] prediction str:  hhheleo\n",
      "28 loss:  1.3294003009796143 prediction:  [[0 0 0 2 3 3 4]] true Y:  [[0, 1, 0, 2, 3, 3, 4]] prediction str:  hhhello\n",
      "29 loss:  1.313580870628357 prediction:  [[0 0 0 2 3 3 4]] true Y:  [[0, 1, 0, 2, 3, 3, 4]] prediction str:  hhhello\n",
      "30 loss:  1.2977498769760132 prediction:  [[0 0 0 2 3 3 4]] true Y:  [[0, 1, 0, 2, 3, 3, 4]] prediction str:  hhhello\n",
      "31 loss:  1.2818725109100342 prediction:  [[0 0 0 2 3 3 4]] true Y:  [[0, 1, 0, 2, 3, 3, 4]] prediction str:  hhhello\n",
      "32 loss:  1.2659194469451904 prediction:  [[0 0 0 2 3 3 4]] true Y:  [[0, 1, 0, 2, 3, 3, 4]] prediction str:  hhhello\n",
      "33 loss:  1.249867558479309 prediction:  [[0 0 0 2 3 3 4]] true Y:  [[0, 1, 0, 2, 3, 3, 4]] prediction str:  hhhello\n",
      "34 loss:  1.2337006330490112 prediction:  [[0 0 0 2 3 3 4]] true Y:  [[0, 1, 0, 2, 3, 3, 4]] prediction str:  hhhello\n",
      "35 loss:  1.217410683631897 prediction:  [[0 0 0 2 3 3 4]] true Y:  [[0, 1, 0, 2, 3, 3, 4]] prediction str:  hhhello\n",
      "36 loss:  1.2009966373443604 prediction:  [[0 0 0 2 3 3 4]] true Y:  [[0, 1, 0, 2, 3, 3, 4]] prediction str:  hhhello\n",
      "37 loss:  1.1844673156738281 prediction:  [[0 0 0 2 3 3 4]] true Y:  [[0, 1, 0, 2, 3, 3, 4]] prediction str:  hhhello\n",
      "38 loss:  1.1678411960601807 prediction:  [[0 0 0 2 3 3 4]] true Y:  [[0, 1, 0, 2, 3, 3, 4]] prediction str:  hhhello\n",
      "39 loss:  1.1511491537094116 prediction:  [[0 0 0 2 3 3 4]] true Y:  [[0, 1, 0, 2, 3, 3, 4]] prediction str:  hhhello\n",
      "40 loss:  1.134434461593628 prediction:  [[0 0 0 2 3 3 4]] true Y:  [[0, 1, 0, 2, 3, 3, 4]] prediction str:  hhhello\n",
      "41 loss:  1.1177537441253662 prediction:  [[0 0 0 2 3 3 4]] true Y:  [[0, 1, 0, 2, 3, 3, 4]] prediction str:  hhhello\n",
      "42 loss:  1.1011728048324585 prediction:  [[0 1 0 2 3 3 4]] true Y:  [[0, 1, 0, 2, 3, 3, 4]] prediction str:  hihello\n",
      "43 loss:  1.0847643613815308 prediction:  [[0 1 0 2 3 3 4]] true Y:  [[0, 1, 0, 2, 3, 3, 4]] prediction str:  hihello\n",
      "44 loss:  1.0686004161834717 prediction:  [[0 1 0 2 3 3 4]] true Y:  [[0, 1, 0, 2, 3, 3, 4]] prediction str:  hihello\n"
     ]
    }
   ],
   "source": [
    "for i in range(45):\n",
    "    optimizer.zero_grad()\n",
    "    outputs, _status = rnn(X)\n",
    "    loss = criterion(outputs.view(-1, input_size), Y.view(-1))\n",
    "    loss.backward()\n",
    "    optimizer.step()\n",
    "\n",
    "    result = outputs.data.numpy().argmax(axis=2)\n",
    "    result_str = ''.join([char_set[c] for c in np.squeeze(result)])\n",
    "    \n",
    "    print(i, \"loss: \", loss.item(), \"prediction: \", result, \"true Y: \", y_data, \"prediction str: \", result_str)"
   ]
  },
  {
   "cell_type": "code",
   "execution_count": null,
   "metadata": {},
   "outputs": [],
   "source": []
  }
 ],
 "metadata": {
  "kernelspec": {
   "display_name": "Python 3",
   "language": "python",
   "name": "python3"
  },
  "language_info": {
   "codemirror_mode": {
    "name": "ipython",
    "version": 3
   },
   "file_extension": ".py",
   "mimetype": "text/x-python",
   "name": "python",
   "nbconvert_exporter": "python",
   "pygments_lexer": "ipython3",
   "version": "3.7.9"
  }
 },
 "nbformat": 4,
 "nbformat_minor": 2
}
