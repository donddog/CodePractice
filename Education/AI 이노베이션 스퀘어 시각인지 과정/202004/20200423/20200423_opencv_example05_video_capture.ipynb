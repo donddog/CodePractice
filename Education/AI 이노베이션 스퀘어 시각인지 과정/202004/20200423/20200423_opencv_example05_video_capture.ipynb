{
 "cells": [
  {
   "cell_type": "code",
   "execution_count": 1,
   "metadata": {},
   "outputs": [],
   "source": [
    "import cv2 as cv\n",
    "import numpy as np"
   ]
  },
  {
   "cell_type": "code",
   "execution_count": 3,
   "metadata": {},
   "outputs": [
    {
     "name": "stdout",
     "output_type": "stream",
     "text": [
      "width, height =  0.0 0.0\n"
     ]
    }
   ],
   "source": [
    "capture = cv.VideoCapture(0)\n",
    "width = int(capture.get(cv.CAP_PROP_FRAME_WIDTH))\n",
    "height = int(capture.get(cv.CAP_PROP_FRAME_HEIGHT))\n",
    "fps = capture.get(cv.CAP_PROP_FPS)\n",
    "\n",
    "print('width, height, fps = ', width, height, fps)\n",
    "\n",
    "fourcc = cv.VideoWriter_fourcc(*'XVID')\n",
    "writer = cv.VideoWriter('capture.avi', fourcc, fps, (width, height))\n",
    "\n",
    "while True:\n",
    "    ret, frame = capture.read()\n",
    "    wirter.write(frame)\n",
    "    cv.imshow('frame', frame)\n",
    "    if cv.waitKey(1) == 27:\n",
    "        break\n",
    "\n",
    "capture.release()\n",
    "writer.release()"
   ]
  },
  {
   "cell_type": "code",
   "execution_count": null,
   "metadata": {},
   "outputs": [],
   "source": []
  }
 ],
 "metadata": {
  "kernelspec": {
   "display_name": "Python 3",
   "language": "python",
   "name": "python3"
  },
  "language_info": {
   "codemirror_mode": {
    "name": "ipython",
    "version": 3
   },
   "file_extension": ".py",
   "mimetype": "text/x-python",
   "name": "python",
   "nbconvert_exporter": "python",
   "pygments_lexer": "ipython3",
   "version": "3.7.6"
  }
 },
 "nbformat": 4,
 "nbformat_minor": 4
}
