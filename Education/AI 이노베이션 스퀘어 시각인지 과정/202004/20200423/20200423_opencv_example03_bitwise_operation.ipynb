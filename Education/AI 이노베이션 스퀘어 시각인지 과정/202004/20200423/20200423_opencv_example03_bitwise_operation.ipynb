{
 "cells": [
  {
   "cell_type": "code",
   "execution_count": 1,
   "metadata": {},
   "outputs": [],
   "source": [
    "import cv2 as cv\n",
    "import numpy as np"
   ]
  },
  {
   "cell_type": "code",
   "execution_count": 2,
   "metadata": {},
   "outputs": [],
   "source": [
    "img1 = np.zeros((300, 300), np.uint8)\n",
    "img2 = np.zeros((300, 300), np.uint8)\n",
    "mask = np.zeros((300, 300), np.uint8)"
   ]
  },
  {
   "cell_type": "code",
   "execution_count": 3,
   "metadata": {},
   "outputs": [],
   "source": [
    "cv.circle(img1, (150, 150), 100, 255, 10)\n",
    "cv.imshow('img1', img1)\n",
    "cv.waitKey()\n",
    "cv.destroyAllWindows()"
   ]
  },
  {
   "cell_type": "code",
   "execution_count": 4,
   "metadata": {},
   "outputs": [],
   "source": [
    "cv.circle(img1, (150, 150), 100, 255, -1)\n",
    "cv.imshow('img1', img1)\n",
    "cv.waitKey()\n",
    "cv.destroyAllWindows()"
   ]
  },
  {
   "cell_type": "code",
   "execution_count": 5,
   "metadata": {},
   "outputs": [],
   "source": [
    "cv.rectangle(img2, (0, 0), (150, 300), 255, -1)\n",
    "cv.imshow('img2', img2)\n",
    "cv.waitKey()\n",
    "cv.destroyAllWindows()"
   ]
  },
  {
   "cell_type": "code",
   "execution_count": 6,
   "metadata": {},
   "outputs": [],
   "source": [
    "cv.rectangle(mask, (0, 0), (300, 150), 255, -1)\n",
    "cv.imshow('mask', mask)\n",
    "cv.waitKey()\n",
    "cv.destroyAllWindows()"
   ]
  },
  {
   "cell_type": "code",
   "execution_count": 7,
   "metadata": {},
   "outputs": [],
   "source": [
    "img_and_img2 = cv.bitwise_and(img1, img2)\n",
    "cv.imshow('img_and_img2', img_and_img2)\n",
    "cv.waitKey()\n",
    "cv.destroyAllWindows()"
   ]
  },
  {
   "cell_type": "code",
   "execution_count": 8,
   "metadata": {},
   "outputs": [],
   "source": [
    "img_and_img2_mask = cv.bitwise_and(img1, img2, mask=mask)\n",
    "cv.imshow('img_and_img2_mask', img_and_img2_mask)\n",
    "cv.waitKey()\n",
    "cv.destroyAllWindows()"
   ]
  },
  {
   "cell_type": "code",
   "execution_count": 9,
   "metadata": {},
   "outputs": [],
   "source": [
    "dst_img = np.full((300, 300), 127, dtype=np.uint8)\n",
    "cv.bitwise_and(img1, img2, dst=dst_img, mask=mask)\n",
    "cv.imshow('dst_img', dst_img)\n",
    "cv.waitKey()\n",
    "cv.destroyAllWindows()"
   ]
  },
  {
   "cell_type": "code",
   "execution_count": 10,
   "metadata": {},
   "outputs": [],
   "source": [
    "img1_or_img2_mask = cv.bitwise_or(img1, img2, mask=mask)\n",
    "cv.imshow('img_or_img2_mask', img_or_img2_mask)\n",
    "cv.waitKey()\n",
    "cv.destroyAllWindows()"
   ]
  },
  {
   "cell_type": "code",
   "execution_count": 11,
   "metadata": {},
   "outputs": [],
   "source": [
    "img1_xor_img2_mask = cv.bitwise_xor(img1, img2, mask=mask)\n",
    "cv.imshow('img_xor_img2_mask', img_xor_img2_mask)\n",
    "cv.waitKey()\n",
    "cv.destroyAllWindows()"
   ]
  },
  {
   "cell_type": "code",
   "execution_count": 12,
   "metadata": {},
   "outputs": [],
   "source": [
    "not_img1_mask = cv.bitwise_not(img1, mask=mask)\n",
    "cv.imshow('not_img1_mask', not_img1_mask)\n",
    "cv.waitKey()\n",
    "cv.destroyAllWindows()"
   ]
  },
  {
   "cell_type": "code",
   "execution_count": null,
   "metadata": {},
   "outputs": [],
   "source": []
  }
 ],
 "metadata": {
  "kernelspec": {
   "display_name": "Python 3",
   "language": "python",
   "name": "python3"
  },
  "language_info": {
   "codemirror_mode": {
    "name": "ipython",
    "version": 3
   },
   "file_extension": ".py",
   "mimetype": "text/x-python",
   "name": "python",
   "nbconvert_exporter": "python",
   "pygments_lexer": "ipython3",
   "version": "3.7.6"
  }
 },
 "nbformat": 4,
 "nbformat_minor": 4
}
