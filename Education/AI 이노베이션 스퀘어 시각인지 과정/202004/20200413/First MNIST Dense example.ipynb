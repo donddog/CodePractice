{
 "cells": [
  {
   "cell_type": "code",
   "execution_count": 1,
   "metadata": {
    "colab": {
     "base_uri": "https://localhost:8080/",
     "height": 55
    },
    "colab_type": "code",
    "executionInfo": {
     "elapsed": 1874,
     "status": "ok",
     "timestamp": 1557664108418,
     "user": {
      "displayName": "홍영택",
      "photoUrl": "",
      "userId": "07745513884090459913"
     },
     "user_tz": -540
    },
    "id": "PyDNR3KJA9jV",
    "outputId": "e79537d9-90fd-464a-cbd5-adaa3514b9d1"
   },
   "outputs": [
    {
     "name": "stderr",
     "output_type": "stream",
     "text": [
      "Using TensorFlow backend.\n"
     ]
    },
    {
     "data": {
      "text/plain": [
       "'2.3.1'"
      ]
     },
     "execution_count": 1,
     "metadata": {},
     "output_type": "execute_result"
    }
   ],
   "source": [
    "import warnings\n",
    "\n",
    "warnings.filterwarnings(action='ignore')\n",
    "\n",
    "import keras\n",
    "keras.__version__"
   ]
  },
  {
   "cell_type": "code",
   "execution_count": 2,
   "metadata": {
    "colab": {
     "base_uri": "https://localhost:8080/",
     "height": 92
    },
    "colab_type": "code",
    "executionInfo": {
     "elapsed": 1200,
     "status": "ok",
     "timestamp": 1557664114032,
     "user": {
      "displayName": "홍영택",
      "photoUrl": "",
      "userId": "07745513884090459913"
     },
     "user_tz": -540
    },
    "id": "mGnQe6gWA_cg",
    "outputId": "5a5c2431-588e-4915-add3-3febf136fe12"
   },
   "outputs": [
    {
     "name": "stdout",
     "output_type": "stream",
     "text": [
      "(60000, 28, 28) [5 0 4 ... 5 6 8]\n"
     ]
    }
   ],
   "source": [
    "from keras.datasets import mnist\n",
    "\n",
    "(train_images, train_labels), (test_images, test_labels) = mnist.load_data()\n",
    "\n",
    "print(train_images.shape, train_labels)"
   ]
  },
  {
   "cell_type": "code",
   "execution_count": 3,
   "metadata": {
    "colab": {
     "base_uri": "https://localhost:8080/",
     "height": 36
    },
    "colab_type": "code",
    "executionInfo": {
     "elapsed": 726,
     "status": "ok",
     "timestamp": 1557664121430,
     "user": {
      "displayName": "홍영택",
      "photoUrl": "",
      "userId": "07745513884090459913"
     },
     "user_tz": -540
    },
    "id": "jNsnkzdiBCCn",
    "outputId": "4f947feb-26dc-4efb-8308-73584911ead4"
   },
   "outputs": [
    {
     "data": {
      "text/plain": [
       "(60000, 28, 28)"
      ]
     },
     "execution_count": 3,
     "metadata": {},
     "output_type": "execute_result"
    }
   ],
   "source": [
    "train_images.shape"
   ]
  },
  {
   "cell_type": "code",
   "execution_count": 4,
   "metadata": {
    "colab": {
     "base_uri": "https://localhost:8080/",
     "height": 55
    },
    "colab_type": "code",
    "executionInfo": {
     "elapsed": 856,
     "status": "ok",
     "timestamp": 1557664128111,
     "user": {
      "displayName": "홍영택",
      "photoUrl": "",
      "userId": "07745513884090459913"
     },
     "user_tz": -540
    },
    "id": "jx5PMC1bBD9n",
    "outputId": "b45bdbcd-8c98-4cfa-814b-ba8d9d12d7d8"
   },
   "outputs": [
    {
     "name": "stdout",
     "output_type": "stream",
     "text": [
      "60000 60000\n",
      "60000 28 28\n"
     ]
    }
   ],
   "source": [
    "print( len(train_labels), train_images.shape[0])\n",
    "\n",
    "a, b, c = train_images.shape\n",
    "\n",
    "print( a, b, c)"
   ]
  },
  {
   "cell_type": "code",
   "execution_count": 5,
   "metadata": {
    "colab": {
     "base_uri": "https://localhost:8080/",
     "height": 36
    },
    "colab_type": "code",
    "executionInfo": {
     "elapsed": 918,
     "status": "ok",
     "timestamp": 1557664133017,
     "user": {
      "displayName": "홍영택",
      "photoUrl": "",
      "userId": "07745513884090459913"
     },
     "user_tz": -540
    },
    "id": "I81C-micBFj3",
    "outputId": "41a68d22-380f-4f24-c754-6535dfbf8b42"
   },
   "outputs": [
    {
     "data": {
      "text/plain": [
       "5"
      ]
     },
     "execution_count": 5,
     "metadata": {},
     "output_type": "execute_result"
    }
   ],
   "source": [
    "train_labels[0]"
   ]
  },
  {
   "cell_type": "code",
   "execution_count": 6,
   "metadata": {
    "colab": {
     "base_uri": "https://localhost:8080/",
     "height": 36
    },
    "colab_type": "code",
    "executionInfo": {
     "elapsed": 696,
     "status": "ok",
     "timestamp": 1557664142665,
     "user": {
      "displayName": "홍영택",
      "photoUrl": "",
      "userId": "07745513884090459913"
     },
     "user_tz": -540
    },
    "id": "m4hpF3MPBGvn",
    "outputId": "ff59c9a2-aab4-4079-80f1-c08f82a952d5"
   },
   "outputs": [
    {
     "data": {
      "text/plain": [
       "(10000, 28, 28)"
      ]
     },
     "execution_count": 6,
     "metadata": {},
     "output_type": "execute_result"
    }
   ],
   "source": [
    "test_images.shape"
   ]
  },
  {
   "cell_type": "code",
   "execution_count": 7,
   "metadata": {
    "colab": {
     "base_uri": "https://localhost:8080/",
     "height": 36
    },
    "colab_type": "code",
    "executionInfo": {
     "elapsed": 585,
     "status": "ok",
     "timestamp": 1557664146205,
     "user": {
      "displayName": "홍영택",
      "photoUrl": "",
      "userId": "07745513884090459913"
     },
     "user_tz": -540
    },
    "id": "uuOjt7wJBJJ3",
    "outputId": "e298a270-3968-480d-a914-bbcbaf3730ad"
   },
   "outputs": [
    {
     "data": {
      "text/plain": [
       "10000"
      ]
     },
     "execution_count": 7,
     "metadata": {},
     "output_type": "execute_result"
    }
   ],
   "source": [
    "len(test_labels)"
   ]
  },
  {
   "cell_type": "code",
   "execution_count": 8,
   "metadata": {
    "colab": {
     "base_uri": "https://localhost:8080/",
     "height": 36
    },
    "colab_type": "code",
    "executionInfo": {
     "elapsed": 575,
     "status": "ok",
     "timestamp": 1557664150134,
     "user": {
      "displayName": "홍영택",
      "photoUrl": "",
      "userId": "07745513884090459913"
     },
     "user_tz": -540
    },
    "id": "jLnWUE8qBKC3",
    "outputId": "d08e00dd-3ec6-47d8-d6cf-e64c9a5b62be"
   },
   "outputs": [
    {
     "data": {
      "text/plain": [
       "array([7, 2, 1, ..., 4, 5, 6], dtype=uint8)"
      ]
     },
     "execution_count": 8,
     "metadata": {},
     "output_type": "execute_result"
    }
   ],
   "source": [
    "test_labels"
   ]
  },
  {
   "cell_type": "code",
   "execution_count": 9,
   "metadata": {
    "colab": {
     "base_uri": "https://localhost:8080/",
     "height": 288
    },
    "colab_type": "code",
    "executionInfo": {
     "elapsed": 731,
     "status": "ok",
     "timestamp": 1557664160911,
     "user": {
      "displayName": "홍영택",
      "photoUrl": "",
      "userId": "07745513884090459913"
     },
     "user_tz": -540
    },
    "id": "MmmJzIEWBLAX",
    "outputId": "30833287-3c2c-48e7-cf98-1d4b0cf0dd86"
   },
   "outputs": [
    {
     "name": "stdout",
     "output_type": "stream",
     "text": [
      "5\n",
      "\n"
     ]
    },
    {
     "data": {
      "image/png": "[encoded data removed]",
      "text/plain": [
       "<Figure size 432x288 with 1 Axes>"
      ]
     },
     "metadata": {
      "needs_background": "light"
     },
     "output_type": "display_data"
    }
   ],
   "source": [
    "import matplotlib.pyplot as plt\n",
    "\n",
    "digit = train_images[0]\n",
    "\n",
    "print( train_labels[0])\n",
    "print()\n",
    "\n",
    "plt.imshow(digit, cmap=plt.cm.binary)\n",
    "plt.show()"
   ]
  },
  {
   "cell_type": "code",
   "execution_count": 10,
   "metadata": {
    "colab": {
     "base_uri": "https://localhost:8080/",
     "height": 93
    },
    "colab_type": "code",
    "executionInfo": {
     "elapsed": 568,
     "status": "ok",
     "timestamp": 1557664166118,
     "user": {
      "displayName": "홍영택",
      "photoUrl": "",
      "userId": "07745513884090459913"
     },
     "user_tz": -540
    },
    "id": "QtevXbONBNmR",
    "outputId": "693e7530-b42c-4441-b510-4b3cf8a5f850"
   },
   "outputs": [],
   "source": [
    "from keras import models\n",
    "from keras import layers\n",
    "\n",
    "network = models.Sequential()\n",
    "network.add(layers.Dense(512, activation='relu', input_shape=(28 * 28,)))\n",
    "network.add(layers.Dense(10, activation='softmax'))"
   ]
  },
  {
   "cell_type": "code",
   "execution_count": 11,
   "metadata": {
    "colab": {},
    "colab_type": "code",
    "id": "za44ayEDBO6P"
   },
   "outputs": [],
   "source": [
    "network.compile(optimizer='rmsprop',\n",
    "                loss='categorical_crossentropy',\n",
    "                metrics=['accuracy'])"
   ]
  },
  {
   "cell_type": "code",
   "execution_count": 12,
   "metadata": {
    "colab": {},
    "colab_type": "code",
    "id": "On-gdvLEBQZf"
   },
   "outputs": [],
   "source": [
    "train_images = train_images.reshape((60000, 28 * 28))\n",
    "train_images = train_images.astype('float32') / 255\n",
    "\n",
    "test_images = test_images.reshape((10000, 28 * 28))\n",
    "test_images = test_images.astype('float32') / 255"
   ]
  },
  {
   "cell_type": "code",
   "execution_count": 13,
   "metadata": {
    "colab": {},
    "colab_type": "code",
    "id": "3230c782BR2v"
   },
   "outputs": [],
   "source": [
    "from keras.utils import to_categorical\n",
    "\n",
    "train_labels = to_categorical(train_labels)\n",
    "test_labels = to_categorical(test_labels)"
   ]
  },
  {
   "cell_type": "code",
   "execution_count": 14,
   "metadata": {
    "colab": {
     "base_uri": "https://localhost:8080/",
     "height": 299
    },
    "colab_type": "code",
    "executionInfo": {
     "elapsed": 29637,
     "status": "ok",
     "timestamp": 1557664216730,
     "user": {
      "displayName": "홍영택",
      "photoUrl": "",
      "userId": "07745513884090459913"
     },
     "user_tz": -540
    },
    "id": "oVfWUTOeBS9X",
    "outputId": "08f583b0-db1f-4838-c76f-3769dc442cde"
   },
   "outputs": [
    {
     "name": "stdout",
     "output_type": "stream",
     "text": [
      "WARNING:tensorflow:From C:\\Anaconda\\lib\\site-packages\\keras\\backend\\tensorflow_backend.py:422: The name tf.global_variables is deprecated. Please use tf.compat.v1.global_variables instead.\n",
      "\n",
      "Epoch 1/5\n",
      "60000/60000 [==============================] - 1s 23us/step - loss: 0.2565 - accuracy: 0.9253\n",
      "Epoch 2/5\n",
      "60000/60000 [==============================] - 1s 15us/step - loss: 0.1046 - accuracy: 0.9687\n",
      "Epoch 3/5\n",
      "60000/60000 [==============================] - 1s 15us/step - loss: 0.0695 - accuracy: 0.9788\n",
      "Epoch 4/5\n",
      "60000/60000 [==============================] - 1s 15us/step - loss: 0.0510 - accuracy: 0.9846\n",
      "Epoch 5/5\n",
      "60000/60000 [==============================] - 1s 15us/step - loss: 0.0373 - accuracy: 0.9890\n"
     ]
    },
    {
     "data": {
      "text/plain": [
       "<keras.callbacks.callbacks.History at 0x2095b869fc8>"
      ]
     },
     "execution_count": 14,
     "metadata": {},
     "output_type": "execute_result"
    }
   ],
   "source": [
    "network.fit(train_images, train_labels, epochs=5, batch_size=128)"
   ]
  },
  {
   "cell_type": "code",
   "execution_count": 15,
   "metadata": {
    "colab": {
     "base_uri": "https://localhost:8080/",
     "height": 36
    },
    "colab_type": "code",
    "executionInfo": {
     "elapsed": 2539,
     "status": "ok",
     "timestamp": 1557664222741,
     "user": {
      "displayName": "홍영택",
      "photoUrl": "",
      "userId": "07745513884090459913"
     },
     "user_tz": -540
    },
    "id": "DMY6M1DeBUKv",
    "outputId": "95b3ed60-a314-4a4b-b2f8-8a51b9b58695"
   },
   "outputs": [
    {
     "name": "stdout",
     "output_type": "stream",
     "text": [
      "10000/10000 [==============================] - 0s 35us/step\n"
     ]
    }
   ],
   "source": [
    "test_loss, test_acc = network.evaluate(test_images, test_labels)"
   ]
  },
  {
   "cell_type": "code",
   "execution_count": 16,
   "metadata": {
    "colab": {
     "base_uri": "https://localhost:8080/",
     "height": 36
    },
    "colab_type": "code",
    "executionInfo": {
     "elapsed": 669,
     "status": "ok",
     "timestamp": 1557664226348,
     "user": {
      "displayName": "홍영택",
      "photoUrl": "",
      "userId": "07745513884090459913"
     },
     "user_tz": -540
    },
    "id": "K33plkrJBcP_",
    "outputId": "b2faa66e-83c0-4faf-ff4e-9b1ba9f280df"
   },
   "outputs": [
    {
     "name": "stdout",
     "output_type": "stream",
     "text": [
      "test_acc: 0.978600025177002\n"
     ]
    }
   ],
   "source": [
    "print('test_acc:', test_acc)"
   ]
  },
  {
   "cell_type": "code",
   "execution_count": null,
   "metadata": {
    "colab": {},
    "colab_type": "code",
    "id": "qnoSq3CBBdln"
   },
   "outputs": [],
   "source": []
  }
 ],
 "metadata": {
  "colab": {
   "name": "Untitled6.ipynb",
   "provenance": [],
   "version": "0.3.2"
  },
  "kernelspec": {
   "display_name": "Python 3",
   "language": "python",
   "name": "python3"
  },
  "language_info": {
   "codemirror_mode": {
    "name": "ipython",
    "version": 3
   },
   "file_extension": ".py",
   "mimetype": "text/x-python",
   "name": "python",
   "nbconvert_exporter": "python",
   "pygments_lexer": "ipython3",
   "version": "3.7.6"
  }
 },
 "nbformat": 4,
 "nbformat_minor": 1
}
