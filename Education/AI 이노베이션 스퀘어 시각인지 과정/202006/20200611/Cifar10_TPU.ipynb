{
  "nbformat": 4,
  "nbformat_minor": 0,
  "metadata": {
    "colab": {
      "name": "Cifar10_TPU.ipynb",
      "provenance": [],
      "collapsed_sections": []
    },
    "kernelspec": {
      "name": "python3",
      "display_name": "Python 3"
    },
    "accelerator": "TPU"
  },
  "cells": [
    {
      "cell_type": "code",
      "metadata": {
        "id": "o_i606WVbmw2",
        "colab_type": "code",
        "outputId": "d2dd84c5-ce31-46dc-c57c-cd7f7bf13b4a",
        "colab": {
          "base_uri": "https://localhost:8080/",
          "height": 34
        }
      },
      "source": [
        "%tensorflow_version 1.x"
      ],
      "execution_count": 0,
      "outputs": [
        {
          "output_type": "stream",
          "text": [
            "TensorFlow 1.x selected.\n"
          ],
          "name": "stdout"
        }
      ]
    },
    {
      "cell_type": "code",
      "metadata": {
        "id": "IJZC9Iug3ZYS",
        "colab_type": "code",
        "outputId": "ca10b702-eb91-479f-f31b-1e303a1556ab",
        "colab": {
          "base_uri": "https://localhost:8080/",
          "height": 34
        }
      },
      "source": [
        "import os\n",
        "import numpy as np\n",
        "import tensorflow as tf\n",
        "from keras.datasets import cifar10\n",
        "from tensorflow.keras import layers\n",
        "from tensorflow.keras.models import Sequential, Model\n",
        "from tensorflow.keras.layers import Dense, Dropout, Activation, Flatten, Dropout, Conv1D, GlobalMaxPooling1D, MaxPooling1D, AveragePooling1D, Bidirectional\n",
        "from tensorflow.keras.layers import Conv2D, MaxPooling2D, MaxPooling1D, GlobalAveragePooling2D, BatchNormalization, LeakyReLU, LSTM, Concatenate\n",
        "from tensorflow.keras.utils import to_categorical\n",
        "from tensorflow.keras.callbacks import Callback\n",
        "from tensorflow.keras.models import load_model\n",
        "from tensorflow.keras.optimizers import Adam\n",
        "from tensorflow import keras\n",
        "import random"
      ],
      "execution_count": 0,
      "outputs": [
        {
          "output_type": "stream",
          "text": [
            "Using TensorFlow backend.\n"
          ],
          "name": "stderr"
        }
      ]
    },
    {
      "cell_type": "code",
      "metadata": {
        "id": "e32h2VgNnH60",
        "colab_type": "code",
        "outputId": "9b96cd9d-65ca-48c4-c4a8-43c4cf5d385c",
        "colab": {
          "base_uri": "https://localhost:8080/",
          "height": 268
        }
      },
      "source": [
        "from google.colab import auth\n",
        "auth.authenticate_user()\n",
        "\n",
        "from google.colab import drive\n",
        "drive.mount('/content/gdrive')"
      ],
      "execution_count": 0,
      "outputs": [
        {
          "output_type": "stream",
          "text": [
            "WARNING:tensorflow:\n",
            "The TensorFlow contrib module will not be included in TensorFlow 2.0.\n",
            "For more information, please see:\n",
            "  * https://github.com/tensorflow/community/blob/master/rfcs/20180907-contrib-sunset.md\n",
            "  * https://github.com/tensorflow/addons\n",
            "  * https://github.com/tensorflow/io (for I/O related ops)\n",
            "If you depend on functionality not listed there, please file an issue.\n",
            "\n",
            "Go to this URL in a browser: https://accounts.google.com/o/oauth2/auth?client_id=947318989803-6bn6qk8qdgf4n4g3pfee6491hc0brc4i.apps.googleusercontent.com&redirect_uri=urn%3aietf%3awg%3aoauth%3a2.0%3aoob&response_type=code&scope=email%20https%3a%2f%2fwww.googleapis.com%2fauth%2fdocs.test%20https%3a%2f%2fwww.googleapis.com%2fauth%2fdrive%20https%3a%2f%2fwww.googleapis.com%2fauth%2fdrive.photos.readonly%20https%3a%2f%2fwww.googleapis.com%2fauth%2fpeopleapi.readonly\n",
            "\n",
            "Enter your authorization code:\n",
            "··········\n",
            "Mounted at /content/gdrive\n"
          ],
          "name": "stdout"
        }
      ]
    },
    {
      "cell_type": "code",
      "metadata": {
        "id": "pBn-DdtanM9D",
        "colab_type": "code",
        "outputId": "b9f0a1da-b8dc-4559-accb-41879bfeae93",
        "colab": {
          "base_uri": "https://localhost:8080/",
          "height": 34
        }
      },
      "source": [
        "cd gdrive/My Drive/Colab Notebooks/models"
      ],
      "execution_count": 0,
      "outputs": [
        {
          "output_type": "stream",
          "text": [
            "/content/gdrive/My Drive/Colab Notebooks/models\n"
          ],
          "name": "stdout"
        }
      ]
    },
    {
      "cell_type": "code",
      "metadata": {
        "id": "xN76jTnaJku7",
        "colab_type": "code",
        "colab": {}
      },
      "source": [
        "batch_size = 16\n",
        "# target class\n",
        "num_classes = 10\n",
        "\n",
        "epochs = 25"
      ],
      "execution_count": 0,
      "outputs": []
    },
    {
      "cell_type": "code",
      "metadata": {
        "id": "GwgPYTeRciqH",
        "colab_type": "code",
        "outputId": "1a520bc9-8811-4093-aa4a-b0bbf079866c",
        "colab": {
          "base_uri": "https://localhost:8080/",
          "height": 52
        }
      },
      "source": [
        "# The data, split between train and test sets:\n",
        "(x_train, y_train), (x_test, y_test) = cifar10.load_data()"
      ],
      "execution_count": 0,
      "outputs": [
        {
          "output_type": "stream",
          "text": [
            "Downloading data from https://www.cs.toronto.edu/~kriz/cifar-10-python.tar.gz\n",
            "170500096/170498071 [==============================] - 4s 0us/step\n"
          ],
          "name": "stdout"
        }
      ]
    },
    {
      "cell_type": "code",
      "metadata": {
        "id": "BuwjP0yeJlyu",
        "colab_type": "code",
        "outputId": "29699290-9af7-4cd0-f625-4e007e6296f1",
        "colab": {
          "base_uri": "https://localhost:8080/",
          "height": 70
        }
      },
      "source": [
        "print('x_train shape:', x_train.shape)\n",
        "print(x_train.shape[0], 'train samples')\n",
        "print(x_test.shape[0], 'test samples')"
      ],
      "execution_count": 0,
      "outputs": [
        {
          "output_type": "stream",
          "text": [
            "x_train shape: (50000, 32, 32, 3)\n",
            "50000 train samples\n",
            "10000 test samples\n"
          ],
          "name": "stdout"
        }
      ]
    },
    {
      "cell_type": "code",
      "metadata": {
        "id": "GF4mPuw93jbE",
        "colab_type": "code",
        "colab": {}
      },
      "source": [
        "# 1. y_train -> to_categorical -> categorical dataset -> Loss: categorical_crossentropy\n",
        "# Last dense layer: 10\n",
        "\n",
        "# 2. y_train -> Loss: sparse_categorical_crossentropy\n",
        "# Last dense layer:10\n",
        "\n",
        "y_train = keras.utils.to_categorical(y_train, num_classes)\n",
        "y_test = keras.utils.to_categorical(y_test, num_classes)"
      ],
      "execution_count": 0,
      "outputs": []
    },
    {
      "cell_type": "code",
      "metadata": {
        "id": "9Cf3eqJQ3pR4",
        "colab_type": "code",
        "colab": {}
      },
      "source": [
        "x_train = x_train.astype('float32')\n",
        "x_test = x_test.astype('float32')\n",
        "x_train /= 255\n",
        "x_test /= 255"
      ],
      "execution_count": 0,
      "outputs": []
    },
    {
      "cell_type": "code",
      "metadata": {
        "id": "ho3R0vsJ3QUs",
        "colab_type": "code",
        "outputId": "c1619fd4-c107-4139-ae62-58a670cf85bc",
        "colab": {
          "base_uri": "https://localhost:8080/",
          "height": 251
        }
      },
      "source": [
        "import pprint\n",
        "\n",
        "use_tpu = True #@param {type:\"boolean\"}\n",
        "\n",
        "if use_tpu:\n",
        "    assert 'COLAB_TPU_ADDR' in os.environ, 'Missing TPU; did you request a TPU in Notebook Settings?'\n",
        "\n",
        "if 'COLAB_TPU_ADDR' in os.environ:\n",
        "  TF_MASTER = 'grpc://{}'.format(os.environ['COLAB_TPU_ADDR'])\n",
        "else:\n",
        "  TF_MASTER=''\n",
        "\n",
        "with tf.Session(TF_MASTER) as session:\n",
        "  print ('List of devices:')\n",
        "  pprint.pprint(session.list_devices())"
      ],
      "execution_count": 0,
      "outputs": [
        {
          "output_type": "stream",
          "text": [
            "List of devices:\n",
            "[_DeviceAttributes(/job:tpu_worker/replica:0/task:0/device:CPU:0, CPU, -1, 10737950758017845870),\n",
            " _DeviceAttributes(/job:tpu_worker/replica:0/task:0/device:XLA_CPU:0, XLA_CPU, 17179869184, 16306264993676103659),\n",
            " _DeviceAttributes(/job:tpu_worker/replica:0/task:0/device:TPU:0, TPU, 17179869184, 15531945719677852956),\n",
            " _DeviceAttributes(/job:tpu_worker/replica:0/task:0/device:TPU:1, TPU, 17179869184, 4732859251488557283),\n",
            " _DeviceAttributes(/job:tpu_worker/replica:0/task:0/device:TPU:2, TPU, 17179869184, 16253089559884349291),\n",
            " _DeviceAttributes(/job:tpu_worker/replica:0/task:0/device:TPU:3, TPU, 17179869184, 9381142900149207831),\n",
            " _DeviceAttributes(/job:tpu_worker/replica:0/task:0/device:TPU:4, TPU, 17179869184, 17613907328943659196),\n",
            " _DeviceAttributes(/job:tpu_worker/replica:0/task:0/device:TPU:5, TPU, 17179869184, 5014126443857272409),\n",
            " _DeviceAttributes(/job:tpu_worker/replica:0/task:0/device:TPU:6, TPU, 17179869184, 14288040247651492716),\n",
            " _DeviceAttributes(/job:tpu_worker/replica:0/task:0/device:TPU:7, TPU, 17179869184, 227115601412605899),\n",
            " _DeviceAttributes(/job:tpu_worker/replica:0/task:0/device:TPU_SYSTEM:0, TPU_SYSTEM, 8589934592, 9257961776662107188)]\n"
          ],
          "name": "stdout"
        }
      ]
    },
    {
      "cell_type": "code",
      "metadata": {
        "id": "P3xKhytu377a",
        "colab_type": "code",
        "outputId": "8191496e-e52a-4829-d961-5bb1d14a1050",
        "colab": {
          "base_uri": "https://localhost:8080/",
          "height": 358
        }
      },
      "source": [
        "resolver = tf.contrib.cluster_resolver.TPUClusterResolver(TF_MASTER)\n",
        "tf.contrib.distribute.initialize_tpu_system(resolver)\n",
        "strategy = tf.contrib.distribute.TPUStrategy(resolver)"
      ],
      "execution_count": 0,
      "outputs": [
        {
          "output_type": "stream",
          "text": [
            "INFO:tensorflow:Initializing the TPU system: 10.0.56.82:8470\n",
            "INFO:tensorflow:Finished initializing TPU system.\n",
            "INFO:tensorflow:Querying Tensorflow master (grpc://10.0.56.82:8470) for TPU system metadata.\n",
            "INFO:tensorflow:Found TPU system:\n",
            "INFO:tensorflow:*** Num TPU Cores: 8\n",
            "INFO:tensorflow:*** Num TPU Workers: 1\n",
            "INFO:tensorflow:*** Num TPU Cores Per Worker: 8\n",
            "INFO:tensorflow:*** Available Device: _DeviceAttributes(/job:worker/replica:0/task:0/device:CPU:0, CPU, -1, 10737950758017845870)\n",
            "INFO:tensorflow:*** Available Device: _DeviceAttributes(/job:worker/replica:0/task:0/device:TPU:0, TPU, 17179869184, 15531945719677852956)\n",
            "INFO:tensorflow:*** Available Device: _DeviceAttributes(/job:worker/replica:0/task:0/device:TPU:1, TPU, 17179869184, 4732859251488557283)\n",
            "INFO:tensorflow:*** Available Device: _DeviceAttributes(/job:worker/replica:0/task:0/device:TPU:2, TPU, 17179869184, 16253089559884349291)\n",
            "INFO:tensorflow:*** Available Device: _DeviceAttributes(/job:worker/replica:0/task:0/device:TPU:3, TPU, 17179869184, 9381142900149207831)\n",
            "INFO:tensorflow:*** Available Device: _DeviceAttributes(/job:worker/replica:0/task:0/device:TPU:4, TPU, 17179869184, 17613907328943659196)\n",
            "INFO:tensorflow:*** Available Device: _DeviceAttributes(/job:worker/replica:0/task:0/device:TPU:5, TPU, 17179869184, 5014126443857272409)\n",
            "INFO:tensorflow:*** Available Device: _DeviceAttributes(/job:worker/replica:0/task:0/device:TPU:6, TPU, 17179869184, 14288040247651492716)\n",
            "INFO:tensorflow:*** Available Device: _DeviceAttributes(/job:worker/replica:0/task:0/device:TPU:7, TPU, 17179869184, 227115601412605899)\n",
            "INFO:tensorflow:*** Available Device: _DeviceAttributes(/job:worker/replica:0/task:0/device:TPU_SYSTEM:0, TPU_SYSTEM, 8589934592, 9257961776662107188)\n",
            "INFO:tensorflow:*** Available Device: _DeviceAttributes(/job:worker/replica:0/task:0/device:XLA_CPU:0, XLA_CPU, 17179869184, 16306264993676103659)\n"
          ],
          "name": "stdout"
        }
      ]
    },
    {
      "cell_type": "code",
      "metadata": {
        "id": "GVOHUMG03g6D",
        "colab_type": "code",
        "colab": {}
      },
      "source": [
        "# Model specific parameters\n",
        "\n",
        "# TPU address\n",
        "tpu_address = TF_MASTER\n",
        "\n",
        "# Number of epochs\n",
        "epochs = 25"
      ],
      "execution_count": 0,
      "outputs": []
    },
    {
      "cell_type": "markdown",
      "metadata": {
        "id": "iDFttU7cJvdh",
        "colab_type": "text"
      },
      "source": [
        "네트워크를 직접 설계해 보세요!"
      ]
    },
    {
      "cell_type": "code",
      "metadata": {
        "id": "qMF9TgYlJvFq",
        "colab_type": "code",
        "colab": {}
      },
      "source": [
        "def CNN_model():\n",
        "  # for example,\n",
        "  n_kernels = 32\n",
        "  input_layer = layers.Input(shape=[32,32,3])\n",
        "  \n",
        "  x = Conv2D(n_kernels, (3,3), activation='relu', kernel_initializer='he_normal', padding='valid' )(input_layer)\n",
        "  x = Conv2D(n_kernels*2, (3,3), activation='relu', kernel_initializer='he_normal', padding='valid')(x)\n",
        "  x = BatchNormalization()(x)\n",
        "  x = MaxPooling2D()(x)\n",
        "  \n",
        "  x = Conv2D(n_kernels*2, (3,3), activation='relu', kernel_initializer='he_normal', padding='valid')(x)\n",
        "  x = Conv2D(n_kernels*4, (3,3), activation='relu', kernel_initializer='he_normal', padding='valid')(x)\n",
        "  x = BatchNormalization()(x)\n",
        "  x = MaxPooling2D()(x)\n",
        "\n",
        "  x = Conv2D(n_kernels*4, (3,3), activation='relu', kernel_initializer='he_normal', padding='valid')(x)\n",
        "  x = Conv2D(n_kernels*8, (3,3), activation='relu', kernel_initializer='he_normal', padding='valid')(x)\n",
        "  x = BatchNormalization()(x)\n",
        "  \n",
        "  x = GlobalAveragePooling2D()(x)\n",
        "  last = Dense(10, activation='softmax', kernel_initializer='glorot_uniform')(x)\n",
        "  \n",
        "  return Model(input_layer, last)"
      ],
      "execution_count": 0,
      "outputs": []
    },
    {
      "cell_type": "code",
      "metadata": {
        "id": "_8_WdMj64AZN",
        "colab_type": "code",
        "outputId": "e1320724-e1e1-42ae-bfdc-c8964e5f5374",
        "colab": {
          "base_uri": "https://localhost:8080/",
          "height": 732
        }
      },
      "source": [
        "with strategy.scope():\n",
        "  opti = Adam(learning_rate=0.001, beta_1=0.9, beta_2=0.999, amsgrad=False)\n",
        "  model = CNN_model()\n",
        "  \n",
        "  model.compile(loss='categorical_crossentropy',\n",
        "        optimizer=opti,\n",
        "        metrics=['acc'])\n",
        "  \n",
        "model.summary()"
      ],
      "execution_count": 0,
      "outputs": [
        {
          "output_type": "stream",
          "text": [
            "WARNING:tensorflow:From /tensorflow-1.15.2/python3.6/tensorflow_core/python/ops/resource_variable_ops.py:1630: calling BaseResourceVariable.__init__ (from tensorflow.python.ops.resource_variable_ops) with constraint is deprecated and will be removed in a future version.\n",
            "Instructions for updating:\n",
            "If using Keras pass *_constraint arguments to layers.\n",
            "Model: \"model\"\n",
            "_________________________________________________________________\n",
            "Layer (type)                 Output Shape              Param #   \n",
            "=================================================================\n",
            "input_1 (InputLayer)         [(None, 32, 32, 3)]       0         \n",
            "_________________________________________________________________\n",
            "conv2d (Conv2D)              (None, 30, 30, 32)        896       \n",
            "_________________________________________________________________\n",
            "conv2d_1 (Conv2D)            (None, 28, 28, 64)        18496     \n",
            "_________________________________________________________________\n",
            "batch_normalization (BatchNo (None, 28, 28, 64)        256       \n",
            "_________________________________________________________________\n",
            "max_pooling2d (MaxPooling2D) (None, 14, 14, 64)        0         \n",
            "_________________________________________________________________\n",
            "conv2d_2 (Conv2D)            (None, 12, 12, 64)        36928     \n",
            "_________________________________________________________________\n",
            "conv2d_3 (Conv2D)            (None, 10, 10, 128)       73856     \n",
            "_________________________________________________________________\n",
            "batch_normalization_1 (Batch (None, 10, 10, 128)       512       \n",
            "_________________________________________________________________\n",
            "max_pooling2d_1 (MaxPooling2 (None, 5, 5, 128)         0         \n",
            "_________________________________________________________________\n",
            "conv2d_4 (Conv2D)            (None, 3, 3, 128)         147584    \n",
            "_________________________________________________________________\n",
            "conv2d_5 (Conv2D)            (None, 1, 1, 256)         295168    \n",
            "_________________________________________________________________\n",
            "batch_normalization_2 (Batch (None, 1, 1, 256)         1024      \n",
            "_________________________________________________________________\n",
            "global_average_pooling2d (Gl (None, 256)               0         \n",
            "_________________________________________________________________\n",
            "dense (Dense)                (None, 10)                2570      \n",
            "=================================================================\n",
            "Total params: 577,290\n",
            "Trainable params: 576,394\n",
            "Non-trainable params: 896\n",
            "_________________________________________________________________\n"
          ],
          "name": "stdout"
        }
      ]
    },
    {
      "cell_type": "code",
      "metadata": {
        "id": "Zd1E5FY4JqQG",
        "colab_type": "code",
        "outputId": "ec95335b-2e34-42f6-c308-96596d4fe309",
        "colab": {
          "base_uri": "https://localhost:8080/",
          "height": 982
        }
      },
      "source": [
        "# Let's train the model using RMSprop\n",
        "history = model.fit(x_train, y_train,\n",
        "    batch_size=128, steps_per_epoch=390, epochs=25)"
      ],
      "execution_count": 0,
      "outputs": [
        {
          "output_type": "stream",
          "text": [
            "WARNING:tensorflow:From /tensorflow-1.15.2/python3.6/tensorflow_core/python/keras/layers/normalization.py:477: where (from tensorflow.python.ops.array_ops) is deprecated and will be removed in a future version.\n",
            "Instructions for updating:\n",
            "Use tf.where in 2.0, which has the same broadcast rule as np.where\n",
            "Epoch 1/25\n",
            "390/390 [==============================] - 5s 12ms/step - loss: 1.4452 - acc: 0.4909\n",
            "Epoch 2/25\n",
            "390/390 [==============================] - 3s 8ms/step - loss: 1.0275 - acc: 0.6426\n",
            "Epoch 3/25\n",
            "390/390 [==============================] - 3s 8ms/step - loss: 0.8383 - acc: 0.7089\n",
            "Epoch 4/25\n",
            "390/390 [==============================] - 3s 8ms/step - loss: 0.7094 - acc: 0.7547\n",
            "Epoch 5/25\n",
            "390/390 [==============================] - 3s 8ms/step - loss: 0.6127 - acc: 0.7867\n",
            "Epoch 6/25\n",
            "390/390 [==============================] - 3s 8ms/step - loss: 0.5311 - acc: 0.8153\n",
            "Epoch 7/25\n",
            "390/390 [==============================] - 3s 8ms/step - loss: 0.4499 - acc: 0.8429\n",
            "Epoch 8/25\n",
            "390/390 [==============================] - 3s 8ms/step - loss: 0.3833 - acc: 0.8661\n",
            "Epoch 9/25\n",
            "390/390 [==============================] - 3s 9ms/step - loss: 0.3213 - acc: 0.8873\n",
            "Epoch 10/25\n",
            "390/390 [==============================] - 3s 8ms/step - loss: 0.2760 - acc: 0.9019\n",
            "Epoch 11/25\n",
            "390/390 [==============================] - 3s 8ms/step - loss: 0.2438 - acc: 0.9149\n",
            "Epoch 12/25\n",
            "390/390 [==============================] - 3s 8ms/step - loss: 0.2160 - acc: 0.9246\n",
            "Epoch 13/25\n",
            "390/390 [==============================] - 3s 8ms/step - loss: 0.1796 - acc: 0.9368\n",
            "Epoch 14/25\n",
            "390/390 [==============================] - 3s 8ms/step - loss: 0.1705 - acc: 0.9416\n",
            "Epoch 15/25\n",
            "390/390 [==============================] - 3s 8ms/step - loss: 0.1568 - acc: 0.9439\n",
            "Epoch 16/25\n",
            "390/390 [==============================] - 3s 8ms/step - loss: 0.1399 - acc: 0.9513\n",
            "Epoch 17/25\n",
            "390/390 [==============================] - 3s 8ms/step - loss: 0.1341 - acc: 0.9533\n",
            "Epoch 18/25\n",
            "390/390 [==============================] - 3s 8ms/step - loss: 0.1466 - acc: 0.9496\n",
            "Epoch 19/25\n",
            "390/390 [==============================] - 3s 9ms/step - loss: 0.1155 - acc: 0.9591\n",
            "Epoch 20/25\n",
            "390/390 [==============================] - 3s 8ms/step - loss: 0.1023 - acc: 0.9639\n",
            "Epoch 21/25\n",
            "390/390 [==============================] - 3s 8ms/step - loss: 0.1012 - acc: 0.9645\n",
            "Epoch 22/25\n",
            "390/390 [==============================] - 3s 8ms/step - loss: 0.1097 - acc: 0.9620\n",
            "Epoch 23/25\n",
            "390/390 [==============================] - 3s 8ms/step - loss: 0.1022 - acc: 0.9639\n",
            "Epoch 24/25\n",
            "390/390 [==============================] - 3s 8ms/step - loss: 0.0865 - acc: 0.9702\n",
            "Epoch 25/25\n",
            "390/390 [==============================] - 3s 8ms/step - loss: 0.0900 - acc: 0.9690\n"
          ],
          "name": "stdout"
        }
      ]
    },
    {
      "cell_type": "code",
      "metadata": {
        "id": "KAnM6dDEKPMu",
        "colab_type": "code",
        "colab": {}
      },
      "source": [
        "epochs_range = range(25)\n",
        "training_loss = history.history['loss']\n",
        "training_acc = history.history['acc']"
      ],
      "execution_count": 0,
      "outputs": []
    },
    {
      "cell_type": "code",
      "metadata": {
        "id": "AUEiUJm3KUbR",
        "colab_type": "code",
        "outputId": "bd393e71-8920-4fbb-9c2b-b202ebc4b495",
        "colab": {
          "base_uri": "https://localhost:8080/",
          "height": 279
        }
      },
      "source": [
        "import matplotlib.pyplot as plt\n",
        "\n",
        "plt.plot(epochs_range, training_loss, 'b+', label='training_loss')\n",
        "# ‘bo’는 파란색 점을 의미합니다\n",
        "plt.plot(epochs_range, training_acc, 'bo', label='training_acc')\n",
        "plt.xlabel('Epochs')\n",
        "plt.ylabel('Validation accuracy')\n",
        "plt.legend()\n",
        "\n",
        "plt.show()"
      ],
      "execution_count": 0,
      "outputs": [
        {
          "output_type": "display_data",
          "data": {
            "image/png": "[encoded data removed]",
            "text/plain": [
              "<Figure size 432x288 with 1 Axes>"
            ]
          },
          "metadata": {
            "tags": []
          }
        }
      ]
    }
  ]
}