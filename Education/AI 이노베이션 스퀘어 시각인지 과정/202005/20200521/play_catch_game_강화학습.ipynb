{
 "cells": [
  {
   "cell_type": "code",
   "execution_count": 7,
   "metadata": {
    "scrolled": false
   },
   "outputs": [
    {
     "data": {
      "image/png": "[encoded data removed]",
      "text/plain": [
       "<Figure size 864x864 with 1 Axes>"
      ]
     },
     "metadata": {
      "needs_background": "light"
     },
     "output_type": "display_data"
    }
   ],
   "source": [
    "%matplotlib\n",
    "%matplotlib inline\n",
    "\n",
    "from train_catch_game import *\n",
    "from IPython import display\n",
    "import matplotlib.patches as patches\n",
    "import pylab as pl\n",
    "import time\n",
    "import tensorflow.compat.v1 as tf\n",
    "\n",
    "tf.disable_v2_behavior() \n",
    "\n",
    "import os\n",
    "\n",
    "gridSize = 10\n",
    "maxGames = 30\n",
    "env = CatchEnvironment(gridSize)\n",
    "winCount = 0\n",
    "loseCount = 0\n",
    "numberOfGames = 0\n",
    "\n",
    "ground = 1\n",
    "plot = pl.figure(figsize=(12,12))\n",
    "\n",
    "axis = plot.add_subplot(111, aspect='equal')\n",
    "axis.set_xlim([-1, 12])\n",
    "axis.set_ylim([0, 12])\n",
    "\n",
    "saver = tf.train.Saver()\n",
    "\n",
    "def drawState(fruitRow, fruitColumn, basket, gridSize):\n",
    "    fruitX = fruitColumn \n",
    "    fruitY = (gridSize - fruitRow + 1)\n",
    "    statusTitle = \"Wins: \" + str(winCount) + \"  Losses: \" + str(loseCount) + \"  TotalGame: \" + str(numberOfGames)\n",
    "    axis.set_title(statusTitle, fontsize=30)\n",
    "    for p in [\n",
    "        patches.Rectangle(\n",
    "            ((ground - 1), (ground)), 11, 10, facecolor=\"#000000\"\n",
    "        ),\n",
    "        patches.Rectangle(\n",
    "            (basket - 1, ground), 2, 0.5,facecolor=\"#FF0000\"\n",
    "        ),\n",
    "        patches.Rectangle(\n",
    "            (fruitX - 0.5, fruitY - 0.5), 1, 1,facecolor=\"#0000FF\"\n",
    "        ),   \n",
    "    ]:\n",
    "        axis.add_patch(p)\n",
    "        display.clear_output(wait=True)\n",
    "        display.display(pl.gcf())\n",
    "\n",
    "with tf.Session() as sess:\n",
    "    saver.restore(sess, os.getcwd()+\"\\model.ckpt\")\n",
    "    print('저장된 파라미터를 불러왔습니다!')\n",
    "    \n",
    "    while (numberOfGames < maxGames):\n",
    "        numberOfGames = numberOfGames + 1\n",
    "    \n",
    "        isGameOver = False\n",
    "        fruitRow, fruitColumn, basket = env.reset()\n",
    "        currentState = env.observe()\n",
    "        drawState(fruitRow, fruitColumn, basket, gridSize)\n",
    "\n",
    "    while (isGameOver != True):\n",
    "        q = sess.run(y_pred, feed_dict={x: currentState})\n",
    "        action = q.argmax()\n",
    "        \n",
    "        nextState, reward, gameOver, stateInfo = env.act(action)    \n",
    "        fruitRow = stateInfo[0]\n",
    "        \n",
    "        fruitColumn = stateInfo[1]\n",
    "        basket = stateInfo[2]\n",
    "        \n",
    "        if (reward == 1):\n",
    "            winCount = winCount + 1\n",
    "        elif (reward == -1):\n",
    "            loseCount = loseCount + 1\n",
    "\n",
    "        currentState = nextState\n",
    "        isGameOver = gameOver\n",
    "        drawState(fruitRow, fruitColumn, basket, gridSize)\n",
    "        \n",
    "        time.sleep(0.05)\n",
    "\n",
    "display.clear_output(wait=True)"
   ]
  },
  {
   "cell_type": "code",
   "execution_count": null,
   "metadata": {},
   "outputs": [],
   "source": []
  }
 ],
 "metadata": {
  "anaconda-cloud": {},
  "kernelspec": {
   "display_name": "Python 3",
   "language": "python",
   "name": "python3"
  },
  "language_info": {
   "codemirror_mode": {
    "name": "ipython",
    "version": 3
   },
   "file_extension": ".py",
   "mimetype": "text/x-python",
   "name": "python",
   "nbconvert_exporter": "python",
   "pygments_lexer": "ipython3",
   "version": "3.7.6"
  }
 },
 "nbformat": 4,
 "nbformat_minor": 2
}
