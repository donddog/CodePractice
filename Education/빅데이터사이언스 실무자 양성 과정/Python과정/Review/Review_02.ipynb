{
 "cells": [
  {
   "cell_type": "markdown",
   "metadata": {},
   "source": [
    "# Python Review : 데이터구조형\n",
    "### <span style=\"color:brown\"> 데이터 타입에 대한 이해가 중요 !! </span>\n",
    "\n",
    "> - 숫자형 : int, float\n",
    "- 문자형 : str\n",
    "- 논리형 : boolean\n",
    "- 구조형 : list, tuple, set, dict ==> 공통점:elements\n",
    "- None\n",
    "- function 도 하나의 데이터 타입이다\n",
    "\n",
    "### <span style=\"color:brown\"> Wrap-up </span>\n",
    "> - list : elements, order, duplicate\n",
    "- tuple : elements, order, duplicate, 변경 X\n",
    "- set : elements, order X, duplicate X\n",
    "- dict : elements, order X, key, value, key duplicate X"
   ]
  },
  {
   "cell_type": "markdown",
   "metadata": {},
   "source": [
    "### <span style=\"color:brown\"> 1. list - elements O, order O, duplicate O </span>"
   ]
  },
  {
   "cell_type": "code",
   "execution_count": 2,
   "metadata": {},
   "outputs": [
    {
     "name": "stdout",
     "output_type": "stream",
     "text": [
      "dog\n",
      "['cat', 'sheep', 'duck']\n",
      "['dog', 'cat', 'sheep', 'duck', 'cow']\n",
      "['dog', 'sheep', 'cow']\n",
      "cow\n",
      "['cow', 'duck', 'sheep', 'cat', 'dog']\n"
     ]
    }
   ],
   "source": [
    "animals = [\"dog\", \"cat\", \"sheep\", \"duck\", \"cow\"]\n",
    "print(animals[0])\n",
    "print(animals[1:4])\n",
    "print(animals[:])\n",
    "print(animals[::2])\n",
    "print(animals[-1])\n",
    "print(animals[::-1])"
   ]
  },
  {
   "cell_type": "code",
   "execution_count": 3,
   "metadata": {
    "scrolled": true
   },
   "outputs": [
    {
     "name": "stdout",
     "output_type": "stream",
     "text": [
      "dog\n",
      "cat\n",
      "sheep\n",
      "duck\n",
      "cow\n"
     ]
    }
   ],
   "source": [
    "for animal in animals:  \n",
    "    print(animal)"
   ]
  },
  {
   "cell_type": "code",
   "execution_count": 5,
   "metadata": {},
   "outputs": [
    {
     "name": "stdout",
     "output_type": "stream",
     "text": [
      "dog\n",
      "cat\n",
      "sheep\n",
      "duck\n",
      "cow\n"
     ]
    }
   ],
   "source": [
    "size = len(animals)\n",
    "for i in range(size):\n",
    "    animal = animals[i]\n",
    "    print(animal)"
   ]
  },
  {
   "cell_type": "markdown",
   "metadata": {},
   "source": [
    "### <span style=\"color:brown\"> 2. set (집합) - elements O, order X, duplicate X </span>"
   ]
  },
  {
   "cell_type": "code",
   "execution_count": 6,
   "metadata": {},
   "outputs": [
    {
     "data": {
      "text/plain": [
       "{'lion', 'tiger', 'wolf'}"
      ]
     },
     "execution_count": 6,
     "metadata": {},
     "output_type": "execute_result"
    }
   ],
   "source": [
    "beast = set([\"lion\", \"tiger\", \"wolf\", \"tiger\", \"lion\" ])\n",
    "beast"
   ]
  },
  {
   "cell_type": "code",
   "execution_count": 7,
   "metadata": {},
   "outputs": [
    {
     "data": {
      "text/plain": [
       "{'a', 'b', 'c', 'd', 'r'}"
      ]
     },
     "execution_count": 7,
     "metadata": {},
     "output_type": "execute_result"
    }
   ],
   "source": [
    "data = set('abracadabra')\n",
    "data"
   ]
  },
  {
   "cell_type": "code",
   "execution_count": 8,
   "metadata": {},
   "outputs": [
    {
     "data": {
      "text/plain": [
       "['a', 'b', 'c', 'd', 'r']"
      ]
     },
     "execution_count": 8,
     "metadata": {},
     "output_type": "execute_result"
    }
   ],
   "source": [
    "data02 = sorted(data)\n",
    "data02"
   ]
  },
  {
   "cell_type": "markdown",
   "metadata": {},
   "source": [
    "### <span style=\"color:brown\"> dict - elements O, (key, value) O </span>"
   ]
  },
  {
   "cell_type": "code",
   "execution_count": 9,
   "metadata": {},
   "outputs": [],
   "source": [
    "customer = {\n",
    "    \"name\"    : \"J\",\n",
    "    'gender'  : '남자',\n",
    "    \"email\"   : \"123456789@gmail.com\",\n",
    "    \"company\" : \"Noway\",\n",
    "    \"address\" : \"서울시 성북구\"\n",
    "}"
   ]
  },
  {
   "cell_type": "code",
   "execution_count": 10,
   "metadata": {},
   "outputs": [
    {
     "data": {
      "text/plain": [
       "dict_keys(['name', 'gender', 'email', 'company', 'address'])"
      ]
     },
     "execution_count": 10,
     "metadata": {},
     "output_type": "execute_result"
    }
   ],
   "source": [
    "customer.keys()"
   ]
  },
  {
   "cell_type": "code",
   "execution_count": 11,
   "metadata": {},
   "outputs": [
    {
     "name": "stdout",
     "output_type": "stream",
     "text": [
      "name\n",
      "gender\n",
      "email\n",
      "company\n",
      "address\n"
     ]
    }
   ],
   "source": [
    "for something in customer:\n",
    "    print(something)"
   ]
  },
  {
   "cell_type": "code",
   "execution_count": 12,
   "metadata": {},
   "outputs": [
    {
     "name": "stdout",
     "output_type": "stream",
     "text": [
      "name ==> J\n",
      "gender ==> 남자\n",
      "email ==> 123456789@gmail.com\n",
      "company ==> Noway\n",
      "address ==> 서울시 성북구\n"
     ]
    }
   ],
   "source": [
    "for key in customer:\n",
    "    value = customer[key]\n",
    "    print(\"%s ==> %s\" % (key, value))"
   ]
  },
  {
   "cell_type": "code",
   "execution_count": 13,
   "metadata": {},
   "outputs": [
    {
     "data": {
      "text/plain": [
       "'hello, 김진수'"
      ]
     },
     "execution_count": 13,
     "metadata": {},
     "output_type": "execute_result"
    }
   ],
   "source": [
    "\"%s, %s\" % (\"hello\", \"김진수\")"
   ]
  },
  {
   "cell_type": "code",
   "execution_count": 14,
   "metadata": {},
   "outputs": [
    {
     "data": {
      "text/plain": [
       "'김진수: 안녕하세요, 김진수'"
      ]
     },
     "execution_count": 14,
     "metadata": {},
     "output_type": "execute_result"
    }
   ],
   "source": [
    "\"{name}: {greeting}, {name}\".format(\n",
    "    greeting = \"안녕하세요\",\n",
    "    name = \"김진수\"\n",
    ")"
   ]
  },
  {
   "cell_type": "code",
   "execution_count": 15,
   "metadata": {},
   "outputs": [
    {
     "name": "stdout",
     "output_type": "stream",
     "text": [
      "name J\n",
      "gender 남자\n",
      "email 123456789@gmail.com\n",
      "company Noway\n",
      "address 서울시 성북구\n"
     ]
    }
   ],
   "source": [
    "for key, value in customer.items():\n",
    "    print(key, value)"
   ]
  },
  {
   "cell_type": "code",
   "execution_count": 16,
   "metadata": {},
   "outputs": [
    {
     "name": "stdout",
     "output_type": "stream",
     "text": [
      "('name', 'J')\n",
      "('gender', '남자')\n",
      "('email', '123456789@gmail.com')\n",
      "('company', 'Noway')\n",
      "('address', '서울시 성북구')\n"
     ]
    }
   ],
   "source": [
    "for something in customer.items():\n",
    "    print(something)"
   ]
  },
  {
   "cell_type": "code",
   "execution_count": 17,
   "metadata": {},
   "outputs": [
    {
     "name": "stdout",
     "output_type": "stream",
     "text": [
      "name ==> J\n",
      "gender ==> 남자\n",
      "email ==> 123456789@gmail.com\n",
      "company ==> Noway\n",
      "address ==> 서울시 성북구\n"
     ]
    }
   ],
   "source": [
    "for key, value in customer.items():\n",
    "    print(\"{key} ==> {value}\".format(\n",
    "        key   = key,\n",
    "        value = value,\n",
    "    ))"
   ]
  },
  {
   "cell_type": "code",
   "execution_count": 18,
   "metadata": {},
   "outputs": [
    {
     "name": "stdout",
     "output_type": "stream",
     "text": [
      "name     ==> J\n",
      "gender   ==> 남자\n",
      "email    ==> 123456789@gmail.com\n",
      "company  ==> Noway\n",
      "address  ==> 서울시 성북구\n"
     ]
    }
   ],
   "source": [
    "for key, value in customer.items():\n",
    "    print(\"{key} {space} ==> {value}\".format(\n",
    "        key   = key,\n",
    "        space = ' '*(7-len(key)),\n",
    "        value = value,\n",
    "    ))"
   ]
  },
  {
   "cell_type": "code",
   "execution_count": 20,
   "metadata": {},
   "outputs": [
    {
     "data": {
      "text/plain": [
       "dict_items([('name', 'J'), ('gender', '남자'), ('email', '123456789@gmail.com'), ('company', 'Noway'), ('address', '서울시 성북구')])"
      ]
     },
     "execution_count": 20,
     "metadata": {},
     "output_type": "execute_result"
    }
   ],
   "source": [
    "customer.items()"
   ]
  },
  {
   "cell_type": "markdown",
   "metadata": {},
   "source": [
    "### <span style=\"color:brown\"> 4. tuple - elements O, order O, duplicate O, 변경될 수 있는가? X </span>\n",
    "> - 변경되지 않는 자료형\n",
    "- 파이썬 내부적으로, 라이브러리 => dict!"
   ]
  },
  {
   "cell_type": "code",
   "execution_count": 1,
   "metadata": {},
   "outputs": [],
   "source": [
    "width = 100\n",
    "height = 200\n",
    "\n",
    "data = (100, 200)"
   ]
  },
  {
   "cell_type": "code",
   "execution_count": 26,
   "metadata": {},
   "outputs": [
    {
     "data": {
      "text/plain": [
       "(100, 200)"
      ]
     },
     "execution_count": 26,
     "metadata": {},
     "output_type": "execute_result"
    }
   ],
   "source": [
    "width, height = data\n",
    "data"
   ]
  },
  {
   "cell_type": "code",
   "execution_count": 25,
   "metadata": {},
   "outputs": [],
   "source": [
    "def getArea(w, h):\n",
    "    area = w * h\n",
    "    return area"
   ]
  },
  {
   "cell_type": "code",
   "execution_count": 27,
   "metadata": {},
   "outputs": [
    {
     "data": {
      "text/plain": [
       "20000"
      ]
     },
     "execution_count": 27,
     "metadata": {},
     "output_type": "execute_result"
    }
   ],
   "source": [
    "area = getArea(*data)\n",
    "area"
   ]
  },
  {
   "cell_type": "markdown",
   "metadata": {},
   "source": [
    "<MARQUEE behavior=\"scroll\"><font color=\"brown\"> The BigpyCraft find the information to design valuable society with Technology </font></MARQUEE>"
   ]
  }
 ],
 "metadata": {
  "kernelspec": {
   "display_name": "Python 3",
   "language": "python",
   "name": "python3"
  },
  "language_info": {
   "codemirror_mode": {
    "name": "ipython",
    "version": 3
   },
   "file_extension": ".py",
   "mimetype": "text/x-python",
   "name": "python",
   "nbconvert_exporter": "python",
   "pygments_lexer": "ipython3",
   "version": "3.7.3"
  }
 },
 "nbformat": 4,
 "nbformat_minor": 2
}
