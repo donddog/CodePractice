{
 "cells": [
  {
   "cell_type": "markdown",
   "metadata": {},
   "source": [
    "# Python Review : 함수3"
   ]
  },
  {
   "cell_type": "markdown",
   "metadata": {},
   "source": [
    "## <span style=\"color:brown\"> 람다함수 및 내장함수 </span>\n",
    "> - 함수 정의와 호출\n",
    "- 변수의 유효 범위\n",
    "- 람다(lambda) 함수\n",
    "- 유용한 내장 함수"
   ]
  },
  {
   "cell_type": "markdown",
   "metadata": {},
   "source": [
    "## <span style=\"color:blue\"> 함수 정의와 호출 </span>"
   ]
  },
  {
   "cell_type": "markdown",
   "metadata": {},
   "source": [
    "### 함수의 기본 구조"
   ]
  },
  {
   "cell_type": "markdown",
   "metadata": {},
   "source": [
    "### 인자도 반환 값도 없는 함수"
   ]
  },
  {
   "cell_type": "code",
   "execution_count": 1,
   "metadata": {},
   "outputs": [],
   "source": [
    "def my_func():\n",
    "    print(\"My first function!\")\n",
    "    print(\"This is a function.\")"
   ]
  },
  {
   "cell_type": "code",
   "execution_count": 2,
   "metadata": {},
   "outputs": [
    {
     "name": "stdout",
     "output_type": "stream",
     "text": [
      "My first function!\n",
      "This is a function.\n"
     ]
    }
   ],
   "source": [
    "my_func()"
   ]
  },
  {
   "cell_type": "markdown",
   "metadata": {},
   "source": [
    "### 인자는 있으나 반환 값이 없는 함수"
   ]
  },
  {
   "cell_type": "code",
   "execution_count": 3,
   "metadata": {},
   "outputs": [
    {
     "name": "stdout",
     "output_type": "stream",
     "text": [
      "진수는(은) 나의 친구입니다.\n",
      "희영는(은) 나의 친구입니다.\n"
     ]
    }
   ],
   "source": [
    "def my_friend(friendName):\n",
    "    print(\"{}는(은) 나의 친구입니다.\".format(friendName))\n",
    "\n",
    "my_friend(\"진수\")\n",
    "my_friend(\"희영\")"
   ]
  },
  {
   "cell_type": "code",
   "execution_count": 4,
   "metadata": {},
   "outputs": [
    {
     "name": "stdout",
     "output_type": "stream",
     "text": [
      "------------------------\n",
      "- 학생이름: 진수\n",
      "- 학급번호: 01\n",
      "- 전화번호: 010-5670-3847\n",
      "------------------------\n",
      "- 학생이름: 희영\n",
      "- 학급번호: 02\n",
      "- 전화번호: 010-1234-5678\n"
     ]
    }
   ],
   "source": [
    "def my_student_info(name, school_ID, phoneNumber):\n",
    "    print(\"------------------------\")\n",
    "    print(\"- 학생이름:\", name)\n",
    "    print(\"- 학급번호:\", school_ID)\n",
    "    print(\"- 전화번호:\", phoneNumber)\n",
    "\n",
    "my_student_info(\"진수\", \"01\", \"010-5670-3847\")\n",
    "my_student_info(\"희영\", \"02\", \"010-1234-5678\")"
   ]
  },
  {
   "cell_type": "code",
   "execution_count": 5,
   "metadata": {},
   "outputs": [
    {
     "name": "stdout",
     "output_type": "stream",
     "text": [
      "****************************\n",
      "* 학생이름: 진수\n",
      "* 학급번호: 01\n",
      "* 전화번호: 010-5670-3847\n",
      "****************************\n",
      "* 학생이름: 희영\n",
      "* 학급번호: 02\n",
      "* 전화번호: 010-1234-5678\n"
     ]
    }
   ],
   "source": [
    "def my_student_info(name, school_ID,  phoneNumber):\n",
    "    print(\"****************************\")\n",
    "    print(\"* 학생이름:\", name)\n",
    "    print(\"* 학급번호:\", school_ID)\n",
    "    print(\"* 전화번호:\", phoneNumber)\n",
    "    \n",
    "my_student_info(\"진수\", \"01\", \"010-5670-3847\")\n",
    "my_student_info(\"희영\", \"02\", \"010-1234-5678\")"
   ]
  },
  {
   "cell_type": "markdown",
   "metadata": {},
   "source": [
    "### 인자도 있고 반환 값도 있는 함수"
   ]
  },
  {
   "cell_type": "code",
   "execution_count": 6,
   "metadata": {},
   "outputs": [
    {
     "data": {
      "text/plain": [
       "12"
      ]
     },
     "execution_count": 6,
     "metadata": {},
     "output_type": "execute_result"
    }
   ],
   "source": [
    "def my_calc(x,y):\n",
    "    z = x*y\n",
    "    return z\n",
    "\n",
    "my_calc(3,4)"
   ]
  },
  {
   "cell_type": "code",
   "execution_count": 8,
   "metadata": {},
   "outputs": [
    {
     "name": "stdout",
     "output_type": "stream",
     "text": [
      "****************************\n",
      "* 학생이름: 찬영\n",
      "* 학급번호: 01\n",
      "* 전화번호: 010-2345-6789\n",
      "****************************\n",
      "None\n",
      "****************************\n",
      "* 학생이름: 준영\n",
      "* 학급번호: 02\n",
      "* 전화번호: 010-2345-9876\n",
      "****************************\n",
      "None\n"
     ]
    }
   ],
   "source": [
    "def my_student_info_list(student_info):\n",
    "    print(\"****************************\")\n",
    "    print(\"* 학생이름:\", student_info[0])\n",
    "    print(\"* 학급번호:\", student_info[1])\n",
    "    print(\"* 전화번호:\", student_info[2])\n",
    "    print(\"****************************\")\n",
    "    \n",
    "student1_info = [\"찬영\", \"01\", \"010-2345-6789\"]\n",
    "print(my_student_info_list(student1_info))\n",
    "print(my_student_info_list([\"준영\", \"02\", \"010-2345-9876\"]))"
   ]
  },
  {
   "cell_type": "markdown",
   "metadata": {},
   "source": [
    "## <span style=\"color:blue\"> 변수의 유효 범위 </span>"
   ]
  },
  {
   "cell_type": "code",
   "execution_count": 9,
   "metadata": {},
   "outputs": [
    {
     "name": "stdout",
     "output_type": "stream",
     "text": [
      "[func1] 지역 변수 a = 1\n",
      "[func2] 지역 변수 a = 2\n",
      "전역 변수 a = 5\n",
      "\n",
      "[func3] 전역 변수 a = 5\n",
      "[func4] 전역 변수 a = 4\n",
      "[func3] 전역 변수 a = 4\n"
     ]
    }
   ],
   "source": [
    "a = 5\n",
    "\n",
    "def func1():\n",
    "    a = 1\n",
    "    print(\"[func1] 지역 변수 a =\", a)\n",
    "\n",
    "def func2():\n",
    "    a = 2\n",
    "    print(\"[func2] 지역 변수 a =\", a)  \n",
    "    \n",
    "def func3():\n",
    "    print(\"[func3] 전역 변수 a =\", a)   \n",
    "    \n",
    "def func4():\n",
    "    global a\n",
    "    a = 4 \n",
    "    print(\"[func4] 전역 변수 a =\",a)\n",
    "func1()\n",
    "func2()\n",
    "print(\"전역 변수 a =\", a) \n",
    "print()\n",
    "\n",
    "func3()\n",
    "func4()\n",
    "func3()"
   ]
  },
  {
   "cell_type": "markdown",
   "metadata": {},
   "source": [
    "## <span style=\"color:blue\"> 람다(lambda) 함수 </span>"
   ]
  },
  {
   "cell_type": "code",
   "execution_count": 11,
   "metadata": {},
   "outputs": [
    {
     "name": "stdout",
     "output_type": "stream",
     "text": [
      "9\n",
      "4\n",
      "25\n",
      "11\n",
      "(10, 13)\n"
     ]
    }
   ],
   "source": [
    "print((lambda x : x**2) (3))\n",
    "\n",
    "mySquare = lambda x : x**2\n",
    "print(mySquare(2))\n",
    "print(mySquare(5))\n",
    "\n",
    "mySimpleFunc = lambda x,y,z : 2*x + 3*y + z\n",
    "print(mySimpleFunc(1,2,3))\n",
    "\n",
    "func = lambda x,y : x**2 + 2*y\n",
    "print((func(2, 3), func(3, 2)))"
   ]
  },
  {
   "cell_type": "markdown",
   "metadata": {},
   "source": [
    "## <span style=\"color:blue\"> 유용한 내장 함수 </span>"
   ]
  },
  {
   "cell_type": "markdown",
   "metadata": {},
   "source": [
    "### 형 변환 함수"
   ]
  },
  {
   "cell_type": "markdown",
   "metadata": {},
   "source": [
    "#### 정수형으로 변환"
   ]
  },
  {
   "cell_type": "code",
   "execution_count": 13,
   "metadata": {},
   "outputs": [
    {
     "name": "stdout",
     "output_type": "stream",
     "text": [
      "[0, 3, -1]\n",
      "[1234, 5678, -9012]\n"
     ]
    }
   ],
   "source": [
    "print([int(0.123), int(3.5123456), int(-1.312367)])\n",
    "print([int('1234'), int('5678'), int('-9012')])"
   ]
  },
  {
   "cell_type": "markdown",
   "metadata": {},
   "source": [
    "#### 실수형으로 변환"
   ]
  },
  {
   "cell_type": "code",
   "execution_count": 14,
   "metadata": {},
   "outputs": [
    {
     "name": "stdout",
     "output_type": "stream",
     "text": [
      "[0.0, 123.0, -567.0]\n",
      "[10.0, 0.123, -567.89]\n"
     ]
    }
   ],
   "source": [
    "print([float(0), float(123), float(-567)])\n",
    "print([float('10'), float('0.123'), float('-567.89')])"
   ]
  },
  {
   "cell_type": "markdown",
   "metadata": {},
   "source": [
    "#### 문자형으로 변환"
   ]
  },
  {
   "cell_type": "code",
   "execution_count": 15,
   "metadata": {},
   "outputs": [
    {
     "name": "stdout",
     "output_type": "stream",
     "text": [
      "['123', '459678', '-987']\n",
      "['0.123', '345.678', '-5.987']\n"
     ]
    }
   ],
   "source": [
    "print([str(123), str(459678), str(-987)])\n",
    "print([str(0.123), str(345.678), str(-5.987)])"
   ]
  },
  {
   "cell_type": "markdown",
   "metadata": {},
   "source": [
    "#### 리스트, 튜플, 세트형으로 변환"
   ]
  },
  {
   "cell_type": "code",
   "execution_count": 16,
   "metadata": {},
   "outputs": [
    {
     "name": "stdout",
     "output_type": "stream",
     "text": [
      "[<class 'list'>, <class 'tuple'>, <class 'set'>]\n",
      "리스트로 변환:  ['abc', 1, 2, 'def'] [1, 2, 'abc', 'def']\n",
      "튜플로 변환: ('abc', 1, 2, 'def') (1, 2, 'abc', 'def')\n",
      "세트로 변환: {1, 2, 'abc', 'def'} {1, 2, 'abc', 'def'}\n"
     ]
    }
   ],
   "source": [
    "list_data  = ['abc', 1, 2, 'def']\n",
    "tuple_data = ('abc', 1, 2, 'def')\n",
    "set_data   = {'abc', 1, 2, 'def'}\n",
    "\n",
    "print([type(list_data), type(tuple_data), type(set_data)])\n",
    "print(\"리스트로 변환: \", list(tuple_data), list(set_data))\n",
    "print(\"튜플로 변환:\", tuple(list_data), tuple(set_data))\n",
    "print(\"세트로 변환:\", set(list_data), set(tuple_data))"
   ]
  },
  {
   "cell_type": "markdown",
   "metadata": {},
   "source": [
    "### bool 함수"
   ]
  },
  {
   "cell_type": "markdown",
   "metadata": {},
   "source": [
    "#### 숫자를 인자로 bool 함수 호출"
   ]
  },
  {
   "cell_type": "code",
   "execution_count": 17,
   "metadata": {},
   "outputs": [
    {
     "name": "stdout",
     "output_type": "stream",
     "text": [
      "False\n",
      "True\n",
      "True\n",
      "True\n",
      "True\n"
     ]
    }
   ],
   "source": [
    "print(bool(0))\n",
    "print(bool(1))\n",
    "print(bool(-10))\n",
    "print(bool(5.12))\n",
    "print(bool(-3.26))"
   ]
  },
  {
   "cell_type": "markdown",
   "metadata": {},
   "source": [
    "#### 문자열을 인자로 bool 함수 호출"
   ]
  },
  {
   "cell_type": "code",
   "execution_count": 19,
   "metadata": {},
   "outputs": [
    {
     "name": "stdout",
     "output_type": "stream",
     "text": [
      "True\n",
      "True\n",
      "False\n"
     ]
    }
   ],
   "source": [
    "print(bool('a'))\n",
    "print(bool(' '))\n",
    "print(bool(''))"
   ]
  },
  {
   "cell_type": "markdown",
   "metadata": {},
   "source": [
    "#### 리스트, 튜플, 세트를 인자로 bool 함수 호출"
   ]
  },
  {
   "cell_type": "code",
   "execution_count": 20,
   "metadata": {},
   "outputs": [
    {
     "name": "stdout",
     "output_type": "stream",
     "text": [
      "False\n",
      "True\n",
      "False\n",
      "True\n",
      "False\n",
      "True\n"
     ]
    }
   ],
   "source": [
    "myFriends = []\n",
    "print(bool(myFriends))\n",
    "\n",
    "myFriends = ['James', 'Robert', 'Lisa', 'Mary']\n",
    "print(bool(myFriends))\n",
    "\n",
    "myNum = ()\n",
    "print(bool(myNum))\n",
    "\n",
    "myNum = (1,2,3)\n",
    "print(bool(myNum))\n",
    "\n",
    "mySetA = {}\n",
    "print(bool(mySetA))\n",
    "\n",
    "mySetA = {10,20,30}\n",
    "print(bool(mySetA))"
   ]
  },
  {
   "cell_type": "markdown",
   "metadata": {},
   "source": [
    "#### bool 함수의 활용"
   ]
  },
  {
   "cell_type": "code",
   "execution_count": 22,
   "metadata": {},
   "outputs": [
    {
     "name": "stdout",
     "output_type": "stream",
     "text": [
      "입력된 이름: 진수\n",
      "입력된 이름이 없습니다.\n"
     ]
    }
   ],
   "source": [
    "def print_name(name):\n",
    "    if bool(name):\n",
    "        print(\"입력된 이름:\", name)\n",
    "    else:\n",
    "        print(\"입력된 이름이 없습니다.\")\n",
    "        \n",
    "print_name(\"진수\")\n",
    "print_name(\"\")"
   ]
  },
  {
   "cell_type": "markdown",
   "metadata": {},
   "source": [
    "### 최소값과 최대값을 구하는 함수"
   ]
  },
  {
   "cell_type": "code",
   "execution_count": 23,
   "metadata": {},
   "outputs": [
    {
     "name": "stdout",
     "output_type": "stream",
     "text": [
      "[0, 99.5]\n",
      "['a', 'z']\n",
      "[0, 99.5]\n",
      "['Abc', 'efg']\n"
     ]
    }
   ],
   "source": [
    "myNum = [10, 5, 12, 0, 3.5, 99.5, 42]\n",
    "print([min(myNum), max(myNum)])\n",
    "\n",
    "myStr = 'zxyabc'\n",
    "print([min(myStr), max(myStr)])\n",
    "\n",
    "myNum = (10, 5, 12, 0, 3.5, 99.5, 42)\n",
    "print([min(myNum), max(myNum)])\n",
    "\n",
    "myNum = {\"Abc\", \"abc\", \"bcd\", \"efg\"}\n",
    "print([min(myNum), max(myNum)])"
   ]
  },
  {
   "cell_type": "markdown",
   "metadata": {},
   "source": [
    "### 절대값과 전체 합을 구하는 함수"
   ]
  },
  {
   "cell_type": "code",
   "execution_count": 24,
   "metadata": {},
   "outputs": [
    {
     "name": "stdout",
     "output_type": "stream",
     "text": [
      "[10, 10]\n",
      "[2.45, 2.45]\n",
      "55\n"
     ]
    }
   ],
   "source": [
    "print([abs(10), abs(-10)])\n",
    "print([abs(2.45), abs(-2.45)])\n",
    "\n",
    "sumList = [1, 2, 3, 4, 5, 6, 7, 8, 9, 10]\n",
    "print(sum(sumList))"
   ]
  },
  {
   "cell_type": "markdown",
   "metadata": {},
   "source": [
    "### 항목의 개수를 구하는 함수"
   ]
  },
  {
   "cell_type": "code",
   "execution_count": 25,
   "metadata": {},
   "outputs": [
    {
     "name": "stdout",
     "output_type": "stream",
     "text": [
      "5\n",
      "8\n",
      "5\n",
      "4\n",
      "3\n"
     ]
    }
   ],
   "source": [
    "print(len(\"ab cd\"))\n",
    "print(len([1, 2, 3, 4, 5, 6, 7, 8]))\n",
    "print(len((1, 2, 3, 4, 5)))\n",
    "print(len({'a', 'b', 'c', 'd'}))\n",
    "print(len({1:\"Thomas\", 2:\"Edward\", 3:\"Henry\"}))"
   ]
  },
  {
   "cell_type": "markdown",
   "metadata": {},
   "source": [
    "### 내장 함수의 활용"
   ]
  },
  {
   "cell_type": "code",
   "execution_count": 26,
   "metadata": {},
   "outputs": [
    {
     "name": "stdout",
     "output_type": "stream",
     "text": [
      "총점:350, 평균:87.5\n",
      "총점:350, 평균:87.5\n",
      "최하 점수:80, 최고 점수:95\n"
     ]
    }
   ],
   "source": [
    "scores = [90, 80, 95, 85]\n",
    "\n",
    "score_sum = 0                    \n",
    "subject_num = 0                  \n",
    "for score in scores:\n",
    "    score_sum = score_sum + score\n",
    "    subject_num = subject_num + 1\n",
    "    \n",
    "average = score_sum / subject_num\n",
    "\n",
    "print(\"총점:{0}, 평균:{1}\".format(score_sum,average))\n",
    "\n",
    "scores = [90, 80, 95, 85]\n",
    "\n",
    "print(\"총점:{0}, 평균:{1}\".format(sum(scores), sum(scores)/len(scores)))\n",
    "print(\"최하 점수:{0}, 최고 점수:{1}\".format(min(scores), max(scores)))"
   ]
  },
  {
   "cell_type": "code",
   "execution_count": null,
   "metadata": {},
   "outputs": [],
   "source": []
  }
 ],
 "metadata": {
  "kernelspec": {
   "display_name": "Python 3",
   "language": "python",
   "name": "python3"
  },
  "language_info": {
   "codemirror_mode": {
    "name": "ipython",
    "version": 3
   },
   "file_extension": ".py",
   "mimetype": "text/x-python",
   "name": "python",
   "nbconvert_exporter": "python",
   "pygments_lexer": "ipython3",
   "version": "3.7.3"
  }
 },
 "nbformat": 4,
 "nbformat_minor": 2
}
