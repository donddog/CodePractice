{
 "cells": [
  {
   "cell_type": "markdown",
   "metadata": {},
   "source": [
    "## <span style=\"color: brown\"> 에러와 예외처리, Errors & Exceptions </span>\n",
    "> - 구문 에러, Syntax Errors\n",
    "- 예외, Exceptions\n",
    "- try-except 구문으로 예외상황 제어, Exceptions Handling in Program\n",
    "- try-except 구문으로 예외상황 제어, Exceptions Handling in Function\n",
    "- else와 finally 활용하기\n",
    "- 사용자 정의 예외, User-defined Exceptions!"
   ]
  },
  {
   "cell_type": "markdown",
   "metadata": {},
   "source": [
    "### try-except 구문으로 예외상황 제어, Exceptions Handling in Program"
   ]
  },
  {
   "cell_type": "code",
   "execution_count": 9,
   "metadata": {},
   "outputs": [
    {
     "name": "stdout",
     "output_type": "stream",
     "text": [
      "안녕하세요.\n",
      "예외가 발생했습니다!\n"
     ]
    }
   ],
   "source": [
    "try:\n",
    "    print('안녕하세요.')\n",
    "    print(param)\n",
    "except:\n",
    "    print('예외가 발생했습니다!')"
   ]
  },
  {
   "cell_type": "code",
   "execution_count": 10,
   "metadata": {},
   "outputs": [
    {
     "name": "stdout",
     "output_type": "stream",
     "text": [
      "안녕하세요.\n",
      "예외가 발생했습니다!\n"
     ]
    }
   ],
   "source": [
    "try:\n",
    "    print('안녕하세요.')\n",
    "    print(param)\n",
    "except:\n",
    "    print('예외가 발생했습니다!')\n",
    "else:\n",
    "    print('예외가 발생하지 않았습니다.')"
   ]
  },
  {
   "cell_type": "code",
   "execution_count": 11,
   "metadata": {},
   "outputs": [
    {
     "name": "stdout",
     "output_type": "stream",
     "text": [
      "안녕하세요.\n",
      "예외가 발생했습니다!\n",
      "무조건 실행하는 코드\n"
     ]
    }
   ],
   "source": [
    "try:\n",
    "    print('안녕하세요.')\n",
    "    print(param)\n",
    "except:\n",
    "    print('예외가 발생했습니다!')\n",
    "finally:\n",
    "    print('무조건 실행하는 코드')"
   ]
  },
  {
   "cell_type": "code",
   "execution_count": 12,
   "metadata": {},
   "outputs": [
    {
     "name": "stdout",
     "output_type": "stream",
     "text": [
      "name 'param' is not defined\n"
     ]
    }
   ],
   "source": [
    "try:\n",
    "    print(param)\n",
    "except Exception as e:\n",
    "    print(e)"
   ]
  },
  {
   "cell_type": "code",
   "execution_count": 14,
   "metadata": {},
   "outputs": [
    {
     "name": "stdout",
     "output_type": "stream",
     "text": [
      "1\n",
      "2\n",
      "3\n",
      "4\n",
      "5\n",
      "6\n",
      "7\n",
      "사용자에 의해 프로그램이 중단되었습니다.\n"
     ]
    }
   ],
   "source": [
    "import time\n",
    "count = 1\n",
    "try:\n",
    "    while True:\n",
    "        print(count)\n",
    "        count += 1\n",
    "        time.sleep(0.5)\n",
    "except KeyboardInterrupt:\n",
    "    print('사용자에 의해 프로그램이 중단되었습니다.')"
   ]
  },
  {
   "cell_type": "code",
   "execution_count": 17,
   "metadata": {},
   "outputs": [
    {
     "name": "stdout",
     "output_type": "stream",
     "text": [
      "[1] Can you add 2 and '2' in python? \n",
      "[2] I got TypeError! \n",
      "[3] It's not possible to add integer and string together. \n"
     ]
    }
   ],
   "source": [
    "def exception_test2():\n",
    "    print(\"[1] Can you add 2 and '2' in python? \")\n",
    "    try:\n",
    "        print(\"[2] Try it~! \", 2+'2')\n",
    "    except TypeError:\n",
    "        print(\"[2] I got TypeError! \")\n",
    "        \n",
    "    print(\"[3] It's not possible to add integer and string together. \")\n",
    "    \n",
    "exception_test2()"
   ]
  },
  {
   "cell_type": "code",
   "execution_count": 18,
   "metadata": {},
   "outputs": [
    {
     "name": "stdout",
     "output_type": "stream",
     "text": [
      "[1] Can you add 2 and '2' in python? \n",
      "[2] TypeError: unsupported operand type(s) for +: 'int' and 'str'\n",
      "[3] It's not possible to add integer and string together. \n"
     ]
    }
   ],
   "source": [
    "def exception_test3():\n",
    "    print(\"[1] Can you add 2 and '2' in python? \")\n",
    "    \n",
    "    try:\n",
    "        print(\"[2] Try it~! \", 2+'2')\n",
    "    except TypeError as err:\n",
    "        print(\"[2] TypeError: {}\".format(err))\n",
    "    \n",
    "    print(\"[3] It's not possible to add integer and string together. \")\n",
    "    \n",
    "exception_test3()        "
   ]
  },
  {
   "cell_type": "code",
   "execution_count": 19,
   "metadata": {},
   "outputs": [
    {
     "name": "stdout",
     "output_type": "stream",
     "text": [
      "[1] Can you add 2 and '2' in python? \n",
      "[2] I got TypeError! Check below! \n",
      "[3] It's not possible to add integer and string together. \n"
     ]
    },
    {
     "name": "stderr",
     "output_type": "stream",
     "text": [
      "Traceback (most recent call last):\n",
      "  File \"<ipython-input-19-62737737fafb>\", line 7, in exception_test4\n",
      "    print(\"[2] Try it~! \", 2+'2')\n",
      "TypeError: unsupported operand type(s) for +: 'int' and 'str'\n"
     ]
    }
   ],
   "source": [
    "import traceback \n",
    "\n",
    "def exception_test4():\n",
    "    print(\"[1] Can you add 2 and '2' in python? \")\n",
    "    \n",
    "    try:\n",
    "        print(\"[2] Try it~! \", 2+'2')\n",
    "    except TypeError:\n",
    "        print(\"[2] I got TypeError! Check below! \")\n",
    "        traceback.print_exc()                          \n",
    "    \n",
    "    print(\"[3] It's not possible to add integer and string together. \")\n",
    "    \n",
    "exception_test4()"
   ]
  },
  {
   "cell_type": "markdown",
   "metadata": {},
   "source": [
    "### else와 finally 활용하기"
   ]
  },
  {
   "cell_type": "code",
   "execution_count": 22,
   "metadata": {},
   "outputs": [
    {
     "name": "stdout",
     "output_type": "stream",
     "text": [
      "cannot open README.txt\n",
      "cannot open README-XXX.txt\n"
     ]
    }
   ],
   "source": [
    "def exception_test5(file_path):\n",
    "    try:\n",
    "        f = open(file_path, 'r')\n",
    "    except IOError:\n",
    "         print('cannot open', file_path)  \n",
    "    else:\n",
    "        print('File has', len(f.readlines()), 'lines')\n",
    "        f.close() \n",
    "\n",
    "exception_test5('README.txt')\n",
    "exception_test5('README-XXX.txt')"
   ]
  },
  {
   "cell_type": "code",
   "execution_count": 23,
   "metadata": {},
   "outputs": [
    {
     "name": "stdout",
     "output_type": "stream",
     "text": [
      "cannot open README.txt\n",
      "I just tried to read this file. README.txt\n"
     ]
    }
   ],
   "source": [
    "def exception_test6(file_path):\n",
    "    try:\n",
    "        f = open(file_path, 'r')           \n",
    "    except IOError:\n",
    "        print('cannot open', file_path)    \n",
    "    else:\n",
    "        print('File has', len(f.readlines()), 'lines')    \n",
    "        f.close()                           \n",
    "    finally:\n",
    "        \n",
    "        print('I just tried to read this file.', file_path)\n",
    "        \n",
    "exception_test6('README.txt')"
   ]
  },
  {
   "cell_type": "markdown",
   "metadata": {},
   "source": [
    "### 사용자 정의 예외, User-defined Exceptions"
   ]
  },
  {
   "cell_type": "code",
   "execution_count": 24,
   "metadata": {},
   "outputs": [],
   "source": [
    "class TooBigNumError(Exception):\n",
    "    def __init__(self, val):\n",
    "        self.val = val\n",
    "    def __str__(self):\n",
    "        return 'too big number {}. Use 1~10! '.format(self.val)"
   ]
  },
  {
   "cell_type": "code",
   "execution_count": 25,
   "metadata": {},
   "outputs": [
    {
     "ename": "TooBigNumError",
     "evalue": "too big number 15. Use 1~10! ",
     "output_type": "error",
     "traceback": [
      "\u001b[1;31m---------------------------------------------------------------------------\u001b[0m",
      "\u001b[1;31mTooBigNumError\u001b[0m                            Traceback (most recent call last)",
      "\u001b[1;32m<ipython-input-25-8be822f6693a>\u001b[0m in \u001b[0;36m<module>\u001b[1;34m\u001b[0m\n\u001b[1;32m----> 1\u001b[1;33m \u001b[1;32mraise\u001b[0m \u001b[0mTooBigNumError\u001b[0m\u001b[1;33m(\u001b[0m\u001b[1;36m15\u001b[0m\u001b[1;33m)\u001b[0m\u001b[1;33m\u001b[0m\u001b[1;33m\u001b[0m\u001b[0m\n\u001b[0m",
      "\u001b[1;31mTooBigNumError\u001b[0m: too big number 15. Use 1~10! "
     ]
    }
   ],
   "source": [
    "raise TooBigNumError(15)"
   ]
  },
  {
   "cell_type": "code",
   "execution_count": 26,
   "metadata": {},
   "outputs": [],
   "source": [
    "def user_defined_exception_test():\n",
    "    num = int(input('1부터 10 사이의 점수를 입력하세요! : '))  \n",
    "    if num > 10:\n",
    "        raise TooBigNumError(num)                             \n",
    "    print('숫자 {} 를 입력하셨군요! '.format(num))"
   ]
  },
  {
   "cell_type": "code",
   "execution_count": 27,
   "metadata": {},
   "outputs": [
    {
     "name": "stdout",
     "output_type": "stream",
     "text": [
      "1부터 10 사이의 점수를 입력하세요! : 7\n",
      "숫자 7 를 입력하셨군요! \n"
     ]
    }
   ],
   "source": [
    "user_defined_exception_test()"
   ]
  },
  {
   "cell_type": "code",
   "execution_count": 28,
   "metadata": {},
   "outputs": [
    {
     "name": "stdout",
     "output_type": "stream",
     "text": [
      "1부터 10 사이의 점수를 입력하세요! : 15\n"
     ]
    },
    {
     "ename": "TooBigNumError",
     "evalue": "too big number 15. Use 1~10! ",
     "output_type": "error",
     "traceback": [
      "\u001b[1;31m---------------------------------------------------------------------------\u001b[0m",
      "\u001b[1;31mTooBigNumError\u001b[0m                            Traceback (most recent call last)",
      "\u001b[1;32m<ipython-input-28-7e8477f43f96>\u001b[0m in \u001b[0;36m<module>\u001b[1;34m\u001b[0m\n\u001b[1;32m----> 1\u001b[1;33m \u001b[0muser_defined_exception_test\u001b[0m\u001b[1;33m(\u001b[0m\u001b[1;33m)\u001b[0m\u001b[1;33m\u001b[0m\u001b[1;33m\u001b[0m\u001b[0m\n\u001b[0m",
      "\u001b[1;32m<ipython-input-26-75880d5c1a78>\u001b[0m in \u001b[0;36muser_defined_exception_test\u001b[1;34m()\u001b[0m\n\u001b[0;32m      2\u001b[0m     \u001b[0mnum\u001b[0m \u001b[1;33m=\u001b[0m \u001b[0mint\u001b[0m\u001b[1;33m(\u001b[0m\u001b[0minput\u001b[0m\u001b[1;33m(\u001b[0m\u001b[1;34m'1부터 10 사이의 점수를 입력하세요! : '\u001b[0m\u001b[1;33m)\u001b[0m\u001b[1;33m)\u001b[0m\u001b[1;33m\u001b[0m\u001b[1;33m\u001b[0m\u001b[0m\n\u001b[0;32m      3\u001b[0m     \u001b[1;32mif\u001b[0m \u001b[0mnum\u001b[0m \u001b[1;33m>\u001b[0m \u001b[1;36m10\u001b[0m\u001b[1;33m:\u001b[0m\u001b[1;33m\u001b[0m\u001b[1;33m\u001b[0m\u001b[0m\n\u001b[1;32m----> 4\u001b[1;33m         \u001b[1;32mraise\u001b[0m \u001b[0mTooBigNumError\u001b[0m\u001b[1;33m(\u001b[0m\u001b[0mnum\u001b[0m\u001b[1;33m)\u001b[0m\u001b[1;33m\u001b[0m\u001b[1;33m\u001b[0m\u001b[0m\n\u001b[0m\u001b[0;32m      5\u001b[0m     \u001b[0mprint\u001b[0m\u001b[1;33m(\u001b[0m\u001b[1;34m'숫자 {} 를 입력하셨군요! '\u001b[0m\u001b[1;33m.\u001b[0m\u001b[0mformat\u001b[0m\u001b[1;33m(\u001b[0m\u001b[0mnum\u001b[0m\u001b[1;33m)\u001b[0m\u001b[1;33m)\u001b[0m\u001b[1;33m\u001b[0m\u001b[1;33m\u001b[0m\u001b[0m\n",
      "\u001b[1;31mTooBigNumError\u001b[0m: too big number 15. Use 1~10! "
     ]
    }
   ],
   "source": [
    "user_defined_exception_test()"
   ]
  },
  {
   "cell_type": "code",
   "execution_count": null,
   "metadata": {},
   "outputs": [],
   "source": []
  }
 ],
 "metadata": {
  "kernelspec": {
   "display_name": "Python 3",
   "language": "python",
   "name": "python3"
  },
  "language_info": {
   "codemirror_mode": {
    "name": "ipython",
    "version": 3
   },
   "file_extension": ".py",
   "mimetype": "text/x-python",
   "name": "python",
   "nbconvert_exporter": "python",
   "pygments_lexer": "ipython3",
   "version": "3.7.3"
  }
 },
 "nbformat": 4,
 "nbformat_minor": 2
}
