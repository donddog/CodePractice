{
 "cells": [
  {
   "cell_type": "markdown",
   "metadata": {},
   "source": [
    "## <span style=\"color:brown\"> Date, Time </span>"
   ]
  },
  {
   "cell_type": "markdown",
   "metadata": {},
   "source": [
    "### <span style=\"color:blue\"> 시간 정보 </span>"
   ]
  },
  {
   "cell_type": "code",
   "execution_count": 3,
   "metadata": {},
   "outputs": [],
   "source": [
    "from time import localtime, strftime\n",
    "\n",
    "def writelog(logfile, log):\n",
    "    time_stamp = strftime('%Y-%m-%d %X\\t', localtime())\n",
    "    log = time_stamp + log + '\\n'\n",
    "    \n",
    "    with open(logfile, 'a') as f:\n",
    "        f.writelines(log)\n",
    "        \n",
    "logfile = 'test.log'\n",
    "! del test.log\n",
    "\n",
    "writelog(logfile, '첫번째 로깅 문장입니다.')"
   ]
  },
  {
   "cell_type": "code",
   "execution_count": 19,
   "metadata": {},
   "outputs": [],
   "source": [
    "writelog(logfile, '두번째 로깅 문장입니다.')"
   ]
  },
  {
   "cell_type": "code",
   "execution_count": 20,
   "metadata": {},
   "outputs": [
    {
     "name": "stdout",
     "output_type": "stream",
     "text": [
      "2019-08-22 16:47:26\t첫번째 로깅 문장입니다.\n",
      "2019-08-22 17:01:02\t두번째 로깅 문장입니다.\n"
     ]
    }
   ],
   "source": [
    "! type test.log"
   ]
  },
  {
   "cell_type": "code",
   "execution_count": 4,
   "metadata": {},
   "outputs": [
    {
     "name": "stdout",
     "output_type": "stream",
     "text": [
      "time.struct_time(tm_year=2019, tm_mon=8, tm_mday=22, tm_hour=16, tm_min=48, tm_sec=50, tm_wday=3, tm_yday=234, tm_isdst=0)\n",
      "오늘은 [2019-01-01]이후 [234]일째 되는 날입니다.\n"
     ]
    }
   ],
   "source": [
    "t = localtime()\n",
    "print(t)\n",
    "\n",
    "start_day = '%d-01-01' % (t.tm_year)\n",
    "elapsed_day = t.tm_yday\n",
    "\n",
    "print('오늘은 [%s]이후 [%d]일째 되는 날입니다.' %(start_day, elapsed_day))"
   ]
  },
  {
   "cell_type": "code",
   "execution_count": 6,
   "metadata": {},
   "outputs": [
    {
     "data": {
      "text/plain": [
       "'2019-8-22'"
      ]
     },
     "execution_count": 6,
     "metadata": {},
     "output_type": "execute_result"
    }
   ],
   "source": [
    "today = '{yy}-{mm}-{dd}'.format(\n",
    "    yy = t.tm_year,\n",
    "    mm = t.tm_mon,\n",
    "    dd = t.tm_mday,\n",
    ")\n",
    "today"
   ]
  },
  {
   "cell_type": "code",
   "execution_count": 7,
   "metadata": {},
   "outputs": [
    {
     "data": {
      "text/plain": [
       "time.struct_time"
      ]
     },
     "execution_count": 7,
     "metadata": {},
     "output_type": "execute_result"
    }
   ],
   "source": [
    "type(t)"
   ]
  },
  {
   "cell_type": "code",
   "execution_count": 8,
   "metadata": {},
   "outputs": [
    {
     "name": "stdout",
     "output_type": "stream",
     "text": [
      "[2019-8-22] 오늘은 [목요일]입니다.\n"
     ]
    }
   ],
   "source": [
    "weekdays = ['월요일', '화요일', '수요일', '목요일', '금요일', '토요일', '일요일']\n",
    "\n",
    "t = localtime()\n",
    "today = '%d-%d-%d' %(t.tm_year, t.tm_mon, t.tm_mday)\n",
    "week = weekdays[t.tm_wday]\n",
    "\n",
    "print('[%s] 오늘은 [%s]입니다.' %(today, week))"
   ]
  },
  {
   "cell_type": "code",
   "execution_count": 33,
   "metadata": {},
   "outputs": [
    {
     "name": "stdout",
     "output_type": "stream",
     "text": [
      "1에서 백만까지 더합니다.\n",
      "1에서 백만까지 더한 결과: 499999500000\n",
      "총 계산 시간: 0:00:00.215845\n",
      "총 계산 시간: 215ms\n"
     ]
    }
   ],
   "source": [
    "from datetime import datetime, timedelta\n",
    "\n",
    "start = datetime.now()\n",
    "print('1에서 백만까지 더합니다.')\n",
    "\n",
    "ret = 0\n",
    "for i in range(1000000):\n",
    "    ret += i\n",
    "\n",
    "print('1에서 백만까지 더한 결과: %d' %ret)\n",
    "end = datetime.now()\n",
    "\n",
    "elapsed = end - start\n",
    "print('총 계산 시간: ', end=''); print(elapsed)\n",
    "elapsed_ms = int(elapsed.total_seconds()*1000)\n",
    "print('총 계산 시간: %dms' %elapsed_ms)"
   ]
  },
  {
   "cell_type": "code",
   "execution_count": 11,
   "metadata": {},
   "outputs": [
    {
     "data": {
      "text/plain": [
       "datetime.datetime"
      ]
     },
     "execution_count": 11,
     "metadata": {},
     "output_type": "execute_result"
    }
   ],
   "source": [
    "type(start)"
   ]
  },
  {
   "cell_type": "code",
   "execution_count": 17,
   "metadata": {},
   "outputs": [
    {
     "name": "stdout",
     "output_type": "stream",
     "text": [
      "2019-08-22 16:59:30.251416\n",
      "2019-08-22 16:59:30.251416\n",
      "16:59:30\n",
      "2019-08-22 16:59:30\n"
     ]
    }
   ],
   "source": [
    "now = datetime.now()\n",
    "print(now)\n",
    "\n",
    "nowDate = now.strftime('%Y-%m-%d')\n",
    "print(now)\n",
    "\n",
    "nowTime = now.strftime('%H:%M:%S')\n",
    "print(nowTime)\n",
    "\n",
    "nowDatetime = now.strftime('%Y-%m-%d %H:%M:%S')\n",
    "print(nowDatetime)"
   ]
  },
  {
   "cell_type": "code",
   "execution_count": 18,
   "metadata": {},
   "outputs": [
    {
     "data": {
      "text/plain": [
       "datetime.datetime"
      ]
     },
     "execution_count": 18,
     "metadata": {},
     "output_type": "execute_result"
    }
   ],
   "source": [
    "type(now)"
   ]
  },
  {
   "cell_type": "code",
   "execution_count": 24,
   "metadata": {},
   "outputs": [
    {
     "name": "stdout",
     "output_type": "stream",
     "text": [
      "2002-03-02 00:00:00\n",
      "2019-08-22 17:06:30.090879\n",
      "6382 days, 17:06:30.090879\n"
     ]
    }
   ],
   "source": [
    "m_day = datetime(2002, 3, 2)\n",
    "print(m_day)\n",
    "today = datetime.now()\n",
    "print(today)\n",
    "elapsed = today - m_day\n",
    "print(elapsed)"
   ]
  },
  {
   "cell_type": "code",
   "execution_count": 26,
   "metadata": {},
   "outputs": [
    {
     "data": {
      "text/plain": [
       "(6382, 61590, 90879)"
      ]
     },
     "execution_count": 26,
     "metadata": {},
     "output_type": "execute_result"
    }
   ],
   "source": [
    "elapsed.days, elapsed.seconds, elapsed.microseconds"
   ]
  },
  {
   "cell_type": "code",
   "execution_count": 27,
   "metadata": {},
   "outputs": [
    {
     "data": {
      "text/plain": [
       "'러블리~ 우리 함께한지 벌써 6382일이나 지났고, 월수는 212개월, 년수는 17년이 지났네~!!'"
      ]
     },
     "execution_count": 27,
     "metadata": {},
     "output_type": "execute_result"
    }
   ],
   "source": [
    "elapsed_day   = elapsed.days\n",
    "elapsed_month = elapsed_day / 30\n",
    "elapsed_year  = elapsed_day / 365\n",
    "\n",
    "'러블리~ 우리 함께한지 벌써 {e_dd}일이나 지났고, 월수는 {e_mm}개월, 년수는 {e_yy}년이 지났네~!!'.format(\n",
    "    e_dd = elapsed_day,\n",
    "    e_mm = int(elapsed_month),\n",
    "    e_yy = int(elapsed_year)\n",
    ")"
   ]
  },
  {
   "cell_type": "markdown",
   "metadata": {},
   "source": [
    "```\n",
    "# timedelta에 들어갈 수 있는 인자값은 아래와 같다.\n",
    "----------------------------------------------------------\n",
    "– 1주   : datetime.timedelta(weeks=1)\n",
    "– 1일   : datetime.timedelta(days=1)\n",
    "– 1시간 : datetime.timedelta(hours=1)\n",
    "– 1분   : datetime.timedelta(minutes=1)\n",
    "– 1초   : datetime.timedelta(seconds=1)\n",
    "– 1밀리초 : datetime.timedelta(milliseconds=1)\n",
    "– 1마이크로초 : datetime.timedelta(microseconds=1)\n",
    "```"
   ]
  },
  {
   "cell_type": "markdown",
   "metadata": {},
   "source": [
    "### <span style=\"color:blue\"> 기념일 계산 </span>"
   ]
  },
  {
   "cell_type": "code",
   "execution_count": 110,
   "metadata": {},
   "outputs": [],
   "source": [
    "\n",
    "def getMemorialDay(year, month, day, mem_day='기념일', is_msg=True):\n",
    "    m_day = datetime(year, month, day)\n",
    "    elapsed = datetime.now() - m_day\n",
    "    day   = elapsed.days\n",
    "    month = day / 30\n",
    "    year  = day / 365\n",
    "    day = format(day, ',')\n",
    "    print('오늘은 %s로부터 %s일 경과되었고, 달 수로는 %s개월째, 연 수로는 %s년째 되었습니다!!' % (mem_day, day, int(month), int(year)))\n",
    "    \n",
    "    if is_msg == False & TypeError :\n",
    "        print('입력한 내용 [{}] : 숫자가 아닙니다.'.format(day))\n",
    "        "
   ]
  },
  {
   "cell_type": "code",
   "execution_count": 93,
   "metadata": {},
   "outputs": [
    {
     "name": "stdout",
     "output_type": "stream",
     "text": [
      "오늘은 밀레니엄일로부터 7,173일 경과되었고, 달 수로는 239개월째, 연 수로는 19년째 되었습니다!!\n"
     ]
    }
   ],
   "source": [
    "getMemorialDay(2000,1,1, '밀레니엄일')"
   ]
  },
  {
   "cell_type": "code",
   "execution_count": 94,
   "metadata": {},
   "outputs": [
    {
     "name": "stdout",
     "output_type": "stream",
     "text": [
      "오늘은 세월호침몰사고일로부터 1,954일 경과되었고, 달 수로는 65개월째, 연 수로는 5년째 되었습니다!!\n"
     ]
    }
   ],
   "source": [
    "getMemorialDay(2014,4,16, '세월호침몰사고일')"
   ]
  },
  {
   "cell_type": "code",
   "execution_count": 111,
   "metadata": {},
   "outputs": [
    {
     "name": "stdout",
     "output_type": "stream",
     "text": [
      "오늘은 크리스마스로부터 -125일 경과되었고, 달 수로는 -4개월째, 연 수로는 0년째 되었습니다!!\n"
     ]
    },
    {
     "ename": "TypeError",
     "evalue": "unsupported operand type(s) for &: 'bool' and 'type'",
     "output_type": "error",
     "traceback": [
      "\u001b[1;31m---------------------------------------------------------------------------\u001b[0m",
      "\u001b[1;31mTypeError\u001b[0m                                 Traceback (most recent call last)",
      "\u001b[1;32m<ipython-input-111-c5ff36ab7eef>\u001b[0m in \u001b[0;36m<module>\u001b[1;34m\u001b[0m\n\u001b[1;32m----> 1\u001b[1;33m \u001b[0m_y\u001b[0m\u001b[1;33m,\u001b[0m \u001b[0m_m\u001b[0m\u001b[1;33m,\u001b[0m \u001b[0mday\u001b[0m \u001b[1;33m=\u001b[0m \u001b[0mgetMemorialDay\u001b[0m\u001b[1;33m(\u001b[0m\u001b[1;36m2019\u001b[0m\u001b[1;33m,\u001b[0m \u001b[1;36m12\u001b[0m\u001b[1;33m,\u001b[0m \u001b[1;36m25\u001b[0m\u001b[1;33m,\u001b[0m \u001b[1;34m'크리스마스'\u001b[0m\u001b[1;33m,\u001b[0m \u001b[1;32mFalse\u001b[0m\u001b[1;33m)\u001b[0m\u001b[1;33m\u001b[0m\u001b[1;33m\u001b[0m\u001b[0m\n\u001b[0m\u001b[0;32m      2\u001b[0m \u001b[1;31m#'크리스마스까지는 %d일 남았습니다!!' % -day\u001b[0m\u001b[1;33m\u001b[0m\u001b[1;33m\u001b[0m\u001b[1;33m\u001b[0m\u001b[0m\n",
      "\u001b[1;32m<ipython-input-110-3dbc2625c7c8>\u001b[0m in \u001b[0;36mgetMemorialDay\u001b[1;34m(year, month, day, mem_day, is_msg)\u001b[0m\n\u001b[0;32m      8\u001b[0m     \u001b[0mprint\u001b[0m\u001b[1;33m(\u001b[0m\u001b[1;34m'오늘은 %s로부터 %s일 경과되었고, 달 수로는 %s개월째, 연 수로는 %s년째 되었습니다!!'\u001b[0m \u001b[1;33m%\u001b[0m \u001b[1;33m(\u001b[0m\u001b[0mmem_day\u001b[0m\u001b[1;33m,\u001b[0m \u001b[0mday\u001b[0m\u001b[1;33m,\u001b[0m \u001b[0mint\u001b[0m\u001b[1;33m(\u001b[0m\u001b[0mmonth\u001b[0m\u001b[1;33m)\u001b[0m\u001b[1;33m,\u001b[0m \u001b[0mint\u001b[0m\u001b[1;33m(\u001b[0m\u001b[0myear\u001b[0m\u001b[1;33m)\u001b[0m\u001b[1;33m)\u001b[0m\u001b[1;33m)\u001b[0m\u001b[1;33m\u001b[0m\u001b[1;33m\u001b[0m\u001b[0m\n\u001b[0;32m      9\u001b[0m \u001b[1;33m\u001b[0m\u001b[0m\n\u001b[1;32m---> 10\u001b[1;33m     \u001b[1;32mif\u001b[0m \u001b[0mis_msg\u001b[0m \u001b[1;33m==\u001b[0m \u001b[1;32mFalse\u001b[0m \u001b[1;33m&\u001b[0m \u001b[0mTypeError\u001b[0m \u001b[1;33m:\u001b[0m\u001b[1;33m\u001b[0m\u001b[1;33m\u001b[0m\u001b[0m\n\u001b[0m\u001b[0;32m     11\u001b[0m         \u001b[0mprint\u001b[0m\u001b[1;33m(\u001b[0m\u001b[1;34m'입력한 내용 [{}] : 숫자가 아닙니다.'\u001b[0m\u001b[1;33m.\u001b[0m\u001b[0mformat\u001b[0m\u001b[1;33m(\u001b[0m\u001b[0mday\u001b[0m\u001b[1;33m)\u001b[0m\u001b[1;33m)\u001b[0m\u001b[1;33m\u001b[0m\u001b[1;33m\u001b[0m\u001b[0m\n\u001b[0;32m     12\u001b[0m \u001b[1;33m\u001b[0m\u001b[0m\n",
      "\u001b[1;31mTypeError\u001b[0m: unsupported operand type(s) for &: 'bool' and 'type'"
     ]
    }
   ],
   "source": [
    "_y, _m, day = getMemorialDay(2019, 12, 25, '크리스마스', False)\n",
    "#'크리스마스까지는 %d일 남았습니다!!' % -day"
   ]
  },
  {
   "cell_type": "code",
   "execution_count": null,
   "metadata": {},
   "outputs": [],
   "source": []
  },
  {
   "cell_type": "code",
   "execution_count": null,
   "metadata": {},
   "outputs": [],
   "source": []
  }
 ],
 "metadata": {
  "kernelspec": {
   "display_name": "Python 3",
   "language": "python",
   "name": "python3"
  },
  "language_info": {
   "codemirror_mode": {
    "name": "ipython",
    "version": 3
   },
   "file_extension": ".py",
   "mimetype": "text/x-python",
   "name": "python",
   "nbconvert_exporter": "python",
   "pygments_lexer": "ipython3",
   "version": "3.7.3"
  }
 },
 "nbformat": 4,
 "nbformat_minor": 2
}
