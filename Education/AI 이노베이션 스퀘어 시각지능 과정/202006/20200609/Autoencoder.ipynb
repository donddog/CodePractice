{
  "nbformat": 4,
  "nbformat_minor": 0,
  "metadata": {
    "colab": {
      "name": "Autoencoder.ipynb",
      "provenance": [],
      "collapsed_sections": []
    },
    "kernelspec": {
      "name": "python3",
      "display_name": "Python 3"
    },
    "accelerator": "TPU"
  },
  "cells": [
    {
      "cell_type": "code",
      "metadata": {
        "id": "-kjkKo89DtHg",
        "colab_type": "code",
        "outputId": "07e413ec-fd8b-4472-c489-c5fadcdff368",
        "colab": {
          "base_uri": "https://localhost:8080/",
          "height": 35
        }
      },
      "source": [
        "from keras.layers import Input, Dense\n",
        "from keras.models import Model"
      ],
      "execution_count": 1,
      "outputs": [
        {
          "output_type": "stream",
          "text": [
            "Using TensorFlow backend.\n"
          ],
          "name": "stderr"
        }
      ]
    },
    {
      "cell_type": "code",
      "metadata": {
        "id": "mJ9oLAjJD7zH",
        "colab_type": "code",
        "outputId": "17700573-d66e-449b-9f2a-636c4c906a8c",
        "colab": {
          "base_uri": "https://localhost:8080/",
          "height": 269
        }
      },
      "source": [
        "# encoding dim은 축소된 representation vector의 크기를 말합니다.\n",
        "encoding_dim = 32  # 32 floats -> compression of factor 24.5, assuming the input is 784 floats\n",
        "\n",
        "input_img = Input(shape=(784,))\n",
        "encoded = Dense(encoding_dim, activation='relu')(input_img)\n",
        "decoded = Dense(784, activation='sigmoid')(encoded)\n",
        "\n",
        "autoencoder = Model(input_img, decoded)\n",
        "autoencoder.summary()"
      ],
      "execution_count": 2,
      "outputs": [
        {
          "output_type": "stream",
          "text": [
            "Model: \"model_1\"\n",
            "_________________________________________________________________\n",
            "Layer (type)                 Output Shape              Param #   \n",
            "=================================================================\n",
            "input_1 (InputLayer)         (None, 784)               0         \n",
            "_________________________________________________________________\n",
            "dense_1 (Dense)              (None, 32)                25120     \n",
            "_________________________________________________________________\n",
            "dense_2 (Dense)              (None, 784)               25872     \n",
            "=================================================================\n",
            "Total params: 50,992\n",
            "Trainable params: 50,992\n",
            "Non-trainable params: 0\n",
            "_________________________________________________________________\n"
          ],
          "name": "stdout"
        }
      ]
    },
    {
      "cell_type": "code",
      "metadata": {
        "id": "W_7g546LECm1",
        "colab_type": "code",
        "colab": {}
      },
      "source": [
        "autoencoder.compile(optimizer='adadelta', loss='binary_crossentropy')"
      ],
      "execution_count": 0,
      "outputs": []
    },
    {
      "cell_type": "code",
      "metadata": {
        "id": "d_jn9w5KE9tk",
        "colab_type": "code",
        "colab": {}
      },
      "source": [
        "from keras.datasets import mnist\n",
        "import numpy as np\n",
        "(x_train, _), (x_test, _) = mnist.load_data()"
      ],
      "execution_count": 0,
      "outputs": []
    },
    {
      "cell_type": "code",
      "metadata": {
        "id": "jEUBYMkzE_98",
        "colab_type": "code",
        "outputId": "3f90a583-0242-44f2-dac3-b1ec0e04411a",
        "colab": {
          "base_uri": "https://localhost:8080/",
          "height": 53
        }
      },
      "source": [
        "x_train = x_train.astype('float32') / 255.\n",
        "x_test = x_test.astype('float32') / 255.\n",
        "x_train = x_train.reshape((len(x_train), np.prod(x_train.shape[1:])))\n",
        "x_test = x_test.reshape((len(x_test), np.prod(x_test.shape[1:])))\n",
        "print(x_train.shape)\n",
        "print(x_test.shape)"
      ],
      "execution_count": 5,
      "outputs": [
        {
          "output_type": "stream",
          "text": [
            "(60000, 784)\n",
            "(10000, 784)\n"
          ],
          "name": "stdout"
        }
      ]
    },
    {
      "cell_type": "code",
      "metadata": {
        "id": "YOGGWe5bFBv9",
        "colab_type": "code",
        "outputId": "7de88766-66b0-44ef-af40-9f7a7d783f2c",
        "colab": {
          "base_uri": "https://localhost:8080/",
          "height": 1000
        }
      },
      "source": [
        "autoencoder.fit(x_train, x_train,\n",
        "                epochs=50,\n",
        "                batch_size=256,\n",
        "                shuffle=True,\n",
        "                validation_data=(x_test, x_test))"
      ],
      "execution_count": 6,
      "outputs": [
        {
          "output_type": "stream",
          "text": [
            "Train on 60000 samples, validate on 10000 samples\n",
            "Epoch 1/50\n",
            "60000/60000 [==============================] - 3s 43us/step - loss: 0.3713 - val_loss: 0.2721\n",
            "Epoch 2/50\n",
            "60000/60000 [==============================] - 2s 39us/step - loss: 0.2660 - val_loss: 0.2565\n",
            "Epoch 3/50\n",
            "60000/60000 [==============================] - 2s 39us/step - loss: 0.2463 - val_loss: 0.2335\n",
            "Epoch 4/50\n",
            "60000/60000 [==============================] - 2s 39us/step - loss: 0.2257 - val_loss: 0.2151\n",
            "Epoch 5/50\n",
            "60000/60000 [==============================] - 2s 39us/step - loss: 0.2097 - val_loss: 0.2016\n",
            "Epoch 6/50\n",
            "60000/60000 [==============================] - 2s 38us/step - loss: 0.1980 - val_loss: 0.1915\n",
            "Epoch 7/50\n",
            "60000/60000 [==============================] - 2s 39us/step - loss: 0.1892 - val_loss: 0.1839\n",
            "Epoch 8/50\n",
            "60000/60000 [==============================] - 2s 39us/step - loss: 0.1823 - val_loss: 0.1777\n",
            "Epoch 9/50\n",
            "60000/60000 [==============================] - 2s 40us/step - loss: 0.1767 - val_loss: 0.1727\n",
            "Epoch 10/50\n",
            "60000/60000 [==============================] - 2s 39us/step - loss: 0.1719 - val_loss: 0.1682\n",
            "Epoch 11/50\n",
            "60000/60000 [==============================] - 2s 40us/step - loss: 0.1676 - val_loss: 0.1640\n",
            "Epoch 12/50\n",
            "60000/60000 [==============================] - 2s 40us/step - loss: 0.1635 - val_loss: 0.1600\n",
            "Epoch 13/50\n",
            "60000/60000 [==============================] - 2s 39us/step - loss: 0.1597 - val_loss: 0.1562\n",
            "Epoch 14/50\n",
            "60000/60000 [==============================] - 2s 39us/step - loss: 0.1561 - val_loss: 0.1530\n",
            "Epoch 15/50\n",
            "60000/60000 [==============================] - 2s 40us/step - loss: 0.1528 - val_loss: 0.1495\n",
            "Epoch 16/50\n",
            "60000/60000 [==============================] - 2s 40us/step - loss: 0.1497 - val_loss: 0.1468\n",
            "Epoch 17/50\n",
            "60000/60000 [==============================] - 2s 40us/step - loss: 0.1469 - val_loss: 0.1440\n",
            "Epoch 18/50\n",
            "60000/60000 [==============================] - 2s 41us/step - loss: 0.1443 - val_loss: 0.1415\n",
            "Epoch 19/50\n",
            "60000/60000 [==============================] - 2s 39us/step - loss: 0.1419 - val_loss: 0.1392\n",
            "Epoch 20/50\n",
            "60000/60000 [==============================] - 2s 39us/step - loss: 0.1396 - val_loss: 0.1368\n",
            "Epoch 21/50\n",
            "60000/60000 [==============================] - 2s 39us/step - loss: 0.1374 - val_loss: 0.1348\n",
            "Epoch 22/50\n",
            "60000/60000 [==============================] - 2s 38us/step - loss: 0.1353 - val_loss: 0.1327\n",
            "Epoch 23/50\n",
            "60000/60000 [==============================] - 2s 39us/step - loss: 0.1333 - val_loss: 0.1308\n",
            "Epoch 24/50\n",
            "60000/60000 [==============================] - 2s 39us/step - loss: 0.1313 - val_loss: 0.1288\n",
            "Epoch 25/50\n",
            "60000/60000 [==============================] - 2s 40us/step - loss: 0.1293 - val_loss: 0.1269\n",
            "Epoch 26/50\n",
            "60000/60000 [==============================] - 2s 39us/step - loss: 0.1275 - val_loss: 0.1250\n",
            "Epoch 27/50\n",
            "60000/60000 [==============================] - 2s 39us/step - loss: 0.1257 - val_loss: 0.1233\n",
            "Epoch 28/50\n",
            "60000/60000 [==============================] - 2s 38us/step - loss: 0.1240 - val_loss: 0.1215\n",
            "Epoch 29/50\n",
            "60000/60000 [==============================] - 2s 39us/step - loss: 0.1223 - val_loss: 0.1200\n",
            "Epoch 30/50\n",
            "60000/60000 [==============================] - 2s 40us/step - loss: 0.1207 - val_loss: 0.1184\n",
            "Epoch 31/50\n",
            "60000/60000 [==============================] - 2s 39us/step - loss: 0.1192 - val_loss: 0.1170\n",
            "Epoch 32/50\n",
            "60000/60000 [==============================] - 2s 39us/step - loss: 0.1178 - val_loss: 0.1156\n",
            "Epoch 33/50\n",
            "60000/60000 [==============================] - 2s 38us/step - loss: 0.1164 - val_loss: 0.1143\n",
            "Epoch 34/50\n",
            "60000/60000 [==============================] - 2s 40us/step - loss: 0.1152 - val_loss: 0.1130\n",
            "Epoch 35/50\n",
            "60000/60000 [==============================] - 2s 39us/step - loss: 0.1140 - val_loss: 0.1119\n",
            "Epoch 36/50\n",
            "60000/60000 [==============================] - 2s 39us/step - loss: 0.1129 - val_loss: 0.1108\n",
            "Epoch 37/50\n",
            "60000/60000 [==============================] - 2s 40us/step - loss: 0.1119 - val_loss: 0.1099\n",
            "Epoch 38/50\n",
            "60000/60000 [==============================] - 2s 40us/step - loss: 0.1109 - val_loss: 0.1089\n",
            "Epoch 39/50\n",
            "60000/60000 [==============================] - 2s 39us/step - loss: 0.1101 - val_loss: 0.1081\n",
            "Epoch 40/50\n",
            "60000/60000 [==============================] - 2s 39us/step - loss: 0.1092 - val_loss: 0.1073\n",
            "Epoch 41/50\n",
            "60000/60000 [==============================] - 2s 39us/step - loss: 0.1085 - val_loss: 0.1066\n",
            "Epoch 42/50\n",
            "60000/60000 [==============================] - 2s 40us/step - loss: 0.1078 - val_loss: 0.1060\n",
            "Epoch 43/50\n",
            "60000/60000 [==============================] - 2s 41us/step - loss: 0.1072 - val_loss: 0.1053\n",
            "Epoch 44/50\n",
            "60000/60000 [==============================] - 2s 39us/step - loss: 0.1066 - val_loss: 0.1047\n",
            "Epoch 45/50\n",
            "60000/60000 [==============================] - 2s 39us/step - loss: 0.1060 - val_loss: 0.1042\n",
            "Epoch 46/50\n",
            "60000/60000 [==============================] - 2s 40us/step - loss: 0.1055 - val_loss: 0.1037\n",
            "Epoch 47/50\n",
            "60000/60000 [==============================] - 2s 40us/step - loss: 0.1050 - val_loss: 0.1033\n",
            "Epoch 48/50\n",
            "60000/60000 [==============================] - 2s 40us/step - loss: 0.1046 - val_loss: 0.1029\n",
            "Epoch 49/50\n",
            "60000/60000 [==============================] - 2s 40us/step - loss: 0.1042 - val_loss: 0.1025\n",
            "Epoch 50/50\n",
            "60000/60000 [==============================] - 2s 40us/step - loss: 0.1038 - val_loss: 0.1021\n"
          ],
          "name": "stdout"
        },
        {
          "output_type": "execute_result",
          "data": {
            "text/plain": [
              "<keras.callbacks.callbacks.History at 0x7f70ee500668>"
            ]
          },
          "metadata": {
            "tags": []
          },
          "execution_count": 6
        }
      ]
    },
    {
      "cell_type": "code",
      "metadata": {
        "id": "vZLK4bodkohG",
        "colab_type": "code",
        "colab": {}
      },
      "source": [
        "decoded_imgs = autoencoder.predict(x_test)"
      ],
      "execution_count": 0,
      "outputs": []
    },
    {
      "cell_type": "code",
      "metadata": {
        "id": "5tXxe68cGEbE",
        "colab_type": "code",
        "outputId": "2658d094-7d2f-49bf-ed3f-f214ecd0bfff",
        "colab": {
          "base_uri": "https://localhost:8080/",
          "height": 248
        }
      },
      "source": [
        "# use Matplotlib (don't ask)\n",
        "import matplotlib.pyplot as plt\n",
        "\n",
        "n = 10  # how many digits we will display\n",
        "plt.figure(figsize=(20, 4))\n",
        "for i in range(n):\n",
        "    # display original\n",
        "    ax = plt.subplot(2, n, i + 1)\n",
        "    plt.imshow(x_test[i].reshape(28, 28))\n",
        "    plt.gray()\n",
        "    ax.get_xaxis().set_visible(False)\n",
        "    ax.get_yaxis().set_visible(False)\n",
        "\n",
        "    # display reconstruction\n",
        "    ax = plt.subplot(2, n, i + 1 + n)\n",
        "    plt.imshow(decoded_imgs[i].reshape(28, 28))\n",
        "    plt.gray()\n",
        "    ax.get_xaxis().set_visible(False)\n",
        "    ax.get_yaxis().set_visible(False)\n",
        "plt.show()"
      ],
      "execution_count": 8,
      "outputs": [
        {
          "output_type": "display_data",
          "data": {
            "image/png": "[encoded data removed]",
            "text/plain": [
              "<Figure size 1440x288 with 20 Axes>"
            ]
          },
          "metadata": {
            "tags": [],
            "needs_background": "light"
          }
        }
      ]
    },
    {
      "cell_type": "markdown",
      "metadata": {
        "id": "-r8UDxqAG9Pi",
        "colab_type": "text"
      },
      "source": [
        "Deep autoencoder by stack dense layers"
      ]
    },
    {
      "cell_type": "code",
      "metadata": {
        "id": "7mfcVlJIHDZZ",
        "colab_type": "code",
        "colab": {}
      },
      "source": [
        "input_img = Input(shape=(784,))\n",
        "encoded = Dense(128, activation='relu')(input_img)\n",
        "encoded = Dense(64, activation='relu')(encoded)\n",
        "encoded = Dense(32, activation='relu')(encoded)\n",
        "\n",
        "decoded = Dense(64, activation='relu')(encoded)\n",
        "decoded = Dense(128, activation='relu')(decoded)\n",
        "decoded = Dense(784, activation='sigmoid')(decoded)"
      ],
      "execution_count": 0,
      "outputs": []
    },
    {
      "cell_type": "code",
      "metadata": {
        "id": "2HHBTNdSHErj",
        "colab_type": "code",
        "outputId": "aec99d05-8603-4208-9380-a433b7d9b82d",
        "colab": {
          "base_uri": "https://localhost:8080/",
          "height": 1000
        }
      },
      "source": [
        "autoencoder = Model(input_img, decoded)\n",
        "autoencoder.compile(optimizer='adadelta', loss='binary_crossentropy')\n",
        "\n",
        "autoencoder.fit(x_train, x_train,\n",
        "                epochs=100,\n",
        "                batch_size=256,\n",
        "                shuffle=True,\n",
        "                validation_data=(x_test, x_test))"
      ],
      "execution_count": 10,
      "outputs": [
        {
          "output_type": "stream",
          "text": [
            "Train on 60000 samples, validate on 10000 samples\n",
            "Epoch 1/100\n",
            "60000/60000 [==============================] - 4s 70us/step - loss: 0.3479 - val_loss: 0.2635\n",
            "Epoch 2/100\n",
            "60000/60000 [==============================] - 4s 66us/step - loss: 0.2561 - val_loss: 0.2461\n",
            "Epoch 3/100\n",
            "60000/60000 [==============================] - 4s 66us/step - loss: 0.2349 - val_loss: 0.2224\n",
            "Epoch 4/100\n",
            "60000/60000 [==============================] - 4s 67us/step - loss: 0.2156 - val_loss: 0.2094\n",
            "Epoch 5/100\n",
            "60000/60000 [==============================] - 4s 65us/step - loss: 0.2051 - val_loss: 0.1960\n",
            "Epoch 6/100\n",
            "60000/60000 [==============================] - 4s 68us/step - loss: 0.1920 - val_loss: 0.1851\n",
            "Epoch 7/100\n",
            "60000/60000 [==============================] - 4s 67us/step - loss: 0.1831 - val_loss: 0.1780\n",
            "Epoch 8/100\n",
            "60000/60000 [==============================] - 4s 67us/step - loss: 0.1773 - val_loss: 0.1743\n",
            "Epoch 9/100\n",
            "60000/60000 [==============================] - 4s 67us/step - loss: 0.1715 - val_loss: 0.1680\n",
            "Epoch 10/100\n",
            "60000/60000 [==============================] - 4s 68us/step - loss: 0.1647 - val_loss: 0.1616\n",
            "Epoch 11/100\n",
            "60000/60000 [==============================] - 4s 71us/step - loss: 0.1597 - val_loss: 0.1565\n",
            "Epoch 12/100\n",
            "60000/60000 [==============================] - 4s 69us/step - loss: 0.1564 - val_loss: 0.1552\n",
            "Epoch 13/100\n",
            "60000/60000 [==============================] - 4s 68us/step - loss: 0.1535 - val_loss: 0.1523\n",
            "Epoch 14/100\n",
            "60000/60000 [==============================] - 4s 67us/step - loss: 0.1511 - val_loss: 0.1499\n",
            "Epoch 15/100\n",
            "60000/60000 [==============================] - 4s 67us/step - loss: 0.1483 - val_loss: 0.1463\n",
            "Epoch 16/100\n",
            "60000/60000 [==============================] - 4s 67us/step - loss: 0.1457 - val_loss: 0.1437\n",
            "Epoch 17/100\n",
            "60000/60000 [==============================] - 4s 67us/step - loss: 0.1437 - val_loss: 0.1418\n",
            "Epoch 18/100\n",
            "60000/60000 [==============================] - 4s 67us/step - loss: 0.1417 - val_loss: 0.1390\n",
            "Epoch 19/100\n",
            "60000/60000 [==============================] - 4s 67us/step - loss: 0.1401 - val_loss: 0.1372\n",
            "Epoch 20/100\n",
            "60000/60000 [==============================] - 4s 66us/step - loss: 0.1382 - val_loss: 0.1377\n",
            "Epoch 21/100\n",
            "60000/60000 [==============================] - 4s 67us/step - loss: 0.1366 - val_loss: 0.1343\n",
            "Epoch 22/100\n",
            "60000/60000 [==============================] - 4s 68us/step - loss: 0.1346 - val_loss: 0.1317\n",
            "Epoch 23/100\n",
            "60000/60000 [==============================] - 4s 66us/step - loss: 0.1328 - val_loss: 0.1310\n",
            "Epoch 24/100\n",
            "60000/60000 [==============================] - 4s 68us/step - loss: 0.1310 - val_loss: 0.1292\n",
            "Epoch 25/100\n",
            "60000/60000 [==============================] - 4s 67us/step - loss: 0.1296 - val_loss: 0.1266\n",
            "Epoch 26/100\n",
            "60000/60000 [==============================] - 4s 68us/step - loss: 0.1284 - val_loss: 0.1276\n",
            "Epoch 27/100\n",
            "60000/60000 [==============================] - 4s 66us/step - loss: 0.1272 - val_loss: 0.1249\n",
            "Epoch 28/100\n",
            "60000/60000 [==============================] - 4s 67us/step - loss: 0.1261 - val_loss: 0.1254\n",
            "Epoch 29/100\n",
            "60000/60000 [==============================] - 4s 67us/step - loss: 0.1251 - val_loss: 0.1238\n",
            "Epoch 30/100\n",
            "60000/60000 [==============================] - 4s 67us/step - loss: 0.1242 - val_loss: 0.1241\n",
            "Epoch 31/100\n",
            "60000/60000 [==============================] - 4s 67us/step - loss: 0.1234 - val_loss: 0.1209\n",
            "Epoch 32/100\n",
            "60000/60000 [==============================] - 4s 67us/step - loss: 0.1224 - val_loss: 0.1212\n",
            "Epoch 33/100\n",
            "60000/60000 [==============================] - 4s 67us/step - loss: 0.1215 - val_loss: 0.1201\n",
            "Epoch 34/100\n",
            "60000/60000 [==============================] - 4s 68us/step - loss: 0.1207 - val_loss: 0.1174\n",
            "Epoch 35/100\n",
            "60000/60000 [==============================] - 4s 67us/step - loss: 0.1198 - val_loss: 0.1170\n",
            "Epoch 36/100\n",
            "60000/60000 [==============================] - 4s 67us/step - loss: 0.1190 - val_loss: 0.1167\n",
            "Epoch 37/100\n",
            "60000/60000 [==============================] - 4s 67us/step - loss: 0.1184 - val_loss: 0.1153\n",
            "Epoch 38/100\n",
            "60000/60000 [==============================] - 4s 66us/step - loss: 0.1178 - val_loss: 0.1150\n",
            "Epoch 39/100\n",
            "60000/60000 [==============================] - 4s 68us/step - loss: 0.1172 - val_loss: 0.1158\n",
            "Epoch 40/100\n",
            "60000/60000 [==============================] - 4s 68us/step - loss: 0.1165 - val_loss: 0.1144\n",
            "Epoch 41/100\n",
            "60000/60000 [==============================] - 4s 67us/step - loss: 0.1160 - val_loss: 0.1152\n",
            "Epoch 42/100\n",
            "60000/60000 [==============================] - 4s 68us/step - loss: 0.1155 - val_loss: 0.1135\n",
            "Epoch 43/100\n",
            "60000/60000 [==============================] - 4s 67us/step - loss: 0.1149 - val_loss: 0.1120\n",
            "Epoch 44/100\n",
            "60000/60000 [==============================] - 4s 70us/step - loss: 0.1144 - val_loss: 0.1128\n",
            "Epoch 45/100\n",
            "60000/60000 [==============================] - 4s 68us/step - loss: 0.1139 - val_loss: 0.1141\n",
            "Epoch 46/100\n",
            "60000/60000 [==============================] - 4s 66us/step - loss: 0.1136 - val_loss: 0.1109\n",
            "Epoch 47/100\n",
            "60000/60000 [==============================] - 4s 67us/step - loss: 0.1131 - val_loss: 0.1104\n",
            "Epoch 48/100\n",
            "60000/60000 [==============================] - 4s 66us/step - loss: 0.1126 - val_loss: 0.1115\n",
            "Epoch 49/100\n",
            "60000/60000 [==============================] - 4s 68us/step - loss: 0.1120 - val_loss: 0.1112\n",
            "Epoch 50/100\n",
            "60000/60000 [==============================] - 4s 67us/step - loss: 0.1118 - val_loss: 0.1103\n",
            "Epoch 51/100\n",
            "60000/60000 [==============================] - 4s 68us/step - loss: 0.1112 - val_loss: 0.1092\n",
            "Epoch 52/100\n",
            "60000/60000 [==============================] - 4s 66us/step - loss: 0.1110 - val_loss: 0.1094\n",
            "Epoch 53/100\n",
            "60000/60000 [==============================] - 4s 67us/step - loss: 0.1106 - val_loss: 0.1091\n",
            "Epoch 54/100\n",
            "60000/60000 [==============================] - 4s 67us/step - loss: 0.1100 - val_loss: 0.1105\n",
            "Epoch 55/100\n",
            "60000/60000 [==============================] - 4s 66us/step - loss: 0.1099 - val_loss: 0.1080\n",
            "Epoch 56/100\n",
            "60000/60000 [==============================] - 4s 67us/step - loss: 0.1095 - val_loss: 0.1081\n",
            "Epoch 57/100\n",
            "60000/60000 [==============================] - 4s 67us/step - loss: 0.1090 - val_loss: 0.1075\n",
            "Epoch 58/100\n",
            "60000/60000 [==============================] - 4s 67us/step - loss: 0.1088 - val_loss: 0.1066\n",
            "Epoch 59/100\n",
            "60000/60000 [==============================] - 4s 66us/step - loss: 0.1084 - val_loss: 0.1067\n",
            "Epoch 60/100\n",
            "60000/60000 [==============================] - 4s 67us/step - loss: 0.1082 - val_loss: 0.1064\n",
            "Epoch 61/100\n",
            "60000/60000 [==============================] - 4s 66us/step - loss: 0.1078 - val_loss: 0.1072\n",
            "Epoch 62/100\n",
            "60000/60000 [==============================] - 4s 66us/step - loss: 0.1075 - val_loss: 0.1066\n",
            "Epoch 63/100\n",
            "60000/60000 [==============================] - 4s 67us/step - loss: 0.1073 - val_loss: 0.1066\n",
            "Epoch 64/100\n",
            "60000/60000 [==============================] - 4s 66us/step - loss: 0.1070 - val_loss: 0.1082\n",
            "Epoch 65/100\n",
            "60000/60000 [==============================] - 4s 66us/step - loss: 0.1067 - val_loss: 0.1056\n",
            "Epoch 66/100\n",
            "60000/60000 [==============================] - 4s 66us/step - loss: 0.1065 - val_loss: 0.1064\n",
            "Epoch 67/100\n",
            "60000/60000 [==============================] - 4s 66us/step - loss: 0.1063 - val_loss: 0.1065\n",
            "Epoch 68/100\n",
            "60000/60000 [==============================] - 4s 66us/step - loss: 0.1061 - val_loss: 0.1051\n",
            "Epoch 69/100\n",
            "60000/60000 [==============================] - 4s 67us/step - loss: 0.1059 - val_loss: 0.1052\n",
            "Epoch 70/100\n",
            "60000/60000 [==============================] - 4s 68us/step - loss: 0.1056 - val_loss: 0.1032\n",
            "Epoch 71/100\n",
            "60000/60000 [==============================] - 4s 67us/step - loss: 0.1053 - val_loss: 0.1046\n",
            "Epoch 72/100\n",
            "60000/60000 [==============================] - 4s 67us/step - loss: 0.1052 - val_loss: 0.1031\n",
            "Epoch 73/100\n",
            "60000/60000 [==============================] - 4s 67us/step - loss: 0.1050 - val_loss: 0.1070\n",
            "Epoch 74/100\n",
            "60000/60000 [==============================] - 4s 67us/step - loss: 0.1047 - val_loss: 0.1051\n",
            "Epoch 75/100\n",
            "60000/60000 [==============================] - 4s 67us/step - loss: 0.1045 - val_loss: 0.1043\n",
            "Epoch 76/100\n",
            "60000/60000 [==============================] - 4s 66us/step - loss: 0.1043 - val_loss: 0.1023\n",
            "Epoch 77/100\n",
            "60000/60000 [==============================] - 4s 67us/step - loss: 0.1041 - val_loss: 0.1027\n",
            "Epoch 78/100\n",
            "60000/60000 [==============================] - 4s 67us/step - loss: 0.1039 - val_loss: 0.1018\n",
            "Epoch 79/100\n",
            "60000/60000 [==============================] - 4s 67us/step - loss: 0.1037 - val_loss: 0.1030\n",
            "Epoch 80/100\n",
            "60000/60000 [==============================] - 4s 67us/step - loss: 0.1034 - val_loss: 0.1025\n",
            "Epoch 81/100\n",
            "60000/60000 [==============================] - 4s 66us/step - loss: 0.1034 - val_loss: 0.1019\n",
            "Epoch 82/100\n",
            "60000/60000 [==============================] - 4s 66us/step - loss: 0.1031 - val_loss: 0.1021\n",
            "Epoch 83/100\n",
            "60000/60000 [==============================] - 4s 67us/step - loss: 0.1029 - val_loss: 0.1023\n",
            "Epoch 84/100\n",
            "60000/60000 [==============================] - 4s 67us/step - loss: 0.1027 - val_loss: 0.1003\n",
            "Epoch 85/100\n",
            "60000/60000 [==============================] - 4s 67us/step - loss: 0.1025 - val_loss: 0.1026\n",
            "Epoch 86/100\n",
            "60000/60000 [==============================] - 4s 66us/step - loss: 0.1022 - val_loss: 0.1031\n",
            "Epoch 87/100\n",
            "60000/60000 [==============================] - 4s 68us/step - loss: 0.1021 - val_loss: 0.1016\n",
            "Epoch 88/100\n",
            "60000/60000 [==============================] - 4s 70us/step - loss: 0.1020 - val_loss: 0.1010\n",
            "Epoch 89/100\n",
            "60000/60000 [==============================] - 4s 71us/step - loss: 0.1017 - val_loss: 0.1034\n",
            "Epoch 90/100\n",
            "60000/60000 [==============================] - 4s 69us/step - loss: 0.1016 - val_loss: 0.1006\n",
            "Epoch 91/100\n",
            "60000/60000 [==============================] - 4s 66us/step - loss: 0.1014 - val_loss: 0.1001\n",
            "Epoch 92/100\n",
            "60000/60000 [==============================] - 4s 67us/step - loss: 0.1013 - val_loss: 0.1021\n",
            "Epoch 93/100\n",
            "60000/60000 [==============================] - 4s 68us/step - loss: 0.1010 - val_loss: 0.1002\n",
            "Epoch 94/100\n",
            "60000/60000 [==============================] - 4s 67us/step - loss: 0.1010 - val_loss: 0.1007\n",
            "Epoch 95/100\n",
            "60000/60000 [==============================] - 4s 68us/step - loss: 0.1006 - val_loss: 0.0996\n",
            "Epoch 96/100\n",
            "60000/60000 [==============================] - 4s 66us/step - loss: 0.1006 - val_loss: 0.1001\n",
            "Epoch 97/100\n",
            "60000/60000 [==============================] - 4s 67us/step - loss: 0.1003 - val_loss: 0.0988\n",
            "Epoch 98/100\n",
            "60000/60000 [==============================] - 4s 66us/step - loss: 0.1004 - val_loss: 0.0998\n",
            "Epoch 99/100\n",
            "60000/60000 [==============================] - 4s 67us/step - loss: 0.1001 - val_loss: 0.1003\n",
            "Epoch 100/100\n",
            "60000/60000 [==============================] - 4s 68us/step - loss: 0.1000 - val_loss: 0.0985\n"
          ],
          "name": "stdout"
        },
        {
          "output_type": "execute_result",
          "data": {
            "text/plain": [
              "<keras.callbacks.callbacks.History at 0x7f70a4b9ca90>"
            ]
          },
          "metadata": {
            "tags": []
          },
          "execution_count": 10
        }
      ]
    },
    {
      "cell_type": "code",
      "metadata": {
        "id": "RdsmbrB-HF7D",
        "colab_type": "code",
        "outputId": "6fe38f24-cc10-48b7-a577-12f6bc2162a4",
        "colab": {
          "base_uri": "https://localhost:8080/",
          "height": 248
        }
      },
      "source": [
        "# use Matplotlib (don't ask)\n",
        "import matplotlib.pyplot as plt\n",
        "\n",
        "n = 10  # how many digits we will display\n",
        "plt.figure(figsize=(20, 4))\n",
        "\n",
        "for i in range(n):\n",
        "    # display original\n",
        "    ax = plt.subplot(2, n, i + 1)\n",
        "    plt.imshow(x_test[i].reshape(28, 28))\n",
        "    plt.gray()\n",
        "    ax.get_xaxis().set_visible(False)\n",
        "    ax.get_yaxis().set_visible(False)\n",
        "\n",
        "    # display reconstruction\n",
        "    ax = plt.subplot(2, n, i + 1 + n)\n",
        "    plt.imshow(decoded_imgs[i].reshape(28, 28))\n",
        "    plt.gray()\n",
        "    ax.get_xaxis().set_visible(False)\n",
        "    ax.get_yaxis().set_visible(False)\n",
        "plt.show()"
      ],
      "execution_count": 11,
      "outputs": [
        {
          "output_type": "display_data",
          "data": {
            "image/png": "[encoded data removed]",
            "text/plain": [
              "<Figure size 1440x288 with 20 Axes>"
            ]
          },
          "metadata": {
            "tags": [],
            "needs_background": "light"
          }
        }
      ]
    },
    {
      "cell_type": "code",
      "metadata": {
        "id": "E5s7TR3_H04c",
        "colab_type": "code",
        "colab": {}
      },
      "source": [
        ""
      ],
      "execution_count": 0,
      "outputs": []
    }
  ]
}