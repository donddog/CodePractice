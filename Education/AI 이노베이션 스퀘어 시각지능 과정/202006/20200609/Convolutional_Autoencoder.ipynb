{
  "nbformat": 4,
  "nbformat_minor": 0,
  "metadata": {
    "colab": {
      "name": "Convolutional_Autoencoder.ipynb",
      "provenance": [],
      "collapsed_sections": []
    },
    "kernelspec": {
      "name": "python3",
      "display_name": "Python 3"
    },
    "accelerator": "TPU"
  },
  "cells": [
    {
      "cell_type": "code",
      "metadata": {
        "id": "elKZAac0IAlt",
        "colab_type": "code",
        "outputId": "412e26c3-f8e3-4a44-b741-fadc20528450",
        "colab": {
          "base_uri": "https://localhost:8080/",
          "height": 71
        }
      },
      "source": [
        "from keras.datasets import mnist\n",
        "import numpy as np\n",
        "\n",
        "(x_train, _), (x_test, _) = mnist.load_data()\n",
        "\n",
        "x_train = x_train.astype('float32') / 255.\n",
        "x_test = x_test.astype('float32') / 255.\n",
        "x_train = np.reshape(x_train, (len(x_train), 28, 28, 1))  # adapt this if using `channels_first` image data format\n",
        "x_test = np.reshape(x_test, (len(x_test), 28, 28, 1))  # adapt this if using `channels_first` image data format"
      ],
      "execution_count": 1,
      "outputs": [
        {
          "output_type": "stream",
          "text": [
            "Using TensorFlow backend.\n"
          ],
          "name": "stderr"
        },
        {
          "output_type": "stream",
          "text": [
            "Downloading data from https://s3.amazonaws.com/img-datasets/mnist.npz\n",
            "11493376/11490434 [==============================] - 0s 0us/step\n"
          ],
          "name": "stdout"
        }
      ]
    },
    {
      "cell_type": "code",
      "metadata": {
        "id": "r1J2XfmAIFod",
        "colab_type": "code",
        "outputId": "eef1e5e6-21e7-4990-b8c6-2830381c1129",
        "colab": {
          "base_uri": "https://localhost:8080/",
          "height": 665
        }
      },
      "source": [
        "from keras.layers import Input, Dense, Conv2D, MaxPooling2D, UpSampling2D\n",
        "from keras.models import Model\n",
        "from keras import backend as K\n",
        "\n",
        "input_img = Input(shape=(28, 28, 1))  # adapt this if using `channels_first` image data format\n",
        "\n",
        "x = Conv2D(16, (3, 3), activation='relu', padding='same')(input_img)\n",
        "# batch, 28, 28, 16\n",
        "x = MaxPooling2D((2, 2), padding='same')(x)\n",
        "# batch, 14, 14, 16\n",
        "x = Conv2D(8, (3, 3), activation='relu', padding='same')(x)\n",
        "# batch, 14, 14, 8\n",
        "x = MaxPooling2D((2, 2), padding='same')(x)\n",
        "# batch, 7, 7, 8\n",
        "x = Conv2D(8, (3, 3), activation='relu', padding='same')(x)\n",
        "# batch, 7, 7, 8\n",
        "encoded = MaxPooling2D((2, 2), padding='same')(x)\n",
        "# batch, 4, 4, 8\n",
        "\n",
        "x = Conv2D(8, (3, 3), activation='relu', padding='same')(encoded)\n",
        "# batch, 4, 4, 8\n",
        "x = UpSampling2D((2, 2))(x)\n",
        "# batch, 8, 8, 8\n",
        "x = Conv2D(16, (3, 3), activation='relu', padding='same')(x)\n",
        "# batch, 8, 8, 8\n",
        "x = UpSampling2D((2, 2))(x)\n",
        "# batch, 16, 16, 8\n",
        "x = Conv2D(32, (3, 3), activation='relu')(x)\n",
        "# batch, 14, 14, 16\n",
        "x = UpSampling2D((2, 2))(x)\n",
        "# batch, 28, 28, 16\n",
        "decoded = Conv2D(1, (3, 3), activation='sigmoid', padding='same')(x)\n",
        "# batch, 28, 28, 1\n",
        "autoencoder = Model(input_img, decoded)\n",
        "autoencoder.compile(optimizer='adadelta', loss='binary_crossentropy')\n",
        "\n",
        "autoencoder.summary()"
      ],
      "execution_count": 2,
      "outputs": [
        {
          "output_type": "stream",
          "text": [
            "Model: \"model_1\"\n",
            "_________________________________________________________________\n",
            "Layer (type)                 Output Shape              Param #   \n",
            "=================================================================\n",
            "input_1 (InputLayer)         (None, 28, 28, 1)         0         \n",
            "_________________________________________________________________\n",
            "conv2d_1 (Conv2D)            (None, 28, 28, 16)        160       \n",
            "_________________________________________________________________\n",
            "max_pooling2d_1 (MaxPooling2 (None, 14, 14, 16)        0         \n",
            "_________________________________________________________________\n",
            "conv2d_2 (Conv2D)            (None, 14, 14, 8)         1160      \n",
            "_________________________________________________________________\n",
            "max_pooling2d_2 (MaxPooling2 (None, 7, 7, 8)           0         \n",
            "_________________________________________________________________\n",
            "conv2d_3 (Conv2D)            (None, 7, 7, 8)           584       \n",
            "_________________________________________________________________\n",
            "max_pooling2d_3 (MaxPooling2 (None, 4, 4, 8)           0         \n",
            "_________________________________________________________________\n",
            "conv2d_4 (Conv2D)            (None, 4, 4, 8)           584       \n",
            "_________________________________________________________________\n",
            "up_sampling2d_1 (UpSampling2 (None, 8, 8, 8)           0         \n",
            "_________________________________________________________________\n",
            "conv2d_5 (Conv2D)            (None, 8, 8, 16)          1168      \n",
            "_________________________________________________________________\n",
            "up_sampling2d_2 (UpSampling2 (None, 16, 16, 16)        0         \n",
            "_________________________________________________________________\n",
            "conv2d_6 (Conv2D)            (None, 14, 14, 32)        4640      \n",
            "_________________________________________________________________\n",
            "up_sampling2d_3 (UpSampling2 (None, 28, 28, 32)        0         \n",
            "_________________________________________________________________\n",
            "conv2d_7 (Conv2D)            (None, 28, 28, 1)         289       \n",
            "=================================================================\n",
            "Total params: 8,585\n",
            "Trainable params: 8,585\n",
            "Non-trainable params: 0\n",
            "_________________________________________________________________\n"
          ],
          "name": "stdout"
        }
      ]
    },
    {
      "cell_type": "code",
      "metadata": {
        "id": "Gj7pNdSvIHZD",
        "colab_type": "code",
        "outputId": "42487752-763d-4c99-fd78-2bee33bceb86",
        "colab": {
          "base_uri": "https://localhost:8080/",
          "height": 1000
        }
      },
      "source": [
        "autoencoder.fit(x_train, x_train,\n",
        "                epochs=50,\n",
        "                batch_size=128,\n",
        "                shuffle=True,\n",
        "                validation_data=(x_test, x_test))"
      ],
      "execution_count": 3,
      "outputs": [
        {
          "output_type": "stream",
          "text": [
            "Train on 60000 samples, validate on 10000 samples\n",
            "Epoch 1/50\n",
            "60000/60000 [==============================] - 119s 2ms/step - loss: 0.2097 - val_loss: 0.1598\n",
            "Epoch 2/50\n",
            "60000/60000 [==============================] - 119s 2ms/step - loss: 0.1473 - val_loss: 0.1346\n",
            "Epoch 3/50\n",
            "60000/60000 [==============================] - 120s 2ms/step - loss: 0.1336 - val_loss: 0.1290\n",
            "Epoch 4/50\n",
            "60000/60000 [==============================] - 119s 2ms/step - loss: 0.1270 - val_loss: 0.1219\n",
            "Epoch 5/50\n",
            "60000/60000 [==============================] - 120s 2ms/step - loss: 0.1224 - val_loss: 0.1195\n",
            "Epoch 6/50\n",
            "60000/60000 [==============================] - 120s 2ms/step - loss: 0.1189 - val_loss: 0.1168\n",
            "Epoch 7/50\n",
            "60000/60000 [==============================] - 120s 2ms/step - loss: 0.1164 - val_loss: 0.1169\n",
            "Epoch 8/50\n",
            "60000/60000 [==============================] - 125s 2ms/step - loss: 0.1142 - val_loss: 0.1116\n",
            "Epoch 9/50\n",
            "60000/60000 [==============================] - 121s 2ms/step - loss: 0.1124 - val_loss: 0.1116\n",
            "Epoch 10/50\n",
            "60000/60000 [==============================] - 121s 2ms/step - loss: 0.1107 - val_loss: 0.1115\n",
            "Epoch 11/50\n",
            "60000/60000 [==============================] - 121s 2ms/step - loss: 0.1097 - val_loss: 0.1123\n",
            "Epoch 12/50\n",
            "60000/60000 [==============================] - 121s 2ms/step - loss: 0.1086 - val_loss: 0.1078\n",
            "Epoch 13/50\n",
            "60000/60000 [==============================] - 127s 2ms/step - loss: 0.1076 - val_loss: 0.1050\n",
            "Epoch 14/50\n",
            "60000/60000 [==============================] - 120s 2ms/step - loss: 0.1066 - val_loss: 0.1049\n",
            "Epoch 15/50\n",
            "60000/60000 [==============================] - 120s 2ms/step - loss: 0.1060 - val_loss: 0.1025\n",
            "Epoch 16/50\n",
            "60000/60000 [==============================] - 121s 2ms/step - loss: 0.1052 - val_loss: 0.1022\n",
            "Epoch 17/50\n",
            "60000/60000 [==============================] - 120s 2ms/step - loss: 0.1045 - val_loss: 0.1037\n",
            "Epoch 18/50\n",
            "60000/60000 [==============================] - 119s 2ms/step - loss: 0.1040 - val_loss: 0.1021\n",
            "Epoch 19/50\n",
            "60000/60000 [==============================] - 119s 2ms/step - loss: 0.1033 - val_loss: 0.1004\n",
            "Epoch 20/50\n",
            "60000/60000 [==============================] - 121s 2ms/step - loss: 0.1028 - val_loss: 0.1016\n",
            "Epoch 21/50\n",
            "60000/60000 [==============================] - 122s 2ms/step - loss: 0.1025 - val_loss: 0.1045\n",
            "Epoch 22/50\n",
            "60000/60000 [==============================] - 121s 2ms/step - loss: 0.1017 - val_loss: 0.1015\n",
            "Epoch 23/50\n",
            "60000/60000 [==============================] - 119s 2ms/step - loss: 0.1015 - val_loss: 0.1030\n",
            "Epoch 24/50\n",
            "60000/60000 [==============================] - 118s 2ms/step - loss: 0.1009 - val_loss: 0.0977\n",
            "Epoch 25/50\n",
            "60000/60000 [==============================] - 119s 2ms/step - loss: 0.1005 - val_loss: 0.0976\n",
            "Epoch 26/50\n",
            "60000/60000 [==============================] - 119s 2ms/step - loss: 0.1004 - val_loss: 0.1013\n",
            "Epoch 27/50\n",
            "60000/60000 [==============================] - 119s 2ms/step - loss: 0.1001 - val_loss: 0.0959\n",
            "Epoch 28/50\n",
            "60000/60000 [==============================] - 121s 2ms/step - loss: 0.0995 - val_loss: 0.0989\n",
            "Epoch 29/50\n",
            "60000/60000 [==============================] - 121s 2ms/step - loss: 0.0995 - val_loss: 0.1026\n",
            "Epoch 30/50\n",
            "60000/60000 [==============================] - 121s 2ms/step - loss: 0.0993 - val_loss: 0.0982\n",
            "Epoch 31/50\n",
            "60000/60000 [==============================] - 122s 2ms/step - loss: 0.0990 - val_loss: 0.1006\n",
            "Epoch 32/50\n",
            "60000/60000 [==============================] - 122s 2ms/step - loss: 0.0985 - val_loss: 0.0986\n",
            "Epoch 33/50\n",
            "60000/60000 [==============================] - 121s 2ms/step - loss: 0.0985 - val_loss: 0.0993\n",
            "Epoch 34/50\n",
            "60000/60000 [==============================] - 121s 2ms/step - loss: 0.0982 - val_loss: 0.0973\n",
            "Epoch 35/50\n",
            "60000/60000 [==============================] - 121s 2ms/step - loss: 0.0981 - val_loss: 0.0962\n",
            "Epoch 36/50\n",
            "60000/60000 [==============================] - 121s 2ms/step - loss: 0.0977 - val_loss: 0.0964\n",
            "Epoch 37/50\n",
            "60000/60000 [==============================] - 127s 2ms/step - loss: 0.0975 - val_loss: 0.0967\n",
            "Epoch 38/50\n",
            "60000/60000 [==============================] - 122s 2ms/step - loss: 0.0975 - val_loss: 0.0972\n",
            "Epoch 39/50\n",
            "60000/60000 [==============================] - 123s 2ms/step - loss: 0.0972 - val_loss: 0.0953\n",
            "Epoch 40/50\n",
            "60000/60000 [==============================] - 122s 2ms/step - loss: 0.0971 - val_loss: 0.0977\n",
            "Epoch 41/50\n",
            "60000/60000 [==============================] - 122s 2ms/step - loss: 0.0969 - val_loss: 0.0972\n",
            "Epoch 42/50\n",
            "60000/60000 [==============================] - 129s 2ms/step - loss: 0.0968 - val_loss: 0.0958\n",
            "Epoch 43/50\n",
            "60000/60000 [==============================] - 123s 2ms/step - loss: 0.0967 - val_loss: 0.0951\n",
            "Epoch 44/50\n",
            "60000/60000 [==============================] - 122s 2ms/step - loss: 0.0964 - val_loss: 0.0955\n",
            "Epoch 45/50\n",
            "60000/60000 [==============================] - 121s 2ms/step - loss: 0.0963 - val_loss: 0.0947\n",
            "Epoch 46/50\n",
            "60000/60000 [==============================] - 121s 2ms/step - loss: 0.0962 - val_loss: 0.0934\n",
            "Epoch 47/50\n",
            "60000/60000 [==============================] - 123s 2ms/step - loss: 0.0961 - val_loss: 0.0953\n",
            "Epoch 48/50\n",
            "60000/60000 [==============================] - 121s 2ms/step - loss: 0.0960 - val_loss: 0.0955\n",
            "Epoch 49/50\n",
            "60000/60000 [==============================] - 124s 2ms/step - loss: 0.0958 - val_loss: 0.0937\n",
            "Epoch 50/50\n",
            "60000/60000 [==============================] - 123s 2ms/step - loss: 0.0954 - val_loss: 0.0952\n"
          ],
          "name": "stdout"
        },
        {
          "output_type": "execute_result",
          "data": {
            "text/plain": [
              "<keras.callbacks.callbacks.History at 0x7f3639dfb438>"
            ]
          },
          "metadata": {
            "tags": []
          },
          "execution_count": 3
        }
      ]
    },
    {
      "cell_type": "code",
      "metadata": {
        "id": "iJbNhcWhIMtj",
        "colab_type": "code",
        "colab": {}
      },
      "source": [
        "decoded_imgs = autoencoder.predict(x_test)"
      ],
      "execution_count": 0,
      "outputs": []
    },
    {
      "cell_type": "code",
      "metadata": {
        "id": "q-My4z1VI6ls",
        "colab_type": "code",
        "outputId": "3c1fda0e-94a2-4983-b56f-5a29c9c01ced",
        "colab": {
          "base_uri": "https://localhost:8080/",
          "height": 248
        }
      },
      "source": [
        "# use Matplotlib (don't ask)\n",
        "import matplotlib.pyplot as plt\n",
        "\n",
        "n = 10  # how many digits we will display\n",
        "plt.figure(figsize=(20, 4))\n",
        "for i in range(n):\n",
        "    # display original\n",
        "    ax = plt.subplot(2, n, i + 1)\n",
        "    plt.imshow(x_test[i].reshape(28, 28))\n",
        "    plt.gray()\n",
        "    ax.get_xaxis().set_visible(False)\n",
        "    ax.get_yaxis().set_visible(False)\n",
        "\n",
        "    # display reconstruction\n",
        "    ax = plt.subplot(2, n, i + 1 + n)\n",
        "    plt.imshow(decoded_imgs[i].reshape(28, 28))\n",
        "    plt.gray()\n",
        "    ax.get_xaxis().set_visible(False)\n",
        "    ax.get_yaxis().set_visible(False)\n",
        "plt.show()"
      ],
      "execution_count": 5,
      "outputs": [
        {
          "output_type": "display_data",
          "data": {
            "image/png": "[encoded data removed]",
            "text/plain": [
              "<Figure size 1440x288 with 20 Axes>"
            ]
          },
          "metadata": {
            "tags": [],
            "needs_background": "light"
          }
        }
      ]
    },
    {
      "cell_type": "code",
      "metadata": {
        "id": "gCTZgppsJo_T",
        "colab_type": "code",
        "colab": {}
      },
      "source": [
        ""
      ],
      "execution_count": 0,
      "outputs": []
    }
  ]
}