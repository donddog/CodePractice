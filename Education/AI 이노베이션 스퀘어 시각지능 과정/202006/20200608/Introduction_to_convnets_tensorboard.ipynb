{
  "nbformat": 4,
  "nbformat_minor": 0,
  "metadata": {
    "accelerator": "TPU",
    "colab": {
      "name": "Introduction_to_convnets_tensorboard.ipynb",
      "provenance": [],
      "collapsed_sections": []
    },
    "kernelspec": {
      "display_name": "Python 3",
      "language": "python",
      "name": "python3"
    },
    "language_info": {
      "codemirror_mode": {
        "name": "ipython",
        "version": 3
      },
      "file_extension": ".py",
      "mimetype": "text/x-python",
      "name": "python",
      "nbconvert_exporter": "python",
      "pygments_lexer": "ipython3",
      "version": "3.7.6"
    }
  },
  "cells": [
    {
      "cell_type": "code",
      "metadata": {
        "colab_type": "code",
        "id": "QwDt7f5OsaDJ",
        "outputId": "6a6e5fb6-c2d9-4a54-8956-d7b46a3917a8",
        "colab": {
          "base_uri": "https://localhost:8080/",
          "height": 35
        }
      },
      "source": [
        "%tensorflow_version 1.x"
      ],
      "execution_count": 1,
      "outputs": [
        {
          "output_type": "stream",
          "text": [
            "TensorFlow 1.x selected.\n"
          ],
          "name": "stdout"
        }
      ]
    },
    {
      "cell_type": "code",
      "metadata": {
        "colab_type": "code",
        "id": "SkrUeLrarQB_",
        "outputId": "1de68acb-e214-490c-b76c-3a34d359a5cd",
        "colab": {
          "base_uri": "https://localhost:8080/",
          "height": 53
        }
      },
      "source": [
        "!pip install -U tensorboardcolab\n",
        "from tensorboardcolab import *"
      ],
      "execution_count": 2,
      "outputs": [
        {
          "output_type": "stream",
          "text": [
            "Requirement already up-to-date: tensorboardcolab in /usr/local/lib/python3.6/dist-packages (0.0.22)\n"
          ],
          "name": "stdout"
        },
        {
          "output_type": "stream",
          "text": [
            "Using TensorFlow backend.\n"
          ],
          "name": "stderr"
        }
      ]
    },
    {
      "cell_type": "code",
      "metadata": {
        "colab_type": "code",
        "id": "F4GJ7RStrddg",
        "outputId": "1ae4a55c-6c5f-4a73-dfaa-dfddca8477ee",
        "colab": {
          "base_uri": "https://localhost:8080/",
          "height": 71
        }
      },
      "source": [
        "tbc=TensorBoardColab()"
      ],
      "execution_count": 3,
      "outputs": [
        {
          "output_type": "stream",
          "text": [
            "Wait for 8 seconds...\n",
            "TensorBoard link:\n",
            "https://8d8c7845f276.ngrok.io\n"
          ],
          "name": "stdout"
        }
      ]
    },
    {
      "cell_type": "code",
      "metadata": {
        "colab_type": "code",
        "id": "wEdr1AUaCDzy",
        "colab": {}
      },
      "source": [
        "import tensorflow.keras"
      ],
      "execution_count": 0,
      "outputs": []
    },
    {
      "cell_type": "code",
      "metadata": {
        "colab_type": "code",
        "id": "p1zaaGwcCHLo",
        "outputId": "51015f44-3346-47e4-fdc1-2a6012aa3b1f",
        "colab": {
          "base_uri": "https://localhost:8080/",
          "height": 91
        }
      },
      "source": [
        "from tensorflow.keras import layers\n",
        "from tensorflow.keras import models\n",
        "\n",
        "model = models.Sequential()\n",
        "model.add(layers.Conv2D(4, (3, 3), activation='relu', input_shape=(28, 28, 1)))\n",
        "model.add(layers.MaxPooling2D((2, 2)))\n",
        "model.add(layers.Conv2D(8, (3, 3), activation='relu'))\n",
        "model.add(layers.MaxPooling2D((2, 2)))\n",
        "model.add(layers.Conv2D(16, (3, 3), activation='relu'))"
      ],
      "execution_count": 5,
      "outputs": [
        {
          "output_type": "stream",
          "text": [
            "WARNING:tensorflow:From /tensorflow-1.15.2/python3.6/tensorflow_core/python/ops/resource_variable_ops.py:1630: calling BaseResourceVariable.__init__ (from tensorflow.python.ops.resource_variable_ops) with constraint is deprecated and will be removed in a future version.\n",
            "Instructions for updating:\n",
            "If using Keras pass *_constraint arguments to layers.\n"
          ],
          "name": "stdout"
        }
      ]
    },
    {
      "cell_type": "code",
      "metadata": {
        "colab_type": "code",
        "id": "dtfnxYsSCJW_",
        "outputId": "205b1bc0-3cc2-4e41-d013-1e6af46e8b1d",
        "colab": {
          "base_uri": "https://localhost:8080/",
          "height": 341
        }
      },
      "source": [
        "model.summary()"
      ],
      "execution_count": 6,
      "outputs": [
        {
          "output_type": "stream",
          "text": [
            "Model: \"sequential\"\n",
            "_________________________________________________________________\n",
            "Layer (type)                 Output Shape              Param #   \n",
            "=================================================================\n",
            "conv2d (Conv2D)              (None, 26, 26, 4)         40        \n",
            "_________________________________________________________________\n",
            "max_pooling2d (MaxPooling2D) (None, 13, 13, 4)         0         \n",
            "_________________________________________________________________\n",
            "conv2d_1 (Conv2D)            (None, 11, 11, 8)         296       \n",
            "_________________________________________________________________\n",
            "max_pooling2d_1 (MaxPooling2 (None, 5, 5, 8)           0         \n",
            "_________________________________________________________________\n",
            "conv2d_2 (Conv2D)            (None, 3, 3, 16)          1168      \n",
            "=================================================================\n",
            "Total params: 1,504\n",
            "Trainable params: 1,504\n",
            "Non-trainable params: 0\n",
            "_________________________________________________________________\n"
          ],
          "name": "stdout"
        }
      ]
    },
    {
      "cell_type": "code",
      "metadata": {
        "colab_type": "code",
        "id": "1JTZewCmCKhP",
        "colab": {}
      },
      "source": [
        "model.add(layers.Flatten())\n",
        "model.add(layers.Dense(32, activation='relu'))\n",
        "model.add(layers.Dense(10, activation='softmax'))"
      ],
      "execution_count": 0,
      "outputs": []
    },
    {
      "cell_type": "code",
      "metadata": {
        "colab_type": "code",
        "id": "u0liAHgRCLtg",
        "outputId": "2b7b99c9-13ce-4d13-a8aa-748a527a6324",
        "colab": {
          "base_uri": "https://localhost:8080/",
          "height": 449
        }
      },
      "source": [
        "model.summary()"
      ],
      "execution_count": 8,
      "outputs": [
        {
          "output_type": "stream",
          "text": [
            "Model: \"sequential\"\n",
            "_________________________________________________________________\n",
            "Layer (type)                 Output Shape              Param #   \n",
            "=================================================================\n",
            "conv2d (Conv2D)              (None, 26, 26, 4)         40        \n",
            "_________________________________________________________________\n",
            "max_pooling2d (MaxPooling2D) (None, 13, 13, 4)         0         \n",
            "_________________________________________________________________\n",
            "conv2d_1 (Conv2D)            (None, 11, 11, 8)         296       \n",
            "_________________________________________________________________\n",
            "max_pooling2d_1 (MaxPooling2 (None, 5, 5, 8)           0         \n",
            "_________________________________________________________________\n",
            "conv2d_2 (Conv2D)            (None, 3, 3, 16)          1168      \n",
            "_________________________________________________________________\n",
            "flatten (Flatten)            (None, 144)               0         \n",
            "_________________________________________________________________\n",
            "dense (Dense)                (None, 32)                4640      \n",
            "_________________________________________________________________\n",
            "dense_1 (Dense)              (None, 10)                330       \n",
            "=================================================================\n",
            "Total params: 6,474\n",
            "Trainable params: 6,474\n",
            "Non-trainable params: 0\n",
            "_________________________________________________________________\n"
          ],
          "name": "stdout"
        }
      ]
    },
    {
      "cell_type": "code",
      "metadata": {
        "colab_type": "code",
        "id": "slgAIDZbCM3X",
        "outputId": "1808aba0-210a-4cde-98ec-b75ecc10e0ce",
        "colab": {
          "base_uri": "https://localhost:8080/",
          "height": 53
        }
      },
      "source": [
        "from tensorflow.keras.datasets import mnist\n",
        "from tensorflow.keras.utils import to_categorical\n",
        "# one-hot encoding\n",
        "\n",
        "(train_images, train_labels), (test_images, test_labels) = mnist.load_data()\n",
        "# train_images = (60000, 28, 28) --> (60000, 28, 28, 1) 4D-tensor (B, H, W, C)\n",
        "train_images = train_images.reshape((60000, 28, 28, 1))\n",
        "# train_images = np.expand_dims(train_images, axis=-1)\n",
        "\n",
        "# Pixel [0, 255] -> Rescale [0.0, 1.0]\n",
        "train_images = train_images.astype('float32') / 255\n",
        "\n",
        "test_images = test_images.reshape((10000, 28, 28, 1))\n",
        "test_images = test_images.astype('float32') / 255"
      ],
      "execution_count": 9,
      "outputs": [
        {
          "output_type": "stream",
          "text": [
            "Downloading data from https://storage.googleapis.com/tensorflow/tf-keras-datasets/mnist.npz\n",
            "11493376/11490434 [==============================] - 0s 0us/step\n"
          ],
          "name": "stdout"
        }
      ]
    },
    {
      "cell_type": "code",
      "metadata": {
        "colab_type": "code",
        "id": "vhj4FTvc1dne",
        "outputId": "f48eee62-e07b-47cf-f4a1-e4ef4b25ce68",
        "colab": {
          "base_uri": "https://localhost:8080/",
          "height": 35
        }
      },
      "source": [
        "train_labels[0]"
      ],
      "execution_count": 10,
      "outputs": [
        {
          "output_type": "execute_result",
          "data": {
            "text/plain": [
              "5"
            ]
          },
          "metadata": {
            "tags": []
          },
          "execution_count": 10
        }
      ]
    },
    {
      "cell_type": "code",
      "metadata": {
        "colab_type": "code",
        "id": "vVraIIjr1czL",
        "colab": {}
      },
      "source": [
        "# One-hot encoding: integer -> vector\n",
        "train_labels = to_categorical(train_labels)\n",
        "test_labels = to_categorical(test_labels)"
      ],
      "execution_count": 0,
      "outputs": []
    },
    {
      "cell_type": "code",
      "metadata": {
        "colab_type": "code",
        "id": "gqXWujKm1iTA",
        "outputId": "cda4809e-e8cd-4040-c0be-41f151a29cd3",
        "colab": {
          "base_uri": "https://localhost:8080/",
          "height": 35
        }
      },
      "source": [
        "train_labels[0]"
      ],
      "execution_count": 12,
      "outputs": [
        {
          "output_type": "execute_result",
          "data": {
            "text/plain": [
              "array([0., 0., 0., 0., 0., 1., 0., 0., 0., 0.], dtype=float32)"
            ]
          },
          "metadata": {
            "tags": []
          },
          "execution_count": 12
        }
      ]
    },
    {
      "cell_type": "code",
      "metadata": {
        "colab_type": "code",
        "id": "QQkBiKVECOQf",
        "outputId": "3db21248-7fba-46e7-eed1-8b90a33db32b",
        "colab": {
          "base_uri": "https://localhost:8080/",
          "height": 1000
        }
      },
      "source": [
        "model.compile(optimizer='rmsprop',\n",
        "              loss='categorical_crossentropy',\n",
        "              metrics=['accuracy'])\n",
        "model.fit(train_images, train_labels, epochs=100, batch_size=64, validation_split=0.1, callbacks=[TensorBoardColabCallback(tbc)])"
      ],
      "execution_count": 13,
      "outputs": [
        {
          "output_type": "stream",
          "text": [
            "Train on 54000 samples, validate on 6000 samples\n",
            "WARNING:tensorflow:From /usr/local/lib/python3.6/dist-packages/tensorboardcolab/core.py:49: The name tf.summary.FileWriter is deprecated. Please use tf.compat.v1.summary.FileWriter instead.\n",
            "\n",
            "WARNING:tensorflow:From /usr/local/lib/python3.6/dist-packages/keras/callbacks/tensorboard_v1.py:200: The name tf.summary.merge_all is deprecated. Please use tf.compat.v1.summary.merge_all instead.\n",
            "\n",
            "Epoch 1/100\n",
            "53952/54000 [============================>.] - ETA: 0s - loss: 0.3907 - acc: 0.8853WARNING:tensorflow:From /usr/local/lib/python3.6/dist-packages/tensorboardcolab/callbacks.py:51: The name tf.Summary is deprecated. Please use tf.compat.v1.Summary instead.\n",
            "\n",
            "54000/54000 [==============================] - 19s 345us/sample - loss: 0.3906 - acc: 0.8853 - val_loss: 0.1254 - val_acc: 0.9638\n",
            "Epoch 2/100\n",
            "54000/54000 [==============================] - 19s 352us/sample - loss: 0.1323 - acc: 0.9580 - val_loss: 0.1082 - val_acc: 0.9673\n",
            "Epoch 3/100\n",
            "54000/54000 [==============================] - 18s 342us/sample - loss: 0.0989 - acc: 0.9688 - val_loss: 0.0862 - val_acc: 0.9762\n",
            "Epoch 4/100\n",
            "54000/54000 [==============================] - 18s 341us/sample - loss: 0.0816 - acc: 0.9744 - val_loss: 0.0759 - val_acc: 0.9770\n",
            "Epoch 5/100\n",
            "54000/54000 [==============================] - 19s 349us/sample - loss: 0.0719 - acc: 0.9774 - val_loss: 0.0637 - val_acc: 0.9837\n",
            "Epoch 6/100\n",
            "54000/54000 [==============================] - 19s 347us/sample - loss: 0.0639 - acc: 0.9798 - val_loss: 0.0572 - val_acc: 0.9845\n",
            "Epoch 7/100\n",
            "54000/54000 [==============================] - 19s 344us/sample - loss: 0.0577 - acc: 0.9817 - val_loss: 0.0856 - val_acc: 0.9768\n",
            "Epoch 8/100\n",
            "54000/54000 [==============================] - 19s 358us/sample - loss: 0.0528 - acc: 0.9835 - val_loss: 0.0532 - val_acc: 0.9847\n",
            "Epoch 9/100\n",
            "54000/54000 [==============================] - 19s 347us/sample - loss: 0.0493 - acc: 0.9845 - val_loss: 0.0571 - val_acc: 0.9850\n",
            "Epoch 10/100\n",
            "54000/54000 [==============================] - 19s 344us/sample - loss: 0.0462 - acc: 0.9857 - val_loss: 0.0605 - val_acc: 0.9833\n",
            "Epoch 11/100\n",
            "54000/54000 [==============================] - 19s 343us/sample - loss: 0.0430 - acc: 0.9861 - val_loss: 0.0439 - val_acc: 0.9890\n",
            "Epoch 12/100\n",
            "54000/54000 [==============================] - 18s 341us/sample - loss: 0.0401 - acc: 0.9874 - val_loss: 0.0516 - val_acc: 0.9865\n",
            "Epoch 13/100\n",
            "54000/54000 [==============================] - 19s 350us/sample - loss: 0.0378 - acc: 0.9879 - val_loss: 0.0465 - val_acc: 0.9883\n",
            "Epoch 14/100\n",
            "54000/54000 [==============================] - 19s 344us/sample - loss: 0.0365 - acc: 0.9889 - val_loss: 0.0510 - val_acc: 0.9875\n",
            "Epoch 15/100\n",
            "54000/54000 [==============================] - 19s 347us/sample - loss: 0.0346 - acc: 0.9891 - val_loss: 0.0542 - val_acc: 0.9868\n",
            "Epoch 16/100\n",
            "54000/54000 [==============================] - 18s 340us/sample - loss: 0.0335 - acc: 0.9897 - val_loss: 0.0507 - val_acc: 0.9872\n",
            "Epoch 17/100\n",
            "54000/54000 [==============================] - 18s 338us/sample - loss: 0.0315 - acc: 0.9906 - val_loss: 0.0532 - val_acc: 0.9872\n",
            "Epoch 18/100\n",
            "54000/54000 [==============================] - 18s 334us/sample - loss: 0.0301 - acc: 0.9907 - val_loss: 0.0621 - val_acc: 0.9838\n",
            "Epoch 19/100\n",
            "54000/54000 [==============================] - 18s 338us/sample - loss: 0.0285 - acc: 0.9909 - val_loss: 0.0552 - val_acc: 0.9857\n",
            "Epoch 20/100\n",
            "54000/54000 [==============================] - 18s 334us/sample - loss: 0.0279 - acc: 0.9912 - val_loss: 0.0528 - val_acc: 0.9878\n",
            "Epoch 21/100\n",
            "54000/54000 [==============================] - 18s 336us/sample - loss: 0.0269 - acc: 0.9914 - val_loss: 0.0502 - val_acc: 0.9887\n",
            "Epoch 22/100\n",
            "54000/54000 [==============================] - 18s 334us/sample - loss: 0.0258 - acc: 0.9922 - val_loss: 0.0500 - val_acc: 0.9893\n",
            "Epoch 23/100\n",
            "54000/54000 [==============================] - 18s 337us/sample - loss: 0.0249 - acc: 0.9926 - val_loss: 0.0626 - val_acc: 0.9845\n",
            "Epoch 24/100\n",
            "54000/54000 [==============================] - 18s 339us/sample - loss: 0.0246 - acc: 0.9925 - val_loss: 0.0525 - val_acc: 0.9883\n",
            "Epoch 25/100\n",
            "54000/54000 [==============================] - 19s 360us/sample - loss: 0.0231 - acc: 0.9926 - val_loss: 0.0536 - val_acc: 0.9883\n",
            "Epoch 26/100\n",
            "54000/54000 [==============================] - 19s 349us/sample - loss: 0.0228 - acc: 0.9930 - val_loss: 0.0530 - val_acc: 0.9882\n",
            "Epoch 27/100\n",
            "54000/54000 [==============================] - 19s 353us/sample - loss: 0.0216 - acc: 0.9934 - val_loss: 0.0542 - val_acc: 0.9880\n",
            "Epoch 28/100\n",
            "54000/54000 [==============================] - 19s 345us/sample - loss: 0.0211 - acc: 0.9938 - val_loss: 0.0578 - val_acc: 0.9897\n",
            "Epoch 29/100\n",
            "54000/54000 [==============================] - 20s 369us/sample - loss: 0.0206 - acc: 0.9932 - val_loss: 0.0611 - val_acc: 0.9890\n",
            "Epoch 30/100\n",
            "54000/54000 [==============================] - 19s 344us/sample - loss: 0.0198 - acc: 0.9941 - val_loss: 0.0680 - val_acc: 0.9883\n",
            "Epoch 31/100\n",
            "54000/54000 [==============================] - 19s 358us/sample - loss: 0.0192 - acc: 0.9937 - val_loss: 0.0611 - val_acc: 0.9877\n",
            "Epoch 32/100\n",
            "54000/54000 [==============================] - 19s 352us/sample - loss: 0.0194 - acc: 0.9940 - val_loss: 0.0542 - val_acc: 0.9888\n",
            "Epoch 33/100\n",
            "54000/54000 [==============================] - 19s 351us/sample - loss: 0.0185 - acc: 0.9942 - val_loss: 0.0643 - val_acc: 0.9878\n",
            "Epoch 34/100\n",
            "54000/54000 [==============================] - 19s 353us/sample - loss: 0.0177 - acc: 0.9946 - val_loss: 0.0624 - val_acc: 0.9883\n",
            "Epoch 35/100\n",
            "54000/54000 [==============================] - 20s 361us/sample - loss: 0.0170 - acc: 0.9946 - val_loss: 0.0623 - val_acc: 0.9873\n",
            "Epoch 36/100\n",
            "54000/54000 [==============================] - 19s 350us/sample - loss: 0.0166 - acc: 0.9949 - val_loss: 0.0646 - val_acc: 0.9890\n",
            "Epoch 37/100\n",
            "54000/54000 [==============================] - 19s 348us/sample - loss: 0.0159 - acc: 0.9947 - val_loss: 0.0908 - val_acc: 0.9843\n",
            "Epoch 38/100\n",
            "54000/54000 [==============================] - 19s 353us/sample - loss: 0.0160 - acc: 0.9950 - val_loss: 0.0658 - val_acc: 0.9888\n",
            "Epoch 39/100\n",
            "54000/54000 [==============================] - 19s 358us/sample - loss: 0.0153 - acc: 0.9950 - val_loss: 0.0670 - val_acc: 0.9892\n",
            "Epoch 40/100\n",
            "54000/54000 [==============================] - 19s 355us/sample - loss: 0.0148 - acc: 0.9955 - val_loss: 0.0719 - val_acc: 0.9882\n",
            "Epoch 41/100\n",
            "54000/54000 [==============================] - 20s 368us/sample - loss: 0.0144 - acc: 0.9953 - val_loss: 0.0707 - val_acc: 0.9857\n",
            "Epoch 42/100\n",
            "54000/54000 [==============================] - 21s 383us/sample - loss: 0.0145 - acc: 0.9954 - val_loss: 0.0734 - val_acc: 0.9882\n",
            "Epoch 43/100\n",
            "54000/54000 [==============================] - 19s 358us/sample - loss: 0.0142 - acc: 0.9954 - val_loss: 0.0638 - val_acc: 0.9895\n",
            "Epoch 44/100\n",
            "54000/54000 [==============================] - 19s 345us/sample - loss: 0.0138 - acc: 0.9957 - val_loss: 0.0775 - val_acc: 0.9880\n",
            "Epoch 45/100\n",
            "54000/54000 [==============================] - 19s 343us/sample - loss: 0.0126 - acc: 0.9963 - val_loss: 0.0796 - val_acc: 0.9880\n",
            "Epoch 46/100\n",
            "54000/54000 [==============================] - 19s 347us/sample - loss: 0.0132 - acc: 0.9960 - val_loss: 0.0757 - val_acc: 0.9885\n",
            "Epoch 47/100\n",
            "54000/54000 [==============================] - 19s 343us/sample - loss: 0.0125 - acc: 0.9959 - val_loss: 0.0708 - val_acc: 0.9888\n",
            "Epoch 48/100\n",
            "54000/54000 [==============================] - 19s 343us/sample - loss: 0.0123 - acc: 0.9963 - val_loss: 0.0786 - val_acc: 0.9875\n",
            "Epoch 49/100\n",
            "54000/54000 [==============================] - 19s 345us/sample - loss: 0.0125 - acc: 0.9962 - val_loss: 0.0718 - val_acc: 0.9903\n",
            "Epoch 50/100\n",
            "54000/54000 [==============================] - 19s 351us/sample - loss: 0.0113 - acc: 0.9964 - val_loss: 0.0814 - val_acc: 0.9872\n",
            "Epoch 51/100\n",
            "54000/54000 [==============================] - 19s 352us/sample - loss: 0.0119 - acc: 0.9964 - val_loss: 0.0837 - val_acc: 0.9877\n",
            "Epoch 52/100\n",
            "54000/54000 [==============================] - 19s 351us/sample - loss: 0.0111 - acc: 0.9963 - val_loss: 0.0737 - val_acc: 0.9883\n",
            "Epoch 53/100\n",
            "54000/54000 [==============================] - 18s 342us/sample - loss: 0.0113 - acc: 0.9966 - val_loss: 0.0813 - val_acc: 0.9877\n",
            "Epoch 54/100\n",
            "54000/54000 [==============================] - 19s 353us/sample - loss: 0.0104 - acc: 0.9966 - val_loss: 0.0792 - val_acc: 0.9885\n",
            "Epoch 55/100\n",
            "54000/54000 [==============================] - 19s 353us/sample - loss: 0.0112 - acc: 0.9965 - val_loss: 0.0767 - val_acc: 0.9883\n",
            "Epoch 56/100\n",
            "54000/54000 [==============================] - 19s 355us/sample - loss: 0.0098 - acc: 0.9968 - val_loss: 0.0839 - val_acc: 0.9875\n",
            "Epoch 57/100\n",
            "54000/54000 [==============================] - 19s 345us/sample - loss: 0.0109 - acc: 0.9964 - val_loss: 0.0877 - val_acc: 0.9882\n",
            "Epoch 58/100\n",
            "54000/54000 [==============================] - 19s 359us/sample - loss: 0.0100 - acc: 0.9967 - val_loss: 0.0999 - val_acc: 0.9863\n",
            "Epoch 59/100\n",
            "54000/54000 [==============================] - 18s 341us/sample - loss: 0.0099 - acc: 0.9969 - val_loss: 0.0829 - val_acc: 0.9868\n",
            "Epoch 60/100\n",
            "54000/54000 [==============================] - 19s 345us/sample - loss: 0.0097 - acc: 0.9967 - val_loss: 0.0906 - val_acc: 0.9883\n",
            "Epoch 61/100\n",
            "54000/54000 [==============================] - 19s 346us/sample - loss: 0.0095 - acc: 0.9966 - val_loss: 0.0898 - val_acc: 0.9877\n",
            "Epoch 62/100\n",
            "54000/54000 [==============================] - 19s 345us/sample - loss: 0.0091 - acc: 0.9967 - val_loss: 0.0942 - val_acc: 0.9877\n",
            "Epoch 63/100\n",
            "54000/54000 [==============================] - 19s 345us/sample - loss: 0.0090 - acc: 0.9970 - val_loss: 0.0982 - val_acc: 0.9878\n",
            "Epoch 64/100\n",
            "54000/54000 [==============================] - 19s 348us/sample - loss: 0.0100 - acc: 0.9969 - val_loss: 0.1029 - val_acc: 0.9868\n",
            "Epoch 65/100\n",
            "54000/54000 [==============================] - 19s 347us/sample - loss: 0.0096 - acc: 0.9971 - val_loss: 0.0991 - val_acc: 0.9875\n",
            "Epoch 66/100\n",
            "54000/54000 [==============================] - 19s 352us/sample - loss: 0.0090 - acc: 0.9972 - val_loss: 0.1020 - val_acc: 0.9872\n",
            "Epoch 67/100\n",
            "54000/54000 [==============================] - 19s 356us/sample - loss: 0.0090 - acc: 0.9973 - val_loss: 0.0990 - val_acc: 0.9890\n",
            "Epoch 68/100\n",
            "54000/54000 [==============================] - 19s 359us/sample - loss: 0.0074 - acc: 0.9976 - val_loss: 0.1069 - val_acc: 0.9892\n",
            "Epoch 69/100\n",
            "54000/54000 [==============================] - 19s 349us/sample - loss: 0.0086 - acc: 0.9972 - val_loss: 0.1138 - val_acc: 0.9870\n",
            "Epoch 70/100\n",
            "54000/54000 [==============================] - 19s 346us/sample - loss: 0.0087 - acc: 0.9972 - val_loss: 0.1364 - val_acc: 0.9822\n",
            "Epoch 71/100\n",
            "54000/54000 [==============================] - 19s 355us/sample - loss: 0.0085 - acc: 0.9974 - val_loss: 0.1128 - val_acc: 0.9878\n",
            "Epoch 72/100\n",
            "54000/54000 [==============================] - 19s 352us/sample - loss: 0.0089 - acc: 0.9973 - val_loss: 0.1118 - val_acc: 0.9882\n",
            "Epoch 73/100\n",
            "54000/54000 [==============================] - 18s 342us/sample - loss: 0.0078 - acc: 0.9975 - val_loss: 0.1160 - val_acc: 0.9873\n",
            "Epoch 74/100\n",
            "54000/54000 [==============================] - 19s 345us/sample - loss: 0.0084 - acc: 0.9973 - val_loss: 0.1173 - val_acc: 0.9877\n",
            "Epoch 75/100\n",
            "54000/54000 [==============================] - 19s 351us/sample - loss: 0.0075 - acc: 0.9975 - val_loss: 0.1261 - val_acc: 0.9885\n",
            "Epoch 76/100\n",
            "54000/54000 [==============================] - 19s 348us/sample - loss: 0.0078 - acc: 0.9977 - val_loss: 0.1265 - val_acc: 0.9870\n",
            "Epoch 77/100\n",
            "54000/54000 [==============================] - 19s 357us/sample - loss: 0.0074 - acc: 0.9977 - val_loss: 0.1306 - val_acc: 0.9877\n",
            "Epoch 78/100\n",
            "54000/54000 [==============================] - 19s 350us/sample - loss: 0.0075 - acc: 0.9978 - val_loss: 0.1270 - val_acc: 0.9878\n",
            "Epoch 79/100\n",
            "54000/54000 [==============================] - 19s 347us/sample - loss: 0.0077 - acc: 0.9977 - val_loss: 0.1310 - val_acc: 0.9868\n",
            "Epoch 80/100\n",
            "54000/54000 [==============================] - 19s 351us/sample - loss: 0.0069 - acc: 0.9978 - val_loss: 0.1321 - val_acc: 0.9878\n",
            "Epoch 81/100\n",
            "54000/54000 [==============================] - 19s 344us/sample - loss: 0.0071 - acc: 0.9976 - val_loss: 0.1366 - val_acc: 0.9867\n",
            "Epoch 82/100\n",
            "54000/54000 [==============================] - 20s 362us/sample - loss: 0.0080 - acc: 0.9975 - val_loss: 0.1273 - val_acc: 0.9882\n",
            "Epoch 83/100\n",
            "54000/54000 [==============================] - 19s 359us/sample - loss: 0.0083 - acc: 0.9975 - val_loss: 0.1573 - val_acc: 0.9852\n",
            "Epoch 84/100\n",
            "54000/54000 [==============================] - 19s 359us/sample - loss: 0.0075 - acc: 0.9974 - val_loss: 0.1326 - val_acc: 0.9880\n",
            "Epoch 85/100\n",
            "54000/54000 [==============================] - 19s 346us/sample - loss: 0.0078 - acc: 0.9976 - val_loss: 0.1192 - val_acc: 0.9880\n",
            "Epoch 86/100\n",
            "54000/54000 [==============================] - 19s 349us/sample - loss: 0.0078 - acc: 0.9976 - val_loss: 0.1326 - val_acc: 0.9882\n",
            "Epoch 87/100\n",
            "54000/54000 [==============================] - 19s 345us/sample - loss: 0.0079 - acc: 0.9977 - val_loss: 0.1331 - val_acc: 0.9868\n",
            "Epoch 88/100\n",
            "54000/54000 [==============================] - 19s 354us/sample - loss: 0.0068 - acc: 0.9978 - val_loss: 0.1422 - val_acc: 0.9868\n",
            "Epoch 89/100\n",
            "54000/54000 [==============================] - 19s 353us/sample - loss: 0.0074 - acc: 0.9976 - val_loss: 0.1390 - val_acc: 0.9877\n",
            "Epoch 90/100\n",
            "54000/54000 [==============================] - 19s 352us/sample - loss: 0.0072 - acc: 0.9979 - val_loss: 0.1519 - val_acc: 0.9875\n",
            "Epoch 91/100\n",
            "54000/54000 [==============================] - 20s 364us/sample - loss: 0.0070 - acc: 0.9979 - val_loss: 0.1450 - val_acc: 0.9882\n",
            "Epoch 92/100\n",
            "54000/54000 [==============================] - 18s 340us/sample - loss: 0.0075 - acc: 0.9976 - val_loss: 0.1449 - val_acc: 0.9880\n",
            "Epoch 93/100\n",
            "54000/54000 [==============================] - 19s 349us/sample - loss: 0.0064 - acc: 0.9980 - val_loss: 0.1421 - val_acc: 0.9878\n",
            "Epoch 94/100\n",
            "54000/54000 [==============================] - 19s 350us/sample - loss: 0.0072 - acc: 0.9978 - val_loss: 0.1413 - val_acc: 0.9875\n",
            "Epoch 95/100\n",
            "54000/54000 [==============================] - 19s 355us/sample - loss: 0.0069 - acc: 0.9977 - val_loss: 0.1414 - val_acc: 0.9875\n",
            "Epoch 96/100\n",
            "54000/54000 [==============================] - 19s 355us/sample - loss: 0.0077 - acc: 0.9978 - val_loss: 0.1408 - val_acc: 0.9882\n",
            "Epoch 97/100\n",
            "54000/54000 [==============================] - 19s 354us/sample - loss: 0.0065 - acc: 0.9981 - val_loss: 0.1567 - val_acc: 0.9883\n",
            "Epoch 98/100\n",
            "54000/54000 [==============================] - 19s 346us/sample - loss: 0.0060 - acc: 0.9980 - val_loss: 0.1481 - val_acc: 0.9875\n",
            "Epoch 99/100\n",
            "54000/54000 [==============================] - 19s 358us/sample - loss: 0.0068 - acc: 0.9978 - val_loss: 0.1452 - val_acc: 0.9887\n",
            "Epoch 100/100\n",
            "54000/54000 [==============================] - 20s 361us/sample - loss: 0.0062 - acc: 0.9982 - val_loss: 0.1506 - val_acc: 0.9880\n"
          ],
          "name": "stdout"
        },
        {
          "output_type": "execute_result",
          "data": {
            "text/plain": [
              "<tensorflow.python.keras.callbacks.History at 0x7fb8db795898>"
            ]
          },
          "metadata": {
            "tags": []
          },
          "execution_count": 13
        }
      ]
    },
    {
      "cell_type": "code",
      "metadata": {
        "colab_type": "code",
        "id": "iVJy5Za5CSbH",
        "outputId": "07cd99cf-0cc7-49ae-fb5d-66d903658e4d",
        "colab": {
          "base_uri": "https://localhost:8080/",
          "height": 35
        }
      },
      "source": [
        "test_loss, test_acc = model.evaluate(test_images, test_labels)"
      ],
      "execution_count": 14,
      "outputs": [
        {
          "output_type": "stream",
          "text": [
            "10000/10000 [==============================] - 2s 202us/sample - loss: 0.1296 - acc: 0.9861\n"
          ],
          "name": "stdout"
        }
      ]
    },
    {
      "cell_type": "code",
      "metadata": {
        "colab_type": "code",
        "id": "MDS9TDtXD4Eu",
        "outputId": "0076f4d5-07a0-4c39-81e0-b73f09497a50",
        "colab": {
          "base_uri": "https://localhost:8080/",
          "height": 35
        }
      },
      "source": [
        "test_acc"
      ],
      "execution_count": 15,
      "outputs": [
        {
          "output_type": "execute_result",
          "data": {
            "text/plain": [
              "0.9861"
            ]
          },
          "metadata": {
            "tags": []
          },
          "execution_count": 15
        }
      ]
    },
    {
      "cell_type": "code",
      "metadata": {
        "colab_type": "code",
        "id": "vCKGDIVA16-U",
        "colab": {}
      },
      "source": [
        ""
      ],
      "execution_count": 0,
      "outputs": []
    }
  ]
}