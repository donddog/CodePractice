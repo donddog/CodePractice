{
 "cells": [
  {
   "cell_type": "code",
   "execution_count": 1,
   "metadata": {},
   "outputs": [],
   "source": [
    "import cv2 as cv\n",
    "\n",
    "img = cv.imread('cat.jpg', cv.IMREAD_UNCHANGED)\n",
    "\n",
    "cv.imshow('img', img)\n",
    "cv.waitKey()\n",
    "cv.destroyAllWindows()"
   ]
  },
  {
   "cell_type": "code",
   "execution_count": 2,
   "metadata": {},
   "outputs": [
    {
     "name": "stdout",
     "output_type": "stream",
     "text": [
      "pressed key is 27\n"
     ]
    }
   ],
   "source": [
    "img = cv.imread('cat.jpg', cv.IMREAD_UNCHANGED)\n",
    "\n",
    "cv.imshow(\"img\", img)\n",
    "typingkeys = cv.waitKey(0)\n",
    "print('pressed key is {0}'.format(typingkeys))\n",
    "cv.destroyAllWindows()"
   ]
  },
  {
   "cell_type": "code",
   "execution_count": 3,
   "metadata": {},
   "outputs": [
    {
     "name": "stdout",
     "output_type": "stream",
     "text": [
      "You pressed ESC Keys!!\n"
     ]
    }
   ],
   "source": [
    "img = cv.imread('cat.jpg', cv.IMREAD_UNCHANGED)\n",
    "\n",
    "cv.imshow(\"img\", img)\n",
    "\n",
    "while True:\n",
    "    typingkeys = cv.waitKey(3)\n",
    "    if typingkeys == 27:\n",
    "        print(\"You pressed ESC Keys!!\")\n",
    "        break\n",
    "\n",
    "cv.destroyAllWindows()"
   ]
  },
  {
   "cell_type": "code",
   "execution_count": null,
   "metadata": {},
   "outputs": [],
   "source": []
  }
 ],
 "metadata": {
  "kernelspec": {
   "display_name": "Python 3",
   "language": "python",
   "name": "python3"
  },
  "language_info": {
   "codemirror_mode": {
    "name": "ipython",
    "version": 3
   },
   "file_extension": ".py",
   "mimetype": "text/x-python",
   "name": "python",
   "nbconvert_exporter": "python",
   "pygments_lexer": "ipython3",
   "version": "3.7.6"
  }
 },
 "nbformat": 4,
 "nbformat_minor": 4
}
