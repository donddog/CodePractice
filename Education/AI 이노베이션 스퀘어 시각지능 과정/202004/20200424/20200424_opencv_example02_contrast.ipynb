{
 "cells": [
  {
   "cell_type": "code",
   "execution_count": 1,
   "metadata": {},
   "outputs": [],
   "source": [
    "import cv2 as cv\n",
    "import numpy as np"
   ]
  },
  {
   "cell_type": "code",
   "execution_count": 2,
   "metadata": {},
   "outputs": [],
   "source": [
    "img0 = cv.imread('cat.jpg')\n",
    "img1 = cv.addWeighted(img0, 1.5, img0, 0, 0)\n",
    "\n",
    "cv.imshow('img0', img0)\n",
    "cv.imshow('img1', img1)\n",
    "cv.waitKey()\n",
    "cv.destroyAllWindows()"
   ]
  },
  {
   "cell_type": "code",
   "execution_count": 3,
   "metadata": {},
   "outputs": [],
   "source": [
    "mean = np.zeros(img0.shape, np.uint8)\n",
    "\n",
    "np.mean(img0,(0,1))\n",
    "\n",
    "cv.imshow('mean', mean)\n",
    "cv.waitKey()\n",
    "cv.destroyAllWindows()"
   ]
  },
  {
   "cell_type": "code",
   "execution_count": 4,
   "metadata": {},
   "outputs": [],
   "source": [
    "mean[:,:] = np.mean(img0,(0,1))\n",
    "scale = 1.5\n",
    "\n",
    "img2 = cv.addWeighted(img0, scale, mean, 1-scale, 0)\n",
    "\n",
    "cv.imshow('img2', img2)\n",
    "cv.waitKey()\n",
    "cv.destroyAllWindows()"
   ]
  }
 ],
 "metadata": {
  "kernelspec": {
   "display_name": "Python 3",
   "language": "python",
   "name": "python3"
  },
  "language_info": {
   "codemirror_mode": {
    "name": "ipython",
    "version": 3
   },
   "file_extension": ".py",
   "mimetype": "text/x-python",
   "name": "python",
   "nbconvert_exporter": "python",
   "pygments_lexer": "ipython3",
   "version": "3.7.6"
  }
 },
 "nbformat": 4,
 "nbformat_minor": 4
}
