{
 "cells": [
  {
   "cell_type": "code",
   "execution_count": 1,
   "metadata": {},
   "outputs": [],
   "source": [
    "import cv2 as cv\n",
    "import numpy as np"
   ]
  },
  {
   "cell_type": "code",
   "execution_count": 2,
   "metadata": {},
   "outputs": [],
   "source": [
    "bgr = cv.imread('cat.jpg')\n",
    "HSV = cv.cvtColor(bgr, cv.COLOR_BGR2HSV)\n",
    "H, S, V = cv.split(HSV)\n",
    "\n",
    "cv.imshow('bgr', bgr)\n",
    "cv.imshow('H',H)\n",
    "cv.imshow('S',S)\n",
    "cv.imshow('V',V)\n",
    "cv.waitKey()\n",
    "cv.destroyAllWindows()"
   ]
  },
  {
   "cell_type": "code",
   "execution_count": 3,
   "metadata": {},
   "outputs": [
    {
     "data": {
      "text/plain": [
       "True"
      ]
     },
     "execution_count": 3,
     "metadata": {},
     "output_type": "execute_result"
    }
   ],
   "source": [
    "cv.imwrite('cat-h.png', H)\n",
    "cv.imwrite('cat-s.png', S)\n",
    "cv.imwrite('cat-v.png', V)"
   ]
  },
  {
   "cell_type": "code",
   "execution_count": 4,
   "metadata": {},
   "outputs": [],
   "source": [
    "H = cv.imread('cat-h.png', cv.IMREAD_UNCHANGED)\n",
    "S = cv.imread('cat-s.png', cv.IMREAD_UNCHANGED)\n",
    "V = cv.imread('cat-v.png', cv.IMREAD_UNCHANGED)"
   ]
  },
  {
   "cell_type": "code",
   "execution_count": 5,
   "metadata": {},
   "outputs": [],
   "source": [
    "HSV = cv.merge((H,S,V))\n",
    "BGR = cv.cvtColor(HSV, cv.COLOR_HSV2BGR)\n",
    "\n",
    "cv.imshow('H',H)\n",
    "cv.imshow('S',S)\n",
    "cv.imshow('V',V)\n",
    "cv.imshow('BGR', BGR)\n",
    "cv.waitKey()\n",
    "cv.destroyAllWindows()"
   ]
  },
  {
   "cell_type": "code",
   "execution_count": 6,
   "metadata": {},
   "outputs": [],
   "source": [
    "img = np.zeros((480, 630, 3), np.uint8)\n",
    "cv.circle(img, (200,150), 80, (255,255,0), -1)\n",
    "cv.circle(img, (500,150), 50, (255,0,0), -1)\n",
    "cv.rectangle(img, (300,300), (500,400), (0,255,255), -1)\n",
    "\n",
    "cv.imshow('img', img)\n",
    "cv.waitKey()\n",
    "cv.destroyAllWindows()"
   ]
  },
  {
   "cell_type": "code",
   "execution_count": 8,
   "metadata": {},
   "outputs": [],
   "source": [
    "img_gray = cv.cvtColor(img, cv.COLOR_BGR2GRAY)\n",
    "_, img_thresh = cv.threshold(img_gray, 150, 255, cv.THRESH_BINARY)\n",
    "\n",
    "cv.imshow('img_gray', img_gray)\n",
    "cv.waitKey()\n",
    "cv.destroyAllWindows()"
   ]
  },
  {
   "cell_type": "code",
   "execution_count": null,
   "metadata": {},
   "outputs": [],
   "source": []
  }
 ],
 "metadata": {
  "kernelspec": {
   "display_name": "Python 3",
   "language": "python",
   "name": "python3"
  },
  "language_info": {
   "codemirror_mode": {
    "name": "ipython",
    "version": 3
   },
   "file_extension": ".py",
   "mimetype": "text/x-python",
   "name": "python",
   "nbconvert_exporter": "python",
   "pygments_lexer": "ipython3",
   "version": "3.7.6"
  }
 },
 "nbformat": 4,
 "nbformat_minor": 4
}
