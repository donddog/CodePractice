{
 "cells": [
  {
   "cell_type": "code",
   "execution_count": 1,
   "metadata": {},
   "outputs": [],
   "source": [
    "import cv2 as cv\n",
    "import numpy as np"
   ]
  },
  {
   "cell_type": "code",
   "execution_count": 2,
   "metadata": {},
   "outputs": [],
   "source": [
    "img = np.zeros((480, 640, 3), np.uint8)\n",
    "\n",
    "cv.line(img, (20,20), (620,460), (0,255,0), 3)\n",
    "cv.rectangle(img, (100,100), (400,400), (0,0,255), 3)\n",
    "cv.rectangle(img, (500,100), (600,200), (255,0,0), -1)\n",
    "cv.circle(img, (320,240), 100, (255,255,0), 3)\n",
    "cv.ellipse(img, (320,240), (300,200), 0, 0, 360, (0,255,255), 3)\n",
    "\n",
    "cv.imshow('img', img)\n",
    "cv.waitKey()\n",
    "cv.destroyAllWindows()"
   ]
  },
  {
   "cell_type": "code",
   "execution_count": 3,
   "metadata": {},
   "outputs": [],
   "source": [
    "pts = np.array([[50,150], [200,80], [350,120], [300,200]], np.int32)\n",
    "cv.polylines(img, [pts.reshape((-1,1,2))], True, (255,0,255), 3)\n",
    "pts = np.array([[350,350], [500,280], [630,320], [520,320]], np.int32)\n",
    "cv.fillPoly(img, [pts.reshape((-1,1,2))], (0,0,255))\n",
    "cv.putText(img, 'Hello', (10,450), cv.FONT_HERSHEY_SIMPLEX, 4, (255,255,255), 3)\n",
    "\n",
    "cv.imshow('img', img)\n",
    "cv.waitKey()\n",
    "cv.destroyAllWindows()"
   ]
  },
  {
   "cell_type": "code",
   "execution_count": null,
   "metadata": {},
   "outputs": [],
   "source": []
  }
 ],
 "metadata": {
  "kernelspec": {
   "display_name": "Python 3",
   "language": "python",
   "name": "python3"
  },
  "language_info": {
   "codemirror_mode": {
    "name": "ipython",
    "version": 3
   },
   "file_extension": ".py",
   "mimetype": "text/x-python",
   "name": "python",
   "nbconvert_exporter": "python",
   "pygments_lexer": "ipython3",
   "version": "3.7.6"
  }
 },
 "nbformat": 4,
 "nbformat_minor": 4
}
