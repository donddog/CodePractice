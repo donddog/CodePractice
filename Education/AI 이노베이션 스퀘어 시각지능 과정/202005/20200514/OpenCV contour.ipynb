{
 "cells": [
  {
   "cell_type": "code",
   "execution_count": 1,
   "metadata": {},
   "outputs": [
    {
     "name": "stdout",
     "output_type": "stream",
     "text": [
      "contours\n",
      "(600, 1, 2) int32 20000.0\n",
      "(452, 1, 2) int32 19854.0\n"
     ]
    },
    {
     "data": {
      "text/plain": [
       "-1"
      ]
     },
     "execution_count": 1,
     "metadata": {},
     "output_type": "execute_result"
    }
   ],
   "source": [
    "import cv2 as cv\n",
    "import numpy as np\n",
    "\n",
    "img = np.zeros((480, 640, 3), np.uint8)\n",
    "\n",
    "cv.circle(img, (200,150), 80, (255,255,0), -1)\n",
    "cv.circle(img, (500,150), 50, (255,0,0), -1)\n",
    "cv.rectangle(img, (300,300), (500,400), (0,255,255), -1)\n",
    "\n",
    "img_gray = cv.cvtColor(img, cv.COLOR_BGR2GRAY)\n",
    "_, img_thresh = cv.threshold(img_gray, 150, 255, cv.THRESH_BINARY)\n",
    "contours, _ = cv.findContours(img_thresh, cv.RETR_LIST, cv.CHAIN_APPROX_NONE)\n",
    "#contours, _ = cv.findContours(img_thresh, cv.RETR_LIST, cv.CHAIN_APPROX_SIMPLE)\n",
    "\n",
    "print('contours')\n",
    "for c in contours:\n",
    "    print(c.shape, c.dtype, cv.contourArea(c))\n",
    "\n",
    "for i in range(contours[0].shape[0]):\n",
    "    cv.circle(img, (contours[0][i][0][0], contours[0][i][0][1]), 3, (0,255,0), -1)\n",
    "\n",
    "cv.drawContours(img, contours, 1, (0,0,255), 3)\n",
    "\n",
    "cv.imshow('img', img)\n",
    "cv.imshow('img_gray', img_gray)\n",
    "cv.imshow('img_thresh', img_thresh)\n",
    "cv.waitKey()"
   ]
  }
 ],
 "metadata": {
  "kernelspec": {
   "display_name": "Python 3",
   "language": "python",
   "name": "python3"
  },
  "language_info": {
   "codemirror_mode": {
    "name": "ipython",
    "version": 3
   },
   "file_extension": ".py",
   "mimetype": "text/x-python",
   "name": "python",
   "nbconvert_exporter": "python",
   "pygments_lexer": "ipython3",
   "version": "3.7.6"
  }
 },
 "nbformat": 4,
 "nbformat_minor": 4
}
