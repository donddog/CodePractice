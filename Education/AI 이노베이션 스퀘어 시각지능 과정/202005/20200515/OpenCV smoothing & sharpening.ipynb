{
 "cells": [
  {
   "cell_type": "code",
   "execution_count": 1,
   "metadata": {},
   "outputs": [],
   "source": [
    "import cv2 as cv\n",
    "import numpy as np\n",
    "\n",
    "img = cv.imread('filter_blur.jpg')\n",
    "\n",
    "rx, ry = 12, 6\n",
    "sx, sy = 6, 3\n",
    "\n",
    "kernel = np.zeros((ry*2+1, rx*2+1), np.float32)\n",
    "for i in range(kernel.shape[0]):\n",
    "    for j in range(kernel.shape[1]):\n",
    "        x = j - rx\n",
    "        y = i - ry\n",
    "        kernel[i,j] = np.exp(-(x*x)/(2*sx*sx)-(y*y)/(2*sy*sy))\n",
    "\n",
    "cv.imshow('kernel', cv.resize(kernel, (400,200)))\n",
    "\n",
    "kernel /= kernel.sum()\n",
    "img_smoothed = cv.filter2D(img, -1, kernel)\n",
    "img_blurred = cv.GaussianBlur(img, (rx*2+1, ry*2+1), sigmaX=sx, sigmaY=sy)\n",
    "img_blurred_autosigma = cv.GaussianBlur(img, (rx*2+1, ry*2+1), 0)\n",
    "img_blurred_autokernel = cv.GaussianBlur(img, (0,0), sigmaX=sx, sigmaY=sy)\n",
    "\n",
    "cv.imshow('original', img)\n",
    "cv.imshow('smoothed', img_smoothed)\n",
    "cv.imshow('GaussianBlurred', img_blurred)\n",
    "cv.imshow('GaussianBlurredAutoSigma', img_blurred_autosigma)\n",
    "cv.imshow('GaussianBlurredAutoKernel', img_blurred_autokernel)\n",
    "cv.waitKey()\n",
    "cv.destroyAllWindows()"
   ]
  },
  {
   "cell_type": "code",
   "execution_count": 2,
   "metadata": {},
   "outputs": [],
   "source": [
    "import cv2 as cv\n",
    "\n",
    "img = cv.imread('filter_blur.jpg')\n",
    "\n",
    "img_blurred = cv.GaussianBlur(img, (5,5), 0)\n",
    "img_sharpened = cv.addWeighted(img, 3.5, img_blurred, -2.5, 0)\n",
    "\n",
    "cv.imshow('img', img)\n",
    "cv.imshow('img_blurred', img_blurred)\n",
    "cv.imshow('img_sharpened', img_sharpened)\n",
    "cv.waitKey()\n",
    "cv.destroyAllWindows()"
   ]
  },
  {
   "cell_type": "code",
   "execution_count": 3,
   "metadata": {},
   "outputs": [],
   "source": [
    "import cv2 as cv\n",
    "\n",
    "img = cv.imread('filter_blur.jpg')\n",
    "\n",
    "img_blurred = cv.GaussianBlur(img, (5,5), 0)\n",
    "img_sharpened = cv.addWeighted(img, 3.5, img_blurred, -2.5, 0)\n",
    "\n",
    "cv.imshow('img', img)\n",
    "cv.imshow('img_blurred', img_blurred)\n",
    "cv.imshow('img_sharpened', img_sharpened)\n",
    "cv.waitKey()\n",
    "cv.destroyAllWindows()"
   ]
  },
  {
   "cell_type": "code",
   "execution_count": null,
   "metadata": {},
   "outputs": [],
   "source": []
  }
 ],
 "metadata": {
  "kernelspec": {
   "display_name": "Python 3",
   "language": "python",
   "name": "python3"
  },
  "language_info": {
   "codemirror_mode": {
    "name": "ipython",
    "version": 3
   },
   "file_extension": ".py",
   "mimetype": "text/x-python",
   "name": "python",
   "nbconvert_exporter": "python",
   "pygments_lexer": "ipython3",
   "version": "3.7.6"
  }
 },
 "nbformat": 4,
 "nbformat_minor": 4
}
