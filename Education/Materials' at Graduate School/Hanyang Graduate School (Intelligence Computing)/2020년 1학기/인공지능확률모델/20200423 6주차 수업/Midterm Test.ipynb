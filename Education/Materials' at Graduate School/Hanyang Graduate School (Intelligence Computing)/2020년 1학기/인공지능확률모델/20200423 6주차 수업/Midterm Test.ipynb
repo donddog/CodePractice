{
 "cells": [
  {
   "cell_type": "code",
   "execution_count": 1,
   "metadata": {},
   "outputs": [],
   "source": [
    "import pandas as pd\n",
    "import warnings\n",
    "\n",
    "warnings.filterwarnings(action='ignore')"
   ]
  },
  {
   "cell_type": "code",
   "execution_count": 2,
   "metadata": {},
   "outputs": [
    {
     "data": {
      "text/html": [
       "<div>\n",
       "<style scoped>\n",
       "    .dataframe tbody tr th:only-of-type {\n",
       "        vertical-align: middle;\n",
       "    }\n",
       "\n",
       "    .dataframe tbody tr th {\n",
       "        vertical-align: top;\n",
       "    }\n",
       "\n",
       "    .dataframe thead th {\n",
       "        text-align: right;\n",
       "    }\n",
       "</style>\n",
       "<table border=\"1\" class=\"dataframe\">\n",
       "  <thead>\n",
       "    <tr style=\"text-align: right;\">\n",
       "      <th></th>\n",
       "      <th>Date received</th>\n",
       "      <th>Product</th>\n",
       "      <th>Sub-product</th>\n",
       "      <th>Issue</th>\n",
       "      <th>Sub-issue</th>\n",
       "      <th>Consumer complaint narrative</th>\n",
       "      <th>Company public response</th>\n",
       "      <th>Company</th>\n",
       "      <th>State</th>\n",
       "      <th>ZIP code</th>\n",
       "      <th>Tags</th>\n",
       "      <th>Consumer consent provided?</th>\n",
       "      <th>Submitted via</th>\n",
       "      <th>Date sent to company</th>\n",
       "      <th>Company response to consumer</th>\n",
       "      <th>Timely response?</th>\n",
       "      <th>Consumer disputed?</th>\n",
       "      <th>Complaint ID</th>\n",
       "    </tr>\n",
       "  </thead>\n",
       "  <tbody>\n",
       "    <tr>\n",
       "      <th>0</th>\n",
       "      <td>07/29/2013</td>\n",
       "      <td>Consumer Loan</td>\n",
       "      <td>Vehicle loan</td>\n",
       "      <td>Managing the loan or lease</td>\n",
       "      <td>NaN</td>\n",
       "      <td>NaN</td>\n",
       "      <td>NaN</td>\n",
       "      <td>Wells Fargo &amp; Company</td>\n",
       "      <td>VA</td>\n",
       "      <td>24540</td>\n",
       "      <td>NaN</td>\n",
       "      <td>NaN</td>\n",
       "      <td>Phone</td>\n",
       "      <td>07/30/2013</td>\n",
       "      <td>Closed with explanation</td>\n",
       "      <td>Yes</td>\n",
       "      <td>No</td>\n",
       "      <td>468882</td>\n",
       "    </tr>\n",
       "    <tr>\n",
       "      <th>1</th>\n",
       "      <td>07/29/2013</td>\n",
       "      <td>Bank account or service</td>\n",
       "      <td>Checking account</td>\n",
       "      <td>Using a debit or ATM card</td>\n",
       "      <td>NaN</td>\n",
       "      <td>NaN</td>\n",
       "      <td>NaN</td>\n",
       "      <td>Wells Fargo &amp; Company</td>\n",
       "      <td>CA</td>\n",
       "      <td>95992</td>\n",
       "      <td>Older American</td>\n",
       "      <td>NaN</td>\n",
       "      <td>Web</td>\n",
       "      <td>07/31/2013</td>\n",
       "      <td>Closed with explanation</td>\n",
       "      <td>Yes</td>\n",
       "      <td>No</td>\n",
       "      <td>468889</td>\n",
       "    </tr>\n",
       "    <tr>\n",
       "      <th>2</th>\n",
       "      <td>07/29/2013</td>\n",
       "      <td>Bank account or service</td>\n",
       "      <td>Checking account</td>\n",
       "      <td>Account opening, closing, or management</td>\n",
       "      <td>NaN</td>\n",
       "      <td>NaN</td>\n",
       "      <td>NaN</td>\n",
       "      <td>Santander Bank US</td>\n",
       "      <td>NY</td>\n",
       "      <td>10065</td>\n",
       "      <td>NaN</td>\n",
       "      <td>NaN</td>\n",
       "      <td>Fax</td>\n",
       "      <td>07/31/2013</td>\n",
       "      <td>Closed</td>\n",
       "      <td>Yes</td>\n",
       "      <td>No</td>\n",
       "      <td>468879</td>\n",
       "    </tr>\n",
       "    <tr>\n",
       "      <th>3</th>\n",
       "      <td>07/29/2013</td>\n",
       "      <td>Bank account or service</td>\n",
       "      <td>Checking account</td>\n",
       "      <td>Deposits and withdrawals</td>\n",
       "      <td>NaN</td>\n",
       "      <td>NaN</td>\n",
       "      <td>NaN</td>\n",
       "      <td>Wells Fargo &amp; Company</td>\n",
       "      <td>GA</td>\n",
       "      <td>30084</td>\n",
       "      <td>NaN</td>\n",
       "      <td>NaN</td>\n",
       "      <td>Web</td>\n",
       "      <td>07/30/2013</td>\n",
       "      <td>Closed with explanation</td>\n",
       "      <td>Yes</td>\n",
       "      <td>No</td>\n",
       "      <td>468949</td>\n",
       "    </tr>\n",
       "    <tr>\n",
       "      <th>4</th>\n",
       "      <td>07/29/2013</td>\n",
       "      <td>Mortgage</td>\n",
       "      <td>Conventional fixed mortgage</td>\n",
       "      <td>Loan servicing, payments, escrow account</td>\n",
       "      <td>NaN</td>\n",
       "      <td>NaN</td>\n",
       "      <td>NaN</td>\n",
       "      <td>Franklin Credit Management</td>\n",
       "      <td>CT</td>\n",
       "      <td>06106</td>\n",
       "      <td>NaN</td>\n",
       "      <td>NaN</td>\n",
       "      <td>Web</td>\n",
       "      <td>07/30/2013</td>\n",
       "      <td>Closed with explanation</td>\n",
       "      <td>Yes</td>\n",
       "      <td>No</td>\n",
       "      <td>475823</td>\n",
       "    </tr>\n",
       "  </tbody>\n",
       "</table>\n",
       "</div>"
      ],
      "text/plain": [
       "  Date received                  Product                  Sub-product  \\\n",
       "0    07/29/2013            Consumer Loan                 Vehicle loan   \n",
       "1    07/29/2013  Bank account or service             Checking account   \n",
       "2    07/29/2013  Bank account or service             Checking account   \n",
       "3    07/29/2013  Bank account or service             Checking account   \n",
       "4    07/29/2013                 Mortgage  Conventional fixed mortgage   \n",
       "\n",
       "                                      Issue Sub-issue  \\\n",
       "0                Managing the loan or lease       NaN   \n",
       "1                 Using a debit or ATM card       NaN   \n",
       "2   Account opening, closing, or management       NaN   \n",
       "3                  Deposits and withdrawals       NaN   \n",
       "4  Loan servicing, payments, escrow account       NaN   \n",
       "\n",
       "  Consumer complaint narrative Company public response  \\\n",
       "0                          NaN                     NaN   \n",
       "1                          NaN                     NaN   \n",
       "2                          NaN                     NaN   \n",
       "3                          NaN                     NaN   \n",
       "4                          NaN                     NaN   \n",
       "\n",
       "                      Company State ZIP code            Tags  \\\n",
       "0       Wells Fargo & Company    VA    24540             NaN   \n",
       "1       Wells Fargo & Company    CA    95992  Older American   \n",
       "2           Santander Bank US    NY    10065             NaN   \n",
       "3       Wells Fargo & Company    GA    30084             NaN   \n",
       "4  Franklin Credit Management    CT    06106             NaN   \n",
       "\n",
       "  Consumer consent provided? Submitted via Date sent to company  \\\n",
       "0                        NaN         Phone           07/30/2013   \n",
       "1                        NaN           Web           07/31/2013   \n",
       "2                        NaN           Fax           07/31/2013   \n",
       "3                        NaN           Web           07/30/2013   \n",
       "4                        NaN           Web           07/30/2013   \n",
       "\n",
       "  Company response to consumer Timely response? Consumer disputed?  \\\n",
       "0      Closed with explanation              Yes                 No   \n",
       "1      Closed with explanation              Yes                 No   \n",
       "2                       Closed              Yes                 No   \n",
       "3      Closed with explanation              Yes                 No   \n",
       "4      Closed with explanation              Yes                 No   \n",
       "\n",
       "   Complaint ID  \n",
       "0        468882  \n",
       "1        468889  \n",
       "2        468879  \n",
       "3        468949  \n",
       "4        475823  "
      ]
     },
     "execution_count": 2,
     "metadata": {},
     "output_type": "execute_result"
    }
   ],
   "source": [
    "complaints_data = pd.read_csv(\"Consumer_Complaints.csv\", sep=\",\")\n",
    "complaints_data.head()"
   ]
  },
  {
   "cell_type": "code",
   "execution_count": 3,
   "metadata": {},
   "outputs": [
    {
     "data": {
      "text/plain": [
       "(670598, 18)"
      ]
     },
     "execution_count": 3,
     "metadata": {},
     "output_type": "execute_result"
    }
   ],
   "source": [
    "complaints_data.shape"
   ]
  },
  {
   "cell_type": "code",
   "execution_count": 4,
   "metadata": {},
   "outputs": [
    {
     "data": {
      "text/plain": [
       "Index(['Date received', 'Product', 'Sub-product', 'Issue', 'Sub-issue',\n",
       "       'Consumer complaint narrative', 'Company public response', 'Company',\n",
       "       'State', 'ZIP code', 'Tags', 'Consumer consent provided?',\n",
       "       'Submitted via', 'Date sent to company', 'Company response to consumer',\n",
       "       'Timely response?', 'Consumer disputed?', 'Complaint ID'],\n",
       "      dtype='object')"
      ]
     },
     "execution_count": 4,
     "metadata": {},
     "output_type": "execute_result"
    }
   ],
   "source": [
    "complaints_data.columns"
   ]
  },
  {
   "cell_type": "code",
   "execution_count": 5,
   "metadata": {},
   "outputs": [],
   "source": [
    "data = complaints_data[['Product','Sub-product', 'Issue', 'Company', 'State', 'Submitted via']]"
   ]
  },
  {
   "cell_type": "code",
   "execution_count": 6,
   "metadata": {},
   "outputs": [
    {
     "data": {
      "text/html": [
       "<div>\n",
       "<style scoped>\n",
       "    .dataframe tbody tr th:only-of-type {\n",
       "        vertical-align: middle;\n",
       "    }\n",
       "\n",
       "    .dataframe tbody tr th {\n",
       "        vertical-align: top;\n",
       "    }\n",
       "\n",
       "    .dataframe thead th {\n",
       "        text-align: right;\n",
       "    }\n",
       "</style>\n",
       "<table border=\"1\" class=\"dataframe\">\n",
       "  <thead>\n",
       "    <tr style=\"text-align: right;\">\n",
       "      <th></th>\n",
       "      <th>Product</th>\n",
       "      <th>Sub-product</th>\n",
       "      <th>Issue</th>\n",
       "      <th>Company</th>\n",
       "      <th>State</th>\n",
       "      <th>Submitted via</th>\n",
       "    </tr>\n",
       "  </thead>\n",
       "  <tbody>\n",
       "    <tr>\n",
       "      <th>0</th>\n",
       "      <td>Consumer Loan</td>\n",
       "      <td>Vehicle loan</td>\n",
       "      <td>Managing the loan or lease</td>\n",
       "      <td>Wells Fargo &amp; Company</td>\n",
       "      <td>VA</td>\n",
       "      <td>Phone</td>\n",
       "    </tr>\n",
       "    <tr>\n",
       "      <th>1</th>\n",
       "      <td>Bank account or service</td>\n",
       "      <td>Checking account</td>\n",
       "      <td>Using a debit or ATM card</td>\n",
       "      <td>Wells Fargo &amp; Company</td>\n",
       "      <td>CA</td>\n",
       "      <td>Web</td>\n",
       "    </tr>\n",
       "    <tr>\n",
       "      <th>2</th>\n",
       "      <td>Bank account or service</td>\n",
       "      <td>Checking account</td>\n",
       "      <td>Account opening, closing, or management</td>\n",
       "      <td>Santander Bank US</td>\n",
       "      <td>NY</td>\n",
       "      <td>Fax</td>\n",
       "    </tr>\n",
       "    <tr>\n",
       "      <th>3</th>\n",
       "      <td>Bank account or service</td>\n",
       "      <td>Checking account</td>\n",
       "      <td>Deposits and withdrawals</td>\n",
       "      <td>Wells Fargo &amp; Company</td>\n",
       "      <td>GA</td>\n",
       "      <td>Web</td>\n",
       "    </tr>\n",
       "    <tr>\n",
       "      <th>4</th>\n",
       "      <td>Mortgage</td>\n",
       "      <td>Conventional fixed mortgage</td>\n",
       "      <td>Loan servicing, payments, escrow account</td>\n",
       "      <td>Franklin Credit Management</td>\n",
       "      <td>CT</td>\n",
       "      <td>Web</td>\n",
       "    </tr>\n",
       "    <tr>\n",
       "      <th>...</th>\n",
       "      <td>...</td>\n",
       "      <td>...</td>\n",
       "      <td>...</td>\n",
       "      <td>...</td>\n",
       "      <td>...</td>\n",
       "      <td>...</td>\n",
       "    </tr>\n",
       "    <tr>\n",
       "      <th>670593</th>\n",
       "      <td>Credit reporting</td>\n",
       "      <td>NaN</td>\n",
       "      <td>Incorrect information on credit report</td>\n",
       "      <td>Equifax</td>\n",
       "      <td>NV</td>\n",
       "      <td>Web</td>\n",
       "    </tr>\n",
       "    <tr>\n",
       "      <th>670594</th>\n",
       "      <td>Mortgage</td>\n",
       "      <td>Conventional adjustable mortgage (ARM)</td>\n",
       "      <td>Loan modification,collection,foreclosure</td>\n",
       "      <td>Citibank</td>\n",
       "      <td>UT</td>\n",
       "      <td>Web</td>\n",
       "    </tr>\n",
       "    <tr>\n",
       "      <th>670595</th>\n",
       "      <td>Credit reporting</td>\n",
       "      <td>NaN</td>\n",
       "      <td>Incorrect information on credit report</td>\n",
       "      <td>Equifax</td>\n",
       "      <td>TN</td>\n",
       "      <td>Web</td>\n",
       "    </tr>\n",
       "    <tr>\n",
       "      <th>670596</th>\n",
       "      <td>Credit card</td>\n",
       "      <td>NaN</td>\n",
       "      <td>Closing/Cancelling account</td>\n",
       "      <td>Amex</td>\n",
       "      <td>FL</td>\n",
       "      <td>Web</td>\n",
       "    </tr>\n",
       "    <tr>\n",
       "      <th>670597</th>\n",
       "      <td>Consumer Loan</td>\n",
       "      <td>Installment loan</td>\n",
       "      <td>Managing the loan or lease</td>\n",
       "      <td>BancorpSouth Bank</td>\n",
       "      <td>MS</td>\n",
       "      <td>Web</td>\n",
       "    </tr>\n",
       "  </tbody>\n",
       "</table>\n",
       "<p>670598 rows × 6 columns</p>\n",
       "</div>"
      ],
      "text/plain": [
       "                        Product                             Sub-product  \\\n",
       "0                 Consumer Loan                            Vehicle loan   \n",
       "1       Bank account or service                        Checking account   \n",
       "2       Bank account or service                        Checking account   \n",
       "3       Bank account or service                        Checking account   \n",
       "4                      Mortgage             Conventional fixed mortgage   \n",
       "...                         ...                                     ...   \n",
       "670593         Credit reporting                                     NaN   \n",
       "670594                 Mortgage  Conventional adjustable mortgage (ARM)   \n",
       "670595         Credit reporting                                     NaN   \n",
       "670596              Credit card                                     NaN   \n",
       "670597            Consumer Loan                        Installment loan   \n",
       "\n",
       "                                           Issue                     Company  \\\n",
       "0                     Managing the loan or lease       Wells Fargo & Company   \n",
       "1                      Using a debit or ATM card       Wells Fargo & Company   \n",
       "2        Account opening, closing, or management           Santander Bank US   \n",
       "3                       Deposits and withdrawals       Wells Fargo & Company   \n",
       "4       Loan servicing, payments, escrow account  Franklin Credit Management   \n",
       "...                                          ...                         ...   \n",
       "670593    Incorrect information on credit report                     Equifax   \n",
       "670594  Loan modification,collection,foreclosure                    Citibank   \n",
       "670595    Incorrect information on credit report                     Equifax   \n",
       "670596                Closing/Cancelling account                        Amex   \n",
       "670597                Managing the loan or lease           BancorpSouth Bank   \n",
       "\n",
       "       State Submitted via  \n",
       "0         VA         Phone  \n",
       "1         CA           Web  \n",
       "2         NY           Fax  \n",
       "3         GA           Web  \n",
       "4         CT           Web  \n",
       "...      ...           ...  \n",
       "670593    NV           Web  \n",
       "670594    UT           Web  \n",
       "670595    TN           Web  \n",
       "670596    FL           Web  \n",
       "670597    MS           Web  \n",
       "\n",
       "[670598 rows x 6 columns]"
      ]
     },
     "execution_count": 6,
     "metadata": {},
     "output_type": "execute_result"
    }
   ],
   "source": [
    "data"
   ]
  },
  {
   "cell_type": "code",
   "execution_count": 7,
   "metadata": {},
   "outputs": [],
   "source": [
    "data02 = data.dropna(how=\"any\")"
   ]
  },
  {
   "cell_type": "code",
   "execution_count": 8,
   "metadata": {},
   "outputs": [
    {
     "data": {
      "text/html": [
       "<div>\n",
       "<style scoped>\n",
       "    .dataframe tbody tr th:only-of-type {\n",
       "        vertical-align: middle;\n",
       "    }\n",
       "\n",
       "    .dataframe tbody tr th {\n",
       "        vertical-align: top;\n",
       "    }\n",
       "\n",
       "    .dataframe thead th {\n",
       "        text-align: right;\n",
       "    }\n",
       "</style>\n",
       "<table border=\"1\" class=\"dataframe\">\n",
       "  <thead>\n",
       "    <tr style=\"text-align: right;\">\n",
       "      <th></th>\n",
       "      <th>Product</th>\n",
       "      <th>Sub-product</th>\n",
       "      <th>Issue</th>\n",
       "      <th>Company</th>\n",
       "      <th>State</th>\n",
       "      <th>Submitted via</th>\n",
       "    </tr>\n",
       "  </thead>\n",
       "  <tbody>\n",
       "    <tr>\n",
       "      <th>0</th>\n",
       "      <td>Consumer Loan</td>\n",
       "      <td>Vehicle loan</td>\n",
       "      <td>Managing the loan or lease</td>\n",
       "      <td>Wells Fargo &amp; Company</td>\n",
       "      <td>VA</td>\n",
       "      <td>Phone</td>\n",
       "    </tr>\n",
       "    <tr>\n",
       "      <th>1</th>\n",
       "      <td>Bank account or service</td>\n",
       "      <td>Checking account</td>\n",
       "      <td>Using a debit or ATM card</td>\n",
       "      <td>Wells Fargo &amp; Company</td>\n",
       "      <td>CA</td>\n",
       "      <td>Web</td>\n",
       "    </tr>\n",
       "    <tr>\n",
       "      <th>2</th>\n",
       "      <td>Bank account or service</td>\n",
       "      <td>Checking account</td>\n",
       "      <td>Account opening, closing, or management</td>\n",
       "      <td>Santander Bank US</td>\n",
       "      <td>NY</td>\n",
       "      <td>Fax</td>\n",
       "    </tr>\n",
       "    <tr>\n",
       "      <th>3</th>\n",
       "      <td>Bank account or service</td>\n",
       "      <td>Checking account</td>\n",
       "      <td>Deposits and withdrawals</td>\n",
       "      <td>Wells Fargo &amp; Company</td>\n",
       "      <td>GA</td>\n",
       "      <td>Web</td>\n",
       "    </tr>\n",
       "    <tr>\n",
       "      <th>4</th>\n",
       "      <td>Mortgage</td>\n",
       "      <td>Conventional fixed mortgage</td>\n",
       "      <td>Loan servicing, payments, escrow account</td>\n",
       "      <td>Franklin Credit Management</td>\n",
       "      <td>CT</td>\n",
       "      <td>Web</td>\n",
       "    </tr>\n",
       "    <tr>\n",
       "      <th>...</th>\n",
       "      <td>...</td>\n",
       "      <td>...</td>\n",
       "      <td>...</td>\n",
       "      <td>...</td>\n",
       "      <td>...</td>\n",
       "      <td>...</td>\n",
       "    </tr>\n",
       "    <tr>\n",
       "      <th>670587</th>\n",
       "      <td>Debt collection</td>\n",
       "      <td>Other (i.e. phone, health club, etc.)</td>\n",
       "      <td>Communication tactics</td>\n",
       "      <td>Gross Polowy LLC</td>\n",
       "      <td>NY</td>\n",
       "      <td>Postal mail</td>\n",
       "    </tr>\n",
       "    <tr>\n",
       "      <th>670589</th>\n",
       "      <td>Debt collection</td>\n",
       "      <td>Other (i.e. phone, health club, etc.)</td>\n",
       "      <td>Cont'd attempts collect debt not owed</td>\n",
       "      <td>Transworld Systems Inc.</td>\n",
       "      <td>MO</td>\n",
       "      <td>Web</td>\n",
       "    </tr>\n",
       "    <tr>\n",
       "      <th>670592</th>\n",
       "      <td>Mortgage</td>\n",
       "      <td>Other mortgage</td>\n",
       "      <td>Loan modification,collection,foreclosure</td>\n",
       "      <td>Wells Fargo &amp; Company</td>\n",
       "      <td>WA</td>\n",
       "      <td>Referral</td>\n",
       "    </tr>\n",
       "    <tr>\n",
       "      <th>670594</th>\n",
       "      <td>Mortgage</td>\n",
       "      <td>Conventional adjustable mortgage (ARM)</td>\n",
       "      <td>Loan modification,collection,foreclosure</td>\n",
       "      <td>Citibank</td>\n",
       "      <td>UT</td>\n",
       "      <td>Web</td>\n",
       "    </tr>\n",
       "    <tr>\n",
       "      <th>670597</th>\n",
       "      <td>Consumer Loan</td>\n",
       "      <td>Installment loan</td>\n",
       "      <td>Managing the loan or lease</td>\n",
       "      <td>BancorpSouth Bank</td>\n",
       "      <td>MS</td>\n",
       "      <td>Web</td>\n",
       "    </tr>\n",
       "  </tbody>\n",
       "</table>\n",
       "<p>468289 rows × 6 columns</p>\n",
       "</div>"
      ],
      "text/plain": [
       "                        Product                             Sub-product  \\\n",
       "0                 Consumer Loan                            Vehicle loan   \n",
       "1       Bank account or service                        Checking account   \n",
       "2       Bank account or service                        Checking account   \n",
       "3       Bank account or service                        Checking account   \n",
       "4                      Mortgage             Conventional fixed mortgage   \n",
       "...                         ...                                     ...   \n",
       "670587          Debt collection   Other (i.e. phone, health club, etc.)   \n",
       "670589          Debt collection   Other (i.e. phone, health club, etc.)   \n",
       "670592                 Mortgage                          Other mortgage   \n",
       "670594                 Mortgage  Conventional adjustable mortgage (ARM)   \n",
       "670597            Consumer Loan                        Installment loan   \n",
       "\n",
       "                                           Issue                     Company  \\\n",
       "0                     Managing the loan or lease       Wells Fargo & Company   \n",
       "1                      Using a debit or ATM card       Wells Fargo & Company   \n",
       "2        Account opening, closing, or management           Santander Bank US   \n",
       "3                       Deposits and withdrawals       Wells Fargo & Company   \n",
       "4       Loan servicing, payments, escrow account  Franklin Credit Management   \n",
       "...                                          ...                         ...   \n",
       "670587                     Communication tactics            Gross Polowy LLC   \n",
       "670589     Cont'd attempts collect debt not owed     Transworld Systems Inc.   \n",
       "670592  Loan modification,collection,foreclosure       Wells Fargo & Company   \n",
       "670594  Loan modification,collection,foreclosure                    Citibank   \n",
       "670597                Managing the loan or lease           BancorpSouth Bank   \n",
       "\n",
       "       State Submitted via  \n",
       "0         VA         Phone  \n",
       "1         CA           Web  \n",
       "2         NY           Fax  \n",
       "3         GA           Web  \n",
       "4         CT           Web  \n",
       "...      ...           ...  \n",
       "670587    NY   Postal mail  \n",
       "670589    MO           Web  \n",
       "670592    WA      Referral  \n",
       "670594    UT           Web  \n",
       "670597    MS           Web  \n",
       "\n",
       "[468289 rows x 6 columns]"
      ]
     },
     "execution_count": 8,
     "metadata": {},
     "output_type": "execute_result"
    }
   ],
   "source": [
    "data02"
   ]
  },
  {
   "cell_type": "code",
   "execution_count": 9,
   "metadata": {},
   "outputs": [
    {
     "data": {
      "text/plain": [
       "(468289, 6)"
      ]
     },
     "execution_count": 9,
     "metadata": {},
     "output_type": "execute_result"
    }
   ],
   "source": [
    "data02.shape"
   ]
  },
  {
   "cell_type": "code",
   "execution_count": 10,
   "metadata": {},
   "outputs": [
    {
     "name": "stdout",
     "output_type": "stream",
     "text": [
      "Mortgage                   208905\n",
      "Debt collection            123488\n",
      "Bank account or service     74707\n",
      "Consumer Loan               26444\n",
      "Student loan                21504\n",
      "Payday loan                  4765\n",
      "Money transfers              4540\n",
      "Prepaid card                 3135\n",
      "Other financial service       788\n",
      "Virtual currency               13\n",
      "Name: Product, dtype: int64\n",
      "\n",
      "Other mortgage                            80710\n",
      "Conventional fixed mortgage               64842\n",
      "Checking account                          52184\n",
      "Other (i.e. phone, health club, etc.)     36923\n",
      "I do not know                             25858\n",
      "Credit card                               24988\n",
      "Conventional adjustable mortgage (ARM)    23551\n",
      "FHA mortgage                              22252\n",
      "Non-federal student loan                  20558\n",
      "Medical                                   17066\n",
      "Vehicle loan                              15023\n",
      "Other bank product/service                14280\n",
      "Payday loan                               11400\n",
      "Home equity loan or line of credit        10505\n",
      "Installment loan                           7058\n",
      "Savings account                            4600\n",
      "VA mortgage                                4536\n",
      "Mortgage                                   4275\n",
      "Federal student loan servicing             3467\n",
      "Auto                                       3107\n",
      "(CD) Certificate of deposit                3091\n",
      "International money transfer               2323\n",
      "Domestic (US) money transfer               2230\n",
      "Vehicle lease                              2158\n",
      "Federal student loan                       2115\n",
      "Reverse mortgage                           1854\n",
      "Personal line of credit                    1685\n",
      "General purpose card                       1445\n",
      "Second mortgage                             655\n",
      "Cashing a check without an account          552\n",
      "Title loan                                  441\n",
      "Payroll card                                363\n",
      "Mobile wallet                               335\n",
      "Gift or merchant card                       311\n",
      "Government benefit payment card             302\n",
      "Debt settlement                             217\n",
      "Check cashing                               208\n",
      "ID prepaid card                             185\n",
      "Other special purpose card                  155\n",
      "Money order                                 112\n",
      "Credit repair                                80\n",
      "Pawn loan                                    79\n",
      "Traveler’s/Cashier’s checks                  68\n",
      "Refund anticipation check                    54\n",
      "Foreign currency exchange                    49\n",
      "Transit card                                 33\n",
      "Electronic Benefit Transfer / EBT card        6\n",
      "Name: Sub-product, dtype: int64\n",
      "\n",
      "Loan modification,collection,foreclosure    105652\n",
      "Loan servicing, payments, escrow account     69751\n",
      "Cont'd attempts collect debt not owed        51281\n",
      "Account opening, closing, or management      32655\n",
      "Disclosure verification of debt              24453\n",
      "Communication tactics                        21160\n",
      "Deposits and withdrawals                     19942\n",
      "Application, originator, mortgage broker     15438\n",
      "Managing the loan or lease                   12632\n",
      "Problems caused by my funds being low        10557\n",
      "Dealing with my lender or servicer           10151\n",
      "False statements or representation           10000\n",
      "Improper contact or sharing of info           8788\n",
      "Problems when you are unable to pay           8112\n",
      "Settlement process and costs                  8038\n",
      "Taking/threatening an illegal action          7806\n",
      "Making/receiving payments, sending money      6317\n",
      "Can't repay my loan                           5297\n",
      "Using a debit or ATM card                     5236\n",
      "Credit decision / Underwriting                5109\n",
      "Other                                         4918\n",
      "Repaying your loan                            3797\n",
      "Taking out the loan or lease                  3638\n",
      "Fraud or scam                                 2512\n",
      "Charged fees or interest I didn't expect      2377\n",
      "Shopping for a loan or lease                  1748\n",
      "Other transaction issues                      1255\n",
      "Unauthorized transactions/trans. issues       1027\n",
      "Managing, opening, or closing account         1021\n",
      "Can't contact lender                           928\n",
      "Money was not available when promised          818\n",
      "Managing the line of credit                    722\n",
      "Getting a loan                                 579\n",
      "Received a loan I didn't apply for             519\n",
      "Account terms and changes                      468\n",
      "Can't stop charges to bank account             442\n",
      "Other service issues                           431\n",
      "Payment to acct not credited                   377\n",
      "Applied for loan/did not receive money         314\n",
      "Shopping for a line of credit                  284\n",
      "Charged bank acct wrong day or amt             249\n",
      "Wrong amount charged or received               223\n",
      "Customer service/Customer relations            219\n",
      "Fees                                           200\n",
      "Adding money                                   180\n",
      "Incorrect/missing disclosures or info          171\n",
      "Unexpected/Other fees                           84\n",
      "Excessive fees                                  82\n",
      "Lender repossessed or sold the vehicle          65\n",
      "Advertising, marketing or disclosures           63\n",
      "Overdraft, savings or rewards features          45\n",
      "Disclosures                                     35\n",
      "Lost or stolen check                            34\n",
      "Lost or stolen money order                      33\n",
      "Advertising and marketing                       25\n",
      "Incorrect exchange rate                         17\n",
      "Lender sold the property                         7\n",
      "Lender damaged or destroyed vehicle              6\n",
      "Lender damaged or destroyed property             1\n",
      "Name: Issue, dtype: int64\n",
      "\n",
      "Bank of America                   52856\n",
      "Wells Fargo & Company             44707\n",
      "JPMorgan Chase & Co.              29204\n",
      "Ocwen                             22788\n",
      "Citibank                          15983\n",
      "                                  ...  \n",
      "Advanced Loan Systems, LLC.           1\n",
      "HK Recovery Group Inc.                1\n",
      "Community Home Lending                1\n",
      "A.L. Babbs and Associates, LLC        1\n",
      "J. B. Collections                     1\n",
      "Name: Company, Length: 3905, dtype: int64\n",
      "\n",
      "CA    71356\n",
      "FL    45893\n",
      "TX    31817\n",
      "NY    31064\n",
      "GA    22014\n",
      "      ...  \n",
      "MH       21\n",
      "MP       15\n",
      "AS       14\n",
      "AA       10\n",
      "PW        7\n",
      "Name: State, Length: 62, dtype: int64\n",
      "\n",
      "Web            301266\n",
      "Referral        99651\n",
      "Phone           38124\n",
      "Postal mail     22138\n",
      "Fax              6869\n",
      "Email             241\n",
      "Name: Submitted via, dtype: int64\n"
     ]
    }
   ],
   "source": [
    "print(data02['Product'].value_counts())\n",
    "print()\n",
    "print(data02['Sub-product'].value_counts())\n",
    "print()\n",
    "print(data02['Issue'].value_counts())\n",
    "print()\n",
    "print(data02['Company'].value_counts())\n",
    "print()\n",
    "print(data02['State'].value_counts())\n",
    "print()\n",
    "print(data02['Submitted via'].value_counts())"
   ]
  },
  {
   "cell_type": "markdown",
   "metadata": {},
   "source": [
    "#### complains!!  \n",
    "* Product:       Mortgage  \n",
    "* Sub-product:   Other mortgage  \n",
    "* Issue:         Loan modification,collection,foreclosure  \n",
    "* Company:       Bank of America  \n",
    "* State:         CA (California)  \n",
    "* Submitted via: Web  "
   ]
  },
  {
   "cell_type": "markdown",
   "metadata": {},
   "source": [
    "### Y = <span style=\"color:brown\">'Submitted Via'</span>"
   ]
  },
  {
   "cell_type": "code",
   "execution_count": 11,
   "metadata": {},
   "outputs": [],
   "source": [
    "data03 = pd.DataFrame(columns=['Product','Sub-product', 'Issue', 'Company', 'State', 'Submitted via'])"
   ]
  },
  {
   "cell_type": "code",
   "execution_count": 12,
   "metadata": {},
   "outputs": [],
   "source": [
    "from sklearn.preprocessing import LabelEncoder\n",
    "\n",
    "le = LabelEncoder()\n",
    "data03['Product'] = le.fit_transform(data02['Product'])\n",
    "data03['Sub-product'] = le.fit_transform(data02['Sub-product'])\n",
    "data03['Issue'] = le.fit_transform(data02['Issue'])\n",
    "data03['Company'] = le.fit_transform(data02['Company'])\n",
    "data03['State'] = le.fit_transform(data02['State'])\n",
    "data03['Submitted via'] = le.fit_transform(data02['Submitted via'])"
   ]
  },
  {
   "cell_type": "code",
   "execution_count": 13,
   "metadata": {},
   "outputs": [
    {
     "data": {
      "text/html": [
       "<div>\n",
       "<style scoped>\n",
       "    .dataframe tbody tr th:only-of-type {\n",
       "        vertical-align: middle;\n",
       "    }\n",
       "\n",
       "    .dataframe tbody tr th {\n",
       "        vertical-align: top;\n",
       "    }\n",
       "\n",
       "    .dataframe thead th {\n",
       "        text-align: right;\n",
       "    }\n",
       "</style>\n",
       "<table border=\"1\" class=\"dataframe\">\n",
       "  <thead>\n",
       "    <tr style=\"text-align: right;\">\n",
       "      <th></th>\n",
       "      <th>Product</th>\n",
       "      <th>Sub-product</th>\n",
       "      <th>Issue</th>\n",
       "      <th>Company</th>\n",
       "      <th>State</th>\n",
       "      <th>Submitted via</th>\n",
       "    </tr>\n",
       "  </thead>\n",
       "  <tbody>\n",
       "    <tr>\n",
       "      <th>0</th>\n",
       "      <td>1</td>\n",
       "      <td>46</td>\n",
       "      <td>38</td>\n",
       "      <td>3808</td>\n",
       "      <td>55</td>\n",
       "      <td>2</td>\n",
       "    </tr>\n",
       "    <tr>\n",
       "      <th>1</th>\n",
       "      <td>0</td>\n",
       "      <td>4</td>\n",
       "      <td>57</td>\n",
       "      <td>3808</td>\n",
       "      <td>8</td>\n",
       "      <td>5</td>\n",
       "    </tr>\n",
       "    <tr>\n",
       "      <th>2</th>\n",
       "      <td>0</td>\n",
       "      <td>4</td>\n",
       "      <td>0</td>\n",
       "      <td>3182</td>\n",
       "      <td>42</td>\n",
       "      <td>1</td>\n",
       "    </tr>\n",
       "    <tr>\n",
       "      <th>3</th>\n",
       "      <td>0</td>\n",
       "      <td>4</td>\n",
       "      <td>17</td>\n",
       "      <td>3808</td>\n",
       "      <td>15</td>\n",
       "      <td>5</td>\n",
       "    </tr>\n",
       "    <tr>\n",
       "      <th>4</th>\n",
       "      <td>4</td>\n",
       "      <td>6</td>\n",
       "      <td>33</td>\n",
       "      <td>1514</td>\n",
       "      <td>10</td>\n",
       "      <td>5</td>\n",
       "    </tr>\n",
       "    <tr>\n",
       "      <th>...</th>\n",
       "      <td>...</td>\n",
       "      <td>...</td>\n",
       "      <td>...</td>\n",
       "      <td>...</td>\n",
       "      <td>...</td>\n",
       "      <td>...</td>\n",
       "    </tr>\n",
       "    <tr>\n",
       "      <th>468284</th>\n",
       "      <td>2</td>\n",
       "      <td>29</td>\n",
       "      <td>12</td>\n",
       "      <td>1670</td>\n",
       "      <td>42</td>\n",
       "      <td>3</td>\n",
       "    </tr>\n",
       "    <tr>\n",
       "      <th>468285</th>\n",
       "      <td>2</td>\n",
       "      <td>29</td>\n",
       "      <td>13</td>\n",
       "      <td>3598</td>\n",
       "      <td>31</td>\n",
       "      <td>5</td>\n",
       "    </tr>\n",
       "    <tr>\n",
       "      <th>468286</th>\n",
       "      <td>4</td>\n",
       "      <td>31</td>\n",
       "      <td>32</td>\n",
       "      <td>3808</td>\n",
       "      <td>58</td>\n",
       "      <td>4</td>\n",
       "    </tr>\n",
       "    <tr>\n",
       "      <th>468287</th>\n",
       "      <td>4</td>\n",
       "      <td>5</td>\n",
       "      <td>32</td>\n",
       "      <td>810</td>\n",
       "      <td>54</td>\n",
       "      <td>5</td>\n",
       "    </tr>\n",
       "    <tr>\n",
       "      <th>468288</th>\n",
       "      <td>1</td>\n",
       "      <td>22</td>\n",
       "      <td>38</td>\n",
       "      <td>480</td>\n",
       "      <td>33</td>\n",
       "      <td>5</td>\n",
       "    </tr>\n",
       "  </tbody>\n",
       "</table>\n",
       "<p>468289 rows × 6 columns</p>\n",
       "</div>"
      ],
      "text/plain": [
       "        Product  Sub-product  Issue  Company  State  Submitted via\n",
       "0             1           46     38     3808     55              2\n",
       "1             0            4     57     3808      8              5\n",
       "2             0            4      0     3182     42              1\n",
       "3             0            4     17     3808     15              5\n",
       "4             4            6     33     1514     10              5\n",
       "...         ...          ...    ...      ...    ...            ...\n",
       "468284        2           29     12     1670     42              3\n",
       "468285        2           29     13     3598     31              5\n",
       "468286        4           31     32     3808     58              4\n",
       "468287        4            5     32      810     54              5\n",
       "468288        1           22     38      480     33              5\n",
       "\n",
       "[468289 rows x 6 columns]"
      ]
     },
     "execution_count": 13,
     "metadata": {},
     "output_type": "execute_result"
    }
   ],
   "source": [
    "data03"
   ]
  },
  {
   "cell_type": "code",
   "execution_count": 14,
   "metadata": {},
   "outputs": [],
   "source": [
    "X  = data03[['Product','Sub-product', 'Issue', 'Company', 'State']].values "
   ]
  },
  {
   "cell_type": "code",
   "execution_count": 15,
   "metadata": {},
   "outputs": [
    {
     "data": {
      "text/plain": [
       "array([[   1,   46,   38, 3808,   55],\n",
       "       [   0,    4,   57, 3808,    8],\n",
       "       [   0,    4,    0, 3182,   42],\n",
       "       [   0,    4,   17, 3808,   15],\n",
       "       [   4,    6,   33, 1514,   10],\n",
       "       [   0,    4,   17,  481,   53],\n",
       "       [   2,   29,   13, 2453,   55],\n",
       "       [   2,   20,   13, 3414,   13],\n",
       "       [   4,   31,   33, 3808,   41],\n",
       "       [   4,   31,   32,  481,   35]])"
      ]
     },
     "execution_count": 15,
     "metadata": {},
     "output_type": "execute_result"
    }
   ],
   "source": [
    "X[:10]"
   ]
  },
  {
   "cell_type": "code",
   "execution_count": 16,
   "metadata": {},
   "outputs": [],
   "source": [
    "Y = data03['Submitted via'].values"
   ]
  },
  {
   "cell_type": "code",
   "execution_count": 17,
   "metadata": {},
   "outputs": [
    {
     "data": {
      "text/plain": [
       "array([2, 5, 1, 5, 5, 5, 5, 4, 4, 4])"
      ]
     },
     "execution_count": 17,
     "metadata": {},
     "output_type": "execute_result"
    }
   ],
   "source": [
    "Y[:10]"
   ]
  },
  {
   "cell_type": "code",
   "execution_count": 18,
   "metadata": {},
   "outputs": [],
   "source": [
    "from sklearn import preprocessing\n",
    "\n",
    "X = preprocessing.StandardScaler().fit(X).transform(X.astype(float))"
   ]
  },
  {
   "cell_type": "code",
   "execution_count": 19,
   "metadata": {},
   "outputs": [
    {
     "data": {
      "text/plain": [
       "array([[-0.97648739,  2.08986615,  0.88235619,  1.49063904,  1.525281  ],\n",
       "       [-1.49553494, -1.21317037,  2.23025046,  1.49063904, -1.19613138],\n",
       "       [-1.49553494, -1.21317037, -1.81343235,  0.96894175,  0.77254992],\n",
       "       [-1.49553494, -1.21317037, -0.60742169,  1.49063904, -0.79081464],\n",
       "       [ 0.58065528, -1.05588292,  0.52764717, -0.42113984, -1.08032659],\n",
       "       [-1.49553494, -1.21317037, -0.60742169, -1.28202371,  1.40947622],\n",
       "       [-0.45743983,  0.7529228 , -0.8911889 ,  0.36140609,  1.525281  ],\n",
       "       [-0.45743983,  0.04512926, -0.8911889 ,  1.16228643, -0.90661942],\n",
       "       [ 0.58065528,  0.91021025,  0.52764717,  1.49063904,  0.71464753],\n",
       "       [ 0.58065528,  0.91021025,  0.45670537, -1.28202371,  0.36723318]])"
      ]
     },
     "execution_count": 19,
     "metadata": {},
     "output_type": "execute_result"
    }
   ],
   "source": [
    "X[:10]"
   ]
  },
  {
   "cell_type": "code",
   "execution_count": 20,
   "metadata": {},
   "outputs": [],
   "source": [
    "from sklearn.model_selection import train_test_split\n",
    "\n",
    "X_train, X_test, Y_train, Y_test = train_test_split(X, Y, test_size = 0.3)"
   ]
  },
  {
   "cell_type": "code",
   "execution_count": 21,
   "metadata": {},
   "outputs": [
    {
     "data": {
      "text/plain": [
       "(327802, 5)"
      ]
     },
     "execution_count": 21,
     "metadata": {},
     "output_type": "execute_result"
    }
   ],
   "source": [
    "X_train.shape"
   ]
  },
  {
   "cell_type": "code",
   "execution_count": null,
   "metadata": {},
   "outputs": [],
   "source": [
    "from sklearn.neighbors import KNeighborsClassifier\n",
    "import matplotlib.pyplot as plt\n",
    "\n",
    "train_acc = []\n",
    "test_acc = []\n",
    "\n",
    "for n in range(1,21):\n",
    "    clf = KNeighborsClassifier(n_jobs=-1, n_neighbors=n)\n",
    "    clf.fit(X_train, Y_train)\n",
    "    prediction = clf.predict(X_test)\n",
    "    train_acc.append(clf.score(X_train, Y_train))\n",
    "    test_acc.append((prediction==Y_test).mean())\n",
    "    \n",
    "plt.figure(figsize=(12, 9))\n",
    "plt.plot(range(1, 21), train_acc, label='TRAIN set')\n",
    "plt.plot(range(1, 21), test_acc, label='TEST set')\n",
    "plt.xlabel(\"n_neighbors\")\n",
    "plt.ylabel(\"accuracy\")\n",
    "plt.xticks(np.arange(0, 21, step=1))\n",
    "plt.legend()"
   ]
  },
  {
   "cell_type": "markdown",
   "metadata": {},
   "source": [
    "![Accuracy](Accuracy.png)"
   ]
  },
  {
   "cell_type": "markdown",
   "metadata": {},
   "source": [
    "It seems like test accuracy continuously increase if K increases."
   ]
  },
  {
   "cell_type": "markdown",
   "metadata": {},
   "source": [
    "#### KNN"
   ]
  },
  {
   "cell_type": "code",
   "execution_count": 23,
   "metadata": {},
   "outputs": [],
   "source": [
    "from sklearn.neighbors import KNeighborsClassifier\n",
    "\n",
    "k = 20\n",
    "my_model = KNeighborsClassifier(n_neighbors=k).fit(X_train, Y_train)\n",
    "Ypredict = my_model.predict(X_test)"
   ]
  },
  {
   "cell_type": "code",
   "execution_count": 24,
   "metadata": {},
   "outputs": [
    {
     "name": "stdout",
     "output_type": "stream",
     "text": [
      "accuracy score of train:  0.7415116442242573\n",
      "accuracy score of test:  0.7302810936243211\n",
      "\n",
      "recall score of train:  0.7415116442242573\n",
      "recall score of test:  0.7302810936243211\n",
      "\n",
      "precision score of train:  0.7415116442242573\n",
      "precision score of test:  0.7302810936243211\n",
      "\n",
      "confusion_matrix of train:  [[     0      0      2      3     80     76]\n",
      " [     0    275     40     90   2527   1949]\n",
      " [     0      6    984     39   3773  21760]\n",
      " [     0     67    127   1037   7087   7134]\n",
      " [     0    294    550    672  44583  23682]\n",
      " [     0     51    833    154  13737 196190]]\n",
      "confusion_matrix of test:  [[    0     0     1     1    49    29]\n",
      " [    0   112    19    34  1037   786]\n",
      " [    0     1   309    18  1757  9477]\n",
      " [    0    27    49   393  3144  3073]\n",
      " [    0   134   258   321 18433 10724]\n",
      " [    0    13   451    64  6425 83348]]\n"
     ]
    }
   ],
   "source": [
    "from sklearn import metrics\n",
    "\n",
    "print('accuracy score of train: ',   metrics.accuracy_score(Y_train, my_model.predict(X_train)))\n",
    "print('accuracy score of test: ',    metrics.accuracy_score(Y_test, Ypredict))\n",
    "print()\n",
    "print('recall score of train: ',     metrics.recall_score(Y_train, my_model.predict(X_train), average='micro'))\n",
    "print('recall score of test: ',      metrics.recall_score(Y_test, Ypredict, average='micro'))\n",
    "print()\n",
    "print('precision score of train: ',  metrics.precision_score(Y_train, my_model.predict(X_train), average='micro'))\n",
    "print('precision score of test: ',   metrics.precision_score(Y_test, Ypredict, average='micro'))\n",
    "print()\n",
    "print('confusion_matrix of train: ', metrics.confusion_matrix(Y_train, my_model.predict(X_train)))\n",
    "print('confusion_matrix of test: ',  metrics.confusion_matrix(Y_test, Ypredict))"
   ]
  },
  {
   "cell_type": "markdown",
   "metadata": {},
   "source": [
    "#### LDA"
   ]
  },
  {
   "cell_type": "code",
   "execution_count": 25,
   "metadata": {},
   "outputs": [],
   "source": [
    "from sklearn.discriminant_analysis import LinearDiscriminantAnalysis as LDA\n",
    "\n",
    "lda = LDA()\n",
    "X_train02 = lda.fit_transform(X_train, Y_train)\n",
    "X_test02 = lda.transform(X_test)\n",
    "y_predicted_test = lda.predict(X_test) "
   ]
  },
  {
   "cell_type": "code",
   "execution_count": 26,
   "metadata": {},
   "outputs": [
    {
     "name": "stdout",
     "output_type": "stream",
     "text": [
      "accuracy score of train:  0.6032513529508667\n",
      "accuracy score of test:  0.6192886174521486\n",
      "\n",
      "recall score of train:  0.6032513529508667\n",
      "recall score of test:  0.6192886174521486\n",
      "\n",
      "precision score of train:  0.6032513529508667\n",
      "precision score of test:  0.6192886174521486\n",
      "\n",
      "confusion_matrix of train:  [[     0      0      0      0      5    156]\n",
      " [     0      0      0      0     79   4802]\n",
      " [     0      0      0      0    758  25804]\n",
      " [     0      0      0      0    284  15168]\n",
      " [     0      0      0      0   1072  68709]\n",
      " [     0      0      0      0  14290 196675]]\n",
      "confusion_matrix of test:  [[    0     0     0     0     5    75]\n",
      " [    0     0     0     0    62  1926]\n",
      " [    0     0     0     0   536 11026]\n",
      " [    0     0     0     0   221  6465]\n",
      " [    0     0     0     0   634 29236]\n",
      " [    0     0     0     0  3933 86368]]\n"
     ]
    }
   ],
   "source": [
    "print('accuracy score of train: ',   metrics.accuracy_score(Y_train, lda.predict(X_train02)))\n",
    "print('accuracy score of test: ',    metrics.accuracy_score(Y_test, y_predicted_test))\n",
    "print()\n",
    "print('recall score of train: ',     metrics.recall_score(Y_train, lda.predict(X_train02), average='micro'))\n",
    "print('recall score of test: ',      metrics.recall_score(Y_test, y_predicted_test, average='micro'))\n",
    "print()\n",
    "print('precision score of train: ',  metrics.precision_score(Y_train, lda.predict(X_train02), average='micro'))\n",
    "print('precision score of test: ',   metrics.precision_score(Y_test, y_predicted_test, average='micro'))\n",
    "print()\n",
    "print('confusion_matrix of train: ', metrics.confusion_matrix(Y_train, lda.predict(X_train02)))\n",
    "print('confusion_matrix of test: ',  metrics.confusion_matrix(Y_test, y_predicted_test))"
   ]
  },
  {
   "cell_type": "markdown",
   "metadata": {},
   "source": [
    "#### LogisticRegression"
   ]
  },
  {
   "cell_type": "code",
   "execution_count": 27,
   "metadata": {},
   "outputs": [
    {
     "data": {
      "text/plain": [
       "LogisticRegression(C=1.0, class_weight=None, dual=False, fit_intercept=True,\n",
       "                   intercept_scaling=1, l1_ratio=None, max_iter=100,\n",
       "                   multi_class='auto', n_jobs=None, penalty='l2',\n",
       "                   random_state=None, solver='lbfgs', tol=0.0001, verbose=0,\n",
       "                   warm_start=False)"
      ]
     },
     "execution_count": 27,
     "metadata": {},
     "output_type": "execute_result"
    }
   ],
   "source": [
    "from sklearn.linear_model import LogisticRegression\n",
    "\n",
    "linear = LogisticRegression()\n",
    "linear.fit(X_train, Y_train)"
   ]
  },
  {
   "cell_type": "code",
   "execution_count": 28,
   "metadata": {},
   "outputs": [
    {
     "name": "stdout",
     "output_type": "stream",
     "text": [
      "accuracy score of test:  0.6197157032323275\n"
     ]
    }
   ],
   "source": [
    "print('accuracy score of test: ', linear.score(X_test, Y_test))"
   ]
  },
  {
   "cell_type": "markdown",
   "metadata": {},
   "source": [
    "Opinion:  \n",
    "Focusing mainly on KNN and LDA, KNN seems much better when letting Y as 'Submitted via' in my analysis.  \n",
    "Plus, when I search loglinear, logistic regression pops up. So, I add the score of that method briefly.  \n",
    "By the way, It seems hard to find optimal K at KNN technique!"
   ]
  },
  {
   "cell_type": "markdown",
   "metadata": {},
   "source": [
    "### Y = <span style=\"color:brown\">'State'</span>"
   ]
  },
  {
   "cell_type": "code",
   "execution_count": 29,
   "metadata": {},
   "outputs": [],
   "source": [
    "X  = data03[['Product','Sub-product', 'Issue', 'Company', 'Submitted via']].values\n",
    "Y = data03['State'].values"
   ]
  },
  {
   "cell_type": "code",
   "execution_count": 30,
   "metadata": {},
   "outputs": [],
   "source": [
    "X = preprocessing.StandardScaler().fit(X).transform(X.astype(int))"
   ]
  },
  {
   "cell_type": "code",
   "execution_count": 31,
   "metadata": {},
   "outputs": [],
   "source": [
    "X_train, X_test, Y_train, Y_test = train_test_split(X, Y, test_size = 0.3)"
   ]
  },
  {
   "cell_type": "markdown",
   "metadata": {},
   "source": [
    "![Accuracy](Accuracy02.png)"
   ]
  },
  {
   "cell_type": "markdown",
   "metadata": {},
   "source": [
    "#### KNN"
   ]
  },
  {
   "cell_type": "code",
   "execution_count": 32,
   "metadata": {},
   "outputs": [],
   "source": [
    "k = 100\n",
    "my_model = KNeighborsClassifier(n_neighbors=k).fit(X_train, Y_train)\n",
    "Ypredict = my_model.predict(X_test)"
   ]
  },
  {
   "cell_type": "code",
   "execution_count": 33,
   "metadata": {},
   "outputs": [
    {
     "name": "stdout",
     "output_type": "stream",
     "text": [
      "accuracy score of train:  0.17880000732149284\n",
      "accuracy score of test:  0.1658516446361585\n",
      "\n",
      "recall score of train:  0.17880000732149284\n",
      "recall score of test:  0.1658516446361585\n",
      "\n",
      "precision score of train:  0.17880000732149284\n",
      "precision score of test:  0.1658516446361585\n",
      "\n",
      "confusion_matrix of train:  [[ 0  0  0 ...  0  0  0]\n",
      " [ 0  0  0 ...  0  0  0]\n",
      " [ 0  0  0 ...  0  0  0]\n",
      " ...\n",
      " [ 0  0  0 ... 50  0  0]\n",
      " [ 0  0  0 ...  0  0  0]\n",
      " [ 0  0  0 ...  0  0  0]]\n",
      "confusion_matrix of test:  [[ 0  0  0 ...  0  0  0]\n",
      " [ 0  0  0 ...  0  0  0]\n",
      " [ 0  0  0 ...  0  0  0]\n",
      " ...\n",
      " [ 0  0  0 ... 14  0  0]\n",
      " [ 0  0  0 ...  0  0  0]\n",
      " [ 0  0  0 ...  0  0  0]]\n"
     ]
    }
   ],
   "source": [
    "print('accuracy score of train: ',   metrics.accuracy_score(Y_train, my_model.predict(X_train)))\n",
    "print('accuracy score of test: ',    metrics.accuracy_score(Y_test, Ypredict))\n",
    "print()\n",
    "print('recall score of train: ',     metrics.recall_score(Y_train, my_model.predict(X_train), average='micro'))\n",
    "print('recall score of test: ',      metrics.recall_score(Y_test, Ypredict, average='micro'))\n",
    "print()\n",
    "print('precision score of train: ',  metrics.precision_score(Y_train, my_model.predict(X_train), average='micro'))\n",
    "print('precision score of test: ',   metrics.precision_score(Y_test, Ypredict, average='micro'))\n",
    "print()\n",
    "print('confusion_matrix of train: ', metrics.confusion_matrix(Y_train, my_model.predict(X_train)))\n",
    "print('confusion_matrix of test: ',  metrics.confusion_matrix(Y_test, Ypredict))"
   ]
  },
  {
   "cell_type": "markdown",
   "metadata": {},
   "source": [
    "#### LDA"
   ]
  },
  {
   "cell_type": "code",
   "execution_count": 34,
   "metadata": {},
   "outputs": [],
   "source": [
    "lda = LDA()\n",
    "X_train02 = lda.fit_transform(X_train, Y_train)\n",
    "X_test02 = lda.transform(X_test)\n",
    "y_predicted_test = lda.predict(X_test) "
   ]
  },
  {
   "cell_type": "code",
   "execution_count": 35,
   "metadata": {},
   "outputs": [
    {
     "name": "stdout",
     "output_type": "stream",
     "text": [
      "accuracy score of train:  0.15268058157058223\n",
      "accuracy score of test:  0.1513947909771011\n",
      "\n",
      "recall score of train:  0.15268058157058223\n",
      "recall score of test:  0.1513947909771011\n",
      "\n",
      "precision score of train:  0.15268058157058223\n",
      "precision score of test:  0.1513947909771011\n",
      "\n",
      "confusion_matrix of train:  [[0 0 0 ... 0 0 0]\n",
      " [0 0 0 ... 0 0 0]\n",
      " [0 0 0 ... 0 0 0]\n",
      " ...\n",
      " [0 0 0 ... 0 0 0]\n",
      " [0 0 0 ... 0 0 0]\n",
      " [0 0 0 ... 0 0 0]]\n",
      "confusion_matrix of test:  [[0 0 0 ... 0 0 0]\n",
      " [0 0 0 ... 0 0 0]\n",
      " [0 0 0 ... 0 0 0]\n",
      " ...\n",
      " [0 0 0 ... 0 0 0]\n",
      " [0 0 0 ... 0 0 0]\n",
      " [0 0 0 ... 0 0 0]]\n"
     ]
    }
   ],
   "source": [
    "print('accuracy score of train: ',   metrics.accuracy_score(Y_train, lda.predict(X_train02)))\n",
    "print('accuracy score of test: ',    metrics.accuracy_score(Y_test, y_predicted_test))\n",
    "print()\n",
    "print('recall score of train: ',     metrics.recall_score(Y_train, lda.predict(X_train02), average='micro'))\n",
    "print('recall score of test: ',      metrics.recall_score(Y_test, y_predicted_test, average='micro'))\n",
    "print()\n",
    "print('precision score of train: ',  metrics.precision_score(Y_train, lda.predict(X_train02), average='micro'))\n",
    "print('precision score of test: ',   metrics.precision_score(Y_test, y_predicted_test, average='micro'))\n",
    "print()\n",
    "print('confusion_matrix of train: ', metrics.confusion_matrix(Y_train, lda.predict(X_train02)))\n",
    "print('confusion_matrix of test: ',  metrics.confusion_matrix(Y_test, y_predicted_test))"
   ]
  },
  {
   "cell_type": "markdown",
   "metadata": {},
   "source": [
    "#### LogisticRegression"
   ]
  },
  {
   "cell_type": "code",
   "execution_count": 36,
   "metadata": {},
   "outputs": [
    {
     "data": {
      "text/plain": [
       "LogisticRegression(C=1.0, class_weight=None, dual=False, fit_intercept=True,\n",
       "                   intercept_scaling=1, l1_ratio=None, max_iter=100,\n",
       "                   multi_class='auto', n_jobs=None, penalty='l2',\n",
       "                   random_state=None, solver='lbfgs', tol=0.0001, verbose=0,\n",
       "                   warm_start=False)"
      ]
     },
     "execution_count": 36,
     "metadata": {},
     "output_type": "execute_result"
    }
   ],
   "source": [
    "linear = LogisticRegression()\n",
    "linear.fit(X_train, Y_train)"
   ]
  },
  {
   "cell_type": "code",
   "execution_count": 37,
   "metadata": {},
   "outputs": [
    {
     "name": "stdout",
     "output_type": "stream",
     "text": [
      "accuracy score of test:  0.1513947909771011\n"
     ]
    }
   ],
   "source": [
    "print('accuracy score of test: ', linear.score(X_test, Y_test))"
   ]
  },
  {
   "cell_type": "markdown",
   "metadata": {},
   "source": [
    "Opinion:  \n",
    "I think that comparing performance is not that useful in my analysis because of the low score.  \n",
    "It seems like if numbers of Y increase, the performance dramatically decreases.  \n",
    "'Submiitted Via' has 6, but 'State' has 62.  \n",
    "I guess that 'Company, 'Issue' and 'Product' will also have similar performance.  \n",
    "Anyway, I will continue the test."
   ]
  },
  {
   "cell_type": "markdown",
   "metadata": {},
   "source": [
    "### Y = <span style=\"color:brown\">'Company'</span>"
   ]
  },
  {
   "cell_type": "code",
   "execution_count": 38,
   "metadata": {},
   "outputs": [],
   "source": [
    "X  = data03[['Product','Sub-product', 'Issue', 'State', 'Submitted via']].values\n",
    "Y = data03['Company'].values"
   ]
  },
  {
   "cell_type": "code",
   "execution_count": 39,
   "metadata": {},
   "outputs": [],
   "source": [
    "X = preprocessing.StandardScaler().fit(X).transform(X.astype(float))"
   ]
  },
  {
   "cell_type": "code",
   "execution_count": 40,
   "metadata": {},
   "outputs": [],
   "source": [
    "X_train, X_test, Y_train, Y_test = train_test_split(X, Y, test_size = 0.3)"
   ]
  },
  {
   "cell_type": "markdown",
   "metadata": {},
   "source": [
    "#### KNN"
   ]
  },
  {
   "cell_type": "code",
   "execution_count": 41,
   "metadata": {},
   "outputs": [],
   "source": [
    "k = 100\n",
    "my_model = KNeighborsClassifier(n_neighbors=k).fit(X_train, Y_train)\n",
    "Ypredict = my_model.predict(X_test)"
   ]
  },
  {
   "cell_type": "code",
   "execution_count": 42,
   "metadata": {},
   "outputs": [
    {
     "name": "stdout",
     "output_type": "stream",
     "text": [
      "accuracy score of train:  0.1854808695493011\n",
      "accuracy score of test:  0.1734466534270075\n",
      "\n",
      "recall score of train:  0.1854808695493011\n",
      "recall score of test:  0.1734466534270075\n",
      "\n",
      "precision score of train:  0.1854808695493011\n",
      "precision score of test:  0.1734466534270075\n",
      "\n",
      "confusion_matrix of train:  [[0 0 0 ... 0 0 0]\n",
      " [0 0 0 ... 0 0 0]\n",
      " [0 0 0 ... 0 0 0]\n",
      " ...\n",
      " [0 0 0 ... 0 0 0]\n",
      " [0 0 0 ... 0 0 0]\n",
      " [0 0 0 ... 0 0 0]]\n",
      "confusion_matrix of test:  [[0 0 0 ... 0 0 0]\n",
      " [0 0 0 ... 0 0 0]\n",
      " [0 0 0 ... 0 0 0]\n",
      " ...\n",
      " [0 0 0 ... 0 0 0]\n",
      " [0 0 0 ... 0 0 0]\n",
      " [0 0 0 ... 0 0 0]]\n"
     ]
    }
   ],
   "source": [
    "print('accuracy score of train: ',   metrics.accuracy_score(Y_train, my_model.predict(X_train)))\n",
    "print('accuracy score of test: ',    metrics.accuracy_score(Y_test, Ypredict))\n",
    "print()\n",
    "print('recall score of train: ',     metrics.recall_score(Y_train, my_model.predict(X_train), average='micro'))\n",
    "print('recall score of test: ',      metrics.recall_score(Y_test, Ypredict, average='micro'))\n",
    "print()\n",
    "print('precision score of train: ',  metrics.precision_score(Y_train, my_model.predict(X_train), average='micro'))\n",
    "print('precision score of test: ',   metrics.precision_score(Y_test, Ypredict, average='micro'))\n",
    "print()\n",
    "print('confusion_matrix of train: ', metrics.confusion_matrix(Y_train, my_model.predict(X_train)))\n",
    "print('confusion_matrix of test: ',  metrics.confusion_matrix(Y_test, Ypredict))"
   ]
  },
  {
   "cell_type": "markdown",
   "metadata": {},
   "source": [
    "#### LDA"
   ]
  },
  {
   "cell_type": "code",
   "execution_count": 43,
   "metadata": {},
   "outputs": [],
   "source": [
    "lda = LDA()\n",
    "X_train02 = lda.fit_transform(X_train, Y_train)\n",
    "X_test02 = lda.transform(X_test)\n",
    "y_predicted_test = lda.predict(X_test) "
   ]
  },
  {
   "cell_type": "code",
   "execution_count": 44,
   "metadata": {},
   "outputs": [
    {
     "name": "stdout",
     "output_type": "stream",
     "text": [
      "accuracy score of train:  0.07246752612857761\n",
      "accuracy score of test:  0.12617537565753414\n",
      "\n",
      "recall score of train:  0.07246752612857761\n",
      "recall score of test:  0.12617537565753414\n",
      "\n",
      "precision score of train:  0.07246752612857761\n",
      "precision score of test:  0.12617537565753414\n",
      "\n",
      "confusion_matrix of train:  [[0 0 0 ... 0 0 0]\n",
      " [0 0 0 ... 0 0 0]\n",
      " [0 0 0 ... 0 0 0]\n",
      " ...\n",
      " [0 0 0 ... 0 0 0]\n",
      " [0 0 0 ... 0 0 0]\n",
      " [0 0 0 ... 0 0 0]]\n",
      "confusion_matrix of test:  [[0 0 0 ... 0 0 0]\n",
      " [0 0 0 ... 0 0 0]\n",
      " [0 0 0 ... 0 0 0]\n",
      " ...\n",
      " [0 0 0 ... 0 0 0]\n",
      " [0 0 0 ... 0 0 0]\n",
      " [0 0 0 ... 0 0 0]]\n"
     ]
    }
   ],
   "source": [
    "print('accuracy score of train: ',   metrics.accuracy_score(Y_train, lda.predict(X_train02)))\n",
    "print('accuracy score of test: ',    metrics.accuracy_score(Y_test, y_predicted_test))\n",
    "print()\n",
    "print('recall score of train: ',     metrics.recall_score(Y_train, lda.predict(X_train02), average='micro'))\n",
    "print('recall score of test: ',      metrics.recall_score(Y_test, y_predicted_test, average='micro'))\n",
    "print()\n",
    "print('precision score of train: ',  metrics.precision_score(Y_train, lda.predict(X_train02), average='micro'))\n",
    "print('precision score of test: ',   metrics.precision_score(Y_test, y_predicted_test, average='micro'))\n",
    "print()\n",
    "print('confusion_matrix of train: ', metrics.confusion_matrix(Y_train, lda.predict(X_train02)))\n",
    "print('confusion_matrix of test: ',  metrics.confusion_matrix(Y_test, y_predicted_test))"
   ]
  },
  {
   "cell_type": "markdown",
   "metadata": {},
   "source": [
    "#### LogisticRegression"
   ]
  },
  {
   "cell_type": "markdown",
   "metadata": {},
   "source": [
    "It seems like using too much RAM..  \n",
    "I think this is not that useful. If someone runs the code below, maybe It will run forever. "
   ]
  },
  {
   "cell_type": "code",
   "execution_count": null,
   "metadata": {},
   "outputs": [],
   "source": [
    "linear = LogisticRegression()\n",
    "linear.fit(X_train, Y_train)"
   ]
  },
  {
   "cell_type": "code",
   "execution_count": null,
   "metadata": {},
   "outputs": [],
   "source": [
    "print('accuracy score of test: ', linear.score(X_test, Y_test))"
   ]
  },
  {
   "cell_type": "markdown",
   "metadata": {},
   "source": [
    "Opinion:  \n",
    "Too low performance to compare..  \n",
    "Plus linear model is down because of too much load on RAM.  \n",
    "As I said above, it is not that good for my analysis to compare.   "
   ]
  },
  {
   "cell_type": "markdown",
   "metadata": {},
   "source": [
    "### Y = <span style=\"color:brown\">'Issue'</span>"
   ]
  },
  {
   "cell_type": "code",
   "execution_count": 46,
   "metadata": {},
   "outputs": [],
   "source": [
    "X  = data03[['Product','Sub-product','Company', 'State', 'Submitted via']].values\n",
    "Y = data03['Issue'].values"
   ]
  },
  {
   "cell_type": "code",
   "execution_count": 47,
   "metadata": {},
   "outputs": [],
   "source": [
    "X = preprocessing.StandardScaler().fit(X).transform(X.astype(float))"
   ]
  },
  {
   "cell_type": "code",
   "execution_count": 48,
   "metadata": {},
   "outputs": [],
   "source": [
    "X_train, X_test, Y_train, Y_test = train_test_split(X, Y, test_size = 0.3)"
   ]
  },
  {
   "cell_type": "markdown",
   "metadata": {},
   "source": [
    "#### KNN"
   ]
  },
  {
   "cell_type": "code",
   "execution_count": 51,
   "metadata": {},
   "outputs": [],
   "source": [
    "k = 120\n",
    "my_model = KNeighborsClassifier(n_neighbors=k).fit(X_train, Y_train)\n",
    "Ypredict = my_model.predict(X_test)"
   ]
  },
  {
   "cell_type": "code",
   "execution_count": 52,
   "metadata": {},
   "outputs": [
    {
     "name": "stdout",
     "output_type": "stream",
     "text": [
      "accuracy score of train:  0.4886943947870971\n",
      "accuracy score of test:  0.4806281008207165\n",
      "\n",
      "recall score of train:  0.4886943947870971\n",
      "recall score of test:  0.4806281008207165\n",
      "\n",
      "precision score of train:  0.4886943947870971\n",
      "precision score of test:  0.4806281008207165\n",
      "\n",
      "confusion_matrix of train:  [[19748     0     0 ...     0     0     0]\n",
      " [  146    25     0 ...     0     0     0]\n",
      " [    0     0     0 ...     0     0     0]\n",
      " ...\n",
      " [    0     0     0 ...     0     0     0]\n",
      " [ 2785     0     0 ...     0     0     0]\n",
      " [    0     0     0 ...     0     0     0]]\n",
      "confusion_matrix of test:  [[8336    0    0 ...    0    0    0]\n",
      " [  63   10    0 ...    0    0    0]\n",
      " [   0    0    0 ...    0    0    0]\n",
      " ...\n",
      " [   0    0    0 ...    0    0    0]\n",
      " [1172    0    0 ...    0    0    0]\n",
      " [   0    0    0 ...    0    0    0]]\n"
     ]
    }
   ],
   "source": [
    "print('accuracy score of train: ',   metrics.accuracy_score(Y_train, my_model.predict(X_train)))\n",
    "print('accuracy score of test: ',    metrics.accuracy_score(Y_test, Ypredict))\n",
    "print()\n",
    "print('recall score of train: ',     metrics.recall_score(Y_train, my_model.predict(X_train), average='micro'))\n",
    "print('recall score of test: ',      metrics.recall_score(Y_test, Ypredict, average='micro'))\n",
    "print()\n",
    "print('precision score of train: ',  metrics.precision_score(Y_train, my_model.predict(X_train), average='micro'))\n",
    "print('precision score of test: ',   metrics.precision_score(Y_test, Ypredict, average='micro'))\n",
    "print()\n",
    "print('confusion_matrix of train: ', metrics.confusion_matrix(Y_train, my_model.predict(X_train)))\n",
    "print('confusion_matrix of test: ',  metrics.confusion_matrix(Y_test, Ypredict))"
   ]
  },
  {
   "cell_type": "markdown",
   "metadata": {},
   "source": [
    "#### LDA"
   ]
  },
  {
   "cell_type": "code",
   "execution_count": 53,
   "metadata": {},
   "outputs": [],
   "source": [
    "lda = LDA()\n",
    "X_train02 = lda.fit_transform(X_train, Y_train)\n",
    "X_test02 = lda.transform(X_test)\n",
    "y_predicted_test = lda.predict(X_test) "
   ]
  },
  {
   "cell_type": "code",
   "execution_count": 54,
   "metadata": {},
   "outputs": [
    {
     "name": "stdout",
     "output_type": "stream",
     "text": [
      "accuracy score of train:  0.07703735791727934\n",
      "accuracy score of test:  0.4551809064183875\n",
      "\n",
      "recall score of train:  0.07703735791727934\n",
      "recall score of test:  0.4551809064183875\n",
      "\n",
      "precision score of train:  0.07703735791727934\n",
      "precision score of test:  0.4551809064183875\n",
      "\n",
      "confusion_matrix of train:  [[11012     0     0 ...     0     0     0]\n",
      " [  326     0     0 ...     0     0     0]\n",
      " [    0     0     0 ...     0     0     0]\n",
      " ...\n",
      " [    0     0     0 ...     0     0     0]\n",
      " [ 1673     0     0 ...     0     0     0]\n",
      " [    0     0     0 ...     0     0     0]]\n",
      "confusion_matrix of test:  [[9060    0    0 ...    0    0    0]\n",
      " [   0    0    0 ...    0    0    0]\n",
      " [   0    0    0 ...    0    0    0]\n",
      " ...\n",
      " [   0    0    0 ...    0    0    0]\n",
      " [1460    0    0 ...    0    0    0]\n",
      " [   0    0    0 ...    0    0    0]]\n"
     ]
    }
   ],
   "source": [
    "print('accuracy score of train: ',   metrics.accuracy_score(Y_train, lda.predict(X_train02)))\n",
    "print('accuracy score of test: ',    metrics.accuracy_score(Y_test, y_predicted_test))\n",
    "print()\n",
    "print('recall score of train: ',     metrics.recall_score(Y_train, lda.predict(X_train02), average='micro'))\n",
    "print('recall score of test: ',      metrics.recall_score(Y_test, y_predicted_test, average='micro'))\n",
    "print()\n",
    "print('precision score of train: ',  metrics.precision_score(Y_train, lda.predict(X_train02), average='micro'))\n",
    "print('precision score of test: ',   metrics.precision_score(Y_test, y_predicted_test, average='micro'))\n",
    "print()\n",
    "print('confusion_matrix of train: ', metrics.confusion_matrix(Y_train, lda.predict(X_train02)))\n",
    "print('confusion_matrix of test: ',  metrics.confusion_matrix(Y_test, y_predicted_test))"
   ]
  },
  {
   "cell_type": "markdown",
   "metadata": {},
   "source": [
    "#### LogisticRegression"
   ]
  },
  {
   "cell_type": "code",
   "execution_count": 55,
   "metadata": {},
   "outputs": [
    {
     "data": {
      "text/plain": [
       "LogisticRegression(C=1.0, class_weight=None, dual=False, fit_intercept=True,\n",
       "                   intercept_scaling=1, l1_ratio=None, max_iter=100,\n",
       "                   multi_class='auto', n_jobs=None, penalty='l2',\n",
       "                   random_state=None, solver='lbfgs', tol=0.0001, verbose=0,\n",
       "                   warm_start=False)"
      ]
     },
     "execution_count": 55,
     "metadata": {},
     "output_type": "execute_result"
    }
   ],
   "source": [
    "linear = LogisticRegression()\n",
    "linear.fit(X_train, Y_train)"
   ]
  },
  {
   "cell_type": "code",
   "execution_count": 56,
   "metadata": {},
   "outputs": [
    {
     "name": "stdout",
     "output_type": "stream",
     "text": [
      "accuracy score of test:  0.4528461708200759\n"
     ]
    }
   ],
   "source": [
    "print('accuracy score of test: ',    linear.score(X_test, Y_test))"
   ]
  },
  {
   "cell_type": "markdown",
   "metadata": {},
   "source": [
    "Opinion:  \n",
    "Interesting..  \n",
    "KNN looks slightly better than LDA.  \n",
    "Little bit low, but I think my guess is wrong that I mention above.."
   ]
  },
  {
   "cell_type": "markdown",
   "metadata": {},
   "source": [
    "### Y = <span style=\"color:brown\">'Product'</span>"
   ]
  },
  {
   "cell_type": "code",
   "execution_count": 57,
   "metadata": {},
   "outputs": [],
   "source": [
    "X  = data03[['Sub-product','Issue', 'Company', 'State', 'Submitted via']].values\n",
    "Y = data03['Product'].values"
   ]
  },
  {
   "cell_type": "code",
   "execution_count": 58,
   "metadata": {},
   "outputs": [],
   "source": [
    "X = preprocessing.StandardScaler().fit(X).transform(X.astype(float))"
   ]
  },
  {
   "cell_type": "code",
   "execution_count": 59,
   "metadata": {},
   "outputs": [],
   "source": [
    "X_train, X_test, Y_train, Y_test = train_test_split(X, Y, test_size = 0.3)"
   ]
  },
  {
   "cell_type": "markdown",
   "metadata": {},
   "source": [
    "#### KNN"
   ]
  },
  {
   "cell_type": "code",
   "execution_count": 62,
   "metadata": {},
   "outputs": [],
   "source": [
    "k = 35\n",
    "my_model = KNeighborsClassifier(n_neighbors=k).fit(X_train, Y_train)\n",
    "Ypredict = my_model.predict(X_test)"
   ]
  },
  {
   "cell_type": "code",
   "execution_count": 63,
   "metadata": {},
   "outputs": [
    {
     "name": "stdout",
     "output_type": "stream",
     "text": [
      "accuracy score of train:  0.9426544072336349\n",
      "accuracy score of test:  0.9395602440083424\n",
      "\n",
      "recall score of train:  0.9426544072336349\n",
      "recall score of test:  0.9395602440083424\n",
      "\n",
      "precision score of train:  0.9426544072336349\n",
      "precision score of test:  0.9395602440083424\n",
      "\n",
      "confusion_matrix of train:  [[ 48668    146   1422      2   1716      0     22      1    258      0]\n",
      " [   388  16948    191    107    764      0     87     13     60      0]\n",
      " [  1720    419  83203    224    360      1    160     61    434      0]\n",
      " [   114    340    608   2007     76      0      0      3      1      0]\n",
      " [  1183    625   2103      7 141748      0    110      8    345      0]\n",
      " [   174     12    268     25     54      0      1      8     14      0]\n",
      " [     2     26    536      0    202      0   2552      0      3      0]\n",
      " [    78    214    706     42    334      0     19    810     32      0]\n",
      " [    37      8   1536      5    375      0      0      0  13068      0]\n",
      " [     0      0      1      7      0      0      0      0      0      0]]\n",
      "confusion_matrix of test:  [[20812    59   721     3   775     0    15     0    87     0]\n",
      " [  150  7181    92    32   346     0    50     7    28     0]\n",
      " [  749   175 35360   107   189     0    73    21   232     0]\n",
      " [   47   157   271   885    29     0     0     1     1     0]\n",
      " [  555   255   901     9 60820     0    38     5   193     0]\n",
      " [   78     3   113    11    17     0     0     3     7     0]\n",
      " [    0     5   254     0   113     0  1068     0     4     0]\n",
      " [   33    95   321    13   113     0     8   306    11     0]\n",
      " [   11     2   734     3   161     0     0     0  5564     0]\n",
      " [    0     0     3     2     0     0     0     0     0     0]]\n"
     ]
    }
   ],
   "source": [
    "print('accuracy score of train: ',   metrics.accuracy_score(Y_train, my_model.predict(X_train)))\n",
    "print('accuracy score of test: ',    metrics.accuracy_score(Y_test, Ypredict))\n",
    "print()\n",
    "print('recall score of train: ',     metrics.recall_score(Y_train, my_model.predict(X_train), average='micro'))\n",
    "print('recall score of test: ',      metrics.recall_score(Y_test, Ypredict, average='micro'))\n",
    "print()\n",
    "print('precision score of train: ',  metrics.precision_score(Y_train, my_model.predict(X_train), average='micro'))\n",
    "print('precision score of test: ',   metrics.precision_score(Y_test, Ypredict, average='micro'))\n",
    "print()\n",
    "print('confusion_matrix of train: ', metrics.confusion_matrix(Y_train, my_model.predict(X_train)))\n",
    "print('confusion_matrix of test: ',  metrics.confusion_matrix(Y_test, Ypredict))"
   ]
  },
  {
   "cell_type": "markdown",
   "metadata": {},
   "source": [
    "#### LDA"
   ]
  },
  {
   "cell_type": "code",
   "execution_count": 64,
   "metadata": {},
   "outputs": [],
   "source": [
    "lda = LDA()\n",
    "X_train02 = lda.fit_transform(X_train, Y_train)\n",
    "X_test02 = lda.transform(X_test)\n",
    "y_predicted_test = lda.predict(X_test) "
   ]
  },
  {
   "cell_type": "code",
   "execution_count": 65,
   "metadata": {},
   "outputs": [
    {
     "name": "stdout",
     "output_type": "stream",
     "text": [
      "accuracy score of train:  0.5464396190383219\n",
      "accuracy score of test:  0.676838426331262\n",
      "\n",
      "recall score of train:  0.5464396190383219\n",
      "recall score of test:  0.676838426331262\n",
      "\n",
      "precision score of train:  0.5464396190383219\n",
      "precision score of test:  0.676838426331262\n",
      "\n",
      "confusion_matrix of train:  [[ 20490   4079   4740      0  22926      0      0      0      0      0]\n",
      " [   257   6690   7120      0   3415      0   1076      0      0      0]\n",
      " [ 14662   5197  41063      0  25660      0      0      0      0      0]\n",
      " [     0    204    323      0   2622      0      0      0      0      0]\n",
      " [  9285   3222  22728      0 110881      0     13      0      0      0]\n",
      " [    15     59    110      0    372      0      0      0      0      0]\n",
      " [   387    388   2456      0     90      0      0      0      0      0]\n",
      " [   151    733    361      0    990      0      0      0      0      0]\n",
      " [  1981   3653   7695      0   1700      0      0      0      0      0]\n",
      " [     0      0      0      0      8      0      0      0      0      0]]\n",
      "confusion_matrix of test:  [[ 9619   322  5404     0  7127     0     0     0     0     0]\n",
      " [    3  5056   218     0  2609     0     0     0     0     0]\n",
      " [ 3536   377 24847     0  8146     0     0     0     0     0]\n",
      " [   56     0    22     0  1313     0     0     0     0     0]\n",
      " [ 2018  1094  4099     0 55565     0     0     0     0     0]\n",
      " [   71     5    39     0   117     0     0     0     0     0]\n",
      " [    3   180  1186     0    75     0     0     0     0     0]\n",
      " [    4    51   119     0   726     0     0     0     0     0]\n",
      " [  113     0  4485     0  1877     0     0     0     0     0]\n",
      " [    0     0     0     0     5     0     0     0     0     0]]\n"
     ]
    }
   ],
   "source": [
    "print('accuracy score of train: ',   metrics.accuracy_score(Y_train, lda.predict(X_train02)))\n",
    "print('accuracy score of test: ',    metrics.accuracy_score(Y_test, y_predicted_test))\n",
    "print()\n",
    "print('recall score of train: ',     metrics.recall_score(Y_train, lda.predict(X_train02), average='micro'))\n",
    "print('recall score of test: ',      metrics.recall_score(Y_test, y_predicted_test, average='micro'))\n",
    "print()\n",
    "print('precision score of train: ',  metrics.precision_score(Y_train, lda.predict(X_train02), average='micro'))\n",
    "print('precision score of test: ',   metrics.precision_score(Y_test, y_predicted_test, average='micro'))\n",
    "print()\n",
    "print('confusion_matrix of train: ', metrics.confusion_matrix(Y_train, lda.predict(X_train02)))\n",
    "print('confusion_matrix of test: ',  metrics.confusion_matrix(Y_test, y_predicted_test))"
   ]
  },
  {
   "cell_type": "markdown",
   "metadata": {},
   "source": [
    "#### LogisticRegression"
   ]
  },
  {
   "cell_type": "code",
   "execution_count": 66,
   "metadata": {},
   "outputs": [
    {
     "data": {
      "text/plain": [
       "LogisticRegression(C=1.0, class_weight=None, dual=False, fit_intercept=True,\n",
       "                   intercept_scaling=1, l1_ratio=None, max_iter=100,\n",
       "                   multi_class='auto', n_jobs=None, penalty='l2',\n",
       "                   random_state=None, solver='lbfgs', tol=0.0001, verbose=0,\n",
       "                   warm_start=False)"
      ]
     },
     "execution_count": 66,
     "metadata": {},
     "output_type": "execute_result"
    }
   ],
   "source": [
    "linear = LogisticRegression()\n",
    "linear.fit(X_train, Y_train)"
   ]
  },
  {
   "cell_type": "code",
   "execution_count": 67,
   "metadata": {},
   "outputs": [
    {
     "name": "stdout",
     "output_type": "stream",
     "text": [
      "accuracy score of test:  0.6741549040124709\n"
     ]
    }
   ],
   "source": [
    "print('accuracy score of test: ',    linear.score(X_test, Y_test))"
   ]
  },
  {
   "cell_type": "markdown",
   "metadata": {},
   "source": [
    "Opinion:  \n",
    "Wow, Surprised!!!!  \n",
    "This seems interesting...  \n",
    "Anyway, KNN seems much better than LDA."
   ]
  }
 ],
 "metadata": {
  "kernelspec": {
   "display_name": "Python 3",
   "language": "python",
   "name": "python3"
  },
  "language_info": {
   "codemirror_mode": {
    "name": "ipython",
    "version": 3
   },
   "file_extension": ".py",
   "mimetype": "text/x-python",
   "name": "python",
   "nbconvert_exporter": "python",
   "pygments_lexer": "ipython3",
   "version": "3.7.6"
  }
 },
 "nbformat": 4,
 "nbformat_minor": 4
}
