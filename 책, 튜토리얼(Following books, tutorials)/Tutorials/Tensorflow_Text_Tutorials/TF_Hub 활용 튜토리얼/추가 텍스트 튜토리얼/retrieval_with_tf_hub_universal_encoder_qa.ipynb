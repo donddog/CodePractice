{
 "cells": [
  {
   "cell_type": "markdown",
   "metadata": {
    "id": "VFMCdVJIIraw"
   },
   "source": [
    "##### Copyright 2019 The TensorFlow Hub Authors.\n",
    "\n",
    "Licensed under the Apache License, Version 2.0 (the \"License\");"
   ]
  },
  {
   "cell_type": "code",
   "execution_count": 1,
   "metadata": {
    "cellView": "code",
    "execution": {
     "iopub.execute_input": "2020-11-24T15:39:50.059153Z",
     "iopub.status.busy": "2020-11-24T15:39:50.058503Z",
     "iopub.status.idle": "2020-11-24T15:39:50.061132Z",
     "shell.execute_reply": "2020-11-24T15:39:50.060537Z"
    },
    "id": "ZxMYj8OpIrCp"
   },
   "outputs": [],
   "source": [
    "# Copyright 2019 The TensorFlow Hub Authors. All Rights Reserved.\n",
    "#\n",
    "# Licensed under the Apache License, Version 2.0 (the \"License\");\n",
    "# you may not use this file except in compliance with the License.\n",
    "# You may obtain a copy of the License at\n",
    "#\n",
    "#     http://www.apache.org/licenses/LICENSE-2.0\n",
    "#\n",
    "# Unless required by applicable law or agreed to in writing, software\n",
    "# distributed under the License is distributed on an \"AS IS\" BASIS,\n",
    "# WITHOUT WARRANTIES OR CONDITIONS OF ANY KIND, either express or implied.\n",
    "# See the License for the specific language governing permissions and\n",
    "# limitations under the License.\n",
    "# =============================================================================="
   ]
  },
  {
   "cell_type": "markdown",
   "metadata": {
    "id": "0fO2R2BBKx3l"
   },
   "source": [
    "# Multilingual Universal Sentence Encoder Q&A Retrieval\n"
   ]
  },
  {
   "cell_type": "markdown",
   "metadata": {
    "id": "MfBg1C5NB3X0"
   },
   "source": [
    "<table class=\"tfo-notebook-buttons\" align=\"left\">\n",
    "  <td>\n",
    "    <a target=\"_blank\" href=\"https://www.tensorflow.org/hub/tutorials/retrieval_with_tf_hub_universal_encoder_qa\"><img src=\"https://www.tensorflow.org/images/tf_logo_32px.png\" />View on TensorFlow.org</a>\n",
    "  </td>\n",
    "  <td>\n",
    "    <a target=\"_blank\" href=\"https://colab.research.google.com/github/tensorflow/hub/blob/master/examples/colab/retrieval_with_tf_hub_universal_encoder_qa.ipynb\"><img src=\"https://www.tensorflow.org/images/colab_logo_32px.png\" />Run in Google Colab</a>\n",
    "  </td>\n",
    "  <td>\n",
    "    <a target=\"_blank\" href=\"https://github.com/tensorflow/hub/blob/master/examples/colab/retrieval_with_tf_hub_universal_encoder_qa.ipynb\"><img src=\"https://www.tensorflow.org/images/GitHub-Mark-32px.png\" />View on GitHub</a>\n",
    "  </td>\n",
    "  <td>\n",
    "    <a href=\"https://storage.googleapis.com/tensorflow_docs/hub/examples/colab/retrieval_with_tf_hub_universal_encoder_qa.ipynb\"><img src=\"https://www.tensorflow.org/images/download_logo_32px.png\" />Download notebook</a>\n",
    "  </td>\n",
    "  <td>\n",
    "    <a href=\"https://tfhub.dev/s?q=google%2Funiversal-sentence-encoder-multilingual-qa%2F3%20OR%20google%2Funiversal-sentence-encoder-qa%2F3\"><img src=\"https://www.tensorflow.org/images/hub_logo_32px.png\" />See TF Hub models</a>\n",
    "  </td>\n",
    "</table>"
   ]
  },
  {
   "cell_type": "markdown",
   "metadata": {
    "id": "zsDm_WgMNlJQ"
   },
   "source": [
    "This is a demo for using [Univeral Encoder Multilingual Q&A model](https://tfhub.dev/google/universal-sentence-encoder-multilingual-qa/3) for question-answer retrieval of text, illustrating the use of **question_encoder** and **response_encoder** of the model. We use sentences from [SQuAD](https://rajpurkar.github.io/SQuAD-explorer/) paragraphs as the demo dataset, each sentence and its context (the text surrounding the sentence) is encoded into high dimension embeddings with the **response_encoder**. These embeddings are stored in an index built using the [simpleneighbors](https://pypi.org/project/simpleneighbors/) library for question-answer retrieval.\n",
    "\n",
    "On retrieval a random question is selected from the [SQuAD](https://rajpurkar.github.io/SQuAD-explorer/) dataset and encoded into high dimension embedding with the **question_encoder** and query the  simpleneighbors index returning a list of approximate nearest neighbors in semantic space."
   ]
  },
  {
   "cell_type": "markdown",
   "metadata": {
    "id": "U0eOW2LTWiLg"
   },
   "source": [
    "### More models\n",
    "You can find all currently hosted text embedding models [here](https://tfhub.dev/s?module-type=text-embedding) and all models that have been trained on SQuAD as well [here](https://tfhub.dev/s?dataset=squad)."
   ]
  },
  {
   "cell_type": "markdown",
   "metadata": {
    "id": "ORy-KvWXGXBo"
   },
   "source": [
    "## Setup\n"
   ]
  },
  {
   "cell_type": "code",
   "execution_count": 2,
   "metadata": {
    "cellView": "both",
    "execution": {
     "iopub.execute_input": "2020-11-24T15:39:50.068300Z",
     "iopub.status.busy": "2020-11-24T15:39:50.067656Z",
     "iopub.status.idle": "2020-11-24T15:40:06.675549Z",
     "shell.execute_reply": "2020-11-24T15:40:06.674895Z"
    },
    "id": "x00t_uJCEbeb"
   },
   "outputs": [],
   "source": [
    "%%capture\n",
    "#@title Setup Environment\n",
    "# Install the latest Tensorflow version.\n",
    "!pip install -q tensorflow_text\n",
    "!pip install -q simpleneighbors[annoy]\n",
    "!pip install -q nltk\n",
    "!pip install -q tqdm"
   ]
  },
  {
   "cell_type": "code",
   "execution_count": 3,
   "metadata": {
    "cellView": "form",
    "execution": {
     "iopub.execute_input": "2020-11-24T15:40:06.688996Z",
     "iopub.status.busy": "2020-11-24T15:40:06.688273Z",
     "iopub.status.idle": "2020-11-24T15:40:14.398210Z",
     "shell.execute_reply": "2020-11-24T15:40:14.398691Z"
    },
    "id": "DmeFAuVsyWxg"
   },
   "outputs": [
    {
     "name": "stderr",
     "output_type": "stream",
     "text": [
      "[nltk_data] Downloading package punkt to /home/kbuilder/nltk_data...\n",
      "[nltk_data]   Unzipping tokenizers/punkt.zip.\n"
     ]
    }
   ],
   "source": [
    "#@title Setup common imports and functions\n",
    "import json\n",
    "import nltk\n",
    "import os\n",
    "import pprint\n",
    "import random\n",
    "import simpleneighbors\n",
    "import urllib\n",
    "from IPython.display import HTML, display\n",
    "from tqdm.notebook import tqdm\n",
    "\n",
    "import tensorflow.compat.v2 as tf\n",
    "import tensorflow_hub as hub\n",
    "from tensorflow_text import SentencepieceTokenizer\n",
    "\n",
    "nltk.download('punkt')\n",
    "\n",
    "\n",
    "def download_squad(url):\n",
    "  return json.load(urllib.request.urlopen(url))\n",
    "\n",
    "def extract_sentences_from_squad_json(squad):\n",
    "  all_sentences = []\n",
    "  for data in squad['data']:\n",
    "    for paragraph in data['paragraphs']:\n",
    "      sentences = nltk.tokenize.sent_tokenize(paragraph['context'])\n",
    "      all_sentences.extend(zip(sentences, [paragraph['context']] * len(sentences)))\n",
    "  return list(set(all_sentences)) # remove duplicates\n",
    "\n",
    "def extract_questions_from_squad_json(squad):\n",
    "  questions = []\n",
    "  for data in squad['data']:\n",
    "    for paragraph in data['paragraphs']:\n",
    "      for qas in paragraph['qas']:\n",
    "        if qas['answers']:\n",
    "          questions.append((qas['question'], qas['answers'][0]['text']))\n",
    "  return list(set(questions))\n",
    "\n",
    "def output_with_highlight(text, highlight):\n",
    "  output = \"<li> \"\n",
    "  i = text.find(highlight)\n",
    "  while True:\n",
    "    if i == -1:\n",
    "      output += text\n",
    "      break\n",
    "    output += text[0:i]\n",
    "    output += '<b>'+text[i:i+len(highlight)]+'</b>'\n",
    "    text = text[i+len(highlight):]\n",
    "    i = text.find(highlight)\n",
    "  return output + \"</li>\\n\"\n",
    "\n",
    "def display_nearest_neighbors(query_text, answer_text=None):\n",
    "  query_embedding = model.signatures['question_encoder'](tf.constant([query_text]))['outputs'][0]\n",
    "  search_results = index.nearest(query_embedding, n=num_results)\n",
    "\n",
    "  if answer_text:\n",
    "    result_md = '''\n",
    "    <p>Random Question from SQuAD:</p>\n",
    "    <p>&nbsp;&nbsp;<b>%s</b></p>\n",
    "    <p>Answer:</p>\n",
    "    <p>&nbsp;&nbsp;<b>%s</b></p>\n",
    "    ''' % (query_text , answer_text)\n",
    "  else:\n",
    "    result_md = '''\n",
    "    <p>Question:</p>\n",
    "    <p>&nbsp;&nbsp;<b>%s</b></p>\n",
    "    ''' % query_text\n",
    "\n",
    "  result_md += '''\n",
    "    <p>Retrieved sentences :\n",
    "    <ol>\n",
    "  '''\n",
    "\n",
    "  if answer_text:\n",
    "    for s in search_results:\n",
    "      result_md += output_with_highlight(s, answer_text)\n",
    "  else:\n",
    "    for s in search_results:\n",
    "      result_md += '<li>' + s + '</li>\\n'\n",
    "\n",
    "  result_md += \"</ol>\"\n",
    "  display(HTML(result_md))"
   ]
  },
  {
   "cell_type": "markdown",
   "metadata": {
    "id": "1kbkT8i3FL_C"
   },
   "source": [
    "Run the following code block to download and extract the SQuAD dataset into:\n",
    "\n",
    "* **sentences** is a list of (text, context) tuples - each paragraph from the SQuAD dataset are splitted into sentences using nltk library and the sentence and paragraph text forms the (text, context) tuple.\n",
    "* **questions** is a list of (question, answer) tuples.\n",
    "\n",
    "Note: You can use this demo to index the SQuAD train dataset or the smaller dev dataset (1.1 or 2.0) by selecting the **squad_url** below.\n"
   ]
  },
  {
   "cell_type": "code",
   "execution_count": 4,
   "metadata": {
    "cellView": "both",
    "execution": {
     "iopub.execute_input": "2020-11-24T15:40:14.409195Z",
     "iopub.status.busy": "2020-11-24T15:40:14.408475Z",
     "iopub.status.idle": "2020-11-24T15:40:16.064831Z",
     "shell.execute_reply": "2020-11-24T15:40:16.065251Z"
    },
    "id": "iYqV2GAty_Eh"
   },
   "outputs": [
    {
     "name": "stdout",
     "output_type": "stream",
     "text": [
      "10455 sentences, 10552 questions extracted from SQuAD https://rajpurkar.github.io/SQuAD-explorer/dataset/dev-v1.1.json\n",
      "\n",
      "Example sentence and context:\n",
      "\n",
      "sentence:\n",
      "\n",
      "('Warsaw Uprising Hill (121 metres (397.0 ft)), Szczęśliwice hill (138 metres '\n",
      " '(452.8 ft) – the highest point of Warsaw in general).')\n",
      "\n",
      "context:\n",
      "\n",
      "('Warsaw lies in east-central Poland about 300 km (190 mi) from the Carpathian '\n",
      " 'Mountains and about 260 km (160 mi) from the Baltic Sea, 523 km (325 mi) '\n",
      " 'east of Berlin, Germany. The city straddles the Vistula River. It is located '\n",
      " 'in the heartland of the Masovian Plain, and its average elevation is 100 '\n",
      " 'metres (330 ft) above sea level. The highest point on the left side of the '\n",
      " 'city lies at a height of 115.7 metres (379.6 ft) (\"Redutowa\" bus depot, '\n",
      " 'district of Wola), on the right side – 122.1 metres (400.6 ft) (\"Groszówka\" '\n",
      " 'estate, district of Wesoła, by the eastern border). The lowest point lies at '\n",
      " 'a height 75.6 metres (248.0 ft) (at the right bank of the Vistula, by the '\n",
      " 'eastern border of Warsaw). There are some hills (mostly artificial) located '\n",
      " 'within the confines of the city – e.g. Warsaw Uprising Hill (121 metres '\n",
      " '(397.0 ft)), Szczęśliwice hill (138 metres (452.8 ft) – the highest point of '\n",
      " 'Warsaw in general).')\n",
      "\n"
     ]
    }
   ],
   "source": [
    "#@title Download and extract SQuAD data\n",
    "squad_url = 'https://rajpurkar.github.io/SQuAD-explorer/dataset/dev-v1.1.json' #@param [\"https://rajpurkar.github.io/SQuAD-explorer/dataset/train-v2.0.json\", \"https://rajpurkar.github.io/SQuAD-explorer/dataset/dev-v2.0.json\", \"https://rajpurkar.github.io/SQuAD-explorer/dataset/train-v1.1.json\", \"https://rajpurkar.github.io/SQuAD-explorer/dataset/dev-v1.1.json\"]\n",
    "\n",
    "squad_json = download_squad(squad_url)\n",
    "sentences = extract_sentences_from_squad_json(squad_json)\n",
    "questions = extract_questions_from_squad_json(squad_json)\n",
    "print(\"%s sentences, %s questions extracted from SQuAD %s\" % (len(sentences), len(questions), squad_url))\n",
    "\n",
    "print(\"\\nExample sentence and context:\\n\")\n",
    "sentence = random.choice(sentences)\n",
    "print(\"sentence:\\n\")\n",
    "pprint.pprint(sentence[0])\n",
    "print(\"\\ncontext:\\n\")\n",
    "pprint.pprint(sentence[1])\n",
    "print()"
   ]
  },
  {
   "cell_type": "markdown",
   "metadata": {
    "id": "9x3u-2uSGbDf"
   },
   "source": [
    "The following code block setup the tensorflow graph **g** and **session** with the [Univeral Encoder Multilingual Q&A model](https://tfhub.dev/google/universal-sentence-encoder-multilingual-qa/3)'s **question_encoder** and **response_encoder** signatures."
   ]
  },
  {
   "cell_type": "code",
   "execution_count": 5,
   "metadata": {
    "execution": {
     "iopub.execute_input": "2020-11-24T15:40:16.069758Z",
     "iopub.status.busy": "2020-11-24T15:40:16.069073Z",
     "iopub.status.idle": "2020-11-24T15:40:45.902138Z",
     "shell.execute_reply": "2020-11-24T15:40:45.902584Z"
    },
    "id": "44I0uCRQRiFO"
   },
   "outputs": [],
   "source": [
    "#@title Load model from tensorflow hub\n",
    "module_url = \"https://tfhub.dev/google/universal-sentence-encoder-multilingual-qa/3\" #@param [\"https://tfhub.dev/google/universal-sentence-encoder-multilingual-qa/3\", \"https://tfhub.dev/google/universal-sentence-encoder-qa/3\"]\n",
    "model = hub.load(module_url)\n"
   ]
  },
  {
   "cell_type": "markdown",
   "metadata": {
    "id": "SCQpDmTZG0O6"
   },
   "source": [
    "The following code block compute the embeddings for all the text, context tuples and store them in a [simpleneighbors](https://pypi.org/project/simpleneighbors/) index using the **response_encoder**.\n"
   ]
  },
  {
   "cell_type": "code",
   "execution_count": 6,
   "metadata": {
    "execution": {
     "iopub.execute_input": "2020-11-24T15:40:45.912225Z",
     "iopub.status.busy": "2020-11-24T15:40:45.911280Z",
     "iopub.status.idle": "2020-11-24T16:03:30.635140Z",
     "shell.execute_reply": "2020-11-24T16:03:30.635609Z"
    },
    "id": "FwDUryIfSLp2"
   },
   "outputs": [
    {
     "name": "stdout",
     "output_type": "stream",
     "text": [
      "Computing embeddings for 10455 sentences\n"
     ]
    },
    {
     "data": {
      "application/vnd.jupyter.widget-view+json": {
       "model_id": "bbac78464fab438ba5d32345e160a099",
       "version_major": 2,
       "version_minor": 0
      },
      "text/plain": [
       "HBox(children=(HTML(value=''), FloatProgress(value=0.0, max=104.0), HTML(value='')))"
      ]
     },
     "metadata": {},
     "output_type": "display_data"
    },
    {
     "name": "stdout",
     "output_type": "stream",
     "text": [
      "\n",
      "simpleneighbors index for 10455 sentences built.\n"
     ]
    }
   ],
   "source": [
    "#@title Compute embeddings and build simpleneighbors index\n",
    "batch_size = 100\n",
    "\n",
    "encodings = model.signatures['response_encoder'](\n",
    "  input=tf.constant([sentences[0][0]]),\n",
    "  context=tf.constant([sentences[0][1]]))\n",
    "index = simpleneighbors.SimpleNeighbors(\n",
    "    len(encodings['outputs'][0]), metric='angular')\n",
    "\n",
    "print('Computing embeddings for %s sentences' % len(sentences))\n",
    "slices = zip(*(iter(sentences),) * batch_size)\n",
    "num_batches = int(len(sentences) / batch_size)\n",
    "for s in tqdm(slices, total=num_batches):\n",
    "  response_batch = list([r for r, c in s])\n",
    "  context_batch = list([c for r, c in s])\n",
    "  encodings = model.signatures['response_encoder'](\n",
    "    input=tf.constant(response_batch),\n",
    "    context=tf.constant(context_batch)\n",
    "  )\n",
    "  for batch_index, batch in enumerate(response_batch):\n",
    "    index.add_one(batch, encodings['outputs'][batch_index])\n",
    "\n",
    "index.build()\n",
    "print('simpleneighbors index for %s sentences built.' % len(sentences))\n"
   ]
  },
  {
   "cell_type": "markdown",
   "metadata": {
    "id": "ZkNcjoPzHJpP"
   },
   "source": [
    "On retrieval, the question is encoded using the **question_encoder** and the question embedding is used to query the simpleneighbors index."
   ]
  },
  {
   "cell_type": "code",
   "execution_count": 7,
   "metadata": {
    "cellView": "both",
    "execution": {
     "iopub.execute_input": "2020-11-24T16:03:30.641350Z",
     "iopub.status.busy": "2020-11-24T16:03:30.640692Z",
     "iopub.status.idle": "2020-11-24T16:03:32.293912Z",
     "shell.execute_reply": "2020-11-24T16:03:32.294305Z"
    },
    "id": "J0xTw2w3UViK"
   },
   "outputs": [
    {
     "data": {
      "text/html": [
       "\n",
       "    <p>Random Question from SQuAD:</p>\n",
       "    <p>&nbsp;&nbsp;<b>What does Warszawa mean in Polish?</b></p>\n",
       "    <p>Answer:</p>\n",
       "    <p>&nbsp;&nbsp;<b>belonging to Warsz</b></p>\n",
       "    \n",
       "    <p>Retrieved sentences :\n",
       "    <ol>\n",
       "  <li> Warsaw (Polish: Warszawa [varˈʂava] ( listen); see also other names) is the capital and largest city of Poland.</li>\n",
       "<li> The official city name in full is miasto stołeczne Warszawa (English: \"The Capital City of Warsaw\").</li>\n",
       "<li> The mermaid (syrenka) is Warsaw's symbol and can be found on statues throughout the city and on the city's coat of arms.</li>\n",
       "<li> The Warsaw Stock Exchange is one of the largest and most important in Central and Eastern Europe.</li>\n",
       "<li> Warsaw has also two botanic gardens: by the Łazienki park (a didactic-research unit of the University of Warsaw) as well as by the Park of Culture and Rest in Powsin (a unit of the Polish Academy of Science).</li>\n",
       "<li> Today, Warsaw has some of the best medical facilities in Poland and East-Central Europe.</li>\n",
       "<li> The species richness is mainly due to the location of Warsaw within the border region of several big floral regions comprising substantial proportions of close-to-wilderness areas (natural forests, wetlands along the Vistula) as well as arable land, meadows and forests.</li>\n",
       "<li> It has been said that Warsaw, together with Frankfurt, London, Paris and Barcelona is one of the cities with the highest number of skyscrapers in the European Union.</li>\n",
       "<li> Warsaw University of Technology is the second academic school of technology in the country, and one of the largest in East-Central Europe, employing 2,000 professors.</li>\n",
       "<li> There are also several lakes in Warsaw – mainly the oxbow lakes, like Czerniaków Lake, the lakes in the Łazienki or Wilanów Parks, Kamionek Lake.</li>\n",
       "<li> The lowest point lies at a height 75.6 metres (248.0 ft) (at the right bank of the Vistula, by the eastern border of Warsaw).</li>\n",
       "<li> It includes the Austrian towns of Gaißau, Höchst and Fußach.</li>\n",
       "<li> Many local fields have an official name containing this element.</li>\n",
       "<li> Thanks to numerous musical venues, including the Teatr Wielki, the Polish National Opera, the Chamber Opera, the National Philharmonic Hall and the National Theatre, as well as the Roma and Buffo music theatres and the Congress Hall in the Palace of Culture and Science, Warsaw hosts many events and festivals.</li>\n",
       "<li> The highest point on the left side of the city lies at a height of 115.7 metres (379.6 ft) (\"Redutowa\" bus depot, district of Wola), on the right side – 122.1 metres (400.6 ft) (\"Groszówka\" estate, district of Wesoła, by the eastern border).</li>\n",
       "<li> Besides, within the city borders, there are also: Pole Mokotowskie (a big park in the northern Mokotów, where was the first horse racetrack and then the airport), Park Ujazdowski (close to the Sejm and John Lennon street), Park of Culture and Rest in Powsin, by the southern city border, Park Skaryszewski by the right Vistula bank, in Praga.</li>\n",
       "<li> The city straddles the Vistula River.</li>\n",
       "<li> EAT!</li>\n",
       "<li> With its benches, flower carpets, a pond with ducks on and a playground for kids, the Krasiński Palace Garden is a popular strolling destination for the Varsovians.</li>\n",
       "<li> The group is adept at social media, posting Internet videos of beheadings of soldiers, civilians, journalists and aid workers, and is known for its destruction of cultural heritage sites.</li>\n",
       "<li> Additionally, a distinct local dialect, Kenyan English, is used by some communities and individuals in the country, and contains features unique to it that were derived from local Bantu languages, such as Swahili and Kikuyu.</li>\n",
       "<li> This gives way to temperate and forested hilly areas in the neighboring western region.</li>\n",
       "<li> Regional variations and dishes also exist.</li>\n",
       "<li> The medieval Esteve Pharmacy, located in Llívia, a Catalan enclave close to Puigcerdà, also now a museum, dates back to the 15th century, keeping albarellos from the 16th and 17th centuries, old prescription books and antique drugs.</li>\n",
       "<li> This is a complex process that requires adequate training of personnel, quality assurance of products, and adequate facilities.</li>\n",
       "</ol>"
      ],
      "text/plain": [
       "<IPython.core.display.HTML object>"
      ]
     },
     "metadata": {},
     "output_type": "display_data"
    }
   ],
   "source": [
    "#@title Retrieve nearest neighbors for a random question from SQuAD\n",
    "num_results = 25 #@param {type:\"slider\", min:5, max:40, step:1}\n",
    "\n",
    "query = random.choice(questions)\n",
    "display_nearest_neighbors(query[0], query[1])"
   ]
  }
 ],
 "metadata": {
  "accelerator": "GPU",
  "colab": {
   "collapsed_sections": [
    "VFMCdVJIIraw"
   ],
   "name": "Universal Encoder Q&A Model Retrieval Demo",
   "private_outputs": true,
   "provenance": [],
   "toc_visible": true
  },
  "kernelspec": {
   "display_name": "Python 3",
   "language": "python",
   "name": "python3"
  },
  "language_info": {
   "codemirror_mode": {
    "name": "ipython",
    "version": 3
   },
   "file_extension": ".py",
   "mimetype": "text/x-python",
   "name": "python",
   "nbconvert_exporter": "python",
   "pygments_lexer": "ipython3",
   "version": "3.7.9"
  },
  "widgets": {
   "application/vnd.jupyter.widget-state+json": {
    "state": {
     "38fb66c297c4473a885c48ba70e74ccd": {
      "model_module": "@jupyter-widgets/controls",
      "model_module_version": "1.5.0",
      "model_name": "FloatProgressModel",
      "state": {
       "_dom_classes": [],
       "_model_module": "@jupyter-widgets/controls",
       "_model_module_version": "1.5.0",
       "_model_name": "FloatProgressModel",
       "_view_count": null,
       "_view_module": "@jupyter-widgets/controls",
       "_view_module_version": "1.5.0",
       "_view_name": "ProgressView",
       "bar_style": "success",
       "description": "",
       "description_tooltip": null,
       "layout": "IPY_MODEL_6d3a05deb0d14ed3b87af19c339a0b46",
       "max": 104,
       "min": 0,
       "orientation": "horizontal",
       "style": "IPY_MODEL_4a86747e10364f07aa66a0727d953578",
       "value": 104
      }
     },
     "4a86747e10364f07aa66a0727d953578": {
      "model_module": "@jupyter-widgets/controls",
      "model_module_version": "1.5.0",
      "model_name": "ProgressStyleModel",
      "state": {
       "_model_module": "@jupyter-widgets/controls",
       "_model_module_version": "1.5.0",
       "_model_name": "ProgressStyleModel",
       "_view_count": null,
       "_view_module": "@jupyter-widgets/base",
       "_view_module_version": "1.2.0",
       "_view_name": "StyleView",
       "bar_color": null,
       "description_width": ""
      }
     },
     "6089dd1cfa2e4653a53db16782c1819d": {
      "model_module": "@jupyter-widgets/base",
      "model_module_version": "1.2.0",
      "model_name": "LayoutModel",
      "state": {
       "_model_module": "@jupyter-widgets/base",
       "_model_module_version": "1.2.0",
       "_model_name": "LayoutModel",
       "_view_count": null,
       "_view_module": "@jupyter-widgets/base",
       "_view_module_version": "1.2.0",
       "_view_name": "LayoutView",
       "align_content": null,
       "align_items": null,
       "align_self": null,
       "border": null,
       "bottom": null,
       "display": null,
       "flex": null,
       "flex_flow": null,
       "grid_area": null,
       "grid_auto_columns": null,
       "grid_auto_flow": null,
       "grid_auto_rows": null,
       "grid_column": null,
       "grid_gap": null,
       "grid_row": null,
       "grid_template_areas": null,
       "grid_template_columns": null,
       "grid_template_rows": null,
       "height": null,
       "justify_content": null,
       "justify_items": null,
       "left": null,
       "margin": null,
       "max_height": null,
       "max_width": null,
       "min_height": null,
       "min_width": null,
       "object_fit": null,
       "object_position": null,
       "order": null,
       "overflow": null,
       "overflow_x": null,
       "overflow_y": null,
       "padding": null,
       "right": null,
       "top": null,
       "visibility": null,
       "width": null
      }
     },
     "6d3a05deb0d14ed3b87af19c339a0b46": {
      "model_module": "@jupyter-widgets/base",
      "model_module_version": "1.2.0",
      "model_name": "LayoutModel",
      "state": {
       "_model_module": "@jupyter-widgets/base",
       "_model_module_version": "1.2.0",
       "_model_name": "LayoutModel",
       "_view_count": null,
       "_view_module": "@jupyter-widgets/base",
       "_view_module_version": "1.2.0",
       "_view_name": "LayoutView",
       "align_content": null,
       "align_items": null,
       "align_self": null,
       "border": null,
       "bottom": null,
       "display": null,
       "flex": null,
       "flex_flow": null,
       "grid_area": null,
       "grid_auto_columns": null,
       "grid_auto_flow": null,
       "grid_auto_rows": null,
       "grid_column": null,
       "grid_gap": null,
       "grid_row": null,
       "grid_template_areas": null,
       "grid_template_columns": null,
       "grid_template_rows": null,
       "height": null,
       "justify_content": null,
       "justify_items": null,
       "left": null,
       "margin": null,
       "max_height": null,
       "max_width": null,
       "min_height": null,
       "min_width": null,
       "object_fit": null,
       "object_position": null,
       "order": null,
       "overflow": null,
       "overflow_x": null,
       "overflow_y": null,
       "padding": null,
       "right": null,
       "top": null,
       "visibility": null,
       "width": null
      }
     },
     "8f96686c48a949bd9cbaa50378f174f5": {
      "model_module": "@jupyter-widgets/controls",
      "model_module_version": "1.5.0",
      "model_name": "DescriptionStyleModel",
      "state": {
       "_model_module": "@jupyter-widgets/controls",
       "_model_module_version": "1.5.0",
       "_model_name": "DescriptionStyleModel",
       "_view_count": null,
       "_view_module": "@jupyter-widgets/base",
       "_view_module_version": "1.2.0",
       "_view_name": "StyleView",
       "description_width": ""
      }
     },
     "8fec5872b09b4694b9c5fb2c9ccd5b41": {
      "model_module": "@jupyter-widgets/controls",
      "model_module_version": "1.5.0",
      "model_name": "HTMLModel",
      "state": {
       "_dom_classes": [],
       "_model_module": "@jupyter-widgets/controls",
       "_model_module_version": "1.5.0",
       "_model_name": "HTMLModel",
       "_view_count": null,
       "_view_module": "@jupyter-widgets/controls",
       "_view_module_version": "1.5.0",
       "_view_name": "HTMLView",
       "description": "",
       "description_tooltip": null,
       "layout": "IPY_MODEL_f5b2a79b6ab94ff59572a5c56a97bc64",
       "placeholder": "​",
       "style": "IPY_MODEL_8f96686c48a949bd9cbaa50378f174f5",
       "value": "100%"
      }
     },
     "b2bcc258dc8a48acb03206ad7d22d529": {
      "model_module": "@jupyter-widgets/controls",
      "model_module_version": "1.5.0",
      "model_name": "DescriptionStyleModel",
      "state": {
       "_model_module": "@jupyter-widgets/controls",
       "_model_module_version": "1.5.0",
       "_model_name": "DescriptionStyleModel",
       "_view_count": null,
       "_view_module": "@jupyter-widgets/base",
       "_view_module_version": "1.2.0",
       "_view_name": "StyleView",
       "description_width": ""
      }
     },
     "bbac78464fab438ba5d32345e160a099": {
      "model_module": "@jupyter-widgets/controls",
      "model_module_version": "1.5.0",
      "model_name": "HBoxModel",
      "state": {
       "_dom_classes": [],
       "_model_module": "@jupyter-widgets/controls",
       "_model_module_version": "1.5.0",
       "_model_name": "HBoxModel",
       "_view_count": null,
       "_view_module": "@jupyter-widgets/controls",
       "_view_module_version": "1.5.0",
       "_view_name": "HBoxView",
       "box_style": "",
       "children": [
        "IPY_MODEL_8fec5872b09b4694b9c5fb2c9ccd5b41",
        "IPY_MODEL_38fb66c297c4473a885c48ba70e74ccd",
        "IPY_MODEL_c3d2cd9674e64b2786bcd25d4f6a8f9b"
       ],
       "layout": "IPY_MODEL_6089dd1cfa2e4653a53db16782c1819d"
      }
     },
     "c3d2cd9674e64b2786bcd25d4f6a8f9b": {
      "model_module": "@jupyter-widgets/controls",
      "model_module_version": "1.5.0",
      "model_name": "HTMLModel",
      "state": {
       "_dom_classes": [],
       "_model_module": "@jupyter-widgets/controls",
       "_model_module_version": "1.5.0",
       "_model_name": "HTMLModel",
       "_view_count": null,
       "_view_module": "@jupyter-widgets/controls",
       "_view_module_version": "1.5.0",
       "_view_name": "HTMLView",
       "description": "",
       "description_tooltip": null,
       "layout": "IPY_MODEL_ec63bd44d040459babc857e27115aa53",
       "placeholder": "​",
       "style": "IPY_MODEL_b2bcc258dc8a48acb03206ad7d22d529",
       "value": " 104/104 [22:42&lt;00:00, 13.10s/it]"
      }
     },
     "ec63bd44d040459babc857e27115aa53": {
      "model_module": "@jupyter-widgets/base",
      "model_module_version": "1.2.0",
      "model_name": "LayoutModel",
      "state": {
       "_model_module": "@jupyter-widgets/base",
       "_model_module_version": "1.2.0",
       "_model_name": "LayoutModel",
       "_view_count": null,
       "_view_module": "@jupyter-widgets/base",
       "_view_module_version": "1.2.0",
       "_view_name": "LayoutView",
       "align_content": null,
       "align_items": null,
       "align_self": null,
       "border": null,
       "bottom": null,
       "display": null,
       "flex": null,
       "flex_flow": null,
       "grid_area": null,
       "grid_auto_columns": null,
       "grid_auto_flow": null,
       "grid_auto_rows": null,
       "grid_column": null,
       "grid_gap": null,
       "grid_row": null,
       "grid_template_areas": null,
       "grid_template_columns": null,
       "grid_template_rows": null,
       "height": null,
       "justify_content": null,
       "justify_items": null,
       "left": null,
       "margin": null,
       "max_height": null,
       "max_width": null,
       "min_height": null,
       "min_width": null,
       "object_fit": null,
       "object_position": null,
       "order": null,
       "overflow": null,
       "overflow_x": null,
       "overflow_y": null,
       "padding": null,
       "right": null,
       "top": null,
       "visibility": null,
       "width": null
      }
     },
     "f5b2a79b6ab94ff59572a5c56a97bc64": {
      "model_module": "@jupyter-widgets/base",
      "model_module_version": "1.2.0",
      "model_name": "LayoutModel",
      "state": {
       "_model_module": "@jupyter-widgets/base",
       "_model_module_version": "1.2.0",
       "_model_name": "LayoutModel",
       "_view_count": null,
       "_view_module": "@jupyter-widgets/base",
       "_view_module_version": "1.2.0",
       "_view_name": "LayoutView",
       "align_content": null,
       "align_items": null,
       "align_self": null,
       "border": null,
       "bottom": null,
       "display": null,
       "flex": null,
       "flex_flow": null,
       "grid_area": null,
       "grid_auto_columns": null,
       "grid_auto_flow": null,
       "grid_auto_rows": null,
       "grid_column": null,
       "grid_gap": null,
       "grid_row": null,
       "grid_template_areas": null,
       "grid_template_columns": null,
       "grid_template_rows": null,
       "height": null,
       "justify_content": null,
       "justify_items": null,
       "left": null,
       "margin": null,
       "max_height": null,
       "max_width": null,
       "min_height": null,
       "min_width": null,
       "object_fit": null,
       "object_position": null,
       "order": null,
       "overflow": null,
       "overflow_x": null,
       "overflow_y": null,
       "padding": null,
       "right": null,
       "top": null,
       "visibility": null,
       "width": null
      }
     }
    },
    "version_major": 2,
    "version_minor": 0
   }
  }
 },
 "nbformat": 4,
 "nbformat_minor": 1
}
