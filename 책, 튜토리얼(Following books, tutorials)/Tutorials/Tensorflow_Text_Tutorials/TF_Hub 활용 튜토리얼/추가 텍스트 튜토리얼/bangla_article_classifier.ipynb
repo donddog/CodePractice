{
 "cells": [
  {
   "cell_type": "markdown",
   "metadata": {
    "colab_type": "text",
    "id": "IDdZSPcLtKx4"
   },
   "source": [
    "##### Copyright 2019 The TensorFlow Hub Authors.\n",
    "\n",
    "Licensed under the Apache License, Version 2.0 (the \"License\");"
   ]
  },
  {
   "cell_type": "code",
   "execution_count": 1,
   "metadata": {
    "colab": {},
    "colab_type": "code",
    "execution": {
     "iopub.execute_input": "2020-11-24T16:36:02.854705Z",
     "iopub.status.busy": "2020-11-24T16:36:02.854012Z",
     "iopub.status.idle": "2020-11-24T16:36:02.856552Z",
     "shell.execute_reply": "2020-11-24T16:36:02.855950Z"
    },
    "id": "-g5By3P4tavy"
   },
   "outputs": [],
   "source": [
    "# Copyright 2019 The TensorFlow Hub Authors. All Rights Reserved.\n",
    "#\n",
    "# Licensed under the Apache License, Version 2.0 (the \"License\");\n",
    "# you may not use this file except in compliance with the License.\n",
    "# You may obtain a copy of the License at\n",
    "#\n",
    "#     http://www.apache.org/licenses/LICENSE-2.0\n",
    "#\n",
    "# Unless required by applicable law or agreed to in writing, software\n",
    "# distributed under the License is distributed on an \"AS IS\" BASIS, \n",
    "# WITHOUT WARRANTIES OR CONDITIONS OF ANY KIND, either express or implied.\n",
    "# See the License for the specific language governing permissions and\n",
    "# limitations under the License.\n",
    "# =============================================================================="
   ]
  },
  {
   "cell_type": "markdown",
   "metadata": {
    "colab_type": "text",
    "id": "vpaLrN0mteAS"
   },
   "source": [
    "# Bangla Article Classification With TF-Hub"
   ]
  },
  {
   "cell_type": "markdown",
   "metadata": {
    "colab_type": "text",
    "id": "MfBg1C5NB3X0"
   },
   "source": [
    "<table class=\"tfo-notebook-buttons\" align=\"left\">\n",
    "  <td>\n",
    "    <a target=\"_blank\" href=\"https://www.tensorflow.org/hub/tutorials/bangla_article_classifier\"><img src=\"https://www.tensorflow.org/images/tf_logo_32px.png\" />View on TensorFlow.org</a>\n",
    "  </td>\n",
    "  <td>\n",
    "    <a target=\"_blank\" href=\"https://colab.research.google.com/github/tensorflow/hub/blob/master/examples/colab/bangla_article_classifier.ipynb\"><img src=\"https://www.tensorflow.org/images/colab_logo_32px.png\" />Run in Google Colab</a>\n",
    "  </td>\n",
    "  <td>\n",
    "    <a target=\"_blank\" href=\"https://github.com/tensorflow/hub/blob/master/examples/colab/bangla_article_classifier.ipynb\"><img src=\"https://www.tensorflow.org/images/GitHub-Mark-32px.png\" />View on GitHub</a>\n",
    "  </td>\n",
    "  <td>\n",
    "    <a href=\"https://storage.googleapis.com/tensorflow_docs/hub/examples/colab/bangla_article_classifier.ipynb\"><img src=\"https://www.tensorflow.org/images/download_logo_32px.png\" />Download notebook</a>\n",
    "  </td>\n",
    "</table>"
   ]
  },
  {
   "cell_type": "markdown",
   "metadata": {
    "colab_type": "text",
    "id": "GhN2WtIrBQ4y"
   },
   "source": [
    "Caution: In addition to installing python packages with pip, this notebook uses\n",
    "`sudo apt install` to install system packages: `unzip`.\n",
    "\n",
    "This colab is a demonstration of using [Tensorflow Hub](https://www.tensorflow.org/hub/) for text classification in non-English/local languages. Here we choose [Bangla](https://en.wikipedia.org/wiki/Bengali_language) as the local language and use pretrained word embeddings to solve a multiclass classification task where we classify Bangla news articles in 5 categories.  The pretrained embeddings for Bangla comes from [fastText](https://fasttext.cc/docs/en/crawl-vectors.html) which is a library by Facebook with released pretrained word vectors for 157 languages. \n",
    "\n",
    "We'll use TF-Hub's pretrained embedding exporter for converting the word embeddings to a text embedding module first and then use the module to train a classifier with [tf.keras](https://www.tensorflow.org/api_docs/python/tf/keras), Tensorflow's high level user friendly API to build deep learning models.  Even if we are using fastText embeddings here, it's possible to export any other embeddings pretrained from other tasks and quickly get results with Tensorflow hub. "
   ]
  },
  {
   "cell_type": "markdown",
   "metadata": {
    "colab_type": "text",
    "id": "Q4DN769E2O_R"
   },
   "source": [
    "## Setup"
   ]
  },
  {
   "cell_type": "code",
   "execution_count": 2,
   "metadata": {
    "colab": {},
    "colab_type": "code",
    "execution": {
     "iopub.execute_input": "2020-11-24T16:36:02.861242Z",
     "iopub.status.busy": "2020-11-24T16:36:02.860501Z",
     "iopub.status.idle": "2020-11-24T16:36:05.124496Z",
     "shell.execute_reply": "2020-11-24T16:36:05.123956Z"
    },
    "id": "9Vt-StAAZguA"
   },
   "outputs": [],
   "source": [
    "%%bash\n",
    "# https://github.com/pypa/setuptools/issues/1694#issuecomment-466010982\n",
    "pip install -q gdown --no-use-pep517"
   ]
  },
  {
   "cell_type": "code",
   "execution_count": 3,
   "metadata": {
    "colab": {},
    "colab_type": "code",
    "execution": {
     "iopub.execute_input": "2020-11-24T16:36:05.130429Z",
     "iopub.status.busy": "2020-11-24T16:36:05.128520Z",
     "iopub.status.idle": "2020-11-24T16:36:05.583395Z",
     "shell.execute_reply": "2020-11-24T16:36:05.583870Z"
    },
    "id": "WcBA19FlDPZO"
   },
   "outputs": [
    {
     "name": "stdout",
     "output_type": "stream",
     "text": [
      "Reading package lists...\n",
      "Building dependency tree...\n",
      "Reading state information...\n",
      "unzip is already the newest version (6.0-21ubuntu1).\n",
      "The following packages were automatically installed and are no longer required:\n",
      "  dconf-gsettings-backend dconf-service dkms freeglut3 freeglut3-dev\n",
      "  glib-networking glib-networking-common glib-networking-services\n",
      "  gsettings-desktop-schemas libcairo-gobject2 libcolord2 libdconf1\n",
      "  libegl1-mesa libepoxy0 libglu1-mesa libglu1-mesa-dev libgtk-3-0\n",
      "  libgtk-3-common libice-dev libjansson4 libjson-glib-1.0-0\n",
      "  libjson-glib-1.0-common libproxy1v5 librest-0.7-0 libsm-dev\n",
      "  libsoup-gnome2.4-1 libsoup2.4-1 libwayland-cursor0 libwayland-egl1 libxfont2\n",
      "  libxi-dev libxkbcommon0 libxkbfile1 libxmu-dev libxmu-headers libxnvctrl0\n",
      "  libxt-dev linux-gcp-headers-5.0.0-1026 linux-headers-5.0.0-1026-gcp\n",
      "  linux-image-5.0.0-1026-gcp linux-modules-5.0.0-1026-gcp pkg-config\n",
      "  policykit-1-gnome python3-xkit screen-resolution-extra x11-xkb-utils\n",
      "  xserver-common xserver-xorg-core-hwe-18.04\n",
      "Use 'sudo apt autoremove' to remove them.\n",
      "0 upgraded, 0 newly installed, 0 to remove and 102 not upgraded.\n"
     ]
    }
   ],
   "source": [
    "%%bash\n",
    "sudo apt-get install -y unzip"
   ]
  },
  {
   "cell_type": "code",
   "execution_count": 4,
   "metadata": {
    "colab": {},
    "colab_type": "code",
    "execution": {
     "iopub.execute_input": "2020-11-24T16:36:05.588860Z",
     "iopub.status.busy": "2020-11-24T16:36:05.588242Z",
     "iopub.status.idle": "2020-11-24T16:36:11.878674Z",
     "shell.execute_reply": "2020-11-24T16:36:11.878077Z"
    },
    "id": "zSeyZMq-BYsu"
   },
   "outputs": [],
   "source": [
    "import os\n",
    "\n",
    "import tensorflow as tf\n",
    "import tensorflow_hub as hub\n",
    "\n",
    "import gdown\n",
    "import numpy as np\n",
    "from sklearn.metrics import classification_report\n",
    "import matplotlib.pyplot as plt\n",
    "import seaborn as sns"
   ]
  },
  {
   "cell_type": "markdown",
   "metadata": {
    "colab_type": "text",
    "id": "9FB7gLU4F54l"
   },
   "source": [
    "# Dataset\n",
    "\n",
    "We will use [BARD](https://www.researchgate.net/publication/328214545_BARD_Bangla_Article_Classification_Using_a_New_Comprehensive_Dataset) (Bangla Article Dataset) which has around 3,76,226 articles collected from different Bangla news portals and labelled with 5 categories : economy, state, international, sports and entertainment. We download the file from Google Drive this ([bit.ly/BARD_DATASET](bit.ly/BARD_DATASET)) link is referring to from [this](https://github.com/tanvirfahim15/BARD-Bangla-Article-Classifier) GitHub repository.\n"
   ]
  },
  {
   "cell_type": "code",
   "execution_count": 5,
   "metadata": {
    "colab": {},
    "colab_type": "code",
    "execution": {
     "iopub.execute_input": "2020-11-24T16:36:11.885684Z",
     "iopub.status.busy": "2020-11-24T16:36:11.883064Z",
     "iopub.status.idle": "2020-11-24T16:36:24.213965Z",
     "shell.execute_reply": "2020-11-24T16:36:24.214404Z"
    },
    "id": "zdQrL_rwa-1K"
   },
   "outputs": [
    {
     "data": {
      "text/plain": [
       "'bard.zip'"
      ]
     },
     "execution_count": 1,
     "metadata": {},
     "output_type": "execute_result"
    }
   ],
   "source": [
    "gdown.download(\n",
    "    url='https://drive.google.com/uc?id=1Ag0jd21oRwJhVFIBohmX_ogeojVtapLy',\n",
    "    output='bard.zip',\n",
    "    quiet=True\n",
    ")"
   ]
  },
  {
   "cell_type": "code",
   "execution_count": 6,
   "metadata": {
    "colab": {},
    "colab_type": "code",
    "execution": {
     "iopub.execute_input": "2020-11-24T16:36:24.218695Z",
     "iopub.status.busy": "2020-11-24T16:36:24.218083Z",
     "iopub.status.idle": "2020-11-24T16:36:49.493709Z",
     "shell.execute_reply": "2020-11-24T16:36:49.493056Z"
    },
    "id": "P2YW4GGa9Y5o"
   },
   "outputs": [],
   "source": [
    "%%bash\n",
    "unzip -qo bard.zip"
   ]
  },
  {
   "cell_type": "markdown",
   "metadata": {
    "colab_type": "text",
    "id": "js75OARBF_B8"
   },
   "source": [
    "# Export pretrained word vectors to TF-Hub module"
   ]
  },
  {
   "cell_type": "markdown",
   "metadata": {
    "colab_type": "text",
    "id": "-uAicYA6vLsf"
   },
   "source": [
    "TF-Hub provides some handy scripts for converting word embeddings to TF-hub text embedding modules [here](https://github.com/tensorflow/hub/tree/master/examples/text_embeddings_v2). To make the module for Bangla or any other languages we simply have to download the word embedding .txt or .vec file to the same directory as export_v2.py and run the script.\n",
    "\n",
    "\n",
    "The exporter reads the embedding vectors and exports it to a Tensorflow [SavedModel](https://www.tensorflow.org/beta/guide/saved_model). A SavedModel contains a complete TensorFlow program including weights and graph. TF-Hub can load the SavedModel as a [module](https://www.tensorflow.org/hub/api_docs/python/hub/Module) which we will use to build the model for text classification. Since we are using tf.keras to build the model we will use [hub.KerasLayer](https://www.tensorflow.org/hub/api_docs/python/hub/KerasLayer) which provides a wrapper for a hub module to use as a Keras Layer.\n",
    "\n",
    "First we will get our word embeddings from fastText and embedding exporter from TF-Hub [repo](https://github.com/tensorflow/hub).\n"
   ]
  },
  {
   "cell_type": "code",
   "execution_count": 7,
   "metadata": {
    "colab": {},
    "colab_type": "code",
    "execution": {
     "iopub.execute_input": "2020-11-24T16:36:49.505379Z",
     "iopub.status.busy": "2020-11-24T16:36:49.504571Z",
     "iopub.status.idle": "2020-11-24T16:38:16.138837Z",
     "shell.execute_reply": "2020-11-24T16:38:16.139319Z"
    },
    "id": "5DY5Ze6pO1G5"
   },
   "outputs": [
    {
     "name": "stderr",
     "output_type": "stream",
     "text": [
      "  % Total    % Received % Xferd  Average Speed   Time    Time     Time  Current\n",
      "                                 Dload  Upload   Total   Spent    Left  Speed\n",
      "\r",
      "  0     0    0     0    0     0      0      0 --:--:-- --:--:-- --:--:--     0\r",
      "  0  840M    0 34350    0     0  29209      0  8:22:51  0:00:01  8:22:50 29209\r",
      "  0  840M    0  759k    0     0   432k      0  0:33:09  0:00:01  0:33:08  432k\r",
      "  1  840M    1 10.4M    0     0  3860k      0  0:03:42  0:00:02  0:03:40 3858k\r",
      "  2  840M    2 23.7M    0     0  6425k      0  0:02:13  0:00:03  0:02:10 6423k\r",
      "  4  840M    4 37.0M    0     0  7911k      0  0:01:48  0:00:04  0:01:44 7909k\r",
      "  6  840M    6 50.9M    0     0  8964k      0  0:01:36  0:00:05  0:01:31 10.9M\r",
      "  7  840M    7 64.1M    0     0  9764k      0  0:01:28  0:00:06  0:01:22 12.7M\r",
      "  9  840M    9 76.8M    0     0   9.9M      0  0:01:24  0:00:07  0:01:17 13.3M\r",
      " 10  840M   10 89.8M    0     0  10.2M      0  0:01:21  0:00:08  0:01:13 13.3M\r",
      " 12  840M   12  103M    0     0  10.6M      0  0:01:19  0:00:09  0:01:10 13.4M\r",
      " 13  840M   13  117M    0     0  10.9M      0  0:01:16  0:00:10  0:01:06 13.4M\r",
      " 15  840M   15  131M    0     0  11.1M      0  0:01:15  0:00:11  0:01:04 13.3M\r",
      " 17  840M   17  144M    0     0  11.3M      0  0:01:14  0:00:12  0:01:02 13.5M\r",
      " 18  840M   18  158M    0     0  11.5M      0  0:01:12  0:00:13  0:00:59 13.6M\r",
      " 20  840M   20  171M    0     0  11.6M      0  0:01:12  0:00:14  0:00:58 13.6M\r",
      " 22  840M   22  185M    0     0  11.7M      0  0:01:11  0:00:15  0:00:56 13.5M\r",
      " 23  840M   23  198M    0     0  11.8M      0  0:01:10  0:00:16  0:00:54 13.4M\r",
      " 25  840M   25  211M    0     0  11.8M      0  0:01:10  0:00:17  0:00:53 13.2M\r",
      " 26  840M   26  225M    0     0  12.0M      0  0:01:09  0:00:18  0:00:51 13.4M\r",
      " 28  840M   28  239M    0     0  12.1M      0  0:01:09  0:00:19  0:00:50 13.5M\r",
      " 30  840M   30  252M    0     0  12.1M      0  0:01:08  0:00:20  0:00:48 13.5M\r",
      " 31  840M   31  266M    0     0  12.2M      0  0:01:08  0:00:21  0:00:47 13.6M\r",
      " 33  840M   33  280M    0     0  12.3M      0  0:01:08  0:00:22  0:00:46 13.9M\r",
      " 35  840M   35  294M    0     0  12.3M      0  0:01:07  0:00:23  0:00:44 13.7M\r",
      " 36  840M   36  308M    0     0  12.4M      0  0:01:07  0:00:24  0:00:43 13.8M\r",
      " 38  840M   38  321M    0     0  12.5M      0  0:01:07  0:00:25  0:00:42 13.8M\r",
      " 39  840M   39  335M    0     0  12.5M      0  0:01:06  0:00:26  0:00:40 13.7M\r",
      " 41  840M   41  349M    0     0  12.5M      0  0:01:06  0:00:27  0:00:39 13.7M\r",
      " 43  840M   43  362M    0     0  12.6M      0  0:01:06  0:00:28  0:00:38 13.7M\r",
      " 44  840M   44  376M    0     0  12.6M      0  0:01:06  0:00:29  0:00:37 13.6M\r",
      " 46  840M   46  390M    0     0  12.6M      0  0:01:06  0:00:30  0:00:36 13.6M\r",
      " 48  840M   48  404M    0     0  12.7M      0  0:01:05  0:00:31  0:00:34 13.7M\r",
      " 49  840M   49  417M    0     0  12.7M      0  0:01:05  0:00:32  0:00:33 13.7M\r",
      " 51  840M   51  431M    0     0  12.7M      0  0:01:05  0:00:33  0:00:32 13.7M\r",
      " 52  840M   52  445M    0     0  12.8M      0  0:01:05  0:00:34  0:00:31 13.6M\r",
      " 54  840M   54  458M    0     0  12.8M      0  0:01:05  0:00:35  0:00:30 13.6M\r",
      " 56  840M   56  472M    0     0  12.8M      0  0:01:05  0:00:36  0:00:29 13.6M\r",
      " 57  840M   57  486M    0     0  12.8M      0  0:01:05  0:00:37  0:00:28 13.6M\r",
      " 59  840M   59  499M    0     0  12.9M      0  0:01:05  0:00:38  0:00:27 13.7M\r",
      " 61  840M   61  513M    0     0  12.9M      0  0:01:04  0:00:39  0:00:25 13.7M\r",
      " 62  840M   62  527M    0     0  12.9M      0  0:01:04  0:00:40  0:00:24 13.8M\r",
      " 64  840M   64  541M    0     0  12.9M      0  0:01:04  0:00:41  0:00:23 13.8M\r",
      " 66  840M   66  555M    0     0  12.9M      0  0:01:04  0:00:42  0:00:22 13.8M\r",
      " 67  840M   67  569M    0     0  13.0M      0  0:01:04  0:00:43  0:00:21 13.8M\r",
      " 69  840M   69  582M    0     0  13.0M      0  0:01:04  0:00:44  0:00:20 13.8M\r",
      " 70  840M   70  596M    0     0  13.0M      0  0:01:04  0:00:45  0:00:19 13.7M\r",
      " 72  840M   72  610M    0     0  13.0M      0  0:01:04  0:00:46  0:00:18 13.7M\r",
      " 74  840M   74  623M    0     0  13.0M      0  0:01:04  0:00:47  0:00:17 13.7M\r",
      " 75  840M   75  637M    0     0  13.0M      0  0:01:04  0:00:48  0:00:16 13.7M\r",
      " 77  840M   77  651M    0     0  13.1M      0  0:01:04  0:00:49  0:00:15 13.7M\r",
      " 79  840M   79  665M    0     0  13.1M      0  0:01:04  0:00:50  0:00:14 13.7M\r",
      " 80  840M   80  679M    0     0  13.1M      0  0:01:03  0:00:51  0:00:12 13.8M\r",
      " 82  840M   82  693M    0     0  13.1M      0  0:01:03  0:00:52  0:00:11 13.8M\r",
      " 84  840M   84  707M    0     0  13.1M      0  0:01:03  0:00:53  0:00:10 13.8M\r",
      " 85  840M   85  721M    0     0  13.1M      0  0:01:03  0:00:54  0:00:09 13.8M\r",
      " 87  840M   87  735M    0     0  13.1M      0  0:01:03  0:00:55  0:00:08 13.9M\r",
      " 89  840M   89  748M    0     0  13.1M      0  0:01:03  0:00:56  0:00:07 13.8M\r",
      " 90  840M   90  762M    0     0  13.2M      0  0:01:03  0:00:57  0:00:06 13.8M\r",
      " 92  840M   92  776M    0     0  13.2M      0  0:01:03  0:00:58  0:00:05 13.8M\r",
      " 94  840M   94  790M    0     0  13.2M      0  0:01:03  0:00:59  0:00:04 13.7M\r",
      " 95  840M   95  803M    0     0  13.2M      0  0:01:03  0:01:00  0:00:03 13.7M\r",
      " 97  840M   97  817M    0     0  13.2M      0  0:01:03  0:01:01  0:00:02 13.7M\r",
      " 98  840M   98  831M    0     0  13.2M      0  0:01:03  0:01:02  0:00:01 13.7M\r",
      "100  840M  100  840M    0     0  13.2M      0  0:01:03  0:01:03 --:--:-- 13.8M\n",
      "  % Total    % Received % Xferd  Average Speed   Time    Time     Time  Current\n",
      "                                 Dload  Upload   Total   Spent    Left  Speed\n",
      "\r",
      "  0     0    0     0    0     0      0      0 --:--:-- --:--:-- --:--:--     0\r",
      "  0  7493    0     0    0     0      0      0 --:--:-- --:--:-- --:--:--     0\r",
      "100  7493  100  7493    0     0  16396      0 --:--:-- --:--:-- --:--:-- 16360\n"
     ]
    }
   ],
   "source": [
    "%%bash\n",
    "curl -O https://dl.fbaipublicfiles.com/fasttext/vectors-crawl/cc.bn.300.vec.gz\n",
    "curl -O https://raw.githubusercontent.com/tensorflow/hub/master/examples/text_embeddings_v2/export_v2.py\n",
    "gunzip -qf cc.bn.300.vec.gz --k"
   ]
  },
  {
   "cell_type": "markdown",
   "metadata": {
    "colab_type": "text",
    "id": "PAzdNZaHmdl1"
   },
   "source": [
    "Then we will run the exporter script on our embedding file. Since fastText embeddings has a header line and are pretty large(around 3.3 GB for bangla after converting to a module) we ignore the first line and export only the first 100, 000 tokens to the text embedding module."
   ]
  },
  {
   "cell_type": "code",
   "execution_count": 8,
   "metadata": {
    "colab": {},
    "colab_type": "code",
    "execution": {
     "iopub.execute_input": "2020-11-24T16:38:16.149557Z",
     "iopub.status.busy": "2020-11-24T16:38:16.144250Z",
     "iopub.status.idle": "2020-11-24T16:38:34.803601Z",
     "shell.execute_reply": "2020-11-24T16:38:34.803065Z"
    },
    "id": "Tkv5acr_Q9UU"
   },
   "outputs": [
    {
     "name": "stderr",
     "output_type": "stream",
     "text": [
      "2020-11-24 16:38:16.506111: I tensorflow/stream_executor/platform/default/dso_loader.cc:48] Successfully opened dynamic library libcudart.so.10.1\n",
      "2020-11-24 16:38:30.883816: I tensorflow/stream_executor/platform/default/dso_loader.cc:48] Successfully opened dynamic library libcuda.so.1\n",
      "2020-11-24 16:38:31.588580: I tensorflow/stream_executor/cuda/cuda_gpu_executor.cc:982] successful NUMA node read from SysFS had negative value (-1), but there must be at least one NUMA node, so returning NUMA node zero\n",
      "2020-11-24 16:38:31.589356: I tensorflow/core/common_runtime/gpu/gpu_device.cc:1716] Found device 0 with properties: \n",
      "pciBusID: 0000:00:05.0 name: Tesla V100-SXM2-16GB computeCapability: 7.0\n",
      "coreClock: 1.53GHz coreCount: 80 deviceMemorySize: 15.78GiB deviceMemoryBandwidth: 836.37GiB/s\n",
      "2020-11-24 16:38:31.589426: I tensorflow/stream_executor/platform/default/dso_loader.cc:48] Successfully opened dynamic library libcudart.so.10.1\n",
      "2020-11-24 16:38:31.591384: I tensorflow/stream_executor/platform/default/dso_loader.cc:48] Successfully opened dynamic library libcublas.so.10\n",
      "2020-11-24 16:38:31.593231: I tensorflow/stream_executor/platform/default/dso_loader.cc:48] Successfully opened dynamic library libcufft.so.10\n",
      "2020-11-24 16:38:31.593622: I tensorflow/stream_executor/platform/default/dso_loader.cc:48] Successfully opened dynamic library libcurand.so.10\n",
      "2020-11-24 16:38:31.595468: I tensorflow/stream_executor/platform/default/dso_loader.cc:48] Successfully opened dynamic library libcusolver.so.10\n",
      "2020-11-24 16:38:31.596320: I tensorflow/stream_executor/platform/default/dso_loader.cc:48] Successfully opened dynamic library libcusparse.so.10\n",
      "2020-11-24 16:38:31.599992: I tensorflow/stream_executor/platform/default/dso_loader.cc:48] Successfully opened dynamic library libcudnn.so.7\n",
      "2020-11-24 16:38:31.600141: I tensorflow/stream_executor/cuda/cuda_gpu_executor.cc:982] successful NUMA node read from SysFS had negative value (-1), but there must be at least one NUMA node, so returning NUMA node zero\n",
      "2020-11-24 16:38:31.600868: I tensorflow/stream_executor/cuda/cuda_gpu_executor.cc:982] successful NUMA node read from SysFS had negative value (-1), but there must be at least one NUMA node, so returning NUMA node zero\n",
      "2020-11-24 16:38:31.601510: I tensorflow/core/common_runtime/gpu/gpu_device.cc:1858] Adding visible gpu devices: 0\n",
      "2020-11-24 16:38:31.601959: I tensorflow/core/platform/cpu_feature_guard.cc:142] This TensorFlow binary is optimized with oneAPI Deep Neural Network Library (oneDNN)to use the following CPU instructions in performance-critical operations:  AVX2 AVX512F FMA\n",
      "To enable them in other operations, rebuild TensorFlow with the appropriate compiler flags.\n",
      "2020-11-24 16:38:31.608245: I tensorflow/core/platform/profile_utils/cpu_utils.cc:104] CPU Frequency: 2000185000 Hz\n",
      "2020-11-24 16:38:31.608621: I tensorflow/compiler/xla/service/service.cc:168] XLA service 0x5fa99c0 initialized for platform Host (this does not guarantee that XLA will be used). Devices:\n",
      "2020-11-24 16:38:31.608653: I tensorflow/compiler/xla/service/service.cc:176]   StreamExecutor device (0): Host, Default Version\n",
      "2020-11-24 16:38:31.698228: I tensorflow/stream_executor/cuda/cuda_gpu_executor.cc:982] successful NUMA node read from SysFS had negative value (-1), but there must be at least one NUMA node, so returning NUMA node zero\n",
      "2020-11-24 16:38:31.699202: I tensorflow/compiler/xla/service/service.cc:168] XLA service 0x5d3bde0 initialized for platform CUDA (this does not guarantee that XLA will be used). Devices:\n",
      "2020-11-24 16:38:31.699263: I tensorflow/compiler/xla/service/service.cc:176]   StreamExecutor device (0): Tesla V100-SXM2-16GB, Compute Capability 7.0\n",
      "2020-11-24 16:38:31.699512: I tensorflow/stream_executor/cuda/cuda_gpu_executor.cc:982] successful NUMA node read from SysFS had negative value (-1), but there must be at least one NUMA node, so returning NUMA node zero\n",
      "2020-11-24 16:38:31.700189: I tensorflow/core/common_runtime/gpu/gpu_device.cc:1716] Found device 0 with properties: \n",
      "pciBusID: 0000:00:05.0 name: Tesla V100-SXM2-16GB computeCapability: 7.0\n",
      "coreClock: 1.53GHz coreCount: 80 deviceMemorySize: 15.78GiB deviceMemoryBandwidth: 836.37GiB/s\n",
      "2020-11-24 16:38:31.700229: I tensorflow/stream_executor/platform/default/dso_loader.cc:48] Successfully opened dynamic library libcudart.so.10.1\n",
      "2020-11-24 16:38:31.700284: I tensorflow/stream_executor/platform/default/dso_loader.cc:48] Successfully opened dynamic library libcublas.so.10\n",
      "2020-11-24 16:38:31.700300: I tensorflow/stream_executor/platform/default/dso_loader.cc:48] Successfully opened dynamic library libcufft.so.10\n",
      "2020-11-24 16:38:31.700312: I tensorflow/stream_executor/platform/default/dso_loader.cc:48] Successfully opened dynamic library libcurand.so.10\n",
      "2020-11-24 16:38:31.700325: I tensorflow/stream_executor/platform/default/dso_loader.cc:48] Successfully opened dynamic library libcusolver.so.10\n",
      "2020-11-24 16:38:31.700335: I tensorflow/stream_executor/platform/default/dso_loader.cc:48] Successfully opened dynamic library libcusparse.so.10\n",
      "2020-11-24 16:38:31.700351: I tensorflow/stream_executor/platform/default/dso_loader.cc:48] Successfully opened dynamic library libcudnn.so.7\n",
      "2020-11-24 16:38:31.700419: I tensorflow/stream_executor/cuda/cuda_gpu_executor.cc:982] successful NUMA node read from SysFS had negative value (-1), but there must be at least one NUMA node, so returning NUMA node zero\n",
      "2020-11-24 16:38:31.701102: I tensorflow/stream_executor/cuda/cuda_gpu_executor.cc:982] successful NUMA node read from SysFS had negative value (-1), but there must be at least one NUMA node, so returning NUMA node zero\n",
      "2020-11-24 16:38:31.701720: I tensorflow/core/common_runtime/gpu/gpu_device.cc:1858] Adding visible gpu devices: 0\n",
      "2020-11-24 16:38:31.701767: I tensorflow/stream_executor/platform/default/dso_loader.cc:48] Successfully opened dynamic library libcudart.so.10.1\n",
      "2020-11-24 16:38:32.132285: I tensorflow/core/common_runtime/gpu/gpu_device.cc:1257] Device interconnect StreamExecutor with strength 1 edge matrix:\n",
      "2020-11-24 16:38:32.132338: I tensorflow/core/common_runtime/gpu/gpu_device.cc:1263]      0 \n",
      "2020-11-24 16:38:32.132346: I tensorflow/core/common_runtime/gpu/gpu_device.cc:1276] 0:   N \n",
      "2020-11-24 16:38:32.132566: I tensorflow/stream_executor/cuda/cuda_gpu_executor.cc:982] successful NUMA node read from SysFS had negative value (-1), but there must be at least one NUMA node, so returning NUMA node zero\n",
      "2020-11-24 16:38:32.133335: I tensorflow/stream_executor/cuda/cuda_gpu_executor.cc:982] successful NUMA node read from SysFS had negative value (-1), but there must be at least one NUMA node, so returning NUMA node zero\n",
      "2020-11-24 16:38:32.134035: I tensorflow/core/common_runtime/gpu/gpu_device.cc:1402] Created TensorFlow device (/job:localhost/replica:0/task:0/device:GPU:0 with 14764 MB memory) -> physical GPU (device: 0, name: Tesla V100-SXM2-16GB, pci bus id: 0000:00:05.0, compute capability: 7.0)\n",
      "2020-11-24 16:38:32.351857: W tensorflow/core/framework/cpu_allocator_impl.cc:81] Allocation of 240002400 exceeds 10% of free system memory.\n",
      "2020-11-24 16:38:33.188668: W tensorflow/core/framework/cpu_allocator_impl.cc:81] Allocation of 240002400 exceeds 10% of free system memory.\n",
      "INFO:tensorflow:Assets written to: text_module/assets\n",
      "I1124 16:38:33.586180 140643110135616 builder_impl.py:775] Assets written to: text_module/assets\n"
     ]
    }
   ],
   "source": [
    "%%bash\n",
    "python export_v2.py --embedding_file=cc.bn.300.vec --export_path=text_module --num_lines_to_ignore=1 --num_lines_to_use=100000"
   ]
  },
  {
   "cell_type": "code",
   "execution_count": 9,
   "metadata": {
    "colab": {},
    "colab_type": "code",
    "execution": {
     "iopub.execute_input": "2020-11-24T16:38:34.808692Z",
     "iopub.status.busy": "2020-11-24T16:38:34.807987Z",
     "iopub.status.idle": "2020-11-24T16:38:37.050478Z",
     "shell.execute_reply": "2020-11-24T16:38:37.050952Z"
    },
    "id": "k9WEpmedF_3_"
   },
   "outputs": [],
   "source": [
    "module_path = \"text_module\"\n",
    "embedding_layer = hub.KerasLayer(module_path, trainable=False)"
   ]
  },
  {
   "cell_type": "markdown",
   "metadata": {
    "colab_type": "text",
    "id": "fQHbmS_D4YIo"
   },
   "source": [
    "The text embedding module takes a batch of sentences in a 1D tensor of strings as input and outputs the embedding vectors of shape (batch_size, embedding_dim) corresponding to the sentences. It preprocesses the input by splitting on spaces. Word embeddings are combined to sentence embeddings with the `sqrtn` combiner(See [here](https://www.tensorflow.org/api_docs/python/tf/nn/embedding_lookup_sparse)). For demonstration we pass a list of Bangla words as input and get the corresponding embedding vectors."
   ]
  },
  {
   "cell_type": "code",
   "execution_count": 10,
   "metadata": {
    "colab": {},
    "colab_type": "code",
    "execution": {
     "iopub.execute_input": "2020-11-24T16:38:37.057631Z",
     "iopub.status.busy": "2020-11-24T16:38:37.056670Z",
     "iopub.status.idle": "2020-11-24T16:38:37.115165Z",
     "shell.execute_reply": "2020-11-24T16:38:37.114619Z"
    },
    "id": "Z1MBnaBUihWn"
   },
   "outputs": [
    {
     "data": {
      "text/plain": [
       "<tf.Tensor: shape=(5, 300), dtype=float64, numpy=\n",
       "array([[ 0.0462, -0.0355,  0.0129, ...,  0.0025, -0.0966,  0.0216],\n",
       "       [-0.0631, -0.0051,  0.085 , ...,  0.0249, -0.0149,  0.0203],\n",
       "       [ 0.1371, -0.069 , -0.1176, ...,  0.029 ,  0.0508, -0.026 ],\n",
       "       [ 0.0532, -0.0465, -0.0504, ...,  0.02  , -0.0023,  0.0011],\n",
       "       [ 0.0908, -0.0404, -0.0536, ..., -0.0275,  0.0528,  0.0253]])>"
      ]
     },
     "execution_count": 1,
     "metadata": {},
     "output_type": "execute_result"
    }
   ],
   "source": [
    "embedding_layer(['বাস', 'বসবাস', 'ট্রেন', 'যাত্রী', 'ট্রাক']) "
   ]
  },
  {
   "cell_type": "markdown",
   "metadata": {
    "colab_type": "text",
    "id": "4KY8LiFOHmcd"
   },
   "source": [
    "# Convert to Tensorflow Dataset \n"
   ]
  },
  {
   "cell_type": "markdown",
   "metadata": {
    "colab_type": "text",
    "id": "pNguCDNe6bvz"
   },
   "source": [
    "Since the dataset is really large instead of loading the entire dataset in memory we will use a generator to yield samples in run-time in batches using [Tensorflow Dataset](https://www.tensorflow.org/api_docs/python/tf/data/Dataset) functionalities.  The dataset is also very imbalanced, so before using the generator we will shuffle the dataset. \n"
   ]
  },
  {
   "cell_type": "code",
   "execution_count": 11,
   "metadata": {
    "colab": {},
    "colab_type": "code",
    "execution": {
     "iopub.execute_input": "2020-11-24T16:38:37.121799Z",
     "iopub.status.busy": "2020-11-24T16:38:37.121103Z",
     "iopub.status.idle": "2020-11-24T16:38:37.723765Z",
     "shell.execute_reply": "2020-11-24T16:38:37.724225Z"
    },
    "id": "bYv6LqlEChO1"
   },
   "outputs": [],
   "source": [
    "dir_names = ['economy', 'sports', 'entertainment', 'state', 'international']\n",
    "\n",
    "file_paths = []\n",
    "labels = []\n",
    "for i, dir in enumerate(dir_names):\n",
    "  file_names = [\"/\".join([dir, name]) for name in os.listdir(dir)]\n",
    "  file_paths += file_names\n",
    "  labels += [i] * len(os.listdir(dir))\n",
    "  \n",
    "np.random.seed(42)\n",
    "permutation = np.random.permutation(len(file_paths))\n",
    "\n",
    "file_paths = np.array(file_paths)[permutation]\n",
    "labels = np.array(labels)[permutation]"
   ]
  },
  {
   "cell_type": "markdown",
   "metadata": {
    "colab_type": "text",
    "id": "8b-UtAP5TL-W"
   },
   "source": [
    "We can check the distribution of labels in the training and validation examples after shuffling."
   ]
  },
  {
   "cell_type": "code",
   "execution_count": 12,
   "metadata": {
    "colab": {},
    "colab_type": "code",
    "execution": {
     "iopub.execute_input": "2020-11-24T16:38:37.728876Z",
     "iopub.status.busy": "2020-11-24T16:38:37.728129Z",
     "iopub.status.idle": "2020-11-24T16:38:37.729889Z",
     "shell.execute_reply": "2020-11-24T16:38:37.730279Z"
    },
    "id": "mimhWVSzzAmS"
   },
   "outputs": [],
   "source": [
    "train_frac = 0.8\n",
    "train_size = int(len(file_paths) * train_frac)"
   ]
  },
  {
   "cell_type": "code",
   "execution_count": 13,
   "metadata": {
    "colab": {},
    "colab_type": "code",
    "execution": {
     "iopub.execute_input": "2020-11-24T16:38:37.752854Z",
     "iopub.status.busy": "2020-11-24T16:38:37.750318Z",
     "iopub.status.idle": "2020-11-24T16:38:38.041971Z",
     "shell.execute_reply": "2020-11-24T16:38:38.042412Z"
    },
    "id": "4BNXFrkotAYu"
   },
   "outputs": [
    {
     "data": {
      "image/png": "[encoded data removed]",
      "text/plain": [
       "<Figure size 432x288 with 2 Axes>"
      ]
     },
     "metadata": {
      "needs_background": "light"
     },
     "output_type": "display_data"
    }
   ],
   "source": [
    "# plot training vs validation distribution\n",
    "plt.subplot(1, 2, 1)\n",
    "plt.hist(labels[0:train_size])\n",
    "plt.title(\"Train labels\")\n",
    "plt.subplot(1, 2, 2)\n",
    "plt.hist(labels[train_size:])\n",
    "plt.title(\"Validation labels\")\n",
    "plt.tight_layout()"
   ]
  },
  {
   "cell_type": "markdown",
   "metadata": {
    "colab_type": "text",
    "id": "RVbHb2I3TUNA"
   },
   "source": [
    "To create a [Dataset](https://www.tensorflow.org/api_docs/python/tf/data/Dataset) using generator we first write a generator function which reads each of the articles from file_paths and the labels from the label array, and yields one training example at each step. We pass this generator function to the [tf.data.Dataset.from_generator](https://www.tensorflow.org/api_docs/python/tf/data/Dataset#from_generator) method and specify the output types. Each training example is a tuple containing an article of tf.string data type and one-hot encoded label. We split the dataset with a train-validation split of 80-20 using the [`skip`](https://www.tensorflow.org/api_docs/python/tf/data/Dataset#skip) and [`take`](https://www.tensorflow.org/api_docs/python/tf/data/Dataset#take) method."
   ]
  },
  {
   "cell_type": "code",
   "execution_count": 14,
   "metadata": {
    "colab": {},
    "colab_type": "code",
    "execution": {
     "iopub.execute_input": "2020-11-24T16:38:38.046936Z",
     "iopub.status.busy": "2020-11-24T16:38:38.046273Z",
     "iopub.status.idle": "2020-11-24T16:38:38.048503Z",
     "shell.execute_reply": "2020-11-24T16:38:38.047906Z"
    },
    "id": "eZRGTzEhUi7Q"
   },
   "outputs": [],
   "source": [
    "def load_file(path, label):\n",
    "    return tf.io.read_file(path), label"
   ]
  },
  {
   "cell_type": "code",
   "execution_count": 15,
   "metadata": {
    "colab": {},
    "colab_type": "code",
    "execution": {
     "iopub.execute_input": "2020-11-24T16:38:38.054369Z",
     "iopub.status.busy": "2020-11-24T16:38:38.053741Z",
     "iopub.status.idle": "2020-11-24T16:38:38.056038Z",
     "shell.execute_reply": "2020-11-24T16:38:38.055551Z"
    },
    "id": "2g4nRflB7fbF"
   },
   "outputs": [],
   "source": [
    "def make_datasets(train_size):\n",
    "  batch_size = 256\n",
    "\n",
    "  train_files = file_paths[:train_size]\n",
    "  train_labels = labels[:train_size]\n",
    "  train_ds = tf.data.Dataset.from_tensor_slices((train_files, train_labels))\n",
    "  train_ds = train_ds.map(load_file).shuffle(5000)\n",
    "  train_ds = train_ds.batch(batch_size).prefetch(tf.data.experimental.AUTOTUNE)\n",
    "\n",
    "  test_files = file_paths[train_size:]\n",
    "  test_labels = labels[train_size:]\n",
    "  test_ds = tf.data.Dataset.from_tensor_slices((test_files, test_labels))\n",
    "  test_ds = test_ds.map(load_file)\n",
    "  test_ds = test_ds.batch(batch_size).prefetch(tf.data.experimental.AUTOTUNE)\n",
    "\n",
    "\n",
    "  return train_ds, test_ds"
   ]
  },
  {
   "cell_type": "code",
   "execution_count": 16,
   "metadata": {
    "colab": {},
    "colab_type": "code",
    "execution": {
     "iopub.execute_input": "2020-11-24T16:38:38.117241Z",
     "iopub.status.busy": "2020-11-24T16:38:38.116004Z",
     "iopub.status.idle": "2020-11-24T16:38:38.169668Z",
     "shell.execute_reply": "2020-11-24T16:38:38.170183Z"
    },
    "id": "8PuuN6el8tv9"
   },
   "outputs": [],
   "source": [
    "train_data, validation_data = make_datasets(train_size)"
   ]
  },
  {
   "cell_type": "markdown",
   "metadata": {
    "colab_type": "text",
    "id": "MrdZI6FqPJNP"
   },
   "source": [
    "# Model Training and Evaluation"
   ]
  },
  {
   "cell_type": "markdown",
   "metadata": {
    "colab_type": "text",
    "id": "jgr7YScGVS58"
   },
   "source": [
    "Since we have already added a wrapper around our module to use it as any other layer in keras we can create a small [Sequential](https://www.tensorflow.org/api_docs/python/tf/keras/Sequential) model which is a linear stack of layers. We can add our text embedding module with `model.add` just like any other layer. We compile the model by specifying the loss and optimizer and train it for 10 epochs. `tf.keras` API can handle tensorflow datasets as input, so we can pass a Dataset instance to the fit method for model training. Since we are using a generator function, tf.data will handle generating the samples, batching them and feeding them to the model."
   ]
  },
  {
   "cell_type": "markdown",
   "metadata": {
    "colab_type": "text",
    "id": "WhCqbDK2uUV5"
   },
   "source": [
    "## Model"
   ]
  },
  {
   "cell_type": "code",
   "execution_count": 17,
   "metadata": {
    "colab": {},
    "colab_type": "code",
    "execution": {
     "iopub.execute_input": "2020-11-24T16:38:38.176784Z",
     "iopub.status.busy": "2020-11-24T16:38:38.176152Z",
     "iopub.status.idle": "2020-11-24T16:38:38.178246Z",
     "shell.execute_reply": "2020-11-24T16:38:38.177788Z"
    },
    "id": "nHUw807XPPM9"
   },
   "outputs": [],
   "source": [
    "def create_model():\n",
    "  model = tf.keras.Sequential([\n",
    "    tf.keras.layers.Input(shape=[], dtype=tf.string),\n",
    "    embedding_layer,\n",
    "    tf.keras.layers.Dense(64, activation=\"relu\"),\n",
    "    tf.keras.layers.Dense(16, activation=\"relu\"),\n",
    "    tf.keras.layers.Dense(5),\n",
    "  ])\n",
    "  model.compile(loss=tf.losses.SparseCategoricalCrossentropy(from_logits=True),\n",
    "      optimizer=\"adam\", metrics=['accuracy'])\n",
    "  return model"
   ]
  },
  {
   "cell_type": "code",
   "execution_count": 18,
   "metadata": {
    "colab": {},
    "colab_type": "code",
    "execution": {
     "iopub.execute_input": "2020-11-24T16:38:38.192230Z",
     "iopub.status.busy": "2020-11-24T16:38:38.191517Z",
     "iopub.status.idle": "2020-11-24T16:38:38.571633Z",
     "shell.execute_reply": "2020-11-24T16:38:38.572072Z"
    },
    "id": "5J4EXJUmPVNG"
   },
   "outputs": [
    {
     "name": "stdout",
     "output_type": "stream",
     "text": [
      "WARNING:tensorflow:Layer dense is casting an input tensor from dtype float64 to the layer's dtype of float32, which is new behavior in TensorFlow 2.  The layer has dtype float32 because its dtype defaults to floatx.\n",
      "\n",
      "If you intended to run this layer in float32, you can safely ignore this warning. If in doubt, this warning is likely only an issue if you are porting a TensorFlow 1.X model to TensorFlow 2.\n",
      "\n",
      "To change all layers to have dtype float64 by default, call `tf.keras.backend.set_floatx('float64')`. To change just this layer, pass dtype='float64' to the layer constructor. If you are the author of this layer, you can disable autocasting by passing autocast=False to the base Layer constructor.\n",
      "\n"
     ]
    },
    {
     "name": "stderr",
     "output_type": "stream",
     "text": [
      "WARNING:tensorflow:Layer dense is casting an input tensor from dtype float64 to the layer's dtype of float32, which is new behavior in TensorFlow 2.  The layer has dtype float32 because its dtype defaults to floatx.\n",
      "\n",
      "If you intended to run this layer in float32, you can safely ignore this warning. If in doubt, this warning is likely only an issue if you are porting a TensorFlow 1.X model to TensorFlow 2.\n",
      "\n",
      "To change all layers to have dtype float64 by default, call `tf.keras.backend.set_floatx('float64')`. To change just this layer, pass dtype='float64' to the layer constructor. If you are the author of this layer, you can disable autocasting by passing autocast=False to the base Layer constructor.\n",
      "\n"
     ]
    }
   ],
   "source": [
    "model = create_model()\n",
    "# Create earlystopping callback\n",
    "early_stopping_callback = tf.keras.callbacks.EarlyStopping(monitor='val_loss', min_delta=0, patience=3)"
   ]
  },
  {
   "cell_type": "markdown",
   "metadata": {
    "colab_type": "text",
    "id": "ZZ7XJLg2u2No"
   },
   "source": [
    "## Training"
   ]
  },
  {
   "cell_type": "code",
   "execution_count": 19,
   "metadata": {
    "colab": {},
    "colab_type": "code",
    "execution": {
     "iopub.execute_input": "2020-11-24T16:38:38.576762Z",
     "iopub.status.busy": "2020-11-24T16:38:38.576072Z",
     "iopub.status.idle": "2020-11-24T16:42:57.590414Z",
     "shell.execute_reply": "2020-11-24T16:42:57.590833Z"
    },
    "id": "OoBkN2tAaXWD"
   },
   "outputs": [
    {
     "name": "stdout",
     "output_type": "stream",
     "text": [
      "Epoch 1/5\n",
      "1176/1176 [==============================] - 53s 45ms/step - loss: 0.2174 - accuracy: 0.9273 - val_loss: 0.1489 - val_accuracy: 0.9478\n",
      "Epoch 2/5\n",
      "1176/1176 [==============================] - 51s 43ms/step - loss: 0.1425 - accuracy: 0.9504 - val_loss: 0.1393 - val_accuracy: 0.9503\n",
      "Epoch 3/5\n",
      "1176/1176 [==============================] - 51s 43ms/step - loss: 0.1308 - accuracy: 0.9535 - val_loss: 0.1292 - val_accuracy: 0.9534\n",
      "Epoch 4/5\n",
      "1176/1176 [==============================] - 51s 43ms/step - loss: 0.1238 - accuracy: 0.9554 - val_loss: 0.1250 - val_accuracy: 0.9548\n",
      "Epoch 5/5\n",
      "1176/1176 [==============================] - 52s 44ms/step - loss: 0.1196 - accuracy: 0.9568 - val_loss: 0.1193 - val_accuracy: 0.9567\n"
     ]
    }
   ],
   "source": [
    "\n",
    "history = model.fit(train_data, \n",
    "                    validation_data=validation_data, \n",
    "                    epochs=5, \n",
    "                    callbacks=[early_stopping_callback])"
   ]
  },
  {
   "cell_type": "markdown",
   "metadata": {
    "colab_type": "text",
    "id": "XoDk8otmMoT7"
   },
   "source": [
    "## Evaluation"
   ]
  },
  {
   "cell_type": "markdown",
   "metadata": {
    "colab_type": "text",
    "id": "G5ZRKGOsXEh4"
   },
   "source": [
    "We can visualize the accuracy and loss curves for training and validation data using the `history` object returned by the `fit` method which contains the loss and accuracy value for each epoch."
   ]
  },
  {
   "cell_type": "code",
   "execution_count": 20,
   "metadata": {
    "colab": {},
    "colab_type": "code",
    "execution": {
     "iopub.execute_input": "2020-11-24T16:42:57.609680Z",
     "iopub.status.busy": "2020-11-24T16:42:57.608666Z",
     "iopub.status.idle": "2020-11-24T16:42:57.866511Z",
     "shell.execute_reply": "2020-11-24T16:42:57.866933Z"
    },
    "id": "V6tOnByIOeGn"
   },
   "outputs": [
    {
     "data": {
      "image/png": "[encoded data removed]",
      "text/plain": [
       "<Figure size 432x288 with 1 Axes>"
      ]
     },
     "metadata": {
      "needs_background": "light"
     },
     "output_type": "display_data"
    },
    {
     "data": {
      "image/png": "[encoded data removed]",
      "text/plain": [
       "<Figure size 432x288 with 1 Axes>"
      ]
     },
     "metadata": {
      "needs_background": "light"
     },
     "output_type": "display_data"
    }
   ],
   "source": [
    "# Plot training & validation accuracy values\n",
    "plt.plot(history.history['accuracy'])\n",
    "plt.plot(history.history['val_accuracy'])\n",
    "plt.title('Model accuracy')\n",
    "plt.ylabel('Accuracy')\n",
    "plt.xlabel('Epoch')\n",
    "plt.legend(['Train', 'Test'], loc='upper left')\n",
    "plt.show()\n",
    "\n",
    "# Plot training & validation loss values\n",
    "plt.plot(history.history['loss'])\n",
    "plt.plot(history.history['val_loss'])\n",
    "plt.title('Model loss')\n",
    "plt.ylabel('Loss')\n",
    "plt.xlabel('Epoch')\n",
    "plt.legend(['Train', 'Test'], loc='upper left')\n",
    "plt.show()"
   ]
  },
  {
   "cell_type": "markdown",
   "metadata": {
    "colab_type": "text",
    "id": "D54IXLqcG8Cq"
   },
   "source": [
    "## Prediction\n",
    "\n",
    "We can get the predictions for the validation data and check the confusion matrix to see the model's performance for each of the 5 classes. As `predict` method returns us the n-d array for probabilities for each class which we convert to class labels using `np.argmax`."
   ]
  },
  {
   "cell_type": "code",
   "execution_count": 21,
   "metadata": {
    "colab": {},
    "colab_type": "code",
    "execution": {
     "iopub.execute_input": "2020-11-24T16:42:57.871415Z",
     "iopub.status.busy": "2020-11-24T16:42:57.870694Z",
     "iopub.status.idle": "2020-11-24T16:43:07.806080Z",
     "shell.execute_reply": "2020-11-24T16:43:07.805539Z"
    },
    "id": "dptEywzZJk4l"
   },
   "outputs": [],
   "source": [
    "y_pred = model.predict(validation_data)"
   ]
  },
  {
   "cell_type": "code",
   "execution_count": 22,
   "metadata": {
    "colab": {},
    "colab_type": "code",
    "execution": {
     "iopub.execute_input": "2020-11-24T16:43:07.810300Z",
     "iopub.status.busy": "2020-11-24T16:43:07.809446Z",
     "iopub.status.idle": "2020-11-24T16:43:07.812225Z",
     "shell.execute_reply": "2020-11-24T16:43:07.812668Z"
    },
    "id": "7Dzeml6Pk0ub"
   },
   "outputs": [],
   "source": [
    "y_pred = np.argmax(y_pred, axis=1)"
   ]
  },
  {
   "cell_type": "code",
   "execution_count": 23,
   "metadata": {
    "colab": {},
    "colab_type": "code",
    "execution": {
     "iopub.execute_input": "2020-11-24T16:43:07.817484Z",
     "iopub.status.busy": "2020-11-24T16:43:07.816904Z",
     "iopub.status.idle": "2020-11-24T16:43:07.820741Z",
     "shell.execute_reply": "2020-11-24T16:43:07.821123Z"
    },
    "id": "T4M3Lzg8jHcB"
   },
   "outputs": [
    {
     "name": "stdout",
     "output_type": "stream",
     "text": [
      "\n",
      "বাংলা বর্ষ ১৪২২ বিদায় এবং নববর্ষ ১৪২৩ উদ্‌যাপন উপলক্ষে বাংলাদেশ জাতীয় জাদুঘর তিন দিনব্যাপী লোকজ ম\n",
      "True Class:  entertainment\n",
      "Predicted Class:  state\n",
      "\n",
      "শেরপুরের ঝিনাইগাতী সীমান্তে ফের বন্য হাতির আক্রমণে উত্তম মারাক (৫৫) নামের এক কৃষক নিহত হয়েছেন। নিহত\n",
      "True Class:  state\n",
      "Predicted Class:  state\n",
      "\n",
      "আর্জেন্টিনার খেলা চলছে। চিলির মোটেল ফ্যান্টাসিয়ায় তিল ধারণের ঠাঁই নেই। সবাই অপেক্ষা করে আছেন, কখন \n",
      "True Class:  sports\n",
      "Predicted Class:  state\n"
     ]
    }
   ],
   "source": [
    "samples = file_paths[0:3]\n",
    "for i, sample in enumerate(samples):\n",
    "  f = open(sample)\n",
    "  text = f.read()\n",
    "  print(text[0:100])\n",
    "  print(\"True Class: \", sample.split(\"/\")[0])\n",
    "  print(\"Predicted Class: \", dir_names[y_pred[i]])\n",
    "  f.close()\n",
    "  "
   ]
  },
  {
   "cell_type": "markdown",
   "metadata": {
    "colab_type": "text",
    "id": "PlDTIpMBu6h-"
   },
   "source": [
    "## Compare Performance\n",
    "\n",
    "Now we can take the correct labels for the validation data from `labels`  and compare it with our predictions to get the [classification_report](http://scikit-learn.org/stable/modules/generated/sklearn.metrics.classification_report.html). "
   ]
  },
  {
   "cell_type": "code",
   "execution_count": 24,
   "metadata": {
    "colab": {},
    "colab_type": "code",
    "execution": {
     "iopub.execute_input": "2020-11-24T16:43:07.824531Z",
     "iopub.status.busy": "2020-11-24T16:43:07.823980Z",
     "iopub.status.idle": "2020-11-24T16:43:07.826336Z",
     "shell.execute_reply": "2020-11-24T16:43:07.825847Z"
    },
    "id": "mqrERUCS1Xn7"
   },
   "outputs": [],
   "source": [
    "y_true = np.array(labels[train_size:])"
   ]
  },
  {
   "cell_type": "code",
   "execution_count": 25,
   "metadata": {
    "colab": {},
    "colab_type": "code",
    "execution": {
     "iopub.execute_input": "2020-11-24T16:43:07.829938Z",
     "iopub.status.busy": "2020-11-24T16:43:07.829389Z",
     "iopub.status.idle": "2020-11-24T16:43:07.943196Z",
     "shell.execute_reply": "2020-11-24T16:43:07.943611Z"
    },
    "id": "NX5w-NuTKuVP"
   },
   "outputs": [
    {
     "name": "stdout",
     "output_type": "stream",
     "text": [
      "               precision    recall  f1-score   support\n",
      "\n",
      "      economy       0.84      0.75      0.79      3897\n",
      "       sports       0.99      0.98      0.99     10204\n",
      "entertainment       0.91      0.94      0.92      6256\n",
      "        state       0.97      0.98      0.97     48512\n",
      "international       0.94      0.92      0.93      6377\n",
      "\n",
      "     accuracy                           0.96     75246\n",
      "    macro avg       0.93      0.91      0.92     75246\n",
      " weighted avg       0.96      0.96      0.96     75246\n",
      "\n"
     ]
    }
   ],
   "source": [
    "print(classification_report(y_true, y_pred, target_names=dir_names))"
   ]
  },
  {
   "cell_type": "markdown",
   "metadata": {
    "colab_type": "text",
    "id": "p5e9m3bV6oXK"
   },
   "source": [
    "We can also compare our model's performance with the published results obtained in the original [paper](https://www.researchgate.net/publication/328214545_BARD_Bangla_Article_Classification_Using_a_New_Comprehensive_Dataset) who report a 0.96 precision .The original authors described many preprocessing steps done on the dataset like dropping punctuations and digits, removing top 25 most frequest stop words. As we can see in the classification_report, we also gain a 0.96 precision and accuracy after training only 5 epochs without any preprocessing! \n",
    "\n",
    "In this example when we created the Keras layer from our embedding module we set `trainable=False`, which means the embedding weights will not be updated during training. Try setting it to True to reach 97% accuracy with this dataset with only 2 epochs. "
   ]
  }
 ],
 "metadata": {
  "colab": {
   "collapsed_sections": [
    "IDdZSPcLtKx4"
   ],
   "name": "Bangla article classifier.ipynb",
   "private_outputs": true,
   "provenance": [],
   "toc_visible": true
  },
  "kernelspec": {
   "display_name": "Python 3",
   "language": "python",
   "name": "python3"
  },
  "language_info": {
   "codemirror_mode": {
    "name": "ipython",
    "version": 3
   },
   "file_extension": ".py",
   "mimetype": "text/x-python",
   "name": "python",
   "nbconvert_exporter": "python",
   "pygments_lexer": "ipython3",
   "version": "3.7.9"
  }
 },
 "nbformat": 4,
 "nbformat_minor": 1
}
