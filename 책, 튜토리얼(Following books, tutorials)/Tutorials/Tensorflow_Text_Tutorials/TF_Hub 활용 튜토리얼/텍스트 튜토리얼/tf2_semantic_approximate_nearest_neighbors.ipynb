{
 "cells": [
  {
   "cell_type": "markdown",
   "metadata": {
    "id": "ACbjNjyO4f_8"
   },
   "source": [
    "##### Copyright 2019 The TensorFlow Hub Authors.\n",
    "\n",
    "Licensed under the Apache License, Version 2.0 (the \"License\");"
   ]
  },
  {
   "cell_type": "code",
   "execution_count": 1,
   "metadata": {
    "execution": {
     "iopub.execute_input": "2020-11-24T16:24:08.956106Z",
     "iopub.status.busy": "2020-11-24T16:24:08.955395Z",
     "iopub.status.idle": "2020-11-24T16:24:08.957318Z",
     "shell.execute_reply": "2020-11-24T16:24:08.957685Z"
    },
    "id": "MCM50vaM4jiK"
   },
   "outputs": [],
   "source": [
    "# Copyright 2018 The TensorFlow Hub Authors. All Rights Reserved.\n",
    "#\n",
    "# Licensed under the Apache License, Version 2.0 (the \"License\");\n",
    "# you may not use this file except in compliance with the License.\n",
    "# You may obtain a copy of the License at\n",
    "#\n",
    "#     http://www.apache.org/licenses/LICENSE-2.0\n",
    "#\n",
    "# Unless required by applicable law or agreed to in writing, software\n",
    "# distributed under the License is distributed on an \"AS IS\" BASIS,\n",
    "# WITHOUT WARRANTIES OR CONDITIONS OF ANY KIND, either express or implied.\n",
    "# See the License for the specific language governing permissions and\n",
    "# limitations under the License.\n",
    "# =============================================================================="
   ]
  },
  {
   "cell_type": "markdown",
   "metadata": {
    "id": "9qOVy-_vmuUP"
   },
   "source": [
    "# Semantic Search with Approximate Nearest Neighbors and Text Embeddings\n"
   ]
  },
  {
   "cell_type": "markdown",
   "metadata": {
    "id": "MfBg1C5NB3X0"
   },
   "source": [
    "<table class=\"tfo-notebook-buttons\" align=\"left\">\n",
    "  <td>\n",
    "    <a target=\"_blank\" href=\"https://www.tensorflow.org/hub/tutorials/tf2_semantic_approximate_nearest_neighbors\"><img src=\"https://www.tensorflow.org/images/tf_logo_32px.png\" />View on TensorFlow.org</a>\n",
    "  </td>\n",
    "  <td>\n",
    "    <a target=\"_blank\" href=\"https://colab.research.google.com/github/tensorflow/hub/blob/master/examples/colab/tf2_semantic_approximate_nearest_neighbors.ipynb\"><img src=\"https://www.tensorflow.org/images/colab_logo_32px.png\" />Run in Google Colab</a>\n",
    "  </td>\n",
    "  <td>\n",
    "    <a target=\"_blank\" href=\"https://github.com/tensorflow/hub/blob/master/examples/colab/tf2_semantic_approximate_nearest_neighbors.ipynb\"><img src=\"https://www.tensorflow.org/images/GitHub-Mark-32px.png\" />View on GitHub</a>\n",
    "  </td>\n",
    "  <td>\n",
    "    <a href=\"https://storage.googleapis.com/tensorflow_docs/hub/examples/colab/tf2_semantic_approximate_nearest_neighbors.ipynb\"><img src=\"https://www.tensorflow.org/images/download_logo_32px.png\" />Download notebook</a>\n",
    "  </td>\n",
    "  <td>\n",
    "    <a href=\"https://tfhub.dev/google/tf2-preview/nnlm-en-dim128/1\"><img src=\"https://www.tensorflow.org/images/hub_logo_32px.png\" />See TF Hub model</a>\n",
    "  </td>\n",
    "</table>"
   ]
  },
  {
   "cell_type": "markdown",
   "metadata": {
    "id": "3T4d77AJaKte"
   },
   "source": [
    "This tutorial illustrates how to generate embeddings from a [TensorFlow Hub](https://tfhub.dev) (TF-Hub) module given input data, and build an approximate nearest neighbours (ANN) index using the extracted embeddings. The index can then be used for real-time similarity matching and retrieval.\n",
    "\n",
    "When dealing with a large corpus of data, it's not efficient to perform exact matching by scanning the whole repository to find the most similar items to a given query in real-time. Thus, we use an approximate similarity matching algorithm which allows us to trade off a little bit of accuracy in finding exact nearest neighbor matches for a significant boost in speed.\n",
    "\n",
    "In this tutorial, we show an example of real-time text search over a corpus of news headlines to find the headlines that are most similar to a query. Unlike keyword search, this captures the semantic similarity encoded in the text embedding.\n",
    "\n",
    "The steps of this tutorial are:\n",
    "1. Download sample data.\n",
    "2. Generate embeddings for the data using a TF-Hub module\n",
    "3. Build an ANN index for the embeddings\n",
    "4. Use the index for similarity matching\n",
    "\n",
    "We use [Apache Beam](https://beam.apache.org/documentation/programming-guide/) to generate the embeddings from the TF-Hub module. We also use Spotify's [ANNOY](https://github.com/spotify/annoy) library to build the approximate nearest neighbours index."
   ]
  },
  {
   "cell_type": "markdown",
   "metadata": {
    "id": "nM17v_mEVSnd"
   },
   "source": [
    "### More models\n",
    "For models that have the same architecture but were trained on a different language, refer to [this](https://tfhub.dev/google/collections/tf2-preview-nnlm/1) collection. [Here](https://tfhub.dev/s?module-type=text-embedding) you can find all text embeddings that are currently hosted on [tfhub.dev](tfhub.dev). "
   ]
  },
  {
   "cell_type": "markdown",
   "metadata": {
    "id": "Q0jr0QK9qO5P"
   },
   "source": [
    "## Setup"
   ]
  },
  {
   "cell_type": "markdown",
   "metadata": {
    "id": "whMRj9qeqed4"
   },
   "source": [
    "Install the required libraries."
   ]
  },
  {
   "cell_type": "code",
   "execution_count": 2,
   "metadata": {
    "execution": {
     "iopub.execute_input": "2020-11-24T16:24:08.964946Z",
     "iopub.status.busy": "2020-11-24T16:24:08.962363Z",
     "iopub.status.idle": "2020-11-24T16:24:21.509381Z",
     "shell.execute_reply": "2020-11-24T16:24:21.508803Z"
    },
    "id": "qmXkLPoaqS--"
   },
   "outputs": [],
   "source": [
    "!pip install -q apache_beam\n",
    "!pip install -q sklearn\n",
    "!pip install -q annoy"
   ]
  },
  {
   "cell_type": "markdown",
   "metadata": {
    "id": "A-vBZiCCqld0"
   },
   "source": [
    "Import the required libraries"
   ]
  },
  {
   "cell_type": "code",
   "execution_count": 3,
   "metadata": {
    "execution": {
     "iopub.execute_input": "2020-11-24T16:24:21.514537Z",
     "iopub.status.busy": "2020-11-24T16:24:21.513948Z",
     "iopub.status.idle": "2020-11-24T16:24:27.935483Z",
     "shell.execute_reply": "2020-11-24T16:24:27.935887Z"
    },
    "id": "6NTYbdWcseuK"
   },
   "outputs": [],
   "source": [
    "import os\n",
    "import sys\n",
    "import pickle\n",
    "from collections import namedtuple\n",
    "from datetime import datetime\n",
    "import numpy as np\n",
    "import apache_beam as beam\n",
    "from apache_beam.transforms import util\n",
    "import tensorflow as tf\n",
    "import tensorflow_hub as hub\n",
    "import annoy\n",
    "from sklearn.random_projection import gaussian_random_matrix"
   ]
  },
  {
   "cell_type": "code",
   "execution_count": 4,
   "metadata": {
    "execution": {
     "iopub.execute_input": "2020-11-24T16:24:27.940570Z",
     "iopub.status.busy": "2020-11-24T16:24:27.939962Z",
     "iopub.status.idle": "2020-11-24T16:24:27.943695Z",
     "shell.execute_reply": "2020-11-24T16:24:27.944072Z"
    },
    "id": "tx0SZa6-7b-f"
   },
   "outputs": [
    {
     "name": "stdout",
     "output_type": "stream",
     "text": [
      "TF version: 2.3.1\n",
      "TF-Hub version: 0.10.0\n",
      "Apache Beam version: 2.25.0\n"
     ]
    }
   ],
   "source": [
    "print('TF version: {}'.format(tf.__version__))\n",
    "print('TF-Hub version: {}'.format(hub.__version__))\n",
    "print('Apache Beam version: {}'.format(beam.__version__))"
   ]
  },
  {
   "cell_type": "markdown",
   "metadata": {
    "id": "P6Imq876rLWx"
   },
   "source": [
    "## 1. Download Sample Data\n",
    "\n",
    "[A Million News Headlines](https://dataverse.harvard.edu/dataset.xhtml?persistentId=doi:10.7910/DVN/SYBGZL#) dataset contains news headlines published over a period of 15 years sourced from the reputable Australian Broadcasting Corp. (ABC). This news dataset has a summarised historical record of noteworthy events in the globe from early-2003 to end-2017 with a more granular focus on Australia. \n",
    "\n",
    "**Format**: Tab-separated two-column data: 1) publication date and 2) headline text. We are only interested in the headline text.\n"
   ]
  },
  {
   "cell_type": "code",
   "execution_count": 5,
   "metadata": {
    "execution": {
     "iopub.execute_input": "2020-11-24T16:24:27.954694Z",
     "iopub.status.busy": "2020-11-24T16:24:27.954077Z",
     "iopub.status.idle": "2020-11-24T16:24:34.159392Z",
     "shell.execute_reply": "2020-11-24T16:24:34.159789Z"
    },
    "id": "OpF57n8e5C9D"
   },
   "outputs": [
    {
     "name": "stdout",
     "output_type": "stream",
     "text": [
      "--2020-11-24 16:24:27--  https://dataverse.harvard.edu/api/access/datafile/3450625?format=tab&gbrecs=true\n",
      "Resolving dataverse.harvard.edu (dataverse.harvard.edu)... 206.191.184.198\n",
      "Connecting to dataverse.harvard.edu (dataverse.harvard.edu)|206.191.184.198|:443... connected.\n",
      "HTTP request sent, awaiting response... 200 OK\n",
      "Length: 57600231 (55M) [text/tab-separated-values]\n",
      "Saving to: ‘raw.tsv’\n",
      "\n",
      "raw.tsv             100%[===================>]  54.93M  14.5MB/s    in 4.5s    \n",
      "\n",
      "2020-11-24 16:24:33 (12.2 MB/s) - ‘raw.tsv’ saved [57600231/57600231]\n",
      "\n",
      "1103664 raw.tsv\n",
      "publish_date\theadline_text\n",
      "20030219\t\"aba decides against community broadcasting licence\"\n",
      "20030219\t\"act fire witnesses must be aware of defamation\"\n",
      "20030219\t\"a g calls for infrastructure protection summit\"\n",
      "20030219\t\"air nz staff in aust strike for pay rise\"\n",
      "20030219\t\"air nz strike to affect australian travellers\"\n",
      "20030219\t\"ambitious olsson wins triple jump\"\n",
      "20030219\t\"antic delighted with record breaking barca\"\n",
      "20030219\t\"aussie qualifier stosur wastes four memphis match\"\n",
      "20030219\t\"aust addresses un security council over iraq\"\n"
     ]
    }
   ],
   "source": [
    "!wget 'https://dataverse.harvard.edu/api/access/datafile/3450625?format=tab&gbrecs=true' -O raw.tsv\n",
    "!wc -l raw.tsv\n",
    "!head raw.tsv"
   ]
  },
  {
   "cell_type": "markdown",
   "metadata": {
    "id": "Reeoc9z0zTxJ"
   },
   "source": [
    "For simplicity, we only keep the headline text and remove the publication date"
   ]
  },
  {
   "cell_type": "code",
   "execution_count": 6,
   "metadata": {
    "execution": {
     "iopub.execute_input": "2020-11-24T16:24:34.171872Z",
     "iopub.status.busy": "2020-11-24T16:24:34.171215Z",
     "iopub.status.idle": "2020-11-24T16:24:35.219666Z",
     "shell.execute_reply": "2020-11-24T16:24:35.220061Z"
    },
    "id": "INPWa4upv_yJ"
   },
   "outputs": [
    {
     "name": "stdout",
     "output_type": "stream",
     "text": [
      "rm: cannot remove 'corpus': No such file or directory\r\n"
     ]
    }
   ],
   "source": [
    "!rm -r corpus\n",
    "!mkdir corpus\n",
    "\n",
    "with open('corpus/text.txt', 'w') as out_file:\n",
    "  with open('raw.tsv', 'r') as in_file:\n",
    "    for line in in_file:\n",
    "      headline = line.split('\\t')[1].strip().strip('\"')\n",
    "      out_file.write(headline+\"\\n\")"
   ]
  },
  {
   "cell_type": "code",
   "execution_count": 7,
   "metadata": {
    "execution": {
     "iopub.execute_input": "2020-11-24T16:24:35.230351Z",
     "iopub.status.busy": "2020-11-24T16:24:35.229721Z",
     "iopub.status.idle": "2020-11-24T16:24:35.340914Z",
     "shell.execute_reply": "2020-11-24T16:24:35.341342Z"
    },
    "id": "5-oedX40z6o2"
   },
   "outputs": [
    {
     "name": "stdout",
     "output_type": "stream",
     "text": [
      "severe storms forecast for nye in south east queensland\r\n",
      "snake catcher pleads for people not to kill reptiles\r\n",
      "south australia prepares for party to welcome new year\r\n",
      "strikers cool off the heat with big win in adelaide\r\n",
      "stunning images from the sydney to hobart yacht\r\n",
      "the ashes smiths warners near miss liven up boxing day test\r\n",
      "timelapse: brisbanes new year fireworks\r\n",
      "what 2017 meant to the kids of australia\r\n",
      "what the papodopoulos meeting may mean for ausus\r\n",
      "who is george papadopoulos the former trump campaign aide\r\n"
     ]
    }
   ],
   "source": [
    "!tail corpus/text.txt"
   ]
  },
  {
   "cell_type": "markdown",
   "metadata": {
    "id": "2AngMtH50jNb"
   },
   "source": [
    "## 2. Generate Embeddings for the Data.\n",
    "\n",
    "In this tutorial, we use the [Neural Network Language Model (NNLM)](https://tfhub.dev/google/tf2-preview/nnlm-en-dim128/1) to generate embeddings for the headline data. The sentence embeddings can then be easily used to compute sentence level meaning similarity. We run the embedding generation process using Apache Beam."
   ]
  },
  {
   "cell_type": "markdown",
   "metadata": {
    "id": "F_DvXnDB1pEX"
   },
   "source": [
    "### Embedding extraction method"
   ]
  },
  {
   "cell_type": "code",
   "execution_count": 8,
   "metadata": {
    "execution": {
     "iopub.execute_input": "2020-11-24T16:24:35.346529Z",
     "iopub.status.busy": "2020-11-24T16:24:35.345918Z",
     "iopub.status.idle": "2020-11-24T16:24:35.348005Z",
     "shell.execute_reply": "2020-11-24T16:24:35.348460Z"
    },
    "id": "yL7OEY1E0A35"
   },
   "outputs": [],
   "source": [
    "embed_fn = None\n",
    "\n",
    "def generate_embeddings(text, module_url, random_projection_matrix=None):\n",
    "  # Beam will run this function in different processes that need to\n",
    "  # import hub and load embed_fn (if not previously loaded)\n",
    "  global embed_fn\n",
    "  if embed_fn is None:\n",
    "    embed_fn = hub.load(module_url)\n",
    "  embedding = embed_fn(text).numpy()\n",
    "  if random_projection_matrix is not None:\n",
    "    embedding = embedding.dot(random_projection_matrix)\n",
    "  return text, embedding\n"
   ]
  },
  {
   "cell_type": "markdown",
   "metadata": {
    "id": "g6pXBVxsVUbm"
   },
   "source": [
    "### Convert to tf.Example method"
   ]
  },
  {
   "cell_type": "code",
   "execution_count": 9,
   "metadata": {
    "execution": {
     "iopub.execute_input": "2020-11-24T16:24:35.354291Z",
     "iopub.status.busy": "2020-11-24T16:24:35.353688Z",
     "iopub.status.idle": "2020-11-24T16:24:35.355469Z",
     "shell.execute_reply": "2020-11-24T16:24:35.355910Z"
    },
    "id": "JMjqjWZNVVzd"
   },
   "outputs": [],
   "source": [
    "def to_tf_example(entries):\n",
    "  examples = []\n",
    "\n",
    "  text_list, embedding_list = entries\n",
    "  for i in range(len(text_list)):\n",
    "    text = text_list[i]\n",
    "    embedding = embedding_list[i]\n",
    "\n",
    "    features = {\n",
    "        'text': tf.train.Feature(\n",
    "            bytes_list=tf.train.BytesList(value=[text.encode('utf-8')])),\n",
    "        'embedding': tf.train.Feature(\n",
    "            float_list=tf.train.FloatList(value=embedding.tolist()))\n",
    "    }\n",
    "  \n",
    "    example = tf.train.Example(\n",
    "        features=tf.train.Features(\n",
    "            feature=features)).SerializeToString(deterministic=True)\n",
    "  \n",
    "    examples.append(example)\n",
    "  \n",
    "  return examples"
   ]
  },
  {
   "cell_type": "markdown",
   "metadata": {
    "id": "gDiV4uQCVYGH"
   },
   "source": [
    "### Beam pipeline"
   ]
  },
  {
   "cell_type": "code",
   "execution_count": 10,
   "metadata": {
    "execution": {
     "iopub.execute_input": "2020-11-24T16:24:35.362422Z",
     "iopub.status.busy": "2020-11-24T16:24:35.361823Z",
     "iopub.status.idle": "2020-11-24T16:24:35.363503Z",
     "shell.execute_reply": "2020-11-24T16:24:35.363896Z"
    },
    "id": "jCGUIB172m2G"
   },
   "outputs": [],
   "source": [
    "def run_hub2emb(args):\n",
    "  '''Runs the embedding generation pipeline'''\n",
    "\n",
    "  options = beam.options.pipeline_options.PipelineOptions(**args)\n",
    "  args = namedtuple(\"options\", args.keys())(*args.values())\n",
    "\n",
    "  with beam.Pipeline(args.runner, options=options) as pipeline:\n",
    "    (\n",
    "        pipeline\n",
    "        | 'Read sentences from files' >> beam.io.ReadFromText(\n",
    "            file_pattern=args.data_dir)\n",
    "        | 'Batch elements' >> util.BatchElements(\n",
    "            min_batch_size=args.batch_size, max_batch_size=args.batch_size)\n",
    "        | 'Generate embeddings' >> beam.Map(\n",
    "            generate_embeddings, args.module_url, args.random_projection_matrix)\n",
    "        | 'Encode to tf example' >> beam.FlatMap(to_tf_example)\n",
    "        | 'Write to TFRecords files' >> beam.io.WriteToTFRecord(\n",
    "            file_path_prefix='{}/emb'.format(args.output_dir),\n",
    "            file_name_suffix='.tfrecords')\n",
    "    )"
   ]
  },
  {
   "cell_type": "markdown",
   "metadata": {
    "id": "nlbQdiYNVvne"
   },
   "source": [
    "### Generaring Random Projection Weight Matrix\n",
    "\n",
    "[Random projection](https://en.wikipedia.org/wiki/Random_projection) is a simple, yet powerfull technique used to reduce the dimensionality of a set of points which lie in Euclidean space. For a theoretical background, see the [Johnson-Lindenstrauss lemma](https://en.wikipedia.org/wiki/Johnson%E2%80%93Lindenstrauss_lemma).\n",
    "\n",
    "Reducing the dimensionality of the embeddings with random projection means less time needed to build and query the ANN index.\n",
    "\n",
    "In this tutorial we use [Gaussian Random Projection](https://en.wikipedia.org/wiki/Random_projection#Gaussian_random_projection) from the [Scikit-learn](https://scikit-learn.org/stable/modules/random_projection.html#gaussian-random-projection) library."
   ]
  },
  {
   "cell_type": "code",
   "execution_count": 11,
   "metadata": {
    "execution": {
     "iopub.execute_input": "2020-11-24T16:24:35.368257Z",
     "iopub.status.busy": "2020-11-24T16:24:35.367696Z",
     "iopub.status.idle": "2020-11-24T16:24:35.369845Z",
     "shell.execute_reply": "2020-11-24T16:24:35.369359Z"
    },
    "id": "1yw1xgtNVv52"
   },
   "outputs": [],
   "source": [
    "def generate_random_projection_weights(original_dim, projected_dim):\n",
    "  random_projection_matrix = None\n",
    "  random_projection_matrix = gaussian_random_matrix(\n",
    "      n_components=projected_dim, n_features=original_dim).T\n",
    "  print(\"A Gaussian random weight matrix was creates with shape of {}\".format(random_projection_matrix.shape))\n",
    "  print('Storing random projection matrix to disk...')\n",
    "  with open('random_projection_matrix', 'wb') as handle:\n",
    "    pickle.dump(random_projection_matrix, \n",
    "                handle, protocol=pickle.HIGHEST_PROTOCOL)\n",
    "        \n",
    "  return random_projection_matrix"
   ]
  },
  {
   "cell_type": "markdown",
   "metadata": {
    "id": "aJZUfT3NE7kj"
   },
   "source": [
    "### Set parameters\n",
    "If you want to build an index using the original embedding space without random projection, set the `projected_dim` parameter to `None`. Note that this will slow down the indexing step for high-dimensional embeddings."
   ]
  },
  {
   "cell_type": "code",
   "execution_count": 12,
   "metadata": {
    "cellView": "form",
    "execution": {
     "iopub.execute_input": "2020-11-24T16:24:35.373341Z",
     "iopub.status.busy": "2020-11-24T16:24:35.372732Z",
     "iopub.status.idle": "2020-11-24T16:24:35.374339Z",
     "shell.execute_reply": "2020-11-24T16:24:35.374701Z"
    },
    "id": "77-Cow7uE74T"
   },
   "outputs": [],
   "source": [
    "module_url = 'https://tfhub.dev/google/tf2-preview/nnlm-en-dim128/1' #@param {type:\"string\"}\n",
    "projected_dim = 64  #@param {type:\"number\"}"
   ]
  },
  {
   "cell_type": "markdown",
   "metadata": {
    "id": "On-MbzD922kb"
   },
   "source": [
    "### Run pipeline"
   ]
  },
  {
   "cell_type": "code",
   "execution_count": 13,
   "metadata": {
    "execution": {
     "iopub.execute_input": "2020-11-24T16:24:35.379436Z",
     "iopub.status.busy": "2020-11-24T16:24:35.378851Z",
     "iopub.status.idle": "2020-11-24T16:24:54.734320Z",
     "shell.execute_reply": "2020-11-24T16:24:54.734729Z"
    },
    "id": "Y3I1Wv4i21yY"
   },
   "outputs": [
    {
     "name": "stdout",
     "output_type": "stream",
     "text": [
      "A Gaussian random weight matrix was creates with shape of (128, 64)\n",
      "Storing random projection matrix to disk...\n",
      "Pipeline args are set.\n"
     ]
    },
    {
     "name": "stderr",
     "output_type": "stream",
     "text": [
      "/home/kbuilder/.local/lib/python3.6/site-packages/sklearn/utils/deprecation.py:86: FutureWarning: Function gaussian_random_matrix is deprecated; gaussian_random_matrix is deprecated in 0.22 and will be removed in version 0.24.\n",
      "  warnings.warn(msg, category=FutureWarning)\n"
     ]
    },
    {
     "data": {
      "text/plain": [
       "{'job_name': 'hub2emb-201124-162454',\n",
       " 'runner': 'DirectRunner',\n",
       " 'batch_size': 1024,\n",
       " 'data_dir': 'corpus/*.txt',\n",
       " 'output_dir': '/tmp/tmpjm_t466b',\n",
       " 'module_url': 'https://tfhub.dev/google/tf2-preview/nnlm-en-dim128/1',\n",
       " 'random_projection_matrix': array([[ 0.22789662,  0.11035077,  0.08351978, ...,  0.00784383,\n",
       "          0.11382629,  0.07317066],\n",
       "        [ 0.01988309, -0.01069248,  0.0518302 , ..., -0.00158533,\n",
       "          0.00402366,  0.12610231],\n",
       "        [ 0.22352459,  0.36003405, -0.10602243, ..., -0.02287957,\n",
       "         -0.08269225,  0.03961438],\n",
       "        ...,\n",
       "        [ 0.03261118,  0.14661469,  0.0352309 , ..., -0.30545455,\n",
       "         -0.03191095,  0.0909777 ],\n",
       "        [ 0.02105419, -0.08420617, -0.18584806, ...,  0.06421215,\n",
       "         -0.13662481,  0.03052961],\n",
       "        [ 0.04789901,  0.17088685,  0.15191414, ...,  0.10835608,\n",
       "         -0.04310116, -0.02741113]])}"
      ]
     },
     "execution_count": 1,
     "metadata": {},
     "output_type": "execute_result"
    }
   ],
   "source": [
    "import tempfile\n",
    "\n",
    "output_dir = tempfile.mkdtemp()\n",
    "original_dim = hub.load(module_url)(['']).shape[1]\n",
    "random_projection_matrix = None\n",
    "\n",
    "if projected_dim:\n",
    "  random_projection_matrix = generate_random_projection_weights(\n",
    "      original_dim, projected_dim)\n",
    "\n",
    "args = {\n",
    "    'job_name': 'hub2emb-{}'.format(datetime.utcnow().strftime('%y%m%d-%H%M%S')),\n",
    "    'runner': 'DirectRunner',\n",
    "    'batch_size': 1024,\n",
    "    'data_dir': 'corpus/*.txt',\n",
    "    'output_dir': output_dir,\n",
    "    'module_url': module_url,\n",
    "    'random_projection_matrix': random_projection_matrix,\n",
    "}\n",
    "\n",
    "print(\"Pipeline args are set.\")\n",
    "args"
   ]
  },
  {
   "cell_type": "code",
   "execution_count": 14,
   "metadata": {
    "execution": {
     "iopub.execute_input": "2020-11-24T16:24:54.740300Z",
     "iopub.status.busy": "2020-11-24T16:24:54.739092Z",
     "iopub.status.idle": "2020-11-24T16:27:10.253952Z",
     "shell.execute_reply": "2020-11-24T16:27:10.253295Z"
    },
    "id": "iS9obmeP4ZOA"
   },
   "outputs": [
    {
     "name": "stderr",
     "output_type": "stream",
     "text": [
      "WARNING:apache_beam.runners.interactive.interactive_environment:Dependencies required for Interactive Beam PCollection visualization are not available, please use: `pip install apache-beam[interactive]` to install necessary dependencies to enable all data visualization features.\n"
     ]
    },
    {
     "name": "stdout",
     "output_type": "stream",
     "text": [
      "Running pipeline...\n"
     ]
    },
    {
     "data": {
      "application/javascript": [
       "\n",
       "        if (typeof window.interactive_beam_jquery == 'undefined') {\n",
       "          var jqueryScript = document.createElement('script');\n",
       "          jqueryScript.src = 'https://code.jquery.com/jquery-3.4.1.slim.min.js';\n",
       "          jqueryScript.type = 'text/javascript';\n",
       "          jqueryScript.onload = function() {\n",
       "            var datatableScript = document.createElement('script');\n",
       "            datatableScript.src = 'https://cdn.datatables.net/1.10.20/js/jquery.dataTables.min.js';\n",
       "            datatableScript.type = 'text/javascript';\n",
       "            datatableScript.onload = function() {\n",
       "              window.interactive_beam_jquery = jQuery.noConflict(true);\n",
       "              window.interactive_beam_jquery(document).ready(function($){\n",
       "                \n",
       "              });\n",
       "            }\n",
       "            document.head.appendChild(datatableScript);\n",
       "          };\n",
       "          document.head.appendChild(jqueryScript);\n",
       "        } else {\n",
       "          window.interactive_beam_jquery(document).ready(function($){\n",
       "            \n",
       "          });\n",
       "        }"
      ]
     },
     "metadata": {},
     "output_type": "display_data"
    },
    {
     "data": {
      "application/javascript": [
       "\n",
       "        var import_html = () => {\n",
       "          ['https://raw.githubusercontent.com/PAIR-code/facets/1.0.0/facets-dist/facets-jupyter.html'].forEach(href => {\n",
       "            var link = document.createElement('link');\n",
       "            link.rel = 'import'\n",
       "            link.href = href;\n",
       "            document.head.appendChild(link);\n",
       "          });\n",
       "        }\n",
       "        if ('import' in document.createElement('link')) {\n",
       "          import_html();\n",
       "        } else {\n",
       "          var webcomponentScript = document.createElement('script');\n",
       "          webcomponentScript.src = 'https://cdnjs.cloudflare.com/ajax/libs/webcomponentsjs/1.3.3/webcomponents-lite.js';\n",
       "          webcomponentScript.type = 'text/javascript';\n",
       "          webcomponentScript.onload = function(){\n",
       "            import_html();\n",
       "          };\n",
       "          document.head.appendChild(webcomponentScript);\n",
       "        }"
      ]
     },
     "metadata": {},
     "output_type": "display_data"
    },
    {
     "name": "stdout",
     "output_type": "stream",
     "text": [
      "WARNING:tensorflow:5 out of the last 5 calls to <function recreate_function.<locals>.restored_function_body at 0x7ff71c5372f0> triggered tf.function retracing. Tracing is expensive and the excessive number of tracings could be due to (1) creating @tf.function repeatedly in a loop, (2) passing tensors with different shapes, (3) passing Python objects instead of tensors. For (1), please define your @tf.function outside of the loop. For (2), @tf.function has experimental_relax_shapes=True option that relaxes argument shapes that can avoid unnecessary retracing. For (3), please refer to https://www.tensorflow.org/tutorials/customization/performance#python_or_tensor_args and https://www.tensorflow.org/api_docs/python/tf/function for  more details.\n"
     ]
    },
    {
     "name": "stderr",
     "output_type": "stream",
     "text": [
      "WARNING:tensorflow:5 out of the last 5 calls to <function recreate_function.<locals>.restored_function_body at 0x7ff71c5372f0> triggered tf.function retracing. Tracing is expensive and the excessive number of tracings could be due to (1) creating @tf.function repeatedly in a loop, (2) passing tensors with different shapes, (3) passing Python objects instead of tensors. For (1), please define your @tf.function outside of the loop. For (2), @tf.function has experimental_relax_shapes=True option that relaxes argument shapes that can avoid unnecessary retracing. For (3), please refer to https://www.tensorflow.org/tutorials/customization/performance#python_or_tensor_args and https://www.tensorflow.org/api_docs/python/tf/function for  more details.\n"
     ]
    },
    {
     "name": "stdout",
     "output_type": "stream",
     "text": [
      "WARNING:tensorflow:6 out of the last 6 calls to <function recreate_function.<locals>.restored_function_body at 0x7ff71c5368c8> triggered tf.function retracing. Tracing is expensive and the excessive number of tracings could be due to (1) creating @tf.function repeatedly in a loop, (2) passing tensors with different shapes, (3) passing Python objects instead of tensors. For (1), please define your @tf.function outside of the loop. For (2), @tf.function has experimental_relax_shapes=True option that relaxes argument shapes that can avoid unnecessary retracing. For (3), please refer to https://www.tensorflow.org/tutorials/customization/performance#python_or_tensor_args and https://www.tensorflow.org/api_docs/python/tf/function for  more details.\n"
     ]
    },
    {
     "name": "stderr",
     "output_type": "stream",
     "text": [
      "WARNING:tensorflow:6 out of the last 6 calls to <function recreate_function.<locals>.restored_function_body at 0x7ff71c5368c8> triggered tf.function retracing. Tracing is expensive and the excessive number of tracings could be due to (1) creating @tf.function repeatedly in a loop, (2) passing tensors with different shapes, (3) passing Python objects instead of tensors. For (1), please define your @tf.function outside of the loop. For (2), @tf.function has experimental_relax_shapes=True option that relaxes argument shapes that can avoid unnecessary retracing. For (3), please refer to https://www.tensorflow.org/tutorials/customization/performance#python_or_tensor_args and https://www.tensorflow.org/api_docs/python/tf/function for  more details.\n"
     ]
    },
    {
     "name": "stdout",
     "output_type": "stream",
     "text": [
      "WARNING:tensorflow:7 out of the last 7 calls to <function recreate_function.<locals>.restored_function_body at 0x7ff71c5e3e18> triggered tf.function retracing. Tracing is expensive and the excessive number of tracings could be due to (1) creating @tf.function repeatedly in a loop, (2) passing tensors with different shapes, (3) passing Python objects instead of tensors. For (1), please define your @tf.function outside of the loop. For (2), @tf.function has experimental_relax_shapes=True option that relaxes argument shapes that can avoid unnecessary retracing. For (3), please refer to https://www.tensorflow.org/tutorials/customization/performance#python_or_tensor_args and https://www.tensorflow.org/api_docs/python/tf/function for  more details.\n"
     ]
    },
    {
     "name": "stderr",
     "output_type": "stream",
     "text": [
      "WARNING:tensorflow:7 out of the last 7 calls to <function recreate_function.<locals>.restored_function_body at 0x7ff71c5e3e18> triggered tf.function retracing. Tracing is expensive and the excessive number of tracings could be due to (1) creating @tf.function repeatedly in a loop, (2) passing tensors with different shapes, (3) passing Python objects instead of tensors. For (1), please define your @tf.function outside of the loop. For (2), @tf.function has experimental_relax_shapes=True option that relaxes argument shapes that can avoid unnecessary retracing. For (3), please refer to https://www.tensorflow.org/tutorials/customization/performance#python_or_tensor_args and https://www.tensorflow.org/api_docs/python/tf/function for  more details.\n",
      "WARNING:apache_beam.io.tfrecordio:Couldn't find python-snappy so the implementation of _TFRecordUtil._masked_crc32c is not as fast as it could be.\n"
     ]
    },
    {
     "name": "stdout",
     "output_type": "stream",
     "text": [
      "CPU times: user 8min 27s, sys: 9min 17s, total: 17min 44s\n",
      "Wall time: 2min 15s\n",
      "Pipeline is done.\n"
     ]
    }
   ],
   "source": [
    "print(\"Running pipeline...\")\n",
    "%time run_hub2emb(args)\n",
    "print(\"Pipeline is done.\")"
   ]
  },
  {
   "cell_type": "code",
   "execution_count": 15,
   "metadata": {
    "execution": {
     "iopub.execute_input": "2020-11-24T16:27:10.264875Z",
     "iopub.status.busy": "2020-11-24T16:27:10.262209Z",
     "iopub.status.idle": "2020-11-24T16:27:10.406308Z",
     "shell.execute_reply": "2020-11-24T16:27:10.406690Z"
    },
    "id": "JAwOo7gQWvVd"
   },
   "outputs": [
    {
     "name": "stdout",
     "output_type": "stream",
     "text": [
      "emb-00000-of-00001.tfrecords\r\n"
     ]
    }
   ],
   "source": [
    "!ls {output_dir}"
   ]
  },
  {
   "cell_type": "markdown",
   "metadata": {
    "id": "HVnee4e6U90u"
   },
   "source": [
    "Read some of the generated embeddings..."
   ]
  },
  {
   "cell_type": "code",
   "execution_count": 16,
   "metadata": {
    "execution": {
     "iopub.execute_input": "2020-11-24T16:27:10.418313Z",
     "iopub.status.busy": "2020-11-24T16:27:10.415311Z",
     "iopub.status.idle": "2020-11-24T16:27:10.481696Z",
     "shell.execute_reply": "2020-11-24T16:27:10.481135Z"
    },
    "id": "-K7pGXlXOj1N"
   },
   "outputs": [
    {
     "name": "stdout",
     "output_type": "stream",
     "text": [
      "headline_text: [ 0.05699403  0.16122626  0.10403314 -0.00503004 -0.07774524 -0.08289436\n",
      "  0.04847389  0.06221846  0.09546927  0.06778202]\n",
      "aba decides against community broadcasting licence: [ 0.12889281  0.08590563 -0.01191965  0.12456755  0.03807311  0.08922131\n",
      "  0.267317    0.10227811  0.05754112  0.03508431]\n",
      "act fire witnesses must be aware of defamation: [ 0.19545597  0.09167597 -0.13128619  0.10095975 -0.23112808  0.17315505\n",
      "  0.46718934  0.07920922 -0.1742441  -0.23662421]\n",
      "a g calls for infrastructure protection summit: [-0.05086504  0.09464151  0.00327383  0.1829138  -0.0972508   0.09910727\n",
      "  0.21269171 -0.09665284  0.12373687 -0.28359678]\n",
      "air nz staff in aust strike for pay rise: [ 0.06209629  0.0234422  -0.21298611  0.02767533 -0.15344857 -0.21146041\n",
      "  0.00520026  0.25563613  0.071489   -0.23418127]\n"
     ]
    }
   ],
   "source": [
    "embed_file = os.path.join(output_dir, 'emb-00000-of-00001.tfrecords')\n",
    "sample = 5\n",
    "\n",
    "# Create a description of the features.\n",
    "feature_description = {\n",
    "    'text': tf.io.FixedLenFeature([], tf.string),\n",
    "    'embedding': tf.io.FixedLenFeature([projected_dim], tf.float32)\n",
    "}\n",
    "\n",
    "def _parse_example(example):\n",
    "  # Parse the input `tf.Example` proto using the dictionary above.\n",
    "  return tf.io.parse_single_example(example, feature_description)\n",
    "\n",
    "dataset = tf.data.TFRecordDataset(embed_file)\n",
    "for record in dataset.take(sample).map(_parse_example):\n",
    "  print(\"{}: {}\".format(record['text'].numpy().decode('utf-8'), record['embedding'].numpy()[:10]))"
   ]
  },
  {
   "cell_type": "markdown",
   "metadata": {
    "id": "agGoaMSgY8wN"
   },
   "source": [
    "## 3. Build the ANN Index for the Embeddings\n",
    "\n",
    "[ANNOY](https://github.com/spotify/annoy) (Approximate Nearest Neighbors Oh Yeah) is a C++ library with Python bindings to search for points in space that are close to a given query point. It also creates large read-only file-based data structures that are mmapped into memory. It is built and used by [Spotify](https://www.spotify.com) for music recommendations."
   ]
  },
  {
   "cell_type": "code",
   "execution_count": 17,
   "metadata": {
    "execution": {
     "iopub.execute_input": "2020-11-24T16:27:10.491988Z",
     "iopub.status.busy": "2020-11-24T16:27:10.490977Z",
     "iopub.status.idle": "2020-11-24T16:27:10.493728Z",
     "shell.execute_reply": "2020-11-24T16:27:10.493144Z"
    },
    "id": "UcPDspU3WjgH"
   },
   "outputs": [],
   "source": [
    "def build_index(embedding_files_pattern, index_filename, vector_length, \n",
    "    metric='angular', num_trees=100):\n",
    "  '''Builds an ANNOY index'''\n",
    "\n",
    "  annoy_index = annoy.AnnoyIndex(vector_length, metric=metric)\n",
    "  # Mapping between the item and its identifier in the index\n",
    "  mapping = {}\n",
    "\n",
    "  embed_files = tf.io.gfile.glob(embedding_files_pattern)\n",
    "  num_files = len(embed_files)\n",
    "  print('Found {} embedding file(s).'.format(num_files))\n",
    "\n",
    "  item_counter = 0\n",
    "  for i, embed_file in enumerate(embed_files):\n",
    "    print('Loading embeddings in file {} of {}...'.format(i+1, num_files))\n",
    "    dataset = tf.data.TFRecordDataset(embed_file)\n",
    "    for record in dataset.map(_parse_example):\n",
    "      text = record['text'].numpy().decode(\"utf-8\")\n",
    "      embedding = record['embedding'].numpy()\n",
    "      mapping[item_counter] = text\n",
    "      annoy_index.add_item(item_counter, embedding)\n",
    "      item_counter += 1\n",
    "      if item_counter % 100000 == 0:\n",
    "        print('{} items loaded to the index'.format(item_counter))\n",
    "\n",
    "  print('A total of {} items added to the index'.format(item_counter))\n",
    "\n",
    "  print('Building the index with {} trees...'.format(num_trees))\n",
    "  annoy_index.build(n_trees=num_trees)\n",
    "  print('Index is successfully built.')\n",
    "  \n",
    "  print('Saving index to disk...')\n",
    "  annoy_index.save(index_filename)\n",
    "  print('Index is saved to disk.')\n",
    "  print(\"Index file size: {} GB\".format(\n",
    "    round(os.path.getsize(index_filename) / float(1024 ** 3), 2)))\n",
    "  annoy_index.unload()\n",
    "\n",
    "  print('Saving mapping to disk...')\n",
    "  with open(index_filename + '.mapping', 'wb') as handle:\n",
    "    pickle.dump(mapping, handle, protocol=pickle.HIGHEST_PROTOCOL)\n",
    "  print('Mapping is saved to disk.')\n",
    "  print(\"Mapping file size: {} MB\".format(\n",
    "    round(os.path.getsize(index_filename + '.mapping') / float(1024 ** 2), 2)))"
   ]
  },
  {
   "cell_type": "code",
   "execution_count": 18,
   "metadata": {
    "execution": {
     "iopub.execute_input": "2020-11-24T16:27:10.513681Z",
     "iopub.status.busy": "2020-11-24T16:27:10.512964Z",
     "iopub.status.idle": "2020-11-24T16:32:04.735612Z",
     "shell.execute_reply": "2020-11-24T16:32:04.735999Z"
    },
    "id": "AgyOQhUq6FNE"
   },
   "outputs": [
    {
     "name": "stdout",
     "output_type": "stream",
     "text": [
      "rm: cannot remove 'index': No such file or directory\n",
      "rm: cannot remove 'index.mapping': No such file or directory\n",
      "Found 1 embedding file(s).\n",
      "Loading embeddings in file 1 of 1...\n",
      "100000 items loaded to the index\n",
      "200000 items loaded to the index\n",
      "300000 items loaded to the index\n",
      "400000 items loaded to the index\n",
      "500000 items loaded to the index\n",
      "600000 items loaded to the index\n",
      "700000 items loaded to the index\n",
      "800000 items loaded to the index\n",
      "900000 items loaded to the index\n",
      "1000000 items loaded to the index\n",
      "1100000 items loaded to the index\n",
      "A total of 1103664 items added to the index\n",
      "Building the index with 100 trees...\n",
      "Index is successfully built.\n",
      "Saving index to disk...\n",
      "Index is saved to disk.\n",
      "Index file size: 1.6 GB\n",
      "Saving mapping to disk...\n",
      "Mapping is saved to disk.\n",
      "Mapping file size: 50.61 MB\n",
      "CPU times: user 9min 28s, sys: 50.8 s, total: 10min 19s\n",
      "Wall time: 4min 53s\n"
     ]
    }
   ],
   "source": [
    "embedding_files = \"{}/emb-*.tfrecords\".format(output_dir)\n",
    "embedding_dimension = projected_dim\n",
    "index_filename = \"index\"\n",
    "\n",
    "!rm {index_filename}\n",
    "!rm {index_filename}.mapping\n",
    "\n",
    "%time build_index(embedding_files, index_filename, embedding_dimension)"
   ]
  },
  {
   "cell_type": "code",
   "execution_count": 19,
   "metadata": {
    "execution": {
     "iopub.execute_input": "2020-11-24T16:32:04.741027Z",
     "iopub.status.busy": "2020-11-24T16:32:04.740354Z",
     "iopub.status.idle": "2020-11-24T16:32:04.884281Z",
     "shell.execute_reply": "2020-11-24T16:32:04.884670Z"
    },
    "id": "Ic31Tm5cgAd5"
   },
   "outputs": [
    {
     "name": "stdout",
     "output_type": "stream",
     "text": [
      "corpus\t       random_projection_matrix\r\n",
      "index\t       raw.tsv\r\n",
      "index.mapping  tf2_semantic_approximate_nearest_neighbors.ipynb\r\n"
     ]
    }
   ],
   "source": [
    "!ls"
   ]
  },
  {
   "cell_type": "markdown",
   "metadata": {
    "id": "maGxDl8ufP-p"
   },
   "source": [
    "## 4. Use the Index for Similarity Matching\n",
    "Now we can use the ANN index to find news headlines that are semantically close to an input query."
   ]
  },
  {
   "cell_type": "markdown",
   "metadata": {
    "id": "_dIs8W78fYPp"
   },
   "source": [
    "### Load the index and the mapping files"
   ]
  },
  {
   "cell_type": "code",
   "execution_count": 20,
   "metadata": {
    "execution": {
     "iopub.execute_input": "2020-11-24T16:32:04.955121Z",
     "iopub.status.busy": "2020-11-24T16:32:04.954408Z",
     "iopub.status.idle": "2020-11-24T16:32:05.229602Z",
     "shell.execute_reply": "2020-11-24T16:32:05.229087Z"
    },
    "id": "jlTTrbQHayvb"
   },
   "outputs": [
    {
     "name": "stdout",
     "output_type": "stream",
     "text": [
      "Annoy index is loaded.\n"
     ]
    },
    {
     "name": "stderr",
     "output_type": "stream",
     "text": [
      "/tmpfs/src/tf_docs_env/lib/python3.6/site-packages/ipykernel_launcher.py:1: FutureWarning: The default argument for metric will be removed in future version of Annoy. Please pass metric='angular' explicitly.\n",
      "  \"\"\"Entry point for launching an IPython kernel.\n"
     ]
    },
    {
     "name": "stdout",
     "output_type": "stream",
     "text": [
      "Mapping file is loaded.\n"
     ]
    }
   ],
   "source": [
    "index = annoy.AnnoyIndex(embedding_dimension)\n",
    "index.load(index_filename, prefault=True)\n",
    "\n",
    "print('Annoy index is loaded.')\n",
    "\n",
    "with open(index_filename + '.mapping', 'rb') as handle:\n",
    "  mapping = pickle.load(handle)\n",
    "\n",
    "print('Mapping file is loaded.')"
   ]
  },
  {
   "cell_type": "markdown",
   "metadata": {
    "id": "y6liFMSUh08J"
   },
   "source": [
    "### Similarity matching method"
   ]
  },
  {
   "cell_type": "code",
   "execution_count": 21,
   "metadata": {
    "execution": {
     "iopub.execute_input": "2020-11-24T16:32:05.234654Z",
     "iopub.status.busy": "2020-11-24T16:32:05.234050Z",
     "iopub.status.idle": "2020-11-24T16:32:05.235991Z",
     "shell.execute_reply": "2020-11-24T16:32:05.236378Z"
    },
    "id": "mUxjTag8hc16"
   },
   "outputs": [],
   "source": [
    "def find_similar_items(embedding, num_matches=5):\n",
    "  '''Finds similar items to a given embedding in the ANN index'''\n",
    "  ids = index.get_nns_by_vector(\n",
    "  embedding, num_matches, search_k=-1, include_distances=False)\n",
    "  items = [mapping[i] for i in ids]\n",
    "  return items"
   ]
  },
  {
   "cell_type": "markdown",
   "metadata": {
    "id": "hjerNpmZja0A"
   },
   "source": [
    "### Extract embedding from a given query"
   ]
  },
  {
   "cell_type": "code",
   "execution_count": 22,
   "metadata": {
    "execution": {
     "iopub.execute_input": "2020-11-24T16:32:05.244329Z",
     "iopub.status.busy": "2020-11-24T16:32:05.243727Z",
     "iopub.status.idle": "2020-11-24T16:32:06.634690Z",
     "shell.execute_reply": "2020-11-24T16:32:06.634067Z"
    },
    "id": "a0IIXzfBjZ19"
   },
   "outputs": [
    {
     "name": "stdout",
     "output_type": "stream",
     "text": [
      "Loading the TF-Hub module...\n",
      "CPU times: user 771 ms, sys: 623 ms, total: 1.39 s\n",
      "Wall time: 1.39 s\n",
      "TF-Hub module is loaded.\n",
      "Loading random projection matrix...\n",
      "random projection matrix is loaded.\n"
     ]
    }
   ],
   "source": [
    "# Load the TF-Hub module\n",
    "print(\"Loading the TF-Hub module...\")\n",
    "%time embed_fn = hub.load(module_url)\n",
    "print(\"TF-Hub module is loaded.\")\n",
    "\n",
    "random_projection_matrix = None\n",
    "if os.path.exists('random_projection_matrix'):\n",
    "  print(\"Loading random projection matrix...\")\n",
    "  with open('random_projection_matrix', 'rb') as handle:\n",
    "    random_projection_matrix = pickle.load(handle)\n",
    "  print('random projection matrix is loaded.')\n",
    "\n",
    "def extract_embeddings(query):\n",
    "  '''Generates the embedding for the query'''\n",
    "  query_embedding =  embed_fn([query])[0].numpy()\n",
    "  if random_projection_matrix is not None:\n",
    "    query_embedding = query_embedding.dot(random_projection_matrix)\n",
    "  return query_embedding"
   ]
  },
  {
   "cell_type": "code",
   "execution_count": 23,
   "metadata": {
    "execution": {
     "iopub.execute_input": "2020-11-24T16:32:06.639535Z",
     "iopub.status.busy": "2020-11-24T16:32:06.638474Z",
     "iopub.status.idle": "2020-11-24T16:32:06.667476Z",
     "shell.execute_reply": "2020-11-24T16:32:06.666985Z"
    },
    "id": "kCoCNROujEIO"
   },
   "outputs": [
    {
     "name": "stdout",
     "output_type": "stream",
     "text": [
      "WARNING:tensorflow:5 out of the last 1082 calls to <function recreate_function.<locals>.restored_function_body at 0x7ff71c5031e0> triggered tf.function retracing. Tracing is expensive and the excessive number of tracings could be due to (1) creating @tf.function repeatedly in a loop, (2) passing tensors with different shapes, (3) passing Python objects instead of tensors. For (1), please define your @tf.function outside of the loop. For (2), @tf.function has experimental_relax_shapes=True option that relaxes argument shapes that can avoid unnecessary retracing. For (3), please refer to https://www.tensorflow.org/tutorials/customization/performance#python_or_tensor_args and https://www.tensorflow.org/api_docs/python/tf/function for  more details.\n"
     ]
    },
    {
     "name": "stderr",
     "output_type": "stream",
     "text": [
      "WARNING:tensorflow:5 out of the last 1082 calls to <function recreate_function.<locals>.restored_function_body at 0x7ff71c5031e0> triggered tf.function retracing. Tracing is expensive and the excessive number of tracings could be due to (1) creating @tf.function repeatedly in a loop, (2) passing tensors with different shapes, (3) passing Python objects instead of tensors. For (1), please define your @tf.function outside of the loop. For (2), @tf.function has experimental_relax_shapes=True option that relaxes argument shapes that can avoid unnecessary retracing. For (3), please refer to https://www.tensorflow.org/tutorials/customization/performance#python_or_tensor_args and https://www.tensorflow.org/api_docs/python/tf/function for  more details.\n"
     ]
    },
    {
     "data": {
      "text/plain": [
       "array([-0.13986399, -0.08871412,  0.12980585,  0.09151202,  0.27216434,\n",
       "        0.09421051, -0.11775428,  0.03179066, -0.14211659,  0.18780924])"
      ]
     },
     "execution_count": 1,
     "metadata": {},
     "output_type": "execute_result"
    }
   ],
   "source": [
    "extract_embeddings(\"Hello Machine Learning!\")[:10]"
   ]
  },
  {
   "cell_type": "markdown",
   "metadata": {
    "id": "koINo8Du--8C"
   },
   "source": [
    "### Enter a query to find the most similar items"
   ]
  },
  {
   "cell_type": "code",
   "execution_count": 24,
   "metadata": {
    "cellView": "form",
    "execution": {
     "iopub.execute_input": "2020-11-24T16:32:06.674670Z",
     "iopub.status.busy": "2020-11-24T16:32:06.674067Z",
     "iopub.status.idle": "2020-11-24T16:32:06.681902Z",
     "shell.execute_reply": "2020-11-24T16:32:06.681425Z"
    },
    "id": "wC0uLjvfk5nB"
   },
   "outputs": [
    {
     "name": "stdout",
     "output_type": "stream",
     "text": [
      "Generating embedding for the query...\n",
      "CPU times: user 2.11 ms, sys: 2.97 ms, total: 5.08 ms\n",
      "Wall time: 2.8 ms\n",
      "\n",
      "Finding relevant items in the index...\n",
      "CPU times: user 523 µs, sys: 298 µs, total: 821 µs\n",
      "Wall time: 543 µs\n",
      "\n",
      "Results:\n",
      "=========\n",
      "confronting global challenges\n",
      "advertising faces modern challenges\n",
      "conference examines challenges facing major cities\n",
      "industry challenges\n",
      "environment report identifies challenges\n",
      "pacific island nations facing business challenges\n",
      "moodys warns australian banks face rising challenges\n",
      "meeting considers future skills shortages\n",
      "seminar places indigenous issues under spotlight\n",
      "economic development forum hears of regional opportunities\n"
     ]
    }
   ],
   "source": [
    "#@title { run: \"auto\" }\n",
    "query = \"confronting global challenges\" #@param {type:\"string\"}\n",
    "\n",
    "print(\"Generating embedding for the query...\")\n",
    "%time query_embedding = extract_embeddings(query)\n",
    "\n",
    "print(\"\")\n",
    "print(\"Finding relevant items in the index...\")\n",
    "%time items = find_similar_items(query_embedding, 10)\n",
    "\n",
    "print(\"\")\n",
    "print(\"Results:\")\n",
    "print(\"=========\")\n",
    "\n",
    "for item in items:\n",
    "  print(item)"
   ]
  },
  {
   "cell_type": "markdown",
   "metadata": {
    "id": "TkRSqs77tDuX"
   },
   "source": [
    "## Want to learn more?\n",
    "\n",
    "You can learn more about TensorFlow at [tensorflow.org](https://www.tensorflow.org/) and see the TF-Hub API documentation at [tensorflow.org/hub](https://www.tensorflow.org/hub/). Find available TensorFlow Hub modules at [tfhub.dev](https://tfhub.dev/) including more text embedding modules and image feature vector modules.\n",
    "\n",
    "Also check out the [Machine Learning Crash Course](https://developers.google.com/machine-learning/crash-course/) which is Google's fast-paced, practical introduction to machine learning."
   ]
  },
  {
   "cell_type": "code",
   "execution_count": null,
   "metadata": {},
   "outputs": [],
   "source": []
  }
 ],
 "metadata": {
  "colab": {
   "collapsed_sections": [
    "ACbjNjyO4f_8",
    "g6pXBVxsVUbm"
   ],
   "name": "Semantic Search with Approximate Nearest Neighbors and Text Embeddings from TF-Hub",
   "private_outputs": true,
   "provenance": [],
   "toc_visible": true
  },
  "kernelspec": {
   "display_name": "Python 3",
   "language": "python",
   "name": "python3"
  },
  "language_info": {
   "codemirror_mode": {
    "name": "ipython",
    "version": 3
   },
   "file_extension": ".py",
   "mimetype": "text/x-python",
   "name": "python",
   "nbconvert_exporter": "python",
   "pygments_lexer": "ipython3",
   "version": "3.7.9"
  }
 },
 "nbformat": 4,
 "nbformat_minor": 1
}
