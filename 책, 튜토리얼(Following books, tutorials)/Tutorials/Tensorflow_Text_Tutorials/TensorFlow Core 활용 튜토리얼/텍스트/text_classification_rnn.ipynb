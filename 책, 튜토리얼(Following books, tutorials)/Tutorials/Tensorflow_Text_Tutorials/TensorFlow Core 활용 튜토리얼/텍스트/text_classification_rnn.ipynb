{
  "nbformat": 4,
  "nbformat_minor": 0,
  "metadata": {
    "accelerator": "GPU",
    "colab": {
      "name": "text_classification_rnn.ipynb",
      "provenance": [],
      "collapsed_sections": [],
      "toc_visible": true
    },
    "kernelspec": {
      "display_name": "Python 3",
      "name": "python3"
    }
  },
  "cells": [
    {
      "cell_type": "markdown",
      "metadata": {
        "id": "hX4n9TsbGw-f"
      },
      "source": [
        "##### Copyright 2018 The TensorFlow Authors."
      ]
    },
    {
      "cell_type": "code",
      "metadata": {
        "cellView": "form",
        "id": "0nbI5DtDGw-i"
      },
      "source": [
        "#@title Licensed under the Apache License, Version 2.0 (the \"License\");\n",
        "# you may not use this file except in compliance with the License.\n",
        "# You may obtain a copy of the License at\n",
        "#\n",
        "# https://www.apache.org/licenses/LICENSE-2.0\n",
        "#\n",
        "# Unless required by applicable law or agreed to in writing, software\n",
        "# distributed under the License is distributed on an \"AS IS\" BASIS,\n",
        "# WITHOUT WARRANTIES OR CONDITIONS OF ANY KIND, either express or implied.\n",
        "# See the License for the specific language governing permissions and\n",
        "# limitations under the License."
      ],
      "execution_count": 1,
      "outputs": []
    },
    {
      "cell_type": "markdown",
      "metadata": {
        "id": "9TnJztDZGw-n"
      },
      "source": [
        "# Text classification with an RNN"
      ]
    },
    {
      "cell_type": "markdown",
      "metadata": {
        "id": "AfN3bMR5Gw-o"
      },
      "source": [
        "<table class=\"tfo-notebook-buttons\" align=\"left\">\n",
        "  <td>\n",
        "    <a target=\"_blank\" href=\"https://www.tensorflow.org/tutorials/text/text_classification_rnn\"><img src=\"https://www.tensorflow.org/images/tf_logo_32px.png\" />View on TensorFlow.org</a>\n",
        "  </td>\n",
        "  <td>\n",
        "    <a target=\"_blank\" href=\"https://colab.research.google.com/github/tensorflow/docs/blob/master/site/en/tutorials/text/text_classification_rnn.ipynb\"><img src=\"https://www.tensorflow.org/images/colab_logo_32px.png\" />Run in Google Colab</a>\n",
        "  </td>\n",
        "  <td>\n",
        "    <a target=\"_blank\" href=\"https://github.com/tensorflow/docs/blob/master/site/en/tutorials/text/text_classification_rnn.ipynb\"><img src=\"https://www.tensorflow.org/images/GitHub-Mark-32px.png\" />View source on GitHub</a>\n",
        "  </td>\n",
        "  <td>\n",
        "    <a href=\"https://storage.googleapis.com/tensorflow_docs/docs/site/en/tutorials/text/text_classification_rnn.ipynb\"><img src=\"https://www.tensorflow.org/images/download_logo_32px.png\" />Download notebook</a>\n",
        "  </td>\n",
        "</table>"
      ]
    },
    {
      "cell_type": "markdown",
      "metadata": {
        "id": "lUWearf0Gw-p"
      },
      "source": [
        "This text classification tutorial trains a [recurrent neural network](https://developers.google.com/machine-learning/glossary/#recurrent_neural_network) on the [IMDB large movie review dataset](http://ai.stanford.edu/~amaas/data/sentiment/) for sentiment analysis."
      ]
    },
    {
      "cell_type": "markdown",
      "metadata": {
        "id": "_2VQo4bajwUU"
      },
      "source": [
        "## Setup"
      ]
    },
    {
      "cell_type": "code",
      "metadata": {
        "id": "vH_FAfIz5dEw"
      },
      "source": [
        "!pip install -q tensorflow_datasets"
      ],
      "execution_count": 2,
      "outputs": []
    },
    {
      "cell_type": "code",
      "metadata": {
        "id": "z682XYsrjkY9"
      },
      "source": [
        "import numpy as np\n",
        "\n",
        "import tensorflow_datasets as tfds\n",
        "import tensorflow as tf\n",
        "\n",
        "tfds.disable_progress_bar()"
      ],
      "execution_count": 3,
      "outputs": []
    },
    {
      "cell_type": "markdown",
      "metadata": {
        "id": "1rXHa-w9JZhb"
      },
      "source": [
        "Import `matplotlib` and create a helper function to plot graphs:"
      ]
    },
    {
      "cell_type": "code",
      "metadata": {
        "id": "Mp1Z7P9pYRSK"
      },
      "source": [
        "import matplotlib.pyplot as plt\n",
        "\n",
        "def plot_graphs(history, metric):\n",
        "  plt.plot(history.history[metric])\n",
        "  plt.plot(history.history['val_'+metric], '')\n",
        "  plt.xlabel(\"Epochs\")\n",
        "  plt.ylabel(metric)\n",
        "  plt.legend([metric, 'val_'+metric])"
      ],
      "execution_count": 4,
      "outputs": []
    },
    {
      "cell_type": "markdown",
      "metadata": {
        "id": "pRmMubr0jrE2"
      },
      "source": [
        "## Setup input pipeline\n",
        "\n",
        "\n",
        "The IMDB large movie review dataset is a *binary classification* dataset—all the reviews have either a *positive* or *negative* sentiment.\n",
        "\n",
        "Download the dataset using [TFDS](https://www.tensorflow.org/datasets). See the [loading text tutorial](../load_data/text.ipynb) for details on how to load this sort of data manually.\n"
      ]
    },
    {
      "cell_type": "code",
      "metadata": {
        "id": "SHRwRoP2nVHX",
        "colab": {
          "base_uri": "https://localhost:8080/"
        },
        "outputId": "eabc6888-b92b-4454-cc7e-601834f83047"
      },
      "source": [
        "dataset, info = tfds.load('imdb_reviews', with_info=True,\n",
        "                          as_supervised=True)\n",
        "train_dataset, test_dataset = dataset['train'], dataset['test']\n",
        "\n",
        "train_dataset.element_spec"
      ],
      "execution_count": 5,
      "outputs": [
        {
          "output_type": "stream",
          "text": [
            "\u001b[1mDownloading and preparing dataset imdb_reviews/plain_text/1.0.0 (download: 80.23 MiB, generated: Unknown size, total: 80.23 MiB) to /root/tensorflow_datasets/imdb_reviews/plain_text/1.0.0...\u001b[0m\n",
            "Shuffling and writing examples to /root/tensorflow_datasets/imdb_reviews/plain_text/1.0.0.incompleteMHRO27/imdb_reviews-train.tfrecord\n",
            "Shuffling and writing examples to /root/tensorflow_datasets/imdb_reviews/plain_text/1.0.0.incompleteMHRO27/imdb_reviews-test.tfrecord\n"
          ],
          "name": "stdout"
        },
        {
          "output_type": "stream",
          "text": [
            "WARNING:absl:Dataset is using deprecated text encoder API which will be removed soon. Please use the plain_text version of the dataset and migrate to `tensorflow_text`.\n"
          ],
          "name": "stderr"
        },
        {
          "output_type": "stream",
          "text": [
            "Shuffling and writing examples to /root/tensorflow_datasets/imdb_reviews/plain_text/1.0.0.incompleteMHRO27/imdb_reviews-unsupervised.tfrecord\n",
            "\u001b[1mDataset imdb_reviews downloaded and prepared to /root/tensorflow_datasets/imdb_reviews/plain_text/1.0.0. Subsequent calls will reuse this data.\u001b[0m\n"
          ],
          "name": "stdout"
        },
        {
          "output_type": "execute_result",
          "data": {
            "text/plain": [
              "(TensorSpec(shape=(), dtype=tf.string, name=None),\n",
              " TensorSpec(shape=(), dtype=tf.int64, name=None))"
            ]
          },
          "metadata": {
            "tags": []
          },
          "execution_count": 5
        }
      ]
    },
    {
      "cell_type": "markdown",
      "metadata": {
        "id": "nWA4c2ir7g6p"
      },
      "source": [
        "Initially this returns a dataset of (text, label pairs):"
      ]
    },
    {
      "cell_type": "code",
      "metadata": {
        "id": "vd4_BGKyurao",
        "colab": {
          "base_uri": "https://localhost:8080/"
        },
        "outputId": "63767462-34aa-4330-e666-6ec74691ec57"
      },
      "source": [
        "for example, label in train_dataset.take(1):\n",
        "  print('text: ', example.numpy())\n",
        "  print('label: ', label.numpy())"
      ],
      "execution_count": 6,
      "outputs": [
        {
          "output_type": "stream",
          "text": [
            "text:  b\"This was an absolutely terrible movie. Don't be lured in by Christopher Walken or Michael Ironside. Both are great actors, but this must simply be their worst role in history. Even their great acting could not redeem this movie's ridiculous storyline. This movie is an early nineties US propaganda piece. The most pathetic scenes were those when the Columbian rebels were making their cases for revolutions. Maria Conchita Alonso appeared phony, and her pseudo-love affair with Walken was nothing but a pathetic emotional plug in a movie that was devoid of any real meaning. I am disappointed that there are movies like this, ruining actor's like Christopher Walken's good name. I could barely sit through it.\"\n",
            "label:  0\n"
          ],
          "name": "stdout"
        }
      ]
    },
    {
      "cell_type": "markdown",
      "metadata": {
        "id": "z2qVJzcEluH_"
      },
      "source": [
        "Next shuffle the data for training and create batches of these `(text, label)` pairs:"
      ]
    },
    {
      "cell_type": "code",
      "metadata": {
        "id": "dDsCaZCDYZgm"
      },
      "source": [
        "BUFFER_SIZE = 10000\n",
        "BATCH_SIZE = 64"
      ],
      "execution_count": 7,
      "outputs": []
    },
    {
      "cell_type": "code",
      "metadata": {
        "id": "VznrltNOnUc5"
      },
      "source": [
        "train_dataset = train_dataset.shuffle(BUFFER_SIZE).batch(BATCH_SIZE).prefetch(tf.data.experimental.AUTOTUNE)\n",
        "test_dataset = test_dataset.batch(BATCH_SIZE).prefetch(tf.data.experimental.AUTOTUNE)"
      ],
      "execution_count": 8,
      "outputs": []
    },
    {
      "cell_type": "code",
      "metadata": {
        "id": "jqkvdcFv41wC",
        "colab": {
          "base_uri": "https://localhost:8080/"
        },
        "outputId": "77318bd9-43e0-4ba2-bd30-6a401432281d"
      },
      "source": [
        "for example, label in train_dataset.take(1):\n",
        "  print('texts: ', example.numpy()[:3])\n",
        "  print()\n",
        "  print('labels: ', label.numpy()[:3])"
      ],
      "execution_count": 9,
      "outputs": [
        {
          "output_type": "stream",
          "text": [
            "texts:  [b\"THE NIGHT LISTENER (2006) **1/2 Robin Williams, Toni Collette, Bobby Cannavale, Rory Culkin, Joe Morton, Sandra Oh, John Cullum, Lisa Emery, Becky Ann Baker. (Dir: Patrick Stettner) <br /><br />Hitchcockian suspenser gives Williams a stand-out low-key performance.<br /><br />What is it about celebrities and fans? What is the near paranoia one associates with the other and why is it almost the norm? <br /><br />In the latest derange fan scenario, based on true events no less, Williams stars as a talk-radio personality named Gabriel No one, who reads stories he's penned over the airwaves and has accumulated an interesting fan in the form of a young boy named Pete Logand (Culkin) who has submitted a manuscript about the travails of his troubled youth to No one's editor Ashe (Morton) who gives it to No one to read for himself. <br /><br />No one is naturally disturbed but ultimately intrigued about the nightmarish existence of Pete being abducted and sexually abused for years until he was finally rescued by a nurse named Donna (Collette giving an excellent performance) who has adopted the boy but her correspondence with No one reveals that Pete is dying from AIDS. Naturally No one wants to meet the fans but is suddenly in doubt to their possibly devious ulterior motives when the seed is planted by his estranged lover Jess (Cannavale) whose sudden departure from their New York City apartment has No one in an emotional tailspin that has only now grown into a tempest in a teacup when he decides to do some investigating into Donna and Pete's backgrounds discovering some truths that he didn't anticipate.<br /><br />Written by Armistead Maupin (who co-wrote the screenplay with his former lover Terry Anderson and the film's novice director Stettner) and based on a true story about a fan's hoax found out has some Hitchcockian moments that run on full tilt like any good old fashioned pot-boiler does. It helps that Williams gives a stand-out, low-key performance as the conflicted good-hearted personality who genuinely wants to believe that his number one fan is in fact real and does love him (the one thing that has escaped his own reality) and has some unsettling dreadful moments with the creepy Collette whose one physical trait I will leave unmentioned but underlines the desperation of her character that can rattle you to the core.<br /><br />However the film runs out of gas and eventually becomes a bit repetitive and predictable despite a finely directed piece of hoodwink and mystery by Stettner, it pays to listen to your own inner voice: be careful of what you hope for.\"\n",
            " b'Of course, he did have to INVENT EVERYTHING about cinematography, film directing, etc. before he could make classics like \"The Gardner,\" so I suppose he may be forgiven this initial excursion into mere sociological documentary. Today we call them \"home movies,\" and they are just as boring now as this one is'\n",
            " b'***SPOILERS*** Like some evil Tinkers-to-Evers-to-Chance double-play combination we have in \"Omen IV\" the evil seed of the deceased AntiChrist Damien Thorn come back. Terrorizing his parents his schoolmates his neighbors and finally the entire world as a she named Delia York, Asia Vieila. After being given to a \"deserving\" couple the Yorks Karen & Gene, Fay Grant & Michael Woods,by the Catholic Church\\'s St. Francis orphanage.<br /><br />Little Delia didn\\'t waste any time making her peasants felt by scratching her mom at a house party. Later Delia almost get killed by a runaway truck only to have herself saved by this \"Devil Dog\" named Ryder. Going to school Delia takes care of the local bully by getting the big guy to wet himself in front of all his classmates. Later when his father threatens the Yorks with a law suit she has his head sliced off in a self-induced traffic accident! Delia is someone that you never mess with if you know what\\'s good for you.<br /><br />Meanwhile Dalia\\'s dad Gene becomes a big man in town on his own, or so he thinks, by getting elected to the congress as a champion of the clean air and green trees crowd instead of letting the smog and concrete boys take over the neighborhood with his eye now on he White House itself! Did his bratty and strange daughter Delia have anything to do with Gene York\\'s sudden good fortune?<br /><br />It\\'s only later when Jo, Ann Hearen, is hired as Delia\\'s nanny that the truth\\'s comes out about her strange and evil powers. Jo a New Age type realizes that Delia is a bit weird, after turning all her white crystals black, and calls her New Age Guru Noah, Jim Byrnes, to come over and check her out. Noah is so upset by what he sees in Delia Kirilian color vibrations ,all black and blue with a little pinch of red, that it flips him out so bad that he almost crashed into Delia\\'s moms car.<br /><br />Taken on a trip to a psychic festival by Jo Delia turns the entire event into an inferno setting the place, through mental telepathy, on fire and heaving everyone there run for cover including poor Noah who was at the festival and ended up with his leg broken. The and shaken and battered Guru was so shook up by the whole experience that he later checked out of the country to become a hermit in the Tibetan wilderness. <br /><br />Jo herself is later thrown out, with the help of the sweet and cuddly family pet Ryder, of a second floor window to her death because she knew and talked too much. It\\'s when Karen is again pregnant that she decides, finally, to find out the truth about the real parents of Delia. That\\'s when she,and we in the audience, come face to face with the truth. She\\'s not only the feared AntiChrist of Revelations she\\'s his twin sister! Her brother the AntiChrist himself is about to come on the scene as her kid brother the sill unborn Alexander York!<br /><br />Three times were more then enough for the AntiChrist coming back to earth to bring about Armageddon. The movie going public were already getting a little tired of of him and his evil adventures. With a fourth really not necessary since Daimen Thorn, the original AntiChrist, had been dead and buried for years. Were put through the usual ringer with no one believing that little Delia is \"Thee\" AntiChrist until it was almost too late to stop her in her deadly rounds of destroying the entire human race. The movie as bad as it is is also far too long, 97 minutes, for a horror flick that could well have told it\\'s story is as little as 80 minutes.<br /><br />Having a private eye Earl Knight, Mchael Learner,and later a former Catholic nun sister Yvonne,Megan Lehch,and now faith healer Felichy in the film only to be killed off didn\\'t help the plot either. It only prolonged the suffering of those of us watching the movie. You could see the surprise ending coming almost as soon as the film \"Omen IV\" began with the bases being cleared for Delia\\'s eventual takeover of the civilized as well as uncivilized world. What was a bit of a surprise was Delia doing it with a little help from friends.']\n",
            "\n",
            "labels:  [1 1 0]\n"
          ],
          "name": "stdout"
        }
      ]
    },
    {
      "cell_type": "markdown",
      "metadata": {
        "id": "s5eWCo88voPY"
      },
      "source": [
        "## Create the text encoder"
      ]
    },
    {
      "cell_type": "markdown",
      "metadata": {
        "id": "TFevcItw15P_"
      },
      "source": [
        "The raw text loaded by `tfds` needs to be processed before it can be used in a model. The simplest way to process text for training is using the `experimental.preprocessing.TextVectorization` layer. This layer has many capabilities, but this tutorial sticks to the default behavior.\n",
        "\n",
        "Create the layer, and pass the dataset's text to the layer's `.adapt` method:"
      ]
    },
    {
      "cell_type": "code",
      "metadata": {
        "id": "uC25Lu1Yvuqy"
      },
      "source": [
        "VOCAB_SIZE=1000\n",
        "encoder = tf.keras.layers.experimental.preprocessing.TextVectorization(\n",
        "    max_tokens=VOCAB_SIZE)\n",
        "encoder.adapt(train_dataset.map(lambda text, label: text))"
      ],
      "execution_count": 10,
      "outputs": []
    },
    {
      "cell_type": "markdown",
      "metadata": {
        "id": "IuQzVBbe3Ldu"
      },
      "source": [
        "The `.adapt` method sets the layer's vocabulary. Here are the first 20 tokens. After the padding and unknown tokens they're sorted by frequency: "
      ]
    },
    {
      "cell_type": "code",
      "metadata": {
        "id": "tBoyjjWg0Ac9",
        "colab": {
          "base_uri": "https://localhost:8080/"
        },
        "outputId": "90d99709-5f6c-4834-88f5-8b80a27f883e"
      },
      "source": [
        "vocab = np.array(encoder.get_vocabulary())\n",
        "vocab[:20]"
      ],
      "execution_count": 11,
      "outputs": [
        {
          "output_type": "execute_result",
          "data": {
            "text/plain": [
              "array(['', '[UNK]', 'the', 'and', 'a', 'of', 'to', 'is', 'in', 'it', 'i',\n",
              "       'this', 'that', 'br', 'was', 'as', 'for', 'with', 'movie', 'but'],\n",
              "      dtype='<U14')"
            ]
          },
          "metadata": {
            "tags": []
          },
          "execution_count": 11
        }
      ]
    },
    {
      "cell_type": "markdown",
      "metadata": {
        "id": "mjId5pua3jHQ"
      },
      "source": [
        "Once the vocabulary is set, the layer can encode text into indices. The tensors of indices are 0-padded to the longest sequence in the batch (unless you set a fixed `output_sequence_length`):"
      ]
    },
    {
      "cell_type": "code",
      "metadata": {
        "id": "RGc7C9WiwRWs",
        "colab": {
          "base_uri": "https://localhost:8080/"
        },
        "outputId": "0d442d02-916f-4481-e202-38fa6e329738"
      },
      "source": [
        "encoded_example = encoder(example)[:3].numpy()\n",
        "encoded_example"
      ],
      "execution_count": 12,
      "outputs": [
        {
          "output_type": "execute_result",
          "data": {
            "text/plain": [
              "array([[  2, 311,   1, ...,   0,   0,   0],\n",
              "       [  5, 259,  27, ...,   0,   0,   0],\n",
              "       [  1,  39,  47, ...,   0,   0,   0]])"
            ]
          },
          "metadata": {
            "tags": []
          },
          "execution_count": 12
        }
      ]
    },
    {
      "cell_type": "markdown",
      "metadata": {
        "id": "F5cjz0bS39IN"
      },
      "source": [
        "With the default settings, the process is not completely reversible. There are three main reasns for that:\n",
        "\n",
        "1. The default value for `preprocessing.TextVectorization`'s `standardize` argument is `\"lower_and_strip_punctuation\"`.\n",
        "2. The limited vocabulary size and lack of character-based fallback results in some unknown tokens."
      ]
    },
    {
      "cell_type": "code",
      "metadata": {
        "id": "N_tD0QY5wXaK",
        "colab": {
          "base_uri": "https://localhost:8080/"
        },
        "outputId": "76f6bb7f-782f-4cdf-9ec2-c9dddafe9603"
      },
      "source": [
        "for n in range(3):\n",
        "  print(\"Original: \", example[n].numpy())\n",
        "  print(\"Round-trip: \", \" \".join(vocab[encoded_example[n]]))\n",
        "  print()"
      ],
      "execution_count": 13,
      "outputs": [
        {
          "output_type": "stream",
          "text": [
            "Original:  b\"THE NIGHT LISTENER (2006) **1/2 Robin Williams, Toni Collette, Bobby Cannavale, Rory Culkin, Joe Morton, Sandra Oh, John Cullum, Lisa Emery, Becky Ann Baker. (Dir: Patrick Stettner) <br /><br />Hitchcockian suspenser gives Williams a stand-out low-key performance.<br /><br />What is it about celebrities and fans? What is the near paranoia one associates with the other and why is it almost the norm? <br /><br />In the latest derange fan scenario, based on true events no less, Williams stars as a talk-radio personality named Gabriel No one, who reads stories he's penned over the airwaves and has accumulated an interesting fan in the form of a young boy named Pete Logand (Culkin) who has submitted a manuscript about the travails of his troubled youth to No one's editor Ashe (Morton) who gives it to No one to read for himself. <br /><br />No one is naturally disturbed but ultimately intrigued about the nightmarish existence of Pete being abducted and sexually abused for years until he was finally rescued by a nurse named Donna (Collette giving an excellent performance) who has adopted the boy but her correspondence with No one reveals that Pete is dying from AIDS. Naturally No one wants to meet the fans but is suddenly in doubt to their possibly devious ulterior motives when the seed is planted by his estranged lover Jess (Cannavale) whose sudden departure from their New York City apartment has No one in an emotional tailspin that has only now grown into a tempest in a teacup when he decides to do some investigating into Donna and Pete's backgrounds discovering some truths that he didn't anticipate.<br /><br />Written by Armistead Maupin (who co-wrote the screenplay with his former lover Terry Anderson and the film's novice director Stettner) and based on a true story about a fan's hoax found out has some Hitchcockian moments that run on full tilt like any good old fashioned pot-boiler does. It helps that Williams gives a stand-out, low-key performance as the conflicted good-hearted personality who genuinely wants to believe that his number one fan is in fact real and does love him (the one thing that has escaped his own reality) and has some unsettling dreadful moments with the creepy Collette whose one physical trait I will leave unmentioned but underlines the desperation of her character that can rattle you to the core.<br /><br />However the film runs out of gas and eventually becomes a bit repetitive and predictable despite a finely directed piece of hoodwink and mystery by Stettner, it pays to listen to your own inner voice: be careful of what you hope for.\"\n",
            "Round-trip:  the night [UNK] [UNK] [UNK] [UNK] [UNK] [UNK] [UNK] [UNK] [UNK] [UNK] [UNK] joe [UNK] [UNK] oh john [UNK] [UNK] [UNK] [UNK] [UNK] [UNK] [UNK] [UNK] [UNK] br br [UNK] [UNK] gives [UNK] a [UNK] [UNK] [UNK] br what is it about [UNK] and fans what is the near [UNK] one [UNK] with the other and why is it almost the [UNK] br br in the [UNK] [UNK] fan [UNK] based on true events no less [UNK] stars as a [UNK] [UNK] named [UNK] no one who [UNK] stories hes [UNK] over the [UNK] and has [UNK] an interesting fan in the form of a young boy named [UNK] [UNK] [UNK] who has [UNK] a [UNK] about the [UNK] of his [UNK] [UNK] to no ones [UNK] [UNK] [UNK] who gives it to no one to read for himself br br no one is [UNK] [UNK] but [UNK] [UNK] about the [UNK] [UNK] of [UNK] being [UNK] and [UNK] [UNK] for years until he was finally [UNK] by a [UNK] named [UNK] [UNK] giving an excellent performance who has [UNK] the boy but her [UNK] with no one [UNK] that [UNK] is [UNK] from [UNK] [UNK] no one wants to meet the fans but is [UNK] in doubt to their possibly [UNK] [UNK] [UNK] when the [UNK] is [UNK] by his [UNK] [UNK] [UNK] [UNK] whose [UNK] [UNK] from their new york city [UNK] has no one in an emotional [UNK] that has only now [UNK] into a [UNK] in a [UNK] when he [UNK] to do some [UNK] into [UNK] and [UNK] [UNK] [UNK] some [UNK] that he didnt [UNK] br written by [UNK] [UNK] who [UNK] the screenplay with his [UNK] [UNK] [UNK] [UNK] and the films [UNK] director [UNK] and based on a true story about a fans [UNK] found out has some [UNK] moments that run on full [UNK] like any good old [UNK] [UNK] does it [UNK] that [UNK] gives a [UNK] [UNK] performance as the [UNK] [UNK] [UNK] who [UNK] wants to believe that his number one fan is in fact real and does love him the one thing that has [UNK] his own reality and has some [UNK] [UNK] moments with the creepy [UNK] whose one [UNK] [UNK] i will leave [UNK] but [UNK] the [UNK] of her character that can [UNK] you to the [UNK] br however the film [UNK] out of [UNK] and eventually becomes a bit [UNK] and predictable despite a [UNK] directed piece of [UNK] and mystery by [UNK] it [UNK] to [UNK] to your own [UNK] voice be [UNK] of what you hope for                                                                                                                                                                                                                                                                                                                                                                                                                                                                                                                                                                         \n",
            "\n",
            "Original:  b'Of course, he did have to INVENT EVERYTHING about cinematography, film directing, etc. before he could make classics like \"The Gardner,\" so I suppose he may be forgiven this initial excursion into mere sociological documentary. Today we call them \"home movies,\" and they are just as boring now as this one is'\n",
            "Round-trip:  of course he did have to [UNK] everything about cinematography film directing etc before he could make [UNK] like the [UNK] so i [UNK] he may be [UNK] this [UNK] [UNK] into [UNK] [UNK] documentary today we call them home movies and they are just as boring now as this one is                                                                                                                                                                                                                                                                                                                                                                                                                                                                                                                                                                                                                                                                                                                                                                                                                                                                                                                                                                         \n",
            "\n",
            "Original:  b'***SPOILERS*** Like some evil Tinkers-to-Evers-to-Chance double-play combination we have in \"Omen IV\" the evil seed of the deceased AntiChrist Damien Thorn come back. Terrorizing his parents his schoolmates his neighbors and finally the entire world as a she named Delia York, Asia Vieila. After being given to a \"deserving\" couple the Yorks Karen & Gene, Fay Grant & Michael Woods,by the Catholic Church\\'s St. Francis orphanage.<br /><br />Little Delia didn\\'t waste any time making her peasants felt by scratching her mom at a house party. Later Delia almost get killed by a runaway truck only to have herself saved by this \"Devil Dog\" named Ryder. Going to school Delia takes care of the local bully by getting the big guy to wet himself in front of all his classmates. Later when his father threatens the Yorks with a law suit she has his head sliced off in a self-induced traffic accident! Delia is someone that you never mess with if you know what\\'s good for you.<br /><br />Meanwhile Dalia\\'s dad Gene becomes a big man in town on his own, or so he thinks, by getting elected to the congress as a champion of the clean air and green trees crowd instead of letting the smog and concrete boys take over the neighborhood with his eye now on he White House itself! Did his bratty and strange daughter Delia have anything to do with Gene York\\'s sudden good fortune?<br /><br />It\\'s only later when Jo, Ann Hearen, is hired as Delia\\'s nanny that the truth\\'s comes out about her strange and evil powers. Jo a New Age type realizes that Delia is a bit weird, after turning all her white crystals black, and calls her New Age Guru Noah, Jim Byrnes, to come over and check her out. Noah is so upset by what he sees in Delia Kirilian color vibrations ,all black and blue with a little pinch of red, that it flips him out so bad that he almost crashed into Delia\\'s moms car.<br /><br />Taken on a trip to a psychic festival by Jo Delia turns the entire event into an inferno setting the place, through mental telepathy, on fire and heaving everyone there run for cover including poor Noah who was at the festival and ended up with his leg broken. The and shaken and battered Guru was so shook up by the whole experience that he later checked out of the country to become a hermit in the Tibetan wilderness. <br /><br />Jo herself is later thrown out, with the help of the sweet and cuddly family pet Ryder, of a second floor window to her death because she knew and talked too much. It\\'s when Karen is again pregnant that she decides, finally, to find out the truth about the real parents of Delia. That\\'s when she,and we in the audience, come face to face with the truth. She\\'s not only the feared AntiChrist of Revelations she\\'s his twin sister! Her brother the AntiChrist himself is about to come on the scene as her kid brother the sill unborn Alexander York!<br /><br />Three times were more then enough for the AntiChrist coming back to earth to bring about Armageddon. The movie going public were already getting a little tired of of him and his evil adventures. With a fourth really not necessary since Daimen Thorn, the original AntiChrist, had been dead and buried for years. Were put through the usual ringer with no one believing that little Delia is \"Thee\" AntiChrist until it was almost too late to stop her in her deadly rounds of destroying the entire human race. The movie as bad as it is is also far too long, 97 minutes, for a horror flick that could well have told it\\'s story is as little as 80 minutes.<br /><br />Having a private eye Earl Knight, Mchael Learner,and later a former Catholic nun sister Yvonne,Megan Lehch,and now faith healer Felichy in the film only to be killed off didn\\'t help the plot either. It only prolonged the suffering of those of us watching the movie. You could see the surprise ending coming almost as soon as the film \"Omen IV\" began with the bases being cleared for Delia\\'s eventual takeover of the civilized as well as uncivilized world. What was a bit of a surprise was Delia doing it with a little help from friends.'\n",
            "Round-trip:  [UNK] like some evil [UNK] [UNK] [UNK] we have in [UNK] [UNK] the evil [UNK] of the [UNK] [UNK] [UNK] [UNK] come back [UNK] his parents his [UNK] his [UNK] and finally the entire world as a she named [UNK] york [UNK] [UNK] after being given to a [UNK] couple the [UNK] [UNK] [UNK] [UNK] [UNK] michael [UNK] the [UNK] [UNK] [UNK] [UNK] [UNK] br little [UNK] didnt waste any time making her [UNK] felt by [UNK] her [UNK] at a house [UNK] later [UNK] almost get killed by a [UNK] [UNK] only to have herself [UNK] by this [UNK] dog named [UNK] going to school [UNK] takes care of the local [UNK] by getting the big guy to [UNK] himself in [UNK] of all his [UNK] later when his father [UNK] the [UNK] with a [UNK] [UNK] she has his head [UNK] off in a [UNK] [UNK] [UNK] [UNK] is someone that you never mess with if you know whats good for [UNK] br [UNK] [UNK] [UNK] [UNK] becomes a big man in town on his own or so he [UNK] by getting [UNK] to the [UNK] as a [UNK] of the [UNK] air and [UNK] [UNK] [UNK] instead of [UNK] the [UNK] and [UNK] boys take over the [UNK] with his eye now on he white house itself did his [UNK] and strange daughter [UNK] have anything to do with [UNK] [UNK] [UNK] good [UNK] br its only later when [UNK] [UNK] [UNK] is [UNK] as [UNK] [UNK] that the [UNK] comes out about her strange and evil [UNK] [UNK] a new age type [UNK] that [UNK] is a bit weird after [UNK] all her white [UNK] black and [UNK] her new age [UNK] [UNK] [UNK] [UNK] to come over and check her out [UNK] is so [UNK] by what he [UNK] in [UNK] [UNK] [UNK] [UNK] all black and [UNK] with a little [UNK] of red that it [UNK] him out so bad that he almost [UNK] into [UNK] [UNK] [UNK] br taken on a [UNK] to a [UNK] [UNK] by [UNK] [UNK] turns the entire [UNK] into an [UNK] setting the place through [UNK] [UNK] on fire and [UNK] everyone there run for [UNK] including poor [UNK] who was at the [UNK] and [UNK] up with his [UNK] [UNK] the and [UNK] and [UNK] [UNK] was so [UNK] up by the whole experience that he later [UNK] out of the country to become a [UNK] in the [UNK] [UNK] br br [UNK] herself is later [UNK] out with the help of the [UNK] and [UNK] family [UNK] [UNK] of a second [UNK] [UNK] to her death because she knew and [UNK] too much its when [UNK] is again [UNK] that she [UNK] finally to find out the truth about the real parents of [UNK] thats when [UNK] we in the audience come face to face with the truth shes not only the [UNK] [UNK] of [UNK] shes his [UNK] sister her brother the [UNK] himself is about to come on the scene as her kid brother the [UNK] [UNK] [UNK] [UNK] br three times were more then enough for the [UNK] coming back to earth to bring about [UNK] the movie going [UNK] were already getting a little [UNK] of of him and his evil [UNK] with a [UNK] really not [UNK] since [UNK] [UNK] the original [UNK] had been dead and [UNK] for years were put through the usual [UNK] with no one [UNK] that little [UNK] is [UNK] [UNK] until it was almost too late to stop her in her [UNK] [UNK] of [UNK] the entire human [UNK] the movie as bad as it is is also far too long [UNK] minutes for a horror flick that could well have told its story is as little as [UNK] [UNK] br having a [UNK] eye [UNK] [UNK] [UNK] [UNK] later a [UNK] [UNK] [UNK] sister [UNK] [UNK] now [UNK] [UNK] [UNK] in the film only to be killed off didnt help the plot either it only [UNK] the [UNK] of those of us watching the movie you could see the surprise ending coming almost as soon as the film [UNK] [UNK] [UNK] with the [UNK] being [UNK] for [UNK] [UNK] [UNK] of the [UNK] as well as [UNK] world what was a bit of a surprise was [UNK] doing it with a little help from friends                                                                                                                                                                                                                                                                  \n",
            "\n"
          ],
          "name": "stdout"
        }
      ]
    },
    {
      "cell_type": "markdown",
      "metadata": {
        "id": "bjUqGVBxGw-t"
      },
      "source": [
        "## Create the model"
      ]
    },
    {
      "cell_type": "markdown",
      "metadata": {
        "id": "W7zsmInBOCPO"
      },
      "source": [
        "![A drawing of the information flow in the model](https://github.com/tensorflow/docs/blob/master/site/en/tutorials/text/images/bidirectional.png?raw=1)"
      ]
    },
    {
      "cell_type": "markdown",
      "metadata": {
        "id": "bgs6nnSTGw-t"
      },
      "source": [
        "Above is a diagram of the model. \n",
        "\n",
        "1. This model can be build as a `tf.keras.Sequential`.\n",
        "\n",
        "1. The first layer is the `encoder`, which converts the text to a sequence of token indices.\n",
        "\n",
        "2. After the encoder is an embedding layer. An embedding layer stores one vector per word. When called, it converts the sequences of word indices to sequences of vectors. These vectors are trainable. After training (on enough data), words with similar meanings often have similar vectors.\n",
        "\n",
        "  This index-lookup is much more efficient than the equivalent operation of passing a one-hot encoded vector through a `tf.keras.layers.Dense` layer.\n",
        "\n",
        "3. A recurrent neural network (RNN) processes sequence input by iterating through the elements. RNNs pass the outputs from one timestep to their input on the next timestep.\n",
        "\n",
        "  The `tf.keras.layers.Bidirectional` wrapper can also be used with an RNN layer. This propagates the input forward and backwards through the RNN layer and then concatenates the final output. \n",
        "\n",
        "  * The main advantage to a bidirectional RNN is that the signal from the beginning of the input doesn't need to be processed all the way through every timestep to affect the output.  \n",
        "\n",
        "  * The main disadvantage of a bidirectional RNN is that you can't efficiently stream predictions as words are being added to the end.\n",
        "\n",
        "1. After the RNN has converted the sequence to a single vector the two `layers.Dense` do some final processing, and convert from this vector representation to a single logit as the classification output. \n"
      ]
    },
    {
      "cell_type": "markdown",
      "metadata": {
        "id": "V4fodCI7soQi"
      },
      "source": [
        "The code to implement this is below:"
      ]
    },
    {
      "cell_type": "code",
      "metadata": {
        "id": "LwfoBkmRYcP3"
      },
      "source": [
        "model = tf.keras.Sequential([\n",
        "    encoder,\n",
        "    tf.keras.layers.Embedding(\n",
        "        input_dim=len(encoder.get_vocabulary()),\n",
        "        output_dim=64,\n",
        "        # Use masking to handle the variable sequence lengths\n",
        "        mask_zero=True),\n",
        "    tf.keras.layers.Bidirectional(tf.keras.layers.LSTM(64)),\n",
        "    tf.keras.layers.Dense(64, activation='relu'),\n",
        "    tf.keras.layers.Dense(1)\n",
        "])"
      ],
      "execution_count": 14,
      "outputs": []
    },
    {
      "cell_type": "markdown",
      "metadata": {
        "id": "QIGmIGkkouUb"
      },
      "source": [
        "Please note that Keras sequential model is used here since all the layers in the model only have single input and produce single output. In case you want to use stateful RNN layer, you might want to build your model with Keras functional API or model subclassing so that you can retrieve and reuse the RNN layer states. Please check [Keras RNN guide](https://www.tensorflow.org/guide/keras/rnn#rnn_state_reuse) for more details."
      ]
    },
    {
      "cell_type": "markdown",
      "metadata": {
        "id": "kF-PsCk1LwjY"
      },
      "source": [
        "The embedding layer [uses masking](../../guide/keras/masking_and_padding) to handle the varying sequence-lengths. All the layers after the `Embedding` support masking:"
      ]
    },
    {
      "cell_type": "code",
      "metadata": {
        "id": "87a8-CwfKebw",
        "colab": {
          "base_uri": "https://localhost:8080/"
        },
        "outputId": "17e34d3c-7d66-4af5-cca4-58900ea7ef29"
      },
      "source": [
        "print([layer.supports_masking for layer in model.layers])"
      ],
      "execution_count": 15,
      "outputs": [
        {
          "output_type": "stream",
          "text": [
            "[False, True, True, True, True]\n"
          ],
          "name": "stdout"
        }
      ]
    },
    {
      "cell_type": "markdown",
      "metadata": {
        "id": "ZlS0iaUIWLpI"
      },
      "source": [
        "To confirm that this works as expected, evaluate a sentence twice. First, alone so there's no padding to mask:"
      ]
    },
    {
      "cell_type": "code",
      "metadata": {
        "id": "O41gw3KfWHus",
        "colab": {
          "base_uri": "https://localhost:8080/"
        },
        "outputId": "91a9fc64-a6e5-4c5e-8c32-dc0aabea68ae"
      },
      "source": [
        "# predict on a sample text without padding.\n",
        "\n",
        "sample_text = ('The movie was cool. The animation and the graphics '\n",
        "               'were out of this world. I would recommend this movie.')\n",
        "predictions = model.predict(np.array([sample_text]))\n",
        "print(predictions[0])"
      ],
      "execution_count": 16,
      "outputs": [
        {
          "output_type": "stream",
          "text": [
            "[0.00334615]\n"
          ],
          "name": "stdout"
        }
      ]
    },
    {
      "cell_type": "markdown",
      "metadata": {
        "id": "K0VQmGnEWcuz"
      },
      "source": [
        "Now, evaluate it again in a batch with a longer sentence. The result should be identical:"
      ]
    },
    {
      "cell_type": "code",
      "metadata": {
        "id": "UIgpuTeFNDzq",
        "colab": {
          "base_uri": "https://localhost:8080/"
        },
        "outputId": "5ea16409-3de5-4c6c-86c2-02b482c26427"
      },
      "source": [
        "# predict on a sample text with padding\n",
        "\n",
        "padding = \"the \" * 2000\n",
        "predictions = model.predict(np.array([sample_text, padding]))\n",
        "print(predictions[0])"
      ],
      "execution_count": 17,
      "outputs": [
        {
          "output_type": "stream",
          "text": [
            "[0.00334615]\n"
          ],
          "name": "stdout"
        }
      ]
    },
    {
      "cell_type": "markdown",
      "metadata": {
        "id": "sRI776ZcH3Tf"
      },
      "source": [
        "Compile the Keras model to configure the training process:"
      ]
    },
    {
      "cell_type": "code",
      "metadata": {
        "id": "kj2xei41YZjC"
      },
      "source": [
        "model.compile(loss=tf.keras.losses.BinaryCrossentropy(from_logits=True),\n",
        "              optimizer=tf.keras.optimizers.Adam(1e-4),\n",
        "              metrics=['accuracy'])"
      ],
      "execution_count": 18,
      "outputs": []
    },
    {
      "cell_type": "markdown",
      "metadata": {
        "id": "zIwH3nto596k"
      },
      "source": [
        "## Train the model"
      ]
    },
    {
      "cell_type": "code",
      "metadata": {
        "id": "hw86wWS4YgR2",
        "colab": {
          "base_uri": "https://localhost:8080/"
        },
        "outputId": "b15f32cf-f2a0-4f01-8bca-1c6e2e0770b0"
      },
      "source": [
        "history = model.fit(train_dataset, epochs=10,\n",
        "                    validation_data=test_dataset, \n",
        "                    validation_steps=30)"
      ],
      "execution_count": 19,
      "outputs": [
        {
          "output_type": "stream",
          "text": [
            "Epoch 1/10\n",
            "391/391 [==============================] - 34s 86ms/step - loss: 0.6208 - accuracy: 0.6041 - val_loss: 0.4683 - val_accuracy: 0.7542\n",
            "Epoch 2/10\n",
            "391/391 [==============================] - 31s 80ms/step - loss: 0.3865 - accuracy: 0.8260 - val_loss: 0.3798 - val_accuracy: 0.8240\n",
            "Epoch 3/10\n",
            "391/391 [==============================] - 32s 83ms/step - loss: 0.3379 - accuracy: 0.8511 - val_loss: 0.3461 - val_accuracy: 0.8411\n",
            "Epoch 4/10\n",
            "391/391 [==============================] - 32s 82ms/step - loss: 0.3211 - accuracy: 0.8606 - val_loss: 0.3310 - val_accuracy: 0.8484\n",
            "Epoch 5/10\n",
            "391/391 [==============================] - 33s 83ms/step - loss: 0.3158 - accuracy: 0.8646 - val_loss: 0.3373 - val_accuracy: 0.8510\n",
            "Epoch 6/10\n",
            "391/391 [==============================] - 32s 82ms/step - loss: 0.3096 - accuracy: 0.8676 - val_loss: 0.3432 - val_accuracy: 0.8349\n",
            "Epoch 7/10\n",
            "391/391 [==============================] - 32s 82ms/step - loss: 0.3076 - accuracy: 0.8664 - val_loss: 0.3256 - val_accuracy: 0.8521\n",
            "Epoch 8/10\n",
            "391/391 [==============================] - 32s 81ms/step - loss: 0.3049 - accuracy: 0.8660 - val_loss: 0.3325 - val_accuracy: 0.8568\n",
            "Epoch 9/10\n",
            "391/391 [==============================] - 32s 81ms/step - loss: 0.3011 - accuracy: 0.8705 - val_loss: 0.3266 - val_accuracy: 0.8458\n",
            "Epoch 10/10\n",
            "391/391 [==============================] - 32s 81ms/step - loss: 0.3038 - accuracy: 0.8687 - val_loss: 0.3500 - val_accuracy: 0.8536\n"
          ],
          "name": "stdout"
        }
      ]
    },
    {
      "cell_type": "code",
      "metadata": {
        "id": "BaNbXi43YgUT",
        "colab": {
          "base_uri": "https://localhost:8080/"
        },
        "outputId": "dbf916b1-4581-4e1f-926d-e01c98843d31"
      },
      "source": [
        "test_loss, test_acc = model.evaluate(test_dataset)\n",
        "\n",
        "print('Test Loss: {}'.format(test_loss))\n",
        "print('Test Accuracy: {}'.format(test_acc))"
      ],
      "execution_count": 20,
      "outputs": [
        {
          "output_type": "stream",
          "text": [
            "391/391 [==============================] - 16s 41ms/step - loss: 0.3453 - accuracy: 0.8540\n",
            "Test Loss: 0.3453477621078491\n",
            "Test Accuracy: 0.8540400266647339\n"
          ],
          "name": "stdout"
        }
      ]
    },
    {
      "cell_type": "code",
      "metadata": {
        "id": "OZmwt_mzaQJk",
        "colab": {
          "base_uri": "https://localhost:8080/",
          "height": 519
        },
        "outputId": "4c481802-e376-46a6-a20b-99805de144ae"
      },
      "source": [
        "plt.figure(figsize=(16,8))\n",
        "plt.subplot(1,2,1)\n",
        "plot_graphs(history, 'accuracy')\n",
        "plt.ylim(None,1)\n",
        "plt.subplot(1,2,2)\n",
        "plot_graphs(history, 'loss')\n",
        "plt.ylim(0,None)"
      ],
      "execution_count": 21,
      "outputs": [
        {
          "output_type": "execute_result",
          "data": {
            "text/plain": [
              "(0.0, 0.6368018701672554)"
            ]
          },
          "metadata": {
            "tags": []
          },
          "execution_count": 21
        },
        {
          "output_type": "display_data",
          "data": {
            "image/png": "[encoded data removed]",
            "text/plain": [
              "<Figure size 1152x576 with 2 Axes>"
            ]
          },
          "metadata": {
            "tags": [],
            "needs_background": "light"
          }
        }
      ]
    },
    {
      "cell_type": "markdown",
      "metadata": {
        "id": "DwSE_386uhxD"
      },
      "source": [
        "Run a prediction on a neew sentence:\n",
        "\n",
        "If the prediction is >= 0.0, it is positive else it is negative."
      ]
    },
    {
      "cell_type": "code",
      "metadata": {
        "id": "ZXgfQSgRW6zU"
      },
      "source": [
        "sample_text = ('The movie was cool. The animation and the graphics '\n",
        "               'were out of this world. I would recommend this movie.')\n",
        "predictions = model.predict(np.array([sample_text]))"
      ],
      "execution_count": 22,
      "outputs": []
    },
    {
      "cell_type": "markdown",
      "metadata": {
        "id": "7g1evcaRpTKm"
      },
      "source": [
        "## Stack two or more LSTM layers\n",
        "\n",
        "Keras recurrent layers have two available modes that are controlled by the `return_sequences` constructor argument:\n",
        "\n",
        "* If `False` it returns only the last output for each input sequence (a 2D tensor of shape (batch_size, output_features)). This is the default, used in the previous model.\n",
        "\n",
        "* If `True` the full sequences of successive outputs for each timestep is returned (a 3D tensor of shape `(batch_size, timesteps, output_features)`).\n",
        "\n",
        "Here is what the flow of information looks like with `return_sequences=True`:\n",
        "\n",
        "![layered_bidirectional](https://github.com/tensorflow/docs/blob/master/site/en/tutorials/text/images/layered_bidirectional.ipynb?raw=1)"
      ]
    },
    {
      "cell_type": "markdown",
      "metadata": {
        "id": "wbSClCrG1z8l"
      },
      "source": [
        "The interesting thing about using an `RNN` with `return_sequences=True` is that the output still has 3-axes, like the input, so it can be passed to another RNN layer, like this:"
      ]
    },
    {
      "cell_type": "code",
      "metadata": {
        "id": "jo1jjO3vn0jo"
      },
      "source": [
        "model = tf.keras.Sequential([\n",
        "    encoder,\n",
        "    tf.keras.layers.Embedding(len(encoder.get_vocabulary()), 64, mask_zero=True),\n",
        "    tf.keras.layers.Bidirectional(tf.keras.layers.LSTM(64,  return_sequences=True)),\n",
        "    tf.keras.layers.Bidirectional(tf.keras.layers.LSTM(32)),\n",
        "    tf.keras.layers.Dense(64, activation='relu'),\n",
        "    tf.keras.layers.Dropout(0.5),\n",
        "    tf.keras.layers.Dense(1)\n",
        "])"
      ],
      "execution_count": 23,
      "outputs": []
    },
    {
      "cell_type": "code",
      "metadata": {
        "id": "hEPV5jVGp-is"
      },
      "source": [
        "model.compile(loss=tf.keras.losses.BinaryCrossentropy(from_logits=True),\n",
        "              optimizer=tf.keras.optimizers.Adam(1e-4),\n",
        "              metrics=['accuracy'])"
      ],
      "execution_count": 24,
      "outputs": []
    },
    {
      "cell_type": "code",
      "metadata": {
        "id": "LeSE-YjdqAeN",
        "colab": {
          "base_uri": "https://localhost:8080/"
        },
        "outputId": "a212fac9-0003-46e2-a11d-5a5ab23aa1c0"
      },
      "source": [
        "history = model.fit(train_dataset, epochs=10,\n",
        "                    validation_data=test_dataset,\n",
        "                    validation_steps=30)"
      ],
      "execution_count": 25,
      "outputs": [
        {
          "output_type": "stream",
          "text": [
            "Epoch 1/10\n",
            "391/391 [==============================] - 60s 154ms/step - loss: 0.6185 - accuracy: 0.6014 - val_loss: 0.4716 - val_accuracy: 0.7740\n",
            "Epoch 2/10\n",
            "391/391 [==============================] - 55s 142ms/step - loss: 0.3794 - accuracy: 0.8357 - val_loss: 0.3849 - val_accuracy: 0.8120\n",
            "Epoch 3/10\n",
            "391/391 [==============================] - 56s 144ms/step - loss: 0.3387 - accuracy: 0.8564 - val_loss: 0.3478 - val_accuracy: 0.8328\n",
            "Epoch 4/10\n",
            "391/391 [==============================] - 56s 144ms/step - loss: 0.3172 - accuracy: 0.8641 - val_loss: 0.3304 - val_accuracy: 0.8615\n",
            "Epoch 5/10\n",
            "391/391 [==============================] - 56s 143ms/step - loss: 0.3093 - accuracy: 0.8676 - val_loss: 0.3205 - val_accuracy: 0.8521\n",
            "Epoch 6/10\n",
            "391/391 [==============================] - 56s 143ms/step - loss: 0.3103 - accuracy: 0.8656 - val_loss: 0.3293 - val_accuracy: 0.8615\n",
            "Epoch 7/10\n",
            "391/391 [==============================] - 57s 146ms/step - loss: 0.3034 - accuracy: 0.8685 - val_loss: 0.3329 - val_accuracy: 0.8422\n",
            "Epoch 8/10\n",
            "391/391 [==============================] - 57s 145ms/step - loss: 0.3004 - accuracy: 0.8721 - val_loss: 0.3301 - val_accuracy: 0.8609\n",
            "Epoch 9/10\n",
            "391/391 [==============================] - 56s 144ms/step - loss: 0.3000 - accuracy: 0.8740 - val_loss: 0.3271 - val_accuracy: 0.8594\n",
            "Epoch 10/10\n",
            "391/391 [==============================] - 56s 143ms/step - loss: 0.3005 - accuracy: 0.8691 - val_loss: 0.3257 - val_accuracy: 0.8406\n"
          ],
          "name": "stdout"
        }
      ]
    },
    {
      "cell_type": "code",
      "metadata": {
        "id": "_LdwilM1qPM3",
        "colab": {
          "base_uri": "https://localhost:8080/"
        },
        "outputId": "50843851-d44e-4acc-ce82-6129db2fe693"
      },
      "source": [
        "test_loss, test_acc = model.evaluate(test_dataset)\n",
        "\n",
        "print('Test Loss: {}'.format(test_loss))\n",
        "print('Test Accuracy: {}'.format(test_acc))"
      ],
      "execution_count": 26,
      "outputs": [
        {
          "output_type": "stream",
          "text": [
            "391/391 [==============================] - 28s 70ms/step - loss: 0.3222 - accuracy: 0.8442\n",
            "Test Loss: 0.3222343623638153\n",
            "Test Accuracy: 0.8442000150680542\n"
          ],
          "name": "stdout"
        }
      ]
    },
    {
      "cell_type": "code",
      "metadata": {
        "id": "ykUKnAoqbycW",
        "colab": {
          "base_uri": "https://localhost:8080/"
        },
        "outputId": "465e0b4a-5903-4a57-9b11-01f7757a12db"
      },
      "source": [
        "# predict on a sample text without padding.\n",
        "\n",
        "sample_text = ('The movie was not good. The animation and the graphics '\n",
        "                    'were terrible. I would not recommend this movie.')\n",
        "predictions = model.predict(np.array([sample_text]))\n",
        "print(predictions)"
      ],
      "execution_count": 27,
      "outputs": [
        {
          "output_type": "stream",
          "text": [
            "[[-1.6811292]]\n"
          ],
          "name": "stdout"
        }
      ]
    },
    {
      "cell_type": "code",
      "metadata": {
        "id": "_YYub0EDtwCu",
        "colab": {
          "base_uri": "https://localhost:8080/",
          "height": 388
        },
        "outputId": "7ab053ba-c5e8-4337-90fb-50b480c84fb3"
      },
      "source": [
        "plt.figure(figsize=(16,6))\n",
        "plt.subplot(1,2,1)\n",
        "plot_graphs(history, 'accuracy')\n",
        "plt.subplot(1,2,2)\n",
        "plot_graphs(history, 'loss')"
      ],
      "execution_count": 28,
      "outputs": [
        {
          "output_type": "display_data",
          "data": {
            "image/png": "[encoded data removed]",
            "text/plain": [
              "<Figure size 1152x432 with 2 Axes>"
            ]
          },
          "metadata": {
            "tags": [],
            "needs_background": "light"
          }
        }
      ]
    },
    {
      "cell_type": "markdown",
      "metadata": {
        "id": "9xvpE3BaGw_V"
      },
      "source": [
        "Check out other existing recurrent layers such as [GRU layers](https://www.tensorflow.org/api_docs/python/tf/keras/layers/GRU).\n",
        "\n",
        "If you're interestied in building custom RNNs, see the [Keras RNN Guide](../../guide/keras/rnn.ipynb).\n"
      ]
    },
    {
      "cell_type": "code",
      "metadata": {
        "id": "4FEjZrMzH2VO"
      },
      "source": [
        ""
      ],
      "execution_count": 28,
      "outputs": []
    }
  ]
}