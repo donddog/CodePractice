{
 "cells": [
  {
   "cell_type": "markdown",
   "metadata": {},
   "source": [
    "### 패키지 불러오기"
   ]
  },
  {
   "cell_type": "code",
   "execution_count": 1,
   "metadata": {},
   "outputs": [],
   "source": [
    "import tensorflow as tf\n",
    "import numpy as np\n",
    "import os\n",
    "from tensorflow.keras.callbacks import EarlyStopping, ModelCheckpoint\n",
    "import matplotlib.pyplot as plt\n",
    "from preprocess import *"
   ]
  },
  {
   "cell_type": "markdown",
   "metadata": {},
   "source": [
    "### 시각화 함수"
   ]
  },
  {
   "cell_type": "code",
   "execution_count": 2,
   "metadata": {},
   "outputs": [],
   "source": [
    "def plot_graphs(history, string):\n",
    "    plt.plot(history.history[string])\n",
    "    plt.plot(history.history['val_'+string], '')\n",
    "    plt.xlabel(\"Epochs\")\n",
    "    plt.ylabel(string)\n",
    "    plt.legend([string, 'val_'+string])\n",
    "    plt.show()"
   ]
  },
  {
   "cell_type": "markdown",
   "metadata": {},
   "source": [
    "### 학습 데이터 경로 정의"
   ]
  },
  {
   "cell_type": "code",
   "execution_count": 3,
   "metadata": {},
   "outputs": [],
   "source": [
    "DATA_IN_PATH = './data_in/'\n",
    "DATA_OUT_PATH = './data_out/'\n",
    "TRAIN_INPUTS = 'train_inputs.npy'\n",
    "TRAIN_OUTPUTS = 'train_outputs.npy'\n",
    "TRAIN_TARGETS = 'train_targets.npy'\n",
    "DATA_CONFIGS = 'data_configs.json'"
   ]
  },
  {
   "cell_type": "markdown",
   "metadata": {},
   "source": [
    "### 랜덤 시드 고정"
   ]
  },
  {
   "cell_type": "code",
   "execution_count": 4,
   "metadata": {},
   "outputs": [],
   "source": [
    "SEED_NUM = 1234\n",
    "tf.random.set_seed(SEED_NUM)"
   ]
  },
  {
   "cell_type": "markdown",
   "metadata": {},
   "source": [
    "### 파일 로드"
   ]
  },
  {
   "cell_type": "code",
   "execution_count": 5,
   "metadata": {},
   "outputs": [],
   "source": [
    "index_inputs = np.load(open(DATA_IN_PATH + TRAIN_INPUTS, 'rb'))\n",
    "index_outputs = np.load(open(DATA_IN_PATH + TRAIN_OUTPUTS , 'rb'))\n",
    "index_targets = np.load(open(DATA_IN_PATH + TRAIN_TARGETS , 'rb'))\n",
    "prepro_configs = json.load(open(DATA_IN_PATH + DATA_CONFIGS, 'r'))"
   ]
  },
  {
   "cell_type": "code",
   "execution_count": 6,
   "metadata": {},
   "outputs": [
    {
     "name": "stdout",
     "output_type": "stream",
     "text": [
      "11823 11823 11823\n"
     ]
    }
   ],
   "source": [
    "print(len(index_inputs),  len(index_outputs), len(index_targets))"
   ]
  },
  {
   "cell_type": "markdown",
   "metadata": {},
   "source": [
    "### 모델 만들기에 필요한 값 선언"
   ]
  },
  {
   "cell_type": "code",
   "execution_count": 7,
   "metadata": {},
   "outputs": [],
   "source": [
    "MODEL_NAME = 'seq2seq_kor'\n",
    "BATCH_SIZE = 2\n",
    "MAX_SEQUENCE = 25\n",
    "EPOCH = 30\n",
    "UNITS = 1024\n",
    "EMBEDDING_DIM = 256\n",
    "VALIDATION_SPLIT = 0.1 \n",
    "\n",
    "char2idx = prepro_configs['char2idx']\n",
    "idx2char = prepro_configs['idx2char']\n",
    "std_index = prepro_configs['std_symbol']\n",
    "end_index = prepro_configs['end_symbol']\n",
    "vocab_size = prepro_configs['vocab_size']"
   ]
  },
  {
   "cell_type": "markdown",
   "metadata": {},
   "source": [
    "### 모델 "
   ]
  },
  {
   "cell_type": "markdown",
   "metadata": {},
   "source": [
    "### 인코더"
   ]
  },
  {
   "cell_type": "code",
   "execution_count": 8,
   "metadata": {},
   "outputs": [],
   "source": [
    "class Encoder(tf.keras.layers.Layer):\n",
    "    def __init__(self, vocab_size, embedding_dim, enc_units, batch_sz):\n",
    "        super(Encoder, self).__init__()\n",
    "        self.batch_sz = batch_sz\n",
    "        self.enc_units = enc_units\n",
    "        self.vocab_size = vocab_size \n",
    "        self.embedding_dim = embedding_dim          \n",
    "        \n",
    "        self.embedding = tf.keras.layers.Embedding(self.vocab_size, self.embedding_dim)\n",
    "        self.gru = tf.keras.layers.GRU(self.enc_units,\n",
    "                                       return_sequences=True,\n",
    "                                       return_state=True,\n",
    "                                       recurrent_initializer='glorot_uniform')\n",
    "\n",
    "    def call(self, x, hidden):\n",
    "        x = self.embedding(x)\n",
    "        output, state = self.gru(x, initial_state = hidden)\n",
    "        return output, state\n",
    "\n",
    "    def initialize_hidden_state(self, inp):\n",
    "        return tf.zeros((tf.shape(inp)[0], self.enc_units))"
   ]
  },
  {
   "cell_type": "markdown",
   "metadata": {},
   "source": [
    "### 어텐션"
   ]
  },
  {
   "cell_type": "code",
   "execution_count": 9,
   "metadata": {},
   "outputs": [],
   "source": [
    "class BahdanauAttention(tf.keras.layers.Layer):\n",
    "    def __init__(self, units):\n",
    "        super(BahdanauAttention, self).__init__()\n",
    "\n",
    "        self.W1 = tf.keras.layers.Dense(units)\n",
    "        self.W2 = tf.keras.layers.Dense(units)\n",
    "        self.V = tf.keras.layers.Dense(1)\n",
    "\n",
    "    def call(self, query, values):\n",
    "        hidden_with_time_axis = tf.expand_dims(query, 1)\n",
    "\n",
    "        score = self.V(tf.nn.tanh(\n",
    "            self.W1(values) + self.W2(hidden_with_time_axis)))\n",
    "\n",
    "        attention_weights = tf.nn.softmax(score, axis=1)\n",
    "\n",
    "        context_vector = attention_weights * values\n",
    "        context_vector = tf.reduce_sum(context_vector, axis=1)\n",
    "\n",
    "        return context_vector, attention_weights"
   ]
  },
  {
   "cell_type": "markdown",
   "metadata": {},
   "source": [
    "### 디코더"
   ]
  },
  {
   "cell_type": "code",
   "execution_count": 10,
   "metadata": {},
   "outputs": [],
   "source": [
    "class Decoder(tf.keras.layers.Layer):\n",
    "    def __init__(self, vocab_size, embedding_dim, dec_units, batch_sz):\n",
    "        super(Decoder, self).__init__()\n",
    "        \n",
    "        self.batch_sz = batch_sz\n",
    "        self.dec_units = dec_units\n",
    "        self.vocab_size = vocab_size \n",
    "        self.embedding_dim = embedding_dim  \n",
    "        \n",
    "        self.embedding = tf.keras.layers.Embedding(self.vocab_size, self.embedding_dim)\n",
    "        self.gru = tf.keras.layers.GRU(self.dec_units,\n",
    "                                       return_sequences=True,\n",
    "                                       return_state=True,\n",
    "                                       recurrent_initializer='glorot_uniform')\n",
    "        self.fc = tf.keras.layers.Dense(self.vocab_size)\n",
    "\n",
    "        self.attention = BahdanauAttention(self.dec_units)\n",
    "        \n",
    "    def call(self, x, hidden, enc_output):\n",
    "        context_vector, attention_weights = self.attention(hidden, enc_output)\n",
    "\n",
    "        x = self.embedding(x)\n",
    "\n",
    "        x = tf.concat([tf.expand_dims(context_vector, 1), x], axis=-1)\n",
    "\n",
    "        output, state = self.gru(x)\n",
    "        output = tf.reshape(output, (-1, output.shape[2]))\n",
    "            \n",
    "        x = self.fc(output)\n",
    "        \n",
    "        return x, state, attention_weights"
   ]
  },
  {
   "cell_type": "code",
   "execution_count": 11,
   "metadata": {},
   "outputs": [],
   "source": [
    "optimizer = tf.keras.optimizers.Adam()\n",
    "\n",
    "loss_object = tf.keras.losses.SparseCategoricalCrossentropy(from_logits=True, reduction='none')\n",
    "\n",
    "train_accuracy = tf.keras.metrics.SparseCategoricalAccuracy(name='accuracy')\n",
    "\n",
    "def loss(real, pred):\n",
    "    mask = tf.math.logical_not(tf.math.equal(real, 0))\n",
    "    loss_ = loss_object(real, pred)\n",
    "    mask = tf.cast(mask, dtype=loss_.dtype)\n",
    "    loss_ *= mask\n",
    "    return tf.reduce_mean(loss_)\n",
    "\n",
    "def accuracy(real, pred):\n",
    "    mask = tf.math.logical_not(tf.math.equal(real, 0))\n",
    "    mask = tf.expand_dims(tf.cast(mask, dtype=pred.dtype), axis=-1)\n",
    "    pred *= mask    \n",
    "    acc = train_accuracy(real, pred)\n",
    "\n",
    "    return tf.reduce_mean(acc)"
   ]
  },
  {
   "cell_type": "markdown",
   "metadata": {},
   "source": [
    "### 시퀀스 투 스퀀스 모델"
   ]
  },
  {
   "cell_type": "code",
   "execution_count": 12,
   "metadata": {},
   "outputs": [],
   "source": [
    "class seq2seq(tf.keras.Model):\n",
    "    def __init__(self, vocab_size, embedding_dim, enc_units, dec_units, batch_sz, end_token_idx=2):    \n",
    "        super(seq2seq, self).__init__()\n",
    "        self.end_token_idx = end_token_idx\n",
    "        self.encoder = Encoder(vocab_size, embedding_dim, enc_units, batch_sz) \n",
    "        self.decoder = Decoder(vocab_size, embedding_dim, dec_units, batch_sz) \n",
    "\n",
    "    def call(self, x):\n",
    "        inp, tar = x\n",
    "        \n",
    "        enc_hidden = self.encoder.initialize_hidden_state(inp)\n",
    "        enc_output, enc_hidden = self.encoder(inp, enc_hidden)\n",
    "\n",
    "        dec_hidden = enc_hidden\n",
    "\n",
    "        predict_tokens = list()\n",
    "\n",
    "        for t in range(0, tar.shape[1]):\n",
    "            dec_input = tf.dtypes.cast(tf.expand_dims(tar[:, t], 1), tf.float32) \n",
    "            predictions, dec_hidden, _ = self.decoder(dec_input, dec_hidden, enc_output)\n",
    "            predict_tokens.append(tf.dtypes.cast(predictions, tf.float32))   \n",
    "        \n",
    "        return tf.stack(predict_tokens, axis=1)\n",
    "    \n",
    "    def inference(self, x):\n",
    "        inp  = x\n",
    "\n",
    "        enc_hidden = self.encoder.initialize_hidden_state(inp)\n",
    "        enc_output, enc_hidden = self.encoder(inp, enc_hidden)\n",
    "\n",
    "        dec_hidden = enc_hidden\n",
    "        \n",
    "        dec_input = tf.expand_dims([char2idx[std_index]], 1)\n",
    "        \n",
    "        predict_tokens = list()\n",
    "        \n",
    "        for t in range(0, MAX_SEQUENCE):\n",
    "            predictions, dec_hidden, _ = self.decoder(dec_input, dec_hidden, enc_output)\n",
    "            predict_token = tf.argmax(predictions[0])\n",
    "            \n",
    "            if predict_token == self.end_token_idx:\n",
    "                break\n",
    "            \n",
    "            predict_tokens.append(predict_token)\n",
    "            dec_input = tf.dtypes.cast(tf.expand_dims([predict_token], 0), tf.float32)   \n",
    "            \n",
    "        return tf.stack(predict_tokens, axis=0).numpy()"
   ]
  },
  {
   "cell_type": "code",
   "execution_count": 13,
   "metadata": {},
   "outputs": [],
   "source": [
    "model = seq2seq(vocab_size, EMBEDDING_DIM, UNITS, UNITS, BATCH_SIZE, char2idx[end_index])\n",
    "model.compile(loss=loss, optimizer=tf.keras.optimizers.Adam(1e-3), metrics=[accuracy])\n",
    "#model.run_eagerly = True"
   ]
  },
  {
   "cell_type": "markdown",
   "metadata": {},
   "source": [
    "### 학습 진행"
   ]
  },
  {
   "cell_type": "code",
   "execution_count": 14,
   "metadata": {
    "scrolled": true
   },
   "outputs": [
    {
     "name": "stdout",
     "output_type": "stream",
     "text": [
      "Train on 10640 samples, validate on 1183 samples\n",
      "Epoch 1/30\n",
      "10638/10640 [============================>.] - ETA: 0s - loss: 1.4387 - accuracy: 0.8092\n",
      "Epoch 00001: val_accuracy improved from -inf to 0.81016, saving model to ./data_out/seq2seq_kor/weights.h5\n",
      "10640/10640 [==============================] - 661s 62ms/sample - loss: 1.4387 - accuracy: 0.8092 - val_loss: 1.6265 - val_accuracy: 0.8102\n",
      "Epoch 2/30\n",
      "10638/10640 [============================>.] - ETA: 0s - loss: 1.2123 - accuracy: 0.8133\n",
      "Epoch 00002: val_accuracy improved from 0.81016 to 0.81689, saving model to ./data_out/seq2seq_kor/weights.h5\n",
      "10640/10640 [==============================] - 618s 58ms/sample - loss: 1.2122 - accuracy: 0.8133 - val_loss: 1.6311 - val_accuracy: 0.8169\n",
      "Epoch 3/30\n",
      "10638/10640 [============================>.] - ETA: 0s - loss: 1.0277 - accuracy: 0.8208\n",
      "Epoch 00003: val_accuracy improved from 0.81689 to 0.82425, saving model to ./data_out/seq2seq_kor/weights.h5\n",
      "10640/10640 [==============================] - 619s 58ms/sample - loss: 1.0276 - accuracy: 0.8208 - val_loss: 1.6573 - val_accuracy: 0.8242\n",
      "Epoch 4/30\n",
      "10638/10640 [============================>.] - ETA: 0s - loss: 0.8084 - accuracy: 0.8287\n",
      "Epoch 00004: val_accuracy improved from 0.82425 to 0.83247, saving model to ./data_out/seq2seq_kor/weights.h5\n",
      "10640/10640 [==============================] - 615s 58ms/sample - loss: 0.8085 - accuracy: 0.8287 - val_loss: 1.7418 - val_accuracy: 0.8325\n",
      "Epoch 5/30\n",
      "10638/10640 [============================>.] - ETA: 0s - loss: 0.5662 - accuracy: 0.8379\n",
      "Epoch 00005: val_accuracy improved from 0.83247 to 0.84240, saving model to ./data_out/seq2seq_kor/weights.h5\n",
      "10640/10640 [==============================] - 615s 58ms/sample - loss: 0.5663 - accuracy: 0.8379 - val_loss: 1.9169 - val_accuracy: 0.8424\n",
      "Epoch 6/30\n",
      "10638/10640 [============================>.] - ETA: 0s - loss: 0.3637 - accuracy: 0.8486\n",
      "Epoch 00006: val_accuracy improved from 0.84240 to 0.85362, saving model to ./data_out/seq2seq_kor/weights.h5\n",
      "10640/10640 [==============================] - 615s 58ms/sample - loss: 0.3637 - accuracy: 0.8486 - val_loss: 2.0382 - val_accuracy: 0.8536\n",
      "Epoch 7/30\n",
      "10638/10640 [============================>.] - ETA: 0s - loss: 0.2199 - accuracy: 0.8598\n",
      "Epoch 00007: val_accuracy improved from 0.85362 to 0.86508, saving model to ./data_out/seq2seq_kor/weights.h5\n",
      "10640/10640 [==============================] - 614s 58ms/sample - loss: 0.2202 - accuracy: 0.8598 - val_loss: 2.1892 - val_accuracy: 0.8651\n",
      "Epoch 8/30\n",
      "10638/10640 [============================>.] - ETA: 0s - loss: 0.1320 - accuracy: 0.8709\n",
      "Epoch 00008: val_accuracy improved from 0.86508 to 0.87584, saving model to ./data_out/seq2seq_kor/weights.h5\n",
      "10640/10640 [==============================] - 614s 58ms/sample - loss: 0.1321 - accuracy: 0.8709 - val_loss: 2.3453 - val_accuracy: 0.8758\n",
      "Epoch 9/30\n",
      "10638/10640 [============================>.] - ETA: 0s - loss: 0.0840 - accuracy: 0.8809\n",
      "Epoch 00009: val_accuracy improved from 0.87584 to 0.88536, saving model to ./data_out/seq2seq_kor/weights.h5\n",
      "10640/10640 [==============================] - 615s 58ms/sample - loss: 0.0840 - accuracy: 0.8809 - val_loss: 2.4447 - val_accuracy: 0.8854\n",
      "Epoch 10/30\n",
      "10638/10640 [============================>.] - ETA: 0s - loss: 0.0594 - accuracy: 0.8897\n",
      "Epoch 00010: val_accuracy improved from 0.88536 to 0.89354, saving model to ./data_out/seq2seq_kor/weights.h5\n",
      "10640/10640 [==============================] - 614s 58ms/sample - loss: 0.0594 - accuracy: 0.8897 - val_loss: 2.4972 - val_accuracy: 0.8935\n",
      "Epoch 11/30\n",
      "10638/10640 [============================>.] - ETA: 0s - loss: 0.0467 - accuracy: 0.8972\n",
      "Epoch 00011: val_accuracy improved from 0.89354 to 0.90050, saving model to ./data_out/seq2seq_kor/weights.h5\n",
      "10640/10640 [==============================] - 614s 58ms/sample - loss: 0.0467 - accuracy: 0.8972 - val_loss: 2.5617 - val_accuracy: 0.9005\n",
      "Epoch 12/30\n",
      "10638/10640 [============================>.] - ETA: 0s - loss: 0.0399 - accuracy: 0.9036\n",
      "Epoch 00012: val_accuracy improved from 0.90050 to 0.90645, saving model to ./data_out/seq2seq_kor/weights.h5\n",
      "10640/10640 [==============================] - 618s 58ms/sample - loss: 0.0399 - accuracy: 0.9036 - val_loss: 2.6135 - val_accuracy: 0.9065\n",
      "Epoch 13/30\n",
      "10638/10640 [============================>.] - ETA: 0s - loss: 0.0356 - accuracy: 0.9091\n",
      "Epoch 00013: val_accuracy improved from 0.90645 to 0.91154, saving model to ./data_out/seq2seq_kor/weights.h5\n",
      "10640/10640 [==============================] - 615s 58ms/sample - loss: 0.0356 - accuracy: 0.9091 - val_loss: 2.6556 - val_accuracy: 0.9115\n",
      "Epoch 14/30\n",
      "10638/10640 [============================>.] - ETA: 0s - loss: 0.0318 - accuracy: 0.9138\n",
      "Epoch 00014: val_accuracy improved from 0.91154 to 0.91595, saving model to ./data_out/seq2seq_kor/weights.h5\n",
      "10640/10640 [==============================] - 616s 58ms/sample - loss: 0.0318 - accuracy: 0.9138 - val_loss: 2.6959 - val_accuracy: 0.9160\n",
      "Epoch 15/30\n",
      "10638/10640 [============================>.] - ETA: 0s - loss: 0.0289 - accuracy: 0.9180\n",
      "Epoch 00015: val_accuracy improved from 0.91595 to 0.91983, saving model to ./data_out/seq2seq_kor/weights.h5\n",
      "10640/10640 [==============================] - 628s 59ms/sample - loss: 0.0289 - accuracy: 0.9180 - val_loss: 2.6727 - val_accuracy: 0.9198\n",
      "Epoch 16/30\n",
      "10638/10640 [============================>.] - ETA: 0s - loss: 0.0273 - accuracy: 0.9216\n",
      "Epoch 00016: val_accuracy improved from 0.91983 to 0.92323, saving model to ./data_out/seq2seq_kor/weights.h5\n",
      "10640/10640 [==============================] - 624s 59ms/sample - loss: 0.0273 - accuracy: 0.9216 - val_loss: 2.7401 - val_accuracy: 0.9232\n",
      "Epoch 17/30\n",
      "10638/10640 [============================>.] - ETA: 0s - loss: 0.0262 - accuracy: 0.9248\n",
      "Epoch 00017: val_accuracy improved from 0.92323 to 0.92624, saving model to ./data_out/seq2seq_kor/weights.h5\n",
      "10640/10640 [==============================] - 614s 58ms/sample - loss: 0.0262 - accuracy: 0.9248 - val_loss: 2.8171 - val_accuracy: 0.9262\n",
      "Epoch 18/30\n",
      "10638/10640 [============================>.] - ETA: 0s - loss: 0.0258 - accuracy: 0.9276\n",
      "Epoch 00018: val_accuracy improved from 0.92624 to 0.92891, saving model to ./data_out/seq2seq_kor/weights.h5\n",
      "10640/10640 [==============================] - 614s 58ms/sample - loss: 0.0257 - accuracy: 0.9276 - val_loss: 2.7855 - val_accuracy: 0.9289\n",
      "Epoch 19/30\n",
      "10638/10640 [============================>.] - ETA: 0s - loss: 0.0226 - accuracy: 0.9302\n",
      "Epoch 00019: val_accuracy improved from 0.92891 to 0.93134, saving model to ./data_out/seq2seq_kor/weights.h5\n",
      "10640/10640 [==============================] - 616s 58ms/sample - loss: 0.0226 - accuracy: 0.9302 - val_loss: 2.8671 - val_accuracy: 0.9313\n",
      "Epoch 20/30\n",
      "10638/10640 [============================>.] - ETA: 0s - loss: 0.0219 - accuracy: 0.9325\n",
      "Epoch 00020: val_accuracy improved from 0.93134 to 0.93353, saving model to ./data_out/seq2seq_kor/weights.h5\n",
      "10640/10640 [==============================] - 629s 59ms/sample - loss: 0.0219 - accuracy: 0.9325 - val_loss: 2.8641 - val_accuracy: 0.9335\n",
      "Epoch 21/30\n",
      "10638/10640 [============================>.] - ETA: 0s - loss: 0.0214 - accuracy: 0.9345\n",
      "Epoch 00021: val_accuracy improved from 0.93353 to 0.93551, saving model to ./data_out/seq2seq_kor/weights.h5\n",
      "10640/10640 [==============================] - 631s 59ms/sample - loss: 0.0214 - accuracy: 0.9345 - val_loss: 2.8889 - val_accuracy: 0.9355\n",
      "Epoch 22/30\n",
      "10638/10640 [============================>.] - ETA: 0s - loss: 0.0213 - accuracy: 0.9365\n",
      "Epoch 00022: val_accuracy improved from 0.93551 to 0.93732, saving model to ./data_out/seq2seq_kor/weights.h5\n",
      "10640/10640 [==============================] - 618s 58ms/sample - loss: 0.0213 - accuracy: 0.9365 - val_loss: 2.9156 - val_accuracy: 0.9373\n",
      "Epoch 23/30\n",
      "10638/10640 [============================>.] - ETA: 0s - loss: 0.0200 - accuracy: 0.9382\n",
      "Epoch 00023: val_accuracy improved from 0.93732 to 0.93898, saving model to ./data_out/seq2seq_kor/weights.h5\n",
      "10640/10640 [==============================] - 615s 58ms/sample - loss: 0.0200 - accuracy: 0.9382 - val_loss: 2.9519 - val_accuracy: 0.9390\n",
      "Epoch 24/30\n"
     ]
    },
    {
     "name": "stdout",
     "output_type": "stream",
     "text": [
      "10638/10640 [============================>.] - ETA: 0s - loss: 0.0215 - accuracy: 0.9398\n",
      "Epoch 00024: val_accuracy improved from 0.93898 to 0.94048, saving model to ./data_out/seq2seq_kor/weights.h5\n",
      "10640/10640 [==============================] - 616s 58ms/sample - loss: 0.0215 - accuracy: 0.9398 - val_loss: 2.9811 - val_accuracy: 0.9405\n",
      "Epoch 25/30\n",
      "10638/10640 [============================>.] - ETA: 0s - loss: 0.0183 - accuracy: 0.9412\n",
      "Epoch 00025: val_accuracy improved from 0.94048 to 0.94189, saving model to ./data_out/seq2seq_kor/weights.h5\n",
      "10640/10640 [==============================] - 617s 58ms/sample - loss: 0.0183 - accuracy: 0.9412 - val_loss: 3.0232 - val_accuracy: 0.9419\n",
      "Epoch 26/30\n",
      "10638/10640 [============================>.] - ETA: 0s - loss: 0.0192 - accuracy: 0.9426\n",
      "Epoch 00026: val_accuracy improved from 0.94189 to 0.94319, saving model to ./data_out/seq2seq_kor/weights.h5\n",
      "10640/10640 [==============================] - 616s 58ms/sample - loss: 0.0192 - accuracy: 0.9426 - val_loss: 3.0563 - val_accuracy: 0.9432\n",
      "Epoch 27/30\n",
      "10638/10640 [============================>.] - ETA: 0s - loss: 0.0193 - accuracy: 0.9438\n",
      "Epoch 00027: val_accuracy improved from 0.94319 to 0.94439, saving model to ./data_out/seq2seq_kor/weights.h5\n",
      "10640/10640 [==============================] - 617s 58ms/sample - loss: 0.0193 - accuracy: 0.9438 - val_loss: 3.0838 - val_accuracy: 0.9444\n",
      "Epoch 28/30\n",
      "10638/10640 [============================>.] - ETA: 0s - loss: 0.0183 - accuracy: 0.9450\n",
      "Epoch 00028: val_accuracy improved from 0.94439 to 0.94551, saving model to ./data_out/seq2seq_kor/weights.h5\n",
      "10640/10640 [==============================] - 621s 58ms/sample - loss: 0.0183 - accuracy: 0.9450 - val_loss: 3.1511 - val_accuracy: 0.9455\n",
      "Epoch 29/30\n",
      "10638/10640 [============================>.] - ETA: 0s - loss: 0.0185 - accuracy: 0.9461\n",
      "Epoch 00029: val_accuracy improved from 0.94551 to 0.94656, saving model to ./data_out/seq2seq_kor/weights.h5\n",
      "10640/10640 [==============================] - 620s 58ms/sample - loss: 0.0185 - accuracy: 0.9461 - val_loss: 3.1586 - val_accuracy: 0.9466\n",
      "Epoch 30/30\n",
      "10638/10640 [============================>.] - ETA: 0s - loss: 0.0188 - accuracy: 0.9471\n",
      "Epoch 00030: val_accuracy improved from 0.94656 to 0.94752, saving model to ./data_out/seq2seq_kor/weights.h5\n",
      "10640/10640 [==============================] - 627s 59ms/sample - loss: 0.0188 - accuracy: 0.9471 - val_loss: 3.1243 - val_accuracy: 0.9475\n"
     ]
    }
   ],
   "source": [
    "PATH = DATA_OUT_PATH + MODEL_NAME\n",
    "\n",
    "if not(os.path.isdir(PATH)):\n",
    "        os.makedirs(os.path.join(PATH))\n",
    "        \n",
    "checkpoint_path = DATA_OUT_PATH + MODEL_NAME + '/weights.h5'\n",
    "    \n",
    "cp_callback = ModelCheckpoint(\n",
    "    checkpoint_path, monitor='val_accuracy', verbose=1, save_best_only=True, save_weights_only=True)\n",
    "\n",
    "earlystop_callback = EarlyStopping(monitor='val_accuracy', min_delta=0.0001, patience=10)\n",
    "\n",
    "history = model.fit([index_inputs, index_outputs], index_targets,\n",
    "                    batch_size=BATCH_SIZE, epochs=EPOCH,\n",
    "                    validation_split=VALIDATION_SPLIT, callbacks=[earlystop_callback, cp_callback])"
   ]
  },
  {
   "cell_type": "markdown",
   "metadata": {},
   "source": [
    "### 결과 플롯"
   ]
  },
  {
   "cell_type": "code",
   "execution_count": 15,
   "metadata": {},
   "outputs": [
    {
     "data": {
      "image/png": "[encoded data removed]",
      "text/plain": [
       "<Figure size 432x288 with 1 Axes>"
      ]
     },
     "metadata": {
      "needs_background": "light"
     },
     "output_type": "display_data"
    }
   ],
   "source": [
    "plot_graphs(history, 'accuracy')"
   ]
  },
  {
   "cell_type": "code",
   "execution_count": 16,
   "metadata": {},
   "outputs": [
    {
     "data": {
      "image/png": "[encoded data removed]",
      "text/plain": [
       "<Figure size 432x288 with 1 Axes>"
      ]
     },
     "metadata": {
      "needs_background": "light"
     },
     "output_type": "display_data"
    }
   ],
   "source": [
    "plot_graphs(history, 'loss')"
   ]
  },
  {
   "cell_type": "markdown",
   "metadata": {},
   "source": [
    "### 결과 확인"
   ]
  },
  {
   "cell_type": "code",
   "execution_count": 17,
   "metadata": {},
   "outputs": [],
   "source": [
    "SAVE_FILE_NM = \"weights.h5\"\n",
    "model.load_weights(os.path.join(DATA_OUT_PATH, MODEL_NAME, SAVE_FILE_NM))"
   ]
  },
  {
   "cell_type": "code",
   "execution_count": 35,
   "metadata": {},
   "outputs": [
    {
     "name": "stdout",
     "output_type": "stream",
     "text": [
      "[1997]\n",
      "부러워요\n"
     ]
    }
   ],
   "source": [
    "query = \"남자친구 승진 선물로 뭐가 좋을까?\"\n",
    "\n",
    "test_index_inputs, _ = enc_processing([query], char2idx)    \n",
    "predict_tokens = model.inference(test_index_inputs)\n",
    "\n",
    "print(predict_tokens)\n",
    "print(' '.join([idx2char[str(t)] for t in predict_tokens]))"
   ]
  },
  {
   "cell_type": "code",
   "execution_count": null,
   "metadata": {},
   "outputs": [],
   "source": []
  }
 ],
 "metadata": {
  "kernelspec": {
   "display_name": "Python 3",
   "language": "python",
   "name": "python3"
  },
  "language_info": {
   "codemirror_mode": {
    "name": "ipython",
    "version": 3
   },
   "file_extension": ".py",
   "mimetype": "text/x-python",
   "name": "python",
   "nbconvert_exporter": "python",
   "pygments_lexer": "ipython3",
   "version": "3.7.9"
  }
 },
 "nbformat": 4,
 "nbformat_minor": 4
}
