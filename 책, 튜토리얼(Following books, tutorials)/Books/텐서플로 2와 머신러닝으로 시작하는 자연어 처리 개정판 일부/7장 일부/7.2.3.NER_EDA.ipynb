{
 "cells": [
  {
   "cell_type": "code",
   "execution_count": 1,
   "metadata": {},
   "outputs": [
    {
     "name": "stderr",
     "output_type": "stream",
     "text": [
      "Neither PyTorch nor TensorFlow >= 2.0 have been found.Models won't be available and only tokenizers, configurationand file/data utilities can be used.\n"
     ]
    }
   ],
   "source": [
    "import numpy as np\n",
    "import pandas as pd\n",
    "import os\n",
    "import matplotlib.pyplot as plt\n",
    "import seaborn as sns\n",
    "from transformers import BertTokenizer"
   ]
  },
  {
   "cell_type": "code",
   "execution_count": 2,
   "metadata": {},
   "outputs": [],
   "source": [
    "DATA_IN_PATH = 'data_in/KOR'\n",
    "DATA_TRAIN_PATH = os.path.join(DATA_IN_PATH, \"NER\", \"train.tsv\")\n",
    "DATA_TEST_PATH = os.path.join(DATA_IN_PATH, \"NER\", \"test.tsv\")\n",
    "DATA_LABEL_PATH = os.path.join(DATA_IN_PATH, \"NER\", \"label.txt\")"
   ]
  },
  {
   "cell_type": "code",
   "execution_count": 3,
   "metadata": {},
   "outputs": [],
   "source": [
    "def read_file(input_path):\n",
    "    \"\"\"Read tsv file, and return words and label as list\"\"\"\n",
    "    with open(input_path, \"r\", encoding=\"utf-8\") as f:\n",
    "        sentences = []\n",
    "        labels = []\n",
    "        \n",
    "        for line in f:\n",
    "            split_line = line.strip().split(\"\\t\")\n",
    "            sentences.append(split_line[0])\n",
    "            labels.append(split_line[1])\n",
    "            \n",
    "        return sentences, labels\n",
    "    \n",
    "train_sentences, train_labels = read_file(DATA_TRAIN_PATH)\n",
    "test_sentences, test_labels = read_file(DATA_TEST_PATH)\n",
    "ner_sentences = train_sentences + test_sentences\n",
    "ner_labels = train_labels + test_labels\n",
    "\n",
    "ner_dict = {\"sentence\": ner_sentences, \"label\": ner_labels}\n",
    "ner_df = pd.DataFrame(ner_dict)"
   ]
  },
  {
   "cell_type": "code",
   "execution_count": 4,
   "metadata": {},
   "outputs": [
    {
     "name": "stdout",
     "output_type": "stream",
     "text": [
      "전체 ner_data 개수: 90000\n"
     ]
    }
   ],
   "source": [
    "print('전체 ner_data 개수: {}'.format(len(ner_df)))"
   ]
  },
  {
   "cell_type": "code",
   "execution_count": 5,
   "metadata": {},
   "outputs": [
    {
     "name": "stdout",
     "output_type": "stream",
     "text": [
      "유일한 총 문장 수 : 88703\n",
      "반복해서 나타나는 문장의 수: 288\n"
     ]
    }
   ],
   "source": [
    "train_set = pd.Series(ner_df[\"sentence\"].tolist())\n",
    "\n",
    "print('유일한 총 문장 수 : {}'.format(len(np.unique(train_set))))\n",
    "print('반복해서 나타나는 문장의 수: {}'.format(np.sum(train_set.value_counts() > 1)))"
   ]
  },
  {
   "cell_type": "code",
   "execution_count": 6,
   "metadata": {},
   "outputs": [
    {
     "data": {
      "text/plain": [
       "Text(0, 0.5, 'Number of sentence')"
      ]
     },
     "execution_count": 6,
     "metadata": {},
     "output_type": "execute_result"
    },
    {
     "data": {
      "image/png": "[encoded data removed]",
      "text/plain": [
       "<Figure size 864x360 with 1 Axes>"
      ]
     },
     "metadata": {
      "needs_background": "light"
     },
     "output_type": "display_data"
    }
   ],
   "source": [
    "plt.figure(figsize=(12, 5))\n",
    "plt.hist(train_set.value_counts(), bins=50, alpha=0.5, color= 'r', label='word')\n",
    "plt.yscale('log', nonposy='clip')\n",
    "plt.title('Log-Histogram of sentence appearance counts')\n",
    "plt.xlabel('Number of occurrences of sentence')\n",
    "plt.ylabel('Number of sentence')"
   ]
  },
  {
   "cell_type": "code",
   "execution_count": 7,
   "metadata": {},
   "outputs": [
    {
     "name": "stdout",
     "output_type": "stream",
     "text": [
      "중복 최대 개수: 116\n",
      "중복 최소 개수: 1\n",
      "중복 평균 개수: 1.01\n",
      "중복 표준편차: 0.92\n",
      "중복 중간길이: 1.0\n",
      "제 1 사분위 중복: 1.0\n",
      "제 3 사분위 중복: 1.0\n"
     ]
    }
   ],
   "source": [
    "print('중복 최대 개수: {}'.format(np.max(train_set.value_counts())))\n",
    "print('중복 최소 개수: {}'.format(np.min(train_set.value_counts())))\n",
    "\n",
    "print('중복 평균 개수: {:.2f}'.format(np.mean(train_set.value_counts())))\n",
    "print('중복 표준편차: {:.2f}'.format(np.std(train_set.value_counts())))\n",
    "print('중복 중간길이: {}'.format(np.median(train_set.value_counts())))\n",
    "\n",
    "print('제 1 사분위 중복: {}'.format(np.percentile(train_set.value_counts(), 25)))\n",
    "print('제 3 사분위 중복: {}'.format(np.percentile(train_set.value_counts(), 75)))"
   ]
  },
  {
   "cell_type": "code",
   "execution_count": 8,
   "metadata": {},
   "outputs": [
    {
     "data": {
      "text/plain": [
       "{'whiskers': [<matplotlib.lines.Line2D at 0x2630ea991c8>,\n",
       "  <matplotlib.lines.Line2D at 0x2630eaa2fc8>],\n",
       " 'caps': [<matplotlib.lines.Line2D at 0x2630ea79d88>,\n",
       "  <matplotlib.lines.Line2D at 0x2630ea569c8>],\n",
       " 'boxes': [<matplotlib.lines.Line2D at 0x2630eaa2c48>],\n",
       " 'medians': [<matplotlib.lines.Line2D at 0x2630ea56088>],\n",
       " 'fliers': [<matplotlib.lines.Line2D at 0x2630eb06848>],\n",
       " 'means': [<matplotlib.lines.Line2D at 0x2630ea9d088>]}"
      ]
     },
     "execution_count": 8,
     "metadata": {},
     "output_type": "execute_result"
    },
    {
     "data": {
      "image/png": "[encoded data removed]",
      "text/plain": [
       "<Figure size 864x360 with 1 Axes>"
      ]
     },
     "metadata": {
      "needs_background": "light"
     },
     "output_type": "display_data"
    }
   ],
   "source": [
    "plt.figure(figsize=(12, 5))\n",
    "\n",
    "plt.boxplot([train_set.value_counts()],\n",
    "             labels=['counts'],\n",
    "             showmeans=True)"
   ]
  },
  {
   "cell_type": "code",
   "execution_count": 9,
   "metadata": {},
   "outputs": [],
   "source": [
    "train_length = train_set.apply(len)"
   ]
  },
  {
   "cell_type": "code",
   "execution_count": 10,
   "metadata": {},
   "outputs": [
    {
     "data": {
      "text/plain": [
       "'금석객잔 여러분, 감사드립니다 .'"
      ]
     },
     "execution_count": 10,
     "metadata": {},
     "output_type": "execute_result"
    }
   ],
   "source": [
    "train_set[0]"
   ]
  },
  {
   "cell_type": "code",
   "execution_count": 11,
   "metadata": {},
   "outputs": [
    {
     "data": {
      "text/plain": [
       "0         18\n",
       "1         39\n",
       "2         60\n",
       "3        125\n",
       "4         18\n",
       "        ... \n",
       "89995     19\n",
       "89996     62\n",
       "89997     22\n",
       "89998     54\n",
       "89999     50\n",
       "Length: 90000, dtype: int64"
      ]
     },
     "execution_count": 11,
     "metadata": {},
     "output_type": "execute_result"
    }
   ],
   "source": [
    "train_length"
   ]
  },
  {
   "cell_type": "code",
   "execution_count": 12,
   "metadata": {},
   "outputs": [
    {
     "name": "stdout",
     "output_type": "stream",
     "text": [
      "문장 길이 최대 값: 1162\n",
      "문장 길이 평균 값: 50.90\n",
      "문장 길이 표준편차: 34.15\n",
      "문장 길이 중간 값: 43.0\n",
      "문장 길이 제 1 사분위: 29.0\n",
      "문장 길이 제 3 사분위: 63.0\n"
     ]
    }
   ],
   "source": [
    "print('문장 길이 최대 값: {}'.format(np.max(train_length)))\n",
    "print('문장 길이 평균 값: {:.2f}'.format(np.mean(train_length)))\n",
    "print('문장 길이 표준편차: {:.2f}'.format(np.std(train_length)))\n",
    "print('문장 길이 중간 값: {}'.format(np.median(train_length)))\n",
    "print('문장 길이 제 1 사분위: {}'.format(np.percentile(train_length, 25)))\n",
    "print('문장 길이 제 3 사분위: {}'.format(np.percentile(train_length, 75)))"
   ]
  },
  {
   "cell_type": "code",
   "execution_count": 13,
   "metadata": {},
   "outputs": [
    {
     "data": {
      "text/plain": [
       "Text(0, 0.5, 'Probability')"
      ]
     },
     "execution_count": 13,
     "metadata": {},
     "output_type": "execute_result"
    },
    {
     "data": {
      "image/png": "[encoded data removed]",
      "text/plain": [
       "<Figure size 1080x720 with 1 Axes>"
      ]
     },
     "metadata": {
      "needs_background": "light"
     },
     "output_type": "display_data"
    }
   ],
   "source": [
    "plt.figure(figsize=(15, 10))\n",
    "plt.hist(train_length, bins=200, range=[0,200], facecolor='r', density=True, label='train')\n",
    "plt.title(\"Distribution of character count in sentence\", fontsize=15)\n",
    "plt.legend()\n",
    "plt.xlabel('Number of characters', fontsize=15)\n",
    "plt.ylabel('Probability', fontsize=15)"
   ]
  },
  {
   "cell_type": "code",
   "execution_count": 14,
   "metadata": {},
   "outputs": [
    {
     "data": {
      "text/plain": [
       "{'whiskers': [<matplotlib.lines.Line2D at 0x26310381b48>,\n",
       "  <matplotlib.lines.Line2D at 0x26310381c88>],\n",
       " 'caps': [<matplotlib.lines.Line2D at 0x26310387948>,\n",
       "  <matplotlib.lines.Line2D at 0x26310387a88>],\n",
       " 'boxes': [<matplotlib.lines.Line2D at 0x263103812c8>],\n",
       " 'medians': [<matplotlib.lines.Line2D at 0x2631038a908>],\n",
       " 'fliers': [<matplotlib.lines.Line2D at 0x2631039f9c8>],\n",
       " 'means': [<matplotlib.lines.Line2D at 0x2631038aa88>]}"
      ]
     },
     "execution_count": 14,
     "metadata": {},
     "output_type": "execute_result"
    },
    {
     "data": {
      "image/png": "[encoded data removed]",
      "text/plain": [
       "<Figure size 864x360 with 1 Axes>"
      ]
     },
     "metadata": {
      "needs_background": "light"
     },
     "output_type": "display_data"
    }
   ],
   "source": [
    "plt.figure(figsize=(12, 5))\n",
    "\n",
    "plt.boxplot(train_length,\n",
    "             labels=['char counts'],\n",
    "             showmeans=True)"
   ]
  },
  {
   "cell_type": "code",
   "execution_count": 15,
   "metadata": {},
   "outputs": [
    {
     "name": "stdout",
     "output_type": "stream",
     "text": [
      "문장 단어 개수 최대 값: 175\n",
      "문장 단어 개수 평균 값: 11.82\n",
      "문장 단어 개수 표준편차: 7.03\n",
      "문장 단어 개수 중간 값: 10.0\n",
      "문장 단어 개수 제 1 사분위: 7.0\n",
      "문장 단어 개수 제 3 사분위: 15.0\n",
      "문장 단어 개수 99 퍼센트: 35.0\n"
     ]
    }
   ],
   "source": [
    "train_word_counts = train_set.apply(lambda x:len(x.split(' ')))\n",
    "\n",
    "print('문장 단어 개수 최대 값: {}'.format(np.max(train_word_counts)))\n",
    "print('문장 단어 개수 평균 값: {:.2f}'.format(np.mean(train_word_counts)))\n",
    "print('문장 단어 개수 표준편차: {:.2f}'.format(np.std(train_word_counts)))\n",
    "print('문장 단어 개수 중간 값: {}'.format(np.median(train_word_counts)))\n",
    "print('문장 단어 개수 제 1 사분위: {}'.format(np.percentile(train_word_counts, 25)))\n",
    "print('문장 단어 개수 제 3 사분위: {}'.format(np.percentile(train_word_counts, 75)))\n",
    "print('문장 단어 개수 99 퍼센트: {}'.format(np.percentile(train_word_counts, 99)))"
   ]
  },
  {
   "cell_type": "code",
   "execution_count": 16,
   "metadata": {},
   "outputs": [
    {
     "data": {
      "text/plain": [
       "Text(0, 0.5, 'Probability')"
      ]
     },
     "execution_count": 16,
     "metadata": {},
     "output_type": "execute_result"
    },
    {
     "data": {
      "image/png": "[encoded data removed]",
      "text/plain": [
       "<Figure size 1080x720 with 1 Axes>"
      ]
     },
     "metadata": {
      "needs_background": "light"
     },
     "output_type": "display_data"
    }
   ],
   "source": [
    "plt.figure(figsize=(15, 10))\n",
    "plt.hist(train_word_counts, bins=50, range=[0, 50], facecolor='r', density=True, label='train')\n",
    "plt.title('Distribution of word count in sentence', fontsize=15)\n",
    "plt.legend()\n",
    "plt.xlabel('Number of words', fontsize=15)\n",
    "plt.ylabel('Probability', fontsize=15)"
   ]
  },
  {
   "cell_type": "code",
   "execution_count": 17,
   "metadata": {},
   "outputs": [
    {
     "data": {
      "text/plain": [
       "{'whiskers': [<matplotlib.lines.Line2D at 0x26310167cc8>,\n",
       "  <matplotlib.lines.Line2D at 0x26310167e08>],\n",
       " 'caps': [<matplotlib.lines.Line2D at 0x2631016ca88>,\n",
       "  <matplotlib.lines.Line2D at 0x2631016cbc8>],\n",
       " 'boxes': [<matplotlib.lines.Line2D at 0x26310167448>],\n",
       " 'medians': [<matplotlib.lines.Line2D at 0x26310172908>],\n",
       " 'fliers': [<matplotlib.lines.Line2D at 0x26310179848>],\n",
       " 'means': [<matplotlib.lines.Line2D at 0x26310172a48>]}"
      ]
     },
     "execution_count": 17,
     "metadata": {},
     "output_type": "execute_result"
    },
    {
     "data": {
      "image/png": "[encoded data removed]",
      "text/plain": [
       "<Figure size 864x360 with 1 Axes>"
      ]
     },
     "metadata": {
      "needs_background": "light"
     },
     "output_type": "display_data"
    }
   ],
   "source": [
    "plt.figure(figsize=(12, 5))\n",
    "\n",
    "plt.boxplot(train_word_counts,\n",
    "             labels=['counts'],\n",
    "             showmeans=True)"
   ]
  },
  {
   "cell_type": "code",
   "execution_count": 18,
   "metadata": {},
   "outputs": [],
   "source": [
    "qmarks = np.mean(train_set.apply(lambda x: '?' in x))\n",
    "math = np.mean(train_set.apply(lambda x: '[math]' in x))\n",
    "fullstop = np.mean(train_set.apply(lambda x: '.' in x))\n",
    "capital_first = np.mean(train_set.apply(lambda x: x[0].isupper()))\n",
    "capitals = np.mean(train_set.apply(lambda x: max([y.isupper() for y in x])))\n",
    "numbers = np.mean(train_set.apply(lambda x: max([y.isdigit() for y in x])))"
   ]
  },
  {
   "cell_type": "code",
   "execution_count": 19,
   "metadata": {},
   "outputs": [
    {
     "name": "stdout",
     "output_type": "stream",
     "text": [
      "물음표가있는 문장: 2.24%\n",
      "수학 태그가있는 문장: 0.00%\n",
      "마침표를 포함한 문장: 84.92%\n",
      "첫 글자가 대문자 인 문장: 2.87%\n",
      "대문자가있는 문장: 16.65%\n",
      "숫자가있는 문장: 41.61%\n"
     ]
    }
   ],
   "source": [
    "qmarks = np.mean(train_set.apply(lambda x: '?' in x)) \n",
    "math = np.mean(train_set.apply(lambda x: '[math]' in x)) \n",
    "fullstop = np.mean(train_set.apply(lambda x: '.' in x)) \n",
    "capital_first = np.mean(train_set.apply(lambda x: x[0].isupper())) \n",
    "capitals = np.mean(train_set.apply(lambda x: max([y.isupper() for y in x]))) \n",
    "numbers = np.mean(train_set.apply(lambda x: max([y.isdigit() for y in x]))) \n",
    "                  \n",
    "print('물음표가있는 문장: {:.2f}%'.format(qmarks * 100))\n",
    "print('수학 태그가있는 문장: {:.2f}%'.format(math * 100))\n",
    "print('마침표를 포함한 문장: {:.2f}%'.format(fullstop * 100))\n",
    "print('첫 글자가 대문자 인 문장: {:.2f}%'.format(capital_first * 100))\n",
    "print('대문자가있는 문장: {:.2f}%'.format(capitals * 100))\n",
    "print('숫자가있는 문장: {:.2f}%'.format(numbers * 100))"
   ]
  },
  {
   "cell_type": "markdown",
   "metadata": {},
   "source": [
    "## Tokenizer cased"
   ]
  },
  {
   "cell_type": "code",
   "execution_count": 20,
   "metadata": {},
   "outputs": [],
   "source": [
    "tokenizer = BertTokenizer.from_pretrained(\"bert-base-multilingual-cased\", cache_dir='bert_ckpt', do_lower_case=False)"
   ]
  },
  {
   "cell_type": "code",
   "execution_count": 21,
   "metadata": {},
   "outputs": [],
   "source": [
    "train_bert_token_counts = train_set.apply(lambda x:len(tokenizer.tokenize(x)))"
   ]
  },
  {
   "cell_type": "code",
   "execution_count": 22,
   "metadata": {},
   "outputs": [
    {
     "data": {
      "text/plain": [
       "Text(0, 0.5, 'Probability')"
      ]
     },
     "execution_count": 22,
     "metadata": {},
     "output_type": "execute_result"
    },
    {
     "data": {
      "image/png": "[encoded data removed]",
      "text/plain": [
       "<Figure size 1080x720 with 1 Axes>"
      ]
     },
     "metadata": {
      "needs_background": "light"
     },
     "output_type": "display_data"
    }
   ],
   "source": [
    "plt.figure(figsize=(15, 10))\n",
    "plt.hist(train_bert_token_counts, bins=200, range=[0, 200], facecolor='r', density=True, label='train')\n",
    "plt.title('Distribution of tokens count in sentence', fontsize=15)\n",
    "plt.legend()\n",
    "plt.xlabel('Number of tokens', fontsize=15)\n",
    "plt.ylabel('Probability', fontsize=15)"
   ]
  },
  {
   "cell_type": "code",
   "execution_count": 23,
   "metadata": {},
   "outputs": [
    {
     "name": "stdout",
     "output_type": "stream",
     "text": [
      "문장 tokens 개수 최대 값: 850\n",
      "문장 tokens 개수 평균 값: 33.62\n",
      "문장 tokens 개수 표준편차: 22.76\n",
      "문장 tokens 개수 중간 값: 28.0\n",
      "문장 tokens 개수 제 1 사분위: 19.0\n",
      "문장 tokens 개수 제 3 사분위: 41.0\n",
      "문장 tokens 개수 99 퍼센트: 111.0\n"
     ]
    }
   ],
   "source": [
    "print('문장 tokens 개수 최대 값: {}'.format(np.max(train_bert_token_counts)))\n",
    "print('문장 tokens 개수 평균 값: {:.2f}'.format(np.mean(train_bert_token_counts)))\n",
    "print('문장 tokens 개수 표준편차: {:.2f}'.format(np.std(train_bert_token_counts)))\n",
    "print('문장 tokens 개수 중간 값: {}'.format(np.median(train_bert_token_counts)))\n",
    "print('문장 tokens 개수 제 1 사분위: {}'.format(np.percentile(train_bert_token_counts, 25)))\n",
    "print('문장 tokens 개수 제 3 사분위: {}'.format(np.percentile(train_bert_token_counts, 75)))\n",
    "print('문장 tokens 개수 99 퍼센트: {}'.format(np.percentile(train_bert_token_counts, 99)))"
   ]
  },
  {
   "cell_type": "code",
   "execution_count": 24,
   "metadata": {},
   "outputs": [
    {
     "data": {
      "text/plain": [
       "{'whiskers': [<matplotlib.lines.Line2D at 0x2630e942b08>,\n",
       "  <matplotlib.lines.Line2D at 0x2630e946f48>],\n",
       " 'caps': [<matplotlib.lines.Line2D at 0x2630e948bc8>,\n",
       "  <matplotlib.lines.Line2D at 0x2630e948d08>],\n",
       " 'boxes': [<matplotlib.lines.Line2D at 0x2630e946808>],\n",
       " 'medians': [<matplotlib.lines.Line2D at 0x2630e94da48>],\n",
       " 'fliers': [<matplotlib.lines.Line2D at 0x263101a2988>],\n",
       " 'means': [<matplotlib.lines.Line2D at 0x2630e94db88>]}"
      ]
     },
     "execution_count": 24,
     "metadata": {},
     "output_type": "execute_result"
    },
    {
     "data": {
      "image/png": "[encoded data removed]",
      "text/plain": [
       "<Figure size 864x360 with 1 Axes>"
      ]
     },
     "metadata": {
      "needs_background": "light"
     },
     "output_type": "display_data"
    }
   ],
   "source": [
    "plt.figure(figsize=(12, 5))\n",
    "\n",
    "plt.boxplot(train_bert_token_counts,\n",
    "             labels=['counts'],\n",
    "             showmeans=True)"
   ]
  },
  {
   "cell_type": "code",
   "execution_count": null,
   "metadata": {},
   "outputs": [],
   "source": []
  }
 ],
 "metadata": {
  "kernelspec": {
   "display_name": "Python 3",
   "language": "python",
   "name": "python3"
  },
  "language_info": {
   "codemirror_mode": {
    "name": "ipython",
    "version": 3
   },
   "file_extension": ".py",
   "mimetype": "text/x-python",
   "name": "python",
   "nbconvert_exporter": "python",
   "pygments_lexer": "ipython3",
   "version": "3.7.9"
  }
 },
 "nbformat": 4,
 "nbformat_minor": 2
}
