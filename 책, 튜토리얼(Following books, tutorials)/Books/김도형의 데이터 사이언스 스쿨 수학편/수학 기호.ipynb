{
 "cells": [
  {
   "cell_type": "markdown",
   "metadata": {},
   "source": [
    "$$ \\alpha = \\beta $$"
   ]
  },
  {
   "cell_type": "markdown",
   "metadata": {},
   "source": [
    "$$ \\alpha : 알파$$\n",
    "$$ \\beta : 베타$$\n",
    "$$ \\gamma : 감마$$\n",
    "$$ \\delta : 델타$$\n",
    "$$ \\epsilon : 엡실론$$\n",
    "$$ \\zeta : 제타$$\n",
    "$$ \\eta : 에타$$\n",
    "$$ \\theta : 세타$$\n",
    "$$ \\kappa : 카파$$\n",
    "$$ \\lambda : 람다$$\n",
    "$$ \\mu : 뮤$$\n",
    "$$ \\nu : 누$$\n",
    "$$ \\xi : 크싸이$$\n",
    "$$ \\pi : 파이$$\n",
    "$$ \\rho : 로$$\n",
    "$$ \\sigma : 시그마$$\n",
    "$$ \\tau : 타우$$\n",
    "$$ \\phi : 파이/피$$\n",
    "$$ \\chi : 카이$$\n",
    "$$ \\psi : 프사이$$\n",
    "$$ \\omega : 오메가$$"
   ]
  },
  {
   "cell_type": "markdown",
   "metadata": {},
   "source": [
    "$ \\alpha : 알파 $\n",
    "$ \\beta : 베타 $\n",
    "$ \\gamma : 감마 $\n",
    "$ \\delta : 델타 $\n",
    "$ \\epsilon : 엡실론 $\n",
    "$ \\zeta : 제타 $\n",
    "$ \\eta : 에타 $\n",
    "$ \\theta : 세타 $\n",
    "$ \\kappa : 카파 $\n",
    "$ \\lambda : 람다 $\n",
    "$ \\mu : 뮤 $\n",
    "$ \\nu : 누 $\n",
    "$ \\xi : 크싸이 $\n",
    "$ \\pi : 파이 $\n",
    "$ \\rho : 로 $\n",
    "$ \\sigma : 시그마 $\n",
    "$ \\tau : 타우 $\n",
    "$ \\phi : 파이/피 $\n",
    "$ \\chi : 카이 $\n",
    "$ \\psi : 프사이 $\n",
    "$ \\omega : 오메가 $"
   ]
  }
 ],
 "metadata": {
  "kernelspec": {
   "display_name": "Python 3",
   "language": "python",
   "name": "python3"
  },
  "language_info": {
   "codemirror_mode": {
    "name": "ipython",
    "version": 3
   },
   "file_extension": ".py",
   "mimetype": "text/x-python",
   "name": "python",
   "nbconvert_exporter": "python",
   "pygments_lexer": "ipython3",
   "version": "3.7.3"
  }
 },
 "nbformat": 4,
 "nbformat_minor": 2
}
