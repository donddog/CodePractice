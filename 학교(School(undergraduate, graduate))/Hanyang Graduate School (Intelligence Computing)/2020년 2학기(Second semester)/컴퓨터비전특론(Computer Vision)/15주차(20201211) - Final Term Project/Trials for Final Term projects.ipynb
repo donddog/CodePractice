{
  "nbformat": 4,
  "nbformat_minor": 0,
  "metadata": {
    "colab": {
      "name": "Trials for Final Term projects.ipynb",
      "provenance": [],
      "collapsed_sections": []
    },
    "kernelspec": {
      "name": "python3",
      "display_name": "Python 3"
    },
    "accelerator": "GPU"
  },
  "cells": [
    {
      "cell_type": "code",
      "metadata": {
        "id": "cx2A3BCcAt1i"
      },
      "source": [
        "import numpy as np\r\n",
        "from sklearn.metrics import accuracy_score, precision_score, recall_score, f1_score\r\n",
        "from sklearn.linear_model import LogisticRegression\r\n",
        "from sklearn.tree import DecisionTreeClassifier\r\n",
        "from sklearn.svm import SVC\r\n",
        "from sklearn.ensemble import RandomForestClassifier\r\n",
        "from sklearn.discriminant_analysis import LinearDiscriminantAnalysis, QuadraticDiscriminantAnalysis\r\n",
        "from sklearn.neighbors import KNeighborsClassifier\r\n",
        "from sklearn.naive_bayes import GaussianNB\r\n",
        "from sklearn.model_selection import train_test_split\r\n",
        "from sklearn.ensemble import VotingClassifier, GradientBoostingClassifier"
      ],
      "execution_count": null,
      "outputs": []
    },
    {
      "cell_type": "code",
      "metadata": {
        "id": "-55HKSQd0jpf"
      },
      "source": [
        "import pandas as pd\r\n",
        "from sklearn.metrics import classification_report\r\n",
        "import numpy as np\r\n",
        "import warnings\r\n",
        "\r\n",
        "warnings.filterwarnings('ignore')\r\n",
        "np.random.seed(1234)\r\n",
        "\r\n",
        "dataset = pd.read_excel('/content/drive/MyDrive/dataset_final_exam.xlsx')"
      ],
      "execution_count": null,
      "outputs": []
    },
    {
      "cell_type": "code",
      "metadata": {
        "colab": {
          "base_uri": "https://localhost:8080/"
        },
        "id": "Ri22us1L1EOc",
        "outputId": "d3660e8a-f885-45e9-d789-9d70bc1ca8e1"
      },
      "source": [
        "dataset.isnull().sum()"
      ],
      "execution_count": null,
      "outputs": [
        {
          "output_type": "execute_result",
          "data": {
            "text/plain": [
              "(in1)        0\n",
              "(in2)        0\n",
              "(in3)        1\n",
              "(in4)        0\n",
              "(in5)        0\n",
              "(in6)        0\n",
              "(in7)        0\n",
              "(in8)        0\n",
              "(in9)        0\n",
              "(in10)       0\n",
              "(in11)       0\n",
              "(in12)       0\n",
              "(in13)       0\n",
              "(in14)       0\n",
              "(in15)     174\n",
              "(in16)     203\n",
              "(in17)       1\n",
              "(in18)       1\n",
              "(in19)       1\n",
              "(in20)       1\n",
              "(in21)       1\n",
              "(in22)     176\n",
              "(Label)     40\n",
              "dtype: int64"
            ]
          },
          "metadata": {
            "tags": []
          },
          "execution_count": 3
        }
      ]
    },
    {
      "cell_type": "code",
      "metadata": {
        "id": "2AP1NuqI0uiP"
      },
      "source": [
        "dataset['(in1)'] = dataset['(in1)'].replace(['F','M'],[0,1])\r\n",
        "dataset['(in1)'] = dataset['(in1)'].replace(['F ',' F'],[0,0])\r\n",
        "dataset['(in15)'] = dataset['(in15)'].fillna(130) #15에서 값이 점진적으로 상향되고 있는 마지막 값이 130이다\r\n",
        "dataset['(in16)'] = dataset['(in16)'].fillna(0) #Variation이 있지만 데이터 보면 0이 많은 것으로 보아 0으로 채움\r\n",
        "dataset['(in22)'] = dataset['(in22)'].fillna(value = dataset['(in22)'].mean()) #규칙찾기가 어려워 보편적인 평균값을 채워 넣음\r\n",
        "dataset['(in21)'] = dataset['(in21)'].fillna(value = dataset['(in21)'].mean()) #규칙찾기가 어려워 보편적인 평균값을 채워 넣음\r\n",
        "dataset[['(in17)', '(in18)', '(in19)', '(in20)']] = dataset[['(in17)', '(in18)', '(in19)', '(in20)']].fillna(0)#17,18,19,20는 대부분 5단위로 되어 있어 평균값은 이 5단위로 나오지 않을 가능성이 있어서 0으로 채움\r\n",
        "dataset['(in3)'] = dataset['(in3)'].fillna(0) #0 또는 1이어서 임의로 정함 \r\n",
        "dataset[['(in14)', '(in21)']] = dataset[['(in14)', '(in21)']].round(decimals=1)\r\n",
        "dataset[['(in2) ', '(in3)', '(in4)', '(in5)', '(in6)', '(in7)', '(in8)',\r\n",
        "       '(in9)', '(in10)', '(in11)', '(in12)', '(in13)', '(in15)',\r\n",
        "       '(in16)', '(in17)', '(in18)', '(in19)', '(in20)', '(in22)']] = dataset[['(in2) ', '(in3)', '(in4)', '(in5)', '(in6)', '(in7)', '(in8)',\r\n",
        "                                                                               '(in9)', '(in10)', '(in11)', '(in12)', '(in13)', '(in15)',\r\n",
        "                                                                               '(in16)', '(in17)', '(in18)', '(in19)', '(in20)', '(in22)']].astype(int)"
      ],
      "execution_count": null,
      "outputs": []
    },
    {
      "cell_type": "code",
      "metadata": {
        "id": "cAkzo9FU0rlu"
      },
      "source": [
        "new_train_data = pd.DataFrame(data=dataset.iloc[:760])\r\n",
        "new_test_data = pd.DataFrame(data=dataset.iloc[760:])"
      ],
      "execution_count": null,
      "outputs": []
    },
    {
      "cell_type": "code",
      "metadata": {
        "id": "Ehh3ujvKBJW1"
      },
      "source": [
        "X = new_train_data[['(in1)', '(in2) ', '(in3)', '(in4)', '(in5)', '(in6)', '(in7)', '(in8)',\r\n",
        "       '(in9)', '(in10)', '(in11)', '(in12)', '(in13)', '(in14)', '(in15)',\r\n",
        "       '(in16)', '(in17)', '(in18)', '(in19)', '(in20)', '(in21)', '(in22)']]\r\n",
        "Y = new_train_data['(Label)']"
      ],
      "execution_count": null,
      "outputs": []
    },
    {
      "cell_type": "code",
      "metadata": {
        "id": "5CWQVThWCxS6"
      },
      "source": [
        "test_X = new_test_data[['(in1)', '(in2) ', '(in3)', '(in4)', '(in5)', '(in6)', '(in7)', '(in8)', '(in9)', '(in10)',\r\n",
        "                    '(in11)', '(in12)', '(in13)', '(in14)', '(in15)', '(in16)', '(in17)', '(in18)', '(in19)', '(in20)', '(in21)', '(in22)']]"
      ],
      "execution_count": null,
      "outputs": []
    },
    {
      "cell_type": "code",
      "metadata": {
        "id": "hzVn3lesDUR9"
      },
      "source": [
        "X_train, X_test, y_train, y_test = train_test_split(X,Y, test_size=0.2)"
      ],
      "execution_count": null,
      "outputs": []
    },
    {
      "cell_type": "markdown",
      "metadata": {
        "id": "js0eYtq89xqo"
      },
      "source": [
        "\r\n",
        "\r\n",
        "---\r\n",
        "\r\n"
      ]
    },
    {
      "cell_type": "code",
      "metadata": {
        "id": "cHPJp24YGLRI"
      },
      "source": [
        "LR = LogisticRegression()\r\n",
        "model01 = LR.fit(X_train, y_train)"
      ],
      "execution_count": null,
      "outputs": []
    },
    {
      "cell_type": "code",
      "metadata": {
        "id": "V7DJ2J2YIDdl",
        "colab": {
          "base_uri": "https://localhost:8080/"
        },
        "outputId": "36153142-280f-41a9-8bf0-3584e79f8ff2"
      },
      "source": [
        "prediction = model01.predict(X_test)\r\n",
        "print(accuracy_score(y_test, prediction))\r\n",
        "print(classification_report(y_test, prediction))"
      ],
      "execution_count": null,
      "outputs": [
        {
          "output_type": "stream",
          "text": [
            "0.6842105263157895\n",
            "              precision    recall  f1-score   support\n",
            "\n",
            "         0.0       0.65      0.46      0.54        61\n",
            "         1.0       0.70      0.84      0.76        91\n",
            "\n",
            "    accuracy                           0.68       152\n",
            "   macro avg       0.67      0.65      0.65       152\n",
            "weighted avg       0.68      0.68      0.67       152\n",
            "\n"
          ],
          "name": "stdout"
        }
      ]
    },
    {
      "cell_type": "code",
      "metadata": {
        "id": "JpwybgZxCvH_",
        "colab": {
          "base_uri": "https://localhost:8080/"
        },
        "outputId": "a543af43-2d51-4b62-c9a1-2876a678a7c2"
      },
      "source": [
        "real_prediction = model01.predict(test_X)\r\n",
        "real_prediction"
      ],
      "execution_count": null,
      "outputs": [
        {
          "output_type": "execute_result",
          "data": {
            "text/plain": [
              "array([1., 1., 1., 0., 0., 1., 0., 1., 1., 1., 1., 1., 1., 1., 1., 1., 1.,\n",
              "       1., 1., 1., 1., 0., 0., 1., 1., 1., 1., 0., 1., 1., 1., 1., 1., 1.,\n",
              "       0., 0., 0., 0., 0., 0.])"
            ]
          },
          "metadata": {
            "tags": []
          },
          "execution_count": 11
        }
      ]
    },
    {
      "cell_type": "markdown",
      "metadata": {
        "id": "n_dkLuW594DM"
      },
      "source": [
        "\r\n",
        "\r\n",
        "---\r\n",
        "\r\n"
      ]
    },
    {
      "cell_type": "code",
      "metadata": {
        "id": "UTafSwTxGUvv"
      },
      "source": [
        "decision_tree = DecisionTreeClassifier()\r\n",
        "model02 = decision_tree.fit(X_train, y_train)"
      ],
      "execution_count": null,
      "outputs": []
    },
    {
      "cell_type": "code",
      "metadata": {
        "colab": {
          "base_uri": "https://localhost:8080/"
        },
        "id": "l_ui0LHJ4y0Q",
        "outputId": "6d603382-7ba0-424b-9c77-13222884cb11"
      },
      "source": [
        "prediction02 = decision_tree.predict(X_test)\r\n",
        "print(accuracy_score(y_test, prediction02))\r\n",
        "print(classification_report(y_test, prediction02))"
      ],
      "execution_count": null,
      "outputs": [
        {
          "output_type": "stream",
          "text": [
            "0.7105263157894737\n",
            "              precision    recall  f1-score   support\n",
            "\n",
            "         0.0       0.65      0.59      0.62        61\n",
            "         1.0       0.74      0.79      0.77        91\n",
            "\n",
            "    accuracy                           0.71       152\n",
            "   macro avg       0.70      0.69      0.69       152\n",
            "weighted avg       0.71      0.71      0.71       152\n",
            "\n"
          ],
          "name": "stdout"
        }
      ]
    },
    {
      "cell_type": "code",
      "metadata": {
        "colab": {
          "base_uri": "https://localhost:8080/"
        },
        "id": "_EZ7dKG741kP",
        "outputId": "9d9691b1-ba12-4278-c8c5-911cc733a4e4"
      },
      "source": [
        "real_prediction02 = model02.predict(test_X)\r\n",
        "real_prediction02"
      ],
      "execution_count": null,
      "outputs": [
        {
          "output_type": "execute_result",
          "data": {
            "text/plain": [
              "array([1., 0., 0., 0., 0., 0., 0., 1., 1., 1., 1., 1., 0., 1., 1., 1., 1.,\n",
              "       1., 1., 1., 1., 1., 1., 1., 1., 1., 1., 1., 1., 0., 1., 1., 1., 1.,\n",
              "       0., 1., 0., 1., 0., 1.])"
            ]
          },
          "metadata": {
            "tags": []
          },
          "execution_count": 14
        }
      ]
    },
    {
      "cell_type": "markdown",
      "metadata": {
        "id": "IY5f5JgJ96Yy"
      },
      "source": [
        "\r\n",
        "\r\n",
        "---\r\n",
        "\r\n"
      ]
    },
    {
      "cell_type": "code",
      "metadata": {
        "id": "zmFwc2EF498G"
      },
      "source": [
        "SVM = SVC(probability = True)\r\n",
        "model03 = SVM.fit(X_train, y_train)"
      ],
      "execution_count": null,
      "outputs": []
    },
    {
      "cell_type": "code",
      "metadata": {
        "colab": {
          "base_uri": "https://localhost:8080/"
        },
        "id": "OA-rpJZc5EhY",
        "outputId": "69b7ab64-4023-4cc3-bd05-9c682da3762b"
      },
      "source": [
        "prediction03 = model03.predict(X_test)\r\n",
        "print(accuracy_score(y_test, prediction03))\r\n",
        "print(classification_report(y_test, prediction03))"
      ],
      "execution_count": null,
      "outputs": [
        {
          "output_type": "stream",
          "text": [
            "0.743421052631579\n",
            "              precision    recall  f1-score   support\n",
            "\n",
            "         0.0       0.81      0.48      0.60        61\n",
            "         1.0       0.72      0.92      0.81        91\n",
            "\n",
            "    accuracy                           0.74       152\n",
            "   macro avg       0.76      0.70      0.70       152\n",
            "weighted avg       0.76      0.74      0.73       152\n",
            "\n"
          ],
          "name": "stdout"
        }
      ]
    },
    {
      "cell_type": "code",
      "metadata": {
        "colab": {
          "base_uri": "https://localhost:8080/"
        },
        "id": "S-_fu54X5EkE",
        "outputId": "4f64274c-abb2-4498-8dbe-2478e17d4e85"
      },
      "source": [
        "real_prediction03 = model03.predict(test_X)\r\n",
        "real_prediction03"
      ],
      "execution_count": null,
      "outputs": [
        {
          "output_type": "execute_result",
          "data": {
            "text/plain": [
              "array([1., 1., 1., 0., 0., 1., 1., 1., 1., 1., 1., 1., 1., 1., 1., 1., 1.,\n",
              "       1., 1., 1., 1., 1., 1., 1., 1., 1., 1., 1., 1., 1., 1., 1., 1., 1.,\n",
              "       1., 1., 1., 1., 1., 0.])"
            ]
          },
          "metadata": {
            "tags": []
          },
          "execution_count": 17
        }
      ]
    },
    {
      "cell_type": "markdown",
      "metadata": {
        "id": "VhnnVH-799Hy"
      },
      "source": [
        "\r\n",
        "\r\n",
        "---\r\n",
        "\r\n"
      ]
    },
    {
      "cell_type": "code",
      "metadata": {
        "id": "P1OKjJVrcIAS"
      },
      "source": [
        "# from sklearn.model_selection import GridSearchCV\r\n",
        "\r\n",
        "# params ={\r\n",
        "#     'n_estimators':[100,200],\r\n",
        "#     'max_depth':[6,8,10,12],\r\n",
        "#     'min_samples_leaf':[3,5,7,8,10,12,18],\r\n",
        "#     'min_samples_split':[2,3,5,10,8,16,20]\r\n",
        "# }"
      ],
      "execution_count": null,
      "outputs": []
    },
    {
      "cell_type": "code",
      "metadata": {
        "id": "IovZndCvchXl"
      },
      "source": [
        "# rf = RandomForestClassifier(random_state=0, n_jobs=-1)\r\n",
        "# grid_cv = GridSearchCV(rf, param_grid=params, cv=2, n_jobs=-1)\r\n",
        "# grid_cv.fit(X_train,y_train)"
      ],
      "execution_count": null,
      "outputs": []
    },
    {
      "cell_type": "code",
      "metadata": {
        "id": "eby1qW-hctWr"
      },
      "source": [
        "# print(\"최고점수: {0:.3f}\".format(grid_cv.best_score_))\r\n",
        "# print(\"최고점수:\", grid_cv.best_params_)"
      ],
      "execution_count": null,
      "outputs": []
    },
    {
      "cell_type": "code",
      "metadata": {
        "id": "z3lel-_G5K5A"
      },
      "source": [
        "random_forest = RandomForestClassifier()\r\n",
        "model04 = random_forest.fit(X_train, y_train)"
      ],
      "execution_count": null,
      "outputs": []
    },
    {
      "cell_type": "code",
      "metadata": {
        "colab": {
          "base_uri": "https://localhost:8080/"
        },
        "id": "gqPmsjsXoyeQ",
        "outputId": "21a2b3cd-196a-4184-db36-8c810d388ec4"
      },
      "source": [
        "model04"
      ],
      "execution_count": null,
      "outputs": [
        {
          "output_type": "execute_result",
          "data": {
            "text/plain": [
              "RandomForestClassifier(bootstrap=True, ccp_alpha=0.0, class_weight=None,\n",
              "                       criterion='gini', max_depth=None, max_features='auto',\n",
              "                       max_leaf_nodes=None, max_samples=None,\n",
              "                       min_impurity_decrease=0.0, min_impurity_split=None,\n",
              "                       min_samples_leaf=1, min_samples_split=2,\n",
              "                       min_weight_fraction_leaf=0.0, n_estimators=100,\n",
              "                       n_jobs=None, oob_score=False, random_state=None,\n",
              "                       verbose=0, warm_start=False)"
            ]
          },
          "metadata": {
            "tags": []
          },
          "execution_count": 9
        }
      ]
    },
    {
      "cell_type": "code",
      "metadata": {
        "colab": {
          "base_uri": "https://localhost:8080/"
        },
        "id": "Raey3D2Z5--n",
        "outputId": "5a84ae06-7088-437a-eb1f-0f44c2505af7"
      },
      "source": [
        "prediction04 = model04.predict(X_test)\r\n",
        "print(accuracy_score(y_test, prediction04))\r\n",
        "print(classification_report(y_test, prediction04))"
      ],
      "execution_count": null,
      "outputs": [
        {
          "output_type": "stream",
          "text": [
            "0.7960526315789473\n",
            "              precision    recall  f1-score   support\n",
            "\n",
            "         0.0       0.84      0.61      0.70        61\n",
            "         1.0       0.78      0.92      0.84        91\n",
            "\n",
            "    accuracy                           0.80       152\n",
            "   macro avg       0.81      0.76      0.77       152\n",
            "weighted avg       0.80      0.80      0.79       152\n",
            "\n"
          ],
          "name": "stdout"
        }
      ]
    },
    {
      "cell_type": "code",
      "metadata": {
        "colab": {
          "base_uri": "https://localhost:8080/"
        },
        "id": "1RkYx6oE5_BI",
        "outputId": "bb1e984c-605c-4583-9fa4-1542b2e22865"
      },
      "source": [
        "real_prediction04 = model04.predict(test_X)\r\n",
        "real_prediction04"
      ],
      "execution_count": null,
      "outputs": [
        {
          "output_type": "execute_result",
          "data": {
            "text/plain": [
              "array([1., 1., 1., 0., 0., 1., 0., 1., 1., 1., 1., 1., 1., 1., 1., 1., 1.,\n",
              "       1., 1., 1., 1., 1., 1., 1., 1., 1., 1., 1., 1., 1., 1., 1., 1., 1.,\n",
              "       0., 1., 0., 1., 0., 0.])"
            ]
          },
          "metadata": {
            "tags": []
          },
          "execution_count": 23
        }
      ]
    },
    {
      "cell_type": "markdown",
      "metadata": {
        "id": "KuB1KJBo9-pi"
      },
      "source": [
        "\r\n",
        "\r\n",
        "---\r\n",
        "\r\n"
      ]
    },
    {
      "cell_type": "code",
      "metadata": {
        "id": "0z3LXUIB5_KA"
      },
      "source": [
        "KNN = KNeighborsClassifier()\r\n",
        "model05 = KNN.fit(X_train, y_train)"
      ],
      "execution_count": null,
      "outputs": []
    },
    {
      "cell_type": "code",
      "metadata": {
        "colab": {
          "base_uri": "https://localhost:8080/"
        },
        "id": "bbmnRWac74_B",
        "outputId": "c8007f0e-5549-4203-f652-38c423d4c06f"
      },
      "source": [
        "prediction05 = model05.predict(X_test)\r\n",
        "print(accuracy_score(y_test, prediction05))\r\n",
        "print(classification_report(y_test, prediction05))"
      ],
      "execution_count": null,
      "outputs": [
        {
          "output_type": "stream",
          "text": [
            "0.7171052631578947\n",
            "              precision    recall  f1-score   support\n",
            "\n",
            "         0.0       0.70      0.52      0.60        61\n",
            "         1.0       0.73      0.85      0.78        91\n",
            "\n",
            "    accuracy                           0.72       152\n",
            "   macro avg       0.71      0.69      0.69       152\n",
            "weighted avg       0.71      0.72      0.71       152\n",
            "\n"
          ],
          "name": "stdout"
        }
      ]
    },
    {
      "cell_type": "code",
      "metadata": {
        "colab": {
          "base_uri": "https://localhost:8080/"
        },
        "id": "4Zq55Itv75CF",
        "outputId": "a253719c-0eaf-40fe-f98a-c95e3f93f11a"
      },
      "source": [
        "real_prediction05 = model05.predict(test_X)\r\n",
        "real_prediction05"
      ],
      "execution_count": null,
      "outputs": [
        {
          "output_type": "execute_result",
          "data": {
            "text/plain": [
              "array([1., 1., 1., 0., 0., 1., 1., 1., 1., 1., 1., 1., 1., 1., 1., 1., 1.,\n",
              "       1., 1., 1., 1., 1., 1., 1., 1., 1., 1., 1., 1., 1., 1., 1., 1., 1.,\n",
              "       1., 1., 0., 1., 0., 0.])"
            ]
          },
          "metadata": {
            "tags": []
          },
          "execution_count": 26
        }
      ]
    },
    {
      "cell_type": "markdown",
      "metadata": {
        "id": "0MTxOjHk-IdY"
      },
      "source": [
        "\r\n",
        "\r\n",
        "---\r\n",
        "\r\n"
      ]
    },
    {
      "cell_type": "code",
      "metadata": {
        "id": "0WHYIFyM75FI"
      },
      "source": [
        "bayes = GaussianNB()\r\n",
        "model06 = bayes.fit(X_train, y_train)"
      ],
      "execution_count": null,
      "outputs": []
    },
    {
      "cell_type": "code",
      "metadata": {
        "colab": {
          "base_uri": "https://localhost:8080/"
        },
        "id": "SxjKEMix8SZb",
        "outputId": "209a5634-f8a1-4064-aea2-51035b37ffd4"
      },
      "source": [
        "prediction06 = model06.predict(X_test)\r\n",
        "print(accuracy_score(y_test, prediction06))\r\n",
        "print(classification_report(y_test, prediction06))"
      ],
      "execution_count": null,
      "outputs": [
        {
          "output_type": "stream",
          "text": [
            "0.6578947368421053\n",
            "              precision    recall  f1-score   support\n",
            "\n",
            "         0.0       0.55      0.75      0.64        61\n",
            "         1.0       0.78      0.59      0.68        91\n",
            "\n",
            "    accuracy                           0.66       152\n",
            "   macro avg       0.67      0.67      0.66       152\n",
            "weighted avg       0.69      0.66      0.66       152\n",
            "\n"
          ],
          "name": "stdout"
        }
      ]
    },
    {
      "cell_type": "code",
      "metadata": {
        "colab": {
          "base_uri": "https://localhost:8080/"
        },
        "id": "fgFgwWKB8ScH",
        "outputId": "3f3ed083-312b-4414-98c7-5fdec3aa4cea"
      },
      "source": [
        "real_prediction06 = model06.predict(test_X)\r\n",
        "real_prediction06"
      ],
      "execution_count": null,
      "outputs": [
        {
          "output_type": "execute_result",
          "data": {
            "text/plain": [
              "array([0., 1., 0., 0., 0., 1., 0., 1., 0., 0., 1., 0., 1., 1., 1., 1., 1.,\n",
              "       1., 0., 1., 1., 0., 1., 1., 1., 0., 1., 1., 0., 1., 0., 0., 0., 0.,\n",
              "       0., 1., 0., 0., 0., 0.])"
            ]
          },
          "metadata": {
            "tags": []
          },
          "execution_count": 29
        }
      ]
    },
    {
      "cell_type": "markdown",
      "metadata": {
        "id": "n2uhJ9O1_IAK"
      },
      "source": [
        "\r\n",
        "\r\n",
        "---\r\n",
        "\r\n"
      ]
    },
    {
      "cell_type": "code",
      "metadata": {
        "id": "8ZnDlmnY9G69"
      },
      "source": [
        "models = [LogisticRegression(),\r\n",
        "         DecisionTreeClassifier(),\r\n",
        "         SVC(probability = True),\r\n",
        "         LinearDiscriminantAnalysis(),\r\n",
        "         QuadraticDiscriminantAnalysis(),\r\n",
        "         RandomForestClassifier(),\r\n",
        "         KNeighborsClassifier(),\r\n",
        "         GaussianNB()]"
      ],
      "execution_count": null,
      "outputs": []
    },
    {
      "cell_type": "code",
      "metadata": {
        "colab": {
          "base_uri": "https://localhost:8080/"
        },
        "id": "JQy_RoTU8Se4",
        "outputId": "b674e28c-e2db-4f74-cdb6-a4343d1751ba"
      },
      "source": [
        "models_ens = list(zip(['LR', 'DT', 'SVM', 'LDA', 'QDA', 'RF', 'KNN', 'NB'], models))\r\n",
        "\r\n",
        "model_ens01 = VotingClassifier(estimators = models_ens, voting = 'hard')\r\n",
        "model_ens01.fit(X_train, y_train)\r\n",
        "prediction07 = model_ens01.predict(X_test)\r\n",
        "\r\n",
        "print(accuracy_score(y_test, prediction07))\r\n",
        "print(classification_report(y_test, prediction07))"
      ],
      "execution_count": null,
      "outputs": [
        {
          "output_type": "stream",
          "text": [
            "0.7697368421052632\n",
            "              precision    recall  f1-score   support\n",
            "\n",
            "         0.0       0.75      0.64      0.69        61\n",
            "         1.0       0.78      0.86      0.82        91\n",
            "\n",
            "    accuracy                           0.77       152\n",
            "   macro avg       0.77      0.75      0.75       152\n",
            "weighted avg       0.77      0.77      0.77       152\n",
            "\n"
          ],
          "name": "stdout"
        }
      ]
    },
    {
      "cell_type": "code",
      "metadata": {
        "colab": {
          "base_uri": "https://localhost:8080/"
        },
        "id": "Islcyo4b86qF",
        "outputId": "565005a3-49aa-4b31-cd65-6a5cedd665a6"
      },
      "source": [
        "real_prediction07 = model_ens01.predict(test_X)\r\n",
        "real_prediction07"
      ],
      "execution_count": null,
      "outputs": [
        {
          "output_type": "execute_result",
          "data": {
            "text/plain": [
              "array([1., 1., 1., 0., 0., 1., 0., 1., 1., 1., 1., 1., 1., 1., 1., 1., 1.,\n",
              "       1., 1., 1., 1., 1., 1., 1., 1., 1., 1., 1., 1., 1., 1., 1., 1., 1.,\n",
              "       0., 1., 0., 1., 0., 0.])"
            ]
          },
          "metadata": {
            "tags": []
          },
          "execution_count": 32
        }
      ]
    },
    {
      "cell_type": "markdown",
      "metadata": {
        "id": "fbfxvtML_JXX"
      },
      "source": [
        "\r\n",
        "\r\n",
        "---\r\n",
        "\r\n"
      ]
    },
    {
      "cell_type": "code",
      "metadata": {
        "colab": {
          "base_uri": "https://localhost:8080/"
        },
        "id": "JHLSbHc89XtJ",
        "outputId": "3b82ecb1-53a2-4e16-ad59-69b3f554885a"
      },
      "source": [
        "model_ens02 = VotingClassifier(estimators = models_ens, voting = 'soft')\r\n",
        "model_ens02.fit(X_train, y_train)\r\n",
        "prediction08 = model_ens02.predict(X_test)\r\n",
        "prob = model_ens02.predict_proba(X_test)[:,1]\r\n",
        "\r\n",
        "print(accuracy_score(y_test, prediction08))\r\n",
        "print(classification_report(y_test, prediction08))"
      ],
      "execution_count": null,
      "outputs": [
        {
          "output_type": "stream",
          "text": [
            "0.7368421052631579\n",
            "              precision    recall  f1-score   support\n",
            "\n",
            "         0.0       0.70      0.61      0.65        61\n",
            "         1.0       0.76      0.82      0.79        91\n",
            "\n",
            "    accuracy                           0.74       152\n",
            "   macro avg       0.73      0.72      0.72       152\n",
            "weighted avg       0.73      0.74      0.73       152\n",
            "\n"
          ],
          "name": "stdout"
        }
      ]
    },
    {
      "cell_type": "code",
      "metadata": {
        "colab": {
          "base_uri": "https://localhost:8080/"
        },
        "id": "fH6qDy9H9lw_",
        "outputId": "5d302a5b-ace2-43e3-997f-3b27c031f5f6"
      },
      "source": [
        "real_prediction08 = model_ens02.predict(test_X)\r\n",
        "real_prediction08"
      ],
      "execution_count": null,
      "outputs": [
        {
          "output_type": "execute_result",
          "data": {
            "text/plain": [
              "array([1., 1., 0., 0., 0., 1., 0., 1., 1., 1., 1., 1., 1., 1., 1., 1., 1.,\n",
              "       1., 1., 1., 1., 1., 1., 1., 1., 1., 1., 1., 1., 1., 1., 1., 1., 1.,\n",
              "       0., 1., 0., 1., 1., 0.])"
            ]
          },
          "metadata": {
            "tags": []
          },
          "execution_count": 34
        }
      ]
    },
    {
      "cell_type": "markdown",
      "metadata": {
        "id": "DRpSK1Df_KtF"
      },
      "source": [
        "\r\n",
        "\r\n",
        "---\r\n",
        "\r\n"
      ]
    },
    {
      "cell_type": "code",
      "metadata": {
        "id": "JYSn6BVq9ptM"
      },
      "source": [
        "QDA = QuadraticDiscriminantAnalysis()\r\n",
        "model07 = QDA.fit(X_train, y_train)"
      ],
      "execution_count": null,
      "outputs": []
    },
    {
      "cell_type": "code",
      "metadata": {
        "colab": {
          "base_uri": "https://localhost:8080/"
        },
        "id": "9KPIfFTD-ID_",
        "outputId": "a69ced95-b989-40c6-f9ba-a3491521fe85"
      },
      "source": [
        "prediction09 = model07.predict(X_test)\r\n",
        "print(accuracy_score(y_test, prediction09))\r\n",
        "print(classification_report(y_test, prediction09))"
      ],
      "execution_count": null,
      "outputs": [
        {
          "output_type": "stream",
          "text": [
            "0.625\n",
            "              precision    recall  f1-score   support\n",
            "\n",
            "         0.0       0.52      0.84      0.64        61\n",
            "         1.0       0.81      0.48      0.61        91\n",
            "\n",
            "    accuracy                           0.62       152\n",
            "   macro avg       0.67      0.66      0.62       152\n",
            "weighted avg       0.70      0.62      0.62       152\n",
            "\n"
          ],
          "name": "stdout"
        }
      ]
    },
    {
      "cell_type": "code",
      "metadata": {
        "colab": {
          "base_uri": "https://localhost:8080/"
        },
        "id": "SzHjQocX-KPK",
        "outputId": "163882e5-06e5-4518-9560-a6db2346607a"
      },
      "source": [
        "real_prediction09 = model07.predict(test_X)\r\n",
        "real_prediction09"
      ],
      "execution_count": null,
      "outputs": [
        {
          "output_type": "execute_result",
          "data": {
            "text/plain": [
              "array([0., 0., 0., 0., 0., 1., 0., 0., 1., 0., 1., 1., 1., 0., 1., 1., 1.,\n",
              "       1., 1., 1., 1., 0., 1., 1., 0., 0., 1., 1., 0., 1., 1., 1., 0., 0.,\n",
              "       1., 1., 1., 1., 1., 1.])"
            ]
          },
          "metadata": {
            "tags": []
          },
          "execution_count": 37
        }
      ]
    },
    {
      "cell_type": "markdown",
      "metadata": {
        "id": "-VB3ztpP_fTC"
      },
      "source": [
        "\r\n",
        "\r\n",
        "---\r\n",
        "\r\n"
      ]
    },
    {
      "cell_type": "code",
      "metadata": {
        "id": "zJ4_jS3Q-d0Z",
        "colab": {
          "base_uri": "https://localhost:8080/"
        },
        "outputId": "343573f9-f361-47da-d79d-00c931ffe11f"
      },
      "source": [
        "!pip install xgboost"
      ],
      "execution_count": null,
      "outputs": [
        {
          "output_type": "stream",
          "text": [
            "Requirement already satisfied: xgboost in /usr/local/lib/python3.6/dist-packages (0.90)\n",
            "Requirement already satisfied: scipy in /usr/local/lib/python3.6/dist-packages (from xgboost) (1.4.1)\n",
            "Requirement already satisfied: numpy in /usr/local/lib/python3.6/dist-packages (from xgboost) (1.19.4)\n"
          ],
          "name": "stdout"
        }
      ]
    },
    {
      "cell_type": "code",
      "metadata": {
        "colab": {
          "base_uri": "https://localhost:8080/"
        },
        "id": "FMwy2wL2-7ea",
        "outputId": "ea257701-fa46-4b73-ea67-f2430d16ac14"
      },
      "source": [
        "model08 = SVC(kernel='rbf', probability=True)\r\n",
        "model08.fit(X_train, y_train)"
      ],
      "execution_count": null,
      "outputs": [
        {
          "output_type": "execute_result",
          "data": {
            "text/plain": [
              "SVC(C=1.0, break_ties=False, cache_size=200, class_weight=None, coef0=0.0,\n",
              "    decision_function_shape='ovr', degree=3, gamma='scale', kernel='rbf',\n",
              "    max_iter=-1, probability=True, random_state=None, shrinking=True, tol=0.001,\n",
              "    verbose=False)"
            ]
          },
          "metadata": {
            "tags": []
          },
          "execution_count": 39
        }
      ]
    },
    {
      "cell_type": "code",
      "metadata": {
        "colab": {
          "base_uri": "https://localhost:8080/"
        },
        "id": "7zIt1Lgy_N4L",
        "outputId": "0f43b519-a67e-4c29-ef3c-257644e51a5e"
      },
      "source": [
        "prediction10 = model08.predict(X_test)\r\n",
        "print(accuracy_score(y_test, prediction10))\r\n",
        "print(classification_report(y_test, prediction10))"
      ],
      "execution_count": null,
      "outputs": [
        {
          "output_type": "stream",
          "text": [
            "0.743421052631579\n",
            "              precision    recall  f1-score   support\n",
            "\n",
            "         0.0       0.81      0.48      0.60        61\n",
            "         1.0       0.72      0.92      0.81        91\n",
            "\n",
            "    accuracy                           0.74       152\n",
            "   macro avg       0.76      0.70      0.70       152\n",
            "weighted avg       0.76      0.74      0.73       152\n",
            "\n"
          ],
          "name": "stdout"
        }
      ]
    },
    {
      "cell_type": "code",
      "metadata": {
        "colab": {
          "base_uri": "https://localhost:8080/"
        },
        "id": "IltHPEZLAkIX",
        "outputId": "50c3bd31-932e-499c-e1f3-232f61425818"
      },
      "source": [
        "real_prediction10 = model08.predict(test_X)\r\n",
        "real_prediction10"
      ],
      "execution_count": null,
      "outputs": [
        {
          "output_type": "execute_result",
          "data": {
            "text/plain": [
              "array([1., 1., 1., 0., 0., 1., 1., 1., 1., 1., 1., 1., 1., 1., 1., 1., 1.,\n",
              "       1., 1., 1., 1., 1., 1., 1., 1., 1., 1., 1., 1., 1., 1., 1., 1., 1.,\n",
              "       1., 1., 1., 1., 1., 0.])"
            ]
          },
          "metadata": {
            "tags": []
          },
          "execution_count": 41
        }
      ]
    },
    {
      "cell_type": "markdown",
      "metadata": {
        "id": "o2UmB6RZ_y-J"
      },
      "source": [
        "\r\n",
        "\r\n",
        "---\r\n",
        "\r\n"
      ]
    },
    {
      "cell_type": "code",
      "metadata": {
        "colab": {
          "base_uri": "https://localhost:8080/"
        },
        "id": "tYCZBupiCoUN",
        "outputId": "86a63336-a638-4632-8914-5fae82304f9c"
      },
      "source": [
        "from xgboost import XGBClassifier\r\n",
        "\r\n",
        "model09 = XGBClassifier(\r\n",
        "    max_depth=2,\r\n",
        "    gamma=2,\r\n",
        "    eta=0.8,\r\n",
        "    reg_alpha=0.5,\r\n",
        "    reg_lambda=0.5\r\n",
        ")\r\n",
        "\r\n",
        "model09.fit(X_train, y_train)"
      ],
      "execution_count": null,
      "outputs": [
        {
          "output_type": "execute_result",
          "data": {
            "text/plain": [
              "XGBClassifier(base_score=0.5, booster='gbtree', colsample_bylevel=1,\n",
              "              colsample_bynode=1, colsample_bytree=1, eta=0.8, gamma=2,\n",
              "              learning_rate=0.1, max_delta_step=0, max_depth=2,\n",
              "              min_child_weight=1, missing=None, n_estimators=100, n_jobs=1,\n",
              "              nthread=None, objective='binary:logistic', random_state=0,\n",
              "              reg_alpha=0.5, reg_lambda=0.5, scale_pos_weight=1, seed=None,\n",
              "              silent=None, subsample=1, verbosity=1)"
            ]
          },
          "metadata": {
            "tags": []
          },
          "execution_count": 42
        }
      ]
    },
    {
      "cell_type": "code",
      "metadata": {
        "colab": {
          "base_uri": "https://localhost:8080/"
        },
        "id": "1bYd-fNDC3YV",
        "outputId": "ce33c4d6-8b56-4816-f17c-f03f7eefd795"
      },
      "source": [
        "prediction11 = model09.predict(X_test)\r\n",
        "print(accuracy_score(y_test, prediction11))\r\n",
        "print(classification_report(y_test, prediction11))"
      ],
      "execution_count": null,
      "outputs": [
        {
          "output_type": "stream",
          "text": [
            "0.743421052631579\n",
            "              precision    recall  f1-score   support\n",
            "\n",
            "         0.0       0.71      0.61      0.65        61\n",
            "         1.0       0.76      0.84      0.80        91\n",
            "\n",
            "    accuracy                           0.74       152\n",
            "   macro avg       0.74      0.72      0.73       152\n",
            "weighted avg       0.74      0.74      0.74       152\n",
            "\n"
          ],
          "name": "stdout"
        }
      ]
    },
    {
      "cell_type": "code",
      "metadata": {
        "colab": {
          "base_uri": "https://localhost:8080/"
        },
        "id": "TvebikweIHZX",
        "outputId": "4e8bbfb3-d487-4a4a-9173-3803963f087a"
      },
      "source": [
        "real_prediction11 = model09.predict(test_X)\r\n",
        "real_prediction11"
      ],
      "execution_count": null,
      "outputs": [
        {
          "output_type": "execute_result",
          "data": {
            "text/plain": [
              "array([1., 1., 1., 0., 0., 1., 0., 1., 1., 1., 1., 1., 1., 1., 1., 1., 1.,\n",
              "       1., 1., 1., 1., 0., 1., 0., 1., 1., 0., 1., 1., 1., 1., 1., 1., 1.,\n",
              "       0., 1., 0., 1., 1., 0.])"
            ]
          },
          "metadata": {
            "tags": []
          },
          "execution_count": 44
        }
      ]
    },
    {
      "cell_type": "markdown",
      "metadata": {
        "id": "HHk1aqalC-4D"
      },
      "source": [
        "\r\n",
        "\r\n",
        "---\r\n",
        "\r\n"
      ]
    },
    {
      "cell_type": "code",
      "metadata": {
        "colab": {
          "base_uri": "https://localhost:8080/"
        },
        "id": "juKSJoXpC9FG",
        "outputId": "d0411510-1119-4f7e-9ce8-f1479a4fa0e8"
      },
      "source": [
        "from sklearn.feature_selection import RFE\r\n",
        "\r\n",
        "model10 = RFE(XGBClassifier(n_jobs=-1, random_state=1))\r\n",
        "\r\n",
        "model10.fit(X_train, y_train)"
      ],
      "execution_count": null,
      "outputs": [
        {
          "output_type": "execute_result",
          "data": {
            "text/plain": [
              "RFE(estimator=XGBClassifier(base_score=0.5, booster='gbtree',\n",
              "                            colsample_bylevel=1, colsample_bynode=1,\n",
              "                            colsample_bytree=1, gamma=0, learning_rate=0.1,\n",
              "                            max_delta_step=0, max_depth=3, min_child_weight=1,\n",
              "                            missing=None, n_estimators=100, n_jobs=-1,\n",
              "                            nthread=None, objective='binary:logistic',\n",
              "                            random_state=1, reg_alpha=0, reg_lambda=1,\n",
              "                            scale_pos_weight=1, seed=None, silent=None,\n",
              "                            subsample=1, verbosity=1),\n",
              "    n_features_to_select=None, step=1, verbose=0)"
            ]
          },
          "metadata": {
            "tags": []
          },
          "execution_count": 45
        }
      ]
    },
    {
      "cell_type": "code",
      "metadata": {
        "colab": {
          "base_uri": "https://localhost:8080/"
        },
        "id": "w09Ar_Z8DQBd",
        "outputId": "ce68b8d8-b3ac-4562-c259-6e219cab3ef9"
      },
      "source": [
        "prediction12 = model10.predict(X_test)\r\n",
        "print(accuracy_score(y_test, prediction12))\r\n",
        "print(classification_report(y_test, prediction12))"
      ],
      "execution_count": null,
      "outputs": [
        {
          "output_type": "stream",
          "text": [
            "0.7368421052631579\n",
            "              precision    recall  f1-score   support\n",
            "\n",
            "         0.0       0.69      0.62      0.66        61\n",
            "         1.0       0.76      0.81      0.79        91\n",
            "\n",
            "    accuracy                           0.74       152\n",
            "   macro avg       0.73      0.72      0.72       152\n",
            "weighted avg       0.73      0.74      0.73       152\n",
            "\n"
          ],
          "name": "stdout"
        }
      ]
    },
    {
      "cell_type": "code",
      "metadata": {
        "colab": {
          "base_uri": "https://localhost:8080/"
        },
        "id": "R-WTpC5jIMdj",
        "outputId": "8ee445f1-8da3-4243-de6b-359532149b72"
      },
      "source": [
        "real_prediction12 = model10.predict(test_X)\r\n",
        "real_prediction12"
      ],
      "execution_count": null,
      "outputs": [
        {
          "output_type": "execute_result",
          "data": {
            "text/plain": [
              "array([1., 1., 1., 0., 0., 1., 0., 1., 1., 1., 1., 1., 1., 1., 1., 1., 1.,\n",
              "       1., 1., 1., 1., 0., 1., 1., 1., 1., 1., 1., 1., 0., 1., 1., 1., 1.,\n",
              "       0., 0., 0., 1., 1., 0.])"
            ]
          },
          "metadata": {
            "tags": []
          },
          "execution_count": 47
        }
      ]
    },
    {
      "cell_type": "markdown",
      "metadata": {
        "id": "eCvcDpI0Ru7R"
      },
      "source": [
        "\r\n",
        "\r\n",
        "---\r\n",
        "\r\n"
      ]
    },
    {
      "cell_type": "code",
      "metadata": {
        "id": "fO5EuCwPOGCj"
      },
      "source": [
        "import tensorflow as tf\r\n",
        "import numpy as np"
      ],
      "execution_count": null,
      "outputs": []
    },
    {
      "cell_type": "code",
      "metadata": {
        "id": "2beWxOVKSJRD"
      },
      "source": [
        "y = new_train_data['(Label)'].values\r\n",
        "x = new_train_data.drop(['(Label)'], axis=1)\r\n",
        "x = x.values"
      ],
      "execution_count": null,
      "outputs": []
    },
    {
      "cell_type": "code",
      "metadata": {
        "id": "eZllartmPYnu"
      },
      "source": [
        "x_train , x_test , y_train , y_test = train_test_split(x, y,test_size=0.2,random_state=1234)"
      ],
      "execution_count": null,
      "outputs": []
    },
    {
      "cell_type": "code",
      "metadata": {
        "id": "JB_098zmIh9Y"
      },
      "source": [
        "model = tf.keras.Sequential([tf.keras.layers.Dense(units=128, activation='relu', input_shape=(22,)),\r\n",
        "                             tf.keras.layers.Dense(units=128, activation='relu'),\r\n",
        "                             tf.keras.layers.Dense(units=1, activation='sigmoid')])\r\n",
        "\r\n",
        "model.compile(optimizer='adam', loss='binary_crossentropy', metrics=['accuracy'])"
      ],
      "execution_count": null,
      "outputs": []
    },
    {
      "cell_type": "code",
      "metadata": {
        "colab": {
          "base_uri": "https://localhost:8080/"
        },
        "id": "yIs1Qjk8O36F",
        "outputId": "da62a0c2-09e7-4faf-9711-b7d66a5cd124"
      },
      "source": [
        "model.summary()"
      ],
      "execution_count": null,
      "outputs": [
        {
          "output_type": "stream",
          "text": [
            "Model: \"sequential\"\n",
            "_________________________________________________________________\n",
            "Layer (type)                 Output Shape              Param #   \n",
            "=================================================================\n",
            "dense (Dense)                (None, 128)               2944      \n",
            "_________________________________________________________________\n",
            "dense_1 (Dense)              (None, 128)               16512     \n",
            "_________________________________________________________________\n",
            "dense_2 (Dense)              (None, 1)                 129       \n",
            "=================================================================\n",
            "Total params: 19,585\n",
            "Trainable params: 19,585\n",
            "Non-trainable params: 0\n",
            "_________________________________________________________________\n"
          ],
          "name": "stdout"
        }
      ]
    },
    {
      "cell_type": "code",
      "metadata": {
        "colab": {
          "base_uri": "https://localhost:8080/"
        },
        "id": "hcDKH7H-OZ8L",
        "outputId": "f31de7ee-4d56-4c43-cdab-c6cc4fbc65d1"
      },
      "source": [
        "history = model.fit(x_train, y_train, epochs=25, batch_size=16, validation_split=0.2,\r\n",
        "                    callbacks=[tf.keras.callbacks.EarlyStopping(patience=3, monitor='val_loss')])"
      ],
      "execution_count": null,
      "outputs": [
        {
          "output_type": "stream",
          "text": [
            "Epoch 1/25\n",
            "31/31 [==============================] - 2s 17ms/step - loss: 1.5888 - accuracy: 0.5678 - val_loss: 1.1886 - val_accuracy: 0.5984\n",
            "Epoch 2/25\n",
            "31/31 [==============================] - 0s 4ms/step - loss: 0.8600 - accuracy: 0.6975 - val_loss: 0.8126 - val_accuracy: 0.7049\n",
            "Epoch 3/25\n",
            "31/31 [==============================] - 0s 4ms/step - loss: 0.7409 - accuracy: 0.7019 - val_loss: 0.7952 - val_accuracy: 0.7049\n",
            "Epoch 4/25\n",
            "31/31 [==============================] - 0s 4ms/step - loss: 0.8084 - accuracy: 0.6422 - val_loss: 0.9596 - val_accuracy: 0.6557\n",
            "Epoch 5/25\n",
            "31/31 [==============================] - 0s 4ms/step - loss: 0.7492 - accuracy: 0.7180 - val_loss: 1.0768 - val_accuracy: 0.6475\n",
            "Epoch 6/25\n",
            "31/31 [==============================] - 0s 4ms/step - loss: 0.5979 - accuracy: 0.7372 - val_loss: 0.7675 - val_accuracy: 0.7131\n",
            "Epoch 7/25\n",
            "31/31 [==============================] - 0s 4ms/step - loss: 0.6119 - accuracy: 0.7448 - val_loss: 0.7664 - val_accuracy: 0.7049\n",
            "Epoch 8/25\n",
            "31/31 [==============================] - 0s 4ms/step - loss: 0.5610 - accuracy: 0.7862 - val_loss: 0.7497 - val_accuracy: 0.7377\n",
            "Epoch 9/25\n",
            "31/31 [==============================] - 0s 4ms/step - loss: 0.4877 - accuracy: 0.7649 - val_loss: 0.6948 - val_accuracy: 0.7295\n",
            "Epoch 10/25\n",
            "31/31 [==============================] - 0s 4ms/step - loss: 0.4447 - accuracy: 0.7938 - val_loss: 1.3713 - val_accuracy: 0.5902\n",
            "Epoch 11/25\n",
            "31/31 [==============================] - 0s 4ms/step - loss: 0.7819 - accuracy: 0.7166 - val_loss: 0.7449 - val_accuracy: 0.6967\n",
            "Epoch 12/25\n",
            "31/31 [==============================] - 0s 4ms/step - loss: 0.4930 - accuracy: 0.7826 - val_loss: 0.6914 - val_accuracy: 0.7295\n",
            "Epoch 13/25\n",
            "31/31 [==============================] - 0s 4ms/step - loss: 0.5163 - accuracy: 0.7559 - val_loss: 0.8248 - val_accuracy: 0.7049\n",
            "Epoch 14/25\n",
            "31/31 [==============================] - 0s 4ms/step - loss: 0.4292 - accuracy: 0.8044 - val_loss: 0.8134 - val_accuracy: 0.6967\n",
            "Epoch 15/25\n",
            "31/31 [==============================] - 0s 5ms/step - loss: 0.4474 - accuracy: 0.8048 - val_loss: 0.8135 - val_accuracy: 0.6557\n"
          ],
          "name": "stdout"
        }
      ]
    },
    {
      "cell_type": "code",
      "metadata": {
        "colab": {
          "base_uri": "https://localhost:8080/"
        },
        "id": "KuWPISyzO6Dt",
        "outputId": "b88b1f58-dce5-49e8-d146-0263d07cb505"
      },
      "source": [
        "model.evaluate(x_test, y_test)"
      ],
      "execution_count": null,
      "outputs": [
        {
          "output_type": "stream",
          "text": [
            "5/5 [==============================] - 0s 3ms/step - loss: 0.7608 - accuracy: 0.6974\n"
          ],
          "name": "stdout"
        },
        {
          "output_type": "execute_result",
          "data": {
            "text/plain": [
              "[0.7608118057250977, 0.6973684430122375]"
            ]
          },
          "metadata": {
            "tags": []
          },
          "execution_count": 54
        }
      ]
    },
    {
      "cell_type": "code",
      "metadata": {
        "id": "GANbIHZDRHce"
      },
      "source": [
        "pred = model.predict(test_X.values)"
      ],
      "execution_count": null,
      "outputs": []
    },
    {
      "cell_type": "code",
      "metadata": {
        "colab": {
          "base_uri": "https://localhost:8080/"
        },
        "id": "NK6Q5yz0W6em",
        "outputId": "f58bb46a-75b8-48b4-b863-d952e5581051"
      },
      "source": [
        "pred.astype(int)"
      ],
      "execution_count": null,
      "outputs": [
        {
          "output_type": "execute_result",
          "data": {
            "text/plain": [
              "array([[0],\n",
              "       [0],\n",
              "       [0],\n",
              "       [0],\n",
              "       [0],\n",
              "       [0],\n",
              "       [0],\n",
              "       [0],\n",
              "       [0],\n",
              "       [0],\n",
              "       [0],\n",
              "       [0],\n",
              "       [0],\n",
              "       [0],\n",
              "       [0],\n",
              "       [0],\n",
              "       [0],\n",
              "       [0],\n",
              "       [0],\n",
              "       [0],\n",
              "       [0],\n",
              "       [0],\n",
              "       [0],\n",
              "       [0],\n",
              "       [0],\n",
              "       [0],\n",
              "       [0],\n",
              "       [0],\n",
              "       [0],\n",
              "       [0],\n",
              "       [0],\n",
              "       [0],\n",
              "       [0],\n",
              "       [0],\n",
              "       [0],\n",
              "       [0],\n",
              "       [0],\n",
              "       [1],\n",
              "       [0],\n",
              "       [0]])"
            ]
          },
          "metadata": {
            "tags": []
          },
          "execution_count": 56
        }
      ]
    },
    {
      "cell_type": "markdown",
      "metadata": {
        "id": "OwXMg-98mhF0"
      },
      "source": [
        "\r\n",
        "\r\n",
        "---\r\n",
        "\r\n"
      ]
    },
    {
      "cell_type": "code",
      "metadata": {
        "id": "TFOSujXpX-YV",
        "colab": {
          "base_uri": "https://localhost:8080/"
        },
        "outputId": "4f5b6316-1c3a-4a75-cf1d-6bde2e935a9f"
      },
      "source": [
        "model11 = GradientBoostingClassifier()\r\n",
        "\r\n",
        "model11.fit(X_train, y_train)"
      ],
      "execution_count": null,
      "outputs": [
        {
          "output_type": "execute_result",
          "data": {
            "text/plain": [
              "GradientBoostingClassifier(ccp_alpha=0.0, criterion='friedman_mse', init=None,\n",
              "                           learning_rate=0.1, loss='deviance', max_depth=3,\n",
              "                           max_features=None, max_leaf_nodes=None,\n",
              "                           min_impurity_decrease=0.0, min_impurity_split=None,\n",
              "                           min_samples_leaf=1, min_samples_split=2,\n",
              "                           min_weight_fraction_leaf=0.0, n_estimators=100,\n",
              "                           n_iter_no_change=None, presort='deprecated',\n",
              "                           random_state=None, subsample=1.0, tol=0.0001,\n",
              "                           validation_fraction=0.1, verbose=0,\n",
              "                           warm_start=False)"
            ]
          },
          "metadata": {
            "tags": []
          },
          "execution_count": 57
        }
      ]
    },
    {
      "cell_type": "code",
      "metadata": {
        "colab": {
          "base_uri": "https://localhost:8080/"
        },
        "id": "iJx7vFPvmvxL",
        "outputId": "14ec8d08-6666-40a0-ff25-c227b6de050d"
      },
      "source": [
        "prediction13 = model11.predict(X_test)\r\n",
        "print(accuracy_score(y_test, prediction13))\r\n",
        "print(classification_report(y_test, prediction13))"
      ],
      "execution_count": null,
      "outputs": [
        {
          "output_type": "stream",
          "text": [
            "0.743421052631579\n",
            "              precision    recall  f1-score   support\n",
            "\n",
            "         0.0       0.71      0.61      0.65        61\n",
            "         1.0       0.76      0.84      0.80        91\n",
            "\n",
            "    accuracy                           0.74       152\n",
            "   macro avg       0.74      0.72      0.73       152\n",
            "weighted avg       0.74      0.74      0.74       152\n",
            "\n"
          ],
          "name": "stdout"
        }
      ]
    },
    {
      "cell_type": "code",
      "metadata": {
        "colab": {
          "base_uri": "https://localhost:8080/"
        },
        "id": "Qk5MjVVimvz5",
        "outputId": "2a69cd63-b171-40a3-84d9-8f3e930306b8"
      },
      "source": [
        "real_prediction13 = model11.predict(test_X)\r\n",
        "real_prediction13"
      ],
      "execution_count": null,
      "outputs": [
        {
          "output_type": "execute_result",
          "data": {
            "text/plain": [
              "array([1., 1., 1., 0., 0., 1., 0., 1., 1., 1., 1., 1., 1., 1., 1., 1., 1.,\n",
              "       1., 1., 1., 1., 0., 1., 1., 1., 0., 1., 1., 1., 0., 1., 1., 1., 0.,\n",
              "       0., 1., 0., 0., 0., 1.])"
            ]
          },
          "metadata": {
            "tags": []
          },
          "execution_count": 59
        }
      ]
    },
    {
      "cell_type": "markdown",
      "metadata": {
        "id": "vTZ_8bhfnL7p"
      },
      "source": [
        "\r\n",
        "\r\n",
        "---\r\n",
        "\r\n"
      ]
    },
    {
      "cell_type": "code",
      "metadata": {
        "colab": {
          "base_uri": "https://localhost:8080/"
        },
        "id": "_od-6E4-m8Fq",
        "outputId": "230352e4-c17e-4dae-85fe-2922b9374cb8"
      },
      "source": [
        "from sklearn.experimental import enable_hist_gradient_boosting\r\n",
        "from sklearn.ensemble import HistGradientBoostingClassifier\r\n",
        "\r\n",
        "model12 = HistGradientBoostingClassifier()\r\n",
        "\r\n",
        "model12.fit(X_train, y_train)"
      ],
      "execution_count": null,
      "outputs": [
        {
          "output_type": "execute_result",
          "data": {
            "text/plain": [
              "HistGradientBoostingClassifier(l2_regularization=0.0, learning_rate=0.1,\n",
              "                               loss='auto', max_bins=255, max_depth=None,\n",
              "                               max_iter=100, max_leaf_nodes=31,\n",
              "                               min_samples_leaf=20, n_iter_no_change=None,\n",
              "                               random_state=None, scoring=None, tol=1e-07,\n",
              "                               validation_fraction=0.1, verbose=0,\n",
              "                               warm_start=False)"
            ]
          },
          "metadata": {
            "tags": []
          },
          "execution_count": 60
        }
      ]
    },
    {
      "cell_type": "code",
      "metadata": {
        "colab": {
          "base_uri": "https://localhost:8080/"
        },
        "id": "K0rzuZFdnKLm",
        "outputId": "4e23e37b-8804-4dad-b176-2507bcdc539c"
      },
      "source": [
        "prediction14 = model12.predict(X_test)\r\n",
        "print(accuracy_score(y_test, prediction14))\r\n",
        "print(classification_report(y_test, prediction14))"
      ],
      "execution_count": null,
      "outputs": [
        {
          "output_type": "stream",
          "text": [
            "0.756578947368421\n",
            "              precision    recall  f1-score   support\n",
            "\n",
            "         0.0       0.71      0.67      0.69        61\n",
            "         1.0       0.79      0.81      0.80        91\n",
            "\n",
            "    accuracy                           0.76       152\n",
            "   macro avg       0.75      0.74      0.74       152\n",
            "weighted avg       0.75      0.76      0.76       152\n",
            "\n"
          ],
          "name": "stdout"
        }
      ]
    },
    {
      "cell_type": "code",
      "metadata": {
        "colab": {
          "base_uri": "https://localhost:8080/"
        },
        "id": "m9-FBiHjnKN9",
        "outputId": "e4fa69e3-a285-4ccf-b36f-03167013818d"
      },
      "source": [
        "real_prediction14 = model12.predict(test_X)\r\n",
        "real_prediction14"
      ],
      "execution_count": null,
      "outputs": [
        {
          "output_type": "execute_result",
          "data": {
            "text/plain": [
              "array([0., 1., 1., 0., 0., 1., 0., 1., 1., 1., 1., 1., 1., 1., 1., 1., 0.,\n",
              "       1., 1., 1., 1., 0., 1., 1., 1., 1., 1., 1., 1., 0., 1., 1., 1., 1.,\n",
              "       0., 1., 0., 1., 1., 0.])"
            ]
          },
          "metadata": {
            "tags": []
          },
          "execution_count": 62
        }
      ]
    },
    {
      "cell_type": "markdown",
      "metadata": {
        "id": "_RplAJ0Lnxgm"
      },
      "source": [
        "\r\n",
        "\r\n",
        "---\r\n",
        "\r\n"
      ]
    },
    {
      "cell_type": "code",
      "metadata": {
        "colab": {
          "base_uri": "https://localhost:8080/"
        },
        "id": "jXzEj6nXn5gQ",
        "outputId": "7e1a2925-787a-4d15-d4ed-5555ca78ce21"
      },
      "source": [
        "from sklearn.ensemble import ExtraTreesClassifier\r\n",
        "\r\n",
        "model14 = ExtraTreesClassifier()\r\n",
        "\r\n",
        "model14.fit(X_train, y_train)"
      ],
      "execution_count": null,
      "outputs": [
        {
          "output_type": "execute_result",
          "data": {
            "text/plain": [
              "ExtraTreesClassifier(bootstrap=False, ccp_alpha=0.0, class_weight=None,\n",
              "                     criterion='gini', max_depth=None, max_features='auto',\n",
              "                     max_leaf_nodes=None, max_samples=None,\n",
              "                     min_impurity_decrease=0.0, min_impurity_split=None,\n",
              "                     min_samples_leaf=1, min_samples_split=2,\n",
              "                     min_weight_fraction_leaf=0.0, n_estimators=100,\n",
              "                     n_jobs=None, oob_score=False, random_state=None, verbose=0,\n",
              "                     warm_start=False)"
            ]
          },
          "metadata": {
            "tags": []
          },
          "execution_count": 66
        }
      ]
    },
    {
      "cell_type": "code",
      "metadata": {
        "colab": {
          "base_uri": "https://localhost:8080/"
        },
        "id": "_sDXfpTxoS0N",
        "outputId": "be9adc81-02ba-4399-8e53-5e52d049de38"
      },
      "source": [
        "prediction16 = model14.predict(X_test)\r\n",
        "print(accuracy_score(y_test, prediction16))\r\n",
        "print(classification_report(y_test, prediction16))"
      ],
      "execution_count": null,
      "outputs": [
        {
          "output_type": "stream",
          "text": [
            "0.7302631578947368\n",
            "              precision    recall  f1-score   support\n",
            "\n",
            "         0.0       0.73      0.52      0.61        61\n",
            "         1.0       0.73      0.87      0.79        91\n",
            "\n",
            "    accuracy                           0.73       152\n",
            "   macro avg       0.73      0.70      0.70       152\n",
            "weighted avg       0.73      0.73      0.72       152\n",
            "\n"
          ],
          "name": "stdout"
        }
      ]
    },
    {
      "cell_type": "code",
      "metadata": {
        "colab": {
          "base_uri": "https://localhost:8080/"
        },
        "id": "Qr43qFrMoUQH",
        "outputId": "eefda52d-3a1b-43bf-9c1a-719534192105"
      },
      "source": [
        "real_prediction16 = model14.predict(test_X)\r\n",
        "real_prediction16"
      ],
      "execution_count": null,
      "outputs": [
        {
          "output_type": "execute_result",
          "data": {
            "text/plain": [
              "array([1., 1., 1., 0., 0., 1., 0., 1., 1., 1., 1., 1., 1., 1., 1., 1., 0.,\n",
              "       1., 1., 1., 1., 1., 1., 1., 1., 1., 1., 1., 1., 1., 1., 1., 1., 1.,\n",
              "       0., 0., 0., 0., 1., 1.])"
            ]
          },
          "metadata": {
            "tags": []
          },
          "execution_count": 68
        }
      ]
    },
    {
      "cell_type": "markdown",
      "metadata": {
        "id": "Krtb-JNPodrR"
      },
      "source": [
        "\r\n",
        "\r\n",
        "---\r\n",
        "\r\n"
      ]
    },
    {
      "cell_type": "code",
      "metadata": {
        "colab": {
          "base_uri": "https://localhost:8080/"
        },
        "id": "E800ySUIocQ-",
        "outputId": "48f19034-b051-4262-b9dd-b6b522452883"
      },
      "source": [
        "from sklearn.neural_network import MLPClassifier\r\n",
        "\r\n",
        "model15 = MLPClassifier()\r\n",
        "\r\n",
        "model15.fit(X_train, y_train)"
      ],
      "execution_count": null,
      "outputs": [
        {
          "output_type": "execute_result",
          "data": {
            "text/plain": [
              "MLPClassifier(activation='relu', alpha=0.0001, batch_size='auto', beta_1=0.9,\n",
              "              beta_2=0.999, early_stopping=False, epsilon=1e-08,\n",
              "              hidden_layer_sizes=(100,), learning_rate='constant',\n",
              "              learning_rate_init=0.001, max_fun=15000, max_iter=200,\n",
              "              momentum=0.9, n_iter_no_change=10, nesterovs_momentum=True,\n",
              "              power_t=0.5, random_state=None, shuffle=True, solver='adam',\n",
              "              tol=0.0001, validation_fraction=0.1, verbose=False,\n",
              "              warm_start=False)"
            ]
          },
          "metadata": {
            "tags": []
          },
          "execution_count": 69
        }
      ]
    },
    {
      "cell_type": "code",
      "metadata": {
        "colab": {
          "base_uri": "https://localhost:8080/"
        },
        "id": "vO36cSU2o0Ni",
        "outputId": "0c73c1cf-65dd-4ccf-fa6e-1456bcb4a053"
      },
      "source": [
        "prediction17 = model15.predict(X_test)\r\n",
        "print(accuracy_score(y_test, prediction17))\r\n",
        "print(classification_report(y_test, prediction17))"
      ],
      "execution_count": null,
      "outputs": [
        {
          "output_type": "stream",
          "text": [
            "0.6447368421052632\n",
            "              precision    recall  f1-score   support\n",
            "\n",
            "         0.0       0.55      0.67      0.60        61\n",
            "         1.0       0.74      0.63      0.68        91\n",
            "\n",
            "    accuracy                           0.64       152\n",
            "   macro avg       0.64      0.65      0.64       152\n",
            "weighted avg       0.66      0.64      0.65       152\n",
            "\n"
          ],
          "name": "stdout"
        }
      ]
    },
    {
      "cell_type": "code",
      "metadata": {
        "colab": {
          "base_uri": "https://localhost:8080/"
        },
        "id": "zIQoNQsxo1GA",
        "outputId": "ba6b7551-15d0-43eb-d2e0-e9ef13302b19"
      },
      "source": [
        "real_prediction17 = model15.predict(test_X)\r\n",
        "real_prediction17"
      ],
      "execution_count": null,
      "outputs": [
        {
          "output_type": "execute_result",
          "data": {
            "text/plain": [
              "array([0., 0., 0., 0., 0., 0., 0., 0., 1., 0., 1., 0., 1., 1., 0., 0., 0.,\n",
              "       1., 0., 1., 0., 0., 0., 0., 0., 0., 0., 0., 0., 0., 0., 0., 0., 0.,\n",
              "       0., 0., 0., 1., 0., 0.])"
            ]
          },
          "metadata": {
            "tags": []
          },
          "execution_count": 71
        }
      ]
    },
    {
      "cell_type": "markdown",
      "metadata": {
        "id": "NTXgCpxfpH6r"
      },
      "source": [
        "\r\n",
        "\r\n",
        "---\r\n",
        "\r\n"
      ]
    },
    {
      "cell_type": "code",
      "metadata": {
        "colab": {
          "base_uri": "https://localhost:8080/"
        },
        "id": "WeTJRVvipRz7",
        "outputId": "289f3f64-600b-45b3-8ce0-b07f6865b400"
      },
      "source": [
        "from sklearn.pipeline import Pipeline\r\n",
        "from sklearn.multiclass import OneVsRestClassifier\r\n",
        "from sklearn.svm import LinearSVC\r\n",
        "\r\n",
        "SVC_pipeline = Pipeline([('clf', OneVsRestClassifier(LinearSVC(), n_jobs=1))])\r\n",
        "\r\n",
        "SVC_pipeline.fit(X_train, y_train)"
      ],
      "execution_count": null,
      "outputs": [
        {
          "output_type": "execute_result",
          "data": {
            "text/plain": [
              "Pipeline(memory=None,\n",
              "         steps=[('clf',\n",
              "                 OneVsRestClassifier(estimator=LinearSVC(C=1.0,\n",
              "                                                         class_weight=None,\n",
              "                                                         dual=True,\n",
              "                                                         fit_intercept=True,\n",
              "                                                         intercept_scaling=1,\n",
              "                                                         loss='squared_hinge',\n",
              "                                                         max_iter=1000,\n",
              "                                                         multi_class='ovr',\n",
              "                                                         penalty='l2',\n",
              "                                                         random_state=None,\n",
              "                                                         tol=0.0001,\n",
              "                                                         verbose=0),\n",
              "                                     n_jobs=1))],\n",
              "         verbose=False)"
            ]
          },
          "metadata": {
            "tags": []
          },
          "execution_count": 72
        }
      ]
    },
    {
      "cell_type": "code",
      "metadata": {
        "colab": {
          "base_uri": "https://localhost:8080/"
        },
        "id": "IkuhNV_1qmMI",
        "outputId": "f39e4140-848d-4afe-8064-668b15f9de89"
      },
      "source": [
        "pipline_prediction = SVC_pipeline.predict(X_test)\r\n",
        "print(accuracy_score(y_test, pipline_prediction))\r\n",
        "print(classification_report(y_test, pipline_prediction))"
      ],
      "execution_count": null,
      "outputs": [
        {
          "output_type": "stream",
          "text": [
            "0.5986842105263158\n",
            "              precision    recall  f1-score   support\n",
            "\n",
            "         0.0       0.00      0.00      0.00        61\n",
            "         1.0       0.60      1.00      0.75        91\n",
            "\n",
            "    accuracy                           0.60       152\n",
            "   macro avg       0.30      0.50      0.37       152\n",
            "weighted avg       0.36      0.60      0.45       152\n",
            "\n"
          ],
          "name": "stdout"
        }
      ]
    },
    {
      "cell_type": "code",
      "metadata": {
        "colab": {
          "base_uri": "https://localhost:8080/"
        },
        "id": "ao51mKMUqmOe",
        "outputId": "e2b0d8db-81ce-42f2-c39e-0756ff34d5a6"
      },
      "source": [
        "real_pipe_prediction = SVC_pipeline.predict(test_X)\r\n",
        "real_pipe_prediction"
      ],
      "execution_count": null,
      "outputs": [
        {
          "output_type": "execute_result",
          "data": {
            "text/plain": [
              "array([1., 1., 1., 1., 1., 1., 1., 1., 1., 1., 1., 1., 1., 1., 1., 1., 1.,\n",
              "       1., 1., 1., 1., 1., 1., 1., 1., 1., 1., 1., 1., 1., 1., 1., 1., 1.,\n",
              "       1., 1., 1., 1., 1., 1.])"
            ]
          },
          "metadata": {
            "tags": []
          },
          "execution_count": 74
        }
      ]
    },
    {
      "cell_type": "markdown",
      "metadata": {
        "id": "kIGicsAUWieJ"
      },
      "source": [
        "\r\n",
        "\r\n",
        "---\r\n",
        "\r\n"
      ]
    },
    {
      "cell_type": "code",
      "metadata": {
        "colab": {
          "base_uri": "https://localhost:8080/"
        },
        "id": "-ENS6q_2Wk0z",
        "outputId": "97f62a2d-6a4a-4b30-ea07-18e8307bb7d8"
      },
      "source": [
        "# !pip install --upgrade autokeras\r\n",
        "# !pip install --upgrade keras-tuner"
      ],
      "execution_count": null,
      "outputs": [
        {
          "output_type": "stream",
          "text": [
            "Collecting autokeras\n",
            "\u001b[?25l  Downloading https://files.pythonhosted.org/packages/09/12/cf698586ccc8245f08d1843dcafb65b064a2e9e2923b889dc58e1019f099/autokeras-1.0.12-py3-none-any.whl (164kB)\n",
            "\r\u001b[K     |██                              | 10kB 15.7MB/s eta 0:00:01\r\u001b[K     |████                            | 20kB 19.8MB/s eta 0:00:01\r\u001b[K     |██████                          | 30kB 23.0MB/s eta 0:00:01\r\u001b[K     |████████                        | 40kB 19.3MB/s eta 0:00:01\r\u001b[K     |██████████                      | 51kB 17.9MB/s eta 0:00:01\r\u001b[K     |████████████                    | 61kB 19.6MB/s eta 0:00:01\r\u001b[K     |██████████████                  | 71kB 14.3MB/s eta 0:00:01\r\u001b[K     |████████████████                | 81kB 12.9MB/s eta 0:00:01\r\u001b[K     |██████████████████              | 92kB 13.1MB/s eta 0:00:01\r\u001b[K     |████████████████████            | 102kB 12.8MB/s eta 0:00:01\r\u001b[K     |██████████████████████          | 112kB 12.8MB/s eta 0:00:01\r\u001b[K     |████████████████████████        | 122kB 12.8MB/s eta 0:00:01\r\u001b[K     |██████████████████████████      | 133kB 12.8MB/s eta 0:00:01\r\u001b[K     |████████████████████████████    | 143kB 12.8MB/s eta 0:00:01\r\u001b[K     |██████████████████████████████  | 153kB 12.8MB/s eta 0:00:01\r\u001b[K     |████████████████████████████████| 163kB 12.8MB/s eta 0:00:01\r\u001b[K     |████████████████████████████████| 174kB 12.8MB/s \n",
            "\u001b[?25hRequirement already satisfied, skipping upgrade: tensorflow>=2.3.0 in /usr/local/lib/python3.6/dist-packages (from autokeras) (2.4.0)\n",
            "Requirement already satisfied, skipping upgrade: pandas in /usr/local/lib/python3.6/dist-packages (from autokeras) (1.1.5)\n",
            "Requirement already satisfied, skipping upgrade: scikit-learn in /usr/local/lib/python3.6/dist-packages (from autokeras) (0.22.2.post1)\n",
            "Requirement already satisfied, skipping upgrade: packaging in /usr/local/lib/python3.6/dist-packages (from autokeras) (20.8)\n",
            "Collecting keras-tuner>=1.0.2\n",
            "\u001b[?25l  Downloading https://files.pythonhosted.org/packages/20/ec/1ef246787174b1e2bb591c95f29d3c1310070cad877824f907faba3dade9/keras-tuner-1.0.2.tar.gz (62kB)\n",
            "\u001b[K     |████████████████████████████████| 71kB 7.8MB/s \n",
            "\u001b[?25hRequirement already satisfied, skipping upgrade: flatbuffers~=1.12.0 in /usr/local/lib/python3.6/dist-packages (from tensorflow>=2.3.0->autokeras) (1.12)\n",
            "Requirement already satisfied, skipping upgrade: absl-py~=0.10 in /usr/local/lib/python3.6/dist-packages (from tensorflow>=2.3.0->autokeras) (0.10.0)\n",
            "Requirement already satisfied, skipping upgrade: protobuf>=3.9.2 in /usr/local/lib/python3.6/dist-packages (from tensorflow>=2.3.0->autokeras) (3.12.4)\n",
            "Requirement already satisfied, skipping upgrade: numpy~=1.19.2 in /usr/local/lib/python3.6/dist-packages (from tensorflow>=2.3.0->autokeras) (1.19.4)\n",
            "Requirement already satisfied, skipping upgrade: wheel~=0.35 in /usr/local/lib/python3.6/dist-packages (from tensorflow>=2.3.0->autokeras) (0.36.2)\n",
            "Requirement already satisfied, skipping upgrade: wrapt~=1.12.1 in /usr/local/lib/python3.6/dist-packages (from tensorflow>=2.3.0->autokeras) (1.12.1)\n",
            "Requirement already satisfied, skipping upgrade: keras-preprocessing~=1.1.2 in /usr/local/lib/python3.6/dist-packages (from tensorflow>=2.3.0->autokeras) (1.1.2)\n",
            "Requirement already satisfied, skipping upgrade: google-pasta~=0.2 in /usr/local/lib/python3.6/dist-packages (from tensorflow>=2.3.0->autokeras) (0.2.0)\n",
            "Requirement already satisfied, skipping upgrade: grpcio~=1.32.0 in /usr/local/lib/python3.6/dist-packages (from tensorflow>=2.3.0->autokeras) (1.32.0)\n",
            "Requirement already satisfied, skipping upgrade: h5py~=2.10.0 in /usr/local/lib/python3.6/dist-packages (from tensorflow>=2.3.0->autokeras) (2.10.0)\n",
            "Requirement already satisfied, skipping upgrade: six~=1.15.0 in /usr/local/lib/python3.6/dist-packages (from tensorflow>=2.3.0->autokeras) (1.15.0)\n",
            "Requirement already satisfied, skipping upgrade: opt-einsum~=3.3.0 in /usr/local/lib/python3.6/dist-packages (from tensorflow>=2.3.0->autokeras) (3.3.0)\n",
            "Requirement already satisfied, skipping upgrade: termcolor~=1.1.0 in /usr/local/lib/python3.6/dist-packages (from tensorflow>=2.3.0->autokeras) (1.1.0)\n",
            "Requirement already satisfied, skipping upgrade: gast==0.3.3 in /usr/local/lib/python3.6/dist-packages (from tensorflow>=2.3.0->autokeras) (0.3.3)\n",
            "Requirement already satisfied, skipping upgrade: tensorflow-estimator<2.5.0,>=2.4.0rc0 in /usr/local/lib/python3.6/dist-packages (from tensorflow>=2.3.0->autokeras) (2.4.0)\n",
            "Requirement already satisfied, skipping upgrade: typing-extensions~=3.7.4 in /usr/local/lib/python3.6/dist-packages (from tensorflow>=2.3.0->autokeras) (3.7.4.3)\n",
            "Requirement already satisfied, skipping upgrade: astunparse~=1.6.3 in /usr/local/lib/python3.6/dist-packages (from tensorflow>=2.3.0->autokeras) (1.6.3)\n",
            "Requirement already satisfied, skipping upgrade: tensorboard~=2.4 in /usr/local/lib/python3.6/dist-packages (from tensorflow>=2.3.0->autokeras) (2.4.0)\n",
            "Requirement already satisfied, skipping upgrade: python-dateutil>=2.7.3 in /usr/local/lib/python3.6/dist-packages (from pandas->autokeras) (2.8.1)\n",
            "Requirement already satisfied, skipping upgrade: pytz>=2017.2 in /usr/local/lib/python3.6/dist-packages (from pandas->autokeras) (2018.9)\n",
            "Requirement already satisfied, skipping upgrade: joblib>=0.11 in /usr/local/lib/python3.6/dist-packages (from scikit-learn->autokeras) (1.0.0)\n",
            "Requirement already satisfied, skipping upgrade: scipy>=0.17.0 in /usr/local/lib/python3.6/dist-packages (from scikit-learn->autokeras) (1.4.1)\n",
            "Requirement already satisfied, skipping upgrade: pyparsing>=2.0.2 in /usr/local/lib/python3.6/dist-packages (from packaging->autokeras) (2.4.7)\n",
            "Requirement already satisfied, skipping upgrade: future in /usr/local/lib/python3.6/dist-packages (from keras-tuner>=1.0.2->autokeras) (0.16.0)\n",
            "Requirement already satisfied, skipping upgrade: tabulate in /usr/local/lib/python3.6/dist-packages (from keras-tuner>=1.0.2->autokeras) (0.8.7)\n",
            "Collecting terminaltables\n",
            "  Downloading https://files.pythonhosted.org/packages/9b/c4/4a21174f32f8a7e1104798c445dacdc1d4df86f2f26722767034e4de4bff/terminaltables-3.1.0.tar.gz\n",
            "Collecting colorama\n",
            "  Downloading https://files.pythonhosted.org/packages/44/98/5b86278fbbf250d239ae0ecb724f8572af1c91f4a11edf4d36a206189440/colorama-0.4.4-py2.py3-none-any.whl\n",
            "Requirement already satisfied, skipping upgrade: tqdm in /usr/local/lib/python3.6/dist-packages (from keras-tuner>=1.0.2->autokeras) (4.41.1)\n",
            "Requirement already satisfied, skipping upgrade: requests in /usr/local/lib/python3.6/dist-packages (from keras-tuner>=1.0.2->autokeras) (2.23.0)\n",
            "Requirement already satisfied, skipping upgrade: setuptools in /usr/local/lib/python3.6/dist-packages (from protobuf>=3.9.2->tensorflow>=2.3.0->autokeras) (50.3.2)\n",
            "Requirement already satisfied, skipping upgrade: google-auth<2,>=1.6.3 in /usr/local/lib/python3.6/dist-packages (from tensorboard~=2.4->tensorflow>=2.3.0->autokeras) (1.17.2)\n",
            "Requirement already satisfied, skipping upgrade: tensorboard-plugin-wit>=1.6.0 in /usr/local/lib/python3.6/dist-packages (from tensorboard~=2.4->tensorflow>=2.3.0->autokeras) (1.7.0)\n",
            "Requirement already satisfied, skipping upgrade: markdown>=2.6.8 in /usr/local/lib/python3.6/dist-packages (from tensorboard~=2.4->tensorflow>=2.3.0->autokeras) (3.3.3)\n",
            "Requirement already satisfied, skipping upgrade: werkzeug>=0.11.15 in /usr/local/lib/python3.6/dist-packages (from tensorboard~=2.4->tensorflow>=2.3.0->autokeras) (1.0.1)\n",
            "Requirement already satisfied, skipping upgrade: google-auth-oauthlib<0.5,>=0.4.1 in /usr/local/lib/python3.6/dist-packages (from tensorboard~=2.4->tensorflow>=2.3.0->autokeras) (0.4.2)\n",
            "Requirement already satisfied, skipping upgrade: certifi>=2017.4.17 in /usr/local/lib/python3.6/dist-packages (from requests->keras-tuner>=1.0.2->autokeras) (2020.12.5)\n",
            "Requirement already satisfied, skipping upgrade: urllib3!=1.25.0,!=1.25.1,<1.26,>=1.21.1 in /usr/local/lib/python3.6/dist-packages (from requests->keras-tuner>=1.0.2->autokeras) (1.24.3)\n",
            "Requirement already satisfied, skipping upgrade: idna<3,>=2.5 in /usr/local/lib/python3.6/dist-packages (from requests->keras-tuner>=1.0.2->autokeras) (2.10)\n",
            "Requirement already satisfied, skipping upgrade: chardet<4,>=3.0.2 in /usr/local/lib/python3.6/dist-packages (from requests->keras-tuner>=1.0.2->autokeras) (3.0.4)\n",
            "Requirement already satisfied, skipping upgrade: cachetools<5.0,>=2.0.0 in /usr/local/lib/python3.6/dist-packages (from google-auth<2,>=1.6.3->tensorboard~=2.4->tensorflow>=2.3.0->autokeras) (4.2.0)\n",
            "Requirement already satisfied, skipping upgrade: pyasn1-modules>=0.2.1 in /usr/local/lib/python3.6/dist-packages (from google-auth<2,>=1.6.3->tensorboard~=2.4->tensorflow>=2.3.0->autokeras) (0.2.8)\n",
            "Requirement already satisfied, skipping upgrade: rsa<5,>=3.1.4; python_version >= \"3\" in /usr/local/lib/python3.6/dist-packages (from google-auth<2,>=1.6.3->tensorboard~=2.4->tensorflow>=2.3.0->autokeras) (4.6)\n",
            "Requirement already satisfied, skipping upgrade: importlib-metadata; python_version < \"3.8\" in /usr/local/lib/python3.6/dist-packages (from markdown>=2.6.8->tensorboard~=2.4->tensorflow>=2.3.0->autokeras) (3.3.0)\n",
            "Requirement already satisfied, skipping upgrade: requests-oauthlib>=0.7.0 in /usr/local/lib/python3.6/dist-packages (from google-auth-oauthlib<0.5,>=0.4.1->tensorboard~=2.4->tensorflow>=2.3.0->autokeras) (1.3.0)\n",
            "Requirement already satisfied, skipping upgrade: pyasn1<0.5.0,>=0.4.6 in /usr/local/lib/python3.6/dist-packages (from pyasn1-modules>=0.2.1->google-auth<2,>=1.6.3->tensorboard~=2.4->tensorflow>=2.3.0->autokeras) (0.4.8)\n",
            "Requirement already satisfied, skipping upgrade: zipp>=0.5 in /usr/local/lib/python3.6/dist-packages (from importlib-metadata; python_version < \"3.8\"->markdown>=2.6.8->tensorboard~=2.4->tensorflow>=2.3.0->autokeras) (3.4.0)\n",
            "Requirement already satisfied, skipping upgrade: oauthlib>=3.0.0 in /usr/local/lib/python3.6/dist-packages (from requests-oauthlib>=0.7.0->google-auth-oauthlib<0.5,>=0.4.1->tensorboard~=2.4->tensorflow>=2.3.0->autokeras) (3.1.0)\n",
            "Building wheels for collected packages: keras-tuner, terminaltables\n",
            "  Building wheel for keras-tuner (setup.py) ... \u001b[?25l\u001b[?25hdone\n",
            "  Created wheel for keras-tuner: filename=keras_tuner-1.0.2-cp36-none-any.whl size=78939 sha256=819269e0419711d717d0596cb77b8701ce71f0af49e2e119c6a756e34bd0e8bf\n",
            "  Stored in directory: /root/.cache/pip/wheels/bb/a1/8a/7c3de0efb3707a1701b36ebbfdbc4e67aedf6d4943a1f463d6\n",
            "  Building wheel for terminaltables (setup.py) ... \u001b[?25l\u001b[?25hdone\n",
            "  Created wheel for terminaltables: filename=terminaltables-3.1.0-cp36-none-any.whl size=15358 sha256=fd690ddc2f2f2030a4465e37e137d095f44cca2b5cc2e7f7cc8c87aa0c21f6d8\n",
            "  Stored in directory: /root/.cache/pip/wheels/30/6b/50/6c75775b681fb36cdfac7f19799888ef9d8813aff9e379663e\n",
            "Successfully built keras-tuner terminaltables\n",
            "Installing collected packages: terminaltables, colorama, keras-tuner, autokeras\n",
            "Successfully installed autokeras-1.0.12 colorama-0.4.4 keras-tuner-1.0.2 terminaltables-3.1.0\n",
            "Requirement already up-to-date: keras-tuner in /usr/local/lib/python3.6/dist-packages (1.0.2)\n",
            "Requirement already satisfied, skipping upgrade: tabulate in /usr/local/lib/python3.6/dist-packages (from keras-tuner) (0.8.7)\n",
            "Requirement already satisfied, skipping upgrade: colorama in /usr/local/lib/python3.6/dist-packages (from keras-tuner) (0.4.4)\n",
            "Requirement already satisfied, skipping upgrade: tqdm in /usr/local/lib/python3.6/dist-packages (from keras-tuner) (4.41.1)\n",
            "Requirement already satisfied, skipping upgrade: packaging in /usr/local/lib/python3.6/dist-packages (from keras-tuner) (20.8)\n",
            "Requirement already satisfied, skipping upgrade: future in /usr/local/lib/python3.6/dist-packages (from keras-tuner) (0.16.0)\n",
            "Requirement already satisfied, skipping upgrade: scikit-learn in /usr/local/lib/python3.6/dist-packages (from keras-tuner) (0.22.2.post1)\n",
            "Requirement already satisfied, skipping upgrade: terminaltables in /usr/local/lib/python3.6/dist-packages (from keras-tuner) (3.1.0)\n",
            "Requirement already satisfied, skipping upgrade: numpy in /usr/local/lib/python3.6/dist-packages (from keras-tuner) (1.19.4)\n",
            "Requirement already satisfied, skipping upgrade: scipy in /usr/local/lib/python3.6/dist-packages (from keras-tuner) (1.4.1)\n",
            "Requirement already satisfied, skipping upgrade: requests in /usr/local/lib/python3.6/dist-packages (from keras-tuner) (2.23.0)\n",
            "Requirement already satisfied, skipping upgrade: pyparsing>=2.0.2 in /usr/local/lib/python3.6/dist-packages (from packaging->keras-tuner) (2.4.7)\n",
            "Requirement already satisfied, skipping upgrade: joblib>=0.11 in /usr/local/lib/python3.6/dist-packages (from scikit-learn->keras-tuner) (1.0.0)\n",
            "Requirement already satisfied, skipping upgrade: idna<3,>=2.5 in /usr/local/lib/python3.6/dist-packages (from requests->keras-tuner) (2.10)\n",
            "Requirement already satisfied, skipping upgrade: certifi>=2017.4.17 in /usr/local/lib/python3.6/dist-packages (from requests->keras-tuner) (2020.12.5)\n",
            "Requirement already satisfied, skipping upgrade: chardet<4,>=3.0.2 in /usr/local/lib/python3.6/dist-packages (from requests->keras-tuner) (3.0.4)\n",
            "Requirement already satisfied, skipping upgrade: urllib3!=1.25.0,!=1.25.1,<1.26,>=1.21.1 in /usr/local/lib/python3.6/dist-packages (from requests->keras-tuner) (1.24.3)\n"
          ],
          "name": "stdout"
        }
      ]
    },
    {
      "cell_type": "code",
      "metadata": {
        "id": "bHnF1o-ZqmRH"
      },
      "source": [
        "# import numpy as np\r\n",
        "# import tensorflow as tf\r\n",
        "# from tensorflow.keras.datasets import mnist\r\n",
        "# from tensorflow.python.keras.utils.data_utils import Sequence\r\n",
        "# import autokeras as ak"
      ],
      "execution_count": null,
      "outputs": []
    },
    {
      "cell_type": "code",
      "metadata": {
        "colab": {
          "base_uri": "https://localhost:8080/",
          "height": 394
        },
        "id": "LvELaw_1Wujh",
        "outputId": "c4503b1b-48a8-4500-ab90-c011b8b8372f"
      },
      "source": [
        "# clf = ak.ImageClassifier(\r\n",
        "#     overwrite=True,\r\n",
        "#     max_trials=1)\r\n",
        "\r\n",
        "# clf.fit(x_train, y_train, epochs=10)\r\n",
        "\r\n",
        "# predicted_y = clf.predict(x_test)\r\n",
        "# print(predicted_y)\r\n",
        "\r\n",
        "# print(clf.evaluate(x_test, y_test))"
      ],
      "execution_count": null,
      "outputs": [
        {
          "output_type": "error",
          "ename": "ValueError",
          "evalue": "ignored",
          "traceback": [
            "\u001b[0;31m---------------------------------------------------------------------------\u001b[0m",
            "\u001b[0;31mValueError\u001b[0m                                Traceback (most recent call last)",
            "\u001b[0;32m<ipython-input-77-2be6f926006a>\u001b[0m in \u001b[0;36m<module>\u001b[0;34m()\u001b[0m\n\u001b[1;32m      3\u001b[0m     max_trials=1)\n\u001b[1;32m      4\u001b[0m \u001b[0;34m\u001b[0m\u001b[0m\n\u001b[0;32m----> 5\u001b[0;31m \u001b[0mclf\u001b[0m\u001b[0;34m.\u001b[0m\u001b[0mfit\u001b[0m\u001b[0;34m(\u001b[0m\u001b[0mx_train\u001b[0m\u001b[0;34m,\u001b[0m \u001b[0my_train\u001b[0m\u001b[0;34m,\u001b[0m \u001b[0mepochs\u001b[0m\u001b[0;34m=\u001b[0m\u001b[0;36m10\u001b[0m\u001b[0;34m)\u001b[0m\u001b[0;34m\u001b[0m\u001b[0;34m\u001b[0m\u001b[0m\n\u001b[0m\u001b[1;32m      6\u001b[0m \u001b[0;34m\u001b[0m\u001b[0m\n\u001b[1;32m      7\u001b[0m \u001b[0mpredicted_y\u001b[0m \u001b[0;34m=\u001b[0m \u001b[0mclf\u001b[0m\u001b[0;34m.\u001b[0m\u001b[0mpredict\u001b[0m\u001b[0;34m(\u001b[0m\u001b[0mx_test\u001b[0m\u001b[0;34m)\u001b[0m\u001b[0;34m\u001b[0m\u001b[0;34m\u001b[0m\u001b[0m\n",
            "\u001b[0;32m/usr/local/lib/python3.6/dist-packages/autokeras/tasks/image.py\u001b[0m in \u001b[0;36mfit\u001b[0;34m(self, x, y, epochs, callbacks, validation_split, validation_data, **kwargs)\u001b[0m\n\u001b[1;32m    164\u001b[0m             \u001b[0mvalidation_split\u001b[0m\u001b[0;34m=\u001b[0m\u001b[0mvalidation_split\u001b[0m\u001b[0;34m,\u001b[0m\u001b[0;34m\u001b[0m\u001b[0;34m\u001b[0m\u001b[0m\n\u001b[1;32m    165\u001b[0m             \u001b[0mvalidation_data\u001b[0m\u001b[0;34m=\u001b[0m\u001b[0mvalidation_data\u001b[0m\u001b[0;34m,\u001b[0m\u001b[0;34m\u001b[0m\u001b[0;34m\u001b[0m\u001b[0m\n\u001b[0;32m--> 166\u001b[0;31m             \u001b[0;34m**\u001b[0m\u001b[0mkwargs\u001b[0m\u001b[0;34m\u001b[0m\u001b[0;34m\u001b[0m\u001b[0m\n\u001b[0m\u001b[1;32m    167\u001b[0m         )\n\u001b[1;32m    168\u001b[0m \u001b[0;34m\u001b[0m\u001b[0m\n",
            "\u001b[0;32m/usr/local/lib/python3.6/dist-packages/autokeras/auto_model.py\u001b[0m in \u001b[0;36mfit\u001b[0;34m(self, x, y, batch_size, epochs, callbacks, validation_split, validation_data, **kwargs)\u001b[0m\n\u001b[1;32m    262\u001b[0m             \u001b[0mx\u001b[0m\u001b[0;34m=\u001b[0m\u001b[0mx\u001b[0m\u001b[0;34m,\u001b[0m \u001b[0my\u001b[0m\u001b[0;34m=\u001b[0m\u001b[0my\u001b[0m\u001b[0;34m,\u001b[0m \u001b[0mvalidation_data\u001b[0m\u001b[0;34m=\u001b[0m\u001b[0mvalidation_data\u001b[0m\u001b[0;34m,\u001b[0m \u001b[0mbatch_size\u001b[0m\u001b[0;34m=\u001b[0m\u001b[0mbatch_size\u001b[0m\u001b[0;34m\u001b[0m\u001b[0;34m\u001b[0m\u001b[0m\n\u001b[1;32m    263\u001b[0m         )\n\u001b[0;32m--> 264\u001b[0;31m         \u001b[0mself\u001b[0m\u001b[0;34m.\u001b[0m\u001b[0m_analyze_data\u001b[0m\u001b[0;34m(\u001b[0m\u001b[0mdataset\u001b[0m\u001b[0;34m)\u001b[0m\u001b[0;34m\u001b[0m\u001b[0;34m\u001b[0m\u001b[0m\n\u001b[0m\u001b[1;32m    265\u001b[0m         \u001b[0mself\u001b[0m\u001b[0;34m.\u001b[0m\u001b[0m_build_hyper_pipeline\u001b[0m\u001b[0;34m(\u001b[0m\u001b[0mdataset\u001b[0m\u001b[0;34m)\u001b[0m\u001b[0;34m\u001b[0m\u001b[0;34m\u001b[0m\u001b[0m\n\u001b[1;32m    266\u001b[0m \u001b[0;34m\u001b[0m\u001b[0m\n",
            "\u001b[0;32m/usr/local/lib/python3.6/dist-packages/autokeras/auto_model.py\u001b[0m in \u001b[0;36m_analyze_data\u001b[0;34m(self, dataset)\u001b[0m\n\u001b[1;32m    352\u001b[0m \u001b[0;34m\u001b[0m\u001b[0m\n\u001b[1;32m    353\u001b[0m         \u001b[0;32mfor\u001b[0m \u001b[0manalyser\u001b[0m \u001b[0;32min\u001b[0m \u001b[0manalysers\u001b[0m\u001b[0;34m:\u001b[0m\u001b[0;34m\u001b[0m\u001b[0;34m\u001b[0m\u001b[0m\n\u001b[0;32m--> 354\u001b[0;31m             \u001b[0manalyser\u001b[0m\u001b[0;34m.\u001b[0m\u001b[0mfinalize\u001b[0m\u001b[0;34m(\u001b[0m\u001b[0;34m)\u001b[0m\u001b[0;34m\u001b[0m\u001b[0;34m\u001b[0m\u001b[0m\n\u001b[0m\u001b[1;32m    355\u001b[0m \u001b[0;34m\u001b[0m\u001b[0m\n\u001b[1;32m    356\u001b[0m         \u001b[0;32mfor\u001b[0m \u001b[0mhm\u001b[0m\u001b[0;34m,\u001b[0m \u001b[0manalyser\u001b[0m \u001b[0;32min\u001b[0m \u001b[0mzip\u001b[0m\u001b[0;34m(\u001b[0m\u001b[0mself\u001b[0m\u001b[0;34m.\u001b[0m\u001b[0minputs\u001b[0m \u001b[0;34m+\u001b[0m \u001b[0mself\u001b[0m\u001b[0;34m.\u001b[0m\u001b[0m_heads\u001b[0m\u001b[0;34m,\u001b[0m \u001b[0manalysers\u001b[0m\u001b[0;34m)\u001b[0m\u001b[0;34m:\u001b[0m\u001b[0;34m\u001b[0m\u001b[0;34m\u001b[0m\u001b[0m\n",
            "\u001b[0;32m/usr/local/lib/python3.6/dist-packages/autokeras/analysers/input_analysers.py\u001b[0m in \u001b[0;36mfinalize\u001b[0;34m(self)\u001b[0m\n\u001b[1;32m     35\u001b[0m                 \u001b[0;34m\"Expect the data to ImageInput to have shape (batch_size, \"\u001b[0m\u001b[0;34m\u001b[0m\u001b[0;34m\u001b[0m\u001b[0m\n\u001b[1;32m     36\u001b[0m                 \u001b[0;34m\"height, width, channels) or (batch_size, height, width) \"\u001b[0m\u001b[0;34m\u001b[0m\u001b[0;34m\u001b[0m\u001b[0m\n\u001b[0;32m---> 37\u001b[0;31m                 \u001b[0;34m\"dimensions, but got input shape {shape}\"\u001b[0m\u001b[0;34m.\u001b[0m\u001b[0mformat\u001b[0m\u001b[0;34m(\u001b[0m\u001b[0mshape\u001b[0m\u001b[0;34m=\u001b[0m\u001b[0mself\u001b[0m\u001b[0;34m.\u001b[0m\u001b[0mshape\u001b[0m\u001b[0;34m)\u001b[0m\u001b[0;34m\u001b[0m\u001b[0;34m\u001b[0m\u001b[0m\n\u001b[0m\u001b[1;32m     38\u001b[0m             )\n\u001b[1;32m     39\u001b[0m \u001b[0;34m\u001b[0m\u001b[0m\n",
            "\u001b[0;31mValueError\u001b[0m: Expect the data to ImageInput to have shape (batch_size, height, width, channels) or (batch_size, height, width) dimensions, but got input shape [32, 22]"
          ]
        }
      ]
    },
    {
      "cell_type": "code",
      "metadata": {
        "id": "3-Sn183dWupb"
      },
      "source": [
        ""
      ],
      "execution_count": null,
      "outputs": []
    }
  ]
}