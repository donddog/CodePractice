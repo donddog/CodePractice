{
  "nbformat": 4,
  "nbformat_minor": 0,
  "metadata": {
    "colab": {
      "name": "FinalTermProject_서재영_비전특론.ipynb",
      "provenance": [],
      "collapsed_sections": []
    },
    "kernelspec": {
      "name": "python3",
      "display_name": "Python 3"
    }
  },
  "cells": [
    {
      "cell_type": "code",
      "metadata": {
        "id": "wioJMqX93dCv"
      },
      "source": [
        "import numpy as np\r\n",
        "import pandas as pd\r\n",
        "import warnings\r\n",
        "\r\n",
        "from sklearn.metrics import accuracy_score\r\n",
        "from sklearn.model_selection import train_test_split\r\n",
        "from sklearn.ensemble import RandomForestClassifier\r\n",
        "from sklearn.metrics import classification_report\r\n",
        "\r\n",
        "warnings.filterwarnings('ignore')\r\n",
        "np.random.seed(1234)"
      ],
      "execution_count": 1,
      "outputs": []
    },
    {
      "cell_type": "code",
      "metadata": {
        "id": "7o3L5W3cb_Sj"
      },
      "source": [
        "dataset = pd.read_excel('/content/drive/MyDrive/dataset_final_exam.xlsx') # 엑셀 파일은 MyDrive 위에 있다는 가정 하에 진행하였습니다."
      ],
      "execution_count": 2,
      "outputs": []
    },
    {
      "cell_type": "code",
      "metadata": {
        "id": "FcK_oglq3Y0I"
      },
      "source": [
        "dataset['(in1)'] = dataset['(in1)'].replace(['F','M'],[0,1])\r\n",
        "dataset['(in1)'] = dataset['(in1)'].replace(['F ',' F'],[0,0])\r\n",
        "dataset['(in15)'] = dataset['(in15)'].fillna(130) # 15에서 값이 점진적으로 상향되고 있는 마지막 값이 130이다\r\n",
        "dataset['(in16)'] = dataset['(in16)'].fillna(0) # Variation이 있지만 데이터 보면 0이 많은 것으로 보아 0으로 채움\r\n",
        "dataset['(in22)'] = dataset['(in22)'].fillna(value = dataset['(in22)'].mean()) # 규칙찾기가 어려워 보편적인 평균값을 채워 넣음\r\n",
        "dataset['(in21)'] = dataset['(in21)'].fillna(value = dataset['(in21)'].mean()) # 규칙찾기가 어려워 보편적인 평균값을 채워 넣음\r\n",
        "dataset[['(in17)', '(in18)', '(in19)', '(in20)']] = dataset[['(in17)', '(in18)', '(in19)', '(in20)']].fillna(0)#17,18,19,20는 대부분 5단위로 되어 있어 평균값은 이 5단위로 나오지 않을 가능성이 있어서 0으로 채움\r\n",
        "dataset['(in3)'] = dataset['(in3)'].fillna(0) # 0 또는 1이어서 임의로 정함 \r\n",
        "dataset[['(in14)', '(in21)']] = dataset[['(in14)', '(in21)']].round(decimals=1)\r\n",
        "dataset[['(in2) ', '(in3)', '(in4)', '(in5)', '(in6)', '(in7)', '(in8)',\r\n",
        "       '(in9)', '(in10)', '(in11)', '(in12)', '(in13)', '(in15)',\r\n",
        "       '(in16)', '(in17)', '(in18)', '(in19)', '(in20)', '(in22)']] = dataset[['(in2) ', '(in3)', '(in4)', '(in5)', '(in6)', '(in7)', '(in8)',\r\n",
        "                                                                               '(in9)', '(in10)', '(in11)', '(in12)', '(in13)', '(in15)',\r\n",
        "                                                                               '(in16)', '(in17)', '(in18)', '(in19)', '(in20)', '(in22)']].astype(int)"
      ],
      "execution_count": 3,
      "outputs": []
    },
    {
      "cell_type": "code",
      "metadata": {
        "id": "t3k9rnKK3mUA"
      },
      "source": [
        "new_train_data = pd.DataFrame(data=dataset.iloc[:760])\r\n",
        "new_test_data = pd.DataFrame(data=dataset.iloc[760:])"
      ],
      "execution_count": 4,
      "outputs": []
    },
    {
      "cell_type": "code",
      "metadata": {
        "id": "PirajhvL3mWx"
      },
      "source": [
        "X = new_train_data[['(in1)', '(in2) ', '(in3)', '(in4)', '(in5)', '(in6)', '(in7)', '(in8)',\r\n",
        "       '(in9)', '(in10)', '(in11)', '(in12)', '(in13)', '(in14)', '(in15)',\r\n",
        "       '(in16)', '(in17)', '(in18)', '(in19)', '(in20)', '(in21)', '(in22)']]\r\n",
        "       \r\n",
        "Y = new_train_data['(Label)']"
      ],
      "execution_count": 5,
      "outputs": []
    },
    {
      "cell_type": "code",
      "metadata": {
        "id": "XL_Kej6O3maK"
      },
      "source": [
        "test_X = new_test_data[['(in1)', '(in2) ', '(in3)', '(in4)', '(in5)', '(in6)', '(in7)', '(in8)', '(in9)', '(in10)',\r\n",
        "                    '(in11)', '(in12)', '(in13)', '(in14)', '(in15)', '(in16)', '(in17)', '(in18)', '(in19)', '(in20)', '(in21)', '(in22)']]"
      ],
      "execution_count": 6,
      "outputs": []
    },
    {
      "cell_type": "code",
      "metadata": {
        "id": "VEKU-6gb3r3m"
      },
      "source": [
        "X_train, X_test, y_train, y_test = train_test_split(X,Y, test_size=0.2)"
      ],
      "execution_count": 7,
      "outputs": []
    },
    {
      "cell_type": "code",
      "metadata": {
        "id": "ygU-HMet4ZEE"
      },
      "source": [
        "random_forest = RandomForestClassifier()\r\n",
        "model = random_forest.fit(X_train, y_train)"
      ],
      "execution_count": 8,
      "outputs": []
    },
    {
      "cell_type": "code",
      "metadata": {
        "colab": {
          "base_uri": "https://localhost:8080/"
        },
        "id": "rcKXzRpouWo-",
        "outputId": "0dcdd0ce-d144-4346-8019-2d08d791b52d"
      },
      "source": [
        "print(model)"
      ],
      "execution_count": 9,
      "outputs": [
        {
          "output_type": "stream",
          "text": [
            "RandomForestClassifier(bootstrap=True, ccp_alpha=0.0, class_weight=None,\n",
            "                       criterion='gini', max_depth=None, max_features='auto',\n",
            "                       max_leaf_nodes=None, max_samples=None,\n",
            "                       min_impurity_decrease=0.0, min_impurity_split=None,\n",
            "                       min_samples_leaf=1, min_samples_split=2,\n",
            "                       min_weight_fraction_leaf=0.0, n_estimators=100,\n",
            "                       n_jobs=None, oob_score=False, random_state=None,\n",
            "                       verbose=0, warm_start=False)\n"
          ],
          "name": "stdout"
        }
      ]
    },
    {
      "cell_type": "code",
      "metadata": {
        "colab": {
          "base_uri": "https://localhost:8080/"
        },
        "id": "wpb68lOW3r6R",
        "outputId": "413d3e9a-c1ca-498f-89bd-0dd22d8598e8"
      },
      "source": [
        "prediction = model.predict(X_test)\r\n",
        "\r\n",
        "print(\"acc : %.3f\" % accuracy_score(y_test, prediction))\r\n",
        "print(classification_report(y_test, prediction))"
      ],
      "execution_count": 10,
      "outputs": [
        {
          "output_type": "stream",
          "text": [
            "acc : 0.796\n",
            "              precision    recall  f1-score   support\n",
            "\n",
            "         0.0       0.84      0.61      0.70        61\n",
            "         1.0       0.78      0.92      0.84        91\n",
            "\n",
            "    accuracy                           0.80       152\n",
            "   macro avg       0.81      0.76      0.77       152\n",
            "weighted avg       0.80      0.80      0.79       152\n",
            "\n"
          ],
          "name": "stdout"
        }
      ]
    },
    {
      "cell_type": "code",
      "metadata": {
        "colab": {
          "base_uri": "https://localhost:8080/"
        },
        "id": "PBgOeBeu3r89",
        "outputId": "13e4c522-2f01-46f7-b266-9ca4f24df8f2"
      },
      "source": [
        "real_prediction = model.predict(test_X)\r\n",
        "\r\n",
        "print(real_prediction)"
      ],
      "execution_count": 11,
      "outputs": [
        {
          "output_type": "stream",
          "text": [
            "[1. 1. 1. 0. 0. 1. 0. 1. 1. 1. 1. 1. 1. 1. 1. 1. 1. 1. 1. 1. 1. 1. 1. 1.\n",
            " 1. 1. 1. 1. 1. 1. 1. 1. 1. 1. 0. 1. 0. 1. 0. 0.]\n"
          ],
          "name": "stdout"
        }
      ]
    },
    {
      "cell_type": "code",
      "metadata": {
        "id": "DmgZPvddchEj"
      },
      "source": [
        ""
      ],
      "execution_count": 11,
      "outputs": []
    }
  ]
}