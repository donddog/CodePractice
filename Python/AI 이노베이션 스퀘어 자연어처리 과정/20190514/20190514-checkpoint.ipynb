{
 "cells": [
  {
   "cell_type": "code",
   "execution_count": 2,
   "metadata": {},
   "outputs": [
    {
     "name": "stdout",
     "output_type": "stream",
     "text": [
      "Collecting konlpy\n",
      "  Downloading https://files.pythonhosted.org/packages/e5/3d/4e983cd98d87b50b2ab0387d73fa946f745aa8164e8888a714d5129f9765/konlpy-0.5.1-py2.py3-none-any.whl (19.4MB)\n",
      "Collecting JPype1>=0.5.7 (from konlpy)\n",
      "  Downloading https://files.pythonhosted.org/packages/c4/4b/60a3e63d51714d4d7ef1b1efdf84315d118a0a80a5b085bb52a7e2428cdc/JPype1-0.6.3.tar.gz (168kB)\n",
      "Building wheels for collected packages: JPype1\n",
      "  Running setup.py bdist_wheel for JPype1: started\n",
      "  Running setup.py bdist_wheel for JPype1: finished with status 'error'\n",
      "  Complete output from command C:\\Users\\USER\\Anaconda3\\python.exe -u -c \"import setuptools, tokenize;__file__='C:\\\\Users\\\\USER\\\\AppData\\\\Local\\\\Temp\\\\pip-install-xox9wj31\\\\JPype1\\\\setup.py';f=getattr(tokenize, 'open', open)(__file__);code=f.read().replace('\\r\\n', '\\n');f.close();exec(compile(code, __file__, 'exec'))\" bdist_wheel -d C:\\Users\\USER\\AppData\\Local\\Temp\\pip-wheel-dxss49yx --python-tag cp37:\n",
      "  Found native jni.h at C:\\Program Files\\Java\\jdk1.8.0_201\\include\n",
      "  running bdist_wheel\n",
      "  running build\n",
      "  running build_py\n",
      "  creating build\n",
      "  creating build\\lib.win-amd64-3.7\n",
      "  creating build\\lib.win-amd64-3.7\\jpype\n",
      "  copying jpype\\imports.py -> build\\lib.win-amd64-3.7\\jpype\n",
      "  copying jpype\\JClassUtil.py -> build\\lib.win-amd64-3.7\\jpype\n",
      "  copying jpype\\nio.py -> build\\lib.win-amd64-3.7\\jpype\n",
      "  copying jpype\\reflect.py -> build\\lib.win-amd64-3.7\\jpype\n",
      "  copying jpype\\_classpath.py -> build\\lib.win-amd64-3.7\\jpype\n",
      "  copying jpype\\_core.py -> build\\lib.win-amd64-3.7\\jpype\n",
      "  copying jpype\\_cygwin.py -> build\\lib.win-amd64-3.7\\jpype\n",
      "  copying jpype\\_darwin.py -> build\\lib.win-amd64-3.7\\jpype\n",
      "  copying jpype\\_gui.py -> build\\lib.win-amd64-3.7\\jpype\n",
      "  copying jpype\\_jarray.py -> build\\lib.win-amd64-3.7\\jpype\n",
      "  copying jpype\\_jboxed.py -> build\\lib.win-amd64-3.7\\jpype\n",
      "  copying jpype\\_jclass.py -> build\\lib.win-amd64-3.7\\jpype\n",
      "  copying jpype\\_jcollection.py -> build\\lib.win-amd64-3.7\\jpype\n",
      "  copying jpype\\_jexception.py -> build\\lib.win-amd64-3.7\\jpype\n",
      "  copying jpype\\_jio.py -> build\\lib.win-amd64-3.7\\jpype\n",
      "  copying jpype\\_jobject.py -> build\\lib.win-amd64-3.7\\jpype\n",
      "  copying jpype\\_jpackage.py -> build\\lib.win-amd64-3.7\\jpype\n",
      "  copying jpype\\_jproxy.py -> build\\lib.win-amd64-3.7\\jpype\n",
      "  copying jpype\\_jvmfinder.py -> build\\lib.win-amd64-3.7\\jpype\n",
      "  copying jpype\\_jwrapper.py -> build\\lib.win-amd64-3.7\\jpype\n",
      "  copying jpype\\_linux.py -> build\\lib.win-amd64-3.7\\jpype\n",
      "  copying jpype\\_properties.py -> build\\lib.win-amd64-3.7\\jpype\n",
      "  copying jpype\\_pykeywords.py -> build\\lib.win-amd64-3.7\\jpype\n",
      "  copying jpype\\_refdaemon.py -> build\\lib.win-amd64-3.7\\jpype\n",
      "  copying jpype\\_windows.py -> build\\lib.win-amd64-3.7\\jpype\n",
      "  copying jpype\\__init__.py -> build\\lib.win-amd64-3.7\\jpype\n",
      "  creating build\\lib.win-amd64-3.7\\jpype\\awt\n",
      "  copying jpype\\awt\\__init__.py -> build\\lib.win-amd64-3.7\\jpype\\awt\n",
      "  creating build\\lib.win-amd64-3.7\\jpype\\awt\\event\n",
      "  copying jpype\\awt\\event\\WindowAdapter.py -> build\\lib.win-amd64-3.7\\jpype\\awt\\event\n",
      "  copying jpype\\awt\\event\\__init__.py -> build\\lib.win-amd64-3.7\\jpype\\awt\\event\n",
      "  creating build\\lib.win-amd64-3.7\\jpypex\n",
      "  copying jpypex\\__init__.py -> build\\lib.win-amd64-3.7\\jpypex\n",
      "  creating build\\lib.win-amd64-3.7\\jpypex\\swing\n",
      "  copying jpypex\\swing\\AbstractAction.py -> build\\lib.win-amd64-3.7\\jpypex\\swing\n",
      "  copying jpypex\\swing\\pyutils.py -> build\\lib.win-amd64-3.7\\jpypex\\swing\n",
      "  copying jpypex\\swing\\__init__.py -> build\\lib.win-amd64-3.7\\jpypex\\swing\n",
      "  running build_ext\n",
      "  C:\\Users\\USER\\AppData\\Local\\Temp\\pip-install-xox9wj31\\JPype1\\setup.py:173: FeatureNotice: Turned ON Numpy support for fast Java array access\n",
      "    FeatureNotice)\n",
      "  building '_jpype' extension\n",
      "  error: Microsoft Visual C++ 14.0 is required. Get it with \"Microsoft Visual C++ Build Tools\": https://visualstudio.microsoft.com/downloads/\n",
      "  \n",
      "  ----------------------------------------\n",
      "  Running setup.py clean for JPype1\n",
      "Failed to build JPype1\n",
      "Installing collected packages: JPype1, konlpy\n",
      "  Running setup.py install for JPype1: started\n",
      "    Running setup.py install for JPype1: finished with status 'error'\n",
      "    Complete output from command C:\\Users\\USER\\Anaconda3\\python.exe -u -c \"import setuptools, tokenize;__file__='C:\\\\Users\\\\USER\\\\AppData\\\\Local\\\\Temp\\\\pip-install-xox9wj31\\\\JPype1\\\\setup.py';f=getattr(tokenize, 'open', open)(__file__);code=f.read().replace('\\r\\n', '\\n');f.close();exec(compile(code, __file__, 'exec'))\" install --record C:\\Users\\USER\\AppData\\Local\\Temp\\pip-record-_wnvj6j4\\install-record.txt --single-version-externally-managed --compile:\n",
      "    Found native jni.h at C:\\Program Files\\Java\\jdk1.8.0_201\\include\n",
      "    running install\n",
      "    running build\n",
      "    running build_py\n",
      "    creating build\n",
      "    creating build\\lib.win-amd64-3.7\n",
      "    creating build\\lib.win-amd64-3.7\\jpype\n",
      "    copying jpype\\imports.py -> build\\lib.win-amd64-3.7\\jpype\n",
      "    copying jpype\\JClassUtil.py -> build\\lib.win-amd64-3.7\\jpype\n",
      "    copying jpype\\nio.py -> build\\lib.win-amd64-3.7\\jpype\n",
      "    copying jpype\\reflect.py -> build\\lib.win-amd64-3.7\\jpype\n",
      "    copying jpype\\_classpath.py -> build\\lib.win-amd64-3.7\\jpype\n",
      "    copying jpype\\_core.py -> build\\lib.win-amd64-3.7\\jpype\n",
      "    copying jpype\\_cygwin.py -> build\\lib.win-amd64-3.7\\jpype\n",
      "    copying jpype\\_darwin.py -> build\\lib.win-amd64-3.7\\jpype\n",
      "    copying jpype\\_gui.py -> build\\lib.win-amd64-3.7\\jpype\n",
      "    copying jpype\\_jarray.py -> build\\lib.win-amd64-3.7\\jpype\n",
      "    copying jpype\\_jboxed.py -> build\\lib.win-amd64-3.7\\jpype\n",
      "    copying jpype\\_jclass.py -> build\\lib.win-amd64-3.7\\jpype\n",
      "    copying jpype\\_jcollection.py -> build\\lib.win-amd64-3.7\\jpype\n",
      "    copying jpype\\_jexception.py -> build\\lib.win-amd64-3.7\\jpype\n",
      "    copying jpype\\_jio.py -> build\\lib.win-amd64-3.7\\jpype\n",
      "    copying jpype\\_jobject.py -> build\\lib.win-amd64-3.7\\jpype\n",
      "    copying jpype\\_jpackage.py -> build\\lib.win-amd64-3.7\\jpype\n",
      "    copying jpype\\_jproxy.py -> build\\lib.win-amd64-3.7\\jpype\n",
      "    copying jpype\\_jvmfinder.py -> build\\lib.win-amd64-3.7\\jpype\n",
      "    copying jpype\\_jwrapper.py -> build\\lib.win-amd64-3.7\\jpype\n",
      "    copying jpype\\_linux.py -> build\\lib.win-amd64-3.7\\jpype\n",
      "    copying jpype\\_properties.py -> build\\lib.win-amd64-3.7\\jpype\n",
      "    copying jpype\\_pykeywords.py -> build\\lib.win-amd64-3.7\\jpype\n",
      "    copying jpype\\_refdaemon.py -> build\\lib.win-amd64-3.7\\jpype\n",
      "    copying jpype\\_windows.py -> build\\lib.win-amd64-3.7\\jpype\n",
      "    copying jpype\\__init__.py -> build\\lib.win-amd64-3.7\\jpype\n",
      "    creating build\\lib.win-amd64-3.7\\jpype\\awt\n",
      "    copying jpype\\awt\\__init__.py -> build\\lib.win-amd64-3.7\\jpype\\awt\n",
      "    creating build\\lib.win-amd64-3.7\\jpype\\awt\\event\n",
      "    copying jpype\\awt\\event\\WindowAdapter.py -> build\\lib.win-amd64-3.7\\jpype\\awt\\event\n",
      "    copying jpype\\awt\\event\\__init__.py -> build\\lib.win-amd64-3.7\\jpype\\awt\\event\n",
      "    creating build\\lib.win-amd64-3.7\\jpypex\n",
      "    copying jpypex\\__init__.py -> build\\lib.win-amd64-3.7\\jpypex\n",
      "    creating build\\lib.win-amd64-3.7\\jpypex\\swing\n",
      "    copying jpypex\\swing\\AbstractAction.py -> build\\lib.win-amd64-3.7\\jpypex\\swing\n",
      "    copying jpypex\\swing\\pyutils.py -> build\\lib.win-amd64-3.7\\jpypex\\swing\n",
      "    copying jpypex\\swing\\__init__.py -> build\\lib.win-amd64-3.7\\jpypex\\swing\n",
      "    running build_ext\n",
      "    C:\\Users\\USER\\AppData\\Local\\Temp\\pip-install-xox9wj31\\JPype1\\setup.py:173: FeatureNotice: Turned ON Numpy support for fast Java array access\n",
      "      FeatureNotice)\n",
      "    building '_jpype' extension\n",
      "    error: Microsoft Visual C++ 14.0 is required. Get it with \"Microsoft Visual C++ Build Tools\": https://visualstudio.microsoft.com/downloads/\n",
      "    \n",
      "    ----------------------------------------\n"
     ]
    },
    {
     "name": "stderr",
     "output_type": "stream",
     "text": [
      "  Failed building wheel for JPype1\n",
      "Command \"C:\\Users\\USER\\Anaconda3\\python.exe -u -c \"import setuptools, tokenize;__file__='C:\\\\Users\\\\USER\\\\AppData\\\\Local\\\\Temp\\\\pip-install-xox9wj31\\\\JPype1\\\\setup.py';f=getattr(tokenize, 'open', open)(__file__);code=f.read().replace('\\r\\n', '\\n');f.close();exec(compile(code, __file__, 'exec'))\" install --record C:\\Users\\USER\\AppData\\Local\\Temp\\pip-record-_wnvj6j4\\install-record.txt --single-version-externally-managed --compile\" failed with error code 1 in C:\\Users\\USER\\AppData\\Local\\Temp\\pip-install-xox9wj31\\JPype1\\\n"
     ]
    }
   ],
   "source": [
    "!pip install konlpy"
   ]
  },
  {
   "cell_type": "code",
   "execution_count": 3,
   "metadata": {},
   "outputs": [
    {
     "name": "stdout",
     "output_type": "stream",
     "text": [
      "Processing c:\\users\\user\\desktop\\jpype1-0.6.3-cp37-cp37m-win_amd64.whl\n",
      "Installing collected packages: JPype1\n",
      "Successfully installed JPype1-0.6.3\n"
     ]
    }
   ],
   "source": [
    "!pip install JPype1-0.6.3-cp37-cp37m-win_amd64.whl"
   ]
  },
  {
   "cell_type": "code",
   "execution_count": 5,
   "metadata": {},
   "outputs": [
    {
     "name": "stdout",
     "output_type": "stream",
     "text": [
      "Collecting konlpy\n",
      "  Using cached https://files.pythonhosted.org/packages/e5/3d/4e983cd98d87b50b2ab0387d73fa946f745aa8164e8888a714d5129f9765/konlpy-0.5.1-py2.py3-none-any.whl\n",
      "Requirement already satisfied: JPype1>=0.5.7 in c:\\users\\user\\anaconda3\\lib\\site-packages (from konlpy) (0.6.3)\n",
      "Installing collected packages: konlpy\n",
      "Successfully installed konlpy-0.5.1\n"
     ]
    }
   ],
   "source": [
    "!pip install konlpy"
   ]
  },
  {
   "cell_type": "code",
   "execution_count": 8,
   "metadata": {},
   "outputs": [
    {
     "name": "stdout",
     "output_type": "stream",
     "text": [
      "Requirement already satisfied: nltk in c:\\users\\user\\anaconda3\\lib\\site-packages (3.4)\n",
      "Requirement already satisfied: six in c:\\users\\user\\anaconda3\\lib\\site-packages (from nltk) (1.12.0)\n",
      "Requirement already satisfied: singledispatch in c:\\users\\user\\anaconda3\\lib\\site-packages (from nltk) (3.4.0.3)\n"
     ]
    }
   ],
   "source": [
    "!pip install nltk"
   ]
  },
  {
   "cell_type": "code",
   "execution_count": null,
   "metadata": {},
   "outputs": [],
   "source": [
    "import os\n",
    "os.eviron"
   ]
  },
  {
   "cell_type": "code",
   "execution_count": 24,
   "metadata": {},
   "outputs": [
    {
     "name": "stderr",
     "output_type": "stream",
     "text": [
      "[nltk_data] Downloading package brown to\n",
      "[nltk_data]     C:\\Users\\USER\\AppData\\Roaming\\nltk_data...\n",
      "[nltk_data]   Unzipping corpora\\brown.zip.\n"
     ]
    },
    {
     "data": {
      "text/plain": [
       "True"
      ]
     },
     "execution_count": 24,
     "metadata": {},
     "output_type": "execute_result"
    }
   ],
   "source": [
    "import nltk\n",
    "nltk.download('brown')"
   ]
  },
  {
   "cell_type": "markdown",
   "metadata": {},
   "source": [
    "#  Konlpy"
   ]
  },
  {
   "cell_type": "code",
   "execution_count": 7,
   "metadata": {},
   "outputs": [
    {
     "data": {
      "text/plain": [
       "[('아버지', 'NNG'),\n",
       " ('가', 'JKS'),\n",
       " ('방', 'NNG'),\n",
       " ('에', 'JKM'),\n",
       " ('들어가', 'VV'),\n",
       " ('시', 'EPH'),\n",
       " ('ㄴ다', 'EFN'),\n",
       " ('.', 'SF')]"
      ]
     },
     "execution_count": 7,
     "metadata": {},
     "output_type": "execute_result"
    }
   ],
   "source": [
    "from konlpy.tag import Kkma\n",
    "\n",
    "Kkma().pos(\"아버지가 방에 들어가신다.\")"
   ]
  },
  {
   "cell_type": "markdown",
   "metadata": {},
   "source": [
    "### corpus"
   ]
  },
  {
   "cell_type": "code",
   "execution_count": 14,
   "metadata": {},
   "outputs": [
    {
     "name": "stdout",
     "output_type": "stream",
     "text": [
      "1\n",
      "10\n"
     ]
    }
   ],
   "source": [
    "from konlpy.corpus import kolaw, kobill #헌법\n",
    "\n",
    "print(len(kolaw.fileids()))\n",
    "\n",
    "print(len(kobill.fileids()))"
   ]
  },
  {
   "cell_type": "code",
   "execution_count": 16,
   "metadata": {},
   "outputs": [],
   "source": [
    "corpus = kolaw.open(kolaw.fileids()[0]).read()"
   ]
  },
  {
   "cell_type": "code",
   "execution_count": 18,
   "metadata": {},
   "outputs": [
    {
     "data": {
      "text/plain": [
       "4178"
      ]
     },
     "execution_count": 18,
     "metadata": {},
     "output_type": "execute_result"
    }
   ],
   "source": [
    "len(corpus.split())"
   ]
  },
  {
   "cell_type": "code",
   "execution_count": 19,
   "metadata": {},
   "outputs": [
    {
     "data": {
      "text/plain": [
       "356"
      ]
     },
     "execution_count": 19,
     "metadata": {},
     "output_type": "execute_result"
    }
   ],
   "source": [
    "len(corpus.splitlines()) #문장 x \\n 인 newline 기준"
   ]
  },
  {
   "cell_type": "markdown",
   "metadata": {},
   "source": [
    "#### 문단 -> 문장(split) => tokenize => 어절(word) tokenize \n",
    "#### -+=!!@'#'$.;. => 구두점 => functuation \n",
    "#### NLTK"
   ]
  },
  {
   "cell_type": "code",
   "execution_count": 26,
   "metadata": {},
   "outputs": [],
   "source": [
    "from nltk.corpus import brown #nlp의 기본서 느낌\n",
    "\n",
    "brown.fileids() # => 품사가 부착되어 있는 말뭉치 (tagged corpus)\n",
    "corpus = brown.open(brown.fileids()[0]).read()"
   ]
  },
  {
   "cell_type": "code",
   "execution_count": 27,
   "metadata": {},
   "outputs": [
    {
     "data": {
      "text/plain": [
       "(2242, 238)"
      ]
     },
     "execution_count": 27,
     "metadata": {},
     "output_type": "execute_result"
    }
   ],
   "source": [
    "len(corpus.split()), len(corpus.splitlines())"
   ]
  },
  {
   "cell_type": "code",
   "execution_count": 31,
   "metadata": {},
   "outputs": [
    {
     "name": "stderr",
     "output_type": "stream",
     "text": [
      "[nltk_data] Downloading package stopwords to\n",
      "[nltk_data]     C:\\Users\\USER\\AppData\\Roaming\\nltk_data...\n",
      "[nltk_data]   Unzipping corpora\\stopwords.zip.\n"
     ]
    },
    {
     "data": {
      "text/plain": [
       "True"
      ]
     },
     "execution_count": 31,
     "metadata": {},
     "output_type": "execute_result"
    }
   ],
   "source": [
    "import nltk\n",
    "nltk.download(\"brown\")\n",
    "nltk.download(\"gutenberg\")\n",
    "nltk.download(\"punkt\")\n",
    "nltk.download(\"stopwords\")"
   ]
  },
  {
   "cell_type": "code",
   "execution_count": 41,
   "metadata": {},
   "outputs": [
    {
     "name": "stdout",
     "output_type": "stream",
     "text": [
      "31\n",
      "\n",
      "\n",
      "\tThe/at Fulton/np-tl County/nn-tl Grand/jj-tl Jury/nn-tl said/vbd Friday/nr an/at investigation/nn of/in Atlanta's/np$ recent/jj primary/nn election/nn produced/vbd ``/`` no/at evidence/nn ''/'' that/cs any/dti irregularities/nns took/vbd place/nn ./.\n",
      "['The/at', 'Fulton/np-tl', 'County/nn-tl', 'Grand/jj-tl', 'Jury/nn-tl', 'said/vbd', 'Friday/nr', 'an/at', 'investigation/nn', 'of/in', \"Atlanta's/np\", '$', 'recent/jj', 'primary/nn', 'election/nn', 'produced/vbd', '``', '/', '``', 'no/at', 'evidence/nn', '``', '/', \"''\", 'that/cs', 'any/dti', 'irregularities/nns', 'took/vbd', 'place/nn', './', '.']\n"
     ]
    }
   ],
   "source": [
    "from nltk.tokenize import sent_tokenize, word_tokenize, TweetTokenizer #트위터 = 감정 표현에 강세\n",
    "\n",
    "sentences = sent_tokenize(corpus)\n",
    "#sentences[0], sentences[0].splitlines()\n",
    "tokens = terms = word_tokenize(sentences[0])\n",
    "print(len(tokens)), #sentences[0].split()\n",
    "len(sentences[0].split())\n",
    "print(sentences[0])\n",
    "print(tokens)"
   ]
  },
  {
   "cell_type": "code",
   "execution_count": 51,
   "metadata": {},
   "outputs": [],
   "source": [
    "corpus = \"\"\"\n",
    "대북 식량 인도지원 문제를 두고 남북 모두 난처하고 애매한 상황에 처한 모습이다.\n",
    "우리 정부는 북한의 연이은 무력시위에도 \"식량을 지원하겠다\"는 입장이다. '정치'와 '인도주의'를 분리하겠다는 것이다. \n",
    "남북관계와 북미 대화의 물꼬로 삼겠다는 속내도 숨기지 않는다. 그런데 국내 여론과 북한의 반응이 심상찮다. \n",
    "북한은 \"생색내지 말라\"며 '근본적인 문제'가 먼저라고 불만을 표했다. 짐짓 거부할 수도 있다는 시늉이지만 초조함이 더 크게 읽힌다. \n",
    "미국의 대북제재 양보를 유인하기 위해 꺼내 든 군사적 압박 전술이 먹히지 않고 있어서다.\n",
    "\"\"\""
   ]
  },
  {
   "cell_type": "code",
   "execution_count": 52,
   "metadata": {},
   "outputs": [
    {
     "data": {
      "text/plain": [
       "(88, 68)"
      ]
     },
     "execution_count": 52,
     "metadata": {},
     "output_type": "execute_result"
    }
   ],
   "source": [
    "sentences = sent_tokenize(corpus)\n",
    "len(sentences), len(corpus.splitlines())\n",
    "\n",
    "len(word_tokenize(corpus)), len(corpus.split())"
   ]
  },
  {
   "cell_type": "code",
   "execution_count": 61,
   "metadata": {},
   "outputs": [
    {
     "data": {
      "text/plain": [
       "['오늘은', '.', \"'\", '화', \"'\", '요일입니다.', '!', ':', ')']"
      ]
     },
     "execution_count": 61,
     "metadata": {},
     "output_type": "execute_result"
    }
   ],
   "source": [
    "sent_tokenize(\"오늘은. 화요일입니다.! :)\")\n",
    "# . 다음 띄어쓰기는 문장 분리\n",
    "#마지막은 . 후는 분리\n",
    "word_tokenize(\"오늘은. '화' 요일입니다.! :)\")\n",
    "#Bag of Words / One-Hot Encoding => sparse representation => vector"
   ]
  },
  {
   "cell_type": "code",
   "execution_count": 59,
   "metadata": {},
   "outputs": [
    {
     "data": {
      "text/plain": [
       "['오늘은', '.', \"'\", '화', \"'\", '요일입니다', '.', '!', ':)']"
      ]
     },
     "execution_count": 59,
     "metadata": {},
     "output_type": "execute_result"
    }
   ],
   "source": [
    "TweetTokenizer().tokenize(\"오늘은. '화' 요일입니다.! :)\")\n",
    "# 마지막에 :) 분리가 다름  / 서양권 이모지 한국식 이모지는 분리 힘듦"
   ]
  },
  {
   "cell_type": "code",
   "execution_count": 63,
   "metadata": {},
   "outputs": [
    {
     "data": {
      "text/plain": [
       "['^^', 'ㅠㅠ']"
      ]
     },
     "execution_count": 63,
     "metadata": {},
     "output_type": "execute_result"
    }
   ],
   "source": [
    "from nltk.tokenize import regexp_tokenize\n",
    "\n",
    "regexp_tokenize(\"오늘은. '화' ^^요일입니다.! :) :( ;( ㅠㅠ\", r\"\\^\\^|ㅠㅠ\")\n",
    "#정규식인 부분만 추출"
   ]
  }
 ],
 "metadata": {
  "kernelspec": {
   "display_name": "Python 3",
   "language": "python",
   "name": "python3"
  },
  "language_info": {
   "codemirror_mode": {
    "name": "ipython",
    "version": 3
   },
   "file_extension": ".py",
   "mimetype": "text/x-python",
   "name": "python",
   "nbconvert_exporter": "python",
   "pygments_lexer": "ipython3",
   "version": "3.6.8"
  }
 },
 "nbformat": 4,
 "nbformat_minor": 2
}
