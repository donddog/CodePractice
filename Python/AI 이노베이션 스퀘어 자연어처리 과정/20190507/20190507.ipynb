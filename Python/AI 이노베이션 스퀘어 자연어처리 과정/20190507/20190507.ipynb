{
 "cells": [
  {
   "cell_type": "code",
   "execution_count": 20,
   "metadata": {},
   "outputs": [
    {
     "name": "stdout",
     "output_type": "stream",
     "text": [
      "Requirement already satisfied: beautifulsoup4 in c:\\programdata\\anaconda3\\lib\\site-packages (4.7.1)\n",
      "Requirement already satisfied: soupsieve>=1.2 in c:\\programdata\\anaconda3\\lib\\site-packages (from beautifulsoup4) (1.8)\n"
     ]
    }
   ],
   "source": [
    "!pip install beautifulsoup4"
   ]
  },
  {
   "cell_type": "code",
   "execution_count": 21,
   "metadata": {},
   "outputs": [
    {
     "name": "stdout",
     "output_type": "stream",
     "text": [
      "Requirement already satisfied: requests in c:\\programdata\\anaconda3\\lib\\site-packages (2.21.0)\n",
      "Requirement already satisfied: certifi>=2017.4.17 in c:\\programdata\\anaconda3\\lib\\site-packages (from requests) (2019.3.9)\n",
      "Requirement already satisfied: urllib3<1.25,>=1.21.1 in c:\\programdata\\anaconda3\\lib\\site-packages (from requests) (1.24.1)\n",
      "Requirement already satisfied: chardet<3.1.0,>=3.0.2 in c:\\programdata\\anaconda3\\lib\\site-packages (from requests) (3.0.4)\n",
      "Requirement already satisfied: idna<2.9,>=2.5 in c:\\programdata\\anaconda3\\lib\\site-packages (from requests) (2.8)\n"
     ]
    }
   ],
   "source": [
    "!pip install requests"
   ]
  },
  {
   "cell_type": "code",
   "execution_count": 1,
   "metadata": {},
   "outputs": [],
   "source": [
    "# id => #\n",
    "# class => .\n",
    "\n",
    "# <div id=\"row\"> => div #row\n",
    "# <div class=\"row\"> => div.row\n",
    "# <div id=\"1\">\n",
    "#     <div id=\"2\">      => div > div, div div\n",
    "#         <div id=\"3\">\n",
    "#         <span>\n",
    "#         div > div, id=2 id= 3\n",
    "#         div#1 > div, id=2\n",
    "        \n",
    "#         div + span"
   ]
  },
  {
   "cell_type": "code",
   "execution_count": 6,
   "metadata": {},
   "outputs": [],
   "source": [
    "html = \"\"\"\n",
    "<html>\n",
    "<head></head>\n",
    "<body>\n",
    "<div id=\"result\">\n",
    "<p class=\"row\">\n",
    "<a class=\"red\">go to page1</a>\n",
    "<a class=\"blue\">go to page2</a>\n",
    "</p>\n",
    "</div>\n",
    "</body>\n",
    "</html>\n",
    "\"\"\""
   ]
  },
  {
   "cell_type": "code",
   "execution_count": 8,
   "metadata": {},
   "outputs": [],
   "source": [
    "from bs4 import BeautifulSoup\n",
    "\n",
    "dom = BeautifulSoup(html, \"lxml\")"
   ]
  },
  {
   "cell_type": "code",
   "execution_count": 13,
   "metadata": {},
   "outputs": [
    {
     "name": "stdout",
     "output_type": "stream",
     "text": [
      "<class 'list'>\n",
      "[<a class=\"red\">go to page1</a>]\n",
      "[<a class=\"blue\">go to page2</a>]\n"
     ]
    }
   ],
   "source": [
    "print(type(dom.select(\"a\")))\n",
    "print(dom.select(\"a.red\"))\n",
    "print(dom.select(\"a + a\"))"
   ]
  },
  {
   "cell_type": "code",
   "execution_count": 22,
   "metadata": {},
   "outputs": [],
   "source": [
    "import requests\n",
    "\n",
    "html = download(\"http://pythonscraping.com/pages/page3.html\")\n",
    "exercise = BeautifulSoup(html.text, \"lxml\")"
   ]
  },
  {
   "cell_type": "code",
   "execution_count": 34,
   "metadata": {},
   "outputs": [
    {
     "data": {
      "text/plain": [
       "[<img src=\"../img/gifts/img1.jpg\"/>,\n",
       " <img src=\"../img/gifts/img2.jpg\"/>,\n",
       " <img src=\"../img/gifts/img3.jpg\"/>,\n",
       " <img src=\"../img/gifts/img4.jpg\"/>,\n",
       " <img src=\"../img/gifts/img6.jpg\"/>]"
      ]
     },
     "execution_count": 34,
     "metadata": {},
     "output_type": "execute_result"
    }
   ],
   "source": [
    "exercise.select(\"td > img\")"
   ]
  },
  {
   "cell_type": "code",
   "execution_count": 23,
   "metadata": {},
   "outputs": [],
   "source": [
    "def download(url, params={}, retries=3):\n",
    "    resp = None\n",
    "    \n",
    "    header = {\"user-agent\": \"Mozilla/5.0 (Windows NT 10.0; Win64; x64) AppleWebKit/537.36 (KHTML, like Gecko) Chrome/74.0.3729.108 Safari/537.36\"}\n",
    "    \n",
    "    try:\n",
    "        resp = requests.get(url, params=params, headers = header)\n",
    "        resp.raise_for_status()\n",
    "    except requests.exceptions.HTTPError as e:\n",
    "        if 500 <= e.response.status_code < 600 and retries > 0:\n",
    "            print(retries)\n",
    "            resp = download(url, params, retries - 1)\n",
    "        else:\n",
    "            print(e.response.status_code, \"\\n\")\n",
    "            print(e.response.reason, \"\\n\")\n",
    "            print(e.request.headers, \"\\n\")\n",
    "\n",
    "    return resp"
   ]
  },
  {
   "cell_type": "code",
   "execution_count": 25,
   "metadata": {},
   "outputs": [],
   "source": [
    "html = download(\"https://www.google.com/search\", {\"q\":\"박보영\"})"
   ]
  },
  {
   "cell_type": "code",
   "execution_count": 28,
   "metadata": {},
   "outputs": [],
   "source": [
    "google = BeautifulSoup(html.text, \"lxml\")"
   ]
  },
  {
   "cell_type": "code",
   "execution_count": 30,
   "metadata": {},
   "outputs": [
    {
     "data": {
      "text/plain": [
       "8"
      ]
     },
     "execution_count": 30,
     "metadata": {},
     "output_type": "execute_result"
    }
   ],
   "source": [
    "len(google.select(\".r > a\"))"
   ]
  },
  {
   "cell_type": "code",
   "execution_count": 31,
   "metadata": {},
   "outputs": [
    {
     "data": {
      "text/plain": [
       "['https://ko.wikipedia.org/wiki/%EB%B0%95%EB%B3%B4%EC%98%81',\n",
       " 'https://ko.wikipedia.org/wiki/%EB%B0%95%EB%B3%B4%EC%98%81%EC%9D%98_%EC%9E%91%ED%92%88_%EB%AA%A9%EB%A1%9D',\n",
       " 'https://namu.wiki/w/%EB%B0%95%EB%B3%B4%EC%98%81',\n",
       " 'https://www.msn.com/ko-kr/entertainment/news/%EB%B0%95%EB%B3%B4%EC%98%81-tvn-%EB%93%9C%EB%9D%BC%EB%A7%88-%EC%96%B4%EB%B9%84%EC%8A%A4-%EC%97%AC%EC%A3%BC%EC%9D%B8%EA%B3%B5/ar-BBLZzVh',\n",
       " 'https://twitter.com/hashtag/%EB%B0%95%EB%B3%B4%EC%98%81',\n",
       " 'https://www.hankyung.com/entertainment/article/201905030904H',\n",
       " 'https://news.joins.com/article/22895953',\n",
       " 'https://www.mk.co.kr/star/hot-issues/view/2019/05/293931/']"
      ]
     },
     "execution_count": 31,
     "metadata": {},
     "output_type": "execute_result"
    }
   ],
   "source": [
    "[_[\"href\"] for _ in google.select(\".r > a\")]"
   ]
  },
  {
   "cell_type": "code",
   "execution_count": 40,
   "metadata": {},
   "outputs": [],
   "source": [
    "html = download(\"https://search.daum.net/search\", {\"q\":\"박보영\"})\n",
    "daum = BeautifulSoup(html.text, \"lxml\")"
   ]
  },
  {
   "cell_type": "code",
   "execution_count": 42,
   "metadata": {},
   "outputs": [
    {
     "data": {
      "text/plain": [
       "['http://v.media.daum.net/v/20190507140359069?f=o',\n",
       " 'http://v.media.daum.net/v/20190507175153358?f=o',\n",
       " 'http://v.media.daum.net/v/20190507185002021?f=o',\n",
       " 'http://v.media.daum.net/v/20190507175700537?f=o',\n",
       " 'http://papa0717.tistory.com/223',\n",
       " 'http://dudrms606.tistory.com/367',\n",
       " 'http://adam24eve.tistory.com/858',\n",
       " 'http://k3k2y.tistory.com/35',\n",
       " 'https://ko.wikipedia.org/wiki/%EB%B0%95%EB%B3%B4%EC%98%81',\n",
       " 'https://ko.wikipedia.org/wiki/%EB%B0%95%EB%B3%B4%EC%98%81%20%28%EB%B2%95%EC%A1%B0%EC%9D%B8%29',\n",
       " 'http://cafe.daum.net/subdued20club/ReHf/2280152?q=%EB%B0%95%EB%B3%B4%EC%98%81',\n",
       " 'http://cafe.daum.net/subdued20club/ReHf/2282606?q=%EB%B0%95%EB%B3%B4%EC%98%81',\n",
       " 'http://cafe.daum.net/ASMONACOFC/gAVU/1243818?q=%EB%B0%95%EB%B3%B4%EC%98%81',\n",
       " 'http://cafe.daum.net/ok1221/9Zdf/1524913?q=%EB%B0%95%EB%B3%B4%EC%98%81',\n",
       " 'http://tip.daum.net/answer/54503481?q=%EB%B0%95%EB%B3%B4%EC%98%81',\n",
       " 'http://tip.daum.net/answer/54767339?q=%EB%B0%95%EB%B3%B4%EC%98%81',\n",
       " 'http://tip.daum.net/answer/55072609?q=%EB%B0%95%EB%B3%B4%EC%98%81',\n",
       " 'http://tip.daum.net/answer/54866982?q=%EB%B0%95%EB%B3%B4%EC%98%81',\n",
       " 'http://gall.dcinside.com/board/lists/?id=parkboyoung',\n",
       " 'http://cafe.daum.net/parkboyoungfd',\n",
       " 'http://channels.vlive.tv/FCE49/video',\n",
       " 'http://www.bjc.or.kr/',\n",
       " 'javascript:;',\n",
       " 'javascript:;',\n",
       " 'javascript:;',\n",
       " 'javascript:;',\n",
       " 'javascript:;']"
      ]
     },
     "execution_count": 42,
     "metadata": {},
     "output_type": "execute_result"
    }
   ],
   "source": [
    "[_[\"href\"] for _ in daum.select(\"div.wrap_tit > a\")]"
   ]
  },
  {
   "cell_type": "code",
   "execution_count": 44,
   "metadata": {},
   "outputs": [],
   "source": [
    "html = download(\"https://search.naver.com/search.naver\", {\"query\":\"박보영\"})\n",
    "naver = BeautifulSoup(html.text, \"lxml\")"
   ]
  },
  {
   "cell_type": "code",
   "execution_count": 51,
   "metadata": {},
   "outputs": [
    {
     "name": "stdout",
     "output_type": "stream",
     "text": [
      "[('https://help.naver.com/support/alias/search/word/word_1.naver', '도움말'), ('https://music.naver.com/album/index.nhn?albumId=2500698', '영화 너의결혼식 ...'), ('https://music.naver.com/album/index.nhn?albumId=565464', '오 나의 귀신님 ...'), ('?where=nexearch&sm=tab_etc&query=%EC%96%B4%EB%B9%84%EC%8A%A4%EA%B3%A0%EC%84%B8%EC%97%B0', '고세연'), ('?where=nexearch&sm=tab_etc&query=%ED%9E%98%EC%8E%88%EC%97%AC%EC%9E%90%EB%8F%84%EB%B4%89%EC%88%9C%EB%8F%84%EB%B4%89%EC%88%9C', '도봉순'), ('https://m.post.naver.com/viewer/postView.nhn?volumeNo=19568466&memberNo=36645352&vType=VERTICAL', '배우 박보영, 반할 수밖에 없는 청순 러블리'), ('https://m.post.naver.com/viewer/postView.nhn?volumeNo=19813069&memberNo=25041664&vType=VERTICAL', '‘어비스’ 박보영x안효섭, 케미에 벌써 선덕...복합장르 신기원...'), ('https://m.post.naver.com/viewer/postView.nhn?volumeNo=17970239&memberNo=23519771&vType=VERTICAL', '박보영에게‘무장해제’ 당한 상대 배우들'), ('http://sports.chosun.com/news/ntype.htm?id=201905080100041210002631&servicedate=20190507', \"'어비스' 박보영·안효섭, 현실친구→부활 비주얼 재회 '스펙터클 전개'\"), ('http://www.osen.co.kr/article/G1111136950', \"'어비스' 박보영X안효섭, 추적자 강렬 변신..죽음 본격 추적[Oh!쎈 컷]\"), ('http://www.dt.co.kr/contents.html?article_no=2019050702109919040003&ref=naver', '박보영, 안효섭과 한 지붕 아래 동거 시작[어비스 2화]'), ('http://sports.donga.com/3/all/20190507/95412193/1', '[DAY컷] ‘어비스’ 박보영, 안효섭 목욕 염탐? 티격태격 동거 시작'), ('https://cafe.naver.com/heidicafe/1241714', '어비스 박보영 패션 트렌치코트 예쁘네요~'), ('https://cafe.naver.com/imsanbu/44492596', '박보영 이런 모습도 있네요?'), ('https://cafe.naver.com/dieselmania/26934064', '드라마 어비스 제작발표회 박보영'), ('https://cafe.naver.com/momakakao/11285454', '박보영은 언제쯤 결혼을 할까요?'), ('https://cafe.naver.com/linearbeit/43556', '2019.04.29 박보영 쏘피 바디피트 팬사인회 현장'), ('https://namu.wiki/w/%EB%B0%95%EB%B3%B4%EC%98%81', '박보영 - 나무위키'), ('http://gall.dcinside.com/board/lists/?id=parkboyoung', '박보영 갤러리 - 디시인사이드'), ('https://movie.daum.net/person/main?personId=105244', '박보영'), ('https://kin.naver.com/qna/detail.nhn?d1id=3&dirId=3021401&docId=326457379&qb=67CV67O07JiB&enc=utf8&section=kin&rank=1&search_sort=0&spq=1', '박보영vs한지민'), ('https://kin.naver.com/qna/detail.nhn?d1id=3&dirId=306&docId=325917258&qb=67CV67O07JiB&enc=utf8&section=kin&rank=2&search_sort=0&spq=1', '제가 박보영 옛날 턱이락 똑같은데 어'), ('https://kin.naver.com/qna/detail.nhn?d1id=3&dirId=31402&docId=322399276&qb=67CV67O07JiB&enc=utf8&section=kin&rank=3&search_sort=0&spq=1', '박보영 이 사진 고화질 부탁 내공 5'), ('https://kin.naver.com/qna/detail.nhn?d1id=3&dirId=30104&docId=319183446&qb=67CV67O07JiB&enc=utf8&section=kin&rank=4&search_sort=0&spq=1', '유라 vs 박보영'), ('https://blog.naver.com/shkwon1128?Redirect=Log&logNo=221530738046', '통해 부활한 박보영과 안효섭의 러블리스릴러 이야기'), ('https://blog.naver.com/js2y86?Redirect=Log&logNo=221454815826', '박보영 : 오 나의 귀신님 나봉선'), ('https://blog.naver.com/dlqlwm14?Redirect=Log&logNo=221529807195', '박보영 나이 단발 사진 키 알아보기'), ('https://blog.naver.com/lyj0088?Redirect=Log&logNo=221530708253', '어비스 드라마 인물관계도 등장인물 몇부작 줄거리 박보영 안효섭'), ('https://komartin.blog.me/221530734469', '어비스 드라마 인물관계도 & 줄거리 (박보영, 안효섭, 이성재...')]\n",
      "29\n"
     ]
    }
   ],
   "source": [
    "print([(_[\"href\"], _.text) for _ in naver.select(\"dt > a\")])\n",
    "print(len(naver.select(\"dt > a\")))"
   ]
  },
  {
   "cell_type": "code",
   "execution_count": 53,
   "metadata": {},
   "outputs": [],
   "source": [
    "html = download(\"https://www.naver.com/\")\n",
    "naver2 = BeautifulSoup(html.text, \"lxml\")"
   ]
  },
  {
   "cell_type": "code",
   "execution_count": 77,
   "metadata": {},
   "outputs": [
    {
     "data": {
      "text/plain": [
       "['하나경',\n",
       " '울산대교',\n",
       " '강은비',\n",
       " '한서희',\n",
       " '정용국',\n",
       " '맥반석닭갈비',\n",
       " '고양 창릉',\n",
       " '생방송 오늘저녁',\n",
       " '삼성바이오로직스',\n",
       " '3기 신도시',\n",
       " '이다해',\n",
       " '어비스',\n",
       " '부천 대장동',\n",
       " '강이준',\n",
       " '심재철',\n",
       " '양의지',\n",
       " '초면에 사랑합니다',\n",
       " '규현',\n",
       " '공민규',\n",
       " '한선교']"
      ]
     },
     "execution_count": 77,
     "metadata": {},
     "output_type": "execute_result"
    }
   ],
   "source": [
    "[ _.text for _ in naver2.select(\".ah_roll_area li.ah_item .ah_k\")]"
   ]
  },
  {
   "cell_type": "code",
   "execution_count": 78,
   "metadata": {},
   "outputs": [],
   "source": [
    "seed = \"http://example.webscraping.com/places/default/index/\"\n",
    "html = download(seed)\n",
    "dom = BeautifulSoup(html.content, \"lxml\")"
   ]
  },
  {
   "cell_type": "code",
   "execution_count": 79,
   "metadata": {},
   "outputs": [
    {
     "data": {
      "text/plain": [
       "16"
      ]
     },
     "execution_count": 79,
     "metadata": {},
     "output_type": "execute_result"
    }
   ],
   "source": [
    "len(dom.select(\"a\"))"
   ]
  },
  {
   "cell_type": "code",
   "execution_count": 83,
   "metadata": {},
   "outputs": [],
   "source": [
    "links = [_[\"href\"] for _ in dom.select(\"a\")]\n",
    "#  #은 inner link로 아무 동작 하지 않게 하는 것"
   ]
  },
  {
   "cell_type": "code",
   "execution_count": 85,
   "metadata": {},
   "outputs": [
    {
     "data": {
      "text/plain": [
       "16"
      ]
     },
     "execution_count": 85,
     "metadata": {},
     "output_type": "execute_result"
    }
   ],
   "source": [
    "len(links)"
   ]
  },
  {
   "cell_type": "code",
   "execution_count": 86,
   "metadata": {},
   "outputs": [],
   "source": [
    "#, / <- 얘만 가져올 것, http, https"
   ]
  },
  {
   "cell_type": "code",
   "execution_count": 90,
   "metadata": {},
   "outputs": [
    {
     "name": "stdout",
     "output_type": "stream",
     "text": [
      "/places/default/user/register?_next=/places/default/index\n",
      "/places/default/user/login?_next=/places/default/index\n",
      "/places/default/index\n",
      "/places/default/search\n",
      "/places/default/view/Afghanistan-1\n",
      "/places/default/view/Aland-Islands-2\n",
      "/places/default/view/Albania-3\n",
      "/places/default/view/Algeria-4\n",
      "/places/default/view/American-Samoa-5\n",
      "/places/default/view/Andorra-6\n",
      "/places/default/view/Angola-7\n",
      "/places/default/view/Anguilla-8\n",
      "/places/default/view/Antarctica-9\n",
      "/places/default/view/Antigua-and-Barbuda-10\n",
      "/places/default/index/1\n"
     ]
    }
   ],
   "source": [
    "unseen = list()\n",
    "\n",
    "for link in links:\n",
    "    if link[0] == \"/\":\n",
    "        print(link)\n",
    "        newLink = requests.compat.urljoin(seed, link)\n",
    "        if newLink not in unseen:\n",
    "            unseen.append(newLink)\n",
    "        \n",
    "#        download(newLink)\n",
    "#         dom = BeautifulSoup(html.content, \"lxml\")\n",
    "#         print([_[\"href\"] for _ in dom.select(\"a\")])\n",
    "#         break"
   ]
  },
  {
   "cell_type": "code",
   "execution_count": 96,
   "metadata": {},
   "outputs": [
    {
     "data": {
      "text/plain": [
       "(52, 15, 23, 53)"
      ]
     },
     "execution_count": 96,
     "metadata": {},
     "output_type": "execute_result"
    }
   ],
   "source": [
    "len(seed), len(unseen) , len(link), len(newLink)"
   ]
  },
  {
   "cell_type": "code",
   "execution_count": 121,
   "metadata": {},
   "outputs": [],
   "source": [
    "threshold = 3\n",
    "\n",
    "def urlExtractor(seed, limit):\n",
    "    if limit > threshold:\n",
    "        return []\n",
    "    \n",
    "    html = download(seed)\n",
    "    dom = BeautifulSoup(html.text, \"lxml\")\n",
    "    \n",
    "    links = [_[\"href\"] for _ in dom.select(\"a\") if _.has_attr(\"href\")]  #핵심\n",
    "    \n",
    "    unseen = list()\n",
    "    \n",
    "    for link in links:\n",
    "        if len(link) > 1 and link[0] == \"/\":\n",
    "            #print(link)\n",
    "            newLink = requests.compat.urljoin(seed, link)\n",
    "            if newLink not in unseen:\n",
    "                unseen.append((newLink, limit+1))\n",
    "#             else:\n",
    "#                 print(\"Skipped2\", link)\n",
    "        elif link.startswith(\"http\"):\n",
    "            unseen.append((link, limit+1))\n",
    "#         else:\n",
    "#             print(\"Skipped1\", link)\n",
    "    \n",
    "#     print(\"{0} [{1}]\".format(seed, len(unseen)))\n",
    "                \n",
    "    return unseen"
   ]
  },
  {
   "cell_type": "code",
   "execution_count": 102,
   "metadata": {
    "scrolled": true
   },
   "outputs": [
    {
     "name": "stdout",
     "output_type": "stream",
     "text": [
      "/places/default/user/register?_next=/places/default/index\n",
      "/places/default/user/login?_next=/places/default/index\n",
      "/places/default/index\n",
      "/places/default/search\n",
      "/places/default/view/Afghanistan-1\n",
      "/places/default/view/Aland-Islands-2\n",
      "/places/default/view/Albania-3\n",
      "/places/default/view/Algeria-4\n",
      "/places/default/view/American-Samoa-5\n",
      "/places/default/view/Andorra-6\n",
      "/places/default/view/Angola-7\n",
      "/places/default/view/Anguilla-8\n",
      "/places/default/view/Antarctica-9\n",
      "/places/default/view/Antigua-and-Barbuda-10\n",
      "/places/default/index/1\n",
      "/places/default/user/register\n",
      "/places/default/user/login\n",
      "/places/default/index\n",
      "/places/default/search\n",
      "/places/default/user/register\n",
      "/places/default/user/login\n",
      "/places/default/index\n",
      "/places/default/search\n",
      "429 \n",
      "\n",
      "TOO MANY REQUESTS \n",
      "\n",
      "{'user-agent': 'Mozilla/5.0 (Windows NT 10.0; Win64; x64) AppleWebKit/537.36 (KHTML, like Gecko) Chrome/74.0.3729.108 Safari/537.36', 'Accept-Encoding': 'gzip, deflate', 'Accept': '*/*', 'Connection': 'keep-alive'} \n",
      "\n",
      "429 \n",
      "\n",
      "TOO MANY REQUESTS \n",
      "\n",
      "{'user-agent': 'Mozilla/5.0 (Windows NT 10.0; Win64; x64) AppleWebKit/537.36 (KHTML, like Gecko) Chrome/74.0.3729.108 Safari/537.36', 'Accept-Encoding': 'gzip, deflate', 'Accept': '*/*', 'Connection': 'keep-alive'} \n",
      "\n",
      "429 \n",
      "\n",
      "TOO MANY REQUESTS \n",
      "\n",
      "{'user-agent': 'Mozilla/5.0 (Windows NT 10.0; Win64; x64) AppleWebKit/537.36 (KHTML, like Gecko) Chrome/74.0.3729.108 Safari/537.36', 'Accept-Encoding': 'gzip, deflate', 'Accept': '*/*', 'Connection': 'keep-alive'} \n",
      "\n",
      "429 \n",
      "\n",
      "TOO MANY REQUESTS \n",
      "\n",
      "{'user-agent': 'Mozilla/5.0 (Windows NT 10.0; Win64; x64) AppleWebKit/537.36 (KHTML, like Gecko) Chrome/74.0.3729.108 Safari/537.36', 'Accept-Encoding': 'gzip, deflate', 'Accept': '*/*', 'Connection': 'keep-alive'} \n",
      "\n",
      "429 \n",
      "\n",
      "TOO MANY REQUESTS \n",
      "\n",
      "{'user-agent': 'Mozilla/5.0 (Windows NT 10.0; Win64; x64) AppleWebKit/537.36 (KHTML, like Gecko) Chrome/74.0.3729.108 Safari/537.36', 'Accept-Encoding': 'gzip, deflate', 'Accept': '*/*', 'Connection': 'keep-alive'} \n",
      "\n",
      "429 \n",
      "\n",
      "TOO MANY REQUESTS \n",
      "\n",
      "{'user-agent': 'Mozilla/5.0 (Windows NT 10.0; Win64; x64) AppleWebKit/537.36 (KHTML, like Gecko) Chrome/74.0.3729.108 Safari/537.36', 'Accept-Encoding': 'gzip, deflate', 'Accept': '*/*', 'Connection': 'keep-alive'} \n",
      "\n",
      "429 \n",
      "\n",
      "TOO MANY REQUESTS \n",
      "\n",
      "{'user-agent': 'Mozilla/5.0 (Windows NT 10.0; Win64; x64) AppleWebKit/537.36 (KHTML, like Gecko) Chrome/74.0.3729.108 Safari/537.36', 'Accept-Encoding': 'gzip, deflate', 'Accept': '*/*', 'Connection': 'keep-alive'} \n",
      "\n",
      "429 \n",
      "\n",
      "TOO MANY REQUESTS \n",
      "\n",
      "{'user-agent': 'Mozilla/5.0 (Windows NT 10.0; Win64; x64) AppleWebKit/537.36 (KHTML, like Gecko) Chrome/74.0.3729.108 Safari/537.36', 'Accept-Encoding': 'gzip, deflate', 'Accept': '*/*', 'Connection': 'keep-alive'} \n",
      "\n",
      "429 \n",
      "\n",
      "TOO MANY REQUESTS \n",
      "\n",
      "{'user-agent': 'Mozilla/5.0 (Windows NT 10.0; Win64; x64) AppleWebKit/537.36 (KHTML, like Gecko) Chrome/74.0.3729.108 Safari/537.36', 'Accept-Encoding': 'gzip, deflate', 'Accept': '*/*', 'Connection': 'keep-alive'} \n",
      "\n",
      "429 \n",
      "\n",
      "TOO MANY REQUESTS \n",
      "\n",
      "{'user-agent': 'Mozilla/5.0 (Windows NT 10.0; Win64; x64) AppleWebKit/537.36 (KHTML, like Gecko) Chrome/74.0.3729.108 Safari/537.36', 'Accept-Encoding': 'gzip, deflate', 'Accept': '*/*', 'Connection': 'keep-alive'} \n",
      "\n",
      "429 \n",
      "\n",
      "TOO MANY REQUESTS \n",
      "\n",
      "{'user-agent': 'Mozilla/5.0 (Windows NT 10.0; Win64; x64) AppleWebKit/537.36 (KHTML, like Gecko) Chrome/74.0.3729.108 Safari/537.36', 'Accept-Encoding': 'gzip, deflate', 'Accept': '*/*', 'Connection': 'keep-alive'} \n",
      "\n",
      "429 \n",
      "\n",
      "TOO MANY REQUESTS \n",
      "\n",
      "{'user-agent': 'Mozilla/5.0 (Windows NT 10.0; Win64; x64) AppleWebKit/537.36 (KHTML, like Gecko) Chrome/74.0.3729.108 Safari/537.36', 'Accept-Encoding': 'gzip, deflate', 'Accept': '*/*', 'Connection': 'keep-alive'} \n",
      "\n",
      "429 \n",
      "\n",
      "TOO MANY REQUESTS \n",
      "\n",
      "{'user-agent': 'Mozilla/5.0 (Windows NT 10.0; Win64; x64) AppleWebKit/537.36 (KHTML, like Gecko) Chrome/74.0.3729.108 Safari/537.36', 'Accept-Encoding': 'gzip, deflate', 'Accept': '*/*', 'Connection': 'keep-alive'} \n",
      "\n",
      "429 \n",
      "\n",
      "TOO MANY REQUESTS \n",
      "\n",
      "{'user-agent': 'Mozilla/5.0 (Windows NT 10.0; Win64; x64) AppleWebKit/537.36 (KHTML, like Gecko) Chrome/74.0.3729.108 Safari/537.36', 'Accept-Encoding': 'gzip, deflate', 'Accept': '*/*', 'Connection': 'keep-alive'} \n",
      "\n",
      "429 \n",
      "\n",
      "TOO MANY REQUESTS \n",
      "\n",
      "{'user-agent': 'Mozilla/5.0 (Windows NT 10.0; Win64; x64) AppleWebKit/537.36 (KHTML, like Gecko) Chrome/74.0.3729.108 Safari/537.36', 'Accept-Encoding': 'gzip, deflate', 'Accept': '*/*', 'Connection': 'keep-alive'} \n",
      "\n",
      "429 \n",
      "\n",
      "TOO MANY REQUESTS \n",
      "\n",
      "{'user-agent': 'Mozilla/5.0 (Windows NT 10.0; Win64; x64) AppleWebKit/537.36 (KHTML, like Gecko) Chrome/74.0.3729.108 Safari/537.36', 'Accept-Encoding': 'gzip, deflate', 'Accept': '*/*', 'Connection': 'keep-alive'} \n",
      "\n",
      "429 \n",
      "\n",
      "TOO MANY REQUESTS \n",
      "\n",
      "{'user-agent': 'Mozilla/5.0 (Windows NT 10.0; Win64; x64) AppleWebKit/537.36 (KHTML, like Gecko) Chrome/74.0.3729.108 Safari/537.36', 'Accept-Encoding': 'gzip, deflate', 'Accept': '*/*', 'Connection': 'keep-alive'} \n",
      "\n",
      "429 \n",
      "\n",
      "TOO MANY REQUESTS \n",
      "\n",
      "{'user-agent': 'Mozilla/5.0 (Windows NT 10.0; Win64; x64) AppleWebKit/537.36 (KHTML, like Gecko) Chrome/74.0.3729.108 Safari/537.36', 'Accept-Encoding': 'gzip, deflate', 'Accept': '*/*', 'Connection': 'keep-alive'} \n",
      "\n",
      "429 \n",
      "\n",
      "TOO MANY REQUESTS \n",
      "\n",
      "{'user-agent': 'Mozilla/5.0 (Windows NT 10.0; Win64; x64) AppleWebKit/537.36 (KHTML, like Gecko) Chrome/74.0.3729.108 Safari/537.36', 'Accept-Encoding': 'gzip, deflate', 'Accept': '*/*', 'Connection': 'keep-alive'} \n",
      "\n",
      "429 \n",
      "\n",
      "TOO MANY REQUESTS \n",
      "\n",
      "{'user-agent': 'Mozilla/5.0 (Windows NT 10.0; Win64; x64) AppleWebKit/537.36 (KHTML, like Gecko) Chrome/74.0.3729.108 Safari/537.36', 'Accept-Encoding': 'gzip, deflate', 'Accept': '*/*', 'Connection': 'keep-alive'} \n",
      "\n",
      "429 \n",
      "\n",
      "TOO MANY REQUESTS \n",
      "\n",
      "{'user-agent': 'Mozilla/5.0 (Windows NT 10.0; Win64; x64) AppleWebKit/537.36 (KHTML, like Gecko) Chrome/74.0.3729.108 Safari/537.36', 'Accept-Encoding': 'gzip, deflate', 'Accept': '*/*', 'Connection': 'keep-alive'} \n",
      "\n",
      "429 \n",
      "\n",
      "TOO MANY REQUESTS \n",
      "\n",
      "{'user-agent': 'Mozilla/5.0 (Windows NT 10.0; Win64; x64) AppleWebKit/537.36 (KHTML, like Gecko) Chrome/74.0.3729.108 Safari/537.36', 'Accept-Encoding': 'gzip, deflate', 'Accept': '*/*', 'Connection': 'keep-alive'} \n",
      "\n",
      "429 \n",
      "\n",
      "TOO MANY REQUESTS \n",
      "\n",
      "{'user-agent': 'Mozilla/5.0 (Windows NT 10.0; Win64; x64) AppleWebKit/537.36 (KHTML, like Gecko) Chrome/74.0.3729.108 Safari/537.36', 'Accept-Encoding': 'gzip, deflate', 'Accept': '*/*', 'Connection': 'keep-alive'} \n",
      "\n",
      "429 \n",
      "\n",
      "TOO MANY REQUESTS \n",
      "\n",
      "{'user-agent': 'Mozilla/5.0 (Windows NT 10.0; Win64; x64) AppleWebKit/537.36 (KHTML, like Gecko) Chrome/74.0.3729.108 Safari/537.36', 'Accept-Encoding': 'gzip, deflate', 'Accept': '*/*', 'Connection': 'keep-alive'} \n",
      "\n",
      "429 \n",
      "\n",
      "TOO MANY REQUESTS \n",
      "\n",
      "{'user-agent': 'Mozilla/5.0 (Windows NT 10.0; Win64; x64) AppleWebKit/537.36 (KHTML, like Gecko) Chrome/74.0.3729.108 Safari/537.36', 'Accept-Encoding': 'gzip, deflate', 'Accept': '*/*', 'Connection': 'keep-alive'} \n",
      "\n",
      "429 \n",
      "\n",
      "TOO MANY REQUESTS \n",
      "\n",
      "{'user-agent': 'Mozilla/5.0 (Windows NT 10.0; Win64; x64) AppleWebKit/537.36 (KHTML, like Gecko) Chrome/74.0.3729.108 Safari/537.36', 'Accept-Encoding': 'gzip, deflate', 'Accept': '*/*', 'Connection': 'keep-alive'} \n",
      "\n",
      "429 \n",
      "\n",
      "TOO MANY REQUESTS \n",
      "\n",
      "{'user-agent': 'Mozilla/5.0 (Windows NT 10.0; Win64; x64) AppleWebKit/537.36 (KHTML, like Gecko) Chrome/74.0.3729.108 Safari/537.36', 'Accept-Encoding': 'gzip, deflate', 'Accept': '*/*', 'Connection': 'keep-alive'} \n",
      "\n",
      "429 \n",
      "\n",
      "TOO MANY REQUESTS \n",
      "\n",
      "{'user-agent': 'Mozilla/5.0 (Windows NT 10.0; Win64; x64) AppleWebKit/537.36 (KHTML, like Gecko) Chrome/74.0.3729.108 Safari/537.36', 'Accept-Encoding': 'gzip, deflate', 'Accept': '*/*', 'Connection': 'keep-alive'} \n",
      "\n",
      "429 \n",
      "\n",
      "TOO MANY REQUESTS \n",
      "\n",
      "{'user-agent': 'Mozilla/5.0 (Windows NT 10.0; Win64; x64) AppleWebKit/537.36 (KHTML, like Gecko) Chrome/74.0.3729.108 Safari/537.36', 'Accept-Encoding': 'gzip, deflate', 'Accept': '*/*', 'Connection': 'keep-alive'} \n",
      "\n",
      "429 \n",
      "\n",
      "TOO MANY REQUESTS \n",
      "\n",
      "{'user-agent': 'Mozilla/5.0 (Windows NT 10.0; Win64; x64) AppleWebKit/537.36 (KHTML, like Gecko) Chrome/74.0.3729.108 Safari/537.36', 'Accept-Encoding': 'gzip, deflate', 'Accept': '*/*', 'Connection': 'keep-alive'} \n",
      "\n",
      "429 \n",
      "\n",
      "TOO MANY REQUESTS \n",
      "\n",
      "{'user-agent': 'Mozilla/5.0 (Windows NT 10.0; Win64; x64) AppleWebKit/537.36 (KHTML, like Gecko) Chrome/74.0.3729.108 Safari/537.36', 'Accept-Encoding': 'gzip, deflate', 'Accept': '*/*', 'Connection': 'keep-alive'} \n",
      "\n"
     ]
    },
    {
     "name": "stdout",
     "output_type": "stream",
     "text": [
      "429 \n",
      "\n",
      "TOO MANY REQUESTS \n",
      "\n",
      "{'user-agent': 'Mozilla/5.0 (Windows NT 10.0; Win64; x64) AppleWebKit/537.36 (KHTML, like Gecko) Chrome/74.0.3729.108 Safari/537.36', 'Accept-Encoding': 'gzip, deflate', 'Accept': '*/*', 'Connection': 'keep-alive'} \n",
      "\n",
      "429 \n",
      "\n",
      "TOO MANY REQUESTS \n",
      "\n",
      "{'user-agent': 'Mozilla/5.0 (Windows NT 10.0; Win64; x64) AppleWebKit/537.36 (KHTML, like Gecko) Chrome/74.0.3729.108 Safari/537.36', 'Accept-Encoding': 'gzip, deflate', 'Accept': '*/*', 'Connection': 'keep-alive'} \n",
      "\n",
      "429 \n",
      "\n",
      "TOO MANY REQUESTS \n",
      "\n",
      "{'user-agent': 'Mozilla/5.0 (Windows NT 10.0; Win64; x64) AppleWebKit/537.36 (KHTML, like Gecko) Chrome/74.0.3729.108 Safari/537.36', 'Accept-Encoding': 'gzip, deflate', 'Accept': '*/*', 'Connection': 'keep-alive'} \n",
      "\n",
      "429 \n",
      "\n",
      "TOO MANY REQUESTS \n",
      "\n",
      "{'user-agent': 'Mozilla/5.0 (Windows NT 10.0; Win64; x64) AppleWebKit/537.36 (KHTML, like Gecko) Chrome/74.0.3729.108 Safari/537.36', 'Accept-Encoding': 'gzip, deflate', 'Accept': '*/*', 'Connection': 'keep-alive'} \n",
      "\n",
      "429 \n",
      "\n",
      "TOO MANY REQUESTS \n",
      "\n",
      "{'user-agent': 'Mozilla/5.0 (Windows NT 10.0; Win64; x64) AppleWebKit/537.36 (KHTML, like Gecko) Chrome/74.0.3729.108 Safari/537.36', 'Accept-Encoding': 'gzip, deflate', 'Accept': '*/*', 'Connection': 'keep-alive'} \n",
      "\n",
      "429 \n",
      "\n",
      "TOO MANY REQUESTS \n",
      "\n",
      "{'user-agent': 'Mozilla/5.0 (Windows NT 10.0; Win64; x64) AppleWebKit/537.36 (KHTML, like Gecko) Chrome/74.0.3729.108 Safari/537.36', 'Accept-Encoding': 'gzip, deflate', 'Accept': '*/*', 'Connection': 'keep-alive'} \n",
      "\n",
      "429 \n",
      "\n",
      "TOO MANY REQUESTS \n",
      "\n",
      "{'user-agent': 'Mozilla/5.0 (Windows NT 10.0; Win64; x64) AppleWebKit/537.36 (KHTML, like Gecko) Chrome/74.0.3729.108 Safari/537.36', 'Accept-Encoding': 'gzip, deflate', 'Accept': '*/*', 'Connection': 'keep-alive'} \n",
      "\n",
      "429 \n",
      "\n",
      "TOO MANY REQUESTS \n",
      "\n",
      "{'user-agent': 'Mozilla/5.0 (Windows NT 10.0; Win64; x64) AppleWebKit/537.36 (KHTML, like Gecko) Chrome/74.0.3729.108 Safari/537.36', 'Accept-Encoding': 'gzip, deflate', 'Accept': '*/*', 'Connection': 'keep-alive'} \n",
      "\n",
      "429 \n",
      "\n",
      "TOO MANY REQUESTS \n",
      "\n",
      "{'user-agent': 'Mozilla/5.0 (Windows NT 10.0; Win64; x64) AppleWebKit/537.36 (KHTML, like Gecko) Chrome/74.0.3729.108 Safari/537.36', 'Accept-Encoding': 'gzip, deflate', 'Accept': '*/*', 'Connection': 'keep-alive'} \n",
      "\n"
     ]
    }
   ],
   "source": [
    "import time\n",
    "import random\n",
    "\n",
    "seed = \"http://example.webscraping.com/places/default/index/\"\n",
    "\n",
    "queue = urlExtractor(seed) # => unseen totally\n",
    "seen = list()\n",
    "\n",
    "while queue:\n",
    "    seed = queue.pop(0)\n",
    "    seen.append(seed)\n",
    "    time.sleep(random.randint(1,3))\n",
    "    links = urlExtractor(seed) #links는 unseen 겹치면 안되고, seen에 있으면 안됨. 이거 체크\n",
    "    queue.extend([_ for _ in links if _ not in queue and _ not in seen])\n",
    "    queue.extend(urlExtractor(seed))"
   ]
  },
  {
   "cell_type": "code",
   "execution_count": 126,
   "metadata": {},
   "outputs": [],
   "source": [
    "html = download(\"https://www.google.com/search\", {\"q\":\"박보영\"})\n",
    "google2 = BeautifulSoup(html.content, \"lxml\")"
   ]
  },
  {
   "cell_type": "code",
   "execution_count": 106,
   "metadata": {},
   "outputs": [
    {
     "data": {
      "text/plain": [
       "8"
      ]
     },
     "execution_count": 106,
     "metadata": {},
     "output_type": "execute_result"
    }
   ],
   "source": [
    "len(google2.select(\".r > a\"))"
   ]
  },
  {
   "cell_type": "code",
   "execution_count": 127,
   "metadata": {},
   "outputs": [],
   "source": [
    "queue = [(_[\"href\"], 0) for _ in google2.select(\".r > a\")]"
   ]
  },
  {
   "cell_type": "code",
   "execution_count": 115,
   "metadata": {},
   "outputs": [
    {
     "data": {
      "text/plain": [
       "[]"
      ]
     },
     "execution_count": 115,
     "metadata": {},
     "output_type": "execute_result"
    }
   ],
   "source": [
    "queue"
   ]
  },
  {
   "cell_type": "code",
   "execution_count": 128,
   "metadata": {},
   "outputs": [
    {
     "name": "stdout",
     "output_type": "stream",
     "text": [
      " https://ko.wikipedia.org/wiki/%EB%B0%95%EB%B3%B4%EC%98%81 [820]\n",
      " https://ko.wikipedia.org/wiki/%EB%B0%95%EB%B3%B4%EC%98%81%EC%9D%98_%EC%9E%91%ED%92%88_%EB%AA%A9%EB%A1%9D [385]\n",
      " https://namu.wiki/w/%EB%B0%95%EB%B3%B4%EC%98%81 [1139]\n",
      " https://www.msn.com/ko-kr/entertainment/news/%EB%B0%95%EB%B3%B4%EC%98%81-tvn-%EB%93%9C%EB%9D%BC%EB%A7%88-%EC%96%B4%EB%B9%84%EC%8A%A4-%EC%97%AC%EC%A3%BC%EC%9D%B8%EA%B3%B5/ar-BBLZzVh [47]\n",
      " https://twitter.com/hashtag/%EB%B0%95%EB%B3%B4%EC%98%81 [201]\n",
      " https://www.hankyung.com/entertainment/article/201905030904H [189]\n",
      " https://www.hankyung.com/entertainment/article/201905077647H [184]\n",
      " https://news.joins.com/article/22895953 [34]\n",
      "> https://ko.wikipedia.org/wiki/%EC%9C%84%ED%82%A4%EB%B0%B1%EA%B3%BC:%EB%8F%99%EC%9D%8C%EC%9D%B4%EC%9D%98%EC%96%B4_%EB%AC%B8%EC%84%9C [200]\n",
      "> https://ko.wikipedia.org/wiki/%EB%B0%95%EB%B3%B4%EC%98%81_(%EB%8F%99%EC%9D%8C%EC%9D%B4%EC%9D%98) [51]\n",
      "> https://ko.wikipedia.org/wiki/%ED%8C%8C%EC%9D%BC:%EC%98%81%ED%99%94_%27%EB%84%88%EC%9D%98_%EA%B2%B0%ED%98%BC%EC%8B%9D%27_%EC%96%B8%EB%A1%A0%EC%8B%9C%EC%82%AC%ED%9A%8C_%EB%B0%95%EB%B3%B4%EC%98%81.jpg [54]\n",
      "> https://ko.wikipedia.org/wiki/%EB%8C%80%ED%95%9C%EB%AF%BC%EA%B5%AD [3400]\n",
      "> https://ko.wikipedia.org/wiki/%EC%B6%A9%EC%B2%AD%EB%B6%81%EB%8F%84 [417]\n",
      "> https://ko.wikipedia.org/wiki/%EA%B4%B4%EC%82%B0%EA%B5%B0 [380]\n",
      "> https://ko.wikipedia.org/wiki/%EC%A6%9D%ED%8F%89%EC%9D%8D [132]\n",
      "> https://ko.wikipedia.org/wiki/%EC%A6%9D%ED%8F%89%EA%B5%B0 [247]\n",
      "> https://ko.wikipedia.org/wiki/%EB%B0%B0%EC%9A%B0 [249]\n",
      "> https://ko.wikipedia.org/wiki/2006%EB%85%84 [1266]\n",
      "> https://ko.wikipedia.org/wiki/%EB%8B%A8%EA%B5%AD%EB%8C%80%ED%95%99%EA%B5%90 [1623]\n",
      "> https://ko.wikipedia.org/wiki/%EB%B0%95%EB%B3%B4%EC%98%81%EC%9D%98_%EC%88%98%EC%83%81_%EB%B0%8F_%ED%9B%84%EB%B3%B4_%EB%AA%A9%EB%A1%9D [244]\n",
      "> http://www.vlive.tv/channels/FCE49/ [0]\n",
      "> https://ko.wikipedia.org/wiki/V_LIVE [129]\n",
      "> https://ko.wikipedia.org/wiki/1990%EB%85%84 [1487]\n",
      "> https://ko.wikipedia.org/wiki/2%EC%9B%94_12%EC%9D%BC [552]\n",
      "> https://ko.wikipedia.org/wiki/%EB%8C%80%ED%95%9C%EB%AF%BC%EA%B5%AD [3400]\n",
      "> https://ko.wikipedia.org/wiki/%EB%B0%B0%EC%9A%B0 [249]\n",
      "> https://ko.wikipedia.org/w/index.php?title=%EB%B0%95%EB%B3%B4%EC%98%81&action=edit&section=1 [34]\n",
      "> https://ko.wikipedia.org/wiki/%EB%B9%84%EB%B0%80%EC%9D%98_%EA%B5%90%EC%A0%95 [109]\n",
      "> https://ko.wikipedia.org/wiki/%EB%A7%88%EB%85%80%EC%9C%A0%ED%9D%AC [256]\n",
      "> https://ko.wikipedia.org/wiki/%EB%8B%AC%EB%A0%A4%EB%9D%BC_%EA%B3%A0%EB%93%B1%EC%96%B4 [131]\n",
      "> https://ko.wikipedia.org/wiki/%EC%99%95%EA%B3%BC_%EB%82%98_(%EB%93%9C%EB%9D%BC%EB%A7%88) [544]\n",
      "> https://ko.wikipedia.org/wiki/%ED%8F%90%EB%B9%84_%EC%9C%A4%EC%94%A8 [588]\n",
      "> https://ko.wikipedia.org/wiki/%EC%A0%95%EA%B8%80%ED%94%BC%EC%89%AC [132]\n",
      "> https://ko.wikipedia.org/wiki/%EC%9A%B8%ED%95%99%EA%B5%90_%EC%9D%B4%ED%8B%B0 [134]\n",
      "> https://ko.wikipedia.org/wiki/%EC%B4%88%EA%B0%90%EA%B0%81_%EC%BB%A4%ED%94%8C [103]\n",
      "> https://ko.wikipedia.org/wiki/%EA%B3%BC%EC%86%8D%EC%8A%A4%EC%BA%94%EB%93%A4 [164]\n",
      "> https://ko.wikipedia.org/wiki/%EC%A0%84%EC%A3%BC%EA%B5%AD%EC%A0%9C%EC%98%81%ED%99%94%EC%A0%9C [645]\n",
      "> https://ko.wikipedia.org/wiki/%EC%98%B4%EB%8B%88%EB%B2%84%EC%8A%A4_%EC%98%81%ED%99%94 [74]\n",
      "> https://ko.wikipedia.org/wiki/%EC%8B%9C%EC%84%A0_1318 [143]\n",
      "> https://ko.wikipedia.org/wiki/%EB%AF%B8%ED%99%95%EC%9D%B8_%EB%8F%99%EC%98%81%EC%83%81:_%EC%A0%88%EB%8C%80%ED%81%B4%EB%A6%AD%EA%B8%88%EC%A7%80 [92]\n",
      "> https://ko.wikipedia.org/wiki/%EB%8A%91%EB%8C%80%EC%86%8C%EB%85%84_(%EC%98%81%ED%99%94) [256]\n",
      "> https://ko.wikipedia.org/wiki/%ED%94%BC%EB%81%93%EB%8A%94_%EC%B2%AD%EC%B6%98 [142]\n",
      "> https://ko.wikipedia.org/wiki/%EA%B2%BD%EC%84%B1%ED%95%99%EA%B5%90:_%EC%82%AC%EB%9D%BC%EC%A7%84_%EC%86%8C%EB%85%80%EB%93%A4 [108]\n",
      "> https://ko.wikipedia.org/wiki/TvN_%EA%B8%88%ED%86%A0%EB%93%9C%EB%9D%BC%EB%A7%88 [216]\n",
      "> https://ko.wikipedia.org/wiki/%EC%98%A4_%EB%82%98%EC%9D%98_%EA%B7%80%EC%8B%A0%EB%8B%98 [283]\n",
      "> https://ko.wikipedia.org/wiki/%EB%8F%8C%EC%97%B0%EB%B3%80%EC%9D%B4_(%EC%98%81%ED%99%94) [116]\n",
      "> https://ko.wikipedia.org/wiki/%EC%97%B4%EC%A0%95%EA%B0%99%EC%9D%80%EC%86%8C%EB%A6%AC%ED%95%98%EA%B3%A0%EC%9E%88%EB%84%A4 [111]\n",
      "> https://ko.wikipedia.org/wiki/JTBC_%EA%B8%88%ED%86%A0%EB%93%9C%EB%9D%BC%EB%A7%88 [260]\n",
      "> https://ko.wikipedia.org/wiki/%ED%9E%98%EC%8E%88%EC%97%AC%EC%9E%90_%EB%8F%84%EB%B4%89%EC%88%9C [416]\n",
      "> https://ko.wikipedia.org/wiki/%EB%84%88%EC%9D%98_%EA%B2%B0%ED%98%BC%EC%8B%9D [55]\n",
      "> https://ko.wikipedia.org/w/index.php?title=%EB%B0%95%EB%B3%B4%EC%98%81&action=edit&section=2 [34]\n",
      "> https://ko.wikipedia.org/wiki/%EC%B6%A9%EC%B2%AD%EB%B6%81%EB%8F%84 [417]\n",
      "> https://ko.wikipedia.org/wiki/%EC%A6%9D%ED%8F%89%EA%B5%B0 [247]\n",
      "> https://ko.wikipedia.org/wiki/%EB%8C%80%ED%95%9C%EB%AF%BC%EA%B5%AD_%EC%9C%A1%EA%B5%B0_%ED%8A%B9%EC%88%98%EC%A0%84%EC%82%AC%EB%A0%B9%EB%B6%80 [363]\n",
      "> https://ko.wikipedia.org/wiki/%EC%98%88%EB%B9%84%EC%97%AD [116]\n",
      "> https://ko.wikipedia.org/wiki/%EB%8C%80%ED%95%9C%EB%AF%BC%EA%B5%AD_%EC%9C%A1%EA%B5%B0 [1078]\n",
      "> https://ko.wikipedia.org/wiki/%EC%9B%90%EC%82%AC [52]\n",
      "> https://ko.wikipedia.org/wiki/%EC%A6%9D%ED%8F%89%EC%B4%88%EB%93%B1%ED%95%99%EA%B5%90 [368]\n",
      "> https://ko.wikipedia.org/wiki/%EC%A6%9D%ED%8F%89%EC%97%AC%EC%9E%90%EC%A4%91%ED%95%99%EA%B5%90 [238]\n",
      "> https://ko.wikipedia.org/wiki/%EB%8C%80%EC%84%B1%EC%97%AC%EC%9E%90%EC%83%81%EC%97%85%EA%B3%A0%EB%93%B1%ED%95%99%EA%B5%90 [347]\n",
      "> https://ko.wikipedia.org/wiki/%EB%8B%A8%EA%B5%AD%EB%8C%80%ED%95%99%EA%B5%90 [1623]\n",
      "> https://ko.wikipedia.org/wiki/%EC%84%9C%EC%9A%B8%EA%B5%AD%EC%A0%9C%EC%B2%AD%EC%86%8C%EB%85%84%EC%98%81%ED%99%94%EC%A0%9C [171]\n",
      "> https://ko.wikipedia.org/wiki/%EB%8B%A8%EA%B5%AD%EB%8C%80%ED%95%99%EA%B5%90 [1623]\n",
      "> https://ko.wikipedia.org/w/index.php?title=%EB%B0%95%EB%B3%B4%EC%98%81&action=edit&section=3 [34]\n",
      "> https://ko.wikipedia.org/w/index.php?title=%EB%B0%95%EB%B3%B4%EC%98%81&action=edit&section=4 [34]\n",
      "> https://ko.wikipedia.org/wiki/%EB%B9%84%EB%B0%80%EC%9D%98_%EA%B5%90%EC%A0%95 [109]\n",
      "> https://ko.wikipedia.org/wiki/%EB%A7%88%EB%85%80%EC%9C%A0%ED%9D%AC [256]\n",
      "> https://ko.wikipedia.org/wiki/%ED%95%9C%EA%B0%80%EC%9D%B8 [461]\n",
      "> https://ko.wikipedia.org/wiki/%EB%8B%AC%EB%A0%A4%EB%9D%BC_%EA%B3%A0%EB%93%B1%EC%96%B4 [131]\n",
      "> https://ko.wikipedia.org/wiki/%EC%99%95%EA%B3%BC_%EB%82%98_(%EB%93%9C%EB%9D%BC%EB%A7%88) [544]\n",
      "> https://ko.wikipedia.org/wiki/%ED%8F%90%EB%B9%84_%EC%9C%A4%EC%94%A8 [588]\n",
      "> https://ko.wikipedia.org/wiki/%ED%8F%90%EB%B9%84_%EC%9C%A4%EC%94%A8 [588]\n",
      "> https://ko.wikipedia.org/wiki/%EC%9C%A0%EC%8A%B9%ED%98%B8 [582]\n",
      "> https://ko.wikipedia.org/wiki/%EC%A3%BC%EB%AF%BC%EC%88%98 [125]\n",
      "> https://ko.wikipedia.org/wiki/%EC%A0%95%EA%B8%80%ED%94%BC%EC%89%AC [132]\n",
      "> https://ko.wikipedia.org/wiki/%EA%B9%80%ED%8F%AC%EC%99%B8%EA%B3%A0 [660]\n",
      "> https://ko.wikipedia.org/wiki/%ED%94%BC%EB%B2%84%EB%94%94%EC%83%81 [85]\n",
      "> https://ko.wikipedia.org/wiki/2010%EB%85%84 [1866]\n",
      "> https://ko.wikipedia.org/wiki/9%EC%9B%94_23%EC%9D%BC [555]\n",
      "> https://ko.wikipedia.org/wiki/%EA%B5%AD%EA%B0%80%EC%9D%B8%EA%B6%8C%EC%9C%84%EC%9B%90%ED%9A%8C [230]\n",
      "> https://ko.wikipedia.org/wiki/%EC%98%B4%EB%8B%88%EB%B2%84%EC%8A%A4_%EC%98%81%ED%99%94 [74]\n",
      "> https://ko.wikipedia.org/wiki/%EC%8B%9C%EC%84%A0_1318 [143]\n",
      "> https://ko.wikipedia.org/wiki/%EC%98%B4%EB%8B%88%EB%B2%84%EC%8A%A4_%EC%98%81%ED%99%94 [74]\n",
      "> https://ko.wikipedia.org/wiki/%EC%A0%84%EC%A3%BC%EA%B5%AD%EC%A0%9C%EC%98%81%ED%99%94%EC%A0%9C [645]\n",
      "> https://ko.wikipedia.org/wiki/%EC%9A%B8%ED%95%99%EA%B5%90_%EC%9D%B4%ED%8B%B0 [134]\n",
      "> https://ko.wikipedia.org/wiki/%EA%B9%80%EC%88%98%EB%A1%9C_(%EB%B0%B0%EC%9A%B0) [824]\n",
      "> https://ko.wikipedia.org/wiki/%EC%99%95%EA%B3%BC_%EB%82%98_(%EB%93%9C%EB%9D%BC%EB%A7%88) [544]\n",
      "> https://ko.wikipedia.org/wiki/%EA%B5%AC%ED%98%9C%EC%84%A0 [759]\n",
      "> https://ko.wikipedia.org/wiki/%EC%B5%9C%EA%B0%95%EC%B9%A0%EC%9A%B0 [591]\n",
      "> https://ko.wikipedia.org/wiki/%EC%97%90%EB%A6%AD_(%EA%B0%80%EC%88%98) [849]\n",
      "> https://ko.wikipedia.org/wiki/%EC%B4%88%EA%B0%90%EA%B0%81_%EC%BB%A4%ED%94%8C [103]\n",
      "> https://ko.wikipedia.org/wiki/%EC%A7%84%EA%B5%AC [408]\n",
      "> https://ko.wikipedia.org/wiki/%EB%AC%B8%ED%99%94%EC%B2%B4%EC%9C%A1%EA%B4%80%EA%B4%91%EB%B6%80 [414]\n",
      "> https://ko.wikipedia.org/w/index.php?title=%EB%B0%95%EB%B3%B4%EC%98%81&action=edit&section=5 [34]\n",
      "> https://ko.wikipedia.org/wiki/%EA%B3%BC%EC%86%8D%EC%8A%A4%EC%BA%94%EB%93%A4 [164]\n"
     ]
    },
    {
     "name": "stdout",
     "output_type": "stream",
     "text": [
      "> https://ko.wikipedia.org/wiki/%EC%B0%A8%ED%83%9C%ED%98%84 [1866]\n",
      "> https://ko.wikipedia.org/wiki/%EC%A2%85%ED%95%A9%EB%B3%91%EC%9B%90_2 [376]\n",
      "> https://ko.wikipedia.org/wiki/%EC%B0%A8%ED%83%9C%ED%98%84 [1866]\n",
      "> https://ko.wikipedia.org/wiki/%EC%8A%A4%ED%83%80%EC%9D%98_%EC%97%B0%EC%9D%B8 [288]\n",
      "> https://ko.wikipedia.org/wiki/%EC%B5%9C%EC%A7%80%EC%9A%B0 [1239]\n",
      "> https://ko.wikipedia.org/wiki/%EA%B3%BC%EC%86%8D%EC%8A%A4%EC%BA%94%EB%93%A4 [164]\n",
      "> https://ko.wikipedia.org/wiki/%EC%B2%AD%EB%A3%A1%EC%98%81%ED%99%94%EC%83%81 [191]\n",
      "> https://ko.wikipedia.org/wiki/%EB%B0%B1%EC%83%81%EC%98%88%EC%88%A0%EB%8C%80%EC%83%81 [3537]\n",
      "> https://ko.wikipedia.org/wiki/%ED%95%9C%EA%B5%AD%EC%98%81%ED%99%94%ED%8F%89%EB%A1%A0%EA%B0%80%ED%98%91%ED%9A%8C%EC%83%81 [804]\n",
      "> https://ko.wikipedia.org/wiki/%EB%94%94%EB%A0%89%ED%84%B0%EC%8A%A4_%EC%BB%B7_%EC%8B%9C%EC%83%81%EC%8B%9D [385]\n",
      "> https://ko.wikipedia.org/wiki/%EC%B2%AD%EB%A3%A1%EC%98%81%ED%99%94%EC%83%81 [191]\n",
      "> https://ko.wikipedia.org/wiki/%EA%B3%BC%EC%86%8D%EC%8A%A4%EC%BA%94%EB%93%A4 [164]\n",
      "> https://ko.wikipedia.org/w/index.php?title=%EB%B0%95%EB%B3%B4%EC%98%81&action=edit&section=6 [34]\n",
      "> https://ko.wikipedia.org/wiki/%EB%AF%B8%ED%99%95%EC%9D%B8_%EB%8F%99%EC%98%81%EC%83%81:_%EC%A0%88%EB%8C%80%ED%81%B4%EB%A6%AD%EA%B8%88%EC%A7%80 [92]\n",
      "> https://ko.wikipedia.org/wiki/%EB%AF%B8%ED%99%95%EC%9D%B8_%EB%8F%99%EC%98%81%EC%83%81:_%EC%A0%88%EB%8C%80%ED%81%B4%EB%A6%AD%EA%B8%88%EC%A7%80 [92]\n",
      "> https://ko.wikipedia.org/wiki/%EB%AF%B8%ED%99%95%EC%9D%B8_%EB%8F%99%EC%98%81%EC%83%81:_%EC%A0%88%EB%8C%80%ED%81%B4%EB%A6%AD%EA%B8%88%EC%A7%80 [92]\n",
      "> https://ko.wikipedia.org/wiki/%EA%B9%80%ED%83%9C%EA%B2%BD_(%EC%98%81%ED%99%94_%EA%B0%90%EB%8F%85) [77]\n",
      "> https://ko.wikipedia.org/wiki/%EB%8A%91%EB%8C%80%EC%86%8C%EB%85%84_(%EC%98%81%ED%99%94) [256]\n",
      "> https://ko.wikipedia.org/wiki/%EC%A1%B0%EC%84%B1%ED%9D%AC_(%EC%98%81%ED%99%94_%EA%B0%90%EB%8F%85) [80]\n",
      "> https://ko.wikipedia.org/wiki/%EB%8A%91%EB%8C%80%EC%86%8C%EB%85%84_(%EC%98%81%ED%99%94) [256]\n",
      "> https://ko.wikipedia.org/wiki/%ED%95%9C%EA%B5%AD%EA%B0%A4%EB%9F%BD [62]\n",
      "> https://ko.wikipedia.org/wiki/%EB%8A%91%EB%8C%80%EC%86%8C%EB%85%84_(%EC%98%81%ED%99%94) [256]\n",
      "> https://ko.wikipedia.org/wiki/%ED%94%BC%EC%96%B4%EC%84%A0_%EC%A0%8A%EC%9D%80_%EC%98%81%ED%99%94_%ED%8E%98%EC%8A%A4%ED%8B%B0%EB%B2%8C [183]\n",
      "> https://ko.wikipedia.org/wiki/%EC%A1%B0%EC%84%B1%ED%9D%AC_(%EC%98%81%ED%99%94_%EA%B0%90%EB%8F%85) [80]\n",
      "> https://ko.wikipedia.org/wiki/%ED%95%9C%EA%B5%AD%EC%98%81%ED%99%94%EC%95%84%EC%B9%B4%EB%8D%B0%EB%AF%B8 [102]\n",
      "> https://ko.wikipedia.org/wiki/%ED%94%BC%EB%81%93%EB%8A%94_%EC%B2%AD%EC%B6%98 [142]\n",
      "> https://ko.wikipedia.org/wiki/%ED%94%BC%EB%81%93%EB%8A%94_%EC%B2%AD%EC%B6%98 [142]\n",
      "> https://ko.wikipedia.org/wiki/%EC%9D%B4%EC%A2%85%EC%84%9D_(%EB%B0%B0%EC%9A%B0) [1202]\n",
      "> https://ko.wikipedia.org/w/index.php?title=%EB%B0%95%EB%B3%B4%EC%98%81&action=edit&section=7 [34]\n",
      "> https://ko.wikipedia.org/wiki/%EC%9D%B4%ED%95%B4%EC%98%81_(%EC%98%81%ED%99%94_%EA%B0%90%EB%8F%85) [212]\n",
      "> https://ko.wikipedia.org/wiki/%EA%B2%BD%EC%84%B1%ED%95%99%EA%B5%90:_%EC%82%AC%EB%9D%BC%EC%A7%84_%EC%86%8C%EB%85%80%EB%93%A4 [108]\n",
      "> https://ko.wikipedia.org/wiki/%EC%9D%B4%ED%95%B4%EC%98%81_(%EC%98%81%ED%99%94_%EA%B0%90%EB%8F%85) [212]\n",
      "> https://ko.wikipedia.org/wiki/%EA%B2%BD%EC%84%B1%ED%95%99%EA%B5%90:_%EC%82%AC%EB%9D%BC%EC%A7%84_%EC%86%8C%EB%85%80%EB%93%A4 [108]\n",
      "> https://ko.wikipedia.org/wiki/%EA%B2%BD%EC%84%B1%ED%95%99%EA%B5%90:_%EC%82%AC%EB%9D%BC%EC%A7%84_%EC%86%8C%EB%85%80%EB%93%A4 [108]\n",
      "> https://ko.wikipedia.org/wiki/%EC%98%A4_%EB%82%98%EC%9D%98_%EA%B7%80%EC%8B%A0%EB%8B%98 [283]\n",
      "> https://ko.wikipedia.org/wiki/%EC%9D%91%EB%8B%B5%ED%95%98%EB%9D%BC1994 [752]\n",
      "> https://ko.wikipedia.org/wiki/%EB%AF%B8%EC%83%9D_(%EB%93%9C%EB%9D%BC%EB%A7%88) [429]\n",
      "> https://ko.wikipedia.org/wiki/%EC%98%A4_%EB%82%98%EC%9D%98_%EA%B7%80%EC%8B%A0%EB%8B%98 [283]\n",
      "> https://ko.wikipedia.org/wiki/%EC%98%A4_%EB%82%98%EC%9D%98_%EA%B7%80%EC%8B%A0%EB%8B%98 [283]\n",
      "> https://ko.wikipedia.org/wiki/%EB%8F%8C%EC%97%B0%EB%B3%80%EC%9D%B4_(%EC%98%81%ED%99%94) [116]\n",
      "> https://ko.wikipedia.org/wiki/%EC%9D%B4%EA%B4%91%EC%88%98_(%EB%B0%B0%EC%9A%B0) [806]\n",
      "> https://ko.wikipedia.org/wiki/%EA%B5%AD%EA%B0%80%EC%A0%95%EB%B3%B4%EC%9B%90_%EC%97%AC%EB%A1%A0_%EC%A1%B0%EC%9E%91_%EC%82%AC%EA%B1%B4 [2100]\n",
      "> https://ko.wikipedia.org/wiki/CJ_E%26M [643]\n",
      "> https://ko.wikipedia.org/wiki/%ED%86%A0%EB%A1%A0%ED%86%A0_%EA%B5%AD%EC%A0%9C_%EC%98%81%ED%99%94%EC%A0%9C [207]\n",
      "> https://ko.wikipedia.org/wiki/%EC%97%B4%EC%A0%95%EA%B0%99%EC%9D%80%EC%86%8C%EB%A6%AC%ED%95%98%EA%B3%A0%EC%9E%88%EB%84%A4 [111]\n",
      "> https://ko.wikipedia.org/wiki/%EC%97%B4%EC%A0%95,_%EA%B0%99%EC%9D%80_%EC%86%8C%EB%A6%AC_%ED%95%98%EA%B3%A0_%EC%9E%88%EB%84%A4 [88]\n",
      "> https://ko.wikipedia.org/wiki/%ED%95%9C%EA%B5%AD%EA%B0%A4%EB%9F%BD [62]\n",
      "> https://ko.wikipedia.org/w/index.php?title=%EB%B0%95%EB%B3%B4%EC%98%81&action=edit&section=8 [34]\n",
      "> https://ko.wikipedia.org/wiki/%ED%9E%98%EC%8E%88%EC%97%AC%EC%9E%90_%EB%8F%84%EB%B4%89%EC%88%9C [416]\n",
      "> https://ko.wikipedia.org/wiki/%EC%A7%80%EC%88%98_(%EB%B0%B0%EC%9A%B0) [191]\n",
      "> https://ko.wikipedia.org/wiki/%EB%B0%95%ED%98%95%EC%8B%9D [834]\n",
      "> https://ko.wikipedia.org/wiki/%ED%9E%98%EC%8E%88%EC%97%AC%EC%9E%90_%EB%8F%84%EB%B4%89%EC%88%9C [416]\n",
      "> https://ko.wikipedia.org/wiki/%EB%AC%B4%EC%9E%90%EC%8B%9D_%EC%83%81%ED%8C%94%EC%9E%90 [446]\n",
      "> https://ko.wikipedia.org/w/index.php?title=%EB%B0%95%EB%B3%B4%EC%98%81&action=edit&section=9 [34]\n",
      "> https://ko.wikipedia.org/wiki/%EC%86%8C%EC%85%9C_%EB%84%A4%ED%8A%B8%EC%9B%8C%ED%81%AC_%EC%84%9C%EB%B9%84%EC%8A%A4 [360]\n",
      "> https://ko.wikipedia.org/wiki/%EA%B9%80%ED%95%B4%EC%88%99 [709]\n",
      "> https://ko.wikipedia.org/wiki/%EC%B2%AD%EB%A3%A1%EC%98%81%ED%99%94%EC%83%81 [191]\n",
      "> https://ko.wikipedia.org/wiki/%EA%B3%BC%EC%86%8D%EC%8A%A4%EC%BA%94%EB%93%A4 [164]\n",
      "> https://ko.wikipedia.org/wiki/%EA%B3%BC%EC%86%8D%EC%8A%A4%EC%BA%94%EB%93%A4 [164]\n",
      "> https://ko.wikipedia.org/wiki/%EB%8A%91%EB%8C%80%EC%86%8C%EB%85%84 [55]\n",
      "> https://ko.wikipedia.org/wiki/%EB%8F%8C%EC%97%B0%EB%B3%80%EC%9D%B4_(%EC%98%81%ED%99%94) [116]\n",
      "> https://ko.wikipedia.org/wiki/%EC%9B%90%EB%B9%88 [1272]\n",
      "> https://ko.wikipedia.org/wiki/%EB%B0%95%ED%9A%A8%EC%8B%A0 [657]\n",
      "> https://ko.wikipedia.org/wiki/%EC%9B%90%EB%B9%88 [1272]\n",
      "> https://ko.wikipedia.org/wiki/%ED%94%84%EB%A1%9C%ED%8F%AC%EC%A6%88_(%EB%93%9C%EB%9D%BC%EB%A7%88) [125]\n",
      "> https://ko.wikipedia.org/wiki/%EB%B0%95%ED%9A%A8%EC%8B%A0 [657]\n",
      "> https://ko.wikipedia.org/w/index.php?title=%EB%B0%95%EB%B3%B4%EC%98%81&action=edit&section=10 [34]\n",
      "> https://ko.wikipedia.org/w/index.php?title=%EB%B0%95%EB%B3%B4%EC%98%81&action=edit&section=11 [34]\n",
      "> https://ko.wikipedia.org/wiki/%EB%B0%95%EB%B3%B4%EC%98%81%EC%9D%98_%EC%88%98%EC%83%81_%EB%B0%8F_%ED%9B%84%EB%B3%B4_%EB%AA%A9%EB%A1%9D [244]\n",
      "> https://ko.wikipedia.org/w/index.php?title=%EB%B0%95%EB%B3%B4%EC%98%81&action=edit&section=12 [34]\n",
      "> http://entertain.naver.com/read?oid=117&aid=0000107683 [221]\n",
      "> http://media.daum.net/entertain/culture/newsview?newsid=20091221201110428 [5]\n",
      "> http://www.sisunnews.co.kr/news/articleView.html?idxno=30180 [175]\n",
      "> http://entertain.naver.com/read?oid=427&aid=0000000608 [220]\n",
      "> http://tvdaily.asiae.co.kr/read.php3?aid=1439969448963995002 [85]\n",
      "> http://media.daum.net/entertain/drama/newsview?newsid=20160603133010138 [5]\n",
      "> http://entertain.naver.com/read?oid=311&aid=0000706247 [225]\n",
      "> http://entertain.naver.com/read?oid=465&aid=0000002867 [228]\n",
      "> http://entertain.naver.com/read?oid=020&aid=0002215077 [235]\n",
      "> http://entertain.naver.com/read?oid=076&aid=0002069547 [229]\n",
      "> http://media.daum.net/entertain/enews/newsview?newsid=20080206094708959 [5]\n",
      "> http://www.ikoreadaily.co.kr/news/articleView.html?idxno=214444 [155]\n",
      "> http://maxmedia.maxmovie.com/126136 [47]\n",
      "> http://maxmedia.maxmovie.com/126137 [47]\n",
      "> http://entertain.naver.com/read?oid=312&aid=0000024101 [229]\n",
      "> https://web.archive.org/web/20170216134707/http://www.ceci.co.kr/article/article_detail.do?idx=1464 [54]\n"
     ]
    },
    {
     "ename": "ConnectionError",
     "evalue": "HTTPConnectionPool(host='www.ceci.co.kr', port=80): Max retries exceeded with url: /article/article_detail.do?idx=1464&rtag= (Caused by NewConnectionError('<urllib3.connection.HTTPConnection object at 0x0000027AFDEC9C88>: Failed to establish a new connection: [WinError 10060] 연결된 구성원으로부터 응답이 없어 연결하지 못했거나, 호스트로부터 응답이 없어 연결이 끊어졌습니다'))",
     "output_type": "error",
     "traceback": [
      "\u001b[1;31m---------------------------------------------------------------------------\u001b[0m",
      "\u001b[1;31mTimeoutError\u001b[0m                              Traceback (most recent call last)",
      "\u001b[1;32mC:\\ProgramData\\Anaconda3\\lib\\site-packages\\urllib3\\connection.py\u001b[0m in \u001b[0;36m_new_conn\u001b[1;34m(self)\u001b[0m\n\u001b[0;32m    158\u001b[0m             conn = connection.create_connection(\n\u001b[1;32m--> 159\u001b[1;33m                 (self._dns_host, self.port), self.timeout, **extra_kw)\n\u001b[0m\u001b[0;32m    160\u001b[0m \u001b[1;33m\u001b[0m\u001b[0m\n",
      "\u001b[1;32mC:\\ProgramData\\Anaconda3\\lib\\site-packages\\urllib3\\util\\connection.py\u001b[0m in \u001b[0;36mcreate_connection\u001b[1;34m(address, timeout, source_address, socket_options)\u001b[0m\n\u001b[0;32m     79\u001b[0m     \u001b[1;32mif\u001b[0m \u001b[0merr\u001b[0m \u001b[1;32mis\u001b[0m \u001b[1;32mnot\u001b[0m \u001b[1;32mNone\u001b[0m\u001b[1;33m:\u001b[0m\u001b[1;33m\u001b[0m\u001b[1;33m\u001b[0m\u001b[0m\n\u001b[1;32m---> 80\u001b[1;33m         \u001b[1;32mraise\u001b[0m \u001b[0merr\u001b[0m\u001b[1;33m\u001b[0m\u001b[1;33m\u001b[0m\u001b[0m\n\u001b[0m\u001b[0;32m     81\u001b[0m \u001b[1;33m\u001b[0m\u001b[0m\n",
      "\u001b[1;32mC:\\ProgramData\\Anaconda3\\lib\\site-packages\\urllib3\\util\\connection.py\u001b[0m in \u001b[0;36mcreate_connection\u001b[1;34m(address, timeout, source_address, socket_options)\u001b[0m\n\u001b[0;32m     69\u001b[0m                 \u001b[0msock\u001b[0m\u001b[1;33m.\u001b[0m\u001b[0mbind\u001b[0m\u001b[1;33m(\u001b[0m\u001b[0msource_address\u001b[0m\u001b[1;33m)\u001b[0m\u001b[1;33m\u001b[0m\u001b[1;33m\u001b[0m\u001b[0m\n\u001b[1;32m---> 70\u001b[1;33m             \u001b[0msock\u001b[0m\u001b[1;33m.\u001b[0m\u001b[0mconnect\u001b[0m\u001b[1;33m(\u001b[0m\u001b[0msa\u001b[0m\u001b[1;33m)\u001b[0m\u001b[1;33m\u001b[0m\u001b[1;33m\u001b[0m\u001b[0m\n\u001b[0m\u001b[0;32m     71\u001b[0m             \u001b[1;32mreturn\u001b[0m \u001b[0msock\u001b[0m\u001b[1;33m\u001b[0m\u001b[1;33m\u001b[0m\u001b[0m\n",
      "\u001b[1;31mTimeoutError\u001b[0m: [WinError 10060] 연결된 구성원으로부터 응답이 없어 연결하지 못했거나, 호스트로부터 응답이 없어 연결이 끊어졌습니다",
      "\nDuring handling of the above exception, another exception occurred:\n",
      "\u001b[1;31mNewConnectionError\u001b[0m                        Traceback (most recent call last)",
      "\u001b[1;32mC:\\ProgramData\\Anaconda3\\lib\\site-packages\\urllib3\\connectionpool.py\u001b[0m in \u001b[0;36murlopen\u001b[1;34m(self, method, url, body, headers, retries, redirect, assert_same_host, timeout, pool_timeout, release_conn, chunked, body_pos, **response_kw)\u001b[0m\n\u001b[0;32m    599\u001b[0m                                                   \u001b[0mbody\u001b[0m\u001b[1;33m=\u001b[0m\u001b[0mbody\u001b[0m\u001b[1;33m,\u001b[0m \u001b[0mheaders\u001b[0m\u001b[1;33m=\u001b[0m\u001b[0mheaders\u001b[0m\u001b[1;33m,\u001b[0m\u001b[1;33m\u001b[0m\u001b[1;33m\u001b[0m\u001b[0m\n\u001b[1;32m--> 600\u001b[1;33m                                                   chunked=chunked)\n\u001b[0m\u001b[0;32m    601\u001b[0m \u001b[1;33m\u001b[0m\u001b[0m\n",
      "\u001b[1;32mC:\\ProgramData\\Anaconda3\\lib\\site-packages\\urllib3\\connectionpool.py\u001b[0m in \u001b[0;36m_make_request\u001b[1;34m(self, conn, method, url, timeout, chunked, **httplib_request_kw)\u001b[0m\n\u001b[0;32m    353\u001b[0m         \u001b[1;32melse\u001b[0m\u001b[1;33m:\u001b[0m\u001b[1;33m\u001b[0m\u001b[1;33m\u001b[0m\u001b[0m\n\u001b[1;32m--> 354\u001b[1;33m             \u001b[0mconn\u001b[0m\u001b[1;33m.\u001b[0m\u001b[0mrequest\u001b[0m\u001b[1;33m(\u001b[0m\u001b[0mmethod\u001b[0m\u001b[1;33m,\u001b[0m \u001b[0murl\u001b[0m\u001b[1;33m,\u001b[0m \u001b[1;33m**\u001b[0m\u001b[0mhttplib_request_kw\u001b[0m\u001b[1;33m)\u001b[0m\u001b[1;33m\u001b[0m\u001b[1;33m\u001b[0m\u001b[0m\n\u001b[0m\u001b[0;32m    355\u001b[0m \u001b[1;33m\u001b[0m\u001b[0m\n",
      "\u001b[1;32mC:\\ProgramData\\Anaconda3\\lib\\http\\client.py\u001b[0m in \u001b[0;36mrequest\u001b[1;34m(self, method, url, body, headers, encode_chunked)\u001b[0m\n\u001b[0;32m   1228\u001b[0m         \u001b[1;34m\"\"\"Send a complete request to the server.\"\"\"\u001b[0m\u001b[1;33m\u001b[0m\u001b[1;33m\u001b[0m\u001b[0m\n\u001b[1;32m-> 1229\u001b[1;33m         \u001b[0mself\u001b[0m\u001b[1;33m.\u001b[0m\u001b[0m_send_request\u001b[0m\u001b[1;33m(\u001b[0m\u001b[0mmethod\u001b[0m\u001b[1;33m,\u001b[0m \u001b[0murl\u001b[0m\u001b[1;33m,\u001b[0m \u001b[0mbody\u001b[0m\u001b[1;33m,\u001b[0m \u001b[0mheaders\u001b[0m\u001b[1;33m,\u001b[0m \u001b[0mencode_chunked\u001b[0m\u001b[1;33m)\u001b[0m\u001b[1;33m\u001b[0m\u001b[1;33m\u001b[0m\u001b[0m\n\u001b[0m\u001b[0;32m   1230\u001b[0m \u001b[1;33m\u001b[0m\u001b[0m\n",
      "\u001b[1;32mC:\\ProgramData\\Anaconda3\\lib\\http\\client.py\u001b[0m in \u001b[0;36m_send_request\u001b[1;34m(self, method, url, body, headers, encode_chunked)\u001b[0m\n\u001b[0;32m   1274\u001b[0m             \u001b[0mbody\u001b[0m \u001b[1;33m=\u001b[0m \u001b[0m_encode\u001b[0m\u001b[1;33m(\u001b[0m\u001b[0mbody\u001b[0m\u001b[1;33m,\u001b[0m \u001b[1;34m'body'\u001b[0m\u001b[1;33m)\u001b[0m\u001b[1;33m\u001b[0m\u001b[1;33m\u001b[0m\u001b[0m\n\u001b[1;32m-> 1275\u001b[1;33m         \u001b[0mself\u001b[0m\u001b[1;33m.\u001b[0m\u001b[0mendheaders\u001b[0m\u001b[1;33m(\u001b[0m\u001b[0mbody\u001b[0m\u001b[1;33m,\u001b[0m \u001b[0mencode_chunked\u001b[0m\u001b[1;33m=\u001b[0m\u001b[0mencode_chunked\u001b[0m\u001b[1;33m)\u001b[0m\u001b[1;33m\u001b[0m\u001b[1;33m\u001b[0m\u001b[0m\n\u001b[0m\u001b[0;32m   1276\u001b[0m \u001b[1;33m\u001b[0m\u001b[0m\n",
      "\u001b[1;32mC:\\ProgramData\\Anaconda3\\lib\\http\\client.py\u001b[0m in \u001b[0;36mendheaders\u001b[1;34m(self, message_body, encode_chunked)\u001b[0m\n\u001b[0;32m   1223\u001b[0m             \u001b[1;32mraise\u001b[0m \u001b[0mCannotSendHeader\u001b[0m\u001b[1;33m(\u001b[0m\u001b[1;33m)\u001b[0m\u001b[1;33m\u001b[0m\u001b[1;33m\u001b[0m\u001b[0m\n\u001b[1;32m-> 1224\u001b[1;33m         \u001b[0mself\u001b[0m\u001b[1;33m.\u001b[0m\u001b[0m_send_output\u001b[0m\u001b[1;33m(\u001b[0m\u001b[0mmessage_body\u001b[0m\u001b[1;33m,\u001b[0m \u001b[0mencode_chunked\u001b[0m\u001b[1;33m=\u001b[0m\u001b[0mencode_chunked\u001b[0m\u001b[1;33m)\u001b[0m\u001b[1;33m\u001b[0m\u001b[1;33m\u001b[0m\u001b[0m\n\u001b[0m\u001b[0;32m   1225\u001b[0m \u001b[1;33m\u001b[0m\u001b[0m\n",
      "\u001b[1;32mC:\\ProgramData\\Anaconda3\\lib\\http\\client.py\u001b[0m in \u001b[0;36m_send_output\u001b[1;34m(self, message_body, encode_chunked)\u001b[0m\n\u001b[0;32m   1015\u001b[0m         \u001b[1;32mdel\u001b[0m \u001b[0mself\u001b[0m\u001b[1;33m.\u001b[0m\u001b[0m_buffer\u001b[0m\u001b[1;33m[\u001b[0m\u001b[1;33m:\u001b[0m\u001b[1;33m]\u001b[0m\u001b[1;33m\u001b[0m\u001b[1;33m\u001b[0m\u001b[0m\n\u001b[1;32m-> 1016\u001b[1;33m         \u001b[0mself\u001b[0m\u001b[1;33m.\u001b[0m\u001b[0msend\u001b[0m\u001b[1;33m(\u001b[0m\u001b[0mmsg\u001b[0m\u001b[1;33m)\u001b[0m\u001b[1;33m\u001b[0m\u001b[1;33m\u001b[0m\u001b[0m\n\u001b[0m\u001b[0;32m   1017\u001b[0m \u001b[1;33m\u001b[0m\u001b[0m\n",
      "\u001b[1;32mC:\\ProgramData\\Anaconda3\\lib\\http\\client.py\u001b[0m in \u001b[0;36msend\u001b[1;34m(self, data)\u001b[0m\n\u001b[0;32m    955\u001b[0m             \u001b[1;32mif\u001b[0m \u001b[0mself\u001b[0m\u001b[1;33m.\u001b[0m\u001b[0mauto_open\u001b[0m\u001b[1;33m:\u001b[0m\u001b[1;33m\u001b[0m\u001b[1;33m\u001b[0m\u001b[0m\n\u001b[1;32m--> 956\u001b[1;33m                 \u001b[0mself\u001b[0m\u001b[1;33m.\u001b[0m\u001b[0mconnect\u001b[0m\u001b[1;33m(\u001b[0m\u001b[1;33m)\u001b[0m\u001b[1;33m\u001b[0m\u001b[1;33m\u001b[0m\u001b[0m\n\u001b[0m\u001b[0;32m    957\u001b[0m             \u001b[1;32melse\u001b[0m\u001b[1;33m:\u001b[0m\u001b[1;33m\u001b[0m\u001b[1;33m\u001b[0m\u001b[0m\n",
      "\u001b[1;32mC:\\ProgramData\\Anaconda3\\lib\\site-packages\\urllib3\\connection.py\u001b[0m in \u001b[0;36mconnect\u001b[1;34m(self)\u001b[0m\n\u001b[0;32m    180\u001b[0m     \u001b[1;32mdef\u001b[0m \u001b[0mconnect\u001b[0m\u001b[1;33m(\u001b[0m\u001b[0mself\u001b[0m\u001b[1;33m)\u001b[0m\u001b[1;33m:\u001b[0m\u001b[1;33m\u001b[0m\u001b[1;33m\u001b[0m\u001b[0m\n\u001b[1;32m--> 181\u001b[1;33m         \u001b[0mconn\u001b[0m \u001b[1;33m=\u001b[0m \u001b[0mself\u001b[0m\u001b[1;33m.\u001b[0m\u001b[0m_new_conn\u001b[0m\u001b[1;33m(\u001b[0m\u001b[1;33m)\u001b[0m\u001b[1;33m\u001b[0m\u001b[1;33m\u001b[0m\u001b[0m\n\u001b[0m\u001b[0;32m    182\u001b[0m         \u001b[0mself\u001b[0m\u001b[1;33m.\u001b[0m\u001b[0m_prepare_conn\u001b[0m\u001b[1;33m(\u001b[0m\u001b[0mconn\u001b[0m\u001b[1;33m)\u001b[0m\u001b[1;33m\u001b[0m\u001b[1;33m\u001b[0m\u001b[0m\n",
      "\u001b[1;32mC:\\ProgramData\\Anaconda3\\lib\\site-packages\\urllib3\\connection.py\u001b[0m in \u001b[0;36m_new_conn\u001b[1;34m(self)\u001b[0m\n\u001b[0;32m    167\u001b[0m             raise NewConnectionError(\n\u001b[1;32m--> 168\u001b[1;33m                 self, \"Failed to establish a new connection: %s\" % e)\n\u001b[0m\u001b[0;32m    169\u001b[0m \u001b[1;33m\u001b[0m\u001b[0m\n",
      "\u001b[1;31mNewConnectionError\u001b[0m: <urllib3.connection.HTTPConnection object at 0x0000027AFDEC9C88>: Failed to establish a new connection: [WinError 10060] 연결된 구성원으로부터 응답이 없어 연결하지 못했거나, 호스트로부터 응답이 없어 연결이 끊어졌습니다",
      "\nDuring handling of the above exception, another exception occurred:\n",
      "\u001b[1;31mMaxRetryError\u001b[0m                             Traceback (most recent call last)",
      "\u001b[1;32mC:\\ProgramData\\Anaconda3\\lib\\site-packages\\requests\\adapters.py\u001b[0m in \u001b[0;36msend\u001b[1;34m(self, request, stream, timeout, verify, cert, proxies)\u001b[0m\n\u001b[0;32m    448\u001b[0m                     \u001b[0mretries\u001b[0m\u001b[1;33m=\u001b[0m\u001b[0mself\u001b[0m\u001b[1;33m.\u001b[0m\u001b[0mmax_retries\u001b[0m\u001b[1;33m,\u001b[0m\u001b[1;33m\u001b[0m\u001b[1;33m\u001b[0m\u001b[0m\n\u001b[1;32m--> 449\u001b[1;33m                     \u001b[0mtimeout\u001b[0m\u001b[1;33m=\u001b[0m\u001b[0mtimeout\u001b[0m\u001b[1;33m\u001b[0m\u001b[1;33m\u001b[0m\u001b[0m\n\u001b[0m\u001b[0;32m    450\u001b[0m                 )\n",
      "\u001b[1;32mC:\\ProgramData\\Anaconda3\\lib\\site-packages\\urllib3\\connectionpool.py\u001b[0m in \u001b[0;36murlopen\u001b[1;34m(self, method, url, body, headers, retries, redirect, assert_same_host, timeout, pool_timeout, release_conn, chunked, body_pos, **response_kw)\u001b[0m\n\u001b[0;32m    637\u001b[0m             retries = retries.increment(method, url, error=e, _pool=self,\n\u001b[1;32m--> 638\u001b[1;33m                                         _stacktrace=sys.exc_info()[2])\n\u001b[0m\u001b[0;32m    639\u001b[0m             \u001b[0mretries\u001b[0m\u001b[1;33m.\u001b[0m\u001b[0msleep\u001b[0m\u001b[1;33m(\u001b[0m\u001b[1;33m)\u001b[0m\u001b[1;33m\u001b[0m\u001b[1;33m\u001b[0m\u001b[0m\n",
      "\u001b[1;32mC:\\ProgramData\\Anaconda3\\lib\\site-packages\\urllib3\\util\\retry.py\u001b[0m in \u001b[0;36mincrement\u001b[1;34m(self, method, url, response, error, _pool, _stacktrace)\u001b[0m\n\u001b[0;32m    397\u001b[0m         \u001b[1;32mif\u001b[0m \u001b[0mnew_retry\u001b[0m\u001b[1;33m.\u001b[0m\u001b[0mis_exhausted\u001b[0m\u001b[1;33m(\u001b[0m\u001b[1;33m)\u001b[0m\u001b[1;33m:\u001b[0m\u001b[1;33m\u001b[0m\u001b[1;33m\u001b[0m\u001b[0m\n\u001b[1;32m--> 398\u001b[1;33m             \u001b[1;32mraise\u001b[0m \u001b[0mMaxRetryError\u001b[0m\u001b[1;33m(\u001b[0m\u001b[0m_pool\u001b[0m\u001b[1;33m,\u001b[0m \u001b[0murl\u001b[0m\u001b[1;33m,\u001b[0m \u001b[0merror\u001b[0m \u001b[1;32mor\u001b[0m \u001b[0mResponseError\u001b[0m\u001b[1;33m(\u001b[0m\u001b[0mcause\u001b[0m\u001b[1;33m)\u001b[0m\u001b[1;33m)\u001b[0m\u001b[1;33m\u001b[0m\u001b[1;33m\u001b[0m\u001b[0m\n\u001b[0m\u001b[0;32m    399\u001b[0m \u001b[1;33m\u001b[0m\u001b[0m\n",
      "\u001b[1;31mMaxRetryError\u001b[0m: HTTPConnectionPool(host='www.ceci.co.kr', port=80): Max retries exceeded with url: /article/article_detail.do?idx=1464&rtag= (Caused by NewConnectionError('<urllib3.connection.HTTPConnection object at 0x0000027AFDEC9C88>: Failed to establish a new connection: [WinError 10060] 연결된 구성원으로부터 응답이 없어 연결하지 못했거나, 호스트로부터 응답이 없어 연결이 끊어졌습니다'))",
      "\nDuring handling of the above exception, another exception occurred:\n",
      "\u001b[1;31mConnectionError\u001b[0m                           Traceback (most recent call last)",
      "\u001b[1;32m<ipython-input-128-46bbd6c0aa00>\u001b[0m in \u001b[0;36m<module>\u001b[1;34m\u001b[0m\n\u001b[0;32m      4\u001b[0m     \u001b[0mlink\u001b[0m \u001b[1;33m=\u001b[0m \u001b[0mqueue\u001b[0m\u001b[1;33m.\u001b[0m\u001b[0mpop\u001b[0m\u001b[1;33m(\u001b[0m\u001b[1;36m0\u001b[0m\u001b[1;33m)\u001b[0m\u001b[1;33m\u001b[0m\u001b[1;33m\u001b[0m\u001b[0m\n\u001b[0;32m      5\u001b[0m     \u001b[0mseen\u001b[0m\u001b[1;33m.\u001b[0m\u001b[0mappend\u001b[0m\u001b[1;33m(\u001b[0m\u001b[0mlink\u001b[0m\u001b[1;33m[\u001b[0m\u001b[1;36m0\u001b[0m\u001b[1;33m]\u001b[0m\u001b[1;33m)\u001b[0m\u001b[1;33m\u001b[0m\u001b[1;33m\u001b[0m\u001b[0m\n\u001b[1;32m----> 6\u001b[1;33m     \u001b[0mlinks\u001b[0m \u001b[1;33m=\u001b[0m \u001b[0murlExtractor\u001b[0m\u001b[1;33m(\u001b[0m\u001b[0mlink\u001b[0m\u001b[1;33m[\u001b[0m\u001b[1;36m0\u001b[0m\u001b[1;33m]\u001b[0m\u001b[1;33m,\u001b[0m \u001b[0mlink\u001b[0m\u001b[1;33m[\u001b[0m\u001b[1;36m1\u001b[0m\u001b[1;33m]\u001b[0m\u001b[1;33m)\u001b[0m\u001b[1;33m\u001b[0m\u001b[1;33m\u001b[0m\u001b[0m\n\u001b[0m\u001b[0;32m      7\u001b[0m \u001b[1;33m\u001b[0m\u001b[0m\n\u001b[0;32m      8\u001b[0m     \u001b[0mqueueURL\u001b[0m \u001b[1;33m=\u001b[0m \u001b[1;33m[\u001b[0m\u001b[0m_\u001b[0m\u001b[1;33m[\u001b[0m\u001b[1;36m0\u001b[0m\u001b[1;33m]\u001b[0m \u001b[1;32mfor\u001b[0m \u001b[0m_\u001b[0m \u001b[1;32min\u001b[0m \u001b[0mqueue\u001b[0m\u001b[1;33m]\u001b[0m\u001b[1;33m\u001b[0m\u001b[1;33m\u001b[0m\u001b[0m\n",
      "\u001b[1;32m<ipython-input-121-59e924a48f8d>\u001b[0m in \u001b[0;36murlExtractor\u001b[1;34m(seed, limit)\u001b[0m\n\u001b[0;32m      5\u001b[0m         \u001b[1;32mreturn\u001b[0m \u001b[1;33m[\u001b[0m\u001b[1;33m]\u001b[0m\u001b[1;33m\u001b[0m\u001b[1;33m\u001b[0m\u001b[0m\n\u001b[0;32m      6\u001b[0m \u001b[1;33m\u001b[0m\u001b[0m\n\u001b[1;32m----> 7\u001b[1;33m     \u001b[0mhtml\u001b[0m \u001b[1;33m=\u001b[0m \u001b[0mdownload\u001b[0m\u001b[1;33m(\u001b[0m\u001b[0mseed\u001b[0m\u001b[1;33m)\u001b[0m\u001b[1;33m\u001b[0m\u001b[1;33m\u001b[0m\u001b[0m\n\u001b[0m\u001b[0;32m      8\u001b[0m     \u001b[0mdom\u001b[0m \u001b[1;33m=\u001b[0m \u001b[0mBeautifulSoup\u001b[0m\u001b[1;33m(\u001b[0m\u001b[0mhtml\u001b[0m\u001b[1;33m.\u001b[0m\u001b[0mtext\u001b[0m\u001b[1;33m,\u001b[0m \u001b[1;34m\"lxml\"\u001b[0m\u001b[1;33m)\u001b[0m\u001b[1;33m\u001b[0m\u001b[1;33m\u001b[0m\u001b[0m\n\u001b[0;32m      9\u001b[0m \u001b[1;33m\u001b[0m\u001b[0m\n",
      "\u001b[1;32m<ipython-input-23-2b51de9f5784>\u001b[0m in \u001b[0;36mdownload\u001b[1;34m(url, params, retries)\u001b[0m\n\u001b[0;32m      5\u001b[0m \u001b[1;33m\u001b[0m\u001b[0m\n\u001b[0;32m      6\u001b[0m     \u001b[1;32mtry\u001b[0m\u001b[1;33m:\u001b[0m\u001b[1;33m\u001b[0m\u001b[1;33m\u001b[0m\u001b[0m\n\u001b[1;32m----> 7\u001b[1;33m         \u001b[0mresp\u001b[0m \u001b[1;33m=\u001b[0m \u001b[0mrequests\u001b[0m\u001b[1;33m.\u001b[0m\u001b[0mget\u001b[0m\u001b[1;33m(\u001b[0m\u001b[0murl\u001b[0m\u001b[1;33m,\u001b[0m \u001b[0mparams\u001b[0m\u001b[1;33m=\u001b[0m\u001b[0mparams\u001b[0m\u001b[1;33m,\u001b[0m \u001b[0mheaders\u001b[0m \u001b[1;33m=\u001b[0m \u001b[0mheader\u001b[0m\u001b[1;33m)\u001b[0m\u001b[1;33m\u001b[0m\u001b[1;33m\u001b[0m\u001b[0m\n\u001b[0m\u001b[0;32m      8\u001b[0m         \u001b[0mresp\u001b[0m\u001b[1;33m.\u001b[0m\u001b[0mraise_for_status\u001b[0m\u001b[1;33m(\u001b[0m\u001b[1;33m)\u001b[0m\u001b[1;33m\u001b[0m\u001b[1;33m\u001b[0m\u001b[0m\n\u001b[0;32m      9\u001b[0m     \u001b[1;32mexcept\u001b[0m \u001b[0mrequests\u001b[0m\u001b[1;33m.\u001b[0m\u001b[0mexceptions\u001b[0m\u001b[1;33m.\u001b[0m\u001b[0mHTTPError\u001b[0m \u001b[1;32mas\u001b[0m \u001b[0me\u001b[0m\u001b[1;33m:\u001b[0m\u001b[1;33m\u001b[0m\u001b[1;33m\u001b[0m\u001b[0m\n",
      "\u001b[1;32mC:\\ProgramData\\Anaconda3\\lib\\site-packages\\requests\\api.py\u001b[0m in \u001b[0;36mget\u001b[1;34m(url, params, **kwargs)\u001b[0m\n\u001b[0;32m     73\u001b[0m \u001b[1;33m\u001b[0m\u001b[0m\n\u001b[0;32m     74\u001b[0m     \u001b[0mkwargs\u001b[0m\u001b[1;33m.\u001b[0m\u001b[0msetdefault\u001b[0m\u001b[1;33m(\u001b[0m\u001b[1;34m'allow_redirects'\u001b[0m\u001b[1;33m,\u001b[0m \u001b[1;32mTrue\u001b[0m\u001b[1;33m)\u001b[0m\u001b[1;33m\u001b[0m\u001b[1;33m\u001b[0m\u001b[0m\n\u001b[1;32m---> 75\u001b[1;33m     \u001b[1;32mreturn\u001b[0m \u001b[0mrequest\u001b[0m\u001b[1;33m(\u001b[0m\u001b[1;34m'get'\u001b[0m\u001b[1;33m,\u001b[0m \u001b[0murl\u001b[0m\u001b[1;33m,\u001b[0m \u001b[0mparams\u001b[0m\u001b[1;33m=\u001b[0m\u001b[0mparams\u001b[0m\u001b[1;33m,\u001b[0m \u001b[1;33m**\u001b[0m\u001b[0mkwargs\u001b[0m\u001b[1;33m)\u001b[0m\u001b[1;33m\u001b[0m\u001b[1;33m\u001b[0m\u001b[0m\n\u001b[0m\u001b[0;32m     76\u001b[0m \u001b[1;33m\u001b[0m\u001b[0m\n\u001b[0;32m     77\u001b[0m \u001b[1;33m\u001b[0m\u001b[0m\n",
      "\u001b[1;32mC:\\ProgramData\\Anaconda3\\lib\\site-packages\\requests\\api.py\u001b[0m in \u001b[0;36mrequest\u001b[1;34m(method, url, **kwargs)\u001b[0m\n\u001b[0;32m     58\u001b[0m     \u001b[1;31m# cases, and look like a memory leak in others.\u001b[0m\u001b[1;33m\u001b[0m\u001b[1;33m\u001b[0m\u001b[1;33m\u001b[0m\u001b[0m\n\u001b[0;32m     59\u001b[0m     \u001b[1;32mwith\u001b[0m \u001b[0msessions\u001b[0m\u001b[1;33m.\u001b[0m\u001b[0mSession\u001b[0m\u001b[1;33m(\u001b[0m\u001b[1;33m)\u001b[0m \u001b[1;32mas\u001b[0m \u001b[0msession\u001b[0m\u001b[1;33m:\u001b[0m\u001b[1;33m\u001b[0m\u001b[1;33m\u001b[0m\u001b[0m\n\u001b[1;32m---> 60\u001b[1;33m         \u001b[1;32mreturn\u001b[0m \u001b[0msession\u001b[0m\u001b[1;33m.\u001b[0m\u001b[0mrequest\u001b[0m\u001b[1;33m(\u001b[0m\u001b[0mmethod\u001b[0m\u001b[1;33m=\u001b[0m\u001b[0mmethod\u001b[0m\u001b[1;33m,\u001b[0m \u001b[0murl\u001b[0m\u001b[1;33m=\u001b[0m\u001b[0murl\u001b[0m\u001b[1;33m,\u001b[0m \u001b[1;33m**\u001b[0m\u001b[0mkwargs\u001b[0m\u001b[1;33m)\u001b[0m\u001b[1;33m\u001b[0m\u001b[1;33m\u001b[0m\u001b[0m\n\u001b[0m\u001b[0;32m     61\u001b[0m \u001b[1;33m\u001b[0m\u001b[0m\n\u001b[0;32m     62\u001b[0m \u001b[1;33m\u001b[0m\u001b[0m\n",
      "\u001b[1;32mC:\\ProgramData\\Anaconda3\\lib\\site-packages\\requests\\sessions.py\u001b[0m in \u001b[0;36mrequest\u001b[1;34m(self, method, url, params, data, headers, cookies, files, auth, timeout, allow_redirects, proxies, hooks, stream, verify, cert, json)\u001b[0m\n\u001b[0;32m    531\u001b[0m         }\n\u001b[0;32m    532\u001b[0m         \u001b[0msend_kwargs\u001b[0m\u001b[1;33m.\u001b[0m\u001b[0mupdate\u001b[0m\u001b[1;33m(\u001b[0m\u001b[0msettings\u001b[0m\u001b[1;33m)\u001b[0m\u001b[1;33m\u001b[0m\u001b[1;33m\u001b[0m\u001b[0m\n\u001b[1;32m--> 533\u001b[1;33m         \u001b[0mresp\u001b[0m \u001b[1;33m=\u001b[0m \u001b[0mself\u001b[0m\u001b[1;33m.\u001b[0m\u001b[0msend\u001b[0m\u001b[1;33m(\u001b[0m\u001b[0mprep\u001b[0m\u001b[1;33m,\u001b[0m \u001b[1;33m**\u001b[0m\u001b[0msend_kwargs\u001b[0m\u001b[1;33m)\u001b[0m\u001b[1;33m\u001b[0m\u001b[1;33m\u001b[0m\u001b[0m\n\u001b[0m\u001b[0;32m    534\u001b[0m \u001b[1;33m\u001b[0m\u001b[0m\n\u001b[0;32m    535\u001b[0m         \u001b[1;32mreturn\u001b[0m \u001b[0mresp\u001b[0m\u001b[1;33m\u001b[0m\u001b[1;33m\u001b[0m\u001b[0m\n",
      "\u001b[1;32mC:\\ProgramData\\Anaconda3\\lib\\site-packages\\requests\\sessions.py\u001b[0m in \u001b[0;36msend\u001b[1;34m(self, request, **kwargs)\u001b[0m\n\u001b[0;32m    644\u001b[0m \u001b[1;33m\u001b[0m\u001b[0m\n\u001b[0;32m    645\u001b[0m         \u001b[1;31m# Send the request\u001b[0m\u001b[1;33m\u001b[0m\u001b[1;33m\u001b[0m\u001b[1;33m\u001b[0m\u001b[0m\n\u001b[1;32m--> 646\u001b[1;33m         \u001b[0mr\u001b[0m \u001b[1;33m=\u001b[0m \u001b[0madapter\u001b[0m\u001b[1;33m.\u001b[0m\u001b[0msend\u001b[0m\u001b[1;33m(\u001b[0m\u001b[0mrequest\u001b[0m\u001b[1;33m,\u001b[0m \u001b[1;33m**\u001b[0m\u001b[0mkwargs\u001b[0m\u001b[1;33m)\u001b[0m\u001b[1;33m\u001b[0m\u001b[1;33m\u001b[0m\u001b[0m\n\u001b[0m\u001b[0;32m    647\u001b[0m \u001b[1;33m\u001b[0m\u001b[0m\n\u001b[0;32m    648\u001b[0m         \u001b[1;31m# Total elapsed time of the request (approximately)\u001b[0m\u001b[1;33m\u001b[0m\u001b[1;33m\u001b[0m\u001b[1;33m\u001b[0m\u001b[0m\n",
      "\u001b[1;32mC:\\ProgramData\\Anaconda3\\lib\\site-packages\\requests\\adapters.py\u001b[0m in \u001b[0;36msend\u001b[1;34m(self, request, stream, timeout, verify, cert, proxies)\u001b[0m\n\u001b[0;32m    514\u001b[0m                 \u001b[1;32mraise\u001b[0m \u001b[0mSSLError\u001b[0m\u001b[1;33m(\u001b[0m\u001b[0me\u001b[0m\u001b[1;33m,\u001b[0m \u001b[0mrequest\u001b[0m\u001b[1;33m=\u001b[0m\u001b[0mrequest\u001b[0m\u001b[1;33m)\u001b[0m\u001b[1;33m\u001b[0m\u001b[1;33m\u001b[0m\u001b[0m\n\u001b[0;32m    515\u001b[0m \u001b[1;33m\u001b[0m\u001b[0m\n\u001b[1;32m--> 516\u001b[1;33m             \u001b[1;32mraise\u001b[0m \u001b[0mConnectionError\u001b[0m\u001b[1;33m(\u001b[0m\u001b[0me\u001b[0m\u001b[1;33m,\u001b[0m \u001b[0mrequest\u001b[0m\u001b[1;33m=\u001b[0m\u001b[0mrequest\u001b[0m\u001b[1;33m)\u001b[0m\u001b[1;33m\u001b[0m\u001b[1;33m\u001b[0m\u001b[0m\n\u001b[0m\u001b[0;32m    517\u001b[0m \u001b[1;33m\u001b[0m\u001b[0m\n\u001b[0;32m    518\u001b[0m         \u001b[1;32mexcept\u001b[0m \u001b[0mClosedPoolError\u001b[0m \u001b[1;32mas\u001b[0m \u001b[0me\u001b[0m\u001b[1;33m:\u001b[0m\u001b[1;33m\u001b[0m\u001b[1;33m\u001b[0m\u001b[0m\n",
      "\u001b[1;31mConnectionError\u001b[0m: HTTPConnectionPool(host='www.ceci.co.kr', port=80): Max retries exceeded with url: /article/article_detail.do?idx=1464&rtag= (Caused by NewConnectionError('<urllib3.connection.HTTPConnection object at 0x0000027AFDEC9C88>: Failed to establish a new connection: [WinError 10060] 연결된 구성원으로부터 응답이 없어 연결하지 못했거나, 호스트로부터 응답이 없어 연결이 끊어졌습니다'))"
     ]
    }
   ],
   "source": [
    "seen = list()\n",
    "\n",
    "while queue:\n",
    "    #(URL, LIMIT)\n",
    "    link = queue.pop(0)\n",
    "    seen.append(link[0])\n",
    "    links = urlExtractor(link[0], link[1])\n",
    "    \n",
    "    queueURL = [_[0] for _ in queue]\n",
    "    \n",
    "    queue.extend([_ for _ in links if _[0] not in queueURL and _ not in seen])\n",
    "    \n",
    "    print(\"{0} {1} [{2}]\".format(\">\"*link[1], link[0], len(links)))\n",
    "    \n",
    "# for link in queue:\n",
    "#     seen.append(link[0])\n",
    "#     links = urlExtractor(link[0], link[1])\n",
    "#     html = download(link)\n",
    "#     google2 = BeautifulSoup(html.content, \"lxml\")\n",
    "#     print(link, len([_[\"href\"] for _ in google2.select(\"a\") if _.has_attr(\"href\")]))"
   ]
  },
  {
   "cell_type": "code",
   "execution_count": 112,
   "metadata": {},
   "outputs": [
    {
     "data": {
      "text/plain": [
       "ParseResult(scheme='https', netloc='ko.wikipedia.org', path='/wiki/%EB%B0%95%EB%B3%B4%EC%98%81', params='', query='', fragment='')"
      ]
     },
     "execution_count": 112,
     "metadata": {},
     "output_type": "execute_result"
    }
   ],
   "source": [
    "requests.compat.urlparse(queue[0])"
   ]
  },
  {
   "cell_type": "code",
   "execution_count": 142,
   "metadata": {},
   "outputs": [
    {
     "data": {
      "text/plain": [
       "'blog.naver.com'"
      ]
     },
     "execution_count": 142,
     "metadata": {},
     "output_type": "execute_result"
    }
   ],
   "source": [
    "tofind = \"https://blog.naver.com/js2y86?Redirect=Log&logNo=221530397718\"\n",
    "requests.compat.urlparse(tofind)[1]"
   ]
  },
  {
   "cell_type": "code",
   "execution_count": 144,
   "metadata": {},
   "outputs": [
    {
     "name": "stdout",
     "output_type": "stream",
     "text": [
      "Variable        Type             Data/Info\n",
      "------------------------------------------\n",
      "BeautifulSoup   type             <class 'bs4.BeautifulSoup'>\n",
      "a               list             n=247\n",
      "daum            BeautifulSoup    <!DOCTYPE html>\\n<html cl<...>제 -->\\n</body>\\n</html>\\n\n",
      "dom             BeautifulSoup    <!--[if HTML5]><![endif]-<...>f]-->\\n</body>\\n</html>\\n\n",
      "download        function         <function download at 0x0000027AFA6CED08>\n",
      "exercise        BeautifulSoup    <html>\\n<head>\\n<style>\\n<...>/div>\\n</body>\\n</html>\\n\n",
      "google          BeautifulSoup    <!DOCTYPE html>\\n<html it<...>l{}</style></body></html>\n",
      "google2         BeautifulSoup    <!DOCTYPE html>\\n<html it<...>l{}</style></body></html>\n",
      "html            Response         <Response [200]>\n",
      "link            tuple            n=2\n",
      "links           list             n=54\n",
      "naver           BeautifulSoup    <!DOCTYPE html>\\n<html la<...> </script></body> </html>\n",
      "naver2          BeautifulSoup    <!DOCTYPE html>\\n<html la<...>ript>\\n</body>\\n</html>\\n\n",
      "newLink         str              http://example.webscrapin<...>om/places/default/index/1\n",
      "queue           list             n=29506\n",
      "queueURL        list             n=29453\n",
      "random          module           <module 'random' from 'C:<...>aconda3\\\\lib\\\\random.py'>\n",
      "requests        module           <module 'requests' from '<...>\\\\requests\\\\__init__.py'>\n",
      "seed            str              http://example.webscrapin<...>com/places/default/search\n",
      "seen            list             n=182\n",
      "threshold       int              3\n",
      "time            module           <module 'time' (built-in)>\n",
      "tofind          str              https://blog.naver.com/js<...>ct=Log&logNo=221530397718\n",
      "unseen          list             n=15\n",
      "urlExtractor    function         <function urlExtractor at 0x0000027AFD4F3D08>\n"
     ]
    }
   ],
   "source": [
    "whos"
   ]
  },
  {
   "cell_type": "code",
   "execution_count": 163,
   "metadata": {},
   "outputs": [
    {
     "name": "stdout",
     "output_type": "stream",
     "text": [
      " https://blog.naver.com/shkwon1128?Redirect=Log&logNo=221530738046 [32]\n",
      " https://blog.naver.com/js2y86?Redirect=Log&logNo=221530397718 [32]\n",
      " https://blog.naver.com/dlqlwm14?Redirect=Log&logNo=221529807195 [32]\n",
      " https://blog.naver.com/lyj0088?Redirect=Log&logNo=221530708253 [33]\n",
      " https://komartin.blog.me/221530734469 [0]\n",
      "> https://blog.naver.com [0]\n",
      "> https://blog.naver.com/prologue/PrologueList.nhn?blogId=shkwon1128 [78]\n",
      "> https://blog.naver.com/MyBlog.nhn [0]\n",
      "> https://blog.naver.com/prologue/PrologueList.nhn?blogId=shkwon1128 [78]\n",
      "> https://blog.naver.com/prologue/PrologueList.nhn?blogId=shkwon1128&skinType=&skinId=&from=menu [78]\n",
      "> https://blog.naver.com/PostList.nhn?blogId=shkwon1128&skinType=&skinId=&from=menu [27]\n",
      "> https://blog.naver.com/library/LibraryView.nhn?blogId=shkwon1128&skinType=&skinId=&from=menu [39]\n",
      "> https://blog.naver.com/PostList.nhn?blogId=shkwon1128&categoryNo=37&from=postList [30]\n",
      "> https://blog.naver.com/shkwon1128 [78]\n",
      "> https://blog.naver.com/shkwon1128 [78]\n",
      "> https://blog.naver.com/PostList.nhn?blogId=shkwon1128&categoryNo=37&from=postList&parentCategoryNo=0 [30]\n",
      "> https://blog.naver.com/PostList.nhn?blogId=shkwon1128&categoryNo=37&from=postList&parentCategoryNo=0 [30]\n",
      "> https://blog.naver.com/library/LibraryView.nhn?blogId=shkwon1128 [39]\n",
      "> https://blog.naver.com/prologue/PrologueList.nhn?blogId=js2y86 [0]\n",
      "> https://blog.naver.com/prologue/PrologueList.nhn?blogId=js2y86&skinType=&skinId=&from=menu [0]\n",
      "> https://blog.naver.com/PostList.nhn?blogId=js2y86&categoryNo=1&skinType=&skinId=&from=menu [0]\n",
      "> https://blog.naver.com/PostList.nhn?blogId=js2y86&categoryNo=8&skinType=&skinId=&from=menu [0]\n",
      "> https://blog.naver.com/PostList.nhn?blogId=js2y86&categoryNo=27&skinType=&skinId=&from=menu [0]\n",
      "> https://blog.naver.com/PostList.nhn?blogId=js2y86&categoryNo=71&skinType=&skinId=&from=menu [0]\n",
      "> https://blog.naver.com/PostList.nhn?blogId=js2y86&categoryNo=62&skinType=&skinId=&from=menu [0]\n",
      "> https://blog.naver.com/memo/MemologPostList.nhn?blogId=js2y86&Redirect=MemoList&skinType=&skinId=&from=menu [0]\n",
      "> https://blog.naver.com/BlogPrivateTagCloud.nhn?blogId=js2y86&Redirect=Dtagcloud&skinType=&skinId=&from=menu [0]\n",
      "> https://blog.naver.com/prologue/PrologueList.nhn?blogId=js2y86&categoryNo=1 [0]\n",
      "> https://blog.naver.com/PostList.nhn?blogId=js2y86&categoryNo=19&from=postList [0]\n",
      "> https://blog.naver.com/js2y86 [37]\n",
      "> https://blog.naver.com/js2y86 [37]\n",
      "> https://blog.naver.com/PostList.nhn?blogId=js2y86&categoryNo=19&from=postList&parentCategoryNo=0 [0]\n",
      "> https://blog.naver.com/PostList.nhn?blogId=js2y86&categoryNo=19&from=postList&parentCategoryNo=0 [0]\n",
      "> https://blog.naver.com/PostList.nhn?blogId=dlqlwm14 [0]\n",
      "> https://blog.naver.com/prologue/PrologueList.nhn?blogId=dlqlwm14&skinType=&skinId=&from=menu [0]\n",
      "> https://blog.naver.com/PostList.nhn?blogId=dlqlwm14&skinType=&skinId=&from=menu [0]\n",
      "> https://blog.naver.com/PostList.nhn?blogId=dlqlwm14&categoryNo=20&skinType=&skinId=&from=menu [0]\n",
      "> https://blog.naver.com/PostList.nhn?blogId=dlqlwm14&categoryNo=1&parentCategoryNo=1&skinType=&skinId=&from=menu [0]\n",
      "> https://blog.naver.com/PostList.nhn?blogId=dlqlwm14&categoryNo=27&parentCategoryNo=27&skinType=&skinId=&from=menu [0]\n",
      "> https://blog.naver.com/PostList.nhn?blogId=dlqlwm14&categoryNo=10&parentCategoryNo=10&skinType=&skinId=&from=menu [0]\n",
      "> https://blog.naver.com/mapview/MapView.nhn?blogId=dlqlwm14&skinType=&skinId=&from=menu [17]\n",
      "> https://blog.naver.com/PostView.nhn?blogId=dlqlwm14&logNo=220543334886&categoryNo=20&parentCategoryNo=-1&viewDate=&currentPage=&postListTopCurrentPage=&isAfterWrite=true [0]\n",
      "> https://blog.naver.com/PostView.nhn?blogId=dlqlwm14&logNo=220428316411&categoryNo=20&parentCategoryNo=-1&viewDate=&currentPage=&postListTopCurrentPage=&isAfterWrite=true [0]\n",
      "> https://blog.naver.com/PostView.nhn?blogId=dlqlwm14&logNo=220274186328&categoryNo=20&parentCategoryNo=-1&viewDate=&currentPage=&postListTopCurrentPage=&isAfterWrite=true [0]\n",
      "> https://blog.naver.com/PostList.nhn?blogId=dlqlwm14&categoryNo=24&from=postList [0]\n",
      "> https://blog.naver.com/dlqlwm14 [30]\n",
      "> https://blog.naver.com/dlqlwm14 [30]\n",
      "> https://blog.naver.com/PostList.nhn?blogId=dlqlwm14&categoryNo=24&from=postList&parentCategoryNo=0 [0]\n",
      "> https://blog.naver.com/PostList.nhn?blogId=dlqlwm14&categoryNo=24&from=postList&parentCategoryNo=0 [0]\n",
      "> https://blog.naver.com/prologue/PrologueList.nhn?blogId=lyj0088 [0]\n",
      "> https://blog.naver.com/prologue/PrologueList.nhn?blogId=lyj0088&skinType=&skinId=&from=menu [0]\n",
      "> https://blog.naver.com/PostList.nhn?blogId=lyj0088&skinType=&skinId=&from=menu [0]\n",
      "> https://blog.naver.com/PostList.nhn?blogId=lyj0088&categoryNo=205&parentCategoryNo=205&skinType=&skinId=&from=menu [0]\n",
      "> https://blog.naver.com/PostList.nhn?blogId=lyj0088&categoryNo=126&skinType=&skinId=&from=menu [0]\n",
      "> https://blog.naver.com/mapview/MapView.nhn?blogId=lyj0088&skinType=&skinId=&from=menu [19]\n",
      "> https://blog.naver.com/library/LibraryView.nhn?blogId=lyj0088&skinType=&skinId=&from=menu [29]\n",
      "> https://blog.naver.com/memo/MemologPostList.nhn?blogId=lyj0088&Redirect=MemoList&skinType=&skinId=&from=menu [0]\n",
      "> https://blog.naver.com/BlogPrivateTagCloud.nhn?blogId=lyj0088&Redirect=Dtagcloud&skinType=&skinId=&from=menu [0]\n",
      "> https://blog.naver.com/PostView.nhn?blogId=lyj0088&logNo=60195993223&categoryNo=81&parentCategoryNo=-1&viewDate=&currentPage=&postListTopCurrentPage=&isAfterWrite=true [0]\n",
      "> https://blog.naver.com/PostView.nhn?blogId=lyj0088&logNo=60185939163&categoryNo=146&parentCategoryNo=-1&viewDate=&currentPage=&postListTopCurrentPage=&isAfterWrite=true [0]\n",
      "> https://blog.naver.com/PostList.nhn?blogId=lyj0088&categoryNo=137&from=postList [0]\n",
      "> https://blog.naver.com/lyj0088 [123]\n",
      "> https://blog.naver.com/lyj0088 [123]\n",
      "> https://blog.naver.com/PostList.nhn?blogId=lyj0088&categoryNo=137&from=postList&parentCategoryNo=0 [0]\n",
      "> https://blog.naver.com/PostList.nhn?blogId=lyj0088&categoryNo=137&from=postList&parentCategoryNo=0 [0]\n",
      "> https://blog.naver.com/prologue/PrologueList.nhn?blogId=lyj0088 [0]\n",
      ">> https://blog.naver.com/PostView.nhn?blogId=shkwon1128&logNo=221531564221&redirect=Dlog [29]\n",
      ">> https://blog.naver.com/PostView.nhn?blogId=shkwon1128&logNo=221531564221&redirect=Dlog [29]\n",
      ">> https://blog.naver.com/PostView.nhn?blogId=shkwon1128&logNo=221531344187&redirect=Dlog [29]\n",
      ">> https://blog.naver.com/PostView.nhn?blogId=shkwon1128&logNo=221531344187&redirect=Dlog [29]\n",
      ">> https://blog.naver.com/PostView.nhn?blogId=shkwon1128&logNo=221524608145&redirect=Dlog [30]\n",
      ">> https://blog.naver.com/PostView.nhn?blogId=shkwon1128&logNo=221524608145&redirect=Dlog [30]\n",
      ">> https://blog.naver.com/PostView.nhn?blogId=shkwon1128&logNo=221519971769&redirect=Dlog [29]\n",
      ">> https://blog.naver.com/PostView.nhn?blogId=shkwon1128&logNo=221519971769&redirect=Dlog [29]\n",
      ">> https://blog.naver.com/PostView.nhn?blogId=shkwon1128&logNo=221516141442&redirect=Dlog [33]\n",
      ">> https://blog.naver.com/PostView.nhn?blogId=shkwon1128&logNo=221516141442&redirect=Dlog [33]\n"
     ]
    },
    {
     "ename": "KeyboardInterrupt",
     "evalue": "",
     "output_type": "error",
     "traceback": [
      "\u001b[1;31m---------------------------------------------------------------------------\u001b[0m",
      "\u001b[1;31mKeyboardInterrupt\u001b[0m                         Traceback (most recent call last)",
      "\u001b[1;32m<ipython-input-163-553ed8cb544e>\u001b[0m in \u001b[0;36m<module>\u001b[1;34m\u001b[0m\n\u001b[0;32m     52\u001b[0m     \u001b[0mlink\u001b[0m \u001b[1;33m=\u001b[0m \u001b[0mqueue\u001b[0m\u001b[1;33m.\u001b[0m\u001b[0mpop\u001b[0m\u001b[1;33m(\u001b[0m\u001b[1;36m0\u001b[0m\u001b[1;33m)\u001b[0m\u001b[1;33m\u001b[0m\u001b[1;33m\u001b[0m\u001b[0m\n\u001b[0;32m     53\u001b[0m     \u001b[0mseen\u001b[0m\u001b[1;33m.\u001b[0m\u001b[0mappend\u001b[0m\u001b[1;33m(\u001b[0m\u001b[0mlink\u001b[0m\u001b[1;33m[\u001b[0m\u001b[1;36m0\u001b[0m\u001b[1;33m]\u001b[0m\u001b[1;33m)\u001b[0m\u001b[1;33m\u001b[0m\u001b[1;33m\u001b[0m\u001b[0m\n\u001b[1;32m---> 54\u001b[1;33m     \u001b[0mlinks\u001b[0m \u001b[1;33m=\u001b[0m \u001b[0murlExtractor\u001b[0m\u001b[1;33m(\u001b[0m\u001b[0mlink\u001b[0m\u001b[1;33m[\u001b[0m\u001b[1;36m0\u001b[0m\u001b[1;33m]\u001b[0m\u001b[1;33m,\u001b[0m \u001b[0mlink\u001b[0m\u001b[1;33m[\u001b[0m\u001b[1;36m1\u001b[0m\u001b[1;33m]\u001b[0m\u001b[1;33m)\u001b[0m\u001b[1;33m\u001b[0m\u001b[1;33m\u001b[0m\u001b[0m\n\u001b[0m\u001b[0;32m     55\u001b[0m \u001b[1;33m\u001b[0m\u001b[0m\n\u001b[0;32m     56\u001b[0m     \u001b[0mqueueURL\u001b[0m \u001b[1;33m=\u001b[0m \u001b[1;33m[\u001b[0m\u001b[0m_\u001b[0m\u001b[1;33m[\u001b[0m\u001b[1;36m0\u001b[0m\u001b[1;33m]\u001b[0m \u001b[1;32mfor\u001b[0m \u001b[0m_\u001b[0m \u001b[1;32min\u001b[0m \u001b[0mqueue\u001b[0m\u001b[1;33m]\u001b[0m\u001b[1;33m\u001b[0m\u001b[1;33m\u001b[0m\u001b[0m\n",
      "\u001b[1;32m<ipython-input-163-553ed8cb544e>\u001b[0m in \u001b[0;36murlExtractor\u001b[1;34m(seed, limit)\u001b[0m\n\u001b[0;32m     23\u001b[0m     \u001b[0mhtml\u001b[0m \u001b[1;33m=\u001b[0m \u001b[0mdownload\u001b[0m\u001b[1;33m(\u001b[0m\u001b[0mrequests\u001b[0m\u001b[1;33m.\u001b[0m\u001b[0mcompat\u001b[0m\u001b[1;33m.\u001b[0m\u001b[0murljoin\u001b[0m\u001b[1;33m(\u001b[0m\u001b[0mseed\u001b[0m\u001b[1;33m,\u001b[0m \u001b[0miframe\u001b[0m\u001b[1;33m[\u001b[0m\u001b[1;34m\"src\"\u001b[0m\u001b[1;33m]\u001b[0m\u001b[1;33m)\u001b[0m\u001b[1;33m)\u001b[0m\u001b[1;33m\u001b[0m\u001b[1;33m\u001b[0m\u001b[0m\n\u001b[0;32m     24\u001b[0m \u001b[1;33m\u001b[0m\u001b[0m\n\u001b[1;32m---> 25\u001b[1;33m     \u001b[0mdom\u001b[0m \u001b[1;33m=\u001b[0m \u001b[0mBeautifulSoup\u001b[0m\u001b[1;33m(\u001b[0m\u001b[0mhtml\u001b[0m\u001b[1;33m.\u001b[0m\u001b[0mtext\u001b[0m\u001b[1;33m,\u001b[0m \u001b[1;34m\"lxml\"\u001b[0m\u001b[1;33m)\u001b[0m\u001b[1;33m\u001b[0m\u001b[1;33m\u001b[0m\u001b[0m\n\u001b[0m\u001b[0;32m     26\u001b[0m \u001b[1;33m\u001b[0m\u001b[0m\n\u001b[0;32m     27\u001b[0m     \u001b[0mlinks\u001b[0m \u001b[1;33m=\u001b[0m \u001b[1;33m[\u001b[0m\u001b[0m_\u001b[0m\u001b[1;33m[\u001b[0m\u001b[1;34m\"href\"\u001b[0m\u001b[1;33m]\u001b[0m \u001b[1;32mfor\u001b[0m \u001b[0m_\u001b[0m \u001b[1;32min\u001b[0m \u001b[0mdom\u001b[0m\u001b[1;33m.\u001b[0m\u001b[0mselect\u001b[0m\u001b[1;33m(\u001b[0m\u001b[1;34m\"a\"\u001b[0m\u001b[1;33m)\u001b[0m \u001b[1;32mif\u001b[0m \u001b[0m_\u001b[0m\u001b[1;33m.\u001b[0m\u001b[0mhas_attr\u001b[0m\u001b[1;33m(\u001b[0m\u001b[1;34m\"href\"\u001b[0m\u001b[1;33m)\u001b[0m\u001b[1;33m]\u001b[0m  \u001b[1;31m#핵심\u001b[0m\u001b[1;33m\u001b[0m\u001b[1;33m\u001b[0m\u001b[0m\n",
      "\u001b[1;32mC:\\ProgramData\\Anaconda3\\lib\\site-packages\\bs4\\__init__.py\u001b[0m in \u001b[0;36m__init__\u001b[1;34m(self, markup, features, builder, parse_only, from_encoding, exclude_encodings, **kwargs)\u001b[0m\n\u001b[0;32m    279\u001b[0m             \u001b[0mself\u001b[0m\u001b[1;33m.\u001b[0m\u001b[0mreset\u001b[0m\u001b[1;33m(\u001b[0m\u001b[1;33m)\u001b[0m\u001b[1;33m\u001b[0m\u001b[1;33m\u001b[0m\u001b[0m\n\u001b[0;32m    280\u001b[0m             \u001b[1;32mtry\u001b[0m\u001b[1;33m:\u001b[0m\u001b[1;33m\u001b[0m\u001b[1;33m\u001b[0m\u001b[0m\n\u001b[1;32m--> 281\u001b[1;33m                 \u001b[0mself\u001b[0m\u001b[1;33m.\u001b[0m\u001b[0m_feed\u001b[0m\u001b[1;33m(\u001b[0m\u001b[1;33m)\u001b[0m\u001b[1;33m\u001b[0m\u001b[1;33m\u001b[0m\u001b[0m\n\u001b[0m\u001b[0;32m    282\u001b[0m                 \u001b[1;32mbreak\u001b[0m\u001b[1;33m\u001b[0m\u001b[1;33m\u001b[0m\u001b[0m\n\u001b[0;32m    283\u001b[0m             \u001b[1;32mexcept\u001b[0m \u001b[0mParserRejectedMarkup\u001b[0m\u001b[1;33m:\u001b[0m\u001b[1;33m\u001b[0m\u001b[1;33m\u001b[0m\u001b[0m\n",
      "\u001b[1;32mC:\\ProgramData\\Anaconda3\\lib\\site-packages\\bs4\\__init__.py\u001b[0m in \u001b[0;36m_feed\u001b[1;34m(self)\u001b[0m\n\u001b[0;32m    340\u001b[0m         \u001b[0mself\u001b[0m\u001b[1;33m.\u001b[0m\u001b[0mbuilder\u001b[0m\u001b[1;33m.\u001b[0m\u001b[0mreset\u001b[0m\u001b[1;33m(\u001b[0m\u001b[1;33m)\u001b[0m\u001b[1;33m\u001b[0m\u001b[1;33m\u001b[0m\u001b[0m\n\u001b[0;32m    341\u001b[0m \u001b[1;33m\u001b[0m\u001b[0m\n\u001b[1;32m--> 342\u001b[1;33m         \u001b[0mself\u001b[0m\u001b[1;33m.\u001b[0m\u001b[0mbuilder\u001b[0m\u001b[1;33m.\u001b[0m\u001b[0mfeed\u001b[0m\u001b[1;33m(\u001b[0m\u001b[0mself\u001b[0m\u001b[1;33m.\u001b[0m\u001b[0mmarkup\u001b[0m\u001b[1;33m)\u001b[0m\u001b[1;33m\u001b[0m\u001b[1;33m\u001b[0m\u001b[0m\n\u001b[0m\u001b[0;32m    343\u001b[0m         \u001b[1;31m# Close out any unfinished strings and close all the open tags.\u001b[0m\u001b[1;33m\u001b[0m\u001b[1;33m\u001b[0m\u001b[1;33m\u001b[0m\u001b[0m\n\u001b[0;32m    344\u001b[0m         \u001b[0mself\u001b[0m\u001b[1;33m.\u001b[0m\u001b[0mendData\u001b[0m\u001b[1;33m(\u001b[0m\u001b[1;33m)\u001b[0m\u001b[1;33m\u001b[0m\u001b[1;33m\u001b[0m\u001b[0m\n",
      "\u001b[1;32mC:\\ProgramData\\Anaconda3\\lib\\site-packages\\bs4\\builder\\_lxml.py\u001b[0m in \u001b[0;36mfeed\u001b[1;34m(self, markup)\u001b[0m\n\u001b[0;32m    285\u001b[0m         \u001b[1;32mtry\u001b[0m\u001b[1;33m:\u001b[0m\u001b[1;33m\u001b[0m\u001b[1;33m\u001b[0m\u001b[0m\n\u001b[0;32m    286\u001b[0m             \u001b[0mself\u001b[0m\u001b[1;33m.\u001b[0m\u001b[0mparser\u001b[0m \u001b[1;33m=\u001b[0m \u001b[0mself\u001b[0m\u001b[1;33m.\u001b[0m\u001b[0mparser_for\u001b[0m\u001b[1;33m(\u001b[0m\u001b[0mencoding\u001b[0m\u001b[1;33m)\u001b[0m\u001b[1;33m\u001b[0m\u001b[1;33m\u001b[0m\u001b[0m\n\u001b[1;32m--> 287\u001b[1;33m             \u001b[0mself\u001b[0m\u001b[1;33m.\u001b[0m\u001b[0mparser\u001b[0m\u001b[1;33m.\u001b[0m\u001b[0mfeed\u001b[0m\u001b[1;33m(\u001b[0m\u001b[0mmarkup\u001b[0m\u001b[1;33m)\u001b[0m\u001b[1;33m\u001b[0m\u001b[1;33m\u001b[0m\u001b[0m\n\u001b[0m\u001b[0;32m    288\u001b[0m             \u001b[0mself\u001b[0m\u001b[1;33m.\u001b[0m\u001b[0mparser\u001b[0m\u001b[1;33m.\u001b[0m\u001b[0mclose\u001b[0m\u001b[1;33m(\u001b[0m\u001b[1;33m)\u001b[0m\u001b[1;33m\u001b[0m\u001b[1;33m\u001b[0m\u001b[0m\n\u001b[0;32m    289\u001b[0m         \u001b[1;32mexcept\u001b[0m \u001b[1;33m(\u001b[0m\u001b[0mUnicodeDecodeError\u001b[0m\u001b[1;33m,\u001b[0m \u001b[0mLookupError\u001b[0m\u001b[1;33m,\u001b[0m \u001b[0metree\u001b[0m\u001b[1;33m.\u001b[0m\u001b[0mParserError\u001b[0m\u001b[1;33m)\u001b[0m \u001b[1;32mas\u001b[0m \u001b[0me\u001b[0m\u001b[1;33m:\u001b[0m\u001b[1;33m\u001b[0m\u001b[1;33m\u001b[0m\u001b[0m\n",
      "\u001b[1;32msrc/lxml/parser.pxi\u001b[0m in \u001b[0;36mlxml.etree._FeedParser.feed\u001b[1;34m()\u001b[0m\n",
      "\u001b[1;32msrc/lxml/parser.pxi\u001b[0m in \u001b[0;36mlxml.etree._FeedParser.feed\u001b[1;34m()\u001b[0m\n",
      "\u001b[1;32msrc/lxml/parsertarget.pxi\u001b[0m in \u001b[0;36mlxml.etree._TargetParserContext._handleParseResult\u001b[1;34m()\u001b[0m\n",
      "\u001b[1;32msrc/lxml/parsertarget.pxi\u001b[0m in \u001b[0;36mlxml.etree._TargetParserContext._handleParseResult\u001b[1;34m()\u001b[0m\n",
      "\u001b[1;32msrc/lxml/etree.pyx\u001b[0m in \u001b[0;36mlxml.etree._ExceptionContext._raise_if_stored\u001b[1;34m()\u001b[0m\n",
      "\u001b[1;32msrc/lxml/saxparser.pxi\u001b[0m in \u001b[0;36mlxml.etree._handleSaxEndNoNs\u001b[1;34m()\u001b[0m\n",
      "\u001b[1;32msrc/lxml/parsertarget.pxi\u001b[0m in \u001b[0;36mlxml.etree._PythonSaxParserTarget._handleSaxEnd\u001b[1;34m()\u001b[0m\n",
      "\u001b[1;32mC:\\ProgramData\\Anaconda3\\lib\\site-packages\\bs4\\builder\\_lxml.py\u001b[0m in \u001b[0;36mend\u001b[1;34m(self, name)\u001b[0m\n\u001b[0;32m    230\u001b[0m \u001b[1;33m\u001b[0m\u001b[0m\n\u001b[0;32m    231\u001b[0m     \u001b[1;32mdef\u001b[0m \u001b[0mend\u001b[0m\u001b[1;33m(\u001b[0m\u001b[0mself\u001b[0m\u001b[1;33m,\u001b[0m \u001b[0mname\u001b[0m\u001b[1;33m)\u001b[0m\u001b[1;33m:\u001b[0m\u001b[1;33m\u001b[0m\u001b[1;33m\u001b[0m\u001b[0m\n\u001b[1;32m--> 232\u001b[1;33m         \u001b[0mself\u001b[0m\u001b[1;33m.\u001b[0m\u001b[0msoup\u001b[0m\u001b[1;33m.\u001b[0m\u001b[0mendData\u001b[0m\u001b[1;33m(\u001b[0m\u001b[1;33m)\u001b[0m\u001b[1;33m\u001b[0m\u001b[1;33m\u001b[0m\u001b[0m\n\u001b[0m\u001b[0;32m    233\u001b[0m         \u001b[0mcompleted_tag\u001b[0m \u001b[1;33m=\u001b[0m \u001b[0mself\u001b[0m\u001b[1;33m.\u001b[0m\u001b[0msoup\u001b[0m\u001b[1;33m.\u001b[0m\u001b[0mtagStack\u001b[0m\u001b[1;33m[\u001b[0m\u001b[1;33m-\u001b[0m\u001b[1;36m1\u001b[0m\u001b[1;33m]\u001b[0m\u001b[1;33m\u001b[0m\u001b[1;33m\u001b[0m\u001b[0m\n\u001b[0;32m    234\u001b[0m         \u001b[0mnamespace\u001b[0m\u001b[1;33m,\u001b[0m \u001b[0mname\u001b[0m \u001b[1;33m=\u001b[0m \u001b[0mself\u001b[0m\u001b[1;33m.\u001b[0m\u001b[0m_getNsTag\u001b[0m\u001b[1;33m(\u001b[0m\u001b[0mname\u001b[0m\u001b[1;33m)\u001b[0m\u001b[1;33m\u001b[0m\u001b[1;33m\u001b[0m\u001b[0m\n",
      "\u001b[1;32mC:\\ProgramData\\Anaconda3\\lib\\site-packages\\bs4\\__init__.py\u001b[0m in \u001b[0;36mendData\u001b[1;34m(self, containerClass)\u001b[0m\n\u001b[0;32m    400\u001b[0m                     \u001b[1;32mif\u001b[0m \u001b[0mi\u001b[0m \u001b[1;32mnot\u001b[0m \u001b[1;32min\u001b[0m \u001b[0mself\u001b[0m\u001b[1;33m.\u001b[0m\u001b[0mASCII_SPACES\u001b[0m\u001b[1;33m:\u001b[0m\u001b[1;33m\u001b[0m\u001b[1;33m\u001b[0m\u001b[0m\n\u001b[0;32m    401\u001b[0m                         \u001b[0mstrippable\u001b[0m \u001b[1;33m=\u001b[0m \u001b[1;32mFalse\u001b[0m\u001b[1;33m\u001b[0m\u001b[1;33m\u001b[0m\u001b[0m\n\u001b[1;32m--> 402\u001b[1;33m                         \u001b[1;32mbreak\u001b[0m\u001b[1;33m\u001b[0m\u001b[1;33m\u001b[0m\u001b[0m\n\u001b[0m\u001b[0;32m    403\u001b[0m                 \u001b[1;32mif\u001b[0m \u001b[0mstrippable\u001b[0m\u001b[1;33m:\u001b[0m\u001b[1;33m\u001b[0m\u001b[1;33m\u001b[0m\u001b[0m\n\u001b[0;32m    404\u001b[0m                     \u001b[1;32mif\u001b[0m \u001b[1;34m'\\n'\u001b[0m \u001b[1;32min\u001b[0m \u001b[0mcurrent_data\u001b[0m\u001b[1;33m:\u001b[0m\u001b[1;33m\u001b[0m\u001b[1;33m\u001b[0m\u001b[0m\n",
      "\u001b[1;31mKeyboardInterrupt\u001b[0m: "
     ]
    }
   ],
   "source": [
    "html = download(\"https://search.naver.com/search.naver\", {\"query\":\"박보영\"}, {\"where\":\"post\"})\n",
    "dom = BeautifulSoup(html.text, \"lxml\")\n",
    "#print(naver2)\n",
    "queue = [(_[\"href\"], 0) for _ in dom.select(\"dt > a.sh_blog_title\")]\n",
    "\n",
    "\n",
    "#seed = \"https://blog.naver.com/js2y86/221530397718\"\n",
    "\n",
    "threshold = 3\n",
    "\n",
    "def urlExtractor(seed, limit):\n",
    "    if limit > threshold:\n",
    "         return []\n",
    "    \n",
    "    html = download(seed)\n",
    "    dom = BeautifulSoup(html.text, \"lxml\")\n",
    "    \n",
    "    iframe = dom.select_one(\"iframe\")\n",
    "    \n",
    "    if not iframe or not iframe.has_attr(\"src\"):\n",
    "        return []\n",
    "    \n",
    "    html = download(requests.compat.urljoin(seed, iframe[\"src\"]))\n",
    "    \n",
    "    dom = BeautifulSoup(html.text, \"lxml\")\n",
    "    \n",
    "    links = [_[\"href\"] for _ in dom.select(\"a\") if _.has_attr(\"href\")]  #핵심\n",
    "    \n",
    "    unseen = list()\n",
    "    \n",
    "    for link in links:\n",
    "        if len(link) > 1 and link[0] == \"/\":\n",
    "            #print(link)\n",
    "            newLink = requests.compat.urljoin(seed, link)\n",
    "            if newLink not in unseen:\n",
    "                unseen.append((newLink, limit+1))\n",
    "#             else:\n",
    "#                 print(\"Skipped2\", link)\n",
    "        elif link.startswith(\"http\"):\n",
    "            unseen.append((link, limit+1))\n",
    "#         else:\n",
    "#             print(\"Skipped1\", link)\n",
    "    \n",
    "#     print(\"{0} [{1}]\".format(seed, len(unseen)))\n",
    "                \n",
    "    return unseen\n",
    "                \n",
    "seen = list()\n",
    "\n",
    "for link in queue:\n",
    "    #(URL, LIMIT)\n",
    "    link = queue.pop(0)\n",
    "    seen.append(link[0])\n",
    "    links = urlExtractor(link[0], link[1])\n",
    "    \n",
    "    queueURL = [_[0] for _ in queue]\n",
    "    \n",
    "    queue.extend([_ for _ in links if _[0] not in queueURL and _ not in seen and requests.compat.urlparse(_[0])[1] == \"blog.naver.com\"])\n",
    "    \n",
    "    print(\"{0} {1} [{2}]\".format(\">\"*link[1], link[0], len(links)))"
   ]
  },
  {
   "cell_type": "code",
   "execution_count": null,
   "metadata": {},
   "outputs": [],
   "source": []
  }
 ],
 "metadata": {
  "kernelspec": {
   "display_name": "Python 3",
   "language": "python",
   "name": "python3"
  },
  "language_info": {
   "codemirror_mode": {
    "name": "ipython",
    "version": 3
   },
   "file_extension": ".py",
   "mimetype": "text/x-python",
   "name": "python",
   "nbconvert_exporter": "python",
   "pygments_lexer": "ipython3",
   "version": "3.6.8"
  }
 },
 "nbformat": 4,
 "nbformat_minor": 2
}
