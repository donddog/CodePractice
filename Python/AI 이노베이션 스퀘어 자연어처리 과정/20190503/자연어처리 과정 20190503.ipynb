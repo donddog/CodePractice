{
 "cells": [
  {
   "cell_type": "code",
   "execution_count": 16,
   "metadata": {},
   "outputs": [
    {
     "name": "stdout",
     "output_type": "stream",
     "text": [
      "Requirement already satisfied: beautifulsoup4 in c:\\users\\user\\anaconda3\\lib\\site-packages (4.7.1)\n",
      "Requirement already satisfied: soupsieve>=1.2 in c:\\users\\user\\anaconda3\\lib\\site-packages (from beautifulsoup4) (1.8)\n"
     ]
    }
   ],
   "source": [
    "!pip install beautifulsoup4"
   ]
  },
  {
   "cell_type": "code",
   "execution_count": 7,
   "metadata": {},
   "outputs": [],
   "source": [
    "html = \"\"\"\n",
    "<html>\n",
    "    <head></head>\n",
    "    <body>\n",
    "        <div id=\"result\">\n",
    "            <p class=\"row\">\n",
    "                <a class=\"red\">go to page1</a>\n",
    "                <a class=\"blue\">go to page2</a>\n",
    "            </p>\n",
    "        </div>\n",
    "    </body>\n",
    "</html>\n",
    "\"\"\""
   ]
  },
  {
   "cell_type": "code",
   "execution_count": 8,
   "metadata": {},
   "outputs": [],
   "source": [
    "from bs4 import BeautifulSoup\n",
    "\n",
    "dom = BeautifulSoup(html, \"lxml\")"
   ]
  },
  {
   "cell_type": "code",
   "execution_count": 4,
   "metadata": {},
   "outputs": [
    {
     "data": {
      "text/plain": [
       "(bs4.element.Tag, bs4.element.Tag)"
      ]
     },
     "execution_count": 4,
     "metadata": {},
     "output_type": "execute_result"
    }
   ],
   "source": [
    "type(dom.html.head), type(dom.html)"
   ]
  },
  {
   "cell_type": "code",
   "execution_count": 5,
   "metadata": {},
   "outputs": [
    {
     "data": {
      "text/plain": [
       "(<a class=\"red\">go to page1</a>, <a class=\"red\">go to page1</a>)"
      ]
     },
     "execution_count": 5,
     "metadata": {},
     "output_type": "execute_result"
    }
   ],
   "source": [
    "dom.a, dom.find('a')"
   ]
  },
  {
   "cell_type": "code",
   "execution_count": 6,
   "metadata": {},
   "outputs": [
    {
     "name": "stdout",
     "output_type": "stream",
     "text": [
      "a ['red'] go to page1\n",
      "a ['blue'] go to page2\n"
     ]
    }
   ],
   "source": [
    "for tag in dom.find_all('a'):\n",
    "    print(tag.name, tag['class'], tag.text)"
   ]
  },
  {
   "cell_type": "code",
   "execution_count": 18,
   "metadata": {},
   "outputs": [
    {
     "data": {
      "text/plain": [
       "'<html>\\n <head>\\n </head>\\n <body>\\n  <div>\\n   <p>\\n    <a>\\n     go to page\\n    </a>\\n   </p>\\n  </div>\\n </body>\\n</html>\\n'"
      ]
     },
     "execution_count": 18,
     "metadata": {},
     "output_type": "execute_result"
    }
   ],
   "source": [
    "dom.prettify()"
   ]
  },
  {
   "cell_type": "code",
   "execution_count": 28,
   "metadata": {},
   "outputs": [
    {
     "data": {
      "text/plain": [
       "(<p>\n",
       " <a>go to page</a>\n",
       " </p>, <p>\n",
       " <a>go to page</a>\n",
       " </p>, ['\\n', <a>go to page</a>, '\\n'])"
      ]
     },
     "execution_count": 28,
     "metadata": {},
     "output_type": "execute_result"
    }
   ],
   "source": [
    "dom.html.body.p, dom.p, [_ for _ in dom.p.children]"
   ]
  },
  {
   "cell_type": "code",
   "execution_count": 7,
   "metadata": {},
   "outputs": [
    {
     "data": {
      "text/plain": [
       "[<div id=\"result\">\n",
       " <p class=\"row\">\n",
       " <a class=\"red\">go to page1</a>\n",
       " <a class=\"blue\">go to page2</a>\n",
       " </p>\n",
       " </div>]"
      ]
     },
     "execution_count": 7,
     "metadata": {},
     "output_type": "execute_result"
    }
   ],
   "source": [
    "dom.find_all('', {'id':'result'})"
   ]
  },
  {
   "cell_type": "code",
   "execution_count": 29,
   "metadata": {},
   "outputs": [
    {
     "name": "stdout",
     "output_type": "stream",
     "text": [
      "Not found\n"
     ]
    }
   ],
   "source": [
    "type(dom.div), type(dom.span)\n",
    "try:\n",
    "    dom.span.attr\n",
    "    dom.h1.text\n",
    "except AttributeError as e:\n",
    "    print(\"Not found\")"
   ]
  },
  {
   "cell_type": "markdown",
   "metadata": {},
   "source": [
    "### http://pythonscraping.com/pages/page3.html (Test Url)"
   ]
  },
  {
   "cell_type": "code",
   "execution_count": 4,
   "metadata": {},
   "outputs": [],
   "source": [
    "from urllib import parse\n",
    "import requests\n",
    "\n",
    "header = {'user-agent':'Mozilla/5.0 (Windows NT 10.0; Win64; x64) AppleWebKit/537.36 (KHTML, like Gecko) Chrome/73.0.3683.103 Safari/537.36'}\n",
    "\n",
    "def download(url, params={}, retries=3):\n",
    "    resp = None\n",
    "\n",
    "    try:\n",
    "        resp = requests.get(url, params=params, headers = header)\n",
    "        resp.raise_for_status()\n",
    "    except requests.exceptions.HTTPError as e:\n",
    "        if 500 <= e.response.status_code < 600 and retries > 0:\n",
    "            print(retries)\n",
    "            resp = download(url, params, retries - 1)\n",
    "        else:\n",
    "            print(e.response.status_code)\n",
    "            print(e.response.reason)\n",
    "            print(e.request.headers)\n",
    "\n",
    "    return resp"
   ]
  },
  {
   "cell_type": "code",
   "execution_count": 9,
   "metadata": {},
   "outputs": [],
   "source": [
    "url = 'http://pythonscraping.com/pages/page3.html'\n",
    "html = download(url)\n",
    "dom = BeautifulSoup(html.text, 'lxml')\n",
    "footer = dom.find('div', {'id':'footer'})"
   ]
  },
  {
   "cell_type": "code",
   "execution_count": 11,
   "metadata": {},
   "outputs": [
    {
     "data": {
      "text/plain": [
       "('div', {'id': 'wrapper'})"
      ]
     },
     "execution_count": 11,
     "metadata": {},
     "output_type": "execute_result"
    }
   ],
   "source": [
    "parent = footer.find_parent()\n",
    "parent.name, parent.attrs"
   ]
  },
  {
   "cell_type": "code",
   "execution_count": 12,
   "metadata": {},
   "outputs": [],
   "source": [
    "children = parent.find_all()"
   ]
  },
  {
   "cell_type": "code",
   "execution_count": 13,
   "metadata": {},
   "outputs": [
    {
     "name": "stdout",
     "output_type": "stream",
     "text": [
      "img {'src': '../img/gifts/logo.jpg', 'style': 'float:left;'}\n",
      "h1 {}\n",
      "div {'id': 'content'}\n",
      "table {'id': 'giftList'}\n",
      "div {'id': 'footer'}\n"
     ]
    }
   ],
   "source": [
    "children = parent.find_all(recursive=False)\n",
    "for row in children:\n",
    "    print(row.name, row.attrs)"
   ]
  },
  {
   "cell_type": "code",
   "execution_count": 15,
   "metadata": {},
   "outputs": [
    {
     "name": "stdout",
     "output_type": "stream",
     "text": [
      "img {'src': '../img/gifts/logo.jpg', 'style': 'float:left;'}\n",
      "h1 {}\n",
      "div {'id': 'content'}\n",
      "p {}\n",
      "br {}\n",
      "br {}\n",
      "table {'id': 'giftList'}\n",
      "tr {}\n",
      "th {}\n",
      "th {}\n",
      "th {}\n",
      "th {}\n",
      "tr {'id': 'gift1', 'class': ['gift']}\n",
      "td {}\n",
      "td {}\n",
      "span {'class': ['excitingNote']}\n",
      "td {}\n",
      "td {}\n",
      "img {'src': '../img/gifts/img1.jpg'}\n",
      "tr {'id': 'gift2', 'class': ['gift']}\n",
      "td {}\n",
      "td {}\n",
      "span {'class': ['excitingNote']}\n",
      "td {}\n",
      "td {}\n",
      "img {'src': '../img/gifts/img2.jpg'}\n",
      "tr {'id': 'gift3', 'class': ['gift']}\n",
      "td {}\n",
      "td {}\n",
      "span {'class': ['excitingNote']}\n",
      "td {}\n",
      "td {}\n",
      "img {'src': '../img/gifts/img3.jpg'}\n",
      "tr {'id': 'gift4', 'class': ['gift']}\n",
      "td {}\n",
      "td {}\n",
      "span {'class': ['excitingNote']}\n",
      "td {}\n",
      "td {}\n",
      "img {'src': '../img/gifts/img4.jpg'}\n",
      "tr {'id': 'gift5', 'class': ['gift']}\n",
      "td {}\n",
      "td {}\n",
      "span {'class': ['excitingNote']}\n",
      "td {}\n",
      "td {}\n",
      "img {'src': '../img/gifts/img6.jpg'}\n",
      "div {'id': 'footer'}\n",
      "br {}\n"
     ]
    }
   ],
   "source": [
    "descendants = parent.find_all()\n",
    "for row in descendants:\n",
    "    print(row.name, row.attrs)"
   ]
  },
  {
   "cell_type": "code",
   "execution_count": 16,
   "metadata": {},
   "outputs": [
    {
     "name": "stdout",
     "output_type": "stream",
     "text": [
      "p {} \n",
      "We haven't figured out how to make online shopping carts yet, but you can send us a check to:\n",
      "123 Main St.\n",
      "Abuja, Nigeria\n",
      "We will then send your totally amazing gift, pronto! Please include an extra $5.00 for gift wrapping.\n"
     ]
    }
   ],
   "source": [
    "divChildren = children[2].find_all(recursive=False)\n",
    "for row in divChildren:\n",
    "    print(row.name, row.attrs, row.text)"
   ]
  },
  {
   "cell_type": "code",
   "execution_count": 17,
   "metadata": {},
   "outputs": [
    {
     "data": {
      "text/plain": [
       "('h1', 'h1')"
      ]
     },
     "execution_count": 17,
     "metadata": {},
     "output_type": "execute_result"
    }
   ],
   "source": [
    "divTag = children[2]\n",
    "children[1].name, divTag.find_previous_sibling().name"
   ]
  },
  {
   "cell_type": "code",
   "execution_count": 18,
   "metadata": {},
   "outputs": [
    {
     "data": {
      "text/plain": [
       "<table id=\"giftList\">\n",
       "<tr><th>\n",
       "Item Title\n",
       "</th><th>\n",
       "Description\n",
       "</th><th>\n",
       "Cost\n",
       "</th><th>\n",
       "Image\n",
       "</th></tr>\n",
       "<tr class=\"gift\" id=\"gift1\"><td>\n",
       "Vegetable Basket\n",
       "</td><td>\n",
       "This vegetable basket is the perfect gift for your health conscious (or overweight) friends!\n",
       "<span class=\"excitingNote\">Now with super-colorful bell peppers!</span>\n",
       "</td><td>\n",
       "$15.00\n",
       "</td><td>\n",
       "<img src=\"../img/gifts/img1.jpg\"/>\n",
       "</td></tr>\n",
       "<tr class=\"gift\" id=\"gift2\"><td>\n",
       "Russian Nesting Dolls\n",
       "</td><td>\n",
       "Hand-painted by trained monkeys, these exquisite dolls are priceless! And by \"priceless,\" we mean \"extremely expensive\"! <span class=\"excitingNote\">8 entire dolls per set! Octuple the presents!</span>\n",
       "</td><td>\n",
       "$10,000.52\n",
       "</td><td>\n",
       "<img src=\"../img/gifts/img2.jpg\"/>\n",
       "</td></tr>\n",
       "<tr class=\"gift\" id=\"gift3\"><td>\n",
       "Fish Painting\n",
       "</td><td>\n",
       "If something seems fishy about this painting, it's because it's a fish! <span class=\"excitingNote\">Also hand-painted by trained monkeys!</span>\n",
       "</td><td>\n",
       "$10,005.00\n",
       "</td><td>\n",
       "<img src=\"../img/gifts/img3.jpg\"/>\n",
       "</td></tr>\n",
       "<tr class=\"gift\" id=\"gift4\"><td>\n",
       "Dead Parrot\n",
       "</td><td>\n",
       "This is an ex-parrot! <span class=\"excitingNote\">Or maybe he's only resting?</span>\n",
       "</td><td>\n",
       "$0.50\n",
       "</td><td>\n",
       "<img src=\"../img/gifts/img4.jpg\"/>\n",
       "</td></tr>\n",
       "<tr class=\"gift\" id=\"gift5\"><td>\n",
       "Mystery Box\n",
       "</td><td>\n",
       "If you love suprises, this mystery box is for you! Do not place on light-colored surfaces. May cause oil staining. <span class=\"excitingNote\">Keep your friends guessing!</span>\n",
       "</td><td>\n",
       "$1.50\n",
       "</td><td>\n",
       "<img src=\"../img/gifts/img6.jpg\"/>\n",
       "</td></tr>\n",
       "</table>"
      ]
     },
     "execution_count": 18,
     "metadata": {},
     "output_type": "execute_result"
    }
   ],
   "source": [
    "divTag.find_next_sibling()"
   ]
  },
  {
   "cell_type": "code",
   "execution_count": 19,
   "metadata": {},
   "outputs": [
    {
     "data": {
      "text/plain": [
       "True"
      ]
     },
     "execution_count": 19,
     "metadata": {},
     "output_type": "execute_result"
    }
   ],
   "source": [
    "children[3] == divTag.find_next_sibling()"
   ]
  },
  {
   "cell_type": "code",
   "execution_count": 20,
   "metadata": {},
   "outputs": [
    {
     "name": "stdout",
     "output_type": "stream",
     "text": [
      "Cost\n",
      "$15.00\n",
      "$10,000.52\n",
      "$10,005.00\n",
      "$0.50\n",
      "$1.50\n"
     ]
    }
   ],
   "source": [
    "alist = dom.find_all('tr')\n",
    "for row in alist:\n",
    "    print(row.find_all(recursive = False)[2].text.strip())"
   ]
  },
  {
   "cell_type": "code",
   "execution_count": 43,
   "metadata": {},
   "outputs": [],
   "source": [
    "import requests\n",
    "google = download(\"https://www.google.com/search\", params={\"q\":\"박보영\"})"
   ]
  },
  {
   "cell_type": "code",
   "execution_count": 50,
   "metadata": {},
   "outputs": [],
   "source": [
    "html = download(\"http://pythonscraping.com/pages/page3.html\")\n",
    "exercise = BeautifulSoup(html.text, \"lxml\")"
   ]
  },
  {
   "cell_type": "code",
   "execution_count": 54,
   "metadata": {},
   "outputs": [],
   "source": [
    "footer = exercise.find(\"\", {\"id\":\"footer\"})"
   ]
  },
  {
   "cell_type": "code",
   "execution_count": 65,
   "metadata": {},
   "outputs": [
    {
     "data": {
      "text/plain": [
       "('div', 'footer', 'div', 'wrapper', 'body')"
      ]
     },
     "execution_count": 65,
     "metadata": {},
     "output_type": "execute_result"
    }
   ],
   "source": [
    "footer.name, footer[\"id\"], \\\n",
    "footer.find_parent().name, footer.find_parent()[\"id\"], \\\n",
    "footer.find_parent().find_parent().name #(.name = 태그이름) (.attrs = 속성(키-밸류))"
   ]
  },
  {
   "cell_type": "code",
   "execution_count": 22,
   "metadata": {},
   "outputs": [
    {
     "data": {
      "text/plain": [
       "['img', 'h1', 'div', 'table', 'div']"
      ]
     },
     "execution_count": 22,
     "metadata": {},
     "output_type": "execute_result"
    }
   ],
   "source": [
    "[_.name for _ in parent.find_all(recursive=False)]"
   ]
  },
  {
   "cell_type": "code",
   "execution_count": 70,
   "metadata": {},
   "outputs": [
    {
     "data": {
      "text/plain": [
       "['table', 'div', 'h1', 'img']"
      ]
     },
     "execution_count": 70,
     "metadata": {},
     "output_type": "execute_result"
    }
   ],
   "source": [
    "[_.name for _ in footer.find_previous_siblings()]"
   ]
  },
  {
   "cell_type": "code",
   "execution_count": 23,
   "metadata": {},
   "outputs": [
    {
     "data": {
      "text/plain": [
       "['Item Title', 'Description', 'Cost', 'Image']"
      ]
     },
     "execution_count": 23,
     "metadata": {},
     "output_type": "execute_result"
    }
   ],
   "source": [
    "[_.text.strip() for _ in parent.find_all(recursive=False)[3].find_all(\"th\")]"
   ]
  },
  {
   "cell_type": "code",
   "execution_count": 76,
   "metadata": {},
   "outputs": [
    {
     "data": {
      "text/plain": [
       "[<td>\n",
       " Vegetable Basket\n",
       " </td>, <td>\n",
       " This vegetable basket is the perfect gift for your health conscious (or overweight) friends!\n",
       " <span class=\"excitingNote\">Now with super-colorful bell peppers!</span>\n",
       " </td>, <td>\n",
       " $15.00\n",
       " </td>, <td>\n",
       " <img src=\"../img/gifts/img1.jpg\"/>\n",
       " </td>, <td>\n",
       " Russian Nesting Dolls\n",
       " </td>, <td>\n",
       " Hand-painted by trained monkeys, these exquisite dolls are priceless! And by \"priceless,\" we mean \"extremely expensive\"! <span class=\"excitingNote\">8 entire dolls per set! Octuple the presents!</span>\n",
       " </td>, <td>\n",
       " $10,000.52\n",
       " </td>, <td>\n",
       " <img src=\"../img/gifts/img2.jpg\"/>\n",
       " </td>, <td>\n",
       " Fish Painting\n",
       " </td>, <td>\n",
       " If something seems fishy about this painting, it's because it's a fish! <span class=\"excitingNote\">Also hand-painted by trained monkeys!</span>\n",
       " </td>, <td>\n",
       " $10,005.00\n",
       " </td>, <td>\n",
       " <img src=\"../img/gifts/img3.jpg\"/>\n",
       " </td>, <td>\n",
       " Dead Parrot\n",
       " </td>, <td>\n",
       " This is an ex-parrot! <span class=\"excitingNote\">Or maybe he's only resting?</span>\n",
       " </td>, <td>\n",
       " $0.50\n",
       " </td>, <td>\n",
       " <img src=\"../img/gifts/img4.jpg\"/>\n",
       " </td>, <td>\n",
       " Mystery Box\n",
       " </td>, <td>\n",
       " If you love suprises, this mystery box is for you! Do not place on light-colored surfaces. May cause oil staining. <span class=\"excitingNote\">Keep your friends guessing!</span>\n",
       " </td>, <td>\n",
       " $1.50\n",
       " </td>, <td>\n",
       " <img src=\"../img/gifts/img6.jpg\"/>\n",
       " </td>]"
      ]
     },
     "execution_count": 76,
     "metadata": {},
     "output_type": "execute_result"
    }
   ],
   "source": [
    "exercise.find_all(\"td\")"
   ]
  },
  {
   "cell_type": "code",
   "execution_count": 94,
   "metadata": {},
   "outputs": [],
   "source": [
    "td = exercise.find(\"\", {\"id\":\"gift1\"})"
   ]
  },
  {
   "cell_type": "code",
   "execution_count": 102,
   "metadata": {},
   "outputs": [
    {
     "name": "stdout",
     "output_type": "stream",
     "text": [
      "$15.00\n",
      "$10,000.52\n",
      "$10,005.00\n",
      "$0.50\n",
      "$1.50\n"
     ]
    }
   ],
   "source": [
    "table = footer.find_previous_sibling()\n",
    "tr = table.find_all(\"tr\", {\"class\":\"gift\"})\n",
    "for _ in tr:\n",
    "    print(_.find_all(recursive=False)[2].text.strip())\n",
    "\n",
    "#for _ in execise.find_all(\"tr\", {\"class\":\"gift\"}):\n",
    "# print(_.find_all(recursive=False)[2].text.strip())"
   ]
  },
  {
   "cell_type": "code",
   "execution_count": 103,
   "metadata": {},
   "outputs": [
    {
     "data": {
      "text/plain": [
       "['$15.00', '$10,000.52', '$10,005.00', '$0.50', '$1.50']"
      ]
     },
     "execution_count": 103,
     "metadata": {},
     "output_type": "execute_result"
    }
   ],
   "source": [
    "import re\n",
    "[_.text.strip() for _ in exercise.find_all(\"td\", text=re.compile(\"[0-9]+.\\d+\"))]"
   ]
  },
  {
   "cell_type": "code",
   "execution_count": 104,
   "metadata": {},
   "outputs": [
    {
     "data": {
      "text/plain": [
       "['../img/gifts/img1.jpg',\n",
       " '../img/gifts/img2.jpg',\n",
       " '../img/gifts/img3.jpg',\n",
       " '../img/gifts/img4.jpg',\n",
       " '../img/gifts/img6.jpg']"
      ]
     },
     "execution_count": 104,
     "metadata": {},
     "output_type": "execute_result"
    }
   ],
   "source": [
    "[_[\"src\"] for _ in exercise.find_all(\"img\", {\"src\":re.compile(\"../img/gifts/img[0-9]+.jpg\")})]"
   ]
  },
  {
   "cell_type": "code",
   "execution_count": 116,
   "metadata": {},
   "outputs": [
    {
     "data": {
      "text/plain": [
       "['http://pythonscraping.com/img/gifts/img1.jpg',\n",
       " 'http://pythonscraping.com/img/gifts/img2.jpg',\n",
       " 'http://pythonscraping.com/img/gifts/img3.jpg',\n",
       " 'http://pythonscraping.com/img/gifts/img4.jpg',\n",
       " 'http://pythonscraping.com/img/gifts/img6.jpg']"
      ]
     },
     "execution_count": 116,
     "metadata": {},
     "output_type": "execute_result"
    }
   ],
   "source": [
    "[requests.compat.urljoin(html.request.url, _[\"src\"]) for _ in exercise.find_all(\"img\", {\"src\":re.compile(\"../img/gifts/img\\d+.jpg\")})]"
   ]
  },
  {
   "cell_type": "code",
   "execution_count": 113,
   "metadata": {},
   "outputs": [
    {
     "data": {
      "text/plain": [
       "'http://pythonscraping.com/pages/page3.html'"
      ]
     },
     "execution_count": 113,
     "metadata": {},
     "output_type": "execute_result"
    }
   ],
   "source": [
    "html.request.url"
   ]
  },
  {
   "cell_type": "code",
   "execution_count": 189,
   "metadata": {},
   "outputs": [],
   "source": [
    "from urllib import request, error, parse\n",
    "html = download(\"https://www.google.com/search\", {\"q\":\"박보영\"})\n",
    "practice = BeautifulSoup(html.text, \"lxml\")"
   ]
  },
  {
   "cell_type": "code",
   "execution_count": 41,
   "metadata": {},
   "outputs": [
    {
     "data": {
      "text/plain": [
       "'https://www.google.com/search?q=%EB%B0%95%EB%B3%B4%EC%98%81'"
      ]
     },
     "execution_count": 41,
     "metadata": {},
     "output_type": "execute_result"
    }
   ],
   "source": [
    "html.request.url"
   ]
  },
  {
   "cell_type": "code",
   "execution_count": 40,
   "metadata": {},
   "outputs": [
    {
     "data": {
      "text/plain": [
       "[]"
      ]
     },
     "execution_count": 40,
     "metadata": {},
     "output_type": "execute_result"
    }
   ],
   "source": [
    "dom.find_all(\"h3\", {\"class\":\"LC201b\"})"
   ]
  },
  {
   "cell_type": "code",
   "execution_count": 176,
   "metadata": {},
   "outputs": [],
   "source": [
    "html = download(\"https://search.naver.com/search.naver\", {\"query\":\"박보영\"})\n",
    "test = BeautifulSoup(html.text, \"lxml\")"
   ]
  },
  {
   "cell_type": "code",
   "execution_count": 177,
   "metadata": {},
   "outputs": [
    {
     "name": "stdout",
     "output_type": "stream",
     "text": [
      "<Response [200]>\n"
     ]
    }
   ],
   "source": [
    "print(html)"
   ]
  },
  {
   "cell_type": "code",
   "execution_count": 24,
   "metadata": {},
   "outputs": [],
   "source": [
    "for _ in dom.find_all(\"dt\"):\n",
    "    if \"-\".join([_.name for _ in _.find_parents(limits=4)]) == \"dl-li-ul-div\":\n",
    "        a = _.find(\"a\")\n",
    "        \n",
    "        if a:\n",
    "            print(\"a.text.strip()\")\n",
    "            print(a[\"href\"])"
   ]
  },
  {
   "cell_type": "code",
   "execution_count": 218,
   "metadata": {},
   "outputs": [],
   "source": [
    "html = download(\"https://search.daum.net/search\", {\"q\":\"박보영\"})\n",
    "daum = BeautifulSoup(html.text, \"lxml\")"
   ]
  },
  {
   "cell_type": "code",
   "execution_count": 219,
   "metadata": {},
   "outputs": [
    {
     "name": "stdout",
     "output_type": "stream",
     "text": [
      "\"세젤흔녀로 변신한 박보영\"..유제원 감독X박보영 '어비스' (종합)\n",
      "http://v.media.daum.net/v/20190503153440722?f=o\n",
      "'어비스' 이성재 \"다시 태어난다면? 예쁜 박보영으로\"..박보영 '폭소'\n",
      "http://v.media.daum.net/v/20190503145429254?f=o\n",
      "박보영이 가장 흔한 여자, 설득력 있을까 '어비스'\n",
      "http://v.media.daum.net/v/20190503172414326?f=o\n",
      "[현장]'어비스' 박보영 \"김사랑과 차이? 커졌다 작아졌다..\"\n",
      "http://v.media.daum.net/v/20190503165134297?f=o\n",
      "김영광 박보영 열애 터진 이유\n",
      "http://adam24eve.tistory.com/858\n",
      "박보영 실제 키는 도대체 몇일까?\n",
      "http://papa0717.tistory.com/223\n",
      "박보영 나이 키 몸매 대박\n",
      "http://k3k2y.tistory.com/35\n",
      "박보영 키 나이 인스타그램 드라마 어비스\n",
      "http://listup.tistory.com/248\n",
      "드라마 어비스 인물 소개, 예고편(박보영, 안효섭 주연)\n",
      "http://cafe.daum.net/subdued20club/ReHf/2282606?q=%EB%B0%95%EB%B3%B4%EC%98%81\n",
      "박보영과 역대급 케미뽐낸 상대배우 고르기\n",
      "http://cafe.daum.net/subdued20club/ReHf/2280152?q=%EB%B0%95%EB%B3%B4%EC%98%81\n",
      "런닝맨 나올 때마다 케미 보여준 송지효X박보영.jpgif\n",
      "http://cafe.daum.net/ok1221/9Zdf/1524913?q=%EB%B0%95%EB%B3%B4%EC%98%81\n",
      "박보영이 왜 못 오를 나무냐는 박수홍.jpg\n",
      "http://cafe.daum.net/ASMONACOFC/gAVU/1243818?q=%EB%B0%95%EB%B3%B4%EC%98%81\n",
      "박보영\n",
      "https://ko.wikipedia.org/wiki/%EB%B0%95%EB%B3%B4%EC%98%81\n",
      "박보영 (법조인)\n",
      "https://ko.wikipedia.org/wiki/%EB%B0%95%EB%B3%B4%EC%98%81%20%28%EB%B2%95%EC%A1%B0%EC%9D%B8%29\n",
      "박보영 갤러리\n",
      "http://gall.dcinside.com/board/lists/?id=parkboyoung\n",
      "박보영 공식팬카페 뽀르테\n",
      "http://cafe.daum.net/parkboyoungfd\n",
      "Park Bo Young V LIVE\n",
      "http://channels.vlive.tv/FCE49/video\n",
      "인천방주교회\n",
      "http://www.bjc.or.kr/\n",
      "박보영, 송지효는 ‘친언니’ 이광수는 ‘그냥 기린’\n",
      "javascript:;\n",
      "박형식, 박보영을 번쩍(!) 둘만의 '피아노 키스♥' //ㅁ//\n",
      "javascript:;\n",
      "'비밀의 교정'때의 박보영☆\n",
      "javascript:;\n",
      "[메이킹]세젤흔녀로 돌아온 박보영, ＜어비스 : 영혼소생구슬＞ 대본리딩 현장 최초 공개!\n",
      "javascript:;\n",
      "애교 있어 보이지만 상여자(?) 스타일이라는 박보영\n",
      "javascript:;\n",
      "박보영누나 과속스캔들찍고 또 다른 드라마나 영화 찍나요?> 박보영누나...\n",
      "http://tip.daum.net/answer/55072609?q=%EB%B0%95%EB%B3%B4%EC%98%81\n",
      "박보영, 과속스캔들 OST 중 '아마도그건' 불렀다던데, 이번에 과속...\n",
      "http://tip.daum.net/answer/54767339?q=%EB%B0%95%EB%B3%B4%EC%98%81\n",
      "박보영 질문요. 박보영 진짜 예쁘더군요... 박보영이 대체 누군...\n",
      "http://tip.daum.net/answer/54866982?q=%EB%B0%95%EB%B3%B4%EC%98%81\n",
      "박보영, 제2의 문근영이라는 호칭때문에 악플에 시달렸나요? 아역배우...\n",
      "http://tip.daum.net/answer/54503481?q=%EB%B0%95%EB%B3%B4%EC%98%81\n",
      "27\n"
     ]
    }
   ],
   "source": [
    "i = 0\n",
    "for _ in daum.find_all(\"div\", {\"class\":\"wrap_tit\"}):\n",
    "    a = _.find(\"a\")\n",
    "    \n",
    "    if a:\n",
    "        i += 1\n",
    "        print(a.text.strip())\n",
    "        print(a[\"href\"])\n",
    "\n",
    "print(i)"
   ]
  },
  {
   "cell_type": "markdown",
   "metadata": {},
   "source": [
    "### Google"
   ]
  },
  {
   "cell_type": "code",
   "execution_count": 25,
   "metadata": {},
   "outputs": [
    {
     "name": "stdout",
     "output_type": "stream",
     "text": [
      "박보영 - 위키백과, 우리 모두의 백과사전\n",
      "박보영의 작품 목록 - 위키백과, 우리 모두의 백과사전\n",
      "박보영 - 나무위키\n",
      "박보영, tvN 드라마 '어비스' 여주인공 - MSN.com\n",
      "[MK현장] `어비스` 박보영X유제원PD, `오나귀` 흥행史 재현할까 - 스타 ...\n",
      "`어비스` 박보영 \"`마블리` 마동석 대항마? 감히 대적할 수 없다\" - 스타 ...\n",
      "#박보영 hashtag on Twitter\n",
      "박보영은 오래 지켜본다. 연애도, 연기 변신도 - 중앙일보 - 조인스\n"
     ]
    }
   ],
   "source": [
    "url = 'https://www.google.com/search'\n",
    "params = {'q':'박보영'}\n",
    "html = download(url, params)\n",
    "\n",
    "dom = BeautifulSoup(html.text, 'lxml')\n",
    "\n",
    "for tag in dom.find_all('', {'class':'r'}):\n",
    "    print(tag.find('h3').text)"
   ]
  },
  {
   "cell_type": "code",
   "execution_count": 76,
   "metadata": {},
   "outputs": [
    {
     "name": "stdout",
     "output_type": "stream",
     "text": [
      "박보영 - 위키백과, 우리 모두의 백과사전\n",
      "https://ko.wikipedia.org/wiki/%EB%B0%95%EB%B3%B4%EC%98%81\n",
      "박보영의 작품 목록 - 위키백과, 우리 모두의 백과사전\n",
      "https://ko.wikipedia.org/wiki/%EB%B0%95%EB%B3%B4%EC%98%81%EC%9D%98_%EC%9E%91%ED%92%88_%EB%AA%A9%EB%A1%9D\n",
      "박보영 - 나무위키\n",
      "https://namu.wiki/w/%EB%B0%95%EB%B3%B4%EC%98%81\n",
      "박보영, tvN 드라마 '어비스' 여주인공 - MSN.com\n",
      "https://www.msn.com/ko-kr/entertainment/news/%EB%B0%95%EB%B3%B4%EC%98%81-tvn-%EB%93%9C%EB%9D%BC%EB%A7%88-%EC%96%B4%EB%B9%84%EC%8A%A4-%EC%97%AC%EC%A3%BC%EC%9D%B8%EA%B3%B5/ar-BBLZzVh\n",
      "[MK현장] `어비스` 박보영X유제원PD, `오나귀` 흥행史 재현할까 - 스타 ...\n",
      "https://www.mk.co.kr/star/hot-issues/view/2019/05/289550/\n",
      "`어비스` 박보영 \"`마블리` 마동석 대항마? 감히 대적할 수 없다\" - 스타 ...\n",
      "https://www.mk.co.kr/star/hot-issues/view/2019/05/289514/\n",
      "#박보영 hashtag on Twitter\n",
      "https://twitter.com/hashtag/%EB%B0%95%EB%B3%B4%EC%98%81\n",
      "박보영은 오래 지켜본다. 연애도, 연기 변신도 - 중앙일보 - 조인스\n",
      "https://news.joins.com/article/22895953\n"
     ]
    }
   ],
   "source": [
    "import re\n",
    "\n",
    "for titles in dom.find_all('', {'class':'r'}):\n",
    "    print(titles.find('h3').text)\n",
    "    print(titles.find('a').get('href'))"
   ]
  },
  {
   "cell_type": "code",
   "execution_count": 8,
   "metadata": {},
   "outputs": [],
   "source": [
    "url = 'https://search.naver.com/search.naver'\n",
    "params = {'query':'박보영'}\n",
    "html = download(url, params)\n",
    "\n",
    "dom2 = BeautifulSoup(html.text, 'lxml')"
   ]
  },
  {
   "cell_type": "code",
   "execution_count": 39,
   "metadata": {},
   "outputs": [
    {
     "name": "stdout",
     "output_type": "stream",
     "text": [
      "https://music.naver.com/album/index.nhn?albumId=2500698\n",
      "https://music.naver.com/album/index.nhn?albumId=565464\n",
      "http://www.sportsseoul.com/news/read/758927\n",
      "http://news1.kr/articles/?3613710\n",
      "http://www.osen.co.kr/article/G1111135596\n",
      "http://star.mk.co.kr/new/view.php?mc=ST&year=2019&no=291927\n",
      "https://m.post.naver.com/viewer/postView.nhn?volumeNo=19568466&memberNo=36645352&vType=VERTICAL\n",
      "https://m.post.naver.com/viewer/postView.nhn?volumeNo=17970239&memberNo=23519771&vType=VERTICAL\n",
      "https://m.post.naver.com/viewer/postView.nhn?volumeNo=19260625&memberNo=22401813&vType=VERTICAL\n",
      "https://cafe.naver.com/imsanbu/44492596\n",
      "https://cafe.naver.com/momakakao/11285454\n",
      "https://cafe.naver.com/mom3050/37277\n",
      "https://cafe.naver.com/linearbeit/43556\n",
      "https://cafe.naver.com/isajime/3995463\n",
      "https://blog.naver.com/js2y86?Redirect=Log&logNo=221454815826\n",
      "https://blog.naver.com/imagetech1?Redirect=Log&logNo=221529688167\n",
      "https://blog.naver.com/agaci01?Redirect=Log&logNo=221528823480\n",
      "https://blog.naver.com/cuterobbie?Redirect=Log&logNo=221521796495\n",
      "https://blog.naver.com/lunasea883?Redirect=Log&logNo=221518972103\n",
      "http://tvcast.naver.com/v/8258393\n",
      "http://tvcast.naver.com/v/8258393\n",
      "http://tvcast.naver.com/v/8258382\n",
      "http://tvcast.naver.com/v/8258382\n",
      "http://tvcast.naver.com/v/8096378\n",
      "http://news.naver.com/main/pass.nhn?type=commentList&id=news117,0003210759\n",
      "https://twitter.com/parkhyoshinland\n",
      "http://tvcast.naver.com/v/8207809\n",
      "http://tvcast.naver.com/v/8258382\n",
      "http://news.naver.com/main/pass.nhn?type=commentList&id=news112,0003160787\n",
      "https://kin.naver.com/qna/detail.nhn?d1id=3&dirId=31402&docId=322399276&qb=67CV67O07JiB&enc=utf8&section=kin&rank=3&search_sort=0&spq=1\n",
      "https://kin.naver.com/qna/detail.nhn?d1id=3&dirId=31401&docId=315877714&qb=67CV67O07JiB&enc=utf8&section=kin&rank=4&search_sort=0&spq=1\n"
     ]
    }
   ],
   "source": [
    "for links in dom2.find_all('', {'class':'thumb'}):\n",
    "    a = links.find('a').get('href')\n",
    "    #b = links.find('a').get('href').text\n",
    "    print(a)\n"
   ]
  },
  {
   "cell_type": "code",
   "execution_count": 10,
   "metadata": {},
   "outputs": [],
   "source": [
    "url = 'http://www.iamroot.org/xe/index.php?document_srl=202917&mid=Notice#125'\n",
    "html = download(url)\n",
    "dom3 = BeautifulSoup(html.text, 'lxml')"
   ]
  },
  {
   "cell_type": "code",
   "execution_count": 11,
   "metadata": {},
   "outputs": [],
   "source": [
    "for names in dom3.find_all('', {'class':'thumb'}):\n",
    "    a = links.find('a').get('href')\n",
    "    #b = links.find('a').get('href').text\n",
    "    print(a)"
   ]
  },
  {
   "cell_type": "code",
   "execution_count": 13,
   "metadata": {},
   "outputs": [],
   "source": [
    "url = 'https://search.daum.net/nate'\n",
    "params = {'q':'박보영'}\n",
    "html = download(url, params)"
   ]
  },
  {
   "cell_type": "code",
   "execution_count": 15,
   "metadata": {},
   "outputs": [],
   "source": [
    "dom4 = BeautifulSoup(html.text, 'lxml')"
   ]
  },
  {
   "cell_type": "code",
   "execution_count": 25,
   "metadata": {},
   "outputs": [
    {
     "name": "stdout",
     "output_type": "stream",
     "text": [
      "네이트 메인가기\n",
      "http://www.nate.com/?f=natesvc\n",
      "더보기>\n",
      "http://www.nate.com/sitemap/index.html\n",
      "\n",
      "더보기/접기\n",
      "\n",
      "javascript:;\n",
      "\n",
      "\n",
      "javascript:;\n",
      "\n",
      "\n",
      "javascript:;\n",
      " 더보기\n",
      "\n",
      "javascript:;\n",
      "마이프로필 관리\n",
      "http://myprofile.daum.net/top/\n",
      "  \n",
      "?q=%EB%B0%95%EB%B3%B4%EC%98%81&w=img&FaceType=y\n",
      "박보영\n",
      "http://100.daum.net/encyclopedia/view/33/34191\n",
      "  \n",
      "http://movie.daum.net/moviedb/main?movieId=113862\n",
      "너의 결혼식\n",
      "http://movie.daum.net/moviedb/main?movieId=113862\n",
      "  \n",
      "http://movie.daum.net/moviedb/main?movieId=89203\n",
      "열정같은소리하고있네\n",
      "http://movie.daum.net/moviedb/main?movieId=89203\n",
      "  \n",
      "http://movie.daum.net/moviedb/main?movieId=90113\n",
      "돌연변이\n",
      "http://movie.daum.net/moviedb/main?movieId=90113\n",
      "영화 14건 전체보기\n",
      "http://movie.daum.net/person/movielist?personId=105244\n",
      "  \n",
      "?q=%EC%96%B4%EB%B9%84%EC%8A%A4&w=tot&DA=PRF&irt=tv-program&irk=83750&rtmaxcoll=TVP\n",
      "어비스\n",
      "?q=%EC%96%B4%EB%B9%84%EC%8A%A4&w=tot&DA=PRF&irt=tv-program&irk=83750&rtmaxcoll=TVP\n",
      "  \n",
      "?q=%ED%9E%98%EC%8E%88%EC%97%AC%EC%9E%90%20%EB%8F%84%EB%B4%89%EC%88%9C&w=tot&DA=PRF&irt=tv-program&irk=77141&rtmaxcoll=TVP\n",
      "힘쎈여자 도봉순\n",
      "?q=%ED%9E%98%EC%8E%88%EC%97%AC%EC%9E%90%20%EB%8F%84%EB%B4%89%EC%88%9C&w=tot&DA=PRF&irt=tv-program&irk=77141&rtmaxcoll=TVP\n",
      "  \n",
      "?q=%ED%9E%98%EC%8E%88%EC%97%AC%EC%9E%90%20%EB%8F%84%EB%B4%89%EC%88%9C%20%EC%BB%A4%EB%B0%8D%EC%88%9C&w=tot&DA=PRF&irt=tv-program&irk=79314&rtmaxcoll=TVP\n",
      "힘쎈여자 도봉순 커밍순\n",
      "?q=%ED%9E%98%EC%8E%88%EC%97%AC%EC%9E%90%20%EB%8F%84%EB%B4%89%EC%88%9C%20%EC%BB%A4%EB%B0%8D%EC%88%9C&w=tot&DA=PRF&irt=tv-program&irk=79314&rtmaxcoll=TVP\n",
      "방송 16건 전체보기\n",
      "http://100.daum.net/encyclopedia/view/33XXXXX34191#tv\n",
      "  \n",
      "http://m.melon.com/kakaoGatePage.htm?cType1=content&cType2=album&cId=10194526&ref=W10600\n",
      "영화 너의결혼식 OST Part.1\n",
      "http://m.melon.com/kakaoGatePage.htm?cType1=content&cType2=album&cId=10194526&ref=W10600\n",
      "  \n",
      "http://m.melon.com/kakaoGatePage.htm?cType1=content&cType2=album&cId=2332510&ref=W10600\n",
      "오 나의 귀신님 OST Part.3\n",
      "http://m.melon.com/kakaoGatePage.htm?cType1=content&cType2=album&cId=2332510&ref=W10600\n",
      "  \n",
      "http://www.playdb.co.kr/playdb/PlaydbDetail.asp?sReqPlayno=137447\n",
      " 박보영 팬미팅 \n",
      "http://www.playdb.co.kr/playdb/PlaydbDetail.asp?sReqPlayno=137447\n",
      "  동영상 \n",
      "https://tv.kakao.com/v/398181054\n",
      "[2화 예고]똑부러진 박보영과 허술한(?) 안효...\n",
      "https://tv.kakao.com/v/398181054\n",
      "  동영상 \n",
      "https://tv.kakao.com/v/398181057\n",
      "＂저 기억 안 나세요?＂ 박보영, 부활 후 안효...\n",
      "https://tv.kakao.com/v/398181057\n",
      "  동영상 \n",
      "https://tv.kakao.com/v/398180894\n",
      "[2화 예고]자신을 죽인 살인범을 쫓는 박보영...\n",
      "https://tv.kakao.com/v/398180894\n",
      "  동영상 \n",
      "https://tv.kakao.com/v/398180896\n",
      "[부활엔딩] ＂너 고세연 맞지?＂ 부활한 박보...\n",
      "https://tv.kakao.com/v/398180896\n",
      "  \n",
      "?q=%ED%8C%90%EC%82%AC%20%EB%B0%95%EB%B3%B4%EC%98%81&w=tot&ppkey=1101041&irk=1101041&rtmaxcoll=PRF\n",
      "박보영\n",
      "?q=%ED%8C%90%EC%82%AC%20%EB%B0%95%EB%B3%B4%EC%98%81&w=tot&ppkey=1101041&irk=1101041&rtmaxcoll=PRF\n",
      "  \n",
      "?q=%EA%B0%80%EC%88%98%20%EC%A2%8B%EC%9D%80%EB%82%A0%ED%92%8D%EA%B2%BD&w=tot&ppkey=547214&irk=547214&rtmaxcoll=PRF\n",
      "좋은날풍경(박보영)\n",
      "?q=%EA%B0%80%EC%88%98%20%EC%A2%8B%EC%9D%80%EB%82%A0%ED%92%8D%EA%B2%BD&w=tot&ppkey=547214&irk=547214&rtmaxcoll=PRF\n",
      "  \n",
      "?q=%EB%B3%80%ED%98%B8%EC%82%AC%20%EB%B0%95%EB%B3%B4%EC%98%81&w=tot&ppkey=1861296&irk=1861296&rtmaxcoll=PRF\n",
      "박보영\n",
      "?q=%EB%B3%80%ED%98%B8%EC%82%AC%20%EB%B0%95%EB%B3%B4%EC%98%81&w=tot&ppkey=1861296&irk=1861296&rtmaxcoll=PRF\n",
      "인물 더보기\n",
      "?w=profile&q=%EB%B0%95%EB%B3%B4%EC%98%81\n",
      "최신\n",
      "?w=news&cluster=n&q=%EB%B0%95%EB%B3%B4%EC%98%81&sort=recency&DA=\n",
      "  \n",
      "http://v.media.daum.net/v/20190506224800505?f=o\n",
      "[종합] '어비스' 박보영X안효섭, 영혼소생구슬 어비스로 인생 2막 ...\n",
      "http://v.media.daum.net/v/20190506224800505?f=o\n",
      "  \n",
      "http://v.media.daum.net/v/20190506225727566?f=o\n",
      "[종합] \"내가 죽은 널 살렸어\"..첫방 '어비스' 안효섭, 김사랑→박...\n",
      "http://v.media.daum.net/v/20190506225727566?f=o\n",
      "  \n",
      "http://v.media.daum.net/v/20190506170703091?f=o\n",
      "'어비스' 박보영-안효섭, 웃음꽃 활짝 팀워크..비하인드컷 대 방출\n",
      "http://v.media.daum.net/v/20190506170703091?f=o\n",
      "  \n",
      "http://v.media.daum.net/v/20190506174200677?f=o\n",
      "'오 나의 귀신님' 이후 4년.. tvN 황금기 문 연 박보영의 tvN 컴백\n",
      "http://v.media.daum.net/v/20190506174200677?f=o\n",
      "펼쳐보기\n",
      "javascript:;\n",
      "접기\n",
      "javascript:;\n",
      "뉴스 더보기\n",
      "?w=news&q=%EB%B0%95%EB%B3%B4%EC%98%81&DA=&spacing=0\n",
      "펼쳐보기\n",
      "javascript:;\n",
      "이미지 더보기\n",
      "?w=img&q=%EB%B0%95%EB%B3%B4%EC%98%81&DA=IIM\n",
      "  \n",
      "http://papa0717.tistory.com/223\n",
      "박보영 실제 키는 도대체 몇일까?\n",
      "http://papa0717.tistory.com/223\n",
      "  \n",
      "http://dudrms606.tistory.com/367\n",
      "박보영 나이 몸매 실제키 드라마 어비스\n",
      "http://dudrms606.tistory.com/367\n",
      "  \n",
      "http://adam24eve.tistory.com/858\n",
      "김영광 박보영 열애 터진 이유\n",
      "http://adam24eve.tistory.com/858\n",
      "  \n",
      "http://k3k2y.tistory.com/35\n",
      "박보영 나이 키 몸매 대박\n",
      "http://k3k2y.tistory.com/35\n",
      " 로딩중 펼쳐보기 \n",
      "javascript:;\n",
      "블로그 더보기\n",
      "?w=blog&m=board&collName=blog_total&q=%EB%B0%95%EB%B3%B4%EC%98%81&spacing=0&DA=BR1\n",
      "신청하기\n",
      "https://register.search.daum.net/\n",
      "박보영 갤러리\n",
      "http://gall.dcinside.com/board/lists/?id=parkboyoung\n",
      "gall.dcinside.com/board/lists/?id=parkboyoung\n",
      "http://gall.dcinside.com/board/lists/?id=parkboyoung\n",
      "박보영 공식팬카페 뽀르테\n",
      "http://cafe.daum.net/parkboyoungfd\n",
      "박보영\n",
      "?w=cafe&m=name&SearchType=tag&ResultType=3&q=%EB%B0%95%EB%B3%B4%EC%98%81\n",
      "박보영팬클럽\n",
      "?w=cafe&m=name&SearchType=tag&ResultType=3&q=%EB%B0%95%EB%B3%B4%EC%98%81%ED%8C%AC%ED%81%B4%EB%9F%BD\n",
      "박보영팬카페\n",
      "?w=cafe&m=name&SearchType=tag&ResultType=3&q=%EB%B0%95%EB%B3%B4%EC%98%81%ED%8C%AC%EC%B9%B4%ED%8E%98\n",
      "박보영공식\n",
      "?w=cafe&m=name&SearchType=tag&ResultType=3&q=%EB%B0%95%EB%B3%B4%EC%98%81%EA%B3%B5%EC%8B%9D\n",
      "경성학교\n",
      "?w=cafe&m=name&SearchType=tag&ResultType=3&q=%EA%B2%BD%EC%84%B1%ED%95%99%EA%B5%90\n",
      "오나의귀신님\n",
      "?w=cafe&m=name&SearchType=tag&ResultType=3&q=%EC%98%A4%EB%82%98%EC%9D%98%EA%B7%80%EC%8B%A0%EB%8B%98\n",
      "늑대소년\n",
      "?w=cafe&m=name&SearchType=tag&ResultType=3&q=%EB%8A%91%EB%8C%80%EC%86%8C%EB%85%84\n",
      "피끓는청춘\n",
      "?w=cafe&m=name&SearchType=tag&ResultType=3&q=%ED%94%BC%EB%81%93%EB%8A%94%EC%B2%AD%EC%B6%98\n",
      "과속스캔들\n",
      "?w=cafe&m=name&SearchType=tag&ResultType=3&q=%EA%B3%BC%EC%86%8D%EC%8A%A4%EC%BA%94%EB%93%A4\n",
      "열정같은소리하네\n",
      "?w=cafe&m=name&SearchType=tag&ResultType=3&q=%EC%97%B4%EC%A0%95%EA%B0%99%EC%9D%80%EC%86%8C%EB%A6%AC%ED%95%98%EB%84%A4\n",
      "cafe.daum.net/parkboyoungfd\n",
      "http://cafe.daum.net/parkboyoungfd\n",
      "Park Bo Young V LIVE\n",
      "http://channels.vlive.tv/FCE49/video\n",
      "channels.vlive.tv/FCE49/video\n",
      "http://channels.vlive.tv/FCE49/video\n",
      "인천방주교회\n",
      "http://www.bjc.or.kr/\n",
      "www.bjc.or.kr/\n",
      "http://www.bjc.or.kr/\n",
      " 로딩중 펼쳐보기 \n",
      "javascript:;\n",
      "사이트 더보기\n",
      "?w=site&DA=IVR&q=%EB%B0%95%EB%B3%B4%EC%98%81&spacing=0\n",
      "  \n",
      "http://cafe.daum.net/subdued20club/ReHf/2280152?q=%EB%B0%95%EB%B3%B4%EC%98%81\n",
      "박보영과 역대급 케미뽐낸 상대배우 고르기\n",
      "http://cafe.daum.net/subdued20club/ReHf/2280152?q=%EB%B0%95%EB%B3%B4%EC%98%81\n",
      "  \n",
      "http://cafe.daum.net/subdued20club/ReHf/2282606?q=%EB%B0%95%EB%B3%B4%EC%98%81\n",
      "드라마 어비스 인물 소개, 예고편(박보영, 안효섭 주연)\n",
      "http://cafe.daum.net/subdued20club/ReHf/2282606?q=%EB%B0%95%EB%B3%B4%EC%98%81\n",
      "  \n",
      "http://cafe.daum.net/ASMONACOFC/gAVU/1243818?q=%EB%B0%95%EB%B3%B4%EC%98%81\n",
      "박보영이 왜 못 오를 나무냐는 박수홍.jpg\n",
      "http://cafe.daum.net/ASMONACOFC/gAVU/1243818?q=%EB%B0%95%EB%B3%B4%EC%98%81\n",
      "  \n",
      "http://cafe.daum.net/ok1221/9Zdf/1524913?q=%EB%B0%95%EB%B3%B4%EC%98%81\n",
      "런닝맨 나올 때마다 케미 보여준 송지효X박보영.jpgif\n",
      "http://cafe.daum.net/ok1221/9Zdf/1524913?q=%EB%B0%95%EB%B3%B4%EC%98%81\n",
      " 로딩중 펼쳐보기 \n",
      "javascript:;\n",
      "카페글 더보기\n",
      "?w=cafe&DA=CCB&q=%EB%B0%95%EB%B3%B4%EC%98%81&m=board&sort=accuracy&ASearchType=1&lpp=10&rlang=0&req=cafe&spacing=0\n",
      " 박보영\n",
      "https://ko.wikipedia.org/wiki/%EB%B0%95%EB%B3%B4%EC%98%81\n",
      " 박보영 (법조인)\n",
      "https://ko.wikipedia.org/wiki/%EB%B0%95%EB%B3%B4%EC%98%81%20%28%EB%B2%95%EC%A1%B0%EC%9D%B8%29\n",
      " 백과사전 더보기   \n",
      "http://100.daum.net/search/entry?q=%EB%B0%95%EB%B3%B4%EC%98%81\n",
      "광고신청\n",
      "http://local.biz.daum.net/\n",
      "신규등록\n",
      "https://register.search.daum.net/index.daum\n",
      "전체보기\n",
      "http://map.kakao.com/?map_type=DEFAULT&map_hybrid=false&q=%EB%B0%95%EB%B3%B4%EC%98%81\n",
      "확대\n",
      "javascript:;\n",
      "축소\n",
      "javascript:;\n",
      " 박보영의 골프AtoZ \n",
      "http://place.map.kakao.com/20618001\n",
      " 서울 강남구 도산대로85길 50-22  펼치기/접기 \n",
      "javascript:;\n",
      "  로드뷰 \n",
      "http://map.kakao.com/?q=%EB%B0%95%EB%B3%B4%EC%98%81&srcid=20618001&confirmid=20618001&rv=on\n",
      "  길찾기 \n",
      "http://map.kakao.com/?target=car&eX=511451&eY=1118769&eName=%EB%B0%95%EB%B3%B4%EC%98%81%EC%9D%98+%EA%B3%A8%ED%94%84AtoZ&ids=,P20618001\n",
      " 박보영헤어 \n",
      "http://place.map.kakao.com/14840795\n",
      "홈페이지\n",
      "http://blog.naver.com/bofamily\n",
      " 부산 동래구 아시아드대로246번길 3  펼치기/접기 \n",
      "javascript:;\n",
      "  로드뷰 \n",
      "http://map.kakao.com/?q=%EB%B0%95%EB%B3%B4%EC%98%81&srcid=14840795&confirmid=14840795&rv=on\n",
      "  길찾기 \n",
      "http://map.kakao.com/?target=car&eX=970917&eY=479686&eName=%EB%B0%95%EB%B3%B4%EC%98%81%ED%97%A4%EC%96%B4&ids=,P14840795\n",
      " 박보영헤어 광복점 \n",
      "http://place.map.kakao.com/990737519\n",
      " 부산 중구 광복중앙로 14-12  펼치기/접기 \n",
      "javascript:;\n",
      "  로드뷰 \n",
      "http://map.kakao.com/?q=%EB%B0%95%EB%B3%B4%EC%98%81&srcid=990737519&confirmid=990737519&rv=on\n",
      "  길찾기 \n",
      "http://map.kakao.com/?target=car&eX=963051&eY=450341&eName=%EB%B0%95%EB%B3%B4%EC%98%81%ED%97%A4%EC%96%B4+%EA%B4%91%EB%B3%B5%EC%A0%90&ids=,P990737519\n",
      " 박보영변호사사무소 \n",
      "http://place.map.kakao.com/26845235\n",
      " 부산 연제구 법원로 28  펼치기/접기 \n",
      "javascript:;\n",
      "  로드뷰 \n",
      "http://map.kakao.com/?q=%EB%B0%95%EB%B3%B4%EC%98%81&srcid=26845235&confirmid=26845235&rv=on\n",
      "  길찾기 \n",
      "http://map.kakao.com/?target=car&eX=972312&eY=475743&eName=%EB%B0%95%EB%B3%B4%EC%98%81%EB%B3%80%ED%98%B8%EC%82%AC%EC%82%AC%EB%AC%B4%EC%86%8C&ids=,P26845235\n",
      " 장소 더보기 \n",
      "http://map.kakao.com/?from=total&nil_suggest=btn&q=%EB%B0%95%EB%B3%B4%EC%98%81&tab=place\n",
      "박보영\n",
      "?nil_suggest=btn&w=tot&m=tag&DA=BRC&rtmaxcoll=BRC&brunch_tag=t&q=%EB%B0%95%EB%B3%B4%EC%98%81\n",
      "리뷰\n",
      "?nil_suggest=btn&w=tot&m=tag&DA=BRC&rtmaxcoll=BRC&brunch_tag=t&q=%EB%A6%AC%EB%B7%B0\n",
      "드라마\n",
      "?nil_suggest=btn&w=tot&m=tag&DA=BRC&rtmaxcoll=BRC&brunch_tag=t&q=%EB%93%9C%EB%9D%BC%EB%A7%88\n",
      "영화\n",
      "?nil_suggest=btn&w=tot&m=tag&DA=BRC&rtmaxcoll=BRC&brunch_tag=t&q=%EC%98%81%ED%99%94\n",
      "사랑\n",
      "?nil_suggest=btn&w=tot&m=tag&DA=BRC&rtmaxcoll=BRC&brunch_tag=t&q=%EC%82%AC%EB%9E%91\n",
      "영화리뷰\n",
      "?nil_suggest=btn&w=tot&m=tag&DA=BRC&rtmaxcoll=BRC&brunch_tag=t&q=%EC%98%81%ED%99%94%EB%A6%AC%EB%B7%B0\n",
      "스틸컷\n",
      "?nil_suggest=btn&w=tot&m=tag&DA=BRC&rtmaxcoll=BRC&brunch_tag=t&q=%EC%8A%A4%ED%8B%B8%EC%BB%B7\n",
      "첫사랑\n",
      "?nil_suggest=btn&w=tot&m=tag&DA=BRC&rtmaxcoll=BRC&brunch_tag=t&q=%EC%B2%AB%EC%82%AC%EB%9E%91\n",
      "아가씨\n",
      "?nil_suggest=btn&w=tot&m=tag&DA=BRC&rtmaxcoll=BRC&brunch_tag=t&q=%EC%95%84%EA%B0%80%EC%94%A8\n",
      "로맨틱코미디\n",
      "?nil_suggest=btn&w=tot&m=tag&DA=BRC&rtmaxcoll=BRC&brunch_tag=t&q=%EB%A1%9C%EB%A7%A8%ED%8B%B1%EC%BD%94%EB%AF%B8%EB%94%94\n",
      "멜로영화\n",
      "?nil_suggest=btn&w=tot&m=tag&DA=BRC&rtmaxcoll=BRC&brunch_tag=t&q=%EB%A9%9C%EB%A1%9C%EC%98%81%ED%99%94\n",
      "배우\n",
      "?nil_suggest=btn&w=tot&m=tag&DA=BRC&rtmaxcoll=BRC&brunch_tag=t&q=%EB%B0%B0%EC%9A%B0\n",
      "한국영화\n",
      "?nil_suggest=btn&w=tot&m=tag&DA=BRC&rtmaxcoll=BRC&brunch_tag=t&q=%ED%95%9C%EA%B5%AD%EC%98%81%ED%99%94\n",
      "더보기\n",
      "javascript:;\n",
      "  \n",
      "https://brunch.co.kr/@sugyo/11\n",
      "  \n",
      "https://brunch.co.kr/@strobe/20\n",
      "  \n",
      "https://brunch.co.kr/@legur2/1\n",
      " 로딩중 펼쳐보기 \n",
      "javascript:;\n",
      "\n",
      "\n",
      "\n",
      "\n",
      "동영상\n",
      "바로보기\n",
      "플레이어 닫기\n",
      "01:10\n",
      "\n",
      "\n",
      "javascript:;\n",
      "＂뭐꼬?＂ 박보영, 찰진 사투리와 함께 등장! (ft.사라진 한소희)\n",
      "javascript:;\n",
      "어비스 1화영상보기\n",
      "http://tv.kakao.com/channel/3278084/playlist/269446\n",
      "\n",
      "\n",
      "\n",
      "\n",
      "동영상\n",
      "바로보기\n",
      "플레이어 닫기\n",
      "01:10\n",
      "\n",
      "\n",
      "javascript:;\n",
      "[부활엔딩] ＂너 고세연 맞지?＂ 부활한 박보영을 알아본 안효섭\n",
      "javascript:;\n",
      "어비스 1화영상보기\n",
      "http://tv.kakao.com/channel/3278084/playlist/269446\n",
      "\n",
      "\n",
      "\n",
      "\n",
      "동영상\n",
      "바로보기\n",
      "플레이어 닫기\n",
      "01:49\n",
      "\n",
      "\n",
      "javascript:;\n",
      "(충격)자신의 영정사진을 마주한 박보영! 빗속 오열\n",
      "javascript:;\n",
      "어비스 1화영상보기\n",
      "http://tv.kakao.com/channel/3278084/playlist/269446\n",
      "\n",
      "\n",
      "\n",
      "\n",
      "동영상\n",
      "바로보기\n",
      "플레이어 닫기\n",
      "01:17\n",
      "\n",
      "\n",
      "javascript:;\n",
      "＂저 기억 안 나세요?＂ 박보영, 부활 후 안효섭과 첫 대면!\n",
      "javascript:;\n",
      "어비스 1화영상보기\n",
      "http://tv.kakao.com/channel/3278084/playlist/269446\n",
      "\n",
      "\n",
      "\n",
      "\n",
      "동영상\n",
      "바로보기\n",
      "플레이어 닫기\n",
      "03:19\n",
      "\n",
      "\n",
      "javascript:;\n",
      "박보영 스피커와 물아일체! 대장님 미안해요ㅜㅜ\n",
      "javascript:;\n",
      "놀라운 토요일 57화영상보기\n",
      "http://tv.kakao.com/channel/3038225/playlist/268170\n",
      "\n",
      "로딩중\n",
      "펼쳐보기\n",
      "\n",
      "javascript:;\n",
      "동영상 더보기\n",
      "?w=vclip&m=vclip&q=%EB%B0%95%EB%B3%B4%EC%98%81&spacing=0&DA=VO2\n",
      "질문하기\n",
      "http://tip.daum.net/ask?q=%EB%B0%95%EB%B3%B4%EC%98%81\n",
      "  \n",
      "http://tip.daum.net/answer/54503481?q=%EB%B0%95%EB%B3%B4%EC%98%81\n",
      "박보영, 제2의 문근영이라는 호칭때문에 악플에 시달렸나요? 아역배우... \n",
      "http://tip.daum.net/answer/54503481?q=%EB%B0%95%EB%B3%B4%EC%98%81\n",
      "  \n",
      "http://tip.daum.net/answer/54767339?q=%EB%B0%95%EB%B3%B4%EC%98%81\n",
      "박보영, 과속스캔들 OST 중 '아마도그건' 불렀다던데, 이번에 과속... \n",
      "http://tip.daum.net/answer/54767339?q=%EB%B0%95%EB%B3%B4%EC%98%81\n",
      "박보영누나 과속스캔들찍고 또 다른 드라마나 영화 찍나요?> 박보영누나... \n",
      "http://tip.daum.net/answer/55072609?q=%EB%B0%95%EB%B3%B4%EC%98%81\n",
      "박보영 질문요. 박보영 진짜 예쁘더군요... 박보영이 대체 누군... \n",
      "http://tip.daum.net/answer/54866982?q=%EB%B0%95%EB%B3%B4%EC%98%81\n",
      " 로딩중 펼쳐보기 \n",
      "javascript:;\n",
      " 팁 더보기 \n",
      "?w=knowledge&q=%EB%B0%95%EB%B3%B4%EC%98%81&spacing=0&DA=NKS\n",
      " 더보기\n",
      "\n",
      "javascript:;\n",
      "\n",
      "T!P팁에 질문하기\n",
      "\n",
      "http://tip.daum.net/ask?q=%EB%B0%95%EB%B3%B4%EC%98%81\n",
      "SK Communications.\n",
      "http://www.skcomms.co.kr\n"
     ]
    }
   ],
   "source": [
    "#for links in dom4.find_all('div', {'class':'wrap_tit mg_tit'}):\n",
    "#    a = links.find('a').get('href')   \n",
    "#    print(a)\n",
    "    \n",
    "titles = dom4.select('div > a')\n",
    "\n",
    "for title in titles:\n",
    "    print(title.text)\n",
    "    print(title.get('href'))"
   ]
  },
  {
   "cell_type": "code",
   "execution_count": null,
   "metadata": {},
   "outputs": [],
   "source": []
  }
 ],
 "metadata": {
  "kernelspec": {
   "display_name": "Python 3",
   "language": "python",
   "name": "python3"
  },
  "language_info": {
   "codemirror_mode": {
    "name": "ipython",
    "version": 3
   },
   "file_extension": ".py",
   "mimetype": "text/x-python",
   "name": "python",
   "nbconvert_exporter": "python",
   "pygments_lexer": "ipython3",
   "version": "3.6.8"
  }
 },
 "nbformat": 4,
 "nbformat_minor": 2
}
