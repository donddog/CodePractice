{
 "cells": [
  {
   "cell_type": "code",
   "execution_count": 72,
   "metadata": {},
   "outputs": [
    {
     "name": "stdout",
     "output_type": "stream",
     "text": [
      "191785\n"
     ]
    }
   ],
   "source": [
    "from nltk.collocations import BigramCollocationFinder\n",
    "from nltk.collocations import BigramAssocMeasures\n",
    "from nltk.collocations import TrigramCollocationFinder\n",
    "from nltk.collocations import TrigramAssocMeasures\n",
    "from nltk.corpus import gutenberg\n",
    "from nltk.tokenize import word_tokenize\n",
    "\n",
    "corpus = gutenberg.open(gutenberg.fileids()[0]).read()\n",
    "tokens = word_tokenize(corpus) #어절 단위, 구두점 분위\n",
    "print(len(tokens))"
   ]
  },
  {
   "cell_type": "code",
   "execution_count": 73,
   "metadata": {},
   "outputs": [],
   "source": [
    "bigram = BigramCollocationFinder.from_words(tokens)\n",
    "trigram = TrigramCollocationFinder.from_words(tokens)"
   ]
  },
  {
   "cell_type": "code",
   "execution_count": 74,
   "metadata": {},
   "outputs": [
    {
     "name": "stdout",
     "output_type": "stream",
     "text": [
      "157052\n"
     ]
    }
   ],
   "source": [
    "#bigram.ngram_fd.items() #Emma 소설, 이웃한 쌍끼리 / 빈도수\n",
    "#type(bigram.ngram_fd)\n",
    "bigram.ngram_fd.most_common(10)\n",
    "bigram.nbest(BigramAssocMeasures.pmi, 10) #frequency가 아닌 연관성을 가진 쌍\n",
    "#=> 깨끗하게 정제된(품사) 단어 쌍((\"형태소\", \"품사\"), \"형태소\", \"품사\")\n",
    "from nltk import pos_tag\n",
    "from string import punctuation\n",
    "from nltk.corpus import stopwords\n",
    "import re\n",
    "\n",
    "stopwords = stopwords.open(\"english\").read()\n",
    "pattern = re.compile(r\"[{0}]\".format(re.escape(punctuation)))\n",
    "tokens = [_ for _ in tokens if not pattern.search(_)]\n",
    "print(len(tokens))"
   ]
  },
  {
   "cell_type": "code",
   "execution_count": 75,
   "metadata": {},
   "outputs": [
    {
     "data": {
      "text/plain": [
       "([((',', 'and'), 1880),\n",
       "  (('.', \"''\"), 1157),\n",
       "  ((\"''\", '``'), 959),\n",
       "  ((';', 'and'), 867),\n",
       "  (('to', 'be'), 593),\n",
       "  ((',', \"''\"), 584),\n",
       "  (('.', 'I'), 570),\n",
       "  ((',', 'I'), 569),\n",
       "  (('of', 'the'), 556),\n",
       "  (('in', 'the'), 434)],\n",
       " [('26th', 'ult.'),\n",
       "  ('Abominable', 'scoundrel'),\n",
       "  ('Agricultural', 'Reports'),\n",
       "  ('Austen', '1816'),\n",
       "  ('Baronne', \"d'Almane\"),\n",
       "  ('Candles', 'everywhere.'),\n",
       "  ('Clayton', 'Park'),\n",
       "  ('Comtesse', \"d'Ostalis\"),\n",
       "  ('DEAR', 'MADAM'),\n",
       "  ('Farmer', 'Mitchell')])"
      ]
     },
     "execution_count": 75,
     "metadata": {},
     "output_type": "execute_result"
    }
   ],
   "source": [
    "bigram.ngram_fd.most_common(10), \\\n",
    "bigram.nbest(BigramAssocMeasures.pmi, 10)"
   ]
  },
  {
   "cell_type": "code",
   "execution_count": 81,
   "metadata": {},
   "outputs": [],
   "source": [
    "#(형태소, 품사)\n",
    "tokens = [_ for _ in pos_tag(tokens) if not pattern.search(_[0])]"
   ]
  },
  {
   "cell_type": "code",
   "execution_count": 77,
   "metadata": {},
   "outputs": [
    {
     "data": {
      "text/plain": [
       "157052"
      ]
     },
     "execution_count": 77,
     "metadata": {},
     "output_type": "execute_result"
    }
   ],
   "source": [
    "len(tokens)"
   ]
  },
  {
   "cell_type": "code",
   "execution_count": 78,
   "metadata": {},
   "outputs": [],
   "source": [
    "tokens = [_[0] for _ in tokens]"
   ]
  },
  {
   "cell_type": "code",
   "execution_count": 82,
   "metadata": {},
   "outputs": [],
   "source": [
    "tokens = [_[1] for _ in tokens]"
   ]
  },
  {
   "cell_type": "code",
   "execution_count": 83,
   "metadata": {},
   "outputs": [
    {
     "data": {
      "text/plain": [
       "([(('DT', 'NN'), 6540),\n",
       "  (('NN', 'IN'), 5947),\n",
       "  (('IN', 'DT'), 4590),\n",
       "  (('PRP', 'VBD'), 4055),\n",
       "  (('JJ', 'NN'), 3630),\n",
       "  (('TO', 'VB'), 3404),\n",
       "  (('IN', 'PRP'), 3326),\n",
       "  (('MD', 'VB'), 2697),\n",
       "  (('DT', 'JJ'), 2625),\n",
       "  (('PRP', 'VBP'), 2613)],\n",
       " [('UH', 'UH'),\n",
       "  ('NNPS', 'WP'),\n",
       "  ('FW', 'NNP'),\n",
       "  ('NNP', 'FW'),\n",
       "  ('EX', 'VBZ'),\n",
       "  ('WP$', 'NNS'),\n",
       "  ('RBS', 'JJ'),\n",
       "  ('TO', 'VB'),\n",
       "  ('PDT', 'DT'),\n",
       "  ('CD', 'NNS')])"
      ]
     },
     "execution_count": 83,
     "metadata": {},
     "output_type": "execute_result"
    }
   ],
   "source": [
    "bigram = BigramCollocationFinder.from_words(tokens)\n",
    "trigram = TrigramCollocationFinder.from_words(tokens)\n",
    "\n",
    "bigram.ngram_fd.most_common(10), \\\n",
    "bigram.nbest(BigramAssocMeasures.pmi, 10)"
   ]
  },
  {
   "cell_type": "code",
   "execution_count": 85,
   "metadata": {},
   "outputs": [],
   "source": [
    "from konlpy.corpus import kolaw\n",
    "from konlpy.tag import Komoran\n",
    "\n",
    "corpus = kolaw.open(kolaw.fileids()[0]).read()\n",
    "tokens = word_tokenize(corpus)"
   ]
  },
  {
   "cell_type": "code",
   "execution_count": 86,
   "metadata": {},
   "outputs": [
    {
     "data": {
      "text/plain": [
       "[(\"''\", '제70조'),\n",
       " ('12일에', '제정되고'),\n",
       " ('1948년', '7월'),\n",
       " ('1987.10.29.', '>'),\n",
       " ('1988년', '2월'),\n",
       " ('1인과', '부의장'),\n",
       " ('1회', '집회되며'),\n",
       " ('200인', '이상으로'),\n",
       " ('20일을', '경과함으로써'),\n",
       " ('25일부터', '시행한다')]"
      ]
     },
     "execution_count": 86,
     "metadata": {},
     "output_type": "execute_result"
    }
   ],
   "source": [
    "len(tokens)\n",
    "bigram = BigramCollocationFinder.from_words(tokens)\n",
    "bigram.ngram_fd.most_common(10)\n",
    "bigram.nbest(BigramAssocMeasures.chi_sq, 10)"
   ]
  },
  {
   "cell_type": "code",
   "execution_count": 47,
   "metadata": {},
   "outputs": [],
   "source": [
    "ma = Komoran().pos\n",
    "pos = list()\n",
    "for _ in tokens:\n",
    "    if not pattern.search(_):\n",
    "        pos.extend(ma(_))"
   ]
  },
  {
   "cell_type": "code",
   "execution_count": 48,
   "metadata": {},
   "outputs": [
    {
     "data": {
      "text/plain": [
       "(4640, 9337)"
      ]
     },
     "execution_count": 48,
     "metadata": {},
     "output_type": "execute_result"
    }
   ],
   "source": [
    "len(tokens), len(pos)"
   ]
  },
  {
   "cell_type": "code",
   "execution_count": 51,
   "metadata": {},
   "outputs": [
    {
     "data": {
      "text/plain": [
       "([((('ㄴ다', 'EC'), ('제', 'XPN')), 89),\n",
       "  ((('에', 'JKB'), ('의하', 'VV')), 83),\n",
       "  ((('ㄹ', 'ETM'), ('수', 'NNB')), 79),\n",
       "  ((('조', 'NR'), ('①', 'SW')), 78),\n",
       "  ((('하', 'XSV'), ('ㄹ', 'ETM')), 76),\n",
       "  ((('의하', 'VV'), ('아', 'EC')), 66),\n",
       "  ((('수', 'NNB'), ('있', 'VV')), 64),\n",
       "  ((('하', 'XSV'), ('ㄴ다', 'EC')), 58),\n",
       "  ((('법률', 'NNG'), ('이', 'JKS')), 57),\n",
       "  ((('이', 'JKS'), ('정하', 'VV')), 57)],\n",
       " [(('가부', 'NNP'), ('동수', 'NNP')),\n",
       "  (('강제', 'NNG'), ('노역', 'NNG')),\n",
       "  (('경자', 'NNP'), ('유전', 'NNP')),\n",
       "  (('교전', 'NNG'), ('상태', 'NNG')),\n",
       "  (('국립', 'NNP'), ('대학교', 'NNG')),\n",
       "  (('군', 'NNB'), ('참모총장', 'NNP')),\n",
       "  (('군용', 'NNG'), ('물', 'NNG')),\n",
       "  (('궐위되거나', 'NA'), ('사고', 'NNG')),\n",
       "  (('기', 'NNG'), ('망', 'NNG')),\n",
       "  (('기간', 'NNP'), ('내', 'NNB'))])"
      ]
     },
     "execution_count": 51,
     "metadata": {},
     "output_type": "execute_result"
    }
   ],
   "source": [
    "bigram = BigramCollocationFinder.from_words(pos)\n",
    "bigram.ngram_fd.most_common(10), \\\n",
    "bigram.nbest(BigramAssocMeasures.chi_sq, 10)"
   ]
  },
  {
   "cell_type": "code",
   "execution_count": 52,
   "metadata": {},
   "outputs": [
    {
     "data": {
      "text/plain": [
       "([((('에', 'JKB'), ('의하', 'VV'), ('아', 'EC')), 66),\n",
       "  ((('하', 'XSV'), ('ㄹ', 'ETM'), ('수', 'NNB')), 56),\n",
       "  ((('ㄹ', 'ETM'), ('수', 'NNB'), ('있', 'VV')), 56),\n",
       "  ((('수', 'NNB'), ('있', 'VV'), ('다', 'EC')), 56),\n",
       "  ((('법률', 'NNG'), ('이', 'JKS'), ('정하', 'VV')), 55),\n",
       "  ((('이', 'JKS'), ('정하', 'VV'), ('는', 'ETM')), 50),\n",
       "  ((('때', 'NNG'), ('에', 'JKB'), ('는', 'JX')), 42),\n",
       "  ((('에', 'JKB'), ('관하', 'VV'), ('ㄴ', 'ETM')), 38),\n",
       "  ((('정하', 'VV'), ('는', 'ETM'), ('바', 'NNB')), 37),\n",
       "  ((('는', 'ETM'), ('바', 'NNB'), ('에', 'JKB')), 37)],\n",
       " [(('주요', 'XR'), ('방위', 'NNG'), ('산업체', 'NNG')),\n",
       "  (('최고', 'NNP'), ('도로', 'NNP'), ('발휘', 'NNG')),\n",
       "  (('유독', 'NNG'), ('음식물', 'NNG'), ('공급', 'NNP')),\n",
       "  (('과학기술', 'NNP'), ('자와', 'NNP'), ('예술가', 'NNP')),\n",
       "  (('국립', 'NNP'), ('대학교', 'NNG'), ('총장', 'NNP')),\n",
       "  (('심사', 'NNP'), ('16', 'SN'), ('검찰', 'NNG')),\n",
       "  (('우호', 'NNG'), ('통상항해조약', 'NNP'), ('주권', 'NNP')),\n",
       "  (('하고', 'JKB'), ('외교', 'NNG'), ('사절', 'NNG')),\n",
       "  (('호', 'NNB'), ('부칙', 'NNP'), ('보기', 'NNP')),\n",
       "  (('각', 'MM'), ('군', 'NNB'), ('참모총장', 'NNP'))])"
      ]
     },
     "execution_count": 52,
     "metadata": {},
     "output_type": "execute_result"
    }
   ],
   "source": [
    "trigram = TrigramCollocationFinder.from_words(pos)\n",
    "trigram.ngram_fd.most_common(10), \\\n",
    "trigram.nbest(TrigramAssocMeasures.chi_sq, 10)"
   ]
  },
  {
   "cell_type": "code",
   "execution_count": 53,
   "metadata": {},
   "outputs": [
    {
     "data": {
      "text/plain": [
       "([(('하', 'ㄴ다'), 114),\n",
       "  (('하', 'ㄹ'), 92),\n",
       "  (('ㄴ다', '제'), 89),\n",
       "  (('하', 'ㄴ'), 88),\n",
       "  (('에', '의하'), 83),\n",
       "  (('ㄹ', '수'), 79),\n",
       "  (('조', '①'), 78),\n",
       "  (('의하', '아'), 66),\n",
       "  (('수', '있'), 64),\n",
       "  (('법률', '이'), 59)],\n",
       " [('가부', '동수'),\n",
       "  ('강제', '노역'),\n",
       "  ('경자', '유전'),\n",
       "  ('교전', '상태'),\n",
       "  ('국립', '대학교'),\n",
       "  ('군', '참모총장'),\n",
       "  ('군용', '물'),\n",
       "  ('궐위되거나', '사고'),\n",
       "  ('내부', '규율'),\n",
       "  ('더욱', '확고히')])"
      ]
     },
     "execution_count": 53,
     "metadata": {},
     "output_type": "execute_result"
    }
   ],
   "source": [
    "morphemes = [_[0] for _ in pos]\n",
    "_pos = [_[1] for _ in pos]\n",
    "\n",
    "bigram = BigramCollocationFinder.from_words(morphemes)\n",
    "bigram.ngram_fd.most_common(10), \\\n",
    "bigram.nbest(BigramAssocMeasures.chi_sq, 10)"
   ]
  },
  {
   "cell_type": "code",
   "execution_count": 56,
   "metadata": {},
   "outputs": [
    {
     "data": {
      "text/plain": [
       "([(('VV', 'EC'), 453),\n",
       "  (('NNG', 'XSV'), 425),\n",
       "  (('NNG', 'JKB'), 337),\n",
       "  (('JKG', 'NNG'), 306),\n",
       "  (('NNG', 'JKO'), 299),\n",
       "  (('ETM', 'NNG'), 295),\n",
       "  (('JX', 'NNG'), 273),\n",
       "  (('JKB', 'VV'), 261),\n",
       "  (('NNG', 'JKG'), 235),\n",
       "  (('XSV', 'EC'), 219)],\n",
       " [('XR', 'XSA'),\n",
       "  ('JKS', 'VCN'),\n",
       "  ('NP', 'VCP'),\n",
       "  ('SN', 'NR'),\n",
       "  ('XPN', 'SN'),\n",
       "  ('NNB', 'VA'),\n",
       "  ('XSN', 'VCP'),\n",
       "  ('XSV', 'EP'),\n",
       "  ('NR', 'SW'),\n",
       "  ('JKS', 'NA')])"
      ]
     },
     "execution_count": 56,
     "metadata": {},
     "output_type": "execute_result"
    }
   ],
   "source": [
    "bigram = BigramCollocationFinder.from_words(_pos)\n",
    "bigram.ngram_fd.most_common(10), \\\n",
    "bigram.nbest(BigramAssocMeasures.pmi, 10)"
   ]
  },
  {
   "cell_type": "code",
   "execution_count": 59,
   "metadata": {},
   "outputs": [
    {
     "data": {
      "text/plain": [
       "{'EC': '연결 어미',\n",
       " 'EF': '종결 어미',\n",
       " 'EP': '선어말어미',\n",
       " 'ETM': '관형형 전성 어미',\n",
       " 'ETN': '명사형 전성 어미',\n",
       " 'IC': '감탄사',\n",
       " 'JC': '접속 조사',\n",
       " 'JKB': '부사격 조사',\n",
       " 'JKC': '보격 조사',\n",
       " 'JKG': '관형격 조사',\n",
       " 'JKO': '목적격 조사',\n",
       " 'JKQ': '인용격 조사',\n",
       " 'JKS': '주격 조사',\n",
       " 'JKV': '호격 조사',\n",
       " 'JX': '보조사',\n",
       " 'MAG': '일반 부사',\n",
       " 'MAJ': '접속 부사',\n",
       " 'MM': '관형사',\n",
       " 'NA': '분석불능범주',\n",
       " 'NF': '명사추정범주',\n",
       " 'NNB': '의존 명사',\n",
       " 'NNG': '일반 명사',\n",
       " 'NNP': '고유 명사',\n",
       " 'NP': '대명사',\n",
       " 'NR': '수사',\n",
       " 'NV': '용언추정범주',\n",
       " 'SE': '줄임표',\n",
       " 'SF': '마침표, 물음표, 느낌표',\n",
       " 'SH': '한자',\n",
       " 'SL': '외국어',\n",
       " 'SN': '숫자',\n",
       " 'SO': '붙임표(물결,숨김,빠짐)',\n",
       " 'SP': '쉼표,가운뎃점,콜론,빗금',\n",
       " 'SS': '따옴표,괄호표,줄표',\n",
       " 'SW': '기타기호 (논리수학기호,화폐기호)',\n",
       " 'VA': '형용사',\n",
       " 'VCN': '부정 지정사',\n",
       " 'VCP': '긍정 지정사',\n",
       " 'VV': '동사',\n",
       " 'VX': '보조 용언',\n",
       " 'XPN': '체언 접두사',\n",
       " 'XR': '어근',\n",
       " 'XSA': '형용사 파생 접미사',\n",
       " 'XSN': '명사파생 접미사',\n",
       " 'XSV': '동사 파생 접미사'}"
      ]
     },
     "execution_count": 59,
     "metadata": {},
     "output_type": "execute_result"
    }
   ],
   "source": [
    "Komoran().tagset"
   ]
  },
  {
   "cell_type": "code",
   "execution_count": 139,
   "metadata": {},
   "outputs": [
    {
     "ename": "AttributeError",
     "evalue": "'str' object has no attribute 'append'",
     "output_type": "error",
     "traceback": [
      "\u001b[1;31m---------------------------------------------------------------------------\u001b[0m",
      "\u001b[1;31mAttributeError\u001b[0m                            Traceback (most recent call last)",
      "\u001b[1;32m<ipython-input-139-5d0668eb9024>\u001b[0m in \u001b[0;36m<module>\u001b[1;34m\u001b[0m\n\u001b[0;32m      3\u001b[0m     \u001b[0mdata\u001b[0m \u001b[1;33m=\u001b[0m \u001b[0mopen\u001b[0m\u001b[1;33m(\u001b[0m\u001b[1;34m'F:/news/IT20190516{0}.txt'\u001b[0m\u001b[1;33m.\u001b[0m\u001b[0mformat\u001b[0m\u001b[1;33m(\u001b[0m\u001b[0mi\u001b[0m\u001b[1;33m)\u001b[0m\u001b[1;33m,\u001b[0m\u001b[1;34m'r'\u001b[0m\u001b[1;33m,\u001b[0m \u001b[0mencoding\u001b[0m\u001b[1;33m=\u001b[0m\u001b[1;34m'utf-8'\u001b[0m\u001b[1;33m)\u001b[0m\u001b[1;33m\u001b[0m\u001b[1;33m\u001b[0m\u001b[0m\n\u001b[0;32m      4\u001b[0m     \u001b[0ms\u001b[0m \u001b[1;33m=\u001b[0m \u001b[0mdata\u001b[0m\u001b[1;33m.\u001b[0m\u001b[0mread\u001b[0m\u001b[1;33m(\u001b[0m\u001b[1;33m)\u001b[0m\u001b[1;33m\u001b[0m\u001b[1;33m\u001b[0m\u001b[0m\n\u001b[1;32m----> 5\u001b[1;33m     \u001b[0mk\u001b[0m \u001b[1;33m=\u001b[0m \u001b[0ms\u001b[0m\u001b[1;33m.\u001b[0m\u001b[0mappend\u001b[0m\u001b[1;33m(\u001b[0m\u001b[1;33m)\u001b[0m\u001b[1;33m\u001b[0m\u001b[1;33m\u001b[0m\u001b[0m\n\u001b[0m",
      "\u001b[1;31mAttributeError\u001b[0m: 'str' object has no attribute 'append'"
     ]
    }
   ],
   "source": [
    "k = list()\n",
    "for i in range(1,17): \n",
    "    data = open('F:/news/IT20190516{0}.txt'.format(i),'r', encoding='utf-8')\n",
    "    s = data.read()\n",
    "    k = s.append()"
   ]
  },
  {
   "cell_type": "code",
   "execution_count": 123,
   "metadata": {},
   "outputs": [
    {
     "name": "stdout",
     "output_type": "stream",
     "text": [
      "['[', '문화재의', '향기', ']', '실상사', '백장암', '삼층석탑당나라', '유학', '후', '돌아온', '승려', '홍척', '(', '洪陟', ')', '은', '통일신라', '흥덕왕', '3년인', '828년에', '지리산', '천왕봉', '서편인', '전북', '남원시', '산내면', '자리에', '실상사를', '창건했다', '.', '이곳에서', '북쪽으로', '조금만', '가면', '실상사에', '딸린', '암자로', \"'백장암\", \"'\", '이', '나타난다', '.', '1962년에', '국보', '제10호로', '지정된', '남원', '실상사', '백장암', '삼층석탑은', '그', '아래', '경작지에', '세워져', '있다', '.', '탑의', '위치는', '산속', '별스러울', '것', '없는', '곳이지만', '통일신라', '후기', '양식으로', '보이는', '탑은', '형식에', '얽매이지', '않는', '자유로운', '구조로', '화려한', '장식의', '특이함을', '보여준다', '.', '기사', '제목과', '주요', '문장을', '기반으로', '자동요약한', '결과입니다', '.', '전체', '맥락을', '이해하기', '위해서는', '본문', '보기를', '권장합니다', '.']\n",
      "['[', '문화재의', '향기', ']', '실상사', '백장암', '삼층석탑당나라', '유학', '후', '돌아온', '승려', '홍척', '(', '洪陟', ')', '은', '통일신라', '흥덕왕', '3년인', '828년에', '지리산', '천왕봉', '서편인', '전북', '남원시', '산내면', '자리에', '실상사를', '창건했다', '.', '이곳에서', '북쪽으로', '조금만', '가면', '실상사에', '딸린', '암자로', \"'백장암\", \"'\", '이', '나타난다', '.', '1962년에', '국보', '제10호로', '지정된', '남원', '실상사', '백장암', '삼층석탑은', '그', '아래', '경작지에', '세워져', '있다', '.', '탑의', '위치는', '산속', '별스러울', '것', '없는', '곳이지만', '통일신라', '후기', '양식으로', '보이는', '탑은', '형식에', '얽매이지', '않는', '자유로운', '구조로', '화려한', '장식의', '특이함을', '보여준다', '.', '기사', '제목과', '주요', '문장을', '기반으로', '자동요약한', '결과입니다', '.', '전체', '맥락을', '이해하기', '위해서는', '본문', '보기를', '권장합니다', '.']\n",
      "['[', '문화재의', '향기', ']', '실상사', '백장암', '삼층석탑당나라', '유학', '후', '돌아온', '승려', '홍척', '(', '洪陟', ')', '은', '통일신라', '흥덕왕', '3년인', '828년에', '지리산', '천왕봉', '서편인', '전북', '남원시', '산내면', '자리에', '실상사를', '창건했다', '.', '이곳에서', '북쪽으로', '조금만', '가면', '실상사에', '딸린', '암자로', \"'백장암\", \"'\", '이', '나타난다', '.', '1962년에', '국보', '제10호로', '지정된', '남원', '실상사', '백장암', '삼층석탑은', '그', '아래', '경작지에', '세워져', '있다', '.', '탑의', '위치는', '산속', '별스러울', '것', '없는', '곳이지만', '통일신라', '후기', '양식으로', '보이는', '탑은', '형식에', '얽매이지', '않는', '자유로운', '구조로', '화려한', '장식의', '특이함을', '보여준다', '.', '기사', '제목과', '주요', '문장을', '기반으로', '자동요약한', '결과입니다', '.', '전체', '맥락을', '이해하기', '위해서는', '본문', '보기를', '권장합니다', '.']\n",
      "['[', '문화재의', '향기', ']', '실상사', '백장암', '삼층석탑당나라', '유학', '후', '돌아온', '승려', '홍척', '(', '洪陟', ')', '은', '통일신라', '흥덕왕', '3년인', '828년에', '지리산', '천왕봉', '서편인', '전북', '남원시', '산내면', '자리에', '실상사를', '창건했다', '.', '이곳에서', '북쪽으로', '조금만', '가면', '실상사에', '딸린', '암자로', \"'백장암\", \"'\", '이', '나타난다', '.', '1962년에', '국보', '제10호로', '지정된', '남원', '실상사', '백장암', '삼층석탑은', '그', '아래', '경작지에', '세워져', '있다', '.', '탑의', '위치는', '산속', '별스러울', '것', '없는', '곳이지만', '통일신라', '후기', '양식으로', '보이는', '탑은', '형식에', '얽매이지', '않는', '자유로운', '구조로', '화려한', '장식의', '특이함을', '보여준다', '.', '기사', '제목과', '주요', '문장을', '기반으로', '자동요약한', '결과입니다', '.', '전체', '맥락을', '이해하기', '위해서는', '본문', '보기를', '권장합니다', '.']\n",
      "['[', '문화재의', '향기', ']', '실상사', '백장암', '삼층석탑당나라', '유학', '후', '돌아온', '승려', '홍척', '(', '洪陟', ')', '은', '통일신라', '흥덕왕', '3년인', '828년에', '지리산', '천왕봉', '서편인', '전북', '남원시', '산내면', '자리에', '실상사를', '창건했다', '.', '이곳에서', '북쪽으로', '조금만', '가면', '실상사에', '딸린', '암자로', \"'백장암\", \"'\", '이', '나타난다', '.', '1962년에', '국보', '제10호로', '지정된', '남원', '실상사', '백장암', '삼층석탑은', '그', '아래', '경작지에', '세워져', '있다', '.', '탑의', '위치는', '산속', '별스러울', '것', '없는', '곳이지만', '통일신라', '후기', '양식으로', '보이는', '탑은', '형식에', '얽매이지', '않는', '자유로운', '구조로', '화려한', '장식의', '특이함을', '보여준다', '.', '기사', '제목과', '주요', '문장을', '기반으로', '자동요약한', '결과입니다', '.', '전체', '맥락을', '이해하기', '위해서는', '본문', '보기를', '권장합니다', '.']\n",
      "['[', '문화재의', '향기', ']', '실상사', '백장암', '삼층석탑당나라', '유학', '후', '돌아온', '승려', '홍척', '(', '洪陟', ')', '은', '통일신라', '흥덕왕', '3년인', '828년에', '지리산', '천왕봉', '서편인', '전북', '남원시', '산내면', '자리에', '실상사를', '창건했다', '.', '이곳에서', '북쪽으로', '조금만', '가면', '실상사에', '딸린', '암자로', \"'백장암\", \"'\", '이', '나타난다', '.', '1962년에', '국보', '제10호로', '지정된', '남원', '실상사', '백장암', '삼층석탑은', '그', '아래', '경작지에', '세워져', '있다', '.', '탑의', '위치는', '산속', '별스러울', '것', '없는', '곳이지만', '통일신라', '후기', '양식으로', '보이는', '탑은', '형식에', '얽매이지', '않는', '자유로운', '구조로', '화려한', '장식의', '특이함을', '보여준다', '.', '기사', '제목과', '주요', '문장을', '기반으로', '자동요약한', '결과입니다', '.', '전체', '맥락을', '이해하기', '위해서는', '본문', '보기를', '권장합니다', '.']\n",
      "['[', '문화재의', '향기', ']', '실상사', '백장암', '삼층석탑당나라', '유학', '후', '돌아온', '승려', '홍척', '(', '洪陟', ')', '은', '통일신라', '흥덕왕', '3년인', '828년에', '지리산', '천왕봉', '서편인', '전북', '남원시', '산내면', '자리에', '실상사를', '창건했다', '.', '이곳에서', '북쪽으로', '조금만', '가면', '실상사에', '딸린', '암자로', \"'백장암\", \"'\", '이', '나타난다', '.', '1962년에', '국보', '제10호로', '지정된', '남원', '실상사', '백장암', '삼층석탑은', '그', '아래', '경작지에', '세워져', '있다', '.', '탑의', '위치는', '산속', '별스러울', '것', '없는', '곳이지만', '통일신라', '후기', '양식으로', '보이는', '탑은', '형식에', '얽매이지', '않는', '자유로운', '구조로', '화려한', '장식의', '특이함을', '보여준다', '.', '기사', '제목과', '주요', '문장을', '기반으로', '자동요약한', '결과입니다', '.', '전체', '맥락을', '이해하기', '위해서는', '본문', '보기를', '권장합니다', '.']\n",
      "['[', '문화재의', '향기', ']', '실상사', '백장암', '삼층석탑당나라', '유학', '후', '돌아온', '승려', '홍척', '(', '洪陟', ')', '은', '통일신라', '흥덕왕', '3년인', '828년에', '지리산', '천왕봉', '서편인', '전북', '남원시', '산내면', '자리에', '실상사를', '창건했다', '.', '이곳에서', '북쪽으로', '조금만', '가면', '실상사에', '딸린', '암자로', \"'백장암\", \"'\", '이', '나타난다', '.', '1962년에', '국보', '제10호로', '지정된', '남원', '실상사', '백장암', '삼층석탑은', '그', '아래', '경작지에', '세워져', '있다', '.', '탑의', '위치는', '산속', '별스러울', '것', '없는', '곳이지만', '통일신라', '후기', '양식으로', '보이는', '탑은', '형식에', '얽매이지', '않는', '자유로운', '구조로', '화려한', '장식의', '특이함을', '보여준다', '.', '기사', '제목과', '주요', '문장을', '기반으로', '자동요약한', '결과입니다', '.', '전체', '맥락을', '이해하기', '위해서는', '본문', '보기를', '권장합니다', '.']\n",
      "['[', '문화재의', '향기', ']', '실상사', '백장암', '삼층석탑당나라', '유학', '후', '돌아온', '승려', '홍척', '(', '洪陟', ')', '은', '통일신라', '흥덕왕', '3년인', '828년에', '지리산', '천왕봉', '서편인', '전북', '남원시', '산내면', '자리에', '실상사를', '창건했다', '.', '이곳에서', '북쪽으로', '조금만', '가면', '실상사에', '딸린', '암자로', \"'백장암\", \"'\", '이', '나타난다', '.', '1962년에', '국보', '제10호로', '지정된', '남원', '실상사', '백장암', '삼층석탑은', '그', '아래', '경작지에', '세워져', '있다', '.', '탑의', '위치는', '산속', '별스러울', '것', '없는', '곳이지만', '통일신라', '후기', '양식으로', '보이는', '탑은', '형식에', '얽매이지', '않는', '자유로운', '구조로', '화려한', '장식의', '특이함을', '보여준다', '.', '기사', '제목과', '주요', '문장을', '기반으로', '자동요약한', '결과입니다', '.', '전체', '맥락을', '이해하기', '위해서는', '본문', '보기를', '권장합니다', '.']\n",
      "['[', '문화재의', '향기', ']', '실상사', '백장암', '삼층석탑당나라', '유학', '후', '돌아온', '승려', '홍척', '(', '洪陟', ')', '은', '통일신라', '흥덕왕', '3년인', '828년에', '지리산', '천왕봉', '서편인', '전북', '남원시', '산내면', '자리에', '실상사를', '창건했다', '.', '이곳에서', '북쪽으로', '조금만', '가면', '실상사에', '딸린', '암자로', \"'백장암\", \"'\", '이', '나타난다', '.', '1962년에', '국보', '제10호로', '지정된', '남원', '실상사', '백장암', '삼층석탑은', '그', '아래', '경작지에', '세워져', '있다', '.', '탑의', '위치는', '산속', '별스러울', '것', '없는', '곳이지만', '통일신라', '후기', '양식으로', '보이는', '탑은', '형식에', '얽매이지', '않는', '자유로운', '구조로', '화려한', '장식의', '특이함을', '보여준다', '.', '기사', '제목과', '주요', '문장을', '기반으로', '자동요약한', '결과입니다', '.', '전체', '맥락을', '이해하기', '위해서는', '본문', '보기를', '권장합니다', '.']\n",
      "['[', '문화재의', '향기', ']', '실상사', '백장암', '삼층석탑당나라', '유학', '후', '돌아온', '승려', '홍척', '(', '洪陟', ')', '은', '통일신라', '흥덕왕', '3년인', '828년에', '지리산', '천왕봉', '서편인', '전북', '남원시', '산내면', '자리에', '실상사를', '창건했다', '.', '이곳에서', '북쪽으로', '조금만', '가면', '실상사에', '딸린', '암자로', \"'백장암\", \"'\", '이', '나타난다', '.', '1962년에', '국보', '제10호로', '지정된', '남원', '실상사', '백장암', '삼층석탑은', '그', '아래', '경작지에', '세워져', '있다', '.', '탑의', '위치는', '산속', '별스러울', '것', '없는', '곳이지만', '통일신라', '후기', '양식으로', '보이는', '탑은', '형식에', '얽매이지', '않는', '자유로운', '구조로', '화려한', '장식의', '특이함을', '보여준다', '.', '기사', '제목과', '주요', '문장을', '기반으로', '자동요약한', '결과입니다', '.', '전체', '맥락을', '이해하기', '위해서는', '본문', '보기를', '권장합니다', '.']\n",
      "['[', '문화재의', '향기', ']', '실상사', '백장암', '삼층석탑당나라', '유학', '후', '돌아온', '승려', '홍척', '(', '洪陟', ')', '은', '통일신라', '흥덕왕', '3년인', '828년에', '지리산', '천왕봉', '서편인', '전북', '남원시', '산내면', '자리에', '실상사를', '창건했다', '.', '이곳에서', '북쪽으로', '조금만', '가면', '실상사에', '딸린', '암자로', \"'백장암\", \"'\", '이', '나타난다', '.', '1962년에', '국보', '제10호로', '지정된', '남원', '실상사', '백장암', '삼층석탑은', '그', '아래', '경작지에', '세워져', '있다', '.', '탑의', '위치는', '산속', '별스러울', '것', '없는', '곳이지만', '통일신라', '후기', '양식으로', '보이는', '탑은', '형식에', '얽매이지', '않는', '자유로운', '구조로', '화려한', '장식의', '특이함을', '보여준다', '.', '기사', '제목과', '주요', '문장을', '기반으로', '자동요약한', '결과입니다', '.', '전체', '맥락을', '이해하기', '위해서는', '본문', '보기를', '권장합니다', '.']\n",
      "['[', '문화재의', '향기', ']', '실상사', '백장암', '삼층석탑당나라', '유학', '후', '돌아온', '승려', '홍척', '(', '洪陟', ')', '은', '통일신라', '흥덕왕', '3년인', '828년에', '지리산', '천왕봉', '서편인', '전북', '남원시', '산내면', '자리에', '실상사를', '창건했다', '.', '이곳에서', '북쪽으로', '조금만', '가면', '실상사에', '딸린', '암자로', \"'백장암\", \"'\", '이', '나타난다', '.', '1962년에', '국보', '제10호로', '지정된', '남원', '실상사', '백장암', '삼층석탑은', '그', '아래', '경작지에', '세워져', '있다', '.', '탑의', '위치는', '산속', '별스러울', '것', '없는', '곳이지만', '통일신라', '후기', '양식으로', '보이는', '탑은', '형식에', '얽매이지', '않는', '자유로운', '구조로', '화려한', '장식의', '특이함을', '보여준다', '.', '기사', '제목과', '주요', '문장을', '기반으로', '자동요약한', '결과입니다', '.', '전체', '맥락을', '이해하기', '위해서는', '본문', '보기를', '권장합니다', '.']\n",
      "['[', '문화재의', '향기', ']', '실상사', '백장암', '삼층석탑당나라', '유학', '후', '돌아온', '승려', '홍척', '(', '洪陟', ')', '은', '통일신라', '흥덕왕', '3년인', '828년에', '지리산', '천왕봉', '서편인', '전북', '남원시', '산내면', '자리에', '실상사를', '창건했다', '.', '이곳에서', '북쪽으로', '조금만', '가면', '실상사에', '딸린', '암자로', \"'백장암\", \"'\", '이', '나타난다', '.', '1962년에', '국보', '제10호로', '지정된', '남원', '실상사', '백장암', '삼층석탑은', '그', '아래', '경작지에', '세워져', '있다', '.', '탑의', '위치는', '산속', '별스러울', '것', '없는', '곳이지만', '통일신라', '후기', '양식으로', '보이는', '탑은', '형식에', '얽매이지', '않는', '자유로운', '구조로', '화려한', '장식의', '특이함을', '보여준다', '.', '기사', '제목과', '주요', '문장을', '기반으로', '자동요약한', '결과입니다', '.', '전체', '맥락을', '이해하기', '위해서는', '본문', '보기를', '권장합니다', '.']\n",
      "['[', '문화재의', '향기', ']', '실상사', '백장암', '삼층석탑당나라', '유학', '후', '돌아온', '승려', '홍척', '(', '洪陟', ')', '은', '통일신라', '흥덕왕', '3년인', '828년에', '지리산', '천왕봉', '서편인', '전북', '남원시', '산내면', '자리에', '실상사를', '창건했다', '.', '이곳에서', '북쪽으로', '조금만', '가면', '실상사에', '딸린', '암자로', \"'백장암\", \"'\", '이', '나타난다', '.', '1962년에', '국보', '제10호로', '지정된', '남원', '실상사', '백장암', '삼층석탑은', '그', '아래', '경작지에', '세워져', '있다', '.', '탑의', '위치는', '산속', '별스러울', '것', '없는', '곳이지만', '통일신라', '후기', '양식으로', '보이는', '탑은', '형식에', '얽매이지', '않는', '자유로운', '구조로', '화려한', '장식의', '특이함을', '보여준다', '.', '기사', '제목과', '주요', '문장을', '기반으로', '자동요약한', '결과입니다', '.', '전체', '맥락을', '이해하기', '위해서는', '본문', '보기를', '권장합니다', '.']\n",
      "['[', '문화재의', '향기', ']', '실상사', '백장암', '삼층석탑당나라', '유학', '후', '돌아온', '승려', '홍척', '(', '洪陟', ')', '은', '통일신라', '흥덕왕', '3년인', '828년에', '지리산', '천왕봉', '서편인', '전북', '남원시', '산내면', '자리에', '실상사를', '창건했다', '.', '이곳에서', '북쪽으로', '조금만', '가면', '실상사에', '딸린', '암자로', \"'백장암\", \"'\", '이', '나타난다', '.', '1962년에', '국보', '제10호로', '지정된', '남원', '실상사', '백장암', '삼층석탑은', '그', '아래', '경작지에', '세워져', '있다', '.', '탑의', '위치는', '산속', '별스러울', '것', '없는', '곳이지만', '통일신라', '후기', '양식으로', '보이는', '탑은', '형식에', '얽매이지', '않는', '자유로운', '구조로', '화려한', '장식의', '특이함을', '보여준다', '.', '기사', '제목과', '주요', '문장을', '기반으로', '자동요약한', '결과입니다', '.', '전체', '맥락을', '이해하기', '위해서는', '본문', '보기를', '권장합니다', '.']\n"
     ]
    }
   ],
   "source": [
    "#print(data)\n",
    "for i in range(1,17):\n",
    "    print(tokens)"
   ]
  },
  {
   "cell_type": "code",
   "execution_count": 124,
   "metadata": {},
   "outputs": [],
   "source": [
    "for i in range(1,17):\n",
    "    pos = list()\n",
    "    for _ in tokens:\n",
    "        if not pattern.search(_):\n",
    "            pos.extend(ma(_))"
   ]
  },
  {
   "cell_type": "code",
   "execution_count": 128,
   "metadata": {},
   "outputs": [
    {
     "name": "stdout",
     "output_type": "stream",
     "text": [
      "94\n",
      "162\n"
     ]
    }
   ],
   "source": [
    "print(len(tokens))\n",
    "print(len(pos))"
   ]
  },
  {
   "cell_type": "code",
   "execution_count": 136,
   "metadata": {},
   "outputs": [
    {
     "name": "stdout",
     "output_type": "stream",
     "text": [
      "[((('실상사', 'NNP'), ('백장', 'NNP')), 2), ((('백장', 'NNP'), ('암', 'NNG')), 2), ((('암', 'NNG'), ('삼층석탑', 'NNP')), 2), ((('이', 'VCP'), ('ㄴ', 'ETM')), 2), ((('년', 'NNB'), ('에', 'JKB')), 2), ((('문화재', 'NNG'), ('의', 'JKG')), 1), ((('의', 'JKG'), ('향기', 'NNG')), 1), ((('향기', 'NNG'), ('실상사', 'NNP')), 1), ((('삼층석탑', 'NNP'), ('당나라', 'NNP')), 1), ((('당나라', 'NNP'), ('유학', 'NNP')), 1)]\n",
      "[(('10', 'SN'), ('호로', 'NNP')), (('ㄹ', 'ETM'), ('것', 'NNB')), (('洪陟', 'SH'), ('은', 'NNP')), (('가', 'VV'), ('면', 'EC')), (('것', 'NNB'), ('없', 'VA')), (('과', 'JC'), ('주요', 'XR')), (('국보', 'NNP'), ('제', 'XPN')), (('그', 'MM'), ('아래', 'NNG')), (('기사', 'NNG'), ('제목', 'NNG')), (('남원시', 'NNP'), ('산내면', 'NNP'))]\n"
     ]
    }
   ],
   "source": [
    "bigram = BigramCollocationFinder.from_words(pos)\n",
    "print(bigram.ngram_fd.most_common(10))\n",
    "print(bigram.nbest(BigramAssocMeasures.chi_sq, 10))"
   ]
  },
  {
   "cell_type": "code",
   "execution_count": 131,
   "metadata": {},
   "outputs": [],
   "source": [
    "sentence = \"The little yellow dog barked at the cat\"\n",
    "tokens = pos_tag(word_tokenize(sentence))"
   ]
  },
  {
   "cell_type": "code",
   "execution_count": 132,
   "metadata": {},
   "outputs": [
    {
     "data": {
      "text/plain": [
       "[('The', 'DT'),\n",
       " ('little', 'JJ'),\n",
       " ('yellow', 'JJ'),\n",
       " ('dog', 'NN'),\n",
       " ('barked', 'VBD'),\n",
       " ('at', 'IN'),\n",
       " ('the', 'DT'),\n",
       " ('cat', 'NN')]"
      ]
     },
     "execution_count": 132,
     "metadata": {},
     "output_type": "execute_result"
    }
   ],
   "source": [
    "tokens\n",
    "#upenn => penntreebank pos tagset, 세종21"
   ]
  },
  {
   "cell_type": "code",
   "execution_count": 137,
   "metadata": {},
   "outputs": [
    {
     "name": "stdout",
     "output_type": "stream",
     "text": [
      "(S\n",
      "  (NP The/DT little/JJ yellow/JJ dog/NN)\n",
      "  barked/VBD\n",
      "  at/IN\n",
      "  (NP the/DT cat/NN))\n"
     ]
    }
   ],
   "source": [
    "from nltk.chunk.regexp import RegexpParser\n",
    "#grammar = RegexpParser(\"NP: {<DT><NN>}\")\n",
    "grammar = RegexpParser(\"NP: {<DT><JJ>*<NN>}\")\n",
    "parseTree = grammar.parse(tokens)\n",
    "#parseTree.draw()\n",
    "parseTree.pprint()"
   ]
  },
  {
   "cell_type": "code",
   "execution_count": 145,
   "metadata": {},
   "outputs": [
    {
     "name": "stdout",
     "output_type": "stream",
     "text": [
      "NP\n",
      "the cat\n"
     ]
    }
   ],
   "source": [
    "grammar = RegexpParser(\"\"\"\n",
    "DT: {<DT>}\n",
    "JJ: {<JJ>}\n",
    "NN: {<NN>}\n",
    "VBD: {<VBD>}\n",
    "IN: {<IN>}\n",
    "NP: {<DT><JJ>*<NN>}\n",
    "\"\"\")\n",
    "\n",
    "parseTree = grammar.parse(tokens)\n",
    "#type(parrseTree)\n",
    "#parseTree.draw()\n",
    "#len([_ for _ in parrseTree.subtrees()])\n",
    "for _ in parrseTree.subtrees():\n",
    "    if _.label() == \"NP\":\n",
    "        print(_.label())\n",
    "        print(\" \".join([_[0] for _ in _.leaves()]))"
   ]
  },
  {
   "cell_type": "code",
   "execution_count": 155,
   "metadata": {},
   "outputs": [],
   "source": [
    "from konlpy.tag import Okt\n",
    "\n",
    "ma = Okt().pos\n",
    "sentence = \"내 친구가 잠을 많이 잔다.\"\n",
    "tokens = ma(sentence)"
   ]
  },
  {
   "cell_type": "code",
   "execution_count": 156,
   "metadata": {},
   "outputs": [
    {
     "name": "stdout",
     "output_type": "stream",
     "text": [
      "내 친구 가\n"
     ]
    }
   ],
   "source": [
    "grammar = RegexpParser(\"\"\"\n",
    "    NP: {<Noun>{2,}<Josa>}\n",
    "    VP: {<Adverb><Verb><Punctuation>}\n",
    "\"\"\")\n",
    "#grammar.parse(tokens).draw()\n",
    "parseTree = grammar.parse(tokens)\n",
    "for _ in parseTree.subtrees():\n",
    "    if _.label() == \"NP\":\n",
    "        #print(_.label())\n",
    "        print(\" \".join([_[0] for _ in _.leaves()]))"
   ]
  },
  {
   "cell_type": "code",
   "execution_count": 148,
   "metadata": {},
   "outputs": [
    {
     "data": {
      "text/plain": [
       "[('내', 'NP'),\n",
       " ('친구', 'NNG'),\n",
       " ('가', 'JKS'),\n",
       " ('잠', 'NNG'),\n",
       " ('을', 'JKO'),\n",
       " ('많이', 'MAG'),\n",
       " ('자', 'VV'),\n",
       " ('ㄴ다', 'EF'),\n",
       " ('.', 'SF')]"
      ]
     },
     "execution_count": 148,
     "metadata": {},
     "output_type": "execute_result"
    }
   ],
   "source": [
    "tokens"
   ]
  },
  {
   "cell_type": "code",
   "execution_count": 180,
   "metadata": {},
   "outputs": [],
   "source": [
    "sentence = \"I shot an elephant in my pajamas\"\n",
    "tokens = pos_tag(word_tokenize(sentence))"
   ]
  },
  {
   "cell_type": "code",
   "execution_count": 205,
   "metadata": {},
   "outputs": [],
   "source": [
    "grammar = RegexpParser(\"\"\"\n",
    "    N: {<NN>}\n",
    "    Det: {<DT>|<PRP.+>}\n",
    "    VP: {<V.*>}\n",
    "    P : {<IN>}\n",
    "    NP: {<PRP>|(<Det><N>)}\n",
    "    PP: {<P><NP>}\n",
    "    VP: {<V><NP>}\n",
    "        {<VP><PP>}\n",
    "\"\"\")\n",
    "grammar.parse(tokens).draw()"
   ]
  },
  {
   "cell_type": "code",
   "execution_count": 183,
   "metadata": {},
   "outputs": [
    {
     "name": "stdout",
     "output_type": "stream",
     "text": [
      "[('the', 'DT'), ('angry', 'JJ'), ('bear', 'NN'), ('chased', 'VBD'), ('the', 'DT'), ('frightened', 'JJ'), ('little', 'JJ'), ('squirrel', 'NN')]\n"
     ]
    }
   ],
   "source": [
    "sentence = \"the angry bear chased the frightened little squirrel\"\n",
    "tokens = pos_tag(word_tokenize(sentence))\n",
    "print(tokens)"
   ]
  },
  {
   "cell_type": "code",
   "execution_count": 212,
   "metadata": {},
   "outputs": [],
   "source": [
    "sentence = \"the dog saw a man in the park\"\n",
    "tokens = pos_tag(word_tokenize(sentence))\n",
    "grammar = RegexpParser(\"\"\"\n",
    "    N: {<NN>}\n",
    "    Det: {<DT>}\n",
    "    V: {<V.*>}\n",
    "    P: {<IN>}\n",
    "    NP: {<Det><N>$}\n",
    "    PP: {<P><NP>}\n",
    "    NP: {<Det><N><NP>}\n",
    "    NP: {<N>}\n",
    "\"\"\")\n",
    "grammar.parse(tokens).draw()"
   ]
  },
  {
   "cell_type": "code",
   "execution_count": 219,
   "metadata": {},
   "outputs": [],
   "source": [
    "sentence = \"the angry bear chased the frightened little squirrel\"\n",
    "tokens = pos_tag(word_tokenize(sentence))\n",
    "\n",
    "grammar = RegexpParser(\"\"\"\n",
    "    N: {<NN>$}\n",
    "    V: {<V.*>}\n",
    "    Adj: {<JJ>}\n",
    "    Nom: {<Adj><N>}\n",
    "    Nom: {<Adj><Nom>}\n",
    "    NP: {<Det><Nom>}\n",
    "    VP: {<V><NP>}\n",
    "    Det: {<DT>}\n",
    "    N: {<NN>}\n",
    "    Nom: {<N>}\n",
    "\"\"\")\n",
    "grammar.parse(tokens).draw()"
   ]
  },
  {
   "cell_type": "code",
   "execution_count": null,
   "metadata": {},
   "outputs": [],
   "source": [
    "sentence = \"the little bear saw the fine fat trout in the brook\"\n",
    "tokens = pos_tag(word_tokenize(sentence))"
   ]
  },
  {
   "cell_type": "code",
   "execution_count": 218,
   "metadata": {},
   "outputs": [],
   "source": [
    "import os\n",
    "\n",
    "path = \"F:/news/\"\n",
    "corpus = list()\n",
    "for _ in os.listdir(path):\n",
    "    if _.startswith(\"정치\"):\n",
    "        with open(path+_, encoding=\"utf-8\") as fp:\n",
    "            corpus.append(fp.read())"
   ]
  },
  {
   "cell_type": "code",
   "execution_count": 232,
   "metadata": {},
   "outputs": [],
   "source": [
    "import os\n",
    "\n",
    "path = \"F:/news/\"\n",
    "corpus = list()\n",
    "for _ in os.listdir(path):\n",
    "    if _.startswith(\"IT\"):\n",
    "        with open(path+_, encoding=\"utf-8\") as fp:\n",
    "            corpus.append(fp.read())"
   ]
  },
  {
   "cell_type": "code",
   "execution_count": 236,
   "metadata": {},
   "outputs": [],
   "source": [
    "import os\n",
    "\n",
    "path = \"F:/news/\"\n",
    "corpus = list()\n",
    "for _ in os.listdir(path):\n",
    "    if _.startswith(\"국제\"):\n",
    "        with open(path+_, encoding=\"utf-8\") as fp:\n",
    "            corpus.append(fp.read())"
   ]
  },
  {
   "cell_type": "code",
   "execution_count": 237,
   "metadata": {},
   "outputs": [],
   "source": [
    "from konlpy.tag import Komoran\n",
    "from nltk.tokenize import sent_tokenize\n",
    "\n",
    "ma = Komoran()\n",
    "tokens = list()\n",
    "for doc in corpus:\n",
    "    for _ in word_tokenize(doc):\n",
    "        tokens.extend([noun for noun in ma.nouns(_) if len(noun) > 1])\n",
    "#     for sent in sent_tokenize(doc):\n",
    "#         if sent and len(sent) > 1:\n",
    "#             try:\n",
    "#                 tokens.extend(ma.nouns(sent))\n",
    "#             except:\n",
    "#                 print(sent)\n",
    "#                 break\n"
   ]
  },
  {
   "cell_type": "code",
   "execution_count": 225,
   "metadata": {},
   "outputs": [
    {
     "data": {
      "text/plain": [
       "[('대통령', 51),\n",
       " ('북한', 46),\n",
       " ('원내대표', 38),\n",
       " ('트럼프', 32),\n",
       " ('방한', 32),\n",
       " ('국회', 29),\n",
       " ('기자', 25),\n",
       " ('미국', 24),\n",
       " ('평화', 23),\n",
       " ('대표', 19)]"
      ]
     },
     "execution_count": 225,
     "metadata": {},
     "output_type": "execute_result"
    }
   ],
   "source": [
    "from nltk.probability import FreqDist\n",
    "fd = FreqDist(tokens)\n",
    "fd.most_common(10)"
   ]
  },
  {
   "cell_type": "code",
   "execution_count": 234,
   "metadata": {},
   "outputs": [
    {
     "data": {
      "text/plain": [
       "[('정부', 35),\n",
       " ('보험', 33),\n",
       " ('데이터', 32),\n",
       " ('분실', 29),\n",
       " ('파손', 29),\n",
       " ('구글', 25),\n",
       " ('서비스', 23),\n",
       " ('정보', 22),\n",
       " ('미세먼지', 22),\n",
       " ('고객', 20)]"
      ]
     },
     "execution_count": 234,
     "metadata": {},
     "output_type": "execute_result"
    }
   ],
   "source": [
    "from nltk.probability import FreqDist\n",
    "fd = FreqDist(tokens)\n",
    "fd.most_common(10)"
   ]
  },
  {
   "cell_type": "code",
   "execution_count": 238,
   "metadata": {},
   "outputs": [
    {
     "data": {
      "text/plain": [
       "[('미국', 22),\n",
       " ('기업', 21),\n",
       " ('정부', 19),\n",
       " ('북한', 19),\n",
       " ('난민', 16),\n",
       " ('위안', 16),\n",
       " ('화웨이', 15),\n",
       " ('김정남', 15),\n",
       " ('일본', 14),\n",
       " ('욱일기', 14)]"
      ]
     },
     "execution_count": 238,
     "metadata": {},
     "output_type": "execute_result"
    }
   ],
   "source": [
    "from nltk.probability import FreqDist\n",
    "fd = FreqDist(tokens)\n",
    "fd.most_common(10)"
   ]
  },
  {
   "cell_type": "code",
   "execution_count": 226,
   "metadata": {},
   "outputs": [
    {
     "name": "stdout",
     "output_type": "stream",
     "text": [
      "Collecting wordcloud\n",
      "  Downloading https://files.pythonhosted.org/packages/23/4e/1254d26ce5d36facdcbb5820e7e434328aed68e99938c75c9d4e2fee5efb/wordcloud-1.5.0-cp37-cp37m-win_amd64.whl (153kB)\n",
      "Requirement already satisfied: pillow in c:\\programdata\\anaconda3\\lib\\site-packages (from wordcloud) (5.4.1)\n",
      "Requirement already satisfied: numpy>=1.6.1 in c:\\programdata\\anaconda3\\lib\\site-packages (from wordcloud) (1.16.2)\n",
      "Installing collected packages: wordcloud\n",
      "Successfully installed wordcloud-1.5.0\n"
     ]
    }
   ],
   "source": [
    "!pip install wordcloud"
   ]
  },
  {
   "cell_type": "code",
   "execution_count": 229,
   "metadata": {},
   "outputs": [],
   "source": [
    "from wordcloud import WordCloud\n",
    "font = 'C:/Windows/Fonts/malgun.ttf'\n",
    "wc = WordCloud(font, max_words=30, background_color=\"white\")"
   ]
  },
  {
   "cell_type": "code",
   "execution_count": 231,
   "metadata": {},
   "outputs": [
    {
     "data": {
      "image/png": "[encoded data removed]",
      "text/plain": [
       "<PIL.Image.Image image mode=RGB size=400x200 at 0x27C03E09DD8>"
      ]
     },
     "execution_count": 231,
     "metadata": {},
     "output_type": "execute_result"
    }
   ],
   "source": [
    "wc.generate_from_frequencies(fd)\n",
    "wc.to_image()"
   ]
  },
  {
   "cell_type": "code",
   "execution_count": 235,
   "metadata": {},
   "outputs": [
    {
     "data": {
      "image/png": "[encoded data removed]",
      "text/plain": [
       "<PIL.Image.Image image mode=RGB size=400x200 at 0x27C03DDB9E8>"
      ]
     },
     "execution_count": 235,
     "metadata": {},
     "output_type": "execute_result"
    }
   ],
   "source": [
    "wc.generate_from_frequencies(fd)\n",
    "wc.to_image()"
   ]
  },
  {
   "cell_type": "code",
   "execution_count": 239,
   "metadata": {},
   "outputs": [
    {
     "data": {
      "image/png": "[encoded data removed]",
      "text/plain": [
       "<PIL.Image.Image image mode=RGB size=400x200 at 0x27C03DDB6D8>"
      ]
     },
     "execution_count": 239,
     "metadata": {},
     "output_type": "execute_result"
    }
   ],
   "source": [
    "wc.generate_from_frequencies(fd)\n",
    "wc.to_image()"
   ]
  },
  {
   "cell_type": "code",
   "execution_count": null,
   "metadata": {},
   "outputs": [],
   "source": [
    "#http://www.cs.virginia.edu/~hw5x/Course/IR2015/_site/lectures/"
   ]
  }
 ],
 "metadata": {
  "kernelspec": {
   "display_name": "Python 3",
   "language": "python",
   "name": "python3"
  },
  "language_info": {
   "codemirror_mode": {
    "name": "ipython",
    "version": 3
   },
   "file_extension": ".py",
   "mimetype": "text/x-python",
   "name": "python",
   "nbconvert_exporter": "python",
   "pygments_lexer": "ipython3",
   "version": "3.7.3"
  }
 },
 "nbformat": 4,
 "nbformat_minor": 2
}
