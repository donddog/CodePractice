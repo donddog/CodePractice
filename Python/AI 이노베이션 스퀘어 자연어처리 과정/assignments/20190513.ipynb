{
 "cells": [
  {
   "cell_type": "code",
   "execution_count": 22,
   "metadata": {},
   "outputs": [
    {
     "name": "stdout",
     "output_type": "stream",
     "text": [
      "Requirement already satisfied: newspaper3k in c:\\users\\j\\appdata\\local\\programs\\python\\python37\\lib\\site-packages (0.2.8)\n",
      "Requirement already satisfied: nltk>=3.2.1 in c:\\users\\j\\appdata\\local\\programs\\python\\python37\\lib\\site-packages (from newspaper3k) (3.4)\n",
      "Requirement already satisfied: tldextract>=2.0.1 in c:\\users\\j\\appdata\\local\\programs\\python\\python37\\lib\\site-packages (from newspaper3k) (2.2.1)\n",
      "Requirement already satisfied: PyYAML>=3.11 in c:\\users\\j\\appdata\\local\\programs\\python\\python37\\lib\\site-packages (from newspaper3k) (3.13)\n",
      "Requirement already satisfied: requests>=2.10.0 in c:\\users\\j\\appdata\\local\\programs\\python\\python37\\lib\\site-packages (from newspaper3k) (2.21.0)\n",
      "Requirement already satisfied: feedparser>=5.2.1 in c:\\users\\j\\appdata\\local\\programs\\python\\python37\\lib\\site-packages (from newspaper3k) (5.2.1)\n",
      "Requirement already satisfied: feedfinder2>=0.0.4 in c:\\users\\j\\appdata\\local\\programs\\python\\python37\\lib\\site-packages (from newspaper3k) (0.0.4)\n",
      "Requirement already satisfied: jieba3k>=0.35.1 in c:\\users\\j\\appdata\\local\\programs\\python\\python37\\lib\\site-packages (from newspaper3k) (0.35.1)\n",
      "Requirement already satisfied: tinysegmenter==0.3 in c:\\users\\j\\appdata\\local\\programs\\python\\python37\\lib\\site-packages (from newspaper3k) (0.3)\n",
      "Requirement already satisfied: lxml>=3.6.0 in c:\\users\\j\\appdata\\local\\programs\\python\\python37\\lib\\site-packages (from newspaper3k) (4.3.3)\n",
      "Requirement already satisfied: python-dateutil>=2.5.3 in c:\\users\\j\\appdata\\local\\programs\\python\\python37\\lib\\site-packages (from newspaper3k) (2.8.0)\n",
      "Requirement already satisfied: beautifulsoup4>=4.4.1 in c:\\users\\j\\appdata\\local\\programs\\python\\python37\\lib\\site-packages (from newspaper3k) (4.7.1)\n",
      "Requirement already satisfied: Pillow>=3.3.0 in c:\\users\\j\\appdata\\local\\programs\\python\\python37\\lib\\site-packages (from newspaper3k) (5.4.1)\n",
      "Requirement already satisfied: cssselect>=0.9.2 in c:\\users\\j\\appdata\\local\\programs\\python\\python37\\lib\\site-packages (from newspaper3k) (1.0.3)\n",
      "Requirement already satisfied: singledispatch in c:\\users\\j\\appdata\\local\\programs\\python\\python37\\lib\\site-packages (from nltk>=3.2.1->newspaper3k) (3.4.0.3)\n",
      "Requirement already satisfied: six in c:\\users\\j\\appdata\\local\\programs\\python\\python37\\lib\\site-packages (from nltk>=3.2.1->newspaper3k) (1.12.0)\n",
      "Requirement already satisfied: idna in c:\\users\\j\\appdata\\local\\programs\\python\\python37\\lib\\site-packages (from tldextract>=2.0.1->newspaper3k) (2.8)\n",
      "Requirement already satisfied: setuptools in c:\\users\\j\\appdata\\local\\programs\\python\\python37\\lib\\site-packages (from tldextract>=2.0.1->newspaper3k) (40.6.2)\n",
      "Requirement already satisfied: requests-file>=1.4 in c:\\users\\j\\appdata\\local\\programs\\python\\python37\\lib\\site-packages (from tldextract>=2.0.1->newspaper3k) (1.4.3)\n",
      "Requirement already satisfied: urllib3<1.25,>=1.21.1 in c:\\users\\j\\appdata\\local\\programs\\python\\python37\\lib\\site-packages (from requests>=2.10.0->newspaper3k) (1.24.1)\n",
      "Requirement already satisfied: chardet<3.1.0,>=3.0.2 in c:\\users\\j\\appdata\\local\\programs\\python\\python37\\lib\\site-packages (from requests>=2.10.0->newspaper3k) (3.0.4)\n",
      "Requirement already satisfied: certifi>=2017.4.17 in c:\\users\\j\\appdata\\local\\programs\\python\\python37\\lib\\site-packages (from requests>=2.10.0->newspaper3k) (2019.3.9)\n",
      "Requirement already satisfied: soupsieve>=1.2 in c:\\users\\j\\appdata\\local\\programs\\python\\python37\\lib\\site-packages (from beautifulsoup4>=4.4.1->newspaper3k) (1.8)\n"
     ]
    }
   ],
   "source": [
    "!pip3 install newspaper3k"
   ]
  },
  {
   "cell_type": "code",
   "execution_count": 2,
   "metadata": {},
   "outputs": [],
   "source": [
    "def download(url, params={}, retries=3):\n",
    "    resp = None\n",
    "    \n",
    "    header = {\"user-agent\": \"Mozilla/5.0 (Windows NT 10.0; Win64; x64) AppleWebKit/537.36 (KHTML, like Gecko) Chrome/74.0.3729.108 Safari/537.36\"}\n",
    "    \n",
    "    try:\n",
    "        resp = requests.get(url, params=params, headers = header)\n",
    "        resp.raise_for_status()\n",
    "    except requests.exceptions.HTTPError as e:\n",
    "        if 500 <= e.response.status_code < 600 and retries > 0:\n",
    "            print(retries)\n",
    "            resp = download(url, params, retries - 1)\n",
    "        else:\n",
    "            print(e.response.status_code)\n",
    "            print(e.response.reason)\n",
    "            print(e.request.headers)\n",
    "\n",
    "    return resp"
   ]
  },
  {
   "cell_type": "code",
   "execution_count": 23,
   "metadata": {},
   "outputs": [
    {
     "ename": "ModuleNotFoundError",
     "evalue": "No module named 'newspaper'",
     "output_type": "error",
     "traceback": [
      "\u001b[1;31m---------------------------------------------------------------------------\u001b[0m",
      "\u001b[1;31mModuleNotFoundError\u001b[0m                       Traceback (most recent call last)",
      "\u001b[1;32m<ipython-input-23-83b806c39519>\u001b[0m in \u001b[0;36m<module>\u001b[1;34m\u001b[0m\n\u001b[1;32m----> 1\u001b[1;33m \u001b[1;32mimport\u001b[0m \u001b[0mnewspaper\u001b[0m\u001b[1;33m\u001b[0m\u001b[1;33m\u001b[0m\u001b[0m\n\u001b[0m",
      "\u001b[1;31mModuleNotFoundError\u001b[0m: No module named 'newspaper'"
     ]
    }
   ],
   "source": [
    "import newspaper"
   ]
  },
  {
   "cell_type": "code",
   "execution_count": 16,
   "metadata": {},
   "outputs": [],
   "source": [
    "from bs4 import BeautifulSoup\n",
    "import requests\n",
    "\n",
    "html = download(\"https://media.daum.net/breakingnews/digital\")\n",
    "daumnews = BeautifulSoup(html.text, \"lxml\")"
   ]
  },
  {
   "cell_type": "code",
   "execution_count": 17,
   "metadata": {},
   "outputs": [
    {
     "ename": "NameError",
     "evalue": "name 'Article' is not defined",
     "output_type": "error",
     "traceback": [
      "\u001b[1;31m---------------------------------------------------------------------------\u001b[0m",
      "\u001b[1;31mNameError\u001b[0m                                 Traceback (most recent call last)",
      "\u001b[1;32m<ipython-input-17-2416fa3b453f>\u001b[0m in \u001b[0;36m<module>\u001b[1;34m\u001b[0m\n\u001b[0;32m     10\u001b[0m \u001b[1;32mfor\u001b[0m \u001b[0mi\u001b[0m \u001b[1;32min\u001b[0m \u001b[0mrange\u001b[0m\u001b[1;33m(\u001b[0m\u001b[1;36m0\u001b[0m\u001b[1;33m,\u001b[0m\u001b[1;36m17\u001b[0m\u001b[1;33m)\u001b[0m\u001b[1;33m:\u001b[0m\u001b[1;33m\u001b[0m\u001b[1;33m\u001b[0m\u001b[0m\n\u001b[0;32m     11\u001b[0m     \u001b[0murl\u001b[0m \u001b[1;33m=\u001b[0m \u001b[0mk\u001b[0m\u001b[1;33m[\u001b[0m\u001b[0mi\u001b[0m\u001b[1;33m]\u001b[0m\u001b[1;33m\u001b[0m\u001b[1;33m\u001b[0m\u001b[0m\n\u001b[1;32m---> 12\u001b[1;33m     \u001b[0ma\u001b[0m \u001b[1;33m=\u001b[0m \u001b[0mArticle\u001b[0m\u001b[1;33m(\u001b[0m\u001b[0murl\u001b[0m\u001b[1;33m,\u001b[0m \u001b[0mlanguage\u001b[0m\u001b[1;33m=\u001b[0m\u001b[1;34m'ko'\u001b[0m\u001b[1;33m)\u001b[0m\u001b[1;33m\u001b[0m\u001b[1;33m\u001b[0m\u001b[0m\n\u001b[0m\u001b[0;32m     13\u001b[0m     \u001b[0ma\u001b[0m\u001b[1;33m.\u001b[0m\u001b[0mdownload\u001b[0m\u001b[1;33m(\u001b[0m\u001b[1;33m)\u001b[0m\u001b[1;33m\u001b[0m\u001b[1;33m\u001b[0m\u001b[0m\n\u001b[0;32m     14\u001b[0m     \u001b[0ma\u001b[0m\u001b[1;33m.\u001b[0m\u001b[0mparse\u001b[0m\u001b[1;33m(\u001b[0m\u001b[1;33m)\u001b[0m\u001b[1;33m\u001b[0m\u001b[1;33m\u001b[0m\u001b[0m\n",
      "\u001b[1;31mNameError\u001b[0m: name 'Article' is not defined"
     ]
    }
   ],
   "source": [
    "daumnewstitellists = daumnews.select(\"div > strong > a\")\n",
    "k = []\n",
    "\n",
    "t = 18\n",
    "\n",
    "for links in daumnewstitellists:\n",
    "    l = links.get('href')\n",
    "    k.append(l)\n",
    "\n",
    "for i in range(0,17):\n",
    "    url = k[i]\n",
    "    a = Article(url, language='ko')\n",
    "    a.download()\n",
    "    a.parse()\n",
    "    with open(\"F:/daumnews/digital/%d.txt\" % int(i+t), \"w\", encoding=\"utf-8\") as f:\n",
    "        f.write(a.title)\n",
    "        f.write(a.text)\n",
    "        f.close()"
   ]
  },
  {
   "cell_type": "code",
   "execution_count": null,
   "metadata": {},
   "outputs": [],
   "source": [
    "daumnewstitellists = daumnews.select(\"div > strong > a\")\n",
    "k = []\n",
    "\n",
    "for links in daumnewstitellists:\n",
    "    l = links.get('href')\n",
    "    k.append(l)\n",
    "\n",
    "for i in range(0,17):\n",
    "    url = k[i]\n",
    "    a = Article(url, language='ko')\n",
    "    a.download()\n",
    "    a.parse()\n",
    "    with open(\"F:/daumnews/culture/%d.txt\" % i, \"w\", encoding=\"utf-8\") as f:\n",
    "        f.write(a.title)\n",
    "        f.write(a.text)\n",
    "        f.close()"
   ]
  },
  {
   "cell_type": "code",
   "execution_count": null,
   "metadata": {},
   "outputs": [],
   "source": [
    "from newspaper import Article\n",
    "from bs4 import BeautifulSoup\n",
    "import requests\n",
    "\n",
    "def download(url, params={}, retries=3):\n",
    "    resp = None\n",
    "\n",
    "    header = {\n",
    "        \"user-agent\": \"Mozilla/5.0 (Windows NT 10.0; Win64; x64) AppleWebKit/537.36 (KHTML, like Gecko) Chrome/74.0.3729.108 Safari/537.36\"}\n",
    "\n",
    "    try:\n",
    "        resp = requests.get(url, params=params, headers=header)\n",
    "        resp.raise_for_status()\n",
    "    except requests.exceptions.HTTPError as e:\n",
    "        if 500 <= e.response.status_code < 600 and retries > 0:\n",
    "            print(retries)\n",
    "            resp = download(url, params, retries - 1)\n",
    "        else:\n",
    "            print(e.response.status_code)\n",
    "            print(e.response.reason)\n",
    "            print(e.request.headers)\n",
    "\n",
    "    return resp\n",
    "\n",
    "html = download(\"https://news.nate.com/section?mid=n0200\")\n",
    "natenews = BeautifulSoup(html.text, \"lxml\")\n",
    "\n",
    "natenewstitellists = natenews.select(\"div[id=newsContents] > div > div > div > div > a\")\n",
    "#cid706693 > div > div > div > a\n",
    "\n",
    "k = []\n",
    "\n",
    "for links in natenewstitellists:\n",
    "    l = links.get('href')\n",
    "    k.append('https:' + l)\n",
    "\n",
    "#print(k)\n",
    "for i in range(0,15):\n",
    "    url = k[i]\n",
    "    a = Article(url, language='ko')\n",
    "    a.download()\n",
    "    a.parse()\n",
    "    with open(\"C:/Users/J/Desktop/바탕화면 파일들/CodePractice/Python/AI 이노베이션 스퀘어 자연어처리 과정/assignments/natenews/정치/%d.txt\" % i, \"w\", encoding=\"utf-8\") as f:\n",
    "        f.write(a.title)\n",
    "        f.write(a.text)\n",
    "        f.close()\n",
    "        \n",
    "#cid706693 > div > div > div > a\n",
    "#cid706693 > div > div > ul > li:nth-child(1) > a"
   ]
  },
  {
   "cell_type": "code",
   "execution_count": null,
   "metadata": {},
   "outputs": [],
   "source": [
    "from newspaper import Article\n",
    "from bs4 import BeautifulSoup\n",
    "import requests\n",
    "\n",
    "def download(url, params={}, retries=3):\n",
    "    resp = None\n",
    "\n",
    "    header = {\n",
    "        \"user-agent\": \"Mozilla/5.0 (Windows NT 10.0; Win64; x64) AppleWebKit/537.36 (KHTML, like Gecko) Chrome/74.0.3729.108 Safari/537.36\"}\n",
    "\n",
    "    try:\n",
    "        resp = requests.get(url, params=params, headers=header)\n",
    "        resp.raise_for_status()\n",
    "    except requests.exceptions.HTTPError as e:\n",
    "        if 500 <= e.response.status_code < 600 and retries > 0:\n",
    "            print(retries)\n",
    "            resp = download(url, params, retries - 1)\n",
    "        else:\n",
    "            print(e.response.status_code)\n",
    "            print(e.response.reason)\n",
    "            print(e.request.headers)\n",
    "\n",
    "    return resp\n",
    "\n",
    "html = download(\"https://news.nate.com/section?mid=n0200\")\n",
    "natenews = BeautifulSoup(html.text, \"lxml\")\n",
    "\n",
    "natenewstitellists = natenews.select(\"div[id=newsContents] > div > div > div > ul > li > a\")\n",
    "#cid706693 > div > div > div > a\n",
    "\n",
    "k = []\n",
    "\n",
    "t = 15\n",
    "\n",
    "for links in natenewstitellists:\n",
    "    l = links.get('href')\n",
    "    k.append('https:' + l)\n",
    "\n",
    "#print(k)\n",
    "for i in range(0,15):\n",
    "    url = k[i]\n",
    "    a = Article(url, language='ko')\n",
    "    a.download()\n",
    "    a.parse()\n",
    "    with open(\"C:/Users/J/Desktop/바탕화면 파일들/CodePractice/Python/AI 이노베이션 스퀘어 자연어처리 과정/assignments/natenews/정치/%d.txt\" % int(i+t), \"w\", encoding=\"utf-8\") as f:\n",
    "        f.write(a.title)\n",
    "        f.write(a.text)\n",
    "        f.close()\n",
    "        \n",
    "#cid706693 > div > div > div > a\n",
    "#cid706693 > div > div > ul > li:nth-child(1) > a"
   ]
  }
 ],
 "metadata": {
  "kernelspec": {
   "display_name": "Python 3",
   "language": "python",
   "name": "python3"
  },
  "language_info": {
   "codemirror_mode": {
    "name": "ipython",
    "version": 3
   },
   "file_extension": ".py",
   "mimetype": "text/x-python",
   "name": "python",
   "nbconvert_exporter": "python",
   "pygments_lexer": "ipython3",
   "version": "3.6.8"
  }
 },
 "nbformat": 4,
 "nbformat_minor": 2
}
