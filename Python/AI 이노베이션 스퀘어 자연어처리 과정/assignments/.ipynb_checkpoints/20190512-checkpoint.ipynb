{
 "cells": [
  {
   "cell_type": "code",
   "execution_count": 2,
   "metadata": {},
   "outputs": [
    {
     "name": "stdout",
     "output_type": "stream",
     "text": [
      "Requirement already satisfied: newspaper3k in c:\\users\\j\\appdata\\local\\programs\\python\\python37\\lib\\site-packages (0.2.8)\n",
      "Requirement already satisfied: beautifulsoup4>=4.4.1 in c:\\users\\j\\appdata\\local\\programs\\python\\python37\\lib\\site-packages (from newspaper3k) (4.7.1)\n",
      "Requirement already satisfied: Pillow>=3.3.0 in c:\\users\\j\\appdata\\local\\programs\\python\\python37\\lib\\site-packages (from newspaper3k) (5.4.1)\n",
      "Requirement already satisfied: PyYAML>=3.11 in c:\\users\\j\\appdata\\local\\programs\\python\\python37\\lib\\site-packages (from newspaper3k) (3.13)\n",
      "Requirement already satisfied: python-dateutil>=2.5.3 in c:\\users\\j\\appdata\\local\\programs\\python\\python37\\lib\\site-packages (from newspaper3k) (2.8.0)\n",
      "Requirement already satisfied: feedparser>=5.2.1 in c:\\users\\j\\appdata\\local\\programs\\python\\python37\\lib\\site-packages (from newspaper3k) (5.2.1)\n",
      "Requirement already satisfied: tinysegmenter==0.3 in c:\\users\\j\\appdata\\local\\programs\\python\\python37\\lib\\site-packages (from newspaper3k) (0.3)\n",
      "Requirement already satisfied: lxml>=3.6.0 in c:\\users\\j\\appdata\\local\\programs\\python\\python37\\lib\\site-packages (from newspaper3k) (4.3.3)\n",
      "Requirement already satisfied: nltk>=3.2.1 in c:\\users\\j\\appdata\\local\\programs\\python\\python37\\lib\\site-packages (from newspaper3k) (3.4)\n",
      "Requirement already satisfied: tldextract>=2.0.1 in c:\\users\\j\\appdata\\local\\programs\\python\\python37\\lib\\site-packages (from newspaper3k) (2.2.1)\n",
      "Requirement already satisfied: feedfinder2>=0.0.4 in c:\\users\\j\\appdata\\local\\programs\\python\\python37\\lib\\site-packages (from newspaper3k) (0.0.4)\n",
      "Requirement already satisfied: requests>=2.10.0 in c:\\users\\j\\appdata\\local\\programs\\python\\python37\\lib\\site-packages (from newspaper3k) (2.21.0)\n",
      "Requirement already satisfied: jieba3k>=0.35.1 in c:\\users\\j\\appdata\\local\\programs\\python\\python37\\lib\\site-packages (from newspaper3k) (0.35.1)\n",
      "Requirement already satisfied: cssselect>=0.9.2 in c:\\users\\j\\appdata\\local\\programs\\python\\python37\\lib\\site-packages (from newspaper3k) (1.0.3)\n",
      "Requirement already satisfied: soupsieve>=1.2 in c:\\users\\j\\appdata\\local\\programs\\python\\python37\\lib\\site-packages (from beautifulsoup4>=4.4.1->newspaper3k) (1.8)\n",
      "Requirement already satisfied: six>=1.5 in c:\\users\\j\\appdata\\local\\programs\\python\\python37\\lib\\site-packages (from python-dateutil>=2.5.3->newspaper3k) (1.12.0)\n",
      "Requirement already satisfied: singledispatch in c:\\users\\j\\appdata\\local\\programs\\python\\python37\\lib\\site-packages (from nltk>=3.2.1->newspaper3k) (3.4.0.3)\n",
      "Requirement already satisfied: requests-file>=1.4 in c:\\users\\j\\appdata\\local\\programs\\python\\python37\\lib\\site-packages (from tldextract>=2.0.1->newspaper3k) (1.4.3)\n",
      "Requirement already satisfied: idna in c:\\users\\j\\appdata\\local\\programs\\python\\python37\\lib\\site-packages (from tldextract>=2.0.1->newspaper3k) (2.8)\n",
      "Requirement already satisfied: setuptools in c:\\users\\j\\appdata\\local\\programs\\python\\python37\\lib\\site-packages (from tldextract>=2.0.1->newspaper3k) (40.6.2)\n",
      "Requirement already satisfied: certifi>=2017.4.17 in c:\\users\\j\\appdata\\local\\programs\\python\\python37\\lib\\site-packages (from requests>=2.10.0->newspaper3k) (2019.3.9)\n",
      "Requirement already satisfied: urllib3<1.25,>=1.21.1 in c:\\users\\j\\appdata\\local\\programs\\python\\python37\\lib\\site-packages (from requests>=2.10.0->newspaper3k) (1.24.1)\n",
      "Requirement already satisfied: chardet<3.1.0,>=3.0.2 in c:\\users\\j\\appdata\\local\\programs\\python\\python37\\lib\\site-packages (from requests>=2.10.0->newspaper3k) (3.0.4)\n"
     ]
    },
    {
     "name": "stderr",
     "output_type": "stream",
     "text": [
      "You are using pip version 19.0.3, however version 19.1 is available.\n",
      "You should consider upgrading via the 'python -m pip install --upgrade pip' command.\n"
     ]
    }
   ],
   "source": [
    "!pip install newspaper3k"
   ]
  },
  {
   "cell_type": "code",
   "execution_count": 112,
   "metadata": {},
   "outputs": [
    {
     "name": "stdout",
     "output_type": "stream",
     "text": [
      "[포토] G2 '밀키' 미하엘, \"이제 IG만 남았어요\"\n",
      "13일 오후 베트남 하노이 국립 컨벤션센터에서 열린 MSI 그룹 스테이지 4일차 G2 e스포츠와 플래시 울브즈의 경기서 승리한 G2 '밀키' 미하엘 메흘레가 베트남어 방송 인터뷰를 하고 있다.\n",
      "\n",
      "하노이(베트남) ㅣ 김용우 기자 kenzi@fomos.co.kr\n",
      "\n",
      "포모스와 함께 즐기는 e스포츠, 게임 그 이상을 향해!\n",
      "\n",
      "Copyrights ⓒ FOMOS(http://www.fomos.kr) 무단 전재 및 재배포 금지\n"
     ]
    }
   ],
   "source": [
    "from newspaper import Article\n",
    "\n",
    "'''\n",
    "http://v.media.daum.net/v/20190513202543774\n",
    "http://v.media.daum.net/v/20190513202526771\n",
    "http://v.media.daum.net/v/20190513202442768\n",
    "http://v.media.daum.net/v/20190513202100733\n",
    "http://v.media.daum.net/v/20190513201951713\n",
    "http://v.media.daum.net/v/20190513201912711\n",
    "http://v.media.daum.net/v/20190513201708688\n",
    "http://v.media.daum.net/v/20190513201646686\n",
    "http://v.media.daum.net/v/20190513201515670\n",
    "http://v.media.daum.net/v/20190513201343654\n",
    "http://v.media.daum.net/v/20190513201042627\n",
    "http://v.media.daum.net/v/20190513200900613\n",
    "http://v.media.daum.net/v/20190513200731602\n",
    "http://v.media.daum.net/v/20190513200601595\n",
    "http://v.media.daum.net/v/20190513200601594\n",
    "http://v.media.daum.net/v/20190513201012624\n",
    "http://v.media.daum.net/v/20190513200300564\n",
    "'''\n",
    "\n",
    "url = 'http://v.media.daum.net/v/20190513202526771'\n",
    "a = Article(url, language='ko')\n",
    "a.download()\n",
    "a.parse()\n",
    "print(a.title)\n",
    "print(a.text)\n",
    "\n",
    "with open(\"F:/daumnews/sports/02.txt\", \"w\") as f:\n",
    "    f.write(a.text)\n",
    "f.close()"
   ]
  },
  {
   "cell_type": "code",
   "execution_count": 2,
   "metadata": {},
   "outputs": [],
   "source": [
    "def download(url, params={}, retries=3):\n",
    "    resp = None\n",
    "    \n",
    "    header = {\"user-agent\": \"Mozilla/5.0 (Windows NT 10.0; Win64; x64) AppleWebKit/537.36 (KHTML, like Gecko) Chrome/74.0.3729.108 Safari/537.36\"}\n",
    "    \n",
    "    try:\n",
    "        resp = requests.get(url, params=params, headers = header)\n",
    "        resp.raise_for_status()\n",
    "    except requests.exceptions.HTTPError as e:\n",
    "        if 500 <= e.response.status_code < 600 and retries > 0:\n",
    "            print(retries)\n",
    "            resp = download(url, params, retries - 1)\n",
    "        else:\n",
    "            print(e.response.status_code)\n",
    "            print(e.response.reason)\n",
    "            print(e.request.headers)\n",
    "\n",
    "    return resp"
   ]
  },
  {
   "cell_type": "code",
   "execution_count": 3,
   "metadata": {},
   "outputs": [
    {
     "ename": "ModuleNotFoundError",
     "evalue": "No module named 'newspaper'",
     "output_type": "error",
     "traceback": [
      "\u001b[1;31m---------------------------------------------------------------------------\u001b[0m",
      "\u001b[1;31mModuleNotFoundError\u001b[0m                       Traceback (most recent call last)",
      "\u001b[1;32m<ipython-input-3-acba8a1324f9>\u001b[0m in \u001b[0;36m<module>\u001b[1;34m\u001b[0m\n\u001b[1;32m----> 1\u001b[1;33m \u001b[1;32mfrom\u001b[0m \u001b[0mnewspaper\u001b[0m \u001b[1;32mimport\u001b[0m \u001b[0mArticle\u001b[0m\u001b[1;33m\u001b[0m\u001b[1;33m\u001b[0m\u001b[0m\n\u001b[0m\u001b[0;32m      2\u001b[0m \u001b[1;32mfrom\u001b[0m \u001b[0mbs4\u001b[0m \u001b[1;32mimport\u001b[0m \u001b[0mBeautifulSoup\u001b[0m\u001b[1;33m\u001b[0m\u001b[1;33m\u001b[0m\u001b[0m\n\u001b[0;32m      3\u001b[0m \u001b[1;32mimport\u001b[0m \u001b[0mrequests\u001b[0m\u001b[1;33m\u001b[0m\u001b[1;33m\u001b[0m\u001b[0m\n\u001b[0;32m      4\u001b[0m \u001b[1;33m\u001b[0m\u001b[0m\n\u001b[0;32m      5\u001b[0m \u001b[0mhtml\u001b[0m \u001b[1;33m=\u001b[0m \u001b[0mdownload\u001b[0m\u001b[1;33m(\u001b[0m\u001b[1;34m\"https://media.daum.net/breakingnews/digital\"\u001b[0m\u001b[1;33m)\u001b[0m\u001b[1;33m\u001b[0m\u001b[1;33m\u001b[0m\u001b[0m\n",
      "\u001b[1;31mModuleNotFoundError\u001b[0m: No module named 'newspaper'"
     ]
    }
   ],
   "source": [
    "from newspaper import Article\n",
    "from bs4 import BeautifulSoup\n",
    "import requests\n",
    "\n",
    "html = download(\"https://media.daum.net/breakingnews/digital\")\n",
    "daumnews = BeautifulSoup(html.text, \"lxml\")"
   ]
  },
  {
   "cell_type": "code",
   "execution_count": 30,
   "metadata": {},
   "outputs": [],
   "source": [
    "daumnewstitellists = daumnews.select(\"div > strong > a\")\n",
    "k = []\n",
    "\n",
    "t = 18\n",
    "\n",
    "for links in daumnewstitellists:\n",
    "    l = links.get('href')\n",
    "    k.append(l)\n",
    "\n",
    "for i in range(0,17):\n",
    "    url = k[i]\n",
    "    a = Article(url, language='ko')\n",
    "    a.download()\n",
    "    a.parse()\n",
    "    with open(\"F:/daumnews/digital/%d.txt\" % int(i+t), \"w\", encoding=\"utf-8\") as f:\n",
    "        f.write(a.title)\n",
    "        f.write(a.text)\n",
    "        f.close()"
   ]
  },
  {
   "cell_type": "code",
   "execution_count": null,
   "metadata": {},
   "outputs": [],
   "source": [
    "daumnewstitellists = daumnews.select(\"div > strong > a\")\n",
    "k = []\n",
    "\n",
    "for links in daumnewstitellists:\n",
    "    l = links.get('href')\n",
    "    k.append(l)\n",
    "\n",
    "for i in range(0,17):\n",
    "    url = k[i]\n",
    "    a = Article(url, language='ko')\n",
    "    a.download()\n",
    "    a.parse()\n",
    "    with open(\"F:/daumnews/culture/%d.txt\" % i, \"w\", encoding=\"utf-8\") as f:\n",
    "        f.write(a.title)\n",
    "        f.write(a.text)\n",
    "        f.close()"
   ]
  }
 ],
 "metadata": {
  "kernelspec": {
   "display_name": "Python 3",
   "language": "python",
   "name": "python3"
  },
  "language_info": {
   "codemirror_mode": {
    "name": "ipython",
    "version": 3
   },
   "file_extension": ".py",
   "mimetype": "text/x-python",
   "name": "python",
   "nbconvert_exporter": "python",
   "pygments_lexer": "ipython3",
   "version": "3.6.8"
  }
 },
 "nbformat": 4,
 "nbformat_minor": 2
}
