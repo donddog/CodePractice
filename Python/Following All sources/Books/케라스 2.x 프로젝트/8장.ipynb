{
 "cells": [
  {
   "cell_type": "code",
   "execution_count": 1,
   "metadata": {},
   "outputs": [
    {
     "name": "stderr",
     "output_type": "stream",
     "text": [
      "Using TensorFlow backend.\n",
      "C:\\Anaconda\\lib\\site-packages\\tensorflow\\python\\framework\\dtypes.py:516: FutureWarning: Passing (type, 1) or '1type' as a synonym of type is deprecated; in a future version of numpy, it will be understood as (type, (1,)) / '(1,)type'.\n",
      "  _np_qint8 = np.dtype([(\"qint8\", np.int8, 1)])\n",
      "C:\\Anaconda\\lib\\site-packages\\tensorflow\\python\\framework\\dtypes.py:517: FutureWarning: Passing (type, 1) or '1type' as a synonym of type is deprecated; in a future version of numpy, it will be understood as (type, (1,)) / '(1,)type'.\n",
      "  _np_quint8 = np.dtype([(\"quint8\", np.uint8, 1)])\n",
      "C:\\Anaconda\\lib\\site-packages\\tensorflow\\python\\framework\\dtypes.py:518: FutureWarning: Passing (type, 1) or '1type' as a synonym of type is deprecated; in a future version of numpy, it will be understood as (type, (1,)) / '(1,)type'.\n",
      "  _np_qint16 = np.dtype([(\"qint16\", np.int16, 1)])\n",
      "C:\\Anaconda\\lib\\site-packages\\tensorflow\\python\\framework\\dtypes.py:519: FutureWarning: Passing (type, 1) or '1type' as a synonym of type is deprecated; in a future version of numpy, it will be understood as (type, (1,)) / '(1,)type'.\n",
      "  _np_quint16 = np.dtype([(\"quint16\", np.uint16, 1)])\n",
      "C:\\Anaconda\\lib\\site-packages\\tensorflow\\python\\framework\\dtypes.py:520: FutureWarning: Passing (type, 1) or '1type' as a synonym of type is deprecated; in a future version of numpy, it will be understood as (type, (1,)) / '(1,)type'.\n",
      "  _np_qint32 = np.dtype([(\"qint32\", np.int32, 1)])\n",
      "C:\\Anaconda\\lib\\site-packages\\tensorflow\\python\\framework\\dtypes.py:525: FutureWarning: Passing (type, 1) or '1type' as a synonym of type is deprecated; in a future version of numpy, it will be understood as (type, (1,)) / '(1,)type'.\n",
      "  np_resource = np.dtype([(\"resource\", np.ubyte, 1)])\n",
      "C:\\Anaconda\\lib\\site-packages\\tensorboard\\compat\\tensorflow_stub\\dtypes.py:541: FutureWarning: Passing (type, 1) or '1type' as a synonym of type is deprecated; in a future version of numpy, it will be understood as (type, (1,)) / '(1,)type'.\n",
      "  _np_qint8 = np.dtype([(\"qint8\", np.int8, 1)])\n",
      "C:\\Anaconda\\lib\\site-packages\\tensorboard\\compat\\tensorflow_stub\\dtypes.py:542: FutureWarning: Passing (type, 1) or '1type' as a synonym of type is deprecated; in a future version of numpy, it will be understood as (type, (1,)) / '(1,)type'.\n",
      "  _np_quint8 = np.dtype([(\"quint8\", np.uint8, 1)])\n",
      "C:\\Anaconda\\lib\\site-packages\\tensorboard\\compat\\tensorflow_stub\\dtypes.py:543: FutureWarning: Passing (type, 1) or '1type' as a synonym of type is deprecated; in a future version of numpy, it will be understood as (type, (1,)) / '(1,)type'.\n",
      "  _np_qint16 = np.dtype([(\"qint16\", np.int16, 1)])\n",
      "C:\\Anaconda\\lib\\site-packages\\tensorboard\\compat\\tensorflow_stub\\dtypes.py:544: FutureWarning: Passing (type, 1) or '1type' as a synonym of type is deprecated; in a future version of numpy, it will be understood as (type, (1,)) / '(1,)type'.\n",
      "  _np_quint16 = np.dtype([(\"quint16\", np.uint16, 1)])\n",
      "C:\\Anaconda\\lib\\site-packages\\tensorboard\\compat\\tensorflow_stub\\dtypes.py:545: FutureWarning: Passing (type, 1) or '1type' as a synonym of type is deprecated; in a future version of numpy, it will be understood as (type, (1,)) / '(1,)type'.\n",
      "  _np_qint32 = np.dtype([(\"qint32\", np.int32, 1)])\n",
      "C:\\Anaconda\\lib\\site-packages\\tensorboard\\compat\\tensorflow_stub\\dtypes.py:550: FutureWarning: Passing (type, 1) or '1type' as a synonym of type is deprecated; in a future version of numpy, it will be understood as (type, (1,)) / '(1,)type'.\n",
      "  np_resource = np.dtype([(\"resource\", np.ubyte, 1)])\n"
     ]
    },
    {
     "name": "stdout",
     "output_type": "stream",
     "text": [
      "Downloading data from https://s3.amazonaws.com/img-datasets/mnist.npz\n",
      "11493376/11490434 [==============================] - 200s 17us/step\n"
     ]
    }
   ],
   "source": [
    "from keras.datasets import mnist\n",
    "\n",
    "(XTrain, YTrain), (XTest, YTest) = mnist.load_data()"
   ]
  },
  {
   "cell_type": "code",
   "execution_count": 2,
   "metadata": {},
   "outputs": [
    {
     "name": "stdout",
     "output_type": "stream",
     "text": [
      "XTrain class =  <class 'numpy.ndarray'>\n",
      "YTrain class =  <class 'numpy.ndarray'>\n",
      "XTest shape =  <class 'numpy.ndarray'>\n",
      "YTest shape =  <class 'numpy.ndarray'>\n"
     ]
    }
   ],
   "source": [
    "print('XTrain class = ',type(XTrain))\n",
    "print('YTrain class = ',type(YTrain))\n",
    "print('XTest shape = ',type(XTest))\n",
    "print('YTest shape = ',type(YTest))"
   ]
  },
  {
   "cell_type": "code",
   "execution_count": 3,
   "metadata": {},
   "outputs": [
    {
     "name": "stdout",
     "output_type": "stream",
     "text": [
      "XTrain shape =  (60000, 28, 28)\n",
      "XTest shape =  (10000, 28, 28)\n",
      "YTrain shape =  (60000,)\n",
      "YTest shape =  (10000,)\n"
     ]
    }
   ],
   "source": [
    "print('XTrain shape = ',XTrain.shape)\n",
    "print('XTest shape = ',XTest.shape)\n",
    "print('YTrain shape = ',YTrain.shape)\n",
    "print('YTest shape = ',YTest.shape)"
   ]
  },
  {
   "cell_type": "code",
   "execution_count": 4,
   "metadata": {},
   "outputs": [
    {
     "name": "stdout",
     "output_type": "stream",
     "text": [
      "YTrain values =  [0 1 2 3 4 5 6 7 8 9]\n",
      "YTest values =  [0 1 2 3 4 5 6 7 8 9]\n"
     ]
    }
   ],
   "source": [
    "import numpy as np\n",
    "\n",
    "print('YTrain values = ',np.unique(YTrain))\n",
    "print('YTest values = ',np.unique(YTest))"
   ]
  },
  {
   "cell_type": "code",
   "execution_count": 5,
   "metadata": {},
   "outputs": [
    {
     "name": "stdout",
     "output_type": "stream",
     "text": [
      "YTrain distribution =  {0: 5923, 1: 6742, 2: 5958, 3: 6131, 4: 5842, 5: 5421, 6: 5918, 7: 6265, 8: 5851, 9: 5949}\n",
      "YTrain distribution =  {0: 980, 1: 1135, 2: 1032, 3: 1010, 4: 982, 5: 892, 6: 958, 7: 1028, 8: 974, 9: 1009}\n"
     ]
    }
   ],
   "source": [
    "unique, counts = np.unique(YTrain, return_counts=True)\n",
    "print('YTrain distribution = ',dict(zip(unique, counts)))\n",
    "\n",
    "unique, counts = np.unique(YTest, return_counts=True)\n",
    "print('YTrain distribution = ',dict(zip(unique, counts)))"
   ]
  },
  {
   "cell_type": "code",
   "execution_count": 6,
   "metadata": {},
   "outputs": [
    {
     "data": {
      "image/png": "[encoded data removed]",
      "text/plain": [
       "<Figure size 432x288 with 2 Axes>"
      ]
     },
     "metadata": {
      "needs_background": "light"
     },
     "output_type": "display_data"
    }
   ],
   "source": [
    "import matplotlib.pyplot as plt\n",
    "\n",
    "plt.figure(1)\n",
    "plt.subplot(121)\n",
    "plt.hist(YTrain, alpha=0.8, ec='black')\n",
    "plt.xlabel(\"Classes\")\n",
    "plt.ylabel(\"Number of occurrences\")\n",
    "plt.title(\"YTrain data\")\n",
    "\n",
    "plt.subplot(122)\n",
    "plt.hist(YTest, alpha=0.8, ec='black')\n",
    "plt.xlabel(\"Classes\")\n",
    "plt.ylabel(\"Number of occurrences\")\n",
    "plt.title(\"YTest data\")\n",
    "plt.show()"
   ]
  },
  {
   "cell_type": "code",
   "execution_count": 7,
   "metadata": {},
   "outputs": [
    {
     "name": "stdout",
     "output_type": "stream",
     "text": [
      "(60000, 784)\n",
      "(10000, 784)\n"
     ]
    }
   ],
   "source": [
    "XTrain = XTrain.astype('float32') / 255\n",
    "XTest = XTest.astype('float32') / 255\n",
    "\n",
    "XTrain = XTrain.reshape((len(XTrain), np.prod(XTrain.shape[1:])))\n",
    "XTest = XTest.reshape((len(XTest), np.prod(XTest.shape[1:])))\n",
    "\n",
    "print (XTrain.shape)\n",
    "print (XTest.shape)"
   ]
  },
  {
   "cell_type": "code",
   "execution_count": 8,
   "metadata": {},
   "outputs": [],
   "source": [
    "from keras.layers import Input \n",
    "from keras.layers import Dense\n",
    "from keras.models import Model\n",
    "\n",
    "InputModel = Input(shape=(784,))\n",
    "EncodedLayer = Dense(32, activation='relu')(InputModel)\n",
    "DecodedLayer = Dense(784, activation='sigmoid')(EncodedLayer)\n",
    "AutoencoderModel = Model(InputModel, DecodedLayer)"
   ]
  },
  {
   "cell_type": "code",
   "execution_count": 9,
   "metadata": {},
   "outputs": [
    {
     "name": "stdout",
     "output_type": "stream",
     "text": [
      "Model: \"model_1\"\n",
      "_________________________________________________________________\n",
      "Layer (type)                 Output Shape              Param #   \n",
      "=================================================================\n",
      "input_1 (InputLayer)         (None, 784)               0         \n",
      "_________________________________________________________________\n",
      "dense_1 (Dense)              (None, 32)                25120     \n",
      "_________________________________________________________________\n",
      "dense_2 (Dense)              (None, 784)               25872     \n",
      "=================================================================\n",
      "Total params: 50,992\n",
      "Trainable params: 50,992\n",
      "Non-trainable params: 0\n",
      "_________________________________________________________________\n"
     ]
    }
   ],
   "source": [
    "AutoencoderModel.summary()"
   ]
  },
  {
   "cell_type": "code",
   "execution_count": 10,
   "metadata": {},
   "outputs": [
    {
     "name": "stdout",
     "output_type": "stream",
     "text": [
      "WARNING:tensorflow:From C:\\Anaconda\\lib\\site-packages\\tensorflow\\python\\ops\\nn_impl.py:180: add_dispatch_support.<locals>.wrapper (from tensorflow.python.ops.array_ops) is deprecated and will be removed in a future version.\n",
      "Instructions for updating:\n",
      "Use tf.where in 2.0, which has the same broadcast rule as np.where\n",
      "WARNING:tensorflow:From C:\\Anaconda\\lib\\site-packages\\keras\\backend\\tensorflow_backend.py:422: The name tf.global_variables is deprecated. Please use tf.compat.v1.global_variables instead.\n",
      "\n",
      "Train on 60000 samples, validate on 10000 samples\n",
      "Epoch 1/100\n",
      "60000/60000 [==============================] - 1s 19us/step - loss: 0.3536 - val_loss: 0.2719\n",
      "Epoch 2/100\n",
      "60000/60000 [==============================] - 1s 10us/step - loss: 0.2659 - val_loss: 0.2563\n",
      "Epoch 3/100\n",
      "60000/60000 [==============================] - 1s 10us/step - loss: 0.2464 - val_loss: 0.2341\n",
      "Epoch 4/100\n",
      "60000/60000 [==============================] - 1s 10us/step - loss: 0.2255 - val_loss: 0.2146\n",
      "Epoch 5/100\n",
      "60000/60000 [==============================] - 1s 10us/step - loss: 0.2090 - val_loss: 0.2007\n",
      "Epoch 6/100\n",
      "60000/60000 [==============================] - 1s 10us/step - loss: 0.1971 - val_loss: 0.1906\n",
      "Epoch 7/100\n",
      "60000/60000 [==============================] - 1s 10us/step - loss: 0.1881 - val_loss: 0.1825\n",
      "Epoch 8/100\n",
      "60000/60000 [==============================] - 1s 10us/step - loss: 0.1808 - val_loss: 0.1760\n",
      "Epoch 9/100\n",
      "60000/60000 [==============================] - 1s 10us/step - loss: 0.1747 - val_loss: 0.1705\n",
      "Epoch 10/100\n",
      "60000/60000 [==============================] - 1s 10us/step - loss: 0.1695 - val_loss: 0.1656\n",
      "Epoch 11/100\n",
      "60000/60000 [==============================] - 1s 10us/step - loss: 0.1650 - val_loss: 0.1613\n",
      "Epoch 12/100\n",
      "60000/60000 [==============================] - 1s 10us/step - loss: 0.1610 - val_loss: 0.1575\n",
      "Epoch 13/100\n",
      "60000/60000 [==============================] - 1s 10us/step - loss: 0.1573 - val_loss: 0.1540\n",
      "Epoch 14/100\n",
      "60000/60000 [==============================] - 1s 10us/step - loss: 0.1540 - val_loss: 0.1508\n",
      "Epoch 15/100\n",
      "60000/60000 [==============================] - 1s 10us/step - loss: 0.1508 - val_loss: 0.1478\n",
      "Epoch 16/100\n",
      "60000/60000 [==============================] - 1s 10us/step - loss: 0.1478 - val_loss: 0.1447\n",
      "Epoch 17/100\n",
      "60000/60000 [==============================] - 1s 10us/step - loss: 0.1449 - val_loss: 0.1419\n",
      "Epoch 18/100\n",
      "60000/60000 [==============================] - 1s 10us/step - loss: 0.1421 - val_loss: 0.1392\n",
      "Epoch 19/100\n",
      "60000/60000 [==============================] - 1s 10us/step - loss: 0.1395 - val_loss: 0.1366\n",
      "Epoch 20/100\n",
      "60000/60000 [==============================] - 1s 10us/step - loss: 0.1370 - val_loss: 0.1342\n",
      "Epoch 21/100\n",
      "60000/60000 [==============================] - 1s 10us/step - loss: 0.1347 - val_loss: 0.1319\n",
      "Epoch 22/100\n",
      "60000/60000 [==============================] - 1s 10us/step - loss: 0.1325 - val_loss: 0.1298\n",
      "Epoch 23/100\n",
      "60000/60000 [==============================] - 1s 10us/step - loss: 0.1304 - val_loss: 0.1277\n",
      "Epoch 24/100\n",
      "60000/60000 [==============================] - 1s 10us/step - loss: 0.1284 - val_loss: 0.1258\n",
      "Epoch 25/100\n",
      "60000/60000 [==============================] - 1s 10us/step - loss: 0.1266 - val_loss: 0.1240\n",
      "Epoch 26/100\n",
      "60000/60000 [==============================] - 1s 10us/step - loss: 0.1248 - val_loss: 0.1224\n",
      "Epoch 27/100\n",
      "60000/60000 [==============================] - 1s 10us/step - loss: 0.1231 - val_loss: 0.1207\n",
      "Epoch 28/100\n",
      "60000/60000 [==============================] - 1s 10us/step - loss: 0.1216 - val_loss: 0.1192\n",
      "Epoch 29/100\n",
      "60000/60000 [==============================] - 1s 10us/step - loss: 0.1201 - val_loss: 0.1178\n",
      "Epoch 30/100\n",
      "60000/60000 [==============================] - 1s 10us/step - loss: 0.1188 - val_loss: 0.1164\n",
      "Epoch 31/100\n",
      "60000/60000 [==============================] - 1s 10us/step - loss: 0.1175 - val_loss: 0.1153\n",
      "Epoch 32/100\n",
      "60000/60000 [==============================] - 1s 10us/step - loss: 0.1163 - val_loss: 0.1141\n",
      "Epoch 33/100\n",
      "60000/60000 [==============================] - 1s 10us/step - loss: 0.1152 - val_loss: 0.1130\n",
      "Epoch 34/100\n",
      "60000/60000 [==============================] - 1s 10us/step - loss: 0.1142 - val_loss: 0.1120\n",
      "Epoch 35/100\n",
      "60000/60000 [==============================] - 1s 10us/step - loss: 0.1133 - val_loss: 0.1111\n",
      "Epoch 36/100\n",
      "60000/60000 [==============================] - 1s 10us/step - loss: 0.1124 - val_loss: 0.1103\n",
      "Epoch 37/100\n",
      "60000/60000 [==============================] - 1s 10us/step - loss: 0.1116 - val_loss: 0.1095\n",
      "Epoch 38/100\n",
      "60000/60000 [==============================] - 1s 10us/step - loss: 0.1108 - val_loss: 0.1088\n",
      "Epoch 39/100\n",
      "60000/60000 [==============================] - 1s 10us/step - loss: 0.1101 - val_loss: 0.1081\n",
      "Epoch 40/100\n",
      "60000/60000 [==============================] - 1s 10us/step - loss: 0.1094 - val_loss: 0.1075\n",
      "Epoch 41/100\n",
      "60000/60000 [==============================] - 1s 10us/step - loss: 0.1088 - val_loss: 0.1069\n",
      "Epoch 42/100\n",
      "60000/60000 [==============================] - 1s 10us/step - loss: 0.1082 - val_loss: 0.1063\n",
      "Epoch 43/100\n",
      "60000/60000 [==============================] - 1s 10us/step - loss: 0.1077 - val_loss: 0.1058\n",
      "Epoch 44/100\n",
      "60000/60000 [==============================] - 1s 10us/step - loss: 0.1072 - val_loss: 0.1053\n",
      "Epoch 45/100\n",
      "60000/60000 [==============================] - 1s 10us/step - loss: 0.1067 - val_loss: 0.1049\n",
      "Epoch 46/100\n",
      "60000/60000 [==============================] - 1s 10us/step - loss: 0.1062 - val_loss: 0.1044\n",
      "Epoch 47/100\n",
      "60000/60000 [==============================] - 1s 10us/step - loss: 0.1058 - val_loss: 0.1040\n",
      "Epoch 48/100\n",
      "60000/60000 [==============================] - 1s 10us/step - loss: 0.1054 - val_loss: 0.1036\n",
      "Epoch 49/100\n",
      "60000/60000 [==============================] - 1s 10us/step - loss: 0.1050 - val_loss: 0.1033\n",
      "Epoch 50/100\n",
      "60000/60000 [==============================] - 1s 10us/step - loss: 0.1047 - val_loss: 0.1029\n",
      "Epoch 51/100\n",
      "60000/60000 [==============================] - 1s 10us/step - loss: 0.1044 - val_loss: 0.1026\n",
      "Epoch 52/100\n",
      "60000/60000 [==============================] - 1s 10us/step - loss: 0.1040 - val_loss: 0.1023\n",
      "Epoch 53/100\n",
      "60000/60000 [==============================] - 1s 10us/step - loss: 0.1037 - val_loss: 0.1020\n",
      "Epoch 54/100\n",
      "60000/60000 [==============================] - 1s 10us/step - loss: 0.1034 - val_loss: 0.1017\n",
      "Epoch 55/100\n",
      "60000/60000 [==============================] - 1s 10us/step - loss: 0.1032 - val_loss: 0.1014\n",
      "Epoch 56/100\n",
      "60000/60000 [==============================] - 1s 10us/step - loss: 0.1029 - val_loss: 0.1012\n",
      "Epoch 57/100\n",
      "60000/60000 [==============================] - 1s 10us/step - loss: 0.1027 - val_loss: 0.1010\n",
      "Epoch 58/100\n",
      "60000/60000 [==============================] - 1s 10us/step - loss: 0.1025 - val_loss: 0.1008\n",
      "Epoch 59/100\n",
      "60000/60000 [==============================] - 1s 10us/step - loss: 0.1022 - val_loss: 0.1006\n",
      "Epoch 60/100\n",
      "60000/60000 [==============================] - 1s 10us/step - loss: 0.1020 - val_loss: 0.1004\n",
      "Epoch 61/100\n",
      "60000/60000 [==============================] - 1s 10us/step - loss: 0.1018 - val_loss: 0.1002\n",
      "Epoch 62/100\n",
      "60000/60000 [==============================] - 1s 10us/step - loss: 0.1017 - val_loss: 0.1000\n",
      "Epoch 63/100\n",
      "60000/60000 [==============================] - 1s 10us/step - loss: 0.1015 - val_loss: 0.0998\n",
      "Epoch 64/100\n",
      "60000/60000 [==============================] - 1s 10us/step - loss: 0.1013 - val_loss: 0.0997\n",
      "Epoch 65/100\n",
      "60000/60000 [==============================] - 1s 10us/step - loss: 0.1012 - val_loss: 0.0995\n",
      "Epoch 66/100\n",
      "60000/60000 [==============================] - 1s 10us/step - loss: 0.1010 - val_loss: 0.0994\n",
      "Epoch 67/100\n",
      "60000/60000 [==============================] - 1s 10us/step - loss: 0.1009 - val_loss: 0.0993\n",
      "Epoch 68/100\n",
      "60000/60000 [==============================] - 1s 10us/step - loss: 0.1007 - val_loss: 0.0991\n",
      "Epoch 69/100\n",
      "60000/60000 [==============================] - 1s 10us/step - loss: 0.1006 - val_loss: 0.0990\n",
      "Epoch 70/100\n",
      "60000/60000 [==============================] - 1s 10us/step - loss: 0.1005 - val_loss: 0.0989\n",
      "Epoch 71/100\n",
      "60000/60000 [==============================] - 1s 10us/step - loss: 0.1003 - val_loss: 0.0988\n",
      "Epoch 72/100\n"
     ]
    },
    {
     "name": "stdout",
     "output_type": "stream",
     "text": [
      "60000/60000 [==============================] - 1s 10us/step - loss: 0.1002 - val_loss: 0.0987\n",
      "Epoch 73/100\n",
      "60000/60000 [==============================] - 1s 10us/step - loss: 0.1001 - val_loss: 0.0985\n",
      "Epoch 74/100\n",
      "60000/60000 [==============================] - 1s 10us/step - loss: 0.1000 - val_loss: 0.0984\n",
      "Epoch 75/100\n",
      "60000/60000 [==============================] - 1s 10us/step - loss: 0.0999 - val_loss: 0.0983\n",
      "Epoch 76/100\n",
      "60000/60000 [==============================] - 1s 10us/step - loss: 0.0998 - val_loss: 0.0982\n",
      "Epoch 77/100\n",
      "60000/60000 [==============================] - 1s 10us/step - loss: 0.0997 - val_loss: 0.0982\n",
      "Epoch 78/100\n",
      "60000/60000 [==============================] - 1s 10us/step - loss: 0.0996 - val_loss: 0.0980\n",
      "Epoch 79/100\n",
      "60000/60000 [==============================] - 1s 10us/step - loss: 0.0995 - val_loss: 0.0979\n",
      "Epoch 80/100\n",
      "60000/60000 [==============================] - 1s 10us/step - loss: 0.0994 - val_loss: 0.0978\n",
      "Epoch 81/100\n",
      "60000/60000 [==============================] - 1s 10us/step - loss: 0.0993 - val_loss: 0.0977\n",
      "Epoch 82/100\n",
      "60000/60000 [==============================] - 1s 10us/step - loss: 0.0992 - val_loss: 0.0976\n",
      "Epoch 83/100\n",
      "60000/60000 [==============================] - 1s 10us/step - loss: 0.0991 - val_loss: 0.0976\n",
      "Epoch 84/100\n",
      "60000/60000 [==============================] - 1s 10us/step - loss: 0.0990 - val_loss: 0.0975\n",
      "Epoch 85/100\n",
      "60000/60000 [==============================] - 1s 10us/step - loss: 0.0989 - val_loss: 0.0974\n",
      "Epoch 86/100\n",
      "60000/60000 [==============================] - 1s 10us/step - loss: 0.0988 - val_loss: 0.0973\n",
      "Epoch 87/100\n",
      "60000/60000 [==============================] - 1s 10us/step - loss: 0.0987 - val_loss: 0.0972\n",
      "Epoch 88/100\n",
      "60000/60000 [==============================] - 1s 10us/step - loss: 0.0986 - val_loss: 0.0971\n",
      "Epoch 89/100\n",
      "60000/60000 [==============================] - 1s 10us/step - loss: 0.0985 - val_loss: 0.0970\n",
      "Epoch 90/100\n",
      "60000/60000 [==============================] - 1s 10us/step - loss: 0.0984 - val_loss: 0.0969\n",
      "Epoch 91/100\n",
      "60000/60000 [==============================] - 1s 10us/step - loss: 0.0984 - val_loss: 0.0968\n",
      "Epoch 92/100\n",
      "60000/60000 [==============================] - 1s 10us/step - loss: 0.0983 - val_loss: 0.0967\n",
      "Epoch 93/100\n",
      "60000/60000 [==============================] - 1s 10us/step - loss: 0.0982 - val_loss: 0.0967\n",
      "Epoch 94/100\n",
      "60000/60000 [==============================] - 1s 10us/step - loss: 0.0981 - val_loss: 0.0966\n",
      "Epoch 95/100\n",
      "60000/60000 [==============================] - 1s 10us/step - loss: 0.0980 - val_loss: 0.0965\n",
      "Epoch 96/100\n",
      "60000/60000 [==============================] - 1s 10us/step - loss: 0.0979 - val_loss: 0.0964\n",
      "Epoch 97/100\n",
      "60000/60000 [==============================] - 1s 10us/step - loss: 0.0978 - val_loss: 0.0963\n",
      "Epoch 98/100\n",
      "60000/60000 [==============================] - 1s 10us/step - loss: 0.0977 - val_loss: 0.0962\n",
      "Epoch 99/100\n",
      "60000/60000 [==============================] - 1s 10us/step - loss: 0.0977 - val_loss: 0.0961\n",
      "Epoch 100/100\n",
      "60000/60000 [==============================] - 1s 10us/step - loss: 0.0976 - val_loss: 0.0961\n"
     ]
    }
   ],
   "source": [
    "AutoencoderModel.compile(optimizer='adadelta', loss='binary_crossentropy')\n",
    "\n",
    "history = AutoencoderModel.fit(XTrain, XTrain,\n",
    "                    batch_size=256,\n",
    "                    epochs=100,\n",
    "                    shuffle=True,\n",
    "                    validation_data=(XTest, XTest))\n",
    "\n",
    "DecodedDigits = AutoencoderModel.predict(XTest)"
   ]
  },
  {
   "cell_type": "code",
   "execution_count": 11,
   "metadata": {},
   "outputs": [
    {
     "data": {
      "image/png": "[encoded data removed]",
      "text/plain": [
       "<Figure size 432x288 with 1 Axes>"
      ]
     },
     "metadata": {
      "needs_background": "light"
     },
     "output_type": "display_data"
    }
   ],
   "source": [
    "plt.plot(history.history['loss'])\n",
    "plt.plot(history.history['val_loss'])\n",
    "plt.title('Autoencoder Model loss')\n",
    "plt.ylabel('loss')\n",
    "plt.xlabel('epoch')\n",
    "plt.legend(['Train', 'Test'], loc='upper left')\n",
    "plt.show()"
   ]
  },
  {
   "cell_type": "code",
   "execution_count": 12,
   "metadata": {},
   "outputs": [
    {
     "data": {
      "image/png": "[encoded data removed]",
      "text/plain": [
       "<Figure size 1440x288 with 10 Axes>"
      ]
     },
     "metadata": {
      "needs_background": "light"
     },
     "output_type": "display_data"
    }
   ],
   "source": [
    "n=5\n",
    "plt.figure(figsize=(20, 4))\n",
    "\n",
    "for i in range(n):\n",
    "    ax = plt.subplot(2, n, i + 1)\n",
    "    plt.imshow(XTest[i+10].reshape(28, 28))\n",
    "    plt.gray()\n",
    "    ax.get_xaxis().set_visible(False)\n",
    "    ax.get_yaxis().set_visible(False)\n",
    "    ax = plt.subplot(2, n, i + 1 + n)\n",
    "    plt.imshow(DecodedDigits[i+10].reshape(28, 28))\n",
    "    plt.gray()\n",
    "    ax.get_xaxis().set_visible(False)\n",
    "    ax.get_yaxis().set_visible(False)\n",
    "\n",
    "plt.show()"
   ]
  },
  {
   "cell_type": "code",
   "execution_count": null,
   "metadata": {},
   "outputs": [],
   "source": []
  }
 ],
 "metadata": {
  "kernelspec": {
   "display_name": "Python 3",
   "language": "python",
   "name": "python3"
  },
  "language_info": {
   "codemirror_mode": {
    "name": "ipython",
    "version": 3
   },
   "file_extension": ".py",
   "mimetype": "text/x-python",
   "name": "python",
   "nbconvert_exporter": "python",
   "pygments_lexer": "ipython3",
   "version": "3.7.6"
  }
 },
 "nbformat": 4,
 "nbformat_minor": 4
}
