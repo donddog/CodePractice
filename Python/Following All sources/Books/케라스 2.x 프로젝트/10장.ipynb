{
 "cells": [
  {
   "cell_type": "code",
   "execution_count": 1,
   "metadata": {},
   "outputs": [],
   "source": [
    "TextData=\"We catched fish, and talked, and we took a swim now and then to keep off sleepiness. \\\n",
    "It was kind of solemn, drifting down the big still river, laying on our backs looking up at the stars, \\\n",
    "and we didn’t ever feel like talking loud, and it warn’t often that we laughed, only a kind of low chuckle. \\\n",
    "We had mighty good weather, as a general thing, and nothing ever happened to us at all, that night, nor the next, nor the next.\""
   ]
  },
  {
   "cell_type": "code",
   "execution_count": 2,
   "metadata": {
    "collapsed": true
   },
   "outputs": [
    {
     "data": {
      "text/plain": [
       "['We',\n",
       " 'catched',\n",
       " 'fish',\n",
       " ',',\n",
       " 'and',\n",
       " 'talked',\n",
       " ',',\n",
       " 'and',\n",
       " 'we',\n",
       " 'took',\n",
       " 'a',\n",
       " 'swim',\n",
       " 'now',\n",
       " 'and',\n",
       " 'then',\n",
       " 'to',\n",
       " 'keep',\n",
       " 'off',\n",
       " 'sleepiness',\n",
       " '.',\n",
       " 'It',\n",
       " 'was',\n",
       " 'kind',\n",
       " 'of',\n",
       " 'solemn',\n",
       " ',',\n",
       " 'drifting',\n",
       " 'down',\n",
       " 'the',\n",
       " 'big',\n",
       " 'still',\n",
       " 'river',\n",
       " ',',\n",
       " 'laying',\n",
       " 'on',\n",
       " 'our',\n",
       " 'backs',\n",
       " 'looking',\n",
       " 'up',\n",
       " 'at',\n",
       " 'the',\n",
       " 'stars',\n",
       " ',',\n",
       " 'and',\n",
       " 'we',\n",
       " 'didn',\n",
       " '’',\n",
       " 't',\n",
       " 'ever',\n",
       " 'feel',\n",
       " 'like',\n",
       " 'talking',\n",
       " 'loud',\n",
       " ',',\n",
       " 'and',\n",
       " 'it',\n",
       " 'warn',\n",
       " '’',\n",
       " 't',\n",
       " 'often',\n",
       " 'that',\n",
       " 'we',\n",
       " 'laughed',\n",
       " ',',\n",
       " 'only',\n",
       " 'a',\n",
       " 'kind',\n",
       " 'of',\n",
       " 'low',\n",
       " 'chuckle',\n",
       " '.',\n",
       " 'We',\n",
       " 'had',\n",
       " 'mighty',\n",
       " 'good',\n",
       " 'weather',\n",
       " ',',\n",
       " 'as',\n",
       " 'a',\n",
       " 'general',\n",
       " 'thing',\n",
       " ',',\n",
       " 'and',\n",
       " 'nothing',\n",
       " 'ever',\n",
       " 'happened',\n",
       " 'to',\n",
       " 'us',\n",
       " 'at',\n",
       " 'all',\n",
       " ',',\n",
       " 'that',\n",
       " 'night',\n",
       " ',',\n",
       " 'nor',\n",
       " 'the',\n",
       " 'next',\n",
       " ',',\n",
       " 'nor',\n",
       " 'the',\n",
       " 'next',\n",
       " '.']"
      ]
     },
     "execution_count": 2,
     "metadata": {},
     "output_type": "execute_result"
    }
   ],
   "source": [
    "from nltk.tokenize import word_tokenize\n",
    "\n",
    "TextDataWords=word_tokenize(TextData)\n",
    "TextDataWords"
   ]
  },
  {
   "cell_type": "code",
   "execution_count": 3,
   "metadata": {},
   "outputs": [
    {
     "data": {
      "text/plain": [
       "102"
      ]
     },
     "execution_count": 3,
     "metadata": {},
     "output_type": "execute_result"
    }
   ],
   "source": [
    "len(TextDataWords)"
   ]
  },
  {
   "cell_type": "code",
   "execution_count": 4,
   "metadata": {},
   "outputs": [
    {
     "data": {
      "text/plain": [
       "['We catched fish, and talked, and we took a swim now and then to keep off sleepiness.',\n",
       " 'It was kind of solemn, drifting down the big still river, laying on our backs looking up at the stars, and we didn’t ever feel like talking loud, and it warn’t often that we laughed, only a kind of low chuckle.',\n",
       " 'We had mighty good weather, as a general thing, and nothing ever happened to us at all, that night, nor the next, nor the next.']"
      ]
     },
     "execution_count": 4,
     "metadata": {},
     "output_type": "execute_result"
    }
   ],
   "source": [
    "from nltk.tokenize import sent_tokenize\n",
    "\n",
    "TextDataSent = sent_tokenize(TextData)\n",
    "TextDataSent"
   ]
  },
  {
   "cell_type": "code",
   "execution_count": 5,
   "metadata": {},
   "outputs": [
    {
     "data": {
      "text/plain": [
       "3"
      ]
     },
     "execution_count": 5,
     "metadata": {},
     "output_type": "execute_result"
    }
   ],
   "source": [
    "len(TextDataSent)"
   ]
  },
  {
   "cell_type": "code",
   "execution_count": 6,
   "metadata": {
    "collapsed": true
   },
   "outputs": [
    {
     "data": {
      "text/plain": [
       "[('We', 'PRP'),\n",
       " ('catched', 'VBD'),\n",
       " ('fish', 'JJ'),\n",
       " (',', ','),\n",
       " ('and', 'CC'),\n",
       " ('talked', 'VBD'),\n",
       " (',', ','),\n",
       " ('and', 'CC'),\n",
       " ('we', 'PRP'),\n",
       " ('took', 'VBD'),\n",
       " ('a', 'DT'),\n",
       " ('swim', 'NN'),\n",
       " ('now', 'RB'),\n",
       " ('and', 'CC'),\n",
       " ('then', 'RB'),\n",
       " ('to', 'TO'),\n",
       " ('keep', 'VB'),\n",
       " ('off', 'RP'),\n",
       " ('sleepiness', 'NN'),\n",
       " ('.', '.'),\n",
       " ('It', 'PRP'),\n",
       " ('was', 'VBD'),\n",
       " ('kind', 'NN'),\n",
       " ('of', 'IN'),\n",
       " ('solemn', 'NN'),\n",
       " (',', ','),\n",
       " ('drifting', 'VBG'),\n",
       " ('down', 'RP'),\n",
       " ('the', 'DT'),\n",
       " ('big', 'JJ'),\n",
       " ('still', 'RB'),\n",
       " ('river', 'NN'),\n",
       " (',', ','),\n",
       " ('laying', 'VBG'),\n",
       " ('on', 'IN'),\n",
       " ('our', 'PRP$'),\n",
       " ('backs', 'NNS'),\n",
       " ('looking', 'VBG'),\n",
       " ('up', 'RP'),\n",
       " ('at', 'IN'),\n",
       " ('the', 'DT'),\n",
       " ('stars', 'NNS'),\n",
       " (',', ','),\n",
       " ('and', 'CC'),\n",
       " ('we', 'PRP'),\n",
       " ('didn', 'VBP'),\n",
       " ('’', 'JJ'),\n",
       " ('t', 'NN'),\n",
       " ('ever', 'RB'),\n",
       " ('feel', 'VBP'),\n",
       " ('like', 'IN'),\n",
       " ('talking', 'VBG'),\n",
       " ('loud', 'JJ'),\n",
       " (',', ','),\n",
       " ('and', 'CC'),\n",
       " ('it', 'PRP'),\n",
       " ('warn', 'VBD'),\n",
       " ('’', 'NNP'),\n",
       " ('t', 'NNS'),\n",
       " ('often', 'RB'),\n",
       " ('that', 'IN'),\n",
       " ('we', 'PRP'),\n",
       " ('laughed', 'VBD'),\n",
       " (',', ','),\n",
       " ('only', 'RB'),\n",
       " ('a', 'DT'),\n",
       " ('kind', 'NN'),\n",
       " ('of', 'IN'),\n",
       " ('low', 'JJ'),\n",
       " ('chuckle', 'NN'),\n",
       " ('.', '.'),\n",
       " ('We', 'PRP'),\n",
       " ('had', 'VBD'),\n",
       " ('mighty', 'VBN'),\n",
       " ('good', 'JJ'),\n",
       " ('weather', 'NN'),\n",
       " (',', ','),\n",
       " ('as', 'IN'),\n",
       " ('a', 'DT'),\n",
       " ('general', 'JJ'),\n",
       " ('thing', 'NN'),\n",
       " (',', ','),\n",
       " ('and', 'CC'),\n",
       " ('nothing', 'NN'),\n",
       " ('ever', 'RB'),\n",
       " ('happened', 'VBD'),\n",
       " ('to', 'TO'),\n",
       " ('us', 'PRP'),\n",
       " ('at', 'IN'),\n",
       " ('all', 'DT'),\n",
       " (',', ','),\n",
       " ('that', 'WDT'),\n",
       " ('night', 'NN'),\n",
       " (',', ','),\n",
       " ('nor', 'CC'),\n",
       " ('the', 'DT'),\n",
       " ('next', 'JJ'),\n",
       " (',', ','),\n",
       " ('nor', 'CC'),\n",
       " ('the', 'DT'),\n",
       " ('next', 'JJ'),\n",
       " ('.', '.')]"
      ]
     },
     "execution_count": 6,
     "metadata": {},
     "output_type": "execute_result"
    }
   ],
   "source": [
    "from nltk import pos_tag\n",
    "\n",
    "TextDataPT = pos_tag(TextDataWords)\n",
    "TextDataPT"
   ]
  },
  {
   "cell_type": "code",
   "execution_count": 7,
   "metadata": {},
   "outputs": [
    {
     "data": {
      "text/plain": [
       "102"
      ]
     },
     "execution_count": 7,
     "metadata": {},
     "output_type": "execute_result"
    }
   ],
   "source": [
    "len(TextDataPT)"
   ]
  },
  {
   "cell_type": "code",
   "execution_count": 8,
   "metadata": {},
   "outputs": [
    {
     "data": {
      "text/plain": [
       "[(',', 12),\n",
       " ('NN', 12),\n",
       " ('JJ', 9),\n",
       " ('PRP', 8),\n",
       " ('VBD', 8),\n",
       " ('CC', 8),\n",
       " ('DT', 8),\n",
       " ('IN', 8),\n",
       " ('RB', 7),\n",
       " ('VBG', 4),\n",
       " ('RP', 3),\n",
       " ('.', 3),\n",
       " ('NNS', 3),\n",
       " ('TO', 2),\n",
       " ('VBP', 2),\n",
       " ('VB', 1),\n",
       " ('PRP$', 1),\n",
       " ('NNP', 1),\n",
       " ('VBN', 1),\n",
       " ('WDT', 1)]"
      ]
     },
     "execution_count": 8,
     "metadata": {},
     "output_type": "execute_result"
    }
   ],
   "source": [
    "from nltk.probability import FreqDist\n",
    "\n",
    "TagFrequency = FreqDist(tag for (word, tag) in TextDataPT)\n",
    "TagFrequency.most_common()"
   ]
  },
  {
   "cell_type": "code",
   "execution_count": 9,
   "metadata": {},
   "outputs": [
    {
     "name": "stdout",
     "output_type": "stream",
     "text": [
      "We:We\n",
      "catched:catch\n",
      "fish:fish\n",
      ",:,\n",
      "and:and\n",
      "talked:talk\n",
      ",:,\n",
      "and:and\n",
      "we:we\n",
      "took:took\n",
      "a:a\n",
      "swim:swim\n",
      "now:now\n",
      "and:and\n",
      "then:then\n",
      "to:to\n",
      "keep:keep\n",
      "off:off\n",
      "sleepiness:sleepi\n",
      ".:.\n"
     ]
    }
   ],
   "source": [
    "from nltk.stem import PorterStemmer\n",
    "\n",
    "PtSt = PorterStemmer()\n",
    "\n",
    "for word in TextDataWords[0:20]:\n",
    "    print(word + \":\" + PtSt.stem(word))"
   ]
  },
  {
   "cell_type": "code",
   "execution_count": 10,
   "metadata": {},
   "outputs": [
    {
     "name": "stdout",
     "output_type": "stream",
     "text": [
      "buses:bus\n",
      "wishes:wish\n",
      "pitches:pitch\n",
      "boxes:box\n",
      "pennies:penny\n",
      "children:child\n",
      "potatoes:potato\n",
      "boats:boat\n",
      "cats:cat\n",
      "analyses:analysis\n",
      "theses:thesis\n",
      "phenomena:phenomenon\n"
     ]
    }
   ],
   "source": [
    "from nltk.stem import WordNetLemmatizer\n",
    "\n",
    "WnetLem = WordNetLemmatizer()\n",
    "Plurals =['buses','wishes','pitches', 'boxes', 'pennies', 'children', 'potatoes', 'boats', 'cats', 'analyses', 'theses', 'phenomena']\n",
    "\n",
    "for word in Plurals:\n",
    "    print(word + \":\" + WnetLem.lemmatize(word))"
   ]
  },
  {
   "cell_type": "code",
   "execution_count": 11,
   "metadata": {},
   "outputs": [
    {
     "name": "stderr",
     "output_type": "stream",
     "text": [
      "Using TensorFlow backend.\n",
      "C:\\Anaconda\\lib\\site-packages\\tensorflow\\python\\framework\\dtypes.py:516: FutureWarning: Passing (type, 1) or '1type' as a synonym of type is deprecated; in a future version of numpy, it will be understood as (type, (1,)) / '(1,)type'.\n",
      "  _np_qint8 = np.dtype([(\"qint8\", np.int8, 1)])\n",
      "C:\\Anaconda\\lib\\site-packages\\tensorflow\\python\\framework\\dtypes.py:517: FutureWarning: Passing (type, 1) or '1type' as a synonym of type is deprecated; in a future version of numpy, it will be understood as (type, (1,)) / '(1,)type'.\n",
      "  _np_quint8 = np.dtype([(\"quint8\", np.uint8, 1)])\n",
      "C:\\Anaconda\\lib\\site-packages\\tensorflow\\python\\framework\\dtypes.py:518: FutureWarning: Passing (type, 1) or '1type' as a synonym of type is deprecated; in a future version of numpy, it will be understood as (type, (1,)) / '(1,)type'.\n",
      "  _np_qint16 = np.dtype([(\"qint16\", np.int16, 1)])\n",
      "C:\\Anaconda\\lib\\site-packages\\tensorflow\\python\\framework\\dtypes.py:519: FutureWarning: Passing (type, 1) or '1type' as a synonym of type is deprecated; in a future version of numpy, it will be understood as (type, (1,)) / '(1,)type'.\n",
      "  _np_quint16 = np.dtype([(\"quint16\", np.uint16, 1)])\n",
      "C:\\Anaconda\\lib\\site-packages\\tensorflow\\python\\framework\\dtypes.py:520: FutureWarning: Passing (type, 1) or '1type' as a synonym of type is deprecated; in a future version of numpy, it will be understood as (type, (1,)) / '(1,)type'.\n",
      "  _np_qint32 = np.dtype([(\"qint32\", np.int32, 1)])\n",
      "C:\\Anaconda\\lib\\site-packages\\tensorflow\\python\\framework\\dtypes.py:525: FutureWarning: Passing (type, 1) or '1type' as a synonym of type is deprecated; in a future version of numpy, it will be understood as (type, (1,)) / '(1,)type'.\n",
      "  np_resource = np.dtype([(\"resource\", np.ubyte, 1)])\n",
      "C:\\Anaconda\\lib\\site-packages\\tensorboard\\compat\\tensorflow_stub\\dtypes.py:541: FutureWarning: Passing (type, 1) or '1type' as a synonym of type is deprecated; in a future version of numpy, it will be understood as (type, (1,)) / '(1,)type'.\n",
      "  _np_qint8 = np.dtype([(\"qint8\", np.int8, 1)])\n",
      "C:\\Anaconda\\lib\\site-packages\\tensorboard\\compat\\tensorflow_stub\\dtypes.py:542: FutureWarning: Passing (type, 1) or '1type' as a synonym of type is deprecated; in a future version of numpy, it will be understood as (type, (1,)) / '(1,)type'.\n",
      "  _np_quint8 = np.dtype([(\"quint8\", np.uint8, 1)])\n",
      "C:\\Anaconda\\lib\\site-packages\\tensorboard\\compat\\tensorflow_stub\\dtypes.py:543: FutureWarning: Passing (type, 1) or '1type' as a synonym of type is deprecated; in a future version of numpy, it will be understood as (type, (1,)) / '(1,)type'.\n",
      "  _np_qint16 = np.dtype([(\"qint16\", np.int16, 1)])\n",
      "C:\\Anaconda\\lib\\site-packages\\tensorboard\\compat\\tensorflow_stub\\dtypes.py:544: FutureWarning: Passing (type, 1) or '1type' as a synonym of type is deprecated; in a future version of numpy, it will be understood as (type, (1,)) / '(1,)type'.\n",
      "  _np_quint16 = np.dtype([(\"quint16\", np.uint16, 1)])\n",
      "C:\\Anaconda\\lib\\site-packages\\tensorboard\\compat\\tensorflow_stub\\dtypes.py:545: FutureWarning: Passing (type, 1) or '1type' as a synonym of type is deprecated; in a future version of numpy, it will be understood as (type, (1,)) / '(1,)type'.\n",
      "  _np_qint32 = np.dtype([(\"qint32\", np.int32, 1)])\n",
      "C:\\Anaconda\\lib\\site-packages\\tensorboard\\compat\\tensorflow_stub\\dtypes.py:550: FutureWarning: Passing (type, 1) or '1type' as a synonym of type is deprecated; in a future version of numpy, it will be understood as (type, (1,)) / '(1,)type'.\n",
      "  np_resource = np.dtype([(\"resource\", np.ubyte, 1)])\n"
     ]
    },
    {
     "name": "stdout",
     "output_type": "stream",
     "text": [
      "Downloading data from https://s3.amazonaws.com/text-datasets/reuters.npz\n",
      "2113536/2110848 [==============================] - 48s 23us/step\n"
     ]
    }
   ],
   "source": [
    "from keras.datasets import reuters\n",
    "\n",
    "(XTrain, YTrain),(XTest, YTest) = reuters.load_data(num_words=None, test_split=0.3)"
   ]
  },
  {
   "cell_type": "code",
   "execution_count": 12,
   "metadata": {},
   "outputs": [
    {
     "name": "stdout",
     "output_type": "stream",
     "text": [
      "XTrain class =  <class 'numpy.ndarray'>\n",
      "YTrain class =  <class 'numpy.ndarray'>\n",
      "XTest shape =  <class 'numpy.ndarray'>\n",
      "YTest shape =  <class 'numpy.ndarray'>\n"
     ]
    }
   ],
   "source": [
    "print('XTrain class = ',type(XTrain))\n",
    "print('YTrain class = ',type(YTrain))\n",
    "print('XTest shape = ',type(XTest))\n",
    "print('YTest shape = ',type(YTest))"
   ]
  },
  {
   "cell_type": "code",
   "execution_count": 13,
   "metadata": {},
   "outputs": [
    {
     "name": "stdout",
     "output_type": "stream",
     "text": [
      "XTrain shape =  (7859,)\n",
      "XTest shape =  (3369,)\n",
      "YTrain shape =  (7859,)\n",
      "YTest shape =  (3369,)\n"
     ]
    }
   ],
   "source": [
    "print('XTrain shape = ',XTrain.shape)\n",
    "print('XTest shape = ',XTest.shape)\n",
    "print('YTrain shape = ',YTrain.shape)\n",
    "print('YTest shape = ',YTest.shape)"
   ]
  },
  {
   "cell_type": "code",
   "execution_count": 14,
   "metadata": {},
   "outputs": [
    {
     "name": "stdout",
     "output_type": "stream",
     "text": [
      "YTrain values =  [ 0  1  2  3  4  5  6  7  8  9 10 11 12 13 14 15 16 17 18 19 20 21 22 23\n",
      " 24 25 26 27 28 29 30 31 32 33 34 35 36 37 38 39 40 41 42 43 44 45]\n",
      "YTest values =  [ 0  1  2  3  4  5  6  7  8  9 10 11 12 13 14 15 16 17 18 19 20 21 22 23\n",
      " 24 25 26 27 28 29 30 31 32 33 34 35 36 37 38 39 40 41 42 43 44 45]\n"
     ]
    }
   ],
   "source": [
    "import numpy as np\n",
    "\n",
    "print('YTrain values = ',np.unique(YTrain))\n",
    "print('YTest values = ',np.unique(YTest))"
   ]
  },
  {
   "cell_type": "code",
   "execution_count": 15,
   "metadata": {},
   "outputs": [
    {
     "name": "stdout",
     "output_type": "stream",
     "text": [
      "YTrain distribution =  {0: 50, 1: 378, 2: 66, 3: 2769, 4: 1701, 5: 14, 6: 39, 7: 15, 8: 126, 9: 93, 10: 114, 11: 337, 12: 40, 13: 149, 14: 18, 15: 19, 16: 387, 17: 33, 18: 59, 19: 475, 20: 238, 21: 91, 22: 10, 23: 36, 24: 56, 25: 77, 26: 18, 27: 13, 28: 43, 29: 19, 30: 38, 31: 34, 32: 30, 33: 9, 34: 43, 35: 10, 36: 46, 37: 17, 38: 16, 39: 20, 40: 32, 41: 28, 42: 10, 43: 19, 44: 10, 45: 14}\n",
      "YTrain distribution =  {0: 17, 1: 159, 2: 28, 3: 1203, 4: 722, 5: 8, 6: 23, 7: 4, 8: 51, 9: 33, 10: 40, 11: 136, 12: 22, 13: 60, 14: 10, 15: 10, 16: 156, 17: 18, 18: 27, 19: 207, 20: 101, 21: 36, 22: 12, 23: 17, 24: 25, 25: 46, 26: 14, 27: 6, 28: 15, 29: 4, 30: 19, 31: 18, 32: 12, 33: 7, 34: 14, 35: 6, 36: 14, 37: 4, 38: 6, 39: 9, 40: 14, 41: 10, 42: 6, 43: 8, 44: 7, 45: 5}\n"
     ]
    }
   ],
   "source": [
    "unique, counts = np.unique(YTrain, return_counts=True)\n",
    "print('YTrain distribution = ',dict(zip(unique, counts)))\n",
    "\n",
    "unique, counts = np.unique(YTest, return_counts=True)\n",
    "print('YTrain distribution = ',dict(zip(unique, counts)))"
   ]
  },
  {
   "cell_type": "code",
   "execution_count": 16,
   "metadata": {},
   "outputs": [
    {
     "data": {
      "image/png": "[encoded data removed]",
      "text/plain": [
       "<Figure size 432x288 with 2 Axes>"
      ]
     },
     "metadata": {
      "needs_background": "light"
     },
     "output_type": "display_data"
    }
   ],
   "source": [
    "import matplotlib.pyplot as plt\n",
    "\n",
    "plt.figure(1)\n",
    "plt.subplot(121)\n",
    "plt.hist(YTrain, bins='auto')\n",
    "plt.xlabel(\"Classes\")\n",
    "plt.ylabel(\"Number of occurrences\")\n",
    "plt.title(\"YTrain data\")\n",
    "\n",
    "plt.subplot(122)\n",
    "plt.hist(YTest, bins='auto')\n",
    "plt.xlabel(\"Classes\")\n",
    "plt.ylabel(\"Number of occurrences\")\n",
    "plt.title(\"YTest data\")\n",
    "plt.show()"
   ]
  },
  {
   "cell_type": "code",
   "execution_count": 17,
   "metadata": {},
   "outputs": [
    {
     "data": {
      "text/plain": [
       "[1,\n",
       " 3267,\n",
       " 699,\n",
       " 3434,\n",
       " 2295,\n",
       " 56,\n",
       " 16784,\n",
       " 7511,\n",
       " 9,\n",
       " 56,\n",
       " 3906,\n",
       " 1073,\n",
       " 81,\n",
       " 5,\n",
       " 1198,\n",
       " 57,\n",
       " 366,\n",
       " 737,\n",
       " 132,\n",
       " 20,\n",
       " 4093,\n",
       " 7,\n",
       " 19261,\n",
       " 49,\n",
       " 2295,\n",
       " 13415,\n",
       " 1037,\n",
       " 3267,\n",
       " 699,\n",
       " 3434,\n",
       " 8,\n",
       " 7,\n",
       " 10,\n",
       " 241,\n",
       " 16,\n",
       " 855,\n",
       " 129,\n",
       " 231,\n",
       " 783,\n",
       " 5,\n",
       " 4,\n",
       " 587,\n",
       " 2295,\n",
       " 13415,\n",
       " 30625,\n",
       " 775,\n",
       " 7,\n",
       " 48,\n",
       " 34,\n",
       " 191,\n",
       " 44,\n",
       " 35,\n",
       " 1795,\n",
       " 505,\n",
       " 17,\n",
       " 12]"
      ]
     },
     "execution_count": 17,
     "metadata": {},
     "output_type": "execute_result"
    }
   ],
   "source": [
    "XTrain[1]"
   ]
  },
  {
   "cell_type": "code",
   "execution_count": 18,
   "metadata": {},
   "outputs": [
    {
     "data": {
      "text/plain": [
       "56"
      ]
     },
     "execution_count": 18,
     "metadata": {},
     "output_type": "execute_result"
    }
   ],
   "source": [
    "len(XTrain[1])"
   ]
  },
  {
   "cell_type": "code",
   "execution_count": 19,
   "metadata": {},
   "outputs": [
    {
     "name": "stdout",
     "output_type": "stream",
     "text": [
      "Downloading data from https://s3.amazonaws.com/text-datasets/reuters_word_index.json\n",
      "557056/550378 [==============================] - 5s 9us/step\n"
     ]
    },
    {
     "data": {
      "text/plain": [
       "30979"
      ]
     },
     "execution_count": 19,
     "metadata": {},
     "output_type": "execute_result"
    }
   ],
   "source": [
    "WordIndex = reuters.get_word_index(path=\"reuters_word_index.json\")\n",
    "\n",
    "len(WordIndex)"
   ]
  },
  {
   "cell_type": "code",
   "execution_count": 20,
   "metadata": {},
   "outputs": [
    {
     "name": "stdout",
     "output_type": "stream",
     "text": [
      "the termination payment airport takes 6 visibility geological 3 6 602 begin up said fully bank expects commodity total is giant a recreation this takes leroy series termination payment airport mln a for capital 1 pre 50 american east said in council takes leroy recommend's france a but u any 4 s 1st losses pct dlrs\n",
      "4\n"
     ]
    }
   ],
   "source": [
    "IndexToWord = {}\n",
    "for key, value in WordIndex.items():\n",
    "    IndexToWord[value] = key\n",
    "\n",
    "print(' '.join([IndexToWord[x] for x in XTrain[1]]))\n",
    "print(YTrain[1])"
   ]
  },
  {
   "cell_type": "code",
   "execution_count": 21,
   "metadata": {},
   "outputs": [],
   "source": [
    "from keras.preprocessing.text import Tokenizer\n",
    "\n",
    "MaxWords = 10000\n",
    "\n",
    "Tok = Tokenizer(num_words=MaxWords)\n",
    "XTrain = Tok.sequences_to_matrix(XTrain, mode='binary')\n",
    "XTest = Tok.sequences_to_matrix(XTest, mode='binary')\n",
    "NumClasses = max(YTrain) + 1"
   ]
  },
  {
   "cell_type": "code",
   "execution_count": 22,
   "metadata": {},
   "outputs": [
    {
     "name": "stdout",
     "output_type": "stream",
     "text": [
      "[0. 1. 0. ... 0. 0. 0.]\n",
      "\n",
      "10000\n"
     ]
    }
   ],
   "source": [
    "from keras.utils import to_categorical\n",
    "\n",
    "YTrain = to_categorical(YTrain, NumClasses)\n",
    "YTest = to_categorical(YTest, NumClasses)\n",
    "\n",
    "print(XTrain[1])\n",
    "print()\n",
    "print(len(XTrain[1]))"
   ]
  },
  {
   "cell_type": "code",
   "execution_count": 23,
   "metadata": {},
   "outputs": [],
   "source": [
    "from keras.models import Sequential\n",
    "from keras.layers import Dense\n",
    "from keras.layers import Dropout\n",
    "from keras.layers import Activation\n",
    "\n",
    "DNNmodel = Sequential()\n",
    "DNNmodel.add(Dense(512, input_shape=(MaxWords,)))\n",
    "DNNmodel.add(Activation('relu'))\n",
    "DNNmodel.add(Dropout(0.5))\n",
    "DNNmodel.add(Dense(NumClasses))\n",
    "DNNmodel.add(Activation('softmax'))"
   ]
  },
  {
   "cell_type": "code",
   "execution_count": 24,
   "metadata": {},
   "outputs": [
    {
     "name": "stdout",
     "output_type": "stream",
     "text": [
      "Model: \"sequential_1\"\n",
      "_________________________________________________________________\n",
      "Layer (type)                 Output Shape              Param #   \n",
      "=================================================================\n",
      "dense_1 (Dense)              (None, 512)               5120512   \n",
      "_________________________________________________________________\n",
      "activation_1 (Activation)    (None, 512)               0         \n",
      "_________________________________________________________________\n",
      "dropout_1 (Dropout)          (None, 512)               0         \n",
      "_________________________________________________________________\n",
      "dense_2 (Dense)              (None, 46)                23598     \n",
      "_________________________________________________________________\n",
      "activation_2 (Activation)    (None, 46)                0         \n",
      "=================================================================\n",
      "Total params: 5,144,110\n",
      "Trainable params: 5,144,110\n",
      "Non-trainable params: 0\n",
      "_________________________________________________________________\n"
     ]
    }
   ],
   "source": [
    "DNNmodel.summary()"
   ]
  },
  {
   "cell_type": "code",
   "execution_count": 25,
   "metadata": {},
   "outputs": [
    {
     "name": "stdout",
     "output_type": "stream",
     "text": [
      "WARNING:tensorflow:From C:\\Anaconda\\lib\\site-packages\\keras\\backend\\tensorflow_backend.py:422: The name tf.global_variables is deprecated. Please use tf.compat.v1.global_variables instead.\n",
      "\n",
      "Train on 7859 samples, validate on 3369 samples\n",
      "Epoch 1/10\n",
      "7859/7859 [==============================] - 2s 195us/step - loss: 1.4315 - accuracy: 0.6927 - val_loss: 0.9718 - val_accuracy: 0.7833\n",
      "Epoch 2/10\n",
      "7859/7859 [==============================] - 1s 145us/step - loss: 0.5774 - accuracy: 0.8711 - val_loss: 0.8198 - val_accuracy: 0.8130\n",
      "Epoch 3/10\n",
      "7859/7859 [==============================] - 1s 145us/step - loss: 0.3101 - accuracy: 0.9309 - val_loss: 0.8297 - val_accuracy: 0.8127\n",
      "Epoch 4/10\n",
      "7859/7859 [==============================] - 1s 146us/step - loss: 0.2240 - accuracy: 0.9473 - val_loss: 0.8861 - val_accuracy: 0.8080\n",
      "Epoch 5/10\n",
      "7859/7859 [==============================] - 1s 144us/step - loss: 0.1875 - accuracy: 0.9539 - val_loss: 0.9394 - val_accuracy: 0.8023\n",
      "Epoch 6/10\n",
      "7859/7859 [==============================] - 1s 144us/step - loss: 0.1728 - accuracy: 0.9557 - val_loss: 0.9423 - val_accuracy: 0.8044\n",
      "Epoch 7/10\n",
      "7859/7859 [==============================] - 1s 144us/step - loss: 0.1559 - accuracy: 0.9580 - val_loss: 0.9596 - val_accuracy: 0.8029\n",
      "Epoch 8/10\n",
      "7859/7859 [==============================] - 1s 144us/step - loss: 0.1448 - accuracy: 0.9597 - val_loss: 0.9862 - val_accuracy: 0.8032\n",
      "Epoch 9/10\n",
      "7859/7859 [==============================] - 1s 144us/step - loss: 0.1532 - accuracy: 0.9590 - val_loss: 1.0275 - val_accuracy: 0.7964\n",
      "Epoch 10/10\n",
      "7859/7859 [==============================] - 1s 143us/step - loss: 0.1375 - accuracy: 0.9608 - val_loss: 0.9959 - val_accuracy: 0.8041\n"
     ]
    },
    {
     "data": {
      "text/plain": [
       "<keras.callbacks.callbacks.History at 0x2879ffebbc8>"
      ]
     },
     "execution_count": 25,
     "metadata": {},
     "output_type": "execute_result"
    }
   ],
   "source": [
    "DNNmodel.compile(loss='categorical_crossentropy', optimizer='adam', metrics=['accuracy'])\n",
    "DNNmodel.fit(XTrain, YTrain, validation_data=(XTest, YTest), epochs=10, batch_size=64, verbose=1)"
   ]
  },
  {
   "cell_type": "code",
   "execution_count": 26,
   "metadata": {},
   "outputs": [
    {
     "name": "stdout",
     "output_type": "stream",
     "text": [
      "3369/3369 [==============================] - 0s 86us/step\n",
      "Test loss: 0.9959032934686486\n",
      "Test accuracy: 0.8040961623191833\n"
     ]
    }
   ],
   "source": [
    "Scores = DNNmodel.evaluate(XTest, YTest, verbose=1)\n",
    "\n",
    "print('Test loss:', Scores[0])\n",
    "print('Test accuracy:', Scores[1])"
   ]
  },
  {
   "cell_type": "code",
   "execution_count": null,
   "metadata": {},
   "outputs": [],
   "source": []
  }
 ],
 "metadata": {
  "kernelspec": {
   "display_name": "Python 3",
   "language": "python",
   "name": "python3"
  },
  "language_info": {
   "codemirror_mode": {
    "name": "ipython",
    "version": 3
   },
   "file_extension": ".py",
   "mimetype": "text/x-python",
   "name": "python",
   "nbconvert_exporter": "python",
   "pygments_lexer": "ipython3",
   "version": "3.7.6"
  }
 },
 "nbformat": 4,
 "nbformat_minor": 4
}
