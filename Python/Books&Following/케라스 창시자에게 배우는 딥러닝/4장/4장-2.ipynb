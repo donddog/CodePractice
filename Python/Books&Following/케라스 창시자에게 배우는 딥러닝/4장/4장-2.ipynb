{
 "cells": [
  {
   "cell_type": "code",
   "execution_count": 1,
   "metadata": {},
   "outputs": [
    {
     "name": "stderr",
     "output_type": "stream",
     "text": [
      "Using TensorFlow backend.\n"
     ]
    }
   ],
   "source": [
    "from keras.datasets import imdb\n",
    "import numpy as np\n",
    "\n",
    "(train_data, train_labels), (test_data, test_labels) = imdb.load_data(num_words=10000)\n",
    "\n",
    "def vectorize_sequences(sequences, dimension=10000):\n",
    "    results = np.zeros((len(sequences), dimension))\n",
    "    for i, sequence in enumerate(sequences):\n",
    "        results[i, sequence] = 1.\n",
    "    return results\n",
    "\n",
    "x_train = vectorize_sequences(train_data)\n",
    "x_test = vectorize_sequences(test_data)\n",
    "y_train = np.asarray(train_labels).astype('float32')\n",
    "y_test = np.asarray(test_labels).astype('float32')"
   ]
  },
  {
   "cell_type": "code",
   "execution_count": 2,
   "metadata": {},
   "outputs": [
    {
     "name": "stdout",
     "output_type": "stream",
     "text": [
      "WARNING:tensorflow:From C:\\Users\\J\\Anaconda3\\lib\\site-packages\\tensorflow\\python\\framework\\op_def_library.py:263: colocate_with (from tensorflow.python.framework.ops) is deprecated and will be removed in a future version.\n",
      "Instructions for updating:\n",
      "Colocations handled automatically by placer.\n"
     ]
    }
   ],
   "source": [
    "from keras import models, layers\n",
    "\n",
    "original_model = models.Sequential()\n",
    "original_model.add(layers.Dense(16, activation='relu', input_shape=(10000,)))\n",
    "original_model.add(layers.Dense(16, activation='relu'))\n",
    "original_model.add(layers.Dense(1, activation='sigmoid'))\n",
    "\n",
    "original_model.compile(optimizer='rmsprop', loss='binary_crossentropy', metrics=['acc'])"
   ]
  },
  {
   "cell_type": "code",
   "execution_count": 3,
   "metadata": {},
   "outputs": [],
   "source": [
    "smaller_model = models.Sequential()\n",
    "smaller_model.add(layers.Dense(6, activation='relu', input_shape=(10000,)))\n",
    "smaller_model.add(layers.Dense(6, activation='relu'))\n",
    "smaller_model.add(layers.Dense(1, activation='sigmoid'))\n",
    "\n",
    "smaller_model.compile(optimizer='rmsprop', loss='binary_crossentropy', metrics=['acc'])"
   ]
  },
  {
   "cell_type": "code",
   "execution_count": 4,
   "metadata": {},
   "outputs": [
    {
     "name": "stdout",
     "output_type": "stream",
     "text": [
      "WARNING:tensorflow:From C:\\Users\\J\\Anaconda3\\lib\\site-packages\\tensorflow\\python\\ops\\math_ops.py:3066: to_int32 (from tensorflow.python.ops.math_ops) is deprecated and will be removed in a future version.\n",
      "Instructions for updating:\n",
      "Use tf.cast instead.\n",
      "Train on 25000 samples, validate on 25000 samples\n",
      "Epoch 1/20\n",
      "25000/25000 [==============================] - 8s 310us/step - loss: 0.4440 - acc: 0.8251 - val_loss: 0.3286 - val_acc: 0.8835\n",
      "Epoch 2/20\n",
      "25000/25000 [==============================] - 4s 147us/step - loss: 0.2573 - acc: 0.9078 - val_loss: 0.2864 - val_acc: 0.8882\n",
      "Epoch 3/20\n",
      "25000/25000 [==============================] - 4s 146us/step - loss: 0.1991 - acc: 0.9292 - val_loss: 0.2821 - val_acc: 0.8891\n",
      "Epoch 4/20\n",
      "25000/25000 [==============================] - 4s 145us/step - loss: 0.1666 - acc: 0.9412 - val_loss: 0.2939 - val_acc: 0.8844\n",
      "Epoch 5/20\n",
      "25000/25000 [==============================] - 4s 144us/step - loss: 0.1435 - acc: 0.9501 - val_loss: 0.3116 - val_acc: 0.8804\n",
      "Epoch 6/20\n",
      "25000/25000 [==============================] - 4s 146us/step - loss: 0.1257 - acc: 0.9558 - val_loss: 0.3483 - val_acc: 0.8721\n",
      "Epoch 7/20\n",
      "25000/25000 [==============================] - 4s 145us/step - loss: 0.1104 - acc: 0.9615 - val_loss: 0.3598 - val_acc: 0.8722\n",
      "Epoch 8/20\n",
      "25000/25000 [==============================] - 4s 145us/step - loss: 0.0977 - acc: 0.9669 - val_loss: 0.3975 - val_acc: 0.8662\n",
      "Epoch 9/20\n",
      "25000/25000 [==============================] - 4s 146us/step - loss: 0.0841 - acc: 0.9721 - val_loss: 0.4339 - val_acc: 0.8611\n",
      "Epoch 10/20\n",
      "25000/25000 [==============================] - 4s 147us/step - loss: 0.0755 - acc: 0.9757 - val_loss: 0.4997 - val_acc: 0.8524\n",
      "Epoch 11/20\n",
      "25000/25000 [==============================] - 4s 146us/step - loss: 0.0684 - acc: 0.9778 - val_loss: 0.4871 - val_acc: 0.8587\n",
      "Epoch 12/20\n",
      "25000/25000 [==============================] - 4s 145us/step - loss: 0.0563 - acc: 0.9831 - val_loss: 0.5220 - val_acc: 0.8557\n",
      "Epoch 13/20\n",
      "25000/25000 [==============================] - 4s 145us/step - loss: 0.0513 - acc: 0.9843 - val_loss: 0.5351 - val_acc: 0.8579\n",
      "Epoch 14/20\n",
      "25000/25000 [==============================] - 4s 145us/step - loss: 0.0423 - acc: 0.9881 - val_loss: 0.6093 - val_acc: 0.8501\n",
      "Epoch 15/20\n",
      "25000/25000 [==============================] - 4s 149us/step - loss: 0.0363 - acc: 0.9894 - val_loss: 0.6115 - val_acc: 0.8558\n",
      "Epoch 16/20\n",
      "25000/25000 [==============================] - 4s 147us/step - loss: 0.0310 - acc: 0.9909 - val_loss: 0.6426 - val_acc: 0.8536\n",
      "Epoch 17/20\n",
      "25000/25000 [==============================] - 4s 145us/step - loss: 0.0265 - acc: 0.9926 - val_loss: 0.7693 - val_acc: 0.8417\n",
      "Epoch 18/20\n",
      "25000/25000 [==============================] - 4s 146us/step - loss: 0.0208 - acc: 0.9946 - val_loss: 0.7221 - val_acc: 0.8516\n",
      "Epoch 19/20\n",
      "25000/25000 [==============================] - 4s 145us/step - loss: 0.0198 - acc: 0.9949 - val_loss: 0.7739 - val_acc: 0.8476\n",
      "Epoch 20/20\n",
      "25000/25000 [==============================] - 4s 146us/step - loss: 0.0151 - acc: 0.9965 - val_loss: 0.9723 - val_acc: 0.8298\n"
     ]
    }
   ],
   "source": [
    "original_hist = original_model.fit(x_train, y_train, epochs=20, batch_size=512, \n",
    "                                   validation_data = (x_test, y_test))"
   ]
  },
  {
   "cell_type": "code",
   "execution_count": 5,
   "metadata": {},
   "outputs": [
    {
     "name": "stdout",
     "output_type": "stream",
     "text": [
      "Train on 25000 samples, validate on 25000 samples\n",
      "Epoch 1/20\n",
      "25000/25000 [==============================] - 4s 154us/step - loss: 0.5670 - acc: 0.7410 - val_loss: 0.4849 - val_acc: 0.8256\n",
      "Epoch 2/20\n",
      "25000/25000 [==============================] - 4s 147us/step - loss: 0.3924 - acc: 0.8895 - val_loss: 0.3609 - val_acc: 0.8780\n",
      "Epoch 3/20\n",
      "25000/25000 [==============================] - 4s 146us/step - loss: 0.2791 - acc: 0.9174 - val_loss: 0.3012 - val_acc: 0.8879\n",
      "Epoch 4/20\n",
      "25000/25000 [==============================] - 4s 146us/step - loss: 0.2213 - acc: 0.9278 - val_loss: 0.2823 - val_acc: 0.8900\n",
      "Epoch 5/20\n",
      "25000/25000 [==============================] - 4s 152us/step - loss: 0.1877 - acc: 0.9375 - val_loss: 0.2816 - val_acc: 0.8863\n",
      "Epoch 6/20\n",
      "25000/25000 [==============================] - 4s 148us/step - loss: 0.1649 - acc: 0.9448 - val_loss: 0.2858 - val_acc: 0.8856\n",
      "Epoch 7/20\n",
      "25000/25000 [==============================] - 4s 146us/step - loss: 0.1467 - acc: 0.9518 - val_loss: 0.2954 - val_acc: 0.8817\n",
      "Epoch 8/20\n",
      "25000/25000 [==============================] - 4s 145us/step - loss: 0.1330 - acc: 0.9558 - val_loss: 0.3067 - val_acc: 0.8796\n",
      "Epoch 9/20\n",
      "25000/25000 [==============================] - 4s 147us/step - loss: 0.1196 - acc: 0.9620 - val_loss: 0.3223 - val_acc: 0.8773\n",
      "Epoch 10/20\n",
      "25000/25000 [==============================] - 4s 146us/step - loss: 0.1095 - acc: 0.9648 - val_loss: 0.3358 - val_acc: 0.8752\n",
      "Epoch 11/20\n",
      "25000/25000 [==============================] - 4s 147us/step - loss: 0.0988 - acc: 0.9690 - val_loss: 0.3549 - val_acc: 0.8712\n",
      "Epoch 12/20\n",
      "25000/25000 [==============================] - 4s 145us/step - loss: 0.0898 - acc: 0.9728 - val_loss: 0.3790 - val_acc: 0.8692\n",
      "Epoch 13/20\n",
      "25000/25000 [==============================] - 4s 145us/step - loss: 0.0816 - acc: 0.9759 - val_loss: 0.3900 - val_acc: 0.8676\n",
      "Epoch 14/20\n",
      "25000/25000 [==============================] - 4s 148us/step - loss: 0.0743 - acc: 0.9772 - val_loss: 0.4130 - val_acc: 0.8654\n",
      "Epoch 15/20\n",
      "25000/25000 [==============================] - 4s 145us/step - loss: 0.0675 - acc: 0.9806 - val_loss: 0.4394 - val_acc: 0.8631\n",
      "Epoch 16/20\n",
      "25000/25000 [==============================] - 4s 145us/step - loss: 0.0605 - acc: 0.9828 - val_loss: 0.4665 - val_acc: 0.8602\n",
      "Epoch 17/20\n",
      "25000/25000 [==============================] - 4s 145us/step - loss: 0.0554 - acc: 0.9840 - val_loss: 0.4742 - val_acc: 0.8618\n",
      "Epoch 18/20\n",
      "25000/25000 [==============================] - 4s 145us/step - loss: 0.0500 - acc: 0.9867 - val_loss: 0.5050 - val_acc: 0.8592\n",
      "Epoch 19/20\n",
      "25000/25000 [==============================] - 4s 145us/step - loss: 0.0456 - acc: 0.9883 - val_loss: 0.5210 - val_acc: 0.8591\n",
      "Epoch 20/20\n",
      "25000/25000 [==============================] - 4s 145us/step - loss: 0.0409 - acc: 0.9896 - val_loss: 0.5714 - val_acc: 0.8536\n"
     ]
    }
   ],
   "source": [
    "smaller_hist = smaller_model.fit(x_train, y_train, epochs=20, batch_size=512, \n",
    "                                   validation_data = (x_test, y_test))"
   ]
  },
  {
   "cell_type": "code",
   "execution_count": 7,
   "metadata": {},
   "outputs": [],
   "source": [
    "import matplotlib.pyplot as plt\n",
    "\n",
    "epochs = range(1,21)\n",
    "original_val_loss = original_hist.history['val_loss']\n",
    "smaller_model_val_loss = smaller_hist.history['val_loss']"
   ]
  },
  {
   "cell_type": "code",
   "execution_count": 8,
   "metadata": {},
   "outputs": [
    {
     "data": {
      "image/png": "[encoded data removed]",
      "text/plain": [
       "<Figure size 432x288 with 1 Axes>"
      ]
     },
     "metadata": {
      "needs_background": "light"
     },
     "output_type": "display_data"
    }
   ],
   "source": [
    "plt.plot(epochs, original_val_loss, 'b+', label='Original model')\n",
    "plt.plot(epochs, smaller_model_val_loss, 'bo', label='Smaller model')\n",
    "plt.xlabel('Epochs')\n",
    "plt.ylabel('Validation loss')\n",
    "plt.legend()\n",
    "\n",
    "plt.show()"
   ]
  },
  {
   "cell_type": "code",
   "execution_count": 9,
   "metadata": {},
   "outputs": [],
   "source": [
    "bigger_model = models.Sequential()\n",
    "bigger_model.add(layers.Dense(1024, activation='relu', input_shape=(10000,)))\n",
    "bigger_model.add(layers.Dense(1024, activation='relu'))\n",
    "bigger_model.add(layers.Dense(1, activation='sigmoid'))\n",
    "\n",
    "bigger_model.compile(optimizer='rmsprop', loss='binary_crossentropy', metrics=['acc'])"
   ]
  },
  {
   "cell_type": "code",
   "execution_count": 16,
   "metadata": {},
   "outputs": [
    {
     "name": "stdout",
     "output_type": "stream",
     "text": [
      "Train on 25000 samples, validate on 25000 samples\n",
      "Epoch 1/20\n",
      "25000/25000 [==============================] - 4s 162us/step - loss: 6.4483e-04 - acc: 1.0000 - val_loss: 1.0740 - val_acc: 0.8813\n",
      "Epoch 2/20\n",
      "25000/25000 [==============================] - 4s 158us/step - loss: 6.4483e-04 - acc: 1.0000 - val_loss: 1.0756 - val_acc: 0.8812\n",
      "Epoch 3/20\n",
      "25000/25000 [==============================] - 4s 159us/step - loss: 6.4483e-04 - acc: 1.0000 - val_loss: 1.0777 - val_acc: 0.8814\n",
      "Epoch 4/20\n",
      "25000/25000 [==============================] - 4s 159us/step - loss: 6.4483e-04 - acc: 1.0000 - val_loss: 1.0794 - val_acc: 0.8814\n",
      "Epoch 5/20\n",
      "25000/25000 [==============================] - 4s 159us/step - loss: 6.4483e-04 - acc: 1.0000 - val_loss: 1.0808 - val_acc: 0.8813\n",
      "Epoch 6/20\n",
      "25000/25000 [==============================] - 4s 157us/step - loss: 6.4483e-04 - acc: 1.0000 - val_loss: 1.0819 - val_acc: 0.8812\n",
      "Epoch 7/20\n",
      "25000/25000 [==============================] - 4s 158us/step - loss: 6.4483e-04 - acc: 1.0000 - val_loss: 1.0829 - val_acc: 0.8813\n",
      "Epoch 8/20\n",
      "25000/25000 [==============================] - 4s 157us/step - loss: 6.4483e-04 - acc: 1.0000 - val_loss: 1.0840 - val_acc: 0.8813\n",
      "Epoch 9/20\n",
      "25000/25000 [==============================] - 4s 160us/step - loss: 6.4483e-04 - acc: 1.0000 - val_loss: 1.0849 - val_acc: 0.8812\n",
      "Epoch 10/20\n",
      "25000/25000 [==============================] - 4s 160us/step - loss: 6.4483e-04 - acc: 1.0000 - val_loss: 1.0859 - val_acc: 0.8811\n",
      "Epoch 11/20\n",
      "25000/25000 [==============================] - 4s 160us/step - loss: 6.4483e-04 - acc: 1.0000 - val_loss: 1.0864 - val_acc: 0.8813\n",
      "Epoch 12/20\n",
      "25000/25000 [==============================] - 4s 159us/step - loss: 6.4483e-04 - acc: 1.0000 - val_loss: 1.0875 - val_acc: 0.8812\n",
      "Epoch 13/20\n",
      "25000/25000 [==============================] - 4s 159us/step - loss: 6.4483e-04 - acc: 1.0000 - val_loss: 1.0882 - val_acc: 0.8812\n",
      "Epoch 14/20\n",
      "25000/25000 [==============================] - 4s 159us/step - loss: 6.4483e-04 - acc: 1.0000 - val_loss: 1.0891 - val_acc: 0.8812\n",
      "Epoch 15/20\n",
      "25000/25000 [==============================] - 4s 158us/step - loss: 6.4483e-04 - acc: 1.0000 - val_loss: 1.0899 - val_acc: 0.8812\n",
      "Epoch 16/20\n",
      "25000/25000 [==============================] - 4s 158us/step - loss: 6.4483e-04 - acc: 1.0000 - val_loss: 1.0908 - val_acc: 0.8812\n",
      "Epoch 17/20\n",
      "25000/25000 [==============================] - 4s 158us/step - loss: 6.4483e-04 - acc: 1.0000 - val_loss: 1.0911 - val_acc: 0.8812\n",
      "Epoch 18/20\n",
      "25000/25000 [==============================] - 4s 159us/step - loss: 6.4483e-04 - acc: 1.0000 - val_loss: 1.0921 - val_acc: 0.8812\n",
      "Epoch 19/20\n",
      "25000/25000 [==============================] - 4s 158us/step - loss: 6.4483e-04 - acc: 1.0000 - val_loss: 1.0926 - val_acc: 0.8812\n",
      "Epoch 20/20\n",
      "25000/25000 [==============================] - 4s 158us/step - loss: 6.4483e-04 - acc: 1.0000 - val_loss: 1.0933 - val_acc: 0.8812\n"
     ]
    }
   ],
   "source": [
    "bigger_model_hist = bigger_model.fit(x_train, y_train, epochs=20, batch_size=512, \n",
    "                                   validation_data = (x_test, y_test))"
   ]
  },
  {
   "cell_type": "code",
   "execution_count": 17,
   "metadata": {},
   "outputs": [
    {
     "data": {
      "image/png": "[encoded data removed]",
      "text/plain": [
       "<Figure size 432x288 with 1 Axes>"
      ]
     },
     "metadata": {
      "needs_background": "light"
     },
     "output_type": "display_data"
    }
   ],
   "source": [
    "bigger_model_val_loss = bigger_model_hist.history['val_loss']\n",
    "\n",
    "plt.plot(epochs, original_val_loss, 'b+', label='Original model')\n",
    "plt.plot(epochs, bigger_model_val_loss, 'bo', label='Bigger model')\n",
    "plt.xlabel('Epochs')\n",
    "plt.ylabel('Validation loss')\n",
    "plt.legend()\n",
    "\n",
    "plt.show()"
   ]
  },
  {
   "cell_type": "code",
   "execution_count": 18,
   "metadata": {},
   "outputs": [
    {
     "data": {
      "image/png": "[encoded data removed]",
      "text/plain": [
       "<Figure size 432x288 with 1 Axes>"
      ]
     },
     "metadata": {
      "needs_background": "light"
     },
     "output_type": "display_data"
    }
   ],
   "source": [
    "original_train_loss = original_hist.history['loss']\n",
    "bigger_model_train_loss = bigger_model_hist.history['loss']\n",
    "\n",
    "plt.plot(epochs, original_val_loss, 'b+', label='Original model')\n",
    "plt.plot(epochs, bigger_model_val_loss, 'bo', label='Bigger model')\n",
    "plt.xlabel('Epochs')\n",
    "plt.ylabel('Training loss')\n",
    "plt.legend()\n",
    "\n",
    "plt.show()"
   ]
  },
  {
   "cell_type": "code",
   "execution_count": 20,
   "metadata": {},
   "outputs": [],
   "source": [
    "from keras import regularizers\n",
    "\n",
    "l2_model = models.Sequential()\n",
    "l2_model.add(layers.Dense(16, kernel_regularizer=regularizers.l2(0.001),\n",
    "                          activation='relu', input_shape=(10000,)))\n",
    "l2_model.add(layers.Dense(16, kernel_regularizer=regularizers.l2(0.001), \n",
    "                          activation='relu'))\n",
    "l2_model.add(layers.Dense(1, activation='sigmoid'))\n",
    "\n",
    "l2_model.compile(optimizer='rmsprop', loss='binary_crossentropy', metrics=['acc'])"
   ]
  },
  {
   "cell_type": "code",
   "execution_count": 21,
   "metadata": {},
   "outputs": [
    {
     "name": "stdout",
     "output_type": "stream",
     "text": [
      "Train on 25000 samples, validate on 25000 samples\n",
      "Epoch 1/20\n",
      "25000/25000 [==============================] - 4s 165us/step - loss: 0.4844 - acc: 0.8288 - val_loss: 0.3787 - val_acc: 0.8763\n",
      "Epoch 2/20\n",
      "25000/25000 [==============================] - 4s 146us/step - loss: 0.3069 - acc: 0.9058 - val_loss: 0.3335 - val_acc: 0.8861\n",
      "Epoch 3/20\n",
      "25000/25000 [==============================] - 4s 146us/step - loss: 0.2653 - acc: 0.9203 - val_loss: 0.3456 - val_acc: 0.8781\n",
      "Epoch 4/20\n",
      "25000/25000 [==============================] - 4s 145us/step - loss: 0.2418 - acc: 0.9296 - val_loss: 0.3399 - val_acc: 0.8814\n",
      "Epoch 5/20\n",
      "25000/25000 [==============================] - 4s 146us/step - loss: 0.2289 - acc: 0.9349 - val_loss: 0.3490 - val_acc: 0.8800\n",
      "Epoch 6/20\n",
      "25000/25000 [==============================] - 4s 146us/step - loss: 0.2176 - acc: 0.9398 - val_loss: 0.3647 - val_acc: 0.8760\n",
      "Epoch 7/20\n",
      "25000/25000 [==============================] - 4s 146us/step - loss: 0.2116 - acc: 0.9424 - val_loss: 0.4034 - val_acc: 0.8650\n",
      "Epoch 8/20\n",
      "25000/25000 [==============================] - 4s 147us/step - loss: 0.2076 - acc: 0.9425 - val_loss: 0.3751 - val_acc: 0.8760\n",
      "Epoch 9/20\n",
      "25000/25000 [==============================] - 4s 146us/step - loss: 0.2033 - acc: 0.9472 - val_loss: 0.3720 - val_acc: 0.8770\n",
      "Epoch 10/20\n",
      "25000/25000 [==============================] - 4s 147us/step - loss: 0.1955 - acc: 0.9491 - val_loss: 0.3796 - val_acc: 0.8742\n",
      "Epoch 11/20\n",
      "25000/25000 [==============================] - 4s 146us/step - loss: 0.1947 - acc: 0.9489 - val_loss: 0.3852 - val_acc: 0.8747\n",
      "Epoch 12/20\n",
      "25000/25000 [==============================] - 4s 146us/step - loss: 0.1915 - acc: 0.9506 - val_loss: 0.4024 - val_acc: 0.8698\n",
      "Epoch 13/20\n",
      "25000/25000 [==============================] - 4s 146us/step - loss: 0.1855 - acc: 0.9520 - val_loss: 0.4194 - val_acc: 0.8678\n",
      "Epoch 14/20\n",
      "25000/25000 [==============================] - 4s 146us/step - loss: 0.1799 - acc: 0.9552 - val_loss: 0.4504 - val_acc: 0.8620\n",
      "Epoch 15/20\n",
      "25000/25000 [==============================] - 4s 145us/step - loss: 0.1765 - acc: 0.9573 - val_loss: 0.4195 - val_acc: 0.8668\n",
      "Epoch 16/20\n",
      "25000/25000 [==============================] - 4s 145us/step - loss: 0.1751 - acc: 0.9579 - val_loss: 0.4330 - val_acc: 0.8637\n",
      "Epoch 17/20\n",
      "25000/25000 [==============================] - 4s 146us/step - loss: 0.1732 - acc: 0.9583 - val_loss: 0.4834 - val_acc: 0.8548\n",
      "Epoch 18/20\n",
      "25000/25000 [==============================] - 4s 146us/step - loss: 0.1682 - acc: 0.9605 - val_loss: 0.4346 - val_acc: 0.8624\n",
      "Epoch 19/20\n",
      "25000/25000 [==============================] - 4s 146us/step - loss: 0.1620 - acc: 0.9642 - val_loss: 0.4273 - val_acc: 0.8703\n",
      "Epoch 20/20\n",
      "25000/25000 [==============================] - 4s 147us/step - loss: 0.1640 - acc: 0.9620 - val_loss: 0.4314 - val_acc: 0.8677\n"
     ]
    }
   ],
   "source": [
    "l2_model_hist = l2_model.fit(x_train, y_train, epochs=20, batch_size=512, \n",
    "                                   validation_data = (x_test, y_test))"
   ]
  },
  {
   "cell_type": "code",
   "execution_count": 23,
   "metadata": {},
   "outputs": [
    {
     "data": {
      "image/png": "[encoded data removed]",
      "text/plain": [
       "<Figure size 432x288 with 1 Axes>"
      ]
     },
     "metadata": {
      "needs_background": "light"
     },
     "output_type": "display_data"
    }
   ],
   "source": [
    "l2_model_val_loss = l2_model_hist.history['val_loss']\n",
    "\n",
    "plt.plot(epochs, original_val_loss, 'b+', label='Original model')\n",
    "plt.plot(epochs, l2_model_val_loss, 'bo', label='L2-regularized model')\n",
    "plt.xlabel('Epochs')\n",
    "plt.ylabel('Validation loss')\n",
    "plt.legend()\n",
    "\n",
    "plt.show()"
   ]
  },
  {
   "cell_type": "code",
   "execution_count": null,
   "metadata": {},
   "outputs": [],
   "source": [
    "'''\n",
    "L1 규제\n",
    "regularizers.l1(0.001)\n",
    "\n",
    "L1 L2 병행\n",
    "regularizers.l1_l2(l1=0.001, l2=0.001)\n",
    "'''"
   ]
  },
  {
   "cell_type": "code",
   "execution_count": 24,
   "metadata": {},
   "outputs": [],
   "source": [
    "l1_model = models.Sequential()\n",
    "l1_model.add(layers.Dense(16, kernel_regularizer=regularizers.l1(0.0001),\n",
    "                          activation='relu', input_shape=(10000,)))\n",
    "l1_model.add(layers.Dense(16, kernel_regularizer=regularizers.l2(0.0001), \n",
    "                          activation='relu'))\n",
    "l1_model.add(layers.Dense(1, activation='sigmoid'))\n",
    "\n",
    "l1_model.compile(optimizer='rmsprop', loss='binary_crossentropy', metrics=['acc'])"
   ]
  },
  {
   "cell_type": "code",
   "execution_count": 25,
   "metadata": {},
   "outputs": [
    {
     "name": "stdout",
     "output_type": "stream",
     "text": [
      "Train on 25000 samples, validate on 25000 samples\n",
      "Epoch 1/20\n",
      "25000/25000 [==============================] - 4s 163us/step - loss: 0.5466 - acc: 0.8162 - val_loss: 0.4430 - val_acc: 0.8526\n",
      "Epoch 2/20\n",
      "25000/25000 [==============================] - 4s 144us/step - loss: 0.3646 - acc: 0.8952 - val_loss: 0.3756 - val_acc: 0.8836\n",
      "Epoch 3/20\n",
      "25000/25000 [==============================] - 4s 145us/step - loss: 0.3273 - acc: 0.9064 - val_loss: 0.3729 - val_acc: 0.8821\n",
      "Epoch 4/20\n",
      "25000/25000 [==============================] - 4s 145us/step - loss: 0.3149 - acc: 0.9092 - val_loss: 0.3584 - val_acc: 0.8875\n",
      "Epoch 5/20\n",
      "25000/25000 [==============================] - 4s 144us/step - loss: 0.3019 - acc: 0.9150 - val_loss: 0.3782 - val_acc: 0.8782\n",
      "Epoch 6/20\n",
      "25000/25000 [==============================] - 4s 145us/step - loss: 0.2960 - acc: 0.9183 - val_loss: 0.3675 - val_acc: 0.8852\n",
      "Epoch 7/20\n",
      "25000/25000 [==============================] - 4s 145us/step - loss: 0.2880 - acc: 0.9206 - val_loss: 0.3672 - val_acc: 0.8848\n",
      "Epoch 8/20\n",
      "25000/25000 [==============================] - 4s 145us/step - loss: 0.2874 - acc: 0.9200 - val_loss: 0.3726 - val_acc: 0.8834\n",
      "Epoch 9/20\n",
      "25000/25000 [==============================] - 4s 145us/step - loss: 0.2792 - acc: 0.9257 - val_loss: 0.3853 - val_acc: 0.8799\n",
      "Epoch 10/20\n",
      "25000/25000 [==============================] - 4s 145us/step - loss: 0.2730 - acc: 0.9276 - val_loss: 0.3778 - val_acc: 0.8830\n",
      "Epoch 11/20\n",
      "25000/25000 [==============================] - 4s 145us/step - loss: 0.2696 - acc: 0.9279 - val_loss: 0.3779 - val_acc: 0.8814\n",
      "Epoch 12/20\n",
      "25000/25000 [==============================] - 4s 145us/step - loss: 0.2643 - acc: 0.9323 - val_loss: 0.3862 - val_acc: 0.8789\n",
      "Epoch 13/20\n",
      "25000/25000 [==============================] - 4s 145us/step - loss: 0.2581 - acc: 0.9334 - val_loss: 0.4063 - val_acc: 0.8688\n",
      "Epoch 14/20\n",
      "25000/25000 [==============================] - 4s 146us/step - loss: 0.2526 - acc: 0.9358 - val_loss: 0.3857 - val_acc: 0.8808\n",
      "Epoch 15/20\n",
      "25000/25000 [==============================] - 4s 145us/step - loss: 0.2467 - acc: 0.9390 - val_loss: 0.4058 - val_acc: 0.8736\n",
      "Epoch 16/20\n",
      "25000/25000 [==============================] - 4s 145us/step - loss: 0.2393 - acc: 0.9411 - val_loss: 0.4041 - val_acc: 0.8751\n",
      "Epoch 17/20\n",
      "25000/25000 [==============================] - 4s 145us/step - loss: 0.2379 - acc: 0.9417 - val_loss: 0.4034 - val_acc: 0.8760\n",
      "Epoch 18/20\n",
      "25000/25000 [==============================] - 4s 145us/step - loss: 0.2310 - acc: 0.9453 - val_loss: 0.4666 - val_acc: 0.8551\n",
      "Epoch 19/20\n",
      "25000/25000 [==============================] - 4s 145us/step - loss: 0.2287 - acc: 0.9437 - val_loss: 0.4176 - val_acc: 0.8745\n",
      "Epoch 20/20\n",
      "25000/25000 [==============================] - 4s 145us/step - loss: 0.2250 - acc: 0.9476 - val_loss: 0.4191 - val_acc: 0.8736\n"
     ]
    }
   ],
   "source": [
    "l1_model_hist = l1_model.fit(x_train, y_train, epochs=20, batch_size=512, \n",
    "                                   validation_data = (x_test, y_test))"
   ]
  },
  {
   "cell_type": "code",
   "execution_count": 26,
   "metadata": {},
   "outputs": [
    {
     "data": {
      "image/png": "[encoded data removed]",
      "text/plain": [
       "<Figure size 432x288 with 1 Axes>"
      ]
     },
     "metadata": {
      "needs_background": "light"
     },
     "output_type": "display_data"
    }
   ],
   "source": [
    "l1_model_val_loss = l1_model_hist.history['val_loss']\n",
    "\n",
    "plt.plot(epochs, original_val_loss, 'b+', label='Original model')\n",
    "plt.plot(epochs, l2_model_val_loss, 'bo', label='L1-regularized model')\n",
    "plt.xlabel('Epochs')\n",
    "plt.ylabel('Validation loss')\n",
    "plt.legend()\n",
    "\n",
    "plt.show()"
   ]
  },
  {
   "cell_type": "code",
   "execution_count": 27,
   "metadata": {},
   "outputs": [],
   "source": [
    "l1l2_model = models.Sequential()\n",
    "l1l2_model.add(layers.Dense(16, kernel_regularizer=regularizers.l1_l2(l1=0.0001,\n",
    "                                                                     l2=0.0001),\n",
    "                          activation='relu', input_shape=(10000,)))\n",
    "l1l2_model.add(layers.Dense(16, kernel_regularizer=regularizers.l1_l2(l1=0.0001,\n",
    "                                                                     l2=0.0001), \n",
    "                          activation='relu'))\n",
    "l1l2_model.add(layers.Dense(1, activation='sigmoid'))\n",
    "\n",
    "l1l2_model.compile(optimizer='rmsprop', loss='binary_crossentropy', metrics=['acc'])"
   ]
  },
  {
   "cell_type": "code",
   "execution_count": 28,
   "metadata": {},
   "outputs": [
    {
     "name": "stdout",
     "output_type": "stream",
     "text": [
      "Train on 25000 samples, validate on 25000 samples\n",
      "Epoch 1/20\n",
      "25000/25000 [==============================] - 4s 168us/step - loss: 0.5664 - acc: 0.8176 - val_loss: 0.4531 - val_acc: 0.8545\n",
      "Epoch 2/20\n",
      "25000/25000 [==============================] - 4s 148us/step - loss: 0.3821 - acc: 0.8925 - val_loss: 0.3792 - val_acc: 0.8850\n",
      "Epoch 3/20\n",
      "25000/25000 [==============================] - 4s 146us/step - loss: 0.3408 - acc: 0.9028 - val_loss: 0.3641 - val_acc: 0.8891\n",
      "Epoch 4/20\n",
      "25000/25000 [==============================] - 4s 146us/step - loss: 0.3218 - acc: 0.9090 - val_loss: 0.3616 - val_acc: 0.8881\n",
      "Epoch 5/20\n",
      "25000/25000 [==============================] - 4s 146us/step - loss: 0.3134 - acc: 0.9110 - val_loss: 0.3694 - val_acc: 0.8851\n",
      "Epoch 6/20\n",
      "25000/25000 [==============================] - 4s 145us/step - loss: 0.3064 - acc: 0.9141 - val_loss: 0.3666 - val_acc: 0.8850\n",
      "Epoch 7/20\n",
      "25000/25000 [==============================] - 4s 146us/step - loss: 0.3021 - acc: 0.9168 - val_loss: 0.3728 - val_acc: 0.8836\n",
      "Epoch 8/20\n",
      "25000/25000 [==============================] - 4s 146us/step - loss: 0.2952 - acc: 0.9210 - val_loss: 0.4185 - val_acc: 0.8630\n",
      "Epoch 9/20\n",
      "25000/25000 [==============================] - 4s 145us/step - loss: 0.2929 - acc: 0.9199 - val_loss: 0.3837 - val_acc: 0.8808\n",
      "Epoch 10/20\n",
      "25000/25000 [==============================] - 4s 146us/step - loss: 0.2906 - acc: 0.9229 - val_loss: 0.4410 - val_acc: 0.8616\n",
      "Epoch 11/20\n",
      "25000/25000 [==============================] - 4s 146us/step - loss: 0.2887 - acc: 0.9216 - val_loss: 0.3815 - val_acc: 0.8828\n",
      "Epoch 12/20\n",
      "25000/25000 [==============================] - 4s 146us/step - loss: 0.2826 - acc: 0.9266 - val_loss: 0.3887 - val_acc: 0.8806\n",
      "Epoch 13/20\n",
      "25000/25000 [==============================] - 4s 146us/step - loss: 0.2821 - acc: 0.9275 - val_loss: 0.3956 - val_acc: 0.8794\n",
      "Epoch 14/20\n",
      "25000/25000 [==============================] - 4s 146us/step - loss: 0.2785 - acc: 0.9282 - val_loss: 0.3890 - val_acc: 0.8799\n",
      "Epoch 15/20\n",
      "25000/25000 [==============================] - 4s 146us/step - loss: 0.2794 - acc: 0.9275 - val_loss: 0.3916 - val_acc: 0.8805\n",
      "Epoch 16/20\n",
      "25000/25000 [==============================] - 4s 146us/step - loss: 0.2740 - acc: 0.9298 - val_loss: 0.4177 - val_acc: 0.8712\n",
      "Epoch 17/20\n",
      "25000/25000 [==============================] - 4s 146us/step - loss: 0.2717 - acc: 0.9313 - val_loss: 0.3956 - val_acc: 0.8776\n",
      "Epoch 18/20\n",
      "25000/25000 [==============================] - 4s 146us/step - loss: 0.2643 - acc: 0.9343 - val_loss: 0.4064 - val_acc: 0.8765\n",
      "Epoch 19/20\n",
      "25000/25000 [==============================] - 4s 146us/step - loss: 0.2663 - acc: 0.9321 - val_loss: 0.4010 - val_acc: 0.8767\n",
      "Epoch 20/20\n",
      "25000/25000 [==============================] - 4s 146us/step - loss: 0.2577 - acc: 0.9373 - val_loss: 0.4867 - val_acc: 0.8456\n"
     ]
    }
   ],
   "source": [
    "l1l2_model_hist = l1l2_model.fit(x_train, y_train, epochs=20, batch_size=512, \n",
    "                                   validation_data = (x_test, y_test))"
   ]
  },
  {
   "cell_type": "code",
   "execution_count": 29,
   "metadata": {},
   "outputs": [
    {
     "data": {
      "image/png": "[encoded data removed]",
      "text/plain": [
       "<Figure size 432x288 with 1 Axes>"
      ]
     },
     "metadata": {
      "needs_background": "light"
     },
     "output_type": "display_data"
    }
   ],
   "source": [
    "l1l2_model_val_loss = l1l2_model_hist.history['val_loss']\n",
    "\n",
    "plt.plot(epochs, original_val_loss, 'b+', label='Original model')\n",
    "plt.plot(epochs, l2_model_val_loss, 'bo', label='L1,L2-regularized model')\n",
    "plt.xlabel('Epochs')\n",
    "plt.ylabel('Validation loss')\n",
    "plt.legend()\n",
    "\n",
    "plt.show()"
   ]
  },
  {
   "cell_type": "code",
   "execution_count": null,
   "metadata": {},
   "outputs": [],
   "source": []
  },
  {
   "cell_type": "code",
   "execution_count": null,
   "metadata": {},
   "outputs": [],
   "source": []
  },
  {
   "cell_type": "code",
   "execution_count": null,
   "metadata": {},
   "outputs": [],
   "source": []
  }
 ],
 "metadata": {
  "kernelspec": {
   "display_name": "Python 3",
   "language": "python",
   "name": "python3"
  },
  "language_info": {
   "codemirror_mode": {
    "name": "ipython",
    "version": 3
   },
   "file_extension": ".py",
   "mimetype": "text/x-python",
   "name": "python",
   "nbconvert_exporter": "python",
   "pygments_lexer": "ipython3",
   "version": "3.7.2"
  }
 },
 "nbformat": 4,
 "nbformat_minor": 2
}
