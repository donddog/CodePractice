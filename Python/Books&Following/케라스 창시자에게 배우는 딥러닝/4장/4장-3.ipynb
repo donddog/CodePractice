{
 "cells": [
  {
   "cell_type": "code",
   "execution_count": 1,
   "metadata": {},
   "outputs": [
    {
     "name": "stderr",
     "output_type": "stream",
     "text": [
      "Using TensorFlow backend.\n"
     ]
    }
   ],
   "source": [
    "from keras.datasets import imdb\n",
    "import numpy as np\n",
    "\n",
    "(train_data, train_labels), (test_data, test_labels) = imdb.load_data(num_words=10000)\n",
    "\n",
    "def vectorize_sequences(sequences, dimension=10000):\n",
    "    # 크기가 (len(sequences), dimension))이고 모든 원소가 0인 행렬을 만듭니다\n",
    "    results = np.zeros((len(sequences), dimension))\n",
    "    for i, sequence in enumerate(sequences):\n",
    "        results[i, sequence] = 1.  # results[i]에서 특정 인덱스의 위치를 1로 만듭니다\n",
    "    return results\n",
    "\n",
    "x_train = vectorize_sequences(train_data)\n",
    "x_test = vectorize_sequences(test_data)\n",
    "y_train = np.asarray(train_labels).astype('float32')\n",
    "y_test = np.asarray(test_labels).astype('float32')"
   ]
  },
  {
   "cell_type": "code",
   "execution_count": 2,
   "metadata": {},
   "outputs": [
    {
     "name": "stdout",
     "output_type": "stream",
     "text": [
      "WARNING:tensorflow:From C:\\Users\\J\\Anaconda3\\lib\\site-packages\\tensorflow\\python\\framework\\op_def_library.py:263: colocate_with (from tensorflow.python.framework.ops) is deprecated and will be removed in a future version.\n",
      "Instructions for updating:\n",
      "Colocations handled automatically by placer.\n",
      "WARNING:tensorflow:From C:\\Users\\J\\Anaconda3\\lib\\site-packages\\keras\\backend\\tensorflow_backend.py:3445: calling dropout (from tensorflow.python.ops.nn_ops) with keep_prob is deprecated and will be removed in a future version.\n",
      "Instructions for updating:\n",
      "Please use `rate` instead of `keep_prob`. Rate should be set to `rate = 1 - keep_prob`.\n"
     ]
    }
   ],
   "source": [
    "from keras import models, layers\n",
    "\n",
    "dpt_model = models.Sequential()\n",
    "dpt_model.add(layers.Dense(16, activation='relu', input_shape=(10000,)))\n",
    "dpt_model.add(layers.Dropout(0.5))\n",
    "dpt_model.add(layers.Dense(16, activation='relu'))\n",
    "dpt_model.add(layers.Dropout(0.5))\n",
    "dpt_model.add(layers.Dense(1, activation='sigmoid'))"
   ]
  },
  {
   "cell_type": "code",
   "execution_count": 3,
   "metadata": {},
   "outputs": [],
   "source": [
    "dpt_model.compile(optimizer='rmsprop', loss='binary_crossentropy', metrics=['acc'])"
   ]
  },
  {
   "cell_type": "code",
   "execution_count": 4,
   "metadata": {},
   "outputs": [
    {
     "name": "stdout",
     "output_type": "stream",
     "text": [
      "WARNING:tensorflow:From C:\\Users\\J\\Anaconda3\\lib\\site-packages\\tensorflow\\python\\ops\\math_ops.py:3066: to_int32 (from tensorflow.python.ops.math_ops) is deprecated and will be removed in a future version.\n",
      "Instructions for updating:\n",
      "Use tf.cast instead.\n",
      "Train on 25000 samples, validate on 25000 samples\n",
      "Epoch 1/20\n",
      "25000/25000 [==============================] - 6s 235us/step - loss: 0.5973 - acc: 0.6846 - val_loss: 0.4663 - val_acc: 0.8636\n",
      "Epoch 2/20\n",
      "25000/25000 [==============================] - 4s 148us/step - loss: 0.4667 - acc: 0.8029 - val_loss: 0.3810 - val_acc: 0.8801\n",
      "Epoch 3/20\n",
      "25000/25000 [==============================] - 4s 148us/step - loss: 0.3891 - acc: 0.8605 - val_loss: 0.3253 - val_acc: 0.8868\n",
      "Epoch 4/20\n",
      "25000/25000 [==============================] - 4s 146us/step - loss: 0.3364 - acc: 0.8924 - val_loss: 0.3020 - val_acc: 0.8879\n",
      "Epoch 5/20\n",
      "25000/25000 [==============================] - 4s 146us/step - loss: 0.2963 - acc: 0.9133 - val_loss: 0.2912 - val_acc: 0.8856\n",
      "Epoch 6/20\n",
      "25000/25000 [==============================] - 4s 146us/step - loss: 0.2607 - acc: 0.9208 - val_loss: 0.3004 - val_acc: 0.8876\n",
      "Epoch 7/20\n",
      "25000/25000 [==============================] - 4s 149us/step - loss: 0.2352 - acc: 0.9311 - val_loss: 0.3052 - val_acc: 0.8869\n",
      "Epoch 8/20\n",
      "25000/25000 [==============================] - 4s 147us/step - loss: 0.2103 - acc: 0.9381 - val_loss: 0.3182 - val_acc: 0.8823\n",
      "Epoch 9/20\n",
      "25000/25000 [==============================] - 4s 146us/step - loss: 0.1933 - acc: 0.9432 - val_loss: 0.3355 - val_acc: 0.8772\n",
      "Epoch 10/20\n",
      "25000/25000 [==============================] - 4s 146us/step - loss: 0.1785 - acc: 0.9480 - val_loss: 0.3556 - val_acc: 0.8749\n",
      "Epoch 11/20\n",
      "25000/25000 [==============================] - 4s 146us/step - loss: 0.1621 - acc: 0.9512 - val_loss: 0.3849 - val_acc: 0.8793\n",
      "Epoch 12/20\n",
      "25000/25000 [==============================] - 4s 146us/step - loss: 0.1533 - acc: 0.9547 - val_loss: 0.4121 - val_acc: 0.8787\n",
      "Epoch 13/20\n",
      "25000/25000 [==============================] - 4s 147us/step - loss: 0.1441 - acc: 0.9585 - val_loss: 0.4231 - val_acc: 0.8765\n",
      "Epoch 14/20\n",
      "25000/25000 [==============================] - 4s 146us/step - loss: 0.1364 - acc: 0.9603 - val_loss: 0.4445 - val_acc: 0.8726\n",
      "Epoch 15/20\n",
      "25000/25000 [==============================] - 4s 146us/step - loss: 0.1277 - acc: 0.9604 - val_loss: 0.4616 - val_acc: 0.8738\n",
      "Epoch 16/20\n",
      "25000/25000 [==============================] - 4s 146us/step - loss: 0.1194 - acc: 0.9655 - val_loss: 0.5095 - val_acc: 0.8754\n",
      "Epoch 17/20\n",
      "25000/25000 [==============================] - 4s 145us/step - loss: 0.1185 - acc: 0.9671 - val_loss: 0.5165 - val_acc: 0.8745\n",
      "Epoch 18/20\n",
      "25000/25000 [==============================] - 4s 145us/step - loss: 0.1109 - acc: 0.9684 - val_loss: 0.5467 - val_acc: 0.8745\n",
      "Epoch 19/20\n",
      "25000/25000 [==============================] - 4s 146us/step - loss: 0.1144 - acc: 0.9669 - val_loss: 0.5422 - val_acc: 0.8719\n",
      "Epoch 20/20\n",
      "25000/25000 [==============================] - 4s 146us/step - loss: 0.1119 - acc: 0.9698 - val_loss: 0.5519 - val_acc: 0.8682\n"
     ]
    }
   ],
   "source": [
    "dpt_model_hist = dpt_model.fit(x_train, y_train, epochs=20, batch_size=512, \n",
    "                                   validation_data = (x_test, y_test))"
   ]
  },
  {
   "cell_type": "code",
   "execution_count": 8,
   "metadata": {},
   "outputs": [],
   "source": [
    "original_model = models.Sequential()\n",
    "original_model.add(layers.Dense(16, activation='relu', input_shape=(10000,)))\n",
    "original_model.add(layers.Dense(16, activation='relu'))\n",
    "original_model.add(layers.Dense(1, activation='sigmoid'))\n",
    "\n",
    "original_model.compile(optimizer='rmsprop',\n",
    "                       loss='binary_crossentropy',\n",
    "                       metrics=['acc'])"
   ]
  },
  {
   "cell_type": "code",
   "execution_count": 10,
   "metadata": {},
   "outputs": [
    {
     "name": "stdout",
     "output_type": "stream",
     "text": [
      "Train on 25000 samples, validate on 25000 samples\n",
      "Epoch 1/20\n",
      "25000/25000 [==============================] - 4s 155us/step - loss: 0.4453 - acc: 0.8222 - val_loss: 0.3350 - val_acc: 0.8782\n",
      "Epoch 2/20\n",
      "25000/25000 [==============================] - 4s 143us/step - loss: 0.2567 - acc: 0.9119 - val_loss: 0.3015 - val_acc: 0.8783\n",
      "Epoch 3/20\n",
      "25000/25000 [==============================] - 4s 143us/step - loss: 0.1991 - acc: 0.9306 - val_loss: 0.2894 - val_acc: 0.8835\n",
      "Epoch 4/20\n",
      "25000/25000 [==============================] - 4s 144us/step - loss: 0.1676 - acc: 0.9416 - val_loss: 0.3063 - val_acc: 0.8791\n",
      "Epoch 5/20\n",
      "25000/25000 [==============================] - 4s 143us/step - loss: 0.1443 - acc: 0.9498 - val_loss: 0.3329 - val_acc: 0.8741\n",
      "Epoch 6/20\n",
      "25000/25000 [==============================] - 4s 143us/step - loss: 0.1288 - acc: 0.9544 - val_loss: 0.3357 - val_acc: 0.8732\n",
      "Epoch 7/20\n",
      "25000/25000 [==============================] - 4s 143us/step - loss: 0.1141 - acc: 0.9613 - val_loss: 0.3662 - val_acc: 0.8694\n",
      "Epoch 8/20\n",
      "25000/25000 [==============================] - 4s 142us/step - loss: 0.1034 - acc: 0.9649 - val_loss: 0.3949 - val_acc: 0.8675\n",
      "Epoch 9/20\n",
      "25000/25000 [==============================] - 4s 142us/step - loss: 0.0921 - acc: 0.9686 - val_loss: 0.4115 - val_acc: 0.8667\n",
      "Epoch 10/20\n",
      "25000/25000 [==============================] - 4s 143us/step - loss: 0.0835 - acc: 0.9719 - val_loss: 0.5040 - val_acc: 0.8504\n",
      "Epoch 11/20\n",
      "25000/25000 [==============================] - 4s 143us/step - loss: 0.0754 - acc: 0.9751 - val_loss: 0.4614 - val_acc: 0.8622\n",
      "Epoch 12/20\n",
      "25000/25000 [==============================] - 4s 143us/step - loss: 0.0689 - acc: 0.9774 - val_loss: 0.5184 - val_acc: 0.8548\n",
      "Epoch 13/20\n",
      "25000/25000 [==============================] - 4s 143us/step - loss: 0.0612 - acc: 0.9806 - val_loss: 0.5218 - val_acc: 0.8584\n",
      "Epoch 14/20\n",
      "25000/25000 [==============================] - 4s 144us/step - loss: 0.0554 - acc: 0.9830 - val_loss: 0.5489 - val_acc: 0.8570\n",
      "Epoch 15/20\n",
      "25000/25000 [==============================] - 4s 143us/step - loss: 0.0481 - acc: 0.9858 - val_loss: 0.6190 - val_acc: 0.8502\n",
      "Epoch 16/20\n",
      "25000/25000 [==============================] - 4s 143us/step - loss: 0.0442 - acc: 0.9868 - val_loss: 0.6074 - val_acc: 0.8538\n",
      "Epoch 17/20\n",
      "25000/25000 [==============================] - 4s 143us/step - loss: 0.0400 - acc: 0.9878 - val_loss: 0.6518 - val_acc: 0.8505\n",
      "Epoch 18/20\n",
      "25000/25000 [==============================] - 4s 144us/step - loss: 0.0322 - acc: 0.9912 - val_loss: 0.6761 - val_acc: 0.8509\n",
      "Epoch 19/20\n",
      "25000/25000 [==============================] - 4s 143us/step - loss: 0.0295 - acc: 0.9921 - val_loss: 0.7162 - val_acc: 0.8482\n",
      "Epoch 20/20\n",
      "25000/25000 [==============================] - 4s 144us/step - loss: 0.0250 - acc: 0.9944 - val_loss: 0.7418 - val_acc: 0.8492\n"
     ]
    }
   ],
   "source": [
    "original_hist = original_model.fit(x_train, y_train,\n",
    "                                   epochs=20,\n",
    "                                   batch_size=512,\n",
    "                                   validation_data=(x_test, y_test))"
   ]
  },
  {
   "cell_type": "code",
   "execution_count": 12,
   "metadata": {},
   "outputs": [],
   "source": [
    "epochs = range(1, 21)\n",
    "original_val_loss = original_hist.history['val_loss']"
   ]
  },
  {
   "cell_type": "code",
   "execution_count": 13,
   "metadata": {},
   "outputs": [
    {
     "data": {
      "image/png": "[encoded data removed]",
      "text/plain": [
       "<Figure size 432x288 with 1 Axes>"
      ]
     },
     "metadata": {
      "needs_background": "light"
     },
     "output_type": "display_data"
    }
   ],
   "source": [
    "import matplotlib.pyplot as plt\n",
    "\n",
    "dpt_model_val_loss = dpt_model_hist.history['val_loss']\n",
    "\n",
    "plt.plot(epochs, original_val_loss, 'b+', label='Original model')\n",
    "plt.plot(epochs, dpt_model_val_loss, 'bo', label='Dropout-regularized model')\n",
    "plt.xlabel('Epochs')\n",
    "plt.ylabel('Validation loss')\n",
    "plt.legend()\n",
    "\n",
    "plt.show()"
   ]
  },
  {
   "cell_type": "code",
   "execution_count": null,
   "metadata": {},
   "outputs": [],
   "source": []
  }
 ],
 "metadata": {
  "kernelspec": {
   "display_name": "Python 3",
   "language": "python",
   "name": "python3"
  },
  "language_info": {
   "codemirror_mode": {
    "name": "ipython",
    "version": 3
   },
   "file_extension": ".py",
   "mimetype": "text/x-python",
   "name": "python",
   "nbconvert_exporter": "python",
   "pygments_lexer": "ipython3",
   "version": "3.7.2"
  }
 },
 "nbformat": 4,
 "nbformat_minor": 2
}
