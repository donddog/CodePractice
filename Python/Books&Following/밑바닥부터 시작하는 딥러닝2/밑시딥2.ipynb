{
 "cells": [
  {
   "cell_type": "markdown",
   "metadata": {},
   "source": [
    "1.1 수학과 파이썬 복습"
   ]
  },
  {
   "cell_type": "code",
   "execution_count": 15,
   "metadata": {},
   "outputs": [
    {
     "name": "stdout",
     "output_type": "stream",
     "text": [
      "<class 'numpy.ndarray'>\n",
      "(3,)\n",
      "1\n"
     ]
    }
   ],
   "source": [
    "import numpy as np\n",
    "\n",
    "x = np.array([1,2,3])\n",
    "print(x.__class__)\n",
    "print(x.shape)\n",
    "print(x.ndim)"
   ]
  },
  {
   "cell_type": "code",
   "execution_count": 16,
   "metadata": {},
   "outputs": [
    {
     "name": "stdout",
     "output_type": "stream",
     "text": [
      "(2, 3)\n",
      "2\n"
     ]
    }
   ],
   "source": [
    "W = np.array([[1,2,3], [4,5,6]])\n",
    "print(W.shape)\n",
    "print(W.ndim)"
   ]
  },
  {
   "cell_type": "code",
   "execution_count": 17,
   "metadata": {},
   "outputs": [
    {
     "data": {
      "text/plain": [
       "array([[ 1,  3,  5],\n",
       "       [ 7,  9, 11]])"
      ]
     },
     "execution_count": 17,
     "metadata": {},
     "output_type": "execute_result"
    }
   ],
   "source": [
    "W = np.array([[1,2,3], [4,5,6]])\n",
    "X = np.array([[0,1,2], [3,4,5]])\n",
    "W + X"
   ]
  },
  {
   "cell_type": "code",
   "execution_count": 18,
   "metadata": {},
   "outputs": [
    {
     "data": {
      "text/plain": [
       "array([[ 0,  2,  6],\n",
       "       [12, 20, 30]])"
      ]
     },
     "execution_count": 18,
     "metadata": {},
     "output_type": "execute_result"
    }
   ],
   "source": [
    "W * X"
   ]
  },
  {
   "cell_type": "code",
   "execution_count": 19,
   "metadata": {},
   "outputs": [
    {
     "data": {
      "text/plain": [
       "array([[10, 20],\n",
       "       [30, 40]])"
      ]
     },
     "execution_count": 19,
     "metadata": {},
     "output_type": "execute_result"
    }
   ],
   "source": [
    "A = np.array([[1,2], [3,4]])\n",
    "A * 10"
   ]
  },
  {
   "cell_type": "code",
   "execution_count": 20,
   "metadata": {},
   "outputs": [
    {
     "data": {
      "text/plain": [
       "array([[10, 40],\n",
       "       [30, 80]])"
      ]
     },
     "execution_count": 20,
     "metadata": {},
     "output_type": "execute_result"
    }
   ],
   "source": [
    "b = np.array([10,20])\n",
    "A * b"
   ]
  },
  {
   "cell_type": "code",
   "execution_count": 21,
   "metadata": {},
   "outputs": [
    {
     "data": {
      "text/plain": [
       "32"
      ]
     },
     "execution_count": 21,
     "metadata": {},
     "output_type": "execute_result"
    }
   ],
   "source": [
    "a = np.array([1,2,3])\n",
    "b = np.array([4,5,6])\n",
    "np.dot(a,b)"
   ]
  },
  {
   "cell_type": "code",
   "execution_count": 22,
   "metadata": {},
   "outputs": [
    {
     "data": {
      "text/plain": [
       "array([[19, 22],\n",
       "       [43, 50]])"
      ]
     },
     "execution_count": 22,
     "metadata": {},
     "output_type": "execute_result"
    }
   ],
   "source": [
    "A = np.array([[1,2], [3,4]])\n",
    "B = np.array([[5,6], [7,8]])\n",
    "np.matmul(A,B)"
   ]
  },
  {
   "cell_type": "markdown",
   "metadata": {},
   "source": [
    "1.2 신경망 추론"
   ]
  },
  {
   "cell_type": "code",
   "execution_count": 23,
   "metadata": {},
   "outputs": [],
   "source": [
    "def sigmoid(x):\n",
    "    return 1 / (1 + np.exp(-x))"
   ]
  },
  {
   "cell_type": "code",
   "execution_count": 24,
   "metadata": {},
   "outputs": [],
   "source": [
    "a = sigmoid(h)"
   ]
  },
  {
   "cell_type": "code",
   "execution_count": 25,
   "metadata": {},
   "outputs": [],
   "source": [
    "import numpy as np\n",
    "\n",
    "W1 = np.random.randn(2,4)\n",
    "b1 = np.random.randn(4)\n",
    "W2 = np.random.randn(4,3)\n",
    "b2 = np.random.randn(3)\n",
    "x = np.random.randn(10,2)\n",
    "h = np.matmul(x, W1) + b1\n",
    "s = np.matmul(a, W2) + b2"
   ]
  },
  {
   "cell_type": "code",
   "execution_count": 12,
   "metadata": {},
   "outputs": [],
   "source": [
    "class Sigmoid:\n",
    "    def __init__(self):\n",
    "        self.params = []\n",
    "        \n",
    "    def forward(self, x):\n",
    "        return 1 / (1 + np.exp(-x))"
   ]
  },
  {
   "cell_type": "code",
   "execution_count": 11,
   "metadata": {},
   "outputs": [],
   "source": [
    "class Affine:\n",
    "    def __init__(self,W,b):\n",
    "        self.params = [W,b]\n",
    "        \n",
    "    def forward(self, x):\n",
    "        W, b = self.params\n",
    "        out = np.matmul(x,W) + b\n",
    "        return out"
   ]
  },
  {
   "cell_type": "code",
   "execution_count": 30,
   "metadata": {},
   "outputs": [],
   "source": [
    "class TwoLayerNet:\n",
    "    def __init__(self, input_size, hidden_size, output_size):\n",
    "        I, H, O = input_size, hidden_size, output_size\n",
    "        \n",
    "        W1 = np.random.randn(I,H)\n",
    "        b1 = np.random.randn(H)\n",
    "        W2 = np.random.randn(H,O)\n",
    "        b2 = np.random.randn(O)\n",
    "        \n",
    "        self.layers = [\n",
    "            Affine(W1,b1),\n",
    "            Sigmoid(),\n",
    "            Affine(W2,b2)\n",
    "        ]\n",
    "        \n",
    "        self.params = []\n",
    "        for layer in self.layers:\n",
    "            self.params += layer.params\n",
    "    \n",
    "    def predict(self,x):\n",
    "        for layer in self.layers:\n",
    "            x = layer.forward(x)\n",
    "        return x"
   ]
  },
  {
   "cell_type": "code",
   "execution_count": 31,
   "metadata": {},
   "outputs": [],
   "source": [
    "x = np.random.randn(10,2)\n",
    "model = TwoLayerNet(2,4,3)\n",
    "s = model.predict(x)"
   ]
  },
  {
   "cell_type": "markdown",
   "metadata": {},
   "source": [
    "1.3.1 손실 함수"
   ]
  },
  {
   "cell_type": "markdown",
   "metadata": {},
   "source": [
    "MatMul 노드"
   ]
  },
  {
   "cell_type": "code",
   "execution_count": 33,
   "metadata": {},
   "outputs": [],
   "source": [
    "class Matmul:\n",
    "    def __init__(self,W):\n",
    "        self.params = [W]\n",
    "        self.grads = [np.zeros_like(W)]\n",
    "        self.x = x\n",
    "        return out\n",
    "    \n",
    "    def forward(self, x):\n",
    "        W, = self.params\n",
    "        out = np.dot(x,W)\n",
    "        self.x = x\n",
    "        return out\n",
    "    \n",
    "    def backward(self, dout):\n",
    "        W, = self.params\n",
    "        dx = np.dot(dout,W.T)\n",
    "        dW = np.dot(self.x.T,dout)\n",
    "        self.grads[0][...] = dW\n",
    "        return dx"
   ]
  },
  {
   "cell_type": "markdown",
   "metadata": {},
   "source": [
    "Affine 계층"
   ]
  },
  {
   "cell_type": "code",
   "execution_count": 17,
   "metadata": {},
   "outputs": [],
   "source": [
    "class Affine:\n",
    "    def __init__(self,W,b):\n",
    "        self.params = [W,b]\n",
    "        self.grads = [np.zeros_like(W), np.zeros_like(b)]\n",
    "        self.x = None\n",
    "        \n",
    "    def forward(self, x):\n",
    "        W, b = self.params\n",
    "        out = np.matmul(x,W) + b\n",
    "        self.x = x\n",
    "        return out\n",
    "    \n",
    "    def backward(self, dout):\n",
    "        W, b = self.params\n",
    "        dx = np.dot(dout,W.T)\n",
    "        dW = np.dot(self.x.T,dout)\n",
    "        db = np.sum(dout, axis=0)\n",
    "        \n",
    "        self.grads[0][...] = dW\n",
    "        self.grads[1][...] = db\n",
    "        return dx"
   ]
  },
  {
   "cell_type": "markdown",
   "metadata": {},
   "source": [
    "Softmax with Loss 계층"
   ]
  },
  {
   "cell_type": "code",
   "execution_count": 18,
   "metadata": {},
   "outputs": [],
   "source": [
    "class SoftmaxWithLoss:\n",
    "    def __init__(self):\n",
    "        self.params, self.grads = [], []\n",
    "        self.y = None\n",
    "        self.t = None\n",
    "        \n",
    "    def forward(self, x, t):\n",
    "        self.t = t\n",
    "        self.y = softmax(x)\n",
    "        if self.t.size == self.y.size:\n",
    "            self.t = self.t.argmax(axis=1)\n",
    "        loss = cross_entropy_error(self.y, self.t)\n",
    "        return loss\n",
    "    \n",
    "    def backward(self, dout=1):\n",
    "        batch_size = self.t.shape[0]\n",
    "        dx = self.y.copy()\n",
    "        dx[np.arange(batch_size), self.t] -= 1\n",
    "        dx *= dout\n",
    "        dx = dx / batch_size\n",
    "        return dx"
   ]
  },
  {
   "cell_type": "markdown",
   "metadata": {},
   "source": [
    "Sigmoid 계층"
   ]
  },
  {
   "cell_type": "code",
   "execution_count": 19,
   "metadata": {},
   "outputs": [],
   "source": [
    "class Sigmoid:\n",
    "    def __init__(self):\n",
    "        self.params, self.grads = [], []\n",
    "        self.out = None\n",
    "        \n",
    "    def forward(self, x):\n",
    "        out = 1 / (1 + np.exp(-x))\n",
    "        self.out = out\n",
    "        return out\n",
    "    \n",
    "    def backward(self, dout):\n",
    "        dx = dout * (1.0 - self.out) * self.out\n",
    "        return dx"
   ]
  },
  {
   "cell_type": "code",
   "execution_count": 20,
   "metadata": {},
   "outputs": [],
   "source": [
    "class SigmoidWithLoss:\n",
    "    def __init__(self):\n",
    "        self.params, self.grads = [], []\n",
    "        self.loss = None\n",
    "        self.y = None\n",
    "        self.t = None\n",
    "        \n",
    "    def forward(self, x, t):\n",
    "        self.t = t\n",
    "        self.y =  1 / (1 + np.exp(-x))\n",
    "        self.loss = cross_entropy_error(np.c_[1 - self.y, self.y], self.t)\n",
    "        return self.loss\n",
    "    \n",
    "    def backward(self, dout=1):\n",
    "        batch_size = self.t.shape[0]\n",
    "        dx = (self.y - self.t) * dout / batch_size\n",
    "        return dx"
   ]
  },
  {
   "cell_type": "code",
   "execution_count": 21,
   "metadata": {},
   "outputs": [],
   "source": [
    "class Dropout:\n",
    "    def __init__(self, dropout_ratio = 0.5):\n",
    "        self.params, self.grads = [], []\n",
    "        self.dropout_ratio = dropout_ratio\n",
    "        self.mask = None\n",
    "        \n",
    "    def forward(self, x, train_flg = True):\n",
    "        if train_flg:\n",
    "            self.mask = np.random.rand(*x.shape) > self.dropout_ratio\n",
    "            return x * self.mask\n",
    "        else:\n",
    "            return x * (1.0 - self.dropout_ratio)\n",
    "    \n",
    "    def backward(self, dout):\n",
    "        return dout * self.mask"
   ]
  },
  {
   "cell_type": "code",
   "execution_count": 22,
   "metadata": {},
   "outputs": [],
   "source": [
    "class Embedding:\n",
    "    def __init__(self,W):\n",
    "        self.params = [W]\n",
    "        self.grads = [np.zeros_like(W)]\n",
    "        self.idx = None\n",
    "    \n",
    "    def forward(self, x):\n",
    "        W, = self.params\n",
    "        self.idx = idx\n",
    "        out = W[idx]\n",
    "        return out\n",
    "    \n",
    "    def backward(self, dout):\n",
    "        dW = self.grads\n",
    "        dW[...] = 0\n",
    "        np.add.at(dW, self.idx, dout)\n",
    "        return None"
   ]
  },
  {
   "cell_type": "markdown",
   "metadata": {},
   "source": [
    "Repeat 노드"
   ]
  },
  {
   "cell_type": "code",
   "execution_count": 5,
   "metadata": {},
   "outputs": [],
   "source": [
    "import numpy as np\n",
    "D,N = 8,7\n",
    "x = np.random.randn(1,D)\n",
    "y = np.repeat(x,N,axis=0)\n",
    "dy = np.random.randn(N,D)\n",
    "dx = np.sum(dy, axis=0, keepdims=True)"
   ]
  },
  {
   "cell_type": "markdown",
   "metadata": {},
   "source": [
    "Sum 노드"
   ]
  },
  {
   "cell_type": "code",
   "execution_count": 7,
   "metadata": {},
   "outputs": [],
   "source": [
    "D,N = 8,7\n",
    "x = np.random.randn(N,D)\n",
    "y = np.sum(x,axis=0, keepdims=True)\n",
    "dy = np.random.randn(1,D)\n",
    "dx = np.repeat(dy, N, axis=0)"
   ]
  },
  {
   "cell_type": "markdown",
   "metadata": {},
   "source": [
    "1.3.6 가중치 갱신"
   ]
  },
  {
   "cell_type": "code",
   "execution_count": 32,
   "metadata": {},
   "outputs": [],
   "source": [
    "class SGD:\n",
    "    def __init__(self, lr=0.01):\n",
    "        self.lr = lr #= learning rate\n",
    "        \n",
    "    def update(self, params, grads):\n",
    "        for i in range(len(params)):\n",
    "            params[i] -= self.lr * grads[i]"
   ]
  },
  {
   "cell_type": "code",
   "execution_count": 2,
   "metadata": {},
   "outputs": [],
   "source": [
    "class Momentum:\n",
    "    def __init__(self, lr=0.01, momemtum=0.9):\n",
    "        self.lr = lr #= learning rate\n",
    "        self.momemtum = momemtum\n",
    "        self.v = None\n",
    "        \n",
    "    def update(self, params, grads):\n",
    "        if self.v is None:\n",
    "            self.v = []\n",
    "            for params in params:\n",
    "                self.v.append(np.zeros_like(param))\n",
    "                \n",
    "        for i in range(len(params)):\n",
    "            self.v[i] = self.momemtum * self.v[i] - self.lr * grads[i]\n",
    "            params[i] += self.v[i] "
   ]
  },
  {
   "cell_type": "code",
   "execution_count": 3,
   "metadata": {},
   "outputs": [],
   "source": [
    "class Nesterov:\n",
    "    def __init__(self, lr=0.01, momemtum=0.9):\n",
    "        self.lr = lr #= learning rate\n",
    "        self.momemtum = momemtum\n",
    "        self.v = None\n",
    "        \n",
    "    def update(self, params, grads):\n",
    "        if self.v is None:\n",
    "            self.v = []\n",
    "            for params in params:\n",
    "                self.v.append(np.zeros_like(param))\n",
    "                \n",
    "        for i in range(len(params)):\n",
    "            self.v[i] *= self.momemtum \n",
    "            self.v[i] -= self.lr * grads[i]\n",
    "            params[i] += self.momemtum * self.momemtum * self.v[i]\n",
    "            params[i] += (1 + self.momemtum) * self.lr * grads[i]"
   ]
  },
  {
   "cell_type": "code",
   "execution_count": 4,
   "metadata": {},
   "outputs": [],
   "source": [
    "class AdaGrad:\n",
    "    def __init__(self, lr=0.01):\n",
    "        self.lr = lr #= learning rate\n",
    "        self.h = None\n",
    "        \n",
    "    def update(self, params, grads):\n",
    "        if self.h is None:\n",
    "            self.h = []\n",
    "            for params in params:\n",
    "                self.h.append(np.zeros_like(param))\n",
    "                \n",
    "        for i in range(len(params)):\n",
    "            self.h[i] += grads[i] * grads[i]\n",
    "            params[i] -= self.lr * grads[i] / (np.sqrt(self.h[i]) + 1e-7)"
   ]
  },
  {
   "cell_type": "code",
   "execution_count": 5,
   "metadata": {},
   "outputs": [],
   "source": [
    "class RMSprop:\n",
    "    def __init__(self, lr=0.01, decay_rate = 0.99):\n",
    "        self.lr = lr #= learning rate\n",
    "        self.decay_rate = decay_rate\n",
    "        self.h = None\n",
    "        \n",
    "    def update(self, params, grads):\n",
    "        if self.h is None:\n",
    "            self.h = []\n",
    "            for params in params:\n",
    "                self.h.append(np.zeros_like(param))\n",
    "                \n",
    "        for i in range(len(params)):\n",
    "            self.h[i] *= self.decay_rate\n",
    "            self.h[i] += (1 - self.decay_rate) * grads[i] * grads[i]\n",
    "            params[i] -= self.lr * grads[i] / (np.sqrt(self.h[i]) + 1e-7)"
   ]
  },
  {
   "cell_type": "code",
   "execution_count": 6,
   "metadata": {},
   "outputs": [],
   "source": [
    "class Adam:\n",
    "    def __init__(self, lr=0.001, beta1=0.9, beta2=0.999):\n",
    "        self.lr = lr #= learning rate\n",
    "        self.beta1 = beta1\n",
    "        self.beta2 = beta2\n",
    "        self.iter = 0\n",
    "        self.m = None\n",
    "        self.v = None\n",
    "        \n",
    "    def update(self, params, grads):\n",
    "        if self.m is None:\n",
    "            self.m, self.v = [], []\n",
    "            for params in params:\n",
    "                self.m.append(np.zeros_like(param))\n",
    "                self.v.append(np.zeros_like(param))\n",
    "        self.iter += 1\n",
    "        lr_t = self.lr * np.sqrt(1.0 - self.beta2**self.iter) / (1.0 - self.beta1**self.iter)\n",
    "                \n",
    "        for i in range(len(params)):\n",
    "            self.m[i] += (1 - self.beta1) * (grads[i] - self.m[i])\n",
    "            self.v[i] += (1 - self.beta2) * (grads[i]**2 - self.v[i])\n",
    "            params[i] -= lr_t * self.m[i] / (np.sqrt(self.v[i]) + 1e-7)"
   ]
  },
  {
   "cell_type": "code",
   "execution_count": 6,
   "metadata": {},
   "outputs": [
    {
     "name": "stdout",
     "output_type": "stream",
     "text": [
      "x (300, 2)\n",
      "t (300, 3)\n"
     ]
    }
   ],
   "source": [
    "import sys\n",
    "sys.path.append('..')\n",
    "import matplotlib.pyplot as plt\n",
    "import spiral\n",
    "\n",
    "x,t = spiral.load_data()\n",
    "print('x',x.shape)\n",
    "print('t',t.shape)"
   ]
  },
  {
   "cell_type": "code",
   "execution_count": 28,
   "metadata": {},
   "outputs": [],
   "source": [
    "def softmax(x):\n",
    "    if x.ndim == 2:       \n",
    "        x = x - x.max(axis=1, keepdims=True)\n",
    "        x = np.exp(x)\n",
    "        x /= x.sum(axis=1, keepdims=True)\n",
    "        \n",
    "    elif x.ndim == 1:\n",
    "        x = x - x.max(x)\n",
    "        x = np.exp(x) / np.sum(np.exp(x))\n",
    "    \n",
    "    return x"
   ]
  },
  {
   "cell_type": "code",
   "execution_count": 30,
   "metadata": {},
   "outputs": [],
   "source": [
    "def cross_entropy_error(y,t):\n",
    "    if y.ndim == 1:       \n",
    "        t = t.reshape(1, t.size)\n",
    "        y = y.reshape(1, y.size)\n",
    "        \n",
    "    if t.size == y.size:\n",
    "        t = t.argmax(axis=1)\n",
    "    \n",
    "    batch_size = y.shape[0]\n",
    "    \n",
    "    return -np.sum(np.log(y[np.arange(batch_size), t] + 1e-7)) / batch_size"
   ]
  },
  {
   "cell_type": "markdown",
   "metadata": {},
   "source": [
    "1.4.2 신경망 구현"
   ]
  },
  {
   "cell_type": "code",
   "execution_count": 26,
   "metadata": {},
   "outputs": [],
   "source": [
    "class TwoLayerNet:\n",
    "    def __init__(self, input_size, hidden_size, output_size):\n",
    "        I, H, O = input_size, hidden_size, output_size\n",
    "        \n",
    "        W1 = 0.01 * np.random.randn(I,H)\n",
    "        b1 = np.zeros(H)\n",
    "        W2 = 0.01 * np.random.randn(H,O)\n",
    "        b2 = np.zeros(O)\n",
    "        \n",
    "        self.layers = [\n",
    "            Affine(W1,b1),\n",
    "            Sigmoid(),\n",
    "            Affine(W2,b2)\n",
    "        ]\n",
    "        self.loss_layer = SoftmaxWithLoss()\n",
    "        \n",
    "        self.params, self.grads = [], []\n",
    "        \n",
    "        for layer in self.layers:\n",
    "            self.params += layer.params\n",
    "            self.grads += layer.grads\n",
    "            \n",
    "    def predict(self,x):\n",
    "        for layer in self.layers:\n",
    "            x = layer.forward(x)\n",
    "        return x\n",
    "    \n",
    "    def forward(self, x, t):\n",
    "        score = self.predict(x)\n",
    "        loss = self.loss_layer.forward(score, t)\n",
    "        return loss\n",
    "    \n",
    "    def backward(self, dout=1):\n",
    "        dout = self.loss_layer.backward(dout)\n",
    "        for layer in reversed(self.layers):\n",
    "            dout = layer.backward(dout)\n",
    "        return dout"
   ]
  },
  {
   "cell_type": "code",
   "execution_count": 34,
   "metadata": {
    "scrolled": true
   },
   "outputs": [
    {
     "name": "stdout",
     "output_type": "stream",
     "text": [
      "| 에폭 1 | 반복 10 / 10 | 손실 1.13\n",
      "| 에폭 2 | 반복 10 / 10 | 손실 1.13\n",
      "| 에폭 3 | 반복 10 / 10 | 손실 1.12\n",
      "| 에폭 4 | 반복 10 / 10 | 손실 1.12\n",
      "| 에폭 5 | 반복 10 / 10 | 손실 1.11\n",
      "| 에폭 6 | 반복 10 / 10 | 손실 1.14\n",
      "| 에폭 7 | 반복 10 / 10 | 손실 1.16\n",
      "| 에폭 8 | 반복 10 / 10 | 손실 1.11\n",
      "| 에폭 9 | 반복 10 / 10 | 손실 1.12\n",
      "| 에폭 10 | 반복 10 / 10 | 손실 1.13\n",
      "| 에폭 11 | 반복 10 / 10 | 손실 1.12\n",
      "| 에폭 12 | 반복 10 / 10 | 손실 1.11\n",
      "| 에폭 13 | 반복 10 / 10 | 손실 1.09\n",
      "| 에폭 14 | 반복 10 / 10 | 손실 1.08\n",
      "| 에폭 15 | 반복 10 / 10 | 손실 1.04\n",
      "| 에폭 16 | 반복 10 / 10 | 손실 1.03\n",
      "| 에폭 17 | 반복 10 / 10 | 손실 0.96\n",
      "| 에폭 18 | 반복 10 / 10 | 손실 0.92\n",
      "| 에폭 19 | 반복 10 / 10 | 손실 0.92\n",
      "| 에폭 20 | 반복 10 / 10 | 손실 0.87\n",
      "| 에폭 21 | 반복 10 / 10 | 손실 0.85\n",
      "| 에폭 22 | 반복 10 / 10 | 손실 0.82\n",
      "| 에폭 23 | 반복 10 / 10 | 손실 0.79\n",
      "| 에폭 24 | 반복 10 / 10 | 손실 0.78\n",
      "| 에폭 25 | 반복 10 / 10 | 손실 0.82\n",
      "| 에폭 26 | 반복 10 / 10 | 손실 0.78\n",
      "| 에폭 27 | 반복 10 / 10 | 손실 0.76\n",
      "| 에폭 28 | 반복 10 / 10 | 손실 0.76\n",
      "| 에폭 29 | 반복 10 / 10 | 손실 0.78\n",
      "| 에폭 30 | 반복 10 / 10 | 손실 0.75\n",
      "| 에폭 31 | 반복 10 / 10 | 손실 0.78\n",
      "| 에폭 32 | 반복 10 / 10 | 손실 0.77\n",
      "| 에폭 33 | 반복 10 / 10 | 손실 0.77\n",
      "| 에폭 34 | 반복 10 / 10 | 손실 0.78\n",
      "| 에폭 35 | 반복 10 / 10 | 손실 0.75\n",
      "| 에폭 36 | 반복 10 / 10 | 손실 0.74\n",
      "| 에폭 37 | 반복 10 / 10 | 손실 0.76\n",
      "| 에폭 38 | 반복 10 / 10 | 손실 0.76\n",
      "| 에폭 39 | 반복 10 / 10 | 손실 0.73\n",
      "| 에폭 40 | 반복 10 / 10 | 손실 0.75\n",
      "| 에폭 41 | 반복 10 / 10 | 손실 0.76\n",
      "| 에폭 42 | 반복 10 / 10 | 손실 0.76\n",
      "| 에폭 43 | 반복 10 / 10 | 손실 0.76\n",
      "| 에폭 44 | 반복 10 / 10 | 손실 0.74\n",
      "| 에폭 45 | 반복 10 / 10 | 손실 0.75\n",
      "| 에폭 46 | 반복 10 / 10 | 손실 0.73\n",
      "| 에폭 47 | 반복 10 / 10 | 손실 0.72\n",
      "| 에폭 48 | 반복 10 / 10 | 손실 0.73\n",
      "| 에폭 49 | 반복 10 / 10 | 손실 0.72\n",
      "| 에폭 50 | 반복 10 / 10 | 손실 0.72\n",
      "| 에폭 51 | 반복 10 / 10 | 손실 0.72\n",
      "| 에폭 52 | 반복 10 / 10 | 손실 0.72\n",
      "| 에폭 53 | 반복 10 / 10 | 손실 0.74\n",
      "| 에폭 54 | 반복 10 / 10 | 손실 0.74\n",
      "| 에폭 55 | 반복 10 / 10 | 손실 0.72\n",
      "| 에폭 56 | 반복 10 / 10 | 손실 0.72\n",
      "| 에폭 57 | 반복 10 / 10 | 손실 0.71\n",
      "| 에폭 58 | 반복 10 / 10 | 손실 0.70\n",
      "| 에폭 59 | 반복 10 / 10 | 손실 0.72\n",
      "| 에폭 60 | 반복 10 / 10 | 손실 0.70\n",
      "| 에폭 61 | 반복 10 / 10 | 손실 0.71\n",
      "| 에폭 62 | 반복 10 / 10 | 손실 0.72\n",
      "| 에폭 63 | 반복 10 / 10 | 손실 0.70\n",
      "| 에폭 64 | 반복 10 / 10 | 손실 0.71\n",
      "| 에폭 65 | 반복 10 / 10 | 손실 0.73\n",
      "| 에폭 66 | 반복 10 / 10 | 손실 0.70\n",
      "| 에폭 67 | 반복 10 / 10 | 손실 0.71\n",
      "| 에폭 68 | 반복 10 / 10 | 손실 0.69\n",
      "| 에폭 69 | 반복 10 / 10 | 손실 0.70\n",
      "| 에폭 70 | 반복 10 / 10 | 손실 0.71\n",
      "| 에폭 71 | 반복 10 / 10 | 손실 0.68\n",
      "| 에폭 72 | 반복 10 / 10 | 손실 0.69\n",
      "| 에폭 73 | 반복 10 / 10 | 손실 0.67\n",
      "| 에폭 74 | 반복 10 / 10 | 손실 0.68\n",
      "| 에폭 75 | 반복 10 / 10 | 손실 0.67\n",
      "| 에폭 76 | 반복 10 / 10 | 손실 0.66\n",
      "| 에폭 77 | 반복 10 / 10 | 손실 0.69\n",
      "| 에폭 78 | 반복 10 / 10 | 손실 0.64\n",
      "| 에폭 79 | 반복 10 / 10 | 손실 0.68\n",
      "| 에폭 80 | 반복 10 / 10 | 손실 0.64\n",
      "| 에폭 81 | 반복 10 / 10 | 손실 0.64\n",
      "| 에폭 82 | 반복 10 / 10 | 손실 0.66\n",
      "| 에폭 83 | 반복 10 / 10 | 손실 0.62\n",
      "| 에폭 84 | 반복 10 / 10 | 손실 0.62\n",
      "| 에폭 85 | 반복 10 / 10 | 손실 0.61\n",
      "| 에폭 86 | 반복 10 / 10 | 손실 0.60\n",
      "| 에폭 87 | 반복 10 / 10 | 손실 0.60\n",
      "| 에폭 88 | 반복 10 / 10 | 손실 0.61\n",
      "| 에폭 89 | 반복 10 / 10 | 손실 0.59\n",
      "| 에폭 90 | 반복 10 / 10 | 손실 0.58\n",
      "| 에폭 91 | 반복 10 / 10 | 손실 0.56\n",
      "| 에폭 92 | 반복 10 / 10 | 손실 0.56\n",
      "| 에폭 93 | 반복 10 / 10 | 손실 0.54\n",
      "| 에폭 94 | 반복 10 / 10 | 손실 0.53\n",
      "| 에폭 95 | 반복 10 / 10 | 손실 0.53\n",
      "| 에폭 96 | 반복 10 / 10 | 손실 0.52\n",
      "| 에폭 97 | 반복 10 / 10 | 손실 0.51\n",
      "| 에폭 98 | 반복 10 / 10 | 손실 0.50\n",
      "| 에폭 99 | 반복 10 / 10 | 손실 0.48\n",
      "| 에폭 100 | 반복 10 / 10 | 손실 0.48\n",
      "| 에폭 101 | 반복 10 / 10 | 손실 0.46\n",
      "| 에폭 102 | 반복 10 / 10 | 손실 0.45\n",
      "| 에폭 103 | 반복 10 / 10 | 손실 0.45\n",
      "| 에폭 104 | 반복 10 / 10 | 손실 0.44\n",
      "| 에폭 105 | 반복 10 / 10 | 손실 0.44\n",
      "| 에폭 106 | 반복 10 / 10 | 손실 0.41\n",
      "| 에폭 107 | 반복 10 / 10 | 손실 0.40\n",
      "| 에폭 108 | 반복 10 / 10 | 손실 0.41\n",
      "| 에폭 109 | 반복 10 / 10 | 손실 0.40\n",
      "| 에폭 110 | 반복 10 / 10 | 손실 0.40\n",
      "| 에폭 111 | 반복 10 / 10 | 손실 0.38\n",
      "| 에폭 112 | 반복 10 / 10 | 손실 0.38\n",
      "| 에폭 113 | 반복 10 / 10 | 손실 0.36\n",
      "| 에폭 114 | 반복 10 / 10 | 손실 0.37\n",
      "| 에폭 115 | 반복 10 / 10 | 손실 0.35\n",
      "| 에폭 116 | 반복 10 / 10 | 손실 0.34\n",
      "| 에폭 117 | 반복 10 / 10 | 손실 0.34\n",
      "| 에폭 118 | 반복 10 / 10 | 손실 0.34\n",
      "| 에폭 119 | 반복 10 / 10 | 손실 0.33\n",
      "| 에폭 120 | 반복 10 / 10 | 손실 0.34\n",
      "| 에폭 121 | 반복 10 / 10 | 손실 0.32\n",
      "| 에폭 122 | 반복 10 / 10 | 손실 0.32\n",
      "| 에폭 123 | 반복 10 / 10 | 손실 0.31\n",
      "| 에폭 124 | 반복 10 / 10 | 손실 0.31\n",
      "| 에폭 125 | 반복 10 / 10 | 손실 0.30\n",
      "| 에폭 126 | 반복 10 / 10 | 손실 0.30\n",
      "| 에폭 127 | 반복 10 / 10 | 손실 0.28\n",
      "| 에폭 128 | 반복 10 / 10 | 손실 0.28\n",
      "| 에폭 129 | 반복 10 / 10 | 손실 0.28\n",
      "| 에폭 130 | 반복 10 / 10 | 손실 0.28\n",
      "| 에폭 131 | 반복 10 / 10 | 손실 0.27\n",
      "| 에폭 132 | 반복 10 / 10 | 손실 0.27\n",
      "| 에폭 133 | 반복 10 / 10 | 손실 0.27\n",
      "| 에폭 134 | 반복 10 / 10 | 손실 0.27\n",
      "| 에폭 135 | 반복 10 / 10 | 손실 0.27\n",
      "| 에폭 136 | 반복 10 / 10 | 손실 0.26\n",
      "| 에폭 137 | 반복 10 / 10 | 손실 0.26\n",
      "| 에폭 138 | 반복 10 / 10 | 손실 0.26\n",
      "| 에폭 139 | 반복 10 / 10 | 손실 0.25\n",
      "| 에폭 140 | 반복 10 / 10 | 손실 0.24\n",
      "| 에폭 141 | 반복 10 / 10 | 손실 0.24\n",
      "| 에폭 142 | 반복 10 / 10 | 손실 0.25\n",
      "| 에폭 143 | 반복 10 / 10 | 손실 0.24\n",
      "| 에폭 144 | 반복 10 / 10 | 손실 0.24\n",
      "| 에폭 145 | 반복 10 / 10 | 손실 0.23\n",
      "| 에폭 146 | 반복 10 / 10 | 손실 0.24\n",
      "| 에폭 147 | 반복 10 / 10 | 손실 0.23\n",
      "| 에폭 148 | 반복 10 / 10 | 손실 0.23\n",
      "| 에폭 149 | 반복 10 / 10 | 손실 0.22\n",
      "| 에폭 150 | 반복 10 / 10 | 손실 0.22\n",
      "| 에폭 151 | 반복 10 / 10 | 손실 0.22\n",
      "| 에폭 152 | 반복 10 / 10 | 손실 0.22\n",
      "| 에폭 153 | 반복 10 / 10 | 손실 0.22\n",
      "| 에폭 154 | 반복 10 / 10 | 손실 0.22\n",
      "| 에폭 155 | 반복 10 / 10 | 손실 0.22\n",
      "| 에폭 156 | 반복 10 / 10 | 손실 0.21\n",
      "| 에폭 157 | 반복 10 / 10 | 손실 0.21\n",
      "| 에폭 158 | 반복 10 / 10 | 손실 0.20\n",
      "| 에폭 159 | 반복 10 / 10 | 손실 0.21\n",
      "| 에폭 160 | 반복 10 / 10 | 손실 0.20\n",
      "| 에폭 161 | 반복 10 / 10 | 손실 0.20\n",
      "| 에폭 162 | 반복 10 / 10 | 손실 0.20\n",
      "| 에폭 163 | 반복 10 / 10 | 손실 0.21\n",
      "| 에폭 164 | 반복 10 / 10 | 손실 0.20\n",
      "| 에폭 165 | 반복 10 / 10 | 손실 0.20\n",
      "| 에폭 166 | 반복 10 / 10 | 손실 0.19\n",
      "| 에폭 167 | 반복 10 / 10 | 손실 0.19\n",
      "| 에폭 168 | 반복 10 / 10 | 손실 0.19\n",
      "| 에폭 169 | 반복 10 / 10 | 손실 0.19\n",
      "| 에폭 170 | 반복 10 / 10 | 손실 0.19\n",
      "| 에폭 171 | 반복 10 / 10 | 손실 0.19\n",
      "| 에폭 172 | 반복 10 / 10 | 손실 0.18\n",
      "| 에폭 173 | 반복 10 / 10 | 손실 0.18\n",
      "| 에폭 174 | 반복 10 / 10 | 손실 0.18\n",
      "| 에폭 175 | 반복 10 / 10 | 손실 0.18\n",
      "| 에폭 176 | 반복 10 / 10 | 손실 0.18\n",
      "| 에폭 177 | 반복 10 / 10 | 손실 0.18\n",
      "| 에폭 178 | 반복 10 / 10 | 손실 0.18\n",
      "| 에폭 179 | 반복 10 / 10 | 손실 0.17\n",
      "| 에폭 180 | 반복 10 / 10 | 손실 0.17\n",
      "| 에폭 181 | 반복 10 / 10 | 손실 0.18\n",
      "| 에폭 182 | 반복 10 / 10 | 손실 0.17\n",
      "| 에폭 183 | 반복 10 / 10 | 손실 0.18\n",
      "| 에폭 184 | 반복 10 / 10 | 손실 0.17\n",
      "| 에폭 185 | 반복 10 / 10 | 손실 0.17\n",
      "| 에폭 186 | 반복 10 / 10 | 손실 0.18\n",
      "| 에폭 187 | 반복 10 / 10 | 손실 0.17\n",
      "| 에폭 188 | 반복 10 / 10 | 손실 0.17\n",
      "| 에폭 189 | 반복 10 / 10 | 손실 0.17\n",
      "| 에폭 190 | 반복 10 / 10 | 손실 0.17\n",
      "| 에폭 191 | 반복 10 / 10 | 손실 0.16\n",
      "| 에폭 192 | 반복 10 / 10 | 손실 0.17\n",
      "| 에폭 193 | 반복 10 / 10 | 손실 0.16\n",
      "| 에폭 194 | 반복 10 / 10 | 손실 0.16\n",
      "| 에폭 195 | 반복 10 / 10 | 손실 0.16\n",
      "| 에폭 196 | 반복 10 / 10 | 손실 0.16\n",
      "| 에폭 197 | 반복 10 / 10 | 손실 0.16\n",
      "| 에폭 198 | 반복 10 / 10 | 손실 0.15\n",
      "| 에폭 199 | 반복 10 / 10 | 손실 0.16\n",
      "| 에폭 200 | 반복 10 / 10 | 손실 0.16\n",
      "| 에폭 201 | 반복 10 / 10 | 손실 0.15\n",
      "| 에폭 202 | 반복 10 / 10 | 손실 0.16\n",
      "| 에폭 203 | 반복 10 / 10 | 손실 0.16\n",
      "| 에폭 204 | 반복 10 / 10 | 손실 0.15\n",
      "| 에폭 205 | 반복 10 / 10 | 손실 0.16\n",
      "| 에폭 206 | 반복 10 / 10 | 손실 0.15\n",
      "| 에폭 207 | 반복 10 / 10 | 손실 0.15\n",
      "| 에폭 208 | 반복 10 / 10 | 손실 0.15\n",
      "| 에폭 209 | 반복 10 / 10 | 손실 0.15\n",
      "| 에폭 210 | 반복 10 / 10 | 손실 0.15\n",
      "| 에폭 211 | 반복 10 / 10 | 손실 0.15\n",
      "| 에폭 212 | 반복 10 / 10 | 손실 0.15\n",
      "| 에폭 213 | 반복 10 / 10 | 손실 0.15\n",
      "| 에폭 214 | 반복 10 / 10 | 손실 0.15\n",
      "| 에폭 215 | 반복 10 / 10 | 손실 0.15\n",
      "| 에폭 216 | 반복 10 / 10 | 손실 0.14\n",
      "| 에폭 217 | 반복 10 / 10 | 손실 0.14\n",
      "| 에폭 218 | 반복 10 / 10 | 손실 0.15\n",
      "| 에폭 219 | 반복 10 / 10 | 손실 0.14\n",
      "| 에폭 220 | 반복 10 / 10 | 손실 0.14\n",
      "| 에폭 221 | 반복 10 / 10 | 손실 0.14\n",
      "| 에폭 222 | 반복 10 / 10 | 손실 0.14\n",
      "| 에폭 223 | 반복 10 / 10 | 손실 0.14\n",
      "| 에폭 224 | 반복 10 / 10 | 손실 0.14\n",
      "| 에폭 225 | 반복 10 / 10 | 손실 0.14\n",
      "| 에폭 226 | 반복 10 / 10 | 손실 0.14\n",
      "| 에폭 227 | 반복 10 / 10 | 손실 0.14\n",
      "| 에폭 228 | 반복 10 / 10 | 손실 0.14\n",
      "| 에폭 229 | 반복 10 / 10 | 손실 0.13\n",
      "| 에폭 230 | 반복 10 / 10 | 손실 0.14\n",
      "| 에폭 231 | 반복 10 / 10 | 손실 0.13\n",
      "| 에폭 232 | 반복 10 / 10 | 손실 0.14\n",
      "| 에폭 233 | 반복 10 / 10 | 손실 0.13\n",
      "| 에폭 234 | 반복 10 / 10 | 손실 0.13\n",
      "| 에폭 235 | 반복 10 / 10 | 손실 0.13\n",
      "| 에폭 236 | 반복 10 / 10 | 손실 0.13\n",
      "| 에폭 237 | 반복 10 / 10 | 손실 0.14\n",
      "| 에폭 238 | 반복 10 / 10 | 손실 0.13\n",
      "| 에폭 239 | 반복 10 / 10 | 손실 0.13\n",
      "| 에폭 240 | 반복 10 / 10 | 손실 0.14\n",
      "| 에폭 241 | 반복 10 / 10 | 손실 0.13\n",
      "| 에폭 242 | 반복 10 / 10 | 손실 0.13\n",
      "| 에폭 243 | 반복 10 / 10 | 손실 0.13\n",
      "| 에폭 244 | 반복 10 / 10 | 손실 0.13\n",
      "| 에폭 245 | 반복 10 / 10 | 손실 0.13\n",
      "| 에폭 246 | 반복 10 / 10 | 손실 0.13\n",
      "| 에폭 247 | 반복 10 / 10 | 손실 0.13\n",
      "| 에폭 248 | 반복 10 / 10 | 손실 0.13\n",
      "| 에폭 249 | 반복 10 / 10 | 손실 0.13\n",
      "| 에폭 250 | 반복 10 / 10 | 손실 0.13\n",
      "| 에폭 251 | 반복 10 / 10 | 손실 0.13\n",
      "| 에폭 252 | 반복 10 / 10 | 손실 0.12\n",
      "| 에폭 253 | 반복 10 / 10 | 손실 0.12\n",
      "| 에폭 254 | 반복 10 / 10 | 손실 0.12\n",
      "| 에폭 255 | 반복 10 / 10 | 손실 0.12\n",
      "| 에폭 256 | 반복 10 / 10 | 손실 0.12\n",
      "| 에폭 257 | 반복 10 / 10 | 손실 0.12\n",
      "| 에폭 258 | 반복 10 / 10 | 손실 0.12\n",
      "| 에폭 259 | 반복 10 / 10 | 손실 0.13\n",
      "| 에폭 260 | 반복 10 / 10 | 손실 0.12\n",
      "| 에폭 261 | 반복 10 / 10 | 손실 0.13\n",
      "| 에폭 262 | 반복 10 / 10 | 손실 0.12\n",
      "| 에폭 263 | 반복 10 / 10 | 손실 0.12\n",
      "| 에폭 264 | 반복 10 / 10 | 손실 0.13\n",
      "| 에폭 265 | 반복 10 / 10 | 손실 0.12\n",
      "| 에폭 266 | 반복 10 / 10 | 손실 0.12\n",
      "| 에폭 267 | 반복 10 / 10 | 손실 0.12\n",
      "| 에폭 268 | 반복 10 / 10 | 손실 0.12\n",
      "| 에폭 269 | 반복 10 / 10 | 손실 0.11\n"
     ]
    },
    {
     "name": "stdout",
     "output_type": "stream",
     "text": [
      "| 에폭 270 | 반복 10 / 10 | 손실 0.12\n",
      "| 에폭 271 | 반복 10 / 10 | 손실 0.12\n",
      "| 에폭 272 | 반복 10 / 10 | 손실 0.12\n",
      "| 에폭 273 | 반복 10 / 10 | 손실 0.12\n",
      "| 에폭 274 | 반복 10 / 10 | 손실 0.12\n",
      "| 에폭 275 | 반복 10 / 10 | 손실 0.11\n",
      "| 에폭 276 | 반복 10 / 10 | 손실 0.12\n",
      "| 에폭 277 | 반복 10 / 10 | 손실 0.12\n",
      "| 에폭 278 | 반복 10 / 10 | 손실 0.11\n",
      "| 에폭 279 | 반복 10 / 10 | 손실 0.11\n",
      "| 에폭 280 | 반복 10 / 10 | 손실 0.11\n",
      "| 에폭 281 | 반복 10 / 10 | 손실 0.11\n",
      "| 에폭 282 | 반복 10 / 10 | 손실 0.12\n",
      "| 에폭 283 | 반복 10 / 10 | 손실 0.11\n",
      "| 에폭 284 | 반복 10 / 10 | 손실 0.11\n",
      "| 에폭 285 | 반복 10 / 10 | 손실 0.11\n",
      "| 에폭 286 | 반복 10 / 10 | 손실 0.11\n",
      "| 에폭 287 | 반복 10 / 10 | 손실 0.11\n",
      "| 에폭 288 | 반복 10 / 10 | 손실 0.12\n",
      "| 에폭 289 | 반복 10 / 10 | 손실 0.11\n",
      "| 에폭 290 | 반복 10 / 10 | 손실 0.11\n",
      "| 에폭 291 | 반복 10 / 10 | 손실 0.11\n",
      "| 에폭 292 | 반복 10 / 10 | 손실 0.11\n",
      "| 에폭 293 | 반복 10 / 10 | 손실 0.11\n",
      "| 에폭 294 | 반복 10 / 10 | 손실 0.11\n",
      "| 에폭 295 | 반복 10 / 10 | 손실 0.12\n",
      "| 에폭 296 | 반복 10 / 10 | 손실 0.11\n",
      "| 에폭 297 | 반복 10 / 10 | 손실 0.12\n",
      "| 에폭 298 | 반복 10 / 10 | 손실 0.11\n",
      "| 에폭 299 | 반복 10 / 10 | 손실 0.11\n",
      "| 에폭 300 | 반복 10 / 10 | 손실 0.11\n"
     ]
    }
   ],
   "source": [
    "import numpy as np\n",
    "\n",
    "optimizer = SGD(lr = learning_rate)\n",
    "max_epoch = 300\n",
    "batch_size = 30\n",
    "hidden_size = 10\n",
    "learning_rate = 1.0\n",
    "\n",
    "x,t = spiral.load_data()\n",
    "model = TwoLayerNet(input_size=2, hidden_size=hidden_size, output_size=3)\n",
    "\n",
    "data_size = len(x)\n",
    "max_iters = data_size // batch_size\n",
    "total_loss = 0\n",
    "loss_count = 0\n",
    "loss_list = []\n",
    "\n",
    "for epoch in range(max_epoch):\n",
    "    idx = np.random.permutation(data_size)\n",
    "    x = x[idx]\n",
    "    t = t[idx]\n",
    "    \n",
    "    for iters in range(max_iters):\n",
    "        batch_x = x[iters * batch_size:(iters+1)*batch_size]\n",
    "        batch_t = t[iters * batch_size:(iters+1)*batch_size]\n",
    "        loss = model.forward(batch_x, batch_t)\n",
    "        model.backward()\n",
    "        optimizer.update(model.params, model.grads)\n",
    "\n",
    "        total_loss += loss\n",
    "        loss_count += 1\n",
    "        \n",
    "        if (iters+1) % 10 == 0:\n",
    "            avg_loss = total_loss / loss_count\n",
    "            print('| 에폭 %d | 반복 %d / %d | 손실 %.2f' % (epoch+1, iters+1, max_iters, avg_loss))\n",
    "            loss_list.append(avg_loss)\n",
    "            total_loss, loss_count = 0, 0"
   ]
  },
  {
   "cell_type": "code",
   "execution_count": 40,
   "metadata": {},
   "outputs": [
    {
     "data": {
      "image/png": "[encoded data removed]",
      "text/plain": [
       "<Figure size 432x288 with 1 Axes>"
      ]
     },
     "metadata": {
      "needs_background": "light"
     },
     "output_type": "display_data"
    }
   ],
   "source": [
    "import matplotlib.font_manager as fm\n",
    "malgun = fm.FontProperties(fname='C:/Windows/Fonts/malgun.ttf')\n",
    "\n",
    "plt.plot(np.arange(len(loss_list)), loss_list, label='train')\n",
    "plt.xlabel('반복 (x10)', fontproperties= malgun)\n",
    "plt.ylabel('손실', fontproperties= malgun)\n",
    "plt.show()"
   ]
  },
  {
   "cell_type": "code",
   "execution_count": 43,
   "metadata": {},
   "outputs": [
    {
     "data": {
      "image/png": "[encoded data removed]",
      "text/plain": [
       "<Figure size 432x288 with 1 Axes>"
      ]
     },
     "metadata": {
      "needs_background": "light"
     },
     "output_type": "display_data"
    }
   ],
   "source": [
    "h = 0.001\n",
    "x_min, x_max = x[:,0].min() - .1, x[:, 0].max() + .1\n",
    "y_min, y_max = x[:,1].min() - .1, x[:, 1].max() + .1\n",
    "xx, yy = np.meshgrid(np.arange(x_min, x_max, h), np.arange(y_min, y_max, h))\n",
    "X = np.c_[xx.ravel(), yy.ravel()]\n",
    "score = model.predict(X)\n",
    "predict_cls = np.argmax(score, axis=1)\n",
    "Z = predict_cls.reshape(xx.shape)\n",
    "plt.contourf(xx, yy, Z)\n",
    "plt.axis('off')\n",
    "\n",
    "x, t = spiral.load_data()\n",
    "N = 100\n",
    "CLS_NUM = 3\n",
    "markers = ['o','x','^']\n",
    "for i in range(CLS_NUM):\n",
    "    plt.scatter(x[i*N:(i+1)*N,0], x[i*N:(i+1)*N, 1], s= 40, marker=markers[i])\n",
    "plt.show()"
   ]
  },
  {
   "cell_type": "code",
   "execution_count": null,
   "metadata": {},
   "outputs": [],
   "source": []
  }
 ],
 "metadata": {
  "kernelspec": {
   "display_name": "Python 3",
   "language": "python",
   "name": "python3"
  },
  "language_info": {
   "codemirror_mode": {
    "name": "ipython",
    "version": 3
   },
   "file_extension": ".py",
   "mimetype": "text/x-python",
   "name": "python",
   "nbconvert_exporter": "python",
   "pygments_lexer": "ipython3",
   "version": "3.7.2"
  }
 },
 "nbformat": 4,
 "nbformat_minor": 2
}
