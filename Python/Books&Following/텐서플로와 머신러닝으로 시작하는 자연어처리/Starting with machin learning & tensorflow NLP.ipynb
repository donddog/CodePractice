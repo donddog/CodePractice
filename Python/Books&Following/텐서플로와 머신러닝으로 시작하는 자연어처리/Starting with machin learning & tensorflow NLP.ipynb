{
 "cells": [
  {
   "cell_type": "markdown",
   "metadata": {},
   "source": [
    "# tf.keras.layers.Dense\n",
    "\n",
    "### Without Dense\n",
    "\n",
    "W = tf.Var(tf.random_uniform([5,10], -1.0, 1.0))\n",
    "b = tf.Variable(tf.zeros([10]))\n",
    "\n",
    "y = matmul(W, x) + b\n",
    "\n",
    "### With Dense\n",
    "\n",
    "dense = tf.keras.layers.Dense(...)"
   ]
  },
  {
   "cell_type": "code",
   "execution_count": 2,
   "metadata": {},
   "outputs": [],
   "source": [
    "from tensorflow import keras"
   ]
  },
  {
   "cell_type": "code",
   "execution_count": null,
   "metadata": {},
   "outputs": [],
   "source": [
    "#1\n",
    "dense = tf.keras.layers.Dense(...)\n",
    "output = dense(input)\n",
    "\n",
    "#2\n",
    "output = tf.keras.layers.Dense(...)(input)"
   ]
  },
  {
   "cell_type": "code",
   "execution_count": null,
   "metadata": {},
   "outputs": [],
   "source": []
  }
 ],
 "metadata": {
  "kernelspec": {
   "display_name": "Python 3",
   "language": "python",
   "name": "python3"
  },
  "language_info": {
   "codemirror_mode": {
    "name": "ipython",
    "version": 3
   },
   "file_extension": ".py",
   "mimetype": "text/x-python",
   "name": "python",
   "nbconvert_exporter": "python",
   "pygments_lexer": "ipython3",
   "version": "3.6.8"
  }
 },
 "nbformat": 4,
 "nbformat_minor": 2
}
