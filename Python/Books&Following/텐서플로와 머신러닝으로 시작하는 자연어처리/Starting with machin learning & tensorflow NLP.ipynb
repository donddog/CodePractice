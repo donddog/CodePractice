{
 "cells": [
  {
   "cell_type": "code",
   "execution_count": 2,
   "metadata": {},
   "outputs": [
    {
     "name": "stdout",
     "output_type": "stream",
     "text": [
      "Requirement already satisfied: tensorflow in c:\\users\\j\\appdata\\local\\programs\\python\\python37\\lib\\site-packages (1.13.1)\n",
      "Requirement already satisfied: tensorboard<1.14.0,>=1.13.0 in c:\\users\\j\\appdata\\local\\programs\\python\\python37\\lib\\site-packages (from tensorflow) (1.13.1)\n",
      "Requirement already satisfied: gast>=0.2.0 in c:\\users\\j\\appdata\\local\\programs\\python\\python37\\lib\\site-packages (from tensorflow) (0.2.2)\n",
      "Requirement already satisfied: six>=1.10.0 in c:\\users\\j\\appdata\\local\\programs\\python\\python37\\lib\\site-packages (from tensorflow) (1.12.0)\n",
      "Requirement already satisfied: protobuf>=3.6.1 in c:\\users\\j\\appdata\\local\\programs\\python\\python37\\lib\\site-packages (from tensorflow) (3.6.1)\n",
      "Requirement already satisfied: numpy>=1.13.3 in c:\\users\\j\\appdata\\local\\programs\\python\\python37\\lib\\site-packages (from tensorflow) (1.16.1)\n",
      "Requirement already satisfied: grpcio>=1.8.6 in c:\\users\\j\\appdata\\local\\programs\\python\\python37\\lib\\site-packages (from tensorflow) (1.18.0)\n",
      "Requirement already satisfied: keras-preprocessing>=1.0.5 in c:\\users\\j\\appdata\\local\\programs\\python\\python37\\lib\\site-packages (from tensorflow) (1.0.9)\n",
      "Requirement already satisfied: wheel>=0.26 in c:\\users\\j\\appdata\\local\\programs\\python\\python37\\lib\\site-packages (from tensorflow) (0.33.0)\n",
      "Requirement already satisfied: keras-applications>=1.0.6 in c:\\users\\j\\appdata\\local\\programs\\python\\python37\\lib\\site-packages (from tensorflow) (1.0.7)\n",
      "Requirement already satisfied: tensorflow-estimator<1.14.0rc0,>=1.13.0 in c:\\users\\j\\appdata\\local\\programs\\python\\python37\\lib\\site-packages (from tensorflow) (1.13.0)\n",
      "Requirement already satisfied: absl-py>=0.1.6 in c:\\users\\j\\appdata\\local\\programs\\python\\python37\\lib\\site-packages (from tensorflow) (0.7.0)\n",
      "Requirement already satisfied: termcolor>=1.1.0 in c:\\users\\j\\appdata\\local\\programs\\python\\python37\\lib\\site-packages (from tensorflow) (1.1.0)\n",
      "Requirement already satisfied: astor>=0.6.0 in c:\\users\\j\\appdata\\local\\programs\\python\\python37\\lib\\site-packages (from tensorflow) (0.7.1)\n",
      "Requirement already satisfied: markdown>=2.6.8 in c:\\users\\j\\appdata\\local\\programs\\python\\python37\\lib\\site-packages (from tensorboard<1.14.0,>=1.13.0->tensorflow) (3.0.1)\n",
      "Requirement already satisfied: werkzeug>=0.11.15 in c:\\users\\j\\appdata\\local\\programs\\python\\python37\\lib\\site-packages (from tensorboard<1.14.0,>=1.13.0->tensorflow) (0.14.1)\n",
      "Requirement already satisfied: setuptools in c:\\users\\j\\appdata\\local\\programs\\python\\python37\\lib\\site-packages (from protobuf>=3.6.1->tensorflow) (40.6.2)\n",
      "Requirement already satisfied: h5py in c:\\users\\j\\appdata\\local\\programs\\python\\python37\\lib\\site-packages (from keras-applications>=1.0.6->tensorflow) (2.9.0)\n",
      "Requirement already satisfied: mock>=2.0.0 in c:\\users\\j\\appdata\\local\\programs\\python\\python37\\lib\\site-packages (from tensorflow-estimator<1.14.0rc0,>=1.13.0->tensorflow) (2.0.0)\n",
      "Requirement already satisfied: pbr>=0.11 in c:\\users\\j\\appdata\\local\\programs\\python\\python37\\lib\\site-packages (from mock>=2.0.0->tensorflow-estimator<1.14.0rc0,>=1.13.0->tensorflow) (5.1.2)\n"
     ]
    },
    {
     "name": "stderr",
     "output_type": "stream",
     "text": [
      "You are using pip version 19.0.3, however version 19.1 is available.\n",
      "You should consider upgrading via the 'python -m pip install --upgrade pip' command.\n"
     ]
    }
   ],
   "source": [
    "!pip install tensorflow"
   ]
  },
  {
   "cell_type": "code",
   "execution_count": null,
   "metadata": {},
   "outputs": [],
   "source": [
    "W = tf.Variable(tf.random_unifor)"
   ]
  }
 ],
 "metadata": {
  "kernelspec": {
   "display_name": "Python 3",
   "language": "python",
   "name": "python3"
  },
  "language_info": {
   "codemirror_mode": {
    "name": "ipython",
    "version": 3
   },
   "file_extension": ".py",
   "mimetype": "text/x-python",
   "name": "python",
   "nbconvert_exporter": "python",
   "pygments_lexer": "ipython3",
   "version": "3.6.8"
  }
 },
 "nbformat": 4,
 "nbformat_minor": 2
}
