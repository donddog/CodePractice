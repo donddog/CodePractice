{
 "cells": [
  {
   "cell_type": "code",
   "execution_count": 21,
   "metadata": {},
   "outputs": [],
   "source": [
    "fp = open('./data/hello.txt', 'r',  encoding=\"utf-8\")"
   ]
  },
  {
   "cell_type": "code",
   "execution_count": 22,
   "metadata": {},
   "outputs": [
    {
     "data": {
      "text/plain": [
       "'\\ufeffThe most common simple sentence in modern English follows a familiar pattern: Subject (S), Verb (V), Object (O). To illustrate this, we\\'ll devise a subject (John), a verb (caught), and an object (the ball). Thus, we have an easily understood sentence, \"John caught the ball.\" This is as perfectly an understood sentence in modern English as it was in Shakespeare\\'s day. However, Shakespeare was much more at liberty to switch these three basic components—and did, quite frequently. Shakespeare used a great deal of SOV inversion, which renders the sentence as \"John the ball caught.\" This order is commonly found in Germanic languages (moreso in subordinate clauses), from which English derives much of its syntactical foundation.1\\n\\nAnother reason for Shakespeare\\'s utilization of this order may be more practical. The romance languages of Italian and French introduced rhymed verse; Anglo-Saxon poetry was based on rhythm, metrical stresses, and alliteration within lines rather than rhymed couplets. With the introduction of rhymed poetic forms into English literature (and, since the Norman invasion, an injection of French to boot), there was a subsequent shift in English poetry. To quote John Porter Houston, \"Verbs in Old French and Italian make handy rimes, and they make even better ones in English because so many English verbs are monosyllabic. The verse line or couplet containing a subject near the beginning and a verb at the end is a natural development.\"2\\n\\nOf course, Shakespeare wrote a great deal of work in blank verse (unrhymed iambic pentameter); when he wasn\\'t rhyming, what was he thinking? Frankly, Elizabethans allowed for a lot more leeway in word order, and Shakespeare not only realized that, he took advantage of it. By utilizing inverted word orders, Shakespeare could effectively place the metrical stress wherever he needed it most—and English is heavily dependent on vocal inflection, which is not so easily translated into writing, to suggest emphasis and meaning. In his usage of order inversion, however, Shakespeare could compensate for this literary shortcoming.\\n\\nShakespeare also throws in many examples of OSV construction (\"The ball John caught.\"). Shakespeare seems to use this colloquially in many places as a transitory device, bridging two sentences, to provide continuity. Shakespeare (and many other writers) may also have used this as a device to shift end emphasis to the verb of a clause. Also, another prevalent usage of inversion was the VS order shift (\"caught John\" instead of \"John caught\"), which seems primarily a stylistic choice that further belies the Germanic root of modern English.\\n\\nIn the end, Houston points to \"the effort to make language more memorable by deviation from spoken habits.\"3 This is the essence of poetry: a heightening of language (even colloquial) above that of prose, a heightening that produces an idealized, imaginative conception of the subject.'"
      ]
     },
     "execution_count": 22,
     "metadata": {},
     "output_type": "execute_result"
    }
   ],
   "source": [
    "fp.read()"
   ]
  },
  {
   "cell_type": "code",
   "execution_count": 23,
   "metadata": {},
   "outputs": [],
   "source": [
    "fp.close()"
   ]
  },
  {
   "cell_type": "code",
   "execution_count": 25,
   "metadata": {},
   "outputs": [
    {
     "name": "stdout",
     "output_type": "stream",
     "text": [
      "﻿The most common simple sentence in modern English follows a familiar pattern: Subject (S), Verb (V), Object (O). To illustrate this, we'll devise a subject (John), a verb (caught), and an object (the ball). Thus, we have an easily understood sentence, \"John caught the ball.\" This is as perfectly an understood sentence in modern English as it was in Shakespeare's day. However, Shakespeare was much more at liberty to switch these three basic components—and did, quite frequently. Shakespeare used a great deal of SOV inversion, which renders the sentence as \"John the ball caught.\" This order is commonly found in Germanic languages (moreso in subordinate clauses), from which English derives much of its syntactical foundation.1\n",
      "\n",
      "Another reason for Shakespeare's utilization of this order may be more practical. The romance languages of Italian and French introduced rhymed verse; Anglo-Saxon poetry was based on rhythm, metrical stresses, and alliteration within lines rather than rhymed couplets. With the introduction of rhymed poetic forms into English literature (and, since the Norman invasion, an injection of French to boot), there was a subsequent shift in English poetry. To quote John Porter Houston, \"Verbs in Old French and Italian make handy rimes, and they make even better ones in English because so many English verbs are monosyllabic. The verse line or couplet containing a subject near the beginning and a verb at the end is a natural development.\"2\n",
      "\n",
      "Of course, Shakespeare wrote a great deal of work in blank verse (unrhymed iambic pentameter); when he wasn't rhyming, what was he thinking? Frankly, Elizabethans allowed for a lot more leeway in word order, and Shakespeare not only realized that, he took advantage of it. By utilizing inverted word orders, Shakespeare could effectively place the metrical stress wherever he needed it most—and English is heavily dependent on vocal inflection, which is not so easily translated into writing, to suggest emphasis and meaning. In his usage of order inversion, however, Shakespeare could compensate for this literary shortcoming.\n",
      "\n",
      "Shakespeare also throws in many examples of OSV construction (\"The ball John caught.\"). Shakespeare seems to use this colloquially in many places as a transitory device, bridging two sentences, to provide continuity. Shakespeare (and many other writers) may also have used this as a device to shift end emphasis to the verb of a clause. Also, another prevalent usage of inversion was the VS order shift (\"caught John\" instead of \"John caught\"), which seems primarily a stylistic choice that further belies the Germanic root of modern English.\n",
      "\n",
      "In the end, Houston points to \"the effort to make language more memorable by deviation from spoken habits.\"3 This is the essence of poetry: a heightening of language (even colloquial) above that of prose, a heightening that produces an idealized, imaginative conception of the subject.\n"
     ]
    }
   ],
   "source": [
    "with open('./data/hello.txt', 'r',  encoding=\"utf-8\") as fp:\n",
    "    data = fp.read()\n",
    "    print(data)"
   ]
  },
  {
   "cell_type": "code",
   "execution_count": 26,
   "metadata": {},
   "outputs": [
    {
     "data": {
      "text/plain": [
       "'\\ufeffThe most common simple sentence in modern English follows a familiar pattern: Subject (S), Verb (V), Object (O). To illustrate this, we\\'ll devise a subject (John), a verb (caught), and an object (the ball). Thus, we have an easily understood sentence, \"John caught the ball.\" This is as perfectly an understood sentence in modern English as it was in Shakespeare\\'s day. However, Shakespeare was much more at liberty to switch these three basic components—and did, quite frequently. Shakespeare used a great deal of SOV inversion, which renders the sentence as \"John the ball caught.\" This order is commonly found in Germanic languages (moreso in subordinate clauses), from which English derives much of its syntactical foundation.1\\n\\nAnother reason for Shakespeare\\'s utilization of this order may be more practical. The romance languages of Italian and French introduced rhymed verse; Anglo-Saxon poetry was based on rhythm, metrical stresses, and alliteration within lines rather than rhymed couplets. With the introduction of rhymed poetic forms into English literature (and, since the Norman invasion, an injection of French to boot), there was a subsequent shift in English poetry. To quote John Porter Houston, \"Verbs in Old French and Italian make handy rimes, and they make even better ones in English because so many English verbs are monosyllabic. The verse line or couplet containing a subject near the beginning and a verb at the end is a natural development.\"2\\n\\nOf course, Shakespeare wrote a great deal of work in blank verse (unrhymed iambic pentameter); when he wasn\\'t rhyming, what was he thinking? Frankly, Elizabethans allowed for a lot more leeway in word order, and Shakespeare not only realized that, he took advantage of it. By utilizing inverted word orders, Shakespeare could effectively place the metrical stress wherever he needed it most—and English is heavily dependent on vocal inflection, which is not so easily translated into writing, to suggest emphasis and meaning. In his usage of order inversion, however, Shakespeare could compensate for this literary shortcoming.\\n\\nShakespeare also throws in many examples of OSV construction (\"The ball John caught.\"). Shakespeare seems to use this colloquially in many places as a transitory device, bridging two sentences, to provide continuity. Shakespeare (and many other writers) may also have used this as a device to shift end emphasis to the verb of a clause. Also, another prevalent usage of inversion was the VS order shift (\"caught John\" instead of \"John caught\"), which seems primarily a stylistic choice that further belies the Germanic root of modern English.\\n\\nIn the end, Houston points to \"the effort to make language more memorable by deviation from spoken habits.\"3 This is the essence of poetry: a heightening of language (even colloquial) above that of prose, a heightening that produces an idealized, imaginative conception of the subject.'"
      ]
     },
     "execution_count": 26,
     "metadata": {},
     "output_type": "execute_result"
    }
   ],
   "source": [
    "data"
   ]
  },
  {
   "cell_type": "code",
   "execution_count": 27,
   "metadata": {},
   "outputs": [
    {
     "name": "stdout",
     "output_type": "stream",
     "text": [
      "파이썬을 이용한 빅데이터 분석!!\n"
     ]
    }
   ],
   "source": [
    "with open('./data/subject.txt', 'w') as fp:\n",
    "    data = '파이썬을 이용한 빅데이터 분석!!'\n",
    "    fp.write(data)\n",
    "with open('./data/subject.txt', 'r') as fp:\n",
    "    data = fp.read()\n",
    "    print(data)"
   ]
  },
  {
   "cell_type": "code",
   "execution_count": 28,
   "metadata": {},
   "outputs": [],
   "source": [
    "fp.close()"
   ]
  },
  {
   "cell_type": "code",
   "execution_count": 51,
   "metadata": {},
   "outputs": [],
   "source": [
    "def read_csv(filepath):\n",
    "    \n",
    "    fp = open(filepath, 'r', encoding='utf-8')\n",
    "    data = fp.read()\n",
    "    fp.close()\n",
    "    \n",
    "    elements = []\n",
    "    \n",
    "    rows = data.split(\"\\n\")\n",
    "    for row in rows:        \n",
    "        \n",
    "        fields = row.split(\",\")\n",
    "        \n",
    "        element = {   \n",
    "            \"name\"   : fields[0],\n",
    "            \"school\" : fields[1],\n",
    "            \"email\"  : fields[2],\n",
    "        }\n",
    "        elements.append(element)\n",
    "    return elements"
   ]
  },
  {
   "cell_type": "code",
   "execution_count": 52,
   "metadata": {},
   "outputs": [
    {
     "data": {
      "text/plain": [
       "[{'name': '\\ufeff김태희', 'school': '서울대', 'email': 'thkim@gmail.com'},\n",
       " {'name': '신민아', 'school': '성균관대', 'email': 'sma@gmial.com'},\n",
       " {'name': '전지현', 'school': '중앙대', 'email': 'jhjeon@gmail.com'},\n",
       " {'name': '이영애', 'school': '숭실대', 'email': 'janggumi@gamil.com'}]"
      ]
     },
     "execution_count": 52,
     "metadata": {},
     "output_type": "execute_result"
    }
   ],
   "source": [
    "filepath = 'data/123.txt'\n",
    "read_csv(filepath)"
   ]
  },
  {
   "cell_type": "code",
   "execution_count": 53,
   "metadata": {},
   "outputs": [
    {
     "data": {
      "text/plain": [
       "[{'name': '\\ufeff김태희', 'school': '서울대', 'email': 'thkim@gmail.com'},\n",
       " {'name': '신민아', 'school': '성균관대', 'email': 'sma@gmial.com'},\n",
       " {'name': '전지현', 'school': '중앙대', 'email': 'jhjeon@gmail.com'},\n",
       " {'name': '이영애', 'school': '숭실대', 'email': 'janggumi@gamil.com'}]"
      ]
     },
     "execution_count": 53,
     "metadata": {},
     "output_type": "execute_result"
    }
   ],
   "source": [
    "filepath = 'data/123.csv'\n",
    "read_csv(filepath)"
   ]
  },
  {
   "cell_type": "code",
   "execution_count": 55,
   "metadata": {},
   "outputs": [],
   "source": [
    "import pandas as pd"
   ]
  },
  {
   "cell_type": "code",
   "execution_count": 74,
   "metadata": {},
   "outputs": [],
   "source": [
    "data = pd.read_csv('data/company.csv', sep=',',  names=['rank', 'NameK', 'NameE', 'Owner'],\n",
    "            header=None)"
   ]
  },
  {
   "cell_type": "code",
   "execution_count": 75,
   "metadata": {},
   "outputs": [
    {
     "data": {
      "text/html": [
       "<div>\n",
       "<style scoped>\n",
       "    .dataframe tbody tr th:only-of-type {\n",
       "        vertical-align: middle;\n",
       "    }\n",
       "\n",
       "    .dataframe tbody tr th {\n",
       "        vertical-align: top;\n",
       "    }\n",
       "\n",
       "    .dataframe thead th {\n",
       "        text-align: right;\n",
       "    }\n",
       "</style>\n",
       "<table border=\"1\" class=\"dataframe\">\n",
       "  <thead>\n",
       "    <tr style=\"text-align: right;\">\n",
       "      <th></th>\n",
       "      <th>rank</th>\n",
       "      <th>NameK</th>\n",
       "      <th>NameE</th>\n",
       "      <th>Owner</th>\n",
       "    </tr>\n",
       "  </thead>\n",
       "  <tbody>\n",
       "    <tr>\n",
       "      <th>0</th>\n",
       "      <td>1</td>\n",
       "      <td>애플</td>\n",
       "      <td>Apple</td>\n",
       "      <td>스티브잡스</td>\n",
       "    </tr>\n",
       "    <tr>\n",
       "      <th>1</th>\n",
       "      <td>2</td>\n",
       "      <td>구글</td>\n",
       "      <td>Google</td>\n",
       "      <td>세르게이브린 &amp; 레리페이지</td>\n",
       "    </tr>\n",
       "    <tr>\n",
       "      <th>2</th>\n",
       "      <td>3</td>\n",
       "      <td>마이크로소프트</td>\n",
       "      <td>Microsoft</td>\n",
       "      <td>빌게이츠 &amp; 폴앨런</td>\n",
       "    </tr>\n",
       "    <tr>\n",
       "      <th>3</th>\n",
       "      <td>4</td>\n",
       "      <td>페이스북</td>\n",
       "      <td>Facebook</td>\n",
       "      <td>마크쥬크버그</td>\n",
       "    </tr>\n",
       "    <tr>\n",
       "      <th>4</th>\n",
       "      <td>5</td>\n",
       "      <td>에어비엔비</td>\n",
       "      <td>Airbnb</td>\n",
       "      <td>브라이언체크키 &amp; 조게비어</td>\n",
       "    </tr>\n",
       "  </tbody>\n",
       "</table>\n",
       "</div>"
      ],
      "text/plain": [
       "   rank     NameK       NameE             Owner\n",
       "0     1        애플       Apple            스티브잡스 \n",
       "1     2        구글      Google   세르게이브린 & 레리페이지 \n",
       "2     3   마이크로소프트   Microsoft       빌게이츠 & 폴앨런 \n",
       "3     4      페이스북    Facebook           마크쥬크버그 \n",
       "4     5     에어비엔비      Airbnb    브라이언체크키 & 조게비어"
      ]
     },
     "execution_count": 75,
     "metadata": {},
     "output_type": "execute_result"
    }
   ],
   "source": [
    "data"
   ]
  },
  {
   "cell_type": "code",
   "execution_count": 76,
   "metadata": {},
   "outputs": [
    {
     "data": {
      "text/plain": [
       "(5, 4)"
      ]
     },
     "execution_count": 76,
     "metadata": {},
     "output_type": "execute_result"
    }
   ],
   "source": [
    "data.shape"
   ]
  },
  {
   "cell_type": "code",
   "execution_count": 70,
   "metadata": {},
   "outputs": [],
   "source": [
    "def read_csv(filepath):     \n",
    "    fp = open(filepath, 'r', encoding='utf-8')\n",
    "    data = fp.read()\n",
    "    fp.close()\n",
    "    \n",
    "    elements = []\n",
    "    \n",
    "    rows = data.split(\"\\n\")\n",
    "    columns = rows[0].split(\",\")   \n",
    "    columns = [key.replace(' ','') for key in columns]\n",
    "    print('columns => key :', columns)\n",
    "    \n",
    "    for row in rows[1:]:\n",
    "        fields = row.split(\",\")\n",
    "        \n",
    "        element = {}\n",
    "        \n",
    "        for idx in range(len(columns)):  \n",
    "            column = columns[idx]\n",
    "            field = fields[idx]\n",
    "            element[column] = field\n",
    "        \n",
    "        elements.append(element)\n",
    "        \n",
    "    return elements"
   ]
  },
  {
   "cell_type": "code",
   "execution_count": 71,
   "metadata": {},
   "outputs": [
    {
     "name": "stdout",
     "output_type": "stream",
     "text": [
      "columns => key : ['\\ufeff1', '애플', 'Apple', '스티브잡스']\n"
     ]
    },
    {
     "data": {
      "text/plain": [
       "[{'\\ufeff1': '2',\n",
       "  '애플': ' 구글',\n",
       "  'Apple': ' Google',\n",
       "  '스티브잡스': ' 세르게이브린 & 레리페이지 '},\n",
       " {'\\ufeff1': '3',\n",
       "  '애플': ' 마이크로소프트',\n",
       "  'Apple': ' Microsoft',\n",
       "  '스티브잡스': ' 빌게이츠 & 폴앨런 '},\n",
       " {'\\ufeff1': '4', '애플': ' 페이스북', 'Apple': ' Facebook', '스티브잡스': ' 마크쥬크버그 '},\n",
       " {'\\ufeff1': '5',\n",
       "  '애플': ' 에어비엔비',\n",
       "  'Apple': ' Airbnb',\n",
       "  '스티브잡스': ' 브라이언체크키 & 조게비어'}]"
      ]
     },
     "execution_count": 71,
     "metadata": {},
     "output_type": "execute_result"
    }
   ],
   "source": [
    "filepath = 'data/company.csv'\n",
    "read_csv(filepath)"
   ]
  }
 ],
 "metadata": {
  "kernelspec": {
   "display_name": "Python 3",
   "language": "python",
   "name": "python3"
  },
  "language_info": {
   "codemirror_mode": {
    "name": "ipython",
    "version": 3
   },
   "file_extension": ".py",
   "mimetype": "text/x-python",
   "name": "python",
   "nbconvert_exporter": "python",
   "pygments_lexer": "ipython3",
   "version": "3.7.3"
  }
 },
 "nbformat": 4,
 "nbformat_minor": 2
}
