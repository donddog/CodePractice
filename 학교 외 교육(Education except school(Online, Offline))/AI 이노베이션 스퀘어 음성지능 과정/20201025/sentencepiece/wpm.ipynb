{
 "cells": [
  {
   "cell_type": "markdown",
   "metadata": {},
   "source": [
    "https://github.com/google/sentencepiece"
   ]
  },
  {
   "cell_type": "code",
   "execution_count": 1,
   "metadata": {},
   "outputs": [],
   "source": [
    "import sentencepiece as spm"
   ]
  },
  {
   "cell_type": "code",
   "execution_count": 2,
   "metadata": {},
   "outputs": [],
   "source": [
    "input_file = \"sejong_written_normalized.head_100.txt\"\n",
    "\n",
    "templates = '--input={} --model_prefix={} --vocab_size={} --model_type=bpe --hard_vocab_limit=false'\n",
    "\n",
    "vocab_size = 2000\n",
    "prefix = 'sejong_written'\n",
    "cmd = templates.format(input_file, prefix, vocab_size)\n",
    "\n",
    "spm.SentencePieceTrainer.Train(cmd)"
   ]
  },
  {
   "cell_type": "code",
   "execution_count": 3,
   "metadata": {},
   "outputs": [
    {
     "data": {
      "text/plain": [
       "True"
      ]
     },
     "execution_count": 3,
     "metadata": {},
     "output_type": "execute_result"
    }
   ],
   "source": [
    "sp = spm.SentencePieceProcessor()\n",
    "sp.Load('{}.model'.format(prefix))"
   ]
  },
  {
   "cell_type": "code",
   "execution_count": 4,
   "metadata": {},
   "outputs": [
    {
     "name": "stdout",
     "output_type": "stream",
     "text": [
      "['▁지금', '은', '▁공', '덕', '에서', '▁수', '업', '▁중', '입', '니', '다']\n"
     ]
    }
   ],
   "source": [
    "sent_wpm = sp.EncodeAsPieces('지금은 공덕에서 수업 중입니다')\n",
    "print(sent_wpm)"
   ]
  },
  {
   "cell_type": "code",
   "execution_count": 5,
   "metadata": {},
   "outputs": [
    {
     "name": "stdout",
     "output_type": "stream",
     "text": [
      "▁지금은▁공덕에서▁수업▁중입니다\n"
     ]
    }
   ],
   "source": [
    "sent = ''.join(sent_wpm)\n",
    "print(sent)"
   ]
  },
  {
   "cell_type": "code",
   "execution_count": 6,
   "metadata": {},
   "outputs": [
    {
     "name": "stdout",
     "output_type": "stream",
     "text": [
      "지금은 공덕에서 수업 중입니다\n"
     ]
    }
   ],
   "source": [
    "sent_reconstructed = sent.replace('▁', ' ').strip()\n",
    "print(sent_reconstructed)"
   ]
  },
  {
   "cell_type": "code",
   "execution_count": 7,
   "metadata": {},
   "outputs": [
    {
     "name": "stdout",
     "output_type": "stream",
     "text": [
      "['▁지금', '은', '▁공', '덕', '에서', '▁수', '업', '▁중', '입', '니', '다']\n",
      "▁지금은▁공덕에서▁수업▁중입니다\n",
      "지금은 공덕에서 수업 중입니다\n"
     ]
    }
   ],
   "source": [
    "sp = spm.SentencePieceProcessor()\n",
    "sp.Load('{}.model'.format(prefix))\n",
    "\n",
    "sent_wpm = sp.EncodeAsPieces('지금은 공덕에서 수업 중입니다')\n",
    "print(sent_wpm)\n",
    "\n",
    "sent = ''.join(sent_wpm)\n",
    "print(sent)\n",
    "\n",
    "sent_reconstructed = sent.replace('▁', ' ').strip()\n",
    "print(sent_reconstructed)"
   ]
  },
  {
   "cell_type": "code",
   "execution_count": null,
   "metadata": {},
   "outputs": [],
   "source": []
  }
 ],
 "metadata": {
  "kernelspec": {
   "display_name": "Python 3",
   "language": "python",
   "name": "python3"
  },
  "language_info": {
   "codemirror_mode": {
    "name": "ipython",
    "version": 3
   },
   "file_extension": ".py",
   "mimetype": "text/x-python",
   "name": "python",
   "nbconvert_exporter": "python",
   "pygments_lexer": "ipython3",
   "version": "3.7.9"
  }
 },
 "nbformat": 4,
 "nbformat_minor": 4
}
