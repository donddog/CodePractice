{
 "cells": [
  {
   "cell_type": "code",
   "execution_count": 1,
   "metadata": {},
   "outputs": [],
   "source": [
    "import torch\n",
    "import torch.optim as optim\n",
    "import numpy as np"
   ]
  },
  {
   "cell_type": "code",
   "execution_count": 2,
   "metadata": {},
   "outputs": [
    {
     "data": {
      "text/plain": [
       "<torch._C.Generator at 0x251268b7f90>"
      ]
     },
     "execution_count": 2,
     "metadata": {},
     "output_type": "execute_result"
    }
   ],
   "source": [
    "torch.manual_seed(0)"
   ]
  },
  {
   "cell_type": "code",
   "execution_count": 3,
   "metadata": {},
   "outputs": [],
   "source": [
    "sample = \" if you want you\""
   ]
  },
  {
   "cell_type": "code",
   "execution_count": 4,
   "metadata": {},
   "outputs": [
    {
     "name": "stdout",
     "output_type": "stream",
     "text": [
      "{' ': 0, 'o': 1, 'f': 2, 't': 3, 'a': 4, 'y': 5, 'n': 6, 'u': 7, 'i': 8, 'w': 9}\n"
     ]
    }
   ],
   "source": [
    "char_set = list(set(sample))\n",
    "char_dic = {c: i for i, c in enumerate(char_set)}\n",
    "\n",
    "print(char_dic)"
   ]
  },
  {
   "cell_type": "code",
   "execution_count": 5,
   "metadata": {},
   "outputs": [],
   "source": [
    "dic_size = len(char_dic)\n",
    "hidden_size = len(char_dic)\n",
    "learning_rate = 0.1"
   ]
  },
  {
   "cell_type": "code",
   "execution_count": 6,
   "metadata": {},
   "outputs": [],
   "source": [
    "sample_idx = [char_dic[c] for c in sample]\n",
    "x_data = [sample_idx[:-1]]\n",
    "x_one_hot = [np.eye(dic_size)[x] for x in x_data]\n",
    "y_data = [sample_idx[1:]]"
   ]
  },
  {
   "cell_type": "code",
   "execution_count": 7,
   "metadata": {},
   "outputs": [],
   "source": [
    "X = torch.FloatTensor(x_one_hot)\n",
    "Y = torch.LongTensor(y_data)"
   ]
  },
  {
   "cell_type": "code",
   "execution_count": 8,
   "metadata": {},
   "outputs": [],
   "source": [
    "rnn = torch.nn.RNN(dic_size, hidden_size, batch_first=True)"
   ]
  },
  {
   "cell_type": "code",
   "execution_count": 9,
   "metadata": {},
   "outputs": [],
   "source": [
    "criterion = torch.nn.CrossEntropyLoss()\n",
    "optimizer = optim.Adam(rnn.parameters(), learning_rate)"
   ]
  },
  {
   "cell_type": "code",
   "execution_count": 10,
   "metadata": {
    "scrolled": true
   },
   "outputs": [
    {
     "name": "stdout",
     "output_type": "stream",
     "text": [
      "0 loss:  2.3109800815582275 prediction:  [[5 8 7 5 7 8 0 5 0 7 7 7 5 7 8]] true Y:  [[8, 2, 0, 5, 1, 7, 0, 9, 4, 6, 3, 0, 5, 1, 7]] prediction str:  yiuyui y uuuyui\n",
      "1 loss:  2.0302255153656006 prediction:  [[5 0 7 0 0 0 0 0 0 7 0 0 0 0 0]] true Y:  [[8, 2, 0, 5, 1, 7, 0, 9, 4, 6, 3, 0, 5, 1, 7]] prediction str:  y u      u     \n",
      "2 loss:  1.7871919870376587 prediction:  [[5 0 0 5 0 7 0 0 0 6 0 0 5 0 7]] true Y:  [[8, 2, 0, 5, 1, 7, 0, 9, 4, 6, 3, 0, 5, 1, 7]] prediction str:  y  y u   n  y u\n",
      "3 loss:  1.6207077503204346 prediction:  [[5 0 7 5 1 7 0 0 4 6 1 0 5 1 7]] true Y:  [[8, 2, 0, 5, 1, 7, 0, 9, 4, 6, 3, 0, 5, 1, 7]] prediction str:  y uyou  ano you\n",
      "4 loss:  1.5097397565841675 prediction:  [[5 0 0 5 1 7 0 0 4 6 1 0 5 1 7]] true Y:  [[8, 2, 0, 5, 1, 7, 0, 9, 4, 6, 3, 0, 5, 1, 7]] prediction str:  y  you  ano you\n",
      "5 loss:  1.4193555116653442 prediction:  [[5 2 0 5 1 7 0 9 4 6 1 0 5 1 7]] true Y:  [[8, 2, 0, 5, 1, 7, 0, 9, 4, 6, 3, 0, 5, 1, 7]] prediction str:  yf you wano you\n",
      "6 loss:  1.3539671897888184 prediction:  [[5 2 0 5 1 7 0 9 4 6 1 0 5 1 7]] true Y:  [[8, 2, 0, 5, 1, 7, 0, 9, 4, 6, 3, 0, 5, 1, 7]] prediction str:  yf you wano you\n",
      "7 loss:  1.2866814136505127 prediction:  [[5 2 0 5 1 7 0 9 4 6 1 0 5 2 7]] true Y:  [[8, 2, 0, 5, 1, 7, 0, 9, 4, 6, 3, 0, 5, 1, 7]] prediction str:  yf you wano yfu\n",
      "8 loss:  1.2199763059616089 prediction:  [[8 2 0 5 1 7 0 9 4 6 1 0 5 1 7]] true Y:  [[8, 2, 0, 5, 1, 7, 0, 9, 4, 6, 3, 0, 5, 1, 7]] prediction str:  if you wano you\n",
      "9 loss:  1.1736730337142944 prediction:  [[8 2 0 5 1 7 0 9 4 6 1 0 5 1 7]] true Y:  [[8, 2, 0, 5, 1, 7, 0, 9, 4, 6, 3, 0, 5, 1, 7]] prediction str:  if you wano you\n",
      "10 loss:  1.1474822759628296 prediction:  [[8 2 0 5 1 7 0 9 4 6 1 0 5 1 7]] true Y:  [[8, 2, 0, 5, 1, 7, 0, 9, 4, 6, 3, 0, 5, 1, 7]] prediction str:  if you wano you\n",
      "11 loss:  1.1096724271774292 prediction:  [[8 1 0 5 1 7 0 9 4 6 1 0 5 1 7]] true Y:  [[8, 2, 0, 5, 1, 7, 0, 9, 4, 6, 3, 0, 5, 1, 7]] prediction str:  io you wano you\n",
      "12 loss:  1.0763380527496338 prediction:  [[8 1 0 5 1 7 0 9 4 6 3 0 5 1 7]] true Y:  [[8, 2, 0, 5, 1, 7, 0, 9, 4, 6, 3, 0, 5, 1, 7]] prediction str:  io you want you\n",
      "13 loss:  1.0559957027435303 prediction:  [[8 1 0 5 1 7 0 9 4 6 3 0 5 1 7]] true Y:  [[8, 2, 0, 5, 1, 7, 0, 9, 4, 6, 3, 0, 5, 1, 7]] prediction str:  io you want you\n",
      "14 loss:  1.032655954360962 prediction:  [[8 1 0 5 1 7 0 9 4 6 3 0 5 1 7]] true Y:  [[8, 2, 0, 5, 1, 7, 0, 9, 4, 6, 3, 0, 5, 1, 7]] prediction str:  io you want you\n",
      "15 loss:  1.0164167881011963 prediction:  [[8 1 0 5 1 7 0 9 4 6 1 0 5 1 7]] true Y:  [[8, 2, 0, 5, 1, 7, 0, 9, 4, 6, 3, 0, 5, 1, 7]] prediction str:  io you wano you\n",
      "16 loss:  0.9998979568481445 prediction:  [[8 1 0 5 1 7 0 9 4 6 1 0 5 1 7]] true Y:  [[8, 2, 0, 5, 1, 7, 0, 9, 4, 6, 3, 0, 5, 1, 7]] prediction str:  io you wano you\n",
      "17 loss:  0.9878447651863098 prediction:  [[8 1 0 5 1 7 0 9 4 6 1 0 5 1 7]] true Y:  [[8, 2, 0, 5, 1, 7, 0, 9, 4, 6, 3, 0, 5, 1, 7]] prediction str:  io you wano you\n",
      "18 loss:  0.9713518023490906 prediction:  [[8 1 0 5 1 7 0 9 4 6 3 0 5 1 7]] true Y:  [[8, 2, 0, 5, 1, 7, 0, 9, 4, 6, 3, 0, 5, 1, 7]] prediction str:  io you want you\n",
      "19 loss:  0.9526040554046631 prediction:  [[8 1 0 5 1 7 0 9 4 6 3 0 5 1 7]] true Y:  [[8, 2, 0, 5, 1, 7, 0, 9, 4, 6, 3, 0, 5, 1, 7]] prediction str:  io you want you\n",
      "20 loss:  0.9420393109321594 prediction:  [[8 1 0 5 1 7 0 9 4 6 3 0 5 1 7]] true Y:  [[8, 2, 0, 5, 1, 7, 0, 9, 4, 6, 3, 0, 5, 1, 7]] prediction str:  io you want you\n",
      "21 loss:  0.9285233020782471 prediction:  [[8 2 0 5 1 7 0 9 4 6 3 0 5 1 7]] true Y:  [[8, 2, 0, 5, 1, 7, 0, 9, 4, 6, 3, 0, 5, 1, 7]] prediction str:  if you want you\n",
      "22 loss:  0.912270724773407 prediction:  [[8 2 0 5 1 7 0 9 4 6 3 0 5 1 7]] true Y:  [[8, 2, 0, 5, 1, 7, 0, 9, 4, 6, 3, 0, 5, 1, 7]] prediction str:  if you want you\n",
      "23 loss:  0.9010955691337585 prediction:  [[8 2 0 5 1 7 0 9 4 6 3 0 5 1 7]] true Y:  [[8, 2, 0, 5, 1, 7, 0, 9, 4, 6, 3, 0, 5, 1, 7]] prediction str:  if you want you\n",
      "24 loss:  0.8924767971038818 prediction:  [[8 2 0 5 1 7 0 9 4 6 3 0 5 1 7]] true Y:  [[8, 2, 0, 5, 1, 7, 0, 9, 4, 6, 3, 0, 5, 1, 7]] prediction str:  if you want you\n",
      "25 loss:  0.8846500515937805 prediction:  [[8 2 0 5 1 7 0 9 4 6 3 0 5 1 7]] true Y:  [[8, 2, 0, 5, 1, 7, 0, 9, 4, 6, 3, 0, 5, 1, 7]] prediction str:  if you want you\n",
      "26 loss:  0.8757606744766235 prediction:  [[8 2 0 5 1 7 0 9 4 6 3 0 5 1 7]] true Y:  [[8, 2, 0, 5, 1, 7, 0, 9, 4, 6, 3, 0, 5, 1, 7]] prediction str:  if you want you\n",
      "27 loss:  0.8677391409873962 prediction:  [[8 2 0 5 1 7 0 9 4 6 3 0 5 1 7]] true Y:  [[8, 2, 0, 5, 1, 7, 0, 9, 4, 6, 3, 0, 5, 1, 7]] prediction str:  if you want you\n",
      "28 loss:  0.862321674823761 prediction:  [[8 2 0 5 1 7 0 9 4 6 3 0 5 1 7]] true Y:  [[8, 2, 0, 5, 1, 7, 0, 9, 4, 6, 3, 0, 5, 1, 7]] prediction str:  if you want you\n",
      "29 loss:  0.8579912185668945 prediction:  [[8 2 0 5 1 7 0 9 4 6 3 0 5 1 7]] true Y:  [[8, 2, 0, 5, 1, 7, 0, 9, 4, 6, 3, 0, 5, 1, 7]] prediction str:  if you want you\n",
      "30 loss:  0.8539882302284241 prediction:  [[8 2 0 5 1 7 0 9 4 6 3 0 5 1 7]] true Y:  [[8, 2, 0, 5, 1, 7, 0, 9, 4, 6, 3, 0, 5, 1, 7]] prediction str:  if you want you\n",
      "31 loss:  0.8501870632171631 prediction:  [[8 2 0 5 1 7 0 9 4 6 3 0 5 1 7]] true Y:  [[8, 2, 0, 5, 1, 7, 0, 9, 4, 6, 3, 0, 5, 1, 7]] prediction str:  if you want you\n",
      "32 loss:  0.8459799885749817 prediction:  [[8 2 0 5 1 7 0 9 4 6 3 0 5 1 7]] true Y:  [[8, 2, 0, 5, 1, 7, 0, 9, 4, 6, 3, 0, 5, 1, 7]] prediction str:  if you want you\n",
      "33 loss:  0.8421801328659058 prediction:  [[8 2 0 5 1 7 0 9 4 6 3 0 5 1 7]] true Y:  [[8, 2, 0, 5, 1, 7, 0, 9, 4, 6, 3, 0, 5, 1, 7]] prediction str:  if you want you\n",
      "34 loss:  0.8390558362007141 prediction:  [[8 2 0 5 1 7 0 9 4 6 3 0 5 1 7]] true Y:  [[8, 2, 0, 5, 1, 7, 0, 9, 4, 6, 3, 0, 5, 1, 7]] prediction str:  if you want you\n",
      "35 loss:  0.8364346623420715 prediction:  [[8 2 0 5 1 7 0 9 4 6 3 0 5 1 7]] true Y:  [[8, 2, 0, 5, 1, 7, 0, 9, 4, 6, 3, 0, 5, 1, 7]] prediction str:  if you want you\n",
      "36 loss:  0.8342109322547913 prediction:  [[8 2 0 5 1 7 0 9 4 6 3 0 5 1 7]] true Y:  [[8, 2, 0, 5, 1, 7, 0, 9, 4, 6, 3, 0, 5, 1, 7]] prediction str:  if you want you\n",
      "37 loss:  0.8322338461875916 prediction:  [[8 2 0 5 1 7 0 9 4 6 3 0 5 1 7]] true Y:  [[8, 2, 0, 5, 1, 7, 0, 9, 4, 6, 3, 0, 5, 1, 7]] prediction str:  if you want you\n",
      "38 loss:  0.8304215669631958 prediction:  [[8 2 0 5 1 7 0 9 4 6 3 0 5 1 7]] true Y:  [[8, 2, 0, 5, 1, 7, 0, 9, 4, 6, 3, 0, 5, 1, 7]] prediction str:  if you want you\n",
      "39 loss:  0.8287842869758606 prediction:  [[8 2 0 5 1 7 0 9 4 6 3 0 5 1 7]] true Y:  [[8, 2, 0, 5, 1, 7, 0, 9, 4, 6, 3, 0, 5, 1, 7]] prediction str:  if you want you\n",
      "40 loss:  0.827279806137085 prediction:  [[8 2 0 5 1 7 0 9 4 6 3 0 5 1 7]] true Y:  [[8, 2, 0, 5, 1, 7, 0, 9, 4, 6, 3, 0, 5, 1, 7]] prediction str:  if you want you\n",
      "41 loss:  0.82588791847229 prediction:  [[8 2 0 5 1 7 0 9 4 6 3 0 5 1 7]] true Y:  [[8, 2, 0, 5, 1, 7, 0, 9, 4, 6, 3, 0, 5, 1, 7]] prediction str:  if you want you\n",
      "42 loss:  0.8246135115623474 prediction:  [[8 2 0 5 1 7 0 9 4 6 3 0 5 1 7]] true Y:  [[8, 2, 0, 5, 1, 7, 0, 9, 4, 6, 3, 0, 5, 1, 7]] prediction str:  if you want you\n",
      "43 loss:  0.8234317302703857 prediction:  [[8 2 0 5 1 7 0 9 4 6 3 0 5 1 7]] true Y:  [[8, 2, 0, 5, 1, 7, 0, 9, 4, 6, 3, 0, 5, 1, 7]] prediction str:  if you want you\n",
      "44 loss:  0.8223410248756409 prediction:  [[8 2 0 5 1 7 0 9 4 6 3 0 5 1 7]] true Y:  [[8, 2, 0, 5, 1, 7, 0, 9, 4, 6, 3, 0, 5, 1, 7]] prediction str:  if you want you\n",
      "45 loss:  0.8213531374931335 prediction:  [[8 2 0 5 1 7 0 9 4 6 3 0 5 1 7]] true Y:  [[8, 2, 0, 5, 1, 7, 0, 9, 4, 6, 3, 0, 5, 1, 7]] prediction str:  if you want you\n",
      "46 loss:  0.820455014705658 prediction:  [[8 2 0 5 1 7 0 9 4 6 3 0 5 1 7]] true Y:  [[8, 2, 0, 5, 1, 7, 0, 9, 4, 6, 3, 0, 5, 1, 7]] prediction str:  if you want you\n",
      "47 loss:  0.8196414709091187 prediction:  [[8 2 0 5 1 7 0 9 4 6 3 0 5 1 7]] true Y:  [[8, 2, 0, 5, 1, 7, 0, 9, 4, 6, 3, 0, 5, 1, 7]] prediction str:  if you want you\n",
      "48 loss:  0.8189117312431335 prediction:  [[8 2 0 5 1 7 0 9 4 6 3 0 5 1 7]] true Y:  [[8, 2, 0, 5, 1, 7, 0, 9, 4, 6, 3, 0, 5, 1, 7]] prediction str:  if you want you\n",
      "49 loss:  0.8182478547096252 prediction:  [[8 2 0 5 1 7 0 9 4 6 3 0 5 1 7]] true Y:  [[8, 2, 0, 5, 1, 7, 0, 9, 4, 6, 3, 0, 5, 1, 7]] prediction str:  if you want you\n"
     ]
    }
   ],
   "source": [
    "for i in range(50):\n",
    "    optimizer.zero_grad()\n",
    "    \n",
    "    outputs, _status = rnn(X)\n",
    "    loss = criterion(outputs.view(-1, dic_size), Y.view(-1))\n",
    "    loss.backward()\n",
    "    optimizer.step()\n",
    "\n",
    "    result = outputs.data.numpy().argmax(axis=2)\n",
    "    result_str = ''.join([char_set[c] for c in np.squeeze(result)])\n",
    "    \n",
    "    print(i, \"loss: \", loss.item(), \"prediction: \", result, \"true Y: \", y_data, \"prediction str: \", result_str)"
   ]
  },
  {
   "cell_type": "code",
   "execution_count": null,
   "metadata": {},
   "outputs": [],
   "source": []
  }
 ],
 "metadata": {
  "kernelspec": {
   "display_name": "Python 3",
   "language": "python",
   "name": "python3"
  },
  "language_info": {
   "codemirror_mode": {
    "name": "ipython",
    "version": 3
   },
   "file_extension": ".py",
   "mimetype": "text/x-python",
   "name": "python",
   "nbconvert_exporter": "python",
   "pygments_lexer": "ipython3",
   "version": "3.7.9"
  }
 },
 "nbformat": 4,
 "nbformat_minor": 2
}
