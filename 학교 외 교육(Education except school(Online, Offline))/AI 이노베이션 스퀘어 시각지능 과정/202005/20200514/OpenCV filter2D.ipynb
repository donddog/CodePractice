{
 "cells": [
  {
   "cell_type": "code",
   "execution_count": 1,
   "metadata": {},
   "outputs": [
    {
     "name": "stdout",
     "output_type": "stream",
     "text": [
      "(270, 360, 3) uint8\n",
      "(270, 360, 3) uint8\n"
     ]
    }
   ],
   "source": [
    "import cv2 as cv\n",
    "import numpy as np\n",
    "\n",
    "img = cv.imread('filter_blur.jpg')\n",
    "\n",
    "kernel = np.full((9,9), 1./(9*9))\n",
    "\n",
    "img_filtered = cv.filter2D(img, -1, kernel)\n",
    "\n",
    "print(img.shape, img.dtype)\n",
    "print(img_filtered.shape, img_filtered.dtype)\n",
    "\n",
    "cv.imshow('original', img)\n",
    "cv.imshow('filtered', img_filtered)\n",
    "cv.waitKey()\n",
    "cv.destroyAllWindows()"
   ]
  },
  {
   "cell_type": "code",
   "execution_count": 2,
   "metadata": {},
   "outputs": [
    {
     "name": "stdout",
     "output_type": "stream",
     "text": [
      "(270, 360, 3) uint8\n",
      "(270, 360, 3) uint8\n"
     ]
    }
   ],
   "source": [
    "img = cv.imread('filter_blur.jpg')\n",
    "\n",
    "kernel = np.array([[ 0, -1,  0],\n",
    "                   [-1,  5, -1],\n",
    "                   [ 0, -1,  0]])\n",
    "\n",
    "img_filtered = cv.filter2D(img, -1, kernel)\n",
    "\n",
    "print(img.shape, img.dtype)\n",
    "print(img_filtered.shape, img_filtered.dtype)\n",
    "\n",
    "cv.imshow('original', img)\n",
    "cv.imshow('filtered', img_filtered)\n",
    "cv.waitKey()\n",
    "cv.destroyAllWindows()"
   ]
  },
  {
   "cell_type": "code",
   "execution_count": 3,
   "metadata": {},
   "outputs": [],
   "source": [
    "img = cv.imread('edge_test.jpg', cv.IMREAD_GRAYSCALE)\n",
    "\n",
    "kernel1 = np.array([[-1,  0,  0],\n",
    "                    [ 0,  1,  0],\n",
    "                    [ 0,  0,  0]])\n",
    "\n",
    "kernel2 = np.array([[ 0,  0, -1],\n",
    "                    [ 0,  1,  0],\n",
    "                    [ 0,  0,  0]])\n",
    "\n",
    "dst1 = cv.filter2D(img, cv.CV_32F, kernel1)\n",
    "dst2 = cv.filter2D(img, cv.CV_32F, kernel2)\n",
    "dst = cv.magnitude(dst1, dst2)\n",
    "\n",
    "cv.imshow('img', img)\n",
    "cv.imshow('dst1', np.abs(dst1).astype(np.uint8))\n",
    "cv.imshow('dst2', np.abs(dst2).astype(np.uint8))\n",
    "cv.imshow('dst', dst.astype(np.uint8))\n",
    "cv.waitKey()\n",
    "cv.destroyAllWindows()"
   ]
  },
  {
   "cell_type": "code",
   "execution_count": 4,
   "metadata": {},
   "outputs": [],
   "source": [
    "import cv2 as cv\n",
    "import numpy as np\n",
    "\n",
    "kernel_diag0 = np.array([[-1,  0,  0],\n",
    "                         [ 0,  1,  0],\n",
    "                         [ 0,  0,  0]])\n",
    "\n",
    "kernel_diag1 = np.array([[ 0,  0, -1],\n",
    "                         [ 0,  1,  0],\n",
    "                         [ 0,  0,  0]])\n",
    "\n",
    "kernel_all_in_one0 = np.array([[-1,  0, -1],\n",
    "                               [ 0,  2,  0],\n",
    "                               [ 0,  0,  0]])\n",
    "\n",
    "kernel_all_in_one1 = np.array([[ 0, -1,  0],\n",
    "                               [-1,  4, -1],\n",
    "                               [ 0, -1,  0]])\n",
    "\n",
    "img = np.zeros((400,400), np.uint8)\n",
    "\n",
    "j0, j1 = 200, 203\n",
    "d = j1 - j0\n",
    "\n",
    "for j in range(j0, j1):\n",
    "    img[:,j] = int(255*(j-j0)/d)\n",
    "\n",
    "img[:, j1:]\t= 255\n",
    "\n",
    "dst_diag0 = cv.filter2D(img, cv.CV_32F, kernel_diag0)\n",
    "dst_diag1 = cv.filter2D(img, cv.CV_32F, kernel_diag1)\n",
    "dst_diag = cv.magnitude(dst_diag0, dst_diag1)\n",
    "\n",
    "dst_all_in_one0 = cv.filter2D(img, cv.CV_32F, kernel_all_in_one0)\n",
    "dst_all_in_one1 = cv.filter2D(img, cv.CV_32F, kernel_all_in_one1)\n",
    "\n",
    "cv.imshow('img', img)\n",
    "cv.imshow('dst_diag', np.abs(dst_diag).astype(np.uint8))\n",
    "cv.imshow('dst_all_in_one0', np.abs(dst_all_in_one0).astype(np.uint8))\n",
    "cv.imshow('dst_all_in_one1', np.abs(dst_all_in_one1).astype(np.uint8))\n",
    "cv.waitKey()\n",
    "cv.destroyAllWindows()"
   ]
  },
  {
   "cell_type": "code",
   "execution_count": 5,
   "metadata": {},
   "outputs": [],
   "source": [
    "img = cv.imread('edge_test1.jpg', cv.IMREAD_GRAYSCALE)\n",
    "\n",
    "kernel1 = np.array([[-1,  0,  1],\n",
    "                    [-1,  0,  1],\n",
    "                    [-1,  0,  1]])\n",
    "\n",
    "kernel2 = np.array([[-1, -1, -1],\n",
    "                    [ 0,  0,  0],\n",
    "                    [ 1,  1,  1]])\n",
    "\n",
    "dst1 = cv.filter2D(img, cv.CV_32F, kernel1)\n",
    "dst2 = cv.filter2D(img, cv.CV_32F, kernel2)\n",
    "dst = cv.magnitude(dst1, dst2)\n",
    "\n",
    "cv.imshow('img', img)\n",
    "cv.imshow('dst1', np.abs(dst1).astype(np.uint8))\n",
    "cv.imshow('dst2', np.abs(dst2).astype(np.uint8))\n",
    "cv.imshow('dst', dst.astype(np.uint8))\n",
    "cv.waitKey()\n",
    "cv.destroyAllWindows()"
   ]
  },
  {
   "cell_type": "code",
   "execution_count": 6,
   "metadata": {},
   "outputs": [],
   "source": [
    "img = cv.imread('edge_test1.jpg', cv.IMREAD_GRAYSCALE)\n",
    "\n",
    "kernel1 = np.array([[-1,  0,  1],\n",
    "                    [-2,  0,  2],\n",
    "                    [-1,  0,  1]])\n",
    "\n",
    "kernel2 = np.array([[-1, -2, -1],\n",
    "                    [ 0,  0,  0],\n",
    "                    [ 1,  2,  1]])\n",
    "\n",
    "dst1 = cv.filter2D(img, cv.CV_32F, kernel1)\n",
    "dst2 = cv.filter2D(img, cv.CV_32F, kernel2)\n",
    "dst = cv.magnitude(dst1, dst2)\n",
    "\n",
    "cv.imshow('img', img)\n",
    "cv.imshow('dst1', np.abs(dst1).astype(np.uint8))\n",
    "cv.imshow('dst2', np.abs(dst2).astype(np.uint8))\n",
    "cv.imshow('dst', dst.astype(np.uint8))\n",
    "cv.waitKey()\n",
    "cv.destroyAllWindows()"
   ]
  },
  {
   "cell_type": "code",
   "execution_count": null,
   "metadata": {},
   "outputs": [],
   "source": []
  }
 ],
 "metadata": {
  "kernelspec": {
   "display_name": "Python 3",
   "language": "python",
   "name": "python3"
  },
  "language_info": {
   "codemirror_mode": {
    "name": "ipython",
    "version": 3
   },
   "file_extension": ".py",
   "mimetype": "text/x-python",
   "name": "python",
   "nbconvert_exporter": "python",
   "pygments_lexer": "ipython3",
   "version": "3.7.6"
  }
 },
 "nbformat": 4,
 "nbformat_minor": 4
}
