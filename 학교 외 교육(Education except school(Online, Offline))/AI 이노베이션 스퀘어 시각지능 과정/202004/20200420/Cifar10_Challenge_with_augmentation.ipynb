{
 "cells": [
  {
   "cell_type": "code",
   "execution_count": 1,
   "metadata": {
    "colab": {
     "base_uri": "https://localhost:8080/",
     "height": 34
    },
    "colab_type": "code",
    "id": "QHMtnYN4JbzR",
    "outputId": "81bcdb17-4930-4f34-dbb0-2bc1d7c3d852"
   },
   "outputs": [
    {
     "name": "stderr",
     "output_type": "stream",
     "text": [
      "Using TensorFlow backend.\n"
     ]
    }
   ],
   "source": [
    "from __future__ import print_function\n",
    "import warnings\n",
    "\n",
    "warnings.filterwarnings(action='ignore')\n",
    "\n",
    "import keras\n",
    "from keras.datasets import cifar10\n",
    "from keras.preprocessing.image import ImageDataGenerator\n",
    "from keras.models import Sequential\n",
    "from keras.layers import Dense, Dropout, Activation, Flatten\n",
    "from keras.layers import Conv2D, MaxPooling2D, GlobalAveragePooling2D, BatchNormalization\n",
    "import os"
   ]
  },
  {
   "cell_type": "code",
   "execution_count": 2,
   "metadata": {
    "colab": {},
    "colab_type": "code",
    "id": "xN76jTnaJku7"
   },
   "outputs": [],
   "source": [
    "batch_size = 16\n",
    "num_classes = 10\n",
    "epochs = 15\n",
    "\n",
    "(x_train, y_train), (x_test, y_test) = cifar10.load_data()"
   ]
  },
  {
   "cell_type": "code",
   "execution_count": 3,
   "metadata": {
    "colab": {
     "base_uri": "https://localhost:8080/",
     "height": 70
    },
    "colab_type": "code",
    "id": "BuwjP0yeJlyu",
    "outputId": "454023be-ddc3-4517-a41e-b67000f7c0bc"
   },
   "outputs": [
    {
     "name": "stdout",
     "output_type": "stream",
     "text": [
      "x_train shape: (50000, 32, 32, 3)\n",
      "50000 train samples\n",
      "10000 test samples\n",
      "[[6]\n",
      " [9]\n",
      " [9]\n",
      " ...\n",
      " [9]\n",
      " [1]\n",
      " [1]]\n"
     ]
    }
   ],
   "source": [
    "print('x_train shape:', x_train.shape)\n",
    "print(x_train.shape[0], 'train samples')\n",
    "print(x_test.shape[0], 'test samples')\n",
    "print(y_train)"
   ]
  },
  {
   "cell_type": "code",
   "execution_count": 4,
   "metadata": {
    "colab": {},
    "colab_type": "code",
    "id": "ICtLv_uZJoXe"
   },
   "outputs": [],
   "source": [
    "y_train = keras.utils.to_categorical(y_train, num_classes)\n",
    "y_test = keras.utils.to_categorical(y_test, num_classes)"
   ]
  },
  {
   "cell_type": "code",
   "execution_count": 5,
   "metadata": {
    "colab": {
     "base_uri": "https://localhost:8080/",
     "height": 141
    },
    "colab_type": "code",
    "id": "lfuWXdpN6nOr",
    "outputId": "445e4c91-dcdc-4e66-850e-df4c2ea87747"
   },
   "outputs": [
    {
     "data": {
      "text/plain": [
       "array([[0., 0., 0., ..., 0., 0., 0.],\n",
       "       [0., 0., 0., ..., 0., 0., 1.],\n",
       "       [0., 0., 0., ..., 0., 0., 1.],\n",
       "       ...,\n",
       "       [0., 0., 0., ..., 0., 0., 1.],\n",
       "       [0., 1., 0., ..., 0., 0., 0.],\n",
       "       [0., 1., 0., ..., 0., 0., 0.]], dtype=float32)"
      ]
     },
     "execution_count": 5,
     "metadata": {},
     "output_type": "execute_result"
    }
   ],
   "source": [
    "y_train"
   ]
  },
  {
   "cell_type": "code",
   "execution_count": 6,
   "metadata": {
    "colab": {},
    "colab_type": "code",
    "id": "-rfn1qzqJ5dW"
   },
   "outputs": [],
   "source": [
    "x_train = x_train.astype('float32')\n",
    "x_test = x_test.astype('float32')\n",
    "x_train /= 255\n",
    "x_test /= 255"
   ]
  },
  {
   "cell_type": "code",
   "execution_count": 7,
   "metadata": {
    "colab": {
     "base_uri": "https://localhost:8080/",
     "height": 34
    },
    "colab_type": "code",
    "id": "4f8DEhJ6oS1F",
    "outputId": "050fdb67-5af1-479f-ef55-78fa0e433399"
   },
   "outputs": [
    {
     "name": "stdout",
     "output_type": "stream",
     "text": [
      "Using real-time data augmentation.\n"
     ]
    }
   ],
   "source": [
    "print('Using real-time data augmentation.')\n",
    "    # This will do preprocessing and realtime data augmentation:\n",
    "datagen = ImageDataGenerator(\n",
    "    featurewise_center=False,  # set input mean to 0 over the dataset\n",
    "    samplewise_center=False,  # set each sample mean to 0\n",
    "    featurewise_std_normalization=False,  # divide inputs by std of the dataset\n",
    "    samplewise_std_normalization=False,  # divide each input by its std\n",
    "    zca_whitening=False,  # apply ZCA whitening\n",
    "    zca_epsilon=1e-06,  # epsilon for ZCA whitening\n",
    "    rotation_range=60,  # randomly rotate images in the range (degrees, 0 to 180)\n",
    "    # randomly shift images horizontally (fraction of total width)\n",
    "    width_shift_range=0.1,\n",
    "    # randomly shift images vertically (fraction of total height)\n",
    "    height_shift_range=0.3,\n",
    "    shear_range=0.,  # set range for random shear\n",
    "    zoom_range=1.5,  # set range for random zoom\n",
    "    channel_shift_range=0.,  # set range for random channel shifts\n",
    "    # set mode for filling points outside the input boundaries\n",
    "    fill_mode='nearest',\n",
    "    cval=0.,  # value used for fill_mode = \"constant\"\n",
    "    horizontal_flip=True,  # randomly flip images\n",
    "    vertical_flip=True,  # randomly flip images\n",
    "    # set rescaling factor (applied before any other transformation)\n",
    "    rescale=None,\n",
    "    # set function that will be applied on each input\n",
    "    preprocessing_function=None,\n",
    "    # image data format, either \"channels_first\" or \"channels_last\"\n",
    "    data_format=None,\n",
    "    # fraction of images reserved for validation (strictly between 0 and 1)\n",
    "    validation_split=0.0)\n",
    "\n",
    "# Compute quantities required for feature-wise normalization\n",
    "# (std, mean, and principal components if ZCA whitening is applied).\n",
    "datagen.fit(x_train)"
   ]
  },
  {
   "cell_type": "code",
   "execution_count": 8,
   "metadata": {
    "colab": {},
    "colab_type": "code",
    "id": "C2Zt4zUjoYnc"
   },
   "outputs": [],
   "source": [
    "filepath = \"./savemodels/cifar10-model-{epoch:02d}-{val_accuracy:.2f}.hdf5\"\n",
    "checkpoint = keras.callbacks.ModelCheckpoint(filepath, monitor='val_accuracy', verbose=1, save_best_only=True, mode='max')"
   ]
  },
  {
   "cell_type": "code",
   "execution_count": 9,
   "metadata": {
    "colab": {
     "base_uri": "https://localhost:8080/",
     "height": 126
    },
    "colab_type": "code",
    "id": "qMF9TgYlJvFq",
    "outputId": "694eeeea-3527-412d-84d4-8aa161aeffe2"
   },
   "outputs": [],
   "source": [
    "model = Sequential()\n",
    "model.add(Conv2D(32, (3, 3), padding='same',\n",
    "                 input_shape=x_train.shape[1:]))\n",
    "model.add(Activation('relu'))\n",
    "model.add(Conv2D(32, (3, 3)))\n",
    "model.add(Activation('relu'))\n",
    "model.add(MaxPooling2D(pool_size=(2, 2)))\n",
    "model.add(Dropout(0.25))\n",
    "\n",
    "model.add(Conv2D(64, (3, 3), padding='same'))\n",
    "model.add(Activation('relu'))\n",
    "model.add(Conv2D(64, (3, 3)))\n",
    "model.add(Activation('relu'))\n",
    "model.add(MaxPooling2D(pool_size=(2, 2)))\n",
    "model.add(Dropout(0.25))\n",
    "\n",
    "model.add(Flatten())\n",
    "model.add(Dense(512))\n",
    "model.add(Activation('relu'))\n",
    "model.add(Dropout(0.5))\n",
    "model.add(Dense(num_classes))\n",
    "model.add(Activation('softmax'))"
   ]
  },
  {
   "cell_type": "code",
   "execution_count": 10,
   "metadata": {
    "colab": {
     "base_uri": "https://localhost:8080/",
     "height": 587
    },
    "colab_type": "code",
    "id": "tTTlF8aFH4gR",
    "outputId": "a5f07779-ab9d-4ed4-9f0f-2d38e20de85f"
   },
   "outputs": [
    {
     "name": "stdout",
     "output_type": "stream",
     "text": [
      "Model: \"sequential_1\"\n",
      "_________________________________________________________________\n",
      "Layer (type)                 Output Shape              Param #   \n",
      "=================================================================\n",
      "conv2d_1 (Conv2D)            (None, 32, 32, 32)        896       \n",
      "_________________________________________________________________\n",
      "activation_1 (Activation)    (None, 32, 32, 32)        0         \n",
      "_________________________________________________________________\n",
      "conv2d_2 (Conv2D)            (None, 30, 30, 32)        9248      \n",
      "_________________________________________________________________\n",
      "activation_2 (Activation)    (None, 30, 30, 32)        0         \n",
      "_________________________________________________________________\n",
      "max_pooling2d_1 (MaxPooling2 (None, 15, 15, 32)        0         \n",
      "_________________________________________________________________\n",
      "dropout_1 (Dropout)          (None, 15, 15, 32)        0         \n",
      "_________________________________________________________________\n",
      "conv2d_3 (Conv2D)            (None, 15, 15, 64)        18496     \n",
      "_________________________________________________________________\n",
      "activation_3 (Activation)    (None, 15, 15, 64)        0         \n",
      "_________________________________________________________________\n",
      "conv2d_4 (Conv2D)            (None, 13, 13, 64)        36928     \n",
      "_________________________________________________________________\n",
      "activation_4 (Activation)    (None, 13, 13, 64)        0         \n",
      "_________________________________________________________________\n",
      "max_pooling2d_2 (MaxPooling2 (None, 6, 6, 64)          0         \n",
      "_________________________________________________________________\n",
      "dropout_2 (Dropout)          (None, 6, 6, 64)          0         \n",
      "_________________________________________________________________\n",
      "flatten_1 (Flatten)          (None, 2304)              0         \n",
      "_________________________________________________________________\n",
      "dense_1 (Dense)              (None, 512)               1180160   \n",
      "_________________________________________________________________\n",
      "activation_5 (Activation)    (None, 512)               0         \n",
      "_________________________________________________________________\n",
      "dropout_3 (Dropout)          (None, 512)               0         \n",
      "_________________________________________________________________\n",
      "dense_2 (Dense)              (None, 10)                5130      \n",
      "_________________________________________________________________\n",
      "activation_6 (Activation)    (None, 10)                0         \n",
      "=================================================================\n",
      "Total params: 1,250,858\n",
      "Trainable params: 1,250,858\n",
      "Non-trainable params: 0\n",
      "_________________________________________________________________\n"
     ]
    }
   ],
   "source": [
    "model.summary()"
   ]
  },
  {
   "cell_type": "code",
   "execution_count": 11,
   "metadata": {
    "colab": {},
    "colab_type": "code",
    "id": "NT5sENY6KNrG"
   },
   "outputs": [],
   "source": [
    "opt = keras.optimizers.rmsprop(lr=0.0001, decay=1e-6)"
   ]
  },
  {
   "cell_type": "code",
   "execution_count": 12,
   "metadata": {
    "colab": {},
    "colab_type": "code",
    "id": "9IeXOhUUon7i"
   },
   "outputs": [],
   "source": [
    "model.compile(loss='categorical_crossentropy',\n",
    "              optimizer=opt,\n",
    "              metrics=['accuracy'])"
   ]
  },
  {
   "cell_type": "code",
   "execution_count": 13,
   "metadata": {
    "colab": {
     "base_uri": "https://localhost:8080/",
     "height": 1000
    },
    "colab_type": "code",
    "id": "Zd1E5FY4JqQG",
    "outputId": "93c07995-4915-4f76-cf46-ec6407250a09",
    "scrolled": true
   },
   "outputs": [
    {
     "name": "stdout",
     "output_type": "stream",
     "text": [
      "Epoch 1/15\n",
      "3125/3125 [==============================] - 121s 39ms/step - loss: 2.0728 - accuracy: 0.2186 - val_loss: 1.8797 - val_accuracy: 0.3313\n",
      "\n",
      "Epoch 00001: val_accuracy improved from -inf to 0.33130, saving model to ./savemodels/cifar10-model-01-0.33.hdf5\n",
      "Epoch 2/15\n",
      "3125/3125 [==============================] - 121s 39ms/step - loss: 1.9830 - accuracy: 0.2645 - val_loss: 1.7935 - val_accuracy: 0.3555\n",
      "\n",
      "Epoch 00002: val_accuracy improved from 0.33130 to 0.35550, saving model to ./savemodels/cifar10-model-02-0.36.hdf5\n",
      "Epoch 3/15\n",
      "3125/3125 [==============================] - 121s 39ms/step - loss: 1.9459 - accuracy: 0.2833 - val_loss: 1.7590 - val_accuracy: 0.3727\n",
      "\n",
      "Epoch 00003: val_accuracy improved from 0.35550 to 0.37270, saving model to ./savemodels/cifar10-model-03-0.37.hdf5\n",
      "Epoch 4/15\n",
      "3125/3125 [==============================] - 121s 39ms/step - loss: 1.9163 - accuracy: 0.2987 - val_loss: 1.7871 - val_accuracy: 0.3518\n",
      "\n",
      "Epoch 00004: val_accuracy did not improve from 0.37270\n",
      "Epoch 5/15\n",
      "3125/3125 [==============================] - 121s 39ms/step - loss: 1.8980 - accuracy: 0.3059 - val_loss: 1.6900 - val_accuracy: 0.3967\n",
      "\n",
      "Epoch 00005: val_accuracy improved from 0.37270 to 0.39670, saving model to ./savemodels/cifar10-model-05-0.40.hdf5\n",
      "Epoch 6/15\n",
      "3125/3125 [==============================] - 121s 39ms/step - loss: 1.8806 - accuracy: 0.3143 - val_loss: 1.6877 - val_accuracy: 0.3941\n",
      "\n",
      "Epoch 00006: val_accuracy did not improve from 0.39670\n",
      "Epoch 7/15\n",
      "3125/3125 [==============================] - 122s 39ms/step - loss: 1.8632 - accuracy: 0.3218 - val_loss: 1.6762 - val_accuracy: 0.3963\n",
      "\n",
      "Epoch 00007: val_accuracy did not improve from 0.39670\n",
      "Epoch 8/15\n",
      "3125/3125 [==============================] - 122s 39ms/step - loss: 1.8539 - accuracy: 0.3247 - val_loss: 1.6426 - val_accuracy: 0.4110\n",
      "\n",
      "Epoch 00008: val_accuracy improved from 0.39670 to 0.41100, saving model to ./savemodels/cifar10-model-08-0.41.hdf5\n",
      "Epoch 9/15\n",
      "3125/3125 [==============================] - 122s 39ms/step - loss: 1.8460 - accuracy: 0.3288 - val_loss: 1.7073 - val_accuracy: 0.3960\n",
      "\n",
      "Epoch 00009: val_accuracy did not improve from 0.41100\n",
      "Epoch 10/15\n",
      "3125/3125 [==============================] - 123s 39ms/step - loss: 1.8359 - accuracy: 0.3331 - val_loss: 1.6715 - val_accuracy: 0.4138\n",
      "\n",
      "Epoch 00010: val_accuracy improved from 0.41100 to 0.41380, saving model to ./savemodels/cifar10-model-10-0.41.hdf5\n",
      "Epoch 11/15\n",
      "3125/3125 [==============================] - 122s 39ms/step - loss: 1.8299 - accuracy: 0.3357 - val_loss: 1.6618 - val_accuracy: 0.4246\n",
      "\n",
      "Epoch 00011: val_accuracy improved from 0.41380 to 0.42460, saving model to ./savemodels/cifar10-model-11-0.42.hdf5\n",
      "Epoch 12/15\n",
      "3125/3125 [==============================] - 122s 39ms/step - loss: 1.8303 - accuracy: 0.3376 - val_loss: 1.6354 - val_accuracy: 0.4210\n",
      "\n",
      "Epoch 00012: val_accuracy did not improve from 0.42460\n",
      "Epoch 13/15\n",
      "3125/3125 [==============================] - 121s 39ms/step - loss: 1.8264 - accuracy: 0.3389 - val_loss: 1.6559 - val_accuracy: 0.4060\n",
      "\n",
      "Epoch 00013: val_accuracy did not improve from 0.42460\n",
      "Epoch 14/15\n",
      "3125/3125 [==============================] - 118s 38ms/step - loss: 1.8209 - accuracy: 0.3395 - val_loss: 1.5862 - val_accuracy: 0.4338\n",
      "\n",
      "Epoch 00014: val_accuracy improved from 0.42460 to 0.43380, saving model to ./savemodels/cifar10-model-14-0.43.hdf5\n",
      "Epoch 15/15\n",
      "3125/3125 [==============================] - 117s 38ms/step - loss: 1.8229 - accuracy: 0.3391 - val_loss: 1.6355 - val_accuracy: 0.4149\n",
      "\n",
      "Epoch 00015: val_accuracy did not improve from 0.43380\n"
     ]
    }
   ],
   "source": [
    "history = model.fit_generator(datagen.flow(x_train, y_train,\n",
    "                                     batch_size=batch_size),\n",
    "                        epochs=epochs,\n",
    "                        validation_data=(x_test, y_test),\n",
    "                        workers=4, callbacks=[checkpoint])"
   ]
  },
  {
   "cell_type": "code",
   "execution_count": 16,
   "metadata": {
    "colab": {},
    "colab_type": "code",
    "id": "KAnM6dDEKPMu"
   },
   "outputs": [],
   "source": [
    "epochs_range = range(15)\n",
    "validation_accuracy = history.history['val_accuracy']\n",
    "training_accuracy = history.history['accuracy']"
   ]
  },
  {
   "cell_type": "code",
   "execution_count": 17,
   "metadata": {
    "colab": {
     "base_uri": "https://localhost:8080/",
     "height": 279
    },
    "colab_type": "code",
    "id": "AUEiUJm3KUbR",
    "outputId": "be06d2e4-e461-49ad-a9c8-b7d99cdc3ebf"
   },
   "outputs": [
    {
     "data": {
      "image/png": "[encoded data removed]",
      "text/plain": [
       "<Figure size 432x288 with 1 Axes>"
      ]
     },
     "metadata": {
      "needs_background": "light"
     },
     "output_type": "display_data"
    }
   ],
   "source": [
    "import matplotlib.pyplot as plt\n",
    "\n",
    "plt.plot(epochs_range, training_accuracy, 'b+', label='training accuracy')\n",
    "plt.plot(epochs_range, validation_accuracy, 'bo', label='validation accuracy')\n",
    "plt.xlabel('Epochs')\n",
    "plt.ylabel('Validation accuracy')\n",
    "plt.legend()\n",
    "plt.show()"
   ]
  },
  {
   "cell_type": "code",
   "execution_count": 18,
   "metadata": {
    "colab": {
     "base_uri": "https://localhost:8080/",
     "height": 70
    },
    "colab_type": "code",
    "id": "aU9keG2bKY9j",
    "outputId": "02b4cfb8-045b-4beb-c032-9503e96b558a"
   },
   "outputs": [
    {
     "name": "stdout",
     "output_type": "stream",
     "text": [
      "10000/10000 [==============================] - 3s 320us/step\n",
      "Test loss: 1.6354773641586304\n",
      "Test accuracy: 0.414900004863739\n"
     ]
    }
   ],
   "source": [
    "scores = model.evaluate(x_test, y_test, verbose=1)\n",
    "\n",
    "print('Test loss:', scores[0])\n",
    "print('Test accuracy:', scores[1])"
   ]
  }
 ],
 "metadata": {
  "accelerator": "GPU",
  "colab": {
   "collapsed_sections": [],
   "name": "Cifar10_Challenge_with_augmentation.ipynb",
   "provenance": []
  },
  "kernelspec": {
   "display_name": "Python 3",
   "language": "python",
   "name": "python3"
  },
  "language_info": {
   "codemirror_mode": {
    "name": "ipython",
    "version": 3
   },
   "file_extension": ".py",
   "mimetype": "text/x-python",
   "name": "python",
   "nbconvert_exporter": "python",
   "pygments_lexer": "ipython3",
   "version": "3.7.6"
  }
 },
 "nbformat": 4,
 "nbformat_minor": 1
}
