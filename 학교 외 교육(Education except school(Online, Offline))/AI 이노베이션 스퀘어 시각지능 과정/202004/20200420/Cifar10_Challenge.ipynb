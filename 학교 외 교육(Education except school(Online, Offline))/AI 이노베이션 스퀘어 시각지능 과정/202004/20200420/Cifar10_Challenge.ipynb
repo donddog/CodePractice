{
 "cells": [
  {
   "cell_type": "code",
   "execution_count": 1,
   "metadata": {
    "colab": {
     "base_uri": "https://localhost:8080/",
     "height": 34
    },
    "colab_type": "code",
    "collapsed": true,
    "id": "QHMtnYN4JbzR",
    "outputId": "53ff1f3f-889b-4077-d180-c71fdbfff49e"
   },
   "outputs": [
    {
     "name": "stderr",
     "output_type": "stream",
     "text": [
      "Using TensorFlow backend.\n",
      "C:\\Anaconda\\lib\\site-packages\\tensorflow\\python\\framework\\dtypes.py:516: FutureWarning: Passing (type, 1) or '1type' as a synonym of type is deprecated; in a future version of numpy, it will be understood as (type, (1,)) / '(1,)type'.\n",
      "  _np_qint8 = np.dtype([(\"qint8\", np.int8, 1)])\n",
      "C:\\Anaconda\\lib\\site-packages\\tensorflow\\python\\framework\\dtypes.py:517: FutureWarning: Passing (type, 1) or '1type' as a synonym of type is deprecated; in a future version of numpy, it will be understood as (type, (1,)) / '(1,)type'.\n",
      "  _np_quint8 = np.dtype([(\"quint8\", np.uint8, 1)])\n",
      "C:\\Anaconda\\lib\\site-packages\\tensorflow\\python\\framework\\dtypes.py:518: FutureWarning: Passing (type, 1) or '1type' as a synonym of type is deprecated; in a future version of numpy, it will be understood as (type, (1,)) / '(1,)type'.\n",
      "  _np_qint16 = np.dtype([(\"qint16\", np.int16, 1)])\n",
      "C:\\Anaconda\\lib\\site-packages\\tensorflow\\python\\framework\\dtypes.py:519: FutureWarning: Passing (type, 1) or '1type' as a synonym of type is deprecated; in a future version of numpy, it will be understood as (type, (1,)) / '(1,)type'.\n",
      "  _np_quint16 = np.dtype([(\"quint16\", np.uint16, 1)])\n",
      "C:\\Anaconda\\lib\\site-packages\\tensorflow\\python\\framework\\dtypes.py:520: FutureWarning: Passing (type, 1) or '1type' as a synonym of type is deprecated; in a future version of numpy, it will be understood as (type, (1,)) / '(1,)type'.\n",
      "  _np_qint32 = np.dtype([(\"qint32\", np.int32, 1)])\n",
      "C:\\Anaconda\\lib\\site-packages\\tensorflow\\python\\framework\\dtypes.py:525: FutureWarning: Passing (type, 1) or '1type' as a synonym of type is deprecated; in a future version of numpy, it will be understood as (type, (1,)) / '(1,)type'.\n",
      "  np_resource = np.dtype([(\"resource\", np.ubyte, 1)])\n",
      "C:\\Anaconda\\lib\\site-packages\\tensorboard\\compat\\tensorflow_stub\\dtypes.py:541: FutureWarning: Passing (type, 1) or '1type' as a synonym of type is deprecated; in a future version of numpy, it will be understood as (type, (1,)) / '(1,)type'.\n",
      "  _np_qint8 = np.dtype([(\"qint8\", np.int8, 1)])\n",
      "C:\\Anaconda\\lib\\site-packages\\tensorboard\\compat\\tensorflow_stub\\dtypes.py:542: FutureWarning: Passing (type, 1) or '1type' as a synonym of type is deprecated; in a future version of numpy, it will be understood as (type, (1,)) / '(1,)type'.\n",
      "  _np_quint8 = np.dtype([(\"quint8\", np.uint8, 1)])\n",
      "C:\\Anaconda\\lib\\site-packages\\tensorboard\\compat\\tensorflow_stub\\dtypes.py:543: FutureWarning: Passing (type, 1) or '1type' as a synonym of type is deprecated; in a future version of numpy, it will be understood as (type, (1,)) / '(1,)type'.\n",
      "  _np_qint16 = np.dtype([(\"qint16\", np.int16, 1)])\n",
      "C:\\Anaconda\\lib\\site-packages\\tensorboard\\compat\\tensorflow_stub\\dtypes.py:544: FutureWarning: Passing (type, 1) or '1type' as a synonym of type is deprecated; in a future version of numpy, it will be understood as (type, (1,)) / '(1,)type'.\n",
      "  _np_quint16 = np.dtype([(\"quint16\", np.uint16, 1)])\n",
      "C:\\Anaconda\\lib\\site-packages\\tensorboard\\compat\\tensorflow_stub\\dtypes.py:545: FutureWarning: Passing (type, 1) or '1type' as a synonym of type is deprecated; in a future version of numpy, it will be understood as (type, (1,)) / '(1,)type'.\n",
      "  _np_qint32 = np.dtype([(\"qint32\", np.int32, 1)])\n",
      "C:\\Anaconda\\lib\\site-packages\\tensorboard\\compat\\tensorflow_stub\\dtypes.py:550: FutureWarning: Passing (type, 1) or '1type' as a synonym of type is deprecated; in a future version of numpy, it will be understood as (type, (1,)) / '(1,)type'.\n",
      "  np_resource = np.dtype([(\"resource\", np.ubyte, 1)])\n"
     ]
    }
   ],
   "source": [
    "from __future__ import print_function\n",
    "import keras\n",
    "from keras.datasets import cifar10\n",
    "from keras.preprocessing.image import ImageDataGenerator\n",
    "from keras.models import Sequential\n",
    "from keras.layers import Dense, Dropout, Activation, Flatten\n",
    "from keras.layers import Conv2D, MaxPooling2D, GlobalAveragePooling2D, BatchNormalization\n",
    "import os\n",
    "import warnings\n",
    "\n",
    "warnings.filterwarnings(action='ignore')"
   ]
  },
  {
   "cell_type": "code",
   "execution_count": 2,
   "metadata": {
    "colab": {},
    "colab_type": "code",
    "id": "xN76jTnaJku7"
   },
   "outputs": [],
   "source": [
    "batch_size = 16\n",
    "num_classes = 10\n",
    "epochs = 25"
   ]
  },
  {
   "cell_type": "code",
   "execution_count": 3,
   "metadata": {
    "colab": {
     "base_uri": "https://localhost:8080/",
     "height": 105
    },
    "colab_type": "code",
    "id": "BuwjP0yeJlyu",
    "outputId": "261cf588-746a-437c-c46a-d8e3cea60572"
   },
   "outputs": [
    {
     "name": "stdout",
     "output_type": "stream",
     "text": [
      "Downloading data from https://www.cs.toronto.edu/~kriz/cifar-10-python.tar.gz\n",
      "170500096/170498071 [==============================] - 674s 4us/step\n",
      "x_train shape: (50000, 32, 32, 3)\n",
      "50000 train samples\n",
      "10000 test samples\n"
     ]
    }
   ],
   "source": [
    "(x_train, y_train), (x_test, y_test) = cifar10.load_data()\n",
    "\n",
    "print('x_train shape:', x_train.shape)\n",
    "print(x_train.shape[0], 'train samples')\n",
    "print(x_test.shape[0], 'test samples')"
   ]
  },
  {
   "cell_type": "code",
   "execution_count": 4,
   "metadata": {
    "colab": {},
    "colab_type": "code",
    "id": "ICtLv_uZJoXe"
   },
   "outputs": [],
   "source": [
    "y_train = keras.utils.to_categorical(y_train, num_classes)\n",
    "y_test = keras.utils.to_categorical(y_test, num_classes)"
   ]
  },
  {
   "cell_type": "code",
   "execution_count": 5,
   "metadata": {
    "colab": {},
    "colab_type": "code",
    "id": "-rfn1qzqJ5dW"
   },
   "outputs": [],
   "source": [
    "x_train = x_train.astype('float32')\n",
    "x_test = x_test.astype('float32')\n",
    "x_train /= 255\n",
    "x_test /= 255"
   ]
  },
  {
   "cell_type": "code",
   "execution_count": 6,
   "metadata": {
    "colab": {
     "base_uri": "https://localhost:8080/",
     "height": 498
    },
    "colab_type": "code",
    "id": "qMF9TgYlJvFq",
    "outputId": "fee3bcc3-9310-4860-9232-a0a3e40cca1f"
   },
   "outputs": [
    {
     "name": "stdout",
     "output_type": "stream",
     "text": [
      "WARNING:tensorflow:From C:\\Anaconda\\lib\\site-packages\\keras\\backend\\tensorflow_backend.py:4070: The name tf.nn.max_pool is deprecated. Please use tf.nn.max_pool2d instead.\n",
      "\n"
     ]
    }
   ],
   "source": [
    "n_kernels = 32\n",
    "model = Sequential()\n",
    "\n",
    "model.add(Conv2D(n_kernels, (3,3), activation='relu', kernel_initializer='he_normal', padding='valid', input_shape=(32, 32, 3)))\n",
    "model.add(Conv2D(n_kernels*2, (3, 3), activation='relu', kernel_initializer='he_normal', padding='valid'))\n",
    "model.add(BatchNormalization())\n",
    "model.add(MaxPooling2D())\n",
    "\n",
    "model.add(Conv2D(n_kernels*2, (3,3), activation='relu', kernel_initializer='he_normal', padding='valid'))\n",
    "model.add(Conv2D(n_kernels*4, (3, 3), activation='relu', kernel_initializer='he_normal', padding='valid'))\n",
    "model.add(BatchNormalization())\n",
    "model.add(MaxPooling2D())\n",
    "\n",
    "model.add(Conv2D(n_kernels*8, (3,3), activation='relu', kernel_initializer='he_normal', padding='valid'))\n",
    "model.add(BatchNormalization())\n",
    "model.add(GlobalAveragePooling2D())\n",
    "model.add(Dense(10, activation='softmax', kernel_initializer='glorot_uniform'))"
   ]
  },
  {
   "cell_type": "code",
   "execution_count": 7,
   "metadata": {
    "colab": {
     "base_uri": "https://localhost:8080/",
     "height": 585
    },
    "colab_type": "code",
    "id": "tTTlF8aFH4gR",
    "outputId": "2018e4ba-c46c-47f2-9b39-ffabf5b04179"
   },
   "outputs": [
    {
     "name": "stdout",
     "output_type": "stream",
     "text": [
      "Model: \"sequential_1\"\n",
      "_________________________________________________________________\n",
      "Layer (type)                 Output Shape              Param #   \n",
      "=================================================================\n",
      "conv2d_1 (Conv2D)            (None, 30, 30, 32)        896       \n",
      "_________________________________________________________________\n",
      "conv2d_2 (Conv2D)            (None, 28, 28, 64)        18496     \n",
      "_________________________________________________________________\n",
      "batch_normalization_1 (Batch (None, 28, 28, 64)        256       \n",
      "_________________________________________________________________\n",
      "max_pooling2d_1 (MaxPooling2 (None, 14, 14, 64)        0         \n",
      "_________________________________________________________________\n",
      "conv2d_3 (Conv2D)            (None, 12, 12, 64)        36928     \n",
      "_________________________________________________________________\n",
      "conv2d_4 (Conv2D)            (None, 10, 10, 128)       73856     \n",
      "_________________________________________________________________\n",
      "batch_normalization_2 (Batch (None, 10, 10, 128)       512       \n",
      "_________________________________________________________________\n",
      "max_pooling2d_2 (MaxPooling2 (None, 5, 5, 128)         0         \n",
      "_________________________________________________________________\n",
      "conv2d_5 (Conv2D)            (None, 3, 3, 256)         295168    \n",
      "_________________________________________________________________\n",
      "batch_normalization_3 (Batch (None, 3, 3, 256)         1024      \n",
      "_________________________________________________________________\n",
      "global_average_pooling2d_1 ( (None, 256)               0         \n",
      "_________________________________________________________________\n",
      "dense_1 (Dense)              (None, 10)                2570      \n",
      "=================================================================\n",
      "Total params: 429,706\n",
      "Trainable params: 428,810\n",
      "Non-trainable params: 896\n",
      "_________________________________________________________________\n"
     ]
    }
   ],
   "source": [
    "model.summary()"
   ]
  },
  {
   "cell_type": "code",
   "execution_count": 8,
   "metadata": {
    "colab": {},
    "colab_type": "code",
    "id": "NT5sENY6KNrG"
   },
   "outputs": [],
   "source": [
    "opt = keras.optimizers.rmsprop(lr=0.0001, decay=1e-6)"
   ]
  },
  {
   "cell_type": "code",
   "execution_count": 9,
   "metadata": {
    "colab": {
     "base_uri": "https://localhost:8080/",
     "height": 107
    },
    "colab_type": "code",
    "id": "Zd1E5FY4JqQG",
    "outputId": "2c6df58c-5ee1-4d15-e0fb-62fc2e69081f"
   },
   "outputs": [],
   "source": [
    "model.compile(loss='categorical_crossentropy',\n",
    "              optimizer=opt,\n",
    "              metrics=['accuracy'])"
   ]
  },
  {
   "cell_type": "code",
   "execution_count": 10,
   "metadata": {
    "colab": {
     "base_uri": "https://localhost:8080/",
     "height": 923
    },
    "colab_type": "code",
    "id": "lkA0Pd6vJ_IO",
    "outputId": "4d51de91-364e-40f8-8bf8-c8dd6128948c"
   },
   "outputs": [
    {
     "name": "stdout",
     "output_type": "stream",
     "text": [
      "WARNING:tensorflow:From C:\\Anaconda\\lib\\site-packages\\keras\\backend\\tensorflow_backend.py:422: The name tf.global_variables is deprecated. Please use tf.compat.v1.global_variables instead.\n",
      "\n",
      "Train on 50000 samples, validate on 10000 samples\n",
      "Epoch 1/25\n",
      "50000/50000 [==============================] - 21s 427us/step - loss: 1.3706 - accuracy: 0.5153 - val_loss: 1.2237 - val_accuracy: 0.5797\n",
      "Epoch 2/25\n",
      "50000/50000 [==============================] - 18s 369us/step - loss: 1.0449 - accuracy: 0.6370 - val_loss: 1.0535 - val_accuracy: 0.6327\n",
      "Epoch 3/25\n",
      "50000/50000 [==============================] - 19s 378us/step - loss: 0.9076 - accuracy: 0.6889 - val_loss: 0.9448 - val_accuracy: 0.6651\n",
      "Epoch 4/25\n",
      "50000/50000 [==============================] - 19s 379us/step - loss: 0.8133 - accuracy: 0.7179 - val_loss: 0.8497 - val_accuracy: 0.7091\n",
      "Epoch 5/25\n",
      "50000/50000 [==============================] - 19s 380us/step - loss: 0.7337 - accuracy: 0.7479 - val_loss: 0.8348 - val_accuracy: 0.7191\n",
      "Epoch 6/25\n",
      "50000/50000 [==============================] - 19s 388us/step - loss: 0.6708 - accuracy: 0.7732 - val_loss: 0.8082 - val_accuracy: 0.7207\n",
      "Epoch 7/25\n",
      "50000/50000 [==============================] - 20s 407us/step - loss: 0.6130 - accuracy: 0.7918 - val_loss: 0.9318 - val_accuracy: 0.6952\n",
      "Epoch 8/25\n",
      "50000/50000 [==============================] - 20s 395us/step - loss: 0.5656 - accuracy: 0.8101 - val_loss: 0.8217 - val_accuracy: 0.7213\n",
      "Epoch 9/25\n",
      "50000/50000 [==============================] - 19s 374us/step - loss: 0.5133 - accuracy: 0.8296 - val_loss: 0.7989 - val_accuracy: 0.7329\n",
      "Epoch 10/25\n",
      "50000/50000 [==============================] - 19s 375us/step - loss: 0.4731 - accuracy: 0.8447 - val_loss: 0.7972 - val_accuracy: 0.7374\n",
      "Epoch 11/25\n",
      "50000/50000 [==============================] - 18s 362us/step - loss: 0.4295 - accuracy: 0.8588 - val_loss: 0.7611 - val_accuracy: 0.7560\n",
      "Epoch 12/25\n",
      "50000/50000 [==============================] - 19s 377us/step - loss: 0.3905 - accuracy: 0.8718 - val_loss: 0.8068 - val_accuracy: 0.7471\n",
      "Epoch 13/25\n",
      "50000/50000 [==============================] - 19s 374us/step - loss: 0.3538 - accuracy: 0.8840 - val_loss: 0.7587 - val_accuracy: 0.7538\n",
      "Epoch 14/25\n",
      "50000/50000 [==============================] - 18s 367us/step - loss: 0.3200 - accuracy: 0.8968 - val_loss: 0.7514 - val_accuracy: 0.7606\n",
      "Epoch 15/25\n",
      "50000/50000 [==============================] - 19s 383us/step - loss: 0.2874 - accuracy: 0.9087 - val_loss: 0.8132 - val_accuracy: 0.7591\n",
      "Epoch 16/25\n",
      "50000/50000 [==============================] - 19s 377us/step - loss: 0.2604 - accuracy: 0.9186 - val_loss: 0.8591 - val_accuracy: 0.7415\n",
      "Epoch 17/25\n",
      "50000/50000 [==============================] - 18s 366us/step - loss: 0.2334 - accuracy: 0.9277 - val_loss: 0.8244 - val_accuracy: 0.7544\n",
      "Epoch 18/25\n",
      "50000/50000 [==============================] - 19s 377us/step - loss: 0.2118 - accuracy: 0.9343 - val_loss: 0.8445 - val_accuracy: 0.7537\n",
      "Epoch 19/25\n",
      "50000/50000 [==============================] - 19s 384us/step - loss: 0.1927 - accuracy: 0.9403 - val_loss: 0.8858 - val_accuracy: 0.7424\n",
      "Epoch 20/25\n",
      "50000/50000 [==============================] - 19s 378us/step - loss: 0.1703 - accuracy: 0.9497 - val_loss: 0.8958 - val_accuracy: 0.7459\n",
      "Epoch 21/25\n",
      "50000/50000 [==============================] - 19s 389us/step - loss: 0.1552 - accuracy: 0.9539 - val_loss: 0.8438 - val_accuracy: 0.7615\n",
      "Epoch 22/25\n",
      "50000/50000 [==============================] - 19s 379us/step - loss: 0.1418 - accuracy: 0.9571 - val_loss: 0.9515 - val_accuracy: 0.7429\n",
      "Epoch 23/25\n",
      "50000/50000 [==============================] - 19s 377us/step - loss: 0.1300 - accuracy: 0.9608 - val_loss: 0.8747 - val_accuracy: 0.7513\n",
      "Epoch 24/25\n",
      "50000/50000 [==============================] - 19s 384us/step - loss: 0.1175 - accuracy: 0.9655 - val_loss: 0.9151 - val_accuracy: 0.7555\n",
      "Epoch 25/25\n",
      "50000/50000 [==============================] - 18s 369us/step - loss: 0.1063 - accuracy: 0.9691 - val_loss: 0.9349 - val_accuracy: 0.7596\n"
     ]
    }
   ],
   "source": [
    "trained_model = model.fit(x_train, y_train,\n",
    "          batch_size=batch_size,\n",
    "          epochs=epochs,\n",
    "          validation_data=(x_test, y_test),\n",
    "          shuffle=True)"
   ]
  },
  {
   "cell_type": "code",
   "execution_count": 12,
   "metadata": {
    "colab": {},
    "colab_type": "code",
    "id": "KAnM6dDEKPMu"
   },
   "outputs": [],
   "source": [
    "epochs_range = range(25)\n",
    "validation_accuracy = trained_model.history['val_accuracy']\n",
    "training_accuracy = trained_model.history['accuracy']"
   ]
  },
  {
   "cell_type": "code",
   "execution_count": 13,
   "metadata": {
    "colab": {
     "base_uri": "https://localhost:8080/",
     "height": 283
    },
    "colab_type": "code",
    "id": "AUEiUJm3KUbR",
    "outputId": "38dd342f-67e2-4203-bd53-d65892eaebd8"
   },
   "outputs": [
    {
     "data": {
      "image/png": "[encoded data removed]",
      "text/plain": [
       "<Figure size 432x288 with 1 Axes>"
      ]
     },
     "metadata": {
      "needs_background": "light"
     },
     "output_type": "display_data"
    }
   ],
   "source": [
    "import matplotlib.pyplot as plt\n",
    "\n",
    "plt.plot(epochs_range, training_accuracy, 'b+', label='training accuracy')\n",
    "plt.plot(epochs_range, validation_accuracy, 'bo', label='validation accuracy')\n",
    "plt.xlabel('Epochs')\n",
    "plt.ylabel('Validation accuracy')\n",
    "plt.legend()\n",
    "plt.show()"
   ]
  },
  {
   "cell_type": "code",
   "execution_count": 14,
   "metadata": {
    "colab": {
     "base_uri": "https://localhost:8080/",
     "height": 70
    },
    "colab_type": "code",
    "id": "aU9keG2bKY9j",
    "outputId": "02b4cfb8-045b-4beb-c032-9503e96b558a"
   },
   "outputs": [
    {
     "name": "stdout",
     "output_type": "stream",
     "text": [
      "10000/10000 [==============================] - 1s 87us/step\n",
      "Test loss: 0.9349381753444672\n",
      "Test accuracy: 0.7595999836921692\n"
     ]
    }
   ],
   "source": [
    "scores = model.evaluate(x_test, y_test, verbose=1)\n",
    "\n",
    "print('Test loss:', scores[0])\n",
    "print('Test accuracy:', scores[1])"
   ]
  },
  {
   "cell_type": "code",
   "execution_count": null,
   "metadata": {
    "colab": {},
    "colab_type": "code",
    "id": "iTMyetH0fIRD"
   },
   "outputs": [],
   "source": []
  }
 ],
 "metadata": {
  "accelerator": "GPU",
  "colab": {
   "collapsed_sections": [],
   "name": "Cifar10_Challenge.ipynb",
   "provenance": []
  },
  "kernelspec": {
   "display_name": "Python 3",
   "language": "python",
   "name": "python3"
  },
  "language_info": {
   "codemirror_mode": {
    "name": "ipython",
    "version": 3
   },
   "file_extension": ".py",
   "mimetype": "text/x-python",
   "name": "python",
   "nbconvert_exporter": "python",
   "pygments_lexer": "ipython3",
   "version": "3.7.6"
  }
 },
 "nbformat": 4,
 "nbformat_minor": 1
}
