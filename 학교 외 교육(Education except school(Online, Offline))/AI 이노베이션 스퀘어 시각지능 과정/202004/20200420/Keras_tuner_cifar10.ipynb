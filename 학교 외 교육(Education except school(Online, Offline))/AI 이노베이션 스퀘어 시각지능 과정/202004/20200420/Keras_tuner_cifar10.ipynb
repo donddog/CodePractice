{
 "cells": [
  {
   "cell_type": "code",
   "execution_count": 1,
   "metadata": {
    "colab": {
     "base_uri": "https://localhost:8080/",
     "height": 1000,
     "referenced_widgets": [
      "ce53dffe9ec8456799b04ad24e46787f",
      "33321df07856493297cfdb4c4c852b31",
      "63e40c6d045c4ceba1d36c2b6251394e",
      "9ccb6e938ded4f95ab485b81479fd0c6",
      "82716321714340a09493e7a256af5fc1",
      "6c85fd86c5714984ab43ad3f7810242f",
      "5b0d337ceca543499afeeb5f5b2c4b84",
      "249ce4ad331c4f00b67155dc11fc9101",
      "d3f22249cd6b481d9897a0b57a3663f1",
      "4b4b892f04f340cabe75bc8fe7b97960",
      "18e19437c3ee4c228c5f6fc26cc8040e",
      "be721763a06848b2853a5ca087fbdfc3",
      "e8a5998aa9564591987d89e643f0b714",
      "6894236599da4ea4ab9905d3274873e7",
      "949221a74cda49928cd0aad48e87529a",
      "146427fd59b04ee18546f9704fbc59df",
      "593e7456c8f542938e3b854cef2ab4a3",
      "d35f9782597d476cb401f2141a1d1f2d",
      "40574fb28c47479bad37d9b06ac834c9",
      "d9d8f62957bb4b3eb49c98b4713c5d86",
      "2a0a1fd202074d9bb8a50e69e1b0dffe",
      "444147034bcc48acbf011e3af4dc3fe8",
      "01d5e83d7fd8444688632e8fc4a9b05d",
      "655b049eec844d309b77343b0dcaaf66",
      "dcaeb8e9b3fa46459e62f9130dcc85a7",
      "9c412395930a47ac90d99dea534b2b40",
      "725586870dec47a08d7ebdbc3cd1a75b",
      "adb805fee98e4442ba45b453303e2989",
      "36ae749f2755420bbf66d054651c4daf",
      "7c25a0a973ce4e1db9c7cef605abe32d",
      "d701a82991eb45b2a4d8414059dd77d1",
      "aedd28ea4ada4055a3bc72767caccbbe",
      "c63ac831fb98466f867dc2887bda1b0f",
      "df85a1e375414a6980c3af602a79f916",
      "f73291b900274619b537b391af07a19d",
      "40a8a404d12e46b4a5de0bba58adbc3b",
      "69082f5fc2c941339c3a0b480a35d821",
      "79b1af3485d64c83b7c1c3f83dd189a3",
      "765ec55e8f9247bf8dcc4f56f9b9a22e",
      "0ee03baa84d74bf9bfcb0b1cad1484b8",
      "44f0e7232802459790b6e2b4609173b9",
      "21a3e7970a2143f2884ddf98035eef2d",
      "815d04d05eb14d0582328d4ec2201ce1",
      "6dd1e59992954e64a421af33a2e74b84",
      "ec3d27de205b46768882caec36dfb8cc",
      "3831e0448f50455b921da92249ae344a",
      "8b2339db8ef0407c998c8e90aa2bf4fb",
      "cfa16a6ed12441bf84f0c6887a43a100",
      "2f6b5ffe2d7d461c9213dd6586c64998",
      "12f792b326ce4e45989fb20cb757854f",
      "3a03a4c11b9c4c4da62255cf344d3860",
      "06e5b87b05c6445fa5b0f19ae7b75b63",
      "906e49b4966b4db3a8ac5bad93589195",
      "150f6e036dbe4e2aad5d50a5fc5b9fc2",
      "4b76781d9dc74beeb6868662e9d0096e",
      "b3598b6bdada4d769ea70eb2eb9ff3b2"
     ]
    },
    "colab_type": "code",
    "id": "ZcBKlOXWEoVW",
    "outputId": "23a5c190-b9f8-4fb2-8886-90673b0952cf",
    "scrolled": true
   },
   "outputs": [
    {
     "name": "stdout",
     "output_type": "stream",
     "text": [
      "INFO:tensorflow:Reloading Oracle from existing project .\\untitled_project\\oracle.json\n",
      "Epoch 1/2\n"
     ]
    },
    {
     "name": "stdout",
     "output_type": "stream",
     "text": [
      "    166/Unknown - 3s 3s/step - loss: 2.4474 - accuracy: 0.07 - 4s 2s/step - loss: 2.4367 - accuracy: 0.09 - 5s 2s/step - loss: 2.3744 - accuracy: 0.09 - 6s 1s/step - loss: 2.3858 - accuracy: 0.10 - 7s 1s/step - loss: 2.3856 - accuracy: 0.09 - 8s 1s/step - loss: 2.3650 - accuracy: 0.09 - 9s 1s/step - loss: 2.3763 - accuracy: 0.09 - 9s 1s/step - loss: 2.3683 - accuracy: 0.09 - 10s 1s/step - loss: 2.3611 - accuracy: 0.097 - 11s 1s/step - loss: 2.3606 - accuracy: 0.093 - 12s 1s/step - loss: 2.3556 - accuracy: 0.098 - 13s 1s/step - loss: 2.3496 - accuracy: 0.106 - 14s 1s/step - loss: 2.3469 - accuracy: 0.110 - 15s 1s/step - loss: 2.3355 - accuracy: 0.116 - 15s 1s/step - loss: 2.3293 - accuracy: 0.120 - 16s 1s/step - loss: 2.3254 - accuracy: 0.123 - 17s 1s/step - loss: 2.3242 - accuracy: 0.125 - 18s 1s/step - loss: 2.3185 - accuracy: 0.131 - 19s 993ms/step - loss: 2.3157 - accuracy: 0.12 - 20s 985ms/step - loss: 2.3135 - accuracy: 0.12 - 21s 978ms/step - loss: 2.3078 - accuracy: 0.12 - 21s 972ms/step - loss: 2.3026 - accuracy: 0.13 - 22s 967ms/step - loss: 2.2952 - accuracy: 0.13 - 23s 963ms/step - loss: 2.2884 - accuracy: 0.14 - 24s 958ms/step - loss: 2.2859 - accuracy: 0.14 - 25s 953ms/step - loss: 2.2867 - accuracy: 0.14 - 26s 949ms/step - loss: 2.2851 - accuracy: 0.14 - 26s 945ms/step - loss: 2.2840 - accuracy: 0.14 - 27s 942ms/step - loss: 2.2849 - accuracy: 0.14 - 28s 939ms/step - loss: 2.2794 - accuracy: 0.14 - 29s 936ms/step - loss: 2.2777 - accuracy: 0.14 - 30s 933ms/step - loss: 2.2727 - accuracy: 0.15 - 31s 930ms/step - loss: 2.2708 - accuracy: 0.15 - 32s 928ms/step - loss: 2.2709 - accuracy: 0.15 - 32s 926ms/step - loss: 2.2657 - accuracy: 0.15 - 33s 924ms/step - loss: 2.2659 - accuracy: 0.15 - 34s 922ms/step - loss: 2.2624 - accuracy: 0.15 - 35s 921ms/step - loss: 2.2609 - accuracy: 0.15 - 36s 919ms/step - loss: 2.2572 - accuracy: 0.15 - 37s 918ms/step - loss: 2.2546 - accuracy: 0.15 - 38s 917ms/step - loss: 2.2513 - accuracy: 0.15 - 38s 916ms/step - loss: 2.2475 - accuracy: 0.15 - 39s 914ms/step - loss: 2.2444 - accuracy: 0.16 - 40s 913ms/step - loss: 2.2427 - accuracy: 0.16 - 41s 911ms/step - loss: 2.2425 - accuracy: 0.16 - 42s 910ms/step - loss: 2.2398 - accuracy: 0.16 - 43s 909ms/step - loss: 2.2358 - accuracy: 0.16 - 44s 908ms/step - loss: 2.2328 - accuracy: 0.16 - 44s 907ms/step - loss: 2.2323 - accuracy: 0.16 - 45s 906ms/step - loss: 2.2321 - accuracy: 0.16 - 46s 905ms/step - loss: 2.2276 - accuracy: 0.17 - 47s 904ms/step - loss: 2.2268 - accuracy: 0.17 - 48s 903ms/step - loss: 2.2222 - accuracy: 0.17 - 49s 902ms/step - loss: 2.2217 - accuracy: 0.17 - 50s 902ms/step - loss: 2.2214 - accuracy: 0.17 - 50s 900ms/step - loss: 2.2180 - accuracy: 0.17 - 51s 900ms/step - loss: 2.2169 - accuracy: 0.17 - 52s 899ms/step - loss: 2.2147 - accuracy: 0.17 - 53s 898ms/step - loss: 2.2108 - accuracy: 0.17 - 54s 897ms/step - loss: 2.2078 - accuracy: 0.17 - 55s 897ms/step - loss: 2.2050 - accuracy: 0.18 - 56s 896ms/step - loss: 2.2033 - accuracy: 0.18 - 56s 896ms/step - loss: 2.2017 - accuracy: 0.18 - 57s 895ms/step - loss: 2.1987 - accuracy: 0.18 - 58s 895ms/step - loss: 2.1940 - accuracy: 0.18 - 59s 895ms/step - loss: 2.1915 - accuracy: 0.18 - 60s 894ms/step - loss: 2.1890 - accuracy: 0.18 - 61s 893ms/step - loss: 2.1855 - accuracy: 0.18 - 62s 893ms/step - loss: 2.1824 - accuracy: 0.19 - 62s 892ms/step - loss: 2.1791 - accuracy: 0.19 - 63s 893ms/step - loss: 2.1784 - accuracy: 0.19 - 64s 893ms/step - loss: 2.1763 - accuracy: 0.19 - 65s 892ms/step - loss: 2.1729 - accuracy: 0.19 - 66s 892ms/step - loss: 2.1716 - accuracy: 0.19 - 67s 891ms/step - loss: 2.1664 - accuracy: 0.19 - 68s 890ms/step - loss: 2.1636 - accuracy: 0.20 - 69s 890ms/step - loss: 2.1604 - accuracy: 0.20 - 69s 890ms/step - loss: 2.1575 - accuracy: 0.20 - 70s 889ms/step - loss: 2.1541 - accuracy: 0.20 - 71s 889ms/step - loss: 2.1520 - accuracy: 0.20 - 72s 889ms/step - loss: 2.1491 - accuracy: 0.20 - 73s 889ms/step - loss: 2.1484 - accuracy: 0.20 - 74s 889ms/step - loss: 2.1455 - accuracy: 0.20 - 75s 889ms/step - loss: 2.1439 - accuracy: 0.20 - 75s 888ms/step - loss: 2.1412 - accuracy: 0.21 - 76s 888ms/step - loss: 2.1382 - accuracy: 0.21 - 77s 887ms/step - loss: 2.1361 - accuracy: 0.21 - 78s 887ms/step - loss: 2.1348 - accuracy: 0.21 - 79s 887ms/step - loss: 2.1325 - accuracy: 0.21 - 80s 886ms/step - loss: 2.1307 - accuracy: 0.21 - 81s 886ms/step - loss: 2.1290 - accuracy: 0.21 - 81s 886ms/step - loss: 2.1267 - accuracy: 0.21 - 82s 885ms/step - loss: 2.1242 - accuracy: 0.21 - 83s 885ms/step - loss: 2.1219 - accuracy: 0.21 - 84s 885ms/step - loss: 2.1200 - accuracy: 0.22 - 85s 884ms/step - loss: 2.1175 - accuracy: 0.22 - 86s 884ms/step - loss: 2.1171 - accuracy: 0.22 - 87s 883ms/step - loss: 2.1139 - accuracy: 0.22 - 87s 883ms/step - loss: 2.1131 - accuracy: 0.22 - 88s 883ms/step - loss: 2.1108 - accuracy: 0.22 - 89s 883ms/step - loss: 2.1095 - accuracy: 0.22 - 90s 882ms/step - loss: 2.1064 - accuracy: 0.22 - 91s 882ms/step - loss: 2.1048 - accuracy: 0.22 - 92s 882ms/step - loss: 2.1034 - accuracy: 0.22 - 93s 882ms/step - loss: 2.1025 - accuracy: 0.22 - 93s 882ms/step - loss: 2.1010 - accuracy: 0.22 - 94s 881ms/step - loss: 2.0978 - accuracy: 0.23 - 95s 881ms/step - loss: 2.0944 - accuracy: 0.23 - 96s 881ms/step - loss: 2.0925 - accuracy: 0.23 - 97s 881ms/step - loss: 2.0899 - accuracy: 0.23 - 98s 881ms/step - loss: 2.0880 - accuracy: 0.23 - 99s 881ms/step - loss: 2.0865 - accuracy: 0.23 - 100s 881ms/step - loss: 2.0858 - accuracy: 0.234 - 100s 881ms/step - loss: 2.0838 - accuracy: 0.236 - 101s 880ms/step - loss: 2.0816 - accuracy: 0.236 - 102s 880ms/step - loss: 2.0791 - accuracy: 0.236 - 103s 880ms/step - loss: 2.0770 - accuracy: 0.237 - 104s 880ms/step - loss: 2.0750 - accuracy: 0.238 - 105s 880ms/step - loss: 2.0733 - accuracy: 0.238 - 106s 880ms/step - loss: 2.0705 - accuracy: 0.239 - 106s 879ms/step - loss: 2.0685 - accuracy: 0.240 - 107s 879ms/step - loss: 2.0662 - accuracy: 0.240 - 108s 879ms/step - loss: 2.0641 - accuracy: 0.241 - 109s 878ms/step - loss: 2.0622 - accuracy: 0.242 - 110s 878ms/step - loss: 2.0599 - accuracy: 0.243 - 111s 878ms/step - loss: 2.0586 - accuracy: 0.243 - 111s 877ms/step - loss: 2.0556 - accuracy: 0.244 - 112s 877ms/step - loss: 2.0527 - accuracy: 0.245 - 113s 877ms/step - loss: 2.0505 - accuracy: 0.246 - 114s 877ms/step - loss: 2.0489 - accuracy: 0.247 - 115s 876ms/step - loss: 2.0475 - accuracy: 0.248 - 116s 876ms/step - loss: 2.0443 - accuracy: 0.249 - 116s 876ms/step - loss: 2.0432 - accuracy: 0.250 - 117s 876ms/step - loss: 2.0418 - accuracy: 0.251 - 118s 875ms/step - loss: 2.0398 - accuracy: 0.252 - 119s 875ms/step - loss: 2.0385 - accuracy: 0.252 - 120s 875ms/step - loss: 2.0362 - accuracy: 0.254 - 121s 875ms/step - loss: 2.0338 - accuracy: 0.254 - 122s 874ms/step - loss: 2.0318 - accuracy: 0.255 - 122s 874ms/step - loss: 2.0302 - accuracy: 0.256 - 123s 874ms/step - loss: 2.0275 - accuracy: 0.257 - 124s 874ms/step - loss: 2.0256 - accuracy: 0.257 - 125s 873ms/step - loss: 2.0237 - accuracy: 0.258 - 126s 873ms/step - loss: 2.0224 - accuracy: 0.259 - 127s 873ms/step - loss: 2.0206 - accuracy: 0.259 - 127s 873ms/step - loss: 2.0197 - accuracy: 0.259 - 128s 873ms/step - loss: 2.0185 - accuracy: 0.259 - 129s 873ms/step - loss: 2.0182 - accuracy: 0.259 - 130s 873ms/step - loss: 2.0163 - accuracy: 0.260 - 131s 873ms/step - loss: 2.0152 - accuracy: 0.260 - 132s 872ms/step - loss: 2.0146 - accuracy: 0.260 - 133s 872ms/step - loss: 2.0129 - accuracy: 0.261 - 133s 872ms/step - loss: 2.0117 - accuracy: 0.261 - 134s 872ms/step - loss: 2.0093 - accuracy: 0.262 - 135s 872ms/step - loss: 2.0080 - accuracy: 0.262 - 136s 872ms/step - loss: 2.0067 - accuracy: 0.263 - 137s 872ms/step - loss: 2.0055 - accuracy: 0.263 - 138s 871ms/step - loss: 2.0048 - accuracy: 0.263 - 139s 871ms/step - loss: 2.0042 - accuracy: 0.264 - 139s 871ms/step - loss: 2.0030 - accuracy: 0.264 - 140s 871ms/step - loss: 2.0009 - accuracy: 0.265 - 141s 871ms/step - loss: 1.9985 - accuracy: 0.265 - 142s 871ms/step - loss: 1.9970 - accuracy: 0.266 - 143s 871ms/step - loss: 1.9952 - accuracy: 0.266 - 144s 871ms/step - loss: 1.9938 - accuracy: 0.267 - 145s 871ms/step - loss: 1.9916 - accuracy: 0.2681"
     ]
    },
    {
     "name": "stdout",
     "output_type": "stream",
     "text": [
      "    327/Unknown - 145s 870ms/step - loss: 1.9892 - accuracy: 0.268 - 146s 870ms/step - loss: 1.9875 - accuracy: 0.269 - 147s 870ms/step - loss: 1.9867 - accuracy: 0.269 - 148s 870ms/step - loss: 1.9851 - accuracy: 0.270 - 149s 870ms/step - loss: 1.9835 - accuracy: 0.270 - 150s 870ms/step - loss: 1.9824 - accuracy: 0.271 - 150s 870ms/step - loss: 1.9812 - accuracy: 0.271 - 151s 870ms/step - loss: 1.9794 - accuracy: 0.271 - 152s 870ms/step - loss: 1.9786 - accuracy: 0.271 - 153s 869ms/step - loss: 1.9772 - accuracy: 0.271 - 154s 869ms/step - loss: 1.9759 - accuracy: 0.272 - 155s 869ms/step - loss: 1.9752 - accuracy: 0.272 - 156s 869ms/step - loss: 1.9737 - accuracy: 0.273 - 156s 869ms/step - loss: 1.9720 - accuracy: 0.273 - 157s 869ms/step - loss: 1.9715 - accuracy: 0.273 - 158s 869ms/step - loss: 1.9698 - accuracy: 0.274 - 159s 869ms/step - loss: 1.9692 - accuracy: 0.274 - 160s 869ms/step - loss: 1.9685 - accuracy: 0.275 - 161s 869ms/step - loss: 1.9675 - accuracy: 0.275 - 162s 868ms/step - loss: 1.9662 - accuracy: 0.276 - 162s 868ms/step - loss: 1.9656 - accuracy: 0.276 - 163s 868ms/step - loss: 1.9639 - accuracy: 0.276 - 164s 868ms/step - loss: 1.9634 - accuracy: 0.276 - 165s 868ms/step - loss: 1.9621 - accuracy: 0.277 - 166s 868ms/step - loss: 1.9610 - accuracy: 0.277 - 167s 868ms/step - loss: 1.9603 - accuracy: 0.277 - 167s 868ms/step - loss: 1.9582 - accuracy: 0.278 - 168s 868ms/step - loss: 1.9565 - accuracy: 0.279 - 169s 868ms/step - loss: 1.9553 - accuracy: 0.279 - 170s 868ms/step - loss: 1.9549 - accuracy: 0.279 - 171s 868ms/step - loss: 1.9538 - accuracy: 0.280 - 172s 867ms/step - loss: 1.9518 - accuracy: 0.281 - 173s 867ms/step - loss: 1.9504 - accuracy: 0.281 - 173s 867ms/step - loss: 1.9490 - accuracy: 0.282 - 174s 867ms/step - loss: 1.9475 - accuracy: 0.282 - 175s 867ms/step - loss: 1.9464 - accuracy: 0.282 - 176s 867ms/step - loss: 1.9447 - accuracy: 0.283 - 177s 867ms/step - loss: 1.9437 - accuracy: 0.283 - 178s 867ms/step - loss: 1.9418 - accuracy: 0.284 - 179s 867ms/step - loss: 1.9405 - accuracy: 0.285 - 179s 867ms/step - loss: 1.9394 - accuracy: 0.285 - 180s 867ms/step - loss: 1.9388 - accuracy: 0.286 - 181s 867ms/step - loss: 1.9376 - accuracy: 0.287 - 182s 867ms/step - loss: 1.9363 - accuracy: 0.287 - 183s 867ms/step - loss: 1.9348 - accuracy: 0.288 - 184s 867ms/step - loss: 1.9334 - accuracy: 0.289 - 185s 867ms/step - loss: 1.9319 - accuracy: 0.289 - 185s 867ms/step - loss: 1.9307 - accuracy: 0.289 - 186s 867ms/step - loss: 1.9294 - accuracy: 0.290 - 187s 866ms/step - loss: 1.9283 - accuracy: 0.290 - 188s 866ms/step - loss: 1.9270 - accuracy: 0.291 - 189s 866ms/step - loss: 1.9258 - accuracy: 0.292 - 190s 866ms/step - loss: 1.9242 - accuracy: 0.292 - 191s 866ms/step - loss: 1.9230 - accuracy: 0.293 - 191s 866ms/step - loss: 1.9218 - accuracy: 0.293 - 192s 866ms/step - loss: 1.9201 - accuracy: 0.294 - 193s 866ms/step - loss: 1.9188 - accuracy: 0.294 - 194s 866ms/step - loss: 1.9173 - accuracy: 0.295 - 195s 866ms/step - loss: 1.9155 - accuracy: 0.296 - 196s 866ms/step - loss: 1.9142 - accuracy: 0.296 - 197s 866ms/step - loss: 1.9131 - accuracy: 0.297 - 197s 866ms/step - loss: 1.9121 - accuracy: 0.297 - 198s 866ms/step - loss: 1.9108 - accuracy: 0.297 - 199s 866ms/step - loss: 1.9099 - accuracy: 0.298 - 200s 866ms/step - loss: 1.9081 - accuracy: 0.298 - 201s 866ms/step - loss: 1.9065 - accuracy: 0.299 - 202s 866ms/step - loss: 1.9055 - accuracy: 0.299 - 203s 866ms/step - loss: 1.9039 - accuracy: 0.300 - 203s 866ms/step - loss: 1.9033 - accuracy: 0.300 - 204s 865ms/step - loss: 1.9019 - accuracy: 0.300 - 205s 865ms/step - loss: 1.9004 - accuracy: 0.301 - 206s 865ms/step - loss: 1.8992 - accuracy: 0.301 - 207s 865ms/step - loss: 1.8985 - accuracy: 0.301 - 208s 865ms/step - loss: 1.8972 - accuracy: 0.301 - 209s 865ms/step - loss: 1.8957 - accuracy: 0.302 - 209s 865ms/step - loss: 1.8944 - accuracy: 0.303 - 210s 865ms/step - loss: 1.8935 - accuracy: 0.303 - 211s 865ms/step - loss: 1.8922 - accuracy: 0.303 - 212s 865ms/step - loss: 1.8912 - accuracy: 0.304 - 213s 865ms/step - loss: 1.8897 - accuracy: 0.304 - 214s 865ms/step - loss: 1.8887 - accuracy: 0.305 - 215s 865ms/step - loss: 1.8874 - accuracy: 0.305 - 215s 865ms/step - loss: 1.8870 - accuracy: 0.305 - 216s 865ms/step - loss: 1.8852 - accuracy: 0.306 - 217s 865ms/step - loss: 1.8835 - accuracy: 0.307 - 218s 865ms/step - loss: 1.8818 - accuracy: 0.308 - 219s 865ms/step - loss: 1.8808 - accuracy: 0.308 - 220s 865ms/step - loss: 1.8801 - accuracy: 0.308 - 221s 865ms/step - loss: 1.8785 - accuracy: 0.309 - 221s 865ms/step - loss: 1.8775 - accuracy: 0.309 - 222s 865ms/step - loss: 1.8769 - accuracy: 0.309 - 223s 865ms/step - loss: 1.8757 - accuracy: 0.310 - 224s 865ms/step - loss: 1.8742 - accuracy: 0.310 - 225s 865ms/step - loss: 1.8729 - accuracy: 0.311 - 226s 865ms/step - loss: 1.8711 - accuracy: 0.312 - 227s 865ms/step - loss: 1.8698 - accuracy: 0.312 - 227s 865ms/step - loss: 1.8690 - accuracy: 0.312 - 228s 865ms/step - loss: 1.8675 - accuracy: 0.313 - 229s 865ms/step - loss: 1.8664 - accuracy: 0.313 - 230s 865ms/step - loss: 1.8648 - accuracy: 0.314 - 231s 865ms/step - loss: 1.8653 - accuracy: 0.314 - 232s 865ms/step - loss: 1.8635 - accuracy: 0.314 - 233s 865ms/step - loss: 1.8636 - accuracy: 0.315 - 233s 865ms/step - loss: 1.8629 - accuracy: 0.315 - 234s 864ms/step - loss: 1.8616 - accuracy: 0.316 - 235s 864ms/step - loss: 1.8608 - accuracy: 0.316 - 236s 864ms/step - loss: 1.8602 - accuracy: 0.316 - 237s 864ms/step - loss: 1.8586 - accuracy: 0.317 - 238s 864ms/step - loss: 1.8575 - accuracy: 0.317 - 239s 864ms/step - loss: 1.8561 - accuracy: 0.317 - 239s 864ms/step - loss: 1.8548 - accuracy: 0.318 - 240s 864ms/step - loss: 1.8539 - accuracy: 0.319 - 241s 864ms/step - loss: 1.8531 - accuracy: 0.319 - 242s 864ms/step - loss: 1.8520 - accuracy: 0.319 - 243s 864ms/step - loss: 1.8506 - accuracy: 0.320 - 244s 864ms/step - loss: 1.8494 - accuracy: 0.320 - 244s 864ms/step - loss: 1.8484 - accuracy: 0.321 - 245s 864ms/step - loss: 1.8469 - accuracy: 0.322 - 246s 864ms/step - loss: 1.8463 - accuracy: 0.322 - 247s 864ms/step - loss: 1.8453 - accuracy: 0.323 - 248s 864ms/step - loss: 1.8445 - accuracy: 0.323 - 249s 864ms/step - loss: 1.8434 - accuracy: 0.323 - 250s 864ms/step - loss: 1.8425 - accuracy: 0.324 - 250s 863ms/step - loss: 1.8413 - accuracy: 0.324 - 251s 863ms/step - loss: 1.8402 - accuracy: 0.325 - 252s 863ms/step - loss: 1.8395 - accuracy: 0.325 - 253s 863ms/step - loss: 1.8384 - accuracy: 0.326 - 254s 863ms/step - loss: 1.8370 - accuracy: 0.326 - 255s 863ms/step - loss: 1.8355 - accuracy: 0.327 - 256s 863ms/step - loss: 1.8347 - accuracy: 0.327 - 256s 863ms/step - loss: 1.8335 - accuracy: 0.328 - 257s 863ms/step - loss: 1.8320 - accuracy: 0.328 - 258s 863ms/step - loss: 1.8301 - accuracy: 0.329 - 259s 863ms/step - loss: 1.8287 - accuracy: 0.329 - 260s 863ms/step - loss: 1.8271 - accuracy: 0.330 - 261s 863ms/step - loss: 1.8264 - accuracy: 0.331 - 262s 863ms/step - loss: 1.8247 - accuracy: 0.332 - 262s 863ms/step - loss: 1.8238 - accuracy: 0.332 - 263s 863ms/step - loss: 1.8225 - accuracy: 0.332 - 264s 863ms/step - loss: 1.8213 - accuracy: 0.333 - 265s 863ms/step - loss: 1.8198 - accuracy: 0.333 - 266s 863ms/step - loss: 1.8186 - accuracy: 0.334 - 267s 863ms/step - loss: 1.8172 - accuracy: 0.334 - 268s 863ms/step - loss: 1.8165 - accuracy: 0.335 - 268s 863ms/step - loss: 1.8158 - accuracy: 0.335 - 269s 863ms/step - loss: 1.8150 - accuracy: 0.335 - 270s 863ms/step - loss: 1.8139 - accuracy: 0.335 - 271s 863ms/step - loss: 1.8123 - accuracy: 0.336 - 272s 863ms/step - loss: 1.8113 - accuracy: 0.336 - 273s 863ms/step - loss: 1.8106 - accuracy: 0.337 - 274s 863ms/step - loss: 1.8097 - accuracy: 0.337 - 274s 863ms/step - loss: 1.8091 - accuracy: 0.337 - 275s 863ms/step - loss: 1.8076 - accuracy: 0.338 - 276s 863ms/step - loss: 1.8066 - accuracy: 0.338 - 277s 863ms/step - loss: 1.8053 - accuracy: 0.338 - 278s 863ms/step - loss: 1.8041 - accuracy: 0.339 - 279s 863ms/step - loss: 1.8031 - accuracy: 0.339 - 280s 863ms/step - loss: 1.8016 - accuracy: 0.340 - 280s 863ms/step - loss: 1.8009 - accuracy: 0.340 - 281s 863ms/step - loss: 1.8000 - accuracy: 0.341 - 282s 862ms/step - loss: 1.7997 - accuracy: 0.3412"
     ]
    },
    {
     "name": "stdout",
     "output_type": "stream",
     "text": [
      "    488/Unknown - 283s 862ms/step - loss: 1.7994 - accuracy: 0.341 - 284s 862ms/step - loss: 1.7983 - accuracy: 0.341 - 285s 862ms/step - loss: 1.7975 - accuracy: 0.341 - 285s 862ms/step - loss: 1.7965 - accuracy: 0.342 - 286s 862ms/step - loss: 1.7959 - accuracy: 0.342 - 287s 862ms/step - loss: 1.7950 - accuracy: 0.342 - 288s 862ms/step - loss: 1.7940 - accuracy: 0.343 - 289s 862ms/step - loss: 1.7929 - accuracy: 0.343 - 290s 862ms/step - loss: 1.7915 - accuracy: 0.344 - 291s 862ms/step - loss: 1.7903 - accuracy: 0.345 - 291s 862ms/step - loss: 1.7898 - accuracy: 0.345 - 292s 862ms/step - loss: 1.7894 - accuracy: 0.345 - 293s 862ms/step - loss: 1.7883 - accuracy: 0.345 - 294s 862ms/step - loss: 1.7878 - accuracy: 0.346 - 295s 862ms/step - loss: 1.7873 - accuracy: 0.346 - 296s 862ms/step - loss: 1.7867 - accuracy: 0.347 - 297s 862ms/step - loss: 1.7862 - accuracy: 0.347 - 297s 862ms/step - loss: 1.7854 - accuracy: 0.347 - 298s 862ms/step - loss: 1.7844 - accuracy: 0.348 - 299s 862ms/step - loss: 1.7837 - accuracy: 0.348 - 300s 862ms/step - loss: 1.7835 - accuracy: 0.348 - 301s 862ms/step - loss: 1.7830 - accuracy: 0.348 - 302s 862ms/step - loss: 1.7818 - accuracy: 0.349 - 302s 862ms/step - loss: 1.7807 - accuracy: 0.349 - 303s 862ms/step - loss: 1.7806 - accuracy: 0.349 - 304s 862ms/step - loss: 1.7802 - accuracy: 0.350 - 305s 862ms/step - loss: 1.7790 - accuracy: 0.350 - 306s 862ms/step - loss: 1.7781 - accuracy: 0.351 - 307s 862ms/step - loss: 1.7776 - accuracy: 0.351 - 308s 861ms/step - loss: 1.7765 - accuracy: 0.351 - 308s 861ms/step - loss: 1.7754 - accuracy: 0.351 - 309s 861ms/step - loss: 1.7743 - accuracy: 0.352 - 310s 861ms/step - loss: 1.7733 - accuracy: 0.352 - 311s 861ms/step - loss: 1.7722 - accuracy: 0.352 - 312s 861ms/step - loss: 1.7715 - accuracy: 0.353 - 313s 861ms/step - loss: 1.7714 - accuracy: 0.353 - 313s 861ms/step - loss: 1.7705 - accuracy: 0.353 - 314s 861ms/step - loss: 1.7694 - accuracy: 0.354 - 315s 861ms/step - loss: 1.7685 - accuracy: 0.354 - 316s 861ms/step - loss: 1.7672 - accuracy: 0.355 - 317s 861ms/step - loss: 1.7664 - accuracy: 0.355 - 318s 861ms/step - loss: 1.7658 - accuracy: 0.355 - 319s 861ms/step - loss: 1.7653 - accuracy: 0.356 - 319s 861ms/step - loss: 1.7640 - accuracy: 0.356 - 320s 861ms/step - loss: 1.7634 - accuracy: 0.356 - 321s 861ms/step - loss: 1.7630 - accuracy: 0.357 - 322s 861ms/step - loss: 1.7626 - accuracy: 0.357 - 323s 861ms/step - loss: 1.7621 - accuracy: 0.357 - 324s 861ms/step - loss: 1.7612 - accuracy: 0.357 - 325s 861ms/step - loss: 1.7608 - accuracy: 0.357 - 325s 861ms/step - loss: 1.7596 - accuracy: 0.358 - 326s 861ms/step - loss: 1.7586 - accuracy: 0.358 - 327s 861ms/step - loss: 1.7577 - accuracy: 0.358 - 328s 861ms/step - loss: 1.7568 - accuracy: 0.359 - 329s 861ms/step - loss: 1.7559 - accuracy: 0.359 - 330s 861ms/step - loss: 1.7550 - accuracy: 0.360 - 331s 861ms/step - loss: 1.7542 - accuracy: 0.360 - 331s 861ms/step - loss: 1.7534 - accuracy: 0.360 - 332s 861ms/step - loss: 1.7527 - accuracy: 0.361 - 333s 861ms/step - loss: 1.7516 - accuracy: 0.361 - 334s 861ms/step - loss: 1.7505 - accuracy: 0.361 - 335s 861ms/step - loss: 1.7489 - accuracy: 0.362 - 336s 861ms/step - loss: 1.7480 - accuracy: 0.362 - 337s 861ms/step - loss: 1.7467 - accuracy: 0.363 - 337s 861ms/step - loss: 1.7459 - accuracy: 0.363 - 338s 861ms/step - loss: 1.7453 - accuracy: 0.363 - 339s 861ms/step - loss: 1.7441 - accuracy: 0.364 - 340s 861ms/step - loss: 1.7433 - accuracy: 0.364 - 341s 861ms/step - loss: 1.7425 - accuracy: 0.365 - 342s 861ms/step - loss: 1.7420 - accuracy: 0.365 - 342s 861ms/step - loss: 1.7409 - accuracy: 0.365 - 343s 860ms/step - loss: 1.7405 - accuracy: 0.366 - 344s 860ms/step - loss: 1.7394 - accuracy: 0.366 - 345s 860ms/step - loss: 1.7388 - accuracy: 0.366 - 346s 860ms/step - loss: 1.7379 - accuracy: 0.367 - 347s 860ms/step - loss: 1.7369 - accuracy: 0.367 - 348s 860ms/step - loss: 1.7366 - accuracy: 0.368 - 349s 861ms/step - loss: 1.7358 - accuracy: 0.368 - 349s 861ms/step - loss: 1.7350 - accuracy: 0.368 - 350s 860ms/step - loss: 1.7343 - accuracy: 0.368 - 351s 861ms/step - loss: 1.7335 - accuracy: 0.368 - 352s 861ms/step - loss: 1.7337 - accuracy: 0.369 - 353s 861ms/step - loss: 1.7326 - accuracy: 0.369 - 354s 860ms/step - loss: 1.7317 - accuracy: 0.369 - 355s 860ms/step - loss: 1.7308 - accuracy: 0.370 - 355s 860ms/step - loss: 1.7295 - accuracy: 0.370 - 356s 860ms/step - loss: 1.7291 - accuracy: 0.370 - 357s 860ms/step - loss: 1.7289 - accuracy: 0.371 - 358s 860ms/step - loss: 1.7284 - accuracy: 0.371 - 359s 860ms/step - loss: 1.7280 - accuracy: 0.371 - 360s 860ms/step - loss: 1.7271 - accuracy: 0.372 - 360s 860ms/step - loss: 1.7265 - accuracy: 0.372 - 361s 860ms/step - loss: 1.7260 - accuracy: 0.372 - 362s 860ms/step - loss: 1.7253 - accuracy: 0.373 - 363s 860ms/step - loss: 1.7244 - accuracy: 0.373 - 364s 860ms/step - loss: 1.7233 - accuracy: 0.373 - 365s 860ms/step - loss: 1.7221 - accuracy: 0.374 - 366s 860ms/step - loss: 1.7214 - accuracy: 0.374 - 366s 860ms/step - loss: 1.7203 - accuracy: 0.375 - 367s 860ms/step - loss: 1.7191 - accuracy: 0.375 - 368s 860ms/step - loss: 1.7182 - accuracy: 0.375 - 369s 860ms/step - loss: 1.7178 - accuracy: 0.376 - 370s 860ms/step - loss: 1.7169 - accuracy: 0.376 - 371s 860ms/step - loss: 1.7157 - accuracy: 0.377 - 372s 860ms/step - loss: 1.7149 - accuracy: 0.377 - 372s 860ms/step - loss: 1.7144 - accuracy: 0.377 - 373s 860ms/step - loss: 1.7138 - accuracy: 0.378 - 374s 860ms/step - loss: 1.7130 - accuracy: 0.378 - 375s 860ms/step - loss: 1.7123 - accuracy: 0.378 - 376s 860ms/step - loss: 1.7112 - accuracy: 0.379 - 377s 860ms/step - loss: 1.7103 - accuracy: 0.379 - 377s 860ms/step - loss: 1.7096 - accuracy: 0.380 - 378s 860ms/step - loss: 1.7090 - accuracy: 0.380 - 379s 860ms/step - loss: 1.7087 - accuracy: 0.380 - 380s 860ms/step - loss: 1.7078 - accuracy: 0.380 - 381s 860ms/step - loss: 1.7069 - accuracy: 0.381 - 382s 860ms/step - loss: 1.7059 - accuracy: 0.381 - 383s 860ms/step - loss: 1.7051 - accuracy: 0.382 - 383s 860ms/step - loss: 1.7042 - accuracy: 0.382 - 384s 860ms/step - loss: 1.7035 - accuracy: 0.382 - 385s 860ms/step - loss: 1.7028 - accuracy: 0.382 - 386s 860ms/step - loss: 1.7019 - accuracy: 0.383 - 387s 859ms/step - loss: 1.7009 - accuracy: 0.383 - 388s 859ms/step - loss: 1.6998 - accuracy: 0.383 - 388s 859ms/step - loss: 1.6988 - accuracy: 0.384 - 389s 859ms/step - loss: 1.6984 - accuracy: 0.384 - 390s 859ms/step - loss: 1.6974 - accuracy: 0.385 - 391s 859ms/step - loss: 1.6968 - accuracy: 0.385 - 392s 859ms/step - loss: 1.6962 - accuracy: 0.385 - 393s 859ms/step - loss: 1.6956 - accuracy: 0.386 - 393s 859ms/step - loss: 1.6950 - accuracy: 0.386 - 394s 859ms/step - loss: 1.6942 - accuracy: 0.386 - 395s 859ms/step - loss: 1.6934 - accuracy: 0.387 - 396s 859ms/step - loss: 1.6928 - accuracy: 0.387 - 397s 859ms/step - loss: 1.6921 - accuracy: 0.387 - 398s 859ms/step - loss: 1.6912 - accuracy: 0.388 - 398s 859ms/step - loss: 1.6905 - accuracy: 0.388 - 399s 859ms/step - loss: 1.6898 - accuracy: 0.388 - 400s 859ms/step - loss: 1.6895 - accuracy: 0.388 - 401s 859ms/step - loss: 1.6882 - accuracy: 0.389 - 402s 859ms/step - loss: 1.6872 - accuracy: 0.389 - 403s 859ms/step - loss: 1.6864 - accuracy: 0.390 - 404s 859ms/step - loss: 1.6852 - accuracy: 0.390 - 404s 859ms/step - loss: 1.6842 - accuracy: 0.390 - 405s 859ms/step - loss: 1.6833 - accuracy: 0.391 - 406s 859ms/step - loss: 1.6825 - accuracy: 0.391 - 407s 859ms/step - loss: 1.6817 - accuracy: 0.391 - 408s 859ms/step - loss: 1.6811 - accuracy: 0.392 - 409s 859ms/step - loss: 1.6799 - accuracy: 0.392 - 410s 859ms/step - loss: 1.6791 - accuracy: 0.392 - 410s 859ms/step - loss: 1.6782 - accuracy: 0.393 - 411s 858ms/step - loss: 1.6771 - accuracy: 0.393 - 412s 858ms/step - loss: 1.6761 - accuracy: 0.394 - 413s 858ms/step - loss: 1.6751 - accuracy: 0.394 - 414s 858ms/step - loss: 1.6745 - accuracy: 0.394 - 415s 858ms/step - loss: 1.6736 - accuracy: 0.395 - 415s 858ms/step - loss: 1.6725 - accuracy: 0.395 - 416s 858ms/step - loss: 1.6716 - accuracy: 0.396 - 417s 858ms/step - loss: 1.6714 - accuracy: 0.396 - 418s 858ms/step - loss: 1.6705 - accuracy: 0.396 - 419s 858ms/step - loss: 1.6696 - accuracy: 0.3969"
     ]
    },
    {
     "name": "stdout",
     "output_type": "stream",
     "text": [
      "    649/Unknown - 420s 858ms/step - loss: 1.6690 - accuracy: 0.397 - 421s 858ms/step - loss: 1.6677 - accuracy: 0.397 - 421s 858ms/step - loss: 1.6664 - accuracy: 0.398 - 422s 858ms/step - loss: 1.6658 - accuracy: 0.398 - 423s 858ms/step - loss: 1.6646 - accuracy: 0.399 - 424s 858ms/step - loss: 1.6639 - accuracy: 0.399 - 425s 858ms/step - loss: 1.6631 - accuracy: 0.399 - 426s 858ms/step - loss: 1.6622 - accuracy: 0.400 - 426s 858ms/step - loss: 1.6617 - accuracy: 0.400 - 427s 858ms/step - loss: 1.6608 - accuracy: 0.400 - 428s 858ms/step - loss: 1.6601 - accuracy: 0.400 - 429s 858ms/step - loss: 1.6596 - accuracy: 0.401 - 430s 858ms/step - loss: 1.6590 - accuracy: 0.401 - 431s 858ms/step - loss: 1.6579 - accuracy: 0.402 - 432s 858ms/step - loss: 1.6573 - accuracy: 0.402 - 432s 858ms/step - loss: 1.6564 - accuracy: 0.402 - 433s 858ms/step - loss: 1.6560 - accuracy: 0.403 - 434s 858ms/step - loss: 1.6549 - accuracy: 0.403 - 435s 858ms/step - loss: 1.6541 - accuracy: 0.403 - 436s 858ms/step - loss: 1.6534 - accuracy: 0.404 - 437s 858ms/step - loss: 1.6526 - accuracy: 0.404 - 437s 858ms/step - loss: 1.6519 - accuracy: 0.404 - 438s 858ms/step - loss: 1.6512 - accuracy: 0.405 - 439s 858ms/step - loss: 1.6506 - accuracy: 0.405 - 440s 858ms/step - loss: 1.6500 - accuracy: 0.405 - 441s 858ms/step - loss: 1.6496 - accuracy: 0.406 - 442s 858ms/step - loss: 1.6488 - accuracy: 0.406 - 443s 858ms/step - loss: 1.6481 - accuracy: 0.406 - 443s 858ms/step - loss: 1.6473 - accuracy: 0.407 - 444s 858ms/step - loss: 1.6462 - accuracy: 0.407 - 445s 858ms/step - loss: 1.6456 - accuracy: 0.407 - 446s 858ms/step - loss: 1.6454 - accuracy: 0.407 - 447s 858ms/step - loss: 1.6450 - accuracy: 0.408 - 448s 857ms/step - loss: 1.6440 - accuracy: 0.408 - 448s 857ms/step - loss: 1.6429 - accuracy: 0.409 - 449s 857ms/step - loss: 1.6425 - accuracy: 0.409 - 450s 857ms/step - loss: 1.6421 - accuracy: 0.409 - 451s 857ms/step - loss: 1.6413 - accuracy: 0.409 - 452s 857ms/step - loss: 1.6406 - accuracy: 0.410 - 453s 857ms/step - loss: 1.6402 - accuracy: 0.410 - 454s 857ms/step - loss: 1.6393 - accuracy: 0.410 - 454s 857ms/step - loss: 1.6386 - accuracy: 0.411 - 455s 857ms/step - loss: 1.6380 - accuracy: 0.411 - 456s 857ms/step - loss: 1.6373 - accuracy: 0.411 - 457s 857ms/step - loss: 1.6367 - accuracy: 0.411 - 458s 857ms/step - loss: 1.6357 - accuracy: 0.412 - 459s 857ms/step - loss: 1.6351 - accuracy: 0.412 - 460s 857ms/step - loss: 1.6344 - accuracy: 0.412 - 460s 857ms/step - loss: 1.6336 - accuracy: 0.413 - 461s 857ms/step - loss: 1.6330 - accuracy: 0.413 - 462s 857ms/step - loss: 1.6325 - accuracy: 0.413 - 463s 857ms/step - loss: 1.6320 - accuracy: 0.413 - 464s 857ms/step - loss: 1.6312 - accuracy: 0.413 - 465s 857ms/step - loss: 1.6307 - accuracy: 0.413 - 466s 857ms/step - loss: 1.6299 - accuracy: 0.414 - 466s 857ms/step - loss: 1.6293 - accuracy: 0.414 - 467s 857ms/step - loss: 1.6285 - accuracy: 0.415 - 468s 857ms/step - loss: 1.6279 - accuracy: 0.415 - 469s 857ms/step - loss: 1.6271 - accuracy: 0.415 - 470s 857ms/step - loss: 1.6262 - accuracy: 0.415 - 471s 857ms/step - loss: 1.6253 - accuracy: 0.416 - 471s 857ms/step - loss: 1.6249 - accuracy: 0.416 - 472s 857ms/step - loss: 1.6243 - accuracy: 0.416 - 473s 857ms/step - loss: 1.6240 - accuracy: 0.416 - 474s 857ms/step - loss: 1.6234 - accuracy: 0.417 - 475s 857ms/step - loss: 1.6227 - accuracy: 0.417 - 476s 857ms/step - loss: 1.6215 - accuracy: 0.418 - 477s 857ms/step - loss: 1.6208 - accuracy: 0.418 - 477s 857ms/step - loss: 1.6197 - accuracy: 0.418 - 478s 857ms/step - loss: 1.6192 - accuracy: 0.419 - 479s 857ms/step - loss: 1.6185 - accuracy: 0.419 - 480s 857ms/step - loss: 1.6179 - accuracy: 0.419 - 481s 857ms/step - loss: 1.6169 - accuracy: 0.420 - 482s 857ms/step - loss: 1.6166 - accuracy: 0.420 - 482s 857ms/step - loss: 1.6157 - accuracy: 0.420 - 483s 857ms/step - loss: 1.6153 - accuracy: 0.420 - 484s 857ms/step - loss: 1.6144 - accuracy: 0.421 - 485s 857ms/step - loss: 1.6135 - accuracy: 0.421 - 486s 857ms/step - loss: 1.6128 - accuracy: 0.421 - 487s 857ms/step - loss: 1.6121 - accuracy: 0.422 - 488s 857ms/step - loss: 1.6112 - accuracy: 0.422 - 488s 857ms/step - loss: 1.6103 - accuracy: 0.422 - 489s 857ms/step - loss: 1.6097 - accuracy: 0.423 - 490s 857ms/step - loss: 1.6087 - accuracy: 0.423 - 491s 857ms/step - loss: 1.6080 - accuracy: 0.423 - 492s 857ms/step - loss: 1.6075 - accuracy: 0.423 - 493s 857ms/step - loss: 1.6068 - accuracy: 0.424 - 494s 857ms/step - loss: 1.6066 - accuracy: 0.424 - 494s 857ms/step - loss: 1.6063 - accuracy: 0.424 - 495s 857ms/step - loss: 1.6058 - accuracy: 0.424 - 496s 857ms/step - loss: 1.6051 - accuracy: 0.424 - 497s 857ms/step - loss: 1.6045 - accuracy: 0.425 - 498s 857ms/step - loss: 1.6035 - accuracy: 0.425 - 499s 857ms/step - loss: 1.6029 - accuracy: 0.425 - 500s 857ms/step - loss: 1.6021 - accuracy: 0.425 - 500s 857ms/step - loss: 1.6015 - accuracy: 0.426 - 501s 857ms/step - loss: 1.6006 - accuracy: 0.426 - 502s 857ms/step - loss: 1.6000 - accuracy: 0.426 - 503s 857ms/step - loss: 1.5990 - accuracy: 0.426 - 504s 857ms/step - loss: 1.5981 - accuracy: 0.427 - 505s 857ms/step - loss: 1.5974 - accuracy: 0.427 - 505s 857ms/step - loss: 1.5968 - accuracy: 0.427 - 506s 857ms/step - loss: 1.5959 - accuracy: 0.428 - 507s 857ms/step - loss: 1.5951 - accuracy: 0.428 - 508s 857ms/step - loss: 1.5943 - accuracy: 0.428 - 509s 857ms/step - loss: 1.5936 - accuracy: 0.429 - 510s 857ms/step - loss: 1.5927 - accuracy: 0.429 - 511s 857ms/step - loss: 1.5919 - accuracy: 0.429 - 511s 857ms/step - loss: 1.5909 - accuracy: 0.430 - 512s 857ms/step - loss: 1.5900 - accuracy: 0.430 - 513s 857ms/step - loss: 1.5893 - accuracy: 0.430 - 514s 857ms/step - loss: 1.5885 - accuracy: 0.430 - 515s 857ms/step - loss: 1.5883 - accuracy: 0.431 - 516s 857ms/step - loss: 1.5879 - accuracy: 0.431 - 517s 857ms/step - loss: 1.5873 - accuracy: 0.431 - 517s 857ms/step - loss: 1.5868 - accuracy: 0.431 - 518s 857ms/step - loss: 1.5857 - accuracy: 0.432 - 519s 857ms/step - loss: 1.5847 - accuracy: 0.432 - 520s 857ms/step - loss: 1.5842 - accuracy: 0.432 - 521s 857ms/step - loss: 1.5835 - accuracy: 0.433 - 522s 857ms/step - loss: 1.5826 - accuracy: 0.433 - 522s 857ms/step - loss: 1.5819 - accuracy: 0.434 - 523s 857ms/step - loss: 1.5819 - accuracy: 0.434 - 524s 857ms/step - loss: 1.5810 - accuracy: 0.434 - 525s 857ms/step - loss: 1.5810 - accuracy: 0.434 - 526s 857ms/step - loss: 1.5803 - accuracy: 0.434 - 527s 856ms/step - loss: 1.5796 - accuracy: 0.434 - 528s 856ms/step - loss: 1.5789 - accuracy: 0.435 - 528s 856ms/step - loss: 1.5784 - accuracy: 0.435 - 529s 856ms/step - loss: 1.5780 - accuracy: 0.435 - 530s 856ms/step - loss: 1.5775 - accuracy: 0.435 - 531s 856ms/step - loss: 1.5768 - accuracy: 0.435 - 532s 856ms/step - loss: 1.5760 - accuracy: 0.436 - 533s 856ms/step - loss: 1.5753 - accuracy: 0.436 - 534s 856ms/step - loss: 1.5745 - accuracy: 0.436 - 534s 856ms/step - loss: 1.5740 - accuracy: 0.437 - 535s 856ms/step - loss: 1.5732 - accuracy: 0.437 - 536s 856ms/step - loss: 1.5727 - accuracy: 0.437 - 537s 856ms/step - loss: 1.5717 - accuracy: 0.438 - 538s 856ms/step - loss: 1.5713 - accuracy: 0.438 - 539s 856ms/step - loss: 1.5707 - accuracy: 0.438 - 540s 856ms/step - loss: 1.5702 - accuracy: 0.438 - 540s 856ms/step - loss: 1.5694 - accuracy: 0.439 - 541s 856ms/step - loss: 1.5690 - accuracy: 0.439 - 542s 856ms/step - loss: 1.5687 - accuracy: 0.439 - 543s 856ms/step - loss: 1.5688 - accuracy: 0.439 - 544s 856ms/step - loss: 1.5682 - accuracy: 0.439 - 545s 856ms/step - loss: 1.5675 - accuracy: 0.440 - 545s 856ms/step - loss: 1.5669 - accuracy: 0.440 - 546s 856ms/step - loss: 1.5665 - accuracy: 0.440 - 547s 856ms/step - loss: 1.5661 - accuracy: 0.440 - 548s 856ms/step - loss: 1.5653 - accuracy: 0.440 - 549s 856ms/step - loss: 1.5645 - accuracy: 0.441 - 550s 856ms/step - loss: 1.5643 - accuracy: 0.441 - 551s 856ms/step - loss: 1.5635 - accuracy: 0.441 - 551s 856ms/step - loss: 1.5626 - accuracy: 0.442 - 552s 856ms/step - loss: 1.5621 - accuracy: 0.442 - 553s 856ms/step - loss: 1.5614 - accuracy: 0.442 - 554s 856ms/step - loss: 1.5606 - accuracy: 0.442 - 555s 856ms/step - loss: 1.5601 - accuracy: 0.443 - 556s 856ms/step - loss: 1.5596 - accuracy: 0.4433"
     ]
    },
    {
     "name": "stdout",
     "output_type": "stream",
     "text": [
      "782/782 [==============================]: 1.5593 - accuracy: 0.443 - 557s 856ms/step - loss: 1.5586 - accuracy: 0.443 - 558s 856ms/step - loss: 1.5585 - accuracy: 0.443 - 559s 856ms/step - loss: 1.5582 - accuracy: 0.443 - 560s 856ms/step - loss: 1.5580 - accuracy: 0.443 - 561s 856ms/step - loss: 1.5577 - accuracy: 0.444 - 562s 856ms/step - loss: 1.5571 - accuracy: 0.444 - 563s 856ms/step - loss: 1.5566 - accuracy: 0.444 - 563s 856ms/step - loss: 1.5560 - accuracy: 0.444 - 564s 856ms/step - loss: 1.5552 - accuracy: 0.445 - 565s 856ms/step - loss: 1.5545 - accuracy: 0.445 - 566s 856ms/step - loss: 1.5540 - accuracy: 0.445 - 567s 856ms/step - loss: 1.5537 - accuracy: 0.445 - 568s 856ms/step - loss: 1.5535 - accuracy: 0.445 - 569s 856ms/step - loss: 1.5530 - accuracy: 0.446 - 569s 856ms/step - loss: 1.5520 - accuracy: 0.446 - 570s 856ms/step - loss: 1.5512 - accuracy: 0.446 - 571s 856ms/step - loss: 1.5504 - accuracy: 0.447 - 572s 856ms/step - loss: 1.5497 - accuracy: 0.447 - 573s 856ms/step - loss: 1.5490 - accuracy: 0.447 - 574s 856ms/step - loss: 1.5482 - accuracy: 0.448 - 575s 856ms/step - loss: 1.5473 - accuracy: 0.448 - 575s 856ms/step - loss: 1.5465 - accuracy: 0.448 - 576s 856ms/step - loss: 1.5459 - accuracy: 0.449 - 577s 856ms/step - loss: 1.5451 - accuracy: 0.449 - 578s 856ms/step - loss: 1.5442 - accuracy: 0.449 - 579s 856ms/step - loss: 1.5438 - accuracy: 0.449 - 580s 856ms/step - loss: 1.5430 - accuracy: 0.450 - 580s 856ms/step - loss: 1.5424 - accuracy: 0.450 - 581s 856ms/step - loss: 1.5415 - accuracy: 0.450 - 582s 856ms/step - loss: 1.5409 - accuracy: 0.450 - 583s 856ms/step - loss: 1.5405 - accuracy: 0.451 - 584s 856ms/step - loss: 1.5398 - accuracy: 0.451 - 585s 856ms/step - loss: 1.5391 - accuracy: 0.451 - 586s 856ms/step - loss: 1.5385 - accuracy: 0.452 - 586s 856ms/step - loss: 1.5382 - accuracy: 0.452 - 587s 856ms/step - loss: 1.5375 - accuracy: 0.452 - 588s 856ms/step - loss: 1.5369 - accuracy: 0.452 - 589s 856ms/step - loss: 1.5363 - accuracy: 0.453 - 590s 856ms/step - loss: 1.5353 - accuracy: 0.453 - 591s 856ms/step - loss: 1.5351 - accuracy: 0.453 - 592s 856ms/step - loss: 1.5344 - accuracy: 0.453 - 592s 856ms/step - loss: 1.5340 - accuracy: 0.454 - 593s 856ms/step - loss: 1.5333 - accuracy: 0.454 - 594s 856ms/step - loss: 1.5329 - accuracy: 0.454 - 595s 856ms/step - loss: 1.5323 - accuracy: 0.454 - 596s 856ms/step - loss: 1.5319 - accuracy: 0.454 - 597s 856ms/step - loss: 1.5310 - accuracy: 0.455 - 597s 856ms/step - loss: 1.5306 - accuracy: 0.455 - 598s 856ms/step - loss: 1.5301 - accuracy: 0.455 - 599s 856ms/step - loss: 1.5294 - accuracy: 0.455 - 600s 856ms/step - loss: 1.5289 - accuracy: 0.456 - 601s 856ms/step - loss: 1.5282 - accuracy: 0.456 - 602s 856ms/step - loss: 1.5276 - accuracy: 0.456 - 603s 856ms/step - loss: 1.5268 - accuracy: 0.457 - 603s 856ms/step - loss: 1.5260 - accuracy: 0.457 - 604s 856ms/step - loss: 1.5254 - accuracy: 0.457 - 605s 856ms/step - loss: 1.5246 - accuracy: 0.457 - 606s 856ms/step - loss: 1.5242 - accuracy: 0.458 - 607s 856ms/step - loss: 1.5237 - accuracy: 0.458 - 608s 856ms/step - loss: 1.5229 - accuracy: 0.458 - 609s 856ms/step - loss: 1.5225 - accuracy: 0.458 - 609s 856ms/step - loss: 1.5220 - accuracy: 0.458 - 610s 856ms/step - loss: 1.5212 - accuracy: 0.459 - 611s 856ms/step - loss: 1.5205 - accuracy: 0.459 - 612s 856ms/step - loss: 1.5199 - accuracy: 0.459 - 613s 856ms/step - loss: 1.5193 - accuracy: 0.459 - 614s 856ms/step - loss: 1.5185 - accuracy: 0.460 - 615s 856ms/step - loss: 1.5182 - accuracy: 0.460 - 615s 856ms/step - loss: 1.5177 - accuracy: 0.460 - 616s 856ms/step - loss: 1.5169 - accuracy: 0.460 - 617s 856ms/step - loss: 1.5164 - accuracy: 0.460 - 618s 856ms/step - loss: 1.5160 - accuracy: 0.461 - 619s 856ms/step - loss: 1.5154 - accuracy: 0.461 - 620s 856ms/step - loss: 1.5149 - accuracy: 0.461 - 620s 856ms/step - loss: 1.5146 - accuracy: 0.461 - 621s 856ms/step - loss: 1.5144 - accuracy: 0.461 - 622s 856ms/step - loss: 1.5137 - accuracy: 0.462 - 623s 856ms/step - loss: 1.5131 - accuracy: 0.462 - 624s 856ms/step - loss: 1.5126 - accuracy: 0.462 - 625s 856ms/step - loss: 1.5117 - accuracy: 0.463 - 626s 856ms/step - loss: 1.5110 - accuracy: 0.463 - 626s 856ms/step - loss: 1.5105 - accuracy: 0.463 - 627s 856ms/step - loss: 1.5101 - accuracy: 0.463 - 628s 856ms/step - loss: 1.5093 - accuracy: 0.464 - 629s 856ms/step - loss: 1.5089 - accuracy: 0.464 - 630s 856ms/step - loss: 1.5082 - accuracy: 0.464 - 631s 856ms/step - loss: 1.5077 - accuracy: 0.464 - 632s 856ms/step - loss: 1.5070 - accuracy: 0.465 - 632s 855ms/step - loss: 1.5064 - accuracy: 0.465 - 633s 855ms/step - loss: 1.5057 - accuracy: 0.465 - 634s 855ms/step - loss: 1.5054 - accuracy: 0.465 - 635s 855ms/step - loss: 1.5048 - accuracy: 0.465 - 635s 855ms/step - loss: 1.5041 - accuracy: 0.465 - 636s 855ms/step - loss: 1.5036 - accuracy: 0.466 - 637s 855ms/step - loss: 1.5031 - accuracy: 0.466 - 638s 855ms/step - loss: 1.5026 - accuracy: 0.466 - 639s 855ms/step - loss: 1.5020 - accuracy: 0.466 - 640s 855ms/step - loss: 1.5015 - accuracy: 0.467 - 641s 855ms/step - loss: 1.5011 - accuracy: 0.467 - 641s 855ms/step - loss: 1.5008 - accuracy: 0.467 - 642s 855ms/step - loss: 1.5001 - accuracy: 0.467 - 643s 855ms/step - loss: 1.4997 - accuracy: 0.467 - 644s 855ms/step - loss: 1.4993 - accuracy: 0.467 - 645s 855ms/step - loss: 1.4989 - accuracy: 0.468 - 646s 855ms/step - loss: 1.4985 - accuracy: 0.468 - 647s 855ms/step - loss: 1.4981 - accuracy: 0.468 - 647s 855ms/step - loss: 1.4973 - accuracy: 0.468 - 648s 855ms/step - loss: 1.4970 - accuracy: 0.469 - 649s 855ms/step - loss: 1.4964 - accuracy: 0.469 - 650s 855ms/step - loss: 1.4958 - accuracy: 0.469 - 651s 855ms/step - loss: 1.4956 - accuracy: 0.469 - 652s 855ms/step - loss: 1.4954 - accuracy: 0.469 - 653s 855ms/step - loss: 1.4949 - accuracy: 0.469 - 653s 855ms/step - loss: 1.4949 - accuracy: 0.469 - 654s 855ms/step - loss: 1.4946 - accuracy: 0.469 - 655s 855ms/step - loss: 1.4940 - accuracy: 0.470 - 656s 855ms/step - loss: 1.4935 - accuracy: 0.470 - 657s 855ms/step - loss: 1.4927 - accuracy: 0.470 - 658s 855ms/step - loss: 1.4920 - accuracy: 0.471 - 659s 855ms/step - loss: 1.4916 - accuracy: 0.471 - 659s 855ms/step - loss: 1.4910 - accuracy: 0.471 - 660s 855ms/step - loss: 1.4903 - accuracy: 0.471 - 661s 855ms/step - loss: 1.4899 - accuracy: 0.471 - 662s 855ms/step - loss: 1.4895 - accuracy: 0.471 - 663s 855ms/step - loss: 1.4889 - accuracy: 0.472 - 664s 855ms/step - loss: 1.4884 - accuracy: 0.472 - 665s 855ms/step - loss: 1.4880 - accuracy: 0.472 - 665s 855ms/step - loss: 1.4873 - accuracy: 0.472 - 666s 855ms/step - loss: 1.4867 - accuracy: 0.473 - 667s 855ms/step - loss: 1.4863 - accuracy: 0.473 - 668s 855ms/step - loss: 1.4857 - accuracy: 0.473 - 669s 855ms/step - loss: 1.4852 - accuracy: 0.473 - 693s 886ms/step - loss: 1.4852 - accuracy: 0.4737 - val_loss: 1.6251 - val_accuracy: 0.4522\n",
      "Epoch 2/2\n"
     ]
    },
    {
     "name": "stdout",
     "output_type": "stream",
     "text": [
      "181/782 [=====>........................] - ETA: 15:09 - loss: 0.9910 - accuracy: 0.718 - ETA: 13:24 - loss: 1.0900 - accuracy: 0.648 - ETA: 12:46 - loss: 1.1109 - accuracy: 0.625 - ETA: 12:26 - loss: 1.1034 - accuracy: 0.628 - ETA: 12:10 - loss: 1.0563 - accuracy: 0.643 - ETA: 12:01 - loss: 1.0341 - accuracy: 0.653 - ETA: 11:54 - loss: 1.0687 - accuracy: 0.649 - ETA: 11:49 - loss: 1.0987 - accuracy: 0.634 - ETA: 11:45 - loss: 1.0763 - accuracy: 0.647 - ETA: 11:42 - loss: 1.0734 - accuracy: 0.648 - ETA: 11:39 - loss: 1.1171 - accuracy: 0.643 - ETA: 11:36 - loss: 1.1159 - accuracy: 0.645 - ETA: 11:33 - loss: 1.1167 - accuracy: 0.643 - ETA: 11:30 - loss: 1.1145 - accuracy: 0.645 - ETA: 11:27 - loss: 1.1202 - accuracy: 0.641 - ETA: 11:25 - loss: 1.1129 - accuracy: 0.645 - ETA: 11:24 - loss: 1.1120 - accuracy: 0.648 - ETA: 11:22 - loss: 1.1021 - accuracy: 0.651 - ETA: 11:20 - loss: 1.1002 - accuracy: 0.650 - ETA: 11:19 - loss: 1.0973 - accuracy: 0.646 - ETA: 11:17 - loss: 1.0929 - accuracy: 0.650 - ETA: 11:15 - loss: 1.0931 - accuracy: 0.649 - ETA: 11:14 - loss: 1.0846 - accuracy: 0.650 - ETA: 11:13 - loss: 1.0762 - accuracy: 0.654 - ETA: 11:11 - loss: 1.0746 - accuracy: 0.652 - ETA: 11:10 - loss: 1.0706 - accuracy: 0.655 - ETA: 11:09 - loss: 1.0765 - accuracy: 0.652 - ETA: 11:08 - loss: 1.0788 - accuracy: 0.650 - ETA: 11:06 - loss: 1.0775 - accuracy: 0.649 - ETA: 11:05 - loss: 1.0781 - accuracy: 0.647 - ETA: 11:04 - loss: 1.0807 - accuracy: 0.648 - ETA: 11:03 - loss: 1.0734 - accuracy: 0.651 - ETA: 11:02 - loss: 1.0722 - accuracy: 0.652 - ETA: 11:01 - loss: 1.0680 - accuracy: 0.653 - ETA: 11:00 - loss: 1.0690 - accuracy: 0.653 - ETA: 10:58 - loss: 1.0692 - accuracy: 0.654 - ETA: 10:58 - loss: 1.0661 - accuracy: 0.652 - ETA: 10:57 - loss: 1.0580 - accuracy: 0.655 - ETA: 10:56 - loss: 1.0577 - accuracy: 0.655 - ETA: 10:55 - loss: 1.0536 - accuracy: 0.655 - ETA: 10:54 - loss: 1.0489 - accuracy: 0.657 - ETA: 10:53 - loss: 1.0503 - accuracy: 0.658 - ETA: 10:52 - loss: 1.0481 - accuracy: 0.659 - ETA: 10:51 - loss: 1.0472 - accuracy: 0.659 - ETA: 10:50 - loss: 1.0471 - accuracy: 0.659 - ETA: 10:49 - loss: 1.0437 - accuracy: 0.659 - ETA: 10:48 - loss: 1.0437 - accuracy: 0.659 - ETA: 10:47 - loss: 1.0476 - accuracy: 0.658 - ETA: 10:46 - loss: 1.0473 - accuracy: 0.660 - ETA: 10:45 - loss: 1.0415 - accuracy: 0.663 - ETA: 10:44 - loss: 1.0403 - accuracy: 0.663 - ETA: 10:43 - loss: 1.0399 - accuracy: 0.663 - ETA: 10:42 - loss: 1.0378 - accuracy: 0.663 - ETA: 10:41 - loss: 1.0364 - accuracy: 0.663 - ETA: 10:40 - loss: 1.0334 - accuracy: 0.665 - ETA: 10:39 - loss: 1.0337 - accuracy: 0.663 - ETA: 10:38 - loss: 1.0325 - accuracy: 0.665 - ETA: 10:37 - loss: 1.0347 - accuracy: 0.664 - ETA: 10:36 - loss: 1.0379 - accuracy: 0.662 - ETA: 10:35 - loss: 1.0383 - accuracy: 0.661 - ETA: 10:34 - loss: 1.0362 - accuracy: 0.662 - ETA: 10:33 - loss: 1.0363 - accuracy: 0.663 - ETA: 10:32 - loss: 1.0368 - accuracy: 0.662 - ETA: 10:31 - loss: 1.0423 - accuracy: 0.661 - ETA: 10:31 - loss: 1.0423 - accuracy: 0.659 - ETA: 10:30 - loss: 1.0425 - accuracy: 0.658 - ETA: 10:29 - loss: 1.0401 - accuracy: 0.659 - ETA: 10:28 - loss: 1.0391 - accuracy: 0.659 - ETA: 10:27 - loss: 1.0368 - accuracy: 0.661 - ETA: 10:26 - loss: 1.0392 - accuracy: 0.660 - ETA: 10:25 - loss: 1.0378 - accuracy: 0.660 - ETA: 10:24 - loss: 1.0406 - accuracy: 0.659 - ETA: 10:23 - loss: 1.0389 - accuracy: 0.660 - ETA: 10:22 - loss: 1.0389 - accuracy: 0.660 - ETA: 10:21 - loss: 1.0392 - accuracy: 0.660 - ETA: 10:20 - loss: 1.0370 - accuracy: 0.661 - ETA: 10:20 - loss: 1.0381 - accuracy: 0.660 - ETA: 10:19 - loss: 1.0369 - accuracy: 0.660 - ETA: 10:18 - loss: 1.0398 - accuracy: 0.658 - ETA: 10:17 - loss: 1.0379 - accuracy: 0.658 - ETA: 10:16 - loss: 1.0384 - accuracy: 0.658 - ETA: 10:15 - loss: 1.0412 - accuracy: 0.658 - ETA: 10:14 - loss: 1.0391 - accuracy: 0.658 - ETA: 10:13 - loss: 1.0425 - accuracy: 0.657 - ETA: 10:12 - loss: 1.0412 - accuracy: 0.659 - ETA: 10:11 - loss: 1.0431 - accuracy: 0.658 - ETA: 10:10 - loss: 1.0432 - accuracy: 0.658 - ETA: 10:10 - loss: 1.0439 - accuracy: 0.658 - ETA: 10:09 - loss: 1.0431 - accuracy: 0.658 - ETA: 10:08 - loss: 1.0417 - accuracy: 0.659 - ETA: 10:07 - loss: 1.0413 - accuracy: 0.659 - ETA: 10:06 - loss: 1.0414 - accuracy: 0.659 - ETA: 10:05 - loss: 1.0424 - accuracy: 0.658 - ETA: 10:04 - loss: 1.0423 - accuracy: 0.659 - ETA: 10:03 - loss: 1.0412 - accuracy: 0.659 - ETA: 10:02 - loss: 1.0391 - accuracy: 0.660 - ETA: 10:01 - loss: 1.0372 - accuracy: 0.660 - ETA: 10:01 - loss: 1.0382 - accuracy: 0.660 - ETA: 10:00 - loss: 1.0384 - accuracy: 0.660 - ETA: 9:59 - loss: 1.0393 - accuracy: 0.660 - ETA: 9:58 - loss: 1.0382 - accuracy: 0.66 - ETA: 9:57 - loss: 1.0367 - accuracy: 0.66 - ETA: 9:56 - loss: 1.0344 - accuracy: 0.66 - ETA: 9:55 - loss: 1.0351 - accuracy: 0.66 - ETA: 9:54 - loss: 1.0340 - accuracy: 0.66 - ETA: 9:54 - loss: 1.0322 - accuracy: 0.66 - ETA: 9:53 - loss: 1.0329 - accuracy: 0.66 - ETA: 9:52 - loss: 1.0336 - accuracy: 0.66 - ETA: 9:51 - loss: 1.0331 - accuracy: 0.66 - ETA: 9:50 - loss: 1.0340 - accuracy: 0.66 - ETA: 9:49 - loss: 1.0357 - accuracy: 0.66 - ETA: 9:48 - loss: 1.0332 - accuracy: 0.66 - ETA: 9:47 - loss: 1.0332 - accuracy: 0.66 - ETA: 9:46 - loss: 1.0325 - accuracy: 0.66 - ETA: 9:45 - loss: 1.0345 - accuracy: 0.66 - ETA: 9:44 - loss: 1.0336 - accuracy: 0.66 - ETA: 9:44 - loss: 1.0338 - accuracy: 0.66 - ETA: 9:43 - loss: 1.0371 - accuracy: 0.66 - ETA: 9:42 - loss: 1.0358 - accuracy: 0.66 - ETA: 9:41 - loss: 1.0342 - accuracy: 0.66 - ETA: 9:40 - loss: 1.0345 - accuracy: 0.66 - ETA: 9:39 - loss: 1.0342 - accuracy: 0.66 - ETA: 9:38 - loss: 1.0340 - accuracy: 0.66 - ETA: 9:37 - loss: 1.0329 - accuracy: 0.66 - ETA: 9:36 - loss: 1.0317 - accuracy: 0.66 - ETA: 9:36 - loss: 1.0302 - accuracy: 0.66 - ETA: 9:35 - loss: 1.0283 - accuracy: 0.66 - ETA: 9:34 - loss: 1.0276 - accuracy: 0.66 - ETA: 9:33 - loss: 1.0269 - accuracy: 0.66 - ETA: 9:32 - loss: 1.0263 - accuracy: 0.66 - ETA: 9:31 - loss: 1.0268 - accuracy: 0.66 - ETA: 9:30 - loss: 1.0274 - accuracy: 0.66 - ETA: 9:29 - loss: 1.0260 - accuracy: 0.66 - ETA: 9:29 - loss: 1.0256 - accuracy: 0.66 - ETA: 9:28 - loss: 1.0250 - accuracy: 0.66 - ETA: 9:27 - loss: 1.0232 - accuracy: 0.66 - ETA: 9:26 - loss: 1.0241 - accuracy: 0.66 - ETA: 9:25 - loss: 1.0230 - accuracy: 0.66 - ETA: 9:24 - loss: 1.0230 - accuracy: 0.66 - ETA: 9:23 - loss: 1.0239 - accuracy: 0.66 - ETA: 9:22 - loss: 1.0230 - accuracy: 0.66 - ETA: 9:22 - loss: 1.0235 - accuracy: 0.66 - ETA: 9:21 - loss: 1.0232 - accuracy: 0.66 - ETA: 9:20 - loss: 1.0224 - accuracy: 0.66 - ETA: 9:19 - loss: 1.0221 - accuracy: 0.66 - ETA: 9:18 - loss: 1.0222 - accuracy: 0.66 - ETA: 9:17 - loss: 1.0230 - accuracy: 0.66 - ETA: 9:16 - loss: 1.0231 - accuracy: 0.66 - ETA: 9:16 - loss: 1.0224 - accuracy: 0.66 - ETA: 9:15 - loss: 1.0201 - accuracy: 0.66 - ETA: 9:14 - loss: 1.0206 - accuracy: 0.66 - ETA: 9:13 - loss: 1.0213 - accuracy: 0.66 - ETA: 9:12 - loss: 1.0214 - accuracy: 0.66 - ETA: 9:11 - loss: 1.0214 - accuracy: 0.66 - ETA: 9:10 - loss: 1.0217 - accuracy: 0.66 - ETA: 9:10 - loss: 1.0210 - accuracy: 0.66 - ETA: 9:09 - loss: 1.0209 - accuracy: 0.66 - ETA: 9:08 - loss: 1.0217 - accuracy: 0.66 - ETA: 9:07 - loss: 1.0223 - accuracy: 0.66 - ETA: 9:06 - loss: 1.0213 - accuracy: 0.66 - ETA: 9:05 - loss: 1.0213 - accuracy: 0.66 - ETA: 9:04 - loss: 1.0216 - accuracy: 0.66 - ETA: 9:03 - loss: 1.0209 - accuracy: 0.66 - ETA: 9:03 - loss: 1.0222 - accuracy: 0.66 - ETA: 9:02 - loss: 1.0224 - accuracy: 0.66 - ETA: 9:01 - loss: 1.0226 - accuracy: 0.66 - ETA: 9:00 - loss: 1.0218 - accuracy: 0.66 - ETA: 8:59 - loss: 1.0206 - accuracy: 0.66 - ETA: 8:58 - loss: 1.0211 - accuracy: 0.66 - ETA: 8:57 - loss: 1.0211 - accuracy: 0.66 - ETA: 8:57 - loss: 1.0224 - accuracy: 0.66 - ETA: 8:56 - loss: 1.0225 - accuracy: 0.66 - ETA: 8:55 - loss: 1.0225 - accuracy: 0.66 - ETA: 8:54 - loss: 1.0223 - accuracy: 0.66 - ETA: 8:53 - loss: 1.0225 - accuracy: 0.66 - ETA: 8:52 - loss: 1.0218 - accuracy: 0.66 - ETA: 8:51 - loss: 1.0223 - accuracy: 0.66 - ETA: 8:50 - loss: 1.0226 - accuracy: 0.66 - ETA: 8:50 - loss: 1.0233 - accuracy: 0.66 - ETA: 8:49 - loss: 1.0238 - accuracy: 0.66 - ETA: 8:48 - loss: 1.0230 - accuracy: 0.6682"
     ]
    },
    {
     "name": "stdout",
     "output_type": "stream",
     "text": [
      "367/782 [=============>................] - ETA: 8:47 - loss: 1.0232 - accuracy: 0.66 - ETA: 8:46 - loss: 1.0232 - accuracy: 0.66 - ETA: 8:45 - loss: 1.0226 - accuracy: 0.66 - ETA: 8:44 - loss: 1.0229 - accuracy: 0.66 - ETA: 8:43 - loss: 1.0233 - accuracy: 0.66 - ETA: 8:43 - loss: 1.0228 - accuracy: 0.66 - ETA: 8:42 - loss: 1.0233 - accuracy: 0.66 - ETA: 8:41 - loss: 1.0236 - accuracy: 0.66 - ETA: 8:40 - loss: 1.0241 - accuracy: 0.66 - ETA: 8:39 - loss: 1.0232 - accuracy: 0.66 - ETA: 8:38 - loss: 1.0217 - accuracy: 0.66 - ETA: 8:37 - loss: 1.0207 - accuracy: 0.66 - ETA: 8:36 - loss: 1.0192 - accuracy: 0.66 - ETA: 8:36 - loss: 1.0184 - accuracy: 0.66 - ETA: 8:35 - loss: 1.0178 - accuracy: 0.66 - ETA: 8:34 - loss: 1.0186 - accuracy: 0.66 - ETA: 8:34 - loss: 1.0173 - accuracy: 0.66 - ETA: 8:33 - loss: 1.0171 - accuracy: 0.66 - ETA: 8:32 - loss: 1.0173 - accuracy: 0.66 - ETA: 8:31 - loss: 1.0171 - accuracy: 0.66 - ETA: 8:30 - loss: 1.0165 - accuracy: 0.66 - ETA: 8:29 - loss: 1.0159 - accuracy: 0.66 - ETA: 8:29 - loss: 1.0162 - accuracy: 0.66 - ETA: 8:28 - loss: 1.0157 - accuracy: 0.66 - ETA: 8:27 - loss: 1.0142 - accuracy: 0.66 - ETA: 8:26 - loss: 1.0143 - accuracy: 0.66 - ETA: 8:25 - loss: 1.0138 - accuracy: 0.66 - ETA: 8:23 - loss: 1.0130 - accuracy: 0.66 - ETA: 8:22 - loss: 1.0119 - accuracy: 0.66 - ETA: 8:21 - loss: 1.0117 - accuracy: 0.66 - ETA: 8:20 - loss: 1.0126 - accuracy: 0.66 - ETA: 8:19 - loss: 1.0116 - accuracy: 0.66 - ETA: 8:18 - loss: 1.0121 - accuracy: 0.66 - ETA: 8:18 - loss: 1.0118 - accuracy: 0.66 - ETA: 8:17 - loss: 1.0113 - accuracy: 0.66 - ETA: 8:16 - loss: 1.0116 - accuracy: 0.66 - ETA: 8:15 - loss: 1.0113 - accuracy: 0.66 - ETA: 8:14 - loss: 1.0114 - accuracy: 0.66 - ETA: 8:13 - loss: 1.0116 - accuracy: 0.66 - ETA: 8:13 - loss: 1.0119 - accuracy: 0.66 - ETA: 8:12 - loss: 1.0123 - accuracy: 0.66 - ETA: 8:11 - loss: 1.0114 - accuracy: 0.66 - ETA: 8:10 - loss: 1.0108 - accuracy: 0.66 - ETA: 8:09 - loss: 1.0105 - accuracy: 0.66 - ETA: 8:08 - loss: 1.0095 - accuracy: 0.66 - ETA: 8:07 - loss: 1.0085 - accuracy: 0.66 - ETA: 8:07 - loss: 1.0093 - accuracy: 0.66 - ETA: 8:06 - loss: 1.0091 - accuracy: 0.66 - ETA: 8:05 - loss: 1.0081 - accuracy: 0.66 - ETA: 8:04 - loss: 1.0084 - accuracy: 0.66 - ETA: 8:03 - loss: 1.0082 - accuracy: 0.67 - ETA: 8:02 - loss: 1.0072 - accuracy: 0.67 - ETA: 8:01 - loss: 1.0069 - accuracy: 0.67 - ETA: 8:00 - loss: 1.0067 - accuracy: 0.67 - ETA: 8:00 - loss: 1.0072 - accuracy: 0.67 - ETA: 7:59 - loss: 1.0075 - accuracy: 0.67 - ETA: 7:58 - loss: 1.0072 - accuracy: 0.67 - ETA: 7:57 - loss: 1.0078 - accuracy: 0.67 - ETA: 7:56 - loss: 1.0070 - accuracy: 0.67 - ETA: 7:55 - loss: 1.0078 - accuracy: 0.67 - ETA: 7:55 - loss: 1.0076 - accuracy: 0.67 - ETA: 7:54 - loss: 1.0074 - accuracy: 0.67 - ETA: 7:53 - loss: 1.0073 - accuracy: 0.67 - ETA: 7:52 - loss: 1.0083 - accuracy: 0.67 - ETA: 7:51 - loss: 1.0081 - accuracy: 0.67 - ETA: 7:50 - loss: 1.0068 - accuracy: 0.67 - ETA: 7:49 - loss: 1.0066 - accuracy: 0.67 - ETA: 7:49 - loss: 1.0058 - accuracy: 0.67 - ETA: 7:48 - loss: 1.0060 - accuracy: 0.67 - ETA: 7:47 - loss: 1.0057 - accuracy: 0.67 - ETA: 7:46 - loss: 1.0045 - accuracy: 0.67 - ETA: 7:45 - loss: 1.0037 - accuracy: 0.67 - ETA: 7:44 - loss: 1.0035 - accuracy: 0.67 - ETA: 7:43 - loss: 1.0048 - accuracy: 0.67 - ETA: 7:42 - loss: 1.0038 - accuracy: 0.67 - ETA: 7:41 - loss: 1.0038 - accuracy: 0.67 - ETA: 7:41 - loss: 1.0031 - accuracy: 0.67 - ETA: 7:40 - loss: 1.0029 - accuracy: 0.67 - ETA: 7:39 - loss: 1.0036 - accuracy: 0.67 - ETA: 7:38 - loss: 1.0041 - accuracy: 0.67 - ETA: 7:37 - loss: 1.0037 - accuracy: 0.67 - ETA: 7:36 - loss: 1.0037 - accuracy: 0.67 - ETA: 7:36 - loss: 1.0027 - accuracy: 0.67 - ETA: 7:35 - loss: 1.0030 - accuracy: 0.67 - ETA: 7:34 - loss: 1.0031 - accuracy: 0.67 - ETA: 7:33 - loss: 1.0031 - accuracy: 0.67 - ETA: 7:32 - loss: 1.0038 - accuracy: 0.67 - ETA: 7:31 - loss: 1.0036 - accuracy: 0.67 - ETA: 7:31 - loss: 1.0037 - accuracy: 0.67 - ETA: 7:30 - loss: 1.0033 - accuracy: 0.67 - ETA: 7:29 - loss: 1.0029 - accuracy: 0.67 - ETA: 7:28 - loss: 1.0032 - accuracy: 0.67 - ETA: 7:27 - loss: 1.0034 - accuracy: 0.67 - ETA: 7:26 - loss: 1.0031 - accuracy: 0.67 - ETA: 7:26 - loss: 1.0037 - accuracy: 0.67 - ETA: 7:25 - loss: 1.0038 - accuracy: 0.67 - ETA: 7:24 - loss: 1.0035 - accuracy: 0.67 - ETA: 7:23 - loss: 1.0041 - accuracy: 0.67 - ETA: 7:22 - loss: 1.0034 - accuracy: 0.67 - ETA: 7:21 - loss: 1.0032 - accuracy: 0.67 - ETA: 7:21 - loss: 1.0028 - accuracy: 0.67 - ETA: 7:20 - loss: 1.0028 - accuracy: 0.67 - ETA: 7:19 - loss: 1.0025 - accuracy: 0.67 - ETA: 7:18 - loss: 1.0026 - accuracy: 0.67 - ETA: 7:17 - loss: 1.0013 - accuracy: 0.67 - ETA: 7:16 - loss: 1.0020 - accuracy: 0.67 - ETA: 7:15 - loss: 1.0018 - accuracy: 0.67 - ETA: 7:14 - loss: 1.0015 - accuracy: 0.67 - ETA: 7:14 - loss: 1.0008 - accuracy: 0.67 - ETA: 7:13 - loss: 1.0005 - accuracy: 0.67 - ETA: 7:12 - loss: 1.0000 - accuracy: 0.67 - ETA: 7:11 - loss: 0.9996 - accuracy: 0.67 - ETA: 7:10 - loss: 0.9991 - accuracy: 0.67 - ETA: 7:09 - loss: 0.9991 - accuracy: 0.67 - ETA: 7:08 - loss: 0.9998 - accuracy: 0.67 - ETA: 7:07 - loss: 0.9989 - accuracy: 0.67 - ETA: 7:07 - loss: 0.9983 - accuracy: 0.67 - ETA: 7:06 - loss: 0.9974 - accuracy: 0.67 - ETA: 7:05 - loss: 0.9973 - accuracy: 0.67 - ETA: 7:04 - loss: 0.9966 - accuracy: 0.67 - ETA: 7:03 - loss: 0.9960 - accuracy: 0.67 - ETA: 7:02 - loss: 0.9955 - accuracy: 0.67 - ETA: 7:02 - loss: 0.9955 - accuracy: 0.67 - ETA: 7:01 - loss: 0.9948 - accuracy: 0.67 - ETA: 7:00 - loss: 0.9951 - accuracy: 0.67 - ETA: 6:59 - loss: 0.9955 - accuracy: 0.67 - ETA: 6:58 - loss: 0.9954 - accuracy: 0.67 - ETA: 6:57 - loss: 0.9953 - accuracy: 0.67 - ETA: 6:56 - loss: 0.9959 - accuracy: 0.67 - ETA: 6:56 - loss: 0.9957 - accuracy: 0.67 - ETA: 6:55 - loss: 0.9950 - accuracy: 0.67 - ETA: 6:54 - loss: 0.9948 - accuracy: 0.67 - ETA: 6:53 - loss: 0.9940 - accuracy: 0.67 - ETA: 6:52 - loss: 0.9939 - accuracy: 0.67 - ETA: 6:51 - loss: 0.9931 - accuracy: 0.67 - ETA: 6:50 - loss: 0.9926 - accuracy: 0.67 - ETA: 6:49 - loss: 0.9919 - accuracy: 0.67 - ETA: 6:49 - loss: 0.9915 - accuracy: 0.67 - ETA: 6:48 - loss: 0.9911 - accuracy: 0.67 - ETA: 6:47 - loss: 0.9913 - accuracy: 0.67 - ETA: 6:46 - loss: 0.9915 - accuracy: 0.67 - ETA: 6:45 - loss: 0.9912 - accuracy: 0.67 - ETA: 6:44 - loss: 0.9906 - accuracy: 0.67 - ETA: 6:43 - loss: 0.9911 - accuracy: 0.67 - ETA: 6:42 - loss: 0.9911 - accuracy: 0.67 - ETA: 6:42 - loss: 0.9914 - accuracy: 0.67 - ETA: 6:41 - loss: 0.9922 - accuracy: 0.67 - ETA: 6:40 - loss: 0.9922 - accuracy: 0.67 - ETA: 6:39 - loss: 0.9925 - accuracy: 0.67 - ETA: 6:38 - loss: 0.9925 - accuracy: 0.67 - ETA: 6:37 - loss: 0.9919 - accuracy: 0.67 - ETA: 6:36 - loss: 0.9923 - accuracy: 0.67 - ETA: 6:35 - loss: 0.9926 - accuracy: 0.67 - ETA: 6:34 - loss: 0.9930 - accuracy: 0.67 - ETA: 6:34 - loss: 0.9933 - accuracy: 0.67 - ETA: 6:33 - loss: 0.9931 - accuracy: 0.67 - ETA: 6:32 - loss: 0.9931 - accuracy: 0.67 - ETA: 6:31 - loss: 0.9930 - accuracy: 0.67 - ETA: 6:30 - loss: 0.9931 - accuracy: 0.67 - ETA: 6:29 - loss: 0.9929 - accuracy: 0.67 - ETA: 6:28 - loss: 0.9926 - accuracy: 0.67 - ETA: 6:27 - loss: 0.9917 - accuracy: 0.67 - ETA: 6:27 - loss: 0.9917 - accuracy: 0.67 - ETA: 6:26 - loss: 0.9909 - accuracy: 0.67 - ETA: 6:25 - loss: 0.9907 - accuracy: 0.67 - ETA: 6:24 - loss: 0.9905 - accuracy: 0.67 - ETA: 6:23 - loss: 0.9900 - accuracy: 0.67 - ETA: 6:22 - loss: 0.9898 - accuracy: 0.67 - ETA: 6:21 - loss: 0.9897 - accuracy: 0.67 - ETA: 6:21 - loss: 0.9891 - accuracy: 0.67 - ETA: 6:20 - loss: 0.9884 - accuracy: 0.67 - ETA: 6:19 - loss: 0.9881 - accuracy: 0.67 - ETA: 6:18 - loss: 0.9877 - accuracy: 0.67 - ETA: 6:17 - loss: 0.9876 - accuracy: 0.67 - ETA: 6:16 - loss: 0.9876 - accuracy: 0.67 - ETA: 6:16 - loss: 0.9883 - accuracy: 0.67 - ETA: 6:15 - loss: 0.9878 - accuracy: 0.67 - ETA: 6:14 - loss: 0.9871 - accuracy: 0.67 - ETA: 6:13 - loss: 0.9870 - accuracy: 0.67 - ETA: 6:12 - loss: 0.9866 - accuracy: 0.67 - ETA: 6:11 - loss: 0.9868 - accuracy: 0.67 - ETA: 6:10 - loss: 0.9865 - accuracy: 0.67 - ETA: 6:09 - loss: 0.9861 - accuracy: 0.67 - ETA: 6:09 - loss: 0.9864 - accuracy: 0.67 - ETA: 6:08 - loss: 0.9860 - accuracy: 0.67 - ETA: 6:07 - loss: 0.9850 - accuracy: 0.6793"
     ]
    },
    {
     "name": "stdout",
     "output_type": "stream",
     "text": [
      "553/782 [====================>.........] - ETA: 6:06 - loss: 0.9849 - accuracy: 0.67 - ETA: 6:05 - loss: 0.9841 - accuracy: 0.67 - ETA: 6:04 - loss: 0.9846 - accuracy: 0.67 - ETA: 6:03 - loss: 0.9845 - accuracy: 0.67 - ETA: 6:03 - loss: 0.9845 - accuracy: 0.67 - ETA: 6:02 - loss: 0.9844 - accuracy: 0.67 - ETA: 6:01 - loss: 0.9842 - accuracy: 0.67 - ETA: 6:00 - loss: 0.9848 - accuracy: 0.67 - ETA: 5:59 - loss: 0.9857 - accuracy: 0.67 - ETA: 5:58 - loss: 0.9851 - accuracy: 0.67 - ETA: 5:57 - loss: 0.9849 - accuracy: 0.67 - ETA: 5:56 - loss: 0.9842 - accuracy: 0.67 - ETA: 5:56 - loss: 0.9839 - accuracy: 0.67 - ETA: 5:55 - loss: 0.9837 - accuracy: 0.67 - ETA: 5:54 - loss: 0.9841 - accuracy: 0.67 - ETA: 5:53 - loss: 0.9841 - accuracy: 0.67 - ETA: 5:52 - loss: 0.9841 - accuracy: 0.67 - ETA: 5:51 - loss: 0.9837 - accuracy: 0.67 - ETA: 5:50 - loss: 0.9839 - accuracy: 0.67 - ETA: 5:49 - loss: 0.9833 - accuracy: 0.68 - ETA: 5:49 - loss: 0.9830 - accuracy: 0.68 - ETA: 5:48 - loss: 0.9829 - accuracy: 0.68 - ETA: 5:47 - loss: 0.9831 - accuracy: 0.68 - ETA: 5:46 - loss: 0.9828 - accuracy: 0.68 - ETA: 5:45 - loss: 0.9826 - accuracy: 0.68 - ETA: 5:44 - loss: 0.9823 - accuracy: 0.68 - ETA: 5:43 - loss: 0.9818 - accuracy: 0.68 - ETA: 5:42 - loss: 0.9817 - accuracy: 0.68 - ETA: 5:42 - loss: 0.9815 - accuracy: 0.68 - ETA: 5:41 - loss: 0.9816 - accuracy: 0.68 - ETA: 5:40 - loss: 0.9812 - accuracy: 0.68 - ETA: 5:39 - loss: 0.9811 - accuracy: 0.68 - ETA: 5:38 - loss: 0.9814 - accuracy: 0.68 - ETA: 5:37 - loss: 0.9811 - accuracy: 0.68 - ETA: 5:36 - loss: 0.9810 - accuracy: 0.68 - ETA: 5:35 - loss: 0.9806 - accuracy: 0.68 - ETA: 5:35 - loss: 0.9803 - accuracy: 0.68 - ETA: 5:34 - loss: 0.9805 - accuracy: 0.68 - ETA: 5:33 - loss: 0.9805 - accuracy: 0.68 - ETA: 5:32 - loss: 0.9801 - accuracy: 0.68 - ETA: 5:31 - loss: 0.9803 - accuracy: 0.68 - ETA: 5:30 - loss: 0.9802 - accuracy: 0.68 - ETA: 5:29 - loss: 0.9802 - accuracy: 0.68 - ETA: 5:29 - loss: 0.9804 - accuracy: 0.68 - ETA: 5:28 - loss: 0.9797 - accuracy: 0.68 - ETA: 5:27 - loss: 0.9797 - accuracy: 0.68 - ETA: 5:26 - loss: 0.9798 - accuracy: 0.68 - ETA: 5:25 - loss: 0.9797 - accuracy: 0.68 - ETA: 5:24 - loss: 0.9799 - accuracy: 0.68 - ETA: 5:23 - loss: 0.9799 - accuracy: 0.68 - ETA: 5:23 - loss: 0.9801 - accuracy: 0.68 - ETA: 5:22 - loss: 0.9796 - accuracy: 0.68 - ETA: 5:21 - loss: 0.9792 - accuracy: 0.68 - ETA: 5:20 - loss: 0.9792 - accuracy: 0.68 - ETA: 5:19 - loss: 0.9794 - accuracy: 0.68 - ETA: 5:18 - loss: 0.9786 - accuracy: 0.68 - ETA: 5:18 - loss: 0.9782 - accuracy: 0.68 - ETA: 5:17 - loss: 0.9788 - accuracy: 0.68 - ETA: 5:16 - loss: 0.9785 - accuracy: 0.68 - ETA: 5:15 - loss: 0.9792 - accuracy: 0.68 - ETA: 5:14 - loss: 0.9793 - accuracy: 0.68 - ETA: 5:13 - loss: 0.9795 - accuracy: 0.68 - ETA: 5:12 - loss: 0.9795 - accuracy: 0.68 - ETA: 5:11 - loss: 0.9792 - accuracy: 0.68 - ETA: 5:10 - loss: 0.9786 - accuracy: 0.68 - ETA: 5:10 - loss: 0.9788 - accuracy: 0.68 - ETA: 5:09 - loss: 0.9784 - accuracy: 0.68 - ETA: 5:08 - loss: 0.9786 - accuracy: 0.68 - ETA: 5:07 - loss: 0.9791 - accuracy: 0.68 - ETA: 5:06 - loss: 0.9788 - accuracy: 0.68 - ETA: 5:05 - loss: 0.9791 - accuracy: 0.68 - ETA: 5:04 - loss: 0.9788 - accuracy: 0.68 - ETA: 5:04 - loss: 0.9785 - accuracy: 0.68 - ETA: 5:03 - loss: 0.9782 - accuracy: 0.68 - ETA: 5:02 - loss: 0.9778 - accuracy: 0.68 - ETA: 5:01 - loss: 0.9782 - accuracy: 0.68 - ETA: 5:00 - loss: 0.9784 - accuracy: 0.68 - ETA: 4:59 - loss: 0.9783 - accuracy: 0.68 - ETA: 4:58 - loss: 0.9784 - accuracy: 0.68 - ETA: 4:57 - loss: 0.9780 - accuracy: 0.68 - ETA: 4:56 - loss: 0.9777 - accuracy: 0.68 - ETA: 4:56 - loss: 0.9777 - accuracy: 0.68 - ETA: 4:55 - loss: 0.9771 - accuracy: 0.68 - ETA: 4:54 - loss: 0.9771 - accuracy: 0.68 - ETA: 4:53 - loss: 0.9775 - accuracy: 0.68 - ETA: 4:52 - loss: 0.9771 - accuracy: 0.68 - ETA: 4:51 - loss: 0.9767 - accuracy: 0.68 - ETA: 4:50 - loss: 0.9765 - accuracy: 0.68 - ETA: 4:49 - loss: 0.9763 - accuracy: 0.68 - ETA: 4:48 - loss: 0.9760 - accuracy: 0.68 - ETA: 4:47 - loss: 0.9756 - accuracy: 0.68 - ETA: 4:47 - loss: 0.9755 - accuracy: 0.68 - ETA: 4:46 - loss: 0.9751 - accuracy: 0.68 - ETA: 4:45 - loss: 0.9748 - accuracy: 0.68 - ETA: 4:44 - loss: 0.9748 - accuracy: 0.68 - ETA: 4:43 - loss: 0.9745 - accuracy: 0.68 - ETA: 4:42 - loss: 0.9740 - accuracy: 0.68 - ETA: 4:41 - loss: 0.9746 - accuracy: 0.68 - ETA: 4:40 - loss: 0.9744 - accuracy: 0.68 - ETA: 4:39 - loss: 0.9740 - accuracy: 0.68 - ETA: 4:39 - loss: 0.9738 - accuracy: 0.68 - ETA: 4:38 - loss: 0.9734 - accuracy: 0.68 - ETA: 4:37 - loss: 0.9735 - accuracy: 0.68 - ETA: 4:36 - loss: 0.9734 - accuracy: 0.68 - ETA: 4:35 - loss: 0.9731 - accuracy: 0.68 - ETA: 4:34 - loss: 0.9731 - accuracy: 0.68 - ETA: 4:33 - loss: 0.9732 - accuracy: 0.68 - ETA: 4:32 - loss: 0.9735 - accuracy: 0.68 - ETA: 4:31 - loss: 0.9733 - accuracy: 0.68 - ETA: 4:31 - loss: 0.9732 - accuracy: 0.68 - ETA: 4:30 - loss: 0.9730 - accuracy: 0.68 - ETA: 4:29 - loss: 0.9732 - accuracy: 0.68 - ETA: 4:28 - loss: 0.9729 - accuracy: 0.68 - ETA: 4:27 - loss: 0.9725 - accuracy: 0.68 - ETA: 4:26 - loss: 0.9724 - accuracy: 0.68 - ETA: 4:25 - loss: 0.9722 - accuracy: 0.68 - ETA: 4:24 - loss: 0.9719 - accuracy: 0.68 - ETA: 4:23 - loss: 0.9720 - accuracy: 0.68 - ETA: 4:22 - loss: 0.9714 - accuracy: 0.68 - ETA: 4:22 - loss: 0.9710 - accuracy: 0.68 - ETA: 4:21 - loss: 0.9713 - accuracy: 0.68 - ETA: 4:20 - loss: 0.9711 - accuracy: 0.68 - ETA: 4:19 - loss: 0.9713 - accuracy: 0.68 - ETA: 4:18 - loss: 0.9711 - accuracy: 0.68 - ETA: 4:17 - loss: 0.9710 - accuracy: 0.68 - ETA: 4:16 - loss: 0.9710 - accuracy: 0.68 - ETA: 4:15 - loss: 0.9708 - accuracy: 0.68 - ETA: 4:14 - loss: 0.9708 - accuracy: 0.68 - ETA: 4:14 - loss: 0.9707 - accuracy: 0.68 - ETA: 4:13 - loss: 0.9702 - accuracy: 0.68 - ETA: 4:12 - loss: 0.9698 - accuracy: 0.68 - ETA: 4:11 - loss: 0.9695 - accuracy: 0.68 - ETA: 4:10 - loss: 0.9697 - accuracy: 0.68 - ETA: 4:09 - loss: 0.9693 - accuracy: 0.68 - ETA: 4:08 - loss: 0.9686 - accuracy: 0.68 - ETA: 4:07 - loss: 0.9680 - accuracy: 0.68 - ETA: 4:06 - loss: 0.9683 - accuracy: 0.68 - ETA: 4:06 - loss: 0.9687 - accuracy: 0.68 - ETA: 4:05 - loss: 0.9694 - accuracy: 0.68 - ETA: 4:04 - loss: 0.9697 - accuracy: 0.68 - ETA: 4:03 - loss: 0.9698 - accuracy: 0.68 - ETA: 4:02 - loss: 0.9695 - accuracy: 0.68 - ETA: 4:01 - loss: 0.9691 - accuracy: 0.68 - ETA: 4:00 - loss: 0.9696 - accuracy: 0.68 - ETA: 3:59 - loss: 0.9697 - accuracy: 0.68 - ETA: 3:58 - loss: 0.9701 - accuracy: 0.68 - ETA: 3:58 - loss: 0.9705 - accuracy: 0.68 - ETA: 3:57 - loss: 0.9704 - accuracy: 0.68 - ETA: 3:56 - loss: 0.9698 - accuracy: 0.68 - ETA: 3:55 - loss: 0.9702 - accuracy: 0.68 - ETA: 3:54 - loss: 0.9701 - accuracy: 0.68 - ETA: 3:53 - loss: 0.9698 - accuracy: 0.68 - ETA: 3:52 - loss: 0.9698 - accuracy: 0.68 - ETA: 3:51 - loss: 0.9696 - accuracy: 0.68 - ETA: 3:51 - loss: 0.9691 - accuracy: 0.68 - ETA: 3:50 - loss: 0.9700 - accuracy: 0.68 - ETA: 3:49 - loss: 0.9694 - accuracy: 0.68 - ETA: 3:48 - loss: 0.9692 - accuracy: 0.68 - ETA: 3:47 - loss: 0.9686 - accuracy: 0.68 - ETA: 3:46 - loss: 0.9687 - accuracy: 0.68 - ETA: 3:45 - loss: 0.9684 - accuracy: 0.68 - ETA: 3:44 - loss: 0.9682 - accuracy: 0.68 - ETA: 3:43 - loss: 0.9681 - accuracy: 0.68 - ETA: 3:43 - loss: 0.9685 - accuracy: 0.68 - ETA: 3:42 - loss: 0.9685 - accuracy: 0.68 - ETA: 3:41 - loss: 0.9682 - accuracy: 0.68 - ETA: 3:40 - loss: 0.9686 - accuracy: 0.68 - ETA: 3:39 - loss: 0.9685 - accuracy: 0.68 - ETA: 3:38 - loss: 0.9684 - accuracy: 0.68 - ETA: 3:37 - loss: 0.9684 - accuracy: 0.68 - ETA: 3:36 - loss: 0.9687 - accuracy: 0.68 - ETA: 3:35 - loss: 0.9685 - accuracy: 0.68 - ETA: 3:35 - loss: 0.9689 - accuracy: 0.68 - ETA: 3:34 - loss: 0.9688 - accuracy: 0.68 - ETA: 3:33 - loss: 0.9684 - accuracy: 0.68 - ETA: 3:32 - loss: 0.9682 - accuracy: 0.68 - ETA: 3:31 - loss: 0.9680 - accuracy: 0.68 - ETA: 3:30 - loss: 0.9681 - accuracy: 0.68 - ETA: 3:29 - loss: 0.9679 - accuracy: 0.68 - ETA: 3:28 - loss: 0.9681 - accuracy: 0.68 - ETA: 3:27 - loss: 0.9677 - accuracy: 0.68 - ETA: 3:27 - loss: 0.9674 - accuracy: 0.68 - ETA: 3:26 - loss: 0.9674 - accuracy: 0.68 - ETA: 3:25 - loss: 0.9670 - accuracy: 0.68 - ETA: 3:24 - loss: 0.9666 - accuracy: 0.68 - ETA: 3:23 - loss: 0.9666 - accuracy: 0.6870"
     ]
    },
    {
     "name": "stdout",
     "output_type": "stream",
     "text": [
      "739/782 [===========================>..] - ETA: 3:22 - loss: 0.9665 - accuracy: 0.68 - ETA: 3:21 - loss: 0.9661 - accuracy: 0.68 - ETA: 3:20 - loss: 0.9661 - accuracy: 0.68 - ETA: 3:19 - loss: 0.9658 - accuracy: 0.68 - ETA: 3:19 - loss: 0.9659 - accuracy: 0.68 - ETA: 3:18 - loss: 0.9656 - accuracy: 0.68 - ETA: 3:17 - loss: 0.9651 - accuracy: 0.68 - ETA: 3:16 - loss: 0.9649 - accuracy: 0.68 - ETA: 3:15 - loss: 0.9646 - accuracy: 0.68 - ETA: 3:14 - loss: 0.9653 - accuracy: 0.68 - ETA: 3:13 - loss: 0.9649 - accuracy: 0.68 - ETA: 3:12 - loss: 0.9649 - accuracy: 0.68 - ETA: 3:11 - loss: 0.9649 - accuracy: 0.68 - ETA: 3:10 - loss: 0.9645 - accuracy: 0.68 - ETA: 3:10 - loss: 0.9641 - accuracy: 0.68 - ETA: 3:09 - loss: 0.9641 - accuracy: 0.68 - ETA: 3:08 - loss: 0.9645 - accuracy: 0.68 - ETA: 3:07 - loss: 0.9643 - accuracy: 0.68 - ETA: 3:06 - loss: 0.9643 - accuracy: 0.68 - ETA: 3:05 - loss: 0.9644 - accuracy: 0.68 - ETA: 3:04 - loss: 0.9641 - accuracy: 0.68 - ETA: 3:03 - loss: 0.9644 - accuracy: 0.68 - ETA: 3:02 - loss: 0.9642 - accuracy: 0.68 - ETA: 3:02 - loss: 0.9635 - accuracy: 0.68 - ETA: 3:01 - loss: 0.9633 - accuracy: 0.68 - ETA: 3:00 - loss: 0.9629 - accuracy: 0.68 - ETA: 2:59 - loss: 0.9628 - accuracy: 0.68 - ETA: 2:58 - loss: 0.9624 - accuracy: 0.68 - ETA: 2:57 - loss: 0.9623 - accuracy: 0.68 - ETA: 2:56 - loss: 0.9623 - accuracy: 0.68 - ETA: 2:55 - loss: 0.9618 - accuracy: 0.68 - ETA: 2:54 - loss: 0.9621 - accuracy: 0.68 - ETA: 2:54 - loss: 0.9618 - accuracy: 0.68 - ETA: 2:53 - loss: 0.9615 - accuracy: 0.68 - ETA: 2:52 - loss: 0.9611 - accuracy: 0.68 - ETA: 2:51 - loss: 0.9611 - accuracy: 0.68 - ETA: 2:50 - loss: 0.9613 - accuracy: 0.68 - ETA: 2:49 - loss: 0.9612 - accuracy: 0.68 - ETA: 2:48 - loss: 0.9606 - accuracy: 0.68 - ETA: 2:47 - loss: 0.9604 - accuracy: 0.68 - ETA: 2:46 - loss: 0.9603 - accuracy: 0.68 - ETA: 2:46 - loss: 0.9605 - accuracy: 0.68 - ETA: 2:45 - loss: 0.9601 - accuracy: 0.68 - ETA: 2:44 - loss: 0.9604 - accuracy: 0.68 - ETA: 2:43 - loss: 0.9602 - accuracy: 0.68 - ETA: 2:42 - loss: 0.9599 - accuracy: 0.68 - ETA: 2:41 - loss: 0.9595 - accuracy: 0.68 - ETA: 2:40 - loss: 0.9593 - accuracy: 0.68 - ETA: 2:39 - loss: 0.9592 - accuracy: 0.68 - ETA: 2:38 - loss: 0.9590 - accuracy: 0.68 - ETA: 2:38 - loss: 0.9589 - accuracy: 0.68 - ETA: 2:37 - loss: 0.9587 - accuracy: 0.68 - ETA: 2:36 - loss: 0.9581 - accuracy: 0.69 - ETA: 2:35 - loss: 0.9577 - accuracy: 0.69 - ETA: 2:34 - loss: 0.9579 - accuracy: 0.69 - ETA: 2:33 - loss: 0.9576 - accuracy: 0.69 - ETA: 2:32 - loss: 0.9571 - accuracy: 0.69 - ETA: 2:31 - loss: 0.9574 - accuracy: 0.69 - ETA: 2:30 - loss: 0.9574 - accuracy: 0.69 - ETA: 2:30 - loss: 0.9570 - accuracy: 0.69 - ETA: 2:29 - loss: 0.9568 - accuracy: 0.69 - ETA: 2:28 - loss: 0.9565 - accuracy: 0.69 - ETA: 2:27 - loss: 0.9561 - accuracy: 0.69 - ETA: 2:26 - loss: 0.9560 - accuracy: 0.69 - ETA: 2:25 - loss: 0.9556 - accuracy: 0.69 - ETA: 2:24 - loss: 0.9556 - accuracy: 0.69 - ETA: 2:23 - loss: 0.9551 - accuracy: 0.69 - ETA: 2:22 - loss: 0.9554 - accuracy: 0.69 - ETA: 2:22 - loss: 0.9552 - accuracy: 0.69 - ETA: 2:21 - loss: 0.9553 - accuracy: 0.69 - ETA: 2:20 - loss: 0.9555 - accuracy: 0.69 - ETA: 2:19 - loss: 0.9553 - accuracy: 0.69 - ETA: 2:18 - loss: 0.9557 - accuracy: 0.69 - ETA: 2:17 - loss: 0.9554 - accuracy: 0.69 - ETA: 2:16 - loss: 0.9551 - accuracy: 0.69 - ETA: 2:15 - loss: 0.9552 - accuracy: 0.69 - ETA: 2:14 - loss: 0.9547 - accuracy: 0.69 - ETA: 2:14 - loss: 0.9549 - accuracy: 0.69 - ETA: 2:13 - loss: 0.9550 - accuracy: 0.69 - ETA: 2:12 - loss: 0.9547 - accuracy: 0.69 - ETA: 2:11 - loss: 0.9548 - accuracy: 0.69 - ETA: 2:10 - loss: 0.9549 - accuracy: 0.69 - ETA: 2:09 - loss: 0.9546 - accuracy: 0.69 - ETA: 2:08 - loss: 0.9547 - accuracy: 0.69 - ETA: 2:07 - loss: 0.9541 - accuracy: 0.69 - ETA: 2:06 - loss: 0.9538 - accuracy: 0.69 - ETA: 2:06 - loss: 0.9535 - accuracy: 0.69 - ETA: 2:05 - loss: 0.9536 - accuracy: 0.69 - ETA: 2:04 - loss: 0.9535 - accuracy: 0.69 - ETA: 2:03 - loss: 0.9534 - accuracy: 0.69 - ETA: 2:02 - loss: 0.9531 - accuracy: 0.69 - ETA: 2:01 - loss: 0.9525 - accuracy: 0.69 - ETA: 2:00 - loss: 0.9519 - accuracy: 0.69 - ETA: 1:59 - loss: 0.9520 - accuracy: 0.69 - ETA: 1:58 - loss: 0.9518 - accuracy: 0.69 - ETA: 1:58 - loss: 0.9519 - accuracy: 0.69 - ETA: 1:57 - loss: 0.9518 - accuracy: 0.69 - ETA: 1:56 - loss: 0.9519 - accuracy: 0.69 - ETA: 1:55 - loss: 0.9523 - accuracy: 0.69 - ETA: 1:54 - loss: 0.9520 - accuracy: 0.69 - ETA: 1:53 - loss: 0.9517 - accuracy: 0.69 - ETA: 1:52 - loss: 0.9516 - accuracy: 0.69 - ETA: 1:51 - loss: 0.9516 - accuracy: 0.69 - ETA: 1:50 - loss: 0.9517 - accuracy: 0.69 - ETA: 1:50 - loss: 0.9515 - accuracy: 0.69 - ETA: 1:49 - loss: 0.9513 - accuracy: 0.69 - ETA: 1:48 - loss: 0.9511 - accuracy: 0.69 - ETA: 1:47 - loss: 0.9508 - accuracy: 0.69 - ETA: 1:46 - loss: 0.9505 - accuracy: 0.69 - ETA: 1:45 - loss: 0.9503 - accuracy: 0.69 - ETA: 1:44 - loss: 0.9503 - accuracy: 0.69 - ETA: 1:43 - loss: 0.9502 - accuracy: 0.69 - ETA: 1:42 - loss: 0.9499 - accuracy: 0.69 - ETA: 1:42 - loss: 0.9497 - accuracy: 0.69 - ETA: 1:41 - loss: 0.9492 - accuracy: 0.69 - ETA: 1:40 - loss: 0.9490 - accuracy: 0.69 - ETA: 1:39 - loss: 0.9493 - accuracy: 0.69 - ETA: 1:38 - loss: 0.9489 - accuracy: 0.69 - ETA: 1:37 - loss: 0.9487 - accuracy: 0.69 - ETA: 1:36 - loss: 0.9486 - accuracy: 0.69 - ETA: 1:35 - loss: 0.9484 - accuracy: 0.69 - ETA: 1:34 - loss: 0.9480 - accuracy: 0.69 - ETA: 1:34 - loss: 0.9477 - accuracy: 0.69 - ETA: 1:33 - loss: 0.9478 - accuracy: 0.69 - ETA: 1:32 - loss: 0.9476 - accuracy: 0.69 - ETA: 1:31 - loss: 0.9473 - accuracy: 0.69 - ETA: 1:30 - loss: 0.9474 - accuracy: 0.69 - ETA: 1:29 - loss: 0.9469 - accuracy: 0.69 - ETA: 1:28 - loss: 0.9470 - accuracy: 0.69 - ETA: 1:27 - loss: 0.9467 - accuracy: 0.69 - ETA: 1:26 - loss: 0.9467 - accuracy: 0.69 - ETA: 1:26 - loss: 0.9465 - accuracy: 0.69 - ETA: 1:25 - loss: 0.9462 - accuracy: 0.69 - ETA: 1:24 - loss: 0.9459 - accuracy: 0.69 - ETA: 1:23 - loss: 0.9457 - accuracy: 0.69 - ETA: 1:22 - loss: 0.9454 - accuracy: 0.69 - ETA: 1:21 - loss: 0.9456 - accuracy: 0.69 - ETA: 1:20 - loss: 0.9453 - accuracy: 0.69 - ETA: 1:19 - loss: 0.9454 - accuracy: 0.69 - ETA: 1:19 - loss: 0.9450 - accuracy: 0.69 - ETA: 1:18 - loss: 0.9448 - accuracy: 0.69 - ETA: 1:17 - loss: 0.9446 - accuracy: 0.69 - ETA: 1:16 - loss: 0.9445 - accuracy: 0.69 - ETA: 1:15 - loss: 0.9442 - accuracy: 0.69 - ETA: 1:14 - loss: 0.9441 - accuracy: 0.69 - ETA: 1:13 - loss: 0.9440 - accuracy: 0.69 - ETA: 1:12 - loss: 0.9439 - accuracy: 0.69 - ETA: 1:11 - loss: 0.9437 - accuracy: 0.69 - ETA: 1:11 - loss: 0.9438 - accuracy: 0.69 - ETA: 1:10 - loss: 0.9436 - accuracy: 0.69 - ETA: 1:09 - loss: 0.9436 - accuracy: 0.69 - ETA: 1:08 - loss: 0.9433 - accuracy: 0.69 - ETA: 1:07 - loss: 0.9432 - accuracy: 0.69 - ETA: 1:06 - loss: 0.9434 - accuracy: 0.69 - ETA: 1:05 - loss: 0.9431 - accuracy: 0.69 - ETA: 1:04 - loss: 0.9430 - accuracy: 0.69 - ETA: 1:03 - loss: 0.9429 - accuracy: 0.69 - ETA: 1:03 - loss: 0.9431 - accuracy: 0.69 - ETA: 1:02 - loss: 0.9429 - accuracy: 0.69 - ETA: 1:01 - loss: 0.9430 - accuracy: 0.69 - ETA: 1:00 - loss: 0.9428 - accuracy: 0.69 - ETA: 59s - loss: 0.9425 - accuracy: 0.6952 - ETA: 58s - loss: 0.9422 - accuracy: 0.695 - ETA: 57s - loss: 0.9420 - accuracy: 0.695 - ETA: 56s - loss: 0.9421 - accuracy: 0.695 - ETA: 55s - loss: 0.9422 - accuracy: 0.695 - ETA: 55s - loss: 0.9419 - accuracy: 0.695 - ETA: 54s - loss: 0.9419 - accuracy: 0.695 - ETA: 53s - loss: 0.9417 - accuracy: 0.695 - ETA: 52s - loss: 0.9416 - accuracy: 0.695 - ETA: 51s - loss: 0.9415 - accuracy: 0.695 - ETA: 50s - loss: 0.9414 - accuracy: 0.695 - ETA: 49s - loss: 0.9413 - accuracy: 0.695 - ETA: 48s - loss: 0.9409 - accuracy: 0.696 - ETA: 47s - loss: 0.9407 - accuracy: 0.696 - ETA: 47s - loss: 0.9406 - accuracy: 0.696 - ETA: 46s - loss: 0.9409 - accuracy: 0.696 - ETA: 45s - loss: 0.9409 - accuracy: 0.696 - ETA: 44s - loss: 0.9410 - accuracy: 0.695 - ETA: 43s - loss: 0.9409 - accuracy: 0.695 - ETA: 42s - loss: 0.9406 - accuracy: 0.696 - ETA: 41s - loss: 0.9407 - accuracy: 0.696 - ETA: 40s - loss: 0.9407 - accuracy: 0.696 - ETA: 39s - loss: 0.9406 - accuracy: 0.696 - ETA: 39s - loss: 0.9404 - accuracy: 0.696 - ETA: 38s - loss: 0.9402 - accuracy: 0.6963"
     ]
    },
    {
     "name": "stdout",
     "output_type": "stream",
     "text": [
      "782/782 [==============================] - ETA: 37s - loss: 0.9400 - accuracy: 0.696 - ETA: 36s - loss: 0.9399 - accuracy: 0.696 - ETA: 35s - loss: 0.9398 - accuracy: 0.696 - ETA: 34s - loss: 0.9399 - accuracy: 0.696 - ETA: 33s - loss: 0.9399 - accuracy: 0.696 - ETA: 32s - loss: 0.9397 - accuracy: 0.696 - ETA: 31s - loss: 0.9393 - accuracy: 0.696 - ETA: 31s - loss: 0.9392 - accuracy: 0.696 - ETA: 30s - loss: 0.9392 - accuracy: 0.696 - ETA: 29s - loss: 0.9391 - accuracy: 0.696 - ETA: 28s - loss: 0.9387 - accuracy: 0.696 - ETA: 27s - loss: 0.9383 - accuracy: 0.696 - ETA: 26s - loss: 0.9379 - accuracy: 0.697 - ETA: 25s - loss: 0.9377 - accuracy: 0.697 - ETA: 24s - loss: 0.9378 - accuracy: 0.697 - ETA: 23s - loss: 0.9379 - accuracy: 0.697 - ETA: 23s - loss: 0.9375 - accuracy: 0.697 - ETA: 22s - loss: 0.9373 - accuracy: 0.697 - ETA: 21s - loss: 0.9371 - accuracy: 0.697 - ETA: 20s - loss: 0.9368 - accuracy: 0.697 - ETA: 19s - loss: 0.9370 - accuracy: 0.697 - ETA: 18s - loss: 0.9367 - accuracy: 0.697 - ETA: 17s - loss: 0.9365 - accuracy: 0.697 - ETA: 16s - loss: 0.9364 - accuracy: 0.697 - ETA: 15s - loss: 0.9359 - accuracy: 0.697 - ETA: 15s - loss: 0.9362 - accuracy: 0.697 - ETA: 14s - loss: 0.9364 - accuracy: 0.697 - ETA: 13s - loss: 0.9364 - accuracy: 0.697 - ETA: 12s - loss: 0.9364 - accuracy: 0.697 - ETA: 11s - loss: 0.9363 - accuracy: 0.697 - ETA: 10s - loss: 0.9360 - accuracy: 0.697 - ETA: 9s - loss: 0.9359 - accuracy: 0.697 - ETA: 8s - loss: 0.9358 - accuracy: 0.69 - ETA: 7s - loss: 0.9357 - accuracy: 0.69 - ETA: 7s - loss: 0.9359 - accuracy: 0.69 - ETA: 6s - loss: 0.9357 - accuracy: 0.69 - ETA: 5s - loss: 0.9354 - accuracy: 0.69 - ETA: 4s - loss: 0.9351 - accuracy: 0.69 - ETA: 3s - loss: 0.9348 - accuracy: 0.69 - ETA: 2s - loss: 0.9344 - accuracy: 0.69 - ETA: 1s - loss: 0.9343 - accuracy: 0.69 - ETA: 0s - loss: 0.9342 - accuracy: 0.69 - 731s 935ms/step - loss: 0.9341 - accuracy: 0.6982 - val_loss: 1.0219 - val_accuracy: 0.6539\n"
     ]
    },
    {
     "data": {
      "text/html": [
       "<span style=\"color:#4527A0\"><h1 style=\"font-size:18px\">Trial complete</h1></span>"
      ],
      "text/plain": [
       "<IPython.core.display.HTML object>"
      ]
     },
     "metadata": {},
     "output_type": "display_data"
    },
    {
     "data": {
      "text/html": [
       "<span style=\"color:#4527A0\"><h1 style=\"font-size:18px\">Trial summary</h1></span>"
      ],
      "text/plain": [
       "<IPython.core.display.HTML object>"
      ]
     },
     "metadata": {},
     "output_type": "display_data"
    },
    {
     "data": {
      "text/html": [
       "<span style=\"color:cyan\"> |-Trial ID: 1aa0a43ec351782a9067c327372be0ba</span>"
      ],
      "text/plain": [
       "<IPython.core.display.HTML object>"
      ]
     },
     "metadata": {},
     "output_type": "display_data"
    },
    {
     "data": {
      "text/html": [
       "<span style=\"color:cyan\"> |-Score: 0.6539000272750854</span>"
      ],
      "text/plain": [
       "<IPython.core.display.HTML object>"
      ]
     },
     "metadata": {},
     "output_type": "display_data"
    },
    {
     "data": {
      "text/html": [
       "<span style=\"color:cyan\"> |-Best step: 0</span>"
      ],
      "text/plain": [
       "<IPython.core.display.HTML object>"
      ]
     },
     "metadata": {},
     "output_type": "display_data"
    },
    {
     "data": {
      "text/html": [
       "<span style=\"color:#7E57C2\"><h2 style=\"font-size:16px\">Hyperparameters:</h2></span>"
      ],
      "text/plain": [
       "<IPython.core.display.HTML object>"
      ]
     },
     "metadata": {},
     "output_type": "display_data"
    },
    {
     "data": {
      "text/html": [
       "<span style=\"color:cyan\"> |-conv_blocks: 5</span>"
      ],
      "text/plain": [
       "<IPython.core.display.HTML object>"
      ]
     },
     "metadata": {},
     "output_type": "display_data"
    },
    {
     "data": {
      "text/html": [
       "<span style=\"color:blue\"> |-dropout: 0.5</span>"
      ],
      "text/plain": [
       "<IPython.core.display.HTML object>"
      ]
     },
     "metadata": {},
     "output_type": "display_data"
    },
    {
     "data": {
      "text/html": [
       "<span style=\"color:cyan\"> |-filters_0: 224</span>"
      ],
      "text/plain": [
       "<IPython.core.display.HTML object>"
      ]
     },
     "metadata": {},
     "output_type": "display_data"
    },
    {
     "data": {
      "text/html": [
       "<span style=\"color:blue\"> |-filters_1: 192</span>"
      ],
      "text/plain": [
       "<IPython.core.display.HTML object>"
      ]
     },
     "metadata": {},
     "output_type": "display_data"
    },
    {
     "data": {
      "text/html": [
       "<span style=\"color:cyan\"> |-filters_2: 128</span>"
      ],
      "text/plain": [
       "<IPython.core.display.HTML object>"
      ]
     },
     "metadata": {},
     "output_type": "display_data"
    },
    {
     "data": {
      "text/html": [
       "<span style=\"color:blue\"> |-filters_3: 32</span>"
      ],
      "text/plain": [
       "<IPython.core.display.HTML object>"
      ]
     },
     "metadata": {},
     "output_type": "display_data"
    },
    {
     "data": {
      "text/html": [
       "<span style=\"color:cyan\"> |-filters_4: 32</span>"
      ],
      "text/plain": [
       "<IPython.core.display.HTML object>"
      ]
     },
     "metadata": {},
     "output_type": "display_data"
    },
    {
     "data": {
      "text/html": [
       "<span style=\"color:blue\"> |-hidden_size: 60</span>"
      ],
      "text/plain": [
       "<IPython.core.display.HTML object>"
      ]
     },
     "metadata": {},
     "output_type": "display_data"
    },
    {
     "data": {
      "text/html": [
       "<span style=\"color:cyan\"> |-learning_rate: 0.0003563261994653133</span>"
      ],
      "text/plain": [
       "<IPython.core.display.HTML object>"
      ]
     },
     "metadata": {},
     "output_type": "display_data"
    },
    {
     "data": {
      "text/html": [
       "<span style=\"color:blue\"> |-pooling_0: max</span>"
      ],
      "text/plain": [
       "<IPython.core.display.HTML object>"
      ]
     },
     "metadata": {},
     "output_type": "display_data"
    },
    {
     "data": {
      "text/html": [
       "<span style=\"color:cyan\"> |-pooling_1: max</span>"
      ],
      "text/plain": [
       "<IPython.core.display.HTML object>"
      ]
     },
     "metadata": {},
     "output_type": "display_data"
    },
    {
     "data": {
      "text/html": [
       "<span style=\"color:blue\"> |-pooling_2: avg</span>"
      ],
      "text/plain": [
       "<IPython.core.display.HTML object>"
      ]
     },
     "metadata": {},
     "output_type": "display_data"
    },
    {
     "data": {
      "text/html": [
       "<span style=\"color:cyan\"> |-pooling_3: avg</span>"
      ],
      "text/plain": [
       "<IPython.core.display.HTML object>"
      ]
     },
     "metadata": {},
     "output_type": "display_data"
    },
    {
     "data": {
      "text/html": [
       "<span style=\"color:blue\"> |-pooling_4: avg</span>"
      ],
      "text/plain": [
       "<IPython.core.display.HTML object>"
      ]
     },
     "metadata": {},
     "output_type": "display_data"
    },
    {
     "data": {
      "text/html": [
       "<span style=\"color:cyan\"> |-tuner/bracket: 3</span>"
      ],
      "text/plain": [
       "<IPython.core.display.HTML object>"
      ]
     },
     "metadata": {},
     "output_type": "display_data"
    },
    {
     "data": {
      "text/html": [
       "<span style=\"color:blue\"> |-tuner/epochs: 2</span>"
      ],
      "text/plain": [
       "<IPython.core.display.HTML object>"
      ]
     },
     "metadata": {},
     "output_type": "display_data"
    },
    {
     "data": {
      "text/html": [
       "<span style=\"color:cyan\"> |-tuner/initial_epoch: 0</span>"
      ],
      "text/plain": [
       "<IPython.core.display.HTML object>"
      ]
     },
     "metadata": {},
     "output_type": "display_data"
    },
    {
     "data": {
      "text/html": [
       "<span style=\"color:blue\"> |-tuner/round: 0</span>"
      ],
      "text/plain": [
       "<IPython.core.display.HTML object>"
      ]
     },
     "metadata": {},
     "output_type": "display_data"
    },
    {
     "name": "stdout",
     "output_type": "stream",
     "text": [
      "Epoch 1/2\n"
     ]
    },
    {
     "name": "stdout",
     "output_type": "stream",
     "text": [
      "    166/Unknown - 2s 2s/step - loss: 2.7508 - accuracy: 0.15 - 2s 1s/step - loss: 3.1584 - accuracy: 0.10 - 3s 1s/step - loss: 3.0044 - accuracy: 0.11 - 4s 974ms/step - loss: 2.8753 - accuracy: 0.125 - 5s 924ms/step - loss: 2.7979 - accuracy: 0.118 - 5s 890ms/step - loss: 2.7210 - accuracy: 0.117 - 6s 866ms/step - loss: 2.7027 - accuracy: 0.113 - 7s 847ms/step - loss: 2.6558 - accuracy: 0.111 - 7s 832ms/step - loss: 2.6165 - accuracy: 0.114 - 8s 819ms/step - loss: 2.5952 - accuracy: 0.114 - 9s 809ms/step - loss: 2.5844 - accuracy: 0.113 - 10s 801ms/step - loss: 2.5631 - accuracy: 0.11 - 10s 794ms/step - loss: 2.5451 - accuracy: 0.11 - 11s 788ms/step - loss: 2.5217 - accuracy: 0.11 - 12s 783ms/step - loss: 2.5013 - accuracy: 0.11 - 12s 779ms/step - loss: 2.4859 - accuracy: 0.12 - 13s 775ms/step - loss: 2.4734 - accuracy: 0.12 - 14s 772ms/step - loss: 2.4637 - accuracy: 0.12 - 15s 769ms/step - loss: 2.4579 - accuracy: 0.12 - 15s 766ms/step - loss: 2.4510 - accuracy: 0.12 - 16s 764ms/step - loss: 2.4391 - accuracy: 0.12 - 17s 761ms/step - loss: 2.4308 - accuracy: 0.12 - 17s 759ms/step - loss: 2.4250 - accuracy: 0.12 - 18s 758ms/step - loss: 2.4174 - accuracy: 0.13 - 19s 756ms/step - loss: 2.4087 - accuracy: 0.13 - 20s 754ms/step - loss: 2.4053 - accuracy: 0.13 - 20s 753ms/step - loss: 2.3975 - accuracy: 0.13 - 21s 751ms/step - loss: 2.3894 - accuracy: 0.13 - 22s 750ms/step - loss: 2.3862 - accuracy: 0.13 - 22s 749ms/step - loss: 2.3863 - accuracy: 0.13 - 23s 747ms/step - loss: 2.3807 - accuracy: 0.13 - 24s 746ms/step - loss: 2.3753 - accuracy: 0.13 - 25s 745ms/step - loss: 2.3714 - accuracy: 0.14 - 25s 744ms/step - loss: 2.3702 - accuracy: 0.14 - 26s 744ms/step - loss: 2.3647 - accuracy: 0.14 - 27s 743ms/step - loss: 2.3588 - accuracy: 0.14 - 27s 742ms/step - loss: 2.3539 - accuracy: 0.14 - 28s 741ms/step - loss: 2.3499 - accuracy: 0.14 - 29s 740ms/step - loss: 2.3487 - accuracy: 0.14 - 30s 740ms/step - loss: 2.3421 - accuracy: 0.14 - 30s 739ms/step - loss: 2.3375 - accuracy: 0.14 - 31s 739ms/step - loss: 2.3339 - accuracy: 0.14 - 32s 738ms/step - loss: 2.3344 - accuracy: 0.14 - 32s 738ms/step - loss: 2.3327 - accuracy: 0.14 - 33s 737ms/step - loss: 2.3299 - accuracy: 0.14 - 34s 737ms/step - loss: 2.3279 - accuracy: 0.14 - 35s 736ms/step - loss: 2.3231 - accuracy: 0.14 - 35s 735ms/step - loss: 2.3209 - accuracy: 0.14 - 36s 735ms/step - loss: 2.3175 - accuracy: 0.15 - 37s 734ms/step - loss: 2.3149 - accuracy: 0.15 - 37s 734ms/step - loss: 2.3108 - accuracy: 0.15 - 38s 733ms/step - loss: 2.3087 - accuracy: 0.14 - 39s 733ms/step - loss: 2.3076 - accuracy: 0.14 - 40s 733ms/step - loss: 2.3059 - accuracy: 0.14 - 40s 732ms/step - loss: 2.3036 - accuracy: 0.15 - 41s 732ms/step - loss: 2.3004 - accuracy: 0.15 - 42s 731ms/step - loss: 2.2977 - accuracy: 0.15 - 42s 731ms/step - loss: 2.2956 - accuracy: 0.15 - 43s 731ms/step - loss: 2.2937 - accuracy: 0.15 - 44s 731ms/step - loss: 2.2906 - accuracy: 0.15 - 45s 730ms/step - loss: 2.2881 - accuracy: 0.15 - 45s 730ms/step - loss: 2.2859 - accuracy: 0.15 - 46s 730ms/step - loss: 2.2837 - accuracy: 0.15 - 47s 729ms/step - loss: 2.2816 - accuracy: 0.15 - 47s 729ms/step - loss: 2.2808 - accuracy: 0.15 - 48s 729ms/step - loss: 2.2786 - accuracy: 0.15 - 49s 729ms/step - loss: 2.2769 - accuracy: 0.15 - 50s 728ms/step - loss: 2.2753 - accuracy: 0.15 - 50s 728ms/step - loss: 2.2723 - accuracy: 0.15 - 51s 728ms/step - loss: 2.2719 - accuracy: 0.15 - 52s 728ms/step - loss: 2.2677 - accuracy: 0.15 - 52s 728ms/step - loss: 2.2657 - accuracy: 0.15 - 53s 727ms/step - loss: 2.2637 - accuracy: 0.15 - 54s 727ms/step - loss: 2.2626 - accuracy: 0.15 - 55s 727ms/step - loss: 2.2612 - accuracy: 0.15 - 55s 727ms/step - loss: 2.2600 - accuracy: 0.15 - 56s 727ms/step - loss: 2.2607 - accuracy: 0.15 - 57s 727ms/step - loss: 2.2585 - accuracy: 0.15 - 57s 727ms/step - loss: 2.2553 - accuracy: 0.15 - 58s 726ms/step - loss: 2.2544 - accuracy: 0.15 - 59s 726ms/step - loss: 2.2534 - accuracy: 0.15 - 60s 726ms/step - loss: 2.2516 - accuracy: 0.15 - 60s 726ms/step - loss: 2.2508 - accuracy: 0.15 - 61s 726ms/step - loss: 2.2504 - accuracy: 0.15 - 62s 726ms/step - loss: 2.2486 - accuracy: 0.16 - 62s 726ms/step - loss: 2.2461 - accuracy: 0.16 - 63s 726ms/step - loss: 2.2432 - accuracy: 0.16 - 64s 726ms/step - loss: 2.2421 - accuracy: 0.16 - 65s 726ms/step - loss: 2.2409 - accuracy: 0.16 - 65s 726ms/step - loss: 2.2394 - accuracy: 0.16 - 66s 726ms/step - loss: 2.2370 - accuracy: 0.16 - 67s 726ms/step - loss: 2.2364 - accuracy: 0.16 - 67s 726ms/step - loss: 2.2345 - accuracy: 0.16 - 68s 726ms/step - loss: 2.2333 - accuracy: 0.16 - 69s 726ms/step - loss: 2.2315 - accuracy: 0.16 - 70s 726ms/step - loss: 2.2288 - accuracy: 0.16 - 70s 726ms/step - loss: 2.2283 - accuracy: 0.16 - 71s 726ms/step - loss: 2.2279 - accuracy: 0.16 - 72s 726ms/step - loss: 2.2267 - accuracy: 0.16 - 73s 726ms/step - loss: 2.2250 - accuracy: 0.16 - 73s 726ms/step - loss: 2.2221 - accuracy: 0.16 - 74s 726ms/step - loss: 2.2201 - accuracy: 0.16 - 75s 726ms/step - loss: 2.2181 - accuracy: 0.16 - 76s 726ms/step - loss: 2.2163 - accuracy: 0.16 - 76s 726ms/step - loss: 2.2134 - accuracy: 0.16 - 77s 726ms/step - loss: 2.2103 - accuracy: 0.17 - 78s 726ms/step - loss: 2.2082 - accuracy: 0.17 - 78s 726ms/step - loss: 2.2062 - accuracy: 0.17 - 79s 726ms/step - loss: 2.2048 - accuracy: 0.17 - 80s 726ms/step - loss: 2.2029 - accuracy: 0.17 - 81s 726ms/step - loss: 2.2032 - accuracy: 0.17 - 81s 726ms/step - loss: 2.2023 - accuracy: 0.17 - 82s 726ms/step - loss: 2.2003 - accuracy: 0.17 - 83s 726ms/step - loss: 2.1992 - accuracy: 0.17 - 83s 726ms/step - loss: 2.1995 - accuracy: 0.17 - 84s 726ms/step - loss: 2.1981 - accuracy: 0.17 - 85s 726ms/step - loss: 2.1967 - accuracy: 0.17 - 86s 726ms/step - loss: 2.1960 - accuracy: 0.17 - 86s 726ms/step - loss: 2.1944 - accuracy: 0.17 - 87s 726ms/step - loss: 2.1933 - accuracy: 0.17 - 88s 726ms/step - loss: 2.1928 - accuracy: 0.17 - 89s 726ms/step - loss: 2.1920 - accuracy: 0.17 - 89s 726ms/step - loss: 2.1910 - accuracy: 0.17 - 90s 726ms/step - loss: 2.1903 - accuracy: 0.17 - 91s 726ms/step - loss: 2.1891 - accuracy: 0.17 - 91s 726ms/step - loss: 2.1882 - accuracy: 0.17 - 92s 726ms/step - loss: 2.1873 - accuracy: 0.17 - 93s 726ms/step - loss: 2.1858 - accuracy: 0.17 - 94s 725ms/step - loss: 2.1844 - accuracy: 0.17 - 94s 725ms/step - loss: 2.1838 - accuracy: 0.17 - 95s 725ms/step - loss: 2.1823 - accuracy: 0.17 - 96s 725ms/step - loss: 2.1813 - accuracy: 0.17 - 96s 725ms/step - loss: 2.1814 - accuracy: 0.17 - 97s 725ms/step - loss: 2.1809 - accuracy: 0.17 - 98s 725ms/step - loss: 2.1802 - accuracy: 0.17 - 99s 725ms/step - loss: 2.1790 - accuracy: 0.17 - 99s 725ms/step - loss: 2.1772 - accuracy: 0.17 - 100s 725ms/step - loss: 2.1761 - accuracy: 0.173 - 101s 726ms/step - loss: 2.1751 - accuracy: 0.173 - 102s 726ms/step - loss: 2.1734 - accuracy: 0.173 - 102s 726ms/step - loss: 2.1734 - accuracy: 0.173 - 103s 726ms/step - loss: 2.1721 - accuracy: 0.173 - 104s 726ms/step - loss: 2.1707 - accuracy: 0.173 - 105s 726ms/step - loss: 2.1701 - accuracy: 0.173 - 105s 726ms/step - loss: 2.1683 - accuracy: 0.173 - 106s 726ms/step - loss: 2.1665 - accuracy: 0.174 - 107s 726ms/step - loss: 2.1663 - accuracy: 0.174 - 107s 726ms/step - loss: 2.1655 - accuracy: 0.174 - 108s 726ms/step - loss: 2.1648 - accuracy: 0.174 - 109s 726ms/step - loss: 2.1649 - accuracy: 0.174 - 110s 726ms/step - loss: 2.1639 - accuracy: 0.174 - 110s 726ms/step - loss: 2.1625 - accuracy: 0.174 - 111s 726ms/step - loss: 2.1612 - accuracy: 0.175 - 112s 726ms/step - loss: 2.1608 - accuracy: 0.175 - 112s 726ms/step - loss: 2.1598 - accuracy: 0.175 - 113s 726ms/step - loss: 2.1590 - accuracy: 0.176 - 114s 726ms/step - loss: 2.1580 - accuracy: 0.176 - 115s 726ms/step - loss: 2.1576 - accuracy: 0.176 - 115s 725ms/step - loss: 2.1571 - accuracy: 0.176 - 116s 725ms/step - loss: 2.1568 - accuracy: 0.176 - 117s 725ms/step - loss: 2.1557 - accuracy: 0.176 - 118s 725ms/step - loss: 2.1551 - accuracy: 0.175 - 118s 725ms/step - loss: 2.1539 - accuracy: 0.176 - 119s 725ms/step - loss: 2.1524 - accuracy: 0.176 - 120s 725ms/step - loss: 2.1514 - accuracy: 0.175 - 120s 725ms/step - loss: 2.1495 - accuracy: 0.1761\b\b\b\b\b\b\b\b\b\b\b\b\b\b\b\b\b\b\b\b\b\b\b\b\b\b\b\b\b\b\b\b\b\b\b\b\b\b\b\b\b\b\b\b\b\b\b\b\b\b\b\b\b\b\b\b\b\b\b\b\b\b\b\b\b\b\b"
     ]
    },
    {
     "name": "stdout",
     "output_type": "stream",
     "text": [
      "    327/Unknown - 121s 725ms/step - loss: 2.1491 - accuracy: 0.176 - 122s 725ms/step - loss: 2.1485 - accuracy: 0.176 - 123s 725ms/step - loss: 2.1477 - accuracy: 0.176 - 123s 725ms/step - loss: 2.1472 - accuracy: 0.176 - 124s 725ms/step - loss: 2.1461 - accuracy: 0.175 - 125s 725ms/step - loss: 2.1456 - accuracy: 0.176 - 125s 725ms/step - loss: 2.1454 - accuracy: 0.176 - 126s 725ms/step - loss: 2.1449 - accuracy: 0.176 - 127s 725ms/step - loss: 2.1448 - accuracy: 0.176 - 128s 725ms/step - loss: 2.1439 - accuracy: 0.176 - 128s 725ms/step - loss: 2.1433 - accuracy: 0.176 - 129s 725ms/step - loss: 2.1419 - accuracy: 0.176 - 130s 725ms/step - loss: 2.1412 - accuracy: 0.176 - 131s 725ms/step - loss: 2.1402 - accuracy: 0.176 - 131s 725ms/step - loss: 2.1397 - accuracy: 0.176 - 132s 725ms/step - loss: 2.1381 - accuracy: 0.177 - 133s 725ms/step - loss: 2.1373 - accuracy: 0.177 - 133s 725ms/step - loss: 2.1360 - accuracy: 0.177 - 134s 725ms/step - loss: 2.1346 - accuracy: 0.177 - 135s 725ms/step - loss: 2.1331 - accuracy: 0.177 - 136s 725ms/step - loss: 2.1322 - accuracy: 0.177 - 136s 725ms/step - loss: 2.1328 - accuracy: 0.177 - 137s 725ms/step - loss: 2.1327 - accuracy: 0.177 - 138s 725ms/step - loss: 2.1315 - accuracy: 0.177 - 138s 725ms/step - loss: 2.1305 - accuracy: 0.177 - 139s 725ms/step - loss: 2.1302 - accuracy: 0.177 - 140s 725ms/step - loss: 2.1293 - accuracy: 0.178 - 141s 725ms/step - loss: 2.1292 - accuracy: 0.177 - 141s 725ms/step - loss: 2.1291 - accuracy: 0.177 - 142s 725ms/step - loss: 2.1290 - accuracy: 0.177 - 143s 725ms/step - loss: 2.1280 - accuracy: 0.177 - 144s 725ms/step - loss: 2.1270 - accuracy: 0.177 - 144s 725ms/step - loss: 2.1261 - accuracy: 0.178 - 145s 725ms/step - loss: 2.1258 - accuracy: 0.178 - 146s 725ms/step - loss: 2.1252 - accuracy: 0.178 - 146s 725ms/step - loss: 2.1244 - accuracy: 0.178 - 147s 725ms/step - loss: 2.1237 - accuracy: 0.178 - 148s 725ms/step - loss: 2.1229 - accuracy: 0.178 - 149s 725ms/step - loss: 2.1224 - accuracy: 0.178 - 149s 725ms/step - loss: 2.1214 - accuracy: 0.178 - 150s 725ms/step - loss: 2.1207 - accuracy: 0.178 - 151s 725ms/step - loss: 2.1198 - accuracy: 0.178 - 151s 725ms/step - loss: 2.1189 - accuracy: 0.178 - 152s 725ms/step - loss: 2.1175 - accuracy: 0.178 - 153s 725ms/step - loss: 2.1169 - accuracy: 0.178 - 154s 725ms/step - loss: 2.1161 - accuracy: 0.178 - 154s 725ms/step - loss: 2.1162 - accuracy: 0.178 - 155s 725ms/step - loss: 2.1166 - accuracy: 0.178 - 156s 725ms/step - loss: 2.1167 - accuracy: 0.178 - 156s 725ms/step - loss: 2.1157 - accuracy: 0.178 - 157s 725ms/step - loss: 2.1160 - accuracy: 0.178 - 158s 724ms/step - loss: 2.1152 - accuracy: 0.178 - 159s 724ms/step - loss: 2.1150 - accuracy: 0.179 - 159s 724ms/step - loss: 2.1142 - accuracy: 0.179 - 160s 724ms/step - loss: 2.1131 - accuracy: 0.178 - 161s 724ms/step - loss: 2.1129 - accuracy: 0.178 - 162s 724ms/step - loss: 2.1117 - accuracy: 0.179 - 162s 724ms/step - loss: 2.1114 - accuracy: 0.178 - 163s 724ms/step - loss: 2.1106 - accuracy: 0.178 - 164s 724ms/step - loss: 2.1102 - accuracy: 0.178 - 164s 724ms/step - loss: 2.1094 - accuracy: 0.178 - 165s 724ms/step - loss: 2.1092 - accuracy: 0.178 - 166s 724ms/step - loss: 2.1088 - accuracy: 0.178 - 167s 724ms/step - loss: 2.1087 - accuracy: 0.178 - 167s 724ms/step - loss: 2.1087 - accuracy: 0.178 - 168s 724ms/step - loss: 2.1086 - accuracy: 0.178 - 169s 724ms/step - loss: 2.1082 - accuracy: 0.177 - 169s 724ms/step - loss: 2.1080 - accuracy: 0.177 - 170s 724ms/step - loss: 2.1074 - accuracy: 0.177 - 171s 724ms/step - loss: 2.1069 - accuracy: 0.178 - 172s 724ms/step - loss: 2.1061 - accuracy: 0.178 - 172s 724ms/step - loss: 2.1055 - accuracy: 0.178 - 173s 724ms/step - loss: 2.1057 - accuracy: 0.178 - 174s 724ms/step - loss: 2.1054 - accuracy: 0.178 - 175s 724ms/step - loss: 2.1048 - accuracy: 0.178 - 175s 724ms/step - loss: 2.1040 - accuracy: 0.178 - 176s 724ms/step - loss: 2.1037 - accuracy: 0.178 - 177s 724ms/step - loss: 2.1030 - accuracy: 0.179 - 177s 724ms/step - loss: 2.1027 - accuracy: 0.179 - 178s 724ms/step - loss: 2.1020 - accuracy: 0.179 - 179s 724ms/step - loss: 2.1015 - accuracy: 0.179 - 180s 724ms/step - loss: 2.1008 - accuracy: 0.179 - 180s 724ms/step - loss: 2.1006 - accuracy: 0.179 - 181s 724ms/step - loss: 2.1002 - accuracy: 0.179 - 182s 724ms/step - loss: 2.0999 - accuracy: 0.179 - 182s 724ms/step - loss: 2.0994 - accuracy: 0.179 - 183s 724ms/step - loss: 2.0991 - accuracy: 0.179 - 184s 724ms/step - loss: 2.0985 - accuracy: 0.180 - 185s 724ms/step - loss: 2.0977 - accuracy: 0.180 - 185s 724ms/step - loss: 2.0972 - accuracy: 0.180 - 186s 724ms/step - loss: 2.0968 - accuracy: 0.180 - 187s 724ms/step - loss: 2.0957 - accuracy: 0.181 - 187s 724ms/step - loss: 2.0949 - accuracy: 0.181 - 188s 724ms/step - loss: 2.0945 - accuracy: 0.181 - 189s 724ms/step - loss: 2.0939 - accuracy: 0.181 - 190s 724ms/step - loss: 2.0934 - accuracy: 0.181 - 190s 724ms/step - loss: 2.0928 - accuracy: 0.181 - 191s 724ms/step - loss: 2.0924 - accuracy: 0.181 - 192s 724ms/step - loss: 2.0916 - accuracy: 0.181 - 193s 724ms/step - loss: 2.0908 - accuracy: 0.181 - 193s 724ms/step - loss: 2.0902 - accuracy: 0.181 - 194s 724ms/step - loss: 2.0906 - accuracy: 0.181 - 195s 724ms/step - loss: 2.0902 - accuracy: 0.181 - 195s 724ms/step - loss: 2.0894 - accuracy: 0.181 - 196s 724ms/step - loss: 2.0885 - accuracy: 0.181 - 197s 724ms/step - loss: 2.0880 - accuracy: 0.181 - 198s 724ms/step - loss: 2.0876 - accuracy: 0.181 - 198s 724ms/step - loss: 2.0873 - accuracy: 0.181 - 199s 724ms/step - loss: 2.0869 - accuracy: 0.182 - 200s 724ms/step - loss: 2.0866 - accuracy: 0.182 - 200s 724ms/step - loss: 2.0862 - accuracy: 0.182 - 201s 723ms/step - loss: 2.0858 - accuracy: 0.182 - 202s 724ms/step - loss: 2.0858 - accuracy: 0.182 - 203s 723ms/step - loss: 2.0849 - accuracy: 0.182 - 203s 723ms/step - loss: 2.0851 - accuracy: 0.182 - 204s 723ms/step - loss: 2.0843 - accuracy: 0.183 - 205s 723ms/step - loss: 2.0839 - accuracy: 0.182 - 205s 723ms/step - loss: 2.0830 - accuracy: 0.183 - 206s 723ms/step - loss: 2.0827 - accuracy: 0.183 - 207s 723ms/step - loss: 2.0825 - accuracy: 0.183 - 208s 723ms/step - loss: 2.0821 - accuracy: 0.183 - 208s 723ms/step - loss: 2.0817 - accuracy: 0.183 - 209s 723ms/step - loss: 2.0811 - accuracy: 0.183 - 210s 723ms/step - loss: 2.0811 - accuracy: 0.183 - 210s 723ms/step - loss: 2.0808 - accuracy: 0.183 - 211s 723ms/step - loss: 2.0810 - accuracy: 0.183 - 212s 723ms/step - loss: 2.0804 - accuracy: 0.183 - 213s 723ms/step - loss: 2.0797 - accuracy: 0.183 - 213s 723ms/step - loss: 2.0790 - accuracy: 0.184 - 214s 723ms/step - loss: 2.0788 - accuracy: 0.183 - 215s 723ms/step - loss: 2.0786 - accuracy: 0.183 - 216s 723ms/step - loss: 2.0781 - accuracy: 0.183 - 216s 723ms/step - loss: 2.0777 - accuracy: 0.183 - 217s 723ms/step - loss: 2.0773 - accuracy: 0.183 - 218s 723ms/step - loss: 2.0768 - accuracy: 0.183 - 218s 723ms/step - loss: 2.0772 - accuracy: 0.183 - 219s 723ms/step - loss: 2.0768 - accuracy: 0.183 - 220s 723ms/step - loss: 2.0762 - accuracy: 0.183 - 221s 723ms/step - loss: 2.0760 - accuracy: 0.183 - 221s 723ms/step - loss: 2.0757 - accuracy: 0.183 - 222s 723ms/step - loss: 2.0752 - accuracy: 0.183 - 223s 723ms/step - loss: 2.0747 - accuracy: 0.183 - 223s 723ms/step - loss: 2.0741 - accuracy: 0.183 - 224s 723ms/step - loss: 2.0741 - accuracy: 0.183 - 225s 723ms/step - loss: 2.0736 - accuracy: 0.183 - 226s 723ms/step - loss: 2.0734 - accuracy: 0.184 - 226s 723ms/step - loss: 2.0729 - accuracy: 0.184 - 227s 723ms/step - loss: 2.0725 - accuracy: 0.184 - 228s 723ms/step - loss: 2.0724 - accuracy: 0.184 - 228s 723ms/step - loss: 2.0720 - accuracy: 0.184 - 229s 723ms/step - loss: 2.0723 - accuracy: 0.184 - 230s 723ms/step - loss: 2.0726 - accuracy: 0.184 - 231s 723ms/step - loss: 2.0729 - accuracy: 0.184 - 231s 723ms/step - loss: 2.0727 - accuracy: 0.184 - 232s 723ms/step - loss: 2.0727 - accuracy: 0.184 - 233s 723ms/step - loss: 2.0725 - accuracy: 0.184 - 233s 723ms/step - loss: 2.0725 - accuracy: 0.184 - 234s 723ms/step - loss: 2.0721 - accuracy: 0.185 - 235s 723ms/step - loss: 2.0716 - accuracy: 0.184 - 236s 723ms/step - loss: 2.0713 - accuracy: 0.184 - 236s 723ms/step - loss: 2.0710 - accuracy: 0.1849"
     ]
    },
    {
     "name": "stdout",
     "output_type": "stream",
     "text": [
      "    488/Unknown - 237s 723ms/step - loss: 2.0705 - accuracy: 0.185 - 238s 723ms/step - loss: 2.0701 - accuracy: 0.185 - 239s 723ms/step - loss: 2.0700 - accuracy: 0.185 - 239s 723ms/step - loss: 2.0697 - accuracy: 0.185 - 240s 723ms/step - loss: 2.0689 - accuracy: 0.186 - 241s 723ms/step - loss: 2.0688 - accuracy: 0.186 - 241s 723ms/step - loss: 2.0683 - accuracy: 0.185 - 242s 723ms/step - loss: 2.0681 - accuracy: 0.185 - 243s 723ms/step - loss: 2.0676 - accuracy: 0.186 - 244s 723ms/step - loss: 2.0682 - accuracy: 0.186 - 244s 723ms/step - loss: 2.0677 - accuracy: 0.186 - 245s 723ms/step - loss: 2.0673 - accuracy: 0.186 - 246s 723ms/step - loss: 2.0667 - accuracy: 0.186 - 246s 723ms/step - loss: 2.0668 - accuracy: 0.186 - 247s 723ms/step - loss: 2.0664 - accuracy: 0.186 - 248s 723ms/step - loss: 2.0663 - accuracy: 0.186 - 249s 723ms/step - loss: 2.0663 - accuracy: 0.186 - 249s 723ms/step - loss: 2.0661 - accuracy: 0.186 - 250s 723ms/step - loss: 2.0654 - accuracy: 0.186 - 251s 723ms/step - loss: 2.0649 - accuracy: 0.186 - 251s 723ms/step - loss: 2.0646 - accuracy: 0.186 - 252s 723ms/step - loss: 2.0641 - accuracy: 0.186 - 253s 723ms/step - loss: 2.0638 - accuracy: 0.187 - 254s 723ms/step - loss: 2.0637 - accuracy: 0.187 - 254s 722ms/step - loss: 2.0631 - accuracy: 0.187 - 255s 722ms/step - loss: 2.0629 - accuracy: 0.187 - 256s 722ms/step - loss: 2.0625 - accuracy: 0.188 - 256s 722ms/step - loss: 2.0625 - accuracy: 0.188 - 257s 722ms/step - loss: 2.0620 - accuracy: 0.188 - 258s 722ms/step - loss: 2.0618 - accuracy: 0.188 - 259s 722ms/step - loss: 2.0615 - accuracy: 0.188 - 259s 722ms/step - loss: 2.0612 - accuracy: 0.188 - 260s 722ms/step - loss: 2.0608 - accuracy: 0.188 - 261s 722ms/step - loss: 2.0605 - accuracy: 0.188 - 261s 722ms/step - loss: 2.0606 - accuracy: 0.188 - 262s 722ms/step - loss: 2.0603 - accuracy: 0.188 - 263s 722ms/step - loss: 2.0599 - accuracy: 0.188 - 264s 722ms/step - loss: 2.0598 - accuracy: 0.188 - 264s 722ms/step - loss: 2.0592 - accuracy: 0.188 - 265s 722ms/step - loss: 2.0591 - accuracy: 0.188 - 266s 722ms/step - loss: 2.0596 - accuracy: 0.188 - 266s 722ms/step - loss: 2.0593 - accuracy: 0.188 - 267s 722ms/step - loss: 2.0594 - accuracy: 0.188 - 268s 722ms/step - loss: 2.0588 - accuracy: 0.188 - 269s 722ms/step - loss: 2.0585 - accuracy: 0.188 - 269s 722ms/step - loss: 2.0585 - accuracy: 0.188 - 270s 722ms/step - loss: 2.0583 - accuracy: 0.188 - 271s 722ms/step - loss: 2.0583 - accuracy: 0.189 - 272s 722ms/step - loss: 2.0580 - accuracy: 0.189 - 272s 722ms/step - loss: 2.0577 - accuracy: 0.189 - 273s 722ms/step - loss: 2.0572 - accuracy: 0.189 - 274s 722ms/step - loss: 2.0569 - accuracy: 0.189 - 274s 722ms/step - loss: 2.0569 - accuracy: 0.189 - 275s 722ms/step - loss: 2.0573 - accuracy: 0.188 - 276s 722ms/step - loss: 2.0573 - accuracy: 0.188 - 277s 722ms/step - loss: 2.0569 - accuracy: 0.189 - 277s 722ms/step - loss: 2.0567 - accuracy: 0.189 - 278s 722ms/step - loss: 2.0563 - accuracy: 0.188 - 279s 722ms/step - loss: 2.0562 - accuracy: 0.188 - 279s 722ms/step - loss: 2.0560 - accuracy: 0.189 - 280s 722ms/step - loss: 2.0555 - accuracy: 0.189 - 281s 722ms/step - loss: 2.0552 - accuracy: 0.189 - 282s 722ms/step - loss: 2.0546 - accuracy: 0.189 - 282s 722ms/step - loss: 2.0550 - accuracy: 0.189 - 283s 722ms/step - loss: 2.0551 - accuracy: 0.189 - 284s 722ms/step - loss: 2.0550 - accuracy: 0.189 - 284s 722ms/step - loss: 2.0545 - accuracy: 0.189 - 285s 722ms/step - loss: 2.0544 - accuracy: 0.189 - 286s 722ms/step - loss: 2.0543 - accuracy: 0.189 - 287s 722ms/step - loss: 2.0541 - accuracy: 0.189 - 287s 722ms/step - loss: 2.0537 - accuracy: 0.189 - 288s 722ms/step - loss: 2.0537 - accuracy: 0.189 - 289s 722ms/step - loss: 2.0535 - accuracy: 0.189 - 289s 722ms/step - loss: 2.0532 - accuracy: 0.190 - 290s 722ms/step - loss: 2.0532 - accuracy: 0.190 - 291s 722ms/step - loss: 2.0533 - accuracy: 0.190 - 292s 722ms/step - loss: 2.0533 - accuracy: 0.190 - 292s 722ms/step - loss: 2.0529 - accuracy: 0.190 - 293s 722ms/step - loss: 2.0528 - accuracy: 0.190 - 294s 722ms/step - loss: 2.0527 - accuracy: 0.190 - 295s 722ms/step - loss: 2.0523 - accuracy: 0.190 - 295s 722ms/step - loss: 2.0519 - accuracy: 0.190 - 296s 722ms/step - loss: 2.0516 - accuracy: 0.190 - 297s 722ms/step - loss: 2.0517 - accuracy: 0.190 - 297s 722ms/step - loss: 2.0514 - accuracy: 0.191 - 298s 722ms/step - loss: 2.0508 - accuracy: 0.191 - 299s 722ms/step - loss: 2.0509 - accuracy: 0.191 - 300s 722ms/step - loss: 2.0506 - accuracy: 0.191 - 300s 722ms/step - loss: 2.0503 - accuracy: 0.191 - 301s 722ms/step - loss: 2.0498 - accuracy: 0.191 - 302s 722ms/step - loss: 2.0496 - accuracy: 0.191 - 302s 722ms/step - loss: 2.0495 - accuracy: 0.191 - 303s 722ms/step - loss: 2.0494 - accuracy: 0.191 - 304s 722ms/step - loss: 2.0496 - accuracy: 0.191 - 305s 722ms/step - loss: 2.0496 - accuracy: 0.191 - 305s 722ms/step - loss: 2.0493 - accuracy: 0.191 - 306s 722ms/step - loss: 2.0490 - accuracy: 0.191 - 307s 722ms/step - loss: 2.0486 - accuracy: 0.192 - 307s 722ms/step - loss: 2.0483 - accuracy: 0.192 - 308s 722ms/step - loss: 2.0481 - accuracy: 0.192 - 309s 722ms/step - loss: 2.0479 - accuracy: 0.192 - 310s 722ms/step - loss: 2.0476 - accuracy: 0.192 - 310s 722ms/step - loss: 2.0472 - accuracy: 0.192 - 311s 722ms/step - loss: 2.0469 - accuracy: 0.192 - 312s 722ms/step - loss: 2.0470 - accuracy: 0.192 - 313s 722ms/step - loss: 2.0468 - accuracy: 0.192 - 313s 722ms/step - loss: 2.0468 - accuracy: 0.192 - 314s 722ms/step - loss: 2.0465 - accuracy: 0.192 - 315s 722ms/step - loss: 2.0461 - accuracy: 0.193 - 315s 722ms/step - loss: 2.0455 - accuracy: 0.193 - 316s 722ms/step - loss: 2.0453 - accuracy: 0.193 - 317s 722ms/step - loss: 2.0452 - accuracy: 0.193 - 318s 722ms/step - loss: 2.0448 - accuracy: 0.193 - 318s 722ms/step - loss: 2.0446 - accuracy: 0.193 - 319s 722ms/step - loss: 2.0440 - accuracy: 0.194 - 320s 722ms/step - loss: 2.0435 - accuracy: 0.194 - 320s 722ms/step - loss: 2.0431 - accuracy: 0.194 - 321s 722ms/step - loss: 2.0429 - accuracy: 0.194 - 322s 722ms/step - loss: 2.0426 - accuracy: 0.194 - 323s 722ms/step - loss: 2.0422 - accuracy: 0.194 - 323s 722ms/step - loss: 2.0421 - accuracy: 0.194 - 324s 722ms/step - loss: 2.0420 - accuracy: 0.194 - 325s 722ms/step - loss: 2.0419 - accuracy: 0.194 - 326s 722ms/step - loss: 2.0420 - accuracy: 0.194 - 326s 722ms/step - loss: 2.0418 - accuracy: 0.194 - 327s 722ms/step - loss: 2.0413 - accuracy: 0.194 - 328s 722ms/step - loss: 2.0412 - accuracy: 0.194 - 328s 722ms/step - loss: 2.0410 - accuracy: 0.195 - 329s 722ms/step - loss: 2.0407 - accuracy: 0.195 - 330s 722ms/step - loss: 2.0404 - accuracy: 0.195 - 331s 722ms/step - loss: 2.0402 - accuracy: 0.195 - 331s 722ms/step - loss: 2.0397 - accuracy: 0.195 - 332s 722ms/step - loss: 2.0394 - accuracy: 0.195 - 333s 722ms/step - loss: 2.0394 - accuracy: 0.195 - 333s 722ms/step - loss: 2.0391 - accuracy: 0.195 - 334s 722ms/step - loss: 2.0390 - accuracy: 0.195 - 335s 722ms/step - loss: 2.0388 - accuracy: 0.195 - 336s 722ms/step - loss: 2.0388 - accuracy: 0.195 - 336s 722ms/step - loss: 2.0385 - accuracy: 0.195 - 337s 722ms/step - loss: 2.0381 - accuracy: 0.195 - 338s 722ms/step - loss: 2.0379 - accuracy: 0.195 - 338s 722ms/step - loss: 2.0380 - accuracy: 0.195 - 339s 722ms/step - loss: 2.0380 - accuracy: 0.195 - 340s 722ms/step - loss: 2.0377 - accuracy: 0.195 - 341s 722ms/step - loss: 2.0375 - accuracy: 0.195 - 341s 722ms/step - loss: 2.0372 - accuracy: 0.195 - 342s 722ms/step - loss: 2.0370 - accuracy: 0.195 - 343s 722ms/step - loss: 2.0370 - accuracy: 0.195 - 343s 722ms/step - loss: 2.0367 - accuracy: 0.195 - 344s 722ms/step - loss: 2.0364 - accuracy: 0.195 - 345s 722ms/step - loss: 2.0360 - accuracy: 0.195 - 346s 722ms/step - loss: 2.0358 - accuracy: 0.196 - 346s 722ms/step - loss: 2.0354 - accuracy: 0.196 - 347s 722ms/step - loss: 2.0351 - accuracy: 0.196 - 348s 722ms/step - loss: 2.0345 - accuracy: 0.196 - 349s 722ms/step - loss: 2.0344 - accuracy: 0.196 - 349s 722ms/step - loss: 2.0343 - accuracy: 0.196 - 350s 722ms/step - loss: 2.0346 - accuracy: 0.196 - 351s 722ms/step - loss: 2.0343 - accuracy: 0.196 - 351s 722ms/step - loss: 2.0342 - accuracy: 0.196 - 352s 722ms/step - loss: 2.0338 - accuracy: 0.1966"
     ]
    },
    {
     "name": "stdout",
     "output_type": "stream",
     "text": [
      "    649/Unknown - 353s 722ms/step - loss: 2.0337 - accuracy: 0.196 - 354s 722ms/step - loss: 2.0335 - accuracy: 0.196 - 354s 722ms/step - loss: 2.0332 - accuracy: 0.196 - 355s 721ms/step - loss: 2.0328 - accuracy: 0.196 - 356s 721ms/step - loss: 2.0328 - accuracy: 0.196 - 356s 721ms/step - loss: 2.0325 - accuracy: 0.196 - 357s 721ms/step - loss: 2.0325 - accuracy: 0.196 - 358s 721ms/step - loss: 2.0321 - accuracy: 0.196 - 359s 721ms/step - loss: 2.0319 - accuracy: 0.196 - 359s 721ms/step - loss: 2.0315 - accuracy: 0.197 - 360s 721ms/step - loss: 2.0311 - accuracy: 0.197 - 361s 721ms/step - loss: 2.0311 - accuracy: 0.197 - 361s 721ms/step - loss: 2.0310 - accuracy: 0.197 - 362s 721ms/step - loss: 2.0309 - accuracy: 0.197 - 363s 721ms/step - loss: 2.0307 - accuracy: 0.196 - 364s 721ms/step - loss: 2.0304 - accuracy: 0.197 - 364s 721ms/step - loss: 2.0302 - accuracy: 0.197 - 365s 721ms/step - loss: 2.0300 - accuracy: 0.197 - 366s 721ms/step - loss: 2.0298 - accuracy: 0.197 - 366s 721ms/step - loss: 2.0298 - accuracy: 0.196 - 367s 721ms/step - loss: 2.0295 - accuracy: 0.197 - 368s 721ms/step - loss: 2.0292 - accuracy: 0.197 - 369s 721ms/step - loss: 2.0291 - accuracy: 0.197 - 369s 721ms/step - loss: 2.0289 - accuracy: 0.197 - 370s 721ms/step - loss: 2.0287 - accuracy: 0.197 - 371s 721ms/step - loss: 2.0287 - accuracy: 0.197 - 372s 721ms/step - loss: 2.0284 - accuracy: 0.197 - 372s 721ms/step - loss: 2.0281 - accuracy: 0.197 - 373s 721ms/step - loss: 2.0278 - accuracy: 0.197 - 374s 721ms/step - loss: 2.0274 - accuracy: 0.197 - 374s 721ms/step - loss: 2.0272 - accuracy: 0.197 - 375s 721ms/step - loss: 2.0269 - accuracy: 0.197 - 376s 721ms/step - loss: 2.0267 - accuracy: 0.197 - 377s 721ms/step - loss: 2.0265 - accuracy: 0.197 - 377s 721ms/step - loss: 2.0264 - accuracy: 0.197 - 378s 721ms/step - loss: 2.0261 - accuracy: 0.197 - 379s 721ms/step - loss: 2.0258 - accuracy: 0.197 - 379s 721ms/step - loss: 2.0254 - accuracy: 0.198 - 380s 721ms/step - loss: 2.0251 - accuracy: 0.198 - 381s 721ms/step - loss: 2.0247 - accuracy: 0.198 - 382s 721ms/step - loss: 2.0242 - accuracy: 0.198 - 382s 721ms/step - loss: 2.0239 - accuracy: 0.198 - 383s 721ms/step - loss: 2.0237 - accuracy: 0.198 - 384s 721ms/step - loss: 2.0233 - accuracy: 0.198 - 384s 721ms/step - loss: 2.0232 - accuracy: 0.198 - 385s 721ms/step - loss: 2.0226 - accuracy: 0.198 - 386s 721ms/step - loss: 2.0226 - accuracy: 0.198 - 387s 721ms/step - loss: 2.0225 - accuracy: 0.198 - 387s 721ms/step - loss: 2.0223 - accuracy: 0.198 - 388s 721ms/step - loss: 2.0218 - accuracy: 0.198 - 389s 721ms/step - loss: 2.0217 - accuracy: 0.199 - 389s 721ms/step - loss: 2.0218 - accuracy: 0.198 - 390s 721ms/step - loss: 2.0216 - accuracy: 0.198 - 391s 721ms/step - loss: 2.0214 - accuracy: 0.199 - 392s 721ms/step - loss: 2.0213 - accuracy: 0.199 - 392s 721ms/step - loss: 2.0211 - accuracy: 0.199 - 393s 721ms/step - loss: 2.0207 - accuracy: 0.199 - 394s 721ms/step - loss: 2.0204 - accuracy: 0.199 - 394s 721ms/step - loss: 2.0201 - accuracy: 0.199 - 395s 721ms/step - loss: 2.0202 - accuracy: 0.199 - 396s 721ms/step - loss: 2.0197 - accuracy: 0.199 - 397s 721ms/step - loss: 2.0195 - accuracy: 0.199 - 397s 721ms/step - loss: 2.0191 - accuracy: 0.199 - 398s 721ms/step - loss: 2.0188 - accuracy: 0.199 - 399s 721ms/step - loss: 2.0186 - accuracy: 0.200 - 399s 721ms/step - loss: 2.0184 - accuracy: 0.200 - 400s 721ms/step - loss: 2.0182 - accuracy: 0.200 - 401s 721ms/step - loss: 2.0182 - accuracy: 0.200 - 402s 721ms/step - loss: 2.0179 - accuracy: 0.200 - 402s 721ms/step - loss: 2.0174 - accuracy: 0.200 - 403s 721ms/step - loss: 2.0173 - accuracy: 0.200 - 404s 721ms/step - loss: 2.0171 - accuracy: 0.200 - 404s 721ms/step - loss: 2.0171 - accuracy: 0.201 - 405s 721ms/step - loss: 2.0172 - accuracy: 0.201 - 406s 721ms/step - loss: 2.0168 - accuracy: 0.201 - 407s 721ms/step - loss: 2.0164 - accuracy: 0.201 - 407s 721ms/step - loss: 2.0162 - accuracy: 0.201 - 408s 721ms/step - loss: 2.0161 - accuracy: 0.201 - 409s 721ms/step - loss: 2.0158 - accuracy: 0.201 - 409s 721ms/step - loss: 2.0156 - accuracy: 0.201 - 410s 721ms/step - loss: 2.0155 - accuracy: 0.202 - 411s 721ms/step - loss: 2.0155 - accuracy: 0.202 - 412s 721ms/step - loss: 2.0153 - accuracy: 0.202 - 412s 721ms/step - loss: 2.0152 - accuracy: 0.202 - 413s 721ms/step - loss: 2.0150 - accuracy: 0.202 - 414s 721ms/step - loss: 2.0148 - accuracy: 0.202 - 414s 721ms/step - loss: 2.0144 - accuracy: 0.202 - 415s 721ms/step - loss: 2.0143 - accuracy: 0.202 - 416s 721ms/step - loss: 2.0141 - accuracy: 0.202 - 417s 721ms/step - loss: 2.0138 - accuracy: 0.202 - 417s 721ms/step - loss: 2.0136 - accuracy: 0.202 - 418s 721ms/step - loss: 2.0133 - accuracy: 0.202 - 419s 721ms/step - loss: 2.0131 - accuracy: 0.202 - 419s 721ms/step - loss: 2.0128 - accuracy: 0.203 - 420s 721ms/step - loss: 2.0126 - accuracy: 0.203 - 421s 721ms/step - loss: 2.0126 - accuracy: 0.203 - 422s 721ms/step - loss: 2.0124 - accuracy: 0.203 - 422s 721ms/step - loss: 2.0128 - accuracy: 0.203 - 423s 721ms/step - loss: 2.0125 - accuracy: 0.203 - 424s 721ms/step - loss: 2.0126 - accuracy: 0.202 - 424s 721ms/step - loss: 2.0125 - accuracy: 0.202 - 425s 721ms/step - loss: 2.0122 - accuracy: 0.203 - 426s 721ms/step - loss: 2.0120 - accuracy: 0.203 - 427s 720ms/step - loss: 2.0119 - accuracy: 0.203 - 427s 720ms/step - loss: 2.0119 - accuracy: 0.203 - 428s 720ms/step - loss: 2.0118 - accuracy: 0.203 - 429s 720ms/step - loss: 2.0118 - accuracy: 0.203 - 429s 720ms/step - loss: 2.0118 - accuracy: 0.203 - 430s 720ms/step - loss: 2.0118 - accuracy: 0.203 - 431s 720ms/step - loss: 2.0118 - accuracy: 0.203 - 432s 720ms/step - loss: 2.0116 - accuracy: 0.203 - 432s 720ms/step - loss: 2.0115 - accuracy: 0.203 - 433s 720ms/step - loss: 2.0111 - accuracy: 0.203 - 434s 720ms/step - loss: 2.0110 - accuracy: 0.203 - 434s 720ms/step - loss: 2.0107 - accuracy: 0.204 - 435s 720ms/step - loss: 2.0104 - accuracy: 0.204 - 436s 720ms/step - loss: 2.0103 - accuracy: 0.204 - 437s 720ms/step - loss: 2.0100 - accuracy: 0.204 - 437s 720ms/step - loss: 2.0101 - accuracy: 0.204 - 438s 720ms/step - loss: 2.0101 - accuracy: 0.204 - 439s 720ms/step - loss: 2.0098 - accuracy: 0.204 - 439s 720ms/step - loss: 2.0095 - accuracy: 0.204 - 440s 720ms/step - loss: 2.0095 - accuracy: 0.204 - 441s 720ms/step - loss: 2.0092 - accuracy: 0.204 - 442s 720ms/step - loss: 2.0091 - accuracy: 0.204 - 442s 720ms/step - loss: 2.0090 - accuracy: 0.204 - 443s 720ms/step - loss: 2.0089 - accuracy: 0.204 - 444s 720ms/step - loss: 2.0086 - accuracy: 0.204 - 444s 720ms/step - loss: 2.0085 - accuracy: 0.204 - 445s 720ms/step - loss: 2.0085 - accuracy: 0.204 - 446s 720ms/step - loss: 2.0084 - accuracy: 0.204 - 447s 720ms/step - loss: 2.0082 - accuracy: 0.204 - 447s 720ms/step - loss: 2.0081 - accuracy: 0.204 - 448s 720ms/step - loss: 2.0080 - accuracy: 0.204 - 449s 720ms/step - loss: 2.0078 - accuracy: 0.204 - 449s 720ms/step - loss: 2.0077 - accuracy: 0.204 - 450s 720ms/step - loss: 2.0075 - accuracy: 0.204 - 451s 720ms/step - loss: 2.0073 - accuracy: 0.204 - 452s 720ms/step - loss: 2.0070 - accuracy: 0.204 - 452s 720ms/step - loss: 2.0071 - accuracy: 0.204 - 453s 720ms/step - loss: 2.0068 - accuracy: 0.204 - 454s 720ms/step - loss: 2.0068 - accuracy: 0.204 - 454s 720ms/step - loss: 2.0067 - accuracy: 0.204 - 455s 720ms/step - loss: 2.0063 - accuracy: 0.205 - 456s 720ms/step - loss: 2.0060 - accuracy: 0.205 - 456s 720ms/step - loss: 2.0058 - accuracy: 0.205 - 457s 720ms/step - loss: 2.0057 - accuracy: 0.205 - 458s 720ms/step - loss: 2.0058 - accuracy: 0.205 - 459s 720ms/step - loss: 2.0061 - accuracy: 0.205 - 459s 720ms/step - loss: 2.0059 - accuracy: 0.205 - 460s 720ms/step - loss: 2.0057 - accuracy: 0.205 - 461s 720ms/step - loss: 2.0053 - accuracy: 0.205 - 462s 720ms/step - loss: 2.0048 - accuracy: 0.205 - 462s 720ms/step - loss: 2.0046 - accuracy: 0.205 - 463s 720ms/step - loss: 2.0045 - accuracy: 0.205 - 464s 720ms/step - loss: 2.0043 - accuracy: 0.205 - 464s 720ms/step - loss: 2.0040 - accuracy: 0.205 - 465s 720ms/step - loss: 2.0037 - accuracy: 0.205 - 466s 720ms/step - loss: 2.0037 - accuracy: 0.205 - 466s 720ms/step - loss: 2.0033 - accuracy: 0.205 - 467s 720ms/step - loss: 2.0033 - accuracy: 0.2060"
     ]
    },
    {
     "name": "stdout",
     "output_type": "stream",
     "text": [
      "782/782 [==============================]: 2.0030 - accuracy: 0.205 - 469s 720ms/step - loss: 2.0028 - accuracy: 0.206 - 469s 720ms/step - loss: 2.0029 - accuracy: 0.206 - 470s 720ms/step - loss: 2.0026 - accuracy: 0.206 - 471s 720ms/step - loss: 2.0024 - accuracy: 0.206 - 471s 720ms/step - loss: 2.0019 - accuracy: 0.206 - 472s 720ms/step - loss: 2.0020 - accuracy: 0.206 - 473s 720ms/step - loss: 2.0019 - accuracy: 0.206 - 474s 720ms/step - loss: 2.0020 - accuracy: 0.206 - 474s 720ms/step - loss: 2.0019 - accuracy: 0.206 - 475s 720ms/step - loss: 2.0018 - accuracy: 0.206 - 476s 720ms/step - loss: 2.0016 - accuracy: 0.206 - 476s 720ms/step - loss: 2.0013 - accuracy: 0.206 - 477s 720ms/step - loss: 2.0011 - accuracy: 0.206 - 478s 720ms/step - loss: 2.0011 - accuracy: 0.206 - 479s 720ms/step - loss: 2.0012 - accuracy: 0.206 - 479s 720ms/step - loss: 2.0011 - accuracy: 0.206 - 480s 720ms/step - loss: 2.0009 - accuracy: 0.206 - 481s 720ms/step - loss: 2.0010 - accuracy: 0.206 - 481s 720ms/step - loss: 2.0010 - accuracy: 0.206 - 482s 720ms/step - loss: 2.0009 - accuracy: 0.206 - 483s 720ms/step - loss: 2.0006 - accuracy: 0.206 - 484s 720ms/step - loss: 2.0005 - accuracy: 0.206 - 484s 720ms/step - loss: 2.0004 - accuracy: 0.207 - 485s 720ms/step - loss: 2.0002 - accuracy: 0.207 - 486s 720ms/step - loss: 2.0000 - accuracy: 0.207 - 486s 720ms/step - loss: 1.9998 - accuracy: 0.207 - 487s 720ms/step - loss: 1.9998 - accuracy: 0.207 - 488s 720ms/step - loss: 1.9997 - accuracy: 0.207 - 489s 720ms/step - loss: 1.9995 - accuracy: 0.207 - 489s 720ms/step - loss: 1.9992 - accuracy: 0.207 - 490s 720ms/step - loss: 1.9990 - accuracy: 0.207 - 491s 720ms/step - loss: 1.9987 - accuracy: 0.207 - 491s 719ms/step - loss: 1.9985 - accuracy: 0.207 - 492s 719ms/step - loss: 1.9985 - accuracy: 0.208 - 493s 719ms/step - loss: 1.9983 - accuracy: 0.208 - 494s 719ms/step - loss: 1.9980 - accuracy: 0.208 - 494s 719ms/step - loss: 1.9979 - accuracy: 0.208 - 495s 719ms/step - loss: 1.9978 - accuracy: 0.208 - 496s 719ms/step - loss: 1.9975 - accuracy: 0.208 - 496s 719ms/step - loss: 1.9973 - accuracy: 0.208 - 497s 719ms/step - loss: 1.9970 - accuracy: 0.208 - 498s 719ms/step - loss: 1.9967 - accuracy: 0.208 - 499s 719ms/step - loss: 1.9964 - accuracy: 0.208 - 499s 719ms/step - loss: 1.9963 - accuracy: 0.208 - 500s 719ms/step - loss: 1.9960 - accuracy: 0.208 - 501s 719ms/step - loss: 1.9959 - accuracy: 0.208 - 501s 719ms/step - loss: 1.9957 - accuracy: 0.208 - 502s 719ms/step - loss: 1.9956 - accuracy: 0.209 - 503s 719ms/step - loss: 1.9960 - accuracy: 0.209 - 504s 719ms/step - loss: 1.9957 - accuracy: 0.209 - 504s 719ms/step - loss: 1.9955 - accuracy: 0.209 - 505s 719ms/step - loss: 1.9952 - accuracy: 0.209 - 506s 719ms/step - loss: 1.9950 - accuracy: 0.209 - 506s 719ms/step - loss: 1.9949 - accuracy: 0.209 - 507s 719ms/step - loss: 1.9947 - accuracy: 0.209 - 508s 719ms/step - loss: 1.9946 - accuracy: 0.209 - 509s 719ms/step - loss: 1.9943 - accuracy: 0.209 - 509s 719ms/step - loss: 1.9942 - accuracy: 0.209 - 510s 719ms/step - loss: 1.9942 - accuracy: 0.209 - 511s 719ms/step - loss: 1.9939 - accuracy: 0.209 - 511s 719ms/step - loss: 1.9939 - accuracy: 0.209 - 512s 719ms/step - loss: 1.9936 - accuracy: 0.209 - 513s 719ms/step - loss: 1.9936 - accuracy: 0.209 - 513s 719ms/step - loss: 1.9934 - accuracy: 0.209 - 514s 719ms/step - loss: 1.9932 - accuracy: 0.210 - 515s 719ms/step - loss: 1.9930 - accuracy: 0.210 - 516s 719ms/step - loss: 1.9931 - accuracy: 0.210 - 516s 719ms/step - loss: 1.9928 - accuracy: 0.210 - 517s 719ms/step - loss: 1.9929 - accuracy: 0.210 - 518s 719ms/step - loss: 1.9929 - accuracy: 0.210 - 518s 719ms/step - loss: 1.9928 - accuracy: 0.210 - 519s 719ms/step - loss: 1.9926 - accuracy: 0.210 - 520s 719ms/step - loss: 1.9923 - accuracy: 0.210 - 521s 719ms/step - loss: 1.9921 - accuracy: 0.210 - 521s 719ms/step - loss: 1.9919 - accuracy: 0.210 - 522s 719ms/step - loss: 1.9916 - accuracy: 0.210 - 523s 719ms/step - loss: 1.9914 - accuracy: 0.210 - 523s 719ms/step - loss: 1.9911 - accuracy: 0.210 - 524s 719ms/step - loss: 1.9909 - accuracy: 0.210 - 525s 719ms/step - loss: 1.9908 - accuracy: 0.210 - 526s 719ms/step - loss: 1.9905 - accuracy: 0.210 - 526s 719ms/step - loss: 1.9906 - accuracy: 0.210 - 527s 719ms/step - loss: 1.9906 - accuracy: 0.210 - 528s 719ms/step - loss: 1.9906 - accuracy: 0.210 - 528s 719ms/step - loss: 1.9905 - accuracy: 0.210 - 529s 719ms/step - loss: 1.9901 - accuracy: 0.211 - 530s 719ms/step - loss: 1.9896 - accuracy: 0.211 - 530s 719ms/step - loss: 1.9893 - accuracy: 0.211 - 531s 719ms/step - loss: 1.9891 - accuracy: 0.211 - 532s 719ms/step - loss: 1.9891 - accuracy: 0.211 - 533s 719ms/step - loss: 1.9891 - accuracy: 0.211 - 533s 719ms/step - loss: 1.9891 - accuracy: 0.211 - 534s 719ms/step - loss: 1.9890 - accuracy: 0.211 - 535s 719ms/step - loss: 1.9887 - accuracy: 0.212 - 535s 719ms/step - loss: 1.9884 - accuracy: 0.212 - 536s 718ms/step - loss: 1.9883 - accuracy: 0.212 - 536s 718ms/step - loss: 1.9882 - accuracy: 0.212 - 537s 718ms/step - loss: 1.9882 - accuracy: 0.212 - 538s 718ms/step - loss: 1.9879 - accuracy: 0.212 - 538s 718ms/step - loss: 1.9877 - accuracy: 0.212 - 539s 718ms/step - loss: 1.9875 - accuracy: 0.212 - 540s 718ms/step - loss: 1.9871 - accuracy: 0.212 - 541s 718ms/step - loss: 1.9870 - accuracy: 0.213 - 541s 718ms/step - loss: 1.9868 - accuracy: 0.213 - 542s 718ms/step - loss: 1.9866 - accuracy: 0.213 - 543s 718ms/step - loss: 1.9866 - accuracy: 0.213 - 543s 718ms/step - loss: 1.9866 - accuracy: 0.213 - 544s 718ms/step - loss: 1.9864 - accuracy: 0.213 - 545s 718ms/step - loss: 1.9863 - accuracy: 0.213 - 546s 718ms/step - loss: 1.9864 - accuracy: 0.213 - 546s 718ms/step - loss: 1.9863 - accuracy: 0.213 - 547s 718ms/step - loss: 1.9862 - accuracy: 0.213 - 548s 718ms/step - loss: 1.9860 - accuracy: 0.213 - 548s 718ms/step - loss: 1.9857 - accuracy: 0.213 - 549s 718ms/step - loss: 1.9855 - accuracy: 0.213 - 550s 718ms/step - loss: 1.9854 - accuracy: 0.213 - 551s 718ms/step - loss: 1.9855 - accuracy: 0.213 - 551s 718ms/step - loss: 1.9854 - accuracy: 0.213 - 552s 718ms/step - loss: 1.9853 - accuracy: 0.213 - 553s 718ms/step - loss: 1.9851 - accuracy: 0.213 - 553s 718ms/step - loss: 1.9851 - accuracy: 0.213 - 554s 718ms/step - loss: 1.9849 - accuracy: 0.213 - 555s 718ms/step - loss: 1.9849 - accuracy: 0.213 - 556s 718ms/step - loss: 1.9847 - accuracy: 0.213 - 556s 718ms/step - loss: 1.9846 - accuracy: 0.213 - 557s 718ms/step - loss: 1.9844 - accuracy: 0.213 - 558s 718ms/step - loss: 1.9844 - accuracy: 0.213 - 558s 718ms/step - loss: 1.9842 - accuracy: 0.214 - 559s 718ms/step - loss: 1.9839 - accuracy: 0.214 - 560s 718ms/step - loss: 1.9837 - accuracy: 0.214 - 561s 718ms/step - loss: 1.9838 - accuracy: 0.214 - 561s 718ms/step - loss: 1.9837 - accuracy: 0.214 - 583s 745ms/step - loss: 1.9837 - accuracy: 0.2142 - val_loss: 2.0417 - val_accuracy: 0.2259\n",
      "Epoch 2/2\n"
     ]
    },
    {
     "name": "stdout",
     "output_type": "stream",
     "text": [
      "185/782 [======>.......................] - ETA: 12:51 - loss: 1.9261 - accuracy: 0.250 - ETA: 11:04 - loss: 1.9048 - accuracy: 0.242 - ETA: 10:28 - loss: 1.9378 - accuracy: 0.234 - ETA: 10:14 - loss: 1.9448 - accuracy: 0.210 - ETA: 10:04 - loss: 1.9419 - accuracy: 0.212 - ETA: 9:57 - loss: 1.9093 - accuracy: 0.216 - ETA: 9:51 - loss: 1.8903 - accuracy: 0.22 - ETA: 9:48 - loss: 1.8856 - accuracy: 0.22 - ETA: 9:44 - loss: 1.8859 - accuracy: 0.22 - ETA: 9:42 - loss: 1.8836 - accuracy: 0.23 - ETA: 9:40 - loss: 1.8759 - accuracy: 0.24 - ETA: 9:38 - loss: 1.8721 - accuracy: 0.24 - ETA: 9:36 - loss: 1.8666 - accuracy: 0.24 - ETA: 9:35 - loss: 1.8578 - accuracy: 0.25 - ETA: 9:33 - loss: 1.8607 - accuracy: 0.25 - ETA: 9:32 - loss: 1.8636 - accuracy: 0.25 - ETA: 9:31 - loss: 1.8543 - accuracy: 0.25 - ETA: 9:30 - loss: 1.8597 - accuracy: 0.26 - ETA: 9:28 - loss: 1.8601 - accuracy: 0.26 - ETA: 9:27 - loss: 1.8570 - accuracy: 0.26 - ETA: 9:26 - loss: 1.8560 - accuracy: 0.26 - ETA: 9:25 - loss: 1.8598 - accuracy: 0.26 - ETA: 9:24 - loss: 1.8624 - accuracy: 0.26 - ETA: 9:23 - loss: 1.8615 - accuracy: 0.26 - ETA: 9:22 - loss: 1.8612 - accuracy: 0.26 - ETA: 9:21 - loss: 1.8626 - accuracy: 0.26 - ETA: 9:21 - loss: 1.8611 - accuracy: 0.26 - ETA: 9:20 - loss: 1.8631 - accuracy: 0.26 - ETA: 9:19 - loss: 1.8637 - accuracy: 0.26 - ETA: 9:19 - loss: 1.8618 - accuracy: 0.26 - ETA: 9:18 - loss: 1.8645 - accuracy: 0.26 - ETA: 9:18 - loss: 1.8627 - accuracy: 0.26 - ETA: 9:19 - loss: 1.8621 - accuracy: 0.26 - ETA: 9:18 - loss: 1.8682 - accuracy: 0.26 - ETA: 9:18 - loss: 1.8653 - accuracy: 0.26 - ETA: 9:18 - loss: 1.8683 - accuracy: 0.26 - ETA: 9:17 - loss: 1.8669 - accuracy: 0.26 - ETA: 9:17 - loss: 1.8708 - accuracy: 0.26 - ETA: 9:16 - loss: 1.8702 - accuracy: 0.26 - ETA: 9:15 - loss: 1.8688 - accuracy: 0.26 - ETA: 9:15 - loss: 1.8687 - accuracy: 0.26 - ETA: 9:14 - loss: 1.8665 - accuracy: 0.26 - ETA: 9:14 - loss: 1.8674 - accuracy: 0.26 - ETA: 9:13 - loss: 1.8687 - accuracy: 0.26 - ETA: 9:12 - loss: 1.8681 - accuracy: 0.26 - ETA: 9:11 - loss: 1.8676 - accuracy: 0.26 - ETA: 9:10 - loss: 1.8671 - accuracy: 0.26 - ETA: 9:09 - loss: 1.8673 - accuracy: 0.26 - ETA: 9:08 - loss: 1.8676 - accuracy: 0.26 - ETA: 9:07 - loss: 1.8670 - accuracy: 0.27 - ETA: 9:06 - loss: 1.8629 - accuracy: 0.27 - ETA: 9:06 - loss: 1.8653 - accuracy: 0.27 - ETA: 9:05 - loss: 1.8666 - accuracy: 0.27 - ETA: 9:04 - loss: 1.8631 - accuracy: 0.27 - ETA: 9:03 - loss: 1.8622 - accuracy: 0.27 - ETA: 9:02 - loss: 1.8629 - accuracy: 0.27 - ETA: 9:01 - loss: 1.8630 - accuracy: 0.27 - ETA: 9:01 - loss: 1.8628 - accuracy: 0.27 - ETA: 9:00 - loss: 1.8626 - accuracy: 0.27 - ETA: 8:59 - loss: 1.8649 - accuracy: 0.27 - ETA: 8:58 - loss: 1.8653 - accuracy: 0.27 - ETA: 8:58 - loss: 1.8656 - accuracy: 0.27 - ETA: 8:57 - loss: 1.8645 - accuracy: 0.27 - ETA: 8:56 - loss: 1.8641 - accuracy: 0.27 - ETA: 8:55 - loss: 1.8651 - accuracy: 0.27 - ETA: 8:55 - loss: 1.8658 - accuracy: 0.26 - ETA: 8:54 - loss: 1.8643 - accuracy: 0.27 - ETA: 8:53 - loss: 1.8639 - accuracy: 0.27 - ETA: 8:52 - loss: 1.8654 - accuracy: 0.27 - ETA: 8:51 - loss: 1.8647 - accuracy: 0.27 - ETA: 8:51 - loss: 1.8643 - accuracy: 0.27 - ETA: 8:50 - loss: 1.8646 - accuracy: 0.27 - ETA: 8:49 - loss: 1.8638 - accuracy: 0.27 - ETA: 8:48 - loss: 1.8617 - accuracy: 0.27 - ETA: 8:47 - loss: 1.8657 - accuracy: 0.27 - ETA: 8:47 - loss: 1.8652 - accuracy: 0.27 - ETA: 8:46 - loss: 1.8643 - accuracy: 0.27 - ETA: 8:45 - loss: 1.8661 - accuracy: 0.27 - ETA: 8:44 - loss: 1.8644 - accuracy: 0.27 - ETA: 8:43 - loss: 1.8662 - accuracy: 0.27 - ETA: 8:43 - loss: 1.8662 - accuracy: 0.27 - ETA: 8:42 - loss: 1.8660 - accuracy: 0.27 - ETA: 8:41 - loss: 1.8673 - accuracy: 0.26 - ETA: 8:40 - loss: 1.8673 - accuracy: 0.27 - ETA: 8:39 - loss: 1.8674 - accuracy: 0.27 - ETA: 8:39 - loss: 1.8673 - accuracy: 0.27 - ETA: 8:38 - loss: 1.8678 - accuracy: 0.27 - ETA: 8:37 - loss: 1.8671 - accuracy: 0.27 - ETA: 8:36 - loss: 1.8658 - accuracy: 0.27 - ETA: 8:35 - loss: 1.8663 - accuracy: 0.27 - ETA: 8:35 - loss: 1.8657 - accuracy: 0.26 - ETA: 8:34 - loss: 1.8651 - accuracy: 0.26 - ETA: 8:33 - loss: 1.8660 - accuracy: 0.26 - ETA: 8:32 - loss: 1.8645 - accuracy: 0.26 - ETA: 8:31 - loss: 1.8655 - accuracy: 0.26 - ETA: 8:31 - loss: 1.8659 - accuracy: 0.26 - ETA: 8:30 - loss: 1.8655 - accuracy: 0.26 - ETA: 8:29 - loss: 1.8639 - accuracy: 0.26 - ETA: 8:28 - loss: 1.8636 - accuracy: 0.26 - ETA: 8:28 - loss: 1.8629 - accuracy: 0.26 - ETA: 8:27 - loss: 1.8635 - accuracy: 0.26 - ETA: 8:26 - loss: 1.8625 - accuracy: 0.26 - ETA: 8:25 - loss: 1.8628 - accuracy: 0.26 - ETA: 8:25 - loss: 1.8629 - accuracy: 0.26 - ETA: 8:24 - loss: 1.8614 - accuracy: 0.26 - ETA: 8:23 - loss: 1.8606 - accuracy: 0.26 - ETA: 8:22 - loss: 1.8600 - accuracy: 0.26 - ETA: 8:21 - loss: 1.8599 - accuracy: 0.27 - ETA: 8:21 - loss: 1.8586 - accuracy: 0.27 - ETA: 8:20 - loss: 1.8580 - accuracy: 0.27 - ETA: 8:19 - loss: 1.8570 - accuracy: 0.27 - ETA: 8:19 - loss: 1.8554 - accuracy: 0.27 - ETA: 8:18 - loss: 1.8559 - accuracy: 0.27 - ETA: 8:17 - loss: 1.8562 - accuracy: 0.27 - ETA: 8:16 - loss: 1.8571 - accuracy: 0.27 - ETA: 8:15 - loss: 1.8557 - accuracy: 0.27 - ETA: 8:15 - loss: 1.8561 - accuracy: 0.27 - ETA: 8:14 - loss: 1.8564 - accuracy: 0.27 - ETA: 8:13 - loss: 1.8557 - accuracy: 0.27 - ETA: 8:12 - loss: 1.8554 - accuracy: 0.27 - ETA: 8:12 - loss: 1.8558 - accuracy: 0.27 - ETA: 8:11 - loss: 1.8553 - accuracy: 0.27 - ETA: 8:10 - loss: 1.8546 - accuracy: 0.27 - ETA: 8:09 - loss: 1.8552 - accuracy: 0.27 - ETA: 8:09 - loss: 1.8564 - accuracy: 0.27 - ETA: 8:08 - loss: 1.8568 - accuracy: 0.27 - ETA: 8:07 - loss: 1.8564 - accuracy: 0.27 - ETA: 8:06 - loss: 1.8556 - accuracy: 0.27 - ETA: 8:06 - loss: 1.8557 - accuracy: 0.27 - ETA: 8:05 - loss: 1.8544 - accuracy: 0.27 - ETA: 8:04 - loss: 1.8545 - accuracy: 0.27 - ETA: 8:03 - loss: 1.8537 - accuracy: 0.27 - ETA: 8:03 - loss: 1.8539 - accuracy: 0.27 - ETA: 8:02 - loss: 1.8539 - accuracy: 0.27 - ETA: 8:01 - loss: 1.8533 - accuracy: 0.27 - ETA: 8:00 - loss: 1.8553 - accuracy: 0.27 - ETA: 7:59 - loss: 1.8558 - accuracy: 0.27 - ETA: 7:59 - loss: 1.8548 - accuracy: 0.27 - ETA: 7:58 - loss: 1.8549 - accuracy: 0.27 - ETA: 7:57 - loss: 1.8565 - accuracy: 0.27 - ETA: 7:56 - loss: 1.8565 - accuracy: 0.27 - ETA: 7:56 - loss: 1.8555 - accuracy: 0.27 - ETA: 7:55 - loss: 1.8547 - accuracy: 0.27 - ETA: 7:54 - loss: 1.8558 - accuracy: 0.27 - ETA: 7:53 - loss: 1.8557 - accuracy: 0.27 - ETA: 7:53 - loss: 1.8550 - accuracy: 0.27 - ETA: 7:52 - loss: 1.8556 - accuracy: 0.27 - ETA: 7:51 - loss: 1.8558 - accuracy: 0.27 - ETA: 7:50 - loss: 1.8556 - accuracy: 0.27 - ETA: 7:50 - loss: 1.8545 - accuracy: 0.27 - ETA: 7:49 - loss: 1.8552 - accuracy: 0.27 - ETA: 7:48 - loss: 1.8547 - accuracy: 0.27 - ETA: 7:47 - loss: 1.8548 - accuracy: 0.27 - ETA: 7:47 - loss: 1.8544 - accuracy: 0.27 - ETA: 7:46 - loss: 1.8540 - accuracy: 0.27 - ETA: 7:45 - loss: 1.8532 - accuracy: 0.27 - ETA: 7:44 - loss: 1.8535 - accuracy: 0.27 - ETA: 7:44 - loss: 1.8535 - accuracy: 0.27 - ETA: 7:43 - loss: 1.8529 - accuracy: 0.27 - ETA: 7:42 - loss: 1.8534 - accuracy: 0.27 - ETA: 7:41 - loss: 1.8534 - accuracy: 0.27 - ETA: 7:41 - loss: 1.8541 - accuracy: 0.27 - ETA: 7:40 - loss: 1.8542 - accuracy: 0.27 - ETA: 7:39 - loss: 1.8550 - accuracy: 0.27 - ETA: 7:38 - loss: 1.8556 - accuracy: 0.27 - ETA: 7:38 - loss: 1.8544 - accuracy: 0.27 - ETA: 7:37 - loss: 1.8539 - accuracy: 0.27 - ETA: 7:36 - loss: 1.8543 - accuracy: 0.27 - ETA: 7:35 - loss: 1.8543 - accuracy: 0.27 - ETA: 7:35 - loss: 1.8546 - accuracy: 0.27 - ETA: 7:34 - loss: 1.8555 - accuracy: 0.27 - ETA: 7:33 - loss: 1.8548 - accuracy: 0.27 - ETA: 7:32 - loss: 1.8537 - accuracy: 0.27 - ETA: 7:32 - loss: 1.8543 - accuracy: 0.27 - ETA: 7:31 - loss: 1.8539 - accuracy: 0.27 - ETA: 7:30 - loss: 1.8536 - accuracy: 0.27 - ETA: 7:29 - loss: 1.8530 - accuracy: 0.27 - ETA: 7:29 - loss: 1.8532 - accuracy: 0.27 - ETA: 7:28 - loss: 1.8518 - accuracy: 0.27 - ETA: 7:27 - loss: 1.8523 - accuracy: 0.27 - ETA: 7:26 - loss: 1.8515 - accuracy: 0.27 - ETA: 7:26 - loss: 1.8508 - accuracy: 0.27 - ETA: 7:25 - loss: 1.8499 - accuracy: 0.27 - ETA: 7:24 - loss: 1.8492 - accuracy: 0.27 - ETA: 7:23 - loss: 1.8491 - accuracy: 0.2785"
     ]
    },
    {
     "name": "stdout",
     "output_type": "stream",
     "text": [
      "371/782 [=============>................] - ETA: 7:23 - loss: 1.8485 - accuracy: 0.27 - ETA: 7:22 - loss: 1.8481 - accuracy: 0.27 - ETA: 7:21 - loss: 1.8470 - accuracy: 0.27 - ETA: 7:20 - loss: 1.8464 - accuracy: 0.27 - ETA: 7:20 - loss: 1.8475 - accuracy: 0.27 - ETA: 7:19 - loss: 1.8485 - accuracy: 0.27 - ETA: 7:18 - loss: 1.8480 - accuracy: 0.27 - ETA: 7:17 - loss: 1.8471 - accuracy: 0.27 - ETA: 7:17 - loss: 1.8463 - accuracy: 0.27 - ETA: 7:16 - loss: 1.8469 - accuracy: 0.27 - ETA: 7:15 - loss: 1.8467 - accuracy: 0.27 - ETA: 7:14 - loss: 1.8485 - accuracy: 0.27 - ETA: 7:14 - loss: 1.8482 - accuracy: 0.27 - ETA: 7:13 - loss: 1.8487 - accuracy: 0.27 - ETA: 7:12 - loss: 1.8489 - accuracy: 0.27 - ETA: 7:11 - loss: 1.8491 - accuracy: 0.27 - ETA: 7:11 - loss: 1.8494 - accuracy: 0.27 - ETA: 7:10 - loss: 1.8490 - accuracy: 0.27 - ETA: 7:09 - loss: 1.8492 - accuracy: 0.27 - ETA: 7:08 - loss: 1.8494 - accuracy: 0.27 - ETA: 7:08 - loss: 1.8493 - accuracy: 0.27 - ETA: 7:07 - loss: 1.8494 - accuracy: 0.27 - ETA: 7:06 - loss: 1.8490 - accuracy: 0.27 - ETA: 7:05 - loss: 1.8491 - accuracy: 0.27 - ETA: 7:05 - loss: 1.8491 - accuracy: 0.27 - ETA: 7:04 - loss: 1.8494 - accuracy: 0.27 - ETA: 7:03 - loss: 1.8487 - accuracy: 0.27 - ETA: 7:02 - loss: 1.8484 - accuracy: 0.27 - ETA: 7:01 - loss: 1.8478 - accuracy: 0.27 - ETA: 7:01 - loss: 1.8474 - accuracy: 0.27 - ETA: 7:00 - loss: 1.8465 - accuracy: 0.27 - ETA: 6:59 - loss: 1.8472 - accuracy: 0.27 - ETA: 6:58 - loss: 1.8467 - accuracy: 0.27 - ETA: 6:58 - loss: 1.8470 - accuracy: 0.27 - ETA: 6:57 - loss: 1.8473 - accuracy: 0.27 - ETA: 6:56 - loss: 1.8467 - accuracy: 0.27 - ETA: 6:55 - loss: 1.8467 - accuracy: 0.27 - ETA: 6:55 - loss: 1.8464 - accuracy: 0.27 - ETA: 6:54 - loss: 1.8460 - accuracy: 0.27 - ETA: 6:53 - loss: 1.8463 - accuracy: 0.27 - ETA: 6:52 - loss: 1.8465 - accuracy: 0.27 - ETA: 6:52 - loss: 1.8459 - accuracy: 0.27 - ETA: 6:51 - loss: 1.8450 - accuracy: 0.27 - ETA: 6:50 - loss: 1.8451 - accuracy: 0.27 - ETA: 6:49 - loss: 1.8458 - accuracy: 0.27 - ETA: 6:48 - loss: 1.8455 - accuracy: 0.27 - ETA: 6:48 - loss: 1.8454 - accuracy: 0.27 - ETA: 6:47 - loss: 1.8457 - accuracy: 0.27 - ETA: 6:46 - loss: 1.8457 - accuracy: 0.27 - ETA: 6:46 - loss: 1.8449 - accuracy: 0.28 - ETA: 6:45 - loss: 1.8446 - accuracy: 0.27 - ETA: 6:44 - loss: 1.8443 - accuracy: 0.27 - ETA: 6:44 - loss: 1.8443 - accuracy: 0.27 - ETA: 6:43 - loss: 1.8444 - accuracy: 0.27 - ETA: 6:42 - loss: 1.8445 - accuracy: 0.27 - ETA: 6:42 - loss: 1.8439 - accuracy: 0.27 - ETA: 6:41 - loss: 1.8433 - accuracy: 0.28 - ETA: 6:41 - loss: 1.8432 - accuracy: 0.28 - ETA: 6:40 - loss: 1.8435 - accuracy: 0.28 - ETA: 6:39 - loss: 1.8431 - accuracy: 0.28 - ETA: 6:38 - loss: 1.8428 - accuracy: 0.28 - ETA: 6:38 - loss: 1.8421 - accuracy: 0.28 - ETA: 6:37 - loss: 1.8415 - accuracy: 0.28 - ETA: 6:36 - loss: 1.8411 - accuracy: 0.28 - ETA: 6:36 - loss: 1.8411 - accuracy: 0.28 - ETA: 6:35 - loss: 1.8406 - accuracy: 0.28 - ETA: 6:34 - loss: 1.8404 - accuracy: 0.28 - ETA: 6:33 - loss: 1.8399 - accuracy: 0.28 - ETA: 6:33 - loss: 1.8394 - accuracy: 0.28 - ETA: 6:32 - loss: 1.8390 - accuracy: 0.28 - ETA: 6:31 - loss: 1.8387 - accuracy: 0.28 - ETA: 6:30 - loss: 1.8380 - accuracy: 0.28 - ETA: 6:30 - loss: 1.8384 - accuracy: 0.28 - ETA: 6:29 - loss: 1.8381 - accuracy: 0.28 - ETA: 6:28 - loss: 1.8380 - accuracy: 0.28 - ETA: 6:27 - loss: 1.8380 - accuracy: 0.28 - ETA: 6:27 - loss: 1.8384 - accuracy: 0.28 - ETA: 6:26 - loss: 1.8383 - accuracy: 0.28 - ETA: 6:25 - loss: 1.8386 - accuracy: 0.28 - ETA: 6:24 - loss: 1.8385 - accuracy: 0.28 - ETA: 6:24 - loss: 1.8388 - accuracy: 0.28 - ETA: 6:23 - loss: 1.8390 - accuracy: 0.28 - ETA: 6:22 - loss: 1.8395 - accuracy: 0.28 - ETA: 6:21 - loss: 1.8389 - accuracy: 0.28 - ETA: 6:21 - loss: 1.8387 - accuracy: 0.28 - ETA: 6:20 - loss: 1.8389 - accuracy: 0.28 - ETA: 6:19 - loss: 1.8387 - accuracy: 0.28 - ETA: 6:18 - loss: 1.8386 - accuracy: 0.28 - ETA: 6:18 - loss: 1.8385 - accuracy: 0.28 - ETA: 6:17 - loss: 1.8380 - accuracy: 0.28 - ETA: 6:16 - loss: 1.8375 - accuracy: 0.28 - ETA: 6:15 - loss: 1.8367 - accuracy: 0.28 - ETA: 6:14 - loss: 1.8364 - accuracy: 0.28 - ETA: 6:14 - loss: 1.8364 - accuracy: 0.28 - ETA: 6:13 - loss: 1.8361 - accuracy: 0.28 - ETA: 6:12 - loss: 1.8368 - accuracy: 0.28 - ETA: 6:11 - loss: 1.8377 - accuracy: 0.28 - ETA: 6:11 - loss: 1.8372 - accuracy: 0.28 - ETA: 6:10 - loss: 1.8368 - accuracy: 0.28 - ETA: 6:09 - loss: 1.8360 - accuracy: 0.28 - ETA: 6:08 - loss: 1.8360 - accuracy: 0.28 - ETA: 6:08 - loss: 1.8349 - accuracy: 0.28 - ETA: 6:07 - loss: 1.8350 - accuracy: 0.28 - ETA: 6:06 - loss: 1.8356 - accuracy: 0.28 - ETA: 6:05 - loss: 1.8360 - accuracy: 0.28 - ETA: 6:05 - loss: 1.8355 - accuracy: 0.28 - ETA: 6:04 - loss: 1.8352 - accuracy: 0.28 - ETA: 6:03 - loss: 1.8356 - accuracy: 0.28 - ETA: 6:02 - loss: 1.8356 - accuracy: 0.28 - ETA: 6:01 - loss: 1.8355 - accuracy: 0.28 - ETA: 6:01 - loss: 1.8350 - accuracy: 0.28 - ETA: 6:00 - loss: 1.8348 - accuracy: 0.28 - ETA: 5:59 - loss: 1.8346 - accuracy: 0.28 - ETA: 5:58 - loss: 1.8340 - accuracy: 0.28 - ETA: 5:58 - loss: 1.8340 - accuracy: 0.28 - ETA: 5:57 - loss: 1.8335 - accuracy: 0.28 - ETA: 5:56 - loss: 1.8331 - accuracy: 0.28 - ETA: 5:56 - loss: 1.8336 - accuracy: 0.28 - ETA: 5:55 - loss: 1.8336 - accuracy: 0.28 - ETA: 5:54 - loss: 1.8333 - accuracy: 0.28 - ETA: 5:53 - loss: 1.8329 - accuracy: 0.28 - ETA: 5:53 - loss: 1.8325 - accuracy: 0.28 - ETA: 5:52 - loss: 1.8321 - accuracy: 0.28 - ETA: 5:51 - loss: 1.8324 - accuracy: 0.28 - ETA: 5:50 - loss: 1.8324 - accuracy: 0.28 - ETA: 5:50 - loss: 1.8323 - accuracy: 0.28 - ETA: 5:49 - loss: 1.8332 - accuracy: 0.28 - ETA: 5:48 - loss: 1.8328 - accuracy: 0.28 - ETA: 5:47 - loss: 1.8332 - accuracy: 0.28 - ETA: 5:47 - loss: 1.8333 - accuracy: 0.28 - ETA: 5:46 - loss: 1.8334 - accuracy: 0.28 - ETA: 5:45 - loss: 1.8336 - accuracy: 0.28 - ETA: 5:44 - loss: 1.8334 - accuracy: 0.28 - ETA: 5:44 - loss: 1.8332 - accuracy: 0.28 - ETA: 5:43 - loss: 1.8333 - accuracy: 0.28 - ETA: 5:42 - loss: 1.8340 - accuracy: 0.28 - ETA: 5:42 - loss: 1.8338 - accuracy: 0.28 - ETA: 5:41 - loss: 1.8341 - accuracy: 0.28 - ETA: 5:40 - loss: 1.8338 - accuracy: 0.28 - ETA: 5:39 - loss: 1.8332 - accuracy: 0.28 - ETA: 5:39 - loss: 1.8329 - accuracy: 0.28 - ETA: 5:38 - loss: 1.8333 - accuracy: 0.28 - ETA: 5:37 - loss: 1.8331 - accuracy: 0.28 - ETA: 5:36 - loss: 1.8329 - accuracy: 0.28 - ETA: 5:36 - loss: 1.8326 - accuracy: 0.28 - ETA: 5:35 - loss: 1.8325 - accuracy: 0.28 - ETA: 5:34 - loss: 1.8324 - accuracy: 0.28 - ETA: 5:33 - loss: 1.8318 - accuracy: 0.28 - ETA: 5:33 - loss: 1.8318 - accuracy: 0.28 - ETA: 5:32 - loss: 1.8324 - accuracy: 0.28 - ETA: 5:31 - loss: 1.8326 - accuracy: 0.28 - ETA: 5:30 - loss: 1.8323 - accuracy: 0.28 - ETA: 5:30 - loss: 1.8322 - accuracy: 0.28 - ETA: 5:29 - loss: 1.8319 - accuracy: 0.28 - ETA: 5:28 - loss: 1.8320 - accuracy: 0.28 - ETA: 5:27 - loss: 1.8317 - accuracy: 0.28 - ETA: 5:27 - loss: 1.8315 - accuracy: 0.28 - ETA: 5:26 - loss: 1.8312 - accuracy: 0.28 - ETA: 5:25 - loss: 1.8308 - accuracy: 0.28 - ETA: 5:25 - loss: 1.8308 - accuracy: 0.28 - ETA: 5:24 - loss: 1.8306 - accuracy: 0.28 - ETA: 5:23 - loss: 1.8303 - accuracy: 0.28 - ETA: 5:22 - loss: 1.8298 - accuracy: 0.28 - ETA: 5:22 - loss: 1.8294 - accuracy: 0.28 - ETA: 5:21 - loss: 1.8291 - accuracy: 0.28 - ETA: 5:20 - loss: 1.8286 - accuracy: 0.28 - ETA: 5:19 - loss: 1.8286 - accuracy: 0.28 - ETA: 5:19 - loss: 1.8287 - accuracy: 0.28 - ETA: 5:18 - loss: 1.8285 - accuracy: 0.28 - ETA: 5:17 - loss: 1.8282 - accuracy: 0.28 - ETA: 5:16 - loss: 1.8276 - accuracy: 0.28 - ETA: 5:16 - loss: 1.8271 - accuracy: 0.28 - ETA: 5:15 - loss: 1.8265 - accuracy: 0.28 - ETA: 5:14 - loss: 1.8261 - accuracy: 0.28 - ETA: 5:13 - loss: 1.8263 - accuracy: 0.28 - ETA: 5:13 - loss: 1.8262 - accuracy: 0.28 - ETA: 5:12 - loss: 1.8259 - accuracy: 0.28 - ETA: 5:11 - loss: 1.8268 - accuracy: 0.28 - ETA: 5:10 - loss: 1.8268 - accuracy: 0.28 - ETA: 5:10 - loss: 1.8265 - accuracy: 0.28 - ETA: 5:09 - loss: 1.8264 - accuracy: 0.28 - ETA: 5:08 - loss: 1.8269 - accuracy: 0.28 - ETA: 5:07 - loss: 1.8266 - accuracy: 0.28 - ETA: 5:07 - loss: 1.8266 - accuracy: 0.28 - ETA: 5:06 - loss: 1.8269 - accuracy: 0.28 - ETA: 5:05 - loss: 1.8269 - accuracy: 0.2895"
     ]
    },
    {
     "name": "stdout",
     "output_type": "stream",
     "text": [
      "557/782 [====================>.........] - ETA: 5:04 - loss: 1.8263 - accuracy: 0.28 - ETA: 5:04 - loss: 1.8261 - accuracy: 0.28 - ETA: 5:03 - loss: 1.8260 - accuracy: 0.29 - ETA: 5:02 - loss: 1.8259 - accuracy: 0.29 - ETA: 5:01 - loss: 1.8258 - accuracy: 0.29 - ETA: 5:01 - loss: 1.8256 - accuracy: 0.29 - ETA: 5:00 - loss: 1.8260 - accuracy: 0.28 - ETA: 4:59 - loss: 1.8259 - accuracy: 0.28 - ETA: 4:59 - loss: 1.8263 - accuracy: 0.28 - ETA: 4:58 - loss: 1.8260 - accuracy: 0.28 - ETA: 4:57 - loss: 1.8256 - accuracy: 0.29 - ETA: 4:56 - loss: 1.8256 - accuracy: 0.29 - ETA: 4:56 - loss: 1.8250 - accuracy: 0.29 - ETA: 4:55 - loss: 1.8247 - accuracy: 0.29 - ETA: 4:54 - loss: 1.8243 - accuracy: 0.29 - ETA: 4:53 - loss: 1.8247 - accuracy: 0.29 - ETA: 4:53 - loss: 1.8242 - accuracy: 0.29 - ETA: 4:52 - loss: 1.8240 - accuracy: 0.29 - ETA: 4:51 - loss: 1.8237 - accuracy: 0.29 - ETA: 4:50 - loss: 1.8239 - accuracy: 0.29 - ETA: 4:50 - loss: 1.8241 - accuracy: 0.29 - ETA: 4:49 - loss: 1.8243 - accuracy: 0.29 - ETA: 4:48 - loss: 1.8245 - accuracy: 0.29 - ETA: 4:47 - loss: 1.8248 - accuracy: 0.29 - ETA: 4:47 - loss: 1.8245 - accuracy: 0.29 - ETA: 4:46 - loss: 1.8244 - accuracy: 0.29 - ETA: 4:45 - loss: 1.8241 - accuracy: 0.29 - ETA: 4:44 - loss: 1.8236 - accuracy: 0.29 - ETA: 4:44 - loss: 1.8234 - accuracy: 0.29 - ETA: 4:43 - loss: 1.8233 - accuracy: 0.29 - ETA: 4:42 - loss: 1.8229 - accuracy: 0.29 - ETA: 4:41 - loss: 1.8231 - accuracy: 0.29 - ETA: 4:41 - loss: 1.8229 - accuracy: 0.29 - ETA: 4:40 - loss: 1.8229 - accuracy: 0.29 - ETA: 4:39 - loss: 1.8226 - accuracy: 0.29 - ETA: 4:39 - loss: 1.8222 - accuracy: 0.29 - ETA: 4:38 - loss: 1.8217 - accuracy: 0.29 - ETA: 4:37 - loss: 1.8213 - accuracy: 0.29 - ETA: 4:36 - loss: 1.8209 - accuracy: 0.29 - ETA: 4:36 - loss: 1.8213 - accuracy: 0.29 - ETA: 4:35 - loss: 1.8211 - accuracy: 0.29 - ETA: 4:34 - loss: 1.8208 - accuracy: 0.29 - ETA: 4:33 - loss: 1.8206 - accuracy: 0.29 - ETA: 4:33 - loss: 1.8203 - accuracy: 0.29 - ETA: 4:32 - loss: 1.8202 - accuracy: 0.29 - ETA: 4:31 - loss: 1.8201 - accuracy: 0.29 - ETA: 4:30 - loss: 1.8196 - accuracy: 0.29 - ETA: 4:30 - loss: 1.8195 - accuracy: 0.29 - ETA: 4:29 - loss: 1.8195 - accuracy: 0.29 - ETA: 4:28 - loss: 1.8193 - accuracy: 0.29 - ETA: 4:27 - loss: 1.8189 - accuracy: 0.29 - ETA: 4:27 - loss: 1.8186 - accuracy: 0.29 - ETA: 4:26 - loss: 1.8183 - accuracy: 0.29 - ETA: 4:25 - loss: 1.8185 - accuracy: 0.29 - ETA: 4:24 - loss: 1.8187 - accuracy: 0.29 - ETA: 4:24 - loss: 1.8186 - accuracy: 0.29 - ETA: 4:23 - loss: 1.8183 - accuracy: 0.29 - ETA: 4:22 - loss: 1.8179 - accuracy: 0.29 - ETA: 4:21 - loss: 1.8178 - accuracy: 0.29 - ETA: 4:21 - loss: 1.8172 - accuracy: 0.29 - ETA: 4:20 - loss: 1.8168 - accuracy: 0.29 - ETA: 4:19 - loss: 1.8161 - accuracy: 0.29 - ETA: 4:19 - loss: 1.8158 - accuracy: 0.29 - ETA: 4:18 - loss: 1.8157 - accuracy: 0.29 - ETA: 4:17 - loss: 1.8155 - accuracy: 0.29 - ETA: 4:16 - loss: 1.8152 - accuracy: 0.29 - ETA: 4:16 - loss: 1.8149 - accuracy: 0.29 - ETA: 4:15 - loss: 1.8153 - accuracy: 0.29 - ETA: 4:14 - loss: 1.8153 - accuracy: 0.29 - ETA: 4:13 - loss: 1.8156 - accuracy: 0.29 - ETA: 4:13 - loss: 1.8154 - accuracy: 0.29 - ETA: 4:12 - loss: 1.8151 - accuracy: 0.29 - ETA: 4:11 - loss: 1.8150 - accuracy: 0.29 - ETA: 4:10 - loss: 1.8149 - accuracy: 0.29 - ETA: 4:10 - loss: 1.8148 - accuracy: 0.29 - ETA: 4:09 - loss: 1.8147 - accuracy: 0.29 - ETA: 4:08 - loss: 1.8141 - accuracy: 0.29 - ETA: 4:07 - loss: 1.8137 - accuracy: 0.29 - ETA: 4:07 - loss: 1.8137 - accuracy: 0.29 - ETA: 4:06 - loss: 1.8138 - accuracy: 0.29 - ETA: 4:05 - loss: 1.8135 - accuracy: 0.29 - ETA: 4:04 - loss: 1.8133 - accuracy: 0.29 - ETA: 4:04 - loss: 1.8130 - accuracy: 0.29 - ETA: 4:03 - loss: 1.8127 - accuracy: 0.29 - ETA: 4:02 - loss: 1.8121 - accuracy: 0.29 - ETA: 4:01 - loss: 1.8122 - accuracy: 0.29 - ETA: 4:00 - loss: 1.8116 - accuracy: 0.29 - ETA: 4:00 - loss: 1.8118 - accuracy: 0.29 - ETA: 3:59 - loss: 1.8116 - accuracy: 0.29 - ETA: 3:58 - loss: 1.8110 - accuracy: 0.29 - ETA: 3:57 - loss: 1.8112 - accuracy: 0.29 - ETA: 3:57 - loss: 1.8115 - accuracy: 0.29 - ETA: 3:56 - loss: 1.8113 - accuracy: 0.29 - ETA: 3:55 - loss: 1.8110 - accuracy: 0.29 - ETA: 3:54 - loss: 1.8109 - accuracy: 0.29 - ETA: 3:54 - loss: 1.8110 - accuracy: 0.29 - ETA: 3:53 - loss: 1.8109 - accuracy: 0.29 - ETA: 3:52 - loss: 1.8106 - accuracy: 0.29 - ETA: 3:51 - loss: 1.8102 - accuracy: 0.29 - ETA: 3:51 - loss: 1.8100 - accuracy: 0.29 - ETA: 3:50 - loss: 1.8100 - accuracy: 0.29 - ETA: 3:49 - loss: 1.8098 - accuracy: 0.29 - ETA: 3:49 - loss: 1.8094 - accuracy: 0.29 - ETA: 3:48 - loss: 1.8094 - accuracy: 0.29 - ETA: 3:47 - loss: 1.8091 - accuracy: 0.29 - ETA: 3:46 - loss: 1.8091 - accuracy: 0.29 - ETA: 3:46 - loss: 1.8089 - accuracy: 0.29 - ETA: 3:45 - loss: 1.8087 - accuracy: 0.29 - ETA: 3:44 - loss: 1.8086 - accuracy: 0.29 - ETA: 3:43 - loss: 1.8081 - accuracy: 0.29 - ETA: 3:43 - loss: 1.8075 - accuracy: 0.29 - ETA: 3:42 - loss: 1.8073 - accuracy: 0.29 - ETA: 3:41 - loss: 1.8071 - accuracy: 0.29 - ETA: 3:40 - loss: 1.8069 - accuracy: 0.29 - ETA: 3:40 - loss: 1.8066 - accuracy: 0.29 - ETA: 3:39 - loss: 1.8065 - accuracy: 0.29 - ETA: 3:38 - loss: 1.8058 - accuracy: 0.29 - ETA: 3:37 - loss: 1.8057 - accuracy: 0.29 - ETA: 3:37 - loss: 1.8051 - accuracy: 0.29 - ETA: 3:36 - loss: 1.8047 - accuracy: 0.29 - ETA: 3:35 - loss: 1.8043 - accuracy: 0.29 - ETA: 3:34 - loss: 1.8046 - accuracy: 0.29 - ETA: 3:34 - loss: 1.8045 - accuracy: 0.29 - ETA: 3:33 - loss: 1.8036 - accuracy: 0.30 - ETA: 3:32 - loss: 1.8033 - accuracy: 0.30 - ETA: 3:32 - loss: 1.8032 - accuracy: 0.30 - ETA: 3:31 - loss: 1.8032 - accuracy: 0.30 - ETA: 3:30 - loss: 1.8029 - accuracy: 0.30 - ETA: 3:29 - loss: 1.8023 - accuracy: 0.30 - ETA: 3:29 - loss: 1.8023 - accuracy: 0.30 - ETA: 3:28 - loss: 1.8022 - accuracy: 0.30 - ETA: 3:27 - loss: 1.8021 - accuracy: 0.30 - ETA: 3:26 - loss: 1.8018 - accuracy: 0.30 - ETA: 3:26 - loss: 1.8018 - accuracy: 0.30 - ETA: 3:25 - loss: 1.8023 - accuracy: 0.30 - ETA: 3:24 - loss: 1.8022 - accuracy: 0.30 - ETA: 3:23 - loss: 1.8022 - accuracy: 0.30 - ETA: 3:23 - loss: 1.8021 - accuracy: 0.30 - ETA: 3:22 - loss: 1.8019 - accuracy: 0.30 - ETA: 3:21 - loss: 1.8017 - accuracy: 0.30 - ETA: 3:20 - loss: 1.8012 - accuracy: 0.30 - ETA: 3:20 - loss: 1.8011 - accuracy: 0.30 - ETA: 3:19 - loss: 1.8009 - accuracy: 0.30 - ETA: 3:18 - loss: 1.8006 - accuracy: 0.30 - ETA: 3:18 - loss: 1.8003 - accuracy: 0.30 - ETA: 3:17 - loss: 1.8001 - accuracy: 0.30 - ETA: 3:16 - loss: 1.8000 - accuracy: 0.30 - ETA: 3:15 - loss: 1.8001 - accuracy: 0.30 - ETA: 3:15 - loss: 1.7999 - accuracy: 0.30 - ETA: 3:14 - loss: 1.7999 - accuracy: 0.30 - ETA: 3:13 - loss: 1.7999 - accuracy: 0.30 - ETA: 3:12 - loss: 1.8002 - accuracy: 0.30 - ETA: 3:12 - loss: 1.7999 - accuracy: 0.30 - ETA: 3:11 - loss: 1.7999 - accuracy: 0.30 - ETA: 3:10 - loss: 1.8000 - accuracy: 0.30 - ETA: 3:09 - loss: 1.7998 - accuracy: 0.30 - ETA: 3:09 - loss: 1.7994 - accuracy: 0.30 - ETA: 3:08 - loss: 1.7994 - accuracy: 0.30 - ETA: 3:07 - loss: 1.7991 - accuracy: 0.30 - ETA: 3:06 - loss: 1.7990 - accuracy: 0.30 - ETA: 3:06 - loss: 1.7986 - accuracy: 0.30 - ETA: 3:05 - loss: 1.7984 - accuracy: 0.30 - ETA: 3:04 - loss: 1.7977 - accuracy: 0.30 - ETA: 3:03 - loss: 1.7972 - accuracy: 0.30 - ETA: 3:03 - loss: 1.7970 - accuracy: 0.30 - ETA: 3:02 - loss: 1.7968 - accuracy: 0.30 - ETA: 3:01 - loss: 1.7966 - accuracy: 0.30 - ETA: 3:00 - loss: 1.7965 - accuracy: 0.30 - ETA: 3:00 - loss: 1.7963 - accuracy: 0.30 - ETA: 2:59 - loss: 1.7961 - accuracy: 0.30 - ETA: 2:58 - loss: 1.7964 - accuracy: 0.30 - ETA: 2:58 - loss: 1.7963 - accuracy: 0.30 - ETA: 2:57 - loss: 1.7961 - accuracy: 0.30 - ETA: 2:56 - loss: 1.7958 - accuracy: 0.30 - ETA: 2:55 - loss: 1.7953 - accuracy: 0.30 - ETA: 2:55 - loss: 1.7947 - accuracy: 0.30 - ETA: 2:54 - loss: 1.7945 - accuracy: 0.30 - ETA: 2:53 - loss: 1.7948 - accuracy: 0.30 - ETA: 2:52 - loss: 1.7944 - accuracy: 0.30 - ETA: 2:52 - loss: 1.7937 - accuracy: 0.30 - ETA: 2:51 - loss: 1.7933 - accuracy: 0.30 - ETA: 2:50 - loss: 1.7929 - accuracy: 0.30 - ETA: 2:49 - loss: 1.7926 - accuracy: 0.30 - ETA: 2:49 - loss: 1.7924 - accuracy: 0.30 - ETA: 2:48 - loss: 1.7921 - accuracy: 0.30 - ETA: 2:47 - loss: 1.7917 - accuracy: 0.3070"
     ]
    },
    {
     "name": "stdout",
     "output_type": "stream",
     "text": [
      "743/782 [===========================>..] - ETA: 2:46 - loss: 1.7913 - accuracy: 0.30 - ETA: 2:46 - loss: 1.7911 - accuracy: 0.30 - ETA: 2:45 - loss: 1.7907 - accuracy: 0.30 - ETA: 2:44 - loss: 1.7902 - accuracy: 0.30 - ETA: 2:43 - loss: 1.7900 - accuracy: 0.30 - ETA: 2:43 - loss: 1.7896 - accuracy: 0.30 - ETA: 2:42 - loss: 1.7895 - accuracy: 0.30 - ETA: 2:41 - loss: 1.7899 - accuracy: 0.30 - ETA: 2:40 - loss: 1.7897 - accuracy: 0.30 - ETA: 2:40 - loss: 1.7893 - accuracy: 0.30 - ETA: 2:39 - loss: 1.7888 - accuracy: 0.30 - ETA: 2:38 - loss: 1.7884 - accuracy: 0.30 - ETA: 2:37 - loss: 1.7879 - accuracy: 0.30 - ETA: 2:37 - loss: 1.7875 - accuracy: 0.30 - ETA: 2:36 - loss: 1.7870 - accuracy: 0.30 - ETA: 2:35 - loss: 1.7867 - accuracy: 0.30 - ETA: 2:35 - loss: 1.7864 - accuracy: 0.30 - ETA: 2:34 - loss: 1.7860 - accuracy: 0.30 - ETA: 2:33 - loss: 1.7863 - accuracy: 0.30 - ETA: 2:32 - loss: 1.7867 - accuracy: 0.30 - ETA: 2:32 - loss: 1.7863 - accuracy: 0.30 - ETA: 2:31 - loss: 1.7863 - accuracy: 0.30 - ETA: 2:30 - loss: 1.7858 - accuracy: 0.30 - ETA: 2:29 - loss: 1.7854 - accuracy: 0.31 - ETA: 2:29 - loss: 1.7848 - accuracy: 0.31 - ETA: 2:28 - loss: 1.7843 - accuracy: 0.31 - ETA: 2:27 - loss: 1.7839 - accuracy: 0.31 - ETA: 2:26 - loss: 1.7835 - accuracy: 0.31 - ETA: 2:26 - loss: 1.7831 - accuracy: 0.31 - ETA: 2:25 - loss: 1.7827 - accuracy: 0.31 - ETA: 2:24 - loss: 1.7823 - accuracy: 0.31 - ETA: 2:23 - loss: 1.7819 - accuracy: 0.31 - ETA: 2:23 - loss: 1.7818 - accuracy: 0.31 - ETA: 2:22 - loss: 1.7816 - accuracy: 0.31 - ETA: 2:21 - loss: 1.7815 - accuracy: 0.31 - ETA: 2:20 - loss: 1.7810 - accuracy: 0.31 - ETA: 2:20 - loss: 1.7807 - accuracy: 0.31 - ETA: 2:19 - loss: 1.7802 - accuracy: 0.31 - ETA: 2:18 - loss: 1.7798 - accuracy: 0.31 - ETA: 2:17 - loss: 1.7797 - accuracy: 0.31 - ETA: 2:17 - loss: 1.7795 - accuracy: 0.31 - ETA: 2:16 - loss: 1.7791 - accuracy: 0.31 - ETA: 2:15 - loss: 1.7793 - accuracy: 0.31 - ETA: 2:14 - loss: 1.7789 - accuracy: 0.31 - ETA: 2:14 - loss: 1.7784 - accuracy: 0.31 - ETA: 2:13 - loss: 1.7781 - accuracy: 0.31 - ETA: 2:12 - loss: 1.7778 - accuracy: 0.31 - ETA: 2:11 - loss: 1.7772 - accuracy: 0.31 - ETA: 2:11 - loss: 1.7774 - accuracy: 0.31 - ETA: 2:10 - loss: 1.7773 - accuracy: 0.31 - ETA: 2:09 - loss: 1.7767 - accuracy: 0.31 - ETA: 2:08 - loss: 1.7763 - accuracy: 0.31 - ETA: 2:08 - loss: 1.7760 - accuracy: 0.31 - ETA: 2:07 - loss: 1.7755 - accuracy: 0.31 - ETA: 2:06 - loss: 1.7752 - accuracy: 0.31 - ETA: 2:05 - loss: 1.7750 - accuracy: 0.31 - ETA: 2:05 - loss: 1.7746 - accuracy: 0.31 - ETA: 2:04 - loss: 1.7743 - accuracy: 0.31 - ETA: 2:03 - loss: 1.7740 - accuracy: 0.31 - ETA: 2:02 - loss: 1.7737 - accuracy: 0.31 - ETA: 2:02 - loss: 1.7732 - accuracy: 0.31 - ETA: 2:01 - loss: 1.7725 - accuracy: 0.31 - ETA: 2:00 - loss: 1.7723 - accuracy: 0.31 - ETA: 2:00 - loss: 1.7720 - accuracy: 0.31 - ETA: 1:59 - loss: 1.7718 - accuracy: 0.31 - ETA: 1:58 - loss: 1.7714 - accuracy: 0.31 - ETA: 1:57 - loss: 1.7716 - accuracy: 0.31 - ETA: 1:57 - loss: 1.7716 - accuracy: 0.31 - ETA: 1:56 - loss: 1.7720 - accuracy: 0.31 - ETA: 1:55 - loss: 1.7717 - accuracy: 0.31 - ETA: 1:54 - loss: 1.7712 - accuracy: 0.31 - ETA: 1:54 - loss: 1.7706 - accuracy: 0.31 - ETA: 1:53 - loss: 1.7701 - accuracy: 0.31 - ETA: 1:52 - loss: 1.7697 - accuracy: 0.31 - ETA: 1:51 - loss: 1.7693 - accuracy: 0.31 - ETA: 1:51 - loss: 1.7690 - accuracy: 0.31 - ETA: 1:50 - loss: 1.7686 - accuracy: 0.31 - ETA: 1:49 - loss: 1.7684 - accuracy: 0.31 - ETA: 1:48 - loss: 1.7683 - accuracy: 0.31 - ETA: 1:48 - loss: 1.7679 - accuracy: 0.31 - ETA: 1:47 - loss: 1.7675 - accuracy: 0.31 - ETA: 1:46 - loss: 1.7671 - accuracy: 0.31 - ETA: 1:45 - loss: 1.7671 - accuracy: 0.31 - ETA: 1:45 - loss: 1.7666 - accuracy: 0.31 - ETA: 1:44 - loss: 1.7662 - accuracy: 0.31 - ETA: 1:43 - loss: 1.7663 - accuracy: 0.31 - ETA: 1:42 - loss: 1.7659 - accuracy: 0.31 - ETA: 1:42 - loss: 1.7655 - accuracy: 0.31 - ETA: 1:41 - loss: 1.7656 - accuracy: 0.31 - ETA: 1:40 - loss: 1.7657 - accuracy: 0.31 - ETA: 1:39 - loss: 1.7658 - accuracy: 0.31 - ETA: 1:39 - loss: 1.7654 - accuracy: 0.31 - ETA: 1:38 - loss: 1.7650 - accuracy: 0.31 - ETA: 1:37 - loss: 1.7646 - accuracy: 0.31 - ETA: 1:36 - loss: 1.7643 - accuracy: 0.31 - ETA: 1:36 - loss: 1.7639 - accuracy: 0.31 - ETA: 1:35 - loss: 1.7640 - accuracy: 0.31 - ETA: 1:34 - loss: 1.7634 - accuracy: 0.31 - ETA: 1:33 - loss: 1.7631 - accuracy: 0.31 - ETA: 1:33 - loss: 1.7627 - accuracy: 0.31 - ETA: 1:32 - loss: 1.7626 - accuracy: 0.31 - ETA: 1:31 - loss: 1.7625 - accuracy: 0.31 - ETA: 1:30 - loss: 1.7622 - accuracy: 0.31 - ETA: 1:30 - loss: 1.7622 - accuracy: 0.31 - ETA: 1:29 - loss: 1.7618 - accuracy: 0.31 - ETA: 1:28 - loss: 1.7616 - accuracy: 0.31 - ETA: 1:27 - loss: 1.7610 - accuracy: 0.31 - ETA: 1:27 - loss: 1.7610 - accuracy: 0.31 - ETA: 1:26 - loss: 1.7605 - accuracy: 0.32 - ETA: 1:25 - loss: 1.7600 - accuracy: 0.32 - ETA: 1:24 - loss: 1.7598 - accuracy: 0.32 - ETA: 1:24 - loss: 1.7598 - accuracy: 0.32 - ETA: 1:23 - loss: 1.7596 - accuracy: 0.32 - ETA: 1:22 - loss: 1.7595 - accuracy: 0.32 - ETA: 1:22 - loss: 1.7594 - accuracy: 0.32 - ETA: 1:21 - loss: 1.7591 - accuracy: 0.32 - ETA: 1:20 - loss: 1.7590 - accuracy: 0.32 - ETA: 1:19 - loss: 1.7589 - accuracy: 0.32 - ETA: 1:19 - loss: 1.7586 - accuracy: 0.32 - ETA: 1:18 - loss: 1.7581 - accuracy: 0.32 - ETA: 1:17 - loss: 1.7583 - accuracy: 0.32 - ETA: 1:16 - loss: 1.7582 - accuracy: 0.32 - ETA: 1:16 - loss: 1.7581 - accuracy: 0.32 - ETA: 1:15 - loss: 1.7578 - accuracy: 0.32 - ETA: 1:14 - loss: 1.7577 - accuracy: 0.32 - ETA: 1:13 - loss: 1.7575 - accuracy: 0.32 - ETA: 1:13 - loss: 1.7571 - accuracy: 0.32 - ETA: 1:12 - loss: 1.7568 - accuracy: 0.32 - ETA: 1:11 - loss: 1.7564 - accuracy: 0.32 - ETA: 1:10 - loss: 1.7560 - accuracy: 0.32 - ETA: 1:10 - loss: 1.7558 - accuracy: 0.32 - ETA: 1:09 - loss: 1.7556 - accuracy: 0.32 - ETA: 1:08 - loss: 1.7553 - accuracy: 0.32 - ETA: 1:07 - loss: 1.7548 - accuracy: 0.32 - ETA: 1:07 - loss: 1.7547 - accuracy: 0.32 - ETA: 1:06 - loss: 1.7546 - accuracy: 0.32 - ETA: 1:05 - loss: 1.7543 - accuracy: 0.32 - ETA: 1:04 - loss: 1.7541 - accuracy: 0.32 - ETA: 1:04 - loss: 1.7537 - accuracy: 0.32 - ETA: 1:03 - loss: 1.7533 - accuracy: 0.32 - ETA: 1:02 - loss: 1.7530 - accuracy: 0.32 - ETA: 1:01 - loss: 1.7530 - accuracy: 0.32 - ETA: 1:01 - loss: 1.7528 - accuracy: 0.32 - ETA: 1:00 - loss: 1.7523 - accuracy: 0.32 - ETA: 59s - loss: 1.7520 - accuracy: 0.3242 - ETA: 58s - loss: 1.7515 - accuracy: 0.324 - ETA: 58s - loss: 1.7512 - accuracy: 0.324 - ETA: 57s - loss: 1.7508 - accuracy: 0.324 - ETA: 56s - loss: 1.7507 - accuracy: 0.324 - ETA: 55s - loss: 1.7504 - accuracy: 0.325 - ETA: 55s - loss: 1.7502 - accuracy: 0.325 - ETA: 54s - loss: 1.7498 - accuracy: 0.325 - ETA: 53s - loss: 1.7493 - accuracy: 0.325 - ETA: 52s - loss: 1.7492 - accuracy: 0.325 - ETA: 52s - loss: 1.7491 - accuracy: 0.325 - ETA: 51s - loss: 1.7489 - accuracy: 0.325 - ETA: 50s - loss: 1.7490 - accuracy: 0.325 - ETA: 49s - loss: 1.7490 - accuracy: 0.325 - ETA: 49s - loss: 1.7486 - accuracy: 0.325 - ETA: 48s - loss: 1.7487 - accuracy: 0.325 - ETA: 47s - loss: 1.7484 - accuracy: 0.326 - ETA: 46s - loss: 1.7483 - accuracy: 0.325 - ETA: 46s - loss: 1.7482 - accuracy: 0.326 - ETA: 45s - loss: 1.7480 - accuracy: 0.326 - ETA: 44s - loss: 1.7480 - accuracy: 0.326 - ETA: 43s - loss: 1.7478 - accuracy: 0.326 - ETA: 43s - loss: 1.7476 - accuracy: 0.326 - ETA: 42s - loss: 1.7472 - accuracy: 0.326 - ETA: 41s - loss: 1.7470 - accuracy: 0.326 - ETA: 40s - loss: 1.7469 - accuracy: 0.326 - ETA: 40s - loss: 1.7464 - accuracy: 0.326 - ETA: 39s - loss: 1.7463 - accuracy: 0.326 - ETA: 38s - loss: 1.7460 - accuracy: 0.327 - ETA: 37s - loss: 1.7458 - accuracy: 0.327 - ETA: 37s - loss: 1.7455 - accuracy: 0.327 - ETA: 36s - loss: 1.7453 - accuracy: 0.327 - ETA: 35s - loss: 1.7449 - accuracy: 0.327 - ETA: 35s - loss: 1.7447 - accuracy: 0.327 - ETA: 34s - loss: 1.7444 - accuracy: 0.327 - ETA: 33s - loss: 1.7441 - accuracy: 0.327 - ETA: 32s - loss: 1.7440 - accuracy: 0.327 - ETA: 32s - loss: 1.7439 - accuracy: 0.327 - ETA: 31s - loss: 1.7437 - accuracy: 0.327 - ETA: 30s - loss: 1.7434 - accuracy: 0.328 - ETA: 29s - loss: 1.7431 - accuracy: 0.328 - ETA: 29s - loss: 1.7425 - accuracy: 0.3285"
     ]
    },
    {
     "name": "stdout",
     "output_type": "stream",
     "text": [
      "782/782 [==============================] - ETA: 28s - loss: 1.7423 - accuracy: 0.328 - ETA: 27s - loss: 1.7420 - accuracy: 0.328 - ETA: 26s - loss: 1.7416 - accuracy: 0.329 - ETA: 26s - loss: 1.7410 - accuracy: 0.329 - ETA: 25s - loss: 1.7409 - accuracy: 0.329 - ETA: 24s - loss: 1.7403 - accuracy: 0.329 - ETA: 23s - loss: 1.7401 - accuracy: 0.329 - ETA: 23s - loss: 1.7396 - accuracy: 0.329 - ETA: 22s - loss: 1.7390 - accuracy: 0.330 - ETA: 21s - loss: 1.7385 - accuracy: 0.330 - ETA: 20s - loss: 1.7380 - accuracy: 0.330 - ETA: 20s - loss: 1.7377 - accuracy: 0.330 - ETA: 19s - loss: 1.7373 - accuracy: 0.330 - ETA: 18s - loss: 1.7369 - accuracy: 0.330 - ETA: 17s - loss: 1.7366 - accuracy: 0.330 - ETA: 17s - loss: 1.7365 - accuracy: 0.330 - ETA: 16s - loss: 1.7365 - accuracy: 0.330 - ETA: 15s - loss: 1.7364 - accuracy: 0.331 - ETA: 14s - loss: 1.7361 - accuracy: 0.331 - ETA: 14s - loss: 1.7362 - accuracy: 0.331 - ETA: 13s - loss: 1.7361 - accuracy: 0.331 - ETA: 12s - loss: 1.7358 - accuracy: 0.331 - ETA: 11s - loss: 1.7357 - accuracy: 0.331 - ETA: 11s - loss: 1.7355 - accuracy: 0.331 - ETA: 10s - loss: 1.7355 - accuracy: 0.331 - ETA: 9s - loss: 1.7353 - accuracy: 0.331 - ETA: 8s - loss: 1.7349 - accuracy: 0.33 - ETA: 8s - loss: 1.7348 - accuracy: 0.33 - ETA: 7s - loss: 1.7346 - accuracy: 0.33 - ETA: 6s - loss: 1.7342 - accuracy: 0.33 - ETA: 5s - loss: 1.7339 - accuracy: 0.33 - ETA: 5s - loss: 1.7337 - accuracy: 0.33 - ETA: 4s - loss: 1.7334 - accuracy: 0.33 - ETA: 3s - loss: 1.7331 - accuracy: 0.33 - ETA: 2s - loss: 1.7329 - accuracy: 0.33 - ETA: 2s - loss: 1.7332 - accuracy: 0.33 - ETA: 1s - loss: 1.7329 - accuracy: 0.33 - ETA: 0s - loss: 1.7327 - accuracy: 0.33 - 605s 774ms/step - loss: 1.7322 - accuracy: 0.3329 - val_loss: 3.8437 - val_accuracy: 0.1895\n"
     ]
    },
    {
     "data": {
      "text/html": [
       "<span style=\"color:#4527A0\"><h1 style=\"font-size:18px\">Trial complete</h1></span>"
      ],
      "text/plain": [
       "<IPython.core.display.HTML object>"
      ]
     },
     "metadata": {},
     "output_type": "display_data"
    },
    {
     "data": {
      "text/html": [
       "<span style=\"color:#4527A0\"><h1 style=\"font-size:18px\">Trial summary</h1></span>"
      ],
      "text/plain": [
       "<IPython.core.display.HTML object>"
      ]
     },
     "metadata": {},
     "output_type": "display_data"
    },
    {
     "data": {
      "text/html": [
       "<span style=\"color:cyan\"> |-Trial ID: 21d337d8cd5b4a4abf23ef1bddc53cb4</span>"
      ],
      "text/plain": [
       "<IPython.core.display.HTML object>"
      ]
     },
     "metadata": {},
     "output_type": "display_data"
    },
    {
     "data": {
      "text/html": [
       "<span style=\"color:cyan\"> |-Score: 0.22589999437332153</span>"
      ],
      "text/plain": [
       "<IPython.core.display.HTML object>"
      ]
     },
     "metadata": {},
     "output_type": "display_data"
    },
    {
     "data": {
      "text/html": [
       "<span style=\"color:cyan\"> |-Best step: 0</span>"
      ],
      "text/plain": [
       "<IPython.core.display.HTML object>"
      ]
     },
     "metadata": {},
     "output_type": "display_data"
    },
    {
     "data": {
      "text/html": [
       "<span style=\"color:#7E57C2\"><h2 style=\"font-size:16px\">Hyperparameters:</h2></span>"
      ],
      "text/plain": [
       "<IPython.core.display.HTML object>"
      ]
     },
     "metadata": {},
     "output_type": "display_data"
    },
    {
     "data": {
      "text/html": [
       "<span style=\"color:cyan\"> |-conv_blocks: 5</span>"
      ],
      "text/plain": [
       "<IPython.core.display.HTML object>"
      ]
     },
     "metadata": {},
     "output_type": "display_data"
    },
    {
     "data": {
      "text/html": [
       "<span style=\"color:blue\"> |-dropout: 0.4</span>"
      ],
      "text/plain": [
       "<IPython.core.display.HTML object>"
      ]
     },
     "metadata": {},
     "output_type": "display_data"
    },
    {
     "data": {
      "text/html": [
       "<span style=\"color:cyan\"> |-filters_0: 192</span>"
      ],
      "text/plain": [
       "<IPython.core.display.HTML object>"
      ]
     },
     "metadata": {},
     "output_type": "display_data"
    },
    {
     "data": {
      "text/html": [
       "<span style=\"color:blue\"> |-filters_1: 96</span>"
      ],
      "text/plain": [
       "<IPython.core.display.HTML object>"
      ]
     },
     "metadata": {},
     "output_type": "display_data"
    },
    {
     "data": {
      "text/html": [
       "<span style=\"color:cyan\"> |-filters_2: 160</span>"
      ],
      "text/plain": [
       "<IPython.core.display.HTML object>"
      ]
     },
     "metadata": {},
     "output_type": "display_data"
    },
    {
     "data": {
      "text/html": [
       "<span style=\"color:blue\"> |-filters_3: 160</span>"
      ],
      "text/plain": [
       "<IPython.core.display.HTML object>"
      ]
     },
     "metadata": {},
     "output_type": "display_data"
    },
    {
     "data": {
      "text/html": [
       "<span style=\"color:cyan\"> |-filters_4: 96</span>"
      ],
      "text/plain": [
       "<IPython.core.display.HTML object>"
      ]
     },
     "metadata": {},
     "output_type": "display_data"
    },
    {
     "data": {
      "text/html": [
       "<span style=\"color:blue\"> |-hidden_size: 80</span>"
      ],
      "text/plain": [
       "<IPython.core.display.HTML object>"
      ]
     },
     "metadata": {},
     "output_type": "display_data"
    },
    {
     "data": {
      "text/html": [
       "<span style=\"color:cyan\"> |-learning_rate: 0.006396808491831081</span>"
      ],
      "text/plain": [
       "<IPython.core.display.HTML object>"
      ]
     },
     "metadata": {},
     "output_type": "display_data"
    },
    {
     "data": {
      "text/html": [
       "<span style=\"color:blue\"> |-pooling_0: avg</span>"
      ],
      "text/plain": [
       "<IPython.core.display.HTML object>"
      ]
     },
     "metadata": {},
     "output_type": "display_data"
    },
    {
     "data": {
      "text/html": [
       "<span style=\"color:cyan\"> |-pooling_1: avg</span>"
      ],
      "text/plain": [
       "<IPython.core.display.HTML object>"
      ]
     },
     "metadata": {},
     "output_type": "display_data"
    },
    {
     "data": {
      "text/html": [
       "<span style=\"color:blue\"> |-pooling_2: avg</span>"
      ],
      "text/plain": [
       "<IPython.core.display.HTML object>"
      ]
     },
     "metadata": {},
     "output_type": "display_data"
    },
    {
     "data": {
      "text/html": [
       "<span style=\"color:cyan\"> |-pooling_3: avg</span>"
      ],
      "text/plain": [
       "<IPython.core.display.HTML object>"
      ]
     },
     "metadata": {},
     "output_type": "display_data"
    },
    {
     "data": {
      "text/html": [
       "<span style=\"color:blue\"> |-pooling_4: max</span>"
      ],
      "text/plain": [
       "<IPython.core.display.HTML object>"
      ]
     },
     "metadata": {},
     "output_type": "display_data"
    },
    {
     "data": {
      "text/html": [
       "<span style=\"color:cyan\"> |-tuner/bracket: 3</span>"
      ],
      "text/plain": [
       "<IPython.core.display.HTML object>"
      ]
     },
     "metadata": {},
     "output_type": "display_data"
    },
    {
     "data": {
      "text/html": [
       "<span style=\"color:blue\"> |-tuner/epochs: 2</span>"
      ],
      "text/plain": [
       "<IPython.core.display.HTML object>"
      ]
     },
     "metadata": {},
     "output_type": "display_data"
    },
    {
     "data": {
      "text/html": [
       "<span style=\"color:cyan\"> |-tuner/initial_epoch: 0</span>"
      ],
      "text/plain": [
       "<IPython.core.display.HTML object>"
      ]
     },
     "metadata": {},
     "output_type": "display_data"
    },
    {
     "data": {
      "text/html": [
       "<span style=\"color:blue\"> |-tuner/round: 0</span>"
      ],
      "text/plain": [
       "<IPython.core.display.HTML object>"
      ]
     },
     "metadata": {},
     "output_type": "display_data"
    },
    {
     "name": "stdout",
     "output_type": "stream",
     "text": [
      "Epoch 1/2\n"
     ]
    },
    {
     "name": "stdout",
     "output_type": "stream",
     "text": [
      "    167/Unknown - 2s 2s/step - loss: 3.1743 - accuracy: 0.03 - 2s 1s/step - loss: 2.8276 - accuracy: 0.06 - 2s 805ms/step - loss: 2.6866 - accuracy: 0.099 - 3s 693ms/step - loss: 2.6049 - accuracy: 0.105 - 3s 624ms/step - loss: 2.5530 - accuracy: 0.112 - 3s 582ms/step - loss: 2.5004 - accuracy: 0.122 - 4s 549ms/step - loss: 2.4718 - accuracy: 0.118 - 4s 524ms/step - loss: 2.4476 - accuracy: 0.123 - 5s 504ms/step - loss: 2.4048 - accuracy: 0.152 - 5s 488ms/step - loss: 2.3866 - accuracy: 0.156 - 5s 476ms/step - loss: 2.3703 - accuracy: 0.154 - 6s 466ms/step - loss: 2.3530 - accuracy: 0.160 - 6s 457ms/step - loss: 2.3513 - accuracy: 0.156 - 6s 449ms/step - loss: 2.3345 - accuracy: 0.160 - 7s 442ms/step - loss: 2.3336 - accuracy: 0.156 - 7s 436ms/step - loss: 2.3326 - accuracy: 0.156 - 7s 431ms/step - loss: 2.3166 - accuracy: 0.165 - 8s 426ms/step - loss: 2.3041 - accuracy: 0.166 - 8s 422ms/step - loss: 2.2885 - accuracy: 0.168 - 8s 418ms/step - loss: 2.2763 - accuracy: 0.172 - 9s 415ms/step - loss: 2.2621 - accuracy: 0.179 - 9s 412ms/step - loss: 2.2540 - accuracy: 0.182 - 9s 409ms/step - loss: 2.2499 - accuracy: 0.184 - 10s 406ms/step - loss: 2.2421 - accuracy: 0.18 - 10s 404ms/step - loss: 2.2309 - accuracy: 0.19 - 10s 402ms/step - loss: 2.2254 - accuracy: 0.19 - 11s 400ms/step - loss: 2.2180 - accuracy: 0.19 - 11s 399ms/step - loss: 2.2134 - accuracy: 0.19 - 12s 397ms/step - loss: 2.2104 - accuracy: 0.19 - 12s 396ms/step - loss: 2.2051 - accuracy: 0.19 - 12s 394ms/step - loss: 2.2008 - accuracy: 0.20 - 13s 393ms/step - loss: 2.1954 - accuracy: 0.20 - 13s 392ms/step - loss: 2.1886 - accuracy: 0.20 - 13s 390ms/step - loss: 2.1841 - accuracy: 0.20 - 14s 389ms/step - loss: 2.1805 - accuracy: 0.20 - 14s 388ms/step - loss: 2.1776 - accuracy: 0.20 - 14s 387ms/step - loss: 2.1741 - accuracy: 0.20 - 15s 386ms/step - loss: 2.1693 - accuracy: 0.21 - 15s 385ms/step - loss: 2.1652 - accuracy: 0.20 - 15s 384ms/step - loss: 2.1594 - accuracy: 0.20 - 16s 383ms/step - loss: 2.1530 - accuracy: 0.21 - 16s 382ms/step - loss: 2.1487 - accuracy: 0.21 - 16s 381ms/step - loss: 2.1442 - accuracy: 0.21 - 17s 380ms/step - loss: 2.1382 - accuracy: 0.21 - 17s 379ms/step - loss: 2.1318 - accuracy: 0.21 - 17s 378ms/step - loss: 2.1275 - accuracy: 0.21 - 18s 378ms/step - loss: 2.1258 - accuracy: 0.21 - 18s 377ms/step - loss: 2.1207 - accuracy: 0.21 - 18s 377ms/step - loss: 2.1170 - accuracy: 0.21 - 19s 376ms/step - loss: 2.1164 - accuracy: 0.21 - 19s 375ms/step - loss: 2.1138 - accuracy: 0.21 - 19s 375ms/step - loss: 2.1071 - accuracy: 0.22 - 20s 374ms/step - loss: 2.1037 - accuracy: 0.22 - 20s 374ms/step - loss: 2.1015 - accuracy: 0.22 - 21s 373ms/step - loss: 2.0985 - accuracy: 0.22 - 21s 373ms/step - loss: 2.0929 - accuracy: 0.22 - 21s 372ms/step - loss: 2.0899 - accuracy: 0.22 - 22s 372ms/step - loss: 2.0846 - accuracy: 0.22 - 22s 371ms/step - loss: 2.0804 - accuracy: 0.22 - 22s 371ms/step - loss: 2.0787 - accuracy: 0.22 - 23s 371ms/step - loss: 2.0744 - accuracy: 0.22 - 23s 370ms/step - loss: 2.0679 - accuracy: 0.23 - 23s 370ms/step - loss: 2.0650 - accuracy: 0.23 - 24s 369ms/step - loss: 2.0609 - accuracy: 0.23 - 24s 369ms/step - loss: 2.0572 - accuracy: 0.23 - 24s 369ms/step - loss: 2.0541 - accuracy: 0.23 - 25s 368ms/step - loss: 2.0524 - accuracy: 0.23 - 25s 368ms/step - loss: 2.0508 - accuracy: 0.23 - 25s 368ms/step - loss: 2.0482 - accuracy: 0.23 - 26s 368ms/step - loss: 2.0464 - accuracy: 0.23 - 26s 368ms/step - loss: 2.0439 - accuracy: 0.23 - 26s 367ms/step - loss: 2.0409 - accuracy: 0.23 - 27s 367ms/step - loss: 2.0427 - accuracy: 0.23 - 27s 367ms/step - loss: 2.0394 - accuracy: 0.24 - 28s 367ms/step - loss: 2.0355 - accuracy: 0.24 - 28s 366ms/step - loss: 2.0329 - accuracy: 0.24 - 28s 366ms/step - loss: 2.0301 - accuracy: 0.24 - 29s 366ms/step - loss: 2.0283 - accuracy: 0.24 - 29s 366ms/step - loss: 2.0282 - accuracy: 0.24 - 29s 365ms/step - loss: 2.0273 - accuracy: 0.24 - 30s 365ms/step - loss: 2.0238 - accuracy: 0.24 - 30s 365ms/step - loss: 2.0204 - accuracy: 0.24 - 30s 365ms/step - loss: 2.0181 - accuracy: 0.24 - 31s 365ms/step - loss: 2.0155 - accuracy: 0.25 - 31s 364ms/step - loss: 2.0140 - accuracy: 0.25 - 31s 364ms/step - loss: 2.0120 - accuracy: 0.25 - 32s 364ms/step - loss: 2.0098 - accuracy: 0.25 - 32s 364ms/step - loss: 2.0079 - accuracy: 0.25 - 32s 364ms/step - loss: 2.0054 - accuracy: 0.25 - 33s 364ms/step - loss: 2.0042 - accuracy: 0.25 - 33s 364ms/step - loss: 2.0021 - accuracy: 0.25 - 33s 364ms/step - loss: 1.9994 - accuracy: 0.25 - 34s 363ms/step - loss: 1.9981 - accuracy: 0.25 - 34s 363ms/step - loss: 1.9957 - accuracy: 0.25 - 34s 363ms/step - loss: 1.9947 - accuracy: 0.25 - 35s 363ms/step - loss: 1.9944 - accuracy: 0.25 - 35s 363ms/step - loss: 1.9934 - accuracy: 0.25 - 36s 363ms/step - loss: 1.9910 - accuracy: 0.25 - 36s 363ms/step - loss: 1.9892 - accuracy: 0.25 - 36s 362ms/step - loss: 1.9869 - accuracy: 0.26 - 37s 362ms/step - loss: 1.9853 - accuracy: 0.26 - 37s 362ms/step - loss: 1.9838 - accuracy: 0.26 - 37s 362ms/step - loss: 1.9807 - accuracy: 0.26 - 38s 362ms/step - loss: 1.9801 - accuracy: 0.26 - 38s 362ms/step - loss: 1.9785 - accuracy: 0.26 - 38s 362ms/step - loss: 1.9757 - accuracy: 0.26 - 39s 362ms/step - loss: 1.9742 - accuracy: 0.26 - 39s 362ms/step - loss: 1.9725 - accuracy: 0.26 - 39s 362ms/step - loss: 1.9723 - accuracy: 0.26 - 40s 362ms/step - loss: 1.9707 - accuracy: 0.26 - 40s 362ms/step - loss: 1.9712 - accuracy: 0.26 - 41s 362ms/step - loss: 1.9692 - accuracy: 0.26 - 41s 362ms/step - loss: 1.9684 - accuracy: 0.26 - 41s 362ms/step - loss: 1.9673 - accuracy: 0.26 - 42s 362ms/step - loss: 1.9649 - accuracy: 0.26 - 42s 362ms/step - loss: 1.9623 - accuracy: 0.26 - 42s 362ms/step - loss: 1.9600 - accuracy: 0.26 - 43s 362ms/step - loss: 1.9589 - accuracy: 0.26 - 43s 362ms/step - loss: 1.9576 - accuracy: 0.26 - 43s 362ms/step - loss: 1.9545 - accuracy: 0.27 - 44s 362ms/step - loss: 1.9524 - accuracy: 0.27 - 44s 362ms/step - loss: 1.9502 - accuracy: 0.27 - 45s 362ms/step - loss: 1.9495 - accuracy: 0.27 - 45s 362ms/step - loss: 1.9490 - accuracy: 0.27 - 45s 362ms/step - loss: 1.9480 - accuracy: 0.27 - 46s 362ms/step - loss: 1.9459 - accuracy: 0.27 - 46s 362ms/step - loss: 1.9448 - accuracy: 0.27 - 46s 362ms/step - loss: 1.9445 - accuracy: 0.27 - 47s 362ms/step - loss: 1.9428 - accuracy: 0.27 - 47s 362ms/step - loss: 1.9410 - accuracy: 0.27 - 47s 362ms/step - loss: 1.9396 - accuracy: 0.27 - 48s 362ms/step - loss: 1.9374 - accuracy: 0.27 - 48s 362ms/step - loss: 1.9365 - accuracy: 0.27 - 48s 362ms/step - loss: 1.9355 - accuracy: 0.27 - 49s 362ms/step - loss: 1.9336 - accuracy: 0.27 - 49s 362ms/step - loss: 1.9330 - accuracy: 0.27 - 50s 362ms/step - loss: 1.9329 - accuracy: 0.27 - 50s 361ms/step - loss: 1.9312 - accuracy: 0.27 - 50s 361ms/step - loss: 1.9303 - accuracy: 0.27 - 51s 361ms/step - loss: 1.9292 - accuracy: 0.27 - 51s 361ms/step - loss: 1.9299 - accuracy: 0.27 - 51s 361ms/step - loss: 1.9287 - accuracy: 0.27 - 52s 361ms/step - loss: 1.9275 - accuracy: 0.27 - 52s 361ms/step - loss: 1.9260 - accuracy: 0.27 - 52s 361ms/step - loss: 1.9241 - accuracy: 0.27 - 53s 361ms/step - loss: 1.9224 - accuracy: 0.28 - 53s 361ms/step - loss: 1.9229 - accuracy: 0.28 - 53s 361ms/step - loss: 1.9213 - accuracy: 0.28 - 54s 361ms/step - loss: 1.9195 - accuracy: 0.28 - 54s 361ms/step - loss: 1.9191 - accuracy: 0.28 - 55s 361ms/step - loss: 1.9174 - accuracy: 0.28 - 55s 361ms/step - loss: 1.9159 - accuracy: 0.28 - 55s 361ms/step - loss: 1.9153 - accuracy: 0.28 - 56s 361ms/step - loss: 1.9131 - accuracy: 0.28 - 56s 361ms/step - loss: 1.9118 - accuracy: 0.28 - 56s 361ms/step - loss: 1.9108 - accuracy: 0.28 - 57s 361ms/step - loss: 1.9127 - accuracy: 0.28 - 57s 361ms/step - loss: 1.9113 - accuracy: 0.28 - 57s 361ms/step - loss: 1.9097 - accuracy: 0.28 - 58s 361ms/step - loss: 1.9077 - accuracy: 0.28 - 58s 361ms/step - loss: 1.9060 - accuracy: 0.28 - 58s 361ms/step - loss: 1.9050 - accuracy: 0.28 - 59s 361ms/step - loss: 1.9044 - accuracy: 0.28 - 59s 361ms/step - loss: 1.9034 - accuracy: 0.28 - 60s 361ms/step - loss: 1.9019 - accuracy: 0.28 - 60s 361ms/step - loss: 1.9000 - accuracy: 0.28 - 60s 361ms/step - loss: 1.8981 - accuracy: 0.2890\b\b\b\b\b\b\b\b\b\b\b\b\b\b\b\b\b\b\b\b\b\b\b\b\b\b\b\b\b\b\b\b\b\b\b\b\b\b\b\b\b\b\b\b\b\b\b\b\b\b\b\b\b\b\b\b\b\b\b\b\b\b\b\b\b\b"
     ]
    },
    {
     "name": "stdout",
     "output_type": "stream",
     "text": [
      "    332/Unknown - 61s 361ms/step - loss: 1.8965 - accuracy: 0.28 - 61s 361ms/step - loss: 1.8955 - accuracy: 0.28 - 61s 361ms/step - loss: 1.8944 - accuracy: 0.28 - 62s 361ms/step - loss: 1.8939 - accuracy: 0.28 - 62s 361ms/step - loss: 1.8932 - accuracy: 0.29 - 62s 361ms/step - loss: 1.8938 - accuracy: 0.28 - 63s 361ms/step - loss: 1.8928 - accuracy: 0.29 - 63s 361ms/step - loss: 1.8913 - accuracy: 0.29 - 63s 361ms/step - loss: 1.8900 - accuracy: 0.29 - 64s 361ms/step - loss: 1.8889 - accuracy: 0.29 - 64s 361ms/step - loss: 1.8879 - accuracy: 0.29 - 65s 361ms/step - loss: 1.8871 - accuracy: 0.29 - 65s 361ms/step - loss: 1.8862 - accuracy: 0.29 - 65s 361ms/step - loss: 1.8847 - accuracy: 0.29 - 66s 360ms/step - loss: 1.8831 - accuracy: 0.29 - 66s 360ms/step - loss: 1.8818 - accuracy: 0.29 - 66s 360ms/step - loss: 1.8806 - accuracy: 0.29 - 67s 360ms/step - loss: 1.8796 - accuracy: 0.29 - 67s 360ms/step - loss: 1.8772 - accuracy: 0.29 - 67s 360ms/step - loss: 1.8754 - accuracy: 0.29 - 68s 360ms/step - loss: 1.8746 - accuracy: 0.29 - 68s 360ms/step - loss: 1.8738 - accuracy: 0.29 - 68s 360ms/step - loss: 1.8720 - accuracy: 0.29 - 69s 360ms/step - loss: 1.8718 - accuracy: 0.29 - 69s 360ms/step - loss: 1.8703 - accuracy: 0.29 - 70s 360ms/step - loss: 1.8687 - accuracy: 0.29 - 70s 360ms/step - loss: 1.8667 - accuracy: 0.29 - 70s 360ms/step - loss: 1.8663 - accuracy: 0.29 - 71s 360ms/step - loss: 1.8649 - accuracy: 0.30 - 71s 360ms/step - loss: 1.8631 - accuracy: 0.30 - 71s 360ms/step - loss: 1.8616 - accuracy: 0.30 - 72s 360ms/step - loss: 1.8602 - accuracy: 0.30 - 72s 360ms/step - loss: 1.8596 - accuracy: 0.30 - 72s 360ms/step - loss: 1.8589 - accuracy: 0.30 - 73s 360ms/step - loss: 1.8573 - accuracy: 0.30 - 73s 360ms/step - loss: 1.8557 - accuracy: 0.30 - 73s 360ms/step - loss: 1.8549 - accuracy: 0.30 - 74s 360ms/step - loss: 1.8542 - accuracy: 0.30 - 74s 360ms/step - loss: 1.8523 - accuracy: 0.30 - 74s 360ms/step - loss: 1.8518 - accuracy: 0.30 - 75s 360ms/step - loss: 1.8512 - accuracy: 0.30 - 75s 360ms/step - loss: 1.8509 - accuracy: 0.30 - 76s 360ms/step - loss: 1.8501 - accuracy: 0.30 - 76s 360ms/step - loss: 1.8495 - accuracy: 0.30 - 76s 360ms/step - loss: 1.8482 - accuracy: 0.30 - 77s 360ms/step - loss: 1.8476 - accuracy: 0.30 - 77s 360ms/step - loss: 1.8468 - accuracy: 0.30 - 77s 360ms/step - loss: 1.8453 - accuracy: 0.30 - 78s 360ms/step - loss: 1.8440 - accuracy: 0.30 - 78s 360ms/step - loss: 1.8422 - accuracy: 0.30 - 78s 360ms/step - loss: 1.8404 - accuracy: 0.31 - 79s 360ms/step - loss: 1.8395 - accuracy: 0.31 - 79s 360ms/step - loss: 1.8377 - accuracy: 0.31 - 79s 360ms/step - loss: 1.8375 - accuracy: 0.31 - 80s 360ms/step - loss: 1.8362 - accuracy: 0.31 - 80s 359ms/step - loss: 1.8353 - accuracy: 0.31 - 81s 359ms/step - loss: 1.8341 - accuracy: 0.31 - 81s 359ms/step - loss: 1.8329 - accuracy: 0.31 - 81s 359ms/step - loss: 1.8320 - accuracy: 0.31 - 82s 359ms/step - loss: 1.8311 - accuracy: 0.31 - 82s 359ms/step - loss: 1.8302 - accuracy: 0.31 - 82s 359ms/step - loss: 1.8289 - accuracy: 0.31 - 83s 359ms/step - loss: 1.8278 - accuracy: 0.31 - 83s 359ms/step - loss: 1.8284 - accuracy: 0.31 - 83s 359ms/step - loss: 1.8276 - accuracy: 0.31 - 84s 359ms/step - loss: 1.8266 - accuracy: 0.31 - 84s 359ms/step - loss: 1.8255 - accuracy: 0.31 - 84s 359ms/step - loss: 1.8252 - accuracy: 0.31 - 85s 359ms/step - loss: 1.8243 - accuracy: 0.31 - 85s 359ms/step - loss: 1.8239 - accuracy: 0.31 - 85s 359ms/step - loss: 1.8229 - accuracy: 0.31 - 86s 359ms/step - loss: 1.8226 - accuracy: 0.31 - 86s 359ms/step - loss: 1.8215 - accuracy: 0.31 - 87s 359ms/step - loss: 1.8203 - accuracy: 0.31 - 87s 359ms/step - loss: 1.8190 - accuracy: 0.31 - 87s 359ms/step - loss: 1.8174 - accuracy: 0.31 - 88s 359ms/step - loss: 1.8171 - accuracy: 0.31 - 88s 359ms/step - loss: 1.8162 - accuracy: 0.31 - 88s 359ms/step - loss: 1.8156 - accuracy: 0.31 - 89s 359ms/step - loss: 1.8152 - accuracy: 0.31 - 89s 359ms/step - loss: 1.8137 - accuracy: 0.32 - 89s 358ms/step - loss: 1.8128 - accuracy: 0.32 - 90s 358ms/step - loss: 1.8120 - accuracy: 0.32 - 90s 358ms/step - loss: 1.8115 - accuracy: 0.32 - 90s 358ms/step - loss: 1.8106 - accuracy: 0.32 - 91s 358ms/step - loss: 1.8102 - accuracy: 0.32 - 91s 358ms/step - loss: 1.8084 - accuracy: 0.32 - 91s 358ms/step - loss: 1.8074 - accuracy: 0.32 - 92s 358ms/step - loss: 1.8062 - accuracy: 0.32 - 92s 358ms/step - loss: 1.8050 - accuracy: 0.32 - 92s 358ms/step - loss: 1.8044 - accuracy: 0.32 - 93s 358ms/step - loss: 1.8037 - accuracy: 0.32 - 93s 358ms/step - loss: 1.8031 - accuracy: 0.32 - 93s 358ms/step - loss: 1.8019 - accuracy: 0.32 - 94s 358ms/step - loss: 1.8013 - accuracy: 0.32 - 94s 358ms/step - loss: 1.7996 - accuracy: 0.32 - 94s 358ms/step - loss: 1.7987 - accuracy: 0.32 - 95s 358ms/step - loss: 1.7979 - accuracy: 0.32 - 95s 358ms/step - loss: 1.7980 - accuracy: 0.32 - 96s 358ms/step - loss: 1.7973 - accuracy: 0.32 - 96s 358ms/step - loss: 1.7964 - accuracy: 0.33 - 96s 358ms/step - loss: 1.7949 - accuracy: 0.33 - 97s 358ms/step - loss: 1.7937 - accuracy: 0.33 - 97s 358ms/step - loss: 1.7925 - accuracy: 0.33 - 97s 358ms/step - loss: 1.7907 - accuracy: 0.33 - 98s 358ms/step - loss: 1.7900 - accuracy: 0.33 - 98s 358ms/step - loss: 1.7890 - accuracy: 0.33 - 98s 358ms/step - loss: 1.7878 - accuracy: 0.33 - 99s 357ms/step - loss: 1.7870 - accuracy: 0.33 - 99s 357ms/step - loss: 1.7851 - accuracy: 0.33 - 99s 357ms/step - loss: 1.7844 - accuracy: 0.33 - 100s 357ms/step - loss: 1.7837 - accuracy: 0.335 - 100s 357ms/step - loss: 1.7837 - accuracy: 0.335 - 100s 357ms/step - loss: 1.7824 - accuracy: 0.335 - 101s 357ms/step - loss: 1.7814 - accuracy: 0.336 - 101s 357ms/step - loss: 1.7805 - accuracy: 0.336 - 101s 357ms/step - loss: 1.7803 - accuracy: 0.336 - 102s 357ms/step - loss: 1.7796 - accuracy: 0.337 - 102s 357ms/step - loss: 1.7791 - accuracy: 0.337 - 102s 357ms/step - loss: 1.7777 - accuracy: 0.337 - 103s 357ms/step - loss: 1.7761 - accuracy: 0.338 - 103s 357ms/step - loss: 1.7751 - accuracy: 0.338 - 104s 357ms/step - loss: 1.7751 - accuracy: 0.339 - 104s 357ms/step - loss: 1.7742 - accuracy: 0.339 - 104s 357ms/step - loss: 1.7731 - accuracy: 0.339 - 105s 357ms/step - loss: 1.7721 - accuracy: 0.340 - 105s 357ms/step - loss: 1.7710 - accuracy: 0.340 - 105s 357ms/step - loss: 1.7699 - accuracy: 0.340 - 106s 357ms/step - loss: 1.7684 - accuracy: 0.341 - 106s 357ms/step - loss: 1.7675 - accuracy: 0.341 - 106s 357ms/step - loss: 1.7663 - accuracy: 0.342 - 107s 357ms/step - loss: 1.7653 - accuracy: 0.342 - 107s 357ms/step - loss: 1.7644 - accuracy: 0.343 - 107s 357ms/step - loss: 1.7629 - accuracy: 0.343 - 108s 357ms/step - loss: 1.7632 - accuracy: 0.343 - 108s 357ms/step - loss: 1.7621 - accuracy: 0.344 - 108s 357ms/step - loss: 1.7611 - accuracy: 0.344 - 109s 357ms/step - loss: 1.7602 - accuracy: 0.344 - 109s 357ms/step - loss: 1.7595 - accuracy: 0.345 - 110s 357ms/step - loss: 1.7584 - accuracy: 0.345 - 110s 357ms/step - loss: 1.7572 - accuracy: 0.346 - 110s 357ms/step - loss: 1.7566 - accuracy: 0.346 - 111s 357ms/step - loss: 1.7561 - accuracy: 0.346 - 111s 357ms/step - loss: 1.7550 - accuracy: 0.347 - 111s 357ms/step - loss: 1.7548 - accuracy: 0.347 - 112s 357ms/step - loss: 1.7536 - accuracy: 0.347 - 112s 357ms/step - loss: 1.7525 - accuracy: 0.347 - 112s 357ms/step - loss: 1.7509 - accuracy: 0.348 - 113s 357ms/step - loss: 1.7502 - accuracy: 0.348 - 113s 357ms/step - loss: 1.7490 - accuracy: 0.348 - 113s 357ms/step - loss: 1.7471 - accuracy: 0.349 - 114s 357ms/step - loss: 1.7458 - accuracy: 0.349 - 114s 357ms/step - loss: 1.7446 - accuracy: 0.350 - 114s 357ms/step - loss: 1.7437 - accuracy: 0.350 - 115s 357ms/step - loss: 1.7426 - accuracy: 0.350 - 115s 357ms/step - loss: 1.7410 - accuracy: 0.351 - 116s 357ms/step - loss: 1.7398 - accuracy: 0.351 - 116s 357ms/step - loss: 1.7393 - accuracy: 0.352 - 116s 357ms/step - loss: 1.7383 - accuracy: 0.352 - 117s 357ms/step - loss: 1.7379 - accuracy: 0.352 - 117s 357ms/step - loss: 1.7373 - accuracy: 0.353 - 117s 357ms/step - loss: 1.7374 - accuracy: 0.353 - 118s 357ms/step - loss: 1.7359 - accuracy: 0.354 - 118s 357ms/step - loss: 1.7348 - accuracy: 0.354 - 118s 357ms/step - loss: 1.7335 - accuracy: 0.3549"
     ]
    },
    {
     "name": "stdout",
     "output_type": "stream",
     "text": [
      "    493/Unknown - 119s 357ms/step - loss: 1.7329 - accuracy: 0.355 - 119s 357ms/step - loss: 1.7315 - accuracy: 0.355 - 119s 357ms/step - loss: 1.7305 - accuracy: 0.356 - 120s 357ms/step - loss: 1.7295 - accuracy: 0.356 - 120s 357ms/step - loss: 1.7289 - accuracy: 0.356 - 121s 357ms/step - loss: 1.7282 - accuracy: 0.356 - 121s 357ms/step - loss: 1.7278 - accuracy: 0.357 - 121s 357ms/step - loss: 1.7272 - accuracy: 0.357 - 122s 357ms/step - loss: 1.7267 - accuracy: 0.357 - 122s 357ms/step - loss: 1.7257 - accuracy: 0.357 - 122s 357ms/step - loss: 1.7255 - accuracy: 0.357 - 123s 357ms/step - loss: 1.7247 - accuracy: 0.358 - 123s 357ms/step - loss: 1.7238 - accuracy: 0.358 - 123s 357ms/step - loss: 1.7231 - accuracy: 0.358 - 124s 357ms/step - loss: 1.7226 - accuracy: 0.359 - 124s 357ms/step - loss: 1.7218 - accuracy: 0.359 - 124s 357ms/step - loss: 1.7202 - accuracy: 0.359 - 125s 357ms/step - loss: 1.7197 - accuracy: 0.359 - 125s 357ms/step - loss: 1.7196 - accuracy: 0.360 - 126s 357ms/step - loss: 1.7190 - accuracy: 0.360 - 126s 357ms/step - loss: 1.7177 - accuracy: 0.360 - 126s 357ms/step - loss: 1.7164 - accuracy: 0.361 - 127s 357ms/step - loss: 1.7168 - accuracy: 0.361 - 127s 357ms/step - loss: 1.7163 - accuracy: 0.361 - 127s 357ms/step - loss: 1.7164 - accuracy: 0.361 - 128s 357ms/step - loss: 1.7159 - accuracy: 0.361 - 128s 357ms/step - loss: 1.7147 - accuracy: 0.362 - 128s 357ms/step - loss: 1.7139 - accuracy: 0.362 - 129s 356ms/step - loss: 1.7130 - accuracy: 0.362 - 129s 357ms/step - loss: 1.7124 - accuracy: 0.363 - 129s 357ms/step - loss: 1.7120 - accuracy: 0.363 - 130s 357ms/step - loss: 1.7118 - accuracy: 0.363 - 130s 357ms/step - loss: 1.7107 - accuracy: 0.364 - 130s 357ms/step - loss: 1.7101 - accuracy: 0.364 - 131s 357ms/step - loss: 1.7089 - accuracy: 0.364 - 131s 357ms/step - loss: 1.7083 - accuracy: 0.365 - 132s 357ms/step - loss: 1.7073 - accuracy: 0.365 - 132s 356ms/step - loss: 1.7069 - accuracy: 0.366 - 132s 356ms/step - loss: 1.7061 - accuracy: 0.366 - 133s 356ms/step - loss: 1.7050 - accuracy: 0.366 - 133s 356ms/step - loss: 1.7045 - accuracy: 0.366 - 133s 356ms/step - loss: 1.7043 - accuracy: 0.366 - 134s 356ms/step - loss: 1.7035 - accuracy: 0.367 - 134s 356ms/step - loss: 1.7029 - accuracy: 0.367 - 134s 356ms/step - loss: 1.7015 - accuracy: 0.368 - 135s 356ms/step - loss: 1.7010 - accuracy: 0.368 - 135s 356ms/step - loss: 1.7006 - accuracy: 0.368 - 135s 356ms/step - loss: 1.6999 - accuracy: 0.368 - 136s 356ms/step - loss: 1.6992 - accuracy: 0.368 - 136s 356ms/step - loss: 1.6986 - accuracy: 0.368 - 136s 356ms/step - loss: 1.6972 - accuracy: 0.369 - 137s 356ms/step - loss: 1.6966 - accuracy: 0.369 - 137s 356ms/step - loss: 1.6956 - accuracy: 0.370 - 138s 356ms/step - loss: 1.6951 - accuracy: 0.370 - 138s 356ms/step - loss: 1.6938 - accuracy: 0.370 - 138s 356ms/step - loss: 1.6930 - accuracy: 0.371 - 139s 356ms/step - loss: 1.6923 - accuracy: 0.371 - 139s 356ms/step - loss: 1.6917 - accuracy: 0.371 - 139s 356ms/step - loss: 1.6910 - accuracy: 0.371 - 140s 356ms/step - loss: 1.6903 - accuracy: 0.372 - 140s 356ms/step - loss: 1.6896 - accuracy: 0.372 - 140s 356ms/step - loss: 1.6888 - accuracy: 0.372 - 141s 356ms/step - loss: 1.6874 - accuracy: 0.373 - 141s 356ms/step - loss: 1.6872 - accuracy: 0.373 - 141s 356ms/step - loss: 1.6864 - accuracy: 0.373 - 142s 356ms/step - loss: 1.6857 - accuracy: 0.373 - 142s 356ms/step - loss: 1.6847 - accuracy: 0.373 - 142s 356ms/step - loss: 1.6840 - accuracy: 0.373 - 143s 356ms/step - loss: 1.6834 - accuracy: 0.374 - 143s 356ms/step - loss: 1.6824 - accuracy: 0.374 - 143s 356ms/step - loss: 1.6819 - accuracy: 0.374 - 144s 356ms/step - loss: 1.6815 - accuracy: 0.374 - 144s 356ms/step - loss: 1.6809 - accuracy: 0.375 - 145s 356ms/step - loss: 1.6802 - accuracy: 0.375 - 145s 356ms/step - loss: 1.6791 - accuracy: 0.375 - 145s 356ms/step - loss: 1.6781 - accuracy: 0.375 - 146s 356ms/step - loss: 1.6772 - accuracy: 0.376 - 146s 356ms/step - loss: 1.6771 - accuracy: 0.376 - 146s 356ms/step - loss: 1.6762 - accuracy: 0.376 - 147s 356ms/step - loss: 1.6754 - accuracy: 0.376 - 147s 356ms/step - loss: 1.6746 - accuracy: 0.377 - 147s 356ms/step - loss: 1.6737 - accuracy: 0.377 - 148s 356ms/step - loss: 1.6727 - accuracy: 0.377 - 148s 356ms/step - loss: 1.6720 - accuracy: 0.378 - 148s 356ms/step - loss: 1.6716 - accuracy: 0.378 - 149s 355ms/step - loss: 1.6702 - accuracy: 0.378 - 149s 355ms/step - loss: 1.6689 - accuracy: 0.379 - 149s 355ms/step - loss: 1.6679 - accuracy: 0.379 - 150s 355ms/step - loss: 1.6674 - accuracy: 0.379 - 150s 355ms/step - loss: 1.6667 - accuracy: 0.380 - 150s 355ms/step - loss: 1.6657 - accuracy: 0.380 - 151s 355ms/step - loss: 1.6654 - accuracy: 0.380 - 151s 355ms/step - loss: 1.6645 - accuracy: 0.381 - 151s 355ms/step - loss: 1.6635 - accuracy: 0.381 - 152s 355ms/step - loss: 1.6625 - accuracy: 0.381 - 152s 355ms/step - loss: 1.6613 - accuracy: 0.382 - 152s 355ms/step - loss: 1.6609 - accuracy: 0.382 - 153s 355ms/step - loss: 1.6607 - accuracy: 0.382 - 153s 355ms/step - loss: 1.6594 - accuracy: 0.383 - 153s 355ms/step - loss: 1.6582 - accuracy: 0.383 - 154s 355ms/step - loss: 1.6578 - accuracy: 0.383 - 154s 355ms/step - loss: 1.6570 - accuracy: 0.383 - 154s 355ms/step - loss: 1.6567 - accuracy: 0.384 - 155s 355ms/step - loss: 1.6563 - accuracy: 0.384 - 155s 355ms/step - loss: 1.6554 - accuracy: 0.384 - 155s 355ms/step - loss: 1.6542 - accuracy: 0.385 - 156s 355ms/step - loss: 1.6536 - accuracy: 0.385 - 156s 355ms/step - loss: 1.6534 - accuracy: 0.385 - 157s 355ms/step - loss: 1.6523 - accuracy: 0.386 - 157s 355ms/step - loss: 1.6520 - accuracy: 0.386 - 157s 355ms/step - loss: 1.6513 - accuracy: 0.386 - 158s 355ms/step - loss: 1.6511 - accuracy: 0.386 - 158s 355ms/step - loss: 1.6503 - accuracy: 0.387 - 158s 355ms/step - loss: 1.6499 - accuracy: 0.387 - 159s 355ms/step - loss: 1.6492 - accuracy: 0.387 - 159s 355ms/step - loss: 1.6478 - accuracy: 0.388 - 159s 355ms/step - loss: 1.6474 - accuracy: 0.388 - 160s 355ms/step - loss: 1.6470 - accuracy: 0.388 - 160s 355ms/step - loss: 1.6459 - accuracy: 0.389 - 160s 355ms/step - loss: 1.6450 - accuracy: 0.389 - 161s 355ms/step - loss: 1.6442 - accuracy: 0.390 - 161s 355ms/step - loss: 1.6430 - accuracy: 0.390 - 161s 355ms/step - loss: 1.6425 - accuracy: 0.390 - 162s 355ms/step - loss: 1.6420 - accuracy: 0.390 - 162s 355ms/step - loss: 1.6408 - accuracy: 0.391 - 162s 355ms/step - loss: 1.6402 - accuracy: 0.391 - 163s 355ms/step - loss: 1.6400 - accuracy: 0.391 - 163s 355ms/step - loss: 1.6387 - accuracy: 0.392 - 163s 354ms/step - loss: 1.6378 - accuracy: 0.392 - 164s 354ms/step - loss: 1.6367 - accuracy: 0.393 - 164s 354ms/step - loss: 1.6364 - accuracy: 0.393 - 164s 354ms/step - loss: 1.6355 - accuracy: 0.393 - 165s 354ms/step - loss: 1.6345 - accuracy: 0.394 - 165s 354ms/step - loss: 1.6342 - accuracy: 0.394 - 166s 354ms/step - loss: 1.6340 - accuracy: 0.394 - 166s 354ms/step - loss: 1.6333 - accuracy: 0.394 - 166s 354ms/step - loss: 1.6327 - accuracy: 0.395 - 167s 354ms/step - loss: 1.6320 - accuracy: 0.395 - 167s 354ms/step - loss: 1.6314 - accuracy: 0.395 - 167s 354ms/step - loss: 1.6316 - accuracy: 0.395 - 168s 354ms/step - loss: 1.6313 - accuracy: 0.395 - 168s 354ms/step - loss: 1.6306 - accuracy: 0.396 - 168s 354ms/step - loss: 1.6299 - accuracy: 0.396 - 169s 354ms/step - loss: 1.6288 - accuracy: 0.396 - 169s 354ms/step - loss: 1.6282 - accuracy: 0.396 - 169s 354ms/step - loss: 1.6276 - accuracy: 0.397 - 170s 354ms/step - loss: 1.6267 - accuracy: 0.397 - 170s 354ms/step - loss: 1.6260 - accuracy: 0.397 - 170s 354ms/step - loss: 1.6254 - accuracy: 0.398 - 171s 354ms/step - loss: 1.6253 - accuracy: 0.398 - 171s 354ms/step - loss: 1.6247 - accuracy: 0.398 - 171s 354ms/step - loss: 1.6239 - accuracy: 0.398 - 172s 354ms/step - loss: 1.6232 - accuracy: 0.398 - 172s 354ms/step - loss: 1.6226 - accuracy: 0.399 - 172s 354ms/step - loss: 1.6222 - accuracy: 0.399 - 173s 354ms/step - loss: 1.6214 - accuracy: 0.399 - 173s 354ms/step - loss: 1.6210 - accuracy: 0.399 - 174s 354ms/step - loss: 1.6200 - accuracy: 0.400 - 174s 354ms/step - loss: 1.6194 - accuracy: 0.400 - 174s 354ms/step - loss: 1.6189 - accuracy: 0.400 - 175s 354ms/step - loss: 1.6185 - accuracy: 0.4007"
     ]
    },
    {
     "name": "stdout",
     "output_type": "stream",
     "text": [
      "    654/Unknown - 175s 354ms/step - loss: 1.6178 - accuracy: 0.401 - 175s 354ms/step - loss: 1.6173 - accuracy: 0.401 - 176s 354ms/step - loss: 1.6164 - accuracy: 0.401 - 176s 354ms/step - loss: 1.6163 - accuracy: 0.401 - 176s 354ms/step - loss: 1.6157 - accuracy: 0.402 - 177s 354ms/step - loss: 1.6146 - accuracy: 0.402 - 177s 354ms/step - loss: 1.6139 - accuracy: 0.403 - 177s 354ms/step - loss: 1.6140 - accuracy: 0.403 - 178s 354ms/step - loss: 1.6134 - accuracy: 0.403 - 178s 354ms/step - loss: 1.6125 - accuracy: 0.403 - 178s 354ms/step - loss: 1.6119 - accuracy: 0.403 - 179s 354ms/step - loss: 1.6114 - accuracy: 0.404 - 179s 354ms/step - loss: 1.6111 - accuracy: 0.404 - 179s 354ms/step - loss: 1.6110 - accuracy: 0.404 - 180s 354ms/step - loss: 1.6100 - accuracy: 0.404 - 180s 354ms/step - loss: 1.6095 - accuracy: 0.404 - 181s 354ms/step - loss: 1.6087 - accuracy: 0.405 - 181s 354ms/step - loss: 1.6088 - accuracy: 0.405 - 181s 354ms/step - loss: 1.6079 - accuracy: 0.405 - 182s 354ms/step - loss: 1.6074 - accuracy: 0.405 - 182s 354ms/step - loss: 1.6067 - accuracy: 0.405 - 182s 354ms/step - loss: 1.6065 - accuracy: 0.405 - 183s 354ms/step - loss: 1.6058 - accuracy: 0.406 - 183s 354ms/step - loss: 1.6053 - accuracy: 0.406 - 183s 354ms/step - loss: 1.6049 - accuracy: 0.406 - 184s 354ms/step - loss: 1.6042 - accuracy: 0.406 - 184s 354ms/step - loss: 1.6039 - accuracy: 0.406 - 184s 354ms/step - loss: 1.6032 - accuracy: 0.407 - 185s 354ms/step - loss: 1.6028 - accuracy: 0.407 - 185s 354ms/step - loss: 1.6025 - accuracy: 0.407 - 185s 354ms/step - loss: 1.6016 - accuracy: 0.407 - 186s 354ms/step - loss: 1.6009 - accuracy: 0.408 - 186s 354ms/step - loss: 1.6005 - accuracy: 0.408 - 186s 354ms/step - loss: 1.6001 - accuracy: 0.408 - 187s 354ms/step - loss: 1.5998 - accuracy: 0.408 - 187s 354ms/step - loss: 1.5992 - accuracy: 0.408 - 187s 354ms/step - loss: 1.5989 - accuracy: 0.409 - 188s 354ms/step - loss: 1.5981 - accuracy: 0.409 - 188s 354ms/step - loss: 1.5978 - accuracy: 0.409 - 188s 354ms/step - loss: 1.5973 - accuracy: 0.409 - 189s 354ms/step - loss: 1.5965 - accuracy: 0.409 - 189s 354ms/step - loss: 1.5957 - accuracy: 0.410 - 190s 354ms/step - loss: 1.5951 - accuracy: 0.410 - 190s 354ms/step - loss: 1.5945 - accuracy: 0.410 - 190s 354ms/step - loss: 1.5939 - accuracy: 0.410 - 191s 354ms/step - loss: 1.5934 - accuracy: 0.411 - 191s 354ms/step - loss: 1.5925 - accuracy: 0.411 - 191s 354ms/step - loss: 1.5919 - accuracy: 0.411 - 192s 354ms/step - loss: 1.5909 - accuracy: 0.412 - 192s 354ms/step - loss: 1.5901 - accuracy: 0.412 - 192s 354ms/step - loss: 1.5899 - accuracy: 0.412 - 193s 354ms/step - loss: 1.5892 - accuracy: 0.412 - 193s 354ms/step - loss: 1.5885 - accuracy: 0.413 - 193s 354ms/step - loss: 1.5877 - accuracy: 0.413 - 194s 354ms/step - loss: 1.5876 - accuracy: 0.413 - 194s 353ms/step - loss: 1.5871 - accuracy: 0.413 - 194s 353ms/step - loss: 1.5865 - accuracy: 0.413 - 195s 353ms/step - loss: 1.5860 - accuracy: 0.413 - 195s 353ms/step - loss: 1.5857 - accuracy: 0.414 - 195s 353ms/step - loss: 1.5855 - accuracy: 0.414 - 196s 353ms/step - loss: 1.5849 - accuracy: 0.414 - 196s 353ms/step - loss: 1.5848 - accuracy: 0.414 - 197s 353ms/step - loss: 1.5846 - accuracy: 0.414 - 197s 353ms/step - loss: 1.5847 - accuracy: 0.414 - 197s 353ms/step - loss: 1.5839 - accuracy: 0.414 - 198s 353ms/step - loss: 1.5836 - accuracy: 0.414 - 198s 353ms/step - loss: 1.5827 - accuracy: 0.415 - 198s 353ms/step - loss: 1.5825 - accuracy: 0.415 - 199s 353ms/step - loss: 1.5821 - accuracy: 0.415 - 199s 353ms/step - loss: 1.5814 - accuracy: 0.415 - 199s 353ms/step - loss: 1.5807 - accuracy: 0.416 - 200s 353ms/step - loss: 1.5802 - accuracy: 0.416 - 200s 353ms/step - loss: 1.5795 - accuracy: 0.416 - 200s 353ms/step - loss: 1.5788 - accuracy: 0.416 - 201s 353ms/step - loss: 1.5784 - accuracy: 0.416 - 201s 353ms/step - loss: 1.5782 - accuracy: 0.417 - 201s 353ms/step - loss: 1.5779 - accuracy: 0.417 - 202s 353ms/step - loss: 1.5771 - accuracy: 0.417 - 202s 353ms/step - loss: 1.5765 - accuracy: 0.417 - 202s 353ms/step - loss: 1.5765 - accuracy: 0.418 - 203s 353ms/step - loss: 1.5762 - accuracy: 0.418 - 203s 353ms/step - loss: 1.5752 - accuracy: 0.418 - 203s 353ms/step - loss: 1.5744 - accuracy: 0.419 - 204s 353ms/step - loss: 1.5738 - accuracy: 0.419 - 204s 353ms/step - loss: 1.5733 - accuracy: 0.419 - 205s 353ms/step - loss: 1.5732 - accuracy: 0.419 - 205s 353ms/step - loss: 1.5728 - accuracy: 0.419 - 205s 353ms/step - loss: 1.5726 - accuracy: 0.419 - 206s 353ms/step - loss: 1.5720 - accuracy: 0.420 - 206s 353ms/step - loss: 1.5715 - accuracy: 0.420 - 206s 353ms/step - loss: 1.5712 - accuracy: 0.420 - 207s 353ms/step - loss: 1.5711 - accuracy: 0.420 - 207s 353ms/step - loss: 1.5710 - accuracy: 0.420 - 207s 353ms/step - loss: 1.5703 - accuracy: 0.420 - 208s 353ms/step - loss: 1.5698 - accuracy: 0.421 - 208s 353ms/step - loss: 1.5693 - accuracy: 0.421 - 208s 353ms/step - loss: 1.5686 - accuracy: 0.421 - 209s 353ms/step - loss: 1.5680 - accuracy: 0.422 - 209s 353ms/step - loss: 1.5677 - accuracy: 0.422 - 209s 353ms/step - loss: 1.5672 - accuracy: 0.422 - 210s 353ms/step - loss: 1.5669 - accuracy: 0.422 - 210s 353ms/step - loss: 1.5664 - accuracy: 0.423 - 211s 353ms/step - loss: 1.5664 - accuracy: 0.423 - 211s 353ms/step - loss: 1.5663 - accuracy: 0.423 - 211s 353ms/step - loss: 1.5658 - accuracy: 0.423 - 212s 353ms/step - loss: 1.5652 - accuracy: 0.423 - 212s 353ms/step - loss: 1.5648 - accuracy: 0.423 - 212s 353ms/step - loss: 1.5646 - accuracy: 0.423 - 213s 353ms/step - loss: 1.5643 - accuracy: 0.424 - 213s 353ms/step - loss: 1.5640 - accuracy: 0.424 - 213s 353ms/step - loss: 1.5637 - accuracy: 0.424 - 214s 353ms/step - loss: 1.5633 - accuracy: 0.424 - 214s 353ms/step - loss: 1.5629 - accuracy: 0.424 - 214s 353ms/step - loss: 1.5626 - accuracy: 0.425 - 215s 353ms/step - loss: 1.5619 - accuracy: 0.425 - 215s 353ms/step - loss: 1.5611 - accuracy: 0.425 - 216s 353ms/step - loss: 1.5606 - accuracy: 0.425 - 216s 353ms/step - loss: 1.5599 - accuracy: 0.426 - 216s 353ms/step - loss: 1.5595 - accuracy: 0.426 - 217s 353ms/step - loss: 1.5590 - accuracy: 0.426 - 217s 353ms/step - loss: 1.5585 - accuracy: 0.426 - 217s 353ms/step - loss: 1.5581 - accuracy: 0.426 - 218s 353ms/step - loss: 1.5572 - accuracy: 0.427 - 218s 353ms/step - loss: 1.5562 - accuracy: 0.427 - 218s 353ms/step - loss: 1.5560 - accuracy: 0.428 - 219s 353ms/step - loss: 1.5556 - accuracy: 0.428 - 219s 353ms/step - loss: 1.5554 - accuracy: 0.428 - 219s 353ms/step - loss: 1.5553 - accuracy: 0.428 - 220s 353ms/step - loss: 1.5547 - accuracy: 0.428 - 220s 353ms/step - loss: 1.5542 - accuracy: 0.428 - 220s 353ms/step - loss: 1.5539 - accuracy: 0.428 - 221s 353ms/step - loss: 1.5533 - accuracy: 0.429 - 221s 353ms/step - loss: 1.5525 - accuracy: 0.429 - 221s 353ms/step - loss: 1.5519 - accuracy: 0.429 - 222s 353ms/step - loss: 1.5516 - accuracy: 0.430 - 222s 353ms/step - loss: 1.5508 - accuracy: 0.430 - 222s 353ms/step - loss: 1.5503 - accuracy: 0.430 - 223s 353ms/step - loss: 1.5500 - accuracy: 0.430 - 223s 353ms/step - loss: 1.5494 - accuracy: 0.431 - 223s 353ms/step - loss: 1.5486 - accuracy: 0.431 - 224s 353ms/step - loss: 1.5481 - accuracy: 0.431 - 224s 353ms/step - loss: 1.5476 - accuracy: 0.431 - 224s 353ms/step - loss: 1.5473 - accuracy: 0.432 - 225s 353ms/step - loss: 1.5468 - accuracy: 0.432 - 225s 353ms/step - loss: 1.5462 - accuracy: 0.432 - 226s 353ms/step - loss: 1.5455 - accuracy: 0.432 - 226s 353ms/step - loss: 1.5449 - accuracy: 0.433 - 226s 353ms/step - loss: 1.5443 - accuracy: 0.433 - 227s 353ms/step - loss: 1.5435 - accuracy: 0.433 - 227s 353ms/step - loss: 1.5431 - accuracy: 0.433 - 227s 353ms/step - loss: 1.5424 - accuracy: 0.433 - 228s 353ms/step - loss: 1.5424 - accuracy: 0.433 - 228s 353ms/step - loss: 1.5418 - accuracy: 0.434 - 228s 353ms/step - loss: 1.5419 - accuracy: 0.433 - 229s 353ms/step - loss: 1.5413 - accuracy: 0.434 - 229s 353ms/step - loss: 1.5406 - accuracy: 0.434 - 229s 353ms/step - loss: 1.5399 - accuracy: 0.434 - 230s 353ms/step - loss: 1.5396 - accuracy: 0.434 - 230s 353ms/step - loss: 1.5389 - accuracy: 0.435 - 230s 353ms/step - loss: 1.5386 - accuracy: 0.435 - 231s 353ms/step - loss: 1.5381 - accuracy: 0.4356"
     ]
    },
    {
     "name": "stdout",
     "output_type": "stream",
     "text": [
      "    773/Unknown - 231s 353ms/step - loss: 1.5377 - accuracy: 0.435 - 231s 353ms/step - loss: 1.5370 - accuracy: 0.435 - 232s 353ms/step - loss: 1.5368 - accuracy: 0.435 - 232s 353ms/step - loss: 1.5365 - accuracy: 0.436 - 233s 353ms/step - loss: 1.5360 - accuracy: 0.436 - 233s 353ms/step - loss: 1.5356 - accuracy: 0.436 - 233s 353ms/step - loss: 1.5351 - accuracy: 0.436 - 234s 353ms/step - loss: 1.5345 - accuracy: 0.436 - 234s 353ms/step - loss: 1.5339 - accuracy: 0.437 - 234s 353ms/step - loss: 1.5334 - accuracy: 0.437 - 235s 353ms/step - loss: 1.5332 - accuracy: 0.437 - 235s 353ms/step - loss: 1.5327 - accuracy: 0.437 - 235s 353ms/step - loss: 1.5322 - accuracy: 0.437 - 236s 353ms/step - loss: 1.5319 - accuracy: 0.438 - 236s 353ms/step - loss: 1.5314 - accuracy: 0.438 - 236s 353ms/step - loss: 1.5310 - accuracy: 0.438 - 237s 353ms/step - loss: 1.5303 - accuracy: 0.438 - 237s 353ms/step - loss: 1.5299 - accuracy: 0.438 - 237s 353ms/step - loss: 1.5290 - accuracy: 0.439 - 238s 353ms/step - loss: 1.5285 - accuracy: 0.439 - 238s 353ms/step - loss: 1.5281 - accuracy: 0.439 - 239s 353ms/step - loss: 1.5274 - accuracy: 0.439 - 239s 353ms/step - loss: 1.5269 - accuracy: 0.440 - 239s 353ms/step - loss: 1.5263 - accuracy: 0.440 - 240s 353ms/step - loss: 1.5258 - accuracy: 0.440 - 240s 353ms/step - loss: 1.5251 - accuracy: 0.440 - 240s 353ms/step - loss: 1.5245 - accuracy: 0.441 - 241s 353ms/step - loss: 1.5241 - accuracy: 0.441 - 241s 353ms/step - loss: 1.5236 - accuracy: 0.441 - 241s 353ms/step - loss: 1.5229 - accuracy: 0.441 - 242s 353ms/step - loss: 1.5225 - accuracy: 0.441 - 242s 353ms/step - loss: 1.5220 - accuracy: 0.441 - 242s 353ms/step - loss: 1.5215 - accuracy: 0.442 - 243s 353ms/step - loss: 1.5211 - accuracy: 0.442 - 243s 353ms/step - loss: 1.5210 - accuracy: 0.442 - 243s 353ms/step - loss: 1.5206 - accuracy: 0.442 - 244s 353ms/step - loss: 1.5203 - accuracy: 0.442 - 244s 353ms/step - loss: 1.5202 - accuracy: 0.442 - 244s 353ms/step - loss: 1.5195 - accuracy: 0.442 - 245s 353ms/step - loss: 1.5193 - accuracy: 0.442 - 245s 353ms/step - loss: 1.5191 - accuracy: 0.442 - 246s 353ms/step - loss: 1.5186 - accuracy: 0.443 - 246s 353ms/step - loss: 1.5182 - accuracy: 0.443 - 246s 353ms/step - loss: 1.5178 - accuracy: 0.443 - 247s 353ms/step - loss: 1.5173 - accuracy: 0.443 - 247s 353ms/step - loss: 1.5170 - accuracy: 0.443 - 247s 353ms/step - loss: 1.5167 - accuracy: 0.443 - 248s 353ms/step - loss: 1.5163 - accuracy: 0.444 - 248s 353ms/step - loss: 1.5164 - accuracy: 0.444 - 248s 353ms/step - loss: 1.5159 - accuracy: 0.444 - 249s 353ms/step - loss: 1.5156 - accuracy: 0.444 - 249s 353ms/step - loss: 1.5151 - accuracy: 0.444 - 249s 353ms/step - loss: 1.5148 - accuracy: 0.445 - 250s 353ms/step - loss: 1.5144 - accuracy: 0.445 - 250s 353ms/step - loss: 1.5136 - accuracy: 0.445 - 250s 353ms/step - loss: 1.5132 - accuracy: 0.445 - 251s 353ms/step - loss: 1.5127 - accuracy: 0.445 - 251s 353ms/step - loss: 1.5121 - accuracy: 0.446 - 251s 353ms/step - loss: 1.5119 - accuracy: 0.446 - 252s 353ms/step - loss: 1.5115 - accuracy: 0.446 - 252s 353ms/step - loss: 1.5111 - accuracy: 0.446 - 252s 353ms/step - loss: 1.5105 - accuracy: 0.446 - 253s 353ms/step - loss: 1.5102 - accuracy: 0.446 - 253s 353ms/step - loss: 1.5096 - accuracy: 0.446 - 254s 353ms/step - loss: 1.5093 - accuracy: 0.447 - 254s 353ms/step - loss: 1.5089 - accuracy: 0.447 - 254s 353ms/step - loss: 1.5083 - accuracy: 0.447 - 255s 353ms/step - loss: 1.5079 - accuracy: 0.447 - 255s 353ms/step - loss: 1.5076 - accuracy: 0.447 - 255s 353ms/step - loss: 1.5068 - accuracy: 0.448 - 256s 353ms/step - loss: 1.5064 - accuracy: 0.448 - 256s 353ms/step - loss: 1.5058 - accuracy: 0.448 - 256s 352ms/step - loss: 1.5057 - accuracy: 0.448 - 257s 352ms/step - loss: 1.5053 - accuracy: 0.448 - 257s 352ms/step - loss: 1.5050 - accuracy: 0.448 - 257s 352ms/step - loss: 1.5045 - accuracy: 0.449 - 258s 352ms/step - loss: 1.5039 - accuracy: 0.449 - 258s 352ms/step - loss: 1.5033 - accuracy: 0.449 - 258s 352ms/step - loss: 1.5028 - accuracy: 0.449 - 259s 352ms/step - loss: 1.5026 - accuracy: 0.450 - 259s 352ms/step - loss: 1.5021 - accuracy: 0.450 - 259s 352ms/step - loss: 1.5016 - accuracy: 0.450 - 260s 352ms/step - loss: 1.5014 - accuracy: 0.450 - 260s 352ms/step - loss: 1.5009 - accuracy: 0.450 - 260s 352ms/step - loss: 1.5003 - accuracy: 0.450 - 261s 352ms/step - loss: 1.4998 - accuracy: 0.450 - 261s 352ms/step - loss: 1.4993 - accuracy: 0.451 - 261s 352ms/step - loss: 1.4990 - accuracy: 0.451 - 262s 352ms/step - loss: 1.4985 - accuracy: 0.451 - 262s 352ms/step - loss: 1.4981 - accuracy: 0.451 - 262s 352ms/step - loss: 1.4977 - accuracy: 0.451 - 263s 352ms/step - loss: 1.4973 - accuracy: 0.451 - 263s 352ms/step - loss: 1.4970 - accuracy: 0.451 - 264s 352ms/step - loss: 1.4966 - accuracy: 0.452 - 264s 352ms/step - loss: 1.4961 - accuracy: 0.452 - 264s 352ms/step - loss: 1.4957 - accuracy: 0.452 - 265s 352ms/step - loss: 1.4954 - accuracy: 0.452 - 265s 352ms/step - loss: 1.4948 - accuracy: 0.452 - 265s 352ms/step - loss: 1.4941 - accuracy: 0.452 - 266s 352ms/step - loss: 1.4938 - accuracy: 0.453 - 266s 352ms/step - loss: 1.4935 - accuracy: 0.453 - 266s 352ms/step - loss: 1.4928 - accuracy: 0.453 - 267s 352ms/step - loss: 1.4925 - accuracy: 0.453 - 267s 352ms/step - loss: 1.4920 - accuracy: 0.453 - 267s 352ms/step - loss: 1.4912 - accuracy: 0.454 - 268s 352ms/step - loss: 1.4907 - accuracy: 0.454 - 268s 352ms/step - loss: 1.4902 - accuracy: 0.454 - 268s 352ms/step - loss: 1.4902 - accuracy: 0.454 - 269s 352ms/step - loss: 1.4897 - accuracy: 0.454 - 269s 352ms/step - loss: 1.4892 - accuracy: 0.455 - 269s 352ms/step - loss: 1.4889 - accuracy: 0.455 - 270s 352ms/step - loss: 1.4886 - accuracy: 0.455 - 270s 352ms/step - loss: 1.4881 - accuracy: 0.455 - 270s 352ms/step - loss: 1.4877 - accuracy: 0.455 - 271s 352ms/step - loss: 1.4875 - accuracy: 0.455 - 271s 352ms/step - loss: 1.4871 - accuracy: 0.455 - 272s 352ms/step - loss: 1.4867 - accuracy: 0.456 - 272s 352ms/step - loss: 1.4861 - accuracy: 0.456 - 272s 352ms/step - loss: 1.4861 - accuracy: 0.4563WARNING:tensorflow:Early stopping conditioned on metric `val_loss` which is not available. Available metrics are: loss,accuracy\n"
     ]
    },
    {
     "name": "stderr",
     "output_type": "stream",
     "text": [
      "WARNING:tensorflow:Early stopping conditioned on metric `val_loss` which is not available. Available metrics are: loss,accuracy\n"
     ]
    },
    {
     "name": "stdout",
     "output_type": "stream",
     "text": [
      "WARNING:tensorflow:Can save best model only with val_accuracy available, skipping.\n"
     ]
    },
    {
     "name": "stderr",
     "output_type": "stream",
     "text": [
      "WARNING:tensorflow:Can save best model only with val_accuracy available, skipping.\n"
     ]
    },
    {
     "name": "stdout",
     "output_type": "stream",
     "text": [
      "    773/Unknown - 272s 352ms/step - loss: 1.4861 - accuracy: 0.4563"
     ]
    },
    {
     "ename": "KeyboardInterrupt",
     "evalue": "",
     "output_type": "error",
     "traceback": [
      "\u001b[1;31m---------------------------------------------------------------------------\u001b[0m",
      "\u001b[1;31mKeyboardInterrupt\u001b[0m                         Traceback (most recent call last)",
      "\u001b[1;32m<ipython-input-1-55ca481d38dc>\u001b[0m in \u001b[0;36m<module>\u001b[1;34m\u001b[0m\n\u001b[0;32m     53\u001b[0m tuner.search(train_ds,\n\u001b[0;32m     54\u001b[0m              \u001b[0mvalidation_data\u001b[0m\u001b[1;33m=\u001b[0m\u001b[0mtest_ds\u001b[0m\u001b[1;33m,\u001b[0m\u001b[1;33m\u001b[0m\u001b[1;33m\u001b[0m\u001b[0m\n\u001b[1;32m---> 55\u001b[1;33m              callbacks=[tf.keras.callbacks.EarlyStopping(patience=0)])\n\u001b[0m\u001b[0;32m     56\u001b[0m \u001b[1;33m\u001b[0m\u001b[0m\n\u001b[0;32m     57\u001b[0m \u001b[0mbest_model\u001b[0m \u001b[1;33m=\u001b[0m \u001b[0mtuner\u001b[0m\u001b[1;33m.\u001b[0m\u001b[0mget_best_models\u001b[0m\u001b[1;33m(\u001b[0m\u001b[1;36m1\u001b[0m\u001b[1;33m)\u001b[0m\u001b[1;33m[\u001b[0m\u001b[1;36m0\u001b[0m\u001b[1;33m]\u001b[0m\u001b[1;33m\u001b[0m\u001b[1;33m\u001b[0m\u001b[0m\n",
      "\u001b[1;32mc:\\python\\lib\\site-packages\\kerastuner\\engine\\base_tuner.py\u001b[0m in \u001b[0;36msearch\u001b[1;34m(self, *fit_args, **fit_kwargs)\u001b[0m\n\u001b[0;32m    128\u001b[0m \u001b[1;33m\u001b[0m\u001b[0m\n\u001b[0;32m    129\u001b[0m             \u001b[0mself\u001b[0m\u001b[1;33m.\u001b[0m\u001b[0mon_trial_begin\u001b[0m\u001b[1;33m(\u001b[0m\u001b[0mtrial\u001b[0m\u001b[1;33m)\u001b[0m\u001b[1;33m\u001b[0m\u001b[1;33m\u001b[0m\u001b[0m\n\u001b[1;32m--> 130\u001b[1;33m             \u001b[0mself\u001b[0m\u001b[1;33m.\u001b[0m\u001b[0mrun_trial\u001b[0m\u001b[1;33m(\u001b[0m\u001b[0mtrial\u001b[0m\u001b[1;33m,\u001b[0m \u001b[1;33m*\u001b[0m\u001b[0mfit_args\u001b[0m\u001b[1;33m,\u001b[0m \u001b[1;33m**\u001b[0m\u001b[0mfit_kwargs\u001b[0m\u001b[1;33m)\u001b[0m\u001b[1;33m\u001b[0m\u001b[1;33m\u001b[0m\u001b[0m\n\u001b[0m\u001b[0;32m    131\u001b[0m             \u001b[0mself\u001b[0m\u001b[1;33m.\u001b[0m\u001b[0mon_trial_end\u001b[0m\u001b[1;33m(\u001b[0m\u001b[0mtrial\u001b[0m\u001b[1;33m)\u001b[0m\u001b[1;33m\u001b[0m\u001b[1;33m\u001b[0m\u001b[0m\n\u001b[0;32m    132\u001b[0m         \u001b[0mself\u001b[0m\u001b[1;33m.\u001b[0m\u001b[0mon_search_end\u001b[0m\u001b[1;33m(\u001b[0m\u001b[1;33m)\u001b[0m\u001b[1;33m\u001b[0m\u001b[1;33m\u001b[0m\u001b[0m\n",
      "\u001b[1;32mc:\\python\\lib\\site-packages\\kerastuner\\tuners\\hyperband.py\u001b[0m in \u001b[0;36mrun_trial\u001b[1;34m(self, trial, *fit_args, **fit_kwargs)\u001b[0m\n\u001b[0;32m    385\u001b[0m             \u001b[0mfit_kwargs\u001b[0m\u001b[1;33m[\u001b[0m\u001b[1;34m'epochs'\u001b[0m\u001b[1;33m]\u001b[0m \u001b[1;33m=\u001b[0m \u001b[0mhp\u001b[0m\u001b[1;33m.\u001b[0m\u001b[0mvalues\u001b[0m\u001b[1;33m[\u001b[0m\u001b[1;34m'tuner/epochs'\u001b[0m\u001b[1;33m]\u001b[0m\u001b[1;33m\u001b[0m\u001b[1;33m\u001b[0m\u001b[0m\n\u001b[0;32m    386\u001b[0m             \u001b[0mfit_kwargs\u001b[0m\u001b[1;33m[\u001b[0m\u001b[1;34m'initial_epoch'\u001b[0m\u001b[1;33m]\u001b[0m \u001b[1;33m=\u001b[0m \u001b[0mhp\u001b[0m\u001b[1;33m.\u001b[0m\u001b[0mvalues\u001b[0m\u001b[1;33m[\u001b[0m\u001b[1;34m'tuner/initial_epoch'\u001b[0m\u001b[1;33m]\u001b[0m\u001b[1;33m\u001b[0m\u001b[1;33m\u001b[0m\u001b[0m\n\u001b[1;32m--> 387\u001b[1;33m         \u001b[0msuper\u001b[0m\u001b[1;33m(\u001b[0m\u001b[0mHyperband\u001b[0m\u001b[1;33m,\u001b[0m \u001b[0mself\u001b[0m\u001b[1;33m)\u001b[0m\u001b[1;33m.\u001b[0m\u001b[0mrun_trial\u001b[0m\u001b[1;33m(\u001b[0m\u001b[0mtrial\u001b[0m\u001b[1;33m,\u001b[0m \u001b[1;33m*\u001b[0m\u001b[0mfit_args\u001b[0m\u001b[1;33m,\u001b[0m \u001b[1;33m**\u001b[0m\u001b[0mfit_kwargs\u001b[0m\u001b[1;33m)\u001b[0m\u001b[1;33m\u001b[0m\u001b[1;33m\u001b[0m\u001b[0m\n\u001b[0m\u001b[0;32m    388\u001b[0m \u001b[1;33m\u001b[0m\u001b[0m\n\u001b[0;32m    389\u001b[0m     \u001b[1;32mdef\u001b[0m \u001b[0m_build_model\u001b[0m\u001b[1;33m(\u001b[0m\u001b[0mself\u001b[0m\u001b[1;33m,\u001b[0m \u001b[0mhp\u001b[0m\u001b[1;33m)\u001b[0m\u001b[1;33m:\u001b[0m\u001b[1;33m\u001b[0m\u001b[1;33m\u001b[0m\u001b[0m\n",
      "\u001b[1;32mc:\\python\\lib\\site-packages\\kerastuner\\engine\\multi_execution_tuner.py\u001b[0m in \u001b[0;36mrun_trial\u001b[1;34m(self, trial, *fit_args, **fit_kwargs)\u001b[0m\n\u001b[0;32m     94\u001b[0m \u001b[1;33m\u001b[0m\u001b[0m\n\u001b[0;32m     95\u001b[0m             \u001b[0mmodel\u001b[0m \u001b[1;33m=\u001b[0m \u001b[0mself\u001b[0m\u001b[1;33m.\u001b[0m\u001b[0mhypermodel\u001b[0m\u001b[1;33m.\u001b[0m\u001b[0mbuild\u001b[0m\u001b[1;33m(\u001b[0m\u001b[0mtrial\u001b[0m\u001b[1;33m.\u001b[0m\u001b[0mhyperparameters\u001b[0m\u001b[1;33m)\u001b[0m\u001b[1;33m\u001b[0m\u001b[1;33m\u001b[0m\u001b[0m\n\u001b[1;32m---> 96\u001b[1;33m             \u001b[0mhistory\u001b[0m \u001b[1;33m=\u001b[0m \u001b[0mmodel\u001b[0m\u001b[1;33m.\u001b[0m\u001b[0mfit\u001b[0m\u001b[1;33m(\u001b[0m\u001b[1;33m*\u001b[0m\u001b[0mfit_args\u001b[0m\u001b[1;33m,\u001b[0m \u001b[1;33m**\u001b[0m\u001b[0mcopied_fit_kwargs\u001b[0m\u001b[1;33m)\u001b[0m\u001b[1;33m\u001b[0m\u001b[1;33m\u001b[0m\u001b[0m\n\u001b[0m\u001b[0;32m     97\u001b[0m             \u001b[1;32mfor\u001b[0m \u001b[0mmetric\u001b[0m\u001b[1;33m,\u001b[0m \u001b[0mepoch_values\u001b[0m \u001b[1;32min\u001b[0m \u001b[0mhistory\u001b[0m\u001b[1;33m.\u001b[0m\u001b[0mhistory\u001b[0m\u001b[1;33m.\u001b[0m\u001b[0mitems\u001b[0m\u001b[1;33m(\u001b[0m\u001b[1;33m)\u001b[0m\u001b[1;33m:\u001b[0m\u001b[1;33m\u001b[0m\u001b[1;33m\u001b[0m\u001b[0m\n\u001b[0;32m     98\u001b[0m                 \u001b[1;32mif\u001b[0m \u001b[0mself\u001b[0m\u001b[1;33m.\u001b[0m\u001b[0moracle\u001b[0m\u001b[1;33m.\u001b[0m\u001b[0mobjective\u001b[0m\u001b[1;33m.\u001b[0m\u001b[0mdirection\u001b[0m \u001b[1;33m==\u001b[0m \u001b[1;34m'min'\u001b[0m\u001b[1;33m:\u001b[0m\u001b[1;33m\u001b[0m\u001b[1;33m\u001b[0m\u001b[0m\n",
      "\u001b[1;32mc:\\python\\lib\\site-packages\\tensorflow_core\\python\\keras\\engine\\training.py\u001b[0m in \u001b[0;36mfit\u001b[1;34m(self, x, y, batch_size, epochs, verbose, callbacks, validation_split, validation_data, shuffle, class_weight, sample_weight, initial_epoch, steps_per_epoch, validation_steps, validation_freq, max_queue_size, workers, use_multiprocessing, **kwargs)\u001b[0m\n\u001b[0;32m    817\u001b[0m         \u001b[0mmax_queue_size\u001b[0m\u001b[1;33m=\u001b[0m\u001b[0mmax_queue_size\u001b[0m\u001b[1;33m,\u001b[0m\u001b[1;33m\u001b[0m\u001b[1;33m\u001b[0m\u001b[0m\n\u001b[0;32m    818\u001b[0m         \u001b[0mworkers\u001b[0m\u001b[1;33m=\u001b[0m\u001b[0mworkers\u001b[0m\u001b[1;33m,\u001b[0m\u001b[1;33m\u001b[0m\u001b[1;33m\u001b[0m\u001b[0m\n\u001b[1;32m--> 819\u001b[1;33m         use_multiprocessing=use_multiprocessing)\n\u001b[0m\u001b[0;32m    820\u001b[0m \u001b[1;33m\u001b[0m\u001b[0m\n\u001b[0;32m    821\u001b[0m   def evaluate(self,\n",
      "\u001b[1;32mc:\\python\\lib\\site-packages\\tensorflow_core\\python\\keras\\engine\\training_v2.py\u001b[0m in \u001b[0;36mfit\u001b[1;34m(self, model, x, y, batch_size, epochs, verbose, callbacks, validation_split, validation_data, shuffle, class_weight, sample_weight, initial_epoch, steps_per_epoch, validation_steps, validation_freq, max_queue_size, workers, use_multiprocessing, **kwargs)\u001b[0m\n\u001b[0;32m    340\u001b[0m                 \u001b[0mmode\u001b[0m\u001b[1;33m=\u001b[0m\u001b[0mModeKeys\u001b[0m\u001b[1;33m.\u001b[0m\u001b[0mTRAIN\u001b[0m\u001b[1;33m,\u001b[0m\u001b[1;33m\u001b[0m\u001b[1;33m\u001b[0m\u001b[0m\n\u001b[0;32m    341\u001b[0m                 \u001b[0mtraining_context\u001b[0m\u001b[1;33m=\u001b[0m\u001b[0mtraining_context\u001b[0m\u001b[1;33m,\u001b[0m\u001b[1;33m\u001b[0m\u001b[1;33m\u001b[0m\u001b[0m\n\u001b[1;32m--> 342\u001b[1;33m                 total_epochs=epochs)\n\u001b[0m\u001b[0;32m    343\u001b[0m             \u001b[0mcbks\u001b[0m\u001b[1;33m.\u001b[0m\u001b[0mmake_logs\u001b[0m\u001b[1;33m(\u001b[0m\u001b[0mmodel\u001b[0m\u001b[1;33m,\u001b[0m \u001b[0mepoch_logs\u001b[0m\u001b[1;33m,\u001b[0m \u001b[0mtraining_result\u001b[0m\u001b[1;33m,\u001b[0m \u001b[0mModeKeys\u001b[0m\u001b[1;33m.\u001b[0m\u001b[0mTRAIN\u001b[0m\u001b[1;33m)\u001b[0m\u001b[1;33m\u001b[0m\u001b[1;33m\u001b[0m\u001b[0m\n\u001b[0;32m    344\u001b[0m \u001b[1;33m\u001b[0m\u001b[0m\n",
      "\u001b[1;32mc:\\python\\lib\\site-packages\\tensorflow_core\\python\\keras\\engine\\training_v2.py\u001b[0m in \u001b[0;36mrun_one_epoch\u001b[1;34m(model, iterator, execution_function, dataset_size, batch_size, strategy, steps_per_epoch, num_samples, mode, training_context, total_epochs)\u001b[0m\n\u001b[0;32m    126\u001b[0m         step=step, mode=mode, size=current_batch_size) as batch_logs:\n\u001b[0;32m    127\u001b[0m       \u001b[1;32mtry\u001b[0m\u001b[1;33m:\u001b[0m\u001b[1;33m\u001b[0m\u001b[1;33m\u001b[0m\u001b[0m\n\u001b[1;32m--> 128\u001b[1;33m         \u001b[0mbatch_outs\u001b[0m \u001b[1;33m=\u001b[0m \u001b[0mexecution_function\u001b[0m\u001b[1;33m(\u001b[0m\u001b[0miterator\u001b[0m\u001b[1;33m)\u001b[0m\u001b[1;33m\u001b[0m\u001b[1;33m\u001b[0m\u001b[0m\n\u001b[0m\u001b[0;32m    129\u001b[0m       \u001b[1;32mexcept\u001b[0m \u001b[1;33m(\u001b[0m\u001b[0mStopIteration\u001b[0m\u001b[1;33m,\u001b[0m \u001b[0merrors\u001b[0m\u001b[1;33m.\u001b[0m\u001b[0mOutOfRangeError\u001b[0m\u001b[1;33m)\u001b[0m\u001b[1;33m:\u001b[0m\u001b[1;33m\u001b[0m\u001b[1;33m\u001b[0m\u001b[0m\n\u001b[0;32m    130\u001b[0m         \u001b[1;31m# TODO(kaftan): File bug about tf function and errors.OutOfRangeError?\u001b[0m\u001b[1;33m\u001b[0m\u001b[1;33m\u001b[0m\u001b[1;33m\u001b[0m\u001b[0m\n",
      "\u001b[1;32mc:\\python\\lib\\site-packages\\tensorflow_core\\python\\keras\\engine\\training_v2_utils.py\u001b[0m in \u001b[0;36mexecution_function\u001b[1;34m(input_fn)\u001b[0m\n\u001b[0;32m     96\u001b[0m     \u001b[1;31m# `numpy` translates Tensors to values in Eager mode.\u001b[0m\u001b[1;33m\u001b[0m\u001b[1;33m\u001b[0m\u001b[1;33m\u001b[0m\u001b[0m\n\u001b[0;32m     97\u001b[0m     return nest.map_structure(_non_none_constant_value,\n\u001b[1;32m---> 98\u001b[1;33m                               distributed_function(input_fn))\n\u001b[0m\u001b[0;32m     99\u001b[0m \u001b[1;33m\u001b[0m\u001b[0m\n\u001b[0;32m    100\u001b[0m   \u001b[1;32mreturn\u001b[0m \u001b[0mexecution_function\u001b[0m\u001b[1;33m\u001b[0m\u001b[1;33m\u001b[0m\u001b[0m\n",
      "\u001b[1;32mc:\\python\\lib\\site-packages\\tensorflow_core\\python\\eager\\def_function.py\u001b[0m in \u001b[0;36m__call__\u001b[1;34m(self, *args, **kwds)\u001b[0m\n\u001b[0;32m    566\u001b[0m         \u001b[0mxla_context\u001b[0m\u001b[1;33m.\u001b[0m\u001b[0mExit\u001b[0m\u001b[1;33m(\u001b[0m\u001b[1;33m)\u001b[0m\u001b[1;33m\u001b[0m\u001b[1;33m\u001b[0m\u001b[0m\n\u001b[0;32m    567\u001b[0m     \u001b[1;32melse\u001b[0m\u001b[1;33m:\u001b[0m\u001b[1;33m\u001b[0m\u001b[1;33m\u001b[0m\u001b[0m\n\u001b[1;32m--> 568\u001b[1;33m       \u001b[0mresult\u001b[0m \u001b[1;33m=\u001b[0m \u001b[0mself\u001b[0m\u001b[1;33m.\u001b[0m\u001b[0m_call\u001b[0m\u001b[1;33m(\u001b[0m\u001b[1;33m*\u001b[0m\u001b[0margs\u001b[0m\u001b[1;33m,\u001b[0m \u001b[1;33m**\u001b[0m\u001b[0mkwds\u001b[0m\u001b[1;33m)\u001b[0m\u001b[1;33m\u001b[0m\u001b[1;33m\u001b[0m\u001b[0m\n\u001b[0m\u001b[0;32m    569\u001b[0m \u001b[1;33m\u001b[0m\u001b[0m\n\u001b[0;32m    570\u001b[0m     \u001b[1;32mif\u001b[0m \u001b[0mtracing_count\u001b[0m \u001b[1;33m==\u001b[0m \u001b[0mself\u001b[0m\u001b[1;33m.\u001b[0m\u001b[0m_get_tracing_count\u001b[0m\u001b[1;33m(\u001b[0m\u001b[1;33m)\u001b[0m\u001b[1;33m:\u001b[0m\u001b[1;33m\u001b[0m\u001b[1;33m\u001b[0m\u001b[0m\n",
      "\u001b[1;32mc:\\python\\lib\\site-packages\\tensorflow_core\\python\\eager\\def_function.py\u001b[0m in \u001b[0;36m_call\u001b[1;34m(self, *args, **kwds)\u001b[0m\n\u001b[0;32m    597\u001b[0m       \u001b[1;31m# In this case we have created variables on the first call, so we run the\u001b[0m\u001b[1;33m\u001b[0m\u001b[1;33m\u001b[0m\u001b[1;33m\u001b[0m\u001b[0m\n\u001b[0;32m    598\u001b[0m       \u001b[1;31m# defunned version which is guaranteed to never create variables.\u001b[0m\u001b[1;33m\u001b[0m\u001b[1;33m\u001b[0m\u001b[1;33m\u001b[0m\u001b[0m\n\u001b[1;32m--> 599\u001b[1;33m       \u001b[1;32mreturn\u001b[0m \u001b[0mself\u001b[0m\u001b[1;33m.\u001b[0m\u001b[0m_stateless_fn\u001b[0m\u001b[1;33m(\u001b[0m\u001b[1;33m*\u001b[0m\u001b[0margs\u001b[0m\u001b[1;33m,\u001b[0m \u001b[1;33m**\u001b[0m\u001b[0mkwds\u001b[0m\u001b[1;33m)\u001b[0m  \u001b[1;31m# pylint: disable=not-callable\u001b[0m\u001b[1;33m\u001b[0m\u001b[1;33m\u001b[0m\u001b[0m\n\u001b[0m\u001b[0;32m    600\u001b[0m     \u001b[1;32melif\u001b[0m \u001b[0mself\u001b[0m\u001b[1;33m.\u001b[0m\u001b[0m_stateful_fn\u001b[0m \u001b[1;32mis\u001b[0m \u001b[1;32mnot\u001b[0m \u001b[1;32mNone\u001b[0m\u001b[1;33m:\u001b[0m\u001b[1;33m\u001b[0m\u001b[1;33m\u001b[0m\u001b[0m\n\u001b[0;32m    601\u001b[0m       \u001b[1;31m# Release the lock early so that multiple threads can perform the call\u001b[0m\u001b[1;33m\u001b[0m\u001b[1;33m\u001b[0m\u001b[1;33m\u001b[0m\u001b[0m\n",
      "\u001b[1;32mc:\\python\\lib\\site-packages\\tensorflow_core\\python\\eager\\function.py\u001b[0m in \u001b[0;36m__call__\u001b[1;34m(self, *args, **kwargs)\u001b[0m\n\u001b[0;32m   2361\u001b[0m     \u001b[1;32mwith\u001b[0m \u001b[0mself\u001b[0m\u001b[1;33m.\u001b[0m\u001b[0m_lock\u001b[0m\u001b[1;33m:\u001b[0m\u001b[1;33m\u001b[0m\u001b[1;33m\u001b[0m\u001b[0m\n\u001b[0;32m   2362\u001b[0m       \u001b[0mgraph_function\u001b[0m\u001b[1;33m,\u001b[0m \u001b[0margs\u001b[0m\u001b[1;33m,\u001b[0m \u001b[0mkwargs\u001b[0m \u001b[1;33m=\u001b[0m \u001b[0mself\u001b[0m\u001b[1;33m.\u001b[0m\u001b[0m_maybe_define_function\u001b[0m\u001b[1;33m(\u001b[0m\u001b[0margs\u001b[0m\u001b[1;33m,\u001b[0m \u001b[0mkwargs\u001b[0m\u001b[1;33m)\u001b[0m\u001b[1;33m\u001b[0m\u001b[1;33m\u001b[0m\u001b[0m\n\u001b[1;32m-> 2363\u001b[1;33m     \u001b[1;32mreturn\u001b[0m \u001b[0mgraph_function\u001b[0m\u001b[1;33m.\u001b[0m\u001b[0m_filtered_call\u001b[0m\u001b[1;33m(\u001b[0m\u001b[0margs\u001b[0m\u001b[1;33m,\u001b[0m \u001b[0mkwargs\u001b[0m\u001b[1;33m)\u001b[0m  \u001b[1;31m# pylint: disable=protected-access\u001b[0m\u001b[1;33m\u001b[0m\u001b[1;33m\u001b[0m\u001b[0m\n\u001b[0m\u001b[0;32m   2364\u001b[0m \u001b[1;33m\u001b[0m\u001b[0m\n\u001b[0;32m   2365\u001b[0m   \u001b[1;33m@\u001b[0m\u001b[0mproperty\u001b[0m\u001b[1;33m\u001b[0m\u001b[1;33m\u001b[0m\u001b[0m\n",
      "\u001b[1;32mc:\\python\\lib\\site-packages\\tensorflow_core\\python\\eager\\function.py\u001b[0m in \u001b[0;36m_filtered_call\u001b[1;34m(self, args, kwargs)\u001b[0m\n\u001b[0;32m   1609\u001b[0m          if isinstance(t, (ops.Tensor,\n\u001b[0;32m   1610\u001b[0m                            resource_variable_ops.BaseResourceVariable))),\n\u001b[1;32m-> 1611\u001b[1;33m         self.captured_inputs)\n\u001b[0m\u001b[0;32m   1612\u001b[0m \u001b[1;33m\u001b[0m\u001b[0m\n\u001b[0;32m   1613\u001b[0m   \u001b[1;32mdef\u001b[0m \u001b[0m_call_flat\u001b[0m\u001b[1;33m(\u001b[0m\u001b[0mself\u001b[0m\u001b[1;33m,\u001b[0m \u001b[0margs\u001b[0m\u001b[1;33m,\u001b[0m \u001b[0mcaptured_inputs\u001b[0m\u001b[1;33m,\u001b[0m \u001b[0mcancellation_manager\u001b[0m\u001b[1;33m=\u001b[0m\u001b[1;32mNone\u001b[0m\u001b[1;33m)\u001b[0m\u001b[1;33m:\u001b[0m\u001b[1;33m\u001b[0m\u001b[1;33m\u001b[0m\u001b[0m\n",
      "\u001b[1;32mc:\\python\\lib\\site-packages\\tensorflow_core\\python\\eager\\function.py\u001b[0m in \u001b[0;36m_call_flat\u001b[1;34m(self, args, captured_inputs, cancellation_manager)\u001b[0m\n\u001b[0;32m   1690\u001b[0m       \u001b[1;31m# No tape is watching; skip to running the function.\u001b[0m\u001b[1;33m\u001b[0m\u001b[1;33m\u001b[0m\u001b[1;33m\u001b[0m\u001b[0m\n\u001b[0;32m   1691\u001b[0m       return self._build_call_outputs(self._inference_function.call(\n\u001b[1;32m-> 1692\u001b[1;33m           ctx, args, cancellation_manager=cancellation_manager))\n\u001b[0m\u001b[0;32m   1693\u001b[0m     forward_backward = self._select_forward_and_backward_functions(\n\u001b[0;32m   1694\u001b[0m         \u001b[0margs\u001b[0m\u001b[1;33m,\u001b[0m\u001b[1;33m\u001b[0m\u001b[1;33m\u001b[0m\u001b[0m\n",
      "\u001b[1;32mc:\\python\\lib\\site-packages\\tensorflow_core\\python\\eager\\function.py\u001b[0m in \u001b[0;36mcall\u001b[1;34m(self, ctx, args, cancellation_manager)\u001b[0m\n\u001b[0;32m    543\u001b[0m               \u001b[0minputs\u001b[0m\u001b[1;33m=\u001b[0m\u001b[0margs\u001b[0m\u001b[1;33m,\u001b[0m\u001b[1;33m\u001b[0m\u001b[1;33m\u001b[0m\u001b[0m\n\u001b[0;32m    544\u001b[0m               \u001b[0mattrs\u001b[0m\u001b[1;33m=\u001b[0m\u001b[1;33m(\u001b[0m\u001b[1;34m\"executor_type\"\u001b[0m\u001b[1;33m,\u001b[0m \u001b[0mexecutor_type\u001b[0m\u001b[1;33m,\u001b[0m \u001b[1;34m\"config_proto\"\u001b[0m\u001b[1;33m,\u001b[0m \u001b[0mconfig\u001b[0m\u001b[1;33m)\u001b[0m\u001b[1;33m,\u001b[0m\u001b[1;33m\u001b[0m\u001b[1;33m\u001b[0m\u001b[0m\n\u001b[1;32m--> 545\u001b[1;33m               ctx=ctx)\n\u001b[0m\u001b[0;32m    546\u001b[0m         \u001b[1;32melse\u001b[0m\u001b[1;33m:\u001b[0m\u001b[1;33m\u001b[0m\u001b[1;33m\u001b[0m\u001b[0m\n\u001b[0;32m    547\u001b[0m           outputs = execute.execute_with_cancellation(\n",
      "\u001b[1;32mc:\\python\\lib\\site-packages\\tensorflow_core\\python\\eager\\execute.py\u001b[0m in \u001b[0;36mquick_execute\u001b[1;34m(op_name, num_outputs, inputs, attrs, ctx, name)\u001b[0m\n\u001b[0;32m     59\u001b[0m     tensors = pywrap_tensorflow.TFE_Py_Execute(ctx._handle, device_name,\n\u001b[0;32m     60\u001b[0m                                                \u001b[0mop_name\u001b[0m\u001b[1;33m,\u001b[0m \u001b[0minputs\u001b[0m\u001b[1;33m,\u001b[0m \u001b[0mattrs\u001b[0m\u001b[1;33m,\u001b[0m\u001b[1;33m\u001b[0m\u001b[1;33m\u001b[0m\u001b[0m\n\u001b[1;32m---> 61\u001b[1;33m                                                num_outputs)\n\u001b[0m\u001b[0;32m     62\u001b[0m   \u001b[1;32mexcept\u001b[0m \u001b[0mcore\u001b[0m\u001b[1;33m.\u001b[0m\u001b[0m_NotOkStatusException\u001b[0m \u001b[1;32mas\u001b[0m \u001b[0me\u001b[0m\u001b[1;33m:\u001b[0m\u001b[1;33m\u001b[0m\u001b[1;33m\u001b[0m\u001b[0m\n\u001b[0;32m     63\u001b[0m     \u001b[1;32mif\u001b[0m \u001b[0mname\u001b[0m \u001b[1;32mis\u001b[0m \u001b[1;32mnot\u001b[0m \u001b[1;32mNone\u001b[0m\u001b[1;33m:\u001b[0m\u001b[1;33m\u001b[0m\u001b[1;33m\u001b[0m\u001b[0m\n",
      "\u001b[1;31mKeyboardInterrupt\u001b[0m: "
     ]
    }
   ],
   "source": [
    "import kerastuner as kt\n",
    "import tensorflow as tf\n",
    "import tensorflow_datasets as tfds\n",
    "\n",
    "def build_model(hp):\n",
    "    inputs = tf.keras.Input(shape=(32, 32, 3))\n",
    "    x = inputs\n",
    "    \n",
    "    for i in range(hp.Int('conv_blocks', 3, 5, default=3)):\n",
    "        filters = hp.Int('filters_' + str(i), 32, 256, step=32)\n",
    "        \n",
    "        for _ in range(2):\n",
    "            x = tf.keras.layers.Convolution2D(filters, kernel_size=(3, 3), padding='same')(x)\n",
    "            x = tf.keras.layers.BatchNormalization()(x)\n",
    "            x = tf.keras.layers.ReLU()(x)\n",
    "        \n",
    "        if hp.Choice('pooling_' + str(i), ['avg', 'max']) == 'max':\n",
    "            x = tf.keras.layers.MaxPool2D()(x)\n",
    "        \n",
    "        else:\n",
    "            x = tf.keras.layers.AvgPool2D()(x)\n",
    "            \n",
    "    x = tf.keras.layers.GlobalAvgPool2D()(x)\n",
    "    x = tf.keras.layers.Dense(hp.Int('hidden_size', 30, 100, step=10, default=50), activation='relu')(x)\n",
    "    x = tf.keras.layers.Dropout(hp.Float('dropout', 0, 0.5, step=0.1, default=0.5))(x)\n",
    "    outputs = tf.keras.layers.Dense(10, activation='softmax')(x)\n",
    "\n",
    "    model = tf.keras.Model(inputs, outputs)\n",
    "    model.compile(optimizer=tf.keras.optimizers.Adam(\n",
    "        hp.Float('learning_rate', 1e-4, 1e-2, sampling='log')), loss='sparse_categorical_crossentropy', metrics=['accuracy'])\n",
    "    \n",
    "    return model\n",
    "\n",
    "\n",
    "tuner = kt.Hyperband(\n",
    "    build_model,\n",
    "    objective='val_accuracy',\n",
    "    max_epochs=30,\n",
    "    hyperband_iterations=2)\n",
    "\n",
    "data = tfds.load('cifar10')\n",
    "train_ds, test_ds = data['train'], data['test']\n",
    "\n",
    "\n",
    "def standardize_record(record):\n",
    "    return tf.cast(record['image'], tf.float32) / 255., record['label']\n",
    "\n",
    "\n",
    "train_ds = train_ds.map(standardize_record).cache().batch(64).shuffle(10000)\n",
    "test_ds = test_ds.map(standardize_record).cache().batch(64)\n",
    "\n",
    "tuner.search(train_ds,\n",
    "             validation_data=test_ds,\n",
    "             callbacks=[tf.keras.callbacks.EarlyStopping(patience=0)])\n",
    "\n",
    "best_model = tuner.get_best_models(1)[0]\n",
    "best_hyperparameters = tuner.get_best_hyperparameters(1)[0]"
   ]
  },
  {
   "cell_type": "code",
   "execution_count": null,
   "metadata": {
    "colab": {},
    "colab_type": "code",
    "id": "fdLGgtaUEpVv"
   },
   "outputs": [],
   "source": []
  }
 ],
 "metadata": {
  "accelerator": "GPU",
  "colab": {
   "collapsed_sections": [],
   "name": "Keras-tuner_cifar10.ipynb",
   "provenance": []
  },
  "kernelspec": {
   "display_name": "Python 3",
   "language": "python",
   "name": "python3"
  },
  "language_info": {
   "codemirror_mode": {
    "name": "ipython",
    "version": 3
   },
   "file_extension": ".py",
   "mimetype": "text/x-python",
   "name": "python",
   "nbconvert_exporter": "python",
   "pygments_lexer": "ipython3",
   "version": "3.7.6"
  },
  "widgets": {
   "application/vnd.jupyter.widget-state+json": {
    "01d5e83d7fd8444688632e8fc4a9b05d": {
     "model_module": "@jupyter-widgets/controls",
     "model_name": "DescriptionStyleModel",
     "state": {
      "_model_module": "@jupyter-widgets/controls",
      "_model_module_version": "1.5.0",
      "_model_name": "DescriptionStyleModel",
      "_view_count": null,
      "_view_module": "@jupyter-widgets/base",
      "_view_module_version": "1.2.0",
      "_view_name": "StyleView",
      "description_width": ""
     }
    },
    "06e5b87b05c6445fa5b0f19ae7b75b63": {
     "model_module": "@jupyter-widgets/controls",
     "model_name": "HTMLModel",
     "state": {
      "_dom_classes": [],
      "_model_module": "@jupyter-widgets/controls",
      "_model_module_version": "1.5.0",
      "_model_name": "HTMLModel",
      "_view_count": null,
      "_view_module": "@jupyter-widgets/controls",
      "_view_module_version": "1.5.0",
      "_view_name": "HTMLView",
      "description": "",
      "description_tooltip": null,
      "layout": "IPY_MODEL_b3598b6bdada4d769ea70eb2eb9ff3b2",
      "placeholder": "​",
      "style": "IPY_MODEL_4b76781d9dc74beeb6868662e9d0096e",
      "value": " 0/10000 [00:00&lt;?, ? examples/s]"
     }
    },
    "0ee03baa84d74bf9bfcb0b1cad1484b8": {
     "model_module": "@jupyter-widgets/base",
     "model_name": "LayoutModel",
     "state": {
      "_model_module": "@jupyter-widgets/base",
      "_model_module_version": "1.2.0",
      "_model_name": "LayoutModel",
      "_view_count": null,
      "_view_module": "@jupyter-widgets/base",
      "_view_module_version": "1.2.0",
      "_view_name": "LayoutView",
      "align_content": null,
      "align_items": null,
      "align_self": null,
      "border": null,
      "bottom": null,
      "display": null,
      "flex": null,
      "flex_flow": null,
      "grid_area": null,
      "grid_auto_columns": null,
      "grid_auto_flow": null,
      "grid_auto_rows": null,
      "grid_column": null,
      "grid_gap": null,
      "grid_row": null,
      "grid_template_areas": null,
      "grid_template_columns": null,
      "grid_template_rows": null,
      "height": null,
      "justify_content": null,
      "justify_items": null,
      "left": null,
      "margin": null,
      "max_height": null,
      "max_width": null,
      "min_height": null,
      "min_width": null,
      "object_fit": null,
      "object_position": null,
      "order": null,
      "overflow": null,
      "overflow_x": null,
      "overflow_y": null,
      "padding": null,
      "right": null,
      "top": null,
      "visibility": null,
      "width": null
     }
    },
    "12f792b326ce4e45989fb20cb757854f": {
     "model_module": "@jupyter-widgets/base",
     "model_name": "LayoutModel",
     "state": {
      "_model_module": "@jupyter-widgets/base",
      "_model_module_version": "1.2.0",
      "_model_name": "LayoutModel",
      "_view_count": null,
      "_view_module": "@jupyter-widgets/base",
      "_view_module_version": "1.2.0",
      "_view_name": "LayoutView",
      "align_content": null,
      "align_items": null,
      "align_self": null,
      "border": null,
      "bottom": null,
      "display": null,
      "flex": null,
      "flex_flow": null,
      "grid_area": null,
      "grid_auto_columns": null,
      "grid_auto_flow": null,
      "grid_auto_rows": null,
      "grid_column": null,
      "grid_gap": null,
      "grid_row": null,
      "grid_template_areas": null,
      "grid_template_columns": null,
      "grid_template_rows": null,
      "height": null,
      "justify_content": null,
      "justify_items": null,
      "left": null,
      "margin": null,
      "max_height": null,
      "max_width": null,
      "min_height": null,
      "min_width": null,
      "object_fit": null,
      "object_position": null,
      "order": null,
      "overflow": null,
      "overflow_x": null,
      "overflow_y": null,
      "padding": null,
      "right": null,
      "top": null,
      "visibility": null,
      "width": null
     }
    },
    "146427fd59b04ee18546f9704fbc59df": {
     "model_module": "@jupyter-widgets/base",
     "model_name": "LayoutModel",
     "state": {
      "_model_module": "@jupyter-widgets/base",
      "_model_module_version": "1.2.0",
      "_model_name": "LayoutModel",
      "_view_count": null,
      "_view_module": "@jupyter-widgets/base",
      "_view_module_version": "1.2.0",
      "_view_name": "LayoutView",
      "align_content": null,
      "align_items": null,
      "align_self": null,
      "border": null,
      "bottom": null,
      "display": null,
      "flex": null,
      "flex_flow": null,
      "grid_area": null,
      "grid_auto_columns": null,
      "grid_auto_flow": null,
      "grid_auto_rows": null,
      "grid_column": null,
      "grid_gap": null,
      "grid_row": null,
      "grid_template_areas": null,
      "grid_template_columns": null,
      "grid_template_rows": null,
      "height": null,
      "justify_content": null,
      "justify_items": null,
      "left": null,
      "margin": null,
      "max_height": null,
      "max_width": null,
      "min_height": null,
      "min_width": null,
      "object_fit": null,
      "object_position": null,
      "order": null,
      "overflow": null,
      "overflow_x": null,
      "overflow_y": null,
      "padding": null,
      "right": null,
      "top": null,
      "visibility": null,
      "width": null
     }
    },
    "150f6e036dbe4e2aad5d50a5fc5b9fc2": {
     "model_module": "@jupyter-widgets/base",
     "model_name": "LayoutModel",
     "state": {
      "_model_module": "@jupyter-widgets/base",
      "_model_module_version": "1.2.0",
      "_model_name": "LayoutModel",
      "_view_count": null,
      "_view_module": "@jupyter-widgets/base",
      "_view_module_version": "1.2.0",
      "_view_name": "LayoutView",
      "align_content": null,
      "align_items": null,
      "align_self": null,
      "border": null,
      "bottom": null,
      "display": null,
      "flex": null,
      "flex_flow": null,
      "grid_area": null,
      "grid_auto_columns": null,
      "grid_auto_flow": null,
      "grid_auto_rows": null,
      "grid_column": null,
      "grid_gap": null,
      "grid_row": null,
      "grid_template_areas": null,
      "grid_template_columns": null,
      "grid_template_rows": null,
      "height": null,
      "justify_content": null,
      "justify_items": null,
      "left": null,
      "margin": null,
      "max_height": null,
      "max_width": null,
      "min_height": null,
      "min_width": null,
      "object_fit": null,
      "object_position": null,
      "order": null,
      "overflow": null,
      "overflow_x": null,
      "overflow_y": null,
      "padding": null,
      "right": null,
      "top": null,
      "visibility": null,
      "width": null
     }
    },
    "18e19437c3ee4c228c5f6fc26cc8040e": {
     "model_module": "@jupyter-widgets/controls",
     "model_name": "IntProgressModel",
     "state": {
      "_dom_classes": [],
      "_model_module": "@jupyter-widgets/controls",
      "_model_module_version": "1.5.0",
      "_model_name": "IntProgressModel",
      "_view_count": null,
      "_view_module": "@jupyter-widgets/controls",
      "_view_module_version": "1.5.0",
      "_view_name": "ProgressView",
      "bar_style": "success",
      "description": "Dl Size...: 100%",
      "description_tooltip": null,
      "layout": "IPY_MODEL_6894236599da4ea4ab9905d3274873e7",
      "max": 1,
      "min": 0,
      "orientation": "horizontal",
      "style": "IPY_MODEL_e8a5998aa9564591987d89e643f0b714",
      "value": 1
     }
    },
    "21a3e7970a2143f2884ddf98035eef2d": {
     "model_module": "@jupyter-widgets/base",
     "model_name": "LayoutModel",
     "state": {
      "_model_module": "@jupyter-widgets/base",
      "_model_module_version": "1.2.0",
      "_model_name": "LayoutModel",
      "_view_count": null,
      "_view_module": "@jupyter-widgets/base",
      "_view_module_version": "1.2.0",
      "_view_name": "LayoutView",
      "align_content": null,
      "align_items": null,
      "align_self": null,
      "border": null,
      "bottom": null,
      "display": null,
      "flex": null,
      "flex_flow": null,
      "grid_area": null,
      "grid_auto_columns": null,
      "grid_auto_flow": null,
      "grid_auto_rows": null,
      "grid_column": null,
      "grid_gap": null,
      "grid_row": null,
      "grid_template_areas": null,
      "grid_template_columns": null,
      "grid_template_rows": null,
      "height": null,
      "justify_content": null,
      "justify_items": null,
      "left": null,
      "margin": null,
      "max_height": null,
      "max_width": null,
      "min_height": null,
      "min_width": null,
      "object_fit": null,
      "object_position": null,
      "order": null,
      "overflow": null,
      "overflow_x": null,
      "overflow_y": null,
      "padding": null,
      "right": null,
      "top": null,
      "visibility": null,
      "width": null
     }
    },
    "249ce4ad331c4f00b67155dc11fc9101": {
     "model_module": "@jupyter-widgets/base",
     "model_name": "LayoutModel",
     "state": {
      "_model_module": "@jupyter-widgets/base",
      "_model_module_version": "1.2.0",
      "_model_name": "LayoutModel",
      "_view_count": null,
      "_view_module": "@jupyter-widgets/base",
      "_view_module_version": "1.2.0",
      "_view_name": "LayoutView",
      "align_content": null,
      "align_items": null,
      "align_self": null,
      "border": null,
      "bottom": null,
      "display": null,
      "flex": null,
      "flex_flow": null,
      "grid_area": null,
      "grid_auto_columns": null,
      "grid_auto_flow": null,
      "grid_auto_rows": null,
      "grid_column": null,
      "grid_gap": null,
      "grid_row": null,
      "grid_template_areas": null,
      "grid_template_columns": null,
      "grid_template_rows": null,
      "height": null,
      "justify_content": null,
      "justify_items": null,
      "left": null,
      "margin": null,
      "max_height": null,
      "max_width": null,
      "min_height": null,
      "min_width": null,
      "object_fit": null,
      "object_position": null,
      "order": null,
      "overflow": null,
      "overflow_x": null,
      "overflow_y": null,
      "padding": null,
      "right": null,
      "top": null,
      "visibility": null,
      "width": null
     }
    },
    "2a0a1fd202074d9bb8a50e69e1b0dffe": {
     "model_module": "@jupyter-widgets/controls",
     "model_name": "ProgressStyleModel",
     "state": {
      "_model_module": "@jupyter-widgets/controls",
      "_model_module_version": "1.5.0",
      "_model_name": "ProgressStyleModel",
      "_view_count": null,
      "_view_module": "@jupyter-widgets/base",
      "_view_module_version": "1.2.0",
      "_view_name": "StyleView",
      "bar_color": null,
      "description_width": "initial"
     }
    },
    "2f6b5ffe2d7d461c9213dd6586c64998": {
     "model_module": "@jupyter-widgets/controls",
     "model_name": "HBoxModel",
     "state": {
      "_dom_classes": [],
      "_model_module": "@jupyter-widgets/controls",
      "_model_module_version": "1.5.0",
      "_model_name": "HBoxModel",
      "_view_count": null,
      "_view_module": "@jupyter-widgets/controls",
      "_view_module_version": "1.5.0",
      "_view_name": "HBoxView",
      "box_style": "",
      "children": [
       "IPY_MODEL_3a03a4c11b9c4c4da62255cf344d3860",
       "IPY_MODEL_06e5b87b05c6445fa5b0f19ae7b75b63"
      ],
      "layout": "IPY_MODEL_12f792b326ce4e45989fb20cb757854f"
     }
    },
    "33321df07856493297cfdb4c4c852b31": {
     "model_module": "@jupyter-widgets/base",
     "model_name": "LayoutModel",
     "state": {
      "_model_module": "@jupyter-widgets/base",
      "_model_module_version": "1.2.0",
      "_model_name": "LayoutModel",
      "_view_count": null,
      "_view_module": "@jupyter-widgets/base",
      "_view_module_version": "1.2.0",
      "_view_name": "LayoutView",
      "align_content": null,
      "align_items": null,
      "align_self": null,
      "border": null,
      "bottom": null,
      "display": null,
      "flex": null,
      "flex_flow": null,
      "grid_area": null,
      "grid_auto_columns": null,
      "grid_auto_flow": null,
      "grid_auto_rows": null,
      "grid_column": null,
      "grid_gap": null,
      "grid_row": null,
      "grid_template_areas": null,
      "grid_template_columns": null,
      "grid_template_rows": null,
      "height": null,
      "justify_content": null,
      "justify_items": null,
      "left": null,
      "margin": null,
      "max_height": null,
      "max_width": null,
      "min_height": null,
      "min_width": null,
      "object_fit": null,
      "object_position": null,
      "order": null,
      "overflow": null,
      "overflow_x": null,
      "overflow_y": null,
      "padding": null,
      "right": null,
      "top": null,
      "visibility": null,
      "width": null
     }
    },
    "36ae749f2755420bbf66d054651c4daf": {
     "model_module": "@jupyter-widgets/controls",
     "model_name": "ProgressStyleModel",
     "state": {
      "_model_module": "@jupyter-widgets/controls",
      "_model_module_version": "1.5.0",
      "_model_name": "ProgressStyleModel",
      "_view_count": null,
      "_view_module": "@jupyter-widgets/base",
      "_view_module_version": "1.2.0",
      "_view_name": "StyleView",
      "bar_color": null,
      "description_width": "initial"
     }
    },
    "3831e0448f50455b921da92249ae344a": {
     "model_module": "@jupyter-widgets/base",
     "model_name": "LayoutModel",
     "state": {
      "_model_module": "@jupyter-widgets/base",
      "_model_module_version": "1.2.0",
      "_model_name": "LayoutModel",
      "_view_count": null,
      "_view_module": "@jupyter-widgets/base",
      "_view_module_version": "1.2.0",
      "_view_name": "LayoutView",
      "align_content": null,
      "align_items": null,
      "align_self": null,
      "border": null,
      "bottom": null,
      "display": null,
      "flex": null,
      "flex_flow": null,
      "grid_area": null,
      "grid_auto_columns": null,
      "grid_auto_flow": null,
      "grid_auto_rows": null,
      "grid_column": null,
      "grid_gap": null,
      "grid_row": null,
      "grid_template_areas": null,
      "grid_template_columns": null,
      "grid_template_rows": null,
      "height": null,
      "justify_content": null,
      "justify_items": null,
      "left": null,
      "margin": null,
      "max_height": null,
      "max_width": null,
      "min_height": null,
      "min_width": null,
      "object_fit": null,
      "object_position": null,
      "order": null,
      "overflow": null,
      "overflow_x": null,
      "overflow_y": null,
      "padding": null,
      "right": null,
      "top": null,
      "visibility": null,
      "width": null
     }
    },
    "3a03a4c11b9c4c4da62255cf344d3860": {
     "model_module": "@jupyter-widgets/controls",
     "model_name": "IntProgressModel",
     "state": {
      "_dom_classes": [],
      "_model_module": "@jupyter-widgets/controls",
      "_model_module_version": "1.5.0",
      "_model_name": "IntProgressModel",
      "_view_count": null,
      "_view_module": "@jupyter-widgets/controls",
      "_view_module_version": "1.5.0",
      "_view_name": "ProgressView",
      "bar_style": "danger",
      "description": "  0%",
      "description_tooltip": null,
      "layout": "IPY_MODEL_150f6e036dbe4e2aad5d50a5fc5b9fc2",
      "max": 10000,
      "min": 0,
      "orientation": "horizontal",
      "style": "IPY_MODEL_906e49b4966b4db3a8ac5bad93589195",
      "value": 0
     }
    },
    "40574fb28c47479bad37d9b06ac834c9": {
     "model_module": "@jupyter-widgets/controls",
     "model_name": "IntProgressModel",
     "state": {
      "_dom_classes": [],
      "_model_module": "@jupyter-widgets/controls",
      "_model_module_version": "1.5.0",
      "_model_name": "IntProgressModel",
      "_view_count": null,
      "_view_module": "@jupyter-widgets/controls",
      "_view_module_version": "1.5.0",
      "_view_name": "ProgressView",
      "bar_style": "success",
      "description": "Extraction completed...: 100%",
      "description_tooltip": null,
      "layout": "IPY_MODEL_444147034bcc48acbf011e3af4dc3fe8",
      "max": 1,
      "min": 0,
      "orientation": "horizontal",
      "style": "IPY_MODEL_2a0a1fd202074d9bb8a50e69e1b0dffe",
      "value": 1
     }
    },
    "40a8a404d12e46b4a5de0bba58adbc3b": {
     "model_module": "@jupyter-widgets/controls",
     "model_name": "HTMLModel",
     "state": {
      "_dom_classes": [],
      "_model_module": "@jupyter-widgets/controls",
      "_model_module_version": "1.5.0",
      "_model_name": "HTMLModel",
      "_view_count": null,
      "_view_module": "@jupyter-widgets/controls",
      "_view_module_version": "1.5.0",
      "_view_name": "HTMLView",
      "description": "",
      "description_tooltip": null,
      "layout": "IPY_MODEL_0ee03baa84d74bf9bfcb0b1cad1484b8",
      "placeholder": "​",
      "style": "IPY_MODEL_765ec55e8f9247bf8dcc4f56f9b9a22e",
      "value": " 45939/50000 [00:00&lt;00:00, 79283.68 examples/s]"
     }
    },
    "444147034bcc48acbf011e3af4dc3fe8": {
     "model_module": "@jupyter-widgets/base",
     "model_name": "LayoutModel",
     "state": {
      "_model_module": "@jupyter-widgets/base",
      "_model_module_version": "1.2.0",
      "_model_name": "LayoutModel",
      "_view_count": null,
      "_view_module": "@jupyter-widgets/base",
      "_view_module_version": "1.2.0",
      "_view_name": "LayoutView",
      "align_content": null,
      "align_items": null,
      "align_self": null,
      "border": null,
      "bottom": null,
      "display": null,
      "flex": null,
      "flex_flow": null,
      "grid_area": null,
      "grid_auto_columns": null,
      "grid_auto_flow": null,
      "grid_auto_rows": null,
      "grid_column": null,
      "grid_gap": null,
      "grid_row": null,
      "grid_template_areas": null,
      "grid_template_columns": null,
      "grid_template_rows": null,
      "height": null,
      "justify_content": null,
      "justify_items": null,
      "left": null,
      "margin": null,
      "max_height": null,
      "max_width": null,
      "min_height": null,
      "min_width": null,
      "object_fit": null,
      "object_position": null,
      "order": null,
      "overflow": null,
      "overflow_x": null,
      "overflow_y": null,
      "padding": null,
      "right": null,
      "top": null,
      "visibility": null,
      "width": null
     }
    },
    "44f0e7232802459790b6e2b4609173b9": {
     "model_module": "@jupyter-widgets/controls",
     "model_name": "HBoxModel",
     "state": {
      "_dom_classes": [],
      "_model_module": "@jupyter-widgets/controls",
      "_model_module_version": "1.5.0",
      "_model_name": "HBoxModel",
      "_view_count": null,
      "_view_module": "@jupyter-widgets/controls",
      "_view_module_version": "1.5.0",
      "_view_name": "HBoxView",
      "box_style": "",
      "children": [
       "IPY_MODEL_815d04d05eb14d0582328d4ec2201ce1",
       "IPY_MODEL_6dd1e59992954e64a421af33a2e74b84"
      ],
      "layout": "IPY_MODEL_21a3e7970a2143f2884ddf98035eef2d"
     }
    },
    "4b4b892f04f340cabe75bc8fe7b97960": {
     "model_module": "@jupyter-widgets/base",
     "model_name": "LayoutModel",
     "state": {
      "_model_module": "@jupyter-widgets/base",
      "_model_module_version": "1.2.0",
      "_model_name": "LayoutModel",
      "_view_count": null,
      "_view_module": "@jupyter-widgets/base",
      "_view_module_version": "1.2.0",
      "_view_name": "LayoutView",
      "align_content": null,
      "align_items": null,
      "align_self": null,
      "border": null,
      "bottom": null,
      "display": null,
      "flex": null,
      "flex_flow": null,
      "grid_area": null,
      "grid_auto_columns": null,
      "grid_auto_flow": null,
      "grid_auto_rows": null,
      "grid_column": null,
      "grid_gap": null,
      "grid_row": null,
      "grid_template_areas": null,
      "grid_template_columns": null,
      "grid_template_rows": null,
      "height": null,
      "justify_content": null,
      "justify_items": null,
      "left": null,
      "margin": null,
      "max_height": null,
      "max_width": null,
      "min_height": null,
      "min_width": null,
      "object_fit": null,
      "object_position": null,
      "order": null,
      "overflow": null,
      "overflow_x": null,
      "overflow_y": null,
      "padding": null,
      "right": null,
      "top": null,
      "visibility": null,
      "width": null
     }
    },
    "4b76781d9dc74beeb6868662e9d0096e": {
     "model_module": "@jupyter-widgets/controls",
     "model_name": "DescriptionStyleModel",
     "state": {
      "_model_module": "@jupyter-widgets/controls",
      "_model_module_version": "1.5.0",
      "_model_name": "DescriptionStyleModel",
      "_view_count": null,
      "_view_module": "@jupyter-widgets/base",
      "_view_module_version": "1.2.0",
      "_view_name": "StyleView",
      "description_width": ""
     }
    },
    "593e7456c8f542938e3b854cef2ab4a3": {
     "model_module": "@jupyter-widgets/controls",
     "model_name": "HBoxModel",
     "state": {
      "_dom_classes": [],
      "_model_module": "@jupyter-widgets/controls",
      "_model_module_version": "1.5.0",
      "_model_name": "HBoxModel",
      "_view_count": null,
      "_view_module": "@jupyter-widgets/controls",
      "_view_module_version": "1.5.0",
      "_view_name": "HBoxView",
      "box_style": "",
      "children": [
       "IPY_MODEL_40574fb28c47479bad37d9b06ac834c9",
       "IPY_MODEL_d9d8f62957bb4b3eb49c98b4713c5d86"
      ],
      "layout": "IPY_MODEL_d35f9782597d476cb401f2141a1d1f2d"
     }
    },
    "5b0d337ceca543499afeeb5f5b2c4b84": {
     "model_module": "@jupyter-widgets/controls",
     "model_name": "DescriptionStyleModel",
     "state": {
      "_model_module": "@jupyter-widgets/controls",
      "_model_module_version": "1.5.0",
      "_model_name": "DescriptionStyleModel",
      "_view_count": null,
      "_view_module": "@jupyter-widgets/base",
      "_view_module_version": "1.2.0",
      "_view_name": "StyleView",
      "description_width": ""
     }
    },
    "63e40c6d045c4ceba1d36c2b6251394e": {
     "model_module": "@jupyter-widgets/controls",
     "model_name": "IntProgressModel",
     "state": {
      "_dom_classes": [],
      "_model_module": "@jupyter-widgets/controls",
      "_model_module_version": "1.5.0",
      "_model_name": "IntProgressModel",
      "_view_count": null,
      "_view_module": "@jupyter-widgets/controls",
      "_view_module_version": "1.5.0",
      "_view_name": "ProgressView",
      "bar_style": "success",
      "description": "Dl Completed...: 100%",
      "description_tooltip": null,
      "layout": "IPY_MODEL_6c85fd86c5714984ab43ad3f7810242f",
      "max": 1,
      "min": 0,
      "orientation": "horizontal",
      "style": "IPY_MODEL_82716321714340a09493e7a256af5fc1",
      "value": 1
     }
    },
    "655b049eec844d309b77343b0dcaaf66": {
     "model_module": "@jupyter-widgets/base",
     "model_name": "LayoutModel",
     "state": {
      "_model_module": "@jupyter-widgets/base",
      "_model_module_version": "1.2.0",
      "_model_name": "LayoutModel",
      "_view_count": null,
      "_view_module": "@jupyter-widgets/base",
      "_view_module_version": "1.2.0",
      "_view_name": "LayoutView",
      "align_content": null,
      "align_items": null,
      "align_self": null,
      "border": null,
      "bottom": null,
      "display": null,
      "flex": null,
      "flex_flow": null,
      "grid_area": null,
      "grid_auto_columns": null,
      "grid_auto_flow": null,
      "grid_auto_rows": null,
      "grid_column": null,
      "grid_gap": null,
      "grid_row": null,
      "grid_template_areas": null,
      "grid_template_columns": null,
      "grid_template_rows": null,
      "height": null,
      "justify_content": null,
      "justify_items": null,
      "left": null,
      "margin": null,
      "max_height": null,
      "max_width": null,
      "min_height": null,
      "min_width": null,
      "object_fit": null,
      "object_position": null,
      "order": null,
      "overflow": null,
      "overflow_x": null,
      "overflow_y": null,
      "padding": null,
      "right": null,
      "top": null,
      "visibility": null,
      "width": null
     }
    },
    "6894236599da4ea4ab9905d3274873e7": {
     "model_module": "@jupyter-widgets/base",
     "model_name": "LayoutModel",
     "state": {
      "_model_module": "@jupyter-widgets/base",
      "_model_module_version": "1.2.0",
      "_model_name": "LayoutModel",
      "_view_count": null,
      "_view_module": "@jupyter-widgets/base",
      "_view_module_version": "1.2.0",
      "_view_name": "LayoutView",
      "align_content": null,
      "align_items": null,
      "align_self": null,
      "border": null,
      "bottom": null,
      "display": null,
      "flex": null,
      "flex_flow": null,
      "grid_area": null,
      "grid_auto_columns": null,
      "grid_auto_flow": null,
      "grid_auto_rows": null,
      "grid_column": null,
      "grid_gap": null,
      "grid_row": null,
      "grid_template_areas": null,
      "grid_template_columns": null,
      "grid_template_rows": null,
      "height": null,
      "justify_content": null,
      "justify_items": null,
      "left": null,
      "margin": null,
      "max_height": null,
      "max_width": null,
      "min_height": null,
      "min_width": null,
      "object_fit": null,
      "object_position": null,
      "order": null,
      "overflow": null,
      "overflow_x": null,
      "overflow_y": null,
      "padding": null,
      "right": null,
      "top": null,
      "visibility": null,
      "width": null
     }
    },
    "69082f5fc2c941339c3a0b480a35d821": {
     "model_module": "@jupyter-widgets/controls",
     "model_name": "ProgressStyleModel",
     "state": {
      "_model_module": "@jupyter-widgets/controls",
      "_model_module_version": "1.5.0",
      "_model_name": "ProgressStyleModel",
      "_view_count": null,
      "_view_module": "@jupyter-widgets/base",
      "_view_module_version": "1.2.0",
      "_view_name": "StyleView",
      "bar_color": null,
      "description_width": "initial"
     }
    },
    "6c85fd86c5714984ab43ad3f7810242f": {
     "model_module": "@jupyter-widgets/base",
     "model_name": "LayoutModel",
     "state": {
      "_model_module": "@jupyter-widgets/base",
      "_model_module_version": "1.2.0",
      "_model_name": "LayoutModel",
      "_view_count": null,
      "_view_module": "@jupyter-widgets/base",
      "_view_module_version": "1.2.0",
      "_view_name": "LayoutView",
      "align_content": null,
      "align_items": null,
      "align_self": null,
      "border": null,
      "bottom": null,
      "display": null,
      "flex": null,
      "flex_flow": null,
      "grid_area": null,
      "grid_auto_columns": null,
      "grid_auto_flow": null,
      "grid_auto_rows": null,
      "grid_column": null,
      "grid_gap": null,
      "grid_row": null,
      "grid_template_areas": null,
      "grid_template_columns": null,
      "grid_template_rows": null,
      "height": null,
      "justify_content": null,
      "justify_items": null,
      "left": null,
      "margin": null,
      "max_height": null,
      "max_width": null,
      "min_height": null,
      "min_width": null,
      "object_fit": null,
      "object_position": null,
      "order": null,
      "overflow": null,
      "overflow_x": null,
      "overflow_y": null,
      "padding": null,
      "right": null,
      "top": null,
      "visibility": null,
      "width": null
     }
    },
    "6dd1e59992954e64a421af33a2e74b84": {
     "model_module": "@jupyter-widgets/controls",
     "model_name": "HTMLModel",
     "state": {
      "_dom_classes": [],
      "_model_module": "@jupyter-widgets/controls",
      "_model_module_version": "1.5.0",
      "_model_name": "HTMLModel",
      "_view_count": null,
      "_view_module": "@jupyter-widgets/controls",
      "_view_module_version": "1.5.0",
      "_view_name": "HTMLView",
      "description": "",
      "description_tooltip": null,
      "layout": "IPY_MODEL_cfa16a6ed12441bf84f0c6887a43a100",
      "placeholder": "​",
      "style": "IPY_MODEL_8b2339db8ef0407c998c8e90aa2bf4fb",
      "value": " 10000/0 [00:05&lt;00:00, 1904.41 examples/s]"
     }
    },
    "725586870dec47a08d7ebdbc3cd1a75b": {
     "model_module": "@jupyter-widgets/controls",
     "model_name": "IntProgressModel",
     "state": {
      "_dom_classes": [],
      "_model_module": "@jupyter-widgets/controls",
      "_model_module_version": "1.5.0",
      "_model_name": "IntProgressModel",
      "_view_count": null,
      "_view_module": "@jupyter-widgets/controls",
      "_view_module_version": "1.5.0",
      "_view_name": "ProgressView",
      "bar_style": "info",
      "description": "",
      "description_tooltip": null,
      "layout": "IPY_MODEL_7c25a0a973ce4e1db9c7cef605abe32d",
      "max": 1,
      "min": 0,
      "orientation": "horizontal",
      "style": "IPY_MODEL_36ae749f2755420bbf66d054651c4daf",
      "value": 1
     }
    },
    "765ec55e8f9247bf8dcc4f56f9b9a22e": {
     "model_module": "@jupyter-widgets/controls",
     "model_name": "DescriptionStyleModel",
     "state": {
      "_model_module": "@jupyter-widgets/controls",
      "_model_module_version": "1.5.0",
      "_model_name": "DescriptionStyleModel",
      "_view_count": null,
      "_view_module": "@jupyter-widgets/base",
      "_view_module_version": "1.2.0",
      "_view_name": "StyleView",
      "description_width": ""
     }
    },
    "79b1af3485d64c83b7c1c3f83dd189a3": {
     "model_module": "@jupyter-widgets/base",
     "model_name": "LayoutModel",
     "state": {
      "_model_module": "@jupyter-widgets/base",
      "_model_module_version": "1.2.0",
      "_model_name": "LayoutModel",
      "_view_count": null,
      "_view_module": "@jupyter-widgets/base",
      "_view_module_version": "1.2.0",
      "_view_name": "LayoutView",
      "align_content": null,
      "align_items": null,
      "align_self": null,
      "border": null,
      "bottom": null,
      "display": null,
      "flex": null,
      "flex_flow": null,
      "grid_area": null,
      "grid_auto_columns": null,
      "grid_auto_flow": null,
      "grid_auto_rows": null,
      "grid_column": null,
      "grid_gap": null,
      "grid_row": null,
      "grid_template_areas": null,
      "grid_template_columns": null,
      "grid_template_rows": null,
      "height": null,
      "justify_content": null,
      "justify_items": null,
      "left": null,
      "margin": null,
      "max_height": null,
      "max_width": null,
      "min_height": null,
      "min_width": null,
      "object_fit": null,
      "object_position": null,
      "order": null,
      "overflow": null,
      "overflow_x": null,
      "overflow_y": null,
      "padding": null,
      "right": null,
      "top": null,
      "visibility": null,
      "width": null
     }
    },
    "7c25a0a973ce4e1db9c7cef605abe32d": {
     "model_module": "@jupyter-widgets/base",
     "model_name": "LayoutModel",
     "state": {
      "_model_module": "@jupyter-widgets/base",
      "_model_module_version": "1.2.0",
      "_model_name": "LayoutModel",
      "_view_count": null,
      "_view_module": "@jupyter-widgets/base",
      "_view_module_version": "1.2.0",
      "_view_name": "LayoutView",
      "align_content": null,
      "align_items": null,
      "align_self": null,
      "border": null,
      "bottom": null,
      "display": null,
      "flex": null,
      "flex_flow": null,
      "grid_area": null,
      "grid_auto_columns": null,
      "grid_auto_flow": null,
      "grid_auto_rows": null,
      "grid_column": null,
      "grid_gap": null,
      "grid_row": null,
      "grid_template_areas": null,
      "grid_template_columns": null,
      "grid_template_rows": null,
      "height": null,
      "justify_content": null,
      "justify_items": null,
      "left": null,
      "margin": null,
      "max_height": null,
      "max_width": null,
      "min_height": null,
      "min_width": null,
      "object_fit": null,
      "object_position": null,
      "order": null,
      "overflow": null,
      "overflow_x": null,
      "overflow_y": null,
      "padding": null,
      "right": null,
      "top": null,
      "visibility": null,
      "width": null
     }
    },
    "815d04d05eb14d0582328d4ec2201ce1": {
     "model_module": "@jupyter-widgets/controls",
     "model_name": "IntProgressModel",
     "state": {
      "_dom_classes": [],
      "_model_module": "@jupyter-widgets/controls",
      "_model_module_version": "1.5.0",
      "_model_name": "IntProgressModel",
      "_view_count": null,
      "_view_module": "@jupyter-widgets/controls",
      "_view_module_version": "1.5.0",
      "_view_name": "ProgressView",
      "bar_style": "info",
      "description": "",
      "description_tooltip": null,
      "layout": "IPY_MODEL_3831e0448f50455b921da92249ae344a",
      "max": 1,
      "min": 0,
      "orientation": "horizontal",
      "style": "IPY_MODEL_ec3d27de205b46768882caec36dfb8cc",
      "value": 1
     }
    },
    "82716321714340a09493e7a256af5fc1": {
     "model_module": "@jupyter-widgets/controls",
     "model_name": "ProgressStyleModel",
     "state": {
      "_model_module": "@jupyter-widgets/controls",
      "_model_module_version": "1.5.0",
      "_model_name": "ProgressStyleModel",
      "_view_count": null,
      "_view_module": "@jupyter-widgets/base",
      "_view_module_version": "1.2.0",
      "_view_name": "StyleView",
      "bar_color": null,
      "description_width": "initial"
     }
    },
    "8b2339db8ef0407c998c8e90aa2bf4fb": {
     "model_module": "@jupyter-widgets/controls",
     "model_name": "DescriptionStyleModel",
     "state": {
      "_model_module": "@jupyter-widgets/controls",
      "_model_module_version": "1.5.0",
      "_model_name": "DescriptionStyleModel",
      "_view_count": null,
      "_view_module": "@jupyter-widgets/base",
      "_view_module_version": "1.2.0",
      "_view_name": "StyleView",
      "description_width": ""
     }
    },
    "906e49b4966b4db3a8ac5bad93589195": {
     "model_module": "@jupyter-widgets/controls",
     "model_name": "ProgressStyleModel",
     "state": {
      "_model_module": "@jupyter-widgets/controls",
      "_model_module_version": "1.5.0",
      "_model_name": "ProgressStyleModel",
      "_view_count": null,
      "_view_module": "@jupyter-widgets/base",
      "_view_module_version": "1.2.0",
      "_view_name": "StyleView",
      "bar_color": null,
      "description_width": "initial"
     }
    },
    "949221a74cda49928cd0aad48e87529a": {
     "model_module": "@jupyter-widgets/controls",
     "model_name": "DescriptionStyleModel",
     "state": {
      "_model_module": "@jupyter-widgets/controls",
      "_model_module_version": "1.5.0",
      "_model_name": "DescriptionStyleModel",
      "_view_count": null,
      "_view_module": "@jupyter-widgets/base",
      "_view_module_version": "1.2.0",
      "_view_name": "StyleView",
      "description_width": ""
     }
    },
    "9c412395930a47ac90d99dea534b2b40": {
     "model_module": "@jupyter-widgets/base",
     "model_name": "LayoutModel",
     "state": {
      "_model_module": "@jupyter-widgets/base",
      "_model_module_version": "1.2.0",
      "_model_name": "LayoutModel",
      "_view_count": null,
      "_view_module": "@jupyter-widgets/base",
      "_view_module_version": "1.2.0",
      "_view_name": "LayoutView",
      "align_content": null,
      "align_items": null,
      "align_self": null,
      "border": null,
      "bottom": null,
      "display": null,
      "flex": null,
      "flex_flow": null,
      "grid_area": null,
      "grid_auto_columns": null,
      "grid_auto_flow": null,
      "grid_auto_rows": null,
      "grid_column": null,
      "grid_gap": null,
      "grid_row": null,
      "grid_template_areas": null,
      "grid_template_columns": null,
      "grid_template_rows": null,
      "height": null,
      "justify_content": null,
      "justify_items": null,
      "left": null,
      "margin": null,
      "max_height": null,
      "max_width": null,
      "min_height": null,
      "min_width": null,
      "object_fit": null,
      "object_position": null,
      "order": null,
      "overflow": null,
      "overflow_x": null,
      "overflow_y": null,
      "padding": null,
      "right": null,
      "top": null,
      "visibility": null,
      "width": null
     }
    },
    "9ccb6e938ded4f95ab485b81479fd0c6": {
     "model_module": "@jupyter-widgets/controls",
     "model_name": "HTMLModel",
     "state": {
      "_dom_classes": [],
      "_model_module": "@jupyter-widgets/controls",
      "_model_module_version": "1.5.0",
      "_model_name": "HTMLModel",
      "_view_count": null,
      "_view_module": "@jupyter-widgets/controls",
      "_view_module_version": "1.5.0",
      "_view_name": "HTMLView",
      "description": "",
      "description_tooltip": null,
      "layout": "IPY_MODEL_249ce4ad331c4f00b67155dc11fc9101",
      "placeholder": "​",
      "style": "IPY_MODEL_5b0d337ceca543499afeeb5f5b2c4b84",
      "value": " 1/1 [00:06&lt;00:00,  6.14s/ url]"
     }
    },
    "adb805fee98e4442ba45b453303e2989": {
     "model_module": "@jupyter-widgets/controls",
     "model_name": "HTMLModel",
     "state": {
      "_dom_classes": [],
      "_model_module": "@jupyter-widgets/controls",
      "_model_module_version": "1.5.0",
      "_model_name": "HTMLModel",
      "_view_count": null,
      "_view_module": "@jupyter-widgets/controls",
      "_view_module_version": "1.5.0",
      "_view_name": "HTMLView",
      "description": "",
      "description_tooltip": null,
      "layout": "IPY_MODEL_aedd28ea4ada4055a3bc72767caccbbe",
      "placeholder": "​",
      "style": "IPY_MODEL_d701a82991eb45b2a4d8414059dd77d1",
      "value": " 50000/0 [00:26&lt;00:00, 1934.83 examples/s]"
     }
    },
    "aedd28ea4ada4055a3bc72767caccbbe": {
     "model_module": "@jupyter-widgets/base",
     "model_name": "LayoutModel",
     "state": {
      "_model_module": "@jupyter-widgets/base",
      "_model_module_version": "1.2.0",
      "_model_name": "LayoutModel",
      "_view_count": null,
      "_view_module": "@jupyter-widgets/base",
      "_view_module_version": "1.2.0",
      "_view_name": "LayoutView",
      "align_content": null,
      "align_items": null,
      "align_self": null,
      "border": null,
      "bottom": null,
      "display": null,
      "flex": null,
      "flex_flow": null,
      "grid_area": null,
      "grid_auto_columns": null,
      "grid_auto_flow": null,
      "grid_auto_rows": null,
      "grid_column": null,
      "grid_gap": null,
      "grid_row": null,
      "grid_template_areas": null,
      "grid_template_columns": null,
      "grid_template_rows": null,
      "height": null,
      "justify_content": null,
      "justify_items": null,
      "left": null,
      "margin": null,
      "max_height": null,
      "max_width": null,
      "min_height": null,
      "min_width": null,
      "object_fit": null,
      "object_position": null,
      "order": null,
      "overflow": null,
      "overflow_x": null,
      "overflow_y": null,
      "padding": null,
      "right": null,
      "top": null,
      "visibility": null,
      "width": null
     }
    },
    "b3598b6bdada4d769ea70eb2eb9ff3b2": {
     "model_module": "@jupyter-widgets/base",
     "model_name": "LayoutModel",
     "state": {
      "_model_module": "@jupyter-widgets/base",
      "_model_module_version": "1.2.0",
      "_model_name": "LayoutModel",
      "_view_count": null,
      "_view_module": "@jupyter-widgets/base",
      "_view_module_version": "1.2.0",
      "_view_name": "LayoutView",
      "align_content": null,
      "align_items": null,
      "align_self": null,
      "border": null,
      "bottom": null,
      "display": null,
      "flex": null,
      "flex_flow": null,
      "grid_area": null,
      "grid_auto_columns": null,
      "grid_auto_flow": null,
      "grid_auto_rows": null,
      "grid_column": null,
      "grid_gap": null,
      "grid_row": null,
      "grid_template_areas": null,
      "grid_template_columns": null,
      "grid_template_rows": null,
      "height": null,
      "justify_content": null,
      "justify_items": null,
      "left": null,
      "margin": null,
      "max_height": null,
      "max_width": null,
      "min_height": null,
      "min_width": null,
      "object_fit": null,
      "object_position": null,
      "order": null,
      "overflow": null,
      "overflow_x": null,
      "overflow_y": null,
      "padding": null,
      "right": null,
      "top": null,
      "visibility": null,
      "width": null
     }
    },
    "be721763a06848b2853a5ca087fbdfc3": {
     "model_module": "@jupyter-widgets/controls",
     "model_name": "HTMLModel",
     "state": {
      "_dom_classes": [],
      "_model_module": "@jupyter-widgets/controls",
      "_model_module_version": "1.5.0",
      "_model_name": "HTMLModel",
      "_view_count": null,
      "_view_module": "@jupyter-widgets/controls",
      "_view_module_version": "1.5.0",
      "_view_name": "HTMLView",
      "description": "",
      "description_tooltip": null,
      "layout": "IPY_MODEL_146427fd59b04ee18546f9704fbc59df",
      "placeholder": "​",
      "style": "IPY_MODEL_949221a74cda49928cd0aad48e87529a",
      "value": " 162/162 [00:06&lt;00:00, 26.52 MiB/s]"
     }
    },
    "c63ac831fb98466f867dc2887bda1b0f": {
     "model_module": "@jupyter-widgets/controls",
     "model_name": "HBoxModel",
     "state": {
      "_dom_classes": [],
      "_model_module": "@jupyter-widgets/controls",
      "_model_module_version": "1.5.0",
      "_model_name": "HBoxModel",
      "_view_count": null,
      "_view_module": "@jupyter-widgets/controls",
      "_view_module_version": "1.5.0",
      "_view_name": "HBoxView",
      "box_style": "",
      "children": [
       "IPY_MODEL_f73291b900274619b537b391af07a19d",
       "IPY_MODEL_40a8a404d12e46b4a5de0bba58adbc3b"
      ],
      "layout": "IPY_MODEL_df85a1e375414a6980c3af602a79f916"
     }
    },
    "ce53dffe9ec8456799b04ad24e46787f": {
     "model_module": "@jupyter-widgets/controls",
     "model_name": "HBoxModel",
     "state": {
      "_dom_classes": [],
      "_model_module": "@jupyter-widgets/controls",
      "_model_module_version": "1.5.0",
      "_model_name": "HBoxModel",
      "_view_count": null,
      "_view_module": "@jupyter-widgets/controls",
      "_view_module_version": "1.5.0",
      "_view_name": "HBoxView",
      "box_style": "",
      "children": [
       "IPY_MODEL_63e40c6d045c4ceba1d36c2b6251394e",
       "IPY_MODEL_9ccb6e938ded4f95ab485b81479fd0c6"
      ],
      "layout": "IPY_MODEL_33321df07856493297cfdb4c4c852b31"
     }
    },
    "cfa16a6ed12441bf84f0c6887a43a100": {
     "model_module": "@jupyter-widgets/base",
     "model_name": "LayoutModel",
     "state": {
      "_model_module": "@jupyter-widgets/base",
      "_model_module_version": "1.2.0",
      "_model_name": "LayoutModel",
      "_view_count": null,
      "_view_module": "@jupyter-widgets/base",
      "_view_module_version": "1.2.0",
      "_view_name": "LayoutView",
      "align_content": null,
      "align_items": null,
      "align_self": null,
      "border": null,
      "bottom": null,
      "display": null,
      "flex": null,
      "flex_flow": null,
      "grid_area": null,
      "grid_auto_columns": null,
      "grid_auto_flow": null,
      "grid_auto_rows": null,
      "grid_column": null,
      "grid_gap": null,
      "grid_row": null,
      "grid_template_areas": null,
      "grid_template_columns": null,
      "grid_template_rows": null,
      "height": null,
      "justify_content": null,
      "justify_items": null,
      "left": null,
      "margin": null,
      "max_height": null,
      "max_width": null,
      "min_height": null,
      "min_width": null,
      "object_fit": null,
      "object_position": null,
      "order": null,
      "overflow": null,
      "overflow_x": null,
      "overflow_y": null,
      "padding": null,
      "right": null,
      "top": null,
      "visibility": null,
      "width": null
     }
    },
    "d35f9782597d476cb401f2141a1d1f2d": {
     "model_module": "@jupyter-widgets/base",
     "model_name": "LayoutModel",
     "state": {
      "_model_module": "@jupyter-widgets/base",
      "_model_module_version": "1.2.0",
      "_model_name": "LayoutModel",
      "_view_count": null,
      "_view_module": "@jupyter-widgets/base",
      "_view_module_version": "1.2.0",
      "_view_name": "LayoutView",
      "align_content": null,
      "align_items": null,
      "align_self": null,
      "border": null,
      "bottom": null,
      "display": null,
      "flex": null,
      "flex_flow": null,
      "grid_area": null,
      "grid_auto_columns": null,
      "grid_auto_flow": null,
      "grid_auto_rows": null,
      "grid_column": null,
      "grid_gap": null,
      "grid_row": null,
      "grid_template_areas": null,
      "grid_template_columns": null,
      "grid_template_rows": null,
      "height": null,
      "justify_content": null,
      "justify_items": null,
      "left": null,
      "margin": null,
      "max_height": null,
      "max_width": null,
      "min_height": null,
      "min_width": null,
      "object_fit": null,
      "object_position": null,
      "order": null,
      "overflow": null,
      "overflow_x": null,
      "overflow_y": null,
      "padding": null,
      "right": null,
      "top": null,
      "visibility": null,
      "width": null
     }
    },
    "d3f22249cd6b481d9897a0b57a3663f1": {
     "model_module": "@jupyter-widgets/controls",
     "model_name": "HBoxModel",
     "state": {
      "_dom_classes": [],
      "_model_module": "@jupyter-widgets/controls",
      "_model_module_version": "1.5.0",
      "_model_name": "HBoxModel",
      "_view_count": null,
      "_view_module": "@jupyter-widgets/controls",
      "_view_module_version": "1.5.0",
      "_view_name": "HBoxView",
      "box_style": "",
      "children": [
       "IPY_MODEL_18e19437c3ee4c228c5f6fc26cc8040e",
       "IPY_MODEL_be721763a06848b2853a5ca087fbdfc3"
      ],
      "layout": "IPY_MODEL_4b4b892f04f340cabe75bc8fe7b97960"
     }
    },
    "d701a82991eb45b2a4d8414059dd77d1": {
     "model_module": "@jupyter-widgets/controls",
     "model_name": "DescriptionStyleModel",
     "state": {
      "_model_module": "@jupyter-widgets/controls",
      "_model_module_version": "1.5.0",
      "_model_name": "DescriptionStyleModel",
      "_view_count": null,
      "_view_module": "@jupyter-widgets/base",
      "_view_module_version": "1.2.0",
      "_view_name": "StyleView",
      "description_width": ""
     }
    },
    "d9d8f62957bb4b3eb49c98b4713c5d86": {
     "model_module": "@jupyter-widgets/controls",
     "model_name": "HTMLModel",
     "state": {
      "_dom_classes": [],
      "_model_module": "@jupyter-widgets/controls",
      "_model_module_version": "1.5.0",
      "_model_name": "HTMLModel",
      "_view_count": null,
      "_view_module": "@jupyter-widgets/controls",
      "_view_module_version": "1.5.0",
      "_view_name": "HTMLView",
      "description": "",
      "description_tooltip": null,
      "layout": "IPY_MODEL_655b049eec844d309b77343b0dcaaf66",
      "placeholder": "​",
      "style": "IPY_MODEL_01d5e83d7fd8444688632e8fc4a9b05d",
      "value": " 1/1 [00:06&lt;00:00,  6.07s/ file]"
     }
    },
    "dcaeb8e9b3fa46459e62f9130dcc85a7": {
     "model_module": "@jupyter-widgets/controls",
     "model_name": "HBoxModel",
     "state": {
      "_dom_classes": [],
      "_model_module": "@jupyter-widgets/controls",
      "_model_module_version": "1.5.0",
      "_model_name": "HBoxModel",
      "_view_count": null,
      "_view_module": "@jupyter-widgets/controls",
      "_view_module_version": "1.5.0",
      "_view_name": "HBoxView",
      "box_style": "",
      "children": [
       "IPY_MODEL_725586870dec47a08d7ebdbc3cd1a75b",
       "IPY_MODEL_adb805fee98e4442ba45b453303e2989"
      ],
      "layout": "IPY_MODEL_9c412395930a47ac90d99dea534b2b40"
     }
    },
    "df85a1e375414a6980c3af602a79f916": {
     "model_module": "@jupyter-widgets/base",
     "model_name": "LayoutModel",
     "state": {
      "_model_module": "@jupyter-widgets/base",
      "_model_module_version": "1.2.0",
      "_model_name": "LayoutModel",
      "_view_count": null,
      "_view_module": "@jupyter-widgets/base",
      "_view_module_version": "1.2.0",
      "_view_name": "LayoutView",
      "align_content": null,
      "align_items": null,
      "align_self": null,
      "border": null,
      "bottom": null,
      "display": null,
      "flex": null,
      "flex_flow": null,
      "grid_area": null,
      "grid_auto_columns": null,
      "grid_auto_flow": null,
      "grid_auto_rows": null,
      "grid_column": null,
      "grid_gap": null,
      "grid_row": null,
      "grid_template_areas": null,
      "grid_template_columns": null,
      "grid_template_rows": null,
      "height": null,
      "justify_content": null,
      "justify_items": null,
      "left": null,
      "margin": null,
      "max_height": null,
      "max_width": null,
      "min_height": null,
      "min_width": null,
      "object_fit": null,
      "object_position": null,
      "order": null,
      "overflow": null,
      "overflow_x": null,
      "overflow_y": null,
      "padding": null,
      "right": null,
      "top": null,
      "visibility": null,
      "width": null
     }
    },
    "e8a5998aa9564591987d89e643f0b714": {
     "model_module": "@jupyter-widgets/controls",
     "model_name": "ProgressStyleModel",
     "state": {
      "_model_module": "@jupyter-widgets/controls",
      "_model_module_version": "1.5.0",
      "_model_name": "ProgressStyleModel",
      "_view_count": null,
      "_view_module": "@jupyter-widgets/base",
      "_view_module_version": "1.2.0",
      "_view_name": "StyleView",
      "bar_color": null,
      "description_width": "initial"
     }
    },
    "ec3d27de205b46768882caec36dfb8cc": {
     "model_module": "@jupyter-widgets/controls",
     "model_name": "ProgressStyleModel",
     "state": {
      "_model_module": "@jupyter-widgets/controls",
      "_model_module_version": "1.5.0",
      "_model_name": "ProgressStyleModel",
      "_view_count": null,
      "_view_module": "@jupyter-widgets/base",
      "_view_module_version": "1.2.0",
      "_view_name": "StyleView",
      "bar_color": null,
      "description_width": "initial"
     }
    },
    "f73291b900274619b537b391af07a19d": {
     "model_module": "@jupyter-widgets/controls",
     "model_name": "IntProgressModel",
     "state": {
      "_dom_classes": [],
      "_model_module": "@jupyter-widgets/controls",
      "_model_module_version": "1.5.0",
      "_model_name": "IntProgressModel",
      "_view_count": null,
      "_view_module": "@jupyter-widgets/controls",
      "_view_module_version": "1.5.0",
      "_view_name": "ProgressView",
      "bar_style": "danger",
      "description": " 92%",
      "description_tooltip": null,
      "layout": "IPY_MODEL_79b1af3485d64c83b7c1c3f83dd189a3",
      "max": 50000,
      "min": 0,
      "orientation": "horizontal",
      "style": "IPY_MODEL_69082f5fc2c941339c3a0b480a35d821",
      "value": 45939
     }
    }
   }
  }
 },
 "nbformat": 4,
 "nbformat_minor": 1
}
