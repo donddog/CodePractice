{
  "nbformat": 4,
  "nbformat_minor": 0,
  "metadata": {
    "colab": {
      "name": "Boston_House_price_prediction_with_linear_regression.ipynb",
      "provenance": [],
      "collapsed_sections": []
    },
    "language_info": {
      "codemirror_mode": {
        "name": "ipython",
        "version": 3
      },
      "file_extension": ".py",
      "mimetype": "text/x-python",
      "name": "python",
      "nbconvert_exporter": "python",
      "pygments_lexer": "ipython3",
      "version": "3.6.6"
    },
    "kernelspec": {
      "name": "python3",
      "display_name": "Python 3"
    },
    "accelerator": "TPU"
  },
  "cells": [
    {
      "cell_type": "code",
      "metadata": {
        "id": "UqHDFjUaGvdF",
        "colab_type": "code",
        "outputId": "f29cc598-9202-475f-a016-6710816c696e",
        "colab": {
          "base_uri": "https://localhost:8080/",
          "height": 53
        }
      },
      "source": [
        "import keras\n",
        "keras.__version__"
      ],
      "execution_count": 1,
      "outputs": [
        {
          "output_type": "stream",
          "text": [
            "Using TensorFlow backend.\n"
          ],
          "name": "stderr"
        },
        {
          "output_type": "execute_result",
          "data": {
            "text/plain": [
              "'2.3.1'"
            ]
          },
          "metadata": {
            "tags": []
          },
          "execution_count": 1
        }
      ]
    },
    {
      "cell_type": "code",
      "metadata": {
        "id": "ZPhdC0uyGvdK",
        "colab_type": "code",
        "outputId": "d88c26b8-d518-414a-b66c-e6cecd307e6c",
        "colab": {
          "base_uri": "https://localhost:8080/",
          "height": 53
        }
      },
      "source": [
        "from keras.datasets import boston_housing\n",
        "(train_data, train_targets), (test_data, test_targets) =  boston_housing.load_data()"
      ],
      "execution_count": 2,
      "outputs": [
        {
          "output_type": "stream",
          "text": [
            "Downloading data from https://s3.amazonaws.com/keras-datasets/boston_housing.npz\n",
            "57344/57026 [==============================] - 0s 1us/step\n"
          ],
          "name": "stdout"
        }
      ]
    },
    {
      "cell_type": "code",
      "metadata": {
        "id": "p9Icr5w7pWov",
        "colab_type": "code",
        "outputId": "7f438a99-a524-406c-eca8-f294aee5eaa2",
        "colab": {
          "base_uri": "https://localhost:8080/",
          "height": 35
        }
      },
      "source": [
        "print (train_data.shape, train_targets.shape)"
      ],
      "execution_count": 3,
      "outputs": [
        {
          "output_type": "stream",
          "text": [
            "(404, 13) (404,)\n"
          ],
          "name": "stdout"
        }
      ]
    },
    {
      "cell_type": "markdown",
      "metadata": {
        "id": "njRV9Adas6q_",
        "colab_type": "text"
      },
      "source": [
        ""
      ]
    },
    {
      "cell_type": "code",
      "metadata": {
        "id": "Neyix7Z6pPhw",
        "colab_type": "code",
        "outputId": "1e8b7a3c-d37e-4a22-94ad-53dae586f471",
        "colab": {
          "base_uri": "https://localhost:8080/",
          "height": 53
        }
      },
      "source": [
        "print (train_data[0], train_targets[0])"
      ],
      "execution_count": 4,
      "outputs": [
        {
          "output_type": "stream",
          "text": [
            "[  1.23247   0.        8.14      0.        0.538     6.142    91.7\n",
            "   3.9769    4.      307.       21.      396.9      18.72   ] 15.2\n"
          ],
          "name": "stdout"
        }
      ]
    },
    {
      "cell_type": "code",
      "metadata": {
        "id": "y5c2uKqPGvdM",
        "colab_type": "code",
        "outputId": "53d768fe-8c48-42fe-91dd-640b006d7212",
        "colab": {
          "base_uri": "https://localhost:8080/",
          "height": 35
        }
      },
      "source": [
        "print (train_targets[0])"
      ],
      "execution_count": 5,
      "outputs": [
        {
          "output_type": "stream",
          "text": [
            "15.2\n"
          ],
          "name": "stdout"
        }
      ]
    },
    {
      "cell_type": "markdown",
      "metadata": {
        "id": "E7kbL2rlGvdQ",
        "colab_type": "text"
      },
      "source": [
        "여기서 볼 수 있듯이 404개의 훈련 샘플과 102개의 테스트 샘플이 있고 모두 13개의 수치 특성을 가지고 있습니다. 13개의 특성은 다음과 같습니다:\n",
        "\n",
        "1. Per capita crime rate.\n",
        "2. Proportion of residential land zoned for lots over 25,000 square feet.\n",
        "3. Proportion of non-retail business acres per town.\n",
        "4. Charles River dummy variable (= 1 if tract bounds river; 0 otherwise).\n",
        "5. Nitric oxides concentration (parts per 10 million).\n",
        "6. Average number of rooms per dwelling.\n",
        "7. Proportion of owner-occupied units built prior to 1940.\n",
        "8. Weighted distances to five Boston employment centres.\n",
        "9. Index of accessibility to radial highways.\n",
        "10. Full-value property-tax rate per $10,000.\n",
        "11. Pupil-teacher ratio by town.\n",
        "12. 1000 * (Bk - 0.63) ** 2 where Bk is the proportion of Black people by town.\n",
        "13. % lower status of the population.\n",
        "\n",
        "타깃은 주택의 중간 가격으로 천달러 단위입니다:"
      ]
    },
    {
      "cell_type": "markdown",
      "metadata": {
        "id": "w90hvrDLLFVZ",
        "colab_type": "text"
      },
      "source": [
        "Data Normalization "
      ]
    },
    {
      "cell_type": "code",
      "metadata": {
        "id": "usLTgkuQGvdT",
        "colab_type": "code",
        "colab": {}
      },
      "source": [
        "mean = train_data.mean(axis=0)\n",
        "train_data -= mean\n",
        "std = train_data.std(axis=0)\n",
        "train_data /= std\n",
        "\n",
        "test_data -= mean\n",
        "test_data /= std"
      ],
      "execution_count": 0,
      "outputs": []
    },
    {
      "cell_type": "code",
      "metadata": {
        "id": "u9msJIjpGvdW",
        "colab_type": "code",
        "colab": {}
      },
      "source": [
        "from keras import models\n",
        "from keras import layers\n",
        "\n",
        "def build_model():\n",
        "    # 동일한 모델을 여러 번 생성할 것이므로 함수를 만들어 사용합니다\n",
        "    model = models.Sequential()\n",
        "    model.add(layers.Dense(64, activation='relu',\n",
        "                           input_shape=(train_data.shape[1],)))\n",
        "    model.add(layers.Dense(32, activation='relu'))\n",
        "    model.add(layers.Dense(1))\n",
        "    model.compile(optimizer='rmsprop', loss='mse', metrics=['mae'])\n",
        "    return model"
      ],
      "execution_count": 0,
      "outputs": []
    },
    {
      "cell_type": "markdown",
      "metadata": {
        "id": "1Cgsm0f9LahI",
        "colab_type": "text"
      },
      "source": [
        "마지막 레어에는 Activation function이 없습니다. 회귀 문제(어떤 값을 예측하는 문제)를 풀때 이와 같이 구성합니다.\n",
        "평균 제곱 오차 (mean squared error)\n",
        "절대 평균 오차 (mean absolute error)\n",
        "\n",
        "0.5 indicate $500"
      ]
    },
    {
      "cell_type": "markdown",
      "metadata": {
        "id": "N6yCqXwKL2Iu",
        "colab_type": "text"
      },
      "source": [
        "**K-Fold Validation**"
      ]
    },
    {
      "cell_type": "code",
      "metadata": {
        "id": "MXlk05a0Gvda",
        "colab_type": "code",
        "outputId": "381b252e-ca96-4477-fa9f-1cd85ad9b8e5",
        "colab": {
          "base_uri": "https://localhost:8080/",
          "height": 1000
        }
      },
      "source": [
        "import numpy as np\n",
        "\n",
        "k = 4\n",
        "num_val_samples = len(train_data) // k\n",
        "num_epochs = 10\n",
        "all_scores = []\n",
        "for i in range(k):\n",
        "    print('처리중인 폴드 #', i)\n",
        "    # 검증 데이터 준비: k번째 분할\n",
        "    val_data = train_data[i * num_val_samples: (i + 1) * num_val_samples]\n",
        "    val_targets = train_targets[i * num_val_samples: (i + 1) * num_val_samples]\n",
        "\n",
        "    # 훈련 데이터 준비: 다른 분할 전체\n",
        "    partial_train_data = np.concatenate(\n",
        "        [train_data[:i * num_val_samples],\n",
        "         train_data[(i + 1) * num_val_samples:]\n",
        "        ], axis=0)\n",
        "\n",
        "    \n",
        "    partial_train_targets = np.concatenate(\n",
        "        [train_targets[:i * num_val_samples],\n",
        "         train_targets[(i + 1) * num_val_samples:]],\n",
        "        axis=0)\n",
        "\n",
        "    # 케라스 모델 구성(컴파일 포함)\n",
        "    model = build_model()\n",
        "    # 모델 훈련(verbose=0 이므로 훈련 과정이 출력되지 않습니다)\n",
        "    model.fit(partial_train_data, partial_train_targets,\n",
        "              epochs=num_epochs, batch_size=10, verbose=1)\n",
        "    \n",
        "    # 검증 세트로 모델 평가\n",
        "    val_mse, val_mae = model.evaluate(val_data, val_targets, verbose=0)\n",
        "    all_scores.append(val_mae)"
      ],
      "execution_count": 8,
      "outputs": [
        {
          "output_type": "stream",
          "text": [
            "처리중인 폴드 # 0\n",
            "Epoch 1/10\n",
            "303/303 [==============================] - 0s 952us/step - loss: 560.9824 - mae: 22.0019\n",
            "Epoch 2/10\n",
            "303/303 [==============================] - 0s 109us/step - loss: 477.1412 - mae: 19.9768\n",
            "Epoch 3/10\n",
            "303/303 [==============================] - 0s 108us/step - loss: 357.3524 - mae: 16.9537\n",
            "Epoch 4/10\n",
            "303/303 [==============================] - 0s 117us/step - loss: 215.2467 - mae: 12.5464\n",
            "Epoch 5/10\n",
            "303/303 [==============================] - 0s 115us/step - loss: 101.5767 - mae: 7.9021\n",
            "Epoch 6/10\n",
            "303/303 [==============================] - 0s 110us/step - loss: 55.7236 - mae: 5.5835\n",
            "Epoch 7/10\n",
            "303/303 [==============================] - 0s 110us/step - loss: 38.6777 - mae: 4.5231\n",
            "Epoch 8/10\n",
            "303/303 [==============================] - 0s 118us/step - loss: 31.3709 - mae: 3.9733\n",
            "Epoch 9/10\n",
            "303/303 [==============================] - 0s 119us/step - loss: 27.7901 - mae: 3.6739\n",
            "Epoch 10/10\n",
            "303/303 [==============================] - 0s 114us/step - loss: 25.6583 - mae: 3.5384\n",
            "처리중인 폴드 # 1\n",
            "Epoch 1/10\n",
            "303/303 [==============================] - 0s 288us/step - loss: 558.4457 - mae: 21.6714\n",
            "Epoch 2/10\n",
            "303/303 [==============================] - 0s 113us/step - loss: 464.9679 - mae: 19.4327\n",
            "Epoch 3/10\n",
            "303/303 [==============================] - 0s 108us/step - loss: 330.3400 - mae: 15.8637\n",
            "Epoch 4/10\n",
            "303/303 [==============================] - 0s 117us/step - loss: 184.9473 - mae: 11.3240\n",
            "Epoch 5/10\n",
            "303/303 [==============================] - 0s 111us/step - loss: 92.1919 - mae: 7.6352\n",
            "Epoch 6/10\n",
            "303/303 [==============================] - 0s 112us/step - loss: 54.3821 - mae: 5.6427\n",
            "Epoch 7/10\n",
            "303/303 [==============================] - 0s 110us/step - loss: 37.6783 - mae: 4.4193\n",
            "Epoch 8/10\n",
            "303/303 [==============================] - 0s 110us/step - loss: 29.6869 - mae: 3.7862\n",
            "Epoch 9/10\n",
            "303/303 [==============================] - 0s 117us/step - loss: 25.3676 - mae: 3.4682\n",
            "Epoch 10/10\n",
            "303/303 [==============================] - 0s 117us/step - loss: 23.0641 - mae: 3.2192\n",
            "처리중인 폴드 # 2\n",
            "Epoch 1/10\n",
            "303/303 [==============================] - 0s 323us/step - loss: 495.9492 - mae: 20.1198\n",
            "Epoch 2/10\n",
            "303/303 [==============================] - 0s 127us/step - loss: 311.5606 - mae: 15.2511\n",
            "Epoch 3/10\n",
            "303/303 [==============================] - 0s 136us/step - loss: 142.1182 - mae: 9.3064\n",
            "Epoch 4/10\n",
            "303/303 [==============================] - 0s 131us/step - loss: 62.4378 - mae: 5.7119\n",
            "Epoch 5/10\n",
            "303/303 [==============================] - 0s 111us/step - loss: 39.1591 - mae: 4.3952\n",
            "Epoch 6/10\n",
            "303/303 [==============================] - 0s 120us/step - loss: 27.4765 - mae: 3.6652\n",
            "Epoch 7/10\n",
            "303/303 [==============================] - 0s 124us/step - loss: 22.8125 - mae: 3.3540\n",
            "Epoch 8/10\n",
            "303/303 [==============================] - 0s 121us/step - loss: 19.8463 - mae: 3.1191\n",
            "Epoch 9/10\n",
            "303/303 [==============================] - 0s 114us/step - loss: 17.5307 - mae: 3.0260\n",
            "Epoch 10/10\n",
            "303/303 [==============================] - 0s 116us/step - loss: 16.1071 - mae: 2.8176\n",
            "처리중인 폴드 # 3\n",
            "Epoch 1/10\n",
            "303/303 [==============================] - 0s 297us/step - loss: 480.4638 - mae: 19.9762\n",
            "Epoch 2/10\n",
            "303/303 [==============================] - 0s 114us/step - loss: 352.6111 - mae: 16.4617\n",
            "Epoch 3/10\n",
            "303/303 [==============================] - 0s 113us/step - loss: 214.0643 - mae: 12.2111\n",
            "Epoch 4/10\n",
            "303/303 [==============================] - 0s 121us/step - loss: 98.6715 - mae: 7.7165\n",
            "Epoch 5/10\n",
            "303/303 [==============================] - 0s 125us/step - loss: 52.3800 - mae: 5.2911\n",
            "Epoch 6/10\n",
            "303/303 [==============================] - 0s 112us/step - loss: 37.7699 - mae: 4.3473\n",
            "Epoch 7/10\n",
            "303/303 [==============================] - 0s 108us/step - loss: 30.0675 - mae: 3.8060\n",
            "Epoch 8/10\n",
            "303/303 [==============================] - 0s 113us/step - loss: 25.5896 - mae: 3.4611\n",
            "Epoch 9/10\n",
            "303/303 [==============================] - 0s 116us/step - loss: 22.3698 - mae: 3.2195\n",
            "Epoch 10/10\n",
            "303/303 [==============================] - 0s 147us/step - loss: 20.0179 - mae: 3.0309\n"
          ],
          "name": "stdout"
        }
      ]
    },
    {
      "cell_type": "code",
      "metadata": {
        "id": "eh31OUJSGvdd",
        "colab_type": "code",
        "outputId": "0d403cf7-bbdc-4b87-ba4f-b19066f5d773",
        "colab": {
          "base_uri": "https://localhost:8080/",
          "height": 35
        }
      },
      "source": [
        "all_scores"
      ],
      "execution_count": 9,
      "outputs": [
        {
          "output_type": "execute_result",
          "data": {
            "text/plain": [
              "[3.3137576580047607, 3.2725017070770264, 2.95336651802063, 3.7795259952545166]"
            ]
          },
          "metadata": {
            "tags": []
          },
          "execution_count": 9
        }
      ]
    },
    {
      "cell_type": "code",
      "metadata": {
        "id": "-gwFdePGGvdf",
        "colab_type": "code",
        "outputId": "b7178f88-36d4-4529-acd6-67b8e170cc8a",
        "colab": {
          "base_uri": "https://localhost:8080/",
          "height": 35
        }
      },
      "source": [
        "np.mean(all_scores)"
      ],
      "execution_count": 10,
      "outputs": [
        {
          "output_type": "execute_result",
          "data": {
            "text/plain": [
              "3.3297879695892334"
            ]
          },
          "metadata": {
            "tags": []
          },
          "execution_count": 10
        }
      ]
    },
    {
      "cell_type": "code",
      "metadata": {
        "id": "MdGdu3jKveRp",
        "colab_type": "code",
        "colab": {}
      },
      "source": [
        "# 아래 모델은 k fold cross validation에서 마지막에 훈련된 모델입니다.\n",
        "# 본 실습에서 별도의 test data set을 구성하지 않았기 때문에, vadliation data set을 이용해 house price 를 예측prediction 해보겠습니다.\n",
        "\n",
        "predictedHousePrice = model.predict(val_data)"
      ],
      "execution_count": 0,
      "outputs": []
    },
    {
      "cell_type": "code",
      "metadata": {
        "id": "H1ctCdnGWzY0",
        "colab_type": "code",
        "outputId": "b250dae1-71d4-4c38-9135-2910b4f47dc1",
        "colab": {
          "base_uri": "https://localhost:8080/",
          "height": 35
        }
      },
      "source": [
        "# validation set 은 100개의 데이터 셋으로 구성되어 있습니다만 아래와 같이 1대1 비교를 해보겠습니다.\n",
        "# val_data[0] 에 대한 예측값 predictedHousePrice[0]\n",
        "# val_data[0] 에 대한 실제값 val_targets[0]\n",
        "print (predictedHousePrice[0], val_targets[0])"
      ],
      "execution_count": 12,
      "outputs": [
        {
          "output_type": "stream",
          "text": [
            "[27.53785] 36.2\n"
          ],
          "name": "stdout"
        }
      ]
    },
    {
      "cell_type": "code",
      "metadata": {
        "id": "XB0TV5IitcUF",
        "colab_type": "code",
        "colab": {}
      },
      "source": [
        "new_data = [1.47, 0.0, 8.14, 0.0, 0.53, 6.1, 91.7, 4.9769,  4.12,  307.6 ,  22,  296.9, 18.72]"
      ],
      "execution_count": 0,
      "outputs": []
    },
    {
      "cell_type": "code",
      "metadata": {
        "id": "kh8kQU9vtuqq",
        "colab_type": "code",
        "outputId": "de9d4d4d-bbb5-48ff-e213-843d72058f7c",
        "colab": {
          "base_uri": "https://localhost:8080/",
          "height": 35
        }
      },
      "source": [
        "new_data"
      ],
      "execution_count": 14,
      "outputs": [
        {
          "output_type": "execute_result",
          "data": {
            "text/plain": [
              "[1.47, 0.0, 8.14, 0.0, 0.53, 6.1, 91.7, 4.9769, 4.12, 307.6, 22, 296.9, 18.72]"
            ]
          },
          "metadata": {
            "tags": []
          },
          "execution_count": 14
        }
      ]
    },
    {
      "cell_type": "code",
      "metadata": {
        "id": "SbTaFy0tt_FI",
        "colab_type": "code",
        "colab": {}
      },
      "source": [
        "new_data -= mean\n",
        "new_data /= std"
      ],
      "execution_count": 0,
      "outputs": []
    },
    {
      "cell_type": "code",
      "metadata": {
        "id": "9q8yTSgiIKcE",
        "colab_type": "code",
        "outputId": "86400066-103c-4085-ffa7-77bd113b4af9",
        "colab": {
          "base_uri": "https://localhost:8080/",
          "height": 35
        }
      },
      "source": [
        "print (new_data.shape)"
      ],
      "execution_count": 16,
      "outputs": [
        {
          "output_type": "stream",
          "text": [
            "(13,)\n"
          ],
          "name": "stdout"
        }
      ]
    },
    {
      "cell_type": "code",
      "metadata": {
        "id": "bJEPRB9fuDmp",
        "colab_type": "code",
        "colab": {}
      },
      "source": [
        "new_data = np.asarray(new_data)"
      ],
      "execution_count": 0,
      "outputs": []
    },
    {
      "cell_type": "code",
      "metadata": {
        "id": "MV6kjcR-uMYp",
        "colab_type": "code",
        "colab": {}
      },
      "source": [
        "new_data = np.expand_dims(new_data, axis=0)"
      ],
      "execution_count": 0,
      "outputs": []
    },
    {
      "cell_type": "code",
      "metadata": {
        "id": "GabovQGrIWuD",
        "colab_type": "code",
        "outputId": "9fe8ec03-7b08-4716-ea16-a806c5c61dbf",
        "colab": {
          "base_uri": "https://localhost:8080/",
          "height": 35
        }
      },
      "source": [
        "print (new_data.shape)"
      ],
      "execution_count": 19,
      "outputs": [
        {
          "output_type": "stream",
          "text": [
            "(1, 13)\n"
          ],
          "name": "stdout"
        }
      ]
    },
    {
      "cell_type": "code",
      "metadata": {
        "id": "cq3G7zX9tvhf",
        "colab_type": "code",
        "outputId": "403dc381-3751-4752-8a6f-2e3bcad1444f",
        "colab": {
          "base_uri": "https://localhost:8080/",
          "height": 35
        }
      },
      "source": [
        "model.predict(new_data)"
      ],
      "execution_count": 20,
      "outputs": [
        {
          "output_type": "execute_result",
          "data": {
            "text/plain": [
              "array([[14.348082]], dtype=float32)"
            ]
          },
          "metadata": {
            "tags": []
          },
          "execution_count": 20
        }
      ]
    },
    {
      "cell_type": "code",
      "metadata": {
        "id": "AQwirh-bD06Z",
        "colab_type": "code",
        "colab": {}
      },
      "source": [
        ""
      ],
      "execution_count": 0,
      "outputs": []
    }
  ]
}